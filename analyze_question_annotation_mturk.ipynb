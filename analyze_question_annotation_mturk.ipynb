{
 "cells": [
  {
   "cell_type": "markdown",
   "metadata": {},
   "source": [
    "# Table of Contents\n",
    "* [Submitting HITs](#Submitting-HITs)\n",
    "\t* [Building URLs for images on s3](#Building-URLs-for-images-on-s3)\n",
    "\t* [submitting HITs in groups](#submitting-HITs-in-groups)\n",
    "\t\t* [creates HITs, careful with this one](#creates-HITs,-careful-with-this-one)\n",
    "* [Reviewing latest HITs](#Reviewing-latest-HITs)\n",
    "* [Merging latest round of HITs into combined dataset](#Merging-latest-round-of-HITs-into-combined-dataset)\n",
    "\t* [Load prior complete dataset if not in memory](#Load-prior-complete-dataset-if-not-in-memory)\n",
    "\t* [Updating full dataset](#Updating-full-dataset)\n",
    "\t* [Working with full dataset](#Working-with-full-dataset)\n",
    "* [Worker Analysis](#Worker-Analysis)\n",
    "\t* [Basic worker stats](#Basic-worker-stats)\n",
    "\t\t* [HIT duration for pricing](#HIT-duration-for-pricing)\n",
    "\t\t* [Identifying high and low consensus workers](#Identifying-high-and-low-consensus-workers)\n",
    "\t* [Messaging workers](#Messaging-workers)\n",
    "* [HIT end-of-life](#HIT-end-of-life)\n",
    "\t* [Pickle latest results](#Pickle-latest-results)\n",
    "\t* [Pickle combined dataset](#Pickle-combined-dataset)\n",
    "\t* [Accepting and deleting HITs... careful with these](#Accepting-and-deleting-HITs...-careful-with-these)\n"
   ]
  },
  {
   "cell_type": "code",
   "execution_count": 1,
   "metadata": {
    "collapsed": false,
    "run_control": {
     "frozen": false,
     "read_only": false
    }
   },
   "outputs": [],
   "source": [
    "%%capture\n",
    "from __future__ import division\n",
    "import numpy as np\n",
    "import pandas as pd\n",
    "import scipy.stats as st\n",
    "import itertools\n",
    "import math\n",
    "from collections import Counter, defaultdict\n",
    "%load_ext autoreload\n",
    "%autoreload 2\n",
    "\n",
    "import matplotlib as mpl\n",
    "mpl.use(\"Agg\")\n",
    "import matplotlib.pylab as plt\n",
    "#%matplotlib notebook\n",
    "%matplotlib inline\n",
    "%load_ext base16_mplrc\n",
    "%base16_mplrc light default\n",
    "plt.rcParams['figure.figsize'] = (16.0, 10.0)\n",
    "\n",
    "import re\n",
    "from datetime import datetime\n",
    "import dateutil.parser as dt_parse\n",
    "import pickle\n",
    "import boto\n",
    "import json\n",
    "import os\n",
    "\n",
    "from copy import deepcopy\n",
    "import boto.mturk.connection as tc\n",
    "import boto.mturk.question as tq\n",
    "from boto.mturk.qualification import PercentAssignmentsApprovedRequirement, Qualifications, Requirement\n",
    "\n",
    "from keysTkingdom import mturk_ai2\n",
    "from keysTkingdom import aws_tokes\n",
    "\n",
    "import pdfextraction.amt_boto_modules as amt_util"
   ]
  },
  {
   "cell_type": "markdown",
   "metadata": {},
   "source": [
    "# Submitting HITs"
   ]
  },
  {
   "cell_type": "markdown",
   "metadata": {},
   "source": [
    "## Building URLs for images on s3"
   ]
  },
  {
   "cell_type": "code",
   "execution_count": 2,
   "metadata": {
    "collapsed": false,
    "run_control": {
     "frozen": false,
     "read_only": false
    }
   },
   "outputs": [],
   "source": [
    "book_groups, ranges = amt_util.load_book_info()\n",
    "\n",
    "daily_sci_urls = amt_util.make_book_group_urls(book_groups, 'daily_sci', ranges)\n",
    "spectrum_sci_urls = amt_util.make_book_group_urls(book_groups, 'spectrum_sci', ranges)\n",
    "read_und_sci_urls  = amt_util.make_book_group_urls(book_groups, 'read_und_sci', ranges)\n",
    "workbook_urls = amt_util.make_book_group_urls(book_groups, 'workbooks', ranges)\n",
    "misc_urls = amt_util.make_book_group_urls(book_groups, 'misc', ranges)"
   ]
  },
  {
   "cell_type": "code",
   "execution_count": 3,
   "metadata": {
    "collapsed": false,
    "run_control": {
     "frozen": false,
     "read_only": false
    }
   },
   "outputs": [
    {
     "data": {
      "text/plain": [
       "2031"
      ]
     },
     "execution_count": 3,
     "metadata": {},
     "output_type": "execute_result"
    }
   ],
   "source": [
    "len(daily_sci_urls + spectrum_sci_urls)"
   ]
  },
  {
   "cell_type": "code",
   "execution_count": 4,
   "metadata": {
    "collapsed": true,
    "run_control": {
     "frozen": false,
     "read_only": false
    }
   },
   "outputs": [],
   "source": [
    "combined_df_question_pages_only = pd.read_pickle('pages_w_questions.pkl')"
   ]
  },
  {
   "cell_type": "code",
   "execution_count": 5,
   "metadata": {
    "collapsed": false,
    "run_control": {
     "frozen": false,
     "read_only": false
    }
   },
   "outputs": [],
   "source": [
    "pages_w_questions = pd.unique(combined_df_question_pages_only['page'])"
   ]
  },
  {
   "cell_type": "code",
   "execution_count": 6,
   "metadata": {
    "collapsed": false,
    "run_control": {
     "frozen": false,
     "read_only": false
    }
   },
   "outputs": [],
   "source": [
    "question_specific_urls = [url for url in daily_sci_urls if url.split('=')[1].split('&')[0] in pages_w_questions]"
   ]
  },
  {
   "cell_type": "code",
   "execution_count": 7,
   "metadata": {
    "collapsed": false,
    "run_control": {
     "frozen": false,
     "read_only": false
    }
   },
   "outputs": [
    {
     "data": {
      "text/plain": [
       "856"
      ]
     },
     "execution_count": 7,
     "metadata": {},
     "output_type": "execute_result"
    }
   ],
   "source": [
    "len(question_specific_urls)"
   ]
  },
  {
   "cell_type": "markdown",
   "metadata": {},
   "source": [
    "## submitting HITs in groups"
   ]
  },
  {
   "cell_type": "code",
   "execution_count": 28,
   "metadata": {
    "collapsed": false,
    "run_control": {
     "frozen": false,
     "read_only": false
    }
   },
   "outputs": [
    {
     "name": "stdout",
     "output_type": "stream",
     "text": [
      "$10,000.00\n"
     ]
    }
   ],
   "source": [
    "## Switch between sandbox and the real world here ##\n",
    "## DON'T FORGET to change submission POST request in the client ##\n",
    "\n",
    "sandbox_host = 'mechanicalturk.sandbox.amazonaws.com' \n",
    "real_world_host = 'mechanicalturk.amazonaws.com'\n",
    "mturk = tc.MTurkConnection(\n",
    "    aws_access_key_id = aws_tokes.access_key,\n",
    "    aws_secret_access_key = aws_tokes.access_secret_key,\n",
    "    host = sandbox_host,\n",
    "    debug = 1 # debug = 2 prints out all requests.\n",
    ")\n",
    "current_account_balance = mturk.get_account_balance()[0]\n",
    "print current_account_balance # a reminder of sandbox"
   ]
  },
  {
   "cell_type": "code",
   "execution_count": 5,
   "metadata": {
    "collapsed": false,
    "run_control": {
     "frozen": false,
     "read_only": false
    }
   },
   "outputs": [],
   "source": [
    "static_params = {\n",
    "    'title': \"Annotate Science Questions\",\n",
    "    'description': \"Choose which category question from a grade-school science book best belongs to\",\n",
    "    'keywords': ['image', 'science', 'text', 'labeling' ],\n",
    "    'frame_height': 800,\n",
    "    'amount': 0.06,\n",
    "    'duration': 3600 * 12,\n",
    "    'lifetime': 3600 * 24 * 3,\n",
    "    'max_assignments': 3\n",
    "}"
   ]
  },
  {
   "cell_type": "markdown",
   "metadata": {
    "heading_collapsed": true
   },
   "source": [
    "### creates HITs, careful with this one"
   ]
  },
  {
   "cell_type": "code",
   "execution_count": 21,
   "metadata": {
    "collapsed": false,
    "hidden": true,
    "run_control": {
     "frozen": false,
     "read_only": false
    }
   },
   "outputs": [
    {
     "name": "stdout",
     "output_type": "stream",
     "text": [
      "expect this batch of HITs to cost: $154.08\n"
     ]
    }
   ],
   "source": [
    "pages_to_use = question_specific_urls\n",
    "# pages_to_use = workbook_urls + misc_urls + read_und_sci_urls\n",
    "expected_cost = len(pages_to_use) *  static_params['amount'] * static_params['max_assignments']\n",
    "if float(current_account_balance.amount) < expected_cost:\n",
    "    print('WARNING -- account balance is too low -- WARNING')\n",
    "print('expect this batch of HITs to cost: $' + str(expected_cost))"
   ]
  },
  {
   "cell_type": "markdown",
   "metadata": {
    "hidden": true
   },
   "source": [
    "uncomment cell below only when ready to submit"
   ]
  },
  {
   "cell_type": "code",
   "execution_count": 24,
   "metadata": {
    "code_folding": [],
    "collapsed": false,
    "hidden": true,
    "run_control": {
     "frozen": false,
     "read_only": false
    }
   },
   "outputs": [],
   "source": [
    "# amt_util.create_hits_from_pages(mturk, pages_to_use, static_params)"
   ]
  },
  {
   "cell_type": "markdown",
   "metadata": {
    "heading_collapsed": true
   },
   "source": [
    "## Qualifications"
   ]
  },
  {
   "cell_type": "code",
   "execution_count": 34,
   "metadata": {
    "collapsed": false,
    "hidden": true,
    "run_control": {
     "frozen": false,
     "read_only": false
    }
   },
   "outputs": [],
   "source": [
    "new_qual_name = 'science textbook annotation'\n",
    "new_qual_description = 'Qualification for workers who have proved to be good at annotating science textbooks'\n",
    "# my_qual_type = mturk.create_qualification_type(new_qual_name, new_qual_description, status='Active')\n",
    "\n",
    "my_qual_type = mturk.search_qualification_types(new_qual_name)[0]"
   ]
  },
  {
   "cell_type": "code",
   "execution_count": 55,
   "metadata": {
    "collapsed": false,
    "hidden": true,
    "run_control": {
     "frozen": false,
     "read_only": false
    }
   },
   "outputs": [
    {
     "name": "stdout",
     "output_type": "stream",
     "text": [
      "3SR1M7GDJUS2QU502S1PPKCWG30A2B\n"
     ]
    }
   ],
   "source": [
    "my_qual_id = my_qual_type.QualificationTypeId\n",
    "print my_qual_id"
   ]
  },
  {
   "cell_type": "code",
   "execution_count": null,
   "metadata": {
    "collapsed": true,
    "hidden": true,
    "run_control": {
     "frozen": false,
     "read_only": false
    }
   },
   "outputs": [],
   "source": [
    "mturk.assign_qualification(my_qual_id, worker_id)"
   ]
  },
  {
   "cell_type": "markdown",
   "metadata": {
    "heading_collapsed": true
   },
   "source": [
    "# Reviewing HITs"
   ]
  },
  {
   "cell_type": "markdown",
   "metadata": {
    "heading_collapsed": true,
    "hidden": true
   },
   "source": [
    "## setting up hits to review"
   ]
  },
  {
   "cell_type": "code",
   "execution_count": 6,
   "metadata": {
    "collapsed": true,
    "hidden": true,
    "run_control": {
     "frozen": false,
     "read_only": false
    }
   },
   "outputs": [],
   "source": [
    "r_hits_current_batch = amt_util.get_completed_hits(mturk)\n",
    "assignment_results_current_batch = amt_util.get_assignments(mturk, r_hits_current_batch)"
   ]
  },
  {
   "cell_type": "code",
   "execution_count": 7,
   "metadata": {
    "collapsed": true,
    "hidden": true,
    "run_control": {
     "frozen": false,
     "read_only": false
    }
   },
   "outputs": [],
   "source": [
    "raw_hit_results_current_batch = amt_util.process_raw_hits(assignment_results_current_batch)"
   ]
  },
  {
   "cell_type": "markdown",
   "metadata": {
    "hidden": true
   },
   "source": [
    "The two commands above interact with mechanical turk and can take a while"
   ]
  },
  {
   "cell_type": "code",
   "execution_count": 8,
   "metadata": {
    "collapsed": false,
    "hidden": true,
    "run_control": {
     "frozen": false,
     "read_only": false
    }
   },
   "outputs": [],
   "source": [
    "results_df_question_batch = amt_util.make_question_results_df(raw_hit_results_current_batch)"
   ]
  },
  {
   "cell_type": "code",
   "execution_count": 9,
   "metadata": {
    "collapsed": false,
    "hidden": true,
    "run_control": {
     "frozen": false,
     "read_only": false
    }
   },
   "outputs": [
    {
     "data": {
      "text/plain": [
       "(70302, 7)"
      ]
     },
     "execution_count": 9,
     "metadata": {},
     "output_type": "execute_result"
    }
   ],
   "source": [
    "results_df_question_batch.shape"
   ]
  },
  {
   "cell_type": "code",
   "execution_count": 10,
   "metadata": {
    "collapsed": false,
    "hidden": true,
    "run_control": {
     "frozen": false,
     "read_only": false
    }
   },
   "outputs": [
    {
     "data": {
      "text/plain": [
       "(856,)"
      ]
     },
     "execution_count": 10,
     "metadata": {},
     "output_type": "execute_result"
    }
   ],
   "source": [
    "pd.unique(results_df_question_batch['page']).shape"
   ]
  },
  {
   "cell_type": "code",
   "execution_count": 14,
   "metadata": {
    "collapsed": false,
    "hidden": true,
    "run_control": {
     "frozen": false,
     "read_only": false
    }
   },
   "outputs": [],
   "source": [
    "# results_df_question_batch['group_n'] = pd.to_numeric(results_df_question_batch['group_n'])"
   ]
  },
  {
   "cell_type": "code",
   "execution_count": 12,
   "metadata": {
    "collapsed": true,
    "hidden": true,
    "run_control": {
     "frozen": false,
     "read_only": false
    }
   },
   "outputs": [],
   "source": [
    "results_df_question_only = results_df_question_batch[results_df_question_batch['group_n'] != '0']"
   ]
  },
  {
   "cell_type": "code",
   "execution_count": 13,
   "metadata": {
    "collapsed": false,
    "hidden": true,
    "run_control": {
     "frozen": false,
     "read_only": false
    }
   },
   "outputs": [],
   "source": [
    "consensus_results_df_current_batch = amt_util.make_consensus_df(results_df_question_only, 'No Consensus')"
   ]
  },
  {
   "cell_type": "code",
   "execution_count": 14,
   "metadata": {
    "collapsed": false,
    "hidden": true,
    "run_control": {
     "frozen": false,
     "read_only": false
    }
   },
   "outputs": [
    {
     "name": "stdout",
     "output_type": "stream",
     "text": [
      "question boxes without category consensus comprise 11.65% of the total\n"
     ]
    }
   ],
   "source": [
    "no_consensus_hits_cat = consensus_results_df_current_batch[consensus_results_df_current_batch['category'] == 'No Consensus']\n",
    "\n",
    "flaw_rate = len(no_consensus_hits_cat) / len(consensus_results_df_current_batch)\n",
    "print 'question boxes without category consensus comprise ' + '{0:0.2f}% '.format(flaw_rate * 100) + 'of the total'  "
   ]
  },
  {
   "cell_type": "code",
   "execution_count": 15,
   "metadata": {
    "collapsed": false,
    "hidden": true,
    "run_control": {
     "frozen": false,
     "read_only": false
    }
   },
   "outputs": [
    {
     "name": "stdout",
     "output_type": "stream",
     "text": [
      "question boxes without group consensus comprise 13.00% of the total\n"
     ]
    }
   ],
   "source": [
    "no_consensus_hits = consensus_results_df_current_batch[consensus_results_df_current_batch['group_n'] == 'No Consensus']\n",
    "\n",
    "flaw_rate = len(no_consensus_hits) / len(consensus_results_df_current_batch)\n",
    "print 'question boxes without group consensus comprise ' + '{0:0.2f}% '.format(flaw_rate * 100) + 'of the total'  "
   ]
  },
  {
   "cell_type": "markdown",
   "metadata": {
    "hidden": true
   },
   "source": [
    "## sending to review tool"
   ]
  },
  {
   "cell_type": "code",
   "execution_count": 207,
   "metadata": {
    "collapsed": true,
    "hidden": true,
    "run_control": {
     "frozen": false,
     "read_only": false
    }
   },
   "outputs": [],
   "source": [
    "multi_choice_pages = consensus_results_df_complete[consensus_results_df_complete['category'] == 'Multiple Choice']\n",
    "pages_to_review =pd.unique(multi_choice_pages['page'])\n",
    "to_review = ['start_seq'] + pages_to_review.tolist()"
   ]
  },
  {
   "cell_type": "code",
   "execution_count": 22,
   "metadata": {
    "collapsed": true,
    "hidden": true,
    "run_control": {
     "frozen": false,
     "read_only": false
    }
   },
   "outputs": [],
   "source": [
    "# consensus_results_df_complete = amt_util.make_consensus_df(results_df_question_batch, 'No Consensus')\n",
    "consensus_results_df_complete = combined_consensus_df"
   ]
  },
  {
   "cell_type": "code",
   "execution_count": 199,
   "metadata": {
    "collapsed": false,
    "hidden": true,
    "run_control": {
     "frozen": false,
     "read_only": false
    },
    "scrolled": false
   },
   "outputs": [],
   "source": [
    "amt_util.write_results_df(consensus_results_df_complete, 'annotations-w-questions/' ,'labeled-questions/')"
   ]
  },
  {
   "cell_type": "code",
   "execution_count": 26,
   "metadata": {
    "collapsed": false,
    "hidden": true,
    "run_control": {
     "frozen": false,
     "read_only": false
    }
   },
   "outputs": [],
   "source": [
    "# all pages from the latest batch\n",
    "pages_to_review =pd.unique(consensus_results_df_complete['page'])\n",
    "to_review = ['start_seq'] + pages_to_review.tolist()"
   ]
  },
  {
   "cell_type": "code",
   "execution_count": 193,
   "metadata": {
    "collapsed": true,
    "hidden": true,
    "run_control": {
     "frozen": false,
     "read_only": false
    }
   },
   "outputs": [],
   "source": [
    "# all pages from the latest batch with a no-consensus box\n",
    "# pages_to_review =pd.unique(no_consensus_hits['page'])"
   ]
  },
  {
   "cell_type": "code",
   "execution_count": 194,
   "metadata": {
    "collapsed": false,
    "hidden": true,
    "run_control": {
     "frozen": false,
     "read_only": false
    }
   },
   "outputs": [],
   "source": [
    "pd.Series(to_review[1:]).to_pickle('rev_seq.pkl')"
   ]
  },
  {
   "cell_type": "code",
   "execution_count": 78,
   "metadata": {
    "collapsed": false,
    "hidden": true,
    "run_control": {
     "frozen": false,
     "read_only": false
    }
   },
   "outputs": [],
   "source": [
    "single_page = ['Daily_Science_Grade_2_Evan_Moor_33.jpeg']"
   ]
  },
  {
   "cell_type": "code",
   "execution_count": 83,
   "metadata": {
    "collapsed": true,
    "hidden": true,
    "run_control": {
     "frozen": false,
     "read_only": false
    }
   },
   "outputs": [],
   "source": [
    "problem_pages = pd.read_pickle('problem_pages.pkl').tolist()"
   ]
  },
  {
   "cell_type": "code",
   "execution_count": 84,
   "metadata": {
    "collapsed": true,
    "hidden": true,
    "run_control": {
     "frozen": false,
     "read_only": false
    }
   },
   "outputs": [],
   "source": [
    "to_review = ['start_seq'] + problem_pages"
   ]
  },
  {
   "cell_type": "code",
   "execution_count": 81,
   "metadata": {
    "collapsed": true,
    "hidden": true,
    "run_control": {
     "frozen": false,
     "read_only": false
    }
   },
   "outputs": [],
   "source": [
    "to_review = ['start_seq'] + single_page"
   ]
  },
  {
   "cell_type": "code",
   "execution_count": 209,
   "metadata": {
    "collapsed": true,
    "hidden": true,
    "run_control": {
     "frozen": false,
     "read_only": false
    }
   },
   "outputs": [
    {
     "ename": "IOError",
     "evalue": "[Errno 2] No such file or directory: u'/Users/schwenk/wrk/notebooks/stb/ai2-vision-turk-data/textbook-annotation-test/labeled-questions2/Daily_Science_Grade_1_Evan_Moor_101.json'",
     "output_type": "error",
     "traceback": [
      "\u001b[0;31m---------------------------------------------------------------------------\u001b[0m",
      "\u001b[0;31mIOError\u001b[0m                                   Traceback (most recent call last)",
      "\u001b[0;32m<ipython-input-209-7fb08f08e32d>\u001b[0m in \u001b[0;36m<module>\u001b[0;34m()\u001b[0m\n\u001b[1;32m      1\u001b[0m \u001b[0msuspect_subset\u001b[0m \u001b[0;34m=\u001b[0m \u001b[0mcombined_results_df\u001b[0m\u001b[0;34m[\u001b[0m\u001b[0mcombined_results_df\u001b[0m\u001b[0;34m[\u001b[0m\u001b[0;34m'worker_id'\u001b[0m\u001b[0;34m]\u001b[0m\u001b[0;34m.\u001b[0m\u001b[0misin\u001b[0m\u001b[0;34m(\u001b[0m\u001b[0mbad_and_prolific_to_review\u001b[0m\u001b[0;34m)\u001b[0m\u001b[0;34m]\u001b[0m\u001b[0;34m\u001b[0m\u001b[0m\n\u001b[1;32m      2\u001b[0m \u001b[0;31m# suspect_subset = combined_results_df[combined_results_df['worker_id'].isin(['A3VE5OH94HYHET'])]\u001b[0m\u001b[0;34m\u001b[0m\u001b[0;34m\u001b[0m\u001b[0m\n\u001b[0;32m----> 3\u001b[0;31m \u001b[0mamt_util\u001b[0m\u001b[0;34m.\u001b[0m\u001b[0mwrite_results_df\u001b[0m\u001b[0;34m(\u001b[0m\u001b[0msuspect_subset\u001b[0m\u001b[0;34m,\u001b[0m \u001b[0;34m'annotations-w-questions/'\u001b[0m \u001b[0;34m,\u001b[0m\u001b[0;34m'labeled-questions2/'\u001b[0m\u001b[0;34m)\u001b[0m\u001b[0;34m\u001b[0m\u001b[0m\n\u001b[0m\u001b[1;32m      4\u001b[0m \u001b[0mpages_to_review\u001b[0m \u001b[0;34m=\u001b[0m \u001b[0mpd\u001b[0m\u001b[0;34m.\u001b[0m\u001b[0munique\u001b[0m\u001b[0;34m(\u001b[0m\u001b[0msuspect_subset\u001b[0m\u001b[0;34m[\u001b[0m\u001b[0;34m'page'\u001b[0m\u001b[0;34m]\u001b[0m\u001b[0;34m)\u001b[0m\u001b[0;34m\u001b[0m\u001b[0m\n",
      "\u001b[0;32m/Users/schwenk/wrk/notebooks/stb/pdfextraction/amt_boto_modules.py\u001b[0m in \u001b[0;36mwrite_results_df\u001b[0;34m(aggregate_results_df, anno_dir, local_result_dir)\u001b[0m\n\u001b[1;32m    293\u001b[0m     \u001b[0mlocal_result_path\u001b[0m \u001b[0;34m=\u001b[0m \u001b[0mbase_path\u001b[0m \u001b[0;34m+\u001b[0m \u001b[0mlocal_result_dir\u001b[0m\u001b[0;34m\u001b[0m\u001b[0m\n\u001b[1;32m    294\u001b[0m     \u001b[0;32mfor\u001b[0m \u001b[0mpage\u001b[0m\u001b[0;34m,\u001b[0m \u001b[0mboxes\u001b[0m \u001b[0;32min\u001b[0m \u001b[0maggregate_results_df\u001b[0m\u001b[0;34m.\u001b[0m\u001b[0mgroupby\u001b[0m\u001b[0;34m(\u001b[0m\u001b[0;34m'page'\u001b[0m\u001b[0;34m)\u001b[0m\u001b[0;34m:\u001b[0m\u001b[0;34m\u001b[0m\u001b[0m\n\u001b[0;32m--> 295\u001b[0;31m         \u001b[0mwrite_consensus_results\u001b[0m\u001b[0;34m(\u001b[0m\u001b[0mpage\u001b[0m\u001b[0;34m,\u001b[0m \u001b[0mboxes\u001b[0m\u001b[0;34m,\u001b[0m \u001b[0mlocal_result_path\u001b[0m\u001b[0;34m,\u001b[0m \u001b[0manno_dir\u001b[0m\u001b[0;34m)\u001b[0m\u001b[0;34m\u001b[0m\u001b[0m\n\u001b[0m\u001b[1;32m    296\u001b[0m \u001b[0;34m\u001b[0m\u001b[0m\n\u001b[1;32m    297\u001b[0m \u001b[0;34m\u001b[0m\u001b[0m\n",
      "\u001b[0;32m/Users/schwenk/wrk/notebooks/stb/pdfextraction/amt_boto_modules.py\u001b[0m in \u001b[0;36mwrite_consensus_results\u001b[0;34m(page_name, boxes, local_result_path, anno_dir)\u001b[0m\n\u001b[1;32m    287\u001b[0m \u001b[0;32mdef\u001b[0m \u001b[0mwrite_consensus_results\u001b[0m\u001b[0;34m(\u001b[0m\u001b[0mpage_name\u001b[0m\u001b[0;34m,\u001b[0m \u001b[0mboxes\u001b[0m\u001b[0;34m,\u001b[0m \u001b[0mlocal_result_path\u001b[0m\u001b[0;34m,\u001b[0m \u001b[0manno_dir\u001b[0m\u001b[0;34m)\u001b[0m\u001b[0;34m:\u001b[0m\u001b[0;34m\u001b[0m\u001b[0m\n\u001b[1;32m    288\u001b[0m     \u001b[0munaltered_annotations\u001b[0m \u001b[0;34m=\u001b[0m \u001b[0mload_local_annotation\u001b[0m\u001b[0;34m(\u001b[0m\u001b[0mpage_name\u001b[0m\u001b[0;34m,\u001b[0m \u001b[0manno_dir\u001b[0m\u001b[0;34m)\u001b[0m\u001b[0;34m\u001b[0m\u001b[0m\n\u001b[0;32m--> 289\u001b[0;31m     \u001b[0mprocess_annotation_results\u001b[0m\u001b[0;34m(\u001b[0m\u001b[0mpage_name\u001b[0m\u001b[0;34m,\u001b[0m \u001b[0mboxes\u001b[0m\u001b[0;34m,\u001b[0m \u001b[0munaltered_annotations\u001b[0m\u001b[0;34m,\u001b[0m \u001b[0mlocal_result_path\u001b[0m\u001b[0;34m,\u001b[0m \u001b[0mpage_schema\u001b[0m\u001b[0;34m)\u001b[0m\u001b[0;34m\u001b[0m\u001b[0m\n\u001b[0m\u001b[1;32m    290\u001b[0m \u001b[0;34m\u001b[0m\u001b[0m\n\u001b[1;32m    291\u001b[0m \u001b[0;34m\u001b[0m\u001b[0m\n",
      "\u001b[0;32m/Users/schwenk/wrk/notebooks/stb/pdfextraction/amt_boto_modules.py\u001b[0m in \u001b[0;36mprocess_annotation_results\u001b[0;34m(anno_page_name, boxes, unannotated_page, annotations_folder, page_schema)\u001b[0m\n\u001b[1;32m    280\u001b[0m \u001b[0;31m#     validator.validate(json.loads(json.dumps(unannotated_page)))\u001b[0m\u001b[0;34m\u001b[0m\u001b[0;34m\u001b[0m\u001b[0m\n\u001b[1;32m    281\u001b[0m     \u001b[0mfile_path\u001b[0m \u001b[0;34m=\u001b[0m \u001b[0mannotations_folder\u001b[0m \u001b[0;34m+\u001b[0m \u001b[0manno_page_name\u001b[0m\u001b[0;34m.\u001b[0m\u001b[0mreplace\u001b[0m\u001b[0;34m(\u001b[0m\u001b[0;34m'jpeg'\u001b[0m\u001b[0;34m,\u001b[0m \u001b[0;34m'json'\u001b[0m\u001b[0;34m)\u001b[0m\u001b[0;34m.\u001b[0m\u001b[0mreplace\u001b[0m\u001b[0;34m(\u001b[0m\u001b[0;34m\"\\\\\"\u001b[0m\u001b[0;34m,\u001b[0m \u001b[0;34m\"\"\u001b[0m\u001b[0;34m)\u001b[0m\u001b[0;34m\u001b[0m\u001b[0m\n\u001b[0;32m--> 282\u001b[0;31m     \u001b[0;32mwith\u001b[0m \u001b[0mopen\u001b[0m\u001b[0;34m(\u001b[0m\u001b[0mfile_path\u001b[0m\u001b[0;34m,\u001b[0m \u001b[0;34m'wb'\u001b[0m\u001b[0;34m)\u001b[0m \u001b[0;32mas\u001b[0m \u001b[0mf\u001b[0m\u001b[0;34m:\u001b[0m\u001b[0;34m\u001b[0m\u001b[0m\n\u001b[0m\u001b[1;32m    283\u001b[0m         \u001b[0mjson\u001b[0m\u001b[0;34m.\u001b[0m\u001b[0mdump\u001b[0m\u001b[0;34m(\u001b[0m\u001b[0munannotated_page\u001b[0m\u001b[0;34m,\u001b[0m \u001b[0mf\u001b[0m\u001b[0;34m)\u001b[0m\u001b[0;34m\u001b[0m\u001b[0m\n\u001b[1;32m    284\u001b[0m     \u001b[0;32mreturn\u001b[0m\u001b[0;34m\u001b[0m\u001b[0m\n",
      "\u001b[0;31mIOError\u001b[0m: [Errno 2] No such file or directory: u'/Users/schwenk/wrk/notebooks/stb/ai2-vision-turk-data/textbook-annotation-test/labeled-questions2/Daily_Science_Grade_1_Evan_Moor_101.json'"
     ]
    }
   ],
   "source": [
    "suspect_subset = combined_results_df[combined_results_df['worker_id'].isin(bad_and_prolific_to_review)]\n",
    "# suspect_subset = combined_results_df[combined_results_df['worker_id'].isin(['A3VE5OH94HYHET'])]\n",
    "amt_util.write_results_df(suspect_subset, 'annotations-w-questions/' ,'labeled-questions2/')\n",
    "pages_to_review = pd.unique(suspect_subset['page'])"
   ]
  },
  {
   "cell_type": "code",
   "execution_count": 24,
   "metadata": {
    "collapsed": false,
    "hidden": true,
    "run_control": {
     "frozen": false,
     "read_only": false
    }
   },
   "outputs": [
    {
     "name": "stdout",
     "output_type": "stream",
     "text": [
      "sampling 428 pages out of 856\n"
     ]
    }
   ],
   "source": [
    "sampling_rate = 0.5\n",
    "sample_size = int(len(pages_to_review) * sampling_rate)\n",
    "sampled_pages_to_review = list(np.random.choice(pages_to_review, size= sample_size, replace=False))\n",
    "print 'sampling ' + str(sample_size) + ' pages out of ' + str(len(pages_to_review))\n",
    "to_review = ['start_seq'] + sampled_pages_to_review\n",
    "\n",
    "# labeled_quest_dir = 'labeled-questions/'"
   ]
  },
  {
   "cell_type": "code",
   "execution_count": 27,
   "metadata": {
    "collapsed": false,
    "hidden": true,
    "run_control": {
     "frozen": false,
     "read_only": false
    }
   },
   "outputs": [
    {
     "name": "stdout",
     "output_type": "stream",
     "text": [
      "posting to review tool, navigate to http://localhost:8080/ to see the sampled consensus results\n"
     ]
    }
   ],
   "source": [
    "anno_dir = 'hierarchy-ext-test/'\n",
    "anno_dir = 'labeled-questions/'\n",
    "\n",
    "amt_util.review_results(to_review, anno_dir)\n",
    "\n",
    "print 'posting to review tool, navigate to http://localhost:8080/ to see the sampled consensus results'"
   ]
  },
  {
   "cell_type": "code",
   "execution_count": 73,
   "metadata": {
    "collapsed": false,
    "hidden": true,
    "run_control": {
     "frozen": false,
     "read_only": false
    }
   },
   "outputs": [],
   "source": [
    "%%capture \n",
    "# all pages from the latest batch with a no-consensus box\n",
    "suspect_subset = results_df_current_batch[results_df_current_batch['worker_id'].isin(suspect_workers[:5])]\n",
    "amt_util.write_results_df(suspect_subset)\n",
    "pages_to_review = pd.unique(suspect_subset['page'])"
   ]
  },
  {
   "cell_type": "markdown",
   "metadata": {
    "heading_collapsed": true
   },
   "source": [
    "# Merging latest round of HITs into combined dataset  "
   ]
  },
  {
   "cell_type": "markdown",
   "metadata": {
    "hidden": true
   },
   "source": [
    "## Load prior complete dataset if not in memory"
   ]
  },
  {
   "cell_type": "code",
   "execution_count": 17,
   "metadata": {
    "collapsed": true,
    "hidden": true,
    "run_control": {
     "frozen": false,
     "read_only": false
    }
   },
   "outputs": [],
   "source": [
    "data_pickled_dir = './store_hit_results_metadata/question_anno/group_latest_combined/' "
   ]
  },
  {
   "cell_type": "code",
   "execution_count": 18,
   "metadata": {
    "collapsed": false,
    "hidden": true,
    "run_control": {
     "frozen": false,
     "read_only": false
    }
   },
   "outputs": [],
   "source": [
    "combined_results_df = pd.read_pickle(data_pickled_dir + 'complete_df.pkl')\n",
    "combined_consensus_df = pd.read_pickle(data_pickled_dir + 'consensus_df.pkl')\n",
    "combined_consensus_with_workerid_df = pd.read_pickle(data_pickled_dir + 'consensus_df_w_workers.pkl') "
   ]
  },
  {
   "cell_type": "code",
   "execution_count": 19,
   "metadata": {
    "collapsed": false,
    "hidden": true,
    "run_control": {
     "frozen": false,
     "read_only": false
    }
   },
   "outputs": [
    {
     "data": {
      "text/plain": [
       "856"
      ]
     },
     "execution_count": 19,
     "metadata": {},
     "output_type": "execute_result"
    }
   ],
   "source": [
    "amt_util.count_pages_in_df(combined_consensus_with_workerid_df)"
   ]
  },
  {
   "cell_type": "markdown",
   "metadata": {
    "heading_collapsed": true,
    "hidden": true
   },
   "source": [
    "## Updating full dataset"
   ]
  },
  {
   "cell_type": "code",
   "execution_count": 15,
   "metadata": {
    "collapsed": false,
    "hidden": true,
    "run_control": {
     "frozen": false,
     "read_only": false
    }
   },
   "outputs": [
    {
     "ename": "NameError",
     "evalue": "name 'results_df_question_batch' is not defined",
     "output_type": "error",
     "traceback": [
      "\u001b[0;31m---------------------------------------------------------------------------\u001b[0m",
      "\u001b[0;31mNameError\u001b[0m                                 Traceback (most recent call last)",
      "\u001b[0;32m<ipython-input-15-200b6b31464a>\u001b[0m in \u001b[0;36m<module>\u001b[0;34m()\u001b[0m\n\u001b[0;32m----> 1\u001b[0;31m \u001b[0mcombined_results_df\u001b[0m \u001b[0;34m=\u001b[0m \u001b[0mresults_df_question_batch\u001b[0m\u001b[0;34m\u001b[0m\u001b[0m\n\u001b[0m\u001b[1;32m      2\u001b[0m \u001b[0mcombined_consensus_df\u001b[0m \u001b[0;34m=\u001b[0m \u001b[0mconsensus_results_df_complete\u001b[0m\u001b[0;34m\u001b[0m\u001b[0m\n\u001b[1;32m      3\u001b[0m \u001b[0mcombined_consensus_with_workerid_df\u001b[0m \u001b[0;34m=\u001b[0m \u001b[0mconsensus_with_workerid_df\u001b[0m\u001b[0;34m\u001b[0m\u001b[0m\n",
      "\u001b[0;31mNameError\u001b[0m: name 'results_df_question_batch' is not defined"
     ]
    }
   ],
   "source": [
    "combined_results_df = results_df_question_batch\n",
    "combined_consensus_df = consensus_results_df_complete\n",
    "combined_consensus_with_workerid_df = consensus_with_workerid_df"
   ]
  },
  {
   "cell_type": "markdown",
   "metadata": {
    "hidden": true
   },
   "source": [
    "## Working with full dataset"
   ]
  },
  {
   "cell_type": "code",
   "execution_count": 16,
   "metadata": {
    "collapsed": true,
    "hidden": true,
    "run_control": {
     "frozen": false,
     "read_only": false
    }
   },
   "outputs": [],
   "source": [
    "%%capture\n",
    "no_consensus_hits = combined_consensus_df[combined_consensus_df['category'] == 'No Consensus']"
   ]
  },
  {
   "cell_type": "code",
   "execution_count": 964,
   "metadata": {
    "collapsed": false,
    "hidden": true,
    "run_control": {
     "frozen": false,
     "read_only": false
    }
   },
   "outputs": [
    {
     "name": "stdout",
     "output_type": "stream",
     "text": [
      "text boxes without consensus are 2.94% of the total\n"
     ]
    }
   ],
   "source": [
    "flaw_rate = len(no_consensus_hits) / len(combined_consensus_df)\n",
    "print 'text boxes without consensus are ' + '{0:0.2f}% '.format(flaw_rate * 100) + 'of the total'  "
   ]
  },
  {
   "cell_type": "code",
   "execution_count": 227,
   "metadata": {
    "collapsed": false,
    "hidden": true,
    "run_control": {
     "frozen": false,
     "read_only": false
    }
   },
   "outputs": [
    {
     "data": {
      "text/html": [
       "<div>\n",
       "<table border=\"1\" class=\"dataframe\">\n",
       "  <thead>\n",
       "    <tr style=\"text-align: right;\">\n",
       "      <th></th>\n",
       "      <th>submitted</th>\n",
       "      <th>incorrect</th>\n",
       "      <th>flaw_ratio</th>\n",
       "    </tr>\n",
       "  </thead>\n",
       "  <tbody>\n",
       "    <tr>\n",
       "      <th>A2HTN7HCNBQ8V4</th>\n",
       "      <td>130.0</td>\n",
       "      <td>2.0</td>\n",
       "      <td>0.015385</td>\n",
       "    </tr>\n",
       "    <tr>\n",
       "      <th>A3JOFB6Z65I37Q</th>\n",
       "      <td>124.0</td>\n",
       "      <td>2.0</td>\n",
       "      <td>0.016129</td>\n",
       "    </tr>\n",
       "    <tr>\n",
       "      <th>AEWGY34WUIA32</th>\n",
       "      <td>1538.0</td>\n",
       "      <td>40.0</td>\n",
       "      <td>0.026008</td>\n",
       "    </tr>\n",
       "    <tr>\n",
       "      <th>ASB8T0H7L99RF</th>\n",
       "      <td>507.0</td>\n",
       "      <td>14.0</td>\n",
       "      <td>0.027613</td>\n",
       "    </tr>\n",
       "    <tr>\n",
       "      <th>AMA18W8F60Y2J</th>\n",
       "      <td>100.0</td>\n",
       "      <td>3.0</td>\n",
       "      <td>0.030000</td>\n",
       "    </tr>\n",
       "    <tr>\n",
       "      <th>A2YY1ZR7Z4VT4M</th>\n",
       "      <td>1517.0</td>\n",
       "      <td>54.0</td>\n",
       "      <td>0.035597</td>\n",
       "    </tr>\n",
       "    <tr>\n",
       "      <th>AJFVK3O1D7SPE</th>\n",
       "      <td>1114.0</td>\n",
       "      <td>41.0</td>\n",
       "      <td>0.036804</td>\n",
       "    </tr>\n",
       "    <tr>\n",
       "      <th>A1S8DYWNS59XWB</th>\n",
       "      <td>728.0</td>\n",
       "      <td>28.0</td>\n",
       "      <td>0.038462</td>\n",
       "    </tr>\n",
       "    <tr>\n",
       "      <th>AJ7D7M9EHDQCL</th>\n",
       "      <td>489.0</td>\n",
       "      <td>19.0</td>\n",
       "      <td>0.038855</td>\n",
       "    </tr>\n",
       "    <tr>\n",
       "      <th>A2PEIHMPPOB1YJ</th>\n",
       "      <td>641.0</td>\n",
       "      <td>25.0</td>\n",
       "      <td>0.039002</td>\n",
       "    </tr>\n",
       "    <tr>\n",
       "      <th>A31XEDSR8OY87H</th>\n",
       "      <td>2036.0</td>\n",
       "      <td>80.0</td>\n",
       "      <td>0.039293</td>\n",
       "    </tr>\n",
       "    <tr>\n",
       "      <th>A2RSOGTSR83XKO</th>\n",
       "      <td>4812.0</td>\n",
       "      <td>195.0</td>\n",
       "      <td>0.040524</td>\n",
       "    </tr>\n",
       "    <tr>\n",
       "      <th>A1GG77WVYNWZ8R</th>\n",
       "      <td>365.0</td>\n",
       "      <td>15.0</td>\n",
       "      <td>0.041096</td>\n",
       "    </tr>\n",
       "    <tr>\n",
       "      <th>A1ZWX5GOC7VPIL</th>\n",
       "      <td>96.0</td>\n",
       "      <td>4.0</td>\n",
       "      <td>0.041667</td>\n",
       "    </tr>\n",
       "    <tr>\n",
       "      <th>A1KCK9I7GD6KAU</th>\n",
       "      <td>428.0</td>\n",
       "      <td>18.0</td>\n",
       "      <td>0.042056</td>\n",
       "    </tr>\n",
       "    <tr>\n",
       "      <th>A13XHSTP6QMFV7</th>\n",
       "      <td>111.0</td>\n",
       "      <td>5.0</td>\n",
       "      <td>0.045045</td>\n",
       "    </tr>\n",
       "    <tr>\n",
       "      <th>A3FR8XRR269X70</th>\n",
       "      <td>123.0</td>\n",
       "      <td>6.0</td>\n",
       "      <td>0.048780</td>\n",
       "    </tr>\n",
       "    <tr>\n",
       "      <th>A26A4SN8CN0TTW</th>\n",
       "      <td>582.0</td>\n",
       "      <td>29.0</td>\n",
       "      <td>0.049828</td>\n",
       "    </tr>\n",
       "    <tr>\n",
       "      <th>A3M00KCD7YZ177</th>\n",
       "      <td>1928.0</td>\n",
       "      <td>98.0</td>\n",
       "      <td>0.050830</td>\n",
       "    </tr>\n",
       "    <tr>\n",
       "      <th>AB1RF17U3HM3W</th>\n",
       "      <td>2157.0</td>\n",
       "      <td>110.0</td>\n",
       "      <td>0.050997</td>\n",
       "    </tr>\n",
       "    <tr>\n",
       "      <th>A1EQ2HDHF2WWSY</th>\n",
       "      <td>2345.0</td>\n",
       "      <td>122.0</td>\n",
       "      <td>0.052026</td>\n",
       "    </tr>\n",
       "    <tr>\n",
       "      <th>A356GXVAYWN0DV</th>\n",
       "      <td>249.0</td>\n",
       "      <td>13.0</td>\n",
       "      <td>0.052209</td>\n",
       "    </tr>\n",
       "    <tr>\n",
       "      <th>A2HHQJVM3JJQ8F</th>\n",
       "      <td>57.0</td>\n",
       "      <td>3.0</td>\n",
       "      <td>0.052632</td>\n",
       "    </tr>\n",
       "    <tr>\n",
       "      <th>A230N919X9GWNN</th>\n",
       "      <td>4323.0</td>\n",
       "      <td>230.0</td>\n",
       "      <td>0.053204</td>\n",
       "    </tr>\n",
       "    <tr>\n",
       "      <th>A6QMYJ1FWU9QA</th>\n",
       "      <td>168.0</td>\n",
       "      <td>9.0</td>\n",
       "      <td>0.053571</td>\n",
       "    </tr>\n",
       "  </tbody>\n",
       "</table>\n",
       "</div>"
      ],
      "text/plain": [
       "                submitted  incorrect  flaw_ratio\n",
       "A2HTN7HCNBQ8V4      130.0        2.0    0.015385\n",
       "A3JOFB6Z65I37Q      124.0        2.0    0.016129\n",
       "AEWGY34WUIA32      1538.0       40.0    0.026008\n",
       "ASB8T0H7L99RF       507.0       14.0    0.027613\n",
       "AMA18W8F60Y2J       100.0        3.0    0.030000\n",
       "A2YY1ZR7Z4VT4M     1517.0       54.0    0.035597\n",
       "AJFVK3O1D7SPE      1114.0       41.0    0.036804\n",
       "A1S8DYWNS59XWB      728.0       28.0    0.038462\n",
       "AJ7D7M9EHDQCL       489.0       19.0    0.038855\n",
       "A2PEIHMPPOB1YJ      641.0       25.0    0.039002\n",
       "A31XEDSR8OY87H     2036.0       80.0    0.039293\n",
       "A2RSOGTSR83XKO     4812.0      195.0    0.040524\n",
       "A1GG77WVYNWZ8R      365.0       15.0    0.041096\n",
       "A1ZWX5GOC7VPIL       96.0        4.0    0.041667\n",
       "A1KCK9I7GD6KAU      428.0       18.0    0.042056\n",
       "A13XHSTP6QMFV7      111.0        5.0    0.045045\n",
       "A3FR8XRR269X70      123.0        6.0    0.048780\n",
       "A26A4SN8CN0TTW      582.0       29.0    0.049828\n",
       "A3M00KCD7YZ177     1928.0       98.0    0.050830\n",
       "AB1RF17U3HM3W      2157.0      110.0    0.050997\n",
       "A1EQ2HDHF2WWSY     2345.0      122.0    0.052026\n",
       "A356GXVAYWN0DV      249.0       13.0    0.052209\n",
       "A2HHQJVM3JJQ8F       57.0        3.0    0.052632\n",
       "A230N919X9GWNN     4323.0      230.0    0.053204\n",
       "A6QMYJ1FWU9QA       168.0        9.0    0.053571"
      ]
     },
     "execution_count": 227,
     "metadata": {},
     "output_type": "execute_result"
    }
   ],
   "source": [
    "worker_quality_df[worker_quality_df['submitted'] > 50].sort_values('flaw_ratio', ascending= True).head(25)"
   ]
  },
  {
   "cell_type": "code",
   "execution_count": 205,
   "metadata": {
    "collapsed": false,
    "hidden": true,
    "run_control": {
     "frozen": false,
     "read_only": false
    }
   },
   "outputs": [
    {
     "data": {
      "text/html": [
       "<div>\n",
       "<table border=\"1\" class=\"dataframe\">\n",
       "  <thead>\n",
       "    <tr style=\"text-align: right;\">\n",
       "      <th></th>\n",
       "      <th>submitted</th>\n",
       "      <th>incorrect</th>\n",
       "      <th>flaw_ratio</th>\n",
       "    </tr>\n",
       "  </thead>\n",
       "  <tbody>\n",
       "    <tr>\n",
       "      <th>A2KM2RWXQV47CV</th>\n",
       "      <td>2900.0</td>\n",
       "      <td>2093.0</td>\n",
       "      <td>0.721724</td>\n",
       "    </tr>\n",
       "    <tr>\n",
       "      <th>A16EEWCUQK9LM2</th>\n",
       "      <td>1069.0</td>\n",
       "      <td>446.0</td>\n",
       "      <td>0.417212</td>\n",
       "    </tr>\n",
       "    <tr>\n",
       "      <th>A1QZHZZMO2TE51</th>\n",
       "      <td>582.0</td>\n",
       "      <td>215.0</td>\n",
       "      <td>0.369416</td>\n",
       "    </tr>\n",
       "    <tr>\n",
       "      <th>A2XJH3WC02RMXQ</th>\n",
       "      <td>134.0</td>\n",
       "      <td>87.0</td>\n",
       "      <td>0.649254</td>\n",
       "    </tr>\n",
       "    <tr>\n",
       "      <th>AQE7EQDM98KB7</th>\n",
       "      <td>154.0</td>\n",
       "      <td>47.0</td>\n",
       "      <td>0.305195</td>\n",
       "    </tr>\n",
       "    <tr>\n",
       "      <th>A18DRAESIN3E94</th>\n",
       "      <td>112.0</td>\n",
       "      <td>43.0</td>\n",
       "      <td>0.383929</td>\n",
       "    </tr>\n",
       "    <tr>\n",
       "      <th>A8TDOYC7FWWKR</th>\n",
       "      <td>67.0</td>\n",
       "      <td>36.0</td>\n",
       "      <td>0.537313</td>\n",
       "    </tr>\n",
       "    <tr>\n",
       "      <th>A9Y1HKUEOOEPM</th>\n",
       "      <td>49.0</td>\n",
       "      <td>35.0</td>\n",
       "      <td>0.714286</td>\n",
       "    </tr>\n",
       "    <tr>\n",
       "      <th>A1EGJ4WHHIU61V</th>\n",
       "      <td>45.0</td>\n",
       "      <td>24.0</td>\n",
       "      <td>0.533333</td>\n",
       "    </tr>\n",
       "    <tr>\n",
       "      <th>A1ESKJFDQUMBL4</th>\n",
       "      <td>68.0</td>\n",
       "      <td>23.0</td>\n",
       "      <td>0.338235</td>\n",
       "    </tr>\n",
       "    <tr>\n",
       "      <th>A24DYXCGZQUZUQ</th>\n",
       "      <td>31.0</td>\n",
       "      <td>23.0</td>\n",
       "      <td>0.741935</td>\n",
       "    </tr>\n",
       "    <tr>\n",
       "      <th>AGKUZPBBPK7X9</th>\n",
       "      <td>51.0</td>\n",
       "      <td>21.0</td>\n",
       "      <td>0.411765</td>\n",
       "    </tr>\n",
       "    <tr>\n",
       "      <th>A2V4PRG5UBNIX0</th>\n",
       "      <td>27.0</td>\n",
       "      <td>20.0</td>\n",
       "      <td>0.740741</td>\n",
       "    </tr>\n",
       "    <tr>\n",
       "      <th>A3VE5OH94HYHET</th>\n",
       "      <td>30.0</td>\n",
       "      <td>16.0</td>\n",
       "      <td>0.533333</td>\n",
       "    </tr>\n",
       "    <tr>\n",
       "      <th>AZE084MMZVEYT</th>\n",
       "      <td>26.0</td>\n",
       "      <td>15.0</td>\n",
       "      <td>0.576923</td>\n",
       "    </tr>\n",
       "  </tbody>\n",
       "</table>\n",
       "</div>"
      ],
      "text/plain": [
       "                submitted  incorrect  flaw_ratio\n",
       "A2KM2RWXQV47CV     2900.0     2093.0    0.721724\n",
       "A16EEWCUQK9LM2     1069.0      446.0    0.417212\n",
       "A1QZHZZMO2TE51      582.0      215.0    0.369416\n",
       "A2XJH3WC02RMXQ      134.0       87.0    0.649254\n",
       "AQE7EQDM98KB7       154.0       47.0    0.305195\n",
       "A18DRAESIN3E94      112.0       43.0    0.383929\n",
       "A8TDOYC7FWWKR        67.0       36.0    0.537313\n",
       "A9Y1HKUEOOEPM        49.0       35.0    0.714286\n",
       "A1EGJ4WHHIU61V       45.0       24.0    0.533333\n",
       "A1ESKJFDQUMBL4       68.0       23.0    0.338235\n",
       "A24DYXCGZQUZUQ       31.0       23.0    0.741935\n",
       "AGKUZPBBPK7X9        51.0       21.0    0.411765\n",
       "A2V4PRG5UBNIX0       27.0       20.0    0.740741\n",
       "A3VE5OH94HYHET       30.0       16.0    0.533333\n",
       "AZE084MMZVEYT        26.0       15.0    0.576923"
      ]
     },
     "execution_count": 205,
     "metadata": {},
     "output_type": "execute_result"
    }
   ],
   "source": [
    "bad_and_prolific_workers[:15]"
   ]
  },
  {
   "cell_type": "markdown",
   "metadata": {
    "hidden": true
   },
   "source": [
    "After looking through the top few offenders, it's clear that \n",
    "\n",
    "1. the very worst intentionally submitted many blank pages\n",
    "\n",
    "2. the rest didn't read the directions very closely\n",
    "\n",
    "3. I'm comfortable rejecting the work of those with > 100 submissions\n",
    "\n",
    "4. I'll ban the worst 15 from future HITs\n"
   ]
  },
  {
   "cell_type": "code",
   "execution_count": 49,
   "metadata": {
    "collapsed": true,
    "hidden": true,
    "run_control": {
     "frozen": false,
     "read_only": false
    }
   },
   "outputs": [],
   "source": [
    "amt_util.write_results_df(combined_consensus_df)"
   ]
  },
  {
   "cell_type": "code",
   "execution_count": 45,
   "metadata": {
    "collapsed": true,
    "hidden": true,
    "run_control": {
     "frozen": false,
     "read_only": false
    }
   },
   "outputs": [],
   "source": [
    "# all pages from the complete\n",
    "pages_to_review =pd.unique(combined_consensus_df['page'])"
   ]
  },
  {
   "cell_type": "code",
   "execution_count": 165,
   "metadata": {
    "collapsed": true,
    "hidden": true,
    "run_control": {
     "frozen": false,
     "read_only": false
    }
   },
   "outputs": [],
   "source": [
    "# all pages from the complete dataset with a no-consensus box\n",
    "pages_to_review =pd.unique(no_consensus_hits['page'])"
   ]
  },
  {
   "cell_type": "code",
   "execution_count": 208,
   "metadata": {
    "collapsed": false,
    "hidden": true,
    "run_control": {
     "frozen": false,
     "read_only": false
    }
   },
   "outputs": [],
   "source": [
    "%%capture \n",
    "# all pages from the latest batch with a no-consensus box\n",
    "suspect_subset = combined_results_df[combined_results_df['worker_id'].isin(bad_and_prolific_to_review[10:15])]\n",
    "amt_util.write_results_df(suspect_subset)\n",
    "pages_to_review = pd.unique(suspect_subset['page'])"
   ]
  },
  {
   "cell_type": "code",
   "execution_count": 50,
   "metadata": {
    "collapsed": false,
    "hidden": true,
    "run_control": {
     "frozen": false,
     "read_only": false
    }
   },
   "outputs": [
    {
     "name": "stdout",
     "output_type": "stream",
     "text": [
      "sampling 404 pages out of 2022\n"
     ]
    }
   ],
   "source": [
    "sampling_rate = 0.2\n",
    "sample_size = int(len(pages_to_review) * sampling_rate)\n",
    "sampled_pages_to_review = list(np.random.choice(pages_to_review, size= sample_size, replace=False))\n",
    "print 'sampling ' + str(sample_size) + ' pages out of ' + str(len(pages_to_review))\n",
    "to_review = ['start_seq'] + sampled_pages_to_review"
   ]
  },
  {
   "cell_type": "code",
   "execution_count": 51,
   "metadata": {
    "collapsed": false,
    "hidden": true,
    "run_control": {
     "frozen": false,
     "read_only": false
    }
   },
   "outputs": [
    {
     "name": "stdout",
     "output_type": "stream",
     "text": [
      "posting to review tool, navigate to http://localhost:8080/ to see the sampled consensus results\n"
     ]
    }
   ],
   "source": [
    "amt_util.review_results(to_review)\n",
    "print 'posting to review tool, navigate to http://localhost:8080/ to see the sampled consensus results'"
   ]
  },
  {
   "cell_type": "markdown",
   "metadata": {},
   "source": [
    "# Worker Analysis"
   ]
  },
  {
   "cell_type": "markdown",
   "metadata": {
    "heading_collapsed": true
   },
   "source": [
    "## Basic worker stats"
   ]
  },
  {
   "cell_type": "code",
   "execution_count": 19,
   "metadata": {
    "collapsed": false,
    "hidden": true,
    "run_control": {
     "frozen": false,
     "read_only": false
    }
   },
   "outputs": [],
   "source": [
    "consensus_with_workerid_df = amt_util.make_consensus_df_w_worker_id(combined_results_df, consensus_results_df_complete)"
   ]
  },
  {
   "cell_type": "code",
   "execution_count": 21,
   "metadata": {
    "collapsed": false,
    "hidden": true,
    "run_control": {
     "frozen": false,
     "read_only": false
    },
    "scrolled": true
   },
   "outputs": [
    {
     "name": "stdout",
     "output_type": "stream",
     "text": [
      "number of unique workers:\n"
     ]
    },
    {
     "data": {
      "text/plain": [
       "72"
      ]
     },
     "execution_count": 21,
     "metadata": {},
     "output_type": "execute_result"
    }
   ],
   "source": [
    "print 'number of unique workers:'\n",
    "pd.unique(combined_results_df['worker_id']).shape[0]"
   ]
  },
  {
   "cell_type": "code",
   "execution_count": 118,
   "metadata": {
    "collapsed": false,
    "hidden": true,
    "run_control": {
     "frozen": false,
     "read_only": false
    }
   },
   "outputs": [],
   "source": [
    "# _ = combined_results_df['worker_id'].value_counts().hist(bins= 30)"
   ]
  },
  {
   "cell_type": "markdown",
   "metadata": {
    "hidden": true
   },
   "source": [
    "### HIT duration for pricing"
   ]
  },
  {
   "cell_type": "code",
   "execution_count": 92,
   "metadata": {
    "collapsed": false,
    "hidden": true,
    "run_control": {
     "frozen": false,
     "read_only": false
    }
   },
   "outputs": [],
   "source": [
    "task_duration_seconds = []\n",
    "for hit_id, assignments in assignment_results_current_batch.items():\n",
    "    for assignment in assignments:\n",
    "        hit_duration = dt_parse.parse(assignment.SubmitTime) - dt_parse.parse(assignment.AcceptTime)\n",
    "        task_duration_seconds.append(hit_duration.seconds)"
   ]
  },
  {
   "cell_type": "code",
   "execution_count": 93,
   "metadata": {
    "collapsed": false,
    "hidden": true,
    "run_control": {
     "frozen": false,
     "read_only": false
    }
   },
   "outputs": [],
   "source": [
    "task_duration_series = pd.Series(task_duration_seconds)"
   ]
  },
  {
   "cell_type": "code",
   "execution_count": 94,
   "metadata": {
    "collapsed": true,
    "hidden": true,
    "run_control": {
     "frozen": false,
     "read_only": false
    }
   },
   "outputs": [
    {
     "data": {
      "image/png": "[encoded data removed]",
      "text/plain": [
       "<matplotlib.figure.Figure at 0x113e1c3d0>"
      ]
     },
     "metadata": {},
     "output_type": "display_data"
    }
   ],
   "source": [
    "_ = task_duration_series.hist(bins=30, log=True)"
   ]
  },
  {
   "cell_type": "code",
   "execution_count": 97,
   "metadata": {
    "collapsed": false,
    "hidden": true,
    "run_control": {
     "frozen": false,
     "read_only": false
    }
   },
   "outputs": [],
   "source": [
    "winsorized_durations = [t for t in task_duration_seconds if t < 300]\n",
    "w_duration_series = pd.Series(winsorized_durations)"
   ]
  },
  {
   "cell_type": "code",
   "execution_count": 98,
   "metadata": {
    "collapsed": true,
    "hidden": true,
    "run_control": {
     "frozen": false,
     "read_only": false
    }
   },
   "outputs": [
    {
     "data": {
      "image/png": "[encoded data removed]",
      "text/plain": [
       "<matplotlib.figure.Figure at 0x10fbc0e10>"
      ]
     },
     "metadata": {},
     "output_type": "display_data"
    }
   ],
   "source": [
    "_ = pd.Series(w_duration_series).hist(bins=60)\n",
    "plt.title('Worker task duration', fontsize=50, verticalalignment='bottom', color = b16_colors.b)\n",
    "plt.ylabel(\"Number of Workers\", fontsize=30, labelpad=10, color = b16_colors.b)\n",
    "plt.xlabel(\"Seconds Spent on HIT\", fontsize=30, labelpad=10, color = b16_colors.b)\n",
    "plt.tick_params(axis='x', which='major', labelsize=20)\n",
    "plt.tick_params(axis='y', which='major', labelsize=20)"
   ]
  },
  {
   "cell_type": "code",
   "execution_count": 99,
   "metadata": {
    "collapsed": false,
    "hidden": true,
    "run_control": {
     "frozen": false,
     "read_only": false
    }
   },
   "outputs": [
    {
     "name": "stdout",
     "output_type": "stream",
     "text": [
      "duration mode= 14\n",
      "duration median= 25.0\n"
     ]
    }
   ],
   "source": [
    "print 'duration mode= ' + str(w_duration_series.mode().values[0])\n",
    "print 'duration median= ' + str(w_duration_series.median())"
   ]
  },
  {
   "cell_type": "markdown",
   "metadata": {
    "hidden": true
   },
   "source": [
    "### Identifying high and low consensus workers"
   ]
  },
  {
   "cell_type": "code",
   "execution_count": 100,
   "metadata": {
    "collapsed": false,
    "hidden": true,
    "run_control": {
     "frozen": false,
     "read_only": false
    }
   },
   "outputs": [
    {
     "data": {
      "text/html": [
       "<div>\n",
       "<table border=\"1\" class=\"dataframe\">\n",
       "  <thead>\n",
       "    <tr style=\"text-align: right;\">\n",
       "      <th></th>\n",
       "      <th>submitted</th>\n",
       "      <th>incorrect</th>\n",
       "      <th>flaw_ratio</th>\n",
       "    </tr>\n",
       "  </thead>\n",
       "  <tbody>\n",
       "    <tr>\n",
       "      <th>A2F0NZQ8F9ON8C</th>\n",
       "      <td>141.0</td>\n",
       "      <td>1.0</td>\n",
       "      <td>0.007092</td>\n",
       "    </tr>\n",
       "    <tr>\n",
       "      <th>A2PEIHMPPOB1YJ</th>\n",
       "      <td>451.0</td>\n",
       "      <td>12.0</td>\n",
       "      <td>0.026608</td>\n",
       "    </tr>\n",
       "    <tr>\n",
       "      <th>A3KKRE2IS3AF3I</th>\n",
       "      <td>221.0</td>\n",
       "      <td>6.0</td>\n",
       "      <td>0.027149</td>\n",
       "    </tr>\n",
       "    <tr>\n",
       "      <th>A3RS7UCO7CQ74R</th>\n",
       "      <td>111.0</td>\n",
       "      <td>4.0</td>\n",
       "      <td>0.036036</td>\n",
       "    </tr>\n",
       "    <tr>\n",
       "      <th>AEWGY34WUIA32</th>\n",
       "      <td>55.0</td>\n",
       "      <td>2.0</td>\n",
       "      <td>0.036364</td>\n",
       "    </tr>\n",
       "    <tr>\n",
       "      <th>A1XRIEYLA7ZJ3B</th>\n",
       "      <td>296.0</td>\n",
       "      <td>12.0</td>\n",
       "      <td>0.040541</td>\n",
       "    </tr>\n",
       "    <tr>\n",
       "      <th>A24NXYAW8T2JA0</th>\n",
       "      <td>241.0</td>\n",
       "      <td>11.0</td>\n",
       "      <td>0.045643</td>\n",
       "    </tr>\n",
       "    <tr>\n",
       "      <th>A3UYK0Z6ZHS7I4</th>\n",
       "      <td>21.0</td>\n",
       "      <td>1.0</td>\n",
       "      <td>0.047619</td>\n",
       "    </tr>\n",
       "    <tr>\n",
       "      <th>A1BBC4UHXDI434</th>\n",
       "      <td>810.0</td>\n",
       "      <td>49.0</td>\n",
       "      <td>0.060494</td>\n",
       "    </tr>\n",
       "    <tr>\n",
       "      <th>A3857424R8YR3Y</th>\n",
       "      <td>306.0</td>\n",
       "      <td>22.0</td>\n",
       "      <td>0.071895</td>\n",
       "    </tr>\n",
       "  </tbody>\n",
       "</table>\n",
       "</div>"
      ],
      "text/plain": [
       "                submitted  incorrect  flaw_ratio\n",
       "A2F0NZQ8F9ON8C      141.0        1.0    0.007092\n",
       "A2PEIHMPPOB1YJ      451.0       12.0    0.026608\n",
       "A3KKRE2IS3AF3I      221.0        6.0    0.027149\n",
       "A3RS7UCO7CQ74R      111.0        4.0    0.036036\n",
       "AEWGY34WUIA32        55.0        2.0    0.036364\n",
       "A1XRIEYLA7ZJ3B      296.0       12.0    0.040541\n",
       "A24NXYAW8T2JA0      241.0       11.0    0.045643\n",
       "A3UYK0Z6ZHS7I4       21.0        1.0    0.047619\n",
       "A1BBC4UHXDI434      810.0       49.0    0.060494\n",
       "A3857424R8YR3Y      306.0       22.0    0.071895"
      ]
     },
     "execution_count": 100,
     "metadata": {},
     "output_type": "execute_result"
    }
   ],
   "source": [
    "worker_conflicts = combined_consensus_with_workerid_df[combined_consensus_with_workerid_df['category'] != combined_consensus_with_workerid_df['consensus_category']]\n",
    "all_worker_counts = combined_results_df['worker_id'].value_counts()\n",
    "bad_worker_counts = worker_conflicts['worker_id'].value_counts()\n",
    "worker_quality_df = pd.DataFrame([all_worker_counts, bad_worker_counts]).T\n",
    "worker_quality_df.columns=['submitted', 'incorrect']\n",
    "worker_quality_df['flaw_ratio'] = worker_quality_df['incorrect']/worker_quality_df['submitted']\n",
    "\n",
    "good_workers = worker_quality_df.sort_values('flaw_ratio', ascending= True).index.tolist()\n",
    "\n",
    "suspect_workers = worker_quality_df.sort_values('flaw_ratio', ascending= False).index.tolist()\n",
    "\n",
    "worker_quality_df.sort_values('flaw_ratio', ascending= True).head(10)"
   ]
  },
  {
   "cell_type": "markdown",
   "metadata": {
    "hidden": true
   },
   "source": [
    "I became concerned that I missed the perfect performers, but as I suspected perfect workers only did 1-2 HITs at most"
   ]
  },
  {
   "cell_type": "code",
   "execution_count": 66,
   "metadata": {
    "collapsed": false,
    "hidden": true,
    "run_control": {
     "frozen": false,
     "read_only": false
    }
   },
   "outputs": [],
   "source": [
    "# aw_set = set(all_worker_counts.index)\n",
    "# bw_set = set(bad_worker_counts.index)\n",
    "# flawless_workers = list(aw_set.difference(bw_set))\n",
    "# all_worker_counts[all_worker_counts.index.isin(best_workers)]"
   ]
  },
  {
   "cell_type": "code",
   "execution_count": 107,
   "metadata": {
    "collapsed": false,
    "hidden": true,
    "run_control": {
     "frozen": false,
     "read_only": false
    }
   },
   "outputs": [],
   "source": [
    "bad_and_prolific_workers = worker_quality_df.sort_values('flaw_ratio', ascending= False).head(25).sort_values('incorrect', ascending= False)"
   ]
  },
  {
   "cell_type": "code",
   "execution_count": 112,
   "metadata": {
    "collapsed": false,
    "hidden": true,
    "run_control": {
     "frozen": false,
     "read_only": false
    }
   },
   "outputs": [],
   "source": [
    "bad_and_prolific_to_review = list(bad_and_prolific_workers[:5].index)"
   ]
  },
  {
   "cell_type": "code",
   "execution_count": 111,
   "metadata": {
    "collapsed": true,
    "hidden": true,
    "run_control": {
     "frozen": false,
     "read_only": false
    }
   },
   "outputs": [
    {
     "data": {
      "text/html": [
       "<div>\n",
       "<table border=\"1\" class=\"dataframe\">\n",
       "  <thead>\n",
       "    <tr style=\"text-align: right;\">\n",
       "      <th></th>\n",
       "      <th>submitted</th>\n",
       "      <th>incorrect</th>\n",
       "      <th>flaw_ratio</th>\n",
       "    </tr>\n",
       "  </thead>\n",
       "  <tbody>\n",
       "    <tr>\n",
       "      <th>A1E56264OK9UN5</th>\n",
       "      <td>1868.0</td>\n",
       "      <td>668.0</td>\n",
       "      <td>0.357602</td>\n",
       "    </tr>\n",
       "    <tr>\n",
       "      <th>A3GNQDFPZALU92</th>\n",
       "      <td>2013.0</td>\n",
       "      <td>285.0</td>\n",
       "      <td>0.141580</td>\n",
       "    </tr>\n",
       "    <tr>\n",
       "      <th>A35IEM9AICHLN0</th>\n",
       "      <td>1238.0</td>\n",
       "      <td>162.0</td>\n",
       "      <td>0.130856</td>\n",
       "    </tr>\n",
       "    <tr>\n",
       "      <th>A3UUH3632AI3ZX</th>\n",
       "      <td>537.0</td>\n",
       "      <td>79.0</td>\n",
       "      <td>0.147114</td>\n",
       "    </tr>\n",
       "    <tr>\n",
       "      <th>A2IJ30JVZYDJ20</th>\n",
       "      <td>82.0</td>\n",
       "      <td>54.0</td>\n",
       "      <td>0.658537</td>\n",
       "    </tr>\n",
       "    <tr>\n",
       "      <th>A24JLI0VZP59WK</th>\n",
       "      <td>156.0</td>\n",
       "      <td>50.0</td>\n",
       "      <td>0.320513</td>\n",
       "    </tr>\n",
       "    <tr>\n",
       "      <th>A4T1X0PO5N1G9</th>\n",
       "      <td>276.0</td>\n",
       "      <td>38.0</td>\n",
       "      <td>0.137681</td>\n",
       "    </tr>\n",
       "    <tr>\n",
       "      <th>A1HBGAN6P9PCJW</th>\n",
       "      <td>67.0</td>\n",
       "      <td>38.0</td>\n",
       "      <td>0.567164</td>\n",
       "    </tr>\n",
       "    <tr>\n",
       "      <th>A31KR6QG24K19O</th>\n",
       "      <td>152.0</td>\n",
       "      <td>26.0</td>\n",
       "      <td>0.171053</td>\n",
       "    </tr>\n",
       "    <tr>\n",
       "      <th>A1GKTC682SWY23</th>\n",
       "      <td>54.0</td>\n",
       "      <td>19.0</td>\n",
       "      <td>0.351852</td>\n",
       "    </tr>\n",
       "    <tr>\n",
       "      <th>A1EAAXINLU31LH</th>\n",
       "      <td>33.0</td>\n",
       "      <td>18.0</td>\n",
       "      <td>0.545455</td>\n",
       "    </tr>\n",
       "    <tr>\n",
       "      <th>A1ZVTAK0GLO959</th>\n",
       "      <td>83.0</td>\n",
       "      <td>17.0</td>\n",
       "      <td>0.204819</td>\n",
       "    </tr>\n",
       "    <tr>\n",
       "      <th>AOXYPOBZSU1C2</th>\n",
       "      <td>90.0</td>\n",
       "      <td>17.0</td>\n",
       "      <td>0.188889</td>\n",
       "    </tr>\n",
       "    <tr>\n",
       "      <th>A31GERKX2SZETD</th>\n",
       "      <td>23.0</td>\n",
       "      <td>15.0</td>\n",
       "      <td>0.652174</td>\n",
       "    </tr>\n",
       "    <tr>\n",
       "      <th>A1XIQNZH1VEFTQ</th>\n",
       "      <td>42.0</td>\n",
       "      <td>14.0</td>\n",
       "      <td>0.333333</td>\n",
       "    </tr>\n",
       "  </tbody>\n",
       "</table>\n",
       "</div>"
      ],
      "text/plain": [
       "                submitted  incorrect  flaw_ratio\n",
       "A1E56264OK9UN5     1868.0      668.0    0.357602\n",
       "A3GNQDFPZALU92     2013.0      285.0    0.141580\n",
       "A35IEM9AICHLN0     1238.0      162.0    0.130856\n",
       "A3UUH3632AI3ZX      537.0       79.0    0.147114\n",
       "A2IJ30JVZYDJ20       82.0       54.0    0.658537\n",
       "A24JLI0VZP59WK      156.0       50.0    0.320513\n",
       "A4T1X0PO5N1G9       276.0       38.0    0.137681\n",
       "A1HBGAN6P9PCJW       67.0       38.0    0.567164\n",
       "A31KR6QG24K19O      152.0       26.0    0.171053\n",
       "A1GKTC682SWY23       54.0       19.0    0.351852\n",
       "A1EAAXINLU31LH       33.0       18.0    0.545455\n",
       "A1ZVTAK0GLO959       83.0       17.0    0.204819\n",
       "AOXYPOBZSU1C2        90.0       17.0    0.188889\n",
       "A31GERKX2SZETD       23.0       15.0    0.652174\n",
       "A1XIQNZH1VEFTQ       42.0       14.0    0.333333"
      ]
     },
     "execution_count": 111,
     "metadata": {},
     "output_type": "execute_result"
    }
   ],
   "source": [
    "bad_and_prolific_workers.head(15)"
   ]
  },
  {
   "cell_type": "code",
   "execution_count": 122,
   "metadata": {
    "collapsed": false,
    "hidden": true,
    "run_control": {
     "frozen": false,
     "read_only": false
    }
   },
   "outputs": [],
   "source": [
    "def reject_bad_assignments(rejected_assignment_ids, rejected_worker_ids):\n",
    "    for assignment in rejected_assignment_ids:\n",
    "        mturk.reject_assignment(assignment)\n",
    "        \n",
    "        rejection_message_subject = \"One of your HITs was rejected\"\n",
    "        \n",
    "        rejection_message = \"\"\"\n",
    "        Your HIT was rejected because it was either incomplete or largely incorrect.\n",
    "        \"\"\"\n",
    "        \n",
    "        mturk.notify_workers(rejected_worker_ids, rejection_message_subject, rejection_message)"
   ]
  },
  {
   "cell_type": "markdown",
   "metadata": {
    "heading_collapsed": true
   },
   "source": [
    "## Messaging workers"
   ]
  },
  {
   "cell_type": "code",
   "execution_count": 889,
   "metadata": {
    "collapsed": true,
    "hidden": true,
    "run_control": {
     "frozen": false,
     "read_only": false
    }
   },
   "outputs": [],
   "source": [
    "subject = \"More science book annotation HITs are available\"\n",
    "message = \"\"\"\n",
    "Hello, \n",
    "\n",
    "If you're receiving this message you were among the top performers on the first group HITs I submitted.\n",
    "I've submitted another group of HITs, with more to follow in the next few days. \n",
    "I've added some additional instructions, and have removed the default instruction page (they can still be accessed by Read\n",
    "Instruction Button).\n",
    "\n",
    "Happy to get any feedback you might have for the new HITs.\n",
    "\"\"\""
   ]
  },
  {
   "cell_type": "code",
   "execution_count": 693,
   "metadata": {
    "collapsed": false,
    "hidden": true,
    "run_control": {
     "frozen": false,
     "read_only": false
    }
   },
   "outputs": [],
   "source": [
    "# _ = mturk.notify_workers(good_workers[:20], subject, message)"
   ]
  },
  {
   "cell_type": "markdown",
   "metadata": {},
   "source": [
    "# HIT end-of-life"
   ]
  },
  {
   "cell_type": "markdown",
   "metadata": {
    "heading_collapsed": true
   },
   "source": [
    "## Pickle latest results"
   ]
  },
  {
   "cell_type": "code",
   "execution_count": 61,
   "metadata": {
    "collapsed": true,
    "hidden": true,
    "run_control": {
     "frozen": false,
     "read_only": false
    }
   },
   "outputs": [],
   "source": [
    "#reset as needed\n",
    "# gn = 1"
   ]
  },
  {
   "cell_type": "code",
   "execution_count": 60,
   "metadata": {
    "collapsed": false,
    "hidden": true,
    "run_control": {
     "frozen": false,
     "read_only": false
    }
   },
   "outputs": [
    {
     "name": "stdout",
     "output_type": "stream",
     "text": [
      "saved HIT batch number 1\n",
      "now onto batch 2\n"
     ]
    }
   ],
   "source": [
    "next_group = gn + 1\n",
    "group_n = '_' + str(gn) + '/'\n",
    "\n",
    "temp_store_dir = './store_hit_results_metadata/question_anno/group'\n",
    "try:\n",
    "    os.mkdir(temp_store_dir + group_n)\n",
    "except:\n",
    "    OSError\n",
    "    \n",
    "result_file_name = 'hit_info.pkl'\n",
    "assignment_file_name = 'assignment_info.pkl'\n",
    "raw_results_file_name = 'raw_res.pkl'\n",
    "complete_results_file = 'complete_df.pkl'\n",
    "consensus_results_file = 'consensus_df.pkl'\n",
    "\n",
    "amt_util.pickle_this(r_hits_current_batch, temp_store_dir + group_n + result_file_name)\n",
    "amt_util.pickle_this(assignment_results_current_batch, temp_store_dir + group_n + assignment_file_name)\n",
    "amt_util.pickle_this(results_df_question_batch, temp_store_dir + group_n + raw_results_file_name)\n",
    "results_df_current_batch.to_pickle(temp_store_dir + group_n + complete_results_file)\n",
    "consensus_results_df_current_batch.to_pickle(temp_store_dir + group_n + consensus_results_file)\n",
    "print 'saved HIT batch number ' + str(gn)\n",
    "print 'now onto batch ' +str(next_group) \n",
    "gn = next_group"
   ]
  },
  {
   "cell_type": "markdown",
   "metadata": {},
   "source": [
    "## Pickle combined dataset"
   ]
  },
  {
   "cell_type": "code",
   "execution_count": 110,
   "metadata": {
    "collapsed": false,
    "run_control": {
     "frozen": false,
     "read_only": false
    }
   },
   "outputs": [],
   "source": [
    "temp_store_dir = './store_hit_results_metadata/question_anno/group'\n",
    "group_n = '_latest_combined/'\n",
    "try:\n",
    "    os.mkdir(temp_store_dir + group_n)\n",
    "except:\n",
    "    OSError\n",
    "    \n",
    "complete_results_file = 'complete_df.pkl'\n",
    "consensus_results_file = 'consensus_df.pkl'\n",
    "consensus_results_file_w_workers = 'consensus_df_w_workers.pkl'\n",
    "\n",
    "combined_results_df.to_pickle(temp_store_dir + group_n + complete_results_file)\n",
    "combined_consensus_df.to_pickle(temp_store_dir + group_n + consensus_results_file)\n",
    "combined_consensus_with_workerid_df.to_pickle(temp_store_dir + group_n + consensus_results_file_w_workers)"
   ]
  },
  {
   "cell_type": "markdown",
   "metadata": {
    "heading_collapsed": true
   },
   "source": [
    "## Accepting and deleting HITs... careful with these"
   ]
  },
  {
   "cell_type": "markdown",
   "metadata": {
    "hidden": true
   },
   "source": [
    "Uncomment only when ready to accept or delete hits"
   ]
  },
  {
   "cell_type": "code",
   "execution_count": 155,
   "metadata": {
    "collapsed": true,
    "hidden": true,
    "run_control": {
     "frozen": false,
     "read_only": false
    }
   },
   "outputs": [],
   "source": [
    "workers_to_ban = bad_and_prolific_workers[:2].index.tolist()"
   ]
  },
  {
   "cell_type": "code",
   "execution_count": 156,
   "metadata": {
    "collapsed": false,
    "hidden": true,
    "run_control": {
     "frozen": false,
     "read_only": false
    }
   },
   "outputs": [
    {
     "data": {
      "text/plain": [
       "[u'A1E56264OK9UN5', u'A3GNQDFPZALU92']"
      ]
     },
     "execution_count": 156,
     "metadata": {},
     "output_type": "execute_result"
    }
   ],
   "source": [
    "workers_to_ban"
   ]
  },
  {
   "cell_type": "code",
   "execution_count": 157,
   "metadata": {
    "collapsed": false,
    "hidden": true,
    "run_control": {
     "frozen": false,
     "read_only": false
    }
   },
   "outputs": [
    {
     "name": "stdout",
     "output_type": "stream",
     "text": [
      "rejecting 132 assignments from 2 workers\n"
     ]
    }
   ],
   "source": [
    "number_rejected_assignments, number_rejected_workers = amt_util.reject_assignments(mturk, workers_to_ban, combined_consensus_with_workerid_df)\n",
    "print 'rejecting ' + str(number_rejected_assignments) + ' assignments' + ' from ' + str(number_rejected_workers) + ' workers'"
   ]
  },
  {
   "cell_type": "code",
   "execution_count": 174,
   "metadata": {
    "collapsed": true,
    "hidden": true,
    "run_control": {
     "frozen": false,
     "read_only": false
    }
   },
   "outputs": [],
   "source": [
    "# assignments_to_accept = []\n",
    "assignment_status = []\n",
    "for hit_id, assignments in assignment_results_after_rejects.items():\n",
    "    for assignment in assignments:\n",
    "        assignment_status.append(assignment.AssignmentStatus)\n",
    "        if assignment.AssignmentStatus == 'Submitted':\n",
    "            assignments_to_accept.append(assignment)\n",
    "status_series = pd.Series(assignment_status)"
   ]
  },
  {
   "cell_type": "code",
   "execution_count": 182,
   "metadata": {
    "collapsed": true,
    "hidden": true,
    "run_control": {
     "frozen": false,
     "read_only": false
    }
   },
   "outputs": [],
   "source": [
    "r_hits_after_rejects = amt_util.get_completed_hits(mturk)"
   ]
  },
  {
   "cell_type": "code",
   "execution_count": 183,
   "metadata": {
    "collapsed": true,
    "hidden": true,
    "run_control": {
     "frozen": false,
     "read_only": false
    }
   },
   "outputs": [],
   "source": [
    "assignment_results_after_rejects = amt_util.get_assignments(mturk, r_hits_after_rejects)"
   ]
  },
  {
   "cell_type": "code",
   "execution_count": 184,
   "metadata": {
    "collapsed": true,
    "hidden": true,
    "run_control": {
     "frozen": false,
     "read_only": false
    }
   },
   "outputs": [],
   "source": [
    "# amt_util.accept_hits(mturk, assignment_results_after_rejects)"
   ]
  },
  {
   "cell_type": "code",
   "execution_count": 31,
   "metadata": {
    "collapsed": false,
    "hidden": true,
    "run_control": {
     "frozen": false,
     "read_only": false
    }
   },
   "outputs": [],
   "source": [
    "# amt_util.delete_all_hits(mturk)"
   ]
  },
  {
   "cell_type": "code",
   "execution_count": null,
   "metadata": {
    "collapsed": true,
    "hidden": true,
    "run_control": {
     "frozen": false,
     "read_only": false
    }
   },
   "outputs": [],
   "source": []
  }
 ],
 "metadata": {
  "kernelspec": {
   "display_name": "Python 2",
   "language": "python",
   "name": "python2"
  },
  "language_info": {
   "codemirror_mode": {
    "name": "ipython",
    "version": 2
   },
   "file_extension": ".py",
   "mimetype": "text/x-python",
   "name": "python",
   "nbconvert_exporter": "python",
   "pygments_lexer": "ipython2",
   "version": "2.7.10"
  }
 },
 "nbformat": 4,
 "nbformat_minor": 0
}
