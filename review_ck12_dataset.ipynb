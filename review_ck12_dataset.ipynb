{
 "cells": [
  {
   "cell_type": "markdown",
   "metadata": {
    "heading_collapsed": true
   },
   "source": [
    "# Table of Contents\n",
    "* [Load data](#Load-data)\n",
    "* [dataset validation](#dataset-validation)\n",
    "* [dataset stats](#dataset-stats)\n",
    "\t* [topic names](#topic-names)\n",
    "\t* [question type dist](#question-type-dist)\n",
    "\t* [looking for missing values](#looking-for-missing-values)\n",
    "* [html rendering](#html-rendering)\n",
    "* [building word corpus](#building-word-corpus)\n",
    "* [End](#End)\n"
   ]
  },
  {
   "cell_type": "code",
   "execution_count": 2,
   "metadata": {
    "collapsed": false,
    "hidden": true,
    "run_control": {
     "frozen": false,
     "read_only": false
    }
   },
   "outputs": [],
   "source": [
    "%%capture\n",
    "import numpy as np\n",
    "import pandas as pd\n",
    "import scipy.stats as st\n",
    "import itertools\n",
    "import math\n",
    "from collections import Counter, defaultdict, OrderedDict\n",
    "%load_ext autoreload\n",
    "%autoreload 2\n",
    "\n",
    "import cv2\n",
    "import pprint\n",
    "import pickle\n",
    "import json\n",
    "import requests\n",
    "import io\n",
    "import sys\n",
    "import os\n",
    "from binascii import b2a_hex\n",
    "import base64\n",
    "from wand.image import Image as WImage\n",
    "from IPython.display import display\n",
    "import PIL.Image as Image\n",
    "from copy import deepcopy\n",
    "import glob\n",
    "\n",
    "from pdfminer.pdfparser import PDFParser\n",
    "from pdfminer.pdfdocument import PDFDocument\n",
    "from pdfminer.pdfpage import PDFPage\n",
    "from pdfminer.layout import LAParams, LTTextBox, LTTextLine, LTFigure, LTImage\n",
    "\n",
    "import nltk\n",
    "import string\n",
    "from nltk.corpus import stopwords\n",
    "from nltk.tokenize import word_tokenize\n",
    "\n",
    "import pdfextraction.ck12_flex_extract as ck_ex\n",
    "from pdfextraction.lesson_viz import display_lesson_html\n",
    "\n",
    "import jsonschema\n",
    "from pdfextraction.ck12_schema import ck12_schema as schema"
   ]
  },
  {
   "cell_type": "code",
   "execution_count": 3,
   "metadata": {
    "collapsed": true,
    "hidden": true,
    "run_control": {
     "frozen": false,
     "read_only": false
    }
   },
   "outputs": [],
   "source": [
    "%%capture\n",
    "import matplotlib as mpl\n",
    "mpl.use(\"Agg\")\n",
    "import matplotlib.pylab as plt\n",
    "#%matplotlib notebook\n",
    "%matplotlib inline\n",
    "%load_ext base16_mplrc\n",
    "%base16_mplrc light default\n",
    "plt.rcParams['figure.figsize'] = (16.0, 10.0)"
   ]
  },
  {
   "cell_type": "markdown",
   "metadata": {
    "heading_collapsed": true
   },
   "source": [
    "# Load data"
   ]
  },
  {
   "cell_type": "markdown",
   "metadata": {
    "hidden": true
   },
   "source": [
    "__pieces from flexbooks and webbsite lessons seperated__"
   ]
  },
  {
   "cell_type": "code",
   "execution_count": 4,
   "metadata": {
    "code_folding": [],
    "collapsed": false,
    "hidden": true,
    "run_control": {
     "frozen": false,
     "read_only": false
    }
   },
   "outputs": [],
   "source": [
    "output_dir = 'output_data_from_nbs/'\n",
    "with open(output_dir + 'ck12_flexbook_only_beta_v3.json', 'r') as f:\n",
    "    flexbook_ds = json.load(f)\n",
    "with open(output_dir + 'ck12_lessons_only_beta_v3.json', 'r') as f:\n",
    "    lessons_ds = json.load(f)"
   ]
  },
  {
   "cell_type": "markdown",
   "metadata": {
    "hidden": true
   },
   "source": [
    "__combined dataset__"
   ]
  },
  {
   "cell_type": "markdown",
   "metadata": {
    "hidden": true
   },
   "source": [
    "load or assemble from new pieces"
   ]
  },
  {
   "cell_type": "code",
   "execution_count": 107,
   "metadata": {
    "collapsed": false,
    "hidden": true,
    "run_control": {
     "frozen": false,
     "read_only": false
    }
   },
   "outputs": [],
   "source": [
    "# ck12_combined_dataset = {k: dict(v, **flexbook_ds[k]) for k, v in lessons_ds.items()}\n",
    "with open(output_dir + 'ck12_dataset_beta_v4.json', 'r') as f:\n",
    "    ck12_combined_dataset = json.load(f)"
   ]
  },
  {
   "cell_type": "markdown",
   "metadata": {
    "heading_collapsed": true
   },
   "source": [
    "# dataset validation"
   ]
  },
  {
   "cell_type": "markdown",
   "metadata": {
    "hidden": true
   },
   "source": [
    "the topographic map lesson is thrown off by a missing diagram\n",
    "\n",
    "The other empty strings seem to nearly all be issues caused by images or other non-plaintext as answers\n",
    "\n",
    "I'll remove these and press on\n",
    "\n",
    "The empty text fields causing the {} is not of type 'string' errors are from quizzes with missing/repeated answer numbers (can't match answer to question)\n",
    "\n",
    "here's the plan- capture path the keys that fail, iterate of ds and remove"
   ]
  },
  {
   "cell_type": "code",
   "execution_count": 74,
   "metadata": {
    "collapsed": false,
    "hidden": true,
    "run_control": {
     "frozen": false,
     "read_only": false
    }
   },
   "outputs": [],
   "source": [
    "ds_assembler = ck_ex.CK12DataSetAssembler()\n",
    "# ds_assembler.validate_dataset(flexbook_ds)"
   ]
  },
  {
   "cell_type": "code",
   "execution_count": 75,
   "metadata": {
    "collapsed": false,
    "hidden": true,
    "run_control": {
     "frozen": false,
     "read_only": false
    },
    "scrolled": true
   },
   "outputs": [
    {
     "name": "stdout",
     "output_type": "stream",
     "text": [
      "u'' is too short\n",
      "deque([u'1.1 The Nature of Science', 'questions', 'nonDiagramQuestions', u'q07', 'answerChoices', u'a', 'processedText'])\n",
      "\n",
      "u'' is too short\n",
      "deque([u'1.1 The Nature of Science', 'questions', 'nonDiagramQuestions', u'q07', 'answerChoices', u'c', 'processedText'])\n",
      "\n",
      "u'' is too short\n",
      "deque([u'1.1 The Nature of Science', 'questions', 'nonDiagramQuestions', u'q07', 'answerChoices', u'b', 'processedText'])\n",
      "\n",
      "u'' is too short\n",
      "deque([u'1.1 The Nature of Science', 'questions', 'nonDiagramQuestions', u'q07', 'answerChoices', u'd', 'processedText'])\n",
      "\n",
      "u'' is too short\n",
      "deque([u'14.1 Introduction to the Oceans', 'questions', 'nonDiagramQuestions', u'q31', 'correctAnswer', 'processedText'])\n",
      "\n",
      "{} is not of type 'string'\n",
      "deque([u'2.1 Introduction to Earths Surface', 'questions', 'nonDiagramQuestions', u'q38', 'correctAnswer', 'rawText'])\n",
      "\n",
      "{} is not of type 'string'\n",
      "deque([u'2.1 Introduction to Earths Surface', 'questions', 'nonDiagramQuestions', u'q38', 'correctAnswer', 'processedText'])\n",
      "\n",
      "{} is not of type 'string'\n",
      "deque([u'21.2 Water Pollution', 'questions', 'nonDiagramQuestions', u'q38', 'correctAnswer', 'rawText'])\n",
      "\n",
      "{} is not of type 'string'\n",
      "deque([u'21.2 Water Pollution', 'questions', 'nonDiagramQuestions', u'q38', 'correctAnswer', 'processedText'])\n",
      "\n",
      "{} is not of type 'string'\n",
      "deque([u'24.1 Planet Earth', 'questions', 'nonDiagramQuestions', u'q41', 'correctAnswer', 'rawText'])\n",
      "\n",
      "{} is not of type 'string'\n",
      "deque([u'24.1 Planet Earth', 'questions', 'nonDiagramQuestions', u'q41', 'correctAnswer', 'processedText'])\n",
      "\n",
      "u'' is too short\n",
      "deque([u'26.3 The Universe', 'questions', 'nonDiagramQuestions', u'q05', 'correctAnswer', 'processedText'])\n",
      "\n",
      "{} is not of type 'string'\n",
      "deque([u'7.4 Staying Safe in Earthquakes', 'questions', 'nonDiagramQuestions', u'q39', 'correctAnswer', 'rawText'])\n",
      "\n",
      "{} is not of type 'string'\n",
      "deque([u'7.4 Staying Safe in Earthquakes', 'questions', 'nonDiagramQuestions', u'q39', 'correctAnswer', 'processedText'])\n",
      "\n",
      "u'' is too short\n",
      "deque([u'1.5 Safety in Life Science Research', 'questions', 'nonDiagramQuestions', u'q28', 'answerChoices', u'd', 'processedText'])\n",
      "\n",
      "u'' is too short\n",
      "deque([u'7.4 History of Life on Earth', 'questions', 'nonDiagramQuestions', u'q27', 'correctAnswer', 'processedText'])\n",
      "\n",
      "u'' is too short\n",
      "deque([u'7.4 History of Life on Earth', 'questions', 'nonDiagramQuestions', u'q28', 'correctAnswer', 'processedText'])\n",
      "\n",
      "'correctAnswer' is a required property\n",
      "deque([u'11.2 Radioactive Decay', 'questions', 'nonDiagramQuestions', u'q32'])\n",
      "\n",
      "u'' is too short\n",
      "deque([u'13.1 What Is Force', 'questions', 'nonDiagramQuestions', u'q07', 'answerChoices', u'a', 'processedText'])\n",
      "\n",
      "u'' is too short\n",
      "deque([u'13.1 What Is Force', 'questions', 'nonDiagramQuestions', u'q07', 'answerChoices', u'c', 'processedText'])\n",
      "\n",
      "u'' is too short\n",
      "deque([u'13.1 What Is Force', 'questions', 'nonDiagramQuestions', u'q07', 'answerChoices', u'b', 'processedText'])\n",
      "\n",
      "u'' is too short\n",
      "deque([u'13.1 What Is Force', 'questions', 'nonDiagramQuestions', u'q07', 'answerChoices', u'd', 'processedText'])\n",
      "\n",
      "u'' is too short\n",
      "deque([u'13.3 Gravity', 'questions', 'nonDiagramQuestions', u'q07', 'correctAnswer', 'processedText'])\n",
      "\n",
      "u'' is too short\n",
      "deque([u'16.2 Machines', 'questions', 'nonDiagramQuestions', u'q15', 'beingAsked', 'processedText'])\n",
      "\n",
      "'correctAnswer' is a required property\n",
      "deque([u'16.2 Machines', 'questions', 'nonDiagramQuestions', u'q18'])\n",
      "\n",
      "u'' is too short\n",
      "deque([u'2.2 Science Skills', 'questions', 'nonDiagramQuestions', u'q14', 'correctAnswer', 'processedText'])\n",
      "\n",
      "u'' is too short\n",
      "deque([u'21.2 Properties of Electromagnetic Waves', 'questions', 'nonDiagramQuestions', u'q07', 'correctAnswer', 'processedText'])\n",
      "\n",
      "u'' is too short\n",
      "deque([u'23.3 Electric Circuits', 'questions', 'nonDiagramQuestions', u'q36', 'answerChoices', u'a', 'processedText'])\n",
      "\n",
      "u'' is too short\n",
      "deque([u'23.3 Electric Circuits', 'questions', 'nonDiagramQuestions', u'q36', 'answerChoices', u'c', 'processedText'])\n",
      "\n",
      "u'' is too short\n",
      "deque([u'23.3 Electric Circuits', 'questions', 'nonDiagramQuestions', u'q36', 'answerChoices', u'b', 'processedText'])\n",
      "\n",
      "u'' is too short\n",
      "deque([u'23.3 Electric Circuits', 'questions', 'nonDiagramQuestions', u'q36', 'answerChoices', u'd', 'processedText'])\n",
      "\n"
     ]
    }
   ],
   "source": [
    "for subject, flexbook in flexbook_ds.items():\n",
    "    validator = jsonschema.Draft4Validator(schema)\n",
    "    for error in sorted(validator.iter_errors(flexbook), key=lambda x: x.absolute_path[0]):\n",
    "        print error.message\n",
    "        print error.absolute_path\n",
    "        print"
   ]
  },
  {
   "cell_type": "markdown",
   "metadata": {},
   "source": [
    "# dataset stats"
   ]
  },
  {
   "cell_type": "markdown",
   "metadata": {},
   "source": [
    "## topic names"
   ]
  },
  {
   "cell_type": "code",
   "execution_count": 17,
   "metadata": {
    "collapsed": false,
    "run_control": {
     "frozen": false,
     "read_only": false
    }
   },
   "outputs": [],
   "source": [
    "es_lesson_names = [item for sublist in [val['topics'].keys() for val in ck12_combined_dataset['earth-science'].values()] for item in sublist]\n",
    "ps_lesson_names = [item for sublist in [val['topics'].keys() for val in ck12_combined_dataset['physical-science'].values()] for item in sublist]\n",
    "ls_lesson_names = [item for sublist in [val['topics'].keys() for val in ck12_combined_dataset['life-science'].values()] for item in sublist]\n",
    "\n",
    "combined_topics = es_lesson_names + ps_lesson_names + ls_lesson_names\n",
    "topic_series = pd.Series(combined_topics).value_counts()\n",
    "# topic_series[:18]\n",
    "# topic_series[18:40]"
   ]
  },
  {
   "cell_type": "code",
   "execution_count": 18,
   "metadata": {
    "collapsed": false,
    "run_control": {
     "frozen": false,
     "read_only": false
    }
   },
   "outputs": [
    {
     "data": {
      "text/plain": [
       "Summary               751\n",
       "Review                748\n",
       "References            703\n",
       "Explore More          483\n",
       "Lesson Summary        250\n",
       "Lesson Objectives     248\n",
       "Points to Consider    246\n",
       "Introduction          246\n",
       "Recall                245\n",
       "Think Critically      243\n",
       "Apply Concepts        243\n",
       "Resources             221\n",
       "Lesson Vocabulary     151\n",
       "Vocabulary            101\n",
       "Explore More II        94\n",
       "Explore More I         93\n",
       "Explore More III       17\n",
       "Photosynthesis          6\n",
       "Climate                 6\n",
       "Proteins                5\n",
       "dtype: int64"
      ]
     },
     "execution_count": 18,
     "metadata": {},
     "output_type": "execute_result"
    }
   ],
   "source": [
    "topic_series[:20]"
   ]
  },
  {
   "cell_type": "code",
   "execution_count": 19,
   "metadata": {
    "collapsed": false,
    "run_control": {
     "frozen": false,
     "read_only": false
    }
   },
   "outputs": [
    {
     "data": {
      "text/plain": [
       "9897"
      ]
     },
     "execution_count": 19,
     "metadata": {},
     "output_type": "execute_result"
    }
   ],
   "source": [
    "len(combined_topics)"
   ]
  },
  {
   "cell_type": "code",
   "execution_count": 15,
   "metadata": {
    "collapsed": false,
    "run_control": {
     "frozen": false,
     "read_only": false
    }
   },
   "outputs": [
    {
     "data": {
      "text/plain": [
       "4074"
      ]
     },
     "execution_count": 15,
     "metadata": {},
     "output_type": "execute_result"
    }
   ],
   "source": [
    "len(topic_series)"
   ]
  },
  {
   "cell_type": "markdown",
   "metadata": {},
   "source": [
    "__earth science topics__"
   ]
  },
  {
   "cell_type": "code",
   "execution_count": 5,
   "metadata": {
    "collapsed": true,
    "run_control": {
     "frozen": false,
     "read_only": false
    }
   },
   "outputs": [
    {
     "data": {
      "text/plain": [
       "[u'1.1 The Nature of Science',\n",
       " u'1.2 Earth Science and Its Branches',\n",
       " u'10.1 Erosion and Deposition by Flowing Water',\n",
       " u'10.2 Erosion and Deposition by Waves',\n",
       " u'10.3 Erosion and Deposition by Wind',\n",
       " u'10.4 Erosion and Deposition by Glaciers',\n",
       " u'10.5 Erosion and Deposition by Gravity',\n",
       " u'11.1 Fossils',\n",
       " u'11.2 Relative Ages of Rocks',\n",
       " u'11.3 Absolute Ages of Rocks',\n",
       " u'12.1 The Origin of Earth',\n",
       " u'12.2 Early Earth',\n",
       " u'12.3 History of Earths Life Forms',\n",
       " u'13.1 Water on Earth',\n",
       " u'13.2 Surface Water',\n",
       " u'13.3 Groundwater',\n",
       " u'14.1 Introduction to the Oceans',\n",
       " u'14.2 Ocean Movements',\n",
       " u'14.3 The Ocean Floor',\n",
       " u'14.4 Ocean Life',\n",
       " u'15.1 The Atmosphere',\n",
       " u'15.2 Energy in the Atmosphere',\n",
       " u'15.3 Layers of the Atmosphere',\n",
       " u'15.4 Air Movement',\n",
       " u'16.1 Weather and Water in the Atmosphere',\n",
       " u'16.2 Changing Weather',\n",
       " u'16.3 Storms',\n",
       " u'16.4 Weather Forecasting',\n",
       " u'17.1 Climate and Its Causes',\n",
       " u'17.2 World Climates',\n",
       " u'17.3 Climate Change',\n",
       " u'18.1 Ecosystems',\n",
       " u'18.2 Cycles of Matter',\n",
       " u'18.3 The Human Population',\n",
       " u'19.1 Loss of Soil',\n",
       " u'19.2 Pollution of the Land',\n",
       " u'2.1 Introduction to Earths Surface',\n",
       " u'2.2 Modeling Earths Surface',\n",
       " u'2.3 Topographic Maps',\n",
       " u'2.4 Using Satellites and Computers',\n",
       " u'20.1 Use and Conservation of Resources',\n",
       " u'20.2 Use and Conservation of Energy',\n",
       " u'21.1 Humans and the Water Supply',\n",
       " u'21.2 Water Pollution',\n",
       " u'21.3 Protecting the Water Supply',\n",
       " u'21st century tsunami',\n",
       " u'22.1 Air Pollution',\n",
       " u'22.2 Effects of Air Pollution',\n",
       " u'22.3 Reducing Air Pollution',\n",
       " u'23.1 Telescopes',\n",
       " u'23.2 Early Space Exploration',\n",
       " u'23.3 Recent Space Exploration',\n",
       " u'24.1 Planet Earth',\n",
       " u'24.2 Earths Moon',\n",
       " u'24.3 The Sun',\n",
       " u'24.4 The Sun and the EarthMoon System',\n",
       " u'25.1 Introduction to the Solar System',\n",
       " u'25.2 Inner Planets',\n",
       " u'25.3 Outer Planets',\n",
       " u'25.4 Other Objects in the Solar System',\n",
       " u'26.1 Stars',\n",
       " u'26.2 Galaxies',\n",
       " u'26.3 The Universe',\n",
       " u'3.1 Minerals',\n",
       " u'3.2 Identification of Minerals',\n",
       " u'3.3 Formation of Minerals',\n",
       " u'3.4 Mining and Using Minerals',\n",
       " u'4.1 Types of Rocks',\n",
       " u'4.2 Igneous Rocks',\n",
       " u'4.3 Sedimentary Rocks',\n",
       " u'4.4 Metamorphic Rocks',\n",
       " u'5.1 Earths Energy',\n",
       " u'5.2 Nonrenewable Energy Resources',\n",
       " u'5.3 Renewable Energy Resources',\n",
       " u'6.1 Inside Earth',\n",
       " u'6.2 Continental Drift',\n",
       " u'6.3 Seafloor Spreading',\n",
       " u'6.4 Theory of Plate Tectonics',\n",
       " u'7.1 Stress in Earths Crust',\n",
       " u'7.2 Nature of Earthquakes',\n",
       " u'7.3 Measuring and Predicting Earthquakes',\n",
       " u'7.4 Staying Safe in Earthquakes',\n",
       " u'8.1 Volcanic Activity',\n",
       " u'8.2 Volcanic Eruptions',\n",
       " u'8.3 Types of Volcanoes',\n",
       " u'8.4 Igneous Landforms and Geothermal Activ',\n",
       " u'9.1 Weathering',\n",
       " u'9.2 Soils',\n",
       " u'acid rain',\n",
       " u'adaptation and evolution of populations',\n",
       " u'age of earth',\n",
       " u'agriculture and human population growth',\n",
       " u'air masses',\n",
       " u'air quality',\n",
       " u'asteroids',\n",
       " u'availability of natural resources',\n",
       " u'avoiding soil loss',\n",
       " u'bathymetric evidence for seafloor spreading',\n",
       " u'big bang',\n",
       " u'biological communities',\n",
       " u'blizzards',\n",
       " u'branches of earth science',\n",
       " u'carbon cycle and climate',\n",
       " u'causes of air pollution',\n",
       " u'cenozoic plate tectonics',\n",
       " u'characteristics and origins of life',\n",
       " u'chemical bonding',\n",
       " u'chemical weathering',\n",
       " u'cleaning up groundwater',\n",
       " u'climate change in earth history',\n",
       " u'climate zones and biomes',\n",
       " u'clouds',\n",
       " u'coal power',\n",
       " u'coastal pollution',\n",
       " u'collecting weather data',\n",
       " u'comets',\n",
       " u'composition of the atmosphere',\n",
       " u'conserving water',\n",
       " u'continental drift',\n",
       " u'coriolis effect',\n",
       " u'correlation using relative ages',\n",
       " u'dark matter',\n",
       " u'deep ocean currents',\n",
       " u'determining relative ages',\n",
       " u'development of hypotheses',\n",
       " u'development of theories',\n",
       " u'distance between stars',\n",
       " u'distribution of water on earth',\n",
       " u'divergent plate boundaries',\n",
       " u'divergent plate boundaries in the oceans',\n",
       " u'dwarf planets',\n",
       " u'early atmosphere and oceans',\n",
       " u'earth history and clues from fossils',\n",
       " u'earthquake characteristics',\n",
       " u'earthquake damage',\n",
       " u'earthquake safe structures',\n",
       " u'earthquake zones',\n",
       " u'earthquakes at convergent plate boundaries',\n",
       " u'earthquakes at transform plate boundaries',\n",
       " u'earths core',\n",
       " u'earths crust',\n",
       " u'earths interior material',\n",
       " u'earths layers',\n",
       " u'earths magnetic field',\n",
       " u'earths mantle',\n",
       " u'earths shape',\n",
       " u'earths tectonic plates',\n",
       " u'eclipses',\n",
       " u'effect of continental position on climate',\n",
       " u'effect of latitude on climate',\n",
       " u'effects of air pollution on human health',\n",
       " u'effects of air pollution on the environment',\n",
       " u'effusive eruptions',\n",
       " u'electromagnetic energy in the atmosphere',\n",
       " u'energy conservation',\n",
       " u'energy from biomass',\n",
       " u'energy use',\n",
       " u'environmental impacts of mining',\n",
       " u'evolution of simple cells',\n",
       " u'evolution plate tectonics and climate change',\n",
       " u'exoplanets',\n",
       " u'expansion of the universe',\n",
       " u'explosive eruptions',\n",
       " u'extinction and radiation of life',\n",
       " u'faults',\n",
       " u'finding and mining ores',\n",
       " u'flooding',\n",
       " u'flow of matter in ecosystems',\n",
       " u'folds',\n",
       " u'formation of earth',\n",
       " u'formation of the moon',\n",
       " u'formation of the sun and planets',\n",
       " u'fossil fuel formation',\n",
       " u'fossil fuel reserves',\n",
       " u'fresh water ecosystems',\n",
       " u'galaxies',\n",
       " u'geologic time scale',\n",
       " u'geological stresses',\n",
       " u'geothermal power',\n",
       " u'glaciers',\n",
       " u'global warming',\n",
       " u'global wind belts',\n",
       " u'gravity in the solar system',\n",
       " u'greenhouse effect',\n",
       " u'groundwater aquifers',\n",
       " u'groundwater depletion',\n",
       " u'groundwater pollution',\n",
       " u'growth of human populations',\n",
       " u'hazardous waste',\n",
       " u'heat budget of planet earth',\n",
       " u'heat transfer in the atmosphere',\n",
       " u'heat waves and droughts',\n",
       " u'history of cenozoic life',\n",
       " u'history of mesozoic life',\n",
       " u'history of paleozoic life',\n",
       " u'hot springs and geysers',\n",
       " u'how fossilization creates fossils',\n",
       " u'how ocean currents moderate climate',\n",
       " u'human evolution',\n",
       " u'hurricanes',\n",
       " u'igneous rocks',\n",
       " u'impact of continued global warming',\n",
       " u'impacts of hazardous waste',\n",
       " u'importance of the atmosphere',\n",
       " u'importance of the oceans',\n",
       " u'influences on weathering',\n",
       " u'inner vs. outer planets',\n",
       " u'interior of the sun',\n",
       " u'intraplate activity',\n",
       " u'intraplate earthquakes',\n",
       " u'introduction to groundwater',\n",
       " u'intrusive and extrusive igneous rocks',\n",
       " u'jupiter',\n",
       " u'landforms from erosion and deposition by gravity',\n",
       " u'landforms from glacial erosion and deposition',\n",
       " u'landforms from groundwater erosion and deposition',\n",
       " u'lithification of sedimentary rocks',\n",
       " u'lithosphere and asthenosphere',\n",
       " u'local winds',\n",
       " u'locating earthquake epicenters',\n",
       " u'location and direction',\n",
       " u'long term climate change',\n",
       " u'magma composition at volcanoes',\n",
       " u'magnetic evidence for seafloor spreading',\n",
       " u'magnetic polarity evidence for continental drift',\n",
       " u'maps',\n",
       " u'mars',\n",
       " u'materials humans use',\n",
       " u'measuring earthquake magnitude',\n",
       " u'mechanical weathering',\n",
       " u'mercury',\n",
       " u'mercury pollution',\n",
       " u'mesosphere',\n",
       " u'mesozoic plate tectonics',\n",
       " u'metabolism and replication',\n",
       " u'metamorphic rock classification',\n",
       " u'metamorphic rocks',\n",
       " u'meteors',\n",
       " u'mid latitude cyclones',\n",
       " u'milky way',\n",
       " u'mineral formation',\n",
       " u'mineral groups',\n",
       " u'mineral identification',\n",
       " u'minerals',\n",
       " u'modern biodiversity',\n",
       " u'moon',\n",
       " u'mountain building',\n",
       " u'natural gas power',\n",
       " u'natural resource conservation',\n",
       " u'neptune',\n",
       " u'nitrogen cycle in ecosystems',\n",
       " u'non renewable energy resources',\n",
       " u'nuclear power',\n",
       " u'observations and experiments',\n",
       " u'obtaining energy resources',\n",
       " u'ocean ecosystems',\n",
       " u'ocean garbage patch',\n",
       " u'ocean zones',\n",
       " u'oil spills',\n",
       " u'overpopulation and over consumption',\n",
       " u'ozone depletion',\n",
       " u'paleozoic and mesozoic seas',\n",
       " u'paleozoic plate tectonics',\n",
       " u'petroleum power',\n",
       " u'planet orbits in the solar system',\n",
       " u'planets of the solar system',\n",
       " u'plate tectonics through earth history',\n",
       " u'ponds and lakes',\n",
       " u'population size',\n",
       " u'precambrian continents',\n",
       " u'precambrian plate tectonics',\n",
       " u'precipitation',\n",
       " u'predicting earthquakes',\n",
       " u'predicting volcanic eruptions',\n",
       " u'predicting weather',\n",
       " u'pressure and density of the atmosphere',\n",
       " u'preventing hazardous waste problems',\n",
       " u'principle of horizontality',\n",
       " u'principle of uniformitarianism',\n",
       " u'principles of relative dating',\n",
       " u'processes of the water cycle',\n",
       " u'protecting water from pollution',\n",
       " u'radioactive decay as a measure of age',\n",
       " u'radiometric dating',\n",
       " u'reducing air pollution',\n",
       " u'reducing ozone destruction',\n",
       " u'revolutions of earth',\n",
       " u'rocks',\n",
       " u'rocks and processes of the rock cycle',\n",
       " u'roles in an ecosystem',\n",
       " u'rotation of earth',\n",
       " u'safety of water',\n",
       " u'satellites shuttles and space stations',\n",
       " u'saturn',\n",
       " u'scales that represent earthquake magnitude',\n",
       " u'scientific community',\n",
       " u'scientific explanations and interpretations',\n",
       " u'scientific method',\n",
       " u'scientific models',\n",
       " u'seafloor spreading hypothesis',\n",
       " u'seasons',\n",
       " u'seawater chemistry',\n",
       " u'sedimentary rock classification',\n",
       " u'sedimentary rocks',\n",
       " u'seismic waves',\n",
       " u'short term climate change',\n",
       " u'soil characteristics',\n",
       " u'soil erosion',\n",
       " u'soil formation',\n",
       " u'soil horizons and profiles',\n",
       " u'solar energy on earth',\n",
       " u'solar power',\n",
       " u'star classification',\n",
       " u'star constellations',\n",
       " u'star power',\n",
       " u'states of water',\n",
       " u'staying safe in an earthquake',\n",
       " u'stratosphere',\n",
       " u'streams and rivers',\n",
       " u'supervolcanoes',\n",
       " u'surface features of the sun',\n",
       " u'surface ocean currents',\n",
       " u'sustainable development',\n",
       " u'temperature and heat in the atmosphere',\n",
       " u'temperature of the atmosphere',\n",
       " u'testing hypotheses',\n",
       " u'the hertzsprung russell diagra',\n",
       " u'the history of astronom',\n",
       " u'thermosphere and beyond',\n",
       " u'thunderstorms',\n",
       " u'tides',\n",
       " u'tornadoes',\n",
       " u'transform plate boundaries',\n",
       " u'tree rings ice cores and varves',\n",
       " u'troposphere',\n",
       " u'tsunami',\n",
       " u'types of air pollution',\n",
       " u'types of fossilization',\n",
       " u'types of marine organisms',\n",
       " u'types of soils',\n",
       " u'types of volcanoes',\n",
       " u'universe',\n",
       " u'uranus',\n",
       " u'uses of water',\n",
       " u'venus',\n",
       " u'volcanic landforms',\n",
       " u'volcano characteristics',\n",
       " u'volcanoes at hotspots',\n",
       " u'volcanoes at plate boundaries',\n",
       " u'water distribution',\n",
       " u'water pollution',\n",
       " u'weather fronts',\n",
       " u'weather maps',\n",
       " u'weather versus climate',\n",
       " u'weathering and erosion',\n",
       " u'wegener and the continental drift hypothesis',\n",
       " u'wind power',\n",
       " u'wind waves']"
      ]
     },
     "execution_count": 5,
     "metadata": {},
     "output_type": "execute_result"
    }
   ],
   "source": [
    "sorted(ck12_combined_dataset['earth-science'].keys())"
   ]
  },
  {
   "cell_type": "markdown",
   "metadata": {},
   "source": [
    "__life science topics__"
   ]
  },
  {
   "cell_type": "code",
   "execution_count": 27,
   "metadata": {
    "collapsed": true,
    "run_control": {
     "frozen": false,
     "read_only": false
    }
   },
   "outputs": [
    {
     "data": {
      "text/plain": [
       "[u'1.1 Scientific Ways of Thinking',\n",
       " u'1.2 What Is Life Science',\n",
       " u'1.3 The Scientific Method',\n",
       " u'1.4 The Microscope',\n",
       " u'1.5 Safety in Life Science Research',\n",
       " u'10.1 Introduction to Plants',\n",
       " u'10.2 Evolution and Classification of Plants',\n",
       " u'10.3 Plant Responses and Special Adaptations',\n",
       " u'11.1 What Are Animals',\n",
       " u'11.2 How Animals Evolved',\n",
       " u'12.1 Sponges and Cnidarians',\n",
       " u'12.2 Flatworms and Roundworms',\n",
       " u'12.3 Mollusks and Annelids',\n",
       " u'12.4 Insects and Other Arthropods',\n",
       " u'12.5 Echinoderms and Invertebrate Chordates',\n",
       " u'13.1 Introduction to Vertebrates',\n",
       " u'13.2 Fish',\n",
       " u'13.3 Amphibians',\n",
       " u'13.4 Reptiles',\n",
       " u'14.1 Birds',\n",
       " u'14.2 Mammals',\n",
       " u'14.3 Primates',\n",
       " u'15.1 Understanding Animal Behavior',\n",
       " u'15.2 Types of Animal Behavior',\n",
       " u'16.1 Introduction to the Human Body',\n",
       " u'16.2 The Integumentary System',\n",
       " u'16.3 The Skeletal System',\n",
       " u'16.4 The Muscular System',\n",
       " u'17.1 Food and Nutrients',\n",
       " u'17.2 Choosing Healthy Foods',\n",
       " u'17.3 The Digestive System',\n",
       " u'18.1 Overview of the Cardiovascular System',\n",
       " u'18.2 Heart and Blood Vessels',\n",
       " u'18.3 Blood',\n",
       " u'19.1 The Respiratory System',\n",
       " u'19.2 The Excretory System',\n",
       " u'2.1 Characteristics of Living Organisms',\n",
       " u'2.2 Chemistry of Living Things',\n",
       " u'2.3 Classification of Living Things',\n",
       " u'20.1 The Nervous System',\n",
       " u'20.2 The Senses',\n",
       " u'20.3 The Endocrine System',\n",
       " u'21.1 Infectious Diseases',\n",
       " u'21.2 Noninfectious Diseases',\n",
       " u'21.3 First Two Lines of Defense',\n",
       " u'21.4 Immune System Defenses',\n",
       " u'22.1 Male Reproductive System',\n",
       " u'22.2 Female Reproductive System',\n",
       " u'22.3 Reproduction and Life Stages',\n",
       " u'22.4 Reproductive System Health',\n",
       " u'23.1 What Is Ecology',\n",
       " u'23.2 Populations',\n",
       " u'23.3 Communities',\n",
       " u'23.4 Ecosystems',\n",
       " u'23.5 Biomes',\n",
       " u'24.1 Flow of Energy',\n",
       " u'24.2 Cycles of Matter',\n",
       " u'24.3 Ecosystem Change',\n",
       " u'25.1 Air Pollution',\n",
       " u'25.2 Water Pollution',\n",
       " u'25.3 Natural Resources',\n",
       " u'25.4 Biodiversity and Extinction',\n",
       " u'3.1 Lifes Building Blocks',\n",
       " u'3.2 Cell Structures',\n",
       " u'4.1 Transport',\n",
       " u'4.2 Photosynthesis',\n",
       " u'4.3 Cellular Respiration',\n",
       " u'5.1 Cell Division',\n",
       " u'5.2 Reproduction',\n",
       " u'5.3 Protein Synthesis',\n",
       " u'6.1 Mendels Discoveries',\n",
       " u'6.2 Introduction to Genetics',\n",
       " u'6.3 Advances in Genetics',\n",
       " u'7.1 Darwins Theory of Evolution',\n",
       " u'7.2 Evidence for Evolution',\n",
       " u'7.3 The Scale of Evolution',\n",
       " u'7.4 History of Life on Earth',\n",
       " u'8.1 Introduction to Prokaryotes',\n",
       " u'8.2 Bacteria',\n",
       " u'8.3 Archaea',\n",
       " u'9.1 Protists',\n",
       " u'9.2 Fungi',\n",
       " u'active transport',\n",
       " u'adulthood and aging',\n",
       " u'alligators and crocodiles',\n",
       " u'amphibians',\n",
       " u'angiosperms',\n",
       " u'animal behaviors',\n",
       " u'animal communication',\n",
       " u'animal like protists',\n",
       " u'aquatic biomes',\n",
       " u'arachnids',\n",
       " u'archaea',\n",
       " u'arthropods',\n",
       " u'asexual vs. sexual reproduction',\n",
       " u'autoimmune diseases',\n",
       " u'b and t cell response',\n",
       " u'bacteria characteristics',\n",
       " u'bacteria in the digestive system',\n",
       " u'bacteria nutrition',\n",
       " u'bacteria reproduction',\n",
       " u'barriers to pathogens',\n",
       " u'basic and applied science',\n",
       " u'biotechnology in agriculture',\n",
       " u'bird reproduction',\n",
       " u'birds',\n",
       " u'blood diseases',\n",
       " u'blood pressure',\n",
       " u'blood types',\n",
       " u'blood vessels',\n",
       " u'bony fish',\n",
       " u'cancer',\n",
       " u'cardiovascular diseases',\n",
       " u'cardiovascular system',\n",
       " u'cardiovascular system health',\n",
       " u'cartilaginous fish',\n",
       " u'cell biology',\n",
       " u'cell cycle',\n",
       " u'cell division',\n",
       " u'cell membrane',\n",
       " u'cell nucleus',\n",
       " u'cell transport',\n",
       " u'cellular respiration',\n",
       " u'centipedes and millipedes',\n",
       " u'central nervous system',\n",
       " u'characteristics of life',\n",
       " u'chemistry of life',\n",
       " u'choosing healthy foods',\n",
       " u'chordates',\n",
       " u'chromosomal disorders',\n",
       " u'circulation and the lymphatic system',\n",
       " u'cloning',\n",
       " u'cnidarians',\n",
       " u'competition',\n",
       " u'components of blood',\n",
       " u'connecting cellular respiration and photosynthesis',\n",
       " u'consumers and decomposers',\n",
       " u'control of insects',\n",
       " u'crustaceans',\n",
       " u'cyclic behavior of animals',\n",
       " u'diabetes',\n",
       " u'diffusion',\n",
       " u'digestive system organs',\n",
       " u'diseases of the nervous system',\n",
       " u'diversity of birds',\n",
       " u'dna structure and replication',\n",
       " u'dna the genetic material',\n",
       " u'domains of life',\n",
       " u'echinoderms',\n",
       " u'ecosystems',\n",
       " u'effects of water pollution',\n",
       " u'energy pyramids',\n",
       " u'enzymes in the digestive system',\n",
       " u'evolution acts on the phenotype',\n",
       " u'excretion',\n",
       " u'excretory system problems',\n",
       " u'features of populations',\n",
       " u'female reproductive structures',\n",
       " u'female reproductive system',\n",
       " u'fermentation',\n",
       " u'fertilization',\n",
       " u'fields in the life sciences',\n",
       " u'fish',\n",
       " u'flatworms',\n",
       " u'food and nutrients',\n",
       " u'food webs',\n",
       " u'fossils',\n",
       " u'frogs and toads',\n",
       " u'fungi',\n",
       " u'fungi classification',\n",
       " u'fungi reproduction',\n",
       " u'fungi structure',\n",
       " u'fungus like protists',\n",
       " u'gene therapy',\n",
       " u'genetic disorders',\n",
       " u'gymnosperms',\n",
       " u'habitat and niche',\n",
       " u'habitat destruction',\n",
       " u'hardy weinberg theorem',\n",
       " u'harmful bacteria',\n",
       " u'health hazards of air pollution',\n",
       " u'health of the digestive system',\n",
       " u'hearing and balance',\n",
       " u'heart',\n",
       " u'helpful bacteria',\n",
       " u'hiv and aids',\n",
       " u'homeostasis',\n",
       " u'how the eye works',\n",
       " u'human causes of extinction',\n",
       " u'human digestive system',\n",
       " u'human egg cells',\n",
       " u'human genome project',\n",
       " u'human population',\n",
       " u'human skeletal system',\n",
       " u'human sperm',\n",
       " u'human uses of fungi',\n",
       " u'human vision',\n",
       " u'humans and primates',\n",
       " u'immunity',\n",
       " u'importance of arthropods',\n",
       " u'importance of biodiversity',\n",
       " u'importance of birds',\n",
       " u'importance of echinoderms',\n",
       " u'importance of insects',\n",
       " u'importance of mammals',\n",
       " u'importance of mollusks',\n",
       " u'importance of protists',\n",
       " u'importance of reptiles',\n",
       " u'importance of seedless plants',\n",
       " u'indoor air pollution',\n",
       " u'infancy and childhood',\n",
       " u'inflammatory response',\n",
       " u'influences on darwin',\n",
       " u'injuries of the nervous system',\n",
       " u'innate behavior of animals',\n",
       " u'insect food',\n",
       " u'insect reproduction and life cycle',\n",
       " u'insects',\n",
       " u'introduction to ecology',\n",
       " u'invertebrates',\n",
       " u'jawless fish',\n",
       " u'keeping bones and joints healthy',\n",
       " u'keeping skin healthy',\n",
       " u'keeping the nervous system healthy',\n",
       " u'kidneys',\n",
       " u'learned behavior of animals',\n",
       " u'levels of ecological organization',\n",
       " u'light reactions of photosynthesis',\n",
       " u'limiting factors to population growth',\n",
       " u'lizards and snakes',\n",
       " u'lymphatic system',\n",
       " u'male reproductive structures',\n",
       " u'male reproductive system',\n",
       " u'mammal characteristics',\n",
       " u'mammal classification',\n",
       " u'mammal reproduction',\n",
       " u'mass extinctions',\n",
       " u'meiosis',\n",
       " u'mendels laws and genetics',\n",
       " u'mendels pea plants',\n",
       " u'menstrual cycle',\n",
       " u'microevolution and macroevolution',\n",
       " u'microscopes',\n",
       " u'mitosis and cytokinesis',\n",
       " u'mitosis vs. meiosis',\n",
       " u'modern genetics',\n",
       " u'molecular evidence for evolution',\n",
       " u'mollusks',\n",
       " u'muscles and exercise',\n",
       " u'muscles bones and movement',\n",
       " u'mutations',\n",
       " u'nails and hair',\n",
       " u'natural selection',\n",
       " u'nerve cells and nerve impulses',\n",
       " u'nervous system',\n",
       " u'non infectious reproductive system disorders',\n",
       " u'non mendelian inheritance',\n",
       " u'nonrenewable resources',\n",
       " u'nonvascular plants',\n",
       " u'organelles',\n",
       " u'organic compounds',\n",
       " u'organization of living things',\n",
       " u'organization of the human body',\n",
       " u'origin of species',\n",
       " u'origins of life',\n",
       " u'outdoor air pollution',\n",
       " u'passive transport',\n",
       " u'pathogens',\n",
       " u'pedigree analysis',\n",
       " u'peripheral nervous system',\n",
       " u'photosynthesis',\n",
       " u'plant cell structures',\n",
       " u'plant characteristics',\n",
       " u'plant classification',\n",
       " u'plant hormones',\n",
       " u'plant like protists',\n",
       " u'plant reproduction and life cycle',\n",
       " u'plants adaptations for life on land',\n",
       " u'polygenic traits',\n",
       " u'population growth patterns',\n",
       " u'predation',\n",
       " u'pregnancy and childbirth',\n",
       " u'preserving water sources',\n",
       " u'preventing infectious diseases',\n",
       " u'preventing noninfectious diseases',\n",
       " u'primates',\n",
       " u'process of cellular respiration',\n",
       " u'processes of breathing',\n",
       " u'producers',\n",
       " u'prokaryotic and eukaryotic cells',\n",
       " u'protein synthesis and gene expression',\n",
       " u'protist characteristics',\n",
       " u'protists nutrition',\n",
       " u'puberty and adolescence',\n",
       " u'punnett squares',\n",
       " u'recombinant dna',\n",
       " u'reduce reuse and recycle',\n",
       " u'renewable resources and alternative energy sources',\n",
       " u'reproduction in seedless plants',\n",
       " u'reproductive behavior of animals',\n",
       " u'reproductive system health',\n",
       " u'reptiles',\n",
       " u'respiration',\n",
       " u'respiratory system diseases',\n",
       " u'respiratory system health',\n",
       " u'respiratory system organs',\n",
       " u'rna',\n",
       " u'role of amphibians',\n",
       " u'roundworms',\n",
       " u'safety in the life sciences',\n",
       " u'salamanders',\n",
       " u'scientific investigation',\n",
       " u'scientific theories',\n",
       " u'scientific ways of thinking',\n",
       " u'seasonal changes in plants',\n",
       " u'seeds and seed dispersal',\n",
       " u'segmented worms',\n",
       " u'sex linked inheritance',\n",
       " u'sexually transmitted infections',\n",
       " u'skeletal system joints',\n",
       " u'skin',\n",
       " u'smooth skeletal and cardiac muscles',\n",
       " u'social behavior of animals',\n",
       " u'sources of water pollution',\n",
       " u'sponges',\n",
       " u'structural evidence for evolution',\n",
       " u'succession',\n",
       " u'symbiosis',\n",
       " u'symbiotic relationships of fungi',\n",
       " u'taste and smell',\n",
       " u'terrestrial biomes',\n",
       " u'the biosphere',\n",
       " u'the carbon cycle',\n",
       " u'the nitrogen cycle',\n",
       " u'the water cycle',\n",
       " u'timeline of evolution',\n",
       " u'touch',\n",
       " u'tracing evolution',\n",
       " u'transcription of dna to rna',\n",
       " u'translation of rna to protein',\n",
       " u'tropisms',\n",
       " u'turtles',\n",
       " u'types of archaea',\n",
       " u'types of echinoderms',\n",
       " u'types of mollusks',\n",
       " u'types of nutrients',\n",
       " u'urinary system',\n",
       " u'vascular seedless plants',\n",
       " u'vertebrate characteristics',\n",
       " u'viruses',\n",
       " u'vision correction',\n",
       " u'vitamins and minerals',\n",
       " u'what are biomes']"
      ]
     },
     "execution_count": 27,
     "metadata": {},
     "output_type": "execute_result"
    }
   ],
   "source": [
    "sorted(ck12_combined_dataset['life-science'].keys())"
   ]
  },
  {
   "cell_type": "markdown",
   "metadata": {},
   "source": [
    "__physical science topics__"
   ]
  },
  {
   "cell_type": "code",
   "execution_count": 26,
   "metadata": {
    "collapsed": true,
    "run_control": {
     "frozen": false,
     "read_only": false
    }
   },
   "outputs": [
    {
     "data": {
      "text/plain": [
       "[u'1.1 What Is Science',\n",
       " u'1.2 The Scope of Physical Science',\n",
       " u'10.1 Introduction to Solutions',\n",
       " u'10.2 Solubility and Concentration',\n",
       " u'10.3 Acids and Bases',\n",
       " u'11.1 Radioactivity',\n",
       " u'11.2 Radioactive Decay',\n",
       " u'11.3 Nuclear Energy',\n",
       " u'12.1 Distance and Direction',\n",
       " u'12.2 Speed and Velocity',\n",
       " u'12.3 Acceleration',\n",
       " u'13.1 What Is Force',\n",
       " u'13.2 Friction',\n",
       " u'13.3 Gravity',\n",
       " u'13.4 Elastic Force',\n",
       " u'14.1 Newtons First Law',\n",
       " u'14.2 Newtons Second Law',\n",
       " u'14.3 Newtons Third Law',\n",
       " u'15.1 Pressure of Fluids',\n",
       " u'15.2 Buoyancy of Fluids',\n",
       " u'16.1 Work',\n",
       " u'16.2 Machines',\n",
       " u'16.3 Simple Machines',\n",
       " u'16.4 Compound Machines',\n",
       " u'17.1 Types of Energy',\n",
       " u'17.2 Forms of Energy',\n",
       " u'17.3 Energy Resources',\n",
       " u'18.1 Temperature and Heat',\n",
       " u'18.2 Transfer of Thermal Energy',\n",
       " u'18.3 Using Thermal Energy',\n",
       " u'19.1 Characteristics of Waves',\n",
       " u'19.2 Measuring Waves',\n",
       " u'19.3 Wave Interactions and Interference',\n",
       " u'2.1 Scientific Investigation',\n",
       " u'2.2 Science Skills',\n",
       " u'2.3 Technology',\n",
       " u'20.1 Characteristics of Sound',\n",
       " u'20.2 Hearing Sound',\n",
       " u'20.3 Using Sound',\n",
       " u'21.1 Electromagnetic Waves',\n",
       " u'21.2 Properties of Electromagnetic Waves',\n",
       " u'21.3 The Electromagnetic Spectrum',\n",
       " u'22.1 The Light We See',\n",
       " u'22.2 Optics',\n",
       " u'22.3 Vision',\n",
       " u'23.1 Electric Charge',\n",
       " u'23.2 Electric Current',\n",
       " u'23.3 Electric Circuits',\n",
       " u'23.4 Electronics',\n",
       " u'24.1 Magnets and Magnetism',\n",
       " u'24.2 Earth as a Magnet',\n",
       " u'25.1 Electricity and Magnetism',\n",
       " u'25.2 Using Electromagnetism',\n",
       " u'25.3 Generating and Using Electricity',\n",
       " u'3.1 Properties of Matter',\n",
       " u'3.2 Types of Matter',\n",
       " u'3.3 Changes in Matter',\n",
       " u'4.1 Solids Liquids Gases and Plasmas',\n",
       " u'4.2 Behavior of Gases',\n",
       " u'4.3 Changes of State',\n",
       " u'5.1 Inside the Atom',\n",
       " u'5.2 History of the Atom',\n",
       " u'5.3 Modern Atomic Theory',\n",
       " u'6.1 How Elements Are Organized',\n",
       " u'6.2 Classes of Elements',\n",
       " u'6.3 Groups of Elements',\n",
       " u'7.1 Introduction to Chemical Bonds',\n",
       " u'7.2 Ionic Bonds',\n",
       " u'7.3 Covalent Bonds',\n",
       " u'7.4 Metallic Bonds',\n",
       " u'8.1 Introduction to Chemical Reactions',\n",
       " u'8.2 Chemical Equations',\n",
       " u'8.3 Types of Chemical Reactions',\n",
       " u'8.4 Chemical Reactions and Energy',\n",
       " u'9.1 Properties of Carbon',\n",
       " u'9.2 Hydrocarbons',\n",
       " u'9.3 Carbon and Living Things',\n",
       " u'9.4 Biochemical Reactions',\n",
       " u'acceleration',\n",
       " u'acceleration due to gravity',\n",
       " u'accuracy and precision',\n",
       " u'acid base neutralization',\n",
       " u'activation energy',\n",
       " u'air pressure and altitude',\n",
       " u'alkaline earth metals',\n",
       " u'alloys',\n",
       " u'alpha decay',\n",
       " u'amontonss law',\n",
       " u'archimedes law',\n",
       " u'artificial light',\n",
       " u'atomic forces',\n",
       " u'atomic nucleus',\n",
       " u'atomic number',\n",
       " u'atoms',\n",
       " u'balancing chemical equations',\n",
       " u'bernoullis law',\n",
       " u'beta decay',\n",
       " u'biochemical compound classification',\n",
       " u'biochemical reaction chemistry',\n",
       " u'bohrs atomic model',\n",
       " u'boiling',\n",
       " u'bond polarity',\n",
       " u'boyles law',\n",
       " u'buoyancy',\n",
       " u'calculating acceleration from force and mass',\n",
       " u'calculating acceleration from velocity and time',\n",
       " u'calculating derived quantities',\n",
       " u'calculating work',\n",
       " u'carbohydrate classification',\n",
       " u'carbon bonding',\n",
       " u'carbon monomers and polymers',\n",
       " u'catalysts',\n",
       " u'cellular respiration reactions',\n",
       " u'changes of state',\n",
       " u'charless law',\n",
       " u'chemical and solar cells',\n",
       " u'chemical bond',\n",
       " u'chemical change',\n",
       " u'chemical equations',\n",
       " u'chemical formula',\n",
       " u'chemical properties of matter',\n",
       " u'chemical reaction overview',\n",
       " u'chemical reaction rate',\n",
       " u'chemistry of compounds',\n",
       " u'color',\n",
       " u'combining forces',\n",
       " u'combustion reactions',\n",
       " u'communication in science',\n",
       " u'compound machine',\n",
       " u'compounds',\n",
       " u'condensation',\n",
       " u'conservation of energy in chemical reactions',\n",
       " u'conservation of mass',\n",
       " u'conservation of mass and energy in nuclear reactions',\n",
       " u'conservation of mass in chemical reactions',\n",
       " u'convection',\n",
       " u'cooling systems',\n",
       " u'covalent bonding',\n",
       " u'crystalline carbon',\n",
       " u'daltons atomic theory',\n",
       " u'dangers and uses of radiation',\n",
       " u'decomposition reactions',\n",
       " u'democrituss idea of the atom',\n",
       " u'density',\n",
       " u'deposition',\n",
       " u'descriptive statistics',\n",
       " u'direct and alternating current',\n",
       " u'direction',\n",
       " u'discovery of electromagnetism',\n",
       " u'distance',\n",
       " u'doppler effect',\n",
       " u'earth as a magnet',\n",
       " u'efficiency',\n",
       " u'einsteins concept of gravity',\n",
       " u'elastic force',\n",
       " u'electric charge and electric force',\n",
       " u'electric circuits',\n",
       " u'electric conductors and insulators',\n",
       " u'electric current',\n",
       " u'electric fields',\n",
       " u'electric generators',\n",
       " u'electric power and electrical energy use',\n",
       " u'electric resistance',\n",
       " u'electric safety',\n",
       " u'electric transformers',\n",
       " u'electrical grid',\n",
       " u'electromagnet',\n",
       " u'electromagnetic devices',\n",
       " u'electromagnetic induction',\n",
       " u'electromagnetic spectrum',\n",
       " u'electromagnetic waves',\n",
       " u'electromagnetism',\n",
       " u'electron cloud atomic model',\n",
       " u'electronic component',\n",
       " u'electronic device',\n",
       " u'electronic signal',\n",
       " u'electrons',\n",
       " u'elements',\n",
       " u'endothermic reactions',\n",
       " u'energy',\n",
       " u'energy conversion',\n",
       " u'energy level',\n",
       " u'enzymes as catalysts',\n",
       " u'ethics in science',\n",
       " u'evaporation',\n",
       " u'exothermic reactions',\n",
       " u'external combustion engines',\n",
       " u'ferromagnetic material',\n",
       " u'field study',\n",
       " u'force',\n",
       " u'forms of energy',\n",
       " u'freezing',\n",
       " u'frequency and pitch of sound',\n",
       " u'friction',\n",
       " u'fundamental particles',\n",
       " u'gamma decay',\n",
       " u'gamma rays',\n",
       " u'gases',\n",
       " u'gravity',\n",
       " u'groups with metalloids',\n",
       " u'halogens',\n",
       " u'hearing and the ear',\n",
       " u'hearing loss',\n",
       " u'heat',\n",
       " u'heat conduction',\n",
       " u'heating systems',\n",
       " u'history of science',\n",
       " u'hydrocarbons',\n",
       " u'hydrogen and alkali metals',\n",
       " u'hydrogen bonding',\n",
       " u'hypothesis',\n",
       " u'inclined plane',\n",
       " u'inertia',\n",
       " u'intensity and loudness of sound',\n",
       " u'internal combustion engines',\n",
       " u'international system of units',\n",
       " u'ionic bonding',\n",
       " u'ionic compounds',\n",
       " u'ions',\n",
       " u'isomers',\n",
       " u'isotopes',\n",
       " u'kinetic energy',\n",
       " u'kinetic theory of matter',\n",
       " u'law of conservation of momentum',\n",
       " u'law of reflection',\n",
       " u'lens',\n",
       " u'lever',\n",
       " u'light',\n",
       " u'lipid classification',\n",
       " u'liquids',\n",
       " u'longitudinal wave',\n",
       " u'magnetic field reversal',\n",
       " u'magnets',\n",
       " u'matter mass and volume',\n",
       " u'mechanical advantage',\n",
       " u'mechanical wave',\n",
       " u'melting',\n",
       " u'mendeleevs periodic table',\n",
       " u'metallic bonding',\n",
       " u'metalloids',\n",
       " u'metals',\n",
       " u'microwaves',\n",
       " u'mirrors',\n",
       " u'mixtures',\n",
       " u'modern periodic table',\n",
       " u'molecular compounds',\n",
       " u'momentum',\n",
       " u'motion',\n",
       " u'musical instruments',\n",
       " u'nature of science',\n",
       " u'nature of technology',\n",
       " u'neutrons',\n",
       " u'newtons first law',\n",
       " u'newtons law of gravity',\n",
       " u'newtons second law',\n",
       " u'newtons third law',\n",
       " u'noble gases',\n",
       " u'nonmetals',\n",
       " u'nuclear fission',\n",
       " u'nuclear fusion',\n",
       " u'nucleic acid classification',\n",
       " u'observation',\n",
       " u'oceanic pressure',\n",
       " u'ohms law',\n",
       " u'optical instruments',\n",
       " u'orbital motion',\n",
       " u'pascals law',\n",
       " u'ph concept',\n",
       " u'photosynthesis reactions',\n",
       " u'physical change',\n",
       " u'physical properties of matter',\n",
       " u'physical science careers',\n",
       " u'plasma',\n",
       " u'position time graphs',\n",
       " u'potential energy',\n",
       " u'power',\n",
       " u'pressure in fluids',\n",
       " u'projectile motion',\n",
       " u'properties of acids',\n",
       " u'properties of bases',\n",
       " u'properties of electromagnetic waves',\n",
       " u'properties of solutions',\n",
       " u'protein classification',\n",
       " u'protons',\n",
       " u'pulley',\n",
       " u'radio waves',\n",
       " u'radioactive decay',\n",
       " u'radioactivity',\n",
       " u'radioisotopes',\n",
       " u'rate of dissolving',\n",
       " u'reactants and products',\n",
       " u'recognizing chemical reactions',\n",
       " u'refraction',\n",
       " u'replacement reactions',\n",
       " u'replication in science',\n",
       " u'rutherfords atomic model',\n",
       " u'safety in science',\n",
       " u'saturated hydrocarbons',\n",
       " u'saturation',\n",
       " u'scientific experiments',\n",
       " u'scientific graphing',\n",
       " u'scientific induction',\n",
       " u'scientific law',\n",
       " u'scientific measuring devices',\n",
       " u'scientific modeling',\n",
       " u'scientific process',\n",
       " u'scientific theory',\n",
       " u'scope of chemistry',\n",
       " u'scope of physical science',\n",
       " u'scope of physics',\n",
       " u'screw',\n",
       " u'series and parallel circuits',\n",
       " u'significant figures',\n",
       " u'simple machines',\n",
       " u'solenoid',\n",
       " u'solids',\n",
       " u'solubility',\n",
       " u'solute and solvent',\n",
       " u'solution concentration',\n",
       " u'solutions',\n",
       " u'sound waves',\n",
       " u'sources of visible light',\n",
       " u'specific heat',\n",
       " u'speed',\n",
       " u'speed of sound',\n",
       " u'states of matter',\n",
       " u'static electricity and static discharge',\n",
       " u'sublimation',\n",
       " u'surface wave',\n",
       " u'synthesis reactions',\n",
       " u'technological design constraints',\n",
       " u'technological design process',\n",
       " u'technology and science',\n",
       " u'technology and society',\n",
       " u'technology careers',\n",
       " u'temperature',\n",
       " u'thermal conductors and insulators',\n",
       " u'thermal energy',\n",
       " u'thermal radiation',\n",
       " u'thomsons atomic model',\n",
       " u'transfer of electric charge',\n",
       " u'transition metals',\n",
       " u'transverse wave',\n",
       " u'types of friction',\n",
       " u'ultrasound',\n",
       " u'unsaturated hydrocarbons',\n",
       " u'using earths magnetic field',\n",
       " u'valence electrons',\n",
       " u'velocity',\n",
       " u'velocity time graphs',\n",
       " u'visible light and matter',\n",
       " u'vision and the eye',\n",
       " u'vision problems and corrective lenses',\n",
       " u'wave amplitude',\n",
       " u'wave frequency',\n",
       " u'wave interactions',\n",
       " u'wave interference',\n",
       " u'wave particle theory',\n",
       " u'wave speed',\n",
       " u'wavelength',\n",
       " u'wedge',\n",
       " u'wheel and axle',\n",
       " u'why earth is a magnet',\n",
       " u'women and people of color in science',\n",
       " u'work']"
      ]
     },
     "execution_count": 26,
     "metadata": {},
     "output_type": "execute_result"
    }
   ],
   "source": [
    "sorted(ck12_combined_dataset['physical-science'].keys())"
   ]
  },
  {
   "cell_type": "code",
   "execution_count": 65,
   "metadata": {
    "collapsed": false,
    "run_control": {
     "frozen": false,
     "read_only": false
    }
   },
   "outputs": [
    {
     "name": "stdout",
     "output_type": "stream",
     "text": [
      "1441\n"
     ]
    }
   ],
   "source": [
    " all_lessons = ck12_combined_dataset['physical-science'].keys() + ck12_combined_dataset['life-science'].keys() + ck12_combined_dataset['physical-science'].keys() +ck12_combined_dataset['earth-science'].keys()\n",
    "print len(all_lessons)"
   ]
  },
  {
   "cell_type": "code",
   "execution_count": null,
   "metadata": {
    "collapsed": true,
    "run_control": {
     "frozen": false,
     "read_only": false
    }
   },
   "outputs": [],
   "source": [
    "ck12_combined_dataset.values()"
   ]
  },
  {
   "cell_type": "code",
   "execution_count": 64,
   "metadata": {
    "collapsed": false,
    "run_control": {
     "frozen": false,
     "read_only": false
    }
   },
   "outputs": [
    {
     "data": {
      "text/plain": [
       "9897"
      ]
     },
     "execution_count": 64,
     "metadata": {},
     "output_type": "execute_result"
    }
   ],
   "source": [
    "topic_list = [subject[lesson]['topics'].keys() for subject in ck12_combined_dataset.values() for lesson in subject]\n",
    "flattened_topics = [topic for lesson in topic_list for topic in lesson]\n",
    "len(flattened_topics)"
   ]
  },
  {
   "cell_type": "code",
   "execution_count": 63,
   "metadata": {
    "collapsed": false,
    "run_control": {
     "frozen": false,
     "read_only": false
    }
   },
   "outputs": [
    {
     "data": {
      "text/plain": [
       "4074"
      ]
     },
     "execution_count": 63,
     "metadata": {},
     "output_type": "execute_result"
    }
   ],
   "source": [
    "len(set(flattened_topics))"
   ]
  },
  {
   "cell_type": "markdown",
   "metadata": {},
   "source": [
    "## question type dist"
   ]
  },
  {
   "cell_type": "markdown",
   "metadata": {},
   "source": [
    "prior to quizes"
   ]
  },
  {
   "cell_type": "code",
   "execution_count": 35,
   "metadata": {
    "code_folding": [],
    "collapsed": false,
    "run_control": {
     "frozen": false,
     "read_only": false
    }
   },
   "outputs": [
    {
     "name": "stdout",
     "output_type": "stream",
     "text": [
      "total number of questions = 15616\n"
     ]
    },
    {
     "data": {
      "text/plain": [
       "Multiple Choice      5489\n",
       "True or False        4288\n",
       "Fill in the Blank    2532\n",
       "Matching             1711\n",
       "Short Answer         1596\n",
       "dtype: int64"
      ]
     },
     "execution_count": 35,
     "metadata": {},
     "output_type": "execute_result"
    }
   ],
   "source": [
    "# q_types = []\n",
    "# for subject, flexbook in ck12_combined_dataset.items():\n",
    "#     for lesson in flexbook.values():\n",
    "#         for question in lesson['questions']['nonDiagramQuestions'].values():\n",
    "#             q_types.append(question['type'])\n",
    "# question_counts = pd.Series(q_types).value_counts()\n",
    "# print 'total number of questions = ' + str(question_counts.sum())\n",
    "# question_counts"
   ]
  },
  {
   "cell_type": "markdown",
   "metadata": {},
   "source": [
    "post quizes"
   ]
  },
  {
   "cell_type": "code",
   "execution_count": 76,
   "metadata": {
    "collapsed": false,
    "run_control": {
     "frozen": false,
     "read_only": false
    }
   },
   "outputs": [
    {
     "ename": "NameError",
     "evalue": "name 'ck12_combined_dataset' is not defined",
     "output_type": "error",
     "traceback": [
      "\u001b[0;31m---------------------------------------------------------------------------\u001b[0m",
      "\u001b[0;31mNameError\u001b[0m                                 Traceback (most recent call last)",
      "\u001b[0;32m<ipython-input-76-39430ffbdfad>\u001b[0m in \u001b[0;36m<module>\u001b[0;34m()\u001b[0m\n\u001b[1;32m      1\u001b[0m \u001b[0mq_types\u001b[0m \u001b[0;34m=\u001b[0m \u001b[0;34m[\u001b[0m\u001b[0;34m]\u001b[0m\u001b[0;34m\u001b[0m\u001b[0m\n\u001b[0;32m----> 2\u001b[0;31m \u001b[0;32mfor\u001b[0m \u001b[0msubject\u001b[0m\u001b[0;34m,\u001b[0m \u001b[0mflexbook\u001b[0m \u001b[0;32min\u001b[0m \u001b[0mck12_combined_dataset\u001b[0m\u001b[0;34m.\u001b[0m\u001b[0mitems\u001b[0m\u001b[0;34m(\u001b[0m\u001b[0;34m)\u001b[0m\u001b[0;34m:\u001b[0m\u001b[0;34m\u001b[0m\u001b[0m\n\u001b[0m\u001b[1;32m      3\u001b[0m     \u001b[0;32mfor\u001b[0m \u001b[0mlesson\u001b[0m \u001b[0;32min\u001b[0m \u001b[0mflexbook\u001b[0m\u001b[0;34m.\u001b[0m\u001b[0mvalues\u001b[0m\u001b[0;34m(\u001b[0m\u001b[0;34m)\u001b[0m\u001b[0;34m:\u001b[0m\u001b[0;34m\u001b[0m\u001b[0m\n\u001b[1;32m      4\u001b[0m         \u001b[0;32mfor\u001b[0m \u001b[0mquestion\u001b[0m \u001b[0;32min\u001b[0m \u001b[0mlesson\u001b[0m\u001b[0;34m[\u001b[0m\u001b[0;34m'questions'\u001b[0m\u001b[0;34m]\u001b[0m\u001b[0;34m[\u001b[0m\u001b[0;34m'nonDiagramQuestions'\u001b[0m\u001b[0;34m]\u001b[0m\u001b[0;34m.\u001b[0m\u001b[0mvalues\u001b[0m\u001b[0;34m(\u001b[0m\u001b[0;34m)\u001b[0m\u001b[0;34m:\u001b[0m\u001b[0;34m\u001b[0m\u001b[0m\n\u001b[1;32m      5\u001b[0m             \u001b[0mq_types\u001b[0m\u001b[0;34m.\u001b[0m\u001b[0mappend\u001b[0m\u001b[0;34m(\u001b[0m\u001b[0mquestion\u001b[0m\u001b[0;34m[\u001b[0m\u001b[0;34m'type'\u001b[0m\u001b[0;34m]\u001b[0m\u001b[0;34m)\u001b[0m\u001b[0;34m\u001b[0m\u001b[0m\n",
      "\u001b[0;31mNameError\u001b[0m: name 'ck12_combined_dataset' is not defined"
     ]
    }
   ],
   "source": [
    "q_types = []\n",
    "for subject, flexbook in ck12_combined_dataset.items():\n",
    "    for lesson in flexbook.values():\n",
    "        for question in lesson['questions']['nonDiagramQuestions'].values():\n",
    "            q_types.append(question['type'])\n",
    "question_counts = pd.Series(q_types).value_counts()\n",
    "print 'total number of questions = ' + str(question_counts.sum())\n",
    "question_counts"
   ]
  },
  {
   "cell_type": "code",
   "execution_count": 7,
   "metadata": {
    "collapsed": false,
    "run_control": {
     "frozen": false,
     "read_only": false
    }
   },
   "outputs": [
    {
     "data": {
      "text/plain": [
       "14339"
      ]
     },
     "execution_count": 7,
     "metadata": {},
     "output_type": "execute_result"
    }
   ],
   "source": [
    "(6571 + 6116 + 1652)"
   ]
  },
  {
   "cell_type": "code",
   "execution_count": 44,
   "metadata": {
    "collapsed": false,
    "run_control": {
     "frozen": false,
     "read_only": false
    },
    "scrolled": false
   },
   "outputs": [
    {
     "data": {
      "image/png": "[encoded data removed]",
      "text/plain": [
       "<matplotlib.figure.Figure at 0x13365a090>"
      ]
     },
     "metadata": {},
     "output_type": "display_data"
    }
   ],
   "source": [
    "_ = question_counts.plot(kind=\"barh\")\n",
    "plt.title('Question Format Distribution', fontsize=50, verticalalignment='bottom', color = b16_colors.b)\n",
    "plt.ylabel(\"Question type\", fontsize=30, labelpad=10, color = b16_colors.b)\n",
    "plt.xlabel(\"Number of unique questions\", fontsize=30, labelpad=10, color = b16_colors.b)\n",
    "plt.tick_params(axis='x', which='major', labelsize=20)\n",
    "plt.tick_params(axis='y', which='major', labelsize=20)"
   ]
  },
  {
   "cell_type": "code",
   "execution_count": 499,
   "metadata": {
    "collapsed": false,
    "run_control": {
     "frozen": false,
     "read_only": false
    }
   },
   "outputs": [],
   "source": [
    "usable_questions = question_counts[:2].append(question_counts[3:4])"
   ]
  },
  {
   "cell_type": "code",
   "execution_count": 504,
   "metadata": {
    "collapsed": false,
    "run_control": {
     "frozen": false,
     "read_only": false
    }
   },
   "outputs": [
    {
     "name": "stdout",
     "output_type": "stream",
     "text": [
      "questions usable immedeatly = 11488\n"
     ]
    },
    {
     "data": {
      "text/plain": [
       "Multiple Choice    5489\n",
       "True or False      4288\n",
       "Matching           1711\n",
       "dtype: int64"
      ]
     },
     "execution_count": 504,
     "metadata": {},
     "output_type": "execute_result"
    }
   ],
   "source": [
    "print 'questions usable immedeatly = ' + str(usable_questions.sum())\n",
    "usable_questions"
   ]
  },
  {
   "cell_type": "code",
   "execution_count": 488,
   "metadata": {
    "collapsed": false,
    "run_control": {
     "frozen": false,
     "read_only": false
    }
   },
   "outputs": [
    {
     "name": "stdout",
     "output_type": "stream",
     "text": [
      "total number of earth-science questions = 5373\n",
      "Multiple Choice      2342\n",
      "True or False        1702\n",
      "Fill in the Blank     705\n",
      "Matching              598\n",
      "Short Answer           26\n",
      "dtype: int64\n",
      "\n",
      "total number of life-science questions = 5005\n",
      "Multiple Choice      1927\n",
      "True or False        1117\n",
      "Short Answer          786\n",
      "Fill in the Blank     601\n",
      "Matching              574\n",
      "dtype: int64\n",
      "\n",
      "total number of physical-science questions = 5238\n",
      "True or False        1469\n",
      "Fill in the Blank    1226\n",
      "Multiple Choice      1220\n",
      "Short Answer          784\n",
      "Matching              539\n",
      "dtype: int64\n",
      "\n"
     ]
    }
   ],
   "source": [
    "for subject, flexbook in ck12_combined_dataset.items():\n",
    "    q_types = []\n",
    "    for lesson in flexbook.values():\n",
    "        for question in lesson['questions']['nonDiagramQuestions'].values():\n",
    "            q_types.append(question['type'])\n",
    "    question_counts = pd.Series(q_types).value_counts()\n",
    "    print 'total number of ' + subject + ' questions = ' + str(question_counts.sum())\n",
    "    print question_counts\n",
    "    print "
   ]
  },
  {
   "cell_type": "markdown",
   "metadata": {
    "heading_collapsed": true
   },
   "source": [
    "## looking for missing values"
   ]
  },
  {
   "cell_type": "code",
   "execution_count": 70,
   "metadata": {
    "collapsed": false,
    "hidden": true,
    "run_control": {
     "frozen": false,
     "read_only": false
    },
    "scrolled": true
   },
   "outputs": [
    {
     "name": "stdout",
     "output_type": "stream",
     "text": [
      "total number of earth-science lessons = 87\n",
      "46    62\n",
      "31    13\n",
      "45     5\n",
      "42     2\n",
      "44     1\n",
      "43     1\n",
      "40     1\n",
      "39     1\n",
      "27     1\n",
      "dtype: int64\n",
      "\n",
      "total number of life-science lessons = 82\n",
      "43    75\n",
      "28     7\n",
      "dtype: int64\n",
      "\n",
      "total number of physical-science lessons = 78\n",
      "46    58\n",
      "45     8\n",
      "42     3\n",
      "47     2\n",
      "43     2\n",
      "31     2\n",
      "44     1\n",
      "37     1\n",
      "35     1\n",
      "dtype: int64\n",
      "\n"
     ]
    }
   ],
   "source": [
    "for subject, flexbook in flexbook_ds.items():\n",
    "    q_len = []\n",
    "    for lesson_name, lesson in flexbook.items():\n",
    "        q_len.append(len(lesson['questions']['nonDiagramQuestions'].values()))\n",
    "        if q_len[-1] == 7:\n",
    "            print  subject, lesson_name\n",
    "#             pprint.pprint(lesson['questions']['nonDiagramQuestions'])\n",
    "    q_lengths = pd.Series(q_len).value_counts()\n",
    "    print 'total number of ' + subject + ' lessons = ' + str(q_lengths.sum())\n",
    "    print q_lengths\n",
    "    print "
   ]
  },
  {
   "cell_type": "markdown",
   "metadata": {
    "hidden": true
   },
   "source": [
    "The lessons with fewer questions seem to be genuine, i.e. those are the number of questions in the workbook"
   ]
  },
  {
   "cell_type": "code",
   "execution_count": null,
   "metadata": {
    "collapsed": true,
    "hidden": true,
    "run_control": {
     "frozen": false,
     "read_only": false
    }
   },
   "outputs": [],
   "source": []
  },
  {
   "cell_type": "markdown",
   "metadata": {
    "heading_collapsed": true
   },
   "source": [
    "# html rendering"
   ]
  },
  {
   "cell_type": "code",
   "execution_count": 98,
   "metadata": {
    "collapsed": false,
    "hidden": true,
    "run_control": {
     "frozen": false,
     "read_only": false
    }
   },
   "outputs": [],
   "source": [
    "from IPython.core.display import HTML"
   ]
  },
  {
   "cell_type": "code",
   "execution_count": 99,
   "metadata": {
    "collapsed": true,
    "hidden": true,
    "run_control": {
     "frozen": false,
     "read_only": false
    }
   },
   "outputs": [],
   "source": [
    "subject = 'earth-science'\n",
    "lesson_to_rev = '6.4 Theory of Plate Tectonics'"
   ]
  },
  {
   "cell_type": "code",
   "execution_count": 100,
   "metadata": {
    "collapsed": false,
    "hidden": true,
    "run_control": {
     "frozen": false,
     "read_only": false
    },
    "scrolled": true
   },
   "outputs": [
    {
     "data": {
      "text/html": [
       "\n",
       "<!DOCTYPE html>\n",
       "<html>\n",
       "  <head>\n",
       "    <style type=\"text/css\">\n",
       "       .container {\n",
       "          }\n",
       "    </style>\n",
       "  </head>\n",
       "  <body style=max-width: 100px>\n",
       "    <div class=\"container\">\n",
       "      <h1>Lesson: 6.4 Theory of Plate Tectonics</h1>\n",
       "      <ul>\n",
       "        \n",
       "        <p>\n",
       "        </p>\n",
       "        <p><img src=\"https://s3.amazonaws.com/ai2-vision-textbook-dataset/diagrams/diagram-teaching-images/tectonic_plates_9266.png\" width=500px></p>\n",
       "        \n",
       "        <p>\n",
       "        </p>\n",
       "        <p>tectonic_plates_9266.png</p>\n",
       "        \n",
       "        <p>\n",
       "        </p>\n",
       "        <p>The world is made up of tectonic plates. We can understand and learn a great many things about the Earth from studying tectonic plates and their movements. Plate tectonics helps us to understand where and why mountains form. Using the theory, we know where new ocean floor will be created and where it will be destroyed. We know why earthquakes and volcanic eruptions happen where they do. We even can search for mineral resources using information about past plate motions. Plates interact at three levels of boundaries convergent, divergent and transform boundaries, this is where most of the Earths geologic activity takes place. The tectonic plates movements are responsible for most of the geographical features we see around the world.</p>\n",
       "        \n",
       "        <p>\n",
       "        </p>\n",
       "        <p></p>\n",
       "        \n",
       "        <p>\n",
       "        </p>\n",
       "        <p><img src=\"https://s3.amazonaws.com/ai2-vision-textbook-dataset/diagrams/diagram-teaching-images/tectonic_plates_9275.png\" width=500px></p>\n",
       "        \n",
       "        <p>\n",
       "        </p>\n",
       "        <p>tectonic_plates_9275.png</p>\n",
       "        \n",
       "        <p>\n",
       "        </p>\n",
       "        <p>The Pacific Plate is the largest tectonic plate. Take a look at the borders of the Pacific Plate, which are dotted by trenches. The Ring of Fire is located in the basin of the Pacific Ocean. Most earthquakes and volcanic eruptions occur along the Ring of Fire, because it is the location of most of earth's subduction zones. Look at where all of the major earthquakes have occurred within the last fifty years. Only one significant fault line has not had a major earthquake in that time span: The Juan de Fuca. Earthquakes have occurred in the last fifty years in all thirteen trenches. Perhaps the next big earthquake will occur along America's Pacific Northwest.</p>\n",
       "        \n",
       "        <p>\n",
       "        </p>\n",
       "        <p></p>\n",
       "        \n",
       "        <p>\n",
       "        </p>\n",
       "        <p><img src=\"https://s3.amazonaws.com/ai2-vision-textbook-dataset/diagrams/diagram-teaching-images/tectonic_plates_motion_9278.png\" width=500px></p>\n",
       "        \n",
       "        <p>\n",
       "        </p>\n",
       "        <p>tectonic_plates_motion_9278.png</p>\n",
       "        \n",
       "        <p>\n",
       "        </p>\n",
       "        <p>The diagram below is an example of continent-continent convergence. This means that two tectonic plates are colliding into one another. This creates mountain ranges like the one you see in the middle of the diagram. The geological layers shown in this diagram are continental crust at the top, then lithosphere under it, and then the asthenosphere deeper than that. Also, the diagram shows ancient oceanic crust. This crust has already been subducted under the convergence zone. There are other types of convergence than the one listed in the diagram. There are actually three types total: oceanic-oceanic convergence, oceanic-continental convergence, and continental-continental convergence.</p>\n",
       "        \n",
       "        <p>\n",
       "        </p>\n",
       "        <p></p>\n",
       "        \n",
       "        <p>\n",
       "        </p>\n",
       "        <p><img src=\"https://s3.amazonaws.com/ai2-vision-textbook-dataset/diagrams/diagram-teaching-images/tectonic_plates_motion_9281.png\" width=500px></p>\n",
       "        \n",
       "        <p>\n",
       "        </p>\n",
       "        <p>tectonic_plates_motion_9281.png</p>\n",
       "        \n",
       "        <p>\n",
       "        </p>\n",
       "        <p>The diagram below shows the types of plate margin. Image result for types of plate boundaries There are three kinds of plate tectonic boundaries: divergent, convergent, and transform plate boundaries. This image shows the three main types of plate boundaries: divergent, convergent, and transform. A divergent boundary occurs when two tectonic plates move away from each other. When two plates come together, it is known as a convergent boundary. Two plates sliding past each other forms a transform plate boundary.</p>\n",
       "        \n",
       "        <p>\n",
       "        </p>\n",
       "        <p></p>\n",
       "        \n",
       "      </ul>\n",
       "    </div>\n",
       "    <script src=\"http://code.jquery.com/jquery-1.10.2.min.js\"></script>\n",
       "    <script src=\"http://netdna.bootstrapcdn.com/bootstrap/3.0.0/js/bootstrap.min.js\"></script>\n",
       "  </body>\n",
       "</html>"
      ],
      "text/plain": [
       "<IPython.core.display.HTML object>"
      ]
     },
     "execution_count": 100,
     "metadata": {},
     "output_type": "execute_result"
    }
   ],
   "source": [
    "HTML(display_lesson_html(ck12_combined_dataset[subject], lesson_to_rev, 'descriptions'))"
   ]
  },
  {
   "cell_type": "code",
   "execution_count": 64,
   "metadata": {
    "collapsed": false,
    "hidden": true,
    "run_control": {
     "frozen": false,
     "read_only": false
    }
   },
   "outputs": [
    {
     "data": {
      "text/plain": [
       "u'/Users/schwenk/wrk/stb/stb_notebooks'"
      ]
     },
     "execution_count": 64,
     "metadata": {},
     "output_type": "execute_result"
    }
   ],
   "source": [
    "pwd"
   ]
  },
  {
   "cell_type": "code",
   "execution_count": 108,
   "metadata": {
    "collapsed": false,
    "hidden": true,
    "run_control": {
     "frozen": false,
     "read_only": false
    },
    "scrolled": true
   },
   "outputs": [],
   "source": [
    "for subject, flexbook in ck12_combined_dataset.items():\n",
    "    for lesson_name, lesson in flexbook.items():\n",
    "        if lesson['questions']['diagramQuestions']:\n",
    "            lesson_html = display_lesson_html(ck12_combined_dataset[subject], lesson_name, 'questions')\n",
    "            with open(os.path.join('review_diagram_questions', lesson_name + '.html'), 'w') as f:\n",
    "                f.write(lesson_html.encode('ascii', 'ignore').decode('utf-8'))"
   ]
  },
  {
   "cell_type": "code",
   "execution_count": 109,
   "metadata": {
    "collapsed": false,
    "hidden": true,
    "run_control": {
     "frozen": false,
     "read_only": false
    }
   },
   "outputs": [],
   "source": [
    "for subject, flexbook in ck12_combined_dataset.items():\n",
    "    for lesson_name, lesson in flexbook.items():\n",
    "        if 'instructionalDiagrams' in lesson.keys():\n",
    "            lesson_html = display_lesson_html(ck12_combined_dataset[subject], lesson_name, 'descriptions')\n",
    "            with open(os.path.join('review_diagram_descriptions', lesson_name + '.html'), 'w') as f:\n",
    "                f.write(lesson_html.encode('ascii', 'ignore').decode('utf-8'))"
   ]
  },
  {
   "cell_type": "code",
   "execution_count": null,
   "metadata": {
    "collapsed": true,
    "hidden": true,
    "run_control": {
     "frozen": false,
     "read_only": false
    }
   },
   "outputs": [],
   "source": []
  },
  {
   "cell_type": "code",
   "execution_count": null,
   "metadata": {
    "collapsed": true,
    "hidden": true,
    "run_control": {
     "frozen": false,
     "read_only": false
    }
   },
   "outputs": [],
   "source": []
  },
  {
   "cell_type": "code",
   "execution_count": null,
   "metadata": {
    "collapsed": true,
    "hidden": true,
    "run_control": {
     "frozen": false,
     "read_only": false
    }
   },
   "outputs": [],
   "source": []
  },
  {
   "cell_type": "code",
   "execution_count": null,
   "metadata": {
    "collapsed": true,
    "hidden": true,
    "run_control": {
     "frozen": false,
     "read_only": false
    }
   },
   "outputs": [],
   "source": []
  },
  {
   "cell_type": "code",
   "execution_count": null,
   "metadata": {
    "collapsed": true,
    "hidden": true,
    "run_control": {
     "frozen": false,
     "read_only": false
    }
   },
   "outputs": [],
   "source": []
  },
  {
   "cell_type": "code",
   "execution_count": null,
   "metadata": {
    "collapsed": true,
    "hidden": true,
    "run_control": {
     "frozen": false,
     "read_only": false
    }
   },
   "outputs": [],
   "source": []
  },
  {
   "cell_type": "code",
   "execution_count": null,
   "metadata": {
    "collapsed": true,
    "hidden": true,
    "run_control": {
     "frozen": false,
     "read_only": false
    }
   },
   "outputs": [],
   "source": []
  },
  {
   "cell_type": "markdown",
   "metadata": {
    "heading_collapsed": true
   },
   "source": [
    "# building word corpus"
   ]
  },
  {
   "cell_type": "code",
   "execution_count": 18,
   "metadata": {
    "collapsed": false,
    "hidden": true,
    "run_control": {
     "frozen": false,
     "read_only": false
    }
   },
   "outputs": [
    {
     "data": {
      "text/plain": [
       "{u'content': {u'figures': [],\n",
       "  u'text': u'asthma\\nemphysema\\nlung\\npneumonia\\nrespiration\\nrespiratory system\\ntrachea\\n'},\n",
       " u'orderID': u't_02'}"
      ]
     },
     "execution_count": 18,
     "metadata": {},
     "output_type": "execute_result"
    }
   ],
   "source": [
    "flexbook_ds['life-science'].values()[0]['topics'].values()[0]"
   ]
  },
  {
   "cell_type": "code",
   "execution_count": 55,
   "metadata": {
    "collapsed": false,
    "hidden": true,
    "run_control": {
     "frozen": false,
     "read_only": false
    }
   },
   "outputs": [
    {
     "name": "stdout",
     "output_type": "stream",
     "text": [
      "no vocab\n"
     ]
    }
   ],
   "source": [
    "vocab_sections = ['Lesson Vocabulary', 'Vocabulary']\n",
    "flexbook_vocab = set()\n",
    "\n",
    "for subject in flexbook_ds.values():\n",
    "    for lesson in subject.values():\n",
    "        for topic_name, topic in lesson['topics'].items():\n",
    "            if topic_name in vocab_sections:\n",
    "                vocab_section = topic['content']['text']\n",
    "                if '\\n' in vocab_section:\n",
    "                    flexbook_vocab.update(vocab_section.lower().split('\\n'))\n",
    "                elif ' ' in vocab_section:\n",
    "                    flexbook_vocab.update(vocab_section.lower().split())\n",
    "                else:\n",
    "                    print 'no vocab'"
   ]
  },
  {
   "cell_type": "code",
   "execution_count": 56,
   "metadata": {
    "collapsed": false,
    "hidden": true,
    "run_control": {
     "frozen": false,
     "read_only": false
    }
   },
   "outputs": [
    {
     "data": {
      "text/plain": [
       "1451"
      ]
     },
     "execution_count": 56,
     "metadata": {},
     "output_type": "execute_result"
    }
   ],
   "source": [
    "len(flexbook_vocab)"
   ]
  },
  {
   "cell_type": "code",
   "execution_count": 82,
   "metadata": {
    "collapsed": true,
    "hidden": true,
    "run_control": {
     "frozen": false,
     "read_only": false
    }
   },
   "outputs": [],
   "source": [
    "from nltk.tokenize import wordpunct_tokenize\n",
    "cached_sw = stopwords.words(\"english\") + list(string.punctuation)"
   ]
  },
  {
   "cell_type": "code",
   "execution_count": 58,
   "metadata": {
    "collapsed": false,
    "hidden": true,
    "run_control": {
     "frozen": false,
     "read_only": false
    },
    "scrolled": true
   },
   "outputs": [],
   "source": [
    "vocab_list = list(flexbook_vocab)"
   ]
  },
  {
   "cell_type": "code",
   "execution_count": 66,
   "metadata": {
    "collapsed": false,
    "hidden": true,
    "run_control": {
     "frozen": false,
     "read_only": false
    }
   },
   "outputs": [],
   "source": [
    "seperated_list = [word.replace('(', ' ').replace(')', ' ').split() for word in vocab_list]"
   ]
  },
  {
   "cell_type": "code",
   "execution_count": 75,
   "metadata": {
    "collapsed": true,
    "hidden": true,
    "run_control": {
     "frozen": false,
     "read_only": false
    }
   },
   "outputs": [],
   "source": [
    "flattened_list = [item for sublist in seperated_list for item in sublist if len(item) > 3 and item not in cached_sw]"
   ]
  },
  {
   "cell_type": "code",
   "execution_count": 77,
   "metadata": {
    "collapsed": false,
    "hidden": true,
    "run_control": {
     "frozen": false,
     "read_only": false
    }
   },
   "outputs": [
    {
     "data": {
      "text/plain": [
       "1821"
      ]
     },
     "execution_count": 77,
     "metadata": {},
     "output_type": "execute_result"
    }
   ],
   "source": [
    "len(flattened_list)"
   ]
  },
  {
   "cell_type": "code",
   "execution_count": 78,
   "metadata": {
    "collapsed": false,
    "hidden": true,
    "run_control": {
     "frozen": false,
     "read_only": false
    }
   },
   "outputs": [],
   "source": [
    "with open('ck_12_vocab_words.pkl', 'w') as f:\n",
    "    pickle.dump(flattened_list, f)"
   ]
  },
  {
   "cell_type": "markdown",
   "metadata": {
    "hidden": true
   },
   "source": [
    "Use entire corpus"
   ]
  },
  {
   "cell_type": "code",
   "execution_count": 79,
   "metadata": {
    "collapsed": true,
    "hidden": true,
    "run_control": {
     "frozen": false,
     "read_only": false
    }
   },
   "outputs": [],
   "source": [
    "flexbook_vocab = ''\n",
    "\n",
    "for subject in flexbook_ds.values():\n",
    "    for lesson in subject.values():\n",
    "        for topic_name, topic in lesson['topics'].items():\n",
    "            vocab_section = topic['content']['text']\n",
    "            flexbook_vocab += ' ' + vocab_section.lower()"
   ]
  },
  {
   "cell_type": "code",
   "execution_count": 80,
   "metadata": {
    "collapsed": false,
    "hidden": true,
    "run_control": {
     "frozen": false,
     "read_only": false
    }
   },
   "outputs": [
    {
     "data": {
      "text/plain": [
       "2035778"
      ]
     },
     "execution_count": 80,
     "metadata": {},
     "output_type": "execute_result"
    }
   ],
   "source": [
    "len(flexbook_vocab)"
   ]
  },
  {
   "cell_type": "code",
   "execution_count": 83,
   "metadata": {
    "collapsed": false,
    "hidden": true,
    "run_control": {
     "frozen": false,
     "read_only": false
    }
   },
   "outputs": [],
   "source": [
    "fb_tokens = wordpunct_tokenize(flexbook_vocab)\n",
    "normalized_tokens = [toke.strip().lower().encode('ascii', 'ignore').decode() for toke in fb_tokens if toke not in cached_sw]"
   ]
  },
  {
   "cell_type": "code",
   "execution_count": 84,
   "metadata": {
    "collapsed": true,
    "hidden": true,
    "run_control": {
     "frozen": false,
     "read_only": false
    }
   },
   "outputs": [],
   "source": [
    "tb_freq_d = nltk.FreqDist(normalized_tokens)\n",
    "most_common_fb_words = tb_freq_d.most_common()"
   ]
  },
  {
   "cell_type": "code",
   "execution_count": 87,
   "metadata": {
    "collapsed": false,
    "hidden": true,
    "run_control": {
     "frozen": false,
     "read_only": false
    }
   },
   "outputs": [],
   "source": [
    "fb_entire_corpus_vb = set(normalized_tokens)"
   ]
  },
  {
   "cell_type": "code",
   "execution_count": 89,
   "metadata": {
    "collapsed": true,
    "hidden": true,
    "run_control": {
     "frozen": false,
     "read_only": false
    }
   },
   "outputs": [],
   "source": [
    "with open('ck_12_all_words.pkl', 'w') as f:\n",
    "    pickle.dump(fb_entire_corpus_vb, f)"
   ]
  },
  {
   "cell_type": "code",
   "execution_count": 88,
   "metadata": {
    "collapsed": false,
    "hidden": true,
    "run_control": {
     "frozen": false,
     "read_only": false
    }
   },
   "outputs": [
    {
     "data": {
      "text/plain": [
       "12553"
      ]
     },
     "execution_count": 88,
     "metadata": {},
     "output_type": "execute_result"
    }
   ],
   "source": [
    "len(fb_entire_corpus_vb)"
   ]
  },
  {
   "cell_type": "markdown",
   "metadata": {
    "heading_collapsed": true
   },
   "source": [
    "# End"
   ]
  },
  {
   "cell_type": "code",
   "execution_count": 24,
   "metadata": {
    "collapsed": true,
    "hidden": true,
    "run_control": {
     "frozen": false,
     "read_only": false
    }
   },
   "outputs": [],
   "source": [
    "import jinja2\n",
    "from IPython.core.display import HTML\n",
    "\n",
    "jnjenv = jinja2.Environment()\n",
    "\n",
    "%%writefile lesson_viz.py\n",
    "def make_lesson_data(lesson_json):\n",
    "    nested_text = []    \n",
    "    for topic, content in sorted(lesson_json['topics'].items(), key=lambda (k,v): v['orderID']):\n",
    "        nested_text.append((topic, content['content']['text']))\n",
    "    return nested_text\n",
    "\n",
    "def make_page_html(lesson_data, page_html):\n",
    "    return jnjenv.from_string(page_html).render(lesson=lesson_data[0], topics=lesson_data[1])\n",
    "\n",
    "def display_lesson_html(flexbook, lesson):\n",
    "    lesson_json = flexbook[lesson]\n",
    "    lesson_data = (lesson, make_lesson_data(lesson_json))\n",
    "    lesson_html = make_page_html(lesson_data, page_html)\n",
    "    return HTML(lesson_html)\n",
    "\n",
    "page_html = \"\"\"\n",
    "<!DOCTYPE html>\n",
    "<html>\n",
    "  <head>\n",
    "    <style type=\"text/css\">\n",
    "    </style>\n",
    "  </head>\n",
    "  <body>\n",
    "    <div class=\"container\">\n",
    "      <h1>Lesson: {{lesson}}</h1>\n",
    "      <ul>\n",
    "        {% for topic in topics %}\n",
    "        <p>\n",
    "        </p>\n",
    "        <h3>{{topic.0}}</h3>\n",
    "        <p>{{\n",
    "        topic.1\n",
    "        }}</p>\n",
    "        {% endfor %}\n",
    "      </ul>\n",
    "    </div>\n",
    "    <script src=\"http://code.jquery.com/jquery-1.10.2.min.js\"></script>\n",
    "    <script src=\"http://netdna.bootstrapcdn.com/bootstrap/3.0.0/js/bootstrap.min.js\"></script>\n",
    "  </body>\n",
    "</html>\n",
    "\"\"\""
   ]
  },
  {
   "cell_type": "code",
   "execution_count": null,
   "metadata": {
    "collapsed": true,
    "hidden": true,
    "run_control": {
     "frozen": false,
     "read_only": false
    }
   },
   "outputs": [],
   "source": [
    "\n",
    "stat_data = {'Number of Entities':stats_counter, 'Average Number per image': stats_fract}\n",
    "count = 2\n",
    "html = \"<table>\"\n",
    "# add header row\n",
    "\n",
    "html += \"<tr><th>\"\n",
    "for k in stat_data.keys():\n",
    "    html += \"<th>\"+k\n",
    "\n",
    "html += \"<tr><th>Entity Category\"\n",
    "for j in range(count):\n",
    "    html += \"<th>\"\n",
    "\n",
    "for k, v in stats_counter.items():\n",
    "    html += \"<tr><th>\"+k\n",
    "#     for j in range(count):\n",
    "    html += \"<td>\" + str(v)\n",
    "    html += \"<td>\" + \"%.2f\" % stats_fract[k]\n",
    "html += '<tr>'\n",
    "    \n",
    "# for k, v in stats_fract.items():\n",
    "#     html += \"<tr><th>\"+k\n",
    "#     for j in range(count):\n",
    "#         html += \"<td>\" + str(v)\n",
    "        \n",
    "html += \"</table>\"\n",
    "HTML(html)"
   ]
  },
  {
   "cell_type": "code",
   "execution_count": 25,
   "metadata": {
    "collapsed": true,
    "hidden": true,
    "run_control": {
     "frozen": false,
     "read_only": false
    }
   },
   "outputs": [],
   "source": [
    "page_html = \"\"\"\n",
    "<html>\n",
    "<head>\n",
    "<title>{{ title }}</title>\n",
    "</head>\n",
    "<body>\n",
    "Hello.\n",
    "</body>\n",
    "</html>\n",
    "\"\"\""
   ]
  },
  {
   "cell_type": "code",
   "execution_count": 18,
   "metadata": {
    "code_folding": [
     1
    ],
    "collapsed": true,
    "hidden": true,
    "run_control": {
     "frozen": false,
     "read_only": false
    }
   },
   "outputs": [],
   "source": [
    "page_template = \"\"\"\n",
    "<html>\n",
    " <head>\n",
    "  <title>KB HIT</title>\n",
    "  <meta content='text/html'/>\n",
    "  <script type='text/javascript' src='https://s3.amazonaws.com/mturk-public/externalHIT_v1.js'></script>\n",
    " </head>\n",
    " <body>\n",
    "    <p>We are constructing a large knowledge base (KB) about elementary science and commonsense knowledge, to help computers answer questions more reliably. We are planning to release the KB as a free, open source resource for the community when it is complete. Your work here will help us assemble this KB and contribute to this effort.</p>\n",
    "\n",
    "    <p>Below, the computer has automatically extracted some candidate facts from text for possible inclusion in the KB. However, some are weird, false, or nonsensical. This task will help us distinguish the good facts, to include in the KB, from the bad.</p>\n",
    "     <form name='mturk_form' method='post' id='mturk_form' action='https://workersandbox.mturk.com/mturk/externalSubmit'>\n",
    "      <input type='hidden' value='' name='assignmentId' id='assignmentId'/>\t\t \n",
    "      <table>\n",
    "        <tr><th></th><th>Commonsense Knowledge</th></tr>\n",
    "        {% for n in input_data %}\n",
    "            <tr><td>{{n.sentence}}</td><td nowrap>\n",
    "            <!--these break-->\n",
    "            <!--<input type=\"hidden\" name=\"{{n.sentence_id}}\" id=\"assignmentId\" value=\"ASSIGNMENT_NOT_AVAILABLE\" />-->\n",
    "            <!--<input type=\"hidden\" name=\"assignmentId\" id=\"assignmentId\" value=\"ASSIGNMENT_NOT_AVAILABLE\" />-->\n",
    "            <!--this is in the official documentation but breaks anyway!-->\n",
    "            <!--<input type='hidden' value='' name='assignmentId' id='assignmentId'/>-->\n",
    "            <!--this works:-->\n",
    "            <input name=\"{{n.sentence_id}}\" type=\"radio\" value=\"true-act\" />EXPECTED ACTION\n",
    "            <input name=\"{{n.sentence_id}}\" type=\"radio\" value=\"false-act\" />RARE/FALSE ACTION\n",
    "            <input name=\"{{n.sentence_id}}\" type=\"radio\" value=\"true-prop\" />TRUE PROPERTY\n",
    "            <input name=\"{{n.sentence_id}}\" type=\"radio\" value=\"false-prop\" />RARE/FALSE PROPERTY\n",
    "            <input name=\"{{n.sentence_id}}\" type=\"radio\" value=\"nonsense\" />NONSENSE\n",
    "            <input name=\"{{n.sentence_id}}\" type=\"radio\" value=\"unknown\" />DON'T KNOW\n",
    "            </td></tr>\n",
    "        {% endfor %}\n",
    "      </table>\n",
    "      <p><input type=\"submit\" id=\"submitButton\" value=\"Submit\" /></p>\n",
    "   </form>\n",
    "  <script language=\"Javascript\">turkSetAssignmentID();</script>\n",
    " </body>\n",
    "</html>\n",
    "\n",
    "\"\"\""
   ]
  },
  {
   "cell_type": "code",
   "execution_count": null,
   "metadata": {
    "collapsed": true,
    "hidden": true,
    "run_control": {
     "frozen": false,
     "read_only": false
    }
   },
   "outputs": [],
   "source": [
    "subject = 'life-science' \n",
    "# lesson = '15.1 Understanding Animal Behavior'\n",
    "random_lesson = np.random.choice(flexbook_ds[subject].keys(), 1)[0]\n",
    "display_lesson_html(flexbook_ds[subject], random_lesson)"
   ]
  }
 ],
 "metadata": {
  "kernelspec": {
   "display_name": "Python 2",
   "language": "python",
   "name": "python2"
  },
  "language_info": {
   "codemirror_mode": {
    "name": "ipython",
    "version": 2
   },
   "file_extension": ".py",
   "mimetype": "text/x-python",
   "name": "python",
   "nbconvert_exporter": "python",
   "pygments_lexer": "ipython2",
   "version": "2.7.12"
  }
 },
 "nbformat": 4,
 "nbformat_minor": 1
}
