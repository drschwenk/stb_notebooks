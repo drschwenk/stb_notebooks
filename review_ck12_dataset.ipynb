{
 "cells": [
  {
   "cell_type": "markdown",
   "metadata": {
    "heading_collapsed": true
   },
   "source": [
    "# Table of Contents\n",
    "* [Load data](#Load-data)\n",
    "* [dataset validation](#dataset-validation)\n",
    "\t* [schema validation](#schema-validation)\n",
    "\t* [other validation test](#other-validation-test)\n",
    "* [exploring dataset](#exploring-dataset)\n",
    "\t* [topic names](#topic-names)\n",
    "\t* [question type dist](#question-type-dist)\n",
    "\t* [looking for missing values](#looking-for-missing-values)\n",
    "* [html viz](#html-viz)\n",
    "* [End](#End)\n"
   ]
  },
  {
   "cell_type": "code",
   "execution_count": 424,
   "metadata": {
    "collapsed": false,
    "hidden": true,
    "run_control": {
     "frozen": false,
     "read_only": false
    }
   },
   "outputs": [],
   "source": [
    "%%capture\n",
    "import numpy as np\n",
    "import pandas as pd\n",
    "import scipy.stats as st\n",
    "import itertools\n",
    "import math\n",
    "from collections import Counter, defaultdict, OrderedDict\n",
    "%load_ext autoreload\n",
    "%autoreload 2\n",
    "\n",
    "import cv2\n",
    "import pprint\n",
    "import pickle\n",
    "import json\n",
    "import requests\n",
    "import io\n",
    "import sys\n",
    "import os\n",
    "from binascii import b2a_hex\n",
    "import base64\n",
    "from wand.image import Image as WImage\n",
    "from IPython.display import display\n",
    "import PIL.Image as Image\n",
    "from copy import deepcopy\n",
    "import glob\n",
    "\n",
    "from pdfminer.pdfparser import PDFParser\n",
    "from pdfminer.pdfdocument import PDFDocument\n",
    "from pdfminer.pdfpage import PDFPage\n",
    "from pdfminer.layout import LAParams, LTTextBox, LTTextLine, LTFigure, LTImage\n",
    "\n",
    "import nltk\n",
    "import string\n",
    "from nltk.corpus import stopwords\n",
    "from nltk.tokenize import word_tokenize\n",
    "\n",
    "import pdfextraction.ck12_flex_extract as ck_ex"
   ]
  },
  {
   "cell_type": "markdown",
   "metadata": {},
   "source": [
    "# Load data"
   ]
  },
  {
   "cell_type": "markdown",
   "metadata": {},
   "source": [
    "__pieces from flexbooks and webbsite lessons seperated__"
   ]
  },
  {
   "cell_type": "code",
   "execution_count": 444,
   "metadata": {
    "collapsed": true
   },
   "outputs": [],
   "source": [
    "with open('ck12_flexbook_only_beta_v1.json', 'r') as f:\n",
    "    flexbook_ds = json.load(f)\n",
    "with open('ck12_lessons_only_beta_v1.json', 'r') as f:\n",
    "    lessons_ds = json.load(f)"
   ]
  },
  {
   "cell_type": "markdown",
   "metadata": {},
   "source": [
    "__combined dataset__"
   ]
  },
  {
   "cell_type": "markdown",
   "metadata": {},
   "source": [
    "load or assemble from new pieces"
   ]
  },
  {
   "cell_type": "code",
   "execution_count": 445,
   "metadata": {
    "collapsed": true
   },
   "outputs": [],
   "source": [
    "# ck12_combined_dataset = {k: dict(v, **flexbook_ds[k]) for k, v in lessons_ds.items()}\n",
    "with open('ck12_dataset_beta_v1.json', 'r') as f:\n",
    "    ck12_combined_dataset = json.load(f)"
   ]
  },
  {
   "cell_type": "markdown",
   "metadata": {},
   "source": [
    "# dataset validation"
   ]
  },
  {
   "cell_type": "markdown",
   "metadata": {},
   "source": [
    "the topographic map lesson is thrown off by a missing diagram\n",
    "the rest seem to be genuine unexpected_content"
   ]
  },
  {
   "cell_type": "code",
   "execution_count": 450,
   "metadata": {
    "collapsed": true
   },
   "outputs": [
    {
     "name": "stdout",
     "output_type": "stream",
     "text": [
      "validating schema for earth-science\n",
      "\n",
      "\n",
      "\n",
      "\n",
      "\n",
      "validating schema for life-science\n",
      "\n",
      "\n",
      "u'' is too short\n",
      "u'' is too short\n",
      "u'' is too short\n",
      "u'' is too short\n",
      "u'' is too short\n",
      "u'' is too short\n",
      "u'' is too short\n",
      "u'' is too short\n",
      "u'' is too short\n",
      "u'' is too short\n",
      "u'' is too short\n",
      "u'' is too short\n",
      "u'' is too short\n",
      "u'' is too short\n",
      "u'' is too short\n",
      "u'' is too short\n",
      "u'' is too short\n",
      "u'' is too short\n",
      "u'' is too short\n",
      "u'' is too short\n",
      "u'' is too short\n",
      "u'' is too short\n",
      "u'' is too short\n",
      "u'' is too short\n",
      "u'' is too short\n",
      "u'' is too short\n",
      "u'' is too short\n",
      "u'' is too short\n",
      "u'' is too short\n",
      "u'' is too short\n",
      "u'' is too short\n",
      "u'' is too short\n",
      "u'' is too short\n",
      "u'' is too short\n",
      "u'' is too short\n",
      "\n",
      "\n",
      "\n",
      "validating schema for physical-science\n",
      "\n",
      "\n",
      "u'' is too short\n",
      "u'' is too short\n",
      "u'' is too short\n",
      "u'' is too short\n",
      "u'' is too short\n",
      "u'' is too short\n",
      "u'' is too short\n",
      "u'' is too short\n",
      "u'' is too short\n",
      "u'' is too short\n",
      "u'' is too short\n",
      "\n",
      "\n",
      "\n"
     ]
    }
   ],
   "source": [
    "ds_assembler = ck_ex.CK12DataSetAssembler()\n",
    "ds_assembler.validate_dataset(lessons_ds)"
   ]
  },
  {
   "cell_type": "markdown",
   "metadata": {},
   "source": [
    "# exploring dataset"
   ]
  },
  {
   "cell_type": "markdown",
   "metadata": {
    "heading_collapsed": true
   },
   "source": [
    "## topic names"
   ]
  },
  {
   "cell_type": "code",
   "execution_count": 383,
   "metadata": {
    "collapsed": false,
    "hidden": true
   },
   "outputs": [
    {
     "data": {
      "text/plain": [
       "Summary                    751\n",
       "Review                     748\n",
       "References                 703\n",
       "Explore More               483\n",
       "Lesson Summary             250\n",
       "Lesson Review Questions    248\n",
       "Lesson Objectives          248\n",
       "Introduction               246\n",
       "Points to Consider         246\n",
       "Recall                     245\n",
       "Apply Concepts             243\n",
       "Think Critically           243\n",
       "Resources                  221\n",
       "Lesson Vocabulary          151\n",
       "Vocabulary                 101\n",
       "Explore More II             94\n",
       "Explore More I              93\n",
       "Explore More III            17\n",
       "dtype: int64"
      ]
     },
     "execution_count": 383,
     "metadata": {},
     "output_type": "execute_result"
    }
   ],
   "source": [
    "es_lesson_names = [item for sublist in [val['topics'].keys() for val in ck12_combined_dataset['earth-science'].values()] for item in sublist]\n",
    "ps_lesson_names = [item for sublist in [val['topics'].keys() for val in ck12_combined_dataset['physical-science'].values()] for item in sublist]\n",
    "ls_lesson_names = [item for sublist in [val['topics'].keys() for val in ck12_combined_dataset['life-science'].values()] for item in sublist]\n",
    "\n",
    "topic_series = pd.Series(es_lesson_names + ps_lesson_names + ls_lesson_names).value_counts()\n",
    "topic_series[:18]"
   ]
  },
  {
   "cell_type": "code",
   "execution_count": 387,
   "metadata": {
    "collapsed": false,
    "hidden": true
   },
   "outputs": [
    {
     "data": {
      "text/plain": [
       "Climate                       6\n",
       "Photosynthesis                6\n",
       "Nuclear Energy                5\n",
       "Carbohydrates                 5\n",
       "Proteins                      5\n",
       "Lipids                        5\n",
       "Habitat                       5\n",
       "External Resources            4\n",
       "Earths Gravity                4\n",
       "Food Webs                     4\n",
       "Conduction                    4\n",
       "Index Fossils                 4\n",
       "Formation of Fossil Fuels     4\n",
       "Acid Rain                     4\n",
       "Whats the Matter              4\n",
       "Transform Plate Boundaries    4\n",
       "How Fossils Form              4\n",
       "Formation                     4\n",
       "The Carbon Cycle              4\n",
       "Plate Tectonics               3\n",
       "Conserving Energy             3\n",
       "Practice                      3\n",
       "dtype: int64"
      ]
     },
     "execution_count": 387,
     "metadata": {},
     "output_type": "execute_result"
    }
   ],
   "source": [
    "topic_series[18:40]"
   ]
  },
  {
   "cell_type": "markdown",
   "metadata": {
    "heading_collapsed": true
   },
   "source": [
    "## question type dist"
   ]
  },
  {
   "cell_type": "code",
   "execution_count": 376,
   "metadata": {
    "collapsed": false,
    "hidden": true
   },
   "outputs": [
    {
     "name": "stdout",
     "output_type": "stream",
     "text": [
      "total number of questions = 15616\n"
     ]
    },
    {
     "data": {
      "text/plain": [
       "Multiple Choice      5489\n",
       "True or False        4288\n",
       "Fill in the Blank    2532\n",
       "Matching             1711\n",
       "Short Answer         1596\n",
       "dtype: int64"
      ]
     },
     "execution_count": 376,
     "metadata": {},
     "output_type": "execute_result"
    }
   ],
   "source": [
    "q_types = []\n",
    "for subject, flexbook in ck12_combined_dataset.items():\n",
    "    for lesson in flexbook.values():\n",
    "        for question in lesson['questions']['nonDiagramQuestions'].values():\n",
    "            q_types.append(question['type'])\n",
    "question_counts = pd.Series(q_types).value_counts()\n",
    "print 'total number of questions = ' + str(question_counts.sum())\n",
    "question_counts"
   ]
  },
  {
   "cell_type": "code",
   "execution_count": 372,
   "metadata": {
    "collapsed": false,
    "hidden": true
   },
   "outputs": [
    {
     "name": "stdout",
     "output_type": "stream",
     "text": [
      "total number of earth-science questions = 5373\n",
      "Multiple Choice      2342\n",
      "True or False        1702\n",
      "Fill in the Blank     705\n",
      "Matching              598\n",
      "Short Answer           26\n",
      "dtype: int64\n",
      "\n",
      "total number of life-science questions = 5005\n",
      "Multiple Choice      1927\n",
      "True or False        1117\n",
      "Short Answer          786\n",
      "Fill in the Blank     601\n",
      "Matching              574\n",
      "dtype: int64\n",
      "\n",
      "total number of physical-science questions = 5238\n",
      "True or False        1469\n",
      "Fill in the Blank    1226\n",
      "Multiple Choice      1220\n",
      "Short Answer          784\n",
      "Matching              539\n",
      "dtype: int64\n",
      "\n"
     ]
    }
   ],
   "source": [
    "for subject, flexbook in ck12_combined_dataset.items():\n",
    "    q_types = []\n",
    "    for lesson in flexbook.values():\n",
    "        for question in lesson['questions']['nonDiagramQuestions'].values():\n",
    "            q_types.append(question['type'])\n",
    "    question_counts = pd.Series(q_types).value_counts()\n",
    "    print 'total number of ' + subject + ' questions = ' + str(question_counts.sum())\n",
    "    print question_counts\n",
    "    print "
   ]
  },
  {
   "cell_type": "markdown",
   "metadata": {
    "heading_collapsed": true
   },
   "source": [
    "## looking for missing values"
   ]
  },
  {
   "cell_type": "code",
   "execution_count": 414,
   "metadata": {
    "collapsed": false,
    "hidden": true,
    "scrolled": true
   },
   "outputs": [
    {
     "name": "stdout",
     "output_type": "stream",
     "text": [
      "total number of earth-science lessons = 271\n",
      "10    267\n",
      "9       2\n",
      "12      1\n",
      "11      1\n",
      "dtype: int64\n",
      "\n",
      "total number of life-science lessons = 271\n",
      "10    270\n",
      "9       1\n",
      "dtype: int64\n",
      "\n",
      "physical-science velocity\n",
      "{u'q01': {u'answerChoices': {},\n",
      "          u'beingAsked': {u'processedText': u'how fast an object is moving is its _____.',\n",
      "                          u'rawText': u'1. How fast an object is moving is its _____.'},\n",
      "          u'correctAnswer': {u'processedText': u'speed'},\n",
      "          u'id': u'q01',\n",
      "          u'idStructural': u'1.',\n",
      "          u'type': u'Fill in the Blank'},\n",
      " u'q02': {u'answerChoices': {},\n",
      "          u'beingAsked': {u'processedText': u'the measure of both speed and direction is _____.',\n",
      "                          u'rawText': u'2. The measure of both speed and direction is _____.'},\n",
      "          u'correctAnswer': {u'processedText': u'velocity'},\n",
      "          u'id': u'q02',\n",
      "          u'idStructural': u'2.',\n",
      "          u'type': u'Fill in the Blank'},\n",
      " u'q03': {u'answerChoices': {},\n",
      "          u'beingAsked': {u'processedText': u'any measurement that includes both size and direction is called a(n) _____.',\n",
      "                          u'rawText': u'3. Any measurement that includes both size and direction is called a(n) _____.'},\n",
      "          u'correctAnswer': {u'processedText': u'vector'},\n",
      "          u'id': u'q03',\n",
      "          u'idStructural': u'3.',\n",
      "          u'type': u'Fill in the Blank'},\n",
      " u'q04': {u'answerChoices': {u'a': {u'idStructural': u'a.',\n",
      "                                    u'processedText': u'true',\n",
      "                                    u'rawText': u'a. true'},\n",
      "                             u'b': {u'idStructural': u'b.',\n",
      "                                    u'processedText': u'false',\n",
      "                                    u'rawText': u'b. false'}},\n",
      "          u'beingAsked': {u'processedText': u'velocity is a vector.',\n",
      "                          u'rawText': u'4. True or false: Velocity is a vector.'},\n",
      "          u'correctAnswer': {u'processedText': u'true'},\n",
      "          u'id': u'q04',\n",
      "          u'idStructural': u'4.',\n",
      "          u'type': u'True or False'},\n",
      " u'q05': {u'answerChoices': {u'a': {u'idStructural': u'a)',\n",
      "                                    u'processedText': u'speed.',\n",
      "                                    u'rawText': u'a) speed.'},\n",
      "                             u'b': {u'idStructural': u'b)',\n",
      "                                    u'processedText': u'distance.',\n",
      "                                    u'rawText': u'b) distance.'},\n",
      "                             u'c': {u'idStructural': u'c)',\n",
      "                                    u'processedText': u'direction.',\n",
      "                                    u'rawText': u'c) direction.'},\n",
      "                             u'd': {u'idStructural': u'd)',\n",
      "                                    u'processedText': u'acceleration.',\n",
      "                                    u'rawText': u'd) acceleration.'}},\n",
      "          u'beingAsked': {u'processedText': u'if you represent velocity with an arrow, the length of the arrow represents',\n",
      "                          u'rawText': u'5. If you represent velocity with an arrow, the length of the arrow represents'},\n",
      "          u'correctAnswer': {u'processedText': u'a'},\n",
      "          u'id': u'q05',\n",
      "          u'idStructural': u'5.',\n",
      "          u'type': u'Multiple Choice'},\n",
      " u'q06': {u'answerChoices': {},\n",
      "          u'beingAsked': {u'processedText': u'explain how you can calculate the average velocity of a moving object that does not change direction.',\n",
      "                          u'rawText': u'9. Explain how you can calculate the average velocity of a moving object that does not change direction.'},\n",
      "          u'correctAnswer': {u'processedText': u'you can calculate the average velocity of a moving object that does not change direction by dividing the distance traveled by the time it takes to travel that distance.'},\n",
      "          u'id': u'q06',\n",
      "          u'idStructural': u'9.',\n",
      "          u'type': u'Short Answer'},\n",
      " u'q07': {u'answerChoices': {u'a': {u'idStructural': u'a.',\n",
      "                                    u'processedText': u'true',\n",
      "                                    u'rawText': u'a. true'},\n",
      "                             u'b': {u'idStructural': u'b.',\n",
      "                                    u'processedText': u'false',\n",
      "                                    u'rawText': u'b. false'}},\n",
      "          u'beingAsked': {u'processedText': u'the si unit for velocity is km/h.',\n",
      "                          u'rawText': u'10. True or false: The SI unit for velocity is km/h.'},\n",
      "          u'correctAnswer': {u'processedText': u'false'},\n",
      "          u'id': u'q07',\n",
      "          u'idStructural': u'10.',\n",
      "          u'type': u'True or False'}}\n",
      "total number of physical-science lessons = 287\n",
      "10    285\n",
      "9       1\n",
      "7       1\n",
      "dtype: int64\n",
      "\n"
     ]
    }
   ],
   "source": [
    "for subject, flexbook in lessons_ds.items():\n",
    "    q_len = []\n",
    "    for lesson_name, lesson in flexbook.items():\n",
    "        q_len.append(len(lesson['questions']['nonDiagramQuestions'].values()))\n",
    "        if q_len[-1] == 7:\n",
    "            print  subject, lesson_name\n",
    "            pprint.pprint(lesson['questions']['nonDiagramQuestions'])\n",
    "    q_lengths = pd.Series(q_len).value_counts()\n",
    "    print 'total number of ' + subject + ' lessons = ' + str(q_lengths.sum())\n",
    "    print q_lengths\n",
    "    print "
   ]
  },
  {
   "cell_type": "markdown",
   "metadata": {
    "hidden": true
   },
   "source": [
    "The lessons with fewer questions seem to be genuine, i.e. those are the number of questions in the workbook"
   ]
  },
  {
   "cell_type": "code",
   "execution_count": null,
   "metadata": {
    "collapsed": true,
    "hidden": true
   },
   "outputs": [],
   "source": []
  },
  {
   "cell_type": "markdown",
   "metadata": {
    "heading_collapsed": true
   },
   "source": [
    "# html viz"
   ]
  },
  {
   "cell_type": "code",
   "execution_count": 313,
   "metadata": {
    "collapsed": true,
    "hidden": true
   },
   "outputs": [],
   "source": [
    "from pdfextraction.lesson_viz import display_lesson_html as lesson_viz"
   ]
  },
  {
   "cell_type": "code",
   "execution_count": 339,
   "metadata": {
    "collapsed": false,
    "hidden": true,
    "scrolled": false
   },
   "outputs": [
    {
     "data": {
      "text/html": [
       "\n",
       "<!DOCTYPE html>\n",
       "<html>\n",
       "  <head>\n",
       "    <style type=\"text/css\">\n",
       "    </style>\n",
       "  </head>\n",
       "  <body>\n",
       "    <div class=\"container\">\n",
       "      <h1>Lesson: 3.1 Lifes Building Blocks</h1>\n",
       "      <ul>\n",
       "        \n",
       "        <p>\n",
       "        </p>\n",
       "        <h3>Lesson Objectives</h3>\n",
       "        <pre>\n",
       "            <p>Review the discovery of cells and the cell theory.\n",
       "Identify the basic parts of all cells.\n",
       "Compare and contrast prokaryotic and eukaryotic cells.\n",
       "Relate cell shape and cell function.\n",
       "Outline the levels of organization in living things.\n",
       "Explain why cells must be very small.\n",
       "</p>\n",
       "        </pre>\n",
       "        \n",
       "        <p>\n",
       "        </p>\n",
       "        <h3>Lesson Vocabulary</h3>\n",
       "        <pre>\n",
       "            <p>cell membrane\n",
       "cell theory\n",
       "cytoplasm\n",
       "eukaryote\n",
       "eukaryotic cell\n",
       "nucleus\n",
       "organ\n",
       "organelle\n",
       "organ system\n",
       "prokaryote\n",
       "prokaryotic cell\n",
       "ribosome\n",
       "tissue\n",
       "</p>\n",
       "        </pre>\n",
       "        \n",
       "        <p>\n",
       "        </p>\n",
       "        <h3>Introduction</h3>\n",
       "        <pre>\n",
       "            <p>Cells are the building blocks of life. This is clear from the photo in Figure 3.1. It shows stacks upon stacks of cells in an onion plant. Cells are also the basic functional units of living things. They are the smallest units that can carry out the biochemical reactions of life. No matter how different organisms may be from one another, they all consist of cells. Moreover, all cells have the same basic parts and processes. Knowing about cells and how they function is necessary to understanding life itself. </p>\n",
       "        </pre>\n",
       "        \n",
       "        <p>\n",
       "        </p>\n",
       "        <h3>Discovery of Cells and the Cell Theory</h3>\n",
       "        <pre>\n",
       "            <p>Cells were first discovered in the mid-1600s. The cell theory came about some 200 years later. You can see a re- enactment of some of the discoveries that led to the cell theory in this video: http://www.youtube.com/watch?v=d MEDIA Click image to the left or use the URL below. URL: https://www.ck12.org/flx/render/embeddedobject/149612 </p>\n",
       "        </pre>\n",
       "        \n",
       "        <p>\n",
       "        </p>\n",
       "        <h3>Early Observations of Cells</h3>\n",
       "        <pre>\n",
       "            <p>British scientist Robert Hooke first discovered cells in 1665. He was one of the earliest scientists to study living things under a microscope. He saw that cork was divided into many tiny compartments, like little rooms. (Do the cells in Figure 3.1 look like little rooms to you too?) Hooke called these little rooms cells. Cork comes from trees, so what Hooke observed was dead plant cells. In the late 1600s, Dutch scientist Anton van Leeuwenhoek made more powerful microscopes. He used them to observe cells of other organisms. For example, he saw human blood cells and bacterial cells. Over the next century, microscopes were improved and more cells were observed. </p>\n",
       "        </pre>\n",
       "        \n",
       "        <p>\n",
       "        </p>\n",
       "        <h3>Development of the Cell Theory</h3>\n",
       "        <pre>\n",
       "            <p>By the early 1800s, scientists had seen cells in many different types of organisms. Every organism that was examined was found to consist of cells. From all these observations, German scientists Theodor Schwann and Matthias Schleiden drew two major conclusions about cells. They concluded that: cells are alive. all living things are made of cells. Around 1850, a German doctor named Rudolf Virchow was observing living cells under a microscope. As he was watching, one of the cells happened to divide. Figure 3.2 shows a cell dividing, like the cell observed by Virchow. This was an aha moment for Virchow. He realized that living cells produce new cells by dividing. This was evidence that cells arise from other cells. The work of Schwann, Schleiden, and Virchow led to the cell theory. This is one of the most important theories in life science. The cell theory can be summed up as follows: All organisms consist of one or more cells. Cells are alive and the site of all life processes. All cells come from pre-existing cells. </p>\n",
       "        </pre>\n",
       "        \n",
       "        <p>\n",
       "        </p>\n",
       "        <h3>Structures Found in All Cells</h3>\n",
       "        <pre>\n",
       "            <p>All cells have certain parts in common. These parts include the cell membrane, cytoplasm, DNA, and ribosomes. The cell membrane is a thin coat of phospholipids that surrounds the cell. Its like the skin of the cell. It forms a physical boundary between the contents of the cell and the environment outside the cell. It also controls what enters and leaves the cell. The cell membrane is sometimes called the plasma membrane. Cytoplasm is the material inside the cell membrane. It includes a watery substance called cytosol. Besides water, cytosol contains enzymes and other substances. Cytoplasm also includes other cell structures suspended in the cytosol. DNA is a nucleic acid found in cells. It contains genetic instructions that cells need to make proteins. Ribosomes are structures in the cytoplasm where proteins are made. They consist of RNA and proteins. These four components are found in all cells. They are found in the cells of organisms as different as bacteria and people. How did all known organisms come to have such similar cells? The answer is evolution. The similarities show that all life on Earth evolved from a common ancestor. </p>\n",
       "        </pre>\n",
       "        \n",
       "        <p>\n",
       "        </p>\n",
       "        <h3>Prokaryotic and Eukaryotic Cells</h3>\n",
       "        <pre>\n",
       "            <p>Besides the four parts listed above, many cells also have a nucleus. The nucleus of a cell is a structure enclosed by a membrane that contains most of the cells DNA. Cells are classified in two major groups based on whether or not they have a nucleus. The two groups are prokaryotic cells and eukaryotic cells. </p>\n",
       "        </pre>\n",
       "        \n",
       "        <p>\n",
       "        </p>\n",
       "        <h3>Prokaryotic Cells</h3>\n",
       "        <pre>\n",
       "            <p>Prokaryotic cells are cells that lack a nucleus. The DNA in prokaryotic cells is in the cytoplasm, rather than enclosed within a nuclear membrane. All the organisms in the Bacteria and Archaea Domains have prokaryotic cells. No other organisms have this type of cell. Organisms with prokaryotic cells are called prokaryotes. They are all single-celled organisms. They were the first type of organisms to evolve. They are still the most numerous organisms today. You can see a model of a prokaryotic cell in Figure 3.3. The cell in the figure is a bacterium. Notice how it contains a cell membrane, cytoplasm, ribosomes, and several other structures. However, the cell lacks a nucleus. The cells DNA is circular. It coils up in a mass called a nucleoid that floats in the cytoplasm. </p>\n",
       "        </pre>\n",
       "        \n",
       "        <p>\n",
       "        </p>\n",
       "        <h3>Eukaryotic Cells</h3>\n",
       "        <pre>\n",
       "            <p>Eukaryotic cells are cells that contain a nucleus. They are larger than prokaryotic cells. They are also more complex. Living things with eukaryotic cells are called eukaryotes. All of them belong to the Eukarya Domain. This domain includes protists, fungi, plants, and animals. Many protists consist of a single cell. However, most eukaryotes have more than one cell. You can see a model of a eukaryotic cell in Figure 3.4. The cell in the figure is an animal cell. The nucleus is an example of an organelle. An organelle is any structure inside a cell that is enclosed by a membrane. Eukaryotic cells may contain many different organelles. Each does a special job. For example, the mitochondrion is an organelle that provides energy to the cell. You can see a mitochondrion and several other organelles in the animal cell in Figure 3.4. Organelles allow eukaryotic cells to carry out more functions than prokaryotic cells can. </p>\n",
       "        </pre>\n",
       "        \n",
       "        <p>\n",
       "        </p>\n",
       "        <h3>Specialized Cells</h3>\n",
       "        <pre>\n",
       "            <p>All living cells have certain things in common. Besides having the basic parts described above, all cells can perform the same basic functions. For example, all cells can use energy, respond to their environment, and reproduce. However, cells may also have special functions. Multicellular organisms such as you have many different types of specialized cells. Each specialized cell has a particular job. Cells with special functions generally have a shape that suits them for that job. Figure 3.5 shows four examples of specialized cells. Each type of cell in the figure has a different function. It also has a shape that helps it perform that function. The function of a nerve cell is to carry messages to other cells. It has many long arms that extend outward from the cell. The \"arms\" let the cell pass messages to many other cells at once. The function of a red blood cell is to carry oxygen to other cells. A red blood cell is small and smooth. This helps it slip through small blood vessels. A red blood cell is also shaped like a fattened disc. This gives it a lot of surface area for transferring oxygen. The function of a sperm cell is to swim through fluid to an egg cell. A sperm cell has a long tail that helps it swim. The function of a pollen cell is to pollinate flowers. The pollen cells in the figure have tiny spikes that help them stick to insects such as bees. The bees then carry the pollen cells to other flowers for pollination. </p>\n",
       "        </pre>\n",
       "        \n",
       "        <p>\n",
       "        </p>\n",
       "        <h3>Levels of Organization</h3>\n",
       "        <pre>\n",
       "            <p>Cells and organelles are made of biochemical molecules. These include nucleic acids and proteins. Molecules, in turn, are made of atoms. Figure 3.6 shows these different levels of organization in living things. As you can see in Figure 3.6, living things also have levels of organization higher than the cell. These higher levels are found only in multicellular organisms with specialized cells. Specialized cells may be organized into tissues. A tissue is a group of cells of the same kind that performs the same function. For example, muscle cells are organized into muscle tissue. The function of muscle tissue is to contract in order to move the body or its parts. Tissues may be organized into organs. An organ is a structure composed of two or more types of tissue that work together to do a specific task. For example, the heart is an organ. It consists of muscle, nerve, and other types of tissues. Its task is to pump blood. Organs may be organized into organ systems. An organ system is a group of organs that work together to do the same job. For example, the heart is part of the cardiovascular system. This system also includes blood vessels and blood. The job of the cardiovascular system is to transport substances in blood to and from cells throughout the body. Organ systems are organized into the organism. The different organ systems work together to carry out all the life functions of the individual. For example, cardiovascular and respiratory systems work together to provide the individual with oxygen and rid it of carbon dioxide. </p>\n",
       "        </pre>\n",
       "        \n",
       "        <p>\n",
       "        </p>\n",
       "        <h3>Why Cells Are So Small</h3>\n",
       "        <pre>\n",
       "            <p>Cells with different functions often vary in shape. They may also vary in size. However, all cells are very small. Even the largest organisms have microscopic cells. Cells are so small that their diameter is measured in micrometers. A micrometer is just one-millionth of a meter. Use the sliding scale at the following link to see how small cells and cell parts are compared with other objects. Why are cells so small? The answer has to do with the surface area and volume of cells. To carry out life processes, a cell must be able to pass substances into and out of the cell. For example, it must be able to pass nutrients into the cell and waste products out of the cell. Anything that enters or leaves a cell has to go through the cell membrane on the surface of the cell. A bigger cell needs more nutrients and creates more wastes. As the size of a cell increases, its volume increases more quickly that its surface area. If the volume of a cell becomes too great, it wont have enough surface area to transfer all of its nutrients and wastes. </p>\n",
       "        </pre>\n",
       "        \n",
       "        <p>\n",
       "        </p>\n",
       "        <h3>Lesson Summary</h3>\n",
       "        <pre>\n",
       "            <p>The cell theory states that all organisms consist of one or more cells; cells are alive and the site of all life processes; and all cells come from pre-existing cells. All cells have a cell membrane, cytoplasm, DNA, and ribosomes. Cells are either prokaryotic cells, which lack a nucleus, or eukaryotic cells, which have a nucleus. Cells may be specialized for different functions. They generally have a shape that suits their function. In multicellular organisms, specialized cells may be organized into tissues. Tissues may be organized into organs, and organs may be organized into organ systems. Organ systems work together to carry out all the functions of the whole organism. </p>\n",
       "        </pre>\n",
       "        \n",
       "        <p>\n",
       "        </p>\n",
       "        <h3>Lesson Review Questions</h3>\n",
       "        <pre>\n",
       "            <p></p>\n",
       "        </pre>\n",
       "        \n",
       "        <p>\n",
       "        </p>\n",
       "        <h3>Recall</h3>\n",
       "        <pre>\n",
       "            <p>1. Identify discoveries that led to the cell theory. 2. What are the four basic parts found in all cells? </p>\n",
       "        </pre>\n",
       "        \n",
       "        <p>\n",
       "        </p>\n",
       "        <h3>Apply Concepts</h3>\n",
       "        <pre>\n",
       "            <p>3. Apply the levels of organization of an organism to a human being. List the levels of organization in order from the atom to the organism, and give an example at each level. </p>\n",
       "        </pre>\n",
       "        \n",
       "        <p>\n",
       "        </p>\n",
       "        <h3>Think Critically</h3>\n",
       "        <pre>\n",
       "            <p>4. Compare and contrast prokaryotic and eukaryotic cells. 5. Use examples to show how cell shape relates to cell function. 6. Explain what limits the size of cells. </p>\n",
       "        </pre>\n",
       "        \n",
       "        <p>\n",
       "        </p>\n",
       "        <h3>Points to Consider</h3>\n",
       "        <pre>\n",
       "            <p>All eukaryotic cells have a nucleus and other organelles. Each organelle has a special job to do. 1. What do you think some of the special jobs of organelles might be? 2. Do you think that plant and animal cells might have different organelles? </p>\n",
       "        </pre>\n",
       "        \n",
       "      </ul>\n",
       "    </div>\n",
       "    <script src=\"http://code.jquery.com/jquery-1.10.2.min.js\"></script>\n",
       "    <script src=\"http://netdna.bootstrapcdn.com/bootstrap/3.0.0/js/bootstrap.min.js\"></script>\n",
       "  </body>\n",
       "</html>"
      ],
      "text/plain": [
       "<IPython.core.display.HTML object>"
      ]
     },
     "execution_count": 339,
     "metadata": {},
     "output_type": "execute_result"
    }
   ],
   "source": [
    "subject = 'life-science' \n",
    "# lesson = '15.1 Understanding Animal Behavior'\n",
    "random_lesson = np.random.choice(flexbook_ds[subject].keys(), 1)[0]\n",
    "lesson_viz(flexbook_ds[subject], random_lesson)"
   ]
  },
  {
   "cell_type": "markdown",
   "metadata": {
    "heading_collapsed": true
   },
   "source": [
    "# End"
   ]
  },
  {
   "cell_type": "code",
   "execution_count": 24,
   "metadata": {
    "collapsed": true,
    "hidden": true
   },
   "outputs": [],
   "source": [
    "import jinja2\n",
    "from IPython.core.display import HTML\n",
    "\n",
    "jnjenv = jinja2.Environment()\n",
    "\n",
    "%%writefile lesson_viz.py\n",
    "def make_lesson_data(lesson_json):\n",
    "    nested_text = []    \n",
    "    for topic, content in sorted(lesson_json['topics'].items(), key=lambda (k,v): v['orderID']):\n",
    "        nested_text.append((topic, content['content']['text']))\n",
    "    return nested_text\n",
    "\n",
    "def make_page_html(lesson_data, page_html):\n",
    "    return jnjenv.from_string(page_html).render(lesson=lesson_data[0], topics=lesson_data[1])\n",
    "\n",
    "def display_lesson_html(flexbook, lesson):\n",
    "    lesson_json = flexbook[lesson]\n",
    "    lesson_data = (lesson, make_lesson_data(lesson_json))\n",
    "    lesson_html = make_page_html(lesson_data, page_html)\n",
    "    return HTML(lesson_html)\n",
    "\n",
    "page_html = \"\"\"\n",
    "<!DOCTYPE html>\n",
    "<html>\n",
    "  <head>\n",
    "    <style type=\"text/css\">\n",
    "    </style>\n",
    "  </head>\n",
    "  <body>\n",
    "    <div class=\"container\">\n",
    "      <h1>Lesson: {{lesson}}</h1>\n",
    "      <ul>\n",
    "        {% for topic in topics %}\n",
    "        <p>\n",
    "        </p>\n",
    "        <h3>{{topic.0}}</h3>\n",
    "        <p>{{\n",
    "        topic.1\n",
    "        }}</p>\n",
    "        {% endfor %}\n",
    "      </ul>\n",
    "    </div>\n",
    "    <script src=\"http://code.jquery.com/jquery-1.10.2.min.js\"></script>\n",
    "    <script src=\"http://netdna.bootstrapcdn.com/bootstrap/3.0.0/js/bootstrap.min.js\"></script>\n",
    "  </body>\n",
    "</html>\n",
    "\"\"\""
   ]
  },
  {
   "cell_type": "code",
   "execution_count": null,
   "metadata": {
    "collapsed": true,
    "hidden": true
   },
   "outputs": [],
   "source": [
    "\n",
    "stat_data = {'Number of Entities':stats_counter, 'Average Number per image': stats_fract}\n",
    "count = 2\n",
    "html = \"<table>\"\n",
    "# add header row\n",
    "\n",
    "html += \"<tr><th>\"\n",
    "for k in stat_data.keys():\n",
    "    html += \"<th>\"+k\n",
    "\n",
    "html += \"<tr><th>Entity Category\"\n",
    "for j in range(count):\n",
    "    html += \"<th>\"\n",
    "\n",
    "for k, v in stats_counter.items():\n",
    "    html += \"<tr><th>\"+k\n",
    "#     for j in range(count):\n",
    "    html += \"<td>\" + str(v)\n",
    "    html += \"<td>\" + \"%.2f\" % stats_fract[k]\n",
    "html += '<tr>'\n",
    "    \n",
    "# for k, v in stats_fract.items():\n",
    "#     html += \"<tr><th>\"+k\n",
    "#     for j in range(count):\n",
    "#         html += \"<td>\" + str(v)\n",
    "        \n",
    "html += \"</table>\"\n",
    "HTML(html)"
   ]
  },
  {
   "cell_type": "code",
   "execution_count": 25,
   "metadata": {
    "collapsed": true,
    "hidden": true
   },
   "outputs": [],
   "source": [
    "page_html = \"\"\"\n",
    "<html>\n",
    "<head>\n",
    "<title>{{ title }}</title>\n",
    "</head>\n",
    "<body>\n",
    "Hello.\n",
    "</body>\n",
    "</html>\n",
    "\"\"\""
   ]
  },
  {
   "cell_type": "code",
   "execution_count": 18,
   "metadata": {
    "code_folding": [
     1
    ],
    "collapsed": true,
    "hidden": true
   },
   "outputs": [],
   "source": [
    "page_template = \"\"\"\n",
    "<html>\n",
    " <head>\n",
    "  <title>KB HIT</title>\n",
    "  <meta content='text/html'/>\n",
    "  <script type='text/javascript' src='https://s3.amazonaws.com/mturk-public/externalHIT_v1.js'></script>\n",
    " </head>\n",
    " <body>\n",
    "    <p>We are constructing a large knowledge base (KB) about elementary science and commonsense knowledge, to help computers answer questions more reliably. We are planning to release the KB as a free, open source resource for the community when it is complete. Your work here will help us assemble this KB and contribute to this effort.</p>\n",
    "\n",
    "    <p>Below, the computer has automatically extracted some candidate facts from text for possible inclusion in the KB. However, some are weird, false, or nonsensical. This task will help us distinguish the good facts, to include in the KB, from the bad.</p>\n",
    "     <form name='mturk_form' method='post' id='mturk_form' action='https://workersandbox.mturk.com/mturk/externalSubmit'>\n",
    "      <input type='hidden' value='' name='assignmentId' id='assignmentId'/>\t\t \n",
    "      <table>\n",
    "        <tr><th></th><th>Commonsense Knowledge</th></tr>\n",
    "        {% for n in input_data %}\n",
    "            <tr><td>{{n.sentence}}</td><td nowrap>\n",
    "            <!--these break-->\n",
    "            <!--<input type=\"hidden\" name=\"{{n.sentence_id}}\" id=\"assignmentId\" value=\"ASSIGNMENT_NOT_AVAILABLE\" />-->\n",
    "            <!--<input type=\"hidden\" name=\"assignmentId\" id=\"assignmentId\" value=\"ASSIGNMENT_NOT_AVAILABLE\" />-->\n",
    "            <!--this is in the official documentation but breaks anyway!-->\n",
    "            <!--<input type='hidden' value='' name='assignmentId' id='assignmentId'/>-->\n",
    "            <!--this works:-->\n",
    "            <input name=\"{{n.sentence_id}}\" type=\"radio\" value=\"true-act\" />EXPECTED ACTION\n",
    "            <input name=\"{{n.sentence_id}}\" type=\"radio\" value=\"false-act\" />RARE/FALSE ACTION\n",
    "            <input name=\"{{n.sentence_id}}\" type=\"radio\" value=\"true-prop\" />TRUE PROPERTY\n",
    "            <input name=\"{{n.sentence_id}}\" type=\"radio\" value=\"false-prop\" />RARE/FALSE PROPERTY\n",
    "            <input name=\"{{n.sentence_id}}\" type=\"radio\" value=\"nonsense\" />NONSENSE\n",
    "            <input name=\"{{n.sentence_id}}\" type=\"radio\" value=\"unknown\" />DON'T KNOW\n",
    "            </td></tr>\n",
    "        {% endfor %}\n",
    "      </table>\n",
    "      <p><input type=\"submit\" id=\"submitButton\" value=\"Submit\" /></p>\n",
    "   </form>\n",
    "  <script language=\"Javascript\">turkSetAssignmentID();</script>\n",
    " </body>\n",
    "</html>\n",
    "\n",
    "\"\"\""
   ]
  }
 ],
 "metadata": {
  "kernelspec": {
   "display_name": "Python 2",
   "language": "python",
   "name": "python2"
  },
  "language_info": {
   "codemirror_mode": {
    "name": "ipython",
    "version": 2
   },
   "file_extension": ".py",
   "mimetype": "text/x-python",
   "name": "python",
   "nbconvert_exporter": "python",
   "pygments_lexer": "ipython2",
   "version": "2.7.10"
  }
 },
 "nbformat": 4,
 "nbformat_minor": 1
}
