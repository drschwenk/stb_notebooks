{
 "cells": [
  {
   "cell_type": "markdown",
   "metadata": {
    "heading_collapsed": true
   },
   "source": [
    "# Table of Contents\n",
    "* [Load data](#Load-data)\n",
    "* [dataset validation](#dataset-validation)\n",
    "* [exploring dataset](#exploring-dataset)\n",
    "\t* [topic names](#topic-names)\n",
    "\t* [question type dist](#question-type-dist)\n",
    "\t* [looking for missing values](#looking-for-missing-values)\n",
    "* [html viz](#html-viz)\n",
    "* [End](#End)\n"
   ]
  },
  {
   "cell_type": "code",
   "execution_count": 452,
   "metadata": {
    "collapsed": false,
    "hidden": true,
    "run_control": {
     "frozen": false,
     "read_only": false
    }
   },
   "outputs": [],
   "source": [
    "%%capture\n",
    "import numpy as np\n",
    "import pandas as pd\n",
    "import scipy.stats as st\n",
    "import itertools\n",
    "import math\n",
    "from collections import Counter, defaultdict, OrderedDict\n",
    "%load_ext autoreload\n",
    "%autoreload 2\n",
    "\n",
    "import cv2\n",
    "import pprint\n",
    "import pickle\n",
    "import json\n",
    "import requests\n",
    "import io\n",
    "import sys\n",
    "import os\n",
    "from binascii import b2a_hex\n",
    "import base64\n",
    "from wand.image import Image as WImage\n",
    "from IPython.display import display\n",
    "import PIL.Image as Image\n",
    "from copy import deepcopy\n",
    "import glob\n",
    "\n",
    "from pdfminer.pdfparser import PDFParser\n",
    "from pdfminer.pdfdocument import PDFDocument\n",
    "from pdfminer.pdfpage import PDFPage\n",
    "from pdfminer.layout import LAParams, LTTextBox, LTTextLine, LTFigure, LTImage\n",
    "\n",
    "import nltk\n",
    "import string\n",
    "from nltk.corpus import stopwords\n",
    "from nltk.tokenize import word_tokenize\n",
    "\n",
    "import pdfextraction.ck12_flex_extract as ck_ex\n",
    "from pdfextraction.lesson_viz import display_lesson_html as lesson_viz"
   ]
  },
  {
   "cell_type": "markdown",
   "metadata": {},
   "source": [
    "# Load data"
   ]
  },
  {
   "cell_type": "markdown",
   "metadata": {},
   "source": [
    "__pieces from flexbooks and webbsite lessons seperated__"
   ]
  },
  {
   "cell_type": "code",
   "execution_count": 483,
   "metadata": {
    "collapsed": true
   },
   "outputs": [],
   "source": [
    "with open('ck12_flexbook_only_beta_v2.json', 'r') as f:\n",
    "    flexbook_ds = json.load(f)\n",
    "with open('ck12_lessons_only_beta_v2.json', 'r') as f:\n",
    "    lessons_ds = json.load(f)"
   ]
  },
  {
   "cell_type": "markdown",
   "metadata": {},
   "source": [
    "__combined dataset__"
   ]
  },
  {
   "cell_type": "markdown",
   "metadata": {},
   "source": [
    "load or assemble from new pieces"
   ]
  },
  {
   "cell_type": "code",
   "execution_count": 484,
   "metadata": {
    "collapsed": true
   },
   "outputs": [],
   "source": [
    "# ck12_combined_dataset = {k: dict(v, **flexbook_ds[k]) for k, v in lessons_ds.items()}\n",
    "with open('ck12_dataset_beta_v2.json', 'r') as f:\n",
    "    ck12_combined_dataset = json.load(f)"
   ]
  },
  {
   "cell_type": "markdown",
   "metadata": {
    "heading_collapsed": true
   },
   "source": [
    "# dataset validation"
   ]
  },
  {
   "cell_type": "markdown",
   "metadata": {
    "hidden": true
   },
   "source": [
    "the topographic map lesson is thrown off by a missing diagram\n",
    "the rest seem to be genuine unexpected_content"
   ]
  },
  {
   "cell_type": "code",
   "execution_count": 468,
   "metadata": {
    "collapsed": false,
    "hidden": true
   },
   "outputs": [
    {
     "name": "stdout",
     "output_type": "stream",
     "text": [
      "validating schema for earth-science\n",
      "\n",
      "\n",
      "Additional properties are not allowed (u'Air Pollution in the U.S.' was unexpected)\n",
      "Additional properties are not allowed (u'Energy Use in the U.S.' was unexpected)\n",
      "u'' is too short\n",
      "u'' is too short\n",
      "u'' is too short\n",
      "u'' is too short\n",
      "u'' is too short\n",
      "u'' is too short\n",
      "\n",
      "\n",
      "\n",
      "checking answer choice counts\n",
      "earth-science 17.3 Climate Change\n",
      "q03 mc error\n",
      "earth-science 2.3 Topographic Maps\n",
      "q14 mc error\n",
      "earth-science 2.3 Topographic Maps\n",
      "q09 mc error\n",
      "earth-science 2.3 Topographic Maps\n",
      "q11 mc error\n",
      "earth-science 2.3 Topographic Maps\n",
      "q10 mc error\n",
      "earth-science 2.3 Topographic Maps\n",
      "q13 mc error\n",
      "earth-science 2.3 Topographic Maps\n",
      "q12 mc error\n",
      "validating schema for life-science\n",
      "\n",
      "\n",
      "u'' is too short\n",
      "u'' is too short\n",
      "u'' is too short\n",
      "u'' is too short\n",
      "u'' is too short\n",
      "u'' is too short\n",
      "u'' is too short\n",
      "u'' is too short\n",
      "u'' is too short\n",
      "u'' is too short\n",
      "\n",
      "\n",
      "\n",
      "checking answer choice counts\n",
      "life-science 1.5 Safety in Life Science Research\n",
      "q23 mc error\n",
      "life-science 21.4 Immune System Defenses\n",
      "q01 mc error\n",
      "validating schema for physical-science\n",
      "\n",
      "\n",
      "'correctAnswer' is a required property\n",
      "u'' is too short\n",
      "u'' is too short\n",
      "u'' is too short\n",
      "u'' is too short\n",
      "u'' is too short\n",
      "u'' is too short\n",
      "u'' is too short\n",
      "\n",
      "\n",
      "\n",
      "checking answer choice counts\n",
      "physical-science 8.1 Introduction to Chemical Reactions\n",
      "q13 mc error\n",
      "physical-science 19.2 Measuring Waves\n",
      "q04 mc error\n",
      "physical-science 2.2 Science Skills\n",
      "q14 mc error\n"
     ]
    }
   ],
   "source": [
    "ds_assembler = ck_ex.CK12DataSetAssembler()\n",
    "ds_assembler.validate_dataset(flexbook_ds)"
   ]
  },
  {
   "cell_type": "markdown",
   "metadata": {},
   "source": [
    "# exploring dataset"
   ]
  },
  {
   "cell_type": "markdown",
   "metadata": {
    "heading_collapsed": true
   },
   "source": [
    "## topic names"
   ]
  },
  {
   "cell_type": "code",
   "execution_count": 383,
   "metadata": {
    "collapsed": false,
    "hidden": true
   },
   "outputs": [
    {
     "data": {
      "text/plain": [
       "Summary                    751\n",
       "Review                     748\n",
       "References                 703\n",
       "Explore More               483\n",
       "Lesson Summary             250\n",
       "Lesson Review Questions    248\n",
       "Lesson Objectives          248\n",
       "Introduction               246\n",
       "Points to Consider         246\n",
       "Recall                     245\n",
       "Apply Concepts             243\n",
       "Think Critically           243\n",
       "Resources                  221\n",
       "Lesson Vocabulary          151\n",
       "Vocabulary                 101\n",
       "Explore More II             94\n",
       "Explore More I              93\n",
       "Explore More III            17\n",
       "dtype: int64"
      ]
     },
     "execution_count": 383,
     "metadata": {},
     "output_type": "execute_result"
    }
   ],
   "source": [
    "es_lesson_names = [item for sublist in [val['topics'].keys() for val in ck12_combined_dataset['earth-science'].values()] for item in sublist]\n",
    "ps_lesson_names = [item for sublist in [val['topics'].keys() for val in ck12_combined_dataset['physical-science'].values()] for item in sublist]\n",
    "ls_lesson_names = [item for sublist in [val['topics'].keys() for val in ck12_combined_dataset['life-science'].values()] for item in sublist]\n",
    "\n",
    "topic_series = pd.Series(es_lesson_names + ps_lesson_names + ls_lesson_names).value_counts()\n",
    "topic_series[:18]"
   ]
  },
  {
   "cell_type": "code",
   "execution_count": 387,
   "metadata": {
    "collapsed": false,
    "hidden": true
   },
   "outputs": [
    {
     "data": {
      "text/plain": [
       "Climate                       6\n",
       "Photosynthesis                6\n",
       "Nuclear Energy                5\n",
       "Carbohydrates                 5\n",
       "Proteins                      5\n",
       "Lipids                        5\n",
       "Habitat                       5\n",
       "External Resources            4\n",
       "Earths Gravity                4\n",
       "Food Webs                     4\n",
       "Conduction                    4\n",
       "Index Fossils                 4\n",
       "Formation of Fossil Fuels     4\n",
       "Acid Rain                     4\n",
       "Whats the Matter              4\n",
       "Transform Plate Boundaries    4\n",
       "How Fossils Form              4\n",
       "Formation                     4\n",
       "The Carbon Cycle              4\n",
       "Plate Tectonics               3\n",
       "Conserving Energy             3\n",
       "Practice                      3\n",
       "dtype: int64"
      ]
     },
     "execution_count": 387,
     "metadata": {},
     "output_type": "execute_result"
    }
   ],
   "source": [
    "topic_series[18:40]"
   ]
  },
  {
   "cell_type": "markdown",
   "metadata": {},
   "source": [
    "## question type dist"
   ]
  },
  {
   "cell_type": "code",
   "execution_count": 489,
   "metadata": {
    "collapsed": false
   },
   "outputs": [
    {
     "name": "stdout",
     "output_type": "stream",
     "text": [
      "total number of questions = 15616\n"
     ]
    },
    {
     "data": {
      "text/plain": [
       "Multiple Choice      5489\n",
       "True or False        4288\n",
       "Fill in the Blank    2532\n",
       "Matching             1711\n",
       "Short Answer         1596\n",
       "dtype: int64"
      ]
     },
     "execution_count": 489,
     "metadata": {},
     "output_type": "execute_result"
    }
   ],
   "source": [
    "q_types = []\n",
    "for subject, flexbook in ck12_combined_dataset.items():\n",
    "    for lesson in flexbook.values():\n",
    "        for question in lesson['questions']['nonDiagramQuestions'].values():\n",
    "            q_types.append(question['type'])\n",
    "question_counts = pd.Series(q_types).value_counts()\n",
    "print 'total number of questions = ' + str(question_counts.sum())\n",
    "question_counts"
   ]
  },
  {
   "cell_type": "code",
   "execution_count": 499,
   "metadata": {
    "collapsed": false
   },
   "outputs": [],
   "source": [
    "usable_questions = question_counts[:2].append(question_counts[3:4])"
   ]
  },
  {
   "cell_type": "code",
   "execution_count": 504,
   "metadata": {
    "collapsed": false
   },
   "outputs": [
    {
     "name": "stdout",
     "output_type": "stream",
     "text": [
      "questions usable immedeatly = 11488\n"
     ]
    },
    {
     "data": {
      "text/plain": [
       "Multiple Choice    5489\n",
       "True or False      4288\n",
       "Matching           1711\n",
       "dtype: int64"
      ]
     },
     "execution_count": 504,
     "metadata": {},
     "output_type": "execute_result"
    }
   ],
   "source": [
    "print 'questions usable immedeatly = ' + str(usable_questions.sum())\n",
    "usable_questions"
   ]
  },
  {
   "cell_type": "code",
   "execution_count": 488,
   "metadata": {
    "collapsed": false
   },
   "outputs": [
    {
     "name": "stdout",
     "output_type": "stream",
     "text": [
      "total number of earth-science questions = 5373\n",
      "Multiple Choice      2342\n",
      "True or False        1702\n",
      "Fill in the Blank     705\n",
      "Matching              598\n",
      "Short Answer           26\n",
      "dtype: int64\n",
      "\n",
      "total number of life-science questions = 5005\n",
      "Multiple Choice      1927\n",
      "True or False        1117\n",
      "Short Answer          786\n",
      "Fill in the Blank     601\n",
      "Matching              574\n",
      "dtype: int64\n",
      "\n",
      "total number of physical-science questions = 5238\n",
      "True or False        1469\n",
      "Fill in the Blank    1226\n",
      "Multiple Choice      1220\n",
      "Short Answer          784\n",
      "Matching              539\n",
      "dtype: int64\n",
      "\n"
     ]
    }
   ],
   "source": [
    "for subject, flexbook in ck12_combined_dataset.items():\n",
    "    q_types = []\n",
    "    for lesson in flexbook.values():\n",
    "        for question in lesson['questions']['nonDiagramQuestions'].values():\n",
    "            q_types.append(question['type'])\n",
    "    question_counts = pd.Series(q_types).value_counts()\n",
    "    print 'total number of ' + subject + ' questions = ' + str(question_counts.sum())\n",
    "    print question_counts\n",
    "    print "
   ]
  },
  {
   "cell_type": "markdown",
   "metadata": {
    "heading_collapsed": true
   },
   "source": [
    "## looking for missing values"
   ]
  },
  {
   "cell_type": "code",
   "execution_count": 414,
   "metadata": {
    "collapsed": false,
    "hidden": true,
    "scrolled": true
   },
   "outputs": [
    {
     "name": "stdout",
     "output_type": "stream",
     "text": [
      "total number of earth-science lessons = 271\n",
      "10    267\n",
      "9       2\n",
      "12      1\n",
      "11      1\n",
      "dtype: int64\n",
      "\n",
      "total number of life-science lessons = 271\n",
      "10    270\n",
      "9       1\n",
      "dtype: int64\n",
      "\n",
      "physical-science velocity\n",
      "{u'q01': {u'answerChoices': {},\n",
      "          u'beingAsked': {u'processedText': u'how fast an object is moving is its _____.',\n",
      "                          u'rawText': u'1. How fast an object is moving is its _____.'},\n",
      "          u'correctAnswer': {u'processedText': u'speed'},\n",
      "          u'id': u'q01',\n",
      "          u'idStructural': u'1.',\n",
      "          u'type': u'Fill in the Blank'},\n",
      " u'q02': {u'answerChoices': {},\n",
      "          u'beingAsked': {u'processedText': u'the measure of both speed and direction is _____.',\n",
      "                          u'rawText': u'2. The measure of both speed and direction is _____.'},\n",
      "          u'correctAnswer': {u'processedText': u'velocity'},\n",
      "          u'id': u'q02',\n",
      "          u'idStructural': u'2.',\n",
      "          u'type': u'Fill in the Blank'},\n",
      " u'q03': {u'answerChoices': {},\n",
      "          u'beingAsked': {u'processedText': u'any measurement that includes both size and direction is called a(n) _____.',\n",
      "                          u'rawText': u'3. Any measurement that includes both size and direction is called a(n) _____.'},\n",
      "          u'correctAnswer': {u'processedText': u'vector'},\n",
      "          u'id': u'q03',\n",
      "          u'idStructural': u'3.',\n",
      "          u'type': u'Fill in the Blank'},\n",
      " u'q04': {u'answerChoices': {u'a': {u'idStructural': u'a.',\n",
      "                                    u'processedText': u'true',\n",
      "                                    u'rawText': u'a. true'},\n",
      "                             u'b': {u'idStructural': u'b.',\n",
      "                                    u'processedText': u'false',\n",
      "                                    u'rawText': u'b. false'}},\n",
      "          u'beingAsked': {u'processedText': u'velocity is a vector.',\n",
      "                          u'rawText': u'4. True or false: Velocity is a vector.'},\n",
      "          u'correctAnswer': {u'processedText': u'true'},\n",
      "          u'id': u'q04',\n",
      "          u'idStructural': u'4.',\n",
      "          u'type': u'True or False'},\n",
      " u'q05': {u'answerChoices': {u'a': {u'idStructural': u'a)',\n",
      "                                    u'processedText': u'speed.',\n",
      "                                    u'rawText': u'a) speed.'},\n",
      "                             u'b': {u'idStructural': u'b)',\n",
      "                                    u'processedText': u'distance.',\n",
      "                                    u'rawText': u'b) distance.'},\n",
      "                             u'c': {u'idStructural': u'c)',\n",
      "                                    u'processedText': u'direction.',\n",
      "                                    u'rawText': u'c) direction.'},\n",
      "                             u'd': {u'idStructural': u'd)',\n",
      "                                    u'processedText': u'acceleration.',\n",
      "                                    u'rawText': u'd) acceleration.'}},\n",
      "          u'beingAsked': {u'processedText': u'if you represent velocity with an arrow, the length of the arrow represents',\n",
      "                          u'rawText': u'5. If you represent velocity with an arrow, the length of the arrow represents'},\n",
      "          u'correctAnswer': {u'processedText': u'a'},\n",
      "          u'id': u'q05',\n",
      "          u'idStructural': u'5.',\n",
      "          u'type': u'Multiple Choice'},\n",
      " u'q06': {u'answerChoices': {},\n",
      "          u'beingAsked': {u'processedText': u'explain how you can calculate the average velocity of a moving object that does not change direction.',\n",
      "                          u'rawText': u'9. Explain how you can calculate the average velocity of a moving object that does not change direction.'},\n",
      "          u'correctAnswer': {u'processedText': u'you can calculate the average velocity of a moving object that does not change direction by dividing the distance traveled by the time it takes to travel that distance.'},\n",
      "          u'id': u'q06',\n",
      "          u'idStructural': u'9.',\n",
      "          u'type': u'Short Answer'},\n",
      " u'q07': {u'answerChoices': {u'a': {u'idStructural': u'a.',\n",
      "                                    u'processedText': u'true',\n",
      "                                    u'rawText': u'a. true'},\n",
      "                             u'b': {u'idStructural': u'b.',\n",
      "                                    u'processedText': u'false',\n",
      "                                    u'rawText': u'b. false'}},\n",
      "          u'beingAsked': {u'processedText': u'the si unit for velocity is km/h.',\n",
      "                          u'rawText': u'10. True or false: The SI unit for velocity is km/h.'},\n",
      "          u'correctAnswer': {u'processedText': u'false'},\n",
      "          u'id': u'q07',\n",
      "          u'idStructural': u'10.',\n",
      "          u'type': u'True or False'}}\n",
      "total number of physical-science lessons = 287\n",
      "10    285\n",
      "9       1\n",
      "7       1\n",
      "dtype: int64\n",
      "\n"
     ]
    }
   ],
   "source": [
    "for subject, flexbook in lessons_ds.items():\n",
    "    q_len = []\n",
    "    for lesson_name, lesson in flexbook.items():\n",
    "        q_len.append(len(lesson['questions']['nonDiagramQuestions'].values()))\n",
    "        if q_len[-1] == 7:\n",
    "            print  subject, lesson_name\n",
    "            pprint.pprint(lesson['questions']['nonDiagramQuestions'])\n",
    "    q_lengths = pd.Series(q_len).value_counts()\n",
    "    print 'total number of ' + subject + ' lessons = ' + str(q_lengths.sum())\n",
    "    print q_lengths\n",
    "    print "
   ]
  },
  {
   "cell_type": "markdown",
   "metadata": {
    "hidden": true
   },
   "source": [
    "The lessons with fewer questions seem to be genuine, i.e. those are the number of questions in the workbook"
   ]
  },
  {
   "cell_type": "code",
   "execution_count": null,
   "metadata": {
    "collapsed": true,
    "hidden": true
   },
   "outputs": [],
   "source": []
  },
  {
   "cell_type": "markdown",
   "metadata": {
    "heading_collapsed": true
   },
   "source": [
    "# html rendering"
   ]
  },
  {
   "cell_type": "code",
   "execution_count": 481,
   "metadata": {
    "collapsed": false,
    "hidden": true,
    "scrolled": false
   },
   "outputs": [
    {
     "data": {
      "text/html": [
       "\n",
       "<!DOCTYPE html>\n",
       "<html>\n",
       "  <head>\n",
       "    <style type=\"text/css\">\n",
       "    </style>\n",
       "  </head>\n",
       "  <body>\n",
       "    <div class=\"container\">\n",
       "      <h1>Lesson: 7.3 The Scale of Evolution</h1>\n",
       "      <ul>\n",
       "        \n",
       "        <p>\n",
       "        </p>\n",
       "        <h3>Lesson Objectives</h3>\n",
       "        <pre>\n",
       "            <p>Compare and contrast microevolution and macroevolution.\n",
       "Identify forces that change allele frequencies in populations.\n",
       "Explain how speciation, convergent evolution, and coevolution can occur.\n",
       "Describe variation in the rate of evolution.\n",
       "</p>\n",
       "        </pre>\n",
       "        \n",
       "        <p>\n",
       "        </p>\n",
       "        <h3>Lesson Vocabulary</h3>\n",
       "        <pre>\n",
       "            <p>allele frequency\n",
       "coevolution\n",
       "convergent evolution\n",
       "gene flow\n",
       "gene pool\n",
       "genetic drift\n",
       "macroevolution\n",
       "microevolution\n",
       "population\n",
       "speciation\n",
       "</p>\n",
       "        </pre>\n",
       "        \n",
       "        <p>\n",
       "        </p>\n",
       "        <h3>Introduction</h3>\n",
       "        <pre>\n",
       "            <p>Darwin thought that evolution occurs by the process of natural selection. For this process to take place, variation in traits must be passed from parents to their offspring. Darwin didnt know about Mendels laws of heredity. As a result, he didnt understand how traits are inherited. Mendels laws only came to light in 1900. That was about 40 years after Darwin published On the Origin of Species. Only with knowledge of genetics could scientists fully understand how evolution changes traits over time. </p>\n",
       "        </pre>\n",
       "        \n",
       "        <p>\n",
       "        </p>\n",
       "        <h3>Two Scales of Evolution</h3>\n",
       "        <pre>\n",
       "            <p>We now know how variation in traits is inherited. Variation in traits is controlled by different alleles for genes. Alleles, in turn, are passed to gametes and then to offspring. Evolution occurs because of changes in alleles over time. How long a time? That depends on the time scale of evolution you consider. Evolution that occurs over a short period of time is known as microevolution. It might take place in just a couple of generations. This scale of evolution occurs at the level of the population. The Grants observed evolution at this scale in populations of Darwins finches. Beak size in finch populations changed in just two years because of a serious drought. Evolution that occurs over a long period of time is called macroevolution. It might take place over millions of years. This scale of evolution occurs above the level of the species. Fossils provide evidence for evolution at this scale. The evolution of the horse family, shown in Figure 7.13, is an example of macroevolution. </p>\n",
       "        </pre>\n",
       "        \n",
       "        <p>\n",
       "        </p>\n",
       "        <h3>Microevolution</h3>\n",
       "        <pre>\n",
       "            <p>Individuals dont evolve. Their alleles dont change over time. The unit of microevolution is the population. </p>\n",
       "        </pre>\n",
       "        \n",
       "        <p>\n",
       "        </p>\n",
       "        <h3>Genes in Populations</h3>\n",
       "        <pre>\n",
       "            <p>A population is a group of organisms of the same species that live in the same area. All the genes in all the members of a population make up the populations gene pool. For each gene, the gene pool includes all the different alleles in the population. The gene pool can be described by its allele frequencies for specific genes. The frequency of an allele is the number of copies of that allele divided by the total number of alleles for the gene in the gene pool. A simple example will help you understand these concepts. The data in Table 7.2 represent a population of 100 individuals. For each gene, the gene pool has a total of 200 alleles (2 per individual x 100 individuals). The gene in question exists as two different alleles, A and a. The number of A alleles in the gene pool is 140. Of these, 100 are in the 50 AA homozygotes. Another 40 are in the 40 Aa heterozygotes. The number of a alleles in the gene pool is 60. Of these, 40 are in the 40 Aa heterozygotes. Another 20 are in the 10 aa homozygotes. The frequency of the A allele is 140/200 = 0.7. The frequency of the a allele is 60/200 = 0.3. Genotype AA Aa aa Totals Number of Individuals 50 40 10 100 Number of A Alleles 100 (50 x 2) 40 (40 x 1) 0 (10 x 0) 140 Number of a Alleles 0 (50 x 0) 40 (40 x 1) 20 (10 x 2) 60 Evolution occurs in a population when its allele frequencies change over time. For example, the frequency of the A allele might change from 0.7 to 0.8. If that happens, evolution has occurred. What causes allele frequencies to change? The answer is forces of evolution. </p>\n",
       "        </pre>\n",
       "        \n",
       "        <p>\n",
       "        </p>\n",
       "        <h3>Forces of Evolution</h3>\n",
       "        <pre>\n",
       "            <p>There are four major forces of evolution that cause allele frequencies to change. They are mutation, gene flow, genetic drift, and natural selection. Mutation creates new genetic variation in a gene pool This is how all new alleles first arise. Its the ultimate source of new genetic variation, so it is essential for evolution. However, for any given gene, the chance of a mutation occurring is very small. Therefore, mutation alone does not have much effect on allele frequencies. Gene flow is the movement of genes into or out of a gene pool It occurs when individuals migrate into or out of the population. How much gene flow changes allele frequencies depends on how many migrants there are and their genotypes. Genetic drift is a random change in allele frequencies. It occurs in small populations. Allele frequencies in the offspring may differ by chance from those in the parents. This is like tossing a coin just a few times. You may, by chance, get more or less than the expected 50 percent heads or tails. In the same way, you may get more or less than the expected allele frequencies in the small number of individuals in the next generation. The smaller the population is, the more allele frequencies may drift. Natural selection is a change in allele frequencies that occurs because some genotypes are more fit than others. Genotypes with greater fitness produce more offspring and pass more copies of their alleles to the next generation. This is the force of evolution that Darwin identified. Figure 23.12 shows how Darwin thought natural selection led to variation in finches on the Galpagos Islands. </p>\n",
       "        </pre>\n",
       "        \n",
       "        <p>\n",
       "        </p>\n",
       "        <h3>Macroevolution</h3>\n",
       "        <pre>\n",
       "            <p>What happens when forces of evolution work over a long period of time? The answer is macroevolution. An example is the evolution of a new species. </p>\n",
       "        </pre>\n",
       "        \n",
       "        <p>\n",
       "        </p>\n",
       "        <h3>Speciation</h3>\n",
       "        <pre>\n",
       "            <p>The evolution of a new species is called speciation. A species is a group of organisms that can mate and produce fertile offspring together but not with members of other such groups. What must happen for a new species to arise? Some members of an existing species must change so they can no produce fertile offspring with the rest of the species. Speciation often occurs when some members of a species break off from the rest. The splinter group evolves in isolation from the original species. The original species also continues to evolve. Sooner or later, the splinter group becomes too different to breed with members of the original species. At that point, a new species has formed. A good example of speciation involves anole lizards, like the one pictured in Figure 7.15. There are about 150 different species of anole lizards in the Caribbean Islands. Scientists think that a single species of lizard first colonized one of the islands about 50 million years ago. A few lizards from this original species eventually reached each of the other islands, where they evolved in isolation. Anoles in different habitats evolved traits that affected mating. For example, they evolved skin flaps of different colors. Females didnt respond to male anoles with the wrong color skin flap. This prevented them from mating. Eventually, all the different species of anoles known today evolved. Watch this interesting video to learn more about anole speciation in the Caribbean: </p>\n",
       "        </pre>\n",
       "        \n",
       "        <p>\n",
       "        </p>\n",
       "        <h3>Convergent Evolution</h3>\n",
       "        <pre>\n",
       "            <p>Sometimes two species evolve the same traits. It happens because they live in similar habitats. This is called convergent evolution. Caribbean Anoles demonstrate this as well. On each Caribbean island, anoles in similar habitats evolved the same traits. For example, anoles that lived on the forest floor evolved long legs for leaping and running on the ground. Anoles that lived on tree branches evolved short legs that helped them cling to small branches and twigs. Anoles that lived at the tops of trees evolved large toe pads that allowed them to walk on leaves without falling. On each of the islands, there were anole species that evolved in each of these same ways. </p>\n",
       "        </pre>\n",
       "        \n",
       "        <p>\n",
       "        </p>\n",
       "        <h3>Coevolution</h3>\n",
       "        <pre>\n",
       "            <p>Two species may often interact with each other and have a close relationship. Examples include flowers and the animals that pollinate them. When one of the two species evolves new traits, the other species may evolve matching traits. This is called coevolution. You can see an example of this in Figure 7.16. The very long beak of this hummingbird co-evolved with the tubular flowers it pollinates. Only this species of hummingbird can reach nectar deep in the flowers. </p>\n",
       "        </pre>\n",
       "        \n",
       "        <p>\n",
       "        </p>\n",
       "        <h3>Rate of Evolution</h3>\n",
       "        <pre>\n",
       "            <p>Darwin thought that evolution occurs very slowly. This is likely if conditions are stable. But what if conditions are changing rapidly? Evolution is likely to occur more rapidly as well. For example, the Grants showed that evolution occurred in just a couple of years in Darwins finches. This happened when a severe drought killed off a lot of the plants that the birds needed for food. Millions of fossils have been found since Darwins time. They show that evolution may occur in fits and starts. Long period of little or gradual change may be interrupted by bursts of rapid change. The rate of evolution is influenced by how the environment is changing. Today, Earths climate is changing rapidly. How do you think this might affect the rate of evolution? </p>\n",
       "        </pre>\n",
       "        \n",
       "        <p>\n",
       "        </p>\n",
       "        <h3>Lesson Summary</h3>\n",
       "        <pre>\n",
       "            <p>The time scale of evolution can vary. Evolution over a short period of time at the level of the population is called microevolution. Evolution over a long period of time above the level of the species is called macroevolution. Microevolution occurs in a population when its allele frequencies change over time. There are four major forces of evolution that cause allele frequencies to change: mutation, gene flow, genetic drift, and natural selection. Macroevolution occurs when microevolution takes place over a long period of time. Types of macroevolution include speciation, convergent evolution, and coevolution. The rate of evolution is influenced by how quickly the environment is changing. Long periods of gradual evolutionary change may be interrupted by short bursts of rapid change. </p>\n",
       "        </pre>\n",
       "        \n",
       "        <p>\n",
       "        </p>\n",
       "        <h3>Recall</h3>\n",
       "        <pre>\n",
       "            <p>1. List the four major forces of evolution. 2. Define coevolution and give an example. </p>\n",
       "        </pre>\n",
       "        \n",
       "        <p>\n",
       "        </p>\n",
       "        <h3>Apply Concepts</h3>\n",
       "        <pre>\n",
       "            <p>3. Calculate allele frequencies for the gene pool based on the data in the table below. Genotype AA Aa aa Total Number in Population 10 20 20 50 4. 5. Whales and bats have the trait of echolocation. This is the ability to locate objects in the dark by bouncing sound waves off them. The most recent common ancestor of whales and bats did not have this trait. Apply lesson concepts to explain how the trait evolved in whales and bats. </p>\n",
       "        </pre>\n",
       "        \n",
       "        <p>\n",
       "        </p>\n",
       "        <h3>Think Critically</h3>\n",
       "        <pre>\n",
       "            <p>5. Compare and contrast microevolution and macroevolution. 6. Explain how speciation can occur. </p>\n",
       "        </pre>\n",
       "        \n",
       "        <p>\n",
       "        </p>\n",
       "        <h3>Points to Consider</h3>\n",
       "        <pre>\n",
       "            <p>Evolution has been taking place since life first evolved on Earth. How old is planet Earth? How long has life been evolving on Earth? </p>\n",
       "        </pre>\n",
       "        \n",
       "      </ul>\n",
       "    </div>\n",
       "    <script src=\"http://code.jquery.com/jquery-1.10.2.min.js\"></script>\n",
       "    <script src=\"http://netdna.bootstrapcdn.com/bootstrap/3.0.0/js/bootstrap.min.js\"></script>\n",
       "  </body>\n",
       "</html>"
      ],
      "text/plain": [
       "<IPython.core.display.HTML object>"
      ]
     },
     "execution_count": 481,
     "metadata": {},
     "output_type": "execute_result"
    }
   ],
   "source": [
    "subject = 'life-science' \n",
    "# lesson = '15.1 Understanding Animal Behavior'\n",
    "random_lesson = np.random.choice(flexbook_ds[subject].keys(), 1)[0]\n",
    "lesson_viz(flexbook_ds[subject], random_lesson)"
   ]
  },
  {
   "cell_type": "markdown",
   "metadata": {
    "heading_collapsed": true
   },
   "source": [
    "# End"
   ]
  },
  {
   "cell_type": "code",
   "execution_count": 24,
   "metadata": {
    "collapsed": true,
    "hidden": true
   },
   "outputs": [],
   "source": [
    "import jinja2\n",
    "from IPython.core.display import HTML\n",
    "\n",
    "jnjenv = jinja2.Environment()\n",
    "\n",
    "%%writefile lesson_viz.py\n",
    "def make_lesson_data(lesson_json):\n",
    "    nested_text = []    \n",
    "    for topic, content in sorted(lesson_json['topics'].items(), key=lambda (k,v): v['orderID']):\n",
    "        nested_text.append((topic, content['content']['text']))\n",
    "    return nested_text\n",
    "\n",
    "def make_page_html(lesson_data, page_html):\n",
    "    return jnjenv.from_string(page_html).render(lesson=lesson_data[0], topics=lesson_data[1])\n",
    "\n",
    "def display_lesson_html(flexbook, lesson):\n",
    "    lesson_json = flexbook[lesson]\n",
    "    lesson_data = (lesson, make_lesson_data(lesson_json))\n",
    "    lesson_html = make_page_html(lesson_data, page_html)\n",
    "    return HTML(lesson_html)\n",
    "\n",
    "page_html = \"\"\"\n",
    "<!DOCTYPE html>\n",
    "<html>\n",
    "  <head>\n",
    "    <style type=\"text/css\">\n",
    "    </style>\n",
    "  </head>\n",
    "  <body>\n",
    "    <div class=\"container\">\n",
    "      <h1>Lesson: {{lesson}}</h1>\n",
    "      <ul>\n",
    "        {% for topic in topics %}\n",
    "        <p>\n",
    "        </p>\n",
    "        <h3>{{topic.0}}</h3>\n",
    "        <p>{{\n",
    "        topic.1\n",
    "        }}</p>\n",
    "        {% endfor %}\n",
    "      </ul>\n",
    "    </div>\n",
    "    <script src=\"http://code.jquery.com/jquery-1.10.2.min.js\"></script>\n",
    "    <script src=\"http://netdna.bootstrapcdn.com/bootstrap/3.0.0/js/bootstrap.min.js\"></script>\n",
    "  </body>\n",
    "</html>\n",
    "\"\"\""
   ]
  },
  {
   "cell_type": "code",
   "execution_count": null,
   "metadata": {
    "collapsed": true,
    "hidden": true
   },
   "outputs": [],
   "source": [
    "\n",
    "stat_data = {'Number of Entities':stats_counter, 'Average Number per image': stats_fract}\n",
    "count = 2\n",
    "html = \"<table>\"\n",
    "# add header row\n",
    "\n",
    "html += \"<tr><th>\"\n",
    "for k in stat_data.keys():\n",
    "    html += \"<th>\"+k\n",
    "\n",
    "html += \"<tr><th>Entity Category\"\n",
    "for j in range(count):\n",
    "    html += \"<th>\"\n",
    "\n",
    "for k, v in stats_counter.items():\n",
    "    html += \"<tr><th>\"+k\n",
    "#     for j in range(count):\n",
    "    html += \"<td>\" + str(v)\n",
    "    html += \"<td>\" + \"%.2f\" % stats_fract[k]\n",
    "html += '<tr>'\n",
    "    \n",
    "# for k, v in stats_fract.items():\n",
    "#     html += \"<tr><th>\"+k\n",
    "#     for j in range(count):\n",
    "#         html += \"<td>\" + str(v)\n",
    "        \n",
    "html += \"</table>\"\n",
    "HTML(html)"
   ]
  },
  {
   "cell_type": "code",
   "execution_count": 25,
   "metadata": {
    "collapsed": true,
    "hidden": true
   },
   "outputs": [],
   "source": [
    "page_html = \"\"\"\n",
    "<html>\n",
    "<head>\n",
    "<title>{{ title }}</title>\n",
    "</head>\n",
    "<body>\n",
    "Hello.\n",
    "</body>\n",
    "</html>\n",
    "\"\"\""
   ]
  },
  {
   "cell_type": "code",
   "execution_count": 18,
   "metadata": {
    "code_folding": [
     1
    ],
    "collapsed": true,
    "hidden": true
   },
   "outputs": [],
   "source": [
    "page_template = \"\"\"\n",
    "<html>\n",
    " <head>\n",
    "  <title>KB HIT</title>\n",
    "  <meta content='text/html'/>\n",
    "  <script type='text/javascript' src='https://s3.amazonaws.com/mturk-public/externalHIT_v1.js'></script>\n",
    " </head>\n",
    " <body>\n",
    "    <p>We are constructing a large knowledge base (KB) about elementary science and commonsense knowledge, to help computers answer questions more reliably. We are planning to release the KB as a free, open source resource for the community when it is complete. Your work here will help us assemble this KB and contribute to this effort.</p>\n",
    "\n",
    "    <p>Below, the computer has automatically extracted some candidate facts from text for possible inclusion in the KB. However, some are weird, false, or nonsensical. This task will help us distinguish the good facts, to include in the KB, from the bad.</p>\n",
    "     <form name='mturk_form' method='post' id='mturk_form' action='https://workersandbox.mturk.com/mturk/externalSubmit'>\n",
    "      <input type='hidden' value='' name='assignmentId' id='assignmentId'/>\t\t \n",
    "      <table>\n",
    "        <tr><th></th><th>Commonsense Knowledge</th></tr>\n",
    "        {% for n in input_data %}\n",
    "            <tr><td>{{n.sentence}}</td><td nowrap>\n",
    "            <!--these break-->\n",
    "            <!--<input type=\"hidden\" name=\"{{n.sentence_id}}\" id=\"assignmentId\" value=\"ASSIGNMENT_NOT_AVAILABLE\" />-->\n",
    "            <!--<input type=\"hidden\" name=\"assignmentId\" id=\"assignmentId\" value=\"ASSIGNMENT_NOT_AVAILABLE\" />-->\n",
    "            <!--this is in the official documentation but breaks anyway!-->\n",
    "            <!--<input type='hidden' value='' name='assignmentId' id='assignmentId'/>-->\n",
    "            <!--this works:-->\n",
    "            <input name=\"{{n.sentence_id}}\" type=\"radio\" value=\"true-act\" />EXPECTED ACTION\n",
    "            <input name=\"{{n.sentence_id}}\" type=\"radio\" value=\"false-act\" />RARE/FALSE ACTION\n",
    "            <input name=\"{{n.sentence_id}}\" type=\"radio\" value=\"true-prop\" />TRUE PROPERTY\n",
    "            <input name=\"{{n.sentence_id}}\" type=\"radio\" value=\"false-prop\" />RARE/FALSE PROPERTY\n",
    "            <input name=\"{{n.sentence_id}}\" type=\"radio\" value=\"nonsense\" />NONSENSE\n",
    "            <input name=\"{{n.sentence_id}}\" type=\"radio\" value=\"unknown\" />DON'T KNOW\n",
    "            </td></tr>\n",
    "        {% endfor %}\n",
    "      </table>\n",
    "      <p><input type=\"submit\" id=\"submitButton\" value=\"Submit\" /></p>\n",
    "   </form>\n",
    "  <script language=\"Javascript\">turkSetAssignmentID();</script>\n",
    " </body>\n",
    "</html>\n",
    "\n",
    "\"\"\""
   ]
  }
 ],
 "metadata": {
  "kernelspec": {
   "display_name": "Python 2",
   "language": "python",
   "name": "python2"
  },
  "language_info": {
   "codemirror_mode": {
    "name": "ipython",
    "version": 2
   },
   "file_extension": ".py",
   "mimetype": "text/x-python",
   "name": "python",
   "nbconvert_exporter": "python",
   "pygments_lexer": "ipython2",
   "version": "2.7.10"
  }
 },
 "nbformat": 4,
 "nbformat_minor": 1
}
