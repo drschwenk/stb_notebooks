{
 "cells": [
  {
   "cell_type": "markdown",
   "metadata": {
    "heading_collapsed": true
   },
   "source": [
    "# Table of Contents\n",
    "* [Load data](#Load-data)\n",
    "* [dataset validation](#dataset-validation)\n",
    "\t* [schema validation](#schema-validation)\n",
    "\t* [other validation test](#other-validation-test)\n",
    "* [exploring dataset](#exploring-dataset)\n",
    "* [html viz](#html-viz)\n",
    "* [End](#End)\n"
   ]
  },
  {
   "cell_type": "code",
   "execution_count": 1,
   "metadata": {
    "collapsed": false,
    "hidden": true,
    "run_control": {
     "frozen": false,
     "read_only": false
    }
   },
   "outputs": [],
   "source": [
    "%%capture\n",
    "import numpy as np\n",
    "import pandas as pd\n",
    "import scipy.stats as st\n",
    "import itertools\n",
    "import math\n",
    "from collections import Counter, defaultdict, OrderedDict\n",
    "%load_ext autoreload\n",
    "%autoreload 2\n",
    "\n",
    "import cv2\n",
    "import pprint\n",
    "import pickle\n",
    "import json\n",
    "import requests\n",
    "import io\n",
    "import sys\n",
    "import os\n",
    "from binascii import b2a_hex\n",
    "import base64\n",
    "from wand.image import Image as WImage\n",
    "from IPython.display import display\n",
    "import PIL.Image as Image\n",
    "from copy import deepcopy\n",
    "import glob\n",
    "\n",
    "from pdfminer.pdfparser import PDFParser\n",
    "from pdfminer.pdfdocument import PDFDocument\n",
    "from pdfminer.pdfpage import PDFPage\n",
    "from pdfminer.layout import LAParams, LTTextBox, LTTextLine, LTFigure, LTImage\n",
    "\n",
    "import nltk\n",
    "import string\n",
    "from nltk.corpus import stopwords\n",
    "from nltk.tokenize import word_tokenize\n",
    "\n",
    "import pdfextraction.ck12_flex_extract as ck_ex"
   ]
  },
  {
   "cell_type": "markdown",
   "metadata": {
    "heading_collapsed": true
   },
   "source": [
    "# Load data"
   ]
  },
  {
   "cell_type": "markdown",
   "metadata": {
    "hidden": true
   },
   "source": [
    "__pieces from flexbooks and webbsite lessons seperated__"
   ]
  },
  {
   "cell_type": "code",
   "execution_count": 9,
   "metadata": {
    "collapsed": true,
    "hidden": true
   },
   "outputs": [],
   "source": [
    "with open('ck12_flexbook_only_beta_v1.json', 'r') as f:\n",
    "    flexbook_ds = json.load(f)\n",
    "with open('ck12_lessons_only_beta_v1.json', 'r') as f:\n",
    "    lessons_ds = json.load(f)"
   ]
  },
  {
   "cell_type": "markdown",
   "metadata": {
    "hidden": true
   },
   "source": [
    "__combined dataset__"
   ]
  },
  {
   "cell_type": "markdown",
   "metadata": {
    "hidden": true
   },
   "source": [
    "load or assemble from new pieces"
   ]
  },
  {
   "cell_type": "code",
   "execution_count": 10,
   "metadata": {
    "collapsed": true,
    "hidden": true
   },
   "outputs": [],
   "source": [
    "# ck12_combined_dataset = {k: dict(v, **flexbook_ds[k]) for k, v in lessons_ds.items()}\n",
    "with open('ck12_dataset_beta_v1.json', 'r') as f:\n",
    "    ck12_combined_dataset = json.load(f)"
   ]
  },
  {
   "cell_type": "markdown",
   "metadata": {},
   "source": [
    "# dataset validation"
   ]
  },
  {
   "cell_type": "markdown",
   "metadata": {
    "heading_collapsed": true
   },
   "source": [
    "## schema validation"
   ]
  },
  {
   "cell_type": "code",
   "execution_count": 14,
   "metadata": {
    "collapsed": false,
    "hidden": true
   },
   "outputs": [
    {
     "name": "stdout",
     "output_type": "stream",
     "text": [
      "earth-science\n",
      "Additional properties are not allowed (u'Air Pollution in the U.S.' was unexpected)\n",
      "Additional properties are not allowed (u'Energy Use in the U.S.' was unexpected)\n",
      "\n",
      "life-science\n",
      "\n",
      "physical-science\n",
      "'correctAnswer' is a required property\n",
      "\n"
     ]
    }
   ],
   "source": [
    "for subject, joined_content in ck12_combined_dataset.items():\n",
    "    ds_assembler = ck_ex.CK12DataSetAssembler()\n",
    "    print subject\n",
    "    ds_assembler.validate_schema(joined_content)\n",
    "    print"
   ]
  },
  {
   "cell_type": "markdown",
   "metadata": {
    "heading_collapsed": true
   },
   "source": [
    "## other validation test"
   ]
  },
  {
   "cell_type": "markdown",
   "metadata": {},
   "source": [
    "# exploring dataset"
   ]
  },
  {
   "cell_type": "code",
   "execution_count": 124,
   "metadata": {
    "collapsed": false
   },
   "outputs": [
    {
     "data": {
      "text/plain": [
       "Points to Consider            87\n",
       "Lesson Summary                87\n",
       "Vocabulary                    87\n",
       "Lesson Objectives             87\n",
       "Apply Concepts                86\n",
       "Recall                        86\n",
       "Think Critically              85\n",
       "Introduction                  85\n",
       "Lesson Review Questions       85\n",
       "Divergent Plate Boundaries     3\n",
       "Meteorites                     2\n",
       "dtype: int64"
      ]
     },
     "execution_count": 124,
     "metadata": {},
     "output_type": "execute_result"
    }
   ],
   "source": [
    "lesson_names = [item for sublist in [val['topics'].keys() for val in flexbook_ds['earth-science'].values()] for item in sublist]\n",
    "pd.Series(lesson_names).value_counts()[:11]"
   ]
  },
  {
   "cell_type": "markdown",
   "metadata": {},
   "source": [
    "# html viz"
   ]
  },
  {
   "cell_type": "code",
   "execution_count": 24,
   "metadata": {
    "collapsed": true
   },
   "outputs": [],
   "source": [
    "import jinja2\n",
    "from IPython.core.display import HTML\n",
    "\n",
    "jnjenv = jinja2.Environment()"
   ]
  },
  {
   "cell_type": "code",
   "execution_count": 203,
   "metadata": {
    "collapsed": true
   },
   "outputs": [],
   "source": [
    "def make_lesson_data(lesson_json):\n",
    "    nested_text = []    \n",
    "    for topic, content in sorted(lesson_json['topics'].items(), key=lambda (k,v): v['orderID']):\n",
    "        nested_text.append((topic, content['content']['text']))\n",
    "    return nested_text"
   ]
  },
  {
   "cell_type": "code",
   "execution_count": 187,
   "metadata": {
    "collapsed": true
   },
   "outputs": [],
   "source": [
    "def make_page_html(lesson_data, page_html):\n",
    "    return jnjenv.from_string(page_html).render(lesson=lesson_data[0], topics=lesson_data[1])"
   ]
  },
  {
   "cell_type": "code",
   "execution_count": 190,
   "metadata": {
    "collapsed": true
   },
   "outputs": [],
   "source": [
    "def display_lesson_html(flexbook, lesson):\n",
    "    lesson_json = flexbook[lesson]\n",
    "    lesson_data = (lesson, make_lesson_data(lesson_json))\n",
    "    lesson_html = make_page_html(lesson_data, page_html)\n",
    "    return HTML(lesson_html)"
   ]
  },
  {
   "cell_type": "code",
   "execution_count": 204,
   "metadata": {
    "collapsed": true
   },
   "outputs": [
    {
     "data": {
      "text/html": [
       "\n",
       "<!DOCTYPE html>\n",
       "<html>\n",
       "  <head>\n",
       "    <style type=\"text/css\">\n",
       "    </style>\n",
       "  </head>\n",
       "  <body>\n",
       "    <div class=\"container\">\n",
       "      <h1>Lesson: 15.1 Understanding Animal Behavior</h1>\n",
       "      <ul>\n",
       "        \n",
       "        <p>\n",
       "        </p>\n",
       "        <h3>Lesson Objectives</h3>\n",
       "        <p>Describe how animal behaviors can increase fitness and evolve through natural selection.\n",
       "Define innate behavior, and give examples of innate behaviors in humans and other animals.\n",
       "Define learned behavior, and explain different ways that animals can learn new behaviors.\n",
       "</p>\n",
       "        \n",
       "        <p>\n",
       "        </p>\n",
       "        <h3>Lesson Vocabulary</h3>\n",
       "        <p>animal behavior\n",
       "conditioning\n",
       "habituation\n",
       "innate behavior\n",
       "insight learning\n",
       "instinct\n",
       "learned behavior\n",
       "observational learning\n",
       "reflex behavior\n",
       "</p>\n",
       "        \n",
       "        <p>\n",
       "        </p>\n",
       "        <h3>Introduction</h3>\n",
       "        <p>Animal behavior is any way that an animal interact with other animals or the environment. An animal may carry out behaviors alone or with other animals. The photos in Figure 15.1 show just a few of the ways that animals behave. Look at the pictures and read about the behaviors they represent. Why do you think the animals are behaving in these ways? And how do the behaviors come about? Which, if any of them, have to be learned? </p>\n",
       "        \n",
       "        <p>\n",
       "        </p>\n",
       "        <h3>Animal Behavior and Natural Selection</h3>\n",
       "        <p>Why do animals behave in the ways pictured in Figure 15.1? The specific answer depends on what the behavior is. Male flamingoes put on a noisy group show in order to attract females for mating. Frogs call out to attract mates or to warn other frogs to stay away from their territory. Baby ducks follow their mother to stay close to her for protection and survival. Male elephant seals fight to defend their hunting territory from each other. All of these behaviors have the purpose of promoting reproduction or survival. Like the animals pictured above, all animals have behaviors that help them achieve these basic ends. Behaviors that help animals reproduce or survive increase their fitness. Animals with greater fitness have a better chance of passing their genes to the next generation. If genes control behaviors that increase fitness, the behaviors become more common in the species. In other words, they evolve by natural selection. </p>\n",
       "        \n",
       "        <p>\n",
       "        </p>\n",
       "        <h3>Innate Behaviors</h3>\n",
       "        <p>All of the animal behaviors pictured in Figure 15.1 are ways that animals act without being taught to act in these ways. Such behaviors are called innate. An innate behavior is any behavior that occurs naturally in all the animals of a given species. An innate behavior is also called an instinct. The first time an animal performs an innate behavior, the animal does it well. The animal doesnt have to practice the behavior in order to get it right or to become better at doing it. Innate behaviors are also predictable. All members of a species perform an innate behavior in the same way. </p>\n",
       "        \n",
       "        <p>\n",
       "        </p>\n",
       "        <h3>Other Examples of Innate Behaviors</h3>\n",
       "        <p>There are many other examples of innate behaviors in animals. Even behaviors that seem complex and difficult may be innate. For example, honeybees perform dances in order to communicate about food sources. When a honeybee, like the one in Figure 15.2, finds a food source, it returns to its hive and does a dance, called the waggle dance. The way the bee moves during its dance tells other bees in the hive where to find the food. Honeybees can do the waggle dance without learning it from other bees, so it is an innate behavior. Watch this video to see the waggle dance and find out what it communicates: http://video.nationalgeographic.com/video/weirdest-bees-dance MEDIA Click image to the left or use the URL below. URL: https://www.ck12.org/flx/render/embeddedobject/137132 Three other examples of innate behavior are pictured in Figure 15.3. If an animal were to perform such behaviors incorrectly, it might be less likely to survive or reproduce. Can you explain why each behavior pictured in the figure is important for reproduction or survival? </p>\n",
       "        \n",
       "        <p>\n",
       "        </p>\n",
       "        <h3>Innate Behaviors in Humans</h3>\n",
       "        <p>Innate behaviors occur in all animals. However, the more intelligent a species is, the fewer innate behaviors it generally has. The human species is the most intelligent animal species, and it has very few innate behaviors. The only innate behaviors in humans are reflex behaviors. A reflex behavior is a simple response that always occurs when a certain stimulus is present. Human reflex behaviors occur mainly in babies. You may have seen a baby exhibit the grasp reflex shown in Figure this way from birth to about 6 months of age. Its easy to see why this might help a baby survive. Grabbing onto something could keep a baby from falling and being injured. </p>\n",
       "        \n",
       "        <p>\n",
       "        </p>\n",
       "        <h3>Learned Behavior</h3>\n",
       "        <p>Other than infant reflexes, human behaviors are mainly learned rather than innate behaviors. Learned behavior is behavior that occurs only after experience or practice. Did you ever teach a dog to sit on command? Thats an example of a learned behavior. The dog wasnt born knowing that it should sit when it hears the word sit. The dog had to learn the behavior. Most animals are capable of learning, but animals that are more intelligent are better at learning and depend more on learned behaviors. The big advantage of learned behaviors over innate behaviors is that learned behaviors are flexible. They can be changed to suit changing conditions. Human beings depend on learned behaviors more than any other species. Think about some of the behaviors you have learned. They might include making a bed, riding a bicycle, using a computer, and playing a sport, to name just a few. You may have learned each of the behaviors in different ways. There are several different ways in which animals learn. They include habituation, observational learning, conditioning, learning through play, and insight learning. </p>\n",
       "        \n",
       "        <p>\n",
       "        </p>\n",
       "        <h3>Habituation</h3>\n",
       "        <p>One of the simplest ways of learning that occurs in just about all animals is habituation. Habituation means learning to get used to something after being exposed to it repeatedly. It usually involves getting used to something that is frightening or annoying but not dangerous. Look at the crows in Figure 15.5. They are no longer afraid of the scarecrow. They have gotten used to a human in this location and know that it wont hurt them. Habituation lets animals ignore things that wont harm them. It allows them to avoid wasting time and energy escaping from things that arent really dangerous. </p>\n",
       "        \n",
       "        <p>\n",
       "        </p>\n",
       "        <h3>Observational Learning</h3>\n",
       "        <p>Do you remember how you learned to tie your shoe laces? You may have watched and copied the behavior of your mom or an older sibling. Learning by watching and copying the behavior of someone else is called observational learning. Human children learn many behaviors this way. Other animals also learn through observational learning. For example, the wolves in Figure 15.6 learned how to hunt in a group by watching and copying the hunting behaviors of older wolves in their pack. </p>\n",
       "        \n",
       "        <p>\n",
       "        </p>\n",
       "        <h3>Conditioning</h3>\n",
       "        <p>Conditioning is a way of learning that involves a reward or punishment. If you ever trained a dog to obey a command, you probably gave the dog a tasty treat each time he performed the desired behavior. It may not have been very long before the dog would reliably follow the command in order to get the treat. This is an example of conditioning that involves a reward. Conditioning does not always involve a reward. It can involve a punishment instead. For example, a dog might be scolded each time she jumps up on the sofa. After repeated scolding, she may learn to stay off the sofa. Conditioning occurs in nature as well. Here are just two examples: Bees learn to find nectar in certain types of flowers because they have found nectar in those types of flowers before. In this case, the behavior is learned because it is rewarded with nectar. Many birds learn to avoid eating monarch butterflies, like the one pictured in Figure 15.7. Monarch butterflies taste bad and make birds sick. In this case, the behavior is learned because it is punished with a nasty taste and illness. </p>\n",
       "        \n",
       "        <p>\n",
       "        </p>\n",
       "        <h3>Learning Through Play</h3>\n",
       "        <p>Many animals, especially mammals, spend a lot of time playing when they are young. Although playing is fun, its likely that animals play for other reasons as well. Learning behaviors that will be important in adulthood is one likely outcome of play. Bear cubs, like the two bear cubs in Figure 15.8, frequently play together. They often pretend to be fighting. By play fighting they may be learning skills such as fighting and hunting that they will need as adults. Other young animals may play in different ways. For example, young deer play by running and kicking up their hooves. This may help them learn how to escape from predators. Human children learn by playing as well. For example, playing games and sports may help them learn how to follow rules and work with others. </p>\n",
       "        \n",
       "        <p>\n",
       "        </p>\n",
       "        <h3>Insight Learning</h3>\n",
       "        <p>Insight learning is learning from past experiences and reasoning. It generally involves coming up with new ways to solve problems. Insight learning generally happens quickly. An animal has a sudden flash of insight. Insight learning requires relatively great intelligence. Human beings use insight learning more than any other species. They have used it to invent the wheel to land astronauts on the moon. Think about problems you have solved. You may have figured out how to solve a new type of math problem or how to get to the next level of a video game. If you relied on your past experiences and reasoning to do it, then you were using insight learning. One type of insight learning is making tools to solve problems. Scientists used to think that humans were the only animals intelligent enough to make tools. In recent decades, however, there have been many observations of other animal species using tools. They range from monkeys and chimpanzees to crows. You can see a monkey using a stone tool in Figure 15.9. She is using the stone to crack open the shells of marine invertebrates such as oysters. Chimpanzees have been observed using sticks to fish for termites in a termite mound. Crows have been seen bending wire to form a hook in order to pull food out of a tube. Behaviors such as these show that other species of animals besides humans can use their experience and reasoning to solve problems. They can learn through insight. </p>\n",
       "        \n",
       "        <p>\n",
       "        </p>\n",
       "        <h3>Lesson Summary</h3>\n",
       "        <p>Animal behavior is any way that animals interact with each other or their environment. Many animal behaviors promote fitness by increasing the chances of surviving or reproducing. If such behaviors are controlled by genes, they evolve by natural selection. Innate behavior is any behavior that occurs naturally in all the animals of a given species. It doesnt have to be learned, and it occurs in the same way in all members of the species. Examples of innate behaviors include the waggle dance in honeybees and the grasp reflex in human babies. Learned behavior is any behavior that occurs only after experience or practice. The more intelligent a species is, the more it depends on learned behaviors, which have the advantage of being flexible. Ways in which animals learn behaviors include habituation, observational learning, conditioning, learning through play, and insight learning. </p>\n",
       "        \n",
       "        <p>\n",
       "        </p>\n",
       "        <h3>Lesson Review Questions</h3>\n",
       "        <p></p>\n",
       "        \n",
       "        <p>\n",
       "        </p>\n",
       "        <h3>Recall</h3>\n",
       "        <p>1. Define animal behavior. 2. Identify three examples of innate behavior, including one in humans. 3. Describe three different ways that an animal might learn a new behavior. </p>\n",
       "        \n",
       "        <p>\n",
       "        </p>\n",
       "        <h3>Apply Concepts</h3>\n",
       "        <p>4. Explain how you could use conditioning to teach a dog to lie down on command. </p>\n",
       "        \n",
       "        <p>\n",
       "        </p>\n",
       "        <h3>Think Critically</h3>\n",
       "        <p>5. Compare and contrast innate and learned behaviors. 6. Explain how innate behaviors evolve through natural selection. </p>\n",
       "        \n",
       "        <p>\n",
       "        </p>\n",
       "        <h3>Points to Consider</h3>\n",
       "        <p>Some animal behaviors have the purpose of sharing information with other animals. This is called communication. 1. What are some ways animals communicate? 2. Why do animals communicate? What purposes might it serve? </p>\n",
       "        \n",
       "      </ul>\n",
       "    </div>\n",
       "    <script src=\"http://code.jquery.com/jquery-1.10.2.min.js\"></script>\n",
       "    <script src=\"http://netdna.bootstrapcdn.com/bootstrap/3.0.0/js/bootstrap.min.js\"></script>\n",
       "  </body>\n",
       "</html>"
      ],
      "text/plain": [
       "<IPython.core.display.HTML object>"
      ]
     },
     "execution_count": 204,
     "metadata": {},
     "output_type": "execute_result"
    }
   ],
   "source": [
    "display_lesson_html(flexbook_ds['life-science'], '15.1 Understanding Animal Behavior')"
   ]
  },
  {
   "cell_type": "code",
   "execution_count": 184,
   "metadata": {
    "code_folding": [
     2
    ],
    "collapsed": false
   },
   "outputs": [],
   "source": [
    "page_html = \"\"\"\n",
    "<!DOCTYPE html>\n",
    "<html>\n",
    "  <head>\n",
    "    <style type=\"text/css\">\n",
    "    </style>\n",
    "  </head>\n",
    "  <body>\n",
    "    <div class=\"container\">\n",
    "      <h1>Lesson: {{lesson}}</h1>\n",
    "      <ul>\n",
    "        {% for topic in topics %}\n",
    "        <p>\n",
    "        </p>\n",
    "        <h3>{{topic.0}}</h3>\n",
    "        <p>{{\n",
    "        topic.1\n",
    "        }}</p>\n",
    "        {% endfor %}\n",
    "      </ul>\n",
    "    </div>\n",
    "    <script src=\"http://code.jquery.com/jquery-1.10.2.min.js\"></script>\n",
    "    <script src=\"http://netdna.bootstrapcdn.com/bootstrap/3.0.0/js/bootstrap.min.js\"></script>\n",
    "  </body>\n",
    "</html>\n",
    "\"\"\""
   ]
  },
  {
   "cell_type": "markdown",
   "metadata": {
    "heading_collapsed": true
   },
   "source": [
    "# End"
   ]
  },
  {
   "cell_type": "code",
   "execution_count": null,
   "metadata": {
    "collapsed": true,
    "hidden": true
   },
   "outputs": [],
   "source": [
    "\n",
    "stat_data = {'Number of Entities':stats_counter, 'Average Number per image': stats_fract}\n",
    "count = 2\n",
    "html = \"<table>\"\n",
    "# add header row\n",
    "\n",
    "html += \"<tr><th>\"\n",
    "for k in stat_data.keys():\n",
    "    html += \"<th>\"+k\n",
    "\n",
    "html += \"<tr><th>Entity Category\"\n",
    "for j in range(count):\n",
    "    html += \"<th>\"\n",
    "\n",
    "for k, v in stats_counter.items():\n",
    "    html += \"<tr><th>\"+k\n",
    "#     for j in range(count):\n",
    "    html += \"<td>\" + str(v)\n",
    "    html += \"<td>\" + \"%.2f\" % stats_fract[k]\n",
    "html += '<tr>'\n",
    "    \n",
    "# for k, v in stats_fract.items():\n",
    "#     html += \"<tr><th>\"+k\n",
    "#     for j in range(count):\n",
    "#         html += \"<td>\" + str(v)\n",
    "        \n",
    "html += \"</table>\"\n",
    "HTML(html)"
   ]
  },
  {
   "cell_type": "code",
   "execution_count": 25,
   "metadata": {
    "collapsed": true,
    "hidden": true
   },
   "outputs": [],
   "source": [
    "page_html = \"\"\"\n",
    "<html>\n",
    "<head>\n",
    "<title>{{ title }}</title>\n",
    "</head>\n",
    "<body>\n",
    "Hello.\n",
    "</body>\n",
    "</html>\n",
    "\"\"\""
   ]
  },
  {
   "cell_type": "code",
   "execution_count": 18,
   "metadata": {
    "code_folding": [
     1
    ],
    "collapsed": true,
    "hidden": true
   },
   "outputs": [],
   "source": [
    "page_template = \"\"\"\n",
    "<html>\n",
    " <head>\n",
    "  <title>KB HIT</title>\n",
    "  <meta content='text/html'/>\n",
    "  <script type='text/javascript' src='https://s3.amazonaws.com/mturk-public/externalHIT_v1.js'></script>\n",
    " </head>\n",
    " <body>\n",
    "    <p>We are constructing a large knowledge base (KB) about elementary science and commonsense knowledge, to help computers answer questions more reliably. We are planning to release the KB as a free, open source resource for the community when it is complete. Your work here will help us assemble this KB and contribute to this effort.</p>\n",
    "\n",
    "    <p>Below, the computer has automatically extracted some candidate facts from text for possible inclusion in the KB. However, some are weird, false, or nonsensical. This task will help us distinguish the good facts, to include in the KB, from the bad.</p>\n",
    "     <form name='mturk_form' method='post' id='mturk_form' action='https://workersandbox.mturk.com/mturk/externalSubmit'>\n",
    "      <input type='hidden' value='' name='assignmentId' id='assignmentId'/>\t\t \n",
    "      <table>\n",
    "        <tr><th></th><th>Commonsense Knowledge</th></tr>\n",
    "        {% for n in input_data %}\n",
    "            <tr><td>{{n.sentence}}</td><td nowrap>\n",
    "            <!--these break-->\n",
    "            <!--<input type=\"hidden\" name=\"{{n.sentence_id}}\" id=\"assignmentId\" value=\"ASSIGNMENT_NOT_AVAILABLE\" />-->\n",
    "            <!--<input type=\"hidden\" name=\"assignmentId\" id=\"assignmentId\" value=\"ASSIGNMENT_NOT_AVAILABLE\" />-->\n",
    "            <!--this is in the official documentation but breaks anyway!-->\n",
    "            <!--<input type='hidden' value='' name='assignmentId' id='assignmentId'/>-->\n",
    "            <!--this works:-->\n",
    "            <input name=\"{{n.sentence_id}}\" type=\"radio\" value=\"true-act\" />EXPECTED ACTION\n",
    "            <input name=\"{{n.sentence_id}}\" type=\"radio\" value=\"false-act\" />RARE/FALSE ACTION\n",
    "            <input name=\"{{n.sentence_id}}\" type=\"radio\" value=\"true-prop\" />TRUE PROPERTY\n",
    "            <input name=\"{{n.sentence_id}}\" type=\"radio\" value=\"false-prop\" />RARE/FALSE PROPERTY\n",
    "            <input name=\"{{n.sentence_id}}\" type=\"radio\" value=\"nonsense\" />NONSENSE\n",
    "            <input name=\"{{n.sentence_id}}\" type=\"radio\" value=\"unknown\" />DON'T KNOW\n",
    "            </td></tr>\n",
    "        {% endfor %}\n",
    "      </table>\n",
    "      <p><input type=\"submit\" id=\"submitButton\" value=\"Submit\" /></p>\n",
    "   </form>\n",
    "  <script language=\"Javascript\">turkSetAssignmentID();</script>\n",
    " </body>\n",
    "</html>\n",
    "\n",
    "\"\"\""
   ]
  }
 ],
 "metadata": {
  "kernelspec": {
   "display_name": "Python 2",
   "language": "python",
   "name": "python2"
  },
  "language_info": {
   "codemirror_mode": {
    "name": "ipython",
    "version": 2
   },
   "file_extension": ".py",
   "mimetype": "text/x-python",
   "name": "python",
   "nbconvert_exporter": "python",
   "pygments_lexer": "ipython2",
   "version": "2.7.10"
  }
 },
 "nbformat": 4,
 "nbformat_minor": 1
}
