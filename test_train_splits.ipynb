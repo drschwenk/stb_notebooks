{
 "cells": [
  {
   "cell_type": "markdown",
   "metadata": {
    "heading_collapsed": true
   },
   "source": [
    "# Table of Contents\n",
    "* [Load data](#Load-data)\n",
    "* [normalize text](#normalize-text)\n",
    "* [new metalesson assignments](#new-metalesson-assignments)\n",
    "* [test train splits](#test-train-splits)\n",
    "\t* [hide](#hide)\n",
    "* [dataset stats](#dataset-stats)\n",
    "\t* [topic](#topic)\n"
   ]
  },
  {
   "cell_type": "code",
   "execution_count": 1,
   "metadata": {
    "collapsed": false,
    "hidden": true,
    "run_control": {
     "frozen": false,
     "read_only": false
    }
   },
   "outputs": [],
   "source": [
    "%%capture\n",
    "%load_ext autoreload\n",
    "%autoreload 2\n",
    "import numpy as np\n",
    "import pandas as pd\n",
    "import scipy.stats as st\n",
    "import itertools\n",
    "import math\n",
    "from collections import Counter, defaultdict, OrderedDict\n",
    "\n",
    "import cv2\n",
    "import pprint\n",
    "import pickle\n",
    "import json\n",
    "import requests\n",
    "import io\n",
    "import sys\n",
    "import os\n",
    "from binascii import b2a_hex\n",
    "import base64\n",
    "from wand.image import Image as WImage\n",
    "from IPython.display import display\n",
    "import PIL.Image as Image\n",
    "from copy import deepcopy\n",
    "import glob\n",
    "\n",
    "import random\n",
    "import nltk\n",
    "import string\n",
    "from nltk.corpus import stopwords\n",
    "from nltk.tokenize import word_tokenize\n",
    "from nltk.tokenize import wordpunct_tokenize\n",
    "from nltk.stem.wordnet import WordNetLemmatizer\n",
    "from sklearn.feature_extraction.text import TfidfVectorizer\n",
    "from sklearn.cluster import KMeans\n",
    "import jsonschema"
   ]
  },
  {
   "cell_type": "code",
   "execution_count": 2,
   "metadata": {
    "collapsed": true,
    "hidden": true,
    "run_control": {
     "frozen": false,
     "read_only": false
    }
   },
   "outputs": [],
   "source": [
    "%%capture\n",
    "import matplotlib as mpl\n",
    "mpl.use(\"Agg\")\n",
    "import matplotlib.pylab as plt\n",
    "#%matplotlib notebook\n",
    "%matplotlib inline\n",
    "%load_ext base16_mplrc\n",
    "%base16_mplrc light solarized\n",
    "plt.rcParams['grid.linewidth'] = 0\n",
    "plt.rcParams['figure.figsize'] = (16.0, 10.0)"
   ]
  },
  {
   "cell_type": "code",
   "execution_count": 3,
   "metadata": {
    "collapsed": true,
    "hidden": true,
    "run_control": {
     "frozen": false,
     "read_only": false
    }
   },
   "outputs": [],
   "source": [
    "from tqa_utils import Evaluator\n",
    "from analysis_utils import *"
   ]
  },
  {
   "cell_type": "markdown",
   "metadata": {},
   "source": [
    "# Load data"
   ]
  },
  {
   "cell_type": "code",
   "execution_count": 4,
   "metadata": {
    "collapsed": false,
    "run_control": {
     "frozen": false,
     "read_only": false
    }
   },
   "outputs": [],
   "source": [
    "dataset_root_dir = '/Users/schwenk/wrk/stb/dataset_releases/data_release_beta6/'\n",
    "data_file = 'tqa_dataset_beta7_5.json'\n",
    "data_file_path = dataset_root_dir + data_file\n",
    "\n",
    "with open(os.path.join(dataset_root_dir, data_file_path), 'r') as f:\n",
    "    ck12_combined_dataset_raw = json.load(f)"
   ]
  },
  {
   "cell_type": "code",
   "execution_count": 5,
   "metadata": {
    "code_folding": [],
    "collapsed": false,
    "run_control": {
     "frozen": false,
     "read_only": false
    }
   },
   "outputs": [],
   "source": [
    "ck12_combined_dataset = deepcopy(ck12_combined_dataset_raw)"
   ]
  },
  {
   "cell_type": "code",
   "execution_count": 6,
   "metadata": {
    "collapsed": false,
    "run_control": {
     "frozen": false,
     "read_only": false
    }
   },
   "outputs": [],
   "source": [
    "lesson_text, lesson_name_lookup = collect_filtered_lesson_text(ck12_combined_dataset, True, True)"
   ]
  },
  {
   "cell_type": "code",
   "execution_count": 7,
   "metadata": {
    "collapsed": false,
    "run_control": {
     "frozen": false,
     "read_only": false
    }
   },
   "outputs": [],
   "source": [
    "quest_evaluator = Evaluator(data_file_path)\n",
    "all_ndqs = quest_evaluator.build_question_lookup(by_type=True)['nonDiagramQuestions']\n",
    "mc_questions = quest_evaluator.build_questions_by_subtype(all_ndqs)['Multiple Choice']\n",
    "all_diagram_qs = quest_evaluator.build_question_lookup(by_type=True)['diagramQuestions']"
   ]
  },
  {
   "cell_type": "code",
   "execution_count": 8,
   "metadata": {
    "collapsed": false,
    "run_control": {
     "frozen": false,
     "read_only": false
    }
   },
   "outputs": [],
   "source": [
    "old_ml_lookup = {lesson['globalID']: lesson['metaLessonID'] for lesson in ck12_combined_dataset_raw}"
   ]
  },
  {
   "cell_type": "code",
   "execution_count": 9,
   "metadata": {
    "collapsed": true,
    "run_control": {
     "frozen": false,
     "read_only": false
    }
   },
   "outputs": [],
   "source": [
    "lesson_ids = [lid for lid, lesson in sorted(lesson_text.items(), key=lambda x: x[0])]\n",
    "lesson_names = [lesson_name_lookup[lid] for lid in lesson_ids]\n",
    "lesson_corp = [lesson for lid, lesson in sorted(lesson_text.items(), key=lambda x: x[0])]"
   ]
  },
  {
   "cell_type": "markdown",
   "metadata": {},
   "source": [
    "# normalize text"
   ]
  },
  {
   "cell_type": "code",
   "execution_count": 349,
   "metadata": {
    "collapsed": true,
    "run_control": {
     "frozen": false,
     "read_only": false
    }
   },
   "outputs": [
    {
     "data": {
      "text/plain": [
       "'In the mid 1900s, people were startled to see the Cuyahoga River in Cleveland, Ohio, burst into flames! The river was so polluted with oil and other industrial wastes that it was flammable. Nothing could live in it. You can see the Cuyahoga River in Figure 21.16 \\nDisasters such as rivers burning led to new U.S. laws to protect the water. For example, the Environmental Protection Agency (EPA) was established, and the Clean Water Act was passed. Now, water is routinely tested. Pollution is tracked to its source, and polluters are forced to fix the problem and clean up the pollution. They are also fined. These consequences have led industries, agriculture, and communities to pollute the water much less than before. \\nMost water pollution comes from industry, agriculture, and municipal sources. Homes are part of the municipal source and the individuals and families that live in them can pollute the water supply. What can you do to reduce water pollution? Read the tips below. Properly dispose of motor oil and household chemicals. Never pour them down the drain. Also, dont let them spill on the ground. This keeps them out of storm sewers and bodies of water. Use fewer lawn and garden chemicals. Use natural products instead. For example, use compost instead of fertilizer. Or grow plants that can thrive on their own without any extra help. Repair engine oil leaks right away. A steady drip of oil from an engine can quickly add up to gallons. When the oil washes off driveways and streets it can end up in storm drains and pollute the water supply. Dont let pet litter or pet wastes get into the water supply (see Figure 21.17). The nitrogen they contain can cause overgrowth of algae. The wastes may also contain bacteria and other causes of disease. \\nWater treatment is a series of processes that remove unwanted substances from water. The goal of water treatment is to make the water safe to return to the natural environment or to the human water supply. Treating water for other purposes may not include all the same steps. Thats because water used in agriculture or industry may not have to be as clean as drinking water. You can see how water for drinking is treated in Figure 21.18. Treating drinking water requires at least four processes: 1. Chemicals are added to untreated water. They cause solids in the water to clump together. This is called coagulation. 2. The water is moved to tanks. The clumped solids sink to the bottom of the water. This is called sedimentation. 3. The water is passed through filters that remove smaller particles from the water. This is called filtration. 4. Chlorine is added to the water to kill bacteria and other microbes. This is called disinfection. Finally, the water is pure enough to drink. \\nConserving water means using less of it. Of course, this mostly applies to people in the wealthy nations that have the most water and also waste the most. \\nIrrigation is the single biggest use of water. Overhead irrigation wastes a lot of water. Drip irrigation wastes a lot less. Figure 21.19 shows a drip irrigation system. Water pipes run over the surface of the ground. Tiny holes in the pipes are placed close to each plant. Water slowly drips out of the holes and soaks into the soil around the plants. Very little of the water evaporates or runs off the ground. \\nSome communities save water with rationing. Much rationing takes place only during times of drought. During rationing, water may not be used for certain things. For example, communities may ban lawn watering and car washing. People may be fined if they use water in these ways. You can do your part. Follow any bans where you live. \\nIts easy to save water at home. If you save even a few gallons a day you can make a big difference over the long run. The best place to start saving water is in the bathroom. Toilet flushing is the single biggest use of water in the home. Showers and baths are the next biggest use. Follow the tips below to save water at home. Install water-saving toilets. They use only about half as much water per flush. A single household can save up to 20,000 gallons a year with this change alone! Take shorter showers. You can get just as clean in 5 minutes as you can in 10. And youll save up to 50 gallons of water each time you shower. Thats thousands of gallons each year. Use low-flow shower heads. They use about half as much water as regular shower heads. They save thousands of gallons of water. Fix leaky shower heads and faucets. All those drips really add up. At one drip per second, more than 6,000 gallons go down the drain in a year per faucet! Dont leave the water running while you brush your teeth. You could save as much as 10 gallons each time you brush. That could add up to 10,000 gallons in a year. Landscape your home with plants that need little water. This could result in a huge savings in water use. Look at the garden in Figure 21.20. It shows that you dont have to sacrifice beauty to save water. \\nThe water supply can be harmed in two major ways. The water can be polluted, and it can be overused. Protecting the water supply must address both problems. We need to reduce how much pollution ends up in the water supply. We need to treat water thats already polluted. We need to conserve water by using less. \\n6. Assume a city has 50,000 households. Also assume that each household will replace all of its toilets with water- saving models. Use data in the lesson to estimate how many gallons of water the city could save in a year from this change alone. 7. Describe a model home with features that save water. \\nLaws have been passed to control water pollution. In many places, water is cleaner now than it used to be. Everyone can help reduce water pollution. For example, they can keep motor oil and pet wastes out of the water supply. Water treatment is a series of processes that remove unwanted substances from water. More processes are needed to purify water for drinking than for other uses. There are many ways to use less water. For example, drip irrigation wastes less than other methods. Water- saving toilets and shower heads can save a lot of water at home. \\n1. Identify three ways that people can reduce water pollution at home. 2. List the processes used to treat drinking water. 3. What is filtration? What does it remove from water? 4. Why is chlorine added to drinking water? 5. Describe how water might be rationed in a community. Why would this be done? \\n8. Compare and contrast drip irrigation and sprinkler irrigation. Explain which one wastes less water. Which one causes less water pollution? Why? In what regions is drip irrigation most useful? \\nWe can survive for a few days without water. We can survive for just a few minutes without air. Like water, air is polluted by human actions. What causes air pollution? What can be done to keep air clean? \\nList ways to reduce water pollution.\\nDescribe how water is treated.\\nIdentify ways to conserve water.\\n\\n'"
      ]
     },
     "execution_count": 349,
     "metadata": {},
     "output_type": "execute_result"
    }
   ],
   "source": [
    "lesson_corp[44]"
   ]
  },
  {
   "cell_type": "code",
   "execution_count": 203,
   "metadata": {
    "code_folding": [
     0
    ],
    "collapsed": true,
    "run_control": {
     "frozen": false,
     "read_only": false
    }
   },
   "outputs": [],
   "source": [
    "# tokens = wordpunct_tokenize(text)\n",
    "# normalized_tokens = [toke.strip().lower().encode('ascii', 'ignore').decode() for toke in tokens if toke.strip().lower().encode('ascii', 'ignore').decode() not in cached_sw]"
   ]
  },
  {
   "cell_type": "code",
   "execution_count": 11,
   "metadata": {
    "collapsed": true,
    "run_control": {
     "frozen": false,
     "read_only": false
    }
   },
   "outputs": [],
   "source": [
    "cached_sw = stopwords.words('english') + list(string.punctuation)\n",
    "lemmatizer = WordNetLemmatizer()"
   ]
  },
  {
   "cell_type": "code",
   "execution_count": 78,
   "metadata": {
    "code_folding": [
     12
    ],
    "collapsed": false,
    "run_control": {
     "frozen": false,
     "read_only": false
    }
   },
   "outputs": [],
   "source": [
    "def tokenize_and_stem(text, stopwords=cached_sw):\n",
    "    tokens = wordpunct_tokenize(text)\n",
    "    normalized_tokens = []\n",
    "    for toke in tokens:\n",
    "        cleaned_token = toke.strip().lower()\n",
    "        if len(cleaned_token) > 3 and cleaned_token not in stopwords and cleaned_token.isalpha():\n",
    "            stem = lemmatizer.lemmatize(cleaned_token)\n",
    "            normalized_tokens.append(stem)\n",
    "    return normalized_tokens\n",
    "\n",
    "def tokenize_and_mark_sci_terms(text, stopwords=cached_sw, science_terms=None):\n",
    "    tokens = wordpunct_tokenize(text)\n",
    "    normalized_tokens = []\n",
    "    for toke in tokens:\n",
    "        cleaned_token = toke.strip().lower()\n",
    "        if len(cleaned_token) > 3 and cleaned_token not in stopwords and cleaned_token.isalpha():\n",
    "            stem = lemmatizer.lemmatize(cleaned_token)\n",
    "            if stem in science_terms:\n",
    "                normalized_tokens.append('__CONCEPT__')\n",
    "            else:\n",
    "                normalized_tokens.append(stem)\n",
    "    return normalized_tokens\n",
    "\n",
    "def tokenize_lesson(text):\n",
    "    tokens = wordpunct_tokenize(text)\n",
    "    normalized_tokens = []\n",
    "    for toke in tokens:\n",
    "        cleaned_token = toke.strip().lower()\n",
    "        if cleaned_token and cleaned_token not in cached_sw and cleaned_token.isalpha():\n",
    "             normalized_tokens.append(cleaned_token)\n",
    "    return normalized_tokens"
   ]
  },
  {
   "cell_type": "markdown",
   "metadata": {},
   "source": [
    "# new test train assignments"
   ]
  },
  {
   "cell_type": "code",
   "execution_count": 13,
   "metadata": {
    "collapsed": false,
    "run_control": {
     "frozen": false,
     "read_only": false
    }
   },
   "outputs": [],
   "source": [
    "manual_assignments = {\n",
    "                      \"insects and other arthropods\": \"train\",\n",
    "                      \"covalent bonds\": \"train\",\n",
    "                      \"the sun and the earthmoon system\": \"train\",\n",
    "                      \"the senses\": \"train\",\n",
    "                      \"the respiratory system\": \"test\",\n",
    "                      \"evolution and classification of plants\": \"test\",\n",
    "                      \"the nervous system\": \"train\",\n",
    "                      \"parts leaf\": \"train\",\n",
    "                      \"volcanic eruptions\": \"train\",\n",
    "                      \"introduction to the solar system\": \"train\",\n",
    "                      \"nuclear energy\": \"train\",\n",
    "    \n",
    "                      \"seasons\": \"test\",\n",
    "                      \"introduction to plants\": \"test\",\n",
    "                      \"cell structures\": \"train\",\n",
    "                      \"inside the atom\": \"test\",\n",
    "                      \"inside earth\": \"test\",\n",
    "                      \"vision and the eye\": \"test\",\n",
    "                      \"the digestive system\": \"train\",\n",
    "                      \"eclipses\": \"test\",\n",
    "                      \"flow of energy\": \"test\"\n",
    "                     }"
   ]
  },
  {
   "cell_type": "code",
   "execution_count": 14,
   "metadata": {
    "collapsed": false,
    "run_control": {
     "frozen": false,
     "read_only": false
    }
   },
   "outputs": [],
   "source": [
    "lesson_name_lookup_inverted = {v: k for k, v in lesson_name_lookup.items()}"
   ]
  },
  {
   "cell_type": "code",
   "execution_count": 16,
   "metadata": {
    "collapsed": false,
    "run_control": {
     "frozen": false,
     "read_only": false
    }
   },
   "outputs": [],
   "source": [
    "# with open('output_data_from_nbs/flexbook_glossary.pkl', 'rb') as f:\n",
    "#     glossary_terms = pickle.load(f)\n",
    "    \n",
    "with open('output_data_from_nbs/ck_12_vocab_words.pkl', 'rb') as f:\n",
    "    glossary_terms = pickle.load(f)"
   ]
  },
  {
   "cell_type": "code",
   "execution_count": 17,
   "metadata": {
    "collapsed": false,
    "run_control": {
     "frozen": false,
     "read_only": false
    }
   },
   "outputs": [],
   "source": [
    "stemmed_terms = [tokenize_and_stem(term)[0] for term in glossary_terms if tokenize_and_stem(term)]"
   ]
  },
  {
   "cell_type": "code",
   "execution_count": 18,
   "metadata": {
    "collapsed": false,
    "run_control": {
     "frozen": false,
     "read_only": false
    }
   },
   "outputs": [],
   "source": [
    "all_words = [tokenize_and_stem(lesson) for lesson in lesson_corp]"
   ]
  },
  {
   "cell_type": "code",
   "execution_count": 19,
   "metadata": {
    "collapsed": true,
    "run_control": {
     "frozen": false,
     "read_only": false
    }
   },
   "outputs": [],
   "source": [
    "all_words_set = set([word for lesson in all_words for word in lesson])"
   ]
  },
  {
   "cell_type": "code",
   "execution_count": 992,
   "metadata": {
    "collapsed": false,
    "run_control": {
     "frozen": false,
     "read_only": false
    }
   },
   "outputs": [],
   "source": [
    "orig_text = ' '.join(tokenize_and_stem(test_text))"
   ]
  },
  {
   "cell_type": "code",
   "execution_count": 997,
   "metadata": {
    "collapsed": true,
    "run_control": {
     "frozen": false,
     "read_only": false
    }
   },
   "outputs": [
    {
     "data": {
      "text/plain": [
       "{'common',\n",
       " 'destructive',\n",
       " 'explosive',\n",
       " 'figure',\n",
       " 'fluid',\n",
       " 'force',\n",
       " 'image',\n",
       " 'lake',\n",
       " 'large',\n",
       " 'magma',\n",
       " 'ocean',\n",
       " 'outer',\n",
       " 'pressure',\n",
       " 'resource',\n",
       " 'smooth',\n",
       " 'source',\n",
       " 'stream',\n",
       " 'surface',\n",
       " 'thermal',\n",
       " 'thunder'}"
      ]
     },
     "execution_count": 997,
     "metadata": {},
     "output_type": "execute_result"
    }
   ],
   "source": [
    "set(orig_text.split()).difference(set(sciw_removed.split()))"
   ]
  },
  {
   "cell_type": "code",
   "execution_count": 164,
   "metadata": {
    "collapsed": false,
    "run_control": {
     "frozen": false,
     "read_only": false
    }
   },
   "outputs": [],
   "source": [
    "tfizer = TfidfVectorizer(analyzer='word', tokenizer=lambda x: tokenize_and_stem(x, cached_sw), ngram_range=(1,3), min_df = 0.05, max_df=0.8)\n",
    "tfidf =  tfizer.fit_transform(lesson_corp)\n",
    "feature_names = tfizer.get_feature_names() "
   ]
  },
  {
   "cell_type": "code",
   "execution_count": 165,
   "metadata": {
    "code_folding": [],
    "collapsed": true,
    "run_control": {
     "frozen": false,
     "read_only": false
    }
   },
   "outputs": [],
   "source": [
    "pairwise_similarity = tfidf * tfidf.T"
   ]
  },
  {
   "cell_type": "code",
   "execution_count": 166,
   "metadata": {
    "collapsed": false,
    "run_control": {
     "frozen": false,
     "read_only": false
    }
   },
   "outputs": [],
   "source": [
    "with open('pairwise_similarity.pkl', 'wb') as f:\n",
    "    pickle.dump(pairwise_similarity, f)"
   ]
  },
  {
   "cell_type": "code",
   "execution_count": null,
   "metadata": {
    "collapsed": true
   },
   "outputs": [],
   "source": [
    "flattened_dict = {k: v for d in list_of_dicts for k, v in d.items()}\n",
    "flattened_dict = {**d1, **d2}\n",
    "array.flatten()"
   ]
  },
  {
   "cell_type": "code",
   "execution_count": 122,
   "metadata": {
    "collapsed": true
   },
   "outputs": [],
   "source": [
    "build_marked_corp = [tokenize_and_mark_sci_terms(lesson, [], stemmed_terms) for lesson in lesson_corp]"
   ]
  },
  {
   "cell_type": "code",
   "execution_count": 128,
   "metadata": {
    "collapsed": false
   },
   "outputs": [],
   "source": [
    "corpus_marked_tokes = [item for sublist in build_marked_corp for item in sublist]"
   ]
  },
  {
   "cell_type": "code",
   "execution_count": 127,
   "metadata": {
    "collapsed": true
   },
   "outputs": [],
   "source": [
    "trigram_measures = nltk.collocations.TrigramAssocMeasures()\n",
    "bigram_measures = nltk.collocations.BigramAssocMeasures()\n",
    "bigram_measures = nltk.collocations.QuadgramCollocationFinder()"
   ]
  },
  {
   "cell_type": "code",
   "execution_count": null,
   "metadata": {
    "collapsed": true
   },
   "outputs": [],
   "source": [
    "nltk.collocations.spearman_correlation"
   ]
  },
  {
   "cell_type": "code",
   "execution_count": null,
   "metadata": {
    "collapsed": true
   },
   "outputs": [],
   "source": []
  },
  {
   "cell_type": "code",
   "execution_count": 148,
   "metadata": {
    "collapsed": true
   },
   "outputs": [],
   "source": [
    "quad_finder = nltk.collocations.QuadgramCollocationFinder.from_words(corpus_marked_tokes)"
   ]
  },
  {
   "cell_type": "code",
   "execution_count": 154,
   "metadata": {
    "collapsed": false
   },
   "outputs": [
    {
     "data": {
      "text/plain": [
       "[('answer', 'question', 'that', 'follow'),\n",
       " ('click', '__CONCEPT__', 'left', 'below'),\n",
       " ('__CONCEPT__', 'left', 'below', 'what'),\n",
       " ('__CONCEPT__', 'click', '__CONCEPT__', 'left'),\n",
       " ('__CONCEPT__', 'called', '__CONCEPT__', '__CONCEPT__'),\n",
       " ('called', '__CONCEPT__', '__CONCEPT__', '__CONCEPT__'),\n",
       " ('__CONCEPT__', '__CONCEPT__', 'called', '__CONCEPT__'),\n",
       " ('__CONCEPT__', '__CONCEPT__', '__CONCEPT__', 'that'),\n",
       " ('__CONCEPT__', 'what', '__CONCEPT__', '__CONCEPT__'),\n",
       " ('from', '__CONCEPT__', '__CONCEPT__', '__CONCEPT__'),\n",
       " ('__CONCEPT__', '__CONCEPT__', 'what', '__CONCEPT__'),\n",
       " ('__CONCEPT__', 'from', '__CONCEPT__', '__CONCEPT__'),\n",
       " ('__CONCEPT__', '__CONCEPT__', '__CONCEPT__', '__CONCEPT__'),\n",
       " ('__CONCEPT__', '__CONCEPT__', 'this', '__CONCEPT__')]"
      ]
     },
     "execution_count": 154,
     "metadata": {},
     "output_type": "execute_result"
    }
   ],
   "source": [
    "quad_finder.apply_freq_filter(300)\n",
    "quad_finder.nbest(bigram_measures.pmi, 20)"
   ]
  },
  {
   "cell_type": "code",
   "execution_count": 157,
   "metadata": {
    "collapsed": true
   },
   "outputs": [],
   "source": [
    "phrase_bi_finder = BigramCollocationFinder.from_words(corpus_marked_tokes)"
   ]
  },
  {
   "cell_type": "code",
   "execution_count": 163,
   "metadata": {
    "collapsed": false
   },
   "outputs": [
    {
     "data": {
      "text/plain": [
       "[('left', 'below'),\n",
       " ('click', '__CONCEPT__'),\n",
       " ('__CONCEPT__', 'left'),\n",
       " ('called', '__CONCEPT__'),\n",
       " ('__CONCEPT__', 'such'),\n",
       " ('different', '__CONCEPT__'),\n",
       " ('these', '__CONCEPT__'),\n",
       " ('__CONCEPT__', 'which'),\n",
       " ('other', '__CONCEPT__'),\n",
       " ('__CONCEPT__', 'also'),\n",
       " ('__CONCEPT__', 'called'),\n",
       " ('through', '__CONCEPT__'),\n",
       " ('__CONCEPT__', 'form'),\n",
       " ('their', '__CONCEPT__'),\n",
       " ('into', '__CONCEPT__'),\n",
       " ('__CONCEPT__', 'that'),\n",
       " ('most', '__CONCEPT__'),\n",
       " ('some', '__CONCEPT__'),\n",
       " ('when', '__CONCEPT__'),\n",
       " ('__CONCEPT__', 'what')]"
      ]
     },
     "execution_count": 163,
     "metadata": {},
     "output_type": "execute_result"
    }
   ],
   "source": [
    "phrase_bi_finder.apply_freq_filter(700) \n",
    "phrase_bi_finder.nbest(bigram_measures.pmi, 20)"
   ]
  },
  {
   "cell_type": "code",
   "execution_count": 155,
   "metadata": {
    "collapsed": true
   },
   "outputs": [],
   "source": [
    "phrase_tri_finder = TrigramCollocationFinder.from_words(corpus_marked_tokes)"
   ]
  },
  {
   "cell_type": "code",
   "execution_count": 156,
   "metadata": {
    "collapsed": false
   },
   "outputs": [
    {
     "data": {
      "text/plain": [
       "[('below', 'answer', 'question'),\n",
       " ('question', 'that', 'follow'),\n",
       " ('answer', 'question', 'that'),\n",
       " ('left', 'below', 'what'),\n",
       " ('click', '__CONCEPT__', 'left'),\n",
       " ('medium', 'click', '__CONCEPT__'),\n",
       " ('__CONCEPT__', 'left', 'below'),\n",
       " ('__CONCEPT__', 'below', 'answer'),\n",
       " ('below', 'click', '__CONCEPT__'),\n",
       " ('left', 'below', '__CONCEPT__'),\n",
       " ('below', 'what', '__CONCEPT__'),\n",
       " ('called', '__CONCEPT__', '__CONCEPT__'),\n",
       " ('__CONCEPT__', '__CONCEPT__', 'occurs'),\n",
       " ('high', '__CONCEPT__', '__CONCEPT__'),\n",
       " ('__CONCEPT__', 'called', '__CONCEPT__'),\n",
       " ('__CONCEPT__', 'describe', '__CONCEPT__'),\n",
       " ('describe', '__CONCEPT__', '__CONCEPT__'),\n",
       " ('__CONCEPT__', '__CONCEPT__', 'explain'),\n",
       " ('between', '__CONCEPT__', '__CONCEPT__'),\n",
       " ('include', '__CONCEPT__', '__CONCEPT__'),\n",
       " ('__CONCEPT__', '__CONCEPT__', 'include'),\n",
       " ('__CONCEPT__', '__CONCEPT__', 'describe'),\n",
       " ('__CONCEPT__', 'click', '__CONCEPT__'),\n",
       " ('__CONCEPT__', 'include', '__CONCEPT__'),\n",
       " ('__CONCEPT__', '__CONCEPT__', 'which'),\n",
       " ('three', '__CONCEPT__', '__CONCEPT__'),\n",
       " ('part', '__CONCEPT__', '__CONCEPT__'),\n",
       " ('cause', '__CONCEPT__', '__CONCEPT__'),\n",
       " ('__CONCEPT__', '__CONCEPT__', 'also'),\n",
       " ('through', '__CONCEPT__', '__CONCEPT__')]"
      ]
     },
     "execution_count": 156,
     "metadata": {},
     "output_type": "execute_result"
    }
   ],
   "source": [
    "phrase_tri_finder.apply_freq_filter(200) \n",
    "phrase_tri_finder.nbest(trigram_measures.pmi, 30)  "
   ]
  },
  {
   "cell_type": "code",
   "execution_count": 129,
   "metadata": {
    "collapsed": true
   },
   "outputs": [],
   "source": [
    "most_common_bigrams = []\n",
    "\n",
    "for k,v in sorted(phrase_bi_finder.ngram_fd.items(), key=lambda x:x[1], reverse=True)[:15]:\n",
    "    most_common_bigrams.append((' '.join(k), v))"
   ]
  },
  {
   "cell_type": "code",
   "execution_count": 106,
   "metadata": {
    "collapsed": true
   },
   "outputs": [],
   "source": [
    "tfizer = TfidfVectorizer(analyzer='word', tokenizer=lambda x: tokenize_and_mark_sci_terms(x, [], stemmed_terms), ngram_range=(1,3), min_df = 0.05)\n",
    "tfidf =  tfizer.fit_transform(lesson_corp)\n",
    "feature_names = tfizer.get_feature_names() "
   ]
  },
  {
   "cell_type": "code",
   "execution_count": 107,
   "metadata": {
    "code_folding": [],
    "collapsed": true,
    "run_control": {
     "frozen": false,
     "read_only": false
    }
   },
   "outputs": [],
   "source": [
    "pairwise_similarity_sw_removed = tfidf * tfidf.T"
   ]
  },
  {
   "cell_type": "code",
   "execution_count": 108,
   "metadata": {
    "collapsed": true
   },
   "outputs": [],
   "source": [
    "with open('pairwise_similarity_sw_removed.pkl', 'wb') as f:\n",
    "    pickle.dump(pairwise_similarity_sw_removed, f)"
   ]
  },
  {
   "cell_type": "code",
   "execution_count": null,
   "metadata": {
    "collapsed": true
   },
   "outputs": [],
   "source": []
  },
  {
   "cell_type": "code",
   "execution_count": null,
   "metadata": {
    "collapsed": true
   },
   "outputs": [],
   "source": []
  },
  {
   "cell_type": "code",
   "execution_count": null,
   "metadata": {
    "collapsed": true
   },
   "outputs": [],
   "source": []
  },
  {
   "cell_type": "code",
   "execution_count": 167,
   "metadata": {
    "collapsed": false,
    "run_control": {
     "frozen": false,
     "read_only": false
    }
   },
   "outputs": [],
   "source": [
    "num_clusters = 15\n",
    "km = KMeans(n_clusters=num_clusters, max_iter=10000 , n_init=10, n_jobs=7)\n",
    "km.fit(tfidf)\n",
    "clusters = km.labels_.tolist()\n",
    "\n",
    "feature_names = tfizer.get_feature_names()"
   ]
  },
  {
   "cell_type": "code",
   "execution_count": 92,
   "metadata": {
    "collapsed": false,
    "run_control": {
     "frozen": false,
     "read_only": false
    }
   },
   "outputs": [],
   "source": [
    "cluster_members = defaultdict(list)\n",
    "for idx, cluster in enumerate(clusters):\n",
    "    cluster_members[cluster].append(lesson_ids[idx])"
   ]
  },
  {
   "cell_type": "code",
   "execution_count": 93,
   "metadata": {
    "code_folding": [],
    "collapsed": false,
    "run_control": {
     "frozen": false,
     "read_only": false
    }
   },
   "outputs": [
    {
     "name": "stdout",
     "output_type": "stream",
     "text": [
      "11 L_0779 ionic bonds\n",
      "11 L_0928 ionic bonding\n",
      "11 L_0929 ionic compounds\n"
     ]
    }
   ],
   "source": [
    "for cn, members, in cluster_members.items():\n",
    "    for m in members:\n",
    "        member_name = lesson_name_lookup[m]\n",
    "        if 'ionic' in member_name:\n",
    "            print(cn,m,  member_name)"
   ]
  },
  {
   "cell_type": "code",
   "execution_count": 94,
   "metadata": {
    "collapsed": false,
    "run_control": {
     "frozen": false,
     "read_only": false
    }
   },
   "outputs": [
    {
     "data": {
      "text/plain": [
       "9     184\n",
       "1     124\n",
       "7      95\n",
       "12     87\n",
       "11     81\n",
       "2      67\n",
       "3      61\n",
       "14     54\n",
       "6      54\n",
       "5      54\n",
       "0      54\n",
       "10     46\n",
       "4      42\n",
       "13     41\n",
       "8      32\n",
       "dtype: int64"
      ]
     },
     "execution_count": 94,
     "metadata": {},
     "output_type": "execute_result"
    }
   ],
   "source": [
    "cluster_membership_numbers = pd.Series(clusters).value_counts()\n",
    "cluster_membership_numbers"
   ]
  },
  {
   "cell_type": "code",
   "execution_count": 169,
   "metadata": {
    "collapsed": false,
    "run_control": {
     "frozen": false,
     "read_only": false
    },
    "scrolled": true
   },
   "outputs": [
    {
     "name": "stdout",
     "output_type": "stream",
     "text": [
      "320 756\n",
      "0.29739776951672864 0.7026022304832714\n"
     ]
    }
   ],
   "source": [
    "tt_assignments_id = defaultdict(list)\n",
    "for c, members in cluster_members.items():\n",
    "    member_names = [lesson_name_lookup[m] for m in members]\n",
    "    assigned_split = 'train'\n",
    "    rand_n = random.random()\n",
    "    man_assigned = set(member_names).intersection(set(manual_assignments.keys()))\n",
    "    if man_assigned:\n",
    "        assigned_split = manual_assignments[man_assigned.pop()]\n",
    "    elif rand_n > 0.95:\n",
    "        assigned_split = 'test'\n",
    "    tt_assignments_id[assigned_split] += members\n",
    "\n",
    "tot_len = len(tt_assignments_id['test']) + len(tt_assignments_id['train'])\n",
    "print(len(tt_assignments_id['test']), len(tt_assignments_id['train']))\n",
    "print(len(tt_assignments_id['test']) / tot_len, len(tt_assignments_id['train'])/ tot_len)"
   ]
  },
  {
   "cell_type": "code",
   "execution_count": 170,
   "metadata": {
    "collapsed": false,
    "run_control": {
     "frozen": false,
     "read_only": false
    }
   },
   "outputs": [],
   "source": [
    "with open('new_tt_assignments.json', 'w') as f:\n",
    "    json.dump(tt_assignments_id, f)"
   ]
  },
  {
   "cell_type": "code",
   "execution_count": 68,
   "metadata": {
    "collapsed": false,
    "run_control": {
     "frozen": false,
     "read_only": false
    },
    "scrolled": true
   },
   "outputs": [
    {
     "name": "stdout",
     "output_type": "stream",
     "text": [
      "Cluster 0 words:\n",
      " wire\n",
      " coil\n",
      " flowing\n",
      " cloud\n",
      " device\n",
      " form\n",
      "\n",
      "\n",
      "Cluster 1 words:\n",
      " specie\n",
      " organism\n",
      " insect\n",
      " live\n",
      " relationship\n",
      " animal\n",
      "\n",
      "\n",
      "Cluster 2 words:\n",
      " wave\n",
      " travel\n",
      " sound\n",
      " medium\n",
      " wavelength\n",
      " particle\n",
      "\n",
      "\n",
      "Cluster 3 words:\n",
      " layer\n",
      " soil\n",
      " fossil\n",
      " clay\n",
      " rock\n",
      " region\n",
      "\n",
      "\n",
      "Cluster 4 words:\n",
      " north\n",
      " wind\n",
      " volcano\n",
      " continent\n",
      " earth\n",
      " south\n",
      "\n",
      "\n",
      "Cluster 5 words:\n",
      " cell\n",
      " pathogen\n",
      " chromosome\n",
      " disease\n",
      " cause\n",
      " male\n",
      "\n",
      "\n",
      "Cluster 6 words:\n",
      " object\n",
      " greater\n",
      " moving\n",
      " machine\n",
      " newton\n",
      " input\n",
      "\n",
      "\n",
      "Cluster 7 words:\n",
      " rock\n",
      " mineral\n",
      " fossil\n",
      " sedimentary\n",
      " igneous\n",
      " sediment\n",
      "\n",
      "\n",
      "Cluster 8 words:\n",
      " reactant\n",
      " reaction\n",
      " product\n",
      " bond\n",
      " oxygen\n",
      " equation\n",
      "\n",
      "\n",
      "Cluster 9 words:\n",
      " scientist\n",
      " research\n",
      " example\n",
      " evidence\n",
      " data\n",
      " people\n",
      "\n",
      "\n",
      "Cluster 10 words:\n",
      " proton\n",
      " neutron\n",
      " atom\n",
      " alpha\n",
      " particle\n",
      " isotope\n",
      "\n",
      "\n",
      "Cluster 11 words:\n",
      " particle\n",
      " change\n",
      " fixed\n",
      " substance\n",
      " gas\n",
      " tire\n",
      "\n",
      "\n",
      "Cluster 12 words:\n",
      " atom\n",
      " electron\n",
      " bond\n",
      " compound\n",
      " ion\n",
      " form\n",
      "\n",
      "\n",
      "Cluster 13 words:\n",
      " organism\n",
      " plant\n",
      " dioxide\n",
      " cell\n",
      " protist\n",
      " living\n",
      "\n",
      "\n",
      "Cluster 14 words:\n",
      " element\n",
      " electron\n",
      " metal\n",
      " reactive\n",
      " nonmetal\n",
      " property\n",
      "\n",
      "\n",
      "Cluster 15 words:\n",
      " bird\n",
      " mammal\n",
      " animal\n",
      " vertebrate\n",
      " reptile\n",
      " specie\n",
      "\n",
      "\n",
      "Cluster 16 words:\n",
      " resource\n",
      " fuel\n",
      " pollutant\n",
      " people\n",
      " coal\n",
      " used\n",
      "\n",
      "\n",
      "Cluster 17 words:\n",
      " planet\n",
      " mercury\n",
      " venus\n",
      " earth\n",
      " jupiter\n",
      " mar\n",
      "\n",
      "\n",
      "Cluster 18 words:\n",
      " protein\n",
      " acid\n",
      " molecule\n",
      " amino\n",
      " lipid\n",
      " cell\n",
      "\n",
      "\n",
      "Cluster 19 words:\n",
      " star\n",
      " galaxy\n",
      " astronomer\n",
      " echinoderm\n",
      " hubble\n",
      " away\n",
      "\n",
      "\n",
      "Cluster 20 words:\n",
      " baby\n",
      " female\n",
      " behavior\n",
      " ovary\n",
      " child\n",
      " egg\n",
      "\n",
      "\n",
      "Cluster 21 words:\n",
      " dissolve\n",
      " sugar\n",
      " solute\n",
      " dissolved\n",
      " ion\n",
      " solution\n",
      "\n",
      "\n",
      "Cluster 22 words:\n",
      " muscle\n",
      " skin\n",
      " lung\n",
      " organ\n",
      " kidney\n",
      " oxygen\n",
      "\n",
      "\n",
      "Cluster 23 words:\n",
      " lens\n",
      " mirror\n",
      " image\n",
      " object\n",
      " color\n",
      " microscope\n",
      "\n",
      "\n",
      "Cluster 24 words:\n",
      " plant\n",
      " trait\n",
      " seed\n",
      " offspring\n",
      " flower\n",
      " fern\n",
      "\n",
      "\n"
     ]
    }
   ],
   "source": [
    "top_centroids = km.cluster_centers_.argsort()[:, ::-1] \n",
    "for i in range(num_clusters):\n",
    "    print(\"Cluster {} words:\".format(i))   \n",
    "    for ind in top_centroids[i, :6]: #replace 6 with n words per cluster\n",
    "        print(' {}'.format(feature_names[ind]))\n",
    "    print()\n",
    "    print()"
   ]
  },
  {
   "cell_type": "markdown",
   "metadata": {
    "heading_collapsed": true
   },
   "source": [
    "# test train splits (old method)"
   ]
  },
  {
   "cell_type": "code",
   "execution_count": 11,
   "metadata": {
    "collapsed": false,
    "hidden": true,
    "run_control": {
     "frozen": false,
     "read_only": false
    }
   },
   "outputs": [],
   "source": [
    "from pdfextraction.validate_and_split import TestTrainSplitter\n",
    "test_train_splitter = TestTrainSplitter(dataset_root_dir, data_file)"
   ]
  },
  {
   "cell_type": "markdown",
   "metadata": {
    "hidden": true
   },
   "source": [
    "*insects and other arthropods to train*"
   ]
  },
  {
   "cell_type": "code",
   "execution_count": 12,
   "metadata": {
    "collapsed": false,
    "hidden": true,
    "run_control": {
     "frozen": false,
     "read_only": false
    }
   },
   "outputs": [
    {
     "ename": "NameError",
     "evalue": "name 'manual_assignments' is not defined",
     "output_type": "error",
     "traceback": [
      "\u001b[0;31m---------------------------------------------------------------------------\u001b[0m",
      "\u001b[0;31mNameError\u001b[0m                                 Traceback (most recent call last)",
      "\u001b[0;32m<ipython-input-12-dc881b174c10>\u001b[0m in \u001b[0;36m<module>\u001b[0;34m()\u001b[0m\n\u001b[0;32m----> 1\u001b[0;31m \u001b[0mtt_split\u001b[0m\u001b[0;34m,\u001b[0m \u001b[0mdebug\u001b[0m \u001b[0;34m=\u001b[0m \u001b[0mtest_train_splitter\u001b[0m\u001b[0;34m.\u001b[0m\u001b[0mperform_split\u001b[0m\u001b[0;34m(\u001b[0m\u001b[0mmanual_assignments\u001b[0m\u001b[0;34m=\u001b[0m\u001b[0mmanual_assignments\u001b[0m\u001b[0;34m,\u001b[0m \u001b[0mdebug\u001b[0m\u001b[0;34m=\u001b[0m\u001b[0;32mTrue\u001b[0m\u001b[0;34m)\u001b[0m\u001b[0;34m\u001b[0m\u001b[0m\n\u001b[0m",
      "\u001b[0;31mNameError\u001b[0m: name 'manual_assignments' is not defined"
     ]
    }
   ],
   "source": [
    "tt_split, debug = test_train_splitter.perform_split(manual_assignments=manual_assignments, debug=True)"
   ]
  },
  {
   "cell_type": "code",
   "execution_count": 331,
   "metadata": {
    "collapsed": true,
    "hidden": true,
    "run_control": {
     "frozen": false,
     "read_only": false
    }
   },
   "outputs": [],
   "source": [
    "trial_counter = 1"
   ]
  },
  {
   "cell_type": "code",
   "execution_count": 14,
   "metadata": {
    "collapsed": true,
    "hidden": true,
    "run_control": {
     "frozen": false,
     "read_only": false
    }
   },
   "outputs": [],
   "source": [
    "exp_dir = 'test_train_split_trials/'"
   ]
  },
  {
   "cell_type": "code",
   "execution_count": 446,
   "metadata": {
    "code_folding": [
     0
    ],
    "collapsed": true,
    "hidden": true,
    "run_control": {
     "frozen": false,
     "read_only": false
    }
   },
   "outputs": [],
   "source": [
    "manual_assignments = {\n",
    "                      \"ML_0260\": {\"lesson_name\": \"insects and other arthropods\":\"train\"},\n",
    "                      \"ML_0310\": {\"lesson_name\": \"covalent bonds\":\"train\"},\n",
    "                      \"ML_0243\": {\"lesson_name\": \"sun earth moon system\":\"train\"},\n",
    "                      \"ML_0288\": {\"lesson_name\": \"the senses\":\"train\"},\n",
    "                      \"ML_0006\": {\"lesson_name\": \"respiratory system\":\"test\"},\n",
    "                      \"ML_0344\": {\"lesson_name\": \"evolution and classifiaction plants\":\"test\"},\n",
    "                      \"ML_0023\": {\"lesson_name\": \"the nervous system\":\"train\"},\n",
    "                      \"ML_0164\": {\"lesson_name\": \"parts leaf\":\"train\"},\n",
    "                      \"ML_0383\": {\"lesson_name\": \"volcanoes\":\"train\"},\n",
    "                      \"ML_0508\": {\"lesson_name\": \"solar system\":\"train\"},\n",
    "                      \"ML_0010\": {\"lesson_name\": \"nuclear energy\":\"train\"},  \n",
    "    \n",
    "                      \"ML_0368\": {\"lesson_name\": \"seasons\":\"test\"},\n",
    "                      \"ML_0164\": {\"lesson_name\": \"introduction to plants\":\"test\"},\n",
    "                      \"ML_0440\": {\"lesson_name\": \"cell structures\":\"train\"},\n",
    "                      \"ML_0423\": {\"lesson_name\": \"inside the atom\":\"test\"},\n",
    "                      \"ML_0070\": {\"lesson_name\": \"inside the earth\":\"test\"},\n",
    "                      \"ML_0490\": {\"lesson_name\": \"vision and the eye\":\"test\"},\n",
    "                      \"ML_0403\": {\"lesson_name\": \"the digestive system\":\"train\"},\n",
    "                      \"ML_0433\": {\"lesson_name\": \"eclipses\":\"test\"},\n",
    "                      \"ML_0434\": {\"lesson_name\": \"flow of energy\":\"test\"}, \n",
    "                     }\n",
    "\n",
    "man_assigned_lesson_names = [v['lesson_name'] for v in manual_assignments.values()]"
   ]
  },
  {
   "cell_type": "code",
   "execution_count": 363,
   "metadata": {
    "collapsed": false,
    "hidden": true,
    "run_control": {
     "frozen": false,
     "read_only": false
    }
   },
   "outputs": [],
   "source": [
    "from pdfextraction.validate_and_split import TestTrainSplitter\n",
    "\n",
    "def write_trial_split(tt_split, exp_dir, multirun_idx):\n",
    "    global trial_counter\n",
    "    record_filename = os.path.join(exp_dir,'record_splits_' + str(trial_counter) + '_' +str(multirun_idx) +  '.json')     \n",
    "    with open(record_filename, 'w') as f:\n",
    "        json.dump(tt_split, f)\n",
    "    print('saving trial ' + str(trial_counter) + '_' + str(multirun_idx))\n",
    "\n",
    "def split_and_save(manual_assignments, multirun_idx=0):\n",
    "    global trial_counter\n",
    "    test_train_splitter = TestTrainSplitter(dataset_root_dir, data_file)\n",
    "    tt_split, debug = test_train_splitter.perform_split(manual_assignments=manual_assignments)\n",
    "    write_trial_split(tt_split, exp_dir, multirun_idx)\n",
    "    return  tt_split"
   ]
  },
  {
   "cell_type": "code",
   "execution_count": 364,
   "metadata": {
    "collapsed": false,
    "hidden": true,
    "run_control": {
     "frozen": false,
     "read_only": false
    }
   },
   "outputs": [
    {
     "name": "stdout",
     "output_type": "stream",
     "text": [
      "saving trial 6_0\n",
      "saving trial 6_1\n",
      "saving trial 6_2\n",
      "saving trial 6_3\n",
      "saving trial 6_4\n",
      "saving trial 6_5\n",
      "saving trial 6_6\n",
      "saving trial 6_7\n",
      "saving trial 6_8\n",
      "saving trial 6_9\n"
     ]
    }
   ],
   "source": [
    "n_trials = 10\n",
    "split_trials = [split_and_save(manual_assignments, i) for i in range(n_trials)]  \n",
    "trial_counter += 1"
   ]
  },
  {
   "cell_type": "markdown",
   "metadata": {
    "hidden": true
   },
   "source": [
    "6_0 is the winner"
   ]
  },
  {
   "cell_type": "code",
   "execution_count": 365,
   "metadata": {
    "collapsed": false,
    "hidden": true,
    "run_control": {
     "frozen": false,
     "read_only": false
    }
   },
   "outputs": [],
   "source": [
    "computed_stats_non_diagram = [test_train_splitter.compute_split_stats(this_split) for this_split in split_trials]\n",
    "computed_stats_diagram = [test_train_splitter.compute_split_stats(this_split, True) for this_split in split_trials]"
   ]
  },
  {
   "cell_type": "code",
   "execution_count": 366,
   "metadata": {
    "collapsed": false,
    "hidden": true,
    "run_control": {
     "frozen": false,
     "read_only": false
    }
   },
   "outputs": [],
   "source": [
    "split_trials_test_fracts = [{k:v['test_fraction'] for k, v in trial.items()} for trial in computed_stats_diagram]\n",
    "split_trials_test_counts = [{k:v['test'] for k, v in trial.items()} for trial in computed_stats_diagram]\n",
    "split_trial_df = pd.DataFrame(split_trials_test_fracts)\n",
    "split_trial_df = split_trial_df.apply(pd.to_numeric)\n",
    "split_stats_df = pd.concat([split_trial_df, pd.DataFrame(split_trials_test_counts)], axis=1)\n",
    "split_stats_df_diagram = split_stats_df.apply(pd.to_numeric)\n",
    "\n",
    "split_trials_test_fracts = [{k:v['test_fraction'] for k, v in trial.items()} for trial in computed_stats_non_diagram]\n",
    "split_trials_test_counts = [{k:v['test'] for k, v in trial.items()} for trial in computed_stats_non_diagram]\n",
    "split_trial_df = pd.DataFrame(split_trials_test_fracts)\n",
    "split_trial_df = split_trial_df.apply(pd.to_numeric)\n",
    "split_stats_df = pd.concat([split_trial_df, pd.DataFrame(split_trials_test_counts)], axis=1)\n",
    "split_stats_df_non_diagram = split_stats_df.apply(pd.to_numeric)"
   ]
  },
  {
   "cell_type": "code",
   "execution_count": 367,
   "metadata": {
    "collapsed": false,
    "hidden": true,
    "run_control": {
     "frozen": false,
     "read_only": false
    },
    "scrolled": true
   },
   "outputs": [
    {
     "data": {
      "text/html": [
       "<div>\n",
       "<table border=\"1\" class=\"dataframe\">\n",
       "  <thead>\n",
       "    <tr style=\"text-align: right;\">\n",
       "      <th></th>\n",
       "      <th>n_diagram_questions</th>\n",
       "      <th>n_instructional_diagrams</th>\n",
       "      <th>n_lessons</th>\n",
       "      <th>n_text_questions</th>\n",
       "      <th>n_topics</th>\n",
       "      <th>n_diagram_questions</th>\n",
       "      <th>n_instructional_diagrams</th>\n",
       "      <th>n_lessons</th>\n",
       "      <th>n_text_questions</th>\n",
       "      <th>n_topics</th>\n",
       "    </tr>\n",
       "  </thead>\n",
       "  <tbody>\n",
       "    <tr>\n",
       "      <th>0</th>\n",
       "      <td>0.378</td>\n",
       "      <td>0.290</td>\n",
       "      <td>0.215</td>\n",
       "      <td>0.229</td>\n",
       "      <td>0.222</td>\n",
       "      <td>4748</td>\n",
       "      <td>80</td>\n",
       "      <td>231</td>\n",
       "      <td>3095</td>\n",
       "      <td>1113</td>\n",
       "    </tr>\n",
       "    <tr>\n",
       "      <th>1</th>\n",
       "      <td>0.459</td>\n",
       "      <td>0.413</td>\n",
       "      <td>0.217</td>\n",
       "      <td>0.233</td>\n",
       "      <td>0.235</td>\n",
       "      <td>5767</td>\n",
       "      <td>114</td>\n",
       "      <td>233</td>\n",
       "      <td>3159</td>\n",
       "      <td>1178</td>\n",
       "    </tr>\n",
       "    <tr>\n",
       "      <th>2</th>\n",
       "      <td>0.383</td>\n",
       "      <td>0.308</td>\n",
       "      <td>0.219</td>\n",
       "      <td>0.211</td>\n",
       "      <td>0.214</td>\n",
       "      <td>4818</td>\n",
       "      <td>85</td>\n",
       "      <td>236</td>\n",
       "      <td>2851</td>\n",
       "      <td>1072</td>\n",
       "    </tr>\n",
       "    <tr>\n",
       "      <th>3</th>\n",
       "      <td>0.402</td>\n",
       "      <td>0.344</td>\n",
       "      <td>0.209</td>\n",
       "      <td>0.214</td>\n",
       "      <td>0.212</td>\n",
       "      <td>5057</td>\n",
       "      <td>95</td>\n",
       "      <td>225</td>\n",
       "      <td>2894</td>\n",
       "      <td>1065</td>\n",
       "    </tr>\n",
       "    <tr>\n",
       "      <th>4</th>\n",
       "      <td>0.409</td>\n",
       "      <td>0.348</td>\n",
       "      <td>0.214</td>\n",
       "      <td>0.216</td>\n",
       "      <td>0.218</td>\n",
       "      <td>5137</td>\n",
       "      <td>96</td>\n",
       "      <td>230</td>\n",
       "      <td>2918</td>\n",
       "      <td>1094</td>\n",
       "    </tr>\n",
       "    <tr>\n",
       "      <th>5</th>\n",
       "      <td>0.396</td>\n",
       "      <td>0.286</td>\n",
       "      <td>0.195</td>\n",
       "      <td>0.197</td>\n",
       "      <td>0.197</td>\n",
       "      <td>4982</td>\n",
       "      <td>79</td>\n",
       "      <td>210</td>\n",
       "      <td>2664</td>\n",
       "      <td>987</td>\n",
       "    </tr>\n",
       "    <tr>\n",
       "      <th>6</th>\n",
       "      <td>0.391</td>\n",
       "      <td>0.315</td>\n",
       "      <td>0.196</td>\n",
       "      <td>0.219</td>\n",
       "      <td>0.221</td>\n",
       "      <td>4909</td>\n",
       "      <td>87</td>\n",
       "      <td>211</td>\n",
       "      <td>2958</td>\n",
       "      <td>1106</td>\n",
       "    </tr>\n",
       "    <tr>\n",
       "      <th>7</th>\n",
       "      <td>0.403</td>\n",
       "      <td>0.330</td>\n",
       "      <td>0.210</td>\n",
       "      <td>0.215</td>\n",
       "      <td>0.222</td>\n",
       "      <td>5059</td>\n",
       "      <td>91</td>\n",
       "      <td>226</td>\n",
       "      <td>2917</td>\n",
       "      <td>1115</td>\n",
       "    </tr>\n",
       "    <tr>\n",
       "      <th>8</th>\n",
       "      <td>0.389</td>\n",
       "      <td>0.312</td>\n",
       "      <td>0.204</td>\n",
       "      <td>0.204</td>\n",
       "      <td>0.208</td>\n",
       "      <td>4884</td>\n",
       "      <td>86</td>\n",
       "      <td>220</td>\n",
       "      <td>2758</td>\n",
       "      <td>1043</td>\n",
       "    </tr>\n",
       "    <tr>\n",
       "      <th>9</th>\n",
       "      <td>0.411</td>\n",
       "      <td>0.351</td>\n",
       "      <td>0.215</td>\n",
       "      <td>0.218</td>\n",
       "      <td>0.211</td>\n",
       "      <td>5161</td>\n",
       "      <td>97</td>\n",
       "      <td>231</td>\n",
       "      <td>2955</td>\n",
       "      <td>1058</td>\n",
       "    </tr>\n",
       "  </tbody>\n",
       "</table>\n",
       "</div>"
      ],
      "text/plain": [
       "   n_diagram_questions  n_instructional_diagrams  n_lessons  n_text_questions  \\\n",
       "0                0.378                     0.290      0.215             0.229   \n",
       "1                0.459                     0.413      0.217             0.233   \n",
       "2                0.383                     0.308      0.219             0.211   \n",
       "3                0.402                     0.344      0.209             0.214   \n",
       "4                0.409                     0.348      0.214             0.216   \n",
       "5                0.396                     0.286      0.195             0.197   \n",
       "6                0.391                     0.315      0.196             0.219   \n",
       "7                0.403                     0.330      0.210             0.215   \n",
       "8                0.389                     0.312      0.204             0.204   \n",
       "9                0.411                     0.351      0.215             0.218   \n",
       "\n",
       "   n_topics  n_diagram_questions  n_instructional_diagrams  n_lessons  \\\n",
       "0     0.222                 4748                        80        231   \n",
       "1     0.235                 5767                       114        233   \n",
       "2     0.214                 4818                        85        236   \n",
       "3     0.212                 5057                        95        225   \n",
       "4     0.218                 5137                        96        230   \n",
       "5     0.197                 4982                        79        210   \n",
       "6     0.221                 4909                        87        211   \n",
       "7     0.222                 5059                        91        226   \n",
       "8     0.208                 4884                        86        220   \n",
       "9     0.211                 5161                        97        231   \n",
       "\n",
       "   n_text_questions  n_topics  \n",
       "0              3095      1113  \n",
       "1              3159      1178  \n",
       "2              2851      1072  \n",
       "3              2894      1065  \n",
       "4              2918      1094  \n",
       "5              2664       987  \n",
       "6              2958      1106  \n",
       "7              2917      1115  \n",
       "8              2758      1043  \n",
       "9              2955      1058  "
      ]
     },
     "execution_count": 367,
     "metadata": {},
     "output_type": "execute_result"
    }
   ],
   "source": [
    "split_stats_df_non_diagram"
   ]
  },
  {
   "cell_type": "code",
   "execution_count": null,
   "metadata": {
    "collapsed": true,
    "hidden": true,
    "run_control": {
     "frozen": false,
     "read_only": false
    }
   },
   "outputs": [],
   "source": []
  },
  {
   "cell_type": "code",
   "execution_count": 368,
   "metadata": {
    "collapsed": false,
    "hidden": true,
    "run_control": {
     "frozen": false,
     "read_only": false
    }
   },
   "outputs": [
    {
     "data": {
      "text/html": [
       "<div>\n",
       "<table border=\"1\" class=\"dataframe\">\n",
       "  <thead>\n",
       "    <tr style=\"text-align: right;\">\n",
       "      <th></th>\n",
       "      <th>n_diagram_questions</th>\n",
       "      <th>n_instructional_diagrams</th>\n",
       "      <th>n_lessons</th>\n",
       "      <th>n_text_questions</th>\n",
       "      <th>n_topics</th>\n",
       "      <th>n_diagram_questions</th>\n",
       "      <th>n_instructional_diagrams</th>\n",
       "      <th>n_lessons</th>\n",
       "      <th>n_text_questions</th>\n",
       "      <th>n_topics</th>\n",
       "    </tr>\n",
       "  </thead>\n",
       "  <tbody>\n",
       "    <tr>\n",
       "      <th>0</th>\n",
       "      <td>0.378</td>\n",
       "      <td>0.290</td>\n",
       "      <td>0.224</td>\n",
       "      <td>0.221</td>\n",
       "      <td>0.216</td>\n",
       "      <td>4748</td>\n",
       "      <td>80</td>\n",
       "      <td>19</td>\n",
       "      <td>493</td>\n",
       "      <td>169</td>\n",
       "    </tr>\n",
       "    <tr>\n",
       "      <th>1</th>\n",
       "      <td>0.459</td>\n",
       "      <td>0.413</td>\n",
       "      <td>0.376</td>\n",
       "      <td>0.380</td>\n",
       "      <td>0.404</td>\n",
       "      <td>5767</td>\n",
       "      <td>114</td>\n",
       "      <td>32</td>\n",
       "      <td>849</td>\n",
       "      <td>317</td>\n",
       "    </tr>\n",
       "    <tr>\n",
       "      <th>2</th>\n",
       "      <td>0.383</td>\n",
       "      <td>0.308</td>\n",
       "      <td>0.247</td>\n",
       "      <td>0.222</td>\n",
       "      <td>0.251</td>\n",
       "      <td>4818</td>\n",
       "      <td>85</td>\n",
       "      <td>21</td>\n",
       "      <td>495</td>\n",
       "      <td>197</td>\n",
       "    </tr>\n",
       "    <tr>\n",
       "      <th>3</th>\n",
       "      <td>0.402</td>\n",
       "      <td>0.344</td>\n",
       "      <td>0.294</td>\n",
       "      <td>0.279</td>\n",
       "      <td>0.279</td>\n",
       "      <td>5057</td>\n",
       "      <td>95</td>\n",
       "      <td>25</td>\n",
       "      <td>622</td>\n",
       "      <td>219</td>\n",
       "    </tr>\n",
       "    <tr>\n",
       "      <th>4</th>\n",
       "      <td>0.409</td>\n",
       "      <td>0.348</td>\n",
       "      <td>0.294</td>\n",
       "      <td>0.283</td>\n",
       "      <td>0.295</td>\n",
       "      <td>5137</td>\n",
       "      <td>96</td>\n",
       "      <td>25</td>\n",
       "      <td>631</td>\n",
       "      <td>231</td>\n",
       "    </tr>\n",
       "    <tr>\n",
       "      <th>5</th>\n",
       "      <td>0.396</td>\n",
       "      <td>0.286</td>\n",
       "      <td>0.247</td>\n",
       "      <td>0.237</td>\n",
       "      <td>0.233</td>\n",
       "      <td>4982</td>\n",
       "      <td>79</td>\n",
       "      <td>21</td>\n",
       "      <td>530</td>\n",
       "      <td>183</td>\n",
       "    </tr>\n",
       "    <tr>\n",
       "      <th>6</th>\n",
       "      <td>0.391</td>\n",
       "      <td>0.315</td>\n",
       "      <td>0.259</td>\n",
       "      <td>0.256</td>\n",
       "      <td>0.247</td>\n",
       "      <td>4909</td>\n",
       "      <td>87</td>\n",
       "      <td>22</td>\n",
       "      <td>572</td>\n",
       "      <td>194</td>\n",
       "    </tr>\n",
       "    <tr>\n",
       "      <th>7</th>\n",
       "      <td>0.403</td>\n",
       "      <td>0.330</td>\n",
       "      <td>0.271</td>\n",
       "      <td>0.251</td>\n",
       "      <td>0.296</td>\n",
       "      <td>5059</td>\n",
       "      <td>91</td>\n",
       "      <td>23</td>\n",
       "      <td>560</td>\n",
       "      <td>232</td>\n",
       "    </tr>\n",
       "    <tr>\n",
       "      <th>8</th>\n",
       "      <td>0.389</td>\n",
       "      <td>0.312</td>\n",
       "      <td>0.247</td>\n",
       "      <td>0.236</td>\n",
       "      <td>0.263</td>\n",
       "      <td>4884</td>\n",
       "      <td>86</td>\n",
       "      <td>21</td>\n",
       "      <td>527</td>\n",
       "      <td>206</td>\n",
       "    </tr>\n",
       "    <tr>\n",
       "      <th>9</th>\n",
       "      <td>0.411</td>\n",
       "      <td>0.351</td>\n",
       "      <td>0.282</td>\n",
       "      <td>0.260</td>\n",
       "      <td>0.277</td>\n",
       "      <td>5161</td>\n",
       "      <td>97</td>\n",
       "      <td>24</td>\n",
       "      <td>580</td>\n",
       "      <td>217</td>\n",
       "    </tr>\n",
       "  </tbody>\n",
       "</table>\n",
       "</div>"
      ],
      "text/plain": [
       "   n_diagram_questions  n_instructional_diagrams  n_lessons  n_text_questions  \\\n",
       "0                0.378                     0.290      0.224             0.221   \n",
       "1                0.459                     0.413      0.376             0.380   \n",
       "2                0.383                     0.308      0.247             0.222   \n",
       "3                0.402                     0.344      0.294             0.279   \n",
       "4                0.409                     0.348      0.294             0.283   \n",
       "5                0.396                     0.286      0.247             0.237   \n",
       "6                0.391                     0.315      0.259             0.256   \n",
       "7                0.403                     0.330      0.271             0.251   \n",
       "8                0.389                     0.312      0.247             0.236   \n",
       "9                0.411                     0.351      0.282             0.260   \n",
       "\n",
       "   n_topics  n_diagram_questions  n_instructional_diagrams  n_lessons  \\\n",
       "0     0.216                 4748                        80         19   \n",
       "1     0.404                 5767                       114         32   \n",
       "2     0.251                 4818                        85         21   \n",
       "3     0.279                 5057                        95         25   \n",
       "4     0.295                 5137                        96         25   \n",
       "5     0.233                 4982                        79         21   \n",
       "6     0.247                 4909                        87         22   \n",
       "7     0.296                 5059                        91         23   \n",
       "8     0.263                 4884                        86         21   \n",
       "9     0.277                 5161                        97         24   \n",
       "\n",
       "   n_text_questions  n_topics  \n",
       "0               493       169  \n",
       "1               849       317  \n",
       "2               495       197  \n",
       "3               622       219  \n",
       "4               631       231  \n",
       "5               530       183  \n",
       "6               572       194  \n",
       "7               560       232  \n",
       "8               527       206  \n",
       "9               580       217  "
      ]
     },
     "execution_count": 368,
     "metadata": {},
     "output_type": "execute_result"
    }
   ],
   "source": [
    "split_stats_df_diagram"
   ]
  },
  {
   "cell_type": "markdown",
   "metadata": {
    "hidden": true
   },
   "source": [
    "## hide"
   ]
  },
  {
   "cell_type": "code",
   "execution_count": null,
   "metadata": {
    "collapsed": true,
    "hidden": true,
    "run_control": {
     "frozen": false,
     "read_only": false
    }
   },
   "outputs": [],
   "source": [
    "split_stats_df.columns = ['fract_diagram_questions', 'fract_instructional_diagrams', 'fract_text_questions', 'fract_topics', 'n_diagram_questions', 'n_instructional_diagrams', 'n_text_questions', 'n_topics']"
   ]
  },
  {
   "cell_type": "code",
   "execution_count": 319,
   "metadata": {
    "collapsed": false,
    "hidden": true,
    "run_control": {
     "frozen": false,
     "read_only": false
    }
   },
   "outputs": [
    {
     "data": {
      "text/plain": [
       "1076"
      ]
     },
     "execution_count": 319,
     "metadata": {},
     "output_type": "execute_result"
    }
   ],
   "source": [
    "len(tt_split['test'] + tt_split['train'])"
   ]
  },
  {
   "cell_type": "code",
   "execution_count": 126,
   "metadata": {
    "collapsed": false,
    "hidden": true,
    "run_control": {
     "frozen": false,
     "read_only": false
    },
    "scrolled": true
   },
   "outputs": [],
   "source": [
    "# sorted(debug_tt_splits['train'], key= lambda x: x[1])\n",
    "\n",
    "# sorted(debug_tt_splits['test'], key= lambda x: x[1])"
   ]
  },
  {
   "cell_type": "code",
   "execution_count": 315,
   "metadata": {
    "collapsed": false,
    "hidden": true,
    "run_control": {
     "frozen": false,
     "read_only": false
    }
   },
   "outputs": [
    {
     "name": "stdout",
     "output_type": "stream",
     "text": [
      "False\n",
      "True\n"
     ]
    }
   ],
   "source": [
    "print('L_0575' in tt_split['test'])\n",
    "print('L_0575' in tt_split['train'])\n",
    "\n",
    "test_st = 'te'\n",
    "test_st.format()\n",
    "\n",
    "\n",
    "manual_assignments.keys()\n",
    "\n",
    "test_train_splitter.compute_split_stats(tt_split)"
   ]
  },
  {
   "cell_type": "code",
   "execution_count": 261,
   "metadata": {
    "collapsed": false,
    "hidden": true,
    "run_control": {
     "frozen": false,
     "read_only": false
    }
   },
   "outputs": [
    {
     "data": {
      "text/plain": [
       "'te'"
      ]
     },
     "execution_count": 261,
     "metadata": {},
     "output_type": "execute_result"
    }
   ],
   "source": [
    "test_st = 'te'\n",
    "test_st.format()\n",
    "\n",
    "manual_assignments = {\"ML_0289\": {\"lesson_name\": \"flow of energy\":\"test\"}, \"ML_0505\": {\"lesson_name\": \"insect reproduction and life cycle\":\"train\"}}\n",
    "\n",
    "manual_assignments.keys()"
   ]
  },
  {
   "cell_type": "code",
   "execution_count": 8,
   "metadata": {
    "collapsed": true,
    "hidden": true,
    "run_control": {
     "frozen": false,
     "read_only": false
    }
   },
   "outputs": [],
   "source": [
    "def record_validation_errors(dataset, schema):\n",
    "    qs_removed = []\n",
    "    validator = jsonschema.Draft4Validator(schema)\n",
    "    for error in sorted(validator.iter_errors(dataset), key=lambda x: x.absolute_path[0]):\n",
    "        print(error)\n",
    "        lesson, quest, question_class, q_number = list(error.absolute_schema_path)[:4]\n",
    "        problem_q_section = dataset[subject][lesson][quest][question_class]\n",
    "        if q_number in problem_q_section.keys():\n",
    "            print(dataset[subject][lesson][quest][question_class].pop(q_number))\n",
    "            qs_removed.append(dataset[subject][lesson][quest][question_class].pop(q_number))\n",
    "    return qs_removed"
   ]
  },
  {
   "cell_type": "code",
   "execution_count": 167,
   "metadata": {
    "collapsed": false,
    "hidden": true,
    "run_control": {
     "frozen": false,
     "read_only": false
    }
   },
   "outputs": [],
   "source": [
    "# ml_ids_train, ml_ids_test, debug_train = test_train_splitter.perform_split()\n",
    "\n",
    "# ml_ids_train, ml_ids_test, debug_train = test_train_splitter.perform_split()"
   ]
  },
  {
   "cell_type": "code",
   "execution_count": 9,
   "metadata": {
    "collapsed": false,
    "hidden": true,
    "run_control": {
     "frozen": false,
     "read_only": false
    },
    "scrolled": true
   },
   "outputs": [
    {
     "ename": "NameError",
     "evalue": "name 'new_schema' is not defined",
     "output_type": "error",
     "traceback": [
      "\u001b[0;31m---------------------------------------------------------------------------\u001b[0m",
      "\u001b[0;31mNameError\u001b[0m                                 Traceback (most recent call last)",
      "\u001b[0;32m<ipython-input-9-d1a9c67dce52>\u001b[0m in \u001b[0;36m<module>\u001b[0;34m()\u001b[0m\n\u001b[0;32m----> 1\u001b[0;31m \u001b[0mvalidator\u001b[0m \u001b[0;34m=\u001b[0m \u001b[0mjsonschema\u001b[0m\u001b[0;34m.\u001b[0m\u001b[0mDraft4Validator\u001b[0m\u001b[0;34m(\u001b[0m\u001b[0mnew_schema\u001b[0m\u001b[0;34m)\u001b[0m\u001b[0;34m\u001b[0m\u001b[0m\n\u001b[0m\u001b[1;32m      2\u001b[0m \u001b[0;32mfor\u001b[0m \u001b[0merror\u001b[0m \u001b[0;32min\u001b[0m \u001b[0msorted\u001b[0m\u001b[0;34m(\u001b[0m\u001b[0mvalidator\u001b[0m\u001b[0;34m.\u001b[0m\u001b[0miter_errors\u001b[0m\u001b[0;34m(\u001b[0m\u001b[0mck12_combined_dataset_raw\u001b[0m\u001b[0;34m)\u001b[0m\u001b[0;34m,\u001b[0m \u001b[0mkey\u001b[0m\u001b[0;34m=\u001b[0m\u001b[0;32mlambda\u001b[0m \u001b[0mx\u001b[0m\u001b[0;34m:\u001b[0m \u001b[0mx\u001b[0m\u001b[0;34m.\u001b[0m\u001b[0mabsolute_path\u001b[0m\u001b[0;34m[\u001b[0m\u001b[0;36m0\u001b[0m\u001b[0;34m]\u001b[0m\u001b[0;34m)\u001b[0m\u001b[0;34m:\u001b[0m\u001b[0;34m\u001b[0m\u001b[0m\n\u001b[1;32m      3\u001b[0m     \u001b[0mprint\u001b[0m\u001b[0;34m(\u001b[0m\u001b[0merror\u001b[0m\u001b[0;34m.\u001b[0m\u001b[0mmessage\u001b[0m\u001b[0;34m)\u001b[0m\u001b[0;34m\u001b[0m\u001b[0m\n\u001b[1;32m      4\u001b[0m     \u001b[0mprint\u001b[0m\u001b[0;34m(\u001b[0m\u001b[0merror\u001b[0m\u001b[0;34m.\u001b[0m\u001b[0mabsolute_path\u001b[0m\u001b[0;34m)\u001b[0m\u001b[0;34m\u001b[0m\u001b[0m\n\u001b[1;32m      5\u001b[0m     \u001b[0mprint\u001b[0m\u001b[0;34m(\u001b[0m\u001b[0;34m)\u001b[0m\u001b[0;34m\u001b[0m\u001b[0m\n",
      "\u001b[0;31mNameError\u001b[0m: name 'new_schema' is not defined"
     ]
    }
   ],
   "source": [
    "validator = jsonschema.Draft4Validator(new_schema)\n",
    "for error in sorted(validator.iter_errors(ck12_combined_dataset_raw), key=lambda x: x.absolute_path[0]):\n",
    "    print(error.message)\n",
    "    print(error.absolute_path)\n",
    "    print()"
   ]
  },
  {
   "cell_type": "markdown",
   "metadata": {
    "heading_collapsed": true
   },
   "source": [
    "# dataset stats"
   ]
  },
  {
   "cell_type": "markdown",
   "metadata": {
    "heading_collapsed": true,
    "hidden": true
   },
   "source": [
    "## topic "
   ]
  },
  {
   "cell_type": "code",
   "execution_count": 28,
   "metadata": {
    "collapsed": false,
    "hidden": true,
    "run_control": {
     "frozen": false,
     "read_only": false
    }
   },
   "outputs": [],
   "source": [
    "combined_topics = [lesson['lessonName'] for lesson in ck12_combined_dataset]\n",
    "topic_series = pd.Series(combined_topics).value_counts()"
   ]
  },
  {
   "cell_type": "code",
   "execution_count": 30,
   "metadata": {
    "collapsed": false,
    "hidden": true,
    "run_control": {
     "frozen": false,
     "read_only": false
    }
   },
   "outputs": [
    {
     "data": {
      "text/plain": [
       "ecosystems                             3\n",
       "water pollution                        3\n",
       "elastic force                          2\n",
       "cellular respiration                   2\n",
       "earth as a magnet                      2\n",
       "work                                   2\n",
       "birds                                  2\n",
       "friction                               2\n",
       "igneous rocks                          2\n",
       "chemical equations                     2\n",
       "changes of state                       2\n",
       "choosing healthy foods                 2\n",
       "air pollution                          2\n",
       "electric circuits                      2\n",
       "fish                                   2\n",
       "radioactive decay                      2\n",
       "primates                               2\n",
       "newtons second law                     2\n",
       "radioactivity                          2\n",
       "properties of electromagnetic waves    2\n",
       "dtype: int64"
      ]
     },
     "execution_count": 30,
     "metadata": {},
     "output_type": "execute_result"
    }
   ],
   "source": [
    "topic_series[:20]"
   ]
  },
  {
   "cell_type": "code",
   "execution_count": 31,
   "metadata": {
    "collapsed": false,
    "hidden": true,
    "run_control": {
     "frozen": false,
     "read_only": false
    }
   },
   "outputs": [
    {
     "data": {
      "text/plain": [
       "1076"
      ]
     },
     "execution_count": 31,
     "metadata": {},
     "output_type": "execute_result"
    }
   ],
   "source": [
    "len(combined_topics)"
   ]
  },
  {
   "cell_type": "code",
   "execution_count": 33,
   "metadata": {
    "collapsed": false,
    "hidden": true,
    "run_control": {
     "frozen": false,
     "read_only": false
    }
   },
   "outputs": [
    {
     "name": "stdout",
     "output_type": "stream",
     "text": [
      "total number of questions = 18929\n"
     ]
    },
    {
     "data": {
      "text/plain": [
       "Multiple Choice      6582\n",
       "True or False        5400\n",
       "Fill in the Blank    3643\n",
       "Matching             1711\n",
       "Short Answer         1593\n",
       "dtype: int64"
      ]
     },
     "execution_count": 33,
     "metadata": {},
     "output_type": "execute_result"
    }
   ],
   "source": [
    "q_types = []\n",
    "for lesson in ck12_combined_dataset:\n",
    "    for question in lesson['questions']['nonDiagramQuestions'].values():\n",
    "        q_types.append(question['questionSubType'])\n",
    "question_counts = pd.Series(q_types).value_counts()\n",
    "print('total number of questions = ' + str(question_counts.sum()))\n",
    "question_counts"
   ]
  },
  {
   "cell_type": "code",
   "execution_count": 34,
   "metadata": {
    "collapsed": true,
    "hidden": true,
    "run_control": {
     "frozen": false,
     "read_only": false
    }
   },
   "outputs": [
    {
     "data": {
      "image/png": "[encoded data removed]",
      "text/plain": [
       "<matplotlib.figure.Figure at 0x12488d358>"
      ]
     },
     "metadata": {},
     "output_type": "display_data"
    }
   ],
   "source": [
    "_ = question_counts.plot(kind=\"barh\")\n",
    "plt.title('Question Format Distribution', fontsize=50, verticalalignment='bottom', color = b16_colors.b)\n",
    "plt.ylabel(\"Question type\", fontsize=30, labelpad=10, color = b16_colors.b)\n",
    "plt.xlabel(\"Number of unique questions\", fontsize=30, labelpad=10, color = b16_colors.b)\n",
    "plt.tick_params(axis='x', which='major', labelsize=20)\n",
    "plt.tick_params(axis='y', which='major', labelsize=20)"
   ]
  },
  {
   "cell_type": "code",
   "execution_count": 35,
   "metadata": {
    "collapsed": false,
    "hidden": true,
    "run_control": {
     "frozen": false,
     "read_only": false
    }
   },
   "outputs": [],
   "source": [
    "usable_questions = question_counts[:2].append(question_counts[3:4])"
   ]
  },
  {
   "cell_type": "code",
   "execution_count": 38,
   "metadata": {
    "collapsed": false,
    "hidden": true,
    "run_control": {
     "frozen": false,
     "read_only": false
    }
   },
   "outputs": [
    {
     "data": {
      "text/plain": [
       "13693"
      ]
     },
     "execution_count": 38,
     "metadata": {},
     "output_type": "execute_result"
    }
   ],
   "source": [
    "sum(usable_questions)"
   ]
  }
 ],
 "metadata": {
  "kernelspec": {
   "display_name": "Python 3",
   "language": "python",
   "name": "python3"
  },
  "language_info": {
   "codemirror_mode": {
    "name": "ipython",
    "version": 3
   },
   "file_extension": ".py",
   "mimetype": "text/x-python",
   "name": "python",
   "nbconvert_exporter": "python",
   "pygments_lexer": "ipython3",
   "version": "3.5.2"
  }
 },
 "nbformat": 4,
 "nbformat_minor": 1
}
