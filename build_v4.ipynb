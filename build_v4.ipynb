{
 "cells": [
  {
   "cell_type": "markdown",
   "metadata": {
    "heading_collapsed": true
   },
   "source": [
    "# Table of Contents\n",
    "* &nbsp;\n",
    "\t* [imports](#imports)\n",
    "\t* [simple functions](#simple-functions)\n",
    "* [Load data](#Load-data)\n",
    "\t* [setting paths](#setting-paths)\n",
    "\t* [parsed content and raw questions and descriptions](#parsed-content-and-raw-questions-and-descriptions)\n",
    "\t* [localization and recognition](#localization-and-recognition)\n",
    "\t* [building spellings and grammar](#building-spellings-and-grammar)\n",
    "* [Clean and prepare data](#Clean-and-prepare-data)\n",
    "\t* [extract media links](#extract-media-links)\n",
    "\t* [remove non-conforming content](#remove-non-conforming-content)\n",
    "\t\t* [code](#code)\n",
    "\t\t* [run](#run)\n",
    "\t* [remove recognition and localization errors](#remove-recognition-and-localization-errors)\n",
    "* [Add image annotations](#Add-image-annotations)\n",
    "\t* [localization](#localization)\n",
    "\t* [recognition](#recognition)\n",
    "\t\t* [code](#code)\n",
    "\t\t* [run](#run)\n",
    "\t\t* [hide](#hide)\n",
    "* [Integrate diagram questions and descriptions](#Integrate-diagram-questions-and-descriptions)\n",
    "\t* [match diagram topics to lessons](#match-diagram-topics-to-lessons)\n",
    "\t\t* [code](#code)\n",
    "\t\t* [run](#run)\n",
    "\t\t* [hide](#hide)\n",
    "\t* [merge questions](#merge-questions)\n",
    "\t\t* [code](#code)\n",
    "\t\t* [run](#run)\n",
    "\t\t* [hide](#hide)\n",
    "\t* [merge descriptions](#merge-descriptions)\n",
    "\t\t* [hide](#hide)\n",
    "\t* [Apply spelling and grammar fixes](#Apply-spelling-and-grammar-fixes)\n",
    "\t\t* [code](#code)\n",
    "\t\t* [run](#run)\n",
    "\t\t* [hide](#hide)\n",
    "* [Topic key collisions](#Topic-key-collisions)\n",
    "* [Refinements to make](#Refinements-to-make)\n",
    "* [End](#End)\n"
   ]
  },
  {
   "cell_type": "markdown",
   "metadata": {
    "heading_collapsed": true,
    "hidden": true
   },
   "source": [
    "## imports"
   ]
  },
  {
   "cell_type": "code",
   "execution_count": 16,
   "metadata": {
    "collapsed": false,
    "hidden": true,
    "run_control": {
     "frozen": false,
     "read_only": false
    }
   },
   "outputs": [],
   "source": [
    "%%capture\n",
    "import matplotlib as mpl\n",
    "mpl.use(\"Agg\")\n",
    "import matplotlib.pylab as plt\n",
    "#%matplotlib notebook\n",
    "%matplotlib inline\n",
    "%load_ext base16_mplrc\n",
    "# %base16_mplrc light solarized\n",
    "%base16_mplrc dark solarized\n",
    "plt.rcParams['grid.linewidth'] = 0\n",
    "plt.rcParams['figure.figsize'] = (16.0, 10.0)\n",
    "\n",
    "import numpy as np\n",
    "import pandas as pd\n",
    "import scipy.stats as st\n",
    "from scipy.stats.mstats import mode\n",
    "\n",
    "import itertools\n",
    "import math\n",
    "from collections import Counter, defaultdict, OrderedDict\n",
    "%load_ext autoreload\n",
    "%autoreload 2\n",
    "\n",
    "import cv2\n",
    "import pprint\n",
    "import pickle\n",
    "import json\n",
    "import requests\n",
    "import io\n",
    "import sys\n",
    "import os\n",
    "from binascii import b2a_hex\n",
    "import base64\n",
    "from wand.image import Image as WImage\n",
    "from IPython.display import display\n",
    "from IPython.core.display import HTML\n",
    "import PIL.Image as Image\n",
    "from copy import deepcopy\n",
    "import glob\n",
    "import random\n",
    "\n",
    "import nltk\n",
    "import string\n",
    "from nltk.corpus import stopwords\n",
    "from nltk.tokenize import word_tokenize\n",
    "from nltk.tokenize import wordpunct_tokenize\n",
    "from nltk.stem.wordnet import WordNetLemmatizer\n",
    "import language_check\n",
    "import enchant\n",
    "import difflib\n",
    "import diff_match_patch\n",
    "import fuzzywuzzy.fuzz as fuzz\n",
    "import re\n",
    "import jsonschema\n",
    "from pdfextraction.ck12_schema import ck12_schema as schema\n",
    "from pdfextraction.ck12_new_schema import ck12_schema as new_schema"
   ]
  },
  {
   "cell_type": "markdown",
   "metadata": {
    "hidden": true
   },
   "source": [
    "## simple functions"
   ]
  },
  {
   "cell_type": "code",
   "execution_count": 4,
   "metadata": {
    "collapsed": false,
    "hidden": true,
    "run_control": {
     "frozen": false,
     "read_only": false
    }
   },
   "outputs": [],
   "source": [
    "def write_file(filename, data_dict, output_dir='output_data_from_nbs'):\n",
    "    with open(os.path.join(output_dir, filename), 'w') as f:\n",
    "        json.dump(data_dict, f, indent=4, sort_keys=True)\n",
    "        \n",
    "def get_img_n(image_name):\n",
    "    return [re.findall(\"[0-9]+\", image_name)][0][0]\n",
    "\n",
    "def clean_list(dir_path):\n",
    "    hidden_removed = filter(lambda f: not f.startswith('.'), os.listdir(dir_path))\n",
    "    return [topic.replace('_diagram', '') for topic in hidden_removed]"
   ]
  },
  {
   "cell_type": "markdown",
   "metadata": {
    "heading_collapsed": true
   },
   "source": [
    "# Load data"
   ]
  },
  {
   "cell_type": "markdown",
   "metadata": {
    "hidden": true
   },
   "source": [
    "load last_checkpoint"
   ]
  },
  {
   "cell_type": "code",
   "execution_count": 5,
   "metadata": {
    "collapsed": false,
    "hidden": true,
    "run_control": {
     "frozen": false,
     "read_only": false
    }
   },
   "outputs": [],
   "source": [
    "# with open('build_v5.pkl', 'r') as f:\n",
    "#     latest_checkpoint = pickle.load(f)"
   ]
  },
  {
   "cell_type": "markdown",
   "metadata": {
    "heading_collapsed": true,
    "hidden": true
   },
   "source": [
    "## setting paths"
   ]
  },
  {
   "cell_type": "code",
   "execution_count": 6,
   "metadata": {
    "collapsed": false,
    "hidden": true,
    "run_control": {
     "frozen": false,
     "read_only": false
    }
   },
   "outputs": [],
   "source": [
    "output_dir = 'output_data_from_nbs/'\n",
    "raw_data_dir = '../spare5_produced_data/data/'\n",
    "raw_dq_file = 'ai2_testquestions_20161005.csv'\n",
    "s5_raw_decriptions = 'ai2_diagramdescriptions_20161018.csv'\n",
    "ai2_raw_decriptions = 'our_description.csv'\n",
    "glossary_path = os.path.join(output_dir, 'flexbook_glossary.pkl')\n",
    "\n",
    "turk_proc_dir = '/Users/schwenk/wrk/stb/diagram_questions/turk_processing/'\n",
    "metadata_dir = turk_proc_dir + 'store_hit_results_metadata/'\n",
    "lc_results_dir = 'loc_group_3'\n",
    "box_loc_joined = 'loc_annotations'\n",
    "recog_results_dir = 'group_latest_combined'\n",
    "\n",
    "box_choices_1_dir = 'final_text_boxes_fixed'\n",
    "box_choices_2_dir = 'final_text_boxes_pass_2'\n",
    "none_agree = 'no_turkers_agree_lookup.pkl'\n",
    "two_agree_lookup = 'two_turkers_agree_lookup.pkl'\n",
    "all_agree_lookup = 'user_diag_loopkup.pkl'\n",
    "\n",
    "recog_performed = '/Users/schwenk/wrk/stb/diagram_questions/turk_processing/final_diagrams/'\n",
    "all_dir = '/Users/schwenk/wrk/stb/ai2-vision-textbook-dataset/diagrams/tqa_diagrams_v0.9/'\n",
    "pruned_dir = '/Users/schwenk/wrk/stb/ai2-vision-textbook-dataset/diagrams/dataset_Sep_27/tqa_diagrams_v0.9_question_images/'\n",
    "description_dir = '/Users/schwenk/wrk/stb/spare5_produced_data/tqa_diagrams_v0.9_inbook/'"
   ]
  },
  {
   "cell_type": "markdown",
   "metadata": {
    "heading_collapsed": true,
    "hidden": true
   },
   "source": [
    "## parsed content and raw questions and descriptions"
   ]
  },
  {
   "cell_type": "code",
   "execution_count": 10,
   "metadata": {
    "collapsed": true,
    "hidden": true,
    "run_control": {
     "frozen": false,
     "read_only": false
    }
   },
   "outputs": [],
   "source": [
    "%%capture\n",
    "# load complete text v 3.5, raw diagram questions and descriptions\n",
    "# now ck12_dataset_text_only_beta_v5_build.json\n",
    "with open(output_dir + 'ck12_dataset_text_only_beta_v5_build.json', 'r') as f:\n",
    "    ck12_combined_dataset_raw = json.load(f)\n",
    "with open(output_dir + 'ck12_flexbook_only_beta_v3.json', 'r') as f:\n",
    "    flexbook_ds = json.load(f)\n",
    "with open(output_dir + 'ck12_lessons_only_beta_v3.json', 'r') as f:\n",
    "    lessons_ds = json.load(f)\n",
    "\n",
    "# loading questions\n",
    "desc_df = pd.read_csv(raw_data_dir + s5_raw_decriptions, encoding='latin-1')\n",
    "desc_df['diagram'] = desc_df['reference_id'].apply(lambda x: x.split('/')[-1])\n",
    "\n",
    "ai2_raw_decriptions_df = pd.read_csv(raw_data_dir + ai2_raw_decriptions, encoding='latin-1')\n",
    "ai2_written_df_completed = ai2_raw_decriptions_df[['Topic', 'Image Path', 'Description']]\n",
    "ai2_written_df_completed['diagram'] = ai2_written_df_completed['Image Path'].apply(lambda x: x.split('/')[-1])\n",
    "ai2_written_df_completed['topic'] = ai2_written_df_completed['Topic']\n",
    "del  ai2_written_df_completed['Topic']\n",
    "\n",
    "#loading questions\n",
    "# q_col = '03_write_question'\n",
    "# r_ans_col = '04_write_right_answer'\n",
    "# w_ans_col = '05_write_wrong_answers'\n",
    "# data_cols = [q_col, r_ans_col, w_ans_col]\n",
    "# raw_dq_df = pd.read_csv(raw_data_dir + raw_dq_file, encoding='latin-1')\n",
    "# dr_proc_df = raw_dq_df.copy()\n",
    "# dr_proc_df['wac_list'] = dr_proc_df[w_ans_col].apply(lambda x: json.loads(x))\n",
    "# dr_proc_df['diagram'] = dr_proc_df['reference_id'].apply(lambda x: x.split('/')[-1])\n",
    "# dr_proc_df['topic'] = dr_proc_df['reference_id'].apply(lambda x: x.split('/')[-1].rsplit('_', maxsplit=1)[0])\n",
    "\n",
    "dr_proc_df = pd.read_pickle('complete_s5_dq.pkl')\n",
    "dr_proc_df['diagram'] = dr_proc_df['reference_id'].apply(lambda x: x.split('/')[-1])\n",
    "\n",
    "\n",
    "with open('../diagram_questions/topic_match_terms.json', 'r') as f:\n",
    "    topic_term_match = json.load(f)    \n",
    "\n",
    "with open(glossary_path, 'rb') as f:\n",
    "    flexbook_glossary = pickle.load(f)"
   ]
  },
  {
   "cell_type": "markdown",
   "metadata": {
    "hidden": true
   },
   "source": [
    "### localization and recognition"
   ]
  },
  {
   "cell_type": "code",
   "execution_count": 11,
   "metadata": {
    "collapsed": true,
    "hidden": true,
    "run_control": {
     "frozen": false,
     "read_only": false
    }
   },
   "outputs": [],
   "source": [
    "loc_res_df = pd.read_pickle(os.path.join(metadata_dir, lc_results_dir, 'complete_df.pkl'))\n",
    "recog_res_df = pd.read_pickle(os.path.join(metadata_dir, recog_results_dir, 'recog_df.pkl'))"
   ]
  },
  {
   "cell_type": "markdown",
   "metadata": {
    "heading_collapsed": true,
    "hidden": true
   },
   "source": [
    "## building spellings and grammar"
   ]
  },
  {
   "cell_type": "code",
   "execution_count": 12,
   "metadata": {
    "collapsed": false,
    "hidden": true,
    "run_control": {
     "frozen": false,
     "read_only": false
    }
   },
   "outputs": [],
   "source": [
    "# loading spelling defs\n",
    "with open(output_dir + 'ck_12_vocab_words.pkl', 'rb') as f:\n",
    "    ck_12_vocab = set(pickle.load(f))\n",
    "with open(output_dir + 'ck_12_all_words.pkl', 'rb') as f:\n",
    "    ck_12_corp = set(pickle.load(f))\n",
    "    \n",
    "with open(output_dir + 'spellings_to_rev.txt', 'r') as f:\n",
    "    whitelisted_words = f.read().split('\\n')[:-1]    \n",
    "with open(output_dir + './desc_spellings_to_rev.txt', 'r') as f:\n",
    "    whitelisted_words += f.read().split('\\n')[:-1]\n",
    "with open(output_dir + './ck_12_spelling_rev.txt', 'r') as f:\n",
    "    whitelisted_words += f.read().split('\\n')[:-1]\n",
    "with open('diagram_rec_corp.pkl', 'rb') as f:\n",
    "    diagram_rec_corpus = pickle.load(f)\n",
    "    \n",
    "ck_12_corp.update(ck_12_vocab)\n",
    "ck_12_corp.update(whitelisted_words)\n",
    "ck_12_corp.update(diagram_rec_corpus)\n",
    "\n",
    "# build spelling dict updated with words from science corpus\n",
    "edict = enchant.Dict(\"en_US\")\n",
    "anglo_edict = enchant.Dict(\"en_UK\")\n",
    "cached_sw = stopwords.words(\"english\") + list(string.punctuation)\n",
    "for word in ck_12_corp:\n",
    "    if word.isalpha() and len(word) > 3:\n",
    "        edict.add(word)\n",
    "        \n",
    "# grammaer checker\n",
    "gram_checker = language_check.LanguageTool('en-US')\n",
    "gram_checker.disabled = set(['SENT_START_CONJUNCTIVE_LINKING_ADVERB_COMMA', 'POSSESSIVE_APOSTROPHE', 'A_PLURAL'])\n",
    "gram_checker.disable_spellchecking()"
   ]
  },
  {
   "cell_type": "markdown",
   "metadata": {},
   "source": [
    "# Clean and prepare data"
   ]
  },
  {
   "cell_type": "markdown",
   "metadata": {
    "heading_collapsed": true
   },
   "source": [
    "## extract media links"
   ]
  },
  {
   "cell_type": "code",
   "execution_count": 13,
   "metadata": {
    "collapsed": true,
    "hidden": true,
    "run_control": {
     "frozen": false,
     "read_only": false
    }
   },
   "outputs": [],
   "source": [
    "ck12_combined_dataset = deepcopy(ck12_combined_dataset_raw)"
   ]
  },
  {
   "cell_type": "code",
   "execution_count": 14,
   "metadata": {
    "collapsed": false,
    "hidden": true,
    "run_control": {
     "frozen": false,
     "read_only": false
    }
   },
   "outputs": [],
   "source": [
    "pat_str = \"(?:https?:\\/\\/(?:www\\.).*?\\s)\"\n",
    "web_link_patern=re.compile(pat_str)\n",
    "\n",
    "def clean_content_text(content_str, web_link_patern):\n",
    "    removed_links = web_link_patern.findall(content_str)\n",
    "    if not removed_links:\n",
    "        return '', ''\n",
    "    split_txt = web_link_patern.split(content_str)\n",
    "    cleaned_text = ' '.join([txt for txt in split_txt if txt])\n",
    "    return cleaned_text, [link.strip() for link in removed_links]\n",
    "\n",
    "def extract_links(complete_ds):\n",
    "    for subject, lessons in complete_ds.items():\n",
    "        for lesson_title, lesson in lessons.items():\n",
    "            for topic, content in lesson['topics'].items():\n",
    "                content_str = content['content']['text']\n",
    "                new_text, links = clean_content_text(content_str, web_link_patern)\n",
    "                content['content']['mediaLinks'] = []\n",
    "                if links:\n",
    "                    content['content']['text'] = new_text\n",
    "                    content['content']['mediaLinks'].extend(links)"
   ]
  },
  {
   "cell_type": "code",
   "execution_count": 171,
   "metadata": {
    "collapsed": false,
    "hidden": true,
    "run_control": {
     "frozen": false,
     "read_only": false
    }
   },
   "outputs": [],
   "source": [
    "extract_links(ck12_combined_dataset)"
   ]
  },
  {
   "cell_type": "markdown",
   "metadata": {
    "collapsed": true,
    "heading_collapsed": true,
    "run_control": {
     "frozen": false,
     "read_only": false
    }
   },
   "source": [
    "## remove non-conforming content"
   ]
  },
  {
   "cell_type": "markdown",
   "metadata": {
    "heading_collapsed": true,
    "hidden": true
   },
   "source": [
    "### old code (nested)"
   ]
  },
  {
   "cell_type": "code",
   "execution_count": 18,
   "metadata": {
    "collapsed": false,
    "hidden": true,
    "run_control": {
     "frozen": false,
     "read_only": false
    }
   },
   "outputs": [],
   "source": [
    "def validate_schema(dataset_json, ):\n",
    "    errors = []\n",
    "    try:\n",
    "        validator = jsonschema.Draft4Validator(schema)\n",
    "        for error in sorted(validator.iter_errors(dataset_json), key=lambda x: x.absolute_path[0]):\n",
    "            errors.append([error.message, list(error.absolute_path)[:4]])\n",
    "    except jsonschema.ValidationError as e:\n",
    "        errors.append(\"Error in schema --%s-\", e.message)\n",
    "    return errors\n",
    "\n",
    "def validate_dataset(dataset_json, scheme=schema):\n",
    "    for subject, flexbook in dataset_json.items():\n",
    "        schema_errors = validate_schema(flexbook, schema)\n",
    "        for lesson_name, lesson in flexbook.items():\n",
    "            ac_errors = check_ac_counts(lesson, subject, lesson_name)\n",
    "        all_errors = schema_errors + ac_errors\n",
    "        if not all_errors:\n",
    "            return 'all validation test passed'\n",
    "        else:\n",
    "            return all_errors\n",
    "\n",
    "def check_ac_counts(lesson_content, subject, lesson_name):\n",
    "    errors = []\n",
    "    for qid, question in lesson_content['questions']['nonDiagramQuestions'].items():\n",
    "        if question['type'] == 'Multiple Choice':\n",
    "            if len(question['answerChoices']) != 4:\n",
    "                errors.append([subject, lesson_name, qid + ' mc error'])\n",
    "        if question['type'] == 'True or False':\n",
    "            if len(question['answerChoices']) != 2:\n",
    "                errors.append([subject, lesson_name, qid + ' tf error'])\n",
    "    return errors\n",
    "\n",
    "def record_validation_errors(dataset):\n",
    "    qs_removed = []\n",
    "    for subject, flexbook in dataset.items():\n",
    "        validator = jsonschema.Draft4Validator(schema)\n",
    "        for error in sorted(validator.iter_errors(flexbook), key=lambda x: x.absolute_path[0]):\n",
    "            lesson, quest, question_class, q_number = list(error.absolute_path)[:4]\n",
    "            problem_q_section = dataset[subject][lesson][quest][question_class]\n",
    "            if q_number in problem_q_section.keys():\n",
    "#                 print(dataset[subject][lesson][quest][question_class].pop(q_number))\n",
    "                qs_removed.append(dataset[subject][lesson][quest][question_class].pop(q_number))\n",
    "    return qs_removed"
   ]
  },
  {
   "cell_type": "markdown",
   "metadata": {
    "heading_collapsed": true,
    "hidden": true
   },
   "source": [
    "### new code (flat)"
   ]
  },
  {
   "cell_type": "code",
   "execution_count": 304,
   "metadata": {
    "code_folding": [],
    "collapsed": false,
    "hidden": true,
    "run_control": {
     "frozen": false,
     "read_only": false
    }
   },
   "outputs": [],
   "source": [
    "def validate_schema(dataset_json, schema):\n",
    "    errors = []\n",
    "    try:\n",
    "        validator = jsonschema.Draft4Validator(schema)\n",
    "        for error in sorted(list(validator.iter_errors(dataset_json)), key=lambda x: x.absolute_schema_path[0]):\n",
    "            errors.append([error.message, list(error.absolute_path)[:4]])\n",
    "    except jsonschema.ValidationError as e:\n",
    "        errors.append(\"Error in schema --%s-\", e.message)\n",
    "    return errors\n",
    "\n",
    "def validate_dataset(dataset_json, val_scheme):\n",
    "    ac_errors = []\n",
    "    schema_errors = validate_schema(dataset_json, val_scheme)\n",
    "\n",
    "    if not all_errors:\n",
    "        return 'all validation test passed'\n",
    "    else:\n",
    "        return all_errors\n",
    "\n",
    "# def check_global_ids():\n",
    "    \n",
    "\n",
    "def record_validation_errors(dataset, schema):\n",
    "    qs_removed = []\n",
    "    validator = jsonschema.Draft4Validator(schema)\n",
    "    for error in sorted(validator.iter_errors(dataset), key=lambda x: x.absolute_path[0]):\n",
    "        print(error)\n",
    "        lesson, quest, question_class, q_number = list(error.absolute_schema_path)[:4]\n",
    "        problem_q_section = dataset[subject][lesson][quest][question_class]\n",
    "        if q_number in problem_q_section.keys():\n",
    "            print(dataset[subject][lesson][quest][question_class].pop(q_number))\n",
    "            qs_removed.append(dataset[subject][lesson][quest][question_class].pop(q_number))\n",
    "    return qs_removed"
   ]
  },
  {
   "cell_type": "markdown",
   "metadata": {
    "hidden": true
   },
   "source": [
    "### run"
   ]
  },
  {
   "cell_type": "code",
   "execution_count": 301,
   "metadata": {
    "collapsed": false,
    "hidden": true
   },
   "outputs": [
    {
     "name": "stdout",
     "output_type": "stream",
     "text": [
      "0\n"
     ]
    },
    {
     "data": {
      "text/plain": [
       "[]"
      ]
     },
     "execution_count": 301,
     "metadata": {},
     "output_type": "execute_result"
    }
   ],
   "source": [
    "validate_schema(complete_flat_ds, new_schema)"
   ]
  },
  {
   "cell_type": "code",
   "execution_count": 305,
   "metadata": {
    "collapsed": false,
    "hidden": true
   },
   "outputs": [],
   "source": [
    "errors_returned = validate_dataset(complete_flat_ds, new_schema)"
   ]
  },
  {
   "cell_type": "code",
   "execution_count": 306,
   "metadata": {
    "collapsed": false,
    "hidden": true
   },
   "outputs": [
    {
     "data": {
      "text/plain": [
       "0"
      ]
     },
     "execution_count": 306,
     "metadata": {},
     "output_type": "execute_result"
    }
   ],
   "source": [
    "len(errors_returned)"
   ]
  },
  {
   "cell_type": "code",
   "execution_count": 296,
   "metadata": {
    "collapsed": false,
    "hidden": true
   },
   "outputs": [
    {
     "data": {
      "text/plain": [
       "28521075"
      ]
     },
     "execution_count": 296,
     "metadata": {},
     "output_type": "execute_result"
    }
   ],
   "source": [
    "len(errors_returned[0][0])"
   ]
  },
  {
   "cell_type": "code",
   "execution_count": 293,
   "metadata": {
    "collapsed": false,
    "hidden": true
   },
   "outputs": [
    {
     "data": {
      "text/plain": [
       "'{'"
      ]
     },
     "execution_count": 293,
     "metadata": {},
     "output_type": "execute_result"
    }
   ],
   "source": [
    "errors_returned[0][0][1]"
   ]
  },
  {
   "cell_type": "code",
   "execution_count": 259,
   "metadata": {
    "collapsed": false,
    "hidden": true
   },
   "outputs": [
    {
     "data": {
      "text/plain": [
       "1"
      ]
     },
     "execution_count": 259,
     "metadata": {},
     "output_type": "execute_result"
    }
   ],
   "source": [
    "len(errors_returned)"
   ]
  },
  {
   "cell_type": "code",
   "execution_count": 244,
   "metadata": {
    "collapsed": false,
    "hidden": true,
    "scrolled": true
   },
   "outputs": [],
   "source": [
    "from pdfextraction.ck12_new_schema import ck12_schema as new_schema\n",
    "validator = jsonschema.Draft4Validator(new_schema)\n",
    "for error in sorted(validator.iter_errors(complete_flat_ds), key=lambda x: x.absolute_path[0]):\n",
    "    print(error.message)\n",
    "    print(error.absolute_path)\n",
    "    print()"
   ]
  },
  {
   "cell_type": "code",
   "execution_count": 238,
   "metadata": {
    "collapsed": false,
    "hidden": true
   },
   "outputs": [
    {
     "data": {
      "text/plain": [
       "[]"
      ]
     },
     "execution_count": 238,
     "metadata": {},
     "output_type": "execute_result"
    }
   ],
   "source": [
    "record_validation_errors(complete_flat_ds, new_schema)"
   ]
  },
  {
   "cell_type": "markdown",
   "metadata": {
    "heading_collapsed": true,
    "hidden": true
   },
   "source": [
    "### hide"
   ]
  },
  {
   "cell_type": "code",
   "execution_count": 535,
   "metadata": {
    "collapsed": true,
    "hidden": true
   },
   "outputs": [],
   "source": [
    "test_flat_ds = complete_flat_ds"
   ]
  },
  {
   "cell_type": "code",
   "execution_count": 309,
   "metadata": {
    "collapsed": false,
    "hidden": true,
    "scrolled": true
   },
   "outputs": [
    {
     "data": {
      "text/plain": [
       "[]"
      ]
     },
     "execution_count": 309,
     "metadata": {},
     "output_type": "execute_result"
    }
   ],
   "source": [
    "validate_schema(complete_flat_ds, new_schema)"
   ]
  },
  {
   "cell_type": "code",
   "execution_count": 432,
   "metadata": {
    "collapsed": false,
    "hidden": true
   },
   "outputs": [
    {
     "data": {
      "text/plain": [
       "dict_keys(['correctAnswer', 'beingAsked', 'answerChoices', 'imagePath', 'type', 'globalID', 'imageName'])"
      ]
     },
     "execution_count": 432,
     "metadata": {},
     "output_type": "execute_result"
    }
   ],
   "source": [
    "\n",
    "test_flat_ds[0]['questions']['diagramQuestions']['DQ_000031'].keys()"
   ]
  },
  {
   "cell_type": "code",
   "execution_count": null,
   "metadata": {
    "collapsed": true,
    "hidden": true
   },
   "outputs": [],
   "source": []
  },
  {
   "cell_type": "code",
   "execution_count": 177,
   "metadata": {
    "collapsed": false,
    "hidden": true,
    "run_control": {
     "frozen": false,
     "read_only": false
    }
   },
   "outputs": [],
   "source": [
    "qs_rem = record_validation_errors(ck12_combined_dataset)"
   ]
  },
  {
   "cell_type": "code",
   "execution_count": 178,
   "metadata": {
    "collapsed": true,
    "hidden": true
   },
   "outputs": [
    {
     "data": {
      "text/plain": [
       "0"
      ]
     },
     "execution_count": 178,
     "metadata": {},
     "output_type": "execute_result"
    }
   ],
   "source": [
    "len(qs_rem)"
   ]
  },
  {
   "cell_type": "markdown",
   "metadata": {
    "heading_collapsed": true
   },
   "source": [
    "## remove recognition and localization errors"
   ]
  },
  {
   "cell_type": "code",
   "execution_count": 18,
   "metadata": {
    "collapsed": true,
    "hidden": true,
    "run_control": {
     "frozen": false,
     "read_only": false
    }
   },
   "outputs": [],
   "source": [
    "diagram_image_names = clean_list(recog_performed)\n",
    "\n",
    "rec_files = glob.glob(all_dir + '*/*')\n",
    "more_paths = glob.glob(all_dir + '*/*')\n",
    "pruned_paths = glob.glob(pruned_dir + '*/*')\n",
    "more_files = [fp.split('/')[-1] for fp in more_paths]\n",
    "pruned_files = [fp.split('/')[-1] for fp in pruned_paths]\n",
    "desc_paths = glob.glob(description_dir + '*/*')\n",
    "desc_files = [fp.split('/')[-1] for fp in desc_paths]\n",
    "\n",
    "\n",
    "pruned_nums = set([get_img_n(name) for name in pruned_files])\n",
    "all_nums = set([get_img_n(name) for name in more_files])\n",
    "rec_nums = set([get_img_n(name) for name in diagram_image_names])\n",
    "desc_nums = set([get_img_n(name) for name in desc_files])\n",
    "\n",
    "removed_images = all_nums.difference(pruned_nums.union(desc_nums))\n",
    "\n",
    "removed_image_names = []\n",
    "for img_n in removed_images:\n",
    "    for image_name in more_files:\n",
    "        if img_n == get_img_n(image_name):\n",
    "            removed_image_names.append(image_name)\n",
    "\n",
    "name_change_lookup = {}\n",
    "for image_name in more_files:\n",
    "    img_n = get_img_n(image_name)\n",
    "    for newer_name in pruned_files:\n",
    "        if img_n == get_img_n(newer_name) and newer_name != image_name:\n",
    "            name_change_lookup[image_name] = newer_name\n",
    "\n",
    "removed_image_names = sorted(removed_image_names)"
   ]
  },
  {
   "cell_type": "code",
   "execution_count": 19,
   "metadata": {
    "collapsed": true,
    "hidden": true,
    "run_control": {
     "frozen": false,
     "read_only": false
    }
   },
   "outputs": [],
   "source": [
    "blacklisted_topics = ['periodic_table', 'em_spectrum', 'hydrocarbons', 'geologic_time'] + ['lewis_dot_idapgrams', 'circuits']  # correct this mispelling in future round"
   ]
  },
  {
   "cell_type": "code",
   "execution_count": 20,
   "metadata": {
    "collapsed": false,
    "hidden": true,
    "run_control": {
     "frozen": false,
     "read_only": false
    }
   },
   "outputs": [
    {
     "data": {
      "text/plain": [
       "9"
      ]
     },
     "execution_count": 20,
     "metadata": {},
     "output_type": "execute_result"
    }
   ],
   "source": [
    "len(removed_image_names)"
   ]
  },
  {
   "cell_type": "markdown",
   "metadata": {
    "heading_collapsed": true
   },
   "source": [
    "# Add image annotations"
   ]
  },
  {
   "cell_type": "markdown",
   "metadata": {
    "heading_collapsed": true,
    "hidden": true
   },
   "source": [
    "## localization"
   ]
  },
  {
   "cell_type": "code",
   "execution_count": 360,
   "metadata": {
    "collapsed": false,
    "hidden": true,
    "run_control": {
     "frozen": false,
     "read_only": false
    }
   },
   "outputs": [
    {
     "data": {
      "text/html": [
       "<div>\n",
       "<table border=\"1\" class=\"dataframe\">\n",
       "  <thead>\n",
       "    <tr style=\"text-align: right;\">\n",
       "      <th></th>\n",
       "      <th>diagram</th>\n",
       "      <th>rectangle</th>\n",
       "      <th>hit_id</th>\n",
       "      <th>assignment_id</th>\n",
       "      <th>worker_id</th>\n",
       "    </tr>\n",
       "  </thead>\n",
       "  <tbody>\n",
       "    <tr>\n",
       "      <th>0</th>\n",
       "      <td>parts_cell_1182.png</td>\n",
       "      <td>[[283, 192], [447, 238]]</td>\n",
       "      <td>3SA4EMRVJV39U1MGLCYP6KPFULH0PX</td>\n",
       "      <td>3BDCF01OGXVJNV1XRULS5F5Z4B6LYG</td>\n",
       "      <td>A1017VP86SLXRB</td>\n",
       "    </tr>\n",
       "  </tbody>\n",
       "</table>\n",
       "</div>"
      ],
      "text/plain": [
       "               diagram                 rectangle  \\\n",
       "0  parts_cell_1182.png  [[283, 192], [447, 238]]   \n",
       "\n",
       "                           hit_id                   assignment_id  \\\n",
       "0  3SA4EMRVJV39U1MGLCYP6KPFULH0PX  3BDCF01OGXVJNV1XRULS5F5Z4B6LYG   \n",
       "\n",
       "        worker_id  \n",
       "0  A1017VP86SLXRB  "
      ]
     },
     "execution_count": 360,
     "metadata": {},
     "output_type": "execute_result"
    }
   ],
   "source": [
    "loc_res_df.head(1)"
   ]
  },
  {
   "cell_type": "code",
   "execution_count": 361,
   "metadata": {
    "collapsed": false,
    "hidden": true,
    "run_control": {
     "frozen": false,
     "read_only": false
    }
   },
   "outputs": [
    {
     "data": {
      "text/plain": [
       "142"
      ]
     },
     "execution_count": 361,
     "metadata": {},
     "output_type": "execute_result"
    }
   ],
   "source": [
    "loc_anno = clean_list(os.path.join(turk_proc_dir, box_loc_joined))\n",
    "loc_anno_images = [fig.split('.json')[0]  for fig in loc_anno]\n",
    "keep_figures = [fig for fig in loc_anno_images if fig not in removed_image_names]\n",
    "\n",
    "loc_box_path = os.path.join(turk_proc_dir, box_loc_joined)\n",
    "\n",
    "diag_loc_annotations = {}\n",
    "for diagram_name in keep_figures:\n",
    "    anno_file_path = os.path.join(loc_box_path, diagram_name + '.json')\n",
    "    if not os.path.exists(anno_file_path):\n",
    "        diagram_name = diagram_name.replace('optics_rays', 'optics_ray_diagrams')\n",
    "        anno_file_path = os.path.join(loc_box_path, diagram_name  + '.json')\n",
    "    with open(anno_file_path, 'r') as f:\n",
    "        diag_loc_annotations[diagram_name] = json.load(f)\n",
    "\n",
    "combined_master_file_list = pruned_files + desc_files\n",
    "combined_master_file_list_whitelisted = [file for file in combined_master_file_list if file in keep_figures]\n",
    "files_still_needing_localisation = sorted(list(set(combined_master_file_list).difference(set(diag_loc_annotations))))\n",
    "len(files_still_needing_localisation)"
   ]
  },
  {
   "cell_type": "markdown",
   "metadata": {
    "hidden": true
   },
   "source": [
    "## recognition"
   ]
  },
  {
   "cell_type": "markdown",
   "metadata": {
    "heading_collapsed": true,
    "hidden": true
   },
   "source": [
    "### code"
   ]
  },
  {
   "cell_type": "code",
   "execution_count": 362,
   "metadata": {
    "collapsed": true,
    "hidden": true,
    "run_control": {
     "frozen": false,
     "read_only": false
    }
   },
   "outputs": [],
   "source": [
    "def most_common_strict(image_response):\n",
    "    \"\"\"\n",
    "    returns the consensus response of the three raw response strings for a given image\n",
    "    \"\"\"\n",
    "    most_common = image_response[1]['raw_text'].mode()\n",
    "    if most_common.empty:\n",
    "        most_common = 'nonconsensus'\n",
    "        noncon.append(image_response[1]['raw_text'])\n",
    "    else:\n",
    "        most_common = most_common.values[0]\n",
    "    return most_common\n",
    "\n",
    "def most_common_lax(image_response, strings_denoting_missing_image=[]):\n",
    "    \"\"\"\n",
    "    returns the consensus response after stripping white space and converting the reponses to lower case\n",
    "    \"\"\"\n",
    "    simple_sanitizer = lambda x : x.lower().strip().lstrip()\n",
    "    ind_responses = image_response[1]['raw_text'].values\n",
    "    probobly_blanks = [response for response in ind_responses if response in strings_denoting_missing_image]\n",
    "    if probobly_blanks:\n",
    "        return 'skip'\n",
    "    most_common = image_response[1]['raw_text'].apply(simple_sanitizer).mode()\n",
    "    if most_common.empty:\n",
    "        most_common = 'no consensus'\n",
    "        noncon[image_response[0][0]].extend(image_response[1]['raw_text'])\n",
    "    else:\n",
    "        most_common = most_common.values[0]\n",
    "    return most_common\n",
    "\n",
    "def find_transcriptions_matches(batch_results_df, response_matcher):\n",
    "    \"\"\"\n",
    "    returns a pandas series with the consunsus response for each image\n",
    "    \"\"\"\n",
    "    agreed_responses = pd.DataFrame()\n",
    "    for image_response in batch_results_df.groupby(['diagram', 'box_diag_idx']):\n",
    "        diagram_and_idx = image_response[0]\n",
    "        most_common = response_matcher(image_response, strings_denoting_missing_image=[])\n",
    "        if most_common == 'skip':\n",
    "            continue\n",
    "        this_row = pd.DataFrame(list(diagram_and_idx) + [most_common, image_response[1]['rectangle'].iloc[0], image_response[1]['assignment_id'].iloc[0]]).T\n",
    "        agreed_responses = pd.concat([agreed_responses, this_row])\n",
    "        # The reindex below is needed to match the original df index after the groupby operation\n",
    "    agreed_responses.columns = ['diagram', 'box_diag_idx', 'consensus_res', 'rectangle', 'assignment_id']\n",
    "    return agreed_responses"
   ]
  },
  {
   "cell_type": "markdown",
   "metadata": {
    "heading_collapsed": true,
    "hidden": true
   },
   "source": [
    "### run"
   ]
  },
  {
   "cell_type": "code",
   "execution_count": 363,
   "metadata": {
    "collapsed": false,
    "hidden": true,
    "run_control": {
     "frozen": false,
     "read_only": false
    }
   },
   "outputs": [
    {
     "data": {
      "text/plain": [
       "2190"
      ]
     },
     "execution_count": 363,
     "metadata": {},
     "output_type": "execute_result"
    }
   ],
   "source": [
    "recog_performed_on = set(pd.unique(recog_res_df['diagram']).tolist())\n",
    "len(recog_performed_on)"
   ]
  },
  {
   "cell_type": "code",
   "execution_count": 364,
   "metadata": {
    "collapsed": false,
    "hidden": true,
    "run_control": {
     "frozen": false,
     "read_only": false
    }
   },
   "outputs": [
    {
     "name": "stdout",
     "output_type": "stream",
     "text": [
      "131\n",
      "7\n"
     ]
    }
   ],
   "source": [
    "files_still_needing_recognition = sorted(list(set(pruned_files).difference(set(recog_performed_on))))\n",
    "print(len(files_still_needing_recognition))\n",
    "file_with_loc_no_recog = set(files_still_needing_recognition).difference(files_still_needing_localisation)\n",
    "print(len(file_with_loc_no_recog))"
   ]
  },
  {
   "cell_type": "code",
   "execution_count": 365,
   "metadata": {
    "collapsed": true,
    "hidden": true,
    "run_control": {
     "frozen": false,
     "read_only": false
    }
   },
   "outputs": [],
   "source": [
    "noncon = defaultdict(list)\n",
    "transcription_results_lax = find_transcriptions_matches(recog_res_df, most_common_lax)"
   ]
  },
  {
   "cell_type": "code",
   "execution_count": 366,
   "metadata": {
    "collapsed": false,
    "hidden": true,
    "run_control": {
     "frozen": false,
     "read_only": false
    }
   },
   "outputs": [],
   "source": [
    "noncon_entries = [entries for entries in noncon.values()]\n",
    "flattened_noncon = [item for sublist in noncon_entries for item in sublist]"
   ]
  },
  {
   "cell_type": "code",
   "execution_count": 367,
   "metadata": {
    "collapsed": false,
    "hidden": true,
    "run_control": {
     "frozen": false,
     "read_only": false
    }
   },
   "outputs": [],
   "source": [
    "curated_no_image_strings = set(['*no image showing*', '', ' ', 'NA', '?', 'na', '0', 'No image found', 'blank', 'Nothing showing', \"where is the images , i can't see anything\", 'NO IMAGE', ''])"
   ]
  },
  {
   "cell_type": "code",
   "execution_count": 368,
   "metadata": {
    "collapsed": false,
    "hidden": true,
    "run_control": {
     "frozen": false,
     "read_only": false
    }
   },
   "outputs": [
    {
     "name": "stdout",
     "output_type": "stream",
     "text": [
      "408\n",
      "99\n"
     ]
    }
   ],
   "source": [
    "non_blank_no_consensus = {d_name: rec_res for d_name, rec_res in noncon.items() if not curated_no_image_strings.intersection(set(rec_res))}\n",
    "blank_no_consensus = {d_name: rec_res for d_name, rec_res in noncon.items() if curated_no_image_strings.intersection(set(rec_res))}\n",
    "print(len(non_blank_no_consensus))\n",
    "print(len(blank_no_consensus))"
   ]
  },
  {
   "cell_type": "code",
   "execution_count": 369,
   "metadata": {
    "collapsed": false,
    "hidden": true,
    "run_control": {
     "frozen": false,
     "read_only": false
    }
   },
   "outputs": [],
   "source": [
    "flattened_noncon_no_blank = [item for sublist in non_blank_no_consensus.values() for item in sublist]\n",
    "build_diagram_rec_corpus  = [words.split() for words in transcription_results_lax['consensus_res'].values.tolist()]\n",
    "diagram_rec_corpus = set([item.lower().strip() for sublist in build_diagram_rec_corpus for item in sublist if item.isalpha() and len(item) > 3])"
   ]
  },
  {
   "cell_type": "code",
   "execution_count": 451,
   "metadata": {
    "collapsed": false,
    "hidden": true
   },
   "outputs": [],
   "source": [
    "# transcription_results_lax.to_pickle('recog_proc_checkpoint.pkl')"
   ]
  },
  {
   "cell_type": "markdown",
   "metadata": {
    "heading_collapsed": true,
    "hidden": true
   },
   "source": [
    "### hide"
   ]
  },
  {
   "cell_type": "code",
   "execution_count": 370,
   "metadata": {
    "collapsed": false,
    "hidden": true,
    "run_control": {
     "frozen": false,
     "read_only": false
    }
   },
   "outputs": [],
   "source": [
    "# with open('diagram_rec_corp.pkl', 'wb') as f:\n",
    "#     pickle.dump(diagram_rec_corpus, f)"
   ]
  },
  {
   "cell_type": "code",
   "execution_count": 371,
   "metadata": {
    "collapsed": false,
    "hidden": true,
    "run_control": {
     "frozen": false,
     "read_only": false
    }
   },
   "outputs": [],
   "source": [
    "# strings_denoting_missing_image = list(pd.Series(flattened_noncon).value_counts()[:20].index)\n",
    "# Image.open('../ai2-vision-textbook-dataset/diagrams/turk_data/optics_ray_diagrams_9170.png')"
   ]
  },
  {
   "cell_type": "code",
   "execution_count": 372,
   "metadata": {
    "collapsed": false,
    "hidden": true,
    "run_control": {
     "frozen": false,
     "read_only": false
    }
   },
   "outputs": [
    {
     "data": {
      "text/plain": [
       "4073"
      ]
     },
     "execution_count": 372,
     "metadata": {},
     "output_type": "execute_result"
    }
   ],
   "source": [
    "len(diagram_rec_corpus)"
   ]
  },
  {
   "cell_type": "markdown",
   "metadata": {},
   "source": [
    "# Integrate diagram questions and descriptions"
   ]
  },
  {
   "cell_type": "markdown",
   "metadata": {},
   "source": [
    "## match diagram topics to lessons"
   ]
  },
  {
   "cell_type": "markdown",
   "metadata": {},
   "source": [
    "first need to match diagram topics to flexbook lessons"
   ]
  },
  {
   "cell_type": "markdown",
   "metadata": {
    "heading_collapsed": true
   },
   "source": [
    "### code"
   ]
  },
  {
   "cell_type": "code",
   "execution_count": 86,
   "metadata": {
    "collapsed": false,
    "hidden": true,
    "run_control": {
     "frozen": false,
     "read_only": false
    }
   },
   "outputs": [],
   "source": [
    "def make_topic_matches(topic_list, combined_topics):\n",
    "    topic_matches = {}\n",
    "    for diagram_topic in topic_list:\n",
    "        topic_matches[diagram_topic] = []\n",
    "        for terms in topic_term_match[diagram_topic]:\n",
    "            lev_dist_threshed = [topic for topic in combined_topics.keys() if fuzz.ratio(topic, terms) > 85]\n",
    "            topic_matches[diagram_topic] += lev_dist_threshed\n",
    "        if not topic_matches[diagram_topic]:\n",
    "                for terms in topic_term_match[diagram_topic]:\n",
    "                    lev_dist_threshed = [topic for topic in combined_topics.keys() if fuzz.token_set_ratio(topic, terms) > 80]\n",
    "                    topic_matches[diagram_topic] += lev_dist_threshed\n",
    "    return topic_matches\n",
    "\n",
    "def make_lesson_matches(ck12_dataset, diagram_topic_name, topic_matches):\n",
    "    lesson_matches = defaultdict(list)\n",
    "    lessons_seen = set()\n",
    "    content_topics =  topic_matches[diagram_topic_name]\n",
    "    for topic in sorted(content_topics):\n",
    "        associated_lesson =combined_topics[topic]['lesson']\n",
    "        if associated_lesson not in lessons_seen:\n",
    "            lessons_seen.add(associated_lesson)\n",
    "            lesson_matches[diagram_topic_name].append(associated_lesson)\n",
    "    return dict(lesson_matches)"
   ]
  },
  {
   "cell_type": "markdown",
   "metadata": {
    "heading_collapsed": true
   },
   "source": [
    "### run"
   ]
  },
  {
   "cell_type": "markdown",
   "metadata": {
    "hidden": true
   },
   "source": [
    "The pruned directory is the tqa 0.91 set assmbled by Ani on Sept 27th. It should be treated as definitive"
   ]
  },
  {
   "cell_type": "code",
   "execution_count": 87,
   "metadata": {
    "collapsed": true,
    "hidden": true,
    "run_control": {
     "frozen": false,
     "read_only": false
    }
   },
   "outputs": [],
   "source": [
    "diagram_topic_list = clean_list(pruned_dir)"
   ]
  },
  {
   "cell_type": "code",
   "execution_count": 88,
   "metadata": {
    "collapsed": false,
    "hidden": true,
    "run_control": {
     "frozen": false,
     "read_only": false
    }
   },
   "outputs": [],
   "source": [
    "es_lesson_names = [item for sublist in [val['topics'].keys() for val in ck12_combined_dataset['earth-science'].values()] for item in sublist]\n",
    "ps_lesson_names = [item for sublist in [val['topics'].keys() for val in ck12_combined_dataset['physical-science'].values()] for item in sublist]\n",
    "ls_lesson_names = [item for sublist in [val['topics'].keys() for val in ck12_combined_dataset['life-science'].values()] for item in sublist]\n",
    "\n",
    "combined_lessons = es_lesson_names + ps_lesson_names + ls_lesson_names\n",
    "topic_series = pd.Series(combined_lessons).value_counts()\n",
    "# the 17 here found by inspection- any \"topic\" appearing many times is something general like review, vocab, etc\n",
    "topics_to_remove = list(topic_series[:17].index)"
   ]
  },
  {
   "cell_type": "code",
   "execution_count": 89,
   "metadata": {
    "collapsed": false,
    "hidden": true,
    "run_control": {
     "frozen": false,
     "read_only": false
    }
   },
   "outputs": [],
   "source": [
    "combined_topics = defaultdict(dict)\n",
    "for subject, book in ck12_combined_dataset.items():\n",
    "    for lesson, material in book.items():\n",
    "        for topic, text in material['topics'].items():\n",
    "            if topic in topics_to_remove:\n",
    "                continue\n",
    "            combined_topics[topic.lower()]['lesson'] = lesson"
   ]
  },
  {
   "cell_type": "code",
   "execution_count": 90,
   "metadata": {
    "collapsed": false,
    "hidden": true,
    "run_control": {
     "frozen": false,
     "read_only": false
    }
   },
   "outputs": [],
   "source": [
    "topic_matches = make_topic_matches(diagram_topic_list, combined_topics)\n",
    "missing= []\n",
    "for k, v in topic_matches.items():\n",
    "    if not v:\n",
    "        missing.append(k)"
   ]
  },
  {
   "cell_type": "code",
   "execution_count": 91,
   "metadata": {
    "collapsed": false,
    "hidden": true,
    "run_control": {
     "frozen": false,
     "read_only": false
    }
   },
   "outputs": [],
   "source": [
    "matching_lessons = {}\n",
    "for topic in diagram_topic_list:\n",
    "    matched_lessons = make_lesson_matches(ck12_combined_dataset, topic, topic_matches)\n",
    "    matching_lessons.update(matched_lessons)"
   ]
  },
  {
   "cell_type": "code",
   "execution_count": 92,
   "metadata": {
    "collapsed": false,
    "hidden": true,
    "run_control": {
     "frozen": false,
     "read_only": false
    },
    "scrolled": true
   },
   "outputs": [],
   "source": [
    "diagram_lesson_lookup = {}\n",
    "for d_topic, lessons in matching_lessons.items():\n",
    "    diagram_lesson_lookup[d_topic] = sorted(lessons)[0]"
   ]
  },
  {
   "cell_type": "code",
   "execution_count": 93,
   "metadata": {
    "code_folding": [],
    "collapsed": true,
    "hidden": true,
    "run_control": {
     "frozen": false,
     "read_only": false
    }
   },
   "outputs": [],
   "source": [
    "#manually correct name changes made since diagrams were assembled\n",
    "diagram_lesson_lookup['lewis_dot_diagrams'] = diagram_lesson_lookup['lewis_dots']\n",
    "diagram_lesson_lookup['optics_ray_diagrams'] = diagram_lesson_lookup['optics_rays']"
   ]
  },
  {
   "cell_type": "markdown",
   "metadata": {
    "collapsed": true,
    "heading_collapsed": true,
    "run_control": {
     "frozen": false,
     "read_only": false
    }
   },
   "source": [
    "### hide"
   ]
  },
  {
   "cell_type": "code",
   "execution_count": 381,
   "metadata": {
    "collapsed": true,
    "hidden": true,
    "run_control": {
     "frozen": false,
     "read_only": false
    }
   },
   "outputs": [],
   "source": [
    "lessons_seen = []\n",
    "dupe_lessons = []\n",
    "for k, v in diagram_lesson_lookup.items():\n",
    "    if v not in lessons_seen:\n",
    "        lessons_seen.append(v)\n",
    "    else:\n",
    "        dupe_lessons.append(v)"
   ]
  },
  {
   "cell_type": "code",
   "execution_count": 382,
   "metadata": {
    "collapsed": false,
    "hidden": true,
    "run_control": {
     "frozen": false,
     "read_only": false
    }
   },
   "outputs": [],
   "source": [
    "dupe_topics = defaultdict(list)\n",
    "for k, v in diagram_lesson_lookup.items():\n",
    "    if v in dupe_lessons:\n",
    "        dupe_topics[v].append(k)\n",
    "# dupe_topics"
   ]
  },
  {
   "cell_type": "code",
   "execution_count": 383,
   "metadata": {
    "collapsed": false,
    "hidden": true,
    "run_control": {
     "frozen": false,
     "read_only": false
    }
   },
   "outputs": [
    {
     "data": {
      "text/plain": [
       "[]"
      ]
     },
     "execution_count": 383,
     "metadata": {},
     "output_type": "execute_result"
    }
   ],
   "source": [
    "missing"
   ]
  },
  {
   "cell_type": "code",
   "execution_count": 384,
   "metadata": {
    "collapsed": false,
    "hidden": true,
    "run_control": {
     "frozen": false,
     "read_only": false
    }
   },
   "outputs": [
    {
     "name": "stdout",
     "output_type": "stream",
     "text": [
      "acid_rain_formation\n",
      "['22.2 Effects of Air Pollution']\n",
      "\n",
      "aquifers\n",
      "['13.3 Groundwater']\n",
      "\n",
      "atomic_mass_number\n",
      "['5.1 Inside the Atom', 'atomic number', 'matter mass and volume']\n",
      "\n",
      "atomic_structure\n",
      "['5.1 Inside the Atom']\n",
      "\n",
      "biomes\n",
      "['climate zones and biomes']\n",
      "\n",
      "blastocyst\n",
      "['22.3 Reproduction and Life Stages']\n",
      "\n",
      "cell_division\n",
      "['5.1 Cell Division']\n",
      "\n",
      "cellular_respiration\n",
      "['9.4 Biochemical Reactions']\n",
      "\n",
      "chemical_bonding_covalent\n",
      "['7.3 Covalent Bonds']\n",
      "\n",
      "chemical_bonding_ionic\n",
      "['7.2 Ionic Bonds']\n",
      "\n",
      "circuits\n",
      "['23.3 Electric Circuits']\n",
      "\n",
      "continental_drift\n",
      "['6.2 Continental Drift']\n",
      "\n",
      "convection_of_air\n",
      "['18.2 Transfer of Thermal Energy']\n",
      "\n",
      "cycle_carbon\n",
      "['18.2 Cycles of Matter']\n",
      "\n",
      "cycle_nitrogen\n",
      "['18.2 Cycles of Matter']\n",
      "\n",
      "cycle_rock\n",
      "['4.1 Types of Rocks', 'rocks and processes of the rock cycle']\n",
      "\n",
      "cycle_water\n",
      "['24.2 Cycles of Matter']\n",
      "\n",
      "dna\n",
      "['nucleic acid classification']\n",
      "\n",
      "earth_day_night\n",
      "['rotation of earth']\n",
      "\n",
      "earth_eclipses\n",
      "['eclipses']\n",
      "\n",
      "earth_magnetic_field\n",
      "['24.2 Earth as a Magnet']\n",
      "\n",
      "earth_moon_phases\n",
      "['24.4 The Sun and the EarthMoon System']\n",
      "\n",
      "earth_parts\n",
      "['6.1 Inside Earth']\n",
      "\n",
      "earth_poles\n",
      "['revolutions of earth']\n",
      "\n",
      "electromagnetism\n",
      "['25.2 Using Electromagnetism']\n",
      "\n",
      "em_spectrum\n",
      "['21.3 The Electromagnetic Spectrum', '23.1 Telescopes', 'electromagnetic spectrum', 'radio waves']\n",
      "\n",
      "erosion\n",
      "['10.1 Erosion and Deposition by Flowing Water', '10.2 Erosion and Deposition by Waves', '10.3 Erosion and Deposition by Wind', '10.4 Erosion and Deposition by Glaciers', '19.1 Loss of Soil', 'avoiding soil loss', 'landforms from groundwater erosion and deposition', 'rocks and processes of the rock cycle', 'soil erosion']\n",
      "\n",
      "eukaryotic_cell_cycles\n",
      "['5.1 Cell Division']\n",
      "\n",
      "evaporation_and_sublimation\n",
      "['4.3 Changes of State']\n",
      "\n",
      "faults\n",
      "['faults']\n",
      "\n",
      "food_chains_webs\n",
      "['24.1 Flow of Energy']\n",
      "\n",
      "fossils\n",
      "['11.1 Fossils']\n",
      "\n",
      "fungi_reproduction\n",
      "['9.2 Fungi']\n",
      "\n",
      "geologic_time\n",
      "['7.4 History of Life on Earth']\n",
      "\n",
      "glaciers\n",
      "['10.4 Erosion and Deposition by Glaciers', 'glaciers']\n",
      "\n",
      "greenhouse_effect\n",
      "['greenhouse effect']\n",
      "\n",
      "hair_follicles\n",
      "['nails and hair']\n",
      "\n",
      "human_system_circulatory\n",
      "['18.1 Overview of the Cardiovascular System']\n",
      "\n",
      "human_system_digestive\n",
      "['17.3 The Digestive System']\n",
      "\n",
      "human_system_ear\n",
      "['20.2 The Senses']\n",
      "\n",
      "human_system_excretory\n",
      "['19.2 The Excretory System']\n",
      "\n",
      "human_system_eye\n",
      "['22.3 Vision']\n",
      "\n",
      "human_system_immune\n",
      "['21.4 Immune System Defenses']\n",
      "\n",
      "human_system_muscular\n",
      "['16.4 The Muscular System']\n",
      "\n",
      "human_system_nervous\n",
      "['20.1 The Nervous System', 'central nervous system', 'diseases of the nervous system', 'injuries of the nervous system', 'keeping the nervous system healthy', 'nervous system', 'peripheral nervous system']\n",
      "\n",
      "human_system_reproductory\n",
      "['22.1 Male Reproductive System', '22.2 Female Reproductive System', '22.4 Reproductive System Health', 'female reproductive system', 'male reproductive system', 'reproductive system health']\n",
      "\n",
      "human_system_respiratory\n",
      "['19.1 The Respiratory System', 'respiratory system organs']\n",
      "\n",
      "hydrocarbons\n",
      "['9.2 Hydrocarbons', 'combustion reactions', 'hydrocarbons', 'saturated hydrocarbons', 'unsaturated hydrocarbons']\n",
      "\n",
      "isotopes\n",
      "['5.1 Inside the Atom']\n",
      "\n",
      "layers_of_atmosphere\n",
      "['15.3 Layers of the Atmosphere']\n",
      "\n",
      "lewis_dots\n",
      "['7.1 Introduction to Chemical Bonds']\n",
      "\n",
      "life_cycles\n",
      "['12.4 Insects and Other Arthropods']\n",
      "\n",
      "muscle_fiber\n",
      "['16.4 The Muscular System', 'muscles and exercise']\n",
      "\n",
      "nuclear_energy\n",
      "['11.3 Nuclear Energy']\n",
      "\n",
      "ocean_currents\n",
      "['14.2 Ocean Movements']\n",
      "\n",
      "ocean_waves\n",
      "['14.2 Ocean Movements', '19.1 Characteristics of Waves', 'gamma rays', 'transverse wave']\n",
      "\n",
      "ocean_zones\n",
      "['14.1 Introduction to the Oceans']\n",
      "\n",
      "optics_lense_types\n",
      "['22.2 Optics']\n",
      "\n",
      "optics_rays\n",
      "['law of reflection']\n",
      "\n",
      "optics_reflection\n",
      "['law of reflection']\n",
      "\n",
      "optics_refraction\n",
      "['22.2 Optics']\n",
      "\n",
      "ozone_formation\n",
      "['22.1 Air Pollution']\n",
      "\n",
      "parts_cell\n",
      "['3.2 Cell Structures', '4.1 Transport', 'cell transport']\n",
      "\n",
      "parts_chordate_body\n",
      "['12.5 Echinoderms and Invertebrate Chordates', 'chordates']\n",
      "\n",
      "parts_fish\n",
      "['13.2 Fish']\n",
      "\n",
      "parts_flower\n",
      "['10.2 Evolution and Classification of Plants']\n",
      "\n",
      "parts_leaf\n",
      "['10.1 Introduction to Plants']\n",
      "\n",
      "parts_microscope\n",
      "['1.4 The Microscope', 'microscopes', 'optical instruments']\n",
      "\n",
      "parts_neuron\n",
      "['20.1 The Nervous System']\n",
      "\n",
      "parts_ocean_floor\n",
      "['14.3 The Ocean Floor']\n",
      "\n",
      "parts_plant\n",
      "['10.1 Introduction to Plants', '10.2 Evolution and Classification of Plants', '10.3 Plant Responses and Special Adaptations', '14.2 Mammals', '5.2 Nonrenewable Energy Resources', '5.3 Renewable Energy Resources', '6.2 Continental Drift', '9.1 Weathering', 'chemical weathering', 'electrical grid', 'fungi classification', 'nonvascular plants', 'plant characteristics', 'reproduction in seedless plants', 'seeds and seed dispersal', 'symbiotic relationships of fungi', 'types of marine organisms', 'vascular seedless plants']\n",
      "\n",
      "parts_seed\n",
      "['10.2 Evolution and Classification of Plants']\n",
      "\n",
      "parts_skeleton\n",
      "['16.3 The Skeletal System']\n",
      "\n",
      "parts_telescope\n",
      "['22.2 Optics', 'optical instruments']\n",
      "\n",
      "parts_worm\n",
      "['12.2 Flatworms and Roundworms', 'roundworms']\n",
      "\n",
      "periodic_table\n",
      "['6.1 How Elements Are Organized']\n",
      "\n",
      "phagocytosis\n",
      "['21.3 First Two Lines of Defense']\n",
      "\n",
      "photosynthesis\n",
      "['4.2 Photosynthesis']\n",
      "\n",
      "protozoa\n",
      "['9.1 Protists']\n",
      "\n",
      "radioactive_decay\n",
      "['11.3 Absolute Ages of Rocks']\n",
      "\n",
      "rain_shadow\n",
      "['17.1 Climate and Its Causes']\n",
      "\n",
      "seafloor_spreading\n",
      "['magnetic evidence for seafloor spreading']\n",
      "\n",
      "seasons\n",
      "['seasons']\n",
      "\n",
      "seismic_waves\n",
      "['6.1 Inside Earth']\n",
      "\n",
      "simple_machines\n",
      "['16.3 Simple Machines']\n",
      "\n",
      "skin_cross_section\n",
      "['16.2 The Integumentary System']\n",
      "\n",
      "soil_horizons\n",
      "['9.2 Soils', 'processes of the water cycle']\n",
      "\n",
      "solar_system\n",
      "['25.1 Introduction to the Solar System']\n",
      "\n",
      "state_change\n",
      "['changes of state']\n",
      "\n",
      "states_of_matter\n",
      "['4.1 Solids Liquids Gases and Plasmas', 'kinetic theory of matter', 'solutions', 'states of water']\n",
      "\n",
      "stratigraphy\n",
      "['11.2 Relative Ages of Rocks']\n",
      "\n",
      "sun_layers\n",
      "['24.3 The Sun']\n",
      "\n",
      "tectonic_plates\n",
      "['6.4 Theory of Plate Tectonics']\n",
      "\n",
      "tectonic_plates_motion\n",
      "['6.4 Theory of Plate Tectonics', 'venus']\n",
      "\n",
      "tides\n",
      "['14.2 Ocean Movements']\n",
      "\n",
      "types_cells\n",
      "['cell biology']\n",
      "\n",
      "types_clouds\n",
      "['clouds']\n",
      "\n",
      "types_leaves\n",
      "['10.1 Introduction to Plants']\n",
      "\n",
      "velocity_time_graphs\n",
      "['12.3 Acceleration']\n",
      "\n",
      "volcanoes\n",
      "['8.3 Types of Volcanoes']\n",
      "\n",
      "waves\n",
      "['19.2 Measuring Waves']\n",
      "\n",
      "waves_interactions_interference\n",
      "['19.3 Wave Interactions and Interference']\n",
      "\n"
     ]
    }
   ],
   "source": [
    "len(diagram_lesson_lookup.keys())\n",
    "\n",
    "len(set(diagram_lesson_lookup.values()))\n",
    "\n",
    "for k, v in sorted(matching_lessons.items()):\n",
    "    print(k)\n",
    "    print(sorted(v))\n",
    "    print()"
   ]
  },
  {
   "cell_type": "code",
   "execution_count": 385,
   "metadata": {
    "collapsed": false,
    "hidden": true,
    "run_control": {
     "frozen": false,
     "read_only": false
    }
   },
   "outputs": [],
   "source": [
    "# pprint.pprint(dict(dupe_topics))"
   ]
  },
  {
   "cell_type": "markdown",
   "metadata": {},
   "source": [
    "## merge questions"
   ]
  },
  {
   "cell_type": "markdown",
   "metadata": {
    "heading_collapsed": true
   },
   "source": [
    "### code"
   ]
  },
  {
   "cell_type": "code",
   "execution_count": 96,
   "metadata": {
    "code_folding": [],
    "collapsed": false,
    "hidden": true,
    "run_control": {
     "frozen": false,
     "read_only": false
    }
   },
   "outputs": [],
   "source": [
    "dq_image_folder = 'diagram-question-images/'\n",
    "td_image_folder = 'diagram-teaching-images/'\n",
    "\n",
    "def make_question_entry(qdf_row):\n",
    "    ask = qdf_row[qdf_row.index == '03_write_question'].values[0]\n",
    "    answer = qdf_row[qdf_row.index == '04_write_right_answer'].values[0]\n",
    "    wrong_answers = qdf_row[qdf_row.index == 'wac_list'].values[0]\n",
    "    q_topic = qdf_row[qdf_row.index == 'lesson_assigned_to'].values[0]\n",
    "    image_uri = qdf_row[qdf_row.index == 's3_uri'].values[0]\n",
    "    image_name = qdf_row[qdf_row.index == 'diagram'].values[0]\n",
    "    \n",
    "    def make_answer_choices(answer_choices):\n",
    "        build_answer_choices = {}\n",
    "        letter_options = list('abcd')\n",
    "        random.shuffle(answer_choices)\n",
    "        for idx, answer_choice in enumerate(answer_choices):\n",
    "            answer_choice_dict = {\n",
    "                \"idStructural\": letter_options[idx] + '.',\n",
    "                \"rawText\": answer_choice,\n",
    "                \"processedText\": answer_choice\n",
    "            }\n",
    "            build_answer_choices[letter_options[idx]] = answer_choice_dict\n",
    "        return build_answer_choices\n",
    "    a_choices = make_answer_choices(wrong_answers + [answer])\n",
    "    single_q_dict = {\n",
    "        \"id\": 'q',\n",
    "        \"type\": \n",
    "            \"Diagram Multiple Choice\",\n",
    "        \"beingAsked\": {\n",
    "            \"rawText\": ask,\n",
    "            \"processedText\": ask.encode('ascii', 'ignore').decode('utf-8')\n",
    "        },\n",
    "        \"correctAnswer\": {\n",
    "            \"rawText\": answer,\n",
    "            \"processedText\": answer.encode('ascii', 'ignore').decode('utf-8')\n",
    "        },\n",
    "        \"answerChoices\": a_choices,\n",
    "        \"imageUri\": image_uri,\n",
    "        \"imageName\": image_name\n",
    "    }\n",
    "    build_questions[q_topic].append(single_q_dict)\n",
    "    \n",
    "    \n",
    "def refine_question_formats(raw_questions):\n",
    "    reformatted_dq_ds = {}\n",
    "    for topic, topic_questions in raw_questions.items():\n",
    "        reformatted_topic = {topic: {'questions': {'diagramQuestions': {}}}}\n",
    "        reformatted_questions = {}\n",
    "        for idx, question in enumerate(topic_questions):\n",
    "            question = deepcopy(question)\n",
    "            question['id'] += str(idx + 1).zfill(4)\n",
    "            reformatted_questions[question['id']] = question\n",
    "        reformatted_topic[topic]['questions']['diagramQuestions'] = reformatted_questions\n",
    "        reformatted_dq_ds.update(reformatted_topic)\n",
    "    return reformatted_dq_ds\n",
    "\n",
    "s3_base = 'https://s3.amazonaws.com/ai2-vision-textbook-dataset/diagrams/' + dq_image_folder\n",
    "s3_base_descriptions = 'https://s3.amazonaws.com/ai2-vision-textbook-dataset/diagrams/' + td_image_folder\n",
    "\n",
    "def make_image_link(old_url, s3_base=s3_base):\n",
    "    image_name = old_url.split('/')[-1]\n",
    "    new_url = s3_base + image_name\n",
    "    return new_url"
   ]
  },
  {
   "cell_type": "markdown",
   "metadata": {
    "heading_collapsed": true
   },
   "source": [
    "### run"
   ]
  },
  {
   "cell_type": "code",
   "execution_count": 184,
   "metadata": {
    "collapsed": false,
    "hidden": true,
    "run_control": {
     "frozen": false,
     "read_only": false
    }
   },
   "outputs": [],
   "source": [
    "dr_proc_df['s3_uri'] = dr_proc_df['reference_id'].apply(make_image_link)\n",
    "dr_proc_df['lesson_assigned_to'] = dr_proc_df['topic'].apply(lambda x: diagram_lesson_lookup[x])"
   ]
  },
  {
   "cell_type": "code",
   "execution_count": 185,
   "metadata": {
    "collapsed": false,
    "hidden": true,
    "run_control": {
     "frozen": false,
     "read_only": false
    },
    "scrolled": true
   },
   "outputs": [],
   "source": [
    "build_questions = defaultdict(list)\n",
    "_ = dr_proc_df.apply(make_question_entry, axis=1)"
   ]
  },
  {
   "cell_type": "code",
   "execution_count": 186,
   "metadata": {
    "collapsed": false,
    "hidden": true,
    "run_control": {
     "frozen": false,
     "read_only": false
    }
   },
   "outputs": [],
   "source": [
    "refined_questions = refine_question_formats(build_questions)"
   ]
  },
  {
   "cell_type": "code",
   "execution_count": 187,
   "metadata": {
    "collapsed": false,
    "hidden": true,
    "run_control": {
     "frozen": false,
     "read_only": false
    }
   },
   "outputs": [],
   "source": [
    "for subject, lessons in ck12_combined_dataset.items():\n",
    "    for l_name, lesson in lessons.items():\n",
    "        if l_name in refined_questions.keys():        \n",
    "            lesson['questions']['diagramQuestions'] = refined_questions[l_name]['questions']['diagramQuestions']\n",
    "        else:\n",
    "            lesson['questions']['diagramQuestions']  = {}"
   ]
  },
  {
   "cell_type": "markdown",
   "metadata": {
    "heading_collapsed": true
   },
   "source": [
    "### hide"
   ]
  },
  {
   "cell_type": "code",
   "execution_count": 391,
   "metadata": {
    "collapsed": false,
    "hidden": true,
    "run_control": {
     "frozen": false,
     "read_only": false
    }
   },
   "outputs": [
    {
     "data": {
      "text/plain": [
       "dict_keys(['diagramQuestions'])"
      ]
     },
     "execution_count": 391,
     "metadata": {},
     "output_type": "execute_result"
    }
   ],
   "source": [
    "refined_questions = dict(refine_question_formats(build_questions))\n",
    "\n",
    "refined_questions['10.4 Erosion and Deposition by Glaciers']['questions'].keys()"
   ]
  },
  {
   "cell_type": "code",
   "execution_count": 392,
   "metadata": {
    "collapsed": false,
    "hidden": true,
    "run_control": {
     "frozen": false,
     "read_only": false
    }
   },
   "outputs": [],
   "source": [
    "refined_questions['10.4 Erosion and Deposition by Glaciers']\n",
    "\n",
    "len(ck12_combined_dataset['earth-science']['10.4 Erosion and Deposition by Glaciers']['questions']['diagramQuestions'])\n",
    "\n",
    "len(ck12_combined_dataset['earth-science']['10.4 Erosion and Deposition by Glaciers']['questions']['nonDiagramQuestions'])\n",
    "\n",
    "val_counts=dr_proc_df['lesson_assigned_to'].value_counts()"
   ]
  },
  {
   "cell_type": "code",
   "execution_count": 393,
   "metadata": {
    "collapsed": false,
    "hidden": true,
    "run_control": {
     "frozen": false,
     "read_only": false
    }
   },
   "outputs": [
    {
     "data": {
      "text/plain": [
       "10.1 Introduction to Plants                     1146\n",
       "24.1 Flow of Energy                             1006\n",
       "3.2 Cell Structures                              916\n",
       "12.4 Insects and Other Arthropods                719\n",
       "17.3 The Digestive System                        569\n",
       "6.1 Inside Earth                                 405\n",
       "20.1 The Nervous System                          337\n",
       "seasons                                          306\n",
       "19.1 The Respiratory System                      291\n",
       "10.2 Evolution and Classification of Plants      281\n",
       "24.4 The Sun and the EarthMoon System            278\n",
       "22.3 Vision                                      267\n",
       "8.3 Types of Volcanoes                           213\n",
       "25.1 Introduction to the Solar System            197\n",
       "11.3 Nuclear Energy                              192\n",
       "18.1 Overview of the Cardiovascular System       181\n",
       "4.2 Photosynthesis                               177\n",
       "14.2 Ocean Movements                             172\n",
       "22.1 Male Reproductive System                    165\n",
       "5.1 Inside the Atom                              164\n",
       "23.3 Electric Circuits                           163\n",
       "16.4 The Muscular System                         147\n",
       "9.1 Protists                                     145\n",
       "1.4 The Microscope                               136\n",
       "22.2 Optics                                      128\n",
       "24.2 Cycles of Matter                            120\n",
       "6.4 Theory of Plate Tectonics                    120\n",
       "5.1 Cell Division                                117\n",
       "19.2 The Excretory System                        111\n",
       "eclipses                                         111\n",
       "                                                ... \n",
       "17.1 Climate and Its Causes                       59\n",
       "revolutions of earth                              55\n",
       "14.1 Introduction to the Oceans                   54\n",
       "21.3 First Two Lines of Defense                   53\n",
       "15.3 Layers of the Atmosphere                     53\n",
       "22.3 Reproduction and Life Stages                 53\n",
       "7.4 History of Life on Earth                      50\n",
       "cell biology                                      49\n",
       "12.3 Acceleration                                 45\n",
       "7.3 Covalent Bonds                                45\n",
       "rotation of earth                                 44\n",
       "9.2 Hydrocarbons                                  44\n",
       "24.2 Earth as a Magnet                            43\n",
       "9.4 Biochemical Reactions                         41\n",
       "7.1 Introduction to Chemical Bonds                39\n",
       "10.1 Erosion and Deposition by Flowing Water      38\n",
       "9.2 Fungi                                         37\n",
       "21.3 The Electromagnetic Spectrum                 35\n",
       "14.3 The Ocean Floor                              35\n",
       "25.2 Using Electromagnetism                       34\n",
       "greenhouse effect                                 34\n",
       "18.2 Transfer of Thermal Energy                   33\n",
       "10.4 Erosion and Deposition by Glaciers           33\n",
       "11.1 Fossils                                      28\n",
       "19.3 Wave Interactions and Interference           26\n",
       "22.2 Effects of Air Pollution                     25\n",
       "magnetic evidence for seafloor spreading          25\n",
       "11.2 Relative Ages of Rocks                       24\n",
       "7.2 Ionic Bonds                                   21\n",
       "22.1 Air Pollution                                19\n",
       "Name: lesson_assigned_to, dtype: int64"
      ]
     },
     "execution_count": 393,
     "metadata": {},
     "output_type": "execute_result"
    }
   ],
   "source": [
    "val_counts"
   ]
  },
  {
   "cell_type": "markdown",
   "metadata": {},
   "source": [
    "## merge descriptions"
   ]
  },
  {
   "cell_type": "code",
   "execution_count": 97,
   "metadata": {
    "collapsed": false,
    "run_control": {
     "frozen": false,
     "read_only": false
    }
   },
   "outputs": [],
   "source": [
    "def make_description_entry(qdf_row):\n",
    "    description = qdf_row[qdf_row.index == 'Description'].values[0]\n",
    "    q_topic = qdf_row[qdf_row.index == 'lesson_assigned_to'].values[0]\n",
    "    image_uri = qdf_row[qdf_row.index == 's3_uri'].values[0]\n",
    "    image_name = qdf_row[qdf_row.index == 'diagram'].values[0]\n",
    "    image_key = image_name.replace('.png', '')\n",
    "    single_desc_dict = {\n",
    "        \"imageUri\": image_uri,\n",
    "        \"imageName\": image_name,\n",
    "        \"rawText\": description,\n",
    "        \"processedText\": description.encode('ascii', 'ignore').decode('utf-8')\n",
    "        }\n",
    "    if image_key not in build_descriptions[q_topic].keys():\n",
    "        build_descriptions[q_topic].update({image_key: single_desc_dict})\n",
    "    # I've found the longest description is usually best\n",
    "    elif len(single_desc_dict['processedText']) > len(build_descriptions[q_topic][image_key]['processedText']):\n",
    "        build_descriptions[q_topic].update({image_key: single_desc_dict})"
   ]
  },
  {
   "cell_type": "code",
   "execution_count": 98,
   "metadata": {
    "collapsed": false,
    "run_control": {
     "frozen": false,
     "read_only": false
    },
    "scrolled": true
   },
   "outputs": [],
   "source": [
    "%%capture\n",
    "ai2_written_df_completed['lesson_assigned_to'] = ai2_written_df_completed['topic'].apply(lambda x: diagram_lesson_lookup[x])\n",
    "ai2_written_df_completed['s3_uri'] = ai2_written_df_completed['Image Path'].apply(make_image_link)\n",
    "ai2_written_df_completed = ai2_written_df_completed.dropna()\n",
    "\n",
    "desc_df['topic'] = desc_df['diagram'].apply(lambda x: x.rsplit('_', maxsplit=1)[0])\n",
    "desc_df['lesson_assigned_to'] = desc_df['topic'].apply(lambda x: diagram_lesson_lookup[x])\n",
    "desc_df['s3_uri'] = desc_df['reference_id'].apply(make_image_link)\n",
    "desc_df['Description'] = desc_df['01_write_description']             "
   ]
  },
  {
   "cell_type": "code",
   "execution_count": 99,
   "metadata": {
    "collapsed": false,
    "run_control": {
     "frozen": false,
     "read_only": false
    }
   },
   "outputs": [],
   "source": [
    "build_descriptions = defaultdict(dict)\n",
    "_ = desc_df.apply(make_description_entry, axis=1)\n",
    "_ = ai2_written_df_completed.apply(make_description_entry, axis=1)"
   ]
  },
  {
   "cell_type": "code",
   "execution_count": 102,
   "metadata": {
    "collapsed": false
   },
   "outputs": [
    {
     "data": {
      "text/plain": [
       "84"
      ]
     },
     "execution_count": 102,
     "metadata": {},
     "output_type": "execute_result"
    }
   ],
   "source": [
    "len(build_descriptions.keys())"
   ]
  },
  {
   "cell_type": "code",
   "execution_count": null,
   "metadata": {
    "collapsed": true
   },
   "outputs": [],
   "source": []
  },
  {
   "cell_type": "code",
   "execution_count": 130,
   "metadata": {
    "collapsed": false
   },
   "outputs": [],
   "source": [
    "dimages = []\n",
    "for vals in build_descriptions.values():\n",
    "    for img in vals.values():\n",
    "        dimages.append(img['imageName'])"
   ]
  },
  {
   "cell_type": "code",
   "execution_count": 133,
   "metadata": {
    "collapsed": false,
    "scrolled": false
   },
   "outputs": [
    {
     "data": {
      "text/plain": [
       "276"
      ]
     },
     "execution_count": 133,
     "metadata": {},
     "output_type": "execute_result"
    }
   ],
   "source": [
    "len(set(dimages))"
   ]
  },
  {
   "cell_type": "code",
   "execution_count": 114,
   "metadata": {
    "collapsed": false
   },
   "outputs": [
    {
     "data": {
      "text/plain": [
       "276"
      ]
     },
     "execution_count": 114,
     "metadata": {},
     "output_type": "execute_result"
    }
   ],
   "source": [
    "len(dimages)"
   ]
  },
  {
   "cell_type": "code",
   "execution_count": 311,
   "metadata": {
    "collapsed": false
   },
   "outputs": [],
   "source": [
    "desc_corpus = ''\n",
    "for lesson, descriptions in build_descriptions.items():\n",
    "    for dd in descriptions.values():\n",
    "        desc_corpus += ' ' + dd['processedText']"
   ]
  },
  {
   "cell_type": "code",
   "execution_count": 316,
   "metadata": {
    "collapsed": false
   },
   "outputs": [
    {
     "data": {
      "text/plain": [
       "True"
      ]
     },
     "execution_count": 316,
     "metadata": {},
     "output_type": "execute_result"
    }
   ],
   "source": [
    "'the' in cached_sw"
   ]
  },
  {
   "cell_type": "code",
   "execution_count": 335,
   "metadata": {
    "collapsed": false
   },
   "outputs": [],
   "source": [
    "d_corp = [lmtizer.lemmatize(word.lower()) for word in desc_corpus.split() if len(word) > 2 and word.lower() not in cached_sw]"
   ]
  },
  {
   "cell_type": "code",
   "execution_count": 336,
   "metadata": {
    "collapsed": true
   },
   "outputs": [],
   "source": [
    "tb_freq_d = nltk.FreqDist(d_corp)\n",
    "most_common_fb_words = tb_freq_d.most_common()"
   ]
  },
  {
   "cell_type": "code",
   "execution_count": 191,
   "metadata": {
    "collapsed": true,
    "run_control": {
     "frozen": false,
     "read_only": false
    }
   },
   "outputs": [],
   "source": [
    "# this adds the descriptions to the combined dataset\n",
    "for subject, lessons in ck12_combined_dataset.items():\n",
    "    for l_name, lesson in lessons.items():\n",
    "        if l_name in build_descriptions.keys():\n",
    "            lesson['instructionalDiagrams'] = build_descriptions[l_name]\n",
    "        else:\n",
    "            lesson['instructionalDiagrams'] = {}"
   ]
  },
  {
   "cell_type": "markdown",
   "metadata": {
    "heading_collapsed": true
   },
   "source": [
    "### hide"
   ]
  },
  {
   "cell_type": "code",
   "execution_count": 398,
   "metadata": {
    "collapsed": false,
    "hidden": true,
    "run_control": {
     "frozen": false,
     "read_only": false
    }
   },
   "outputs": [
    {
     "data": {
      "text/plain": [
       "(85,)"
      ]
     },
     "execution_count": 398,
     "metadata": {},
     "output_type": "execute_result"
    }
   ],
   "source": [
    "pd.unique(desc_df['lesson_assigned_to']).shape"
   ]
  },
  {
   "cell_type": "code",
   "execution_count": 399,
   "metadata": {
    "collapsed": false,
    "hidden": true,
    "run_control": {
     "frozen": false,
     "read_only": false
    }
   },
   "outputs": [
    {
     "data": {
      "text/plain": [
       "dict_keys(['12.4 Insects and Other Arthropods', '14.3 The Ocean Floor', '16.3 Simple Machines', 'cell biology', '10.2 Evolution and Classification of Plants', '9.2 Hydrocarbons', '18.1 Overview of the Cardiovascular System', '15.3 Layers of the Atmosphere', 'climate zones and biomes', '19.2 The Excretory System', '5.1 Cell Division', '10.1 Introduction to Plants', 'faults', 'eclipses', '24.3 The Sun', '4.2 Photosynthesis', '25.2 Using Electromagnetism', '22.2 Optics', 'revolutions of earth', '7.4 History of Life on Earth', 'changes of state', '1.4 The Microscope', '24.2 Earth as a Magnet', 'nucleic acid classification', '18.2 Cycles of Matter', '20.2 The Senses', '12.2 Flatworms and Roundworms', 'rotation of earth', '17.3 The Digestive System', '7.3 Covalent Bonds', 'law of reflection', '13.3 Groundwater', '18.2 Transfer of Thermal Energy', '4.3 Changes of State', 'clouds', '12.5 Echinoderms and Invertebrate Chordates', '13.2 Fish', '21.3 First Two Lines of Defense', '9.2 Soils', '6.4 Theory of Plate Tectonics', '6.1 How Elements Are Organized', '11.3 Absolute Ages of Rocks', '9.4 Biochemical Reactions', '22.3 Vision', '3.2 Cell Structures', 'greenhouse effect', '21.3 The Electromagnetic Spectrum', '16.2 The Integumentary System', '11.2 Relative Ages of Rocks', '7.2 Ionic Bonds', '24.1 Flow of Energy', '19.3 Wave Interactions and Interference', '24.2 Cycles of Matter', '11.3 Nuclear Energy', '9.2 Fungi', 'seasons', '14.2 Ocean Movements', '23.3 Electric Circuits', '12.3 Acceleration', '25.1 Introduction to the Solar System', '7.1 Introduction to Chemical Bonds', '6.2 Continental Drift', '22.3 Reproduction and Life Stages', '17.1 Climate and Its Causes', '8.3 Types of Volcanoes', '20.1 The Nervous System', '16.3 The Skeletal System', '21.4 Immune System Defenses', '4.1 Types of Rocks', '4.1 Solids Liquids Gases and Plasmas', 'nails and hair', '19.2 Measuring Waves', '14.1 Introduction to the Oceans', '22.1 Male Reproductive System', '6.1 Inside Earth', '9.1 Protists', 'magnetic evidence for seafloor spreading', '10.4 Erosion and Deposition by Glaciers', '19.1 The Respiratory System', '16.4 The Muscular System', '22.2 Effects of Air Pollution', '5.1 Inside the Atom', '10.1 Erosion and Deposition by Flowing Water', '11.1 Fossils', '24.4 The Sun and the EarthMoon System', '22.1 Air Pollution'])"
      ]
     },
     "execution_count": 399,
     "metadata": {},
     "output_type": "execute_result"
    }
   ],
   "source": [
    "build_descriptions.keys()"
   ]
  },
  {
   "cell_type": "code",
   "execution_count": 400,
   "metadata": {
    "collapsed": false,
    "hidden": true,
    "run_control": {
     "frozen": false,
     "read_only": false
    }
   },
   "outputs": [],
   "source": [
    "# with open(output_dir + 'ck12_dataset_beta_v4.json', 'w') as f:\n",
    "#     json.dump(ck12_combined_dataset, f, indent=4, sort_keys=True)"
   ]
  },
  {
   "cell_type": "code",
   "execution_count": 401,
   "metadata": {
    "collapsed": true,
    "hidden": true,
    "run_control": {
     "frozen": false,
     "read_only": false
    }
   },
   "outputs": [],
   "source": [
    "# with open(output_dir + 'ck12_dataset_beta_v4.json', 'r') as f:\n",
    "#     ck12_combined_dataset = json.load(f)"
   ]
  },
  {
   "cell_type": "markdown",
   "metadata": {
    "collapsed": true,
    "run_control": {
     "frozen": false,
     "read_only": false
    }
   },
   "source": [
    "## Test spelling and grammar fixes"
   ]
  },
  {
   "cell_type": "markdown",
   "metadata": {},
   "source": [
    "### code"
   ]
  },
  {
   "cell_type": "code",
   "execution_count": 50,
   "metadata": {
    "collapsed": false,
    "run_control": {
     "frozen": false,
     "read_only": false
    }
   },
   "outputs": [],
   "source": [
    "def check_mispelled(word):\n",
    "    return word and word.isalpha() and not (edict.check(word) or anglo_edict.check(word) or edict.check(word[0].upper() + word[1:]))\n",
    "\n",
    "def correct_spelling_error(misspelled_word, suggested_spellings):\n",
    "    highest_ratio = 0\n",
    "    closest_match = None\n",
    "    for word in suggested_spellings:\n",
    "        match_r = fuzz.ratio(misspelled_word, word)\n",
    "        if match_r >= highest_ratio and (word[0] == misspelled_word[0] or not check_mispelled(word[0] + misspelled_word)) and len(misspelled_word) <= len(word):\n",
    "            highest_ratio = match_r\n",
    "            closest_match = word\n",
    "            break\n",
    "#     spell_changes[misspelled_word] = closest_match\n",
    "    return closest_match\n",
    "\n",
    "def apply_spelling_fix(orig_text):\n",
    "    orig_text_tokens = orig_text.split()\n",
    "    processed_tokens = []\n",
    "    for token in orig_text_tokens:\n",
    "        norm_token = token.lower()\n",
    "        if len(norm_token) < 4:\n",
    "            processed_tokens.append(token)\n",
    "            continue\n",
    "        if check_mispelled(norm_token):\n",
    "            suggested_replacements = edict.suggest(token)\n",
    "            replacement_text = correct_spelling_error(norm_token, suggested_replacements)\n",
    "            if replacement_text:\n",
    "                if norm_token[0].isupper():\n",
    "                    replacement_text = upper(replacement_text[0]) + replaced_text[1:]\n",
    "                processed_tokens.append(replacement_text)\n",
    "            else:\n",
    "                processed_tokens.append(token)\n",
    "        else:\n",
    "            processed_tokens.append(token)\n",
    "    return ' '.join(processed_tokens)\n",
    "\n",
    "def diff_corrected_text(orig_text, corrected_text):\n",
    "    diff = dmp.diff_main(orig_text, corrected_text)\n",
    "    return HTML(dmp.diff_prettyHtml(diff))\n",
    "\n",
    "def specify_lesson_q_path(lesson):\n",
    "    pass\n"
   ]
  },
  {
   "cell_type": "markdown",
   "metadata": {
    "heading_collapsed": true
   },
   "source": [
    "### run"
   ]
  },
  {
   "cell_type": "code",
   "execution_count": 61,
   "metadata": {
    "collapsed": true,
    "hidden": true,
    "run_control": {
     "frozen": false,
     "read_only": false
    }
   },
   "outputs": [],
   "source": [
    "dmp = diff_match_patch.diff_match_patch()"
   ]
  },
  {
   "cell_type": "code",
   "execution_count": 62,
   "metadata": {
    "collapsed": true,
    "hidden": true,
    "run_control": {
     "frozen": false,
     "read_only": false
    }
   },
   "outputs": [],
   "source": [
    "ck12_spell_gramm_fix_test = deepcopy(ck12_combined_dataset)"
   ]
  },
  {
   "cell_type": "code",
   "execution_count": 42,
   "metadata": {
    "collapsed": true,
    "hidden": true,
    "run_control": {
     "frozen": false,
     "read_only": false
    }
   },
   "outputs": [],
   "source": [
    "gram_checker = language_check.LanguageTool('en-US')\n",
    "gram_checker.disabled = set(['SENT_START_CONJUNCTIVE_LINKING_ADVERB_COMMA', 'POSSESSIVE_APOSTROPHE', 'A_PLURAL'])\n",
    "gram_checker.disable_spellchecking()\n",
    "\n",
    "punc_set_space = set([',', ':', ';', '/\"'])\n",
    "punc_set_nospace = set(['-', '\\'', '-', '?', '.', '!'])\n",
    "question_enders = set(['.', '?', ':'])"
   ]
  },
  {
   "cell_type": "code",
   "execution_count": 406,
   "metadata": {
    "code_folding": [],
    "collapsed": false,
    "hidden": true,
    "run_control": {
     "frozen": false,
     "read_only": false
    }
   },
   "outputs": [],
   "source": [
    "#check descriptions\n",
    "spell_changes = {}\n",
    "unaltered_text = []\n",
    "replaced_text = []\n",
    "for lesson in list(ck12_spell_gramm_fix_test['life-science'].values()):\n",
    "    if lesson['instructionalDiagrams']:\n",
    "        for diagram, description in lesson['instructionalDiagrams'].items():\n",
    "            orig_text = description['processedText']\n",
    "            spell_fixed_text = apply_spelling_fix(orig_text)\n",
    "            for punc_char in punc_set_nospace:\n",
    "                spell_fixed_text = spell_fixed_text.replace(' ' + punc_char + ' ' , punc_char)\n",
    "            for punc_char in punc_set_space:\n",
    "                spell_fixed_text = spell_fixed_text.replace(' ' + punc_char + ' ' , punc_char + ' ')\n",
    "            gram_fixed = gram_checker.correct(spell_fixed_text)\n",
    "            if gram_fixed != orig_text:\n",
    "                unaltered_text.append(orig_text)\n",
    "                replaced_text.append(gram_fixed)"
   ]
  },
  {
   "cell_type": "code",
   "execution_count": 64,
   "metadata": {
    "code_folding": [],
    "collapsed": false,
    "hidden": true,
    "run_control": {
     "frozen": false,
     "read_only": false
    },
    "scrolled": true
   },
   "outputs": [],
   "source": [
    "spell_changes = {}\n",
    "unaltered_text = []\n",
    "replaced_text = []\n",
    "for lesson in list(ck12_spell_gramm_fix_test['life-science'].values()):\n",
    "    if lesson['questions']['nonDiagramQuestions']:\n",
    "        for diagram, description in lesson['questions']['diagramQuestions'].items():\n",
    "            orig_text = description['beingAsked']['processedText']\n",
    "            spell_fixed_text = apply_spelling_fix(orig_text)\n",
    "            gram_fixed = gram_checker.correct(spell_fixed_text)\n",
    "            for punc_char in punc_set_nospace:\n",
    "                gram_fixed = gram_fixed.replace(' ' + punc_char + ' ' , punc_char)\n",
    "                gram_fixed = gram_fixed.replace(' ' + punc_char, punc_char)\n",
    "            for punc_char in punc_set_space:\n",
    "                gram_fixed = gram_fixed.replace(' ' + punc_char + ' ' , punc_char + ' ')\n",
    "            if gram_fixed[-1] not in question_enders:\n",
    "                if gram_fixed.split()[0] in ['Identify', 'Name'] or '__' in gram_fixed:\n",
    "                    gram_fixed += '.'\n",
    "                else:\n",
    "                    gram_fixed += '?'\n",
    "            if gram_fixed != orig_text:\n",
    "                unaltered_text.append(orig_text)\n",
    "                replaced_text.append(gram_fixed)"
   ]
  },
  {
   "cell_type": "code",
   "execution_count": 65,
   "metadata": {
    "collapsed": false,
    "hidden": true,
    "run_control": {
     "frozen": false,
     "read_only": false
    }
   },
   "outputs": [
    {
     "name": "stdout",
     "output_type": "stream",
     "text": [
      "21\n",
      "1207\n"
     ]
    }
   ],
   "source": [
    "comp_text = list(zip(unaltered_text, replaced_text))\n",
    "\n",
    "print(len(spell_changes))\n",
    "print(len(comp_text))\n",
    "# spell_changes"
   ]
  },
  {
   "cell_type": "code",
   "execution_count": 66,
   "metadata": {
    "collapsed": false,
    "hidden": true,
    "run_control": {
     "frozen": false,
     "read_only": false
    }
   },
   "outputs": [
    {
     "name": "stdout",
     "output_type": "stream",
     "text": [
      "where is the thymus?\n",
      "\n",
      "Where is the thymus?\n"
     ]
    },
    {
     "data": {
      "text/html": [
       "<del style=\"background:#ffe6e6;\">w</del><ins style=\"background:#e6ffe6;\">W</ins><span>here is the thymus?</span>"
      ],
      "text/plain": [
       "<IPython.core.display.HTML object>"
      ]
     },
     "execution_count": 66,
     "metadata": {},
     "output_type": "execute_result"
    }
   ],
   "source": [
    "rand_idx = np.random.randint(len(comp_text))\n",
    "print(unaltered_text[rand_idx])\n",
    "print()\n",
    "print(replaced_text[rand_idx])\n",
    "diff_corrected_text(*comp_text[rand_idx])"
   ]
  },
  {
   "cell_type": "markdown",
   "metadata": {
    "heading_collapsed": true
   },
   "source": [
    "### hide"
   ]
  },
  {
   "cell_type": "code",
   "execution_count": 410,
   "metadata": {
    "collapsed": true,
    "hidden": true,
    "run_control": {
     "frozen": false,
     "read_only": false
    }
   },
   "outputs": [],
   "source": [
    "# with open(output_dir + 'ck12_dataset_beta_v4.json', 'r') as f:\n",
    "#     ck12_combined_dataset = json.load(f)"
   ]
  },
  {
   "cell_type": "markdown",
   "metadata": {},
   "source": [
    "# Topic key collisions"
   ]
  },
  {
   "cell_type": "markdown",
   "metadata": {
    "heading_collapsed": true
   },
   "source": [
    "### old nested structure"
   ]
  },
  {
   "cell_type": "code",
   "execution_count": 411,
   "metadata": {
    "collapsed": false,
    "hidden": true,
    "run_control": {
     "frozen": false,
     "read_only": false
    }
   },
   "outputs": [
    {
     "data": {
      "text/plain": [
       "dict_keys(['earth-science', 'physical-science', 'life-science'])"
      ]
     },
     "execution_count": 411,
     "metadata": {},
     "output_type": "execute_result"
    }
   ],
   "source": [
    "flexbook_ds.keys()"
   ]
  },
  {
   "cell_type": "code",
   "execution_count": 412,
   "metadata": {
    "collapsed": false,
    "hidden": true,
    "run_control": {
     "frozen": false,
     "read_only": false
    }
   },
   "outputs": [],
   "source": [
    "build_website_lessons = [list(lesson.keys()) for lesson in lessons_ds.values()]\n",
    "website_lessons= sorted([item for sublist in build_website_lessons for item in sublist])\n",
    "\n",
    "build_flexbook_lessons = [list(lesson.keys()) for lesson in flexbook_ds.values()]\n",
    "flexbook_lessons= [item for sublist in build_flexbook_lessons for item in sublist]\n",
    "flexbook_lessons = sorted([lesson.split(maxsplit=1)[1].strip().lower() for lesson in flexbook_lessons])\n",
    "fbls = set(flexbook_lessons)\n",
    "wsls = set(website_lessons)"
   ]
  },
  {
   "cell_type": "code",
   "execution_count": 413,
   "metadata": {
    "collapsed": false,
    "hidden": true
   },
   "outputs": [],
   "source": [
    "n_dd_lessons = len(fbls.union(wsls))"
   ]
  },
  {
   "cell_type": "code",
   "execution_count": 414,
   "metadata": {
    "collapsed": false,
    "hidden": true
   },
   "outputs": [],
   "source": [
    "n_all_lessons = len(website_lessons + flexbook_lessons)"
   ]
  },
  {
   "cell_type": "code",
   "execution_count": 415,
   "metadata": {
    "collapsed": false,
    "hidden": true
   },
   "outputs": [
    {
     "data": {
      "text/plain": [
       "52"
      ]
     },
     "execution_count": 415,
     "metadata": {},
     "output_type": "execute_result"
    }
   ],
   "source": [
    "n_all_lessons - n_dd_lessons"
   ]
  },
  {
   "cell_type": "code",
   "execution_count": 416,
   "metadata": {
    "collapsed": false,
    "hidden": true,
    "run_control": {
     "frozen": false,
     "read_only": false
    }
   },
   "outputs": [
    {
     "data": {
      "text/plain": [
       "247"
      ]
     },
     "execution_count": 416,
     "metadata": {},
     "output_type": "execute_result"
    }
   ],
   "source": [
    "len(flexbook_lessons)"
   ]
  },
  {
   "cell_type": "code",
   "execution_count": 417,
   "metadata": {
    "collapsed": false,
    "hidden": true,
    "run_control": {
     "frozen": false,
     "read_only": false
    }
   },
   "outputs": [
    {
     "name": "stdout",
     "output_type": "stream",
     "text": [
      "247\n",
      "243\n"
     ]
    }
   ],
   "source": [
    "print(len(flexbook_lessons))\n",
    "print(len(set(flexbook_lessons)))"
   ]
  },
  {
   "cell_type": "code",
   "execution_count": 418,
   "metadata": {
    "collapsed": false,
    "hidden": true,
    "scrolled": true
   },
   "outputs": [],
   "source": [
    "# pd.Series(flexbook_lessons).value_counts()"
   ]
  },
  {
   "cell_type": "code",
   "execution_count": 419,
   "metadata": {
    "collapsed": false,
    "hidden": true
   },
   "outputs": [],
   "source": [
    "combined_lesson_series = pd.Series(flexbook_lessons + website_lessons)\n",
    "lessons_with_name_dupes = combined_lesson_series.value_counts()[combined_lesson_series.value_counts() > 1].index.tolist()"
   ]
  },
  {
   "cell_type": "code",
   "execution_count": 420,
   "metadata": {
    "collapsed": false,
    "hidden": true,
    "scrolled": true
   },
   "outputs": [],
   "source": [
    "# lessons_with_name_dupes"
   ]
  },
  {
   "cell_type": "code",
   "execution_count": 421,
   "metadata": {
    "collapsed": false,
    "hidden": true,
    "run_control": {
     "frozen": false,
     "read_only": false
    }
   },
   "outputs": [
    {
     "name": "stdout",
     "output_type": "stream",
     "text": [
      "829\n",
      "829\n"
     ]
    }
   ],
   "source": [
    "print(len(website_lessons))\n",
    "print(len(set(website_lessons)))"
   ]
  },
  {
   "cell_type": "code",
   "execution_count": 424,
   "metadata": {
    "collapsed": false,
    "hidden": true,
    "run_control": {
     "frozen": false,
     "read_only": false
    }
   },
   "outputs": [
    {
     "data": {
      "text/plain": [
       "1024"
      ]
     },
     "execution_count": 424,
     "metadata": {},
     "output_type": "execute_result"
    }
   ],
   "source": [
    "len(set(website_lessons).union(set(flexbook_lessons)))"
   ]
  },
  {
   "cell_type": "code",
   "execution_count": null,
   "metadata": {
    "collapsed": false,
    "hidden": true
   },
   "outputs": [],
   "source": [
    "build_website_topics = [list(lesson.keys()) for lesson in lessons_ds.values()]\n",
    "website_topics= sorted([item for sublist in build_website_lessons for item in sublist])\n",
    "\n",
    "# build_flexbook_topics = [list(lesson.keys()) for lesson in flexbook_ds.values()]\n",
    "# flexbook_topics= [item for sublist in build_flexbook_lessons for item in sublist]\n",
    "# flexbook_lessons = sorted([lesson.split(maxsplit=1)[1].strip().lower() for lesson in flexbook_lessons])\n",
    "# fbls = set(flexbook_lessons)\n",
    "# wsls = set(website_lessons)"
   ]
  },
  {
   "cell_type": "markdown",
   "metadata": {},
   "source": [
    "### with new flat dataset"
   ]
  },
  {
   "cell_type": "markdown",
   "metadata": {
    "heading_collapsed": true
   },
   "source": [
    "### hide"
   ]
  },
  {
   "cell_type": "code",
   "execution_count": null,
   "metadata": {
    "collapsed": false,
    "hidden": true,
    "scrolled": true
   },
   "outputs": [],
   "source": [
    "topic_list = []\n",
    "for lesson in complete_flat_ds:\n",
    "#     for t_id, topic in lesson['topics'].items():\n",
    "    topic_list.append(lesson['lessonName'].lower())\n",
    "\n",
    "topic_tokens = {idx: [word for word in val.split() if word not in cached_sw] for idx, val in enumerate(topic_list)}\n",
    "\n",
    "token_to_topic_index = defaultdict(list)\n",
    "for k, vals in topic_tokens.items():\n",
    "    for v in vals:\n",
    "        token_to_topic_index[v].append(k)"
   ]
  },
  {
   "cell_type": "code",
   "execution_count": null,
   "metadata": {
    "collapsed": false,
    "hidden": true,
    "scrolled": false
   },
   "outputs": [],
   "source": [
    "collision_dict = {token: topic_idxs for token, topic_idxs in token_to_topic_index.items() if len(topic_idxs) < 50 and len(topic_idxs) > 10}\n",
    "build_topics_collision_idxs = collision_dict.values()\n",
    "topics_collision_idxs = [item for sublist in build_topics_collision_idxs for item in sublist]\n",
    "topics_w_collisions_set = set(topics_collision_idxs)"
   ]
  },
  {
   "cell_type": "code",
   "execution_count": null,
   "metadata": {
    "collapsed": true,
    "hidden": true
   },
   "outputs": [],
   "source": [
    "for k, v in collision_dict.items():\n",
    "    for topic_idx in v:\n",
    "        print(topic_list[topic_idx])\n",
    "    print()"
   ]
  },
  {
   "cell_type": "code",
   "execution_count": null,
   "metadata": {
    "collapsed": true,
    "hidden": true
   },
   "outputs": [],
   "source": []
  },
  {
   "cell_type": "code",
   "execution_count": null,
   "metadata": {
    "collapsed": false,
    "hidden": true
   },
   "outputs": [],
   "source": [
    "lmtizer.stem('plants')"
   ]
  },
  {
   "cell_type": "markdown",
   "metadata": {
    "heading_collapsed": true
   },
   "source": [
    "### code"
   ]
  },
  {
   "cell_type": "code",
   "execution_count": 218,
   "metadata": {
    "collapsed": false,
    "hidden": true
   },
   "outputs": [],
   "source": [
    "lesson_names = [lesson['lessonName'].lower() for lesson in complete_flat_ds]\n",
    "lesson_idx_lookup = {v: k for k, v in enumerate(lesson_names)}"
   ]
  },
  {
   "cell_type": "code",
   "execution_count": 219,
   "metadata": {
    "collapsed": false,
    "hidden": true
   },
   "outputs": [],
   "source": [
    "lmtizer = WordNetLemmatizer()"
   ]
  },
  {
   "cell_type": "code",
   "execution_count": 220,
   "metadata": {
    "collapsed": false,
    "hidden": true
   },
   "outputs": [],
   "source": [
    "ignore_tokens = ['introduction', 'form', 'component', 'destruction', 'destruction']\n",
    "cached_sw = stopwords.words(\"english\") + list(string.punctuation)\n",
    "def find_meta_lessons(complete_ds):\n",
    "    meta_lesson_id = 0\n",
    "    meta_lesson_prefix = 'MT_'\n",
    "\n",
    "    lesson_names = [lesson['lessonName'].lower() for lesson in complete_ds]\n",
    "    lesson_tokens = {idx: filter_tokens(val) for idx, val in enumerate(lesson_names)}\n",
    "    token_to_lesson_index = defaultdict(list)\n",
    "    \n",
    "    for k, vals in lesson_tokens.items():\n",
    "        for v in vals:\n",
    "            token_to_lesson_index[v].append(k)\n",
    "            \n",
    "    collision_dict = {token: topic_idxs for token, topic_idxs in token_to_lesson_index.items() if len(topic_idxs) < 20 and len(topic_idxs) > 1}\n",
    "    return collision_dict\n",
    "\n",
    "def pick_rarest_metalesson(metalessons):\n",
    "    return sorted({k: meta_topic_sizes[k] for k in metalessons}.items(), key=lambda x: x[1])[0][0]\n",
    "\n",
    "def filter_pos(token_list):\n",
    "    tagged_tokens = nltk.pos_tag(token_list)\n",
    "    filtered_tokes = [toke[0] for toke in tagged_tokens if toke[1] in ['NN', 'RB', 'NNS', 'JJ']]\n",
    "    if filtered_tokes:\n",
    "        return filtered_tokes\n",
    "    else:\n",
    "        return ['aaa_none']\n",
    "\n",
    "def filter_tokens(tokens):\n",
    "    return filter_pos([lmtizer.lemmatize(toke) for toke in tokens.split() if toke not in cached_sw])"
   ]
  },
  {
   "cell_type": "code",
   "execution_count": 221,
   "metadata": {
    "collapsed": false,
    "hidden": true
   },
   "outputs": [],
   "source": [
    "col_dict = find_meta_lessons(complete_flat_ds)\n",
    "\n",
    "meta_topic_sizes = {v[0]: len(v[1])for v in sorted(col_dict.items(), key=lambda x: len(x[1]), reverse=True)}\n",
    "\n",
    "token_to_lesson_index = defaultdict(list)\n",
    "for k, vals in col_dict.items():\n",
    "    for v in vals:\n",
    "        token_to_lesson_index[v].append(k)"
   ]
  },
  {
   "cell_type": "code",
   "execution_count": 222,
   "metadata": {
    "collapsed": false,
    "hidden": true
   },
   "outputs": [],
   "source": [
    "meta_lesson_assignments = {}\n",
    "for lesson in lesson_names:\n",
    "    associated_metalessons = token_to_lesson_index[lesson_idx_lookup[lesson]]\n",
    "    if associated_metalessons:\n",
    "        meta_lesson_assignments[lesson] = pick_rarest_metalesson(associated_metalessons)\n",
    "    else:\n",
    "        meta_lesson_assignments[lesson] = ' '.join(filter_tokens(lesson))\n",
    "\n",
    "meta_lesson_string_ids = set(meta_lesson_assignments.values())\n",
    "meta_lesson_id_lookup =  {val: idx for idx, val in enumerate(meta_lesson_string_ids)}\n",
    "meta_lesson_id_assignments = {k: meta_lesson_id_lookup[v] for k, v in meta_lesson_assignments.items()}"
   ]
  },
  {
   "cell_type": "code",
   "execution_count": 223,
   "metadata": {
    "collapsed": false,
    "hidden": true
   },
   "outputs": [],
   "source": [
    "# print(len(token_to_lesson_index.keys()))\n",
    "\n",
    "# match_seq = pd.Series([len(tokens) for tokens in token_to_lesson_index.values()])\n",
    "# match_seq.value_counts()"
   ]
  },
  {
   "cell_type": "code",
   "execution_count": null,
   "metadata": {
    "collapsed": true,
    "hidden": true
   },
   "outputs": [],
   "source": []
  },
  {
   "cell_type": "code",
   "execution_count": 224,
   "metadata": {
    "collapsed": true,
    "hidden": true
   },
   "outputs": [],
   "source": [
    "linked_lessons = defaultdict(list)\n",
    "for k, v in meta_lesson_assignments.items():\n",
    "    linked_lessons[v].append(k)\n",
    "linked_lessons = dict(linked_lessons)"
   ]
  },
  {
   "cell_type": "code",
   "execution_count": 225,
   "metadata": {
    "collapsed": false,
    "hidden": true
   },
   "outputs": [
    {
     "data": {
      "text/plain": [
       "506"
      ]
     },
     "execution_count": 225,
     "metadata": {},
     "output_type": "execute_result"
    }
   ],
   "source": [
    "len(set(meta_lesson_assignments.values()))"
   ]
  },
  {
   "cell_type": "code",
   "execution_count": 434,
   "metadata": {
    "collapsed": false,
    "hidden": true
   },
   "outputs": [],
   "source": [
    "# %page linked_lessons"
   ]
  },
  {
   "cell_type": "markdown",
   "metadata": {
    "heading_collapsed": true
   },
   "source": [
    "### hide"
   ]
  },
  {
   "cell_type": "code",
   "execution_count": null,
   "metadata": {
    "collapsed": true,
    "hidden": true
   },
   "outputs": [],
   "source": [
    "ttl = ['respiration', 'reproductive', 'animal']"
   ]
  },
  {
   "cell_type": "code",
   "execution_count": null,
   "metadata": {
    "collapsed": false,
    "hidden": true
   },
   "outputs": [],
   "source": [
    "filter_pos(ttl)"
   ]
  },
  {
   "cell_type": "code",
   "execution_count": null,
   "metadata": {
    "collapsed": false,
    "hidden": true
   },
   "outputs": [],
   "source": [
    "nltk.pos_tag([' current', 'test'])"
   ]
  },
  {
   "cell_type": "markdown",
   "metadata": {
    "heading_collapsed": true
   },
   "source": [
    "# Refinements to make"
   ]
  },
  {
   "cell_type": "markdown",
   "metadata": {
    "heading_collapsed": true,
    "hidden": true
   },
   "source": [
    "### todo"
   ]
  },
  {
   "cell_type": "markdown",
   "metadata": {
    "hidden": true
   },
   "source": [
    "get viz working\n",
    "return annotations to ds\n",
    "fix lessons missing topics"
   ]
  },
  {
   "cell_type": "markdown",
   "metadata": {
    "hidden": true
   },
   "source": [
    "### file i/o"
   ]
  },
  {
   "cell_type": "code",
   "execution_count": 235,
   "metadata": {
    "collapsed": false,
    "hidden": true,
    "run_control": {
     "frozen": false,
     "read_only": false
    }
   },
   "outputs": [],
   "source": [
    "write_file('build_v5_5f.json', complete_flat_ds)"
   ]
  },
  {
   "cell_type": "code",
   "execution_count": 445,
   "metadata": {
    "collapsed": true,
    "hidden": true
   },
   "outputs": [],
   "source": [
    "# write_file('build_v5_prior_to_refinement.json', ck12_combined_dataset)"
   ]
  },
  {
   "cell_type": "code",
   "execution_count": 77,
   "metadata": {
    "collapsed": false,
    "hidden": true
   },
   "outputs": [],
   "source": [
    "with open('../dataset_releases/data_release_beta5/inter/tqa_dataset_beta5.json', 'r') as f:\n",
    "    prev_v5 = json.load(f)"
   ]
  },
  {
   "cell_type": "code",
   "execution_count": null,
   "metadata": {
    "collapsed": false,
    "hidden": true,
    "run_control": {
     "frozen": false,
     "read_only": false
    }
   },
   "outputs": [],
   "source": [
    "# with open('build_v5.pkl', 'wb') as f:\n",
    "#     pickle.dump(ck12_combined_dataset ,f)"
   ]
  },
  {
   "cell_type": "code",
   "execution_count": 55,
   "metadata": {
    "collapsed": true,
    "hidden": true
   },
   "outputs": [],
   "source": [
    "with open('build_v5.pkl', 'rb') as f:\n",
    "    ck12_combined_dataset = pickle.load(f)"
   ]
  },
  {
   "cell_type": "code",
   "execution_count": 56,
   "metadata": {
    "collapsed": false,
    "hidden": true
   },
   "outputs": [],
   "source": [
    "# with open('output_data_from_nbs/build_v5_prior_to_refinement.json', 'r') as f:\n",
    "#      ck12_latest = json.load(f)"
   ]
  },
  {
   "cell_type": "markdown",
   "metadata": {
    "heading_collapsed": true,
    "hidden": true
   },
   "source": [
    "### code"
   ]
  },
  {
   "cell_type": "code",
   "execution_count": 226,
   "metadata": {
    "collapsed": false,
    "hidden": true,
    "run_control": {
     "frozen": false,
     "read_only": false
    }
   },
   "outputs": [],
   "source": [
    "#print(topics_to_remove) #specicied in match topics section above, explictly set here\n",
    "\n",
    "structural_topics = ['Summary', 'Review', 'References', 'Explore More', 'Lesson Summary', 'Lesson Objectives', 'Points to Consider', 'Introduction',\n",
    "                    'Recall', 'Apply Concepts', 'Think Critically', 'Resources', 'Explore More II', 'Explore More I', 'Explore More III']\n",
    "\n",
    "vocab_topics = ['Lesson Vocabulary', 'Vocabulary']"
   ]
  },
  {
   "cell_type": "code",
   "execution_count": 227,
   "metadata": {
    "code_folding": [
     77,
     91,
     95,
     101,
     105,
     119,
     153
    ],
    "collapsed": false,
    "hidden": true,
    "run_control": {
     "frozen": false,
     "read_only": false
    }
   },
   "outputs": [],
   "source": [
    "def iterate_over_all_material(complete_ds, apply_function):\n",
    "    lesson_returns = []\n",
    "    for subject, lessons in sorted(complete_ds.items(), key= lambda x: x[0]):\n",
    "        for lesson_name, lesson_content in sorted(lessons.items(), key= lambda x: x[0]):\n",
    "            response = apply_function(lesson_name, lesson_content)\n",
    "            if response:\n",
    "                lesson_returns.append(response)\n",
    "    return lesson_returns\n",
    "            \n",
    "def apply_fixes(lesson_name, lesson_content):\n",
    "    struct_content, vocab_content = iterate_over_text(lesson_content['topics'], lesson_name)\n",
    "    lesson_content['adjunctTopics'] = struct_content\n",
    "    lesson_content['adjunctTopics']['Vocabulary'] = vocab_content\n",
    "    iterate_over_text_questions(lesson_content['questions']['nonDiagramQuestions'])\n",
    "    if lesson_content['instructionalDiagrams']:\n",
    "        if not lesson_content['questions']['diagramQuestions']:\n",
    "            print(lesson_name + ' missing questions')\n",
    "        iterate_over_diagram_questions(lesson_content['questions']['diagramQuestions'])\n",
    "        iterate_over_diagram_descriptions(lesson_content['instructionalDiagrams'])\n",
    "\n",
    "def apply_fixes(lesson_name, lesson_content):\n",
    "    struct_content, vocab_content = iterate_over_text(lesson_content['topics'], lesson_name)\n",
    "    lesson_content['adjunctTopics'] = struct_content\n",
    "    lesson_content['adjunctTopics']['Vocabulary'] = vocab_content\n",
    "    iterate_over_text_questions(lesson_content['questions']['nonDiagramQuestions'])\n",
    "    if lesson_content['instructionalDiagrams']:\n",
    "        if not lesson_content['questions']['diagramQuestions']:\n",
    "            print(lesson_name + ' missing questions')\n",
    "        iterate_over_diagram_questions(lesson_content['questions']['diagramQuestions'])\n",
    "        iterate_over_diagram_descriptions(lesson_content['instructionalDiagrams'])\n",
    "        \n",
    "def iterate_over_text(topic_sections, lesson_name=None):\n",
    "    structural_content = {}\n",
    "    vocab_section = {}\n",
    "    topics_to_remove = []\n",
    "    for topic, content in sorted(topic_sections.items(), key= lambda x: x[1]['orderID']):\n",
    "        if content['content']['figures']:\n",
    "            iterate_over_textbook_figs(content['content']['figures'], lesson_name)\n",
    "        if topic in vocab_topics:\n",
    "            vocab_section.update(add_defintions_to_vocab(content))\n",
    "            topics_to_remove.append(topic)\n",
    "        elif topic in structural_topics:\n",
    "            structural_content[topic] = content\n",
    "            topics_to_remove.append(topic)\n",
    "    for topic in topics_to_remove:\n",
    "        topic_sections.pop(topic)\n",
    "    return structural_content, vocab_section\n",
    "    \n",
    "\n",
    "def iterate_over_text_questions(text_questions):\n",
    "    replace_local_ids_w_global(text_questions, 'text', True, 'id')\n",
    "    for question_id, question_content in text_questions.items():\n",
    "        change_q_type_key(question_content)\n",
    "    \n",
    "            \n",
    "def iterate_over_diagram_questions(diagram_questions):\n",
    "    for qid, question in diagram_questions.items():\n",
    "        replace_uri_with_path(question, 'question_images')\n",
    "        orig_question= question['beingAsked']['processedText']\n",
    "        fixed_question = apply_spelling_and_grammar_fixes(orig_question)\n",
    "        if fixed_question:\n",
    "            question['beingAsked']['processedText'] = fixed_question\n",
    "        if detect_abc_question(question):\n",
    "            standardize_abc_question(question)\n",
    "        change_q_type_key(question)\n",
    "    replace_local_ids_w_global(diagram_questions, 'diagram', True, 'id')\n",
    "\n",
    "def iterate_over_diagram_descriptions(diagram_descriptions, description_path_prefix=None):\n",
    "    for diagram_name, diagram_content in diagram_descriptions.items():\n",
    "        replace_uri_with_path(diagram_content, 'teaching_images')\n",
    "        orig_description = diagram_content['processedText']\n",
    "        fixed_description = apply_spelling_and_grammar_fixes(orig_description)\n",
    "        if fixed_description:\n",
    "            diagram_content['processedText'] = fixed_description\n",
    "    replace_local_ids_w_global(diagram_descriptions, 'description', True, z_pad=4)\n",
    "\n",
    "            \n",
    "def add_defintions_to_vocab(vocab_section): #done\n",
    "    lesson_vocab = {}\n",
    "    for word in vocab_section['content']['text'].split('\\n'):\n",
    "        if word in flexbook_glossary.keys():\n",
    "            lesson_vocab[word] = flexbook_glossary[word]\n",
    "        elif word:\n",
    "            lesson_vocab[word] = ''\n",
    "    return lesson_vocab\n",
    "\n",
    "def add_global_ids(data_object, object_type, zero_padding=6): #done\n",
    "    id_prefix = {'text': 'NDQ_', 'diagram': 'DQ_', 'lesson': 'L_', 'description': 'DD_', 'topics': 'T_'}\n",
    "    global_ids_counters[object_type] += 1\n",
    "    data_object['globalID'] = id_prefix[object_type] + str(global_ids_counters[object_type]).zfill(zero_padding)\n",
    "\n",
    "def detect_abc_question(question):\n",
    "    abc_choices = [ac['processedText'] for ac in question['answerChoices'].values() if ac['processedText'] in list(string.ascii_letters)]\n",
    "    return len(abc_choices) == 4\n",
    "\n",
    "def standardize_abc_question(question): #done\n",
    "    question['imagePath'] = question['imagePath'].replace('question_images', 'abc_question_images')\n",
    "    question['correctAnswer']['processedText'] = question['correctAnswer']['processedText'].upper()\n",
    "    for ac in question['answerChoices'].values():\n",
    "        ac['processedText'] = ac['processedText'].upper()\n",
    "    \n",
    "def iterate_over_textbook_figs(figure_content, lesson_n): # done\n",
    "    for figure in sorted(figure_content, key= lambda x: x['image_uri'].split('/')[-1]):\n",
    "        replace_uri_with_path(figure, 'textbook_images', lesson_n)\n",
    "        \n",
    "def replace_uri_with_path(image_content, path_prefix, lesson_name=None): # done\n",
    "    image_key_str = 'imageUri'\n",
    "    if 'image_uri' in image_content.keys():\n",
    "        image_key_str = 'image_uri'\n",
    "    image_name = image_content[image_key_str].split('/')[-1]\n",
    "    image_number = image_name.split('_')[-1].split('.')[0]\n",
    "    image_content.pop(image_key_str)\n",
    "    if lesson_name:\n",
    "        global_ids_counters['image'] += 1\n",
    "        prev_image_name = deepcopy(image_name)\n",
    "        image_name =  rename_lesson(lesson_name).replace(' ', '_') + '_' + str(global_ids_counters['image']) + '.png'\n",
    "        record_image_name_changes[os.path.join(path_prefix, prev_image_name)] = os.path.join(path_prefix, image_name)\n",
    "    image_content['imagePath'] = os.path.join(path_prefix, image_name)\n",
    "      \n",
    "def apply_spelling_and_grammar_fixes(orig_text): #done\n",
    "    spell_fixed_text = apply_spelling_fix(orig_text)\n",
    "    for punc_char in punc_set_nospace:\n",
    "        spell_fixed_text = spell_fixed_text.replace(' ' + punc_char + ' ' , punc_char)\n",
    "    for punc_char in punc_set_space:\n",
    "        spell_fixed_text = spell_fixed_text.replace(' ' + punc_char + ' ' , punc_char + ' ')\n",
    "    gram_fixed = gram_checker.correct(spell_fixed_text)\n",
    "    if gram_fixed != orig_text:\n",
    "        return gram_fixed\n",
    "    else:\n",
    "        return None\n",
    "\n",
    "def replace_local_ids_w_global(data_unit, unit_type, keys_too=False, id_key='', z_pad=6):\n",
    "    if id_key:\n",
    "        objs_to_iterate = sorted(data_unit.items(), key=lambda x: x[1][id_key])\n",
    "    else:\n",
    "        objs_to_iterate = data_unit.items()\n",
    "    for k, v in objs_to_iterate:\n",
    "        if(unit_type == 'description'):\n",
    "#             print(k)\n",
    "            global_ids_counters['dds_count'] += 1 \n",
    "        add_global_ids(v, unit_type, zero_padding=z_pad)\n",
    "        if id_key:\n",
    "            v.pop(id_key)\n",
    "    for k, v in objs_to_iterate:\n",
    "        if keys_too:\n",
    "            data_unit[v['globalID']] = data_unit.pop(k)\n",
    "            if unit_type == 'topics':\n",
    "                name_field = unit_type[:-1] + 'Name'\n",
    "                v[name_field] = k\n",
    "    pass\n",
    "\n",
    "def rename_lesson(lesson_name):\n",
    "    if lesson_name[0].isdigit():\n",
    "        return lesson_name.split(maxsplit=1)[1].strip().lower()\n",
    "    else:\n",
    "        return lesson_name\n",
    "\n",
    "def flatten_complete_ds(lesson_name, lesson_content):\n",
    "    lesson_content['lessonName'] =lesson_name\n",
    "    add_global_ids(lesson_content, 'lesson', 4)\n",
    "    lesson_content['lessonName'] = rename_lesson(lesson_name)\n",
    "    obj_key = 'topics'\n",
    "    replace_local_ids_w_global(lesson_content[obj_key], obj_key, True, 'orderID', 4)\n",
    "    return lesson_content\n",
    "\n",
    "def add_metalesson_ids(lesson, meta_lesson_assignments):\n",
    "    lesson['metaLessonID'] = 'ML_' + str(meta_lesson_assignments[lesson['lessonName']]).zfill(4)\n",
    "    \n",
    "def change_q_type_key(question):\n",
    "    question['questionType'] = question['type'] \n",
    "    question.pop('type')"
   ]
  },
  {
   "cell_type": "markdown",
   "metadata": {
    "hidden": true
   },
   "source": [
    "### run"
   ]
  },
  {
   "cell_type": "code",
   "execution_count": 230,
   "metadata": {
    "collapsed": false,
    "hidden": true,
    "run_control": {
     "frozen": false,
     "read_only": false
    }
   },
   "outputs": [],
   "source": [
    "full_test_ds = deepcopy(ck12_combined_dataset)\n",
    "# test_vals= {k: v  for k, v in list(full_test_ds['earth-science'].items())[:20]}\n",
    "# buid_test_cds = {}\n",
    "# buid_test_cds['earth-science'] = test_vals\n",
    "# test_cds = deepcopy(buid_test_cds)"
   ]
  },
  {
   "cell_type": "code",
   "execution_count": 231,
   "metadata": {
    "collapsed": false,
    "hidden": true,
    "run_control": {
     "frozen": false,
     "read_only": false
    },
    "scrolled": false
   },
   "outputs": [
    {
     "name": "stdout",
     "output_type": "stream",
     "text": [
      "CPU times: user 13.4 s, sys: 2.56 s, total: 16 s\n",
      "Wall time: 1min 9s\n"
     ]
    }
   ],
   "source": [
    "%%time\n",
    "dq_gid = 0\n",
    "ndq_gid = 0\n",
    "l_id = 0\n",
    "t_id = 0\n",
    "dd_id = 0\n",
    "pd_image = 20000\n",
    "n_ddds_seen = 0\n",
    "\n",
    "\n",
    "record_image_name_changes = {}\n",
    "global_ids_counters = {'text': ndq_gid, 'diagram': ndq_gid, 'lesson': l_id, 'topics': t_id, 'description': dd_id, 'image':pd_image , 'dds_count': n_ddds_seen}\n",
    "_ = iterate_over_all_material(full_test_ds, apply_fixes)\n",
    "\n",
    "complete_flat_ds = iterate_over_all_material(full_test_ds, flatten_complete_ds)\n",
    "\n",
    "for lesson in complete_flat_ds:\n",
    "    add_metalesson_ids(lesson, meta_lesson_id_assignments)"
   ]
  },
  {
   "cell_type": "code",
   "execution_count": 232,
   "metadata": {
    "collapsed": false,
    "hidden": true
   },
   "outputs": [
    {
     "data": {
      "text/plain": [
       "276"
      ]
     },
     "execution_count": 232,
     "metadata": {},
     "output_type": "execute_result"
    }
   ],
   "source": [
    "global_ids_counters['dds_count']"
   ]
  },
  {
   "cell_type": "markdown",
   "metadata": {
    "heading_collapsed": true,
    "hidden": true
   },
   "source": [
    "### hide"
   ]
  },
  {
   "cell_type": "code",
   "execution_count": 207,
   "metadata": {
    "collapsed": false,
    "hidden": true,
    "scrolled": false
   },
   "outputs": [
    {
     "data": {
      "text/plain": [
       "dict_keys([])"
      ]
     },
     "execution_count": 207,
     "metadata": {},
     "output_type": "execute_result"
    }
   ],
   "source": [
    "complete_flat_ds[3]['instructionalDiagrams'].keys()\n",
    "\n",
    "# _ = iterate_over_all_material(full_test_ds, iterate_over_diagram_questions)\n",
    "\n",
    "prob_image = 'tectonic_plates_9275.png'\n",
    "\n",
    "prob_lesson = []\n",
    "for lesson in complete_flat_ds:\n",
    "    if lesson['lessonName'] == 'theory of plate tectonics':\n",
    "        prob_lesson.append(lesson)\n",
    "\n",
    "prob_nest_lesson = {'es': {}}\n",
    "for subject, lessons in sorted(ck12_combined_dataset.items(), key= lambda x: x[0]):\n",
    "        for lesson_name, lesson_content in sorted(lessons.items(), key= lambda x: x[0]):\n",
    "            if lesson_name == \"6.4 Theory of Plate Tectonics\":\n",
    "                prob_nest_lesson['es'][lesson_name] = lesson_content\n",
    "\n",
    "prob_nest_lesson\n",
    "\n",
    "prob_lesson[0]['instructionalDiagrams']\n",
    "\n",
    "id_seq = []\n",
    "for lesson in complete_flat_ds:\n",
    "    for val in lesson['instructionalDiagrams'].values():\n",
    "        if 'globalID' in val.keys():\n",
    "            id_seq.append(val['globalID'])\n",
    "#         print(val['imageName'])\n",
    "#         if val['imageName'] == 'optics_reflection_9179.png':\n",
    "#             print(val.keys())\n",
    "\n",
    "sorted_ids = sorted([int(idn.split('_')[-1]) for idn in id_seq])\n",
    "\n",
    "sorted_ids[-1]\n",
    "\n",
    "complete_flat_ds = iterate_over_all_material(full_test_ds, flatten_complete_ds)\n",
    "\n",
    "new_l_set = [len(lesson['questions']['nonDiagramQuestions']) for lesson in complete_flat_ds]\n",
    "# old_l_set = [len(lesson['questions']['nonDiagramQuestions'])  for lesson in prev_v5]\n",
    "\n",
    "pd.Series(new_l_set).sum()\n",
    "\n",
    "\n",
    "\n",
    "\n",
    "\n"
   ]
  },
  {
   "cell_type": "code",
   "execution_count": null,
   "metadata": {
    "cell_style": "center",
    "collapsed": false,
    "hidden": true,
    "run_control": {
     "frozen": false,
     "read_only": false
    }
   },
   "outputs": [],
   "source": [
    "# complete_flat_ds[0].keys()\n",
    "# complete_flat_ds[0]['questions']\n",
    "# sorted(complete_flat_ds[9]['instructionalDiagrams'].items(), key=lambda x: x[1]['globalID'])\n",
    "# sorted(complete_flat_ds[0]['questions']['nonDiagramQuestions'].items(), key=lambda x: x[1]['globalID'])\n",
    "# complete_flat_ds[0]['adjunctTopics']\n",
    "# list(complete_flat_ds[0]['topics'].items())[5]\n",
    "# complete_flat_ds[9]"
   ]
  },
  {
   "cell_type": "code",
   "execution_count": null,
   "metadata": {
    "collapsed": false,
    "hidden": true,
    "run_control": {
     "frozen": false,
     "read_only": false
    },
    "scrolled": true
   },
   "outputs": [],
   "source": [
    "t_ids_seen = []\n",
    "q_ids_seen = []\n",
    "for lesson in list(list(test_cds.values())[0].values()):\n",
    "    for que in lesson['questions']['nonDiagramQuestions'].values():\n",
    "        t_ids_seen.append(que['globalID'])  \n",
    "for lesson in list(list(test_cds.values())[0].values()):\n",
    "    for que in lesson['questions']['diagramQuestions'].values():\n",
    "        q_ids_seen.append(que['globalID'])  "
   ]
  },
  {
   "cell_type": "code",
   "execution_count": 548,
   "metadata": {
    "collapsed": false,
    "hidden": true,
    "run_control": {
     "frozen": false,
     "read_only": false
    },
    "scrolled": true
   },
   "outputs": [],
   "source": [
    "# list(test_cds['earth-science'].values())[0]['topics']"
   ]
  },
  {
   "cell_type": "code",
   "execution_count": null,
   "metadata": {
    "collapsed": false,
    "hidden": true,
    "run_control": {
     "frozen": false,
     "read_only": false
    },
    "scrolled": true
   },
   "outputs": [],
   "source": [
    "# list(test_cds['earth-science'].values())[0]['adjunctTopics']"
   ]
  },
  {
   "cell_type": "code",
   "execution_count": null,
   "metadata": {
    "collapsed": true,
    "hidden": true,
    "run_control": {
     "frozen": false,
     "read_only": false
    }
   },
   "outputs": [],
   "source": [
    "#             print(lesson_content['topics'].keys())"
   ]
  },
  {
   "cell_type": "markdown",
   "metadata": {
    "heading_collapsed": true
   },
   "source": [
    "# renaming diagram image files"
   ]
  },
  {
   "cell_type": "code",
   "execution_count": 82,
   "metadata": {
    "collapsed": true,
    "hidden": true
   },
   "outputs": [],
   "source": [
    "image_base = '../dataset_releases/data_release_beta4_standard'"
   ]
  },
  {
   "cell_type": "code",
   "execution_count": 84,
   "metadata": {
    "collapsed": false,
    "hidden": true
   },
   "outputs": [
    {
     "data": {
      "text/plain": [
       "0"
      ]
     },
     "execution_count": 84,
     "metadata": {},
     "output_type": "execute_result"
    }
   ],
   "source": [
    "len(missing)"
   ]
  },
  {
   "cell_type": "code",
   "execution_count": 233,
   "metadata": {
    "collapsed": false,
    "hidden": true
   },
   "outputs": [
    {
     "name": "stdout",
     "output_type": "stream",
     "text": [
      "../dataset_releases/data_release_beta4_standard/textbook_images/liquids_22928.png\n",
      "../dataset_releases/data_release_beta4_standard/textbook_images/predicting_volcanic_eruptions_21043.png\n",
      "../dataset_releases/data_release_beta4_standard/textbook_images/carbon_monomers_and_polymers_22703.png\n",
      "../dataset_releases/data_release_beta4_standard/textbook_images/weathering_and_erosion_21242.png\n",
      "../dataset_releases/data_release_beta4_standard/textbook_images/behavior_of_gases_22544.png\n",
      "../dataset_releases/data_release_beta4_standard/textbook_images/scientific_ways_of_thinking_21249.png\n",
      "../dataset_releases/data_release_beta4_standard/textbook_images/lizards_and_snakes_21961.png\n",
      "../dataset_releases/data_release_beta4_standard/textbook_images/principle_of_uniformitarianism_21051.png\n",
      "../dataset_releases/data_release_beta4_standard/textbook_images/earths_layers_20719.png\n",
      "../dataset_releases/data_release_beta4_standard/textbook_images/the_integumentary_system_21400.png\n",
      "../dataset_releases/data_release_beta4_standard/textbook_images/mammal_classification_21969.png\n",
      "../dataset_releases/data_release_beta4_standard/textbook_images/landforms_from_erosion_and_deposition_by_gravity_20882.png\n",
      "../dataset_releases/data_release_beta4_standard/textbook_images/using_sound_22419.png\n",
      "../dataset_releases/data_release_beta4_standard/textbook_images/lymphatic_system_21963.png\n",
      "../dataset_releases/data_release_beta4_standard/textbook_images/fungi_21688.png\n",
      "../dataset_releases/data_release_beta4_standard/textbook_images/wind_waves_21248.png\n",
      "../dataset_releases/data_release_beta4_standard/textbook_images/plant_reproduction_and_life_cycle_22064.png\n",
      "../dataset_releases/data_release_beta4_standard/textbook_images/intrusive_and_extrusive_igneous_rocks_20871.png\n",
      "../dataset_releases/data_release_beta4_standard/textbook_images/the_human_population_20226.png\n",
      "../dataset_releases/data_release_beta4_standard/textbook_images/inner_planets_20396.png\n",
      "../dataset_releases/data_release_beta4_standard/textbook_images/transform_plate_boundaries_21171.png\n",
      "../dataset_releases/data_release_beta4_standard/textbook_images/causes_of_air_pollution_20646.png\n",
      "../dataset_releases/data_release_beta4_standard/textbook_images/earthquake_zones_20709.png\n",
      "../dataset_releases/data_release_beta4_standard/textbook_images/seismic_waves_21107.png\n",
      "../dataset_releases/data_release_beta4_standard/textbook_images/pressure_of_fluids_22292.png\n",
      "../dataset_releases/data_release_beta4_standard/textbook_images/introduction_to_plants_21267.png\n",
      "../dataset_releases/data_release_beta4_standard/textbook_images/use_and_conservation_of_resources_20285.png\n",
      "../dataset_releases/data_release_beta4_standard/textbook_images/lifes_building_blocks_21576.png\n",
      "../dataset_releases/data_release_beta4_standard/textbook_images/introduction_to_plants_21268.png\n",
      "../dataset_releases/data_release_beta4_standard/textbook_images/hearing_and_balance_21876.png\n",
      "../dataset_releases/data_release_beta4_standard/textbook_images/groundwater_20102.png\n",
      "../dataset_releases/data_release_beta4_standard/textbook_images/nuclear_fission_22985.png\n",
      "../dataset_releases/data_release_beta4_standard/textbook_images/properties_of_matter_22517.png\n",
      "../dataset_releases/data_release_beta4_standard/textbook_images/changes_of_state_22555.png\n",
      "../dataset_releases/data_release_beta4_standard/textbook_images/petroleum_power_21022.png\n",
      "../dataset_releases/data_release_beta4_standard/textbook_images/the_origin_of_earth_20069.png\n",
      "../dataset_releases/data_release_beta4_standard/textbook_images/types_of_marine_organisms_21185.png\n",
      "../dataset_releases/data_release_beta4_standard/textbook_images/collecting_weather_data_20675.png\n",
      "../dataset_releases/data_release_beta4_standard/textbook_images/landforms_from_groundwater_erosion_and_deposition_20896.png\n",
      "../dataset_releases/data_release_beta4_standard/textbook_images/revolutions_of_earth_21068.png\n",
      "../dataset_releases/data_release_beta4_standard/textbook_images/tides_21165.png\n",
      "../dataset_releases/data_release_beta4_standard/textbook_images/electric_charge_22470.png\n",
      "../dataset_releases/data_release_beta4_standard/textbook_images/theory_of_plate_tectonics_20514.png\n",
      "../dataset_releases/data_release_beta4_standard/textbook_images/carbon_and_living_things_22643.png\n",
      "../dataset_releases/data_release_beta4_standard/textbook_images/coriolis_effect_20682.png\n",
      "../dataset_releases/data_release_beta4_standard/textbook_images/energy_in_the_atmosphere_20140.png\n",
      "../dataset_releases/data_release_beta4_standard/textbook_images/climate_change_in_earth_history_20662.png\n",
      "../dataset_releases/data_release_beta4_standard/textbook_images/heart_21879.png\n",
      "../dataset_releases/data_release_beta4_standard/textbook_images/planet_orbits_in_the_solar_system_21026.png\n",
      "../dataset_releases/data_release_beta4_standard/textbook_images/digestive_system_organs_21802.png\n",
      "../dataset_releases/data_release_beta4_standard/textbook_images/bacteria_21672.png\n",
      "../dataset_releases/data_release_beta4_standard/textbook_images/coal_power_20668.png\n",
      "../dataset_releases/data_release_beta4_standard/textbook_images/mineral_identification_20966.png\n",
      "../dataset_releases/data_release_beta4_standard/textbook_images/frequency_and_pitch_of_sound_22851.png\n",
      "../dataset_releases/data_release_beta4_standard/textbook_images/electromagnetic_waves_22424.png\n",
      "../dataset_releases/data_release_beta4_standard/textbook_images/processes_of_the_water_cycle_21056.png\n",
      "../dataset_releases/data_release_beta4_standard/textbook_images/newtons_second_law_22284.png\n",
      "../dataset_releases/data_release_beta4_standard/textbook_images/use_and_conservation_of_energy_20294.png\n",
      "../dataset_releases/data_release_beta4_standard/textbook_images/diffusion_21800.png\n",
      "../dataset_releases/data_release_beta4_standard/textbook_images/velocity_23150.png\n",
      "../dataset_releases/data_release_beta4_standard/textbook_images/metals_22948.png\n",
      "../dataset_releases/data_release_beta4_standard/textbook_images/chemical_reaction_rate_22721.png\n",
      "../dataset_releases/data_release_beta4_standard/textbook_images/modeling_earths_surface_20264.png\n",
      "../dataset_releases/data_release_beta4_standard/textbook_images/evolution_and_classification_of_plants_21277.png\n",
      "../dataset_releases/data_release_beta4_standard/textbook_images/fossils_20052.png\n",
      "../dataset_releases/data_release_beta4_standard/textbook_images/mammals_21368.png\n",
      "../dataset_releases/data_release_beta4_standard/textbook_images/nonvascular_plants_22016.png\n",
      "../dataset_releases/data_release_beta4_standard/textbook_images/oil_spills_21011.png\n",
      "../dataset_releases/data_release_beta4_standard/textbook_images/storms_20177.png\n",
      "../dataset_releases/data_release_beta4_standard/textbook_images/planet_earth_20371.png\n",
      "../dataset_releases/data_release_beta4_standard/textbook_images/vascular_seedless_plants_22193.png\n",
      "../dataset_releases/data_release_beta4_standard/textbook_images/roles_in_an_ecosystem_21076.png\n",
      "../dataset_releases/data_release_beta4_standard/textbook_images/electromagnetism_22806.png\n",
      "../dataset_releases/data_release_beta4_standard/textbook_images/ocean_movements_20114.png\n",
      "../dataset_releases/data_release_beta4_standard/textbook_images/precambrian_continents_21035.png\n",
      "../dataset_releases/data_release_beta4_standard/textbook_images/using_thermal_energy_22367.png\n",
      "../dataset_releases/data_release_beta4_standard/textbook_images/birds_21736.png\n",
      "../dataset_releases/data_release_beta4_standard/textbook_images/radioactive_decay_22228.png\n",
      "../dataset_releases/data_release_beta4_standard/textbook_images/ions_22906.png\n",
      "../dataset_releases/data_release_beta4_standard/textbook_images/introduction_to_the_solar_system_20386.png\n",
      "../dataset_releases/data_release_beta4_standard/textbook_images/symbiosis_22160.png\n",
      "../dataset_releases/data_release_beta4_standard/textbook_images/fungi_21690.png\n",
      "../dataset_releases/data_release_beta4_standard/textbook_images/effects_of_air_pollution_20330.png\n",
      "../dataset_releases/data_release_beta4_standard/textbook_images/sedimentary_rock_classification_21101.png\n",
      "../dataset_releases/data_release_beta4_standard/textbook_images/generating_and_using_electricity_22511.png\n",
      "../dataset_releases/data_release_beta4_standard/textbook_images/soil_formation_21123.png\n",
      "../dataset_releases/data_release_beta4_standard/textbook_images/female_reproductive_system_21505.png\n",
      "../dataset_releases/data_release_beta4_standard/textbook_images/intraplate_activity_20867.png\n",
      "../dataset_releases/data_release_beta4_standard/textbook_images/communities_21530.png\n",
      "../dataset_releases/data_release_beta4_standard/textbook_images/artificial_light_22669.png\n",
      "../dataset_releases/data_release_beta4_standard/textbook_images/wave_interactions_and_interference_22384.png\n",
      "../dataset_releases/data_release_beta4_standard/textbook_images/choosing_healthy_foods_21425.png\n",
      "../dataset_releases/data_release_beta4_standard/textbook_images/seeds_and_seed_dispersal_22134.png\n",
      "../dataset_releases/data_release_beta4_standard/textbook_images/renewable_energy_resources_20493.png\n",
      "../dataset_releases/data_release_beta4_standard/textbook_images/importance_of_biodiversity_21907.png\n",
      "../dataset_releases/data_release_beta4_standard/textbook_images/scientific_investigation_22127.png\n",
      "../dataset_releases/data_release_beta4_standard/textbook_images/states_of_water_21137.png\n",
      "../dataset_releases/data_release_beta4_standard/textbook_images/male_reproductive_system_21966.png\n",
      "../dataset_releases/data_release_beta4_standard/textbook_images/electron_cloud_atomic_model_22809.png\n",
      "../dataset_releases/data_release_beta4_standard/textbook_images/states_of_matter_23099.png\n",
      "../dataset_releases/data_release_beta4_standard/textbook_images/surface_ocean_currents_21149.png\n",
      "../dataset_releases/data_release_beta4_standard/textbook_images/cancer_21745.png\n",
      "../dataset_releases/data_release_beta4_standard/textbook_images/choosing_healthy_foods_21774.png\n",
      "../dataset_releases/data_release_beta4_standard/textbook_images/continental_drift_20502.png\n",
      "../dataset_releases/data_release_beta4_standard/textbook_images/newtons_first_law_22282.png\n",
      "../dataset_releases/data_release_beta4_standard/textbook_images/tornadoes_21170.png\n",
      "../dataset_releases/data_release_beta4_standard/textbook_images/the_nervous_system_21467.png\n",
      "../dataset_releases/data_release_beta4_standard/textbook_images/climate_change_20203.png\n",
      "../dataset_releases/data_release_beta4_standard/textbook_images/plants_adaptations_for_life_on_land_22066.png\n",
      "../dataset_releases/data_release_beta4_standard/textbook_images/history_of_earths_life_forms_20082.png\n",
      "../dataset_releases/data_release_beta4_standard/textbook_images/kidneys_21943.png\n",
      "../dataset_releases/data_release_beta4_standard/textbook_images/reactants_and_products_23051.png\n",
      "../dataset_releases/data_release_beta4_standard/textbook_images/glaciers_20807.png\n",
      "../dataset_releases/data_release_beta4_standard/textbook_images/evolution_of_simple_cells_20753.png\n",
      "../dataset_releases/data_release_beta4_standard/textbook_images/tropisms_22180.png\n",
      "../dataset_releases/data_release_beta4_standard/textbook_images/immune_system_defenses_21500.png\n",
      "../dataset_releases/data_release_beta4_standard/textbook_images/respiratory_system_diseases_22111.png\n",
      "../dataset_releases/data_release_beta4_standard/textbook_images/how_animals_evolved_21301.png\n",
      "../dataset_releases/data_release_beta4_standard/textbook_images/darwins_theory_of_evolution_21637.png\n",
      "../dataset_releases/data_release_beta4_standard/textbook_images/acid_rain_20605.png\n",
      "../dataset_releases/data_release_beta4_standard/textbook_images/carbon_monomers_and_polymers_22704.png\n",
      "../dataset_releases/data_release_beta4_standard/textbook_images/ecosystems_20210.png\n",
      "../dataset_releases/data_release_beta4_standard/textbook_images/molecular_compounds_22961.png\n",
      "../dataset_releases/data_release_beta4_standard/textbook_images/introduction_to_the_solar_system_20387.png\n",
      "../dataset_releases/data_release_beta4_standard/textbook_images/what_is_force_22257.png\n",
      "../dataset_releases/data_release_beta4_standard/textbook_images/vision_problems_and_corrective_lenses_23160.png\n",
      "../dataset_releases/data_release_beta4_standard/textbook_images/effusive_eruptions_20738.png\n",
      "../dataset_releases/data_release_beta4_standard/textbook_images/direction_22769.png\n",
      "../dataset_releases/data_release_beta4_standard/textbook_images/evolution_and_classification_of_plants_21279.png\n",
      "../dataset_releases/data_release_beta4_standard/textbook_images/reproduction_and_life_stages_21512.png\n",
      "../dataset_releases/data_release_beta4_standard/textbook_images/speed_23098.png\n",
      "../dataset_releases/data_release_beta4_standard/textbook_images/cell_division_21605.png\n",
      "../dataset_releases/data_release_beta4_standard/textbook_images/dwarf_planets_20698.png\n",
      "../dataset_releases/data_release_beta4_standard/textbook_images/calculating_acceleration_from_force_and_mass_22693.png\n",
      "../dataset_releases/data_release_beta4_standard/textbook_images/wave_interactions_23167.png\n",
      "../dataset_releases/data_release_beta4_standard/textbook_images/solids_liquids_gases_and_plasmas_22540.png\n",
      "../dataset_releases/data_release_beta4_standard/textbook_images/how_fossilization_creates_fossils_20839.png\n",
      "../dataset_releases/data_release_beta4_standard/textbook_images/endothermic_reactions_22823.png\n",
      "../dataset_releases/data_release_beta4_standard/textbook_images/locating_earthquake_epicenters_20906.png\n",
      "../dataset_releases/data_release_beta4_standard/textbook_images/cycles_of_matter_20217.png\n",
      "../dataset_releases/data_release_beta4_standard/textbook_images/human_sperm_21894.png\n",
      "../dataset_releases/data_release_beta4_standard/textbook_images/introduction_to_the_oceans_20106.png\n",
      "../dataset_releases/data_release_beta4_standard/textbook_images/importance_of_birds_21909.png\n",
      "../dataset_releases/data_release_beta4_standard/textbook_images/newtons_first_law_22971.png\n",
      "../dataset_releases/data_release_beta4_standard/textbook_images/chemical_reactions_and_energy_22622.png\n",
      "../dataset_releases/data_release_beta4_standard/textbook_images/paleozoic_and_mesozoic_seas_21018.png\n",
      "../dataset_releases/data_release_beta4_standard/textbook_images/carbohydrate_classification_22696.png\n",
      "../dataset_releases/data_release_beta4_standard/textbook_images/theory_of_plate_tectonics_20521.png\n",
      "../dataset_releases/data_release_beta4_standard/textbook_images/energy_resources_22352.png\n",
      "../dataset_releases/data_release_beta4_standard/textbook_images/sound_waves_23092.png\n",
      "../dataset_releases/data_release_beta4_standard/textbook_images/earth_as_a_magnet_22776.png\n",
      "../dataset_releases/data_release_beta4_standard/textbook_images/changes_of_state_22554.png\n",
      "../dataset_releases/data_release_beta4_standard/textbook_images/circulation_and_the_lymphatic_system_21783.png\n",
      "../dataset_releases/data_release_beta4_standard/textbook_images/musical_instruments_22965.png\n",
      "../dataset_releases/data_release_beta4_standard/textbook_images/cellular_respiration_21595.png\n",
      "../dataset_releases/data_release_beta4_standard/textbook_images/scientific_investigation_22394.png\n",
      "../dataset_releases/data_release_beta4_standard/textbook_images/staying_safe_in_earthquakes_20562.png\n",
      "../dataset_releases/data_release_beta4_standard/textbook_images/neptune_20983.png\n",
      "../dataset_releases/data_release_beta4_standard/textbook_images/halogens_22871.png\n",
      "../dataset_releases/data_release_beta4_standard/textbook_images/innate_behavior_of_animals_21925.png\n",
      "../dataset_releases/data_release_beta4_standard/textbook_images/chemistry_of_living_things_21459.png\n",
      "../dataset_releases/data_release_beta4_standard/textbook_images/telescopes_20339.png\n",
      "../dataset_releases/data_release_beta4_standard/textbook_images/topographic_maps_20268.png\n",
      "../dataset_releases/data_release_beta4_standard/textbook_images/moon_20974.png\n",
      "../dataset_releases/data_release_beta4_standard/textbook_images/groups_with_metalloids_22868.png\n",
      "../dataset_releases/data_release_beta4_standard/textbook_images/enzymes_as_catalysts_22830.png\n",
      "../dataset_releases/data_release_beta4_standard/textbook_images/maps_20920.png\n",
      "../dataset_releases/data_release_beta4_standard/textbook_images/introduction_to_prokaryotes_21663.png\n",
      "../dataset_releases/data_release_beta4_standard/textbook_images/lymphatic_system_21962.png\n",
      "../dataset_releases/data_release_beta4_standard/textbook_images/nature_of_earthquakes_20545.png\n",
      "../dataset_releases/data_release_beta4_standard/textbook_images/introduction_to_the_oceans_20104.png\n",
      "../dataset_releases/data_release_beta4_standard/textbook_images/supervolcanoes_21145.png\n",
      "../dataset_releases/data_release_beta4_standard/textbook_images/stress_in_earths_crust_20540.png\n",
      "../dataset_releases/data_release_beta4_standard/textbook_images/measuring_and_predicting_earthquakes_20556.png\n",
      "../dataset_releases/data_release_beta4_standard/textbook_images/electromagnet_22797.png\n",
      "../dataset_releases/data_release_beta4_standard/textbook_images/crustaceans_21795.png\n",
      "../dataset_releases/data_release_beta4_standard/textbook_images/stress_in_earths_crust_20542.png\n",
      "../dataset_releases/data_release_beta4_standard/textbook_images/noble_gases_22980.png\n",
      "../dataset_releases/data_release_beta4_standard/textbook_images/evidence_for_evolution_21647.png\n",
      "../dataset_releases/data_release_beta4_standard/textbook_images/climate_and_its_causes_20188.png\n",
      "../dataset_releases/data_release_beta4_standard/textbook_images/behavior_of_gases_22546.png\n",
      "../dataset_releases/data_release_beta4_standard/textbook_images/erosion_and_deposition_by_wind_20038.png\n",
      "../dataset_releases/data_release_beta4_standard/textbook_images/choosing_healthy_foods_21424.png\n",
      "../dataset_releases/data_release_beta4_standard/textbook_images/reptiles_21354.png\n",
      "../dataset_releases/data_release_beta4_standard/textbook_images/fish_21836.png\n",
      "../dataset_releases/data_release_beta4_standard/textbook_images/hearing_and_balance_21877.png\n",
      "../dataset_releases/data_release_beta4_standard/textbook_images/understanding_animal_behavior_21379.png\n",
      "../dataset_releases/data_release_beta4_standard/textbook_images/heat_conduction_22880.png\n",
      "../dataset_releases/data_release_beta4_standard/textbook_images/atoms_22676.png\n",
      "../dataset_releases/data_release_beta4_standard/textbook_images/protein_synthesis_21615.png\n",
      "../dataset_releases/data_release_beta4_standard/textbook_images/reproduction_and_life_stages_21509.png\n",
      "../dataset_releases/data_release_beta4_standard/textbook_images/nonvascular_plants_22017.png\n",
      "../dataset_releases/data_release_beta4_standard/textbook_images/lymphatic_system_21964.png\n",
      "../dataset_releases/data_release_beta4_standard/textbook_images/sexually_transmitted_infections_22137.png\n",
      "../dataset_releases/data_release_beta4_standard/textbook_images/topographic_maps_20273.png\n",
      "../dataset_releases/data_release_beta4_standard/textbook_images/wave_interactions_and_interference_22389.png\n",
      "../dataset_releases/data_release_beta4_standard/textbook_images/plant_hormones_22059.png\n",
      "../dataset_releases/data_release_beta4_standard/textbook_images/earths_tectonic_plates_20726.png\n",
      "../dataset_releases/data_release_beta4_standard/textbook_images/friction_22260.png\n",
      "../dataset_releases/data_release_beta4_standard/textbook_images/what_is_life_science_21254.png\n",
      "../dataset_releases/data_release_beta4_standard/textbook_images/erosion_and_deposition_by_flowing_water_20021.png\n",
      "../dataset_releases/data_release_beta4_standard/textbook_images/the_carbon_cycle_22166.png\n",
      "../dataset_releases/data_release_beta4_standard/textbook_images/types_of_archaea_22186.png\n",
      "../dataset_releases/data_release_beta4_standard/textbook_images/domains_of_life_21814.png\n",
      "../dataset_releases/data_release_beta4_standard/textbook_images/position_time_graphs_23021.png\n",
      "../dataset_releases/data_release_beta4_standard/textbook_images/intrusive_and_extrusive_igneous_rocks_20875.png\n",
      "../dataset_releases/data_release_beta4_standard/textbook_images/dna_the_genetic_material_21813.png\n",
      "../dataset_releases/data_release_beta4_standard/textbook_images/maps_20919.png\n",
      "../dataset_releases/data_release_beta4_standard/textbook_images/intraplate_activity_20866.png\n",
      "../dataset_releases/data_release_beta4_standard/textbook_images/the_digestive_system_21426.png\n",
      "../dataset_releases/data_release_beta4_standard/textbook_images/friction_22264.png\n",
      "../dataset_releases/data_release_beta4_standard/textbook_images/the_sun_20382.png\n",
      "../dataset_releases/data_release_beta4_standard/textbook_images/simple_machines_22323.png\n",
      "../dataset_releases/data_release_beta4_standard/textbook_images/the_excretory_system_21448.png\n",
      "../dataset_releases/data_release_beta4_standard/textbook_images/plants_adaptations_for_life_on_land_22065.png\n",
      "../dataset_releases/data_release_beta4_standard/textbook_images/sources_of_visible_light_23094.png\n",
      "../dataset_releases/data_release_beta4_standard/textbook_images/dark_matter_20685.png\n",
      "../dataset_releases/data_release_beta4_standard/textbook_images/inside_earth_20497.png\n",
      "../dataset_releases/data_release_beta4_standard/textbook_images/availability_of_natural_resources_20620.png\n",
      "../dataset_releases/data_release_beta4_standard/textbook_images/characteristics_of_living_organisms_21451.png\n",
      "../dataset_releases/data_release_beta4_standard/textbook_images/inclined_plane_22895.png\n",
      "../dataset_releases/data_release_beta4_standard/textbook_images/magnets_and_magnetism_22491.png\n",
      "../dataset_releases/data_release_beta4_standard/textbook_images/characteristics_of_sound_22409.png\n",
      "../dataset_releases/data_release_beta4_standard/textbook_images/mineral_identification_20965.png\n",
      "../dataset_releases/data_release_beta4_standard/textbook_images/transfer_of_thermal_energy_22364.png\n",
      "../dataset_releases/data_release_beta4_standard/textbook_images/fossils_20054.png\n",
      "../dataset_releases/data_release_beta4_standard/textbook_images/mechanical_wave_22940.png\n",
      "../dataset_releases/data_release_beta4_standard/textbook_images/circulation_and_the_lymphatic_system_21782.png\n",
      "../dataset_releases/data_release_beta4_standard/textbook_images/electromagnetic_waves_22805.png\n",
      "../dataset_releases/data_release_beta4_standard/textbook_images/water_pollution_21230.png\n",
      "../dataset_releases/data_release_beta4_standard/textbook_images/how_animals_evolved_21295.png\n",
      "../dataset_releases/data_release_beta4_standard/textbook_images/petroleum_power_21025.png\n",
      "../dataset_releases/data_release_beta4_standard/textbook_images/planet_earth_20368.png\n",
      "../dataset_releases/data_release_beta4_standard/textbook_images/chemical_reaction_overview_22720.png\n",
      "../dataset_releases/data_release_beta4_standard/textbook_images/effects_of_air_pollution_20327.png\n",
      "../dataset_releases/data_release_beta4_standard/textbook_images/importance_of_biodiversity_21905.png\n",
      "../dataset_releases/data_release_beta4_standard/textbook_images/volcanic_activity_20565.png\n",
      "../dataset_releases/data_release_beta4_standard/textbook_images/protists_nutrition_22092.png\n",
      "../dataset_releases/data_release_beta4_standard/textbook_images/fish_21837.png\n",
      "../dataset_releases/data_release_beta4_standard/textbook_images/the_nervous_system_21474.png\n",
      "../dataset_releases/data_release_beta4_standard/textbook_images/the_light_we_see_22443.png\n",
      "../dataset_releases/data_release_beta4_standard/textbook_images/democrituss_idea_of_the_atom_22763.png\n",
      "../dataset_releases/data_release_beta4_standard/textbook_images/volcanic_activity_20566.png\n",
      "../dataset_releases/data_release_beta4_standard/textbook_images/wave_interactions_and_interference_22387.png\n",
      "../dataset_releases/data_release_beta4_standard/textbook_images/surface_ocean_currents_21151.png\n",
      "../dataset_releases/data_release_beta4_standard/textbook_images/electromagnetic_energy_in_the_atmosphere_20741.png\n",
      "../dataset_releases/data_release_beta4_standard/textbook_images/chemistry_of_living_things_21457.png\n",
      "../dataset_releases/data_release_beta4_standard/textbook_images/properties_of_electromagnetic_waves_23039.png\n",
      "../dataset_releases/data_release_beta4_standard/textbook_images/reproduction_and_life_stages_21514.png\n",
      "../dataset_releases/data_release_beta4_standard/textbook_images/artificial_light_22667.png\n",
      "../dataset_releases/data_release_beta4_standard/textbook_images/inner_planets_20395.png\n",
      "../dataset_releases/data_release_beta4_standard/textbook_images/surface_ocean_currents_21150.png\n",
      "../dataset_releases/data_release_beta4_standard/textbook_images/wind_power_21246.png\n",
      "../dataset_releases/data_release_beta4_standard/textbook_images/deposition_22768.png\n",
      "../dataset_releases/data_release_beta4_standard/textbook_images/mammals_21372.png\n",
      "../dataset_releases/data_release_beta4_standard/textbook_images/mitosis_and_cytokinesis_21991.png\n",
      "../dataset_releases/data_release_beta4_standard/textbook_images/vision_22459.png\n",
      "../dataset_releases/data_release_beta4_standard/textbook_images/moon_20976.png\n",
      "../dataset_releases/data_release_beta4_standard/textbook_images/importance_of_arthropods_21904.png\n",
      "../dataset_releases/data_release_beta4_standard/textbook_images/indoor_air_pollution_21918.png\n",
      "../dataset_releases/data_release_beta4_standard/textbook_images/rna_22117.png\n",
      "../dataset_releases/data_release_beta4_standard/textbook_images/respiratory_system_diseases_22114.png\n",
      "../dataset_releases/data_release_beta4_standard/textbook_images/freezing_22849.png\n",
      "../dataset_releases/data_release_beta4_standard/textbook_images/distance_and_direction_22241.png\n",
      "../dataset_releases/data_release_beta4_standard/textbook_images/planet_earth_20367.png\n",
      "../dataset_releases/data_release_beta4_standard/textbook_images/the_digestive_system_21431.png\n",
      "../dataset_releases/data_release_beta4_standard/textbook_images/predicting_earthquakes_21042.png\n",
      "../dataset_releases/data_release_beta4_standard/textbook_images/modeling_earths_surface_20255.png\n",
      "../dataset_releases/data_release_beta4_standard/textbook_images/processes_of_the_water_cycle_21058.png\n",
      "../dataset_releases/data_release_beta4_standard/textbook_images/safety_in_life_science_research_21261.png\n",
      "../dataset_releases/data_release_beta4_standard/textbook_images/transport_21586.png\n",
      "../dataset_releases/data_release_beta4_standard/textbook_images/milky_way_20945.png\n",
      "../dataset_releases/data_release_beta4_standard/textbook_images/safety_in_the_life_sciences_22123.png\n",
      "../dataset_releases/data_release_beta4_standard/textbook_images/animal_communication_21703.png\n",
      "../dataset_releases/data_release_beta4_standard/textbook_images/air_movement_20152.png\n",
      "../dataset_releases/data_release_beta4_standard/textbook_images/minerals_20449.png\n",
      "../dataset_releases/data_release_beta4_standard/textbook_images/protein_synthesis_21613.png\n",
      "../dataset_releases/data_release_beta4_standard/textbook_images/science_skills_22403.png\n",
      "../dataset_releases/data_release_beta4_standard/textbook_images/fish_21341.png\n",
      "../dataset_releases/data_release_beta4_standard/textbook_images/keeping_bones_and_joints_healthy_21939.png\n",
      "../dataset_releases/data_release_beta4_standard/textbook_images/erosion_and_deposition_by_waves_20032.png\n",
      "../dataset_releases/data_release_beta4_standard/textbook_images/thunderstorms_21160.png\n",
      "../dataset_releases/data_release_beta4_standard/textbook_images/optics_22457.png\n",
      "../dataset_releases/data_release_beta4_standard/textbook_images/impact_of_continued_global_warming_20855.png\n",
      "../dataset_releases/data_release_beta4_standard/textbook_images/solute_and_solvent_23088.png\n",
      "../dataset_releases/data_release_beta4_standard/textbook_images/processes_of_breathing_22085.png\n",
      "../dataset_releases/data_release_beta4_standard/textbook_images/optics_22454.png\n",
      "../dataset_releases/data_release_beta4_standard/textbook_images/noninfectious_diseases_21489.png\n",
      "../dataset_releases/data_release_beta4_standard/textbook_images/technology_and_science_23109.png\n",
      "../dataset_releases/data_release_beta4_standard/textbook_images/volcanic_landforms_21216.png\n",
      "../dataset_releases/data_release_beta4_standard/textbook_images/earths_moon_20377.png\n",
      "../dataset_releases/data_release_beta4_standard/textbook_images/combustion_reactions_22735.png\n",
      "../dataset_releases/data_release_beta4_standard/textbook_images/the_muscular_system_21415.png\n",
      "../dataset_releases/data_release_beta4_standard/textbook_images/mineral_formation_20949.png\n",
      "../dataset_releases/data_release_beta4_standard/textbook_images/chemistry_of_compounds_22724.png\n",
      "../dataset_releases/data_release_beta4_standard/textbook_images/wedge_23177.png\n",
      "../dataset_releases/data_release_beta4_standard/textbook_images/inside_the_atom_22558.png\n",
      "../dataset_releases/data_release_beta4_standard/textbook_images/climate_change_20201.png\n",
      "../dataset_releases/data_release_beta4_standard/textbook_images/transfer_of_thermal_energy_22361.png\n",
      "../dataset_releases/data_release_beta4_standard/textbook_images/cell_division_21600.png\n",
      "../dataset_releases/data_release_beta4_standard/textbook_images/intraplate_earthquakes_20869.png\n",
      "../dataset_releases/data_release_beta4_standard/textbook_images/the_electromagnetic_spectrum_22431.png\n",
      "../dataset_releases/data_release_beta4_standard/textbook_images/hearing_sound_22413.png\n",
      "../dataset_releases/data_release_beta4_standard/textbook_images/translation_of_rna_to_protein_22176.png\n",
      "../dataset_releases/data_release_beta4_standard/textbook_images/overpopulation_and_over_consumption_21013.png\n",
      "../dataset_releases/data_release_beta4_standard/textbook_images/deep_ocean_currents_20688.png\n",
      "../dataset_releases/data_release_beta4_standard/textbook_images/mendels_discoveries_21622.png\n",
      "../dataset_releases/data_release_beta4_standard/textbook_images/gravity_22274.png\n",
      "../dataset_releases/data_release_beta4_standard/textbook_images/types_of_marine_organisms_21182.png\n",
      "../dataset_releases/data_release_beta4_standard/textbook_images/optics_22447.png\n",
      "../dataset_releases/data_release_beta4_standard/textbook_images/metallic_bonds_22602.png\n",
      "../dataset_releases/data_release_beta4_standard/textbook_images/dark_matter_20686.png\n",
      "../dataset_releases/data_release_beta4_standard/textbook_images/how_fossilization_creates_fossils_20845.png\n",
      "../dataset_releases/data_release_beta4_standard/textbook_images/gravity_22273.png\n",
      "../dataset_releases/data_release_beta4_standard/textbook_images/newtons_third_law_22289.png\n",
      "../dataset_releases/data_release_beta4_standard/textbook_images/recent_space_exploration_20363.png\n",
      "../dataset_releases/data_release_beta4_standard/textbook_images/cell_structures_21578.png\n",
      "../dataset_releases/data_release_beta4_standard/textbook_images/cell_division_21599.png\n",
      "../dataset_releases/data_release_beta4_standard/textbook_images/coastal_pollution_20671.png\n",
      "../dataset_releases/data_release_beta4_standard/textbook_images/volcanic_landforms_21210.png\n",
      "../dataset_releases/data_release_beta4_standard/textbook_images/landforms_from_erosion_and_deposition_by_gravity_20884.png\n",
      "../dataset_releases/data_release_beta4_standard/textbook_images/introduction_to_chemical_bonds_22590.png\n",
      "../dataset_releases/data_release_beta4_standard/textbook_images/radiometric_dating_21062.png\n",
      "../dataset_releases/data_release_beta4_standard/textbook_images/storms_20169.png\n",
      "../dataset_releases/data_release_beta4_standard/textbook_images/erosion_and_deposition_by_flowing_water_20018.png\n",
      "../dataset_releases/data_release_beta4_standard/textbook_images/animal_communication_21704.png\n",
      "../dataset_releases/data_release_beta4_standard/textbook_images/touch_22172.png\n",
      "../dataset_releases/data_release_beta4_standard/textbook_images/air_movement_20155.png\n",
      "../dataset_releases/data_release_beta4_standard/textbook_images/causes_of_air_pollution_20644.png\n",
      "../dataset_releases/data_release_beta4_standard/textbook_images/soil_erosion_21121.png\n",
      "../dataset_releases/data_release_beta4_standard/textbook_images/electromagnetic_spectrum_22802.png\n",
      "../dataset_releases/data_release_beta4_standard/textbook_images/composition_of_the_atmosphere_20678.png\n",
      "../dataset_releases/data_release_beta4_standard/textbook_images/diseases_of_the_nervous_system_21808.png\n",
      "../dataset_releases/data_release_beta4_standard/textbook_images/telescopes_20345.png\n",
      "../dataset_releases/data_release_beta4_standard/textbook_images/soils_20593.png\n",
      "../dataset_releases/data_release_beta4_standard/textbook_images/what_is_force_22255.png\n",
      "../dataset_releases/data_release_beta4_standard/textbook_images/surface_water_20092.png\n",
      "../dataset_releases/data_release_beta4_standard/textbook_images/weathering_20588.png\n",
      "../dataset_releases/data_release_beta4_standard/textbook_images/reproduction_and_life_stages_21510.png\n",
      "../dataset_releases/data_release_beta4_standard/textbook_images/storms_20170.png\n",
      "../dataset_releases/data_release_beta4_standard/textbook_images/earthquake_safe_structures_20707.png\n",
      "../dataset_releases/data_release_beta4_standard/textbook_images/the_nature_of_science_20008.png\n",
      "../dataset_releases/data_release_beta4_standard/textbook_images/landforms_from_glacial_erosion_and_deposition_20887.png\n",
      "../dataset_releases/data_release_beta4_standard/textbook_images/urinary_system_22192.png\n",
      "../dataset_releases/data_release_beta4_standard/textbook_images/distance_between_stars_20691.png\n",
      "../dataset_releases/data_release_beta4_standard/textbook_images/agriculture_and_human_population_growth_20612.png\n",
      "../dataset_releases/data_release_beta4_standard/textbook_images/intrusive_and_extrusive_igneous_rocks_20873.png\n",
      "../dataset_releases/data_release_beta4_standard/textbook_images/galaxies_20798.png\n",
      "../dataset_releases/data_release_beta4_standard/textbook_images/law_of_reflection_22917.png\n",
      "../dataset_releases/data_release_beta4_standard/textbook_images/the_endocrine_system_21483.png\n",
      "../dataset_releases/data_release_beta4_standard/textbook_images/volcano_characteristics_21218.png\n",
      "../dataset_releases/data_release_beta4_standard/textbook_images/inner_planets_20392.png\n",
      "../dataset_releases/data_release_beta4_standard/textbook_images/solute_and_solvent_23087.png\n",
      "../dataset_releases/data_release_beta4_standard/textbook_images/reproductive_behavior_of_animals_22105.png\n",
      "../dataset_releases/data_release_beta4_standard/textbook_images/types_of_rocks_20469.png\n",
      "../dataset_releases/data_release_beta4_standard/textbook_images/mineral_groups_20956.png\n",
      "../dataset_releases/data_release_beta4_standard/textbook_images/wegener_and_the_continental_drift_hypothesis_21244.png\n",
      "../dataset_releases/data_release_beta4_standard/textbook_images/optical_instruments_22996.png\n",
      "../dataset_releases/data_release_beta4_standard/textbook_images/vision_22460.png\n",
      "../dataset_releases/data_release_beta4_standard/textbook_images/types_of_matter_22524.png\n",
      "../dataset_releases/data_release_beta4_standard/textbook_images/mineral_groups_20955.png\n",
      "../dataset_releases/data_release_beta4_standard/textbook_images/predicting_weather_21046.png\n",
      "../dataset_releases/data_release_beta4_standard/textbook_images/intensity_and_loudness_of_sound_22899.png\n",
      "../dataset_releases/data_release_beta4_standard/textbook_images/the_digestive_system_21427.png\n",
      "../dataset_releases/data_release_beta4_standard/textbook_images/first_two_lines_of_defense_21496.png\n",
      "../dataset_releases/data_release_beta4_standard/textbook_images/human_skeletal_system_21892.png\n",
      "../dataset_releases/data_release_beta4_standard/textbook_images/introduction_to_earths_surface_20247.png\n",
      "../dataset_releases/data_release_beta4_standard/textbook_images/using_electromagnetism_22505.png\n",
      "../dataset_releases/data_release_beta4_standard/textbook_images/mammals_21371.png\n",
      "../dataset_releases/data_release_beta4_standard/textbook_images/buoyancy_of_fluids_22303.png\n",
      "../dataset_releases/data_release_beta4_standard/textbook_images/types_of_soils_21190.png\n",
      "../dataset_releases/data_release_beta4_standard/textbook_images/atomic_nucleus_22673.png\n",
      "../dataset_releases/data_release_beta4_standard/textbook_images/uranus_21200.png\n",
      "../dataset_releases/data_release_beta4_standard/textbook_images/galaxies_20438.png\n",
      "../dataset_releases/data_release_beta4_standard/textbook_images/origin_of_species_22033.png\n",
      "../dataset_releases/data_release_beta4_standard/textbook_images/types_of_matter_22527.png\n",
      "../dataset_releases/data_release_beta4_standard/textbook_images/saturated_hydrocarbons_23060.png\n",
      "../dataset_releases/data_release_beta4_standard/textbook_images/inner_planets_20393.png\n",
      "../dataset_releases/data_release_beta4_standard/textbook_images/static_electricity_and_static_discharge_23101.png\n",
      "../dataset_releases/data_release_beta4_standard/textbook_images/cellular_respiration_21597.png\n",
      "../dataset_releases/data_release_beta4_standard/textbook_images/stress_in_earths_crust_20539.png\n",
      "../dataset_releases/data_release_beta4_standard/textbook_images/origins_of_life_22034.png\n",
      "../dataset_releases/data_release_beta4_standard/textbook_images/connecting_cellular_respiration_and_photosynthesis_21791.png\n",
      "../dataset_releases/data_release_beta4_standard/textbook_images/introduction_to_earths_surface_20243.png\n",
      "../dataset_releases/data_release_beta4_standard/textbook_images/molecular_evidence_for_evolution_21994.png\n",
      "../dataset_releases/data_release_beta4_standard/textbook_images/darwins_theory_of_evolution_21640.png\n",
      "../dataset_releases/data_release_beta4_standard/textbook_images/flooding_20774.png\n",
      "../dataset_releases/data_release_beta4_standard/textbook_images/modern_atomic_theory_22574.png\n",
      "../dataset_releases/data_release_beta4_standard/textbook_images/precipitation_21040.png\n",
      "../dataset_releases/data_release_beta4_standard/textbook_images/autoimmune_diseases_21717.png\n",
      "../dataset_releases/data_release_beta4_standard/textbook_images/weather_and_water_in_the_atmosphere_20156.png\n",
      "../dataset_releases/data_release_beta4_standard/textbook_images/human_genome_project_21890.png\n",
      "../dataset_releases/data_release_beta4_standard/textbook_images/compound_machines_22329.png\n",
      "../dataset_releases/data_release_beta4_standard/textbook_images/mollusks_and_annelids_21319.png\n",
      "../dataset_releases/data_release_beta4_standard/textbook_images/bacteria_characteristics_21722.png\n",
      "../dataset_releases/data_release_beta4_standard/textbook_images/outer_planets_20405.png\n",
      "../dataset_releases/data_release_beta4_standard/textbook_images/the_integumentary_system_21402.png\n",
      "../dataset_releases/data_release_beta4_standard/textbook_images/muscles_bones_and_movement_22001.png\n",
      "../dataset_releases/data_release_beta4_standard/textbook_images/electromagnetic_induction_22801.png\n",
      "../dataset_releases/data_release_beta4_standard/textbook_images/surface_wave_23103.png\n",
      "../dataset_releases/data_release_beta4_standard/textbook_images/mammal_characteristics_21967.png\n",
      "../dataset_releases/data_release_beta4_standard/textbook_images/asexual_vs._sexual_reproduction_21714.png\n",
      "../dataset_releases/data_release_beta4_standard/textbook_images/tree_rings_ice_cores_and_varves_21173.png\n",
      "../dataset_releases/data_release_beta4_standard/textbook_images/mollusks_and_annelids_21323.png\n",
      "../dataset_releases/data_release_beta4_standard/textbook_images/sponges_and_cnidarians_21306.png\n",
      "../dataset_releases/data_release_beta4_standard/textbook_images/seafloor_spreading_20503.png\n",
      "../dataset_releases/data_release_beta4_standard/textbook_images/the_digestive_system_21428.png\n",
      "../dataset_releases/data_release_beta4_standard/textbook_images/animal_communication_21705.png\n",
      "../dataset_releases/data_release_beta4_standard/textbook_images/cell_cycle_21758.png\n",
      "../dataset_releases/data_release_beta4_standard/textbook_images/inside_earth_20496.png\n",
      "../dataset_releases/data_release_beta4_standard/textbook_images/types_of_soils_21189.png\n",
      "../dataset_releases/data_release_beta4_standard/textbook_images/modern_atomic_theory_22573.png\n",
      "../dataset_releases/data_release_beta4_standard/textbook_images/wegener_and_the_continental_drift_hypothesis_21245.png\n",
      "../dataset_releases/data_release_beta4_standard/textbook_images/buoyancy_of_fluids_22304.png\n",
      "../dataset_releases/data_release_beta4_standard/textbook_images/storms_20171.png\n",
      "../dataset_releases/data_release_beta4_standard/textbook_images/inside_the_atom_22561.png\n",
      "../dataset_releases/data_release_beta4_standard/textbook_images/seafloor_spreading_20506.png\n",
      "../dataset_releases/data_release_beta4_standard/textbook_images/compound_machine_22737.png\n",
      "../dataset_releases/data_release_beta4_standard/textbook_images/ecosystems_20211.png\n",
      "../dataset_releases/data_release_beta4_standard/textbook_images/nitrogen_cycle_in_ecosystems_20987.png\n",
      "../dataset_releases/data_release_beta4_standard/textbook_images/optics_22455.png\n",
      "../dataset_releases/data_release_beta4_standard/textbook_images/distance_and_direction_22244.png\n",
      "../dataset_releases/data_release_beta4_standard/textbook_images/electrons_22818.png\n",
      "../dataset_releases/data_release_beta4_standard/textbook_images/speed_and_velocity_22249.png\n",
      "../dataset_releases/data_release_beta4_standard/textbook_images/history_of_the_atom_22569.png\n",
      "../dataset_releases/data_release_beta4_standard/textbook_images/chordates_21779.png\n",
      "../dataset_releases/data_release_beta4_standard/textbook_images/compounds_22742.png\n",
      "../dataset_releases/data_release_beta4_standard/textbook_images/landforms_from_groundwater_erosion_and_deposition_20895.png\n",
      "../dataset_releases/data_release_beta4_standard/textbook_images/long_term_climate_change_20911.png\n",
      "../dataset_releases/data_release_beta4_standard/textbook_images/angiosperms_21699.png\n",
      "../dataset_releases/data_release_beta4_standard/textbook_images/communication_in_science_22736.png\n",
      "../dataset_releases/data_release_beta4_standard/textbook_images/earthquakes_at_convergent_plate_boundaries_20713.png\n",
      "../dataset_releases/data_release_beta4_standard/textbook_images/types_of_energy_22335.png\n",
      "../dataset_releases/data_release_beta4_standard/textbook_images/stars_20430.png\n",
      "../dataset_releases/data_release_beta4_standard/textbook_images/classes_of_elements_22583.png\n",
      "../dataset_releases/data_release_beta4_standard/textbook_images/what_are_animals_21291.png\n",
      "../dataset_releases/data_release_beta4_standard/textbook_images/food_and_nutrients_21418.png\n",
      "../dataset_releases/data_release_beta4_standard/textbook_images/visible_light_and_matter_23156.png\n",
      "../dataset_releases/data_release_beta4_standard/textbook_images/compound_machine_22738.png\n",
      "../dataset_releases/data_release_beta4_standard/textbook_images/groups_of_elements_22588.png\n",
      "../dataset_releases/data_release_beta4_standard/textbook_images/process_of_cellular_respiration_22084.png\n",
      "../dataset_releases/data_release_beta4_standard/textbook_images/soils_20596.png\n",
      "../dataset_releases/data_release_beta4_standard/textbook_images/wave_frequency_23164.png\n",
      "../dataset_releases/data_release_beta4_standard/textbook_images/the_universe_20441.png\n",
      "../dataset_releases/data_release_beta4_standard/textbook_images/how_elements_are_organized_22579.png\n",
      "../dataset_releases/data_release_beta4_standard/textbook_images/optics_22444.png\n",
      "../dataset_releases/data_release_beta4_standard/textbook_images/friction_22854.png\n",
      "../dataset_releases/data_release_beta4_standard/textbook_images/muscles_and_exercise_22000.png\n",
      "../dataset_releases/data_release_beta4_standard/textbook_images/sponges_and_cnidarians_21307.png\n",
      "../dataset_releases/data_release_beta4_standard/textbook_images/ecosystem_change_21550.png\n",
      "../dataset_releases/data_release_beta4_standard/textbook_images/ionic_bonds_22592.png\n",
      "../dataset_releases/data_release_beta4_standard/textbook_images/nitrogen_cycle_in_ecosystems_20986.png\n",
      "../dataset_releases/data_release_beta4_standard/textbook_images/electromagnetic_waves_22804.png\n",
      "../dataset_releases/data_release_beta4_standard/textbook_images/ecosystems_20214.png\n",
      "../dataset_releases/data_release_beta4_standard/textbook_images/evidence_for_evolution_21643.png\n",
      "../dataset_releases/data_release_beta4_standard/textbook_images/big_bang_20631.png\n",
      "../dataset_releases/data_release_beta4_standard/textbook_images/acids_and_bases_22216.png\n",
      "../dataset_releases/data_release_beta4_standard/textbook_images/archaea_21676.png\n",
      "../dataset_releases/data_release_beta4_standard/textbook_images/metalloids_22947.png\n",
      "../dataset_releases/data_release_beta4_standard/textbook_images/physical_change_23014.png\n",
      "../dataset_releases/data_release_beta4_standard/textbook_images/pressure_of_fluids_22295.png\n",
      "../dataset_releases/data_release_beta4_standard/textbook_images/outer_planets_20411.png\n",
      "../dataset_releases/data_release_beta4_standard/textbook_images/ozone_depletion_21017.png\n",
      "../dataset_releases/data_release_beta4_standard/textbook_images/adulthood_and_aging_21696.png\n",
      "../dataset_releases/data_release_beta4_standard/textbook_images/unsaturated_hydrocarbons_23141.png\n",
      "../dataset_releases/data_release_beta4_standard/textbook_images/mass_extinctions_21975.png\n",
      "../dataset_releases/data_release_beta4_standard/textbook_images/fossil_fuel_formation_20789.png\n",
      "../dataset_releases/data_release_beta4_standard/textbook_images/reproduction_in_seedless_plants_22102.png\n",
      "../dataset_releases/data_release_beta4_standard/textbook_images/venus_21208.png\n",
      "../dataset_releases/data_release_beta4_standard/textbook_images/cell_division_21604.png\n",
      "../dataset_releases/data_release_beta4_standard/textbook_images/satellites_shuttles_and_space_stations_21082.png\n",
      "../dataset_releases/data_release_beta4_standard/textbook_images/color_22731.png\n",
      "../dataset_releases/data_release_beta4_standard/textbook_images/air_movement_20153.png\n",
      "../dataset_releases/data_release_beta4_standard/textbook_images/human_causes_of_extinction_21887.png\n",
      "../dataset_releases/data_release_beta4_standard/textbook_images/stress_in_earths_crust_20538.png\n",
      "../dataset_releases/data_release_beta4_standard/textbook_images/tornadoes_21169.png\n",
      "../dataset_releases/data_release_beta4_standard/textbook_images/outer_planets_20408.png\n",
      "../dataset_releases/data_release_beta4_standard/textbook_images/recent_space_exploration_20358.png\n",
      "../dataset_releases/data_release_beta4_standard/textbook_images/sources_of_visible_light_23097.png\n",
      "../dataset_releases/data_release_beta4_standard/textbook_images/earthquake_characteristics_20702.png\n",
      "../dataset_releases/data_release_beta4_standard/textbook_images/combining_forces_22733.png\n",
      "../dataset_releases/data_release_beta4_standard/textbook_images/preserving_water_sources_22076.png\n",
      "../dataset_releases/data_release_beta4_standard/textbook_images/optical_instruments_22998.png\n",
      "../dataset_releases/data_release_beta4_standard/textbook_images/insects_and_other_arthropods_21324.png\n",
      "../dataset_releases/data_release_beta4_standard/textbook_images/nuclear_power_20991.png\n",
      "../dataset_releases/data_release_beta4_standard/textbook_images/choosing_healthy_foods_21777.png\n",
      "../dataset_releases/data_release_beta4_standard/textbook_images/amontonss_law_22663.png\n",
      "../dataset_releases/data_release_beta4_standard/textbook_images/pressure_of_fluids_22293.png\n",
      "../dataset_releases/data_release_beta4_standard/textbook_images/peripheral_nervous_system_22050.png\n",
      "../dataset_releases/data_release_beta4_standard/textbook_images/modeling_earths_surface_20258.png\n",
      "../dataset_releases/data_release_beta4_standard/textbook_images/the_electromagnetic_spectrum_22430.png\n",
      "../dataset_releases/data_release_beta4_standard/textbook_images/protist_characteristics_22090.png\n",
      "../dataset_releases/data_release_beta4_standard/textbook_images/blood_pressure_21740.png\n",
      "../dataset_releases/data_release_beta4_standard/textbook_images/first_two_lines_of_defense_21494.png\n",
      "../dataset_releases/data_release_beta4_standard/textbook_images/exoplanets_20755.png\n",
      "../dataset_releases/data_release_beta4_standard/textbook_images/erosion_and_deposition_by_wind_20039.png\n",
      "../dataset_releases/data_release_beta4_standard/textbook_images/identification_of_minerals_20452.png\n",
      "../dataset_releases/data_release_beta4_standard/textbook_images/types_of_energy_22334.png\n",
      "../dataset_releases/data_release_beta4_standard/textbook_images/staying_safe_in_earthquakes_20561.png\n",
      "../dataset_releases/data_release_beta4_standard/textbook_images/asteroids_20616.png\n",
      "../dataset_releases/data_release_beta4_standard/textbook_images/ocean_garbage_patch_21005.png\n",
      "../dataset_releases/data_release_beta4_standard/textbook_images/finding_and_mining_ores_20770.png\n",
      "../dataset_releases/data_release_beta4_standard/textbook_images/protecting_the_water_supply_20313.png\n",
      "../dataset_releases/data_release_beta4_standard/textbook_images/groundwater_20103.png\n",
      "../dataset_releases/data_release_beta4_standard/textbook_images/fungi_21689.png\n",
      "../dataset_releases/data_release_beta4_standard/textbook_images/touch_22171.png\n",
      "../dataset_releases/data_release_beta4_standard/textbook_images/introduction_to_prokaryotes_21662.png\n",
      "../dataset_releases/data_release_beta4_standard/textbook_images/mendels_pea_plants_21981.png\n",
      "../dataset_releases/data_release_beta4_standard/textbook_images/simple_machines_23078.png\n",
      "../dataset_releases/data_release_beta4_standard/textbook_images/bird_reproduction_21734.png\n",
      "../dataset_releases/data_release_beta4_standard/textbook_images/newtons_first_law_22283.png\n",
      "../dataset_releases/data_release_beta4_standard/textbook_images/forms_of_energy_22845.png\n",
      "../dataset_releases/data_release_beta4_standard/textbook_images/reptiles_21352.png\n",
      "../dataset_releases/data_release_beta4_standard/textbook_images/echinoderms_21816.png\n",
      "../dataset_releases/data_release_beta4_standard/textbook_images/metallic_bonds_22605.png\n",
      "../dataset_releases/data_release_beta4_standard/textbook_images/arthropods_21712.png\n",
      "../dataset_releases/data_release_beta4_standard/textbook_images/what_is_science_22206.png\n",
      "../dataset_releases/data_release_beta4_standard/textbook_images/segmented_worms_22135.png\n",
      "../dataset_releases/data_release_beta4_standard/textbook_images/central_nervous_system_21766.png\n",
      "../dataset_releases/data_release_beta4_standard/textbook_images/gamma_decay_22858.png\n",
      "../dataset_releases/data_release_beta4_standard/textbook_images/introduction_to_genetics_21626.png\n",
      "../dataset_releases/data_release_beta4_standard/textbook_images/metamorphic_rocks_20483.png\n",
      "../dataset_releases/data_release_beta4_standard/textbook_images/nuclear_fission_22984.png\n",
      "../dataset_releases/data_release_beta4_standard/textbook_images/evidence_for_evolution_21644.png\n",
      "../dataset_releases/data_release_beta4_standard/textbook_images/vision_correction_22202.png\n",
      "../dataset_releases/data_release_beta4_standard/textbook_images/keeping_skin_healthy_21940.png\n",
      "../dataset_releases/data_release_beta4_standard/textbook_images/organization_of_living_things_22027.png\n",
      "../dataset_releases/data_release_beta4_standard/textbook_images/human_vision_21898.png\n",
      "../dataset_releases/data_release_beta4_standard/textbook_images/inside_earth_20498.png\n",
      "../dataset_releases/data_release_beta4_standard/textbook_images/introduction_to_chemical_reactions_22607.png\n",
      "../dataset_releases/data_release_beta4_standard/textbook_images/reproduction_and_life_stages_21508.png\n",
      "../dataset_releases/data_release_beta4_standard/textbook_images/introduction_to_prokaryotes_21664.png\n",
      "../dataset_releases/data_release_beta4_standard/textbook_images/the_nature_of_science_20007.png\n",
      "../dataset_releases/data_release_beta4_standard/textbook_images/diseases_of_the_nervous_system_21805.png\n",
      "../dataset_releases/data_release_beta4_standard/textbook_images/water_pollution_20304.png\n",
      "../dataset_releases/data_release_beta4_standard/textbook_images/forms_of_energy_22844.png\n",
      "../dataset_releases/data_release_beta4_standard/textbook_images/power_23027.png\n",
      "../dataset_releases/data_release_beta4_standard/textbook_images/carbon_and_living_things_22639.png\n",
      "../dataset_releases/data_release_beta4_standard/textbook_images/erosion_and_deposition_by_glaciers_20045.png\n",
      "../dataset_releases/data_release_beta4_standard/textbook_images/wind_power_21247.png\n",
      "../dataset_releases/data_release_beta4_standard/textbook_images/isotopes_22911.png\n",
      "../dataset_releases/data_release_beta4_standard/textbook_images/features_of_populations_21827.png\n",
      "../dataset_releases/data_release_beta4_standard/textbook_images/solar_power_21128.png\n",
      "../dataset_releases/data_release_beta4_standard/textbook_images/theory_of_plate_tectonics_20518.png\n",
      "../dataset_releases/data_release_beta4_standard/textbook_images/earthquake_safe_structures_20706.png\n",
      "../dataset_releases/data_release_beta4_standard/textbook_images/short_term_climate_change_21111.png\n",
      "../dataset_releases/data_release_beta4_standard/textbook_images/habitat_destruction_21871.png\n",
      "../dataset_releases/data_release_beta4_standard/textbook_images/galaxies_20796.png\n",
      "../dataset_releases/data_release_beta4_standard/textbook_images/fossils_20051.png\n",
      "../dataset_releases/data_release_beta4_standard/textbook_images/forms_of_energy_22340.png\n",
      "../dataset_releases/data_release_beta4_standard/textbook_images/ocean_life_20131.png\n",
      "../dataset_releases/data_release_beta4_standard/textbook_images/technology_and_science_23107.png\n",
      "../dataset_releases/data_release_beta4_standard/textbook_images/excretory_system_problems_21825.png\n",
      "../dataset_releases/data_release_beta4_standard/textbook_images/climate_and_its_causes_20184.png\n",
      "../dataset_releases/data_release_beta4_standard/textbook_images/galaxies_20432.png\n",
      "../dataset_releases/data_release_beta4_standard/textbook_images/plant_cell_structures_22054.png\n",
      "../dataset_releases/data_release_beta4_standard/textbook_images/archaea_21710.png\n",
      "../dataset_releases/data_release_beta4_standard/textbook_images/ecosystems_20209.png\n",
      "../dataset_releases/data_release_beta4_standard/textbook_images/properties_of_solutions_23041.png\n",
      "../dataset_releases/data_release_beta4_standard/textbook_images/enzymes_as_catalysts_22831.png\n",
      "../dataset_releases/data_release_beta4_standard/textbook_images/compound_machines_22330.png\n",
      "../dataset_releases/data_release_beta4_standard/textbook_images/planet_earth_20374.png\n",
      "../dataset_releases/data_release_beta4_standard/textbook_images/outer_planets_20407.png\n",
      "../dataset_releases/data_release_beta4_standard/textbook_images/introduction_to_the_solar_system_20391.png\n",
      "../dataset_releases/data_release_beta4_standard/textbook_images/energy_resources_22353.png\n",
      "../dataset_releases/data_release_beta4_standard/textbook_images/saturn_21088.png\n",
      "../dataset_releases/data_release_beta4_standard/textbook_images/theory_of_plate_tectonics_20520.png\n",
      "../dataset_releases/data_release_beta4_standard/textbook_images/inertia_22896.png\n",
      "../dataset_releases/data_release_beta4_standard/textbook_images/hydrogen_and_alkali_metals_22889.png\n",
      "../dataset_releases/data_release_beta4_standard/textbook_images/seafloor_spreading_hypothesis_21094.png\n",
      "../dataset_releases/data_release_beta4_standard/textbook_images/levels_of_ecological_organization_21950.png\n",
      "../dataset_releases/data_release_beta4_standard/textbook_images/turtles_22183.png\n",
      "../dataset_releases/data_release_beta4_standard/textbook_images/origin_of_species_22032.png\n",
      "../dataset_releases/data_release_beta4_standard/textbook_images/accuracy_and_precision_22653.png\n",
      "../dataset_releases/data_release_beta4_standard/textbook_images/measuring_and_predicting_earthquakes_20557.png\n",
      "../dataset_releases/data_release_beta4_standard/textbook_images/projectile_motion_23031.png\n",
      "../dataset_releases/data_release_beta4_standard/textbook_images/scope_of_chemistry_23071.png\n",
      "../dataset_releases/data_release_beta4_standard/textbook_images/hearing_and_the_ear_22873.png\n",
      "../dataset_releases/data_release_beta4_standard/textbook_images/mass_extinctions_21974.png\n",
      "../dataset_releases/data_release_beta4_standard/textbook_images/history_of_science_22885.png\n",
      "../dataset_releases/data_release_beta4_standard/textbook_images/simple_machines_23079.png\n",
      "../dataset_releases/data_release_beta4_standard/textbook_images/avoiding_soil_loss_20623.png\n",
      "../dataset_releases/data_release_beta4_standard/textbook_images/lipid_classification_22927.png\n",
      "../dataset_releases/data_release_beta4_standard/textbook_images/scope_of_physics_23073.png\n",
      "../dataset_releases/data_release_beta4_standard/textbook_images/coal_power_20670.png\n",
      "../dataset_releases/data_release_beta4_standard/textbook_images/local_winds_20905.png\n",
      "../dataset_releases/data_release_beta4_standard/textbook_images/types_of_marine_organisms_21184.png\n",
      "../dataset_releases/data_release_beta4_standard/textbook_images/science_skills_22400.png\n",
      "../dataset_releases/data_release_beta4_standard/textbook_images/volcanic_eruptions_20575.png\n",
      "../dataset_releases/data_release_beta4_standard/textbook_images/birds_21738.png\n",
      "../dataset_releases/data_release_beta4_standard/textbook_images/light_22923.png\n",
      "../dataset_releases/data_release_beta4_standard/textbook_images/soil_erosion_21118.png\n",
      "../dataset_releases/data_release_beta4_standard/textbook_images/electromagnetic_energy_in_the_atmosphere_20740.png\n",
      "../dataset_releases/data_release_beta4_standard/textbook_images/pascals_law_23004.png\n",
      "../dataset_releases/data_release_beta4_standard/textbook_images/weather_forecasting_20181.png\n",
      "../dataset_releases/data_release_beta4_standard/textbook_images/ferromagnetic_material_22839.png\n",
      "../dataset_releases/data_release_beta4_standard/textbook_images/mineral_formation_20947.png\n",
      "../dataset_releases/data_release_beta4_standard/textbook_images/deposition_22766.png\n",
      "../dataset_releases/data_release_beta4_standard/textbook_images/types_of_matter_22523.png\n",
      "../dataset_releases/data_release_beta4_standard/textbook_images/wheel_and_axle_23178.png\n",
      "../dataset_releases/data_release_beta4_standard/textbook_images/atomic_number_22674.png\n",
      "../dataset_releases/data_release_beta4_standard/textbook_images/precipitation_21039.png\n",
      "../dataset_releases/data_release_beta4_standard/textbook_images/characteristics_of_living_organisms_21454.png\n",
      "../dataset_releases/data_release_beta4_standard/textbook_images/covalent_bonding_22752.png\n",
      "../dataset_releases/data_release_beta4_standard/textbook_images/solids_liquids_gases_and_plasmas_22541.png\n",
      "../dataset_releases/data_release_beta4_standard/textbook_images/generating_and_using_electricity_22508.png\n",
      "../dataset_releases/data_release_beta4_standard/textbook_images/diabetes_21799.png\n",
      "../dataset_releases/data_release_beta4_standard/textbook_images/how_animals_evolved_21303.png\n",
      "../dataset_releases/data_release_beta4_standard/textbook_images/mineral_formation_20946.png\n",
      "../dataset_releases/data_release_beta4_standard/textbook_images/scientific_process_23069.png\n",
      "../dataset_releases/data_release_beta4_standard/textbook_images/solids_23084.png\n",
      "../dataset_releases/data_release_beta4_standard/textbook_images/volcanoes_at_hotspots_21220.png\n",
      "../dataset_releases/data_release_beta4_standard/textbook_images/outer_planets_20413.png\n",
      "../dataset_releases/data_release_beta4_standard/textbook_images/mammal_classification_21968.png\n",
      "../dataset_releases/data_release_beta4_standard/textbook_images/projectile_motion_23032.png\n",
      "../dataset_releases/data_release_beta4_standard/textbook_images/volcanic_eruptions_20571.png\n",
      "../dataset_releases/data_release_beta4_standard/textbook_images/galaxies_20799.png\n",
      "../dataset_releases/data_release_beta4_standard/textbook_images/sponges_and_cnidarians_21313.png\n",
      "../dataset_releases/data_release_beta4_standard/textbook_images/color_22732.png\n",
      "../dataset_releases/data_release_beta4_standard/textbook_images/fossils_21846.png\n",
      "../dataset_releases/data_release_beta4_standard/textbook_images/stars_20429.png\n",
      "../dataset_releases/data_release_beta4_standard/textbook_images/magnetic_field_reversal_22935.png\n",
      "../dataset_releases/data_release_beta4_standard/textbook_images/storms_20167.png\n",
      "../dataset_releases/data_release_beta4_standard/textbook_images/reproduction_21611.png\n",
      "../dataset_releases/data_release_beta4_standard/textbook_images/biochemical_compound_classification_22679.png\n",
      "../dataset_releases/data_release_beta4_standard/textbook_images/speed_and_velocity_22245.png\n",
      "../dataset_releases/data_release_beta4_standard/textbook_images/reducing_ozone_destruction_21067.png\n",
      "../dataset_releases/data_release_beta4_standard/textbook_images/thunderstorms_21158.png\n",
      "../dataset_releases/data_release_beta4_standard/textbook_images/newtons_second_law_22976.png\n",
      "../dataset_releases/data_release_beta4_standard/textbook_images/choosing_healthy_foods_21423.png\n",
      "../dataset_releases/data_release_beta4_standard/textbook_images/erosion_and_deposition_by_wind_20040.png\n",
      "../dataset_releases/data_release_beta4_standard/textbook_images/characteristics_of_waves_22377.png\n",
      "../dataset_releases/data_release_beta4_standard/textbook_images/meteors_20941.png\n",
      "../dataset_releases/data_release_beta4_standard/textbook_images/lever_22921.png\n",
      "../dataset_releases/data_release_beta4_standard/textbook_images/measuring_waves_22381.png\n",
      "../dataset_releases/data_release_beta4_standard/textbook_images/importance_of_protists_21915.png\n",
      "../dataset_releases/data_release_beta4_standard/textbook_images/primates_21374.png\n",
      "../dataset_releases/data_release_beta4_standard/textbook_images/types_of_animal_behavior_21388.png\n",
      "../dataset_releases/data_release_beta4_standard/textbook_images/gases_22862.png\n",
      "../dataset_releases/data_release_beta4_standard/textbook_images/primates_22083.png\n",
      "../dataset_releases/data_release_beta4_standard/textbook_images/scientific_measuring_devices_23067.png\n",
      "../dataset_releases/data_release_beta4_standard/textbook_images/energy_conservation_20744.png\n",
      "../dataset_releases/data_release_beta4_standard/textbook_images/electric_fields_22788.png\n",
      "../dataset_releases/data_release_beta4_standard/textbook_images/groundwater_aquifers_20817.png\n",
      "../dataset_releases/data_release_beta4_standard/textbook_images/distance_and_direction_22243.png\n",
      "../dataset_releases/data_release_beta4_standard/textbook_images/work_22308.png\n",
      "../dataset_releases/data_release_beta4_standard/textbook_images/introduction_to_genetics_21631.png\n",
      "../dataset_releases/data_release_beta4_standard/textbook_images/mollusks_21997.png\n",
      "../dataset_releases/data_release_beta4_standard/textbook_images/pascals_law_23005.png\n",
      "../dataset_releases/data_release_beta4_standard/textbook_images/erosion_and_deposition_by_gravity_20048.png\n",
      "../dataset_releases/data_release_beta4_standard/textbook_images/climate_change_20198.png\n",
      "../dataset_releases/data_release_beta4_standard/textbook_images/nature_of_science_22966.png\n",
      "../dataset_releases/data_release_beta4_standard/textbook_images/health_hazards_of_air_pollution_21873.png\n",
      "../dataset_releases/data_release_beta4_standard/textbook_images/ponds_and_lakes_21030.png\n",
      "../dataset_releases/data_release_beta4_standard/textbook_images/soil_characteristics_21115.png\n",
      "../dataset_releases/data_release_beta4_standard/textbook_images/neptune_20984.png\n",
      "../dataset_releases/data_release_beta4_standard/textbook_images/outer_planets_20404.png\n",
      "../dataset_releases/data_release_beta4_standard/textbook_images/theory_of_plate_tectonics_20508.png\n",
      "../dataset_releases/data_release_beta4_standard/textbook_images/biodiversity_and_extinction_21567.png\n",
      "../dataset_releases/data_release_beta4_standard/textbook_images/technology_and_society_23111.png\n",
      "../dataset_releases/data_release_beta4_standard/textbook_images/water_pollution_20309.png\n",
      "../dataset_releases/data_release_beta4_standard/textbook_images/pressure_of_fluids_22297.png\n",
      "../dataset_releases/data_release_beta4_standard/textbook_images/climate_and_its_causes_20182.png\n",
      "../dataset_releases/data_release_beta4_standard/textbook_images/evolution_plate_tectonics_and_climate_change_20754.png\n",
      "../dataset_releases/data_release_beta4_standard/textbook_images/covalent_bonds_22597.png\n",
      "../dataset_releases/data_release_beta4_standard/textbook_images/electric_current_22474.png\n",
      "../dataset_releases/data_release_beta4_standard/textbook_images/erosion_and_deposition_by_flowing_water_20026.png\n",
      "../dataset_releases/data_release_beta4_standard/textbook_images/ecosystems_20215.png\n",
      "../dataset_releases/data_release_beta4_standard/textbook_images/human_evolution_20850.png\n",
      "../dataset_releases/data_release_beta4_standard/textbook_images/igneous_rocks_20853.png\n",
      "../dataset_releases/data_release_beta4_standard/textbook_images/avoiding_soil_loss_20625.png\n",
      "../dataset_releases/data_release_beta4_standard/textbook_images/simple_machines_23076.png\n",
      "../dataset_releases/data_release_beta4_standard/textbook_images/the_scale_of_evolution_21652.png\n",
      "../dataset_releases/data_release_beta4_standard/textbook_images/flooding_20776.png\n",
      "../dataset_releases/data_release_beta4_standard/textbook_images/chemistry_of_life_21772.png\n",
      "../dataset_releases/data_release_beta4_standard/textbook_images/transition_metals_23127.png\n",
      "../dataset_releases/data_release_beta4_standard/textbook_images/temperature_23113.png\n",
      "../dataset_releases/data_release_beta4_standard/textbook_images/modeling_earths_surface_20260.png\n",
      "../dataset_releases/data_release_beta4_standard/textbook_images/dwarf_planets_20696.png\n",
      "../dataset_releases/data_release_beta4_standard/textbook_images/hearing_and_the_ear_22874.png\n",
      "../dataset_releases/data_release_beta4_standard/textbook_images/sedimentary_rocks_20479.png\n",
      "../dataset_releases/data_release_beta4_standard/textbook_images/wave_interactions_and_interference_22390.png\n",
      "../dataset_releases/data_release_beta4_standard/textbook_images/inflammatory_response_21921.png\n",
      "../dataset_releases/data_release_beta4_standard/textbook_images/volcanoes_at_plate_boundaries_21223.png\n",
      "../dataset_releases/data_release_beta4_standard/textbook_images/electric_charge_22469.png\n",
      "../dataset_releases/data_release_beta4_standard/textbook_images/flooding_20777.png\n",
      "../dataset_releases/data_release_beta4_standard/textbook_images/jupiter_20877.png\n",
      "../dataset_releases/data_release_beta4_standard/textbook_images/effects_of_air_pollution_20331.png\n",
      "../dataset_releases/data_release_beta4_standard/textbook_images/safety_in_life_science_research_21262.png\n",
      "../dataset_releases/data_release_beta4_standard/textbook_images/communities_21531.png\n",
      "../dataset_releases/data_release_beta4_standard/textbook_images/bathymetric_evidence_for_seafloor_spreading_20628.png\n",
      "../dataset_releases/data_release_beta4_standard/textbook_images/advances_in_genetics_21633.png\n",
      "../dataset_releases/data_release_beta4_standard/textbook_images/calculating_acceleration_from_velocity_and_time_22694.png\n",
      "../dataset_releases/data_release_beta4_standard/textbook_images/humans_and_the_water_supply_20299.png\n",
      "../dataset_releases/data_release_beta4_standard/textbook_images/timeline_of_evolution_22170.png\n",
      "../dataset_releases/data_release_beta4_standard/textbook_images/chemical_equations_22717.png\n",
      "../dataset_releases/data_release_beta4_standard/textbook_images/ethics_in_science_22832.png\n",
      "../dataset_releases/data_release_beta4_standard/textbook_images/folds_20782.png\n",
      "../dataset_releases/data_release_beta4_standard/textbook_images/history_of_life_on_earth_21654.png\n",
      "../dataset_releases/data_release_beta4_standard/textbook_images/non_mendelian_inheritance_22012.png\n",
      "../dataset_releases/data_release_beta4_standard/textbook_images/how_animals_evolved_21294.png\n",
      "../dataset_releases/data_release_beta4_standard/textbook_images/earths_crust_20717.png\n",
      "../dataset_releases/data_release_beta4_standard/textbook_images/chemical_weathering_20657.png\n",
      "../dataset_releases/data_release_beta4_standard/textbook_images/characteristics_and_origins_of_life_20649.png\n",
      "../dataset_releases/data_release_beta4_standard/textbook_images/landforms_from_glacial_erosion_and_deposition_20893.png\n",
      "../dataset_releases/data_release_beta4_standard/textbook_images/seismic_waves_21108.png\n",
      "../dataset_releases/data_release_beta4_standard/textbook_images/the_excretory_system_21449.png\n",
      "../dataset_releases/data_release_beta4_standard/textbook_images/folds_20779.png\n",
      "../dataset_releases/data_release_beta4_standard/textbook_images/domains_of_life_21815.png\n",
      "../dataset_releases/data_release_beta4_standard/textbook_images/work_22307.png\n",
      "../dataset_releases/data_release_beta4_standard/textbook_images/habitat_destruction_21869.png\n",
      "../dataset_releases/data_release_beta4_standard/textbook_images/soils_20594.png\n",
      "../dataset_releases/data_release_beta4_standard/textbook_images/history_of_mesozoic_life_20834.png\n",
      "../dataset_releases/data_release_beta4_standard/textbook_images/plant_classification_22056.png\n",
      "../dataset_releases/data_release_beta4_standard/textbook_images/mars_20924.png\n",
      "../dataset_releases/data_release_beta4_standard/textbook_images/hydrocarbons_22638.png\n",
      "../dataset_releases/data_release_beta4_standard/textbook_images/solubility_and_concentration_22212.png\n",
      "../dataset_releases/data_release_beta4_standard/textbook_images/darwins_theory_of_evolution_21638.png\n",
      "../dataset_releases/data_release_beta4_standard/textbook_images/learned_behavior_of_animals_21948.png\n",
      "../dataset_releases/data_release_beta4_standard/textbook_images/digestive_system_organs_21803.png\n",
      "../dataset_releases/data_release_beta4_standard/textbook_images/ph_concept_23008.png\n",
      "../dataset_releases/data_release_beta4_standard/textbook_images/meteors_20940.png\n",
      "../dataset_releases/data_release_beta4_standard/textbook_images/protists_21680.png\n",
      "../dataset_releases/data_release_beta4_standard/textbook_images/erosion_and_deposition_by_waves_20029.png\n",
      "../dataset_releases/data_release_beta4_standard/textbook_images/animal_behaviors_21702.png\n",
      "../dataset_releases/data_release_beta4_standard/textbook_images/location_and_direction_20907.png\n",
      "../dataset_releases/data_release_beta4_standard/textbook_images/the_light_we_see_22439.png\n",
      "../dataset_releases/data_release_beta4_standard/textbook_images/fish_21344.png\n",
      "../dataset_releases/data_release_beta4_standard/textbook_images/tides_21164.png\n",
      "../dataset_releases/data_release_beta4_standard/textbook_images/scope_of_physical_science_23072.png\n",
      "../dataset_releases/data_release_beta4_standard/textbook_images/importance_of_the_oceans_20861.png\n",
      "../dataset_releases/data_release_beta4_standard/textbook_images/effects_of_air_pollution_20324.png\n",
      "../dataset_releases/data_release_beta4_standard/textbook_images/mineral_formation_20950.png\n",
      "../dataset_releases/data_release_beta4_standard/textbook_images/properties_of_matter_22520.png\n",
      "../dataset_releases/data_release_beta4_standard/textbook_images/screw_23075.png\n",
      "../dataset_releases/data_release_beta4_standard/textbook_images/hot_springs_and_geysers_20837.png\n",
      "../dataset_releases/data_release_beta4_standard/textbook_images/habitat_and_niche_21863.png\n",
      "../dataset_releases/data_release_beta4_standard/textbook_images/storms_20173.png\n",
      "../dataset_releases/data_release_beta4_standard/textbook_images/work_23181.png\n",
      "../dataset_releases/data_release_beta4_standard/textbook_images/buoyancy_of_fluids_22302.png\n",
      "../dataset_releases/data_release_beta4_standard/textbook_images/earths_mantle_20721.png\n",
      "../dataset_releases/data_release_beta4_standard/textbook_images/photosynthesis_21592.png\n",
      "../dataset_releases/data_release_beta4_standard/textbook_images/organic_compounds_22023.png\n",
      "../dataset_releases/data_release_beta4_standard/textbook_images/explosive_eruptions_20761.png\n",
      "../dataset_releases/data_release_beta4_standard/textbook_images/volcanic_eruptions_20574.png\n",
      "../dataset_releases/data_release_beta4_standard/textbook_images/sound_waves_23093.png\n",
      "../dataset_releases/data_release_beta4_standard/textbook_images/air_movement_20150.png\n",
      "../dataset_releases/data_release_beta4_standard/textbook_images/climate_and_its_causes_20183.png\n",
      "../dataset_releases/data_release_beta4_standard/textbook_images/changes_of_state_22556.png\n",
      "../dataset_releases/data_release_beta4_standard/textbook_images/introduction_to_genetics_21630.png\n",
      "../dataset_releases/data_release_beta4_standard/textbook_images/cell_biology_21754.png\n",
      "../dataset_releases/data_release_beta4_standard/textbook_images/topographic_maps_20270.png\n",
      "../dataset_releases/data_release_beta4_standard/textbook_images/the_scope_of_physical_science_22210.png\n",
      "../dataset_releases/data_release_beta4_standard/textbook_images/evolution_of_simple_cells_20749.png\n",
      "../dataset_releases/data_release_beta4_standard/textbook_images/optics_22449.png\n",
      "../dataset_releases/data_release_beta4_standard/textbook_images/ionic_bonds_22593.png\n",
      "../dataset_releases/data_release_beta4_standard/textbook_images/fields_in_the_life_sciences_21833.png\n",
      "../dataset_releases/data_release_beta4_standard/textbook_images/punnett_squares_22094.png\n",
      "../dataset_releases/data_release_beta4_standard/textbook_images/landforms_from_erosion_and_deposition_by_gravity_20883.png\n",
      "../dataset_releases/data_release_beta4_standard/textbook_images/insects_21933.png\n",
      "../dataset_releases/data_release_beta4_standard/textbook_images/fundamental_particles_22857.png\n",
      "../dataset_releases/data_release_beta4_standard/textbook_images/earth_as_a_magnet_22774.png\n",
      "../dataset_releases/data_release_beta4_standard/textbook_images/artificial_light_22668.png\n",
      "../dataset_releases/data_release_beta4_standard/textbook_images/flatworms_and_roundworms_21317.png\n",
      "../dataset_releases/data_release_beta4_standard/textbook_images/types_of_air_pollution_21176.png\n",
      "../dataset_releases/data_release_beta4_standard/textbook_images/types_of_rocks_20468.png\n",
      "../dataset_releases/data_release_beta4_standard/textbook_images/the_excretory_system_21446.png\n",
      "../dataset_releases/data_release_beta4_standard/textbook_images/outer_planets_20410.png\n",
      "../dataset_releases/data_release_beta4_standard/textbook_images/role_of_amphibians_22118.png\n",
      "../dataset_releases/data_release_beta4_standard/textbook_images/communities_21532.png\n",
      "../dataset_releases/data_release_beta4_standard/textbook_images/erosion_and_deposition_by_wind_20043.png\n",
      "../dataset_releases/data_release_beta4_standard/textbook_images/friction_22265.png\n",
      "../dataset_releases/data_release_beta4_standard/textbook_images/earth_science_and_its_branches_20011.png\n",
      "../dataset_releases/data_release_beta4_standard/textbook_images/magnetic_polarity_evidence_for_continental_drift_20917.png\n",
      "../dataset_releases/data_release_beta4_standard/textbook_images/inner_planets_20398.png\n",
      "../dataset_releases/data_release_beta4_standard/textbook_images/satellites_shuttles_and_space_stations_21084.png\n",
      "../dataset_releases/data_release_beta4_standard/textbook_images/types_of_chemical_reactions_22612.png\n",
      "../dataset_releases/data_release_beta4_standard/textbook_images/einsteins_concept_of_gravity_22778.png\n",
      "../dataset_releases/data_release_beta4_standard/textbook_images/skeletal_system_joints_22142.png\n",
      "../dataset_releases/data_release_beta4_standard/textbook_images/reproduction_21606.png\n",
      "../dataset_releases/data_release_beta4_standard/textbook_images/isomers_22908.png\n",
      "../dataset_releases/data_release_beta4_standard/textbook_images/earths_energy_20484.png\n",
      "../dataset_releases/data_release_beta4_standard/textbook_images/social_behavior_of_animals_22151.png\n",
      "../dataset_releases/data_release_beta4_standard/textbook_images/soil_characteristics_21112.png\n",
      "../dataset_releases/data_release_beta4_standard/textbook_images/symbiotic_relationships_of_fungi_22161.png\n",
      "../dataset_releases/data_release_beta4_standard/textbook_images/law_of_reflection_22919.png\n",
      "../dataset_releases/data_release_beta4_standard/textbook_images/climate_change_20202.png\n",
      "../dataset_releases/data_release_beta4_standard/textbook_images/folds_20780.png\n",
      "../dataset_releases/data_release_beta4_standard/textbook_images/mendels_laws_and_genetics_21980.png\n",
      "../dataset_releases/data_release_beta4_standard/textbook_images/human_digestive_system_21888.png\n",
      "../dataset_releases/data_release_beta4_standard/textbook_images/availability_of_natural_resources_20622.png\n",
      "../dataset_releases/data_release_beta4_standard/textbook_images/light_22924.png\n",
      "../dataset_releases/data_release_beta4_standard/textbook_images/changing_weather_20162.png\n",
      "../dataset_releases/data_release_beta4_standard/textbook_images/history_of_earths_life_forms_20084.png\n",
      "../dataset_releases/data_release_beta4_standard/textbook_images/galaxies_20797.png\n",
      "../dataset_releases/data_release_beta4_standard/textbook_images/earths_moon_20376.png\n",
      "../dataset_releases/data_release_beta4_standard/textbook_images/history_of_life_on_earth_21658.png\n",
      "../dataset_releases/data_release_beta4_standard/textbook_images/water_pollution_21559.png\n",
      "../dataset_releases/data_release_beta4_standard/textbook_images/formation_of_earth_20784.png\n",
      "../dataset_releases/data_release_beta4_standard/textbook_images/wavelength_23173.png\n",
      "../dataset_releases/data_release_beta4_standard/textbook_images/overpopulation_and_over_consumption_21012.png\n",
      "../dataset_releases/data_release_beta4_standard/textbook_images/learned_behavior_of_animals_21946.png\n",
      "../dataset_releases/data_release_beta4_standard/textbook_images/sources_of_water_pollution_22152.png\n",
      "../dataset_releases/data_release_beta4_standard/textbook_images/plant_cell_structures_22053.png\n",
      "../dataset_releases/data_release_beta4_standard/textbook_images/telescopes_20342.png\n",
      "../dataset_releases/data_release_beta4_standard/textbook_images/injuries_of_the_nervous_system_21923.png\n",
      "../dataset_releases/data_release_beta4_standard/textbook_images/climate_change_20207.png\n",
      "../dataset_releases/data_release_beta4_standard/textbook_images/keeping_the_nervous_system_healthy_21942.png\n",
      "../dataset_releases/data_release_beta4_standard/textbook_images/classes_of_elements_22582.png\n",
      "../dataset_releases/data_release_beta4_standard/textbook_images/competition_21786.png\n",
      "../dataset_releases/data_release_beta4_standard/textbook_images/tropisms_22179.png\n",
      "../dataset_releases/data_release_beta4_standard/textbook_images/nonrenewable_energy_resources_20487.png\n",
      "../dataset_releases/data_release_beta4_standard/textbook_images/the_human_population_20228.png\n",
      "../dataset_releases/data_release_beta4_standard/textbook_images/renewable_energy_resources_20492.png\n",
      "../dataset_releases/data_release_beta4_standard/textbook_images/communities_21529.png\n",
      "../dataset_releases/data_release_beta4_standard/textbook_images/history_of_paleozoic_life_20835.png\n",
      "../dataset_releases/data_release_beta4_standard/textbook_images/wave_particle_theory_23170.png\n",
      "../dataset_releases/data_release_beta4_standard/textbook_images/non_mendelian_inheritance_22011.png\n",
      "../dataset_releases/data_release_beta4_standard/textbook_images/pathogens_22046.png\n",
      "../dataset_releases/data_release_beta4_standard/textbook_images/air_masses_20613.png\n",
      "../dataset_releases/data_release_beta4_standard/textbook_images/changes_in_matter_22532.png\n",
      "../dataset_releases/data_release_beta4_standard/textbook_images/the_universe_20440.png\n",
      "../dataset_releases/data_release_beta4_standard/textbook_images/electric_transformers_22794.png\n",
      "../dataset_releases/data_release_beta4_standard/textbook_images/liquids_22930.png\n",
      "../dataset_releases/data_release_beta4_standard/textbook_images/mammal_reproduction_21973.png\n",
      "../dataset_releases/data_release_beta4_standard/textbook_images/fields_in_the_life_sciences_21832.png\n",
      "../dataset_releases/data_release_beta4_standard/textbook_images/infectious_diseases_21485.png\n",
      "../dataset_releases/data_release_beta4_standard/textbook_images/forms_of_energy_22847.png\n",
      "../dataset_releases/data_release_beta4_standard/textbook_images/changes_of_state_22709.png\n",
      "../dataset_releases/data_release_beta4_standard/textbook_images/using_thermal_energy_22370.png\n",
      "../dataset_releases/data_release_beta4_standard/textbook_images/short_term_climate_change_21109.png\n",
      "../dataset_releases/data_release_beta4_standard/textbook_images/tides_21162.png\n",
      "../dataset_releases/data_release_beta4_standard/textbook_images/electromagnetic_devices_22799.png\n",
      "../dataset_releases/data_release_beta4_standard/textbook_images/barriers_to_pathogens_21727.png\n",
      "../dataset_releases/data_release_beta4_standard/textbook_images/theory_of_plate_tectonics_20507.png\n",
      "../dataset_releases/data_release_beta4_standard/textbook_images/carbon_cycle_and_climate_20642.png\n",
      "../dataset_releases/data_release_beta4_standard/textbook_images/magnetic_polarity_evidence_for_continental_drift_20914.png\n",
      "../dataset_releases/data_release_beta4_standard/textbook_images/local_winds_20901.png\n",
      "../dataset_releases/data_release_beta4_standard/textbook_images/nonmetals_22983.png\n",
      "../dataset_releases/data_release_beta4_standard/textbook_images/theory_of_plate_tectonics_20510.png\n",
      "../dataset_releases/data_release_beta4_standard/textbook_images/blizzards_20635.png\n",
      "../dataset_releases/data_release_beta4_standard/textbook_images/intrusive_and_extrusive_igneous_rocks_20874.png\n",
      "../dataset_releases/data_release_beta4_standard/textbook_images/staying_safe_in_earthquakes_20560.png\n",
      "../dataset_releases/data_release_beta4_standard/textbook_images/respiratory_system_diseases_22113.png\n",
      "../dataset_releases/data_release_beta4_standard/textbook_images/changing_weather_20165.png\n",
      "../dataset_releases/data_release_beta4_standard/textbook_images/role_of_amphibians_22119.png\n",
      "../dataset_releases/data_release_beta4_standard/textbook_images/cell_division_21603.png\n",
      "../dataset_releases/data_release_beta4_standard/textbook_images/volcanic_eruptions_20577.png\n",
      "../dataset_releases/data_release_beta4_standard/textbook_images/types_of_air_pollution_21177.png\n",
      "../dataset_releases/data_release_beta4_standard/textbook_images/earths_energy_20485.png\n",
      "../dataset_releases/data_release_beta4_standard/textbook_images/gravity_in_the_solar_system_20814.png\n",
      "../dataset_releases/data_release_beta4_standard/textbook_images/what_is_science_22205.png\n",
      "../dataset_releases/data_release_beta4_standard/textbook_images/simple_machines_22325.png\n",
      "../dataset_releases/data_release_beta4_standard/textbook_images/venus_21209.png\n",
      "../dataset_releases/data_release_beta4_standard/textbook_images/groundwater_depletion_20821.png\n",
      "../dataset_releases/data_release_beta4_standard/textbook_images/types_of_chemical_reactions_22611.png\n",
      "../dataset_releases/data_release_beta4_standard/textbook_images/reproduction_and_life_stages_21513.png\n",
      "../dataset_releases/data_release_beta4_standard/textbook_images/nature_of_earthquakes_20551.png\n",
      "../dataset_releases/data_release_beta4_standard/textbook_images/magnets_and_magnetism_22490.png\n",
      "../dataset_releases/data_release_beta4_standard/textbook_images/climate_change_20200.png\n",
      "../dataset_releases/data_release_beta4_standard/textbook_images/technology_careers_23112.png\n",
      "../dataset_releases/data_release_beta4_standard/textbook_images/hydrocarbons_22886.png\n",
      "../dataset_releases/data_release_beta4_standard/textbook_images/energy_in_the_atmosphere_20141.png\n",
      "../dataset_releases/data_release_beta4_standard/textbook_images/earths_tectonic_plates_20725.png\n",
      "../dataset_releases/data_release_beta4_standard/textbook_images/the_muscular_system_21411.png\n",
      "../dataset_releases/data_release_beta4_standard/textbook_images/forms_of_energy_22344.png\n",
      "../dataset_releases/data_release_beta4_standard/textbook_images/precipitation_21038.png\n",
      "../dataset_releases/data_release_beta4_standard/textbook_images/intrusive_and_extrusive_igneous_rocks_20872.png\n",
      "../dataset_releases/data_release_beta4_standard/textbook_images/mining_and_using_minerals_20464.png\n",
      "../dataset_releases/data_release_beta4_standard/textbook_images/bacteria_characteristics_21723.png\n",
      "../dataset_releases/data_release_beta4_standard/textbook_images/effect_of_latitude_on_climate_20733.png\n",
      "../dataset_releases/data_release_beta4_standard/textbook_images/primates_22082.png\n",
      "../dataset_releases/data_release_beta4_standard/textbook_images/century_tsunami_20316.png\n",
      "../dataset_releases/data_release_beta4_standard/textbook_images/the_muscular_system_21410.png\n",
      "../dataset_releases/data_release_beta4_standard/textbook_images/precambrian_continents_21034.png\n",
      "../dataset_releases/data_release_beta4_standard/textbook_images/electric_generators_22789.png\n",
      "../dataset_releases/data_release_beta4_standard/textbook_images/sponges_and_cnidarians_21311.png\n",
      "../dataset_releases/data_release_beta4_standard/textbook_images/noble_gases_22978.png\n",
      "../dataset_releases/data_release_beta4_standard/textbook_images/synthesis_reactions_23105.png\n",
      "../dataset_releases/data_release_beta4_standard/textbook_images/carbohydrate_classification_22697.png\n",
      "../dataset_releases/data_release_beta4_standard/textbook_images/archaea_21679.png\n",
      "../dataset_releases/data_release_beta4_standard/textbook_images/minerals_20968.png\n",
      "../dataset_releases/data_release_beta4_standard/textbook_images/bacteria_21670.png\n",
      "../dataset_releases/data_release_beta4_standard/textbook_images/finding_and_mining_ores_20771.png\n",
      "../dataset_releases/data_release_beta4_standard/textbook_images/history_of_the_atom_22568.png\n",
      "../dataset_releases/data_release_beta4_standard/textbook_images/the_electromagnetic_spectrum_22434.png\n",
      "../dataset_releases/data_release_beta4_standard/textbook_images/pollution_of_the_land_20238.png\n",
      "../dataset_releases/data_release_beta4_standard/textbook_images/sponges_and_cnidarians_21314.png\n",
      "../dataset_releases/data_release_beta4_standard/textbook_images/first_two_lines_of_defense_21495.png\n",
      "../dataset_releases/data_release_beta4_standard/textbook_images/understanding_animal_behavior_21378.png\n",
      "../dataset_releases/data_release_beta4_standard/textbook_images/safety_of_water_21080.png\n",
      "../dataset_releases/data_release_beta4_standard/textbook_images/the_ocean_floor_20124.png\n",
      "../dataset_releases/data_release_beta4_standard/textbook_images/turtles_22182.png\n",
      "../dataset_releases/data_release_beta4_standard/textbook_images/color_22727.png\n",
      "../dataset_releases/data_release_beta4_standard/textbook_images/climate_change_20204.png\n",
      "../dataset_releases/data_release_beta4_standard/textbook_images/sources_of_visible_light_23096.png\n",
      "../dataset_releases/data_release_beta4_standard/textbook_images/the_origin_of_earth_20070.png\n",
      "../dataset_releases/data_release_beta4_standard/textbook_images/properties_of_acids_23036.png\n",
      "../dataset_releases/data_release_beta4_standard/textbook_images/types_of_energy_22337.png\n",
      "../dataset_releases/data_release_beta4_standard/textbook_images/elastic_force_22279.png\n",
      "../dataset_releases/data_release_beta4_standard/textbook_images/agriculture_and_human_population_growth_20608.png\n",
      "../dataset_releases/data_release_beta4_standard/textbook_images/sublimation_23102.png\n",
      "../dataset_releases/data_release_beta4_standard/textbook_images/nature_of_earthquakes_20546.png\n",
      "../dataset_releases/data_release_beta4_standard/textbook_images/conservation_of_mass_22747.png\n",
      "../dataset_releases/data_release_beta4_standard/textbook_images/ecosystems_20212.png\n",
      "../dataset_releases/data_release_beta4_standard/textbook_images/telescopes_20344.png\n",
      "../dataset_releases/data_release_beta4_standard/textbook_images/the_integumentary_system_21401.png\n",
      "../dataset_releases/data_release_beta4_standard/textbook_images/newtons_law_of_gravity_22975.png\n",
      "../dataset_releases/data_release_beta4_standard/textbook_images/formation_of_the_sun_and_planets_20787.png\n",
      "../dataset_releases/data_release_beta4_standard/textbook_images/petroleum_power_21024.png\n",
      "../dataset_releases/data_release_beta4_standard/textbook_images/the_light_we_see_22440.png\n",
      "../dataset_releases/data_release_beta4_standard/textbook_images/the_nervous_system_21473.png\n",
      "../dataset_releases/data_release_beta4_standard/textbook_images/sponges_and_cnidarians_21309.png\n",
      "../dataset_releases/data_release_beta4_standard/textbook_images/volcanic_eruptions_20576.png\n",
      "../dataset_releases/data_release_beta4_standard/textbook_images/igneous_rocks_20473.png\n",
      "../dataset_releases/data_release_beta4_standard/textbook_images/precambrian_continents_21036.png\n",
      "../dataset_releases/data_release_beta4_standard/textbook_images/mitosis_vs._meiosis_21992.png\n",
      "../dataset_releases/data_release_beta4_standard/textbook_images/erosion_and_deposition_by_waves_20034.png\n",
      "../dataset_releases/data_release_beta4_standard/textbook_images/introduction_to_plants_21270.png\n",
      "../dataset_releases/data_release_beta4_standard/textbook_images/nuclear_power_20990.png\n",
      "../dataset_releases/data_release_beta4_standard/textbook_images/insect_food_21929.png\n",
      "../dataset_releases/data_release_beta4_standard/textbook_images/introduction_to_genetics_21627.png\n",
      "../dataset_releases/data_release_beta4_standard/textbook_images/liquids_22931.png\n",
      "../dataset_releases/data_release_beta4_standard/textbook_images/hearing_sound_22417.png\n",
      "../dataset_releases/data_release_beta4_standard/textbook_images/chemical_bonding_20652.png\n",
      "../dataset_releases/data_release_beta4_standard/textbook_images/weather_maps_21238.png\n",
      "../dataset_releases/data_release_beta4_standard/textbook_images/ocean_garbage_patch_21004.png\n",
      "../dataset_releases/data_release_beta4_standard/textbook_images/properties_of_carbon_22627.png\n",
      "../dataset_releases/data_release_beta4_standard/textbook_images/mineral_groups_20959.png\n",
      "../dataset_releases/data_release_beta4_standard/textbook_images/other_objects_in_the_solar_system_20418.png\n",
      "../dataset_releases/data_release_beta4_standard/textbook_images/mars_20923.png\n",
      "../dataset_releases/data_release_beta4_standard/textbook_images/food_webs_21843.png\n",
      "../dataset_releases/data_release_beta4_standard/textbook_images/minerals_20442.png\n",
      "../dataset_releases/data_release_beta4_standard/textbook_images/conservation_of_mass_in_chemical_reactions_22748.png\n",
      "../dataset_releases/data_release_beta4_standard/textbook_images/infancy_and_childhood_21920.png\n",
      "../dataset_releases/data_release_beta4_standard/textbook_images/effects_of_water_pollution_21819.png\n",
      "../dataset_releases/data_release_beta4_standard/textbook_images/galaxies_20433.png\n",
      "../dataset_releases/data_release_beta4_standard/textbook_images/earth_science_and_its_branches_20016.png\n",
      "../dataset_releases/data_release_beta4_standard/textbook_images/transition_metals_23128.png\n",
      "../dataset_releases/data_release_beta4_standard/textbook_images/pressure_of_fluids_22291.png\n",
      "../dataset_releases/data_release_beta4_standard/textbook_images/relative_ages_of_rocks_20059.png\n",
      "../dataset_releases/data_release_beta4_standard/textbook_images/natural_resources_21562.png\n",
      "../dataset_releases/data_release_beta4_standard/textbook_images/types_of_matter_22528.png\n",
      "../dataset_releases/data_release_beta4_standard/textbook_images/understanding_animal_behavior_21383.png\n",
      "../dataset_releases/data_release_beta4_standard/textbook_images/introduction_to_genetics_21629.png\n",
      "../dataset_releases/data_release_beta4_standard/textbook_images/electric_transformers_22792.png\n",
      "../dataset_releases/data_release_beta4_standard/textbook_images/carbon_cycle_and_climate_20643.png\n",
      "../dataset_releases/data_release_beta4_standard/textbook_images/exothermic_reactions_22835.png\n",
      "../dataset_releases/data_release_beta4_standard/textbook_images/mutations_22002.png\n",
      "../dataset_releases/data_release_beta4_standard/textbook_images/climate_zones_and_biomes_20663.png\n",
      "../dataset_releases/data_release_beta4_standard/textbook_images/optical_instruments_23000.png\n",
      "../dataset_releases/data_release_beta4_standard/textbook_images/protecting_the_water_supply_20314.png\n",
      "../dataset_releases/data_release_beta4_standard/textbook_images/magnets_and_magnetism_22488.png\n",
      "../dataset_releases/data_release_beta4_standard/textbook_images/chemical_weathering_20659.png\n",
      "../dataset_releases/data_release_beta4_standard/textbook_images/how_elements_are_organized_22578.png\n",
      "../dataset_releases/data_release_beta4_standard/textbook_images/intraplate_activity_20868.png\n",
      "../dataset_releases/data_release_beta4_standard/textbook_images/heat_transfer_in_the_atmosphere_20827.png\n",
      "../dataset_releases/data_release_beta4_standard/textbook_images/populations_21524.png\n",
      "../dataset_releases/data_release_beta4_standard/textbook_images/air_pollution_20322.png\n",
      "../dataset_releases/data_release_beta4_standard/textbook_images/solubility_and_concentration_22213.png\n",
      "../dataset_releases/data_release_beta4_standard/textbook_images/continental_drift_20681.png\n",
      "../dataset_releases/data_release_beta4_standard/textbook_images/technology_and_science_23108.png\n",
      "../dataset_releases/data_release_beta4_standard/textbook_images/kinetic_energy_22913.png\n",
      "../dataset_releases/data_release_beta4_standard/textbook_images/energy_level_22827.png\n",
      "../dataset_releases/data_release_beta4_standard/textbook_images/water_pollution_20307.png\n",
      "../dataset_releases/data_release_beta4_standard/textbook_images/electromagnetic_waves_22423.png\n",
      "../dataset_releases/data_release_beta4_standard/textbook_images/cell_biology_21755.png\n",
      "../dataset_releases/data_release_beta4_standard/textbook_images/use_and_conservation_of_resources_20284.png\n",
      "../dataset_releases/data_release_beta4_standard/textbook_images/world_climates_20192.png\n",
      "../dataset_releases/data_release_beta4_standard/textbook_images/biomes_21534.png\n",
      "../dataset_releases/data_release_beta4_standard/textbook_images/non_mendelian_inheritance_22010.png\n",
      "../dataset_releases/data_release_beta4_standard/textbook_images/protein_classification_23043.png\n",
      "../dataset_releases/data_release_beta4_standard/textbook_images/optics_22450.png\n",
      "../dataset_releases/data_release_beta4_standard/textbook_images/organic_compounds_22020.png\n",
      "../dataset_releases/data_release_beta4_standard/textbook_images/metalloids_22946.png\n",
      "../dataset_releases/data_release_beta4_standard/textbook_images/succession_22155.png\n",
      "../dataset_releases/data_release_beta4_standard/textbook_images/hydrocarbons_22631.png\n",
      "../dataset_releases/data_release_beta4_standard/textbook_images/wave_amplitude_23162.png\n",
      "../dataset_releases/data_release_beta4_standard/textbook_images/ocean_life_20127.png\n",
      "../dataset_releases/data_release_beta4_standard/textbook_images/characteristics_of_waves_22373.png\n",
      "../dataset_releases/data_release_beta4_standard/textbook_images/reproduction_and_life_stages_21515.png\n",
      "../dataset_releases/data_release_beta4_standard/textbook_images/mammals_21366.png\n",
      "../dataset_releases/data_release_beta4_standard/textbook_images/tornadoes_21168.png\n",
      "../dataset_releases/data_release_beta4_standard/textbook_images/pathogens_22041.png\n",
      "../dataset_releases/data_release_beta4_standard/textbook_images/food_and_nutrients_21420.png\n",
      "../dataset_releases/data_release_beta4_standard/textbook_images/reducing_air_pollution_20334.png\n",
      "../dataset_releases/data_release_beta4_standard/textbook_images/skin_22145.png\n",
      "../dataset_releases/data_release_beta4_standard/textbook_images/overpopulation_and_over_consumption_21014.png\n",
      "../dataset_releases/data_release_beta4_standard/textbook_images/types_of_volcanoes_20582.png\n",
      "../dataset_releases/data_release_beta4_standard/textbook_images/physical_properties_of_matter_23017.png\n",
      "../dataset_releases/data_release_beta4_standard/textbook_images/inner_vs._outer_planets_20865.png\n",
      "../dataset_releases/data_release_beta4_standard/textbook_images/beta_decay_22678.png\n",
      "../dataset_releases/data_release_beta4_standard/textbook_images/echinoderms_and_invertebrate_chordates_21333.png\n",
      "../dataset_releases/data_release_beta4_standard/textbook_images/ultrasound_23137.png\n",
      "../dataset_releases/data_release_beta4_standard/textbook_images/soil_erosion_21116.png\n",
      "../dataset_releases/data_release_beta4_standard/textbook_images/forms_of_energy_22339.png\n",
      "../dataset_releases/data_release_beta4_standard/textbook_images/plant_like_protists_22063.png\n",
      "../dataset_releases/data_release_beta4_standard/textbook_images/ionic_bonding_22903.png\n",
      "../dataset_releases/data_release_beta4_standard/textbook_images/storms_20168.png\n",
      "../dataset_releases/data_release_beta4_standard/textbook_images/protein_synthesis_21616.png\n",
      "../dataset_releases/data_release_beta4_standard/textbook_images/photosynthesis_21588.png\n",
      "../dataset_releases/data_release_beta4_standard/textbook_images/nuclear_power_20992.png\n",
      "../dataset_releases/data_release_beta4_standard/textbook_images/the_sun_20379.png\n",
      "../dataset_releases/data_release_beta4_standard/textbook_images/behavior_of_gases_22548.png\n",
      "../dataset_releases/data_release_beta4_standard/textbook_images/cell_nucleus_21761.png\n",
      "../dataset_releases/data_release_beta4_standard/textbook_images/weather_fronts_21236.png\n",
      "../dataset_releases/data_release_beta4_standard/textbook_images/mammals_21362.png\n",
      "../dataset_releases/data_release_beta4_standard/textbook_images/wavelength_23174.png\n",
      "../dataset_releases/data_release_beta4_standard/textbook_images/electric_charge_22465.png\n",
      "../dataset_releases/data_release_beta4_standard/textbook_images/crystalline_carbon_22756.png\n",
      "../dataset_releases/data_release_beta4_standard/textbook_images/the_electromagnetic_spectrum_22433.png\n",
      "../dataset_releases/data_release_beta4_standard/textbook_images/mercury_20931.png\n",
      "../dataset_releases/data_release_beta4_standard/textbook_images/bony_fish_21744.png\n",
      "../dataset_releases/data_release_beta4_standard/textbook_images/solutions_23089.png\n",
      "../dataset_releases/data_release_beta4_standard/textbook_images/mining_and_using_minerals_20462.png\n",
      "../dataset_releases/data_release_beta4_standard/textbook_images/non_renewable_energy_resources_20989.png\n",
      "../dataset_releases/data_release_beta4_standard/textbook_images/populations_21522.png\n",
      "../dataset_releases/data_release_beta4_standard/textbook_images/satellites_shuttles_and_space_stations_21085.png\n",
      "../dataset_releases/data_release_beta4_standard/textbook_images/using_thermal_energy_22366.png\n",
      "../dataset_releases/data_release_beta4_standard/textbook_images/friction_22266.png\n",
      "../dataset_releases/data_release_beta4_standard/textbook_images/bird_reproduction_21733.png\n",
      "../dataset_releases/data_release_beta4_standard/textbook_images/stress_in_earths_crust_20523.png\n",
      "../dataset_releases/data_release_beta4_standard/textbook_images/vision_and_the_eye_23158.png\n",
      "../dataset_releases/data_release_beta4_standard/textbook_images/how_ocean_currents_moderate_climate_20848.png\n",
      "../dataset_releases/data_release_beta4_standard/textbook_images/predicting_volcanic_eruptions_21044.png\n",
      "../dataset_releases/data_release_beta4_standard/textbook_images/formation_of_minerals_20461.png\n",
      "../dataset_releases/data_release_beta4_standard/textbook_images/evolution_of_simple_cells_20750.png\n",
      "../dataset_releases/data_release_beta4_standard/textbook_images/earth_as_a_magnet_22497.png\n",
      "../dataset_releases/data_release_beta4_standard/textbook_images/air_quality_20614.png\n",
      "../dataset_releases/data_release_beta4_standard/textbook_images/the_senses_21482.png\n",
      "../dataset_releases/data_release_beta4_standard/textbook_images/erosion_and_deposition_by_waves_20028.png\n",
      "../dataset_releases/data_release_beta4_standard/textbook_images/components_of_blood_21787.png\n",
      "../dataset_releases/data_release_beta4_standard/textbook_images/magnets_and_magnetism_22484.png\n",
      "../dataset_releases/data_release_beta4_standard/textbook_images/lipid_classification_22925.png\n",
      "../dataset_releases/data_release_beta4_standard/textbook_images/friction_22853.png\n",
      "../dataset_releases/data_release_beta4_standard/textbook_images/heart_and_blood_vessels_21436.png\n",
      "../dataset_releases/data_release_beta4_standard/textbook_images/humans_and_the_water_supply_20302.png\n",
      "../dataset_releases/data_release_beta4_standard/textbook_images/advances_in_genetics_21634.png\n",
      "../dataset_releases/data_release_beta4_standard/textbook_images/birds_21358.png\n",
      "../dataset_releases/data_release_beta4_standard/textbook_images/climate_change_in_earth_history_20661.png\n",
      "../dataset_releases/data_release_beta4_standard/textbook_images/crystalline_carbon_22757.png\n",
      "../dataset_releases/data_release_beta4_standard/textbook_images/electronic_component_22813.png\n",
      "../dataset_releases/data_release_beta4_standard/textbook_images/revolutions_of_earth_21070.png\n",
      "../dataset_releases/data_release_beta4_standard/textbook_images/calculating_work_22695.png\n",
      "../dataset_releases/data_release_beta4_standard/textbook_images/importance_of_mollusks_21914.png\n",
      "../dataset_releases/data_release_beta4_standard/textbook_images/the_scientific_method_21257.png\n",
      "../dataset_releases/data_release_beta4_standard/textbook_images/effects_of_air_pollution_20326.png\n",
      "../dataset_releases/data_release_beta4_standard/textbook_images/effects_of_air_pollution_20323.png\n",
      "../dataset_releases/data_release_beta4_standard/textbook_images/properties_of_matter_22518.png\n",
      "../dataset_releases/data_release_beta4_standard/textbook_images/peripheral_nervous_system_22049.png\n",
      "../dataset_releases/data_release_beta4_standard/textbook_images/physical_properties_of_matter_23016.png\n",
      "../dataset_releases/data_release_beta4_standard/textbook_images/isomers_22907.png\n",
      "../dataset_releases/data_release_beta4_standard/textbook_images/stress_in_earths_crust_20533.png\n",
      "../dataset_releases/data_release_beta4_standard/textbook_images/characteristics_of_waves_22376.png\n",
      "../dataset_releases/data_release_beta4_standard/textbook_images/erosion_and_deposition_by_waves_20033.png\n",
      "../dataset_releases/data_release_beta4_standard/textbook_images/ocean_zones_21006.png\n",
      "../dataset_releases/data_release_beta4_standard/textbook_images/carbohydrate_classification_22698.png\n",
      "../dataset_releases/data_release_beta4_standard/textbook_images/scientific_ways_of_thinking_21250.png\n",
      "../dataset_releases/data_release_beta4_standard/textbook_images/ocean_life_20129.png\n",
      "../dataset_releases/data_release_beta4_standard/textbook_images/dangers_and_uses_of_radiation_22761.png\n",
      "../dataset_releases/data_release_beta4_standard/textbook_images/viruses_22199.png\n",
      "../dataset_releases/data_release_beta4_standard/textbook_images/simple_machines_22322.png\n",
      "../dataset_releases/data_release_beta4_standard/textbook_images/air_pollution_21553.png\n",
      "../dataset_releases/data_release_beta4_standard/textbook_images/mirrors_22952.png\n",
      "../dataset_releases/data_release_beta4_standard/textbook_images/the_respiratory_system_21442.png\n",
      "../dataset_releases/data_release_beta4_standard/textbook_images/science_skills_22402.png\n",
      "../dataset_releases/data_release_beta4_standard/textbook_images/salamanders_22126.png\n",
      "../dataset_releases/data_release_beta4_standard/textbook_images/mollusks_and_annelids_21320.png\n",
      "../dataset_releases/data_release_beta4_standard/textbook_images/history_of_science_22884.png\n",
      "../dataset_releases/data_release_beta4_standard/textbook_images/solutions_23091.png\n",
      "../dataset_releases/data_release_beta4_standard/textbook_images/electric_circuits_22478.png\n",
      "../dataset_releases/data_release_beta4_standard/textbook_images/preserving_water_sources_22077.png\n",
      "../dataset_releases/data_release_beta4_standard/textbook_images/minerals_20969.png\n",
      "../dataset_releases/data_release_beta4_standard/textbook_images/natural_resources_21564.png\n",
      "../dataset_releases/data_release_beta4_standard/textbook_images/types_of_animal_behavior_21385.png\n",
      "../dataset_releases/data_release_beta4_standard/textbook_images/social_behavior_of_animals_22150.png\n",
      "../dataset_releases/data_release_beta4_standard/textbook_images/forms_of_energy_22343.png\n",
      "../dataset_releases/data_release_beta4_standard/textbook_images/introduction_to_earths_surface_20250.png\n",
      "../dataset_releases/data_release_beta4_standard/textbook_images/skeletal_system_joints_22141.png\n",
      "../dataset_releases/data_release_beta4_standard/textbook_images/fossils_20053.png\n",
      "../dataset_releases/data_release_beta4_standard/textbook_images/erosion_and_deposition_by_glaciers_20044.png\n",
      "../dataset_releases/data_release_beta4_standard/textbook_images/saturation_23062.png\n",
      "../dataset_releases/data_release_beta4_standard/textbook_images/bacteria_characteristics_21721.png\n",
      "../dataset_releases/data_release_beta4_standard/textbook_images/erosion_and_deposition_by_glaciers_20046.png\n",
      "../dataset_releases/data_release_beta4_standard/textbook_images/chemistry_of_compounds_22725.png\n",
      "../dataset_releases/data_release_beta4_standard/textbook_images/democrituss_idea_of_the_atom_22764.png\n",
      "../dataset_releases/data_release_beta4_standard/textbook_images/agriculture_and_human_population_growth_20611.png\n",
      "../dataset_releases/data_release_beta4_standard/textbook_images/habitat_and_niche_21864.png\n",
      "../dataset_releases/data_release_beta4_standard/textbook_images/condensation_22745.png\n",
      "../dataset_releases/data_release_beta4_standard/textbook_images/ionic_bonding_22902.png\n",
      "../dataset_releases/data_release_beta4_standard/textbook_images/the_scope_of_physical_science_22209.png\n",
      "../dataset_releases/data_release_beta4_standard/textbook_images/the_muscular_system_21416.png\n",
      "../dataset_releases/data_release_beta4_standard/textbook_images/carbon_and_living_things_22645.png\n",
      "../dataset_releases/data_release_beta4_standard/textbook_images/photosynthesis_reactions_23010.png\n",
      "../dataset_releases/data_release_beta4_standard/textbook_images/seafloor_spreading_20505.png\n",
      "../dataset_releases/data_release_beta4_standard/textbook_images/types_of_chemical_reactions_22614.png\n",
      "../dataset_releases/data_release_beta4_standard/textbook_images/photosynthesis_21591.png\n",
      "../dataset_releases/data_release_beta4_standard/textbook_images/air_pollution_20321.png\n",
      "../dataset_releases/data_release_beta4_standard/textbook_images/what_is_life_science_21253.png\n",
      "../dataset_releases/data_release_beta4_standard/textbook_images/habitat_destruction_21867.png\n",
      "../dataset_releases/data_release_beta4_standard/textbook_images/water_pollution_21558.png\n",
      "../dataset_releases/data_release_beta4_standard/textbook_images/early_earth_20076.png\n",
      "../dataset_releases/data_release_beta4_standard/textbook_images/revolutions_of_earth_21071.png\n",
      "../dataset_releases/data_release_beta4_standard/textbook_images/digestive_system_organs_21804.png\n",
      "../dataset_releases/data_release_beta4_standard/textbook_images/chemistry_of_compounds_22726.png\n",
      "../dataset_releases/data_release_beta4_standard/textbook_images/acids_and_bases_22220.png\n",
      "../dataset_releases/data_release_beta4_standard/textbook_images/uses_of_water_21202.png\n",
      "../dataset_releases/data_release_beta4_standard/textbook_images/primates_22081.png\n",
      "../dataset_releases/data_release_beta4_standard/textbook_images/magnetic_evidence_for_seafloor_spreading_20912.png\n",
      "../dataset_releases/data_release_beta4_standard/textbook_images/cellular_respiration_21596.png\n",
      "../dataset_releases/data_release_beta4_standard/textbook_images/what_is_science_22204.png\n",
      "../dataset_releases/data_release_beta4_standard/textbook_images/components_of_blood_21790.png\n",
      "../dataset_releases/data_release_beta4_standard/textbook_images/the_atmosphere_20136.png\n",
      "../dataset_releases/data_release_beta4_standard/textbook_images/the_sun_and_the_earthmoon_system_20384.png\n",
      "../dataset_releases/data_release_beta4_standard/textbook_images/covalent_bonds_22599.png\n",
      "../dataset_releases/data_release_beta4_standard/textbook_images/friction_22261.png\n",
      "../dataset_releases/data_release_beta4_standard/textbook_images/evolution_and_classification_of_plants_21278.png\n",
      "../dataset_releases/data_release_beta4_standard/textbook_images/tree_rings_ice_cores_and_varves_21172.png\n",
      "../dataset_releases/data_release_beta4_standard/textbook_images/gravity_22275.png\n",
      "../dataset_releases/data_release_beta4_standard/textbook_images/barriers_to_pathogens_21728.png\n",
      "../dataset_releases/data_release_beta4_standard/textbook_images/mars_20922.png\n",
      "../dataset_releases/data_release_beta4_standard/textbook_images/weather_fronts_21237.png\n",
      "../dataset_releases/data_release_beta4_standard/textbook_images/fish_21345.png\n",
      "../dataset_releases/data_release_beta4_standard/textbook_images/insect_reproduction_and_life_cycle_21930.png\n",
      "../dataset_releases/data_release_beta4_standard/textbook_images/daltons_atomic_theory_22759.png\n",
      "../dataset_releases/data_release_beta4_standard/textbook_images/the_muscular_system_21414.png\n",
      "../dataset_releases/data_release_beta4_standard/textbook_images/types_of_chemical_reactions_22613.png\n",
      "../dataset_releases/data_release_beta4_standard/textbook_images/ionic_bonds_22595.png\n",
      "../dataset_releases/data_release_beta4_standard/textbook_images/acceleration_22253.png\n",
      "../dataset_releases/data_release_beta4_standard/textbook_images/hydrocarbons_22633.png\n",
      "../dataset_releases/data_release_beta4_standard/textbook_images/fungi_reproduction_21852.png\n",
      "../dataset_releases/data_release_beta4_standard/textbook_images/inner_planets_20400.png\n",
      "../dataset_releases/data_release_beta4_standard/textbook_images/tree_rings_ice_cores_and_varves_21174.png\n",
      "../dataset_releases/data_release_beta4_standard/textbook_images/acceleration_22251.png\n",
      "../dataset_releases/data_release_beta4_standard/textbook_images/chemical_equations_22609.png\n",
      "../dataset_releases/data_release_beta4_standard/textbook_images/renewable_resources_and_alternative_energy_sources_22099.png\n",
      "../dataset_releases/data_release_beta4_standard/textbook_images/stress_in_earths_crust_20524.png\n",
      "../dataset_releases/data_release_beta4_standard/textbook_images/lifes_building_blocks_21573.png\n",
      "../dataset_releases/data_release_beta4_standard/textbook_images/pathogens_22044.png\n",
      "../dataset_releases/data_release_beta4_standard/textbook_images/kinetic_energy_22912.png\n",
      "../dataset_releases/data_release_beta4_standard/textbook_images/forms_of_energy_22341.png\n",
      "../dataset_releases/data_release_beta4_standard/textbook_images/blood_types_21741.png\n",
      "../dataset_releases/data_release_beta4_standard/textbook_images/electric_circuits_22476.png\n",
      "../dataset_releases/data_release_beta4_standard/textbook_images/ionic_bonds_22594.png\n",
      "../dataset_releases/data_release_beta4_standard/textbook_images/saturn_21086.png\n",
      "../dataset_releases/data_release_beta4_standard/textbook_images/salamanders_22125.png\n",
      "../dataset_releases/data_release_beta4_standard/textbook_images/communities_21527.png\n",
      "../dataset_releases/data_release_beta4_standard/textbook_images/mollusks_21996.png\n",
      "../dataset_releases/data_release_beta4_standard/textbook_images/telescopes_20337.png\n",
      "../dataset_releases/data_release_beta4_standard/textbook_images/layers_of_the_atmosphere_20145.png\n",
      "../dataset_releases/data_release_beta4_standard/textbook_images/nature_of_earthquakes_20549.png\n",
      "../dataset_releases/data_release_beta4_standard/textbook_images/water_distribution_21225.png\n",
      "../dataset_releases/data_release_beta4_standard/textbook_images/biological_communities_20633.png\n",
      "../dataset_releases/data_release_beta4_standard/textbook_images/compound_machine_22739.png\n",
      "../dataset_releases/data_release_beta4_standard/textbook_images/inner_planets_20399.png\n",
      "../dataset_releases/data_release_beta4_standard/textbook_images/weather_and_water_in_the_atmosphere_20158.png\n",
      "../dataset_releases/data_release_beta4_standard/textbook_images/the_light_we_see_22437.png\n",
      "../dataset_releases/data_release_beta4_standard/textbook_images/history_of_the_atom_22570.png\n",
      "../dataset_releases/data_release_beta4_standard/textbook_images/faults_20765.png\n",
      "../dataset_releases/data_release_beta4_standard/textbook_images/hiv_and_aids_21882.png\n",
      "../dataset_releases/data_release_beta4_standard/textbook_images/jupiter_20876.png\n",
      "../dataset_releases/data_release_beta4_standard/textbook_images/evolution_and_classification_of_plants_21272.png\n",
      "../dataset_releases/data_release_beta4_standard/textbook_images/mountain_building_20978.png\n",
      "../dataset_releases/data_release_beta4_standard/textbook_images/telescopes_20340.png\n",
      "../dataset_releases/data_release_beta4_standard/textbook_images/cellular_respiration_21598.png\n",
      "../dataset_releases/data_release_beta4_standard/textbook_images/world_climates_20190.png\n",
      "../dataset_releases/data_release_beta4_standard/textbook_images/properties_of_matter_22515.png\n",
      "../dataset_releases/data_release_beta4_standard/textbook_images/reproduction_21609.png\n",
      "../dataset_releases/data_release_beta4_standard/textbook_images/theory_of_plate_tectonics_20517.png\n",
      "../dataset_releases/data_release_beta4_standard/textbook_images/rotation_of_earth_21079.png\n",
      "../dataset_releases/data_release_beta4_standard/textbook_images/ponds_and_lakes_21029.png\n",
      "../dataset_releases/data_release_beta4_standard/textbook_images/scientific_theories_22130.png\n",
      "../dataset_releases/data_release_beta4_standard/textbook_images/decomposition_reactions_22762.png\n",
      "../dataset_releases/data_release_beta4_standard/textbook_images/solar_power_21130.png\n",
      "../dataset_releases/data_release_beta4_standard/textbook_images/relative_ages_of_rocks_20056.png\n",
      "../dataset_releases/data_release_beta4_standard/textbook_images/types_of_animal_behavior_21387.png\n",
      "../dataset_releases/data_release_beta4_standard/textbook_images/radio_waves_23046.png\n",
      "../dataset_releases/data_release_beta4_standard/textbook_images/noninfectious_diseases_21491.png\n",
      "../dataset_releases/data_release_beta4_standard/textbook_images/reproductive_behavior_of_animals_22104.png\n",
      "../dataset_releases/data_release_beta4_standard/textbook_images/evolution_and_classification_of_plants_21282.png\n",
      "../dataset_releases/data_release_beta4_standard/textbook_images/advances_in_genetics_21632.png\n",
      "../dataset_releases/data_release_beta4_standard/textbook_images/hydrocarbons_22630.png\n",
      "../dataset_releases/data_release_beta4_standard/textbook_images/solids_23082.png\n",
      "../dataset_releases/data_release_beta4_standard/textbook_images/early_space_exploration_20348.png\n",
      "../dataset_releases/data_release_beta4_standard/textbook_images/correlation_using_relative_ages_20683.png\n",
      "../dataset_releases/data_release_beta4_standard/textbook_images/scientific_investigation_22392.png\n",
      "../dataset_releases/data_release_beta4_standard/textbook_images/the_excretory_system_21447.png\n",
      "../dataset_releases/data_release_beta4_standard/textbook_images/glaciers_20806.png\n",
      "../dataset_releases/data_release_beta4_standard/textbook_images/covalent_bonds_22598.png\n",
      "../dataset_releases/data_release_beta4_standard/textbook_images/temperature_and_heat_22357.png\n",
      "../dataset_releases/data_release_beta4_standard/textbook_images/development_of_theories_20690.png\n",
      "../dataset_releases/data_release_beta4_standard/textbook_images/rutherfords_atomic_model_23059.png\n",
      "../dataset_releases/data_release_beta4_standard/textbook_images/radioactive_decay_22231.png\n",
      "../dataset_releases/data_release_beta4_standard/textbook_images/processes_of_the_water_cycle_21055.png\n",
      "../dataset_releases/data_release_beta4_standard/textbook_images/formation_of_earth_20785.png\n",
      "../dataset_releases/data_release_beta4_standard/textbook_images/earths_moon_20378.png\n",
      "../dataset_releases/data_release_beta4_standard/textbook_images/loss_of_soil_20230.png\n",
      "../dataset_releases/data_release_beta4_standard/textbook_images/neptune_20985.png\n",
      "../dataset_releases/data_release_beta4_standard/textbook_images/bernoullis_law_22677.png\n",
      "../dataset_releases/data_release_beta4_standard/textbook_images/earths_mantle_20722.png\n",
      "../dataset_releases/data_release_beta4_standard/textbook_images/how_animals_evolved_21300.png\n",
      "../dataset_releases/data_release_beta4_standard/textbook_images/features_of_populations_21826.png\n",
      "../dataset_releases/data_release_beta4_standard/textbook_images/geological_stresses_20803.png\n",
      "../dataset_releases/data_release_beta4_standard/textbook_images/absolute_ages_of_rocks_20068.png\n",
      "../dataset_releases/data_release_beta4_standard/textbook_images/landforms_from_glacial_erosion_and_deposition_20888.png\n",
      "../dataset_releases/data_release_beta4_standard/textbook_images/hydrocarbons_22634.png\n",
      "../dataset_releases/data_release_beta4_standard/textbook_images/effects_of_air_pollution_20329.png\n",
      "../dataset_releases/data_release_beta4_standard/textbook_images/ocean_movements_20117.png\n",
      "../dataset_releases/data_release_beta4_standard/textbook_images/gene_therapy_21856.png\n",
      "../dataset_releases/data_release_beta4_standard/textbook_images/air_movement_20151.png\n",
      "../dataset_releases/data_release_beta4_standard/textbook_images/telescopes_20343.png\n",
      "../dataset_releases/data_release_beta4_standard/textbook_images/color_22729.png\n",
      "../dataset_releases/data_release_beta4_standard/textbook_images/electrical_grid_22796.png\n",
      "../dataset_releases/data_release_beta4_standard/textbook_images/thomsons_atomic_model_23123.png\n",
      "../dataset_releases/data_release_beta4_standard/textbook_images/acceleration_22651.png\n",
      "../dataset_releases/data_release_beta4_standard/textbook_images/the_light_we_see_22438.png\n",
      "../dataset_releases/data_release_beta4_standard/textbook_images/introduction_to_vertebrates_21336.png\n",
      "../dataset_releases/data_release_beta4_standard/textbook_images/classes_of_elements_22581.png\n",
      "../dataset_releases/data_release_beta4_standard/textbook_images/reproduction_and_life_stages_21506.png\n",
      "../dataset_releases/data_release_beta4_standard/textbook_images/weather_fronts_21235.png\n",
      "../dataset_releases/data_release_beta4_standard/textbook_images/keeping_bones_and_joints_healthy_21938.png\n",
      "../dataset_releases/data_release_beta4_standard/textbook_images/mollusks_and_annelids_21321.png\n",
      "../dataset_releases/data_release_beta4_standard/textbook_images/how_animals_evolved_21302.png\n",
      "../dataset_releases/data_release_beta4_standard/textbook_images/human_population_21891.png\n",
      "../dataset_releases/data_release_beta4_standard/textbook_images/principle_of_uniformitarianism_21050.png\n",
      "../dataset_releases/data_release_beta4_standard/textbook_images/reducing_air_pollution_20333.png\n",
      "../dataset_releases/data_release_beta4_standard/textbook_images/electric_safety_22791.png\n",
      "../dataset_releases/data_release_beta4_standard/textbook_images/cell_structures_21580.png\n",
      "../dataset_releases/data_release_beta4_standard/textbook_images/use_and_conservation_of_resources_20288.png\n",
      "../dataset_releases/data_release_beta4_standard/textbook_images/transfer_of_electric_charge_23126.png\n",
      "../dataset_releases/data_release_beta4_standard/textbook_images/lifes_building_blocks_21571.png\n",
      "../dataset_releases/data_release_beta4_standard/textbook_images/evaporation_22834.png\n",
      "../dataset_releases/data_release_beta4_standard/textbook_images/earth_science_and_its_branches_20013.png\n",
      "../dataset_releases/data_release_beta4_standard/textbook_images/gymnosperms_21860.png\n",
      "../dataset_releases/data_release_beta4_standard/textbook_images/star_classification_21131.png\n",
      "../dataset_releases/data_release_beta4_standard/textbook_images/blood_21439.png\n",
      "../dataset_releases/data_release_beta4_standard/textbook_images/water_pollution_20308.png\n",
      "../dataset_releases/data_release_beta4_standard/textbook_images/excretory_system_problems_21824.png\n",
      "../dataset_releases/data_release_beta4_standard/textbook_images/the_nitrogen_cycle_22168.png\n",
      "../dataset_releases/data_release_beta4_standard/textbook_images/visible_light_and_matter_23155.png\n",
      "../dataset_releases/data_release_beta4_standard/textbook_images/respiratory_system_diseases_22110.png\n",
      "../dataset_releases/data_release_beta4_standard/textbook_images/how_fossilization_creates_fossils_20844.png\n",
      "../dataset_releases/data_release_beta4_standard/textbook_images/reptiles_22106.png\n",
      "../dataset_releases/data_release_beta4_standard/textbook_images/optics_22451.png\n",
      "../dataset_releases/data_release_beta4_standard/textbook_images/nuclear_energy_22234.png\n",
      "../dataset_releases/data_release_beta4_standard/textbook_images/fungi_21691.png\n",
      "../dataset_releases/data_release_beta4_standard/textbook_images/asexual_vs._sexual_reproduction_21716.png\n",
      "../dataset_releases/data_release_beta4_standard/textbook_images/atomic_number_22675.png\n",
      "../dataset_releases/data_release_beta4_standard/textbook_images/transverse_wave_23129.png\n",
      "../dataset_releases/data_release_beta4_standard/textbook_images/groundwater_20097.png\n",
      "../dataset_releases/data_release_beta4_standard/textbook_images/electric_charge_22468.png\n",
      "../dataset_releases/data_release_beta4_standard/textbook_images/layers_of_the_atmosphere_20147.png\n",
      "../dataset_releases/data_release_beta4_standard/textbook_images/sedimentary_rocks_20480.png\n",
      "../dataset_releases/data_release_beta4_standard/textbook_images/turtles_22181.png\n",
      "../dataset_releases/data_release_beta4_standard/textbook_images/evolution_and_classification_of_plants_21280.png\n",
      "../dataset_releases/data_release_beta4_standard/textbook_images/water_pollution_20306.png\n",
      "../dataset_releases/data_release_beta4_standard/textbook_images/science_skills_22398.png\n",
      "../dataset_releases/data_release_beta4_standard/textbook_images/formation_of_minerals_20458.png\n",
      "../dataset_releases/data_release_beta4_standard/textbook_images/protons_23044.png\n",
      "../dataset_releases/data_release_beta4_standard/textbook_images/earths_tectonic_plates_20724.png\n",
      "../dataset_releases/data_release_beta4_standard/textbook_images/adaptation_and_evolution_of_populations_20606.png\n",
      "../dataset_releases/data_release_beta4_standard/textbook_images/what_is_force_22254.png\n",
      "../dataset_releases/data_release_beta4_standard/textbook_images/landforms_from_glacial_erosion_and_deposition_20890.png\n",
      "../dataset_releases/data_release_beta4_standard/textbook_images/convection_22750.png\n",
      "../dataset_releases/data_release_beta4_standard/textbook_images/influences_on_darwin_21922.png\n",
      "../dataset_releases/data_release_beta4_standard/textbook_images/potential_energy_23024.png\n",
      "../dataset_releases/data_release_beta4_standard/textbook_images/principle_of_horizontality_21049.png\n",
      "../dataset_releases/data_release_beta4_standard/textbook_images/bohrs_atomic_model_22682.png\n",
      "../dataset_releases/data_release_beta4_standard/textbook_images/translation_of_rna_to_protein_22177.png\n",
      "../dataset_releases/data_release_beta4_standard/textbook_images/hydrocarbons_22637.png\n",
      "../dataset_releases/data_release_beta4_standard/textbook_images/air_pollution_21554.png\n",
      "../dataset_releases/data_release_beta4_standard/textbook_images/overview_of_the_cardiovascular_system_21432.png\n",
      "../dataset_releases/data_release_beta4_standard/textbook_images/characteristics_of_waves_22374.png\n",
      "../dataset_releases/data_release_beta4_standard/textbook_images/food_and_nutrients_21841.png\n",
      "../dataset_releases/data_release_beta4_standard/textbook_images/scientific_measuring_devices_23066.png\n",
      "../dataset_releases/data_release_beta4_standard/textbook_images/types_of_volcanoes_21197.png\n",
      "../dataset_releases/data_release_beta4_standard/textbook_images/seasons_21095.png\n",
      "../dataset_releases/data_release_beta4_standard/textbook_images/air_quality_20615.png\n",
      "../dataset_releases/data_release_beta4_standard/textbook_images/thomsons_atomic_model_23120.png\n",
      "../dataset_releases/data_release_beta4_standard/textbook_images/how_animals_evolved_21297.png\n",
      "../dataset_releases/data_release_beta4_standard/textbook_images/hydrocarbons_22629.png\n",
      "../dataset_releases/data_release_beta4_standard/textbook_images/thomsons_atomic_model_23121.png\n",
      "../dataset_releases/data_release_beta4_standard/textbook_images/the_atmosphere_20133.png\n",
      "../dataset_releases/data_release_beta4_standard/textbook_images/fungi_21692.png\n",
      "../dataset_releases/data_release_beta4_standard/textbook_images/loss_of_soil_20233.png\n",
      "../dataset_releases/data_release_beta4_standard/textbook_images/electronics_22481.png\n",
      "../dataset_releases/data_release_beta4_standard/textbook_images/surface_water_20090.png\n",
      "../dataset_releases/data_release_beta4_standard/textbook_images/nerve_cells_and_nerve_impulses_22006.png\n",
      "../dataset_releases/data_release_beta4_standard/textbook_images/reduce_reuse_and_recycle_22097.png\n",
      "../dataset_releases/data_release_beta4_standard/textbook_images/coastal_pollution_20672.png\n",
      "../dataset_releases/data_release_beta4_standard/textbook_images/bacteria_21675.png\n",
      "../dataset_releases/data_release_beta4_standard/textbook_images/characteristics_of_life_21768.png\n",
      "../dataset_releases/data_release_beta4_standard/textbook_images/sponges_22153.png\n",
      "../dataset_releases/data_release_beta4_standard/textbook_images/electronic_device_22814.png\n",
      "../dataset_releases/data_release_beta4_standard/textbook_images/stress_in_earths_crust_20525.png\n",
      "../dataset_releases/data_release_beta4_standard/textbook_images/water_pollution_20303.png\n",
      "../dataset_releases/data_release_beta4_standard/textbook_images/electronic_component_22812.png\n",
      "../dataset_releases/data_release_beta4_standard/textbook_images/simple_machines_22326.png\n",
      "../dataset_releases/data_release_beta4_standard/textbook_images/agriculture_and_human_population_growth_20610.png\n",
      "../dataset_releases/data_release_beta4_standard/textbook_images/electronics_22483.png\n",
      "../dataset_releases/data_release_beta4_standard/textbook_images/geological_stresses_20801.png\n",
      "../dataset_releases/data_release_beta4_standard/textbook_images/succession_22159.png\n",
      "../dataset_releases/data_release_beta4_standard/textbook_images/technology_and_society_23110.png\n",
      "../dataset_releases/data_release_beta4_standard/textbook_images/newtons_first_law_22281.png\n",
      "../dataset_releases/data_release_beta4_standard/textbook_images/streams_and_rivers_21140.png\n",
      "../dataset_releases/data_release_beta4_standard/textbook_images/components_of_blood_21788.png\n",
      "../dataset_releases/data_release_beta4_standard/textbook_images/the_ocean_floor_20122.png\n",
      "../dataset_releases/data_release_beta4_standard/textbook_images/theory_of_plate_tectonics_20509.png\n",
      "../dataset_releases/data_release_beta4_standard/textbook_images/mendels_discoveries_21623.png\n",
      "../dataset_releases/data_release_beta4_standard/textbook_images/carbon_and_living_things_22640.png\n",
      "../dataset_releases/data_release_beta4_standard/textbook_images/fungi_21850.png\n",
      "../dataset_releases/data_release_beta4_standard/textbook_images/population_growth_patterns_22070.png\n",
      "../dataset_releases/data_release_beta4_standard/textbook_images/mitosis_and_cytokinesis_21990.png\n",
      "../dataset_releases/data_release_beta4_standard/textbook_images/rutherfords_atomic_model_23057.png\n",
      "../dataset_releases/data_release_beta4_standard/textbook_images/electric_transformers_22793.png\n",
      "../dataset_releases/data_release_beta4_standard/textbook_images/chordates_21778.png\n",
      "../dataset_releases/data_release_beta4_standard/textbook_images/generating_and_using_electricity_22514.png\n",
      "../dataset_releases/data_release_beta4_standard/textbook_images/milky_way_20944.png\n",
      "../dataset_releases/data_release_beta4_standard/textbook_images/surface_wave_23104.png\n",
      "../dataset_releases/data_release_beta4_standard/textbook_images/safety_in_the_life_sciences_22122.png\n",
      "../dataset_releases/data_release_beta4_standard/textbook_images/changes_of_state_22551.png\n",
      "../dataset_releases/data_release_beta4_standard/textbook_images/water_pollution_21557.png\n",
      "../dataset_releases/data_release_beta4_standard/textbook_images/cloning_21784.png\n",
      "../dataset_releases/data_release_beta4_standard/textbook_images/machines_22316.png\n",
      "../dataset_releases/data_release_beta4_standard/textbook_images/choosing_healthy_foods_21775.png\n",
      "../dataset_releases/data_release_beta4_standard/textbook_images/changing_weather_20161.png\n",
      "../dataset_releases/data_release_beta4_standard/textbook_images/angiosperms_21701.png\n",
      "../dataset_releases/data_release_beta4_standard/textbook_images/passive_transport_22040.png\n",
      "../dataset_releases/data_release_beta4_standard/textbook_images/organic_compounds_22019.png\n",
      "../dataset_releases/data_release_beta4_standard/textbook_images/outer_planets_20409.png\n",
      "../dataset_releases/data_release_beta4_standard/textbook_images/telescopes_20335.png\n",
      "../dataset_releases/data_release_beta4_standard/textbook_images/continental_drift_20500.png\n",
      "../dataset_releases/data_release_beta4_standard/textbook_images/crustaceans_21796.png\n",
      "../dataset_releases/data_release_beta4_standard/textbook_images/transverse_wave_23130.png\n",
      "../dataset_releases/data_release_beta4_standard/textbook_images/using_electromagnetism_22506.png\n",
      "../dataset_releases/data_release_beta4_standard/textbook_images/photosynthesis_reactions_23012.png\n",
      "../dataset_releases/data_release_beta4_standard/textbook_images/telescopes_20341.png\n",
      "../dataset_releases/data_release_beta4_standard/textbook_images/protists_21684.png\n",
      "../dataset_releases/data_release_beta4_standard/textbook_images/hot_springs_and_geysers_20838.png\n",
      "../dataset_releases/data_release_beta4_standard/textbook_images/friction_22852.png\n",
      "../dataset_releases/data_release_beta4_standard/textbook_images/air_pollution_20319.png\n",
      "../dataset_releases/data_release_beta4_standard/textbook_images/other_objects_in_the_solar_system_20421.png\n",
      "../dataset_releases/data_release_beta4_standard/textbook_images/flow_of_energy_21540.png\n",
      "../dataset_releases/data_release_beta4_standard/textbook_images/cellular_respiration_21593.png\n",
      "../dataset_releases/data_release_beta4_standard/textbook_images/cooling_systems_22751.png\n",
      "../dataset_releases/data_release_beta4_standard/textbook_images/what_are_animals_21293.png\n",
      "../dataset_releases/data_release_beta4_standard/textbook_images/use_and_conservation_of_energy_20290.png\n",
      "../dataset_releases/data_release_beta4_standard/textbook_images/learned_behavior_of_animals_21949.png\n",
      "../dataset_releases/data_release_beta4_standard/textbook_images/revolutions_of_earth_21069.png\n",
      "../dataset_releases/data_release_beta4_standard/textbook_images/continental_drift_20680.png\n",
      "../dataset_releases/data_release_beta4_standard/textbook_images/agriculture_and_human_population_growth_20607.png\n",
      "../dataset_releases/data_release_beta4_standard/textbook_images/science_skills_22401.png\n",
      "../dataset_releases/data_release_beta4_standard/textbook_images/types_of_animal_behavior_21391.png\n",
      "../dataset_releases/data_release_beta4_standard/textbook_images/mammal_reproduction_21971.png\n",
      "../dataset_releases/data_release_beta4_standard/textbook_images/food_and_nutrients_21417.png\n",
      "../dataset_releases/data_release_beta4_standard/textbook_images/mesozoic_plate_tectonics_20937.png\n",
      "../dataset_releases/data_release_beta4_standard/textbook_images/blood_21440.png\n",
      "../dataset_releases/data_release_beta4_standard/textbook_images/modern_biodiversity_20970.png\n",
      "../dataset_releases/data_release_beta4_standard/textbook_images/air_pressure_and_altitude_22657.png\n",
      "../dataset_releases/data_release_beta4_standard/textbook_images/characteristics_of_waves_22378.png\n",
      "../dataset_releases/data_release_beta4_standard/textbook_images/calculating_acceleration_from_force_and_mass_22692.png\n",
      "../dataset_releases/data_release_beta4_standard/textbook_images/global_warming_20811.png\n",
      "../dataset_releases/data_release_beta4_standard/textbook_images/fossil_fuel_reserves_20790.png\n",
      "../dataset_releases/data_release_beta4_standard/textbook_images/mineral_identification_20963.png\n",
      "../dataset_releases/data_release_beta4_standard/textbook_images/modern_atomic_theory_22575.png\n",
      "../dataset_releases/data_release_beta4_standard/textbook_images/generating_and_using_electricity_22510.png\n",
      "../dataset_releases/data_release_beta4_standard/textbook_images/gravity_22864.png\n",
      "../dataset_releases/data_release_beta4_standard/textbook_images/heat_waves_and_droughts_20828.png\n",
      "../dataset_releases/data_release_beta4_standard/textbook_images/importance_of_mammals_21912.png\n",
      "../dataset_releases/data_release_beta4_standard/textbook_images/bacteria_reproduction_21726.png\n",
      "../dataset_releases/data_release_beta4_standard/textbook_images/habitat_and_niche_21862.png\n",
      "../dataset_releases/data_release_beta4_standard/textbook_images/law_of_reflection_22918.png\n",
      "../dataset_releases/data_release_beta4_standard/textbook_images/principles_of_relative_dating_21054.png\n",
      "../dataset_releases/data_release_beta4_standard/textbook_images/finding_and_mining_ores_20769.png\n",
      "../dataset_releases/data_release_beta4_standard/textbook_images/use_and_conservation_of_resources_20283.png\n",
      "../dataset_releases/data_release_beta4_standard/textbook_images/diversity_of_birds_21810.png\n",
      "../dataset_releases/data_release_beta4_standard/textbook_images/carbon_bonding_22700.png\n",
      "../dataset_releases/data_release_beta4_standard/textbook_images/influences_on_weathering_20862.png\n",
      "../dataset_releases/data_release_beta4_standard/textbook_images/characteristics_of_sound_22407.png\n",
      "../dataset_releases/data_release_beta4_standard/textbook_images/coal_power_20667.png\n",
      "../dataset_releases/data_release_beta4_standard/textbook_images/flatworms_and_roundworms_21316.png\n",
      "../dataset_releases/data_release_beta4_standard/textbook_images/faults_20764.png\n",
      "../dataset_releases/data_release_beta4_standard/textbook_images/using_electromagnetism_22503.png\n",
      "../dataset_releases/data_release_beta4_standard/textbook_images/surface_water_20093.png\n",
      "../dataset_releases/data_release_beta4_standard/textbook_images/newtons_first_law_22973.png\n",
      "../dataset_releases/data_release_beta4_standard/textbook_images/groups_of_elements_22585.png\n",
      "../dataset_releases/data_release_beta4_standard/textbook_images/characteristics_of_life_21767.png\n",
      "../dataset_releases/data_release_beta4_standard/textbook_images/erosion_and_deposition_by_wind_20037.png\n",
      "../dataset_releases/data_release_beta4_standard/textbook_images/protists_21682.png\n",
      "../dataset_releases/data_release_beta4_standard/textbook_images/uses_of_water_21205.png\n",
      "../dataset_releases/data_release_beta4_standard/textbook_images/influences_on_weathering_20863.png\n",
      "../dataset_releases/data_release_beta4_standard/textbook_images/effusive_eruptions_20739.png\n",
      "../dataset_releases/data_release_beta4_standard/textbook_images/changing_weather_20163.png\n",
      "../dataset_releases/data_release_beta4_standard/textbook_images/behavior_of_gases_22543.png\n",
      "../dataset_releases/data_release_beta4_standard/textbook_images/metamorphic_rocks_20482.png\n",
      "../dataset_releases/data_release_beta4_standard/textbook_images/the_scale_of_evolution_21650.png\n",
      "../dataset_releases/data_release_beta4_standard/textbook_images/pressure_of_fluids_22296.png\n",
      "../dataset_releases/data_release_beta4_standard/textbook_images/groundwater_20098.png\n",
      "../dataset_releases/data_release_beta4_standard/textbook_images/seafloor_spreading_20504.png\n",
      "../dataset_releases/data_release_beta4_standard/textbook_images/electronics_22482.png\n",
      "../dataset_releases/data_release_beta4_standard/textbook_images/preventing_infectious_diseases_22078.png\n",
      "../dataset_releases/data_release_beta4_standard/textbook_images/wave_interference_23168.png\n",
      "../dataset_releases/data_release_beta4_standard/textbook_images/optics_22458.png\n",
      "../dataset_releases/data_release_beta4_standard/textbook_images/longitudinal_wave_22932.png\n",
      "../dataset_releases/data_release_beta4_standard/textbook_images/frogs_and_toads_21848.png\n",
      "../dataset_releases/data_release_beta4_standard/textbook_images/valence_electrons_23146.png\n",
      "../dataset_releases/data_release_beta4_standard/textbook_images/electric_safety_22790.png\n",
      "../dataset_releases/data_release_beta4_standard/textbook_images/big_bang_20630.png\n",
      "../dataset_releases/data_release_beta4_standard/textbook_images/magnets_and_magnetism_22486.png\n",
      "../dataset_releases/data_release_beta4_standard/textbook_images/daltons_atomic_theory_22758.png\n",
      "../dataset_releases/data_release_beta4_standard/textbook_images/sustainable_development_21152.png\n",
      "../dataset_releases/data_release_beta4_standard/textbook_images/blizzards_20637.png\n",
      "../dataset_releases/data_release_beta4_standard/textbook_images/cardiovascular_diseases_21749.png\n",
      "../dataset_releases/data_release_beta4_standard/textbook_images/nature_of_earthquakes_20550.png\n",
      "../dataset_releases/data_release_beta4_standard/textbook_images/hydrocarbons_22636.png\n",
      "../dataset_releases/data_release_beta4_standard/textbook_images/mammals_21370.png\n",
      "../dataset_releases/data_release_beta4_standard/textbook_images/water_pollution_20305.png\n",
      "../dataset_releases/data_release_beta4_standard/textbook_images/other_objects_in_the_solar_system_20424.png\n",
      "../dataset_releases/data_release_beta4_standard/textbook_images/buoyancy_22689.png\n",
      "../dataset_releases/data_release_beta4_standard/textbook_images/chemical_and_solar_cells_22712.png\n",
      "../dataset_releases/data_release_beta4_standard/textbook_images/buoyancy_of_fluids_22301.png\n",
      "../dataset_releases/data_release_beta4_standard/textbook_images/electricity_and_magnetism_22501.png\n",
      "../dataset_releases/data_release_beta4_standard/textbook_images/global_warming_20810.png\n",
      "../dataset_releases/data_release_beta4_standard/textbook_images/using_electromagnetism_22504.png\n",
      "../dataset_releases/data_release_beta4_standard/textbook_images/scientific_investigation_22393.png\n",
      "../dataset_releases/data_release_beta4_standard/textbook_images/soil_erosion_21120.png\n",
      "../dataset_releases/data_release_beta4_standard/textbook_images/chemical_bond_22715.png\n",
      "../dataset_releases/data_release_beta4_standard/textbook_images/optics_22448.png\n",
      "../dataset_releases/data_release_beta4_standard/textbook_images/galaxies_20431.png\n",
      "../dataset_releases/data_release_beta4_standard/textbook_images/orbital_motion_23003.png\n",
      "../dataset_releases/data_release_beta4_standard/textbook_images/the_skeletal_system_21406.png\n",
      "../dataset_releases/data_release_beta4_standard/textbook_images/minerals_20446.png\n",
      "../dataset_releases/data_release_beta4_standard/textbook_images/the_skeletal_system_21408.png\n",
      "../dataset_releases/data_release_beta4_standard/textbook_images/using_earths_magnetic_field_23143.png\n",
      "../dataset_releases/data_release_beta4_standard/textbook_images/echinoderms_and_invertebrate_chordates_21332.png\n",
      "../dataset_releases/data_release_beta4_standard/textbook_images/principles_of_relative_dating_21053.png\n",
      "../dataset_releases/data_release_beta4_standard/textbook_images/history_of_the_atom_22566.png\n",
      "../dataset_releases/data_release_beta4_standard/textbook_images/simple_machines_22321.png\n",
      "../dataset_releases/data_release_beta4_standard/textbook_images/motion_22964.png\n",
      "../dataset_releases/data_release_beta4_standard/textbook_images/introduction_to_earths_surface_20252.png\n",
      "../dataset_releases/data_release_beta4_standard/textbook_images/the_senses_21476.png\n",
      "../dataset_releases/data_release_beta4_standard/textbook_images/visible_light_and_matter_23154.png\n",
      "../dataset_releases/data_release_beta4_standard/textbook_images/innate_behavior_of_animals_21927.png\n",
      "../dataset_releases/data_release_beta4_standard/textbook_images/unsaturated_hydrocarbons_23139.png\n",
      "../dataset_releases/data_release_beta4_standard/textbook_images/the_nature_of_science_20006.png\n",
      "../dataset_releases/data_release_beta4_standard/textbook_images/oil_spills_21008.png\n",
      "../dataset_releases/data_release_beta4_standard/textbook_images/volcanoes_at_plate_boundaries_21221.png\n",
      "../dataset_releases/data_release_beta4_standard/textbook_images/ferromagnetic_material_22838.png\n",
      "../dataset_releases/data_release_beta4_standard/textbook_images/absolute_ages_of_rocks_20065.png\n",
      "../dataset_releases/data_release_beta4_standard/textbook_images/male_reproductive_system_21503.png\n",
      "../dataset_releases/data_release_beta4_standard/textbook_images/telescopes_20338.png\n",
      "../dataset_releases/data_release_beta4_standard/textbook_images/types_of_archaea_22184.png\n",
      "../dataset_releases/data_release_beta4_standard/textbook_images/ocean_movements_20115.png\n",
      "../dataset_releases/data_release_beta4_standard/textbook_images/types_of_marine_organisms_21188.png\n",
      "../dataset_releases/data_release_beta4_standard/textbook_images/tornadoes_21166.png\n",
      "../dataset_releases/data_release_beta4_standard/textbook_images/optics_22445.png\n",
      "../dataset_releases/data_release_beta4_standard/textbook_images/hearing_sound_22415.png\n",
      "../dataset_releases/data_release_beta4_standard/textbook_images/types_of_matter_22525.png\n",
      "../dataset_releases/data_release_beta4_standard/textbook_images/inside_the_atom_22560.png\n",
      "../dataset_releases/data_release_beta4_standard/textbook_images/protecting_the_water_supply_20311.png\n",
      "../dataset_releases/data_release_beta4_standard/textbook_images/world_climates_20191.png\n",
      "../dataset_releases/data_release_beta4_standard/textbook_images/carbon_cycle_and_climate_20641.png\n",
      "../dataset_releases/data_release_beta4_standard/textbook_images/the_nervous_system_21468.png\n",
      "../dataset_releases/data_release_beta4_standard/textbook_images/scientific_induction_23064.png\n",
      "../dataset_releases/data_release_beta4_standard/textbook_images/evolution_and_classification_of_plants_21275.png\n",
      "../dataset_releases/data_release_beta4_standard/textbook_images/potential_energy_23022.png\n",
      "../dataset_releases/data_release_beta4_standard/textbook_images/tornadoes_21167.png\n",
      "../dataset_releases/data_release_beta4_standard/textbook_images/chemical_and_solar_cells_22713.png\n",
      "../dataset_releases/data_release_beta4_standard/textbook_images/microwaves_22950.png\n",
      "../dataset_releases/data_release_beta4_standard/textbook_images/blood_diseases_21739.png\n",
      "../dataset_releases/data_release_beta4_standard/textbook_images/microwaves_22949.png\n",
      "../dataset_releases/data_release_beta4_standard/textbook_images/ocean_movements_20121.png\n",
      "../dataset_releases/data_release_beta4_standard/textbook_images/earth_as_a_magnet_22493.png\n",
      "../dataset_releases/data_release_beta4_standard/textbook_images/amphibians_21349.png\n",
      "../dataset_releases/data_release_beta4_standard/textbook_images/characteristics_of_life_21769.png\n",
      "../dataset_releases/data_release_beta4_standard/textbook_images/cardiovascular_diseases_21748.png\n",
      "../dataset_releases/data_release_beta4_standard/textbook_images/types_of_friction_23132.png\n",
      "../dataset_releases/data_release_beta4_standard/textbook_images/renewable_energy_resources_20494.png\n",
      "../dataset_releases/data_release_beta4_standard/textbook_images/solute_and_solvent_23086.png\n",
      "../dataset_releases/data_release_beta4_standard/textbook_images/work_22309.png\n",
      "../dataset_releases/data_release_beta4_standard/textbook_images/the_skeletal_system_21405.png\n",
      "../dataset_releases/data_release_beta4_standard/textbook_images/cleaning_up_groundwater_20660.png\n",
      "../dataset_releases/data_release_beta4_standard/textbook_images/nature_of_earthquakes_20544.png\n",
      "../dataset_releases/data_release_beta4_standard/textbook_images/bathymetric_evidence_for_seafloor_spreading_20626.png\n",
      "../dataset_releases/data_release_beta4_standard/textbook_images/renewable_energy_resources_20490.png\n",
      "../dataset_releases/data_release_beta4_standard/textbook_images/plant_responses_and_special_adaptations_21286.png\n",
      "../dataset_releases/data_release_beta4_standard/textbook_images/solids_liquids_gases_and_plasmas_22538.png\n",
      "../dataset_releases/data_release_beta4_standard/textbook_images/nonrenewable_resources_22013.png\n",
      "../dataset_releases/data_release_beta4_standard/textbook_images/explosive_eruptions_20759.png\n",
      "../dataset_releases/data_release_beta4_standard/textbook_images/recognizing_chemical_reactions_23053.png\n",
      "../dataset_releases/data_release_beta4_standard/textbook_images/fungi_21685.png\n",
      "../dataset_releases/data_release_beta4_standard/textbook_images/electronic_component_22810.png\n",
      "../dataset_releases/data_release_beta4_standard/textbook_images/levels_of_ecological_organization_21951.png\n",
      "../dataset_releases/data_release_beta4_standard/textbook_images/mineral_formation_20951.png\n",
      "../dataset_releases/data_release_beta4_standard/textbook_images/light_reactions_of_photosynthesis_21954.png\n",
      "../dataset_releases/data_release_beta4_standard/textbook_images/energy_pyramids_21821.png\n",
      "../dataset_releases/data_release_beta4_standard/textbook_images/modeling_earths_surface_20253.png\n",
      "../dataset_releases/data_release_beta4_standard/textbook_images/metamorphic_rocks_20481.png\n",
      "../dataset_releases/data_release_beta4_standard/textbook_images/gases_22860.png\n",
      "../dataset_releases/data_release_beta4_standard/textbook_images/renewable_energy_resources_20491.png\n",
      "../dataset_releases/data_release_beta4_standard/textbook_images/introduction_to_prokaryotes_21666.png\n",
      "../dataset_releases/data_release_beta4_standard/textbook_images/nature_of_science_22968.png\n",
      "../dataset_releases/data_release_beta4_standard/textbook_images/stress_in_earths_crust_20532.png\n",
      "../dataset_releases/data_release_beta4_standard/textbook_images/loss_of_soil_20231.png\n",
      "../dataset_releases/data_release_beta4_standard/textbook_images/gymnosperms_21857.png\n",
      "../dataset_releases/data_release_beta4_standard/textbook_images/rate_of_dissolving_23050.png\n",
      "../dataset_releases/data_release_beta4_standard/textbook_images/nuclear_fusion_22990.png\n",
      "../dataset_releases/data_release_beta4_standard/textbook_images/transfer_of_thermal_energy_22362.png\n",
      "../dataset_releases/data_release_beta4_standard/textbook_images/seasons_21097.png\n",
      "../dataset_releases/data_release_beta4_standard/textbook_images/using_sound_22418.png\n",
      "../dataset_releases/data_release_beta4_standard/textbook_images/theory_of_plate_tectonics_20513.png\n",
      "../dataset_releases/data_release_beta4_standard/textbook_images/infancy_and_childhood_21919.png\n",
      "../dataset_releases/data_release_beta4_standard/textbook_images/biomes_21536.png\n",
      "../dataset_releases/data_release_beta4_standard/textbook_images/birds_21357.png\n",
      "../dataset_releases/data_release_beta4_standard/textbook_images/viruses_22200.png\n",
      "../dataset_releases/data_release_beta4_standard/textbook_images/the_digestive_system_21429.png\n",
      "../dataset_releases/data_release_beta4_standard/textbook_images/the_electromagnetic_spectrum_22432.png\n",
      "../dataset_releases/data_release_beta4_standard/textbook_images/divergent_plate_boundaries_20694.png\n",
      "../dataset_releases/data_release_beta4_standard/textbook_images/introduction_to_prokaryotes_21668.png\n",
      "../dataset_releases/data_release_beta4_standard/textbook_images/cyclic_behavior_of_animals_21798.png\n",
      "../dataset_releases/data_release_beta4_standard/textbook_images/energy_resources_22354.png\n",
      "../dataset_releases/data_release_beta4_standard/textbook_images/history_of_earths_life_forms_20078.png\n",
      "../dataset_releases/data_release_beta4_standard/textbook_images/flow_of_matter_in_ecosystems_20778.png\n",
      "../dataset_releases/data_release_beta4_standard/textbook_images/what_is_force_22258.png\n",
      "../dataset_releases/data_release_beta4_standard/textbook_images/respiratory_system_diseases_22112.png\n",
      "../dataset_releases/data_release_beta4_standard/textbook_images/erosion_and_deposition_by_flowing_water_20027.png\n",
      "../dataset_releases/data_release_beta4_standard/textbook_images/cyclic_behavior_of_animals_21797.png\n",
      "../dataset_releases/data_release_beta4_standard/textbook_images/nuclear_fusion_22988.png\n",
      "../dataset_releases/data_release_beta4_standard/textbook_images/earthquake_zones_20710.png\n",
      "../dataset_releases/data_release_beta4_standard/textbook_images/succession_22157.png\n",
      "../dataset_releases/data_release_beta4_standard/textbook_images/the_nervous_system_21472.png\n",
      "../dataset_releases/data_release_beta4_standard/textbook_images/temperature_of_the_atmosphere_21154.png\n",
      "../dataset_releases/data_release_beta4_standard/textbook_images/using_satellites_and_computers_20279.png\n",
      "../dataset_releases/data_release_beta4_standard/textbook_images/vascular_seedless_plants_22194.png\n",
      "../dataset_releases/data_release_beta4_standard/textbook_images/plant_responses_and_special_adaptations_21285.png\n",
      "../dataset_releases/data_release_beta4_standard/textbook_images/nuclear_fission_22987.png\n",
      "../dataset_releases/data_release_beta4_standard/textbook_images/the_atmosphere_20137.png\n",
      "../dataset_releases/data_release_beta4_standard/textbook_images/enzymes_in_the_digestive_system_21822.png\n",
      "../dataset_releases/data_release_beta4_standard/textbook_images/sponges_and_cnidarians_21308.png\n",
      "../dataset_releases/data_release_beta4_standard/textbook_images/what_is_science_22207.png\n",
      "../dataset_releases/data_release_beta4_standard/textbook_images/acid_base_neutralization_22654.png\n",
      "../dataset_releases/data_release_beta4_standard/textbook_images/saturn_21087.png\n",
      "../dataset_releases/data_release_beta4_standard/textbook_images/optics_22456.png\n",
      "../dataset_releases/data_release_beta4_standard/textbook_images/ocean_movements_20116.png\n",
      "../dataset_releases/data_release_beta4_standard/textbook_images/chemical_weathering_20658.png\n",
      "../dataset_releases/data_release_beta4_standard/textbook_images/nuclear_energy_22235.png\n",
      "../dataset_releases/data_release_beta4_standard/textbook_images/scientific_explanations_and_interpretations_21092.png\n",
      "../dataset_releases/data_release_beta4_standard/textbook_images/mass_extinctions_21976.png\n",
      "../dataset_releases/data_release_beta4_standard/textbook_images/female_reproductive_structures_21828.png\n",
      "../dataset_releases/data_release_beta4_standard/textbook_images/machines_22312.png\n",
      "../dataset_releases/data_release_beta4_standard/textbook_images/melting_22941.png\n",
      "../dataset_releases/data_release_beta4_standard/textbook_images/ocean_ecosystems_21001.png\n",
      "../dataset_releases/data_release_beta4_standard/textbook_images/cellular_respiration_reactions_22708.png\n",
      "../dataset_releases/data_release_beta4_standard/textbook_images/fish_21342.png\n",
      "../dataset_releases/data_release_beta4_standard/textbook_images/the_ocean_floor_20126.png\n",
      "../dataset_releases/data_release_beta4_standard/textbook_images/distance_22772.png\n",
      "../dataset_releases/data_release_beta4_standard/textbook_images/non_renewable_energy_resources_20988.png\n",
      "../dataset_releases/data_release_beta4_standard/textbook_images/early_atmosphere_and_oceans_20699.png\n",
      "../dataset_releases/data_release_beta4_standard/textbook_images/petroleum_power_21021.png\n",
      "../dataset_releases/data_release_beta4_standard/textbook_images/erosion_and_deposition_by_flowing_water_20019.png\n",
      "../dataset_releases/data_release_beta4_standard/textbook_images/introduction_to_vertebrates_21337.png\n",
      "../dataset_releases/data_release_beta4_standard/textbook_images/blood_21438.png\n",
      "../dataset_releases/data_release_beta4_standard/textbook_images/asexual_vs._sexual_reproduction_21715.png\n",
      "../dataset_releases/data_release_beta4_standard/textbook_images/basic_and_applied_science_21730.png\n",
      "../dataset_releases/data_release_beta4_standard/textbook_images/the_light_we_see_22442.png\n",
      "../dataset_releases/data_release_beta4_standard/textbook_images/alkaline_earth_metals_22659.png\n",
      "../dataset_releases/data_release_beta4_standard/textbook_images/newtons_second_law_22285.png\n",
      "../dataset_releases/data_release_beta4_standard/textbook_images/understanding_animal_behavior_21382.png\n",
      "../dataset_releases/data_release_beta4_standard/textbook_images/dwarf_planets_20697.png\n",
      "../dataset_releases/data_release_beta4_standard/textbook_images/solar_energy_on_earth_21126.png\n",
      "../dataset_releases/data_release_beta4_standard/textbook_images/natural_resources_21560.png\n",
      "../dataset_releases/data_release_beta4_standard/textbook_images/minerals_20448.png\n",
      "../dataset_releases/data_release_beta4_standard/textbook_images/types_of_volcanoes_20583.png\n",
      "../dataset_releases/data_release_beta4_standard/textbook_images/volcano_characteristics_21217.png\n",
      "../dataset_releases/data_release_beta4_standard/textbook_images/humans_and_the_water_supply_20300.png\n",
      "../dataset_releases/data_release_beta4_standard/textbook_images/landforms_from_groundwater_erosion_and_deposition_20897.png\n",
      "../dataset_releases/data_release_beta4_standard/textbook_images/noninfectious_diseases_21488.png\n",
      "../dataset_releases/data_release_beta4_standard/textbook_images/hurricanes_20851.png\n",
      "../dataset_releases/data_release_beta4_standard/textbook_images/natural_resources_21565.png\n",
      "../dataset_releases/data_release_beta4_standard/textbook_images/history_of_life_on_earth_21655.png\n",
      "../dataset_releases/data_release_beta4_standard/textbook_images/early_space_exploration_20346.png\n",
      "../dataset_releases/data_release_beta4_standard/textbook_images/human_uses_of_fungi_21895.png\n",
      "../dataset_releases/data_release_beta4_standard/textbook_images/electric_current_22786.png\n",
      "../dataset_releases/data_release_beta4_standard/textbook_images/distribution_of_water_on_earth_20692.png\n",
      "../dataset_releases/data_release_beta4_standard/textbook_images/archaea_21678.png\n",
      "../dataset_releases/data_release_beta4_standard/textbook_images/other_objects_in_the_solar_system_20416.png\n",
      "../dataset_releases/data_release_beta4_standard/textbook_images/inner_planets_20397.png\n",
      "../dataset_releases/data_release_beta4_standard/textbook_images/other_objects_in_the_solar_system_20420.png\n",
      "../dataset_releases/data_release_beta4_standard/textbook_images/solar_energy_on_earth_21127.png\n",
      "../dataset_releases/data_release_beta4_standard/textbook_images/earths_shape_20723.png\n",
      "../dataset_releases/data_release_beta4_standard/textbook_images/volcanic_landforms_21211.png\n",
      "../dataset_releases/data_release_beta4_standard/textbook_images/origin_of_species_22031.png\n",
      "../dataset_releases/data_release_beta4_standard/textbook_images/using_satellites_and_computers_20276.png\n",
      "../dataset_releases/data_release_beta4_standard/textbook_images/gamma_rays_22859.png\n",
      "../dataset_releases/data_release_beta4_standard/textbook_images/radioactivity_23048.png\n",
      "../dataset_releases/data_release_beta4_standard/textbook_images/the_muscular_system_21409.png\n",
      "../dataset_releases/data_release_beta4_standard/textbook_images/alkaline_earth_metals_22660.png\n",
      "../dataset_releases/data_release_beta4_standard/textbook_images/organic_compounds_22024.png\n",
      "../dataset_releases/data_release_beta4_standard/textbook_images/groups_with_metalloids_22865.png\n",
      "../dataset_releases/data_release_beta4_standard/textbook_images/stress_in_earths_crust_20535.png\n",
      "../dataset_releases/data_release_beta4_standard/textbook_images/birds_21737.png\n",
      "../dataset_releases/data_release_beta4_standard/textbook_images/plate_tectonics_through_earth_history_21028.png\n",
      "../dataset_releases/data_release_beta4_standard/textbook_images/safety_in_the_life_sciences_22124.png\n",
      "../dataset_releases/data_release_beta4_standard/textbook_images/igneous_rocks_20475.png\n",
      "../dataset_releases/data_release_beta4_standard/textbook_images/energy_use_20747.png\n",
      "../dataset_releases/data_release_beta4_standard/textbook_images/cell_division_21759.png\n",
      "../dataset_releases/data_release_beta4_standard/textbook_images/fungi_21849.png\n",
      "../dataset_releases/data_release_beta4_standard/textbook_images/ferromagnetic_material_22841.png\n",
      "../dataset_releases/data_release_beta4_standard/textbook_images/screw_23074.png\n",
      "../dataset_releases/data_release_beta4_standard/textbook_images/air_pressure_and_altitude_22658.png\n",
      "../dataset_releases/data_release_beta4_standard/textbook_images/chemical_reaction_rate_22723.png\n",
      "../dataset_releases/data_release_beta4_standard/textbook_images/storms_20172.png\n",
      "../dataset_releases/data_release_beta4_standard/textbook_images/electric_conductors_and_insulators_22785.png\n",
      "../dataset_releases/data_release_beta4_standard/textbook_images/work_22311.png\n",
      "../dataset_releases/data_release_beta4_standard/textbook_images/history_of_mesozoic_life_20833.png\n",
      "../dataset_releases/data_release_beta4_standard/textbook_images/orbital_motion_23002.png\n",
      "../dataset_releases/data_release_beta4_standard/textbook_images/introduction_to_the_oceans_20109.png\n",
      "../dataset_releases/data_release_beta4_standard/textbook_images/ocean_life_20128.png\n",
      "../dataset_releases/data_release_beta4_standard/textbook_images/skeletal_system_joints_22143.png\n",
      "../dataset_releases/data_release_beta4_standard/textbook_images/global_wind_belts_20812.png\n",
      "../dataset_releases/data_release_beta4_standard/textbook_images/human_vision_21897.png\n",
      "../dataset_releases/data_release_beta4_standard/textbook_images/sex_linked_inheritance_22136.png\n",
      "../dataset_releases/data_release_beta4_standard/textbook_images/radiometric_dating_21063.png\n",
      "../dataset_releases/data_release_beta4_standard/textbook_images/classification_of_living_things_21465.png\n",
      "../dataset_releases/data_release_beta4_standard/textbook_images/birds_21361.png\n",
      "../dataset_releases/data_release_beta4_standard/textbook_images/pregnancy_and_childbirth_22074.png\n",
      "../dataset_releases/data_release_beta4_standard/textbook_images/how_elements_are_organized_22576.png\n",
      "../dataset_releases/data_release_beta4_standard/textbook_images/animal_like_protists_21706.png\n",
      "../dataset_releases/data_release_beta4_standard/textbook_images/microevolution_and_macroevolution_21985.png\n",
      "../dataset_releases/data_release_beta4_standard/textbook_images/history_of_the_atom_22567.png\n",
      "../dataset_releases/data_release_beta4_standard/textbook_images/optical_instruments_22999.png\n",
      "../dataset_releases/data_release_beta4_standard/textbook_images/chemistry_of_living_things_21463.png\n",
      "../dataset_releases/data_release_beta4_standard/textbook_images/identification_of_minerals_20453.png\n",
      "../dataset_releases/data_release_beta4_standard/textbook_images/heating_systems_22882.png\n",
      "../dataset_releases/data_release_beta4_standard/textbook_images/clouds_20666.png\n",
      "../dataset_releases/data_release_beta4_standard/textbook_images/food_webs_21842.png\n",
      "../dataset_releases/data_release_beta4_standard/textbook_images/electric_charge_and_electric_force_22782.png\n",
      "../dataset_releases/data_release_beta4_standard/textbook_images/lifes_building_blocks_21574.png\n",
      "../dataset_releases/data_release_beta4_standard/textbook_images/the_human_population_20224.png\n",
      "../dataset_releases/data_release_beta4_standard/textbook_images/jupiter_20879.png\n",
      "../dataset_releases/data_release_beta4_standard/textbook_images/early_space_exploration_20353.png\n",
      "../dataset_releases/data_release_beta4_standard/textbook_images/formation_of_minerals_20459.png\n",
      "../dataset_releases/data_release_beta4_standard/textbook_images/cnidarians_21785.png\n",
      "../dataset_releases/data_release_beta4_standard/textbook_images/how_fossilization_creates_fossils_20846.png\n",
      "../dataset_releases/data_release_beta4_standard/textbook_images/ocean_ecosystems_20998.png\n",
      "../dataset_releases/data_release_beta4_standard/textbook_images/earth_as_a_magnet_22499.png\n",
      "../dataset_releases/data_release_beta4_standard/textbook_images/acids_and_bases_22219.png\n",
      "../dataset_releases/data_release_beta4_standard/textbook_images/pressure_of_fluids_22298.png\n",
      "../dataset_releases/data_release_beta4_standard/textbook_images/tides_21163.png\n",
      "../dataset_releases/data_release_beta4_standard/textbook_images/topographic_maps_20266.png\n",
      "../dataset_releases/data_release_beta4_standard/textbook_images/energy_resources_22351.png\n",
      "../dataset_releases/data_release_beta4_standard/textbook_images/the_human_population_20229.png\n",
      "../dataset_releases/data_release_beta4_standard/textbook_images/glaciers_20805.png\n",
      "../dataset_releases/data_release_beta4_standard/textbook_images/galaxies_20434.png\n",
      "../dataset_releases/data_release_beta4_standard/textbook_images/storms_20166.png\n",
      "../dataset_releases/data_release_beta4_standard/textbook_images/hydrocarbons_22887.png\n",
      "../dataset_releases/data_release_beta4_standard/textbook_images/measuring_waves_22380.png\n",
      "../dataset_releases/data_release_beta4_standard/textbook_images/kidneys_21945.png\n",
      "../dataset_releases/data_release_beta4_standard/textbook_images/planet_earth_20364.png\n",
      "../dataset_releases/data_release_beta4_standard/textbook_images/elastic_force_22779.png\n",
      "../dataset_releases/data_release_beta4_standard/textbook_images/thermosphere_and_beyond_21156.png\n",
      "../dataset_releases/data_release_beta4_standard/textbook_images/introduction_to_earths_surface_20241.png\n",
      "../dataset_releases/data_release_beta4_standard/textbook_images/science_skills_22399.png\n",
      "../dataset_releases/data_release_beta4_standard/textbook_images/extinction_and_radiation_of_life_20763.png\n",
      "../dataset_releases/data_release_beta4_standard/textbook_images/biochemical_reactions_22650.png\n",
      "../dataset_releases/data_release_beta4_standard/textbook_images/fish_21834.png\n",
      "../dataset_releases/data_release_beta4_standard/textbook_images/nonrenewable_energy_resources_20488.png\n",
      "../dataset_releases/data_release_beta4_standard/textbook_images/fossil_fuel_reserves_20791.png\n",
      "../dataset_releases/data_release_beta4_standard/textbook_images/human_evolution_20849.png\n",
      "../dataset_releases/data_release_beta4_standard/textbook_images/types_of_mollusks_22188.png\n",
      "../dataset_releases/data_release_beta4_standard/textbook_images/amphibians_21698.png\n",
      "../dataset_releases/data_release_beta4_standard/textbook_images/the_nervous_system_21470.png\n",
      "../dataset_releases/data_release_beta4_standard/textbook_images/microscopes_21987.png\n",
      "../dataset_releases/data_release_beta4_standard/textbook_images/history_of_mesozoic_life_20831.png\n",
      "../dataset_releases/data_release_beta4_standard/textbook_images/electric_current_22473.png\n",
      "../dataset_releases/data_release_beta4_standard/textbook_images/cancer_21747.png\n",
      "../dataset_releases/data_release_beta4_standard/textbook_images/temperature_and_heat_22355.png\n",
      "../dataset_releases/data_release_beta4_standard/textbook_images/cycles_of_matter_20218.png\n",
      "../dataset_releases/data_release_beta4_standard/textbook_images/scientific_method_21093.png\n",
      "../dataset_releases/data_release_beta4_standard/textbook_images/cycles_of_matter_21548.png\n",
      "../dataset_releases/data_release_beta4_standard/textbook_images/basic_and_applied_science_21729.png\n",
      "../dataset_releases/data_release_beta4_standard/textbook_images/work_23180.png\n",
      "../dataset_releases/data_release_beta4_standard/textbook_images/sedimentary_rocks_21103.png\n",
      "../dataset_releases/data_release_beta4_standard/textbook_images/global_warming_20808.png\n",
      "../dataset_releases/data_release_beta4_standard/textbook_images/types_of_archaea_22185.png\n",
      "../dataset_releases/data_release_beta4_standard/textbook_images/introduction_to_plants_21265.png\n",
      "../dataset_releases/data_release_beta4_standard/textbook_images/types_of_volcanoes_20578.png\n",
      "../dataset_releases/data_release_beta4_standard/textbook_images/elastic_force_22780.png\n",
      "../dataset_releases/data_release_beta4_standard/textbook_images/erosion_and_deposition_by_waves_20031.png\n",
      "../dataset_releases/data_release_beta4_standard/textbook_images/types_of_volcanoes_21195.png\n",
      "../dataset_releases/data_release_beta4_standard/textbook_images/ocean_movements_20118.png\n",
      "../dataset_releases/data_release_beta4_standard/textbook_images/lizards_and_snakes_21957.png\n",
      "../dataset_releases/data_release_beta4_standard/textbook_images/earthquake_safe_structures_20708.png\n",
      "../dataset_releases/data_release_beta4_standard/textbook_images/climate_and_its_causes_20185.png\n",
      "../dataset_releases/data_release_beta4_standard/textbook_images/mirrors_22956.png\n",
      "../dataset_releases/data_release_beta4_standard/textbook_images/wave_interactions_23166.png\n",
      "../dataset_releases/data_release_beta4_standard/textbook_images/noninfectious_diseases_21490.png\n",
      "../dataset_releases/data_release_beta4_standard/textbook_images/physical_properties_of_matter_23015.png\n",
      "../dataset_releases/data_release_beta4_standard/textbook_images/harmful_bacteria_21872.png\n",
      "../dataset_releases/data_release_beta4_standard/textbook_images/seasonal_changes_in_plants_22132.png\n",
      "../dataset_releases/data_release_beta4_standard/textbook_images/types_of_animal_behavior_21394.png\n",
      "../dataset_releases/data_release_beta4_standard/textbook_images/vision_and_the_eye_23157.png\n",
      "../dataset_releases/data_release_beta4_standard/textbook_images/effects_of_air_pollution_20325.png\n",
      "../dataset_releases/data_release_beta4_standard/textbook_images/replication_in_science_23056.png\n",
      "../dataset_releases/data_release_beta4_standard/textbook_images/chemical_reactions_and_energy_22618.png\n",
      "../dataset_releases/data_release_beta4_standard/textbook_images/asteroids_20618.png\n",
      "../dataset_releases/data_release_beta4_standard/textbook_images/states_of_water_21136.png\n",
      "../dataset_releases/data_release_beta4_standard/textbook_images/radioactivity_22227.png\n",
      "../dataset_releases/data_release_beta4_standard/textbook_images/types_of_nutrients_22191.png\n",
      "../dataset_releases/data_release_beta4_standard/textbook_images/pregnancy_and_childbirth_22075.png\n",
      "../dataset_releases/data_release_beta4_standard/textbook_images/moon_20975.png\n",
      "../dataset_releases/data_release_beta4_standard/textbook_images/uses_of_water_21201.png\n",
      "../dataset_releases/data_release_beta4_standard/textbook_images/acids_and_bases_22221.png\n",
      "../dataset_releases/data_release_beta4_standard/textbook_images/motion_22963.png\n",
      "../dataset_releases/data_release_beta4_standard/textbook_images/gases_22861.png\n",
      "../dataset_releases/data_release_beta4_standard/textbook_images/types_of_energy_22332.png\n",
      "../dataset_releases/data_release_beta4_standard/textbook_images/noble_gases_22979.png\n",
      "../dataset_releases/data_release_beta4_standard/textbook_images/surface_features_of_the_sun_21146.png\n",
      "../dataset_releases/data_release_beta4_standard/textbook_images/importance_of_insects_21911.png\n",
      "../dataset_releases/data_release_beta4_standard/textbook_images/ionic_compounds_22905.png\n",
      "../dataset_releases/data_release_beta4_standard/textbook_images/evolution_and_classification_of_plants_21276.png\n",
      "../dataset_releases/data_release_beta4_standard/textbook_images/covalent_bonds_22601.png\n",
      "../dataset_releases/data_release_beta4_standard/textbook_images/flatworms_and_roundworms_21318.png\n",
      "../dataset_releases/data_release_beta4_standard/textbook_images/chemistry_of_living_things_21464.png\n",
      "../dataset_releases/data_release_beta4_standard/textbook_images/biochemical_reactions_22649.png\n",
      "../dataset_releases/data_release_beta4_standard/textbook_images/cardiovascular_system_21750.png\n",
      "../dataset_releases/data_release_beta4_standard/textbook_images/vision_correction_22201.png\n",
      "../dataset_releases/data_release_beta4_standard/textbook_images/fungi_21686.png\n",
      "../dataset_releases/data_release_beta4_standard/textbook_images/water_on_earth_20087.png\n",
      "../dataset_releases/data_release_beta4_standard/textbook_images/saturated_hydrocarbons_23061.png\n",
      "../dataset_releases/data_release_beta4_standard/textbook_images/reproduction_in_seedless_plants_22103.png\n",
      "../dataset_releases/data_release_beta4_standard/textbook_images/inertia_22898.png\n",
      "../dataset_releases/data_release_beta4_standard/textbook_images/lens_22920.png\n",
      "../dataset_releases/data_release_beta4_standard/textbook_images/buoyancy_22691.png\n",
      "../dataset_releases/data_release_beta4_standard/textbook_images/how_ocean_currents_moderate_climate_20847.png\n",
      "../dataset_releases/data_release_beta4_standard/textbook_images/scientific_investigation_22128.png\n",
      "../dataset_releases/data_release_beta4_standard/textbook_images/history_of_earths_life_forms_20083.png\n",
      "../dataset_releases/data_release_beta4_standard/textbook_images/plate_tectonics_through_earth_history_21027.png\n",
      "../dataset_releases/data_release_beta4_standard/textbook_images/scientific_investigation_22396.png\n",
      "../dataset_releases/data_release_beta4_standard/textbook_images/electric_charge_22463.png\n",
      "../dataset_releases/data_release_beta4_standard/textbook_images/ph_concept_23007.png\n",
      "../dataset_releases/data_release_beta4_standard/textbook_images/inner_planets_20402.png\n",
      "../dataset_releases/data_release_beta4_standard/textbook_images/introduction_to_the_solar_system_20390.png\n",
      "../dataset_releases/data_release_beta4_standard/textbook_images/mechanical_advantage_22939.png\n",
      "../dataset_releases/data_release_beta4_standard/textbook_images/explosive_eruptions_20758.png\n",
      "../dataset_releases/data_release_beta4_standard/textbook_images/transfer_of_electric_charge_23124.png\n",
      "../dataset_releases/data_release_beta4_standard/textbook_images/using_sound_22421.png\n",
      "../dataset_releases/data_release_beta4_standard/textbook_images/ocean_life_20132.png\n",
      "../dataset_releases/data_release_beta4_standard/textbook_images/magnetic_polarity_evidence_for_continental_drift_20915.png\n",
      "../dataset_releases/data_release_beta4_standard/textbook_images/early_space_exploration_20355.png\n",
      "../dataset_releases/data_release_beta4_standard/textbook_images/protists_21681.png\n",
      "../dataset_releases/data_release_beta4_standard/textbook_images/predicting_weather_21045.png\n",
      "../dataset_releases/data_release_beta4_standard/textbook_images/agriculture_and_human_population_growth_20609.png\n",
      "../dataset_releases/data_release_beta4_standard/textbook_images/solubility_and_concentration_22214.png\n",
      "../dataset_releases/data_release_beta4_standard/textbook_images/forms_of_energy_22846.png\n",
      "../dataset_releases/data_release_beta4_standard/textbook_images/erosion_and_deposition_by_wind_20042.png\n",
      "../dataset_releases/data_release_beta4_standard/textbook_images/characteristics_of_living_organisms_21455.png\n",
      "../dataset_releases/data_release_beta4_standard/textbook_images/mendels_discoveries_21624.png\n",
      "../dataset_releases/data_release_beta4_standard/textbook_images/protein_synthesis_and_gene_expression_22089.png\n",
      "../dataset_releases/data_release_beta4_standard/textbook_images/characteristics_and_origins_of_life_20650.png\n",
      "../dataset_releases/data_release_beta4_standard/textbook_images/nucleic_acid_classification_22992.png\n",
      "../dataset_releases/data_release_beta4_standard/textbook_images/outdoor_air_pollution_22039.png\n",
      "../dataset_releases/data_release_beta4_standard/textbook_images/erosion_and_deposition_by_gravity_20047.png\n",
      "../dataset_releases/data_release_beta4_standard/textbook_images/earthquakes_at_convergent_plate_boundaries_20712.png\n",
      "../dataset_releases/data_release_beta4_standard/textbook_images/the_integumentary_system_21403.png\n",
      "../dataset_releases/data_release_beta4_standard/textbook_images/alloys_22661.png\n",
      "../dataset_releases/data_release_beta4_standard/textbook_images/modeling_earths_surface_20261.png\n",
      "../dataset_releases/data_release_beta4_standard/textbook_images/energy_from_biomass_20745.png\n",
      "../dataset_releases/data_release_beta4_standard/textbook_images/the_nature_of_science_20002.png\n",
      "../dataset_releases/data_release_beta4_standard/textbook_images/groups_with_metalloids_22867.png\n",
      "../dataset_releases/data_release_beta4_standard/textbook_images/introduction_to_the_human_body_21396.png\n",
      "../dataset_releases/data_release_beta4_standard/textbook_images/effusive_eruptions_20737.png\n",
      "../dataset_releases/data_release_beta4_standard/textbook_images/identification_of_minerals_20454.png\n",
      "../dataset_releases/data_release_beta4_standard/textbook_images/landforms_from_erosion_and_deposition_by_gravity_20886.png\n",
      "../dataset_releases/data_release_beta4_standard/textbook_images/innate_behavior_of_animals_21926.png\n",
      "../dataset_releases/data_release_beta4_standard/textbook_images/galaxies_20435.png\n",
      "../dataset_releases/data_release_beta4_standard/textbook_images/the_origin_of_earth_20072.png\n",
      "../dataset_releases/data_release_beta4_standard/textbook_images/effect_of_continental_position_on_climate_20732.png\n",
      "../dataset_releases/data_release_beta4_standard/textbook_images/hearing_and_balance_21878.png\n",
      "../dataset_releases/data_release_beta4_standard/textbook_images/communities_21525.png\n",
      "../dataset_releases/data_release_beta4_standard/textbook_images/weathering_20589.png\n",
      "../dataset_releases/data_release_beta4_standard/textbook_images/groundwater_aquifers_20818.png\n",
      "../dataset_releases/data_release_beta4_standard/textbook_images/mirrors_22953.png\n",
      "../dataset_releases/data_release_beta4_standard/textbook_images/changes_of_state_22710.png\n",
      "../dataset_releases/data_release_beta4_standard/textbook_images/radioactivity_22224.png\n",
      "../dataset_releases/data_release_beta4_standard/textbook_images/ecosystem_change_21552.png\n",
      "../dataset_releases/data_release_beta4_standard/textbook_images/types_of_animal_behavior_21392.png\n",
      "../dataset_releases/data_release_beta4_standard/textbook_images/scientific_community_21090.png\n",
      "../dataset_releases/data_release_beta4_standard/textbook_images/mineral_groups_20958.png\n",
      "../dataset_releases/data_release_beta4_standard/textbook_images/forms_of_energy_22342.png\n",
      "../dataset_releases/data_release_beta4_standard/textbook_images/radioactive_decay_22230.png\n",
      "../dataset_releases/data_release_beta4_standard/textbook_images/pathogens_22043.png\n",
      "../dataset_releases/data_release_beta4_standard/textbook_images/respiration_22107.png\n",
      "../dataset_releases/data_release_beta4_standard/textbook_images/continental_drift_20501.png\n",
      "../dataset_releases/data_release_beta4_standard/textbook_images/groundwater_20096.png\n",
      "../dataset_releases/data_release_beta4_standard/textbook_images/conservation_of_energy_in_chemical_reactions_22746.png\n",
      "../dataset_releases/data_release_beta4_standard/textbook_images/recent_space_exploration_20360.png\n",
      "../dataset_releases/data_release_beta4_standard/textbook_images/reducing_air_pollution_21066.png\n",
      "../dataset_releases/data_release_beta4_standard/textbook_images/nervous_system_22008.png\n",
      "../dataset_releases/data_release_beta4_standard/textbook_images/planet_earth_20369.png\n",
      "../dataset_releases/data_release_beta4_standard/textbook_images/changes_of_state_22552.png\n",
      "../dataset_releases/data_release_beta4_standard/textbook_images/hearing_sound_22416.png\n",
      "../dataset_releases/data_release_beta4_standard/textbook_images/measuring_waves_22382.png\n",
      "../dataset_releases/data_release_beta4_standard/textbook_images/respiration_22108.png\n",
      "../dataset_releases/data_release_beta4_standard/textbook_images/acceleration_due_to_gravity_22652.png\n",
      "../dataset_releases/data_release_beta4_standard/textbook_images/population_growth_patterns_22069.png\n",
      "../dataset_releases/data_release_beta4_standard/textbook_images/theory_of_plate_tectonics_20515.png\n",
      "../dataset_releases/data_release_beta4_standard/textbook_images/transverse_wave_23131.png\n",
      "../dataset_releases/data_release_beta4_standard/textbook_images/history_of_earths_life_forms_20080.png\n",
      "../dataset_releases/data_release_beta4_standard/textbook_images/mineral_groups_20952.png\n",
      "../dataset_releases/data_release_beta4_standard/textbook_images/planet_earth_20366.png\n",
      "../dataset_releases/data_release_beta4_standard/textbook_images/weather_forecasting_20179.png\n",
      "../dataset_releases/data_release_beta4_standard/textbook_images/force_22843.png\n",
      "../dataset_releases/data_release_beta4_standard/textbook_images/fertilization_21831.png\n",
      "../dataset_releases/data_release_beta4_standard/textbook_images/surface_water_20088.png\n",
      "../dataset_releases/data_release_beta4_standard/textbook_images/mammals_21364.png\n",
      "../dataset_releases/data_release_beta4_standard/textbook_images/weathering_20590.png\n",
      "../dataset_releases/data_release_beta4_standard/textbook_images/nonrenewable_resources_22014.png\n",
      "../dataset_releases/data_release_beta4_standard/textbook_images/internal_combustion_engines_22901.png\n",
      "../dataset_releases/data_release_beta4_standard/textbook_images/the_light_we_see_22436.png\n",
      "../dataset_releases/data_release_beta4_standard/textbook_images/scientific_theory_23070.png\n",
      "../dataset_releases/data_release_beta4_standard/textbook_images/measuring_and_predicting_earthquakes_20558.png\n",
      "../dataset_releases/data_release_beta4_standard/textbook_images/centipedes_and_millipedes_21764.png\n",
      "../dataset_releases/data_release_beta4_standard/textbook_images/the_atmosphere_20134.png\n",
      "../dataset_releases/data_release_beta4_standard/textbook_images/types_of_volcanoes_20581.png\n",
      "../dataset_releases/data_release_beta4_standard/textbook_images/electric_circuits_22480.png\n",
      "../dataset_releases/data_release_beta4_standard/textbook_images/electronic_signal_22816.png\n",
      "../dataset_releases/data_release_beta4_standard/textbook_images/properties_of_matter_22516.png\n",
      "../dataset_releases/data_release_beta4_standard/textbook_images/lizards_and_snakes_21960.png\n",
      "../dataset_releases/data_release_beta4_standard/textbook_images/communities_21526.png\n",
      "../dataset_releases/data_release_beta4_standard/textbook_images/nature_of_earthquakes_20548.png\n",
      "../dataset_releases/data_release_beta4_standard/textbook_images/human_uses_of_fungi_21896.png\n",
      "../dataset_releases/data_release_beta4_standard/textbook_images/cell_structures_21582.png\n",
      "../dataset_releases/data_release_beta4_standard/textbook_images/crystalline_carbon_22755.png\n",
      "../dataset_releases/data_release_beta4_standard/textbook_images/light_reactions_of_photosynthesis_21952.png\n",
      "../dataset_releases/data_release_beta4_standard/textbook_images/mineral_groups_20957.png\n",
      "../dataset_releases/data_release_beta4_standard/textbook_images/carbon_bonding_22701.png\n",
      "../dataset_releases/data_release_beta4_standard/textbook_images/condensation_22744.png\n",
      "../dataset_releases/data_release_beta4_standard/textbook_images/scientific_ways_of_thinking_22131.png\n",
      "../dataset_releases/data_release_beta4_standard/textbook_images/using_electromagnetism_22507.png\n",
      "../dataset_releases/data_release_beta4_standard/textbook_images/halogens_22870.png\n",
      "../dataset_releases/data_release_beta4_standard/textbook_images/hearing_loss_22875.png\n",
      "../dataset_releases/data_release_beta4_standard/textbook_images/cell_biology_21757.png\n",
      "../dataset_releases/data_release_beta4_standard/textbook_images/states_of_matter_23100.png\n",
      "../dataset_releases/data_release_beta4_standard/textbook_images/recent_space_exploration_20362.png\n",
      "../dataset_releases/data_release_beta4_standard/textbook_images/groups_of_elements_22589.png\n",
      "../dataset_releases/data_release_beta4_standard/textbook_images/radioactive_decay_22232.png\n",
      "../dataset_releases/data_release_beta4_standard/textbook_images/groups_with_metalloids_22866.png\n",
      "../dataset_releases/data_release_beta4_standard/textbook_images/water_on_earth_20085.png\n",
      "../dataset_releases/data_release_beta4_standard/textbook_images/topographic_maps_20269.png\n",
      "../dataset_releases/data_release_beta4_standard/textbook_images/kinetic_theory_of_matter_22914.png\n",
      "../dataset_releases/data_release_beta4_standard/textbook_images/nature_of_earthquakes_20552.png\n",
      "../dataset_releases/data_release_beta4_standard/textbook_images/earthquakes_at_transform_plate_boundaries_20714.png\n",
      "../dataset_releases/data_release_beta4_standard/textbook_images/fungi_structure_21854.png\n",
      "../dataset_releases/data_release_beta4_standard/textbook_images/scientific_ways_of_thinking_21251.png\n",
      "../dataset_releases/data_release_beta4_standard/textbook_images/history_of_life_on_earth_21656.png\n",
      "../dataset_releases/data_release_beta4_standard/textbook_images/types_of_nutrients_22189.png\n",
      "../dataset_releases/data_release_beta4_standard/textbook_images/use_and_conservation_of_resources_20286.png\n",
      "../dataset_releases/data_release_beta4_standard/textbook_images/topographic_maps_20271.png\n",
      "../dataset_releases/data_release_beta4_standard/textbook_images/diseases_of_the_nervous_system_21806.png\n",
      "../dataset_releases/data_release_beta4_standard/textbook_images/biochemical_reaction_chemistry_22680.png\n",
      "../dataset_releases/data_release_beta4_standard/textbook_images/collecting_weather_data_20674.png\n",
      "../dataset_releases/data_release_beta4_standard/textbook_images/erosion_and_deposition_by_flowing_water_20020.png\n",
      "../dataset_releases/data_release_beta4_standard/textbook_images/populations_21520.png\n",
      "../dataset_releases/data_release_beta4_standard/textbook_images/insects_21932.png\n",
      "../dataset_releases/data_release_beta4_standard/textbook_images/volcanoes_at_plate_boundaries_21222.png\n",
      "../dataset_releases/data_release_beta4_standard/textbook_images/storms_20176.png\n",
      "../dataset_releases/data_release_beta4_standard/textbook_images/nuclear_power_20993.png\n",
      "../dataset_releases/data_release_beta4_standard/textbook_images/the_electromagnetic_spectrum_22429.png\n",
      "../dataset_releases/data_release_beta4_standard/textbook_images/solenoid_23081.png\n",
      "../dataset_releases/data_release_beta4_standard/textbook_images/introduction_to_the_oceans_20110.png\n",
      "../dataset_releases/data_release_beta4_standard/textbook_images/modern_atomic_theory_22572.png\n",
      "../dataset_releases/data_release_beta4_standard/textbook_images/noninfectious_diseases_21492.png\n",
      "../dataset_releases/data_release_beta4_standard/textbook_images/observations_and_experiments_20994.png\n",
      "../dataset_releases/data_release_beta4_standard/textbook_images/the_sun_and_the_earthmoon_system_20383.png\n",
      "../dataset_releases/data_release_beta4_standard/textbook_images/cancer_21746.png\n",
      "../dataset_releases/data_release_beta4_standard/textbook_images/loss_of_soil_20237.png\n",
      "../dataset_releases/data_release_beta4_standard/textbook_images/igneous_landforms_and_geothermal_activ_20586.png\n",
      "../dataset_releases/data_release_beta4_standard/textbook_images/stress_in_earths_crust_20526.png\n",
      "../dataset_releases/data_release_beta4_standard/textbook_images/what_is_ecology_21519.png\n",
      "../dataset_releases/data_release_beta4_standard/textbook_images/polygenic_traits_22067.png\n",
      "../dataset_releases/data_release_beta4_standard/textbook_images/endothermic_reactions_22824.png\n",
      "../dataset_releases/data_release_beta4_standard/textbook_images/pressure_in_fluids_23029.png\n",
      "../dataset_releases/data_release_beta4_standard/textbook_images/galaxies_20437.png\n",
      "../dataset_releases/data_release_beta4_standard/textbook_images/fresh_water_ecosystems_20792.png\n",
      "../dataset_releases/data_release_beta4_standard/textbook_images/types_of_echinoderms_22187.png\n",
      "../dataset_releases/data_release_beta4_standard/textbook_images/air_movement_20154.png\n",
      "../dataset_releases/data_release_beta4_standard/textbook_images/cenozoic_plate_tectonics_20647.png\n",
      "../dataset_releases/data_release_beta4_standard/textbook_images/hypothesis_22893.png\n",
      "../dataset_releases/data_release_beta4_standard/textbook_images/properties_of_bases_23038.png\n",
      "../dataset_releases/data_release_beta4_standard/textbook_images/choosing_healthy_foods_21776.png\n",
      "../dataset_releases/data_release_beta4_standard/textbook_images/natural_selection_22004.png\n",
      "../dataset_releases/data_release_beta4_standard/textbook_images/renewable_resources_and_alternative_energy_sources_22101.png\n",
      "../dataset_releases/data_release_beta4_standard/textbook_images/folds_20781.png\n",
      "../dataset_releases/data_release_beta4_standard/textbook_images/introduction_to_earths_surface_20246.png\n",
      "../dataset_releases/data_release_beta4_standard/textbook_images/social_behavior_of_animals_22149.png\n",
      "../dataset_releases/data_release_beta4_standard/textbook_images/uses_of_water_21203.png\n",
      "../dataset_releases/data_release_beta4_standard/textbook_images/rocks_and_processes_of_the_rock_cycle_21075.png\n",
      "../dataset_releases/data_release_beta4_standard/textbook_images/importance_of_reptiles_21916.png\n",
      "../dataset_releases/data_release_beta4_standard/textbook_images/outdoor_air_pollution_22036.png\n",
      "../dataset_releases/data_release_beta4_standard/textbook_images/gases_22863.png\n",
      "../dataset_releases/data_release_beta4_standard/textbook_images/population_growth_patterns_22068.png\n",
      "../dataset_releases/data_release_beta4_standard/textbook_images/characteristics_of_living_organisms_21452.png\n",
      "../dataset_releases/data_release_beta4_standard/textbook_images/earthquake_damage_20704.png\n",
      "../dataset_releases/data_release_beta4_standard/textbook_images/advances_in_genetics_21635.png\n",
      "../dataset_releases/data_release_beta4_standard/textbook_images/bacteria_in_the_digestive_system_21724.png\n",
      "../dataset_releases/data_release_beta4_standard/textbook_images/types_of_animal_behavior_21393.png\n",
      "../dataset_releases/data_release_beta4_standard/textbook_images/plant_characteristics_22055.png\n",
      "../dataset_releases/data_release_beta4_standard/textbook_images/using_satellites_and_computers_20280.png\n",
      "../dataset_releases/data_release_beta4_standard/textbook_images/plant_hormones_22057.png\n",
      "../dataset_releases/data_release_beta4_standard/textbook_images/habitat_destruction_21868.png\n",
      "../dataset_releases/data_release_beta4_standard/textbook_images/darwins_theory_of_evolution_21641.png\n",
      "../dataset_releases/data_release_beta4_standard/textbook_images/geologic_time_scale_20800.png\n",
      "../dataset_releases/data_release_beta4_standard/textbook_images/lizards_and_snakes_21958.png\n",
      "../dataset_releases/data_release_beta4_standard/textbook_images/chemistry_of_living_things_21461.png\n",
      "../dataset_releases/data_release_beta4_standard/textbook_images/pathogens_22045.png\n",
      "../dataset_releases/data_release_beta4_standard/textbook_images/types_of_marine_organisms_21181.png\n",
      "../dataset_releases/data_release_beta4_standard/textbook_images/history_of_life_on_earth_21659.png\n",
      "../dataset_releases/data_release_beta4_standard/textbook_images/insects_and_other_arthropods_21325.png\n",
      "../dataset_releases/data_release_beta4_standard/textbook_images/global_warming_20809.png\n",
      "../dataset_releases/data_release_beta4_standard/textbook_images/history_of_the_atom_22565.png\n",
      "../dataset_releases/data_release_beta4_standard/textbook_images/human_vision_21901.png\n",
      "../dataset_releases/data_release_beta4_standard/textbook_images/seawater_chemistry_21099.png\n",
      "../dataset_releases/data_release_beta4_standard/textbook_images/igneous_rocks_20474.png\n",
      "../dataset_releases/data_release_beta4_standard/textbook_images/the_nature_of_science_20004.png\n",
      "../dataset_releases/data_release_beta4_standard/textbook_images/diversity_of_birds_21809.png\n",
      "../dataset_releases/data_release_beta4_standard/textbook_images/star_power_21135.png\n",
      "../dataset_releases/data_release_beta4_standard/textbook_images/world_climates_20194.png\n",
      "../dataset_releases/data_release_beta4_standard/textbook_images/neutrons_22970.png\n",
      "../dataset_releases/data_release_beta4_standard/textbook_images/condensation_22743.png\n",
      "../dataset_releases/data_release_beta4_standard/textbook_images/topographic_maps_20265.png\n",
      "../dataset_releases/data_release_beta4_standard/textbook_images/changes_in_matter_22530.png\n",
      "../dataset_releases/data_release_beta4_standard/textbook_images/nuclear_energy_22237.png\n",
      "../dataset_releases/data_release_beta4_standard/textbook_images/how_animals_evolved_21296.png\n",
      "../dataset_releases/data_release_beta4_standard/textbook_images/immune_system_defenses_21501.png\n",
      "../dataset_releases/data_release_beta4_standard/textbook_images/heat_22878.png\n",
      "../dataset_releases/data_release_beta4_standard/textbook_images/use_and_conservation_of_resources_20287.png\n",
      "../dataset_releases/data_release_beta4_standard/textbook_images/understanding_animal_behavior_21381.png\n",
      "../dataset_releases/data_release_beta4_standard/textbook_images/recombinant_dna_22095.png\n",
      "../dataset_releases/data_release_beta4_standard/textbook_images/reproduction_and_life_stages_21507.png\n",
      "../dataset_releases/data_release_beta4_standard/textbook_images/bacteria_21673.png\n",
      "../dataset_releases/data_release_beta4_standard/textbook_images/biomes_21537.png\n",
      "../dataset_releases/data_release_beta4_standard/textbook_images/vascular_seedless_plants_22195.png\n",
      "../dataset_releases/data_release_beta4_standard/textbook_images/male_reproductive_system_21502.png\n",
      "../dataset_releases/data_release_beta4_standard/textbook_images/nails_and_hair_22003.png\n",
      "../dataset_releases/data_release_beta4_standard/textbook_images/landforms_from_glacial_erosion_and_deposition_20894.png\n",
      "../dataset_releases/data_release_beta4_standard/textbook_images/scientific_measuring_devices_23065.png\n",
      "../dataset_releases/data_release_beta4_standard/textbook_images/introduction_to_the_human_body_21397.png\n",
      "../dataset_releases/data_release_beta4_standard/textbook_images/optics_22452.png\n",
      "../dataset_releases/data_release_beta4_standard/textbook_images/introduction_to_plants_21269.png\n",
      "../dataset_releases/data_release_beta4_standard/textbook_images/transport_21583.png\n",
      "../dataset_releases/data_release_beta4_standard/textbook_images/cycles_of_matter_20220.png\n",
      "../dataset_releases/data_release_beta4_standard/textbook_images/identification_of_minerals_20451.png\n",
      "../dataset_releases/data_release_beta4_standard/textbook_images/rocks_21072.png\n",
      "../dataset_releases/data_release_beta4_standard/textbook_images/long_term_climate_change_20909.png\n",
      "../dataset_releases/data_release_beta4_standard/textbook_images/muscles_and_exercise_21999.png\n",
      "../dataset_releases/data_release_beta4_standard/textbook_images/predicting_earthquakes_21041.png\n",
      "../dataset_releases/data_release_beta4_standard/textbook_images/groups_of_elements_22586.png\n",
      "../dataset_releases/data_release_beta4_standard/textbook_images/central_nervous_system_21765.png\n",
      "../dataset_releases/data_release_beta4_standard/textbook_images/water_on_earth_20086.png\n",
      "../dataset_releases/data_release_beta4_standard/textbook_images/human_vision_21899.png\n",
      "../dataset_releases/data_release_beta4_standard/textbook_images/thermal_energy_23117.png\n",
      "../dataset_releases/data_release_beta4_standard/textbook_images/modeling_earths_surface_20259.png\n",
      "../dataset_releases/data_release_beta4_standard/textbook_images/optical_instruments_22997.png\n",
      "../dataset_releases/data_release_beta4_standard/textbook_images/forms_of_energy_22345.png\n",
      "../dataset_releases/data_release_beta4_standard/textbook_images/echinoderms_21817.png\n",
      "../dataset_releases/data_release_beta4_standard/textbook_images/chemical_weathering_20655.png\n",
      "../dataset_releases/data_release_beta4_standard/textbook_images/mining_and_using_minerals_20466.png\n",
      "../dataset_releases/data_release_beta4_standard/textbook_images/mars_20921.png\n",
      "../dataset_releases/data_release_beta4_standard/textbook_images/radioactivity_22223.png\n",
      "../dataset_releases/data_release_beta4_standard/textbook_images/nuclear_energy_22236.png\n",
      "../dataset_releases/data_release_beta4_standard/textbook_images/using_earths_magnetic_field_23144.png\n",
      "../dataset_releases/data_release_beta4_standard/textbook_images/light_22922.png\n",
      "../dataset_releases/data_release_beta4_standard/textbook_images/relative_ages_of_rocks_20064.png\n",
      "../dataset_releases/data_release_beta4_standard/textbook_images/organic_compounds_22021.png\n",
      "../dataset_releases/data_release_beta4_standard/textbook_images/chemical_reaction_overview_22719.png\n",
      "../dataset_releases/data_release_beta4_standard/textbook_images/the_excretory_system_21450.png\n",
      "../dataset_releases/data_release_beta4_standard/textbook_images/heart_21880.png\n",
      "../dataset_releases/data_release_beta4_standard/textbook_images/topographic_maps_20267.png\n",
      "../dataset_releases/data_release_beta4_standard/textbook_images/pathogens_22042.png\n",
      "../dataset_releases/data_release_beta4_standard/textbook_images/pressure_of_fluids_22294.png\n",
      "../dataset_releases/data_release_beta4_standard/textbook_images/humans_and_the_water_supply_20297.png\n",
      "../dataset_releases/data_release_beta4_standard/textbook_images/modern_periodic_table_22960.png\n",
      "../dataset_releases/data_release_beta4_standard/textbook_images/mining_and_using_minerals_20467.png\n",
      "../dataset_releases/data_release_beta4_standard/textbook_images/local_winds_20903.png\n",
      "../dataset_releases/data_release_beta4_standard/textbook_images/mendeleevs_periodic_table_22943.png\n",
      "../dataset_releases/data_release_beta4_standard/textbook_images/evolution_and_classification_of_plants_21281.png\n",
      "../dataset_releases/data_release_beta4_standard/textbook_images/chemical_bonding_20654.png\n",
      "../dataset_releases/data_release_beta4_standard/textbook_images/peripheral_nervous_system_22052.png\n",
      "../dataset_releases/data_release_beta4_standard/textbook_images/branches_of_earth_science_20640.png\n",
      "../dataset_releases/data_release_beta4_standard/textbook_images/types_of_soils_21192.png\n",
      "../dataset_releases/data_release_beta4_standard/textbook_images/generating_and_using_electricity_22512.png\n",
      "../dataset_releases/data_release_beta4_standard/textbook_images/types_of_matter_22521.png\n",
      "../dataset_releases/data_release_beta4_standard/textbook_images/preventing_noninfectious_diseases_22079.png\n",
      "../dataset_releases/data_release_beta4_standard/textbook_images/importance_of_echinoderms_21910.png\n",
      "../dataset_releases/data_release_beta4_standard/textbook_images/availability_of_natural_resources_20621.png\n",
      "../dataset_releases/data_release_beta4_standard/textbook_images/gravity_22276.png\n",
      "../dataset_releases/data_release_beta4_standard/textbook_images/minerals_20445.png\n",
      "../dataset_releases/data_release_beta4_standard/textbook_images/erosion_and_deposition_by_flowing_water_20025.png\n",
      "../dataset_releases/data_release_beta4_standard/textbook_images/energy_in_the_atmosphere_20138.png\n",
      "../dataset_releases/data_release_beta4_standard/textbook_images/catalysts_22707.png\n",
      "../dataset_releases/data_release_beta4_standard/textbook_images/work_22306.png\n",
      "../dataset_releases/data_release_beta4_standard/textbook_images/evaporation_22833.png\n",
      "../dataset_releases/data_release_beta4_standard/textbook_images/speed_and_velocity_22248.png\n",
      "../dataset_releases/data_release_beta4_standard/textbook_images/mid_latitude_cyclones_20942.png\n",
      "../dataset_releases/data_release_beta4_standard/textbook_images/properties_of_bases_23037.png\n",
      "../dataset_releases/data_release_beta4_standard/textbook_images/optics_22453.png\n",
      "../dataset_releases/data_release_beta4_standard/textbook_images/dna_the_genetic_material_21812.png\n",
      "../dataset_releases/data_release_beta4_standard/textbook_images/sedimentary_rock_classification_21102.png\n",
      "../dataset_releases/data_release_beta4_standard/textbook_images/properties_of_carbon_22626.png\n",
      "../dataset_releases/data_release_beta4_standard/textbook_images/covalent_bonding_22753.png\n",
      "../dataset_releases/data_release_beta4_standard/textbook_images/types_of_volcanoes_21196.png\n",
      "../dataset_releases/data_release_beta4_standard/textbook_images/elements_22820.png\n",
      "../dataset_releases/data_release_beta4_standard/textbook_images/introduction_to_earths_surface_20249.png\n",
      "../dataset_releases/data_release_beta4_standard/textbook_images/folds_20783.png\n",
      "../dataset_releases/data_release_beta4_standard/textbook_images/mineral_identification_20967.png\n",
      "../dataset_releases/data_release_beta4_standard/textbook_images/speed_and_velocity_22247.png\n",
      "../dataset_releases/data_release_beta4_standard/textbook_images/loss_of_soil_20235.png\n",
      "../dataset_releases/data_release_beta4_standard/textbook_images/momentum_22962.png\n",
      "../dataset_releases/data_release_beta4_standard/textbook_images/magnetic_polarity_evidence_for_continental_drift_20916.png\n",
      "../dataset_releases/data_release_beta4_standard/textbook_images/seawater_chemistry_21100.png\n",
      "../dataset_releases/data_release_beta4_standard/textbook_images/changes_in_matter_22529.png\n",
      "../dataset_releases/data_release_beta4_standard/textbook_images/earth_science_and_its_branches_20015.png\n",
      "../dataset_releases/data_release_beta4_standard/textbook_images/newtons_first_law_22972.png\n",
      "../dataset_releases/data_release_beta4_standard/textbook_images/explosive_eruptions_20760.png\n",
      "../dataset_releases/data_release_beta4_standard/textbook_images/the_nature_of_science_20001.png\n",
      "../dataset_releases/data_release_beta4_standard/textbook_images/the_senses_21477.png\n",
      "../dataset_releases/data_release_beta4_standard/textbook_images/autoimmune_diseases_21718.png\n",
      "../dataset_releases/data_release_beta4_standard/textbook_images/impacts_of_hazardous_waste_20857.png\n",
      "../dataset_releases/data_release_beta4_standard/textbook_images/history_of_earths_life_forms_20077.png\n",
      "../dataset_releases/data_release_beta4_standard/textbook_images/organization_of_living_things_22025.png\n",
      "../dataset_releases/data_release_beta4_standard/textbook_images/compounds_22740.png\n",
      "../dataset_releases/data_release_beta4_standard/textbook_images/ocean_movements_20111.png\n",
      "../dataset_releases/data_release_beta4_standard/textbook_images/radioisotopes_23049.png\n",
      "../dataset_releases/data_release_beta4_standard/textbook_images/succession_22158.png\n",
      "../dataset_releases/data_release_beta4_standard/textbook_images/modern_periodic_table_22959.png\n",
      "../dataset_releases/data_release_beta4_standard/textbook_images/rocks_21074.png\n",
      "../dataset_releases/data_release_beta4_standard/textbook_images/wave_amplitude_23163.png\n",
      "../dataset_releases/data_release_beta4_standard/textbook_images/advances_in_genetics_21636.png\n",
      "../dataset_releases/data_release_beta4_standard/textbook_images/understanding_animal_behavior_21376.png\n",
      "../dataset_releases/data_release_beta4_standard/textbook_images/science_skills_22397.png\n",
      "../dataset_releases/data_release_beta4_standard/textbook_images/wedge_23175.png\n",
      "../dataset_releases/data_release_beta4_standard/textbook_images/atomic_forces_22671.png\n",
      "../dataset_releases/data_release_beta4_standard/textbook_images/earths_magnetic_field_20720.png\n",
      "../dataset_releases/data_release_beta4_standard/textbook_images/history_of_life_on_earth_21661.png\n",
      "../dataset_releases/data_release_beta4_standard/textbook_images/plant_hormones_22058.png\n",
      "../dataset_releases/data_release_beta4_standard/textbook_images/effects_of_air_pollution_on_the_environment_20736.png\n",
      "../dataset_releases/data_release_beta4_standard/textbook_images/soil_characteristics_21114.png\n",
      "../dataset_releases/data_release_beta4_standard/textbook_images/history_of_mesozoic_life_20832.png\n",
      "../dataset_releases/data_release_beta4_standard/textbook_images/types_of_marine_organisms_21187.png\n",
      "../dataset_releases/data_release_beta4_standard/textbook_images/characteristics_of_sound_22408.png\n",
      "../dataset_releases/data_release_beta4_standard/textbook_images/properties_of_acids_23034.png\n",
      "../dataset_releases/data_release_beta4_standard/textbook_images/electrons_22819.png\n",
      "../dataset_releases/data_release_beta4_standard/textbook_images/inner_planets_20403.png\n",
      "../dataset_releases/data_release_beta4_standard/textbook_images/types_of_volcanoes_20579.png\n",
      "../dataset_releases/data_release_beta4_standard/textbook_images/landforms_from_glacial_erosion_and_deposition_20891.png\n",
      "../dataset_releases/data_release_beta4_standard/textbook_images/infectious_diseases_21487.png\n",
      "../dataset_releases/data_release_beta4_standard/textbook_images/hydrogen_and_alkali_metals_22890.png\n",
      "../dataset_releases/data_release_beta4_standard/textbook_images/environmental_impacts_of_mining_20748.png\n",
      "../dataset_releases/data_release_beta4_standard/textbook_images/weather_fronts_21233.png\n",
      "../dataset_releases/data_release_beta4_standard/textbook_images/transfer_of_thermal_energy_22363.png\n",
      "../dataset_releases/data_release_beta4_standard/textbook_images/origins_of_life_22035.png\n",
      "../dataset_releases/data_release_beta4_standard/textbook_images/technology_22405.png\n",
      "../dataset_releases/data_release_beta4_standard/textbook_images/satellites_shuttles_and_space_stations_21083.png\n",
      "../dataset_releases/data_release_beta4_standard/textbook_images/consumers_and_decomposers_21793.png\n",
      "../dataset_releases/data_release_beta4_standard/textbook_images/bathymetric_evidence_for_seafloor_spreading_20627.png\n",
      "../dataset_releases/data_release_beta4_standard/textbook_images/cardiovascular_system_health_21751.png\n",
      "../dataset_releases/data_release_beta4_standard/textbook_images/faults_20767.png\n",
      "../dataset_releases/data_release_beta4_standard/textbook_images/evidence_for_evolution_21645.png\n",
      "../dataset_releases/data_release_beta4_standard/textbook_images/ecosystems_20213.png\n",
      "../dataset_releases/data_release_beta4_standard/textbook_images/star_power_21134.png\n",
      "../dataset_releases/data_release_beta4_standard/textbook_images/protein_synthesis_21614.png\n",
      "../dataset_releases/data_release_beta4_standard/textbook_images/scientific_induction_23063.png\n",
      "../dataset_releases/data_release_beta4_standard/textbook_images/ponds_and_lakes_21031.png\n",
      "../dataset_releases/data_release_beta4_standard/textbook_images/forms_of_energy_22848.png\n",
      "../dataset_releases/data_release_beta4_standard/textbook_images/effects_of_air_pollution_on_human_health_20734.png\n",
      "../dataset_releases/data_release_beta4_standard/textbook_images/conserving_water_20679.png\n",
      "../dataset_releases/data_release_beta4_standard/textbook_images/radioactive_decay_23047.png\n",
      "../dataset_releases/data_release_beta4_standard/textbook_images/mendeleevs_periodic_table_22942.png\n",
      "../dataset_releases/data_release_beta4_standard/textbook_images/world_climates_20197.png\n",
      "../dataset_releases/data_release_beta4_standard/textbook_images/electric_current_22475.png\n",
      "../dataset_releases/data_release_beta4_standard/textbook_images/volcanoes_at_plate_boundaries_21224.png\n",
      "../dataset_releases/data_release_beta4_standard/textbook_images/peripheral_nervous_system_22048.png\n",
      "../dataset_releases/data_release_beta4_standard/textbook_images/diffusion_21801.png\n",
      "../dataset_releases/data_release_beta4_standard/textbook_images/cycles_of_matter_20219.png\n",
      "../dataset_releases/data_release_beta4_standard/textbook_images/terrestrial_biomes_22163.png\n",
      "../dataset_releases/data_release_beta4_standard/textbook_images/energy_in_the_atmosphere_20143.png\n",
      "../dataset_releases/data_release_beta4_standard/textbook_images/chemistry_of_life_21773.png\n",
      "../dataset_releases/data_release_beta4_standard/textbook_images/introduction_to_the_oceans_20108.png\n",
      "../dataset_releases/data_release_beta4_standard/textbook_images/ocean_movements_20119.png\n",
      "../dataset_releases/data_release_beta4_standard/textbook_images/volcanic_eruptions_20569.png\n",
      "../dataset_releases/data_release_beta4_standard/textbook_images/visible_light_and_matter_23153.png\n",
      "../dataset_releases/data_release_beta4_standard/textbook_images/birds_21356.png\n",
      "../dataset_releases/data_release_beta4_standard/textbook_images/electronic_component_22811.png\n",
      "../dataset_releases/data_release_beta4_standard/textbook_images/transport_21587.png\n",
      "../dataset_releases/data_release_beta4_standard/textbook_images/types_of_energy_22336.png\n",
      "../dataset_releases/data_release_beta4_standard/textbook_images/water_distribution_21227.png\n",
      "../dataset_releases/data_release_beta4_standard/textbook_images/earth_as_a_magnet_22495.png\n",
      "../dataset_releases/data_release_beta4_standard/textbook_images/evolution_of_simple_cells_20751.png\n",
      "../dataset_releases/data_release_beta4_standard/textbook_images/effects_of_air_pollution_20328.png\n",
      "../dataset_releases/data_release_beta4_standard/textbook_images/the_respiratory_system_21443.png\n",
      "../dataset_releases/data_release_beta4_standard/textbook_images/surface_features_of_the_sun_21148.png\n",
      "../dataset_releases/data_release_beta4_standard/textbook_images/charless_law_22711.png\n",
      "../dataset_releases/data_release_beta4_standard/textbook_images/relative_ages_of_rocks_20061.png\n",
      "../dataset_releases/data_release_beta4_standard/textbook_images/jupiter_20878.png\n",
      "../dataset_releases/data_release_beta4_standard/textbook_images/inside_earth_20495.png\n",
      "../dataset_releases/data_release_beta4_standard/textbook_images/nonrenewable_energy_resources_20486.png\n",
      "../dataset_releases/data_release_beta4_standard/textbook_images/inside_earth_20499.png\n",
      "../dataset_releases/data_release_beta4_standard/textbook_images/machines_22313.png\n",
      "../dataset_releases/data_release_beta4_standard/textbook_images/volcanic_landforms_21213.png\n",
      "../dataset_releases/data_release_beta4_standard/textbook_images/protecting_the_water_supply_20312.png\n",
      "../dataset_releases/data_release_beta4_standard/textbook_images/using_satellites_and_computers_20275.png\n",
      "../dataset_releases/data_release_beta4_standard/textbook_images/hydrogen_and_alkali_metals_22891.png\n",
      "../dataset_releases/data_release_beta4_standard/textbook_images/force_22842.png\n",
      "../dataset_releases/data_release_beta4_standard/textbook_images/inner_planets_20401.png\n",
      "../dataset_releases/data_release_beta4_standard/textbook_images/ocean_garbage_patch_21003.png\n",
      "../dataset_releases/data_release_beta4_standard/textbook_images/how_animals_evolved_21298.png\n",
      "../dataset_releases/data_release_beta4_standard/textbook_images/insects_21934.png\n",
      "../dataset_releases/data_release_beta4_standard/textbook_images/branches_of_earth_science_20639.png\n",
      "../dataset_releases/data_release_beta4_standard/textbook_images/seasons_21096.png\n",
      "../dataset_releases/data_release_beta4_standard/textbook_images/mesosphere_20936.png\n",
      "../dataset_releases/data_release_beta4_standard/textbook_images/the_microscope_21259.png\n",
      "../dataset_releases/data_release_beta4_standard/textbook_images/identification_of_minerals_20456.png\n",
      "../dataset_releases/data_release_beta4_standard/textbook_images/chemical_weathering_20656.png\n",
      "../dataset_releases/data_release_beta4_standard/textbook_images/behavior_of_gases_22549.png\n",
      "../dataset_releases/data_release_beta4_standard/textbook_images/food_and_nutrients_21421.png\n",
      "../dataset_releases/data_release_beta4_standard/textbook_images/location_and_direction_20908.png\n",
      "../dataset_releases/data_release_beta4_standard/textbook_images/friction_22259.png\n",
      "../dataset_releases/data_release_beta4_standard/textbook_images/immune_system_defenses_21497.png\n",
      "../dataset_releases/data_release_beta4_standard/textbook_images/machines_22315.png\n",
      "../dataset_releases/data_release_beta4_standard/textbook_images/chemistry_of_living_things_21460.png\n",
      "../dataset_releases/data_release_beta4_standard/textbook_images/electron_cloud_atomic_model_22808.png\n",
      "../dataset_releases/data_release_beta4_standard/textbook_images/metallic_bonding_22944.png\n",
      "../dataset_releases/data_release_beta4_standard/textbook_images/air_pollution_21555.png\n",
      "../dataset_releases/data_release_beta4_standard/textbook_images/mineral_formation_20948.png\n",
      "../dataset_releases/data_release_beta4_standard/textbook_images/asexual_vs._sexual_reproduction_21713.png\n",
      "../dataset_releases/data_release_beta4_standard/textbook_images/telescopes_20336.png\n",
      "../dataset_releases/data_release_beta4_standard/textbook_images/mammals_21369.png\n",
      "../dataset_releases/data_release_beta4_standard/textbook_images/ferromagnetic_material_22840.png\n",
      "../dataset_releases/data_release_beta4_standard/textbook_images/formation_of_minerals_20460.png\n",
      "../dataset_releases/data_release_beta4_standard/textbook_images/classification_of_living_things_21466.png\n",
      "../dataset_releases/data_release_beta4_standard/textbook_images/soil_horizons_and_profiles_21125.png\n",
      "../dataset_releases/data_release_beta4_standard/textbook_images/introduction_to_earths_surface_20244.png\n",
      "../dataset_releases/data_release_beta4_standard/textbook_images/earthquake_damage_20703.png\n",
      "../dataset_releases/data_release_beta4_standard/textbook_images/venus_21207.png\n",
      "../dataset_releases/data_release_beta4_standard/textbook_images/protecting_the_water_supply_20310.png\n",
      "../dataset_releases/data_release_beta4_standard/textbook_images/homeostasis_21883.png\n",
      "../dataset_releases/data_release_beta4_standard/textbook_images/wave_interactions_and_interference_22385.png\n",
      "../dataset_releases/data_release_beta4_standard/textbook_images/inside_the_atom_22562.png\n",
      "../dataset_releases/data_release_beta4_standard/textbook_images/formation_of_the_moon_20786.png\n",
      "../dataset_releases/data_release_beta4_standard/textbook_images/human_causes_of_extinction_21886.png\n",
      "../dataset_releases/data_release_beta4_standard/textbook_images/paleozoic_plate_tectonics_21020.png\n",
      "../dataset_releases/data_release_beta4_standard/textbook_images/volcanic_eruptions_20570.png\n",
      "../dataset_releases/data_release_beta4_standard/textbook_images/earth_as_a_magnet_22492.png\n",
      "../dataset_releases/data_release_beta4_standard/textbook_images/the_nature_of_science_20009.png\n",
      "../dataset_releases/data_release_beta4_standard/textbook_images/magnets_and_magnetism_22485.png\n",
      "../dataset_releases/data_release_beta4_standard/textbook_images/flow_of_energy_21543.png\n",
      "../dataset_releases/data_release_beta4_standard/textbook_images/cell_division_21601.png\n",
      "../dataset_releases/data_release_beta4_standard/textbook_images/introduction_to_earths_surface_20242.png\n",
      "../dataset_releases/data_release_beta4_standard/textbook_images/blizzards_20636.png\n",
      "../dataset_releases/data_release_beta4_standard/textbook_images/nature_of_earthquakes_20547.png\n",
      "../dataset_releases/data_release_beta4_standard/textbook_images/greenhouse_effect_20815.png\n",
      "../dataset_releases/data_release_beta4_standard/textbook_images/electric_fields_22787.png\n",
      "../dataset_releases/data_release_beta4_standard/textbook_images/modern_genetics_21993.png\n",
      "../dataset_releases/data_release_beta4_standard/textbook_images/energy_in_the_atmosphere_20139.png\n",
      "../dataset_releases/data_release_beta4_standard/textbook_images/predation_22071.png\n",
      "../dataset_releases/data_release_beta4_standard/textbook_images/mineral_groups_20954.png\n",
      "../dataset_releases/data_release_beta4_standard/textbook_images/the_respiratory_system_21445.png\n",
      "../dataset_releases/data_release_beta4_standard/textbook_images/how_elements_are_organized_22577.png\n",
      "../dataset_releases/data_release_beta4_standard/textbook_images/explosive_eruptions_20762.png\n",
      "../dataset_releases/data_release_beta4_standard/textbook_images/bond_polarity_22684.png\n",
      "../dataset_releases/data_release_beta4_standard/textbook_images/erosion_and_deposition_by_wind_20041.png\n",
      "../dataset_releases/data_release_beta4_standard/textbook_images/types_of_marine_organisms_21183.png\n",
      "../dataset_releases/data_release_beta4_standard/textbook_images/predation_22072.png\n",
      "../dataset_releases/data_release_beta4_standard/textbook_images/technology_22406.png\n",
      "../dataset_releases/data_release_beta4_standard/textbook_images/populations_21521.png\n",
      "../dataset_releases/data_release_beta4_standard/textbook_images/landforms_from_erosion_and_deposition_by_gravity_20885.png\n",
      "../dataset_releases/data_release_beta4_standard/textbook_images/nuclear_energy_22240.png\n",
      "../dataset_releases/data_release_beta4_standard/textbook_images/reproductive_system_health_21516.png\n",
      "../dataset_releases/data_release_beta4_standard/textbook_images/law_of_conservation_of_momentum_22915.png\n",
      "../dataset_releases/data_release_beta4_standard/textbook_images/impact_of_continued_global_warming_20854.png\n",
      "../dataset_releases/data_release_beta4_standard/textbook_images/optics_22446.png\n",
      "../dataset_releases/data_release_beta4_standard/textbook_images/eclipses_20727.png\n",
      "../dataset_releases/data_release_beta4_standard/textbook_images/chemical_reactions_and_energy_22620.png\n",
      "../dataset_releases/data_release_beta4_standard/textbook_images/the_nervous_system_21469.png\n",
      "../dataset_releases/data_release_beta4_standard/textbook_images/evolution_acts_on_the_phenotype_21823.png\n",
      "../dataset_releases/data_release_beta4_standard/textbook_images/heating_systems_22881.png\n",
      "../dataset_releases/data_release_beta4_standard/textbook_images/the_muscular_system_21413.png\n",
      "../dataset_releases/data_release_beta4_standard/textbook_images/carbon_and_living_things_22646.png\n",
      "../dataset_releases/data_release_beta4_standard/textbook_images/erosion_and_deposition_by_waves_20036.png\n",
      "../dataset_releases/data_release_beta4_standard/textbook_images/solids_liquids_gases_and_plasmas_22535.png\n",
      "../dataset_releases/data_release_beta4_standard/textbook_images/biodiversity_and_extinction_21566.png\n",
      "../dataset_releases/data_release_beta4_standard/textbook_images/machines_22314.png\n",
      "../dataset_releases/data_release_beta4_standard/textbook_images/female_reproductive_system_21504.png\n",
      "../dataset_releases/data_release_beta4_standard/textbook_images/layers_of_the_atmosphere_20146.png\n",
      "../dataset_releases/data_release_beta4_standard/textbook_images/groundwater_aquifers_20816.png\n",
      "../dataset_releases/data_release_beta4_standard/textbook_images/prokaryotic_and_eukaryotic_cells_22088.png\n",
      "../dataset_releases/data_release_beta4_standard/textbook_images/introduction_to_the_human_body_21398.png\n",
      "../dataset_releases/data_release_beta4_standard/textbook_images/humans_and_the_water_supply_20298.png\n",
      "../dataset_releases/data_release_beta4_standard/textbook_images/absolute_ages_of_rocks_20066.png\n",
      "../dataset_releases/data_release_beta4_standard/textbook_images/human_skeletal_system_21893.png\n",
      "../dataset_releases/data_release_beta4_standard/textbook_images/atomic_forces_22670.png\n",
      "../dataset_releases/data_release_beta4_standard/textbook_images/other_objects_in_the_solar_system_20422.png\n",
      "../dataset_releases/data_release_beta4_standard/textbook_images/divergent_plate_boundaries_in_the_oceans_20695.png\n",
      "../dataset_releases/data_release_beta4_standard/textbook_images/population_size_21032.png\n",
      "../dataset_releases/data_release_beta4_standard/textbook_images/how_fossilization_creates_fossils_20843.png\n",
      "../dataset_releases/data_release_beta4_standard/textbook_images/forms_of_energy_22347.png\n",
      "../dataset_releases/data_release_beta4_standard/textbook_images/acceleration_22252.png\n",
      "../dataset_releases/data_release_beta4_standard/textbook_images/female_reproductive_system_21829.png\n",
      "../dataset_releases/data_release_beta4_standard/textbook_images/respiratory_system_organs_22115.png\n",
      "../dataset_releases/data_release_beta4_standard/textbook_images/skeletal_system_joints_22139.png\n",
      "../dataset_releases/data_release_beta4_standard/textbook_images/newtons_third_law_22288.png\n",
      "../dataset_releases/data_release_beta4_standard/textbook_images/lifes_building_blocks_21572.png\n",
      "../dataset_releases/data_release_beta4_standard/textbook_images/observation_22993.png\n",
      "../dataset_releases/data_release_beta4_standard/textbook_images/planet_earth_20370.png\n",
      "../dataset_releases/data_release_beta4_standard/textbook_images/petroleum_power_21023.png\n",
      "../dataset_releases/data_release_beta4_standard/textbook_images/types_of_rocks_20470.png\n",
      "../dataset_releases/data_release_beta4_standard/textbook_images/use_and_conservation_of_energy_20293.png\n",
      "../dataset_releases/data_release_beta4_standard/textbook_images/measuring_and_predicting_earthquakes_20555.png\n",
      "../dataset_releases/data_release_beta4_standard/textbook_images/igneous_rocks_20476.png\n",
      "../dataset_releases/data_release_beta4_standard/textbook_images/ocean_movements_20120.png\n",
      "../dataset_releases/data_release_beta4_standard/textbook_images/introduction_to_genetics_21628.png\n",
      "../dataset_releases/data_release_beta4_standard/textbook_images/earthquake_characteristics_20701.png\n",
      "../dataset_releases/data_release_beta4_standard/textbook_images/expansion_of_the_universe_20756.png\n",
      "../dataset_releases/data_release_beta4_standard/textbook_images/thunderstorms_21159.png\n",
      "../dataset_releases/data_release_beta4_standard/textbook_images/wavelength_23172.png\n",
      "../dataset_releases/data_release_beta4_standard/textbook_images/galaxies_20436.png\n",
      "../dataset_releases/data_release_beta4_standard/textbook_images/electric_current_22471.png\n",
      "../dataset_releases/data_release_beta4_standard/textbook_images/temperature_and_heat_22358.png\n",
      "../dataset_releases/data_release_beta4_standard/textbook_images/characteristics_of_waves_22379.png\n",
      "../dataset_releases/data_release_beta4_standard/textbook_images/saturn_21089.png\n",
      "../dataset_releases/data_release_beta4_standard/textbook_images/unsaturated_hydrocarbons_23142.png\n",
      "../dataset_releases/data_release_beta4_standard/textbook_images/using_satellites_and_computers_20277.png\n",
      "../dataset_releases/data_release_beta4_standard/textbook_images/velocity_time_graphs_23151.png\n",
      "../dataset_releases/data_release_beta4_standard/textbook_images/heating_systems_22883.png\n",
      "../dataset_releases/data_release_beta4_standard/textbook_images/meiosis_21977.png\n",
      "../dataset_releases/data_release_beta4_standard/textbook_images/acid_rain_20603.png\n",
      "../dataset_releases/data_release_beta4_standard/textbook_images/boyles_law_22687.png\n",
      "../dataset_releases/data_release_beta4_standard/textbook_images/gymnosperms_21858.png\n",
      "../dataset_releases/data_release_beta4_standard/textbook_images/star_constellations_21132.png\n",
      "../dataset_releases/data_release_beta4_standard/textbook_images/modeling_earths_surface_20263.png\n",
      "../dataset_releases/data_release_beta4_standard/textbook_images/insects_21931.png\n",
      "../dataset_releases/data_release_beta4_standard/textbook_images/groundwater_depletion_20823.png\n",
      "../dataset_releases/data_release_beta4_standard/textbook_images/world_climates_20195.png\n",
      "../dataset_releases/data_release_beta4_standard/textbook_images/types_of_animal_behavior_21386.png\n",
      "../dataset_releases/data_release_beta4_standard/textbook_images/fungi_21687.png\n",
      "../dataset_releases/data_release_beta4_standard/textbook_images/introduction_to_plants_21266.png\n",
      "../dataset_releases/data_release_beta4_standard/textbook_images/evolution_of_simple_cells_20752.png\n",
      "../dataset_releases/data_release_beta4_standard/textbook_images/cardiovascular_system_health_21752.png\n",
      "../dataset_releases/data_release_beta4_standard/textbook_images/the_electromagnetic_spectrum_22435.png\n",
      "../dataset_releases/data_release_beta4_standard/textbook_images/choosing_healthy_foods_21422.png\n",
      "../dataset_releases/data_release_beta4_standard/textbook_images/sedimentary_rocks_21104.png\n",
      "../dataset_releases/data_release_beta4_standard/textbook_images/climate_change_20199.png\n",
      "../dataset_releases/data_release_beta4_standard/textbook_images/reptiles_21351.png\n",
      "../dataset_releases/data_release_beta4_standard/textbook_images/composition_of_the_atmosphere_20677.png\n",
      "../dataset_releases/data_release_beta4_standard/textbook_images/lipid_classification_22926.png\n",
      "../dataset_releases/data_release_beta4_standard/textbook_images/fish_21838.png\n",
      "../dataset_releases/data_release_beta4_standard/textbook_images/ecosystems_21818.png\n",
      "../dataset_releases/data_release_beta4_standard/textbook_images/other_objects_in_the_solar_system_20425.png\n",
      "../dataset_releases/data_release_beta4_standard/textbook_images/weather_fronts_21232.png\n",
      "../dataset_releases/data_release_beta4_standard/textbook_images/flooding_20775.png\n",
      "../dataset_releases/data_release_beta4_standard/textbook_images/the_endocrine_system_21484.png\n",
      "../dataset_releases/data_release_beta4_standard/textbook_images/chemistry_of_living_things_21456.png\n",
      "../dataset_releases/data_release_beta4_standard/textbook_images/speed_and_velocity_22246.png\n",
      "../dataset_releases/data_release_beta4_standard/textbook_images/early_space_exploration_20351.png\n",
      "../dataset_releases/data_release_beta4_standard/textbook_images/liquids_22929.png\n",
      "../dataset_releases/data_release_beta4_standard/textbook_images/uses_of_water_21204.png\n",
      "../dataset_releases/data_release_beta4_standard/textbook_images/simple_machines_22327.png\n",
      "../dataset_releases/data_release_beta4_standard/textbook_images/ocean_movements_20113.png\n",
      "../dataset_releases/data_release_beta4_standard/textbook_images/galaxies_20795.png\n",
      "../dataset_releases/data_release_beta4_standard/textbook_images/cellular_respiration_21594.png\n",
      "../dataset_releases/data_release_beta4_standard/textbook_images/density_22765.png\n",
      "../dataset_releases/data_release_beta4_standard/textbook_images/history_of_mesozoic_life_20830.png\n",
      "../dataset_releases/data_release_beta4_standard/textbook_images/surface_water_20091.png\n",
      "../dataset_releases/data_release_beta4_standard/textbook_images/friction_22856.png\n",
      "../dataset_releases/data_release_beta4_standard/textbook_images/introduction_to_vertebrates_21340.png\n",
      "../dataset_releases/data_release_beta4_standard/textbook_images/mercury_pollution_20933.png\n",
      "../dataset_releases/data_release_beta4_standard/textbook_images/groundwater_pollution_20824.png\n",
      "../dataset_releases/data_release_beta4_standard/textbook_images/introduction_to_the_solar_system_20389.png\n",
      "../dataset_releases/data_release_beta4_standard/textbook_images/universe_21198.png\n",
      "../dataset_releases/data_release_beta4_standard/textbook_images/soil_erosion_21122.png\n",
      "../dataset_releases/data_release_beta4_standard/textbook_images/recent_space_exploration_20357.png\n",
      "../dataset_releases/data_release_beta4_standard/textbook_images/mendels_pea_plants_21982.png\n",
      "../dataset_releases/data_release_beta4_standard/textbook_images/nuclear_energy_22239.png\n",
      "../dataset_releases/data_release_beta4_standard/textbook_images/climate_change_20206.png\n",
      "../dataset_releases/data_release_beta4_standard/textbook_images/big_bang_20629.png\n",
      "../dataset_releases/data_release_beta4_standard/textbook_images/biodiversity_and_extinction_21568.png\n",
      "../dataset_releases/data_release_beta4_standard/textbook_images/storms_20174.png\n",
      "../dataset_releases/data_release_beta4_standard/textbook_images/eclipses_20730.png\n",
      "../dataset_releases/data_release_beta4_standard/textbook_images/generating_and_using_electricity_22513.png\n",
      "../dataset_releases/data_release_beta4_standard/textbook_images/using_thermal_energy_22368.png\n",
      "../dataset_releases/data_release_beta4_standard/textbook_images/vascular_seedless_plants_22197.png\n",
      "../dataset_releases/data_release_beta4_standard/textbook_images/earth_as_a_magnet_22775.png\n",
      "../dataset_releases/data_release_beta4_standard/textbook_images/elastic_force_22277.png\n",
      "../dataset_releases/data_release_beta4_standard/textbook_images/earth_science_and_its_branches_20010.png\n",
      "../dataset_releases/data_release_beta4_standard/textbook_images/igneous_rocks_20478.png\n",
      "../dataset_releases/data_release_beta4_standard/textbook_images/finding_and_mining_ores_20773.png\n",
      "../dataset_releases/data_release_beta4_standard/textbook_images/magnets_and_magnetism_22489.png\n",
      "../dataset_releases/data_release_beta4_standard/textbook_images/fish_21343.png\n",
      "../dataset_releases/data_release_beta4_standard/textbook_images/precambrian_plate_tectonics_21037.png\n",
      "../dataset_releases/data_release_beta4_standard/textbook_images/biomes_21539.png\n",
      "../dataset_releases/data_release_beta4_standard/textbook_images/other_objects_in_the_solar_system_20417.png\n",
      "../dataset_releases/data_release_beta4_standard/textbook_images/modern_atomic_theory_22571.png\n",
      "../dataset_releases/data_release_beta4_standard/textbook_images/insects_and_other_arthropods_21329.png\n",
      "../dataset_releases/data_release_beta4_standard/textbook_images/world_climates_20193.png\n",
      "../dataset_releases/data_release_beta4_standard/textbook_images/chemical_bonding_20653.png\n",
      "../dataset_releases/data_release_beta4_standard/textbook_images/exothermic_reactions_22836.png\n",
      "../dataset_releases/data_release_beta4_standard/textbook_images/climate_change_20205.png\n",
      "../dataset_releases/data_release_beta4_standard/textbook_images/introduction_to_vertebrates_21339.png\n",
      "../dataset_releases/data_release_beta4_standard/textbook_images/layers_of_the_atmosphere_20149.png\n",
      "../dataset_releases/data_release_beta4_standard/textbook_images/social_behavior_of_animals_22148.png\n",
      "../dataset_releases/data_release_beta4_standard/textbook_images/mesozoic_plate_tectonics_20938.png\n",
      "../dataset_releases/data_release_beta4_standard/textbook_images/obtaining_energy_resources_20996.png\n",
      "../dataset_releases/data_release_beta4_standard/textbook_images/bond_polarity_22683.png\n",
      "../dataset_releases/data_release_beta4_standard/textbook_images/types_of_friction_23133.png\n",
      "../dataset_releases/data_release_beta4_standard/textbook_images/water_pollution_21229.png\n",
      "../dataset_releases/data_release_beta4_standard/textbook_images/protein_classification_23042.png\n",
      "../dataset_releases/data_release_beta4_standard/textbook_images/lizards_and_snakes_21956.png\n",
      "../dataset_releases/data_release_beta4_standard/textbook_images/rutherfords_atomic_model_23058.png\n",
      "../dataset_releases/data_release_beta4_standard/textbook_images/ecosystem_change_21551.png\n",
      "../dataset_releases/data_release_beta4_standard/textbook_images/climate_and_its_causes_20187.png\n",
      "../dataset_releases/data_release_beta4_standard/textbook_images/coal_power_20669.png\n",
      "../dataset_releases/data_release_beta4_standard/textbook_images/the_electromagnetic_spectrum_22428.png\n",
      "../dataset_releases/data_release_beta4_standard/textbook_images/stars_20428.png\n",
      "../dataset_releases/data_release_beta4_standard/textbook_images/outer_planets_20412.png\n",
      "../dataset_releases/data_release_beta4_standard/textbook_images/oil_spills_21010.png\n",
      "../dataset_releases/data_release_beta4_standard/textbook_images/weather_maps_21239.png\n",
      "../dataset_releases/data_release_beta4_standard/textbook_images/immune_system_defenses_21498.png\n",
      "../dataset_releases/data_release_beta4_standard/textbook_images/loss_of_soil_20234.png\n",
      "../dataset_releases/data_release_beta4_standard/textbook_images/chemical_bonding_20651.png\n",
      "../dataset_releases/data_release_beta4_standard/textbook_images/projectile_motion_23033.png\n",
      "../dataset_releases/data_release_beta4_standard/textbook_images/cell_division_21602.png\n",
      "../dataset_releases/data_release_beta4_standard/textbook_images/earths_core_20715.png\n",
      "../dataset_releases/data_release_beta4_standard/textbook_images/solids_liquids_gases_and_plasmas_22534.png\n",
      "../dataset_releases/data_release_beta4_standard/textbook_images/cycles_of_matter_21547.png\n",
      "../dataset_releases/data_release_beta4_standard/textbook_images/mammals_21363.png\n",
      "../dataset_releases/data_release_beta4_standard/textbook_images/carbon_and_living_things_22642.png\n",
      "../dataset_releases/data_release_beta4_standard/textbook_images/thermal_conductors_and_insulators_23114.png\n",
      "../dataset_releases/data_release_beta4_standard/textbook_images/the_light_we_see_22441.png\n",
      "../dataset_releases/data_release_beta4_standard/textbook_images/history_of_life_on_earth_21660.png\n",
      "../dataset_releases/data_release_beta4_standard/textbook_images/wave_interactions_and_interference_22388.png\n",
      "../dataset_releases/data_release_beta4_standard/textbook_images/birds_21359.png\n",
      "../dataset_releases/data_release_beta4_standard/textbook_images/catalysts_22706.png\n",
      "../dataset_releases/data_release_beta4_standard/textbook_images/simple_machines_22320.png\n",
      "../dataset_releases/data_release_beta4_standard/textbook_images/electricity_and_magnetism_22502.png\n",
      "../dataset_releases/data_release_beta4_standard/textbook_images/introduction_to_groundwater_20870.png\n",
      "../dataset_releases/data_release_beta4_standard/textbook_images/reproduction_21612.png\n",
      "../dataset_releases/data_release_beta4_standard/textbook_images/evolution_and_classification_of_plants_21273.png\n",
      "../dataset_releases/data_release_beta4_standard/textbook_images/organic_compounds_22022.png\n",
      "../dataset_releases/data_release_beta4_standard/textbook_images/energy_conservation_20743.png\n",
      "../dataset_releases/data_release_beta4_standard/textbook_images/electromagnetic_waves_22803.png\n",
      "../dataset_releases/data_release_beta4_standard/textbook_images/modern_biodiversity_20972.png\n",
      "../dataset_releases/data_release_beta4_standard/textbook_images/plant_responses_and_special_adaptations_21289.png\n",
      "../dataset_releases/data_release_beta4_standard/textbook_images/scientific_process_23068.png\n",
      "../dataset_releases/data_release_beta4_standard/textbook_images/clouds_20665.png\n",
      "../dataset_releases/data_release_beta4_standard/textbook_images/groundwater_20099.png\n",
      "../dataset_releases/data_release_beta4_standard/textbook_images/recent_space_exploration_20361.png\n",
      "../dataset_releases/data_release_beta4_standard/textbook_images/primates_22080.png\n",
      "../dataset_releases/data_release_beta4_standard/textbook_images/mollusks_and_annelids_21322.png\n",
      "../dataset_releases/data_release_beta4_standard/textbook_images/transfer_of_electric_charge_23125.png\n",
      "../dataset_releases/data_release_beta4_standard/textbook_images/reproduction_21608.png\n",
      "../dataset_releases/data_release_beta4_standard/textbook_images/pressure_and_density_of_the_atmosphere_21047.png\n",
      "../dataset_releases/data_release_beta4_standard/textbook_images/compounds_22741.png\n",
      "../dataset_releases/data_release_beta4_standard/textbook_images/sources_of_visible_light_23095.png\n",
      "../dataset_releases/data_release_beta4_standard/textbook_images/bond_polarity_22685.png\n",
      "../dataset_releases/data_release_beta4_standard/textbook_images/frequency_and_pitch_of_sound_22850.png\n",
      "../dataset_releases/data_release_beta4_standard/textbook_images/impacts_of_hazardous_waste_20858.png\n",
      "../dataset_releases/data_release_beta4_standard/textbook_images/minerals_20443.png\n",
      "../dataset_releases/data_release_beta4_standard/textbook_images/types_of_animal_behavior_21390.png\n",
      "../dataset_releases/data_release_beta4_standard/textbook_images/nonrenewable_energy_resources_20489.png\n",
      "../dataset_releases/data_release_beta4_standard/textbook_images/chemical_equations_22610.png\n",
      "../dataset_releases/data_release_beta4_standard/textbook_images/wave_interference_23169.png\n",
      "../dataset_releases/data_release_beta4_standard/textbook_images/changes_of_state_22553.png\n",
      "../dataset_releases/data_release_beta4_standard/textbook_images/mercury_20932.png\n",
      "../dataset_releases/data_release_beta4_standard/textbook_images/fresh_water_ecosystems_20794.png\n",
      "../dataset_releases/data_release_beta4_standard/textbook_images/modeling_earths_surface_20257.png\n",
      "../dataset_releases/data_release_beta4_standard/textbook_images/magnets_and_magnetism_22487.png\n",
      "../dataset_releases/data_release_beta4_standard/textbook_images/stress_in_earths_crust_20541.png\n",
      "../dataset_releases/data_release_beta4_standard/textbook_images/soils_20595.png\n",
      "../dataset_releases/data_release_beta4_standard/textbook_images/groundwater_20095.png\n",
      "../dataset_releases/data_release_beta4_standard/textbook_images/ecosystems_20216.png\n",
      "../dataset_releases/data_release_beta4_standard/textbook_images/correlation_using_relative_ages_20684.png\n",
      "../dataset_releases/data_release_beta4_standard/textbook_images/active_transport_21695.png\n",
      "../dataset_releases/data_release_beta4_standard/textbook_images/troposphere_21175.png\n",
      "../dataset_releases/data_release_beta4_standard/textbook_images/the_water_cycle_22169.png\n",
      "../dataset_releases/data_release_beta4_standard/textbook_images/streams_and_rivers_21138.png\n",
      "../dataset_releases/data_release_beta4_standard/textbook_images/nonvascular_plants_22015.png\n",
      "../dataset_releases/data_release_beta4_standard/textbook_images/storms_20175.png\n",
      "../dataset_releases/data_release_beta4_standard/textbook_images/fungi_structure_21853.png\n",
      "../dataset_releases/data_release_beta4_standard/textbook_images/eclipses_20728.png\n",
      "../dataset_releases/data_release_beta4_standard/textbook_images/types_of_fossilization_21180.png\n",
      "../dataset_releases/data_release_beta4_standard/textbook_images/inner_planets_20394.png\n",
      "../dataset_releases/data_release_beta4_standard/textbook_images/insect_food_21928.png\n",
      "../dataset_releases/data_release_beta4_standard/textbook_images/nucleic_acid_classification_22991.png\n",
      "../dataset_releases/data_release_beta4_standard/textbook_images/natural_gas_power_20981.png\n",
      "../dataset_releases/data_release_beta4_standard/textbook_images/sponges_and_cnidarians_21312.png\n",
      "../dataset_releases/data_release_beta4_standard/textbook_images/biomes_21535.png\n",
      "../dataset_releases/data_release_beta4_standard/textbook_images/energy_use_20746.png\n",
      "../dataset_releases/data_release_beta4_standard/textbook_images/the_sun_20380.png\n",
      "../dataset_releases/data_release_beta4_standard/textbook_images/magnetic_field_reversal_22934.png\n",
      "../dataset_releases/data_release_beta4_standard/textbook_images/surface_water_20094.png\n",
      "../dataset_releases/data_release_beta4_standard/textbook_images/simple_machines_22318.png\n",
      "../dataset_releases/data_release_beta4_standard/textbook_images/landforms_from_glacial_erosion_and_deposition_20892.png\n",
      "../dataset_releases/data_release_beta4_standard/textbook_images/chemical_reaction_rate_22722.png\n",
      "../dataset_releases/data_release_beta4_standard/textbook_images/igneous_rocks_20477.png\n",
      "../dataset_releases/data_release_beta4_standard/textbook_images/hydrocarbons_22632.png\n",
      "../dataset_releases/data_release_beta4_standard/textbook_images/reproductive_system_health_21517.png\n",
      "../dataset_releases/data_release_beta4_standard/textbook_images/technological_design_process_23106.png\n",
      "../dataset_releases/data_release_beta4_standard/textbook_images/the_sun_20381.png\n",
      "../dataset_releases/data_release_beta4_standard/textbook_images/amphibians_21347.png\n",
      "../dataset_releases/data_release_beta4_standard/textbook_images/mendels_discoveries_21621.png\n",
      "../dataset_releases/data_release_beta4_standard/textbook_images/cell_structures_21577.png\n",
      "../dataset_releases/data_release_beta4_standard/textbook_images/heart_and_blood_vessels_21435.png\n",
      "../dataset_releases/data_release_beta4_standard/textbook_images/activation_energy_22655.png\n",
      "../dataset_releases/data_release_beta4_standard/textbook_images/aquatic_biomes_21708.png\n",
      "../dataset_releases/data_release_beta4_standard/textbook_images/the_microscope_21258.png\n",
      "../dataset_releases/data_release_beta4_standard/textbook_images/volcanic_landforms_21215.png\n",
      "../dataset_releases/data_release_beta4_standard/textbook_images/expansion_of_the_universe_20757.png\n",
      "../dataset_releases/data_release_beta4_standard/textbook_images/pressure_of_fluids_22299.png\n",
      "../dataset_releases/data_release_beta4_standard/textbook_images/how_fossilization_creates_fossils_20842.png\n",
      "../dataset_releases/data_release_beta4_standard/textbook_images/faults_20766.png\n",
      "../dataset_releases/data_release_beta4_standard/textbook_images/weather_fronts_21231.png\n",
      "../dataset_releases/data_release_beta4_standard/textbook_images/valence_electrons_23148.png\n",
      "../dataset_releases/data_release_beta4_standard/textbook_images/finding_and_mining_ores_20772.png\n",
      "../dataset_releases/data_release_beta4_standard/textbook_images/ocean_life_20130.png\n",
      "../dataset_releases/data_release_beta4_standard/textbook_images/why_earth_is_a_magnet_23179.png\n",
      "../dataset_releases/data_release_beta4_standard/textbook_images/characteristics_of_sound_22411.png\n",
      "../dataset_releases/data_release_beta4_standard/textbook_images/fungi_21694.png\n",
      "../dataset_releases/data_release_beta4_standard/textbook_images/chromosomal_disorders_21781.png\n",
      "../dataset_releases/data_release_beta4_standard/textbook_images/newtons_first_law_22974.png\n",
      "../dataset_releases/data_release_beta4_standard/textbook_images/electric_charge_and_electric_force_22781.png\n",
      "../dataset_releases/data_release_beta4_standard/textbook_images/early_space_exploration_20349.png\n",
      "../dataset_releases/data_release_beta4_standard/textbook_images/weather_maps_21240.png\n",
      "../dataset_releases/data_release_beta4_standard/textbook_images/flow_of_energy_21541.png\n",
      "../dataset_releases/data_release_beta4_standard/textbook_images/ionic_compounds_22904.png\n",
      "../dataset_releases/data_release_beta4_standard/textbook_images/satellites_shuttles_and_space_stations_21081.png\n",
      "../dataset_releases/data_release_beta4_standard/textbook_images/chemical_reactions_and_energy_22617.png\n",
      "../dataset_releases/data_release_beta4_standard/textbook_images/oceanic_pressure_22995.png\n",
      "../dataset_releases/data_release_beta4_standard/textbook_images/the_scientific_method_21256.png\n",
      "../dataset_releases/data_release_beta4_standard/textbook_images/layers_of_the_atmosphere_20144.png\n",
      "../dataset_releases/data_release_beta4_standard/textbook_images/alligators_and_crocodiles_21697.png\n",
      "../dataset_releases/data_release_beta4_standard/textbook_images/keeping_the_nervous_system_healthy_21941.png\n",
      "../dataset_releases/data_release_beta4_standard/textbook_images/fungi_reproduction_21851.png\n",
      "../dataset_releases/data_release_beta4_standard/textbook_images/relative_ages_of_rocks_20062.png\n",
      "../dataset_releases/data_release_beta4_standard/textbook_images/early_space_exploration_20347.png\n",
      "../dataset_releases/data_release_beta4_standard/textbook_images/uranus_21199.png\n",
      "../dataset_releases/data_release_beta4_standard/textbook_images/modeling_earths_surface_20254.png\n",
      "../dataset_releases/data_release_beta4_standard/textbook_images/types_of_matter_22526.png\n",
      "../dataset_releases/data_release_beta4_standard/textbook_images/history_of_earths_life_forms_20081.png\n",
      "../dataset_releases/data_release_beta4_standard/textbook_images/nonmetals_22982.png\n",
      "../dataset_releases/data_release_beta4_standard/textbook_images/mineral_groups_20953.png\n",
      "../dataset_releases/data_release_beta4_standard/textbook_images/planet_earth_20372.png\n",
      "../dataset_releases/data_release_beta4_standard/textbook_images/growth_of_human_populations_20825.png\n",
      "../dataset_releases/data_release_beta4_standard/textbook_images/the_senses_21478.png\n",
      "../dataset_releases/data_release_beta4_standard/textbook_images/modeling_earths_surface_20262.png\n",
      "../dataset_releases/data_release_beta4_standard/textbook_images/cell_biology_21756.png\n",
      "../dataset_releases/data_release_beta4_standard/textbook_images/the_senses_21479.png\n",
      "../dataset_releases/data_release_beta4_standard/textbook_images/wave_frequency_23165.png\n",
      "../dataset_releases/data_release_beta4_standard/textbook_images/earth_as_a_magnet_22496.png\n",
      "../dataset_releases/data_release_beta4_standard/textbook_images/minerals_20444.png\n",
      "../dataset_releases/data_release_beta4_standard/textbook_images/natural_resource_conservation_20982.png\n",
      "../dataset_releases/data_release_beta4_standard/textbook_images/human_egg_cells_21889.png\n",
      "../dataset_releases/data_release_beta4_standard/textbook_images/introduction_to_plants_21263.png\n",
      "../dataset_releases/data_release_beta4_standard/textbook_images/igneous_landforms_and_geothermal_activ_20585.png\n",
      "../dataset_releases/data_release_beta4_standard/textbook_images/mountain_building_20979.png\n",
      "../dataset_releases/data_release_beta4_standard/textbook_images/biomes_21538.png\n",
      "../dataset_releases/data_release_beta4_standard/textbook_images/characteristics_of_waves_22372.png\n",
      "../dataset_releases/data_release_beta4_standard/textbook_images/natural_resources_21563.png\n",
      "../dataset_releases/data_release_beta4_standard/textbook_images/history_of_paleozoic_life_20836.png\n",
      "../dataset_releases/data_release_beta4_standard/textbook_images/effects_of_water_pollution_21820.png\n",
      "../dataset_releases/data_release_beta4_standard/textbook_images/electric_circuits_22783.png\n",
      "../dataset_releases/data_release_beta4_standard/textbook_images/using_satellites_and_computers_20274.png\n",
      "../dataset_releases/data_release_beta4_standard/textbook_images/oil_spills_21009.png\n",
      "../dataset_releases/data_release_beta4_standard/textbook_images/the_human_population_20227.png\n",
      "../dataset_releases/data_release_beta4_standard/textbook_images/peripheral_nervous_system_22051.png\n",
      "../dataset_releases/data_release_beta4_standard/textbook_images/valence_electrons_23149.png\n",
      "../dataset_releases/data_release_beta4_standard/textbook_images/plant_hormones_22061.png\n",
      "../dataset_releases/data_release_beta4_standard/textbook_images/the_scientific_method_21255.png\n",
      "../dataset_releases/data_release_beta4_standard/textbook_images/behavior_of_gases_22547.png\n",
      "../dataset_releases/data_release_beta4_standard/textbook_images/air_pollution_20320.png\n",
      "../dataset_releases/data_release_beta4_standard/textbook_images/stress_in_earths_crust_20528.png\n",
      "../dataset_releases/data_release_beta4_standard/textbook_images/reducing_air_pollution_21064.png\n",
      "../dataset_releases/data_release_beta4_standard/textbook_images/carbon_and_living_things_22647.png\n",
      "../dataset_releases/data_release_beta4_standard/textbook_images/climate_and_its_causes_20186.png\n",
      "../dataset_releases/data_release_beta4_standard/textbook_images/long_term_climate_change_20910.png\n",
      "../dataset_releases/data_release_beta4_standard/textbook_images/ecosystems_20208.png\n",
      "../dataset_releases/data_release_beta4_standard/textbook_images/soil_characteristics_21113.png\n",
      "../dataset_releases/data_release_beta4_standard/textbook_images/buoyancy_of_fluids_22305.png\n",
      "../dataset_releases/data_release_beta4_standard/textbook_images/gymnosperms_21859.png\n",
      "../dataset_releases/data_release_beta4_standard/textbook_images/understanding_animal_behavior_21384.png\n",
      "../dataset_releases/data_release_beta4_standard/textbook_images/streams_and_rivers_21139.png\n",
      "../dataset_releases/data_release_beta4_standard/textbook_images/effects_of_air_pollution_on_the_environment_20735.png\n",
      "../dataset_releases/data_release_beta4_standard/textbook_images/earth_science_and_its_branches_20017.png\n",
      "../dataset_releases/data_release_beta4_standard/textbook_images/the_skeletal_system_21407.png\n",
      "../dataset_releases/data_release_beta4_standard/textbook_images/groundwater_20101.png\n",
      "../dataset_releases/data_release_beta4_standard/textbook_images/radio_waves_23045.png\n",
      "../dataset_releases/data_release_beta4_standard/textbook_images/energy_resources_22350.png\n",
      "../dataset_releases/data_release_beta4_standard/textbook_images/mendels_discoveries_21620.png\n",
      "../dataset_releases/data_release_beta4_standard/textbook_images/friction_22855.png\n",
      "../dataset_releases/data_release_beta4_standard/textbook_images/classes_of_elements_22580.png\n",
      "../dataset_releases/data_release_beta4_standard/textbook_images/cenozoic_plate_tectonics_20648.png\n",
      "../dataset_releases/data_release_beta4_standard/textbook_images/the_nature_of_science_20005.png\n",
      "../dataset_releases/data_release_beta4_standard/textbook_images/diseases_of_the_nervous_system_21807.png\n",
      "../dataset_releases/data_release_beta4_standard/textbook_images/the_human_population_20223.png\n",
      "../dataset_releases/data_release_beta4_standard/textbook_images/ecosystems_21533.png\n",
      "../dataset_releases/data_release_beta4_standard/textbook_images/microwaves_22951.png\n",
      "../dataset_releases/data_release_beta4_standard/textbook_images/landforms_from_groundwater_erosion_and_deposition_20898.png\n",
      "../dataset_releases/data_release_beta4_standard/textbook_images/measuring_waves_22383.png\n",
      "../dataset_releases/data_release_beta4_standard/textbook_images/types_of_rocks_20472.png\n",
      "../dataset_releases/data_release_beta4_standard/textbook_images/insects_and_other_arthropods_21326.png\n",
      "../dataset_releases/data_release_beta4_standard/textbook_images/human_vision_21900.png\n",
      "../dataset_releases/data_release_beta4_standard/textbook_images/covalent_bonds_22600.png\n",
      "../dataset_releases/data_release_beta4_standard/textbook_images/blood_vessels_21742.png\n",
      "../dataset_releases/data_release_beta4_standard/textbook_images/reproduction_21607.png\n",
      "../dataset_releases/data_release_beta4_standard/textbook_images/biodiversity_and_extinction_21569.png\n",
      "../dataset_releases/data_release_beta4_standard/textbook_images/the_electromagnetic_spectrum_22427.png\n",
      "../dataset_releases/data_release_beta4_standard/textbook_images/evidence_for_evolution_21646.png\n",
      "../dataset_releases/data_release_beta4_standard/textbook_images/alpha_decay_22662.png\n",
      "../dataset_releases/data_release_beta4_standard/textbook_images/electrons_22817.png\n",
      "../dataset_releases/data_release_beta4_standard/textbook_images/erosion_and_deposition_by_waves_20035.png\n",
      "../dataset_releases/data_release_beta4_standard/textbook_images/physical_science_careers_23018.png\n",
      "../dataset_releases/data_release_beta4_standard/textbook_images/bony_fish_21743.png\n",
      "../dataset_releases/data_release_beta4_standard/textbook_images/introduction_to_chemical_reactions_22606.png\n",
      "../dataset_releases/data_release_beta4_standard/textbook_images/what_is_force_22256.png\n",
      "../dataset_releases/data_release_beta4_standard/textbook_images/characteristics_of_living_organisms_21453.png\n",
      "../dataset_releases/data_release_beta4_standard/textbook_images/protist_characteristics_22091.png\n",
      "../dataset_releases/data_release_beta4_standard/textbook_images/the_origin_of_earth_20073.png\n",
      "../dataset_releases/data_release_beta4_standard/textbook_images/minerals_20447.png\n",
      "../dataset_releases/data_release_beta4_standard/textbook_images/external_combustion_engines_22837.png\n",
      "../dataset_releases/data_release_beta4_standard/textbook_images/stress_in_earths_crust_20530.png\n",
      "../dataset_releases/data_release_beta4_standard/textbook_images/protecting_water_from_pollution_21059.png\n",
      "../dataset_releases/data_release_beta4_standard/textbook_images/the_atmosphere_20135.png\n",
      "../dataset_releases/data_release_beta4_standard/textbook_images/boyles_law_22686.png\n",
      "../dataset_releases/data_release_beta4_standard/textbook_images/identification_of_minerals_20455.png\n",
      "../dataset_releases/data_release_beta4_standard/textbook_images/metallic_bonding_22945.png\n",
      "../dataset_releases/data_release_beta4_standard/textbook_images/stress_in_earths_crust_20537.png\n",
      "../dataset_releases/data_release_beta4_standard/textbook_images/asteroids_20617.png\n",
      "../dataset_releases/data_release_beta4_standard/textbook_images/light_reactions_of_photosynthesis_21953.png\n",
      "../dataset_releases/data_release_beta4_standard/textbook_images/hurricanes_20852.png\n",
      "../dataset_releases/data_release_beta4_standard/textbook_images/energy_22825.png\n",
      "../dataset_releases/data_release_beta4_standard/textbook_images/electric_charge_22462.png\n",
      "../dataset_releases/data_release_beta4_standard/textbook_images/measuring_earthquake_magnitude_20926.png\n",
      "../dataset_releases/data_release_beta4_standard/textbook_images/chemistry_of_living_things_21462.png\n",
      "../dataset_releases/data_release_beta4_standard/textbook_images/the_senses_21481.png\n",
      "../dataset_releases/data_release_beta4_standard/textbook_images/star_power_21133.png\n",
      "../dataset_releases/data_release_beta4_standard/textbook_images/smooth_skeletal_and_cardiac_muscles_22147.png\n",
      "../dataset_releases/data_release_beta4_standard/textbook_images/planet_earth_20373.png\n",
      "../dataset_releases/data_release_beta4_standard/textbook_images/distance_and_direction_22242.png\n",
      "../dataset_releases/data_release_beta4_standard/textbook_images/plant_responses_and_special_adaptations_21287.png\n",
      "../dataset_releases/data_release_beta4_standard/textbook_images/introduction_to_ecology_21935.png\n",
      "../dataset_releases/data_release_beta4_standard/textbook_images/air_pressure_and_altitude_22656.png\n",
      "../dataset_releases/data_release_beta4_standard/textbook_images/properties_of_solutions_23040.png\n",
      "../dataset_releases/data_release_beta4_standard/textbook_images/geological_stresses_20802.png\n",
      "../dataset_releases/data_release_beta4_standard/textbook_images/theory_of_plate_tectonics_20522.png\n",
      "../dataset_releases/data_release_beta4_standard/textbook_images/the_biosphere_22165.png\n",
      "../dataset_releases/data_release_beta4_standard/textbook_images/stress_in_earths_crust_20531.png\n",
      "../dataset_releases/data_release_beta4_standard/textbook_images/use_and_conservation_of_resources_20289.png\n",
      "../dataset_releases/data_release_beta4_standard/textbook_images/mirrors_22954.png\n",
      "../dataset_releases/data_release_beta4_standard/textbook_images/gravity_22272.png\n",
      "../dataset_releases/data_release_beta4_standard/textbook_images/soil_erosion_21119.png\n",
      "../dataset_releases/data_release_beta4_standard/textbook_images/volcanic_eruptions_20572.png\n",
      "../dataset_releases/data_release_beta4_standard/textbook_images/igneous_landforms_and_geothermal_activ_20587.png\n",
      "../dataset_releases/data_release_beta4_standard/textbook_images/obtaining_energy_resources_20997.png\n",
      "../dataset_releases/data_release_beta4_standard/textbook_images/electric_circuits_22784.png\n",
      "../dataset_releases/data_release_beta4_standard/textbook_images/types_of_volcanoes_20580.png\n",
      "../dataset_releases/data_release_beta4_standard/textbook_images/predation_22073.png\n",
      "../dataset_releases/data_release_beta4_standard/textbook_images/measuring_and_predicting_earthquakes_20559.png\n",
      "../dataset_releases/data_release_beta4_standard/textbook_images/population_size_21033.png\n",
      "../dataset_releases/data_release_beta4_standard/textbook_images/solubility_23085.png\n",
      "../dataset_releases/data_release_beta4_standard/textbook_images/gravity_22271.png\n",
      "../dataset_releases/data_release_beta4_standard/textbook_images/groundwater_depletion_20820.png\n",
      "../dataset_releases/data_release_beta4_standard/textbook_images/gravity_22270.png\n",
      "../dataset_releases/data_release_beta4_standard/textbook_images/combustion_reactions_22734.png\n",
      "../dataset_releases/data_release_beta4_standard/textbook_images/tracing_evolution_22173.png\n",
      "../dataset_releases/data_release_beta4_standard/textbook_images/changes_of_state_22550.png\n",
      "../dataset_releases/data_release_beta4_standard/textbook_images/faults_20768.png\n",
      "../dataset_releases/data_release_beta4_standard/textbook_images/learned_behavior_of_animals_21947.png\n",
      "../dataset_releases/data_release_beta4_standard/textbook_images/thunderstorms_21161.png\n",
      "../dataset_releases/data_release_beta4_standard/textbook_images/outer_planets_20415.png\n",
      "../dataset_releases/data_release_beta4_standard/textbook_images/avoiding_soil_loss_20624.png\n",
      "../dataset_releases/data_release_beta4_standard/textbook_images/ocean_movements_20112.png\n",
      "../dataset_releases/data_release_beta4_standard/textbook_images/cell_structures_21581.png\n",
      "../dataset_releases/data_release_beta4_standard/textbook_images/first_two_lines_of_defense_21493.png\n",
      "../dataset_releases/data_release_beta4_standard/textbook_images/introduction_to_prokaryotes_21665.png\n",
      "../dataset_releases/data_release_beta4_standard/textbook_images/symbiotic_relationships_of_fungi_22162.png\n",
      "../dataset_releases/data_release_beta4_standard/textbook_images/wave_interactions_and_interference_22391.png\n",
      "../dataset_releases/data_release_beta4_standard/textbook_images/weather_fronts_21234.png\n",
      "../dataset_releases/data_release_beta4_standard/textbook_images/roundworms_22120.png\n",
      "../dataset_releases/data_release_beta4_standard/textbook_images/carbon_monomers_and_polymers_22702.png\n",
      "../dataset_releases/data_release_beta4_standard/textbook_images/insects_and_other_arthropods_21328.png\n",
      "../dataset_releases/data_release_beta4_standard/textbook_images/weather_forecasting_20178.png\n",
      "../dataset_releases/data_release_beta4_standard/textbook_images/mining_and_using_minerals_20465.png\n",
      "../dataset_releases/data_release_beta4_standard/textbook_images/gravity_22269.png\n",
      "../dataset_releases/data_release_beta4_standard/textbook_images/planet_earth_20375.png\n",
      "../dataset_releases/data_release_beta4_standard/textbook_images/ph_concept_23009.png\n",
      "../dataset_releases/data_release_beta4_standard/textbook_images/the_human_population_20225.png\n",
      "../dataset_releases/data_release_beta4_standard/textbook_images/metamorphic_rocks_20939.png\n",
      "../dataset_releases/data_release_beta4_standard/textbook_images/atomic_forces_22672.png\n",
      "../dataset_releases/data_release_beta4_standard/textbook_images/igneous_landforms_and_geothermal_activ_20584.png\n",
      "../dataset_releases/data_release_beta4_standard/textbook_images/reducing_air_pollution_21065.png\n",
      "../dataset_releases/data_release_beta4_standard/textbook_images/echinoderms_and_invertebrate_chordates_21334.png\n",
      "../dataset_releases/data_release_beta4_standard/textbook_images/work_22310.png\n",
      "../dataset_releases/data_release_beta4_standard/textbook_images/crystalline_carbon_22754.png\n",
      "../dataset_releases/data_release_beta4_standard/textbook_images/types_of_animal_behavior_21389.png\n",
      "../dataset_releases/data_release_beta4_standard/textbook_images/respiratory_system_organs_22116.png\n",
      "../dataset_releases/data_release_beta4_standard/textbook_images/earth_as_a_magnet_22498.png\n",
      "../dataset_releases/data_release_beta4_standard/textbook_images/carbon_and_living_things_22644.png\n",
      "../dataset_releases/data_release_beta4_standard/textbook_images/mechanical_weathering_20927.png\n",
      "../dataset_releases/data_release_beta4_standard/textbook_images/importance_of_biodiversity_21906.png\n",
      "../dataset_releases/data_release_beta4_standard/textbook_images/plant_responses_and_special_adaptations_21290.png\n",
      "../dataset_releases/data_release_beta4_standard/textbook_images/heat_22879.png\n",
      "../dataset_releases/data_release_beta4_standard/textbook_images/newtons_first_law_22280.png\n",
      "../dataset_releases/data_release_beta4_standard/textbook_images/energy_level_22828.png\n",
      "../dataset_releases/data_release_beta4_standard/textbook_images/archaea_21677.png\n",
      "../dataset_releases/data_release_beta4_standard/textbook_images/weather_versus_climate_21241.png\n",
      "../dataset_releases/data_release_beta4_standard/textbook_images/infectious_diseases_21486.png\n",
      "../dataset_releases/data_release_beta4_standard/textbook_images/noble_gases_22981.png\n",
      "../dataset_releases/data_release_beta4_standard/textbook_images/types_of_chemical_reactions_22615.png\n",
      "../dataset_releases/data_release_beta4_standard/textbook_images/sponges_and_cnidarians_21310.png\n",
      "../dataset_releases/data_release_beta4_standard/textbook_images/groups_of_elements_22584.png\n",
      "../dataset_releases/data_release_beta4_standard/textbook_images/air_pollution_21556.png\n",
      "../dataset_releases/data_release_beta4_standard/textbook_images/solenoid_23080.png\n",
      "../dataset_releases/data_release_beta4_standard/textbook_images/mercury_20930.png\n",
      "../dataset_releases/data_release_beta4_standard/textbook_images/bacteria_nutrition_21725.png\n",
      "../dataset_releases/data_release_beta4_standard/textbook_images/temperature_and_heat_22356.png\n",
      "../dataset_releases/data_release_beta4_standard/textbook_images/plant_hormones_22060.png\n",
      "../dataset_releases/data_release_beta4_standard/textbook_images/the_muscular_system_21412.png\n",
      "../dataset_releases/data_release_beta4_standard/textbook_images/history_of_the_atom_22564.png\n",
      "../dataset_releases/data_release_beta4_standard/textbook_images/darwins_theory_of_evolution_21639.png\n",
      "../dataset_releases/data_release_beta4_standard/textbook_images/flow_of_energy_21544.png\n",
      "../dataset_releases/data_release_beta4_standard/textbook_images/properties_of_electromagnetic_waves_22425.png\n",
      "../dataset_releases/data_release_beta4_standard/textbook_images/insects_and_other_arthropods_21331.png\n",
      "../dataset_releases/data_release_beta4_standard/textbook_images/newtons_second_law_22286.png\n",
      "../dataset_releases/data_release_beta4_standard/textbook_images/using_thermal_energy_22369.png\n",
      "../dataset_releases/data_release_beta4_standard/textbook_images/mechanical_weathering_20928.png\n",
      "../dataset_releases/data_release_beta4_standard/textbook_images/skeletal_system_joints_22140.png\n",
      "../dataset_releases/data_release_beta4_standard/textbook_images/biodiversity_and_extinction_21570.png\n",
      "../dataset_releases/data_release_beta4_standard/textbook_images/characteristics_of_waves_22375.png\n",
      "../dataset_releases/data_release_beta4_standard/textbook_images/photosynthesis_reactions_23011.png\n",
      "../dataset_releases/data_release_beta4_standard/textbook_images/acid_rain_20602.png\n",
      "../dataset_releases/data_release_beta4_standard/textbook_images/types_of_soils_21191.png\n",
      "../dataset_releases/data_release_beta4_standard/textbook_images/volcanoes_at_hotspots_21219.png\n",
      "../dataset_releases/data_release_beta4_standard/textbook_images/sponges_and_cnidarians_21305.png\n",
      "../dataset_releases/data_release_beta4_standard/textbook_images/electromagnetic_devices_22798.png\n",
      "../dataset_releases/data_release_beta4_standard/textbook_images/mineral_groups_20960.png\n",
      "../dataset_releases/data_release_beta4_standard/textbook_images/mitosis_and_cytokinesis_21989.png\n",
      "../dataset_releases/data_release_beta4_standard/textbook_images/helpful_bacteria_21881.png\n",
      "../dataset_releases/data_release_beta4_standard/textbook_images/transfer_of_thermal_energy_22360.png\n",
      "../dataset_releases/data_release_beta4_standard/textbook_images/mirrors_22955.png\n",
      "../dataset_releases/data_release_beta4_standard/textbook_images/health_of_the_digestive_system_21874.png\n",
      "../dataset_releases/data_release_beta4_standard/textbook_images/physical_change_23013.png\n",
      "../dataset_releases/data_release_beta4_standard/textbook_images/amphibians_21346.png\n",
      "../dataset_releases/data_release_beta4_standard/textbook_images/soils_20601.png\n",
      "../dataset_releases/data_release_beta4_standard/textbook_images/seismic_waves_21106.png\n",
      "../dataset_releases/data_release_beta4_standard/textbook_images/electric_charge_22467.png\n",
      "../dataset_releases/data_release_beta4_standard/textbook_images/nature_of_science_22967.png\n",
      "../dataset_releases/data_release_beta4_standard/textbook_images/simple_machines_23077.png\n",
      "../dataset_releases/data_release_beta4_standard/textbook_images/photosynthesis_21589.png\n",
      "../dataset_releases/data_release_beta4_standard/textbook_images/fossils_21845.png\n",
      "../dataset_releases/data_release_beta4_standard/textbook_images/carbon_bonding_22699.png\n",
      "../dataset_releases/data_release_beta4_standard/textbook_images/isomers_22909.png\n",
      "../dataset_releases/data_release_beta4_standard/textbook_images/sexually_transmitted_infections_22138.png\n",
      "../dataset_releases/data_release_beta4_standard/textbook_images/how_fossilization_creates_fossils_20841.png\n",
      "../dataset_releases/data_release_beta4_standard/textbook_images/history_of_cenozoic_life_20829.png\n",
      "../dataset_releases/data_release_beta4_standard/textbook_images/simple_machines_22319.png\n",
      "../dataset_releases/data_release_beta4_standard/textbook_images/pressure_in_fluids_23028.png\n",
      "../dataset_releases/data_release_beta4_standard/textbook_images/roles_in_an_ecosystem_21078.png\n",
      "../dataset_releases/data_release_beta4_standard/textbook_images/how_fossilization_creates_fossils_20840.png\n",
      "../dataset_releases/data_release_beta4_standard/textbook_images/theory_of_plate_tectonics_20516.png\n",
      "../dataset_releases/data_release_beta4_standard/textbook_images/power_23026.png\n",
      "../dataset_releases/data_release_beta4_standard/textbook_images/neutrons_22969.png\n",
      "../dataset_releases/data_release_beta4_standard/textbook_images/magnets_22938.png\n",
      "../dataset_releases/data_release_beta4_standard/textbook_images/introduction_to_chemical_reactions_22608.png\n",
      "../dataset_releases/data_release_beta4_standard/textbook_images/types_of_chemical_reactions_22616.png\n",
      "../dataset_releases/data_release_beta4_standard/textbook_images/introduction_to_prokaryotes_21667.png\n",
      "../dataset_releases/data_release_beta4_standard/textbook_images/jawless_fish_21937.png\n",
      "../dataset_releases/data_release_beta4_standard/textbook_images/types_of_volcanoes_21194.png\n",
      "../dataset_releases/data_release_beta4_standard/textbook_images/newtons_third_law_22977.png\n",
      "../dataset_releases/data_release_beta4_standard/textbook_images/populations_21523.png\n",
      "../dataset_releases/data_release_beta4_standard/textbook_images/pressure_in_fluids_23030.png\n",
      "../dataset_releases/data_release_beta4_standard/textbook_images/surface_water_20089.png\n",
      "../dataset_releases/data_release_beta4_standard/textbook_images/maps_20918.png\n",
      "../dataset_releases/data_release_beta4_standard/textbook_images/changes_in_matter_22531.png\n",
      "../dataset_releases/data_release_beta4_standard/textbook_images/humans_and_the_water_supply_20295.png\n",
      "../dataset_releases/data_release_beta4_standard/textbook_images/flatworms_21840.png\n",
      "../dataset_releases/data_release_beta4_standard/textbook_images/planet_earth_20365.png\n",
      "../dataset_releases/data_release_beta4_standard/textbook_images/staying_safe_in_earthquakes_20564.png\n",
      "../dataset_releases/data_release_beta4_standard/textbook_images/energy_in_the_atmosphere_20142.png\n",
      "../dataset_releases/data_release_beta4_standard/textbook_images/minerals_20450.png\n",
      "../dataset_releases/data_release_beta4_standard/textbook_images/introduction_to_the_oceans_20107.png\n",
      "../dataset_releases/data_release_beta4_standard/textbook_images/surface_features_of_the_sun_21147.png\n",
      "../dataset_releases/data_release_beta4_standard/textbook_images/overview_of_the_cardiovascular_system_21433.png\n",
      "../dataset_releases/data_release_beta4_standard/textbook_images/electronic_signal_22815.png\n",
      "../dataset_releases/data_release_beta4_standard/textbook_images/the_universe_20439.png\n",
      "../dataset_releases/data_release_beta4_standard/textbook_images/introduction_to_chemical_bonds_22591.png\n",
      "../dataset_releases/data_release_beta4_standard/textbook_images/meiosis_21979.png\n",
      "../dataset_releases/data_release_beta4_standard/textbook_images/changes_in_matter_22533.png\n",
      "../dataset_releases/data_release_beta4_standard/textbook_images/mechanical_weathering_20929.png\n",
      "../dataset_releases/data_release_beta4_standard/textbook_images/halogens_22872.png\n",
      "../dataset_releases/data_release_beta4_standard/textbook_images/inside_the_atom_22563.png\n",
      "../dataset_releases/data_release_beta4_standard/textbook_images/reducing_air_pollution_20332.png\n",
      "../dataset_releases/data_release_beta4_standard/textbook_images/use_and_conservation_of_resources_20282.png\n",
      "../dataset_releases/data_release_beta4_standard/textbook_images/solids_liquids_gases_and_plasmas_22536.png\n",
      "../dataset_releases/data_release_beta4_standard/textbook_images/electric_charge_22466.png\n",
      "../dataset_releases/data_release_beta4_standard/textbook_images/scientific_investigation_22395.png\n",
      "../dataset_releases/data_release_beta4_standard/textbook_images/insects_and_other_arthropods_21327.png\n",
      "../dataset_releases/data_release_beta4_standard/textbook_images/early_earth_20075.png\n",
      "../dataset_releases/data_release_beta4_standard/textbook_images/absolute_ages_of_rocks_20067.png\n",
      "../dataset_releases/data_release_beta4_standard/textbook_images/inner_vs._outer_planets_20864.png\n",
      "../dataset_releases/data_release_beta4_standard/textbook_images/fungi_21693.png\n",
      "../dataset_releases/data_release_beta4_standard/textbook_images/earths_crust_20716.png\n",
      "../dataset_releases/data_release_beta4_standard/textbook_images/staying_safe_in_earthquakes_20563.png\n",
      "../dataset_releases/data_release_beta4_standard/textbook_images/other_objects_in_the_solar_system_20419.png\n",
      "../dataset_releases/data_release_beta4_standard/textbook_images/eclipses_20731.png\n",
      "../dataset_releases/data_release_beta4_standard/textbook_images/color_22730.png\n",
      "../dataset_releases/data_release_beta4_standard/textbook_images/radioactive_decay_as_a_measure_of_age_21061.png\n",
      "../dataset_releases/data_release_beta4_standard/textbook_images/wave_amplitude_23161.png\n",
      "../dataset_releases/data_release_beta4_standard/textbook_images/causes_of_air_pollution_20645.png\n",
      "../dataset_releases/data_release_beta4_standard/textbook_images/cycles_of_matter_21546.png\n",
      "../dataset_releases/data_release_beta4_standard/textbook_images/law_of_reflection_22916.png\n",
      "../dataset_releases/data_release_beta4_standard/textbook_images/geothermal_power_20804.png\n",
      "../dataset_releases/data_release_beta4_standard/textbook_images/reduce_reuse_and_recycle_22096.png\n",
      "../dataset_releases/data_release_beta4_standard/textbook_images/visible_light_and_matter_23152.png\n",
      "../dataset_releases/data_release_beta4_standard/textbook_images/characteristics_of_life_21771.png\n",
      "../dataset_releases/data_release_beta4_standard/textbook_images/technology_22404.png\n",
      "../dataset_releases/data_release_beta4_standard/textbook_images/electric_circuits_22479.png\n",
      "../dataset_releases/data_release_beta4_standard/textbook_images/chemical_change_22716.png\n",
      "../dataset_releases/data_release_beta4_standard/textbook_images/radioactivity_22225.png\n",
      "../dataset_releases/data_release_beta4_standard/textbook_images/introduction_to_the_oceans_20105.png\n",
      "../dataset_releases/data_release_beta4_standard/textbook_images/introduction_to_the_human_body_21395.png\n",
      "../dataset_releases/data_release_beta4_standard/textbook_images/properties_of_matter_22519.png\n",
      "../dataset_releases/data_release_beta4_standard/textbook_images/changing_weather_20164.png\n",
      "../dataset_releases/data_release_beta4_standard/textbook_images/eclipses_20729.png\n",
      "../dataset_releases/data_release_beta4_standard/textbook_images/oceanic_pressure_22994.png\n",
      "../dataset_releases/data_release_beta4_standard/textbook_images/stress_in_earths_crust_20534.png\n",
      "../dataset_releases/data_release_beta4_standard/textbook_images/introduction_to_earths_surface_20245.png\n",
      "../dataset_releases/data_release_beta4_standard/textbook_images/reproduction_21610.png\n",
      "../dataset_releases/data_release_beta4_standard/textbook_images/use_and_conservation_of_energy_20292.png\n",
      "../dataset_releases/data_release_beta4_standard/textbook_images/earth_science_and_its_branches_20012.png\n",
      "../dataset_releases/data_release_beta4_standard/textbook_images/stars_20427.png\n",
      "../dataset_releases/data_release_beta4_standard/textbook_images/volcanic_landforms_21212.png\n",
      "../dataset_releases/data_release_beta4_standard/textbook_images/mercury_pollution_20934.png\n",
      "../dataset_releases/data_release_beta4_standard/textbook_images/earth_as_a_magnet_22494.png\n",
      "../dataset_releases/data_release_beta4_standard/textbook_images/landforms_from_erosion_and_deposition_by_gravity_20881.png\n",
      "../dataset_releases/data_release_beta4_standard/textbook_images/flatworms_and_roundworms_21315.png\n",
      "../dataset_releases/data_release_beta4_standard/textbook_images/unsaturated_hydrocarbons_23140.png\n",
      "../dataset_releases/data_release_beta4_standard/textbook_images/properties_of_carbon_22625.png\n",
      "../dataset_releases/data_release_beta4_standard/textbook_images/communities_21528.png\n",
      "../dataset_releases/data_release_beta4_standard/textbook_images/chromosomal_disorders_21780.png\n",
      "../dataset_releases/data_release_beta4_standard/textbook_images/renewable_resources_and_alternative_energy_sources_22098.png\n",
      "../dataset_releases/data_release_beta4_standard/textbook_images/puberty_and_adolescence_22093.png\n",
      "../dataset_releases/data_release_beta4_standard/textbook_images/lizards_and_snakes_21959.png\n",
      "../dataset_releases/data_release_beta4_standard/textbook_images/properties_of_acids_23035.png\n",
      "../dataset_releases/data_release_beta4_standard/textbook_images/refraction_23055.png\n",
      "../dataset_releases/data_release_beta4_standard/textbook_images/importance_of_seedless_plants_21917.png\n",
      "../dataset_releases/data_release_beta4_standard/textbook_images/vision_problems_and_corrective_lenses_23159.png\n",
      "../dataset_releases/data_release_beta4_standard/textbook_images/what_is_life_science_21252.png\n",
      "../dataset_releases/data_release_beta4_standard/textbook_images/the_microscope_21260.png\n",
      "../dataset_releases/data_release_beta4_standard/textbook_images/streams_and_rivers_21141.png\n",
      "../dataset_releases/data_release_beta4_standard/textbook_images/what_is_ecology_21518.png\n",
      "../dataset_releases/data_release_beta4_standard/textbook_images/mammal_classification_21970.png\n",
      "../dataset_releases/data_release_beta4_standard/textbook_images/stress_in_earths_crust_20527.png\n",
      "../dataset_releases/data_release_beta4_standard/textbook_images/early_space_exploration_20354.png\n",
      "../dataset_releases/data_release_beta4_standard/textbook_images/thomsons_atomic_model_23122.png\n",
      "../dataset_releases/data_release_beta4_standard/textbook_images/importance_of_the_atmosphere_20860.png\n",
      "../dataset_releases/data_release_beta4_standard/textbook_images/modern_biodiversity_20971.png\n",
      "../dataset_releases/data_release_beta4_standard/textbook_images/thermal_conductors_and_insulators_23116.png\n",
      "../dataset_releases/data_release_beta4_standard/textbook_images/weather_and_water_in_the_atmosphere_20159.png\n",
      "../dataset_releases/data_release_beta4_standard/textbook_images/angiosperms_21700.png\n",
      "../dataset_releases/data_release_beta4_standard/textbook_images/topographic_maps_20272.png\n",
      "../dataset_releases/data_release_beta4_standard/textbook_images/loss_of_soil_20236.png\n",
      "../dataset_releases/data_release_beta4_standard/textbook_images/volcanic_activity_20568.png\n",
      "../dataset_releases/data_release_beta4_standard/textbook_images/pressure_of_fluids_22300.png\n",
      "../dataset_releases/data_release_beta4_standard/textbook_images/wave_interactions_and_interference_22386.png\n",
      "../dataset_releases/data_release_beta4_standard/textbook_images/valence_electrons_23145.png\n",
      "../dataset_releases/data_release_beta4_standard/textbook_images/fungus_like_protists_21855.png\n",
      "../dataset_releases/data_release_beta4_standard/textbook_images/magnets_22936.png\n",
      "../dataset_releases/data_release_beta4_standard/textbook_images/loss_of_soil_20232.png\n",
      "../dataset_releases/data_release_beta4_standard/textbook_images/introduction_to_earths_surface_20248.png\n",
      "../dataset_releases/data_release_beta4_standard/textbook_images/transcription_of_dna_to_rna_22174.png\n",
      "../dataset_releases/data_release_beta4_standard/textbook_images/earthquake_damage_20705.png\n",
      "../dataset_releases/data_release_beta4_standard/textbook_images/evidence_for_evolution_21648.png\n",
      "../dataset_releases/data_release_beta4_standard/textbook_images/mars_20925.png\n",
      "../dataset_releases/data_release_beta4_standard/textbook_images/history_of_life_on_earth_21653.png\n",
      "../dataset_releases/data_release_beta4_standard/textbook_images/transport_21585.png\n",
      "../dataset_releases/data_release_beta4_standard/textbook_images/observations_and_experiments_20995.png\n",
      "../dataset_releases/data_release_beta4_standard/textbook_images/outer_planets_20414.png\n",
      "../dataset_releases/data_release_beta4_standard/textbook_images/ocean_ecosystems_21002.png\n",
      "../dataset_releases/data_release_beta4_standard/textbook_images/limiting_factors_to_population_growth_21955.png\n",
      "../dataset_releases/data_release_beta4_standard/textbook_images/erosion_and_deposition_by_flowing_water_20022.png\n",
      "../dataset_releases/data_release_beta4_standard/textbook_images/color_22728.png\n",
      "../dataset_releases/data_release_beta4_standard/textbook_images/the_nervous_system_21471.png\n",
      "../dataset_releases/data_release_beta4_standard/textbook_images/habitat_destruction_21870.png\n",
      "../dataset_releases/data_release_beta4_standard/textbook_images/water_distribution_21226.png\n",
      "../dataset_releases/data_release_beta4_standard/textbook_images/acids_and_bases_22222.png\n",
      "../dataset_releases/data_release_beta4_standard/textbook_images/oil_spills_21007.png\n",
      "../dataset_releases/data_release_beta4_standard/textbook_images/theory_of_plate_tectonics_20512.png\n",
      "../dataset_releases/data_release_beta4_standard/textbook_images/using_thermal_energy_22365.png\n",
      "../dataset_releases/data_release_beta4_standard/textbook_images/groups_of_elements_22587.png\n",
      "../dataset_releases/data_release_beta4_standard/textbook_images/male_reproductive_structures_21965.png\n",
      "../dataset_releases/data_release_beta4_standard/textbook_images/flow_of_energy_21542.png\n",
      "../dataset_releases/data_release_beta4_standard/textbook_images/volcanic_activity_20567.png\n",
      "../dataset_releases/data_release_beta4_standard/textbook_images/understanding_animal_behavior_21380.png\n",
      "../dataset_releases/data_release_beta4_standard/textbook_images/mammal_reproduction_21972.png\n",
      "../dataset_releases/data_release_beta4_standard/textbook_images/echinoderms_and_invertebrate_chordates_21335.png\n",
      "../dataset_releases/data_release_beta4_standard/textbook_images/local_winds_20902.png\n",
      "../dataset_releases/data_release_beta4_standard/textbook_images/position_time_graphs_23020.png\n",
      "../dataset_releases/data_release_beta4_standard/textbook_images/weathering_20592.png\n",
      "../dataset_releases/data_release_beta4_standard/textbook_images/soils_20600.png\n",
      "../dataset_releases/data_release_beta4_standard/textbook_images/evolution_and_classification_of_plants_21274.png\n",
      "../dataset_releases/data_release_beta4_standard/textbook_images/convection_22749.png\n",
      "../dataset_releases/data_release_beta4_standard/textbook_images/kidneys_21944.png\n",
      "../dataset_releases/data_release_beta4_standard/textbook_images/natural_selection_22005.png\n",
      "../dataset_releases/data_release_beta4_standard/textbook_images/water_pollution_21228.png\n",
      "../dataset_releases/data_release_beta4_standard/textbook_images/plant_responses_and_special_adaptations_21288.png\n",
      "../dataset_releases/data_release_beta4_standard/textbook_images/transfer_of_thermal_energy_22359.png\n",
      "../dataset_releases/data_release_beta4_standard/textbook_images/hearing_and_balance_21875.png\n",
      "../dataset_releases/data_release_beta4_standard/textbook_images/erosion_and_deposition_by_gravity_20049.png\n",
      "../dataset_releases/data_release_beta4_standard/textbook_images/mixtures_22958.png\n",
      "../dataset_releases/data_release_beta4_standard/textbook_images/primates_21375.png\n",
      "../dataset_releases/data_release_beta4_standard/textbook_images/plant_responses_and_special_adaptations_21284.png\n",
      "../dataset_releases/data_release_beta4_standard/textbook_images/cycles_of_matter_20221.png\n",
      "../dataset_releases/data_release_beta4_standard/textbook_images/fossils_20055.png\n",
      "../dataset_releases/data_release_beta4_standard/textbook_images/characteristics_of_sound_22410.png\n",
      "../dataset_releases/data_release_beta4_standard/textbook_images/outdoor_air_pollution_22038.png\n",
      "../dataset_releases/data_release_beta4_standard/textbook_images/ozone_depletion_21015.png\n",
      "../dataset_releases/data_release_beta4_standard/textbook_images/erosion_and_deposition_by_flowing_water_20024.png\n",
      "../dataset_releases/data_release_beta4_standard/textbook_images/succession_22156.png\n",
      "../dataset_releases/data_release_beta4_standard/textbook_images/types_of_air_pollution_21178.png\n",
      "../dataset_releases/data_release_beta4_standard/textbook_images/hearing_loss_22877.png\n",
      "../dataset_releases/data_release_beta4_standard/textbook_images/magnetic_evidence_for_seafloor_spreading_20913.png\n",
      "../dataset_releases/data_release_beta4_standard/textbook_images/introduction_to_plants_21271.png\n",
      "../dataset_releases/data_release_beta4_standard/textbook_images/power_23025.png\n",
      "../dataset_releases/data_release_beta4_standard/textbook_images/other_objects_in_the_solar_system_20423.png\n",
      "../dataset_releases/data_release_beta4_standard/textbook_images/protists_21683.png\n",
      "../dataset_releases/data_release_beta4_standard/textbook_images/ocean_ecosystems_20999.png\n",
      "../dataset_releases/data_release_beta4_standard/textbook_images/intensity_and_loudness_of_sound_22900.png\n",
      "../dataset_releases/data_release_beta4_standard/textbook_images/early_earth_20074.png\n",
      "../dataset_releases/data_release_beta4_standard/textbook_images/mountain_building_20977.png\n",
      "../dataset_releases/data_release_beta4_standard/textbook_images/reproduction_and_life_stages_21511.png\n",
      "../dataset_releases/data_release_beta4_standard/textbook_images/groundwater_depletion_20822.png\n",
      "../dataset_releases/data_release_beta4_standard/textbook_images/theory_of_plate_tectonics_20511.png\n",
      "../dataset_releases/data_release_beta4_standard/textbook_images/the_scope_of_physical_science_22208.png\n",
      "../dataset_releases/data_release_beta4_standard/textbook_images/types_of_energy_22331.png\n",
      "../dataset_releases/data_release_beta4_standard/textbook_images/weather_and_water_in_the_atmosphere_20160.png\n",
      "../dataset_releases/data_release_beta4_standard/textbook_images/ocean_ecosystems_21000.png\n",
      "../dataset_releases/data_release_beta4_standard/textbook_images/mineral_identification_20964.png\n",
      "../dataset_releases/data_release_beta4_standard/textbook_images/mammals_21367.png\n",
      "../dataset_releases/data_release_beta4_standard/textbook_images/protein_synthesis_21618.png\n",
      "../dataset_releases/data_release_beta4_standard/textbook_images/molecular_evidence_for_evolution_21995.png\n",
      "../dataset_releases/data_release_beta4_standard/textbook_images/mineral_groups_20961.png\n",
      "../dataset_releases/data_release_beta4_standard/textbook_images/menstrual_cycle_21984.png\n",
      "../dataset_releases/data_release_beta4_standard/textbook_images/heart_and_blood_vessels_21437.png\n",
      "../dataset_releases/data_release_beta4_standard/textbook_images/boyles_law_22688.png\n",
      "../dataset_releases/data_release_beta4_standard/textbook_images/the_scale_of_evolution_21651.png\n",
      "../dataset_releases/data_release_beta4_standard/textbook_images/discovery_of_electromagnetism_22771.png\n",
      "../dataset_releases/data_release_beta4_standard/textbook_images/history_of_life_on_earth_21657.png\n",
      "../dataset_releases/data_release_beta4_standard/textbook_images/erosion_and_deposition_by_gravity_20050.png\n",
      "../dataset_releases/data_release_beta4_standard/textbook_images/relative_ages_of_rocks_20058.png\n",
      "../dataset_releases/data_release_beta4_standard/textbook_images/testing_hypotheses_21155.png\n",
      "../dataset_releases/data_release_beta4_standard/textbook_images/types_of_volcanoes_21193.png\n",
      "../dataset_releases/data_release_beta4_standard/textbook_images/prokaryotic_and_eukaryotic_cells_22087.png\n",
      "../dataset_releases/data_release_beta4_standard/textbook_images/cell_transport_21762.png\n",
      "../dataset_releases/data_release_beta4_standard/textbook_images/radioactive_decay_22229.png\n",
      "../dataset_releases/data_release_beta4_standard/textbook_images/jupiter_20880.png\n",
      "../dataset_releases/data_release_beta4_standard/textbook_images/theory_of_plate_tectonics_20519.png\n",
      "../dataset_releases/data_release_beta4_standard/textbook_images/seeds_and_seed_dispersal_22133.png\n",
      "../dataset_releases/data_release_beta4_standard/textbook_images/nerve_cells_and_nerve_impulses_22007.png\n",
      "../dataset_releases/data_release_beta4_standard/textbook_images/energy_resources_22348.png\n",
      "../dataset_releases/data_release_beta4_standard/textbook_images/b_and_t_cell_response_21720.png\n",
      "../dataset_releases/data_release_beta4_standard/textbook_images/fish_21835.png\n",
      "../dataset_releases/data_release_beta4_standard/textbook_images/arthropods_21711.png\n",
      "../dataset_releases/data_release_beta4_standard/textbook_images/electrical_grid_22795.png\n",
      "../dataset_releases/data_release_beta4_standard/textbook_images/protein_synthesis_21617.png\n",
      "../dataset_releases/data_release_beta4_standard/textbook_images/inclined_plane_22894.png\n",
      "../dataset_releases/data_release_beta4_standard/textbook_images/dangers_and_uses_of_radiation_22760.png\n",
      "../dataset_releases/data_release_beta4_standard/textbook_images/the_sun_and_the_earthmoon_system_20385.png\n",
      "../dataset_releases/data_release_beta4_standard/textbook_images/control_of_insects_21794.png\n",
      "../dataset_releases/data_release_beta4_standard/textbook_images/what_are_animals_21292.png\n",
      "../dataset_releases/data_release_beta4_standard/textbook_images/preventing_hazardous_waste_problems_21048.png\n",
      "../dataset_releases/data_release_beta4_standard/textbook_images/the_digestive_system_21430.png\n",
      "../dataset_releases/data_release_beta4_standard/textbook_images/cartilaginous_fish_21753.png\n",
      "../dataset_releases/data_release_beta4_standard/textbook_images/deep_ocean_currents_20687.png\n",
      "../dataset_releases/data_release_beta4_standard/textbook_images/characteristics_of_life_21770.png\n",
      "../dataset_releases/data_release_beta4_standard/textbook_images/impact_of_continued_global_warming_20856.png\n",
      "../dataset_releases/data_release_beta4_standard/textbook_images/recent_space_exploration_20359.png\n",
      "../dataset_releases/data_release_beta4_standard/textbook_images/non_infectious_reproductive_system_disorders_22009.png\n",
      "../dataset_releases/data_release_beta4_standard/textbook_images/layers_of_the_atmosphere_20148.png\n",
      "../dataset_releases/data_release_beta4_standard/textbook_images/humans_and_the_water_supply_20301.png\n",
      "../dataset_releases/data_release_beta4_standard/textbook_images/stars_20426.png\n",
      "../dataset_releases/data_release_beta4_standard/textbook_images/roles_in_an_ecosystem_21077.png\n",
      "../dataset_releases/data_release_beta4_standard/textbook_images/muscles_and_exercise_21998.png\n",
      "../dataset_releases/data_release_beta4_standard/textbook_images/renewable_resources_and_alternative_energy_sources_22100.png\n",
      "../dataset_releases/data_release_beta4_standard/textbook_images/bacteria_21671.png\n",
      "../dataset_releases/data_release_beta4_standard/textbook_images/dna_structure_and_replication_21811.png\n",
      "../dataset_releases/data_release_beta4_standard/textbook_images/organelles_22018.png\n",
      "../dataset_releases/data_release_beta4_standard/textbook_images/protein_synthesis_21619.png\n",
      "../dataset_releases/data_release_beta4_standard/textbook_images/global_wind_belts_20813.png\n",
      "../dataset_releases/data_release_beta4_standard/textbook_images/introduction_to_genetics_21625.png\n",
      "../dataset_releases/data_release_beta4_standard/textbook_images/seasons_21098.png\n",
      "../dataset_releases/data_release_beta4_standard/textbook_images/temperature_of_the_atmosphere_21153.png\n",
      "../dataset_releases/data_release_beta4_standard/textbook_images/meiosis_21978.png\n",
      "../dataset_releases/data_release_beta4_standard/textbook_images/longitudinal_wave_22933.png\n",
      "../dataset_releases/data_release_beta4_standard/textbook_images/magnets_22937.png\n",
      "../dataset_releases/data_release_beta4_standard/textbook_images/metallic_bonds_22603.png\n",
      "../dataset_releases/data_release_beta4_standard/textbook_images/scientific_explanations_and_interpretations_21091.png\n",
      "../dataset_releases/data_release_beta4_standard/textbook_images/respiratory_system_diseases_22109.png\n",
      "../dataset_releases/data_release_beta4_standard/textbook_images/newtons_third_law_22287.png\n",
      "../dataset_releases/data_release_beta4_standard/textbook_images/primates_21373.png\n",
      "../dataset_releases/data_release_beta4_standard/textbook_images/mixtures_22957.png\n",
      "../dataset_releases/data_release_beta4_standard/textbook_images/recognizing_chemical_reactions_23052.png\n",
      "../dataset_releases/data_release_beta4_standard/textbook_images/doppler_effect_22773.png\n",
      "../dataset_releases/data_release_beta4_standard/textbook_images/cell_membrane_21760.png\n",
      "../dataset_releases/data_release_beta4_standard/textbook_images/plant_like_protists_22062.png\n",
      "../dataset_releases/data_release_beta4_standard/textbook_images/optical_instruments_23001.png\n",
      "../dataset_releases/data_release_beta4_standard/textbook_images/b_and_t_cell_response_21719.png\n",
      "../dataset_releases/data_release_beta4_standard/textbook_images/thunderstorms_21157.png\n",
      "../dataset_releases/data_release_beta4_standard/textbook_images/blood_21441.png\n",
      "../dataset_releases/data_release_beta4_standard/textbook_images/types_of_nutrients_22190.png\n",
      "../dataset_releases/data_release_beta4_standard/textbook_images/solar_power_21129.png\n",
      "../dataset_releases/data_release_beta4_standard/textbook_images/venus_21206.png\n",
      "../dataset_releases/data_release_beta4_standard/textbook_images/acids_and_bases_22217.png\n",
      "../dataset_releases/data_release_beta4_standard/textbook_images/climate_and_its_causes_20189.png\n",
      "../dataset_releases/data_release_beta4_standard/textbook_images/types_of_fossilization_21179.png\n",
      "../dataset_releases/data_release_beta4_standard/textbook_images/soils_20597.png\n",
      "../dataset_releases/data_release_beta4_standard/textbook_images/forms_of_energy_22346.png\n",
      "../dataset_releases/data_release_beta4_standard/textbook_images/wave_particle_theory_23171.png\n",
      "../dataset_releases/data_release_beta4_standard/textbook_images/generating_and_using_electricity_22509.png\n",
      "../dataset_releases/data_release_beta4_standard/textbook_images/insects_and_other_arthropods_21330.png\n",
      "../dataset_releases/data_release_beta4_standard/textbook_images/pedigree_analysis_22047.png\n",
      "../dataset_releases/data_release_beta4_standard/textbook_images/electric_current_22472.png\n",
      "../dataset_releases/data_release_beta4_standard/textbook_images/hydrogen_and_alkali_metals_22888.png\n",
      "../dataset_releases/data_release_beta4_standard/textbook_images/world_climates_20196.png\n",
      "../dataset_releases/data_release_beta4_standard/textbook_images/using_satellites_and_computers_20278.png\n",
      "../dataset_releases/data_release_beta4_standard/textbook_images/frogs_and_toads_21847.png\n",
      "../dataset_releases/data_release_beta4_standard/textbook_images/energy_level_22826.png\n",
      "../dataset_releases/data_release_beta4_standard/textbook_images/simple_machines_22324.png\n",
      "../dataset_releases/data_release_beta4_standard/textbook_images/century_tsunami_20318.png\n",
      "../dataset_releases/data_release_beta4_standard/textbook_images/the_scale_of_evolution_21649.png\n",
      "../dataset_releases/data_release_beta4_standard/textbook_images/types_of_matter_22522.png\n",
      "../dataset_releases/data_release_beta4_standard/textbook_images/stress_in_earths_crust_20529.png\n",
      "../dataset_releases/data_release_beta4_standard/textbook_images/what_are_biomes_22203.png\n",
      "../dataset_releases/data_release_beta4_standard/textbook_images/seismic_waves_21105.png\n",
      "../dataset_releases/data_release_beta4_standard/textbook_images/divergent_plate_boundaries_20693.png\n",
      "../dataset_releases/data_release_beta4_standard/textbook_images/evidence_for_evolution_21642.png\n",
      "../dataset_releases/data_release_beta4_standard/textbook_images/habitat_and_niche_21865.png\n",
      "../dataset_releases/data_release_beta4_standard/textbook_images/solids_liquids_gases_and_plasmas_22542.png\n",
      "../dataset_releases/data_release_beta4_standard/textbook_images/archimedes_law_22664.png\n",
      "../dataset_releases/data_release_beta4_standard/textbook_images/changes_of_state_22557.png\n",
      "../dataset_releases/data_release_beta4_standard/textbook_images/erosion_and_deposition_by_waves_20030.png\n",
      "../dataset_releases/data_release_beta4_standard/textbook_images/erosion_and_deposition_by_flowing_water_20023.png\n",
      "../dataset_releases/data_release_beta4_standard/textbook_images/soils_20598.png\n",
      "../dataset_releases/data_release_beta4_standard/textbook_images/electric_circuits_22477.png\n",
      "../dataset_releases/data_release_beta4_standard/textbook_images/compound_machines_22328.png\n",
      "../dataset_releases/data_release_beta4_standard/textbook_images/century_tsunami_20317.png\n",
      "../dataset_releases/data_release_beta4_standard/textbook_images/growth_of_human_populations_20826.png\n",
      "../dataset_releases/data_release_beta4_standard/textbook_images/the_nature_of_science_20003.png\n",
      "../dataset_releases/data_release_beta4_standard/textbook_images/supervolcanoes_21144.png\n",
      "../dataset_releases/data_release_beta4_standard/textbook_images/outdoor_air_pollution_22037.png\n",
      "../dataset_releases/data_release_beta4_standard/textbook_images/wedge_23176.png\n",
      "../dataset_releases/data_release_beta4_standard/textbook_images/thermal_radiation_23118.png\n",
      "../dataset_releases/data_release_beta4_standard/textbook_images/wegener_and_the_continental_drift_hypothesis_21243.png\n",
      "../dataset_releases/data_release_beta4_standard/textbook_images/organization_of_living_things_22026.png\n",
      "../dataset_releases/data_release_beta4_standard/textbook_images/nuclear_energy_22233.png\n",
      "../dataset_releases/data_release_beta4_standard/textbook_images/organization_of_the_human_body_22030.png\n",
      "../dataset_releases/data_release_beta4_standard/textbook_images/potential_energy_23023.png\n",
      "../dataset_releases/data_release_beta4_standard/textbook_images/early_space_exploration_20352.png\n",
      "../dataset_releases/data_release_beta4_standard/textbook_images/types_of_energy_22333.png\n",
      "../dataset_releases/data_release_beta4_standard/textbook_images/valence_electrons_23147.png\n",
      "../dataset_releases/data_release_beta4_standard/textbook_images/importance_of_biodiversity_21908.png\n",
      "../dataset_releases/data_release_beta4_standard/textbook_images/thermal_radiation_23119.png\n",
      "../dataset_releases/data_release_beta4_standard/textbook_images/buoyancy_22690.png\n",
      "../dataset_releases/data_release_beta4_standard/textbook_images/groundwater_aquifers_20819.png\n",
      "../dataset_releases/data_release_beta4_standard/textbook_images/birds_21735.png\n",
      "../dataset_releases/data_release_beta4_standard/textbook_images/soil_erosion_21117.png\n",
      "../dataset_releases/data_release_beta4_standard/textbook_images/acids_and_bases_22218.png\n",
      "../dataset_releases/data_release_beta4_standard/textbook_images/hydrogen_bonding_22892.png\n",
      "../dataset_releases/data_release_beta4_standard/textbook_images/moon_20973.png\n",
      "../dataset_releases/data_release_beta4_standard/textbook_images/introduction_to_prokaryotes_21669.png\n",
      "../dataset_releases/data_release_beta4_standard/textbook_images/ozone_depletion_21016.png\n",
      "../dataset_releases/data_release_beta4_standard/textbook_images/skin_22144.png\n",
      "../dataset_releases/data_release_beta4_standard/textbook_images/weather_and_water_in_the_atmosphere_20157.png\n",
      "../dataset_releases/data_release_beta4_standard/textbook_images/biological_communities_20632.png\n",
      "../dataset_releases/data_release_beta4_standard/textbook_images/transport_21584.png\n",
      "../dataset_releases/data_release_beta4_standard/textbook_images/metallic_bonds_22604.png\n",
      "../dataset_releases/data_release_beta4_standard/textbook_images/nuclear_energy_22238.png\n",
      "../dataset_releases/data_release_beta4_standard/textbook_images/humans_and_primates_21902.png\n",
      "../dataset_releases/data_release_beta4_standard/textbook_images/introduction_to_earths_surface_20251.png\n",
      "../dataset_releases/data_release_beta4_standard/textbook_images/fossil_fuel_formation_20788.png\n",
      "../dataset_releases/data_release_beta4_standard/textbook_images/determining_relative_ages_20689.png\n",
      "../dataset_releases/data_release_beta4_standard/textbook_images/properties_of_carbon_22628.png\n",
      "../dataset_releases/data_release_beta4_standard/textbook_images/components_of_blood_21789.png\n",
      "../dataset_releases/data_release_beta4_standard/textbook_images/pollution_of_the_land_20240.png\n",
      "../dataset_releases/data_release_beta4_standard/textbook_images/paleozoic_plate_tectonics_21019.png\n",
      "../dataset_releases/data_release_beta4_standard/textbook_images/inside_the_atom_22559.png\n",
      "../dataset_releases/data_release_beta4_standard/textbook_images/carbon_and_living_things_22641.png\n",
      "../dataset_releases/data_release_beta4_standard/textbook_images/discovery_of_electromagnetism_22770.png\n",
      "../dataset_releases/data_release_beta4_standard/textbook_images/relative_ages_of_rocks_20063.png\n",
      "../dataset_releases/data_release_beta4_standard/textbook_images/amphibians_21348.png\n",
      "../dataset_releases/data_release_beta4_standard/textbook_images/arachnids_21709.png\n",
      "../dataset_releases/data_release_beta4_standard/textbook_images/hydrocarbons_22635.png\n",
      "../dataset_releases/data_release_beta4_standard/textbook_images/use_and_conservation_of_resources_20281.png\n",
      "../dataset_releases/data_release_beta4_standard/textbook_images/friction_22263.png\n",
      "../dataset_releases/data_release_beta4_standard/textbook_images/gravity_22268.png\n",
      "../dataset_releases/data_release_beta4_standard/textbook_images/hearing_loss_22876.png\n",
      "../dataset_releases/data_release_beta4_standard/textbook_images/machines_22317.png\n",
      "../dataset_releases/data_release_beta4_standard/textbook_images/gymnosperms_21861.png\n",
      "../dataset_releases/data_release_beta4_standard/textbook_images/volcanic_landforms_21214.png\n",
      "../dataset_releases/data_release_beta4_standard/textbook_images/characteristics_of_sound_22412.png\n",
      "../dataset_releases/data_release_beta4_standard/textbook_images/invertebrates_21936.png\n",
      "../dataset_releases/data_release_beta4_standard/textbook_images/ultrasound_23138.png\n",
      "../dataset_releases/data_release_beta4_standard/textbook_images/immune_system_defenses_21499.png\n",
      "../dataset_releases/data_release_beta4_standard/textbook_images/innate_behavior_of_animals_21924.png\n",
      "../dataset_releases/data_release_beta4_standard/textbook_images/fossils_21844.png\n",
      "../dataset_releases/data_release_beta4_standard/textbook_images/how_animals_evolved_21299.png\n",
      "../dataset_releases/data_release_beta4_standard/textbook_images/elements_22821.png\n",
      "../dataset_releases/data_release_beta4_standard/textbook_images/organization_of_living_things_22028.png\n",
      "../dataset_releases/data_release_beta4_standard/textbook_images/heart_and_blood_vessels_21434.png\n",
      "../dataset_releases/data_release_beta4_standard/textbook_images/vascular_seedless_plants_22196.png\n",
      "../dataset_releases/data_release_beta4_standard/textbook_images/skin_22146.png\n",
      "../dataset_releases/data_release_beta4_standard/textbook_images/friction_22262.png\n",
      "../dataset_releases/data_release_beta4_standard/textbook_images/branches_of_earth_science_20638.png\n",
      "../dataset_releases/data_release_beta4_standard/textbook_images/artificial_light_22666.png\n",
      "../dataset_releases/data_release_beta4_standard/textbook_images/mining_and_using_minerals_20463.png\n",
      "../dataset_releases/data_release_beta4_standard/textbook_images/scientific_investigation_22129.png\n",
      "../dataset_releases/data_release_beta4_standard/textbook_images/comets_20676.png\n",
      "../dataset_releases/data_release_beta4_standard/textbook_images/radioactivity_22226.png\n",
      "../dataset_releases/data_release_beta4_standard/textbook_images/outer_planets_20406.png\n",
      "../dataset_releases/data_release_beta4_standard/textbook_images/types_of_friction_23134.png\n",
      "../dataset_releases/data_release_beta4_standard/textbook_images/natural_resources_21561.png\n",
      "../dataset_releases/data_release_beta4_standard/textbook_images/history_of_earths_life_forms_20079.png\n",
      "../dataset_releases/data_release_beta4_standard/textbook_images/energy_conservation_20742.png\n",
      "../dataset_releases/data_release_beta4_standard/textbook_images/aquatic_biomes_21707.png\n",
      "../dataset_releases/data_release_beta4_standard/textbook_images/earths_crust_20718.png\n",
      "../dataset_releases/data_release_beta4_standard/textbook_images/photosynthesis_21590.png\n",
      "../dataset_releases/data_release_beta4_standard/textbook_images/chemical_bond_22714.png\n",
      "../dataset_releases/data_release_beta4_standard/textbook_images/introduction_to_the_solar_system_20388.png\n",
      "../dataset_releases/data_release_beta4_standard/textbook_images/transcription_of_dna_to_rna_22175.png\n",
      "../dataset_releases/data_release_beta4_standard/textbook_images/amphibians_21350.png\n",
      "../dataset_releases/data_release_beta4_standard/textbook_images/energy_level_22829.png\n",
      "../dataset_releases/data_release_beta4_standard/textbook_images/earth_science_and_its_branches_20014.png\n",
      "../dataset_releases/data_release_beta4_standard/textbook_images/recent_space_exploration_20356.png\n",
      "../dataset_releases/data_release_beta4_standard/textbook_images/the_skeletal_system_21404.png\n",
      "../dataset_releases/data_release_beta4_standard/textbook_images/producers_22086.png\n",
      "../dataset_releases/data_release_beta4_standard/textbook_images/food_and_nutrients_21419.png\n",
      "../dataset_releases/data_release_beta4_standard/textbook_images/short_term_climate_change_21110.png\n",
      "../dataset_releases/data_release_beta4_standard/textbook_images/elements_22822.png\n",
      "../dataset_releases/data_release_beta4_standard/textbook_images/relative_ages_of_rocks_20057.png\n",
      "../dataset_releases/data_release_beta4_standard/textbook_images/principles_of_relative_dating_21052.png\n",
      "../dataset_releases/data_release_beta4_standard/textbook_images/types_of_rocks_20471.png\n",
      "../dataset_releases/data_release_beta4_standard/textbook_images/using_sound_22420.png\n",
      "../dataset_releases/data_release_beta4_standard/textbook_images/pollution_of_the_land_20239.png\n",
      "../dataset_releases/data_release_beta4_standard/textbook_images/groups_with_metalloids_22869.png\n",
      "../dataset_releases/data_release_beta4_standard/textbook_images/microscopes_21988.png\n",
      "../dataset_releases/data_release_beta4_standard/textbook_images/soils_20599.png\n",
      "../dataset_releases/data_release_beta4_standard/textbook_images/bohrs_atomic_model_22681.png\n",
      "../dataset_releases/data_release_beta4_standard/textbook_images/solutions_23090.png\n",
      "../dataset_releases/data_release_beta4_standard/textbook_images/chemical_reactions_and_energy_22619.png\n",
      "../dataset_releases/data_release_beta4_standard/textbook_images/volcanic_eruptions_20573.png\n",
      "../dataset_releases/data_release_beta4_standard/textbook_images/recognizing_chemical_reactions_23054.png\n",
      "../dataset_releases/data_release_beta4_standard/textbook_images/understanding_animal_behavior_21377.png\n",
      "../dataset_releases/data_release_beta4_standard/textbook_images/how_animals_evolved_21304.png\n",
      "../dataset_releases/data_release_beta4_standard/textbook_images/habitat_destruction_21866.png\n",
      "../dataset_releases/data_release_beta4_standard/textbook_images/the_respiratory_system_21444.png\n",
      "../dataset_releases/data_release_beta4_standard/textbook_images/weathering_20591.png\n",
      "../dataset_releases/data_release_beta4_standard/textbook_images/solids_liquids_gases_and_plasmas_22537.png\n",
      "../dataset_releases/data_release_beta4_standard/textbook_images/newtons_third_law_22290.png\n",
      "../dataset_releases/data_release_beta4_standard/textbook_images/soil_horizons_and_profiles_21124.png\n",
      "../dataset_releases/data_release_beta4_standard/textbook_images/properties_of_electromagnetic_waves_22426.png\n",
      "../dataset_releases/data_release_beta4_standard/textbook_images/humans_and_primates_21903.png\n",
      "../dataset_releases/data_release_beta4_standard/textbook_images/clouds_20664.png\n",
      "../dataset_releases/data_release_beta4_standard/textbook_images/friction_22267.png\n",
      "../dataset_releases/data_release_beta4_standard/textbook_images/mammals_21365.png\n",
      "../dataset_releases/data_release_beta4_standard/textbook_images/efficiency_22777.png\n",
      "../dataset_releases/data_release_beta4_standard/textbook_images/century_tsunami_20315.png\n",
      "../dataset_releases/data_release_beta4_standard/textbook_images/nuclear_fusion_22989.png\n",
      "../dataset_releases/data_release_beta4_standard/textbook_images/electromagnetic_induction_22800.png\n",
      "../dataset_releases/data_release_beta4_standard/textbook_images/identification_of_minerals_20457.png\n",
      "../dataset_releases/data_release_beta4_standard/textbook_images/plasma_23019.png\n",
      "../dataset_releases/data_release_beta4_standard/textbook_images/cycles_of_matter_21549.png\n",
      "../dataset_releases/data_release_beta4_standard/textbook_images/acceleration_22250.png\n",
      "../dataset_releases/data_release_beta4_standard/textbook_images/carbon_monomers_and_polymers_22705.png\n",
      "../dataset_releases/data_release_beta4_standard/textbook_images/deposition_22767.png\n",
      "../dataset_releases/data_release_beta4_standard/textbook_images/cellular_respiration_21763.png\n",
      "../dataset_releases/data_release_beta4_standard/textbook_images/natural_gas_power_20980.png\n",
      "../dataset_releases/data_release_beta4_standard/textbook_images/streams_and_rivers_21142.png\n",
      "../dataset_releases/data_release_beta4_standard/textbook_images/vertebrate_characteristics_22198.png\n",
      "../dataset_releases/data_release_beta4_standard/textbook_images/relative_ages_of_rocks_20060.png\n",
      "../dataset_releases/data_release_beta4_standard/textbook_images/forms_of_energy_22338.png\n",
      "../dataset_releases/data_release_beta4_standard/textbook_images/local_winds_20904.png\n",
      "../dataset_releases/data_release_beta4_standard/textbook_images/isomers_22910.png\n",
      "../dataset_releases/data_release_beta4_standard/textbook_images/the_senses_21480.png\n",
      "../dataset_releases/data_release_beta4_standard/textbook_images/consumers_and_decomposers_21792.png\n",
      "../dataset_releases/data_release_beta4_standard/textbook_images/ultrasound_23136.png\n",
      "../dataset_releases/data_release_beta4_standard/textbook_images/fermentation_21830.png\n",
      "../dataset_releases/data_release_beta4_standard/textbook_images/hearing_sound_22414.png\n",
      "../dataset_releases/data_release_beta4_standard/textbook_images/humans_and_the_water_supply_20296.png\n",
      "../dataset_releases/data_release_beta4_standard/textbook_images/early_space_exploration_20350.png\n",
      "../dataset_releases/data_release_beta4_standard/textbook_images/acids_and_bases_22215.png\n",
      "../dataset_releases/data_release_beta4_standard/textbook_images/fresh_water_ecosystems_20793.png\n",
      "../dataset_releases/data_release_beta4_standard/textbook_images/lithification_of_sedimentary_rocks_20899.png\n",
      "../dataset_releases/data_release_beta4_standard/textbook_images/importance_of_mammals_21913.png\n",
      "../dataset_releases/data_release_beta4_standard/textbook_images/stress_in_earths_crust_20536.png\n",
      "../dataset_releases/data_release_beta4_standard/textbook_images/microscopes_21986.png\n",
      "../dataset_releases/data_release_beta4_standard/textbook_images/processes_of_the_water_cycle_21057.png\n",
      "../dataset_releases/data_release_beta4_standard/textbook_images/vision_22461.png\n",
      "../dataset_releases/data_release_beta4_standard/textbook_images/mendels_pea_plants_21983.png\n",
      "../dataset_releases/data_release_beta4_standard/textbook_images/evolution_and_classification_of_plants_21283.png\n",
      "../dataset_releases/data_release_beta4_standard/textbook_images/characteristics_of_waves_22371.png\n",
      "../dataset_releases/data_release_beta4_standard/textbook_images/pascals_law_23006.png\n",
      "../dataset_releases/data_release_beta4_standard/textbook_images/reptiles_21353.png\n",
      "../dataset_releases/data_release_beta4_standard/textbook_images/types_of_friction_23135.png\n",
      "../dataset_releases/data_release_beta4_standard/textbook_images/biological_communities_20634.png\n",
      "../dataset_releases/data_release_beta4_standard/textbook_images/terrestrial_biomes_22164.png\n",
      "../dataset_releases/data_release_beta4_standard/textbook_images/translation_of_rna_to_protein_22178.png\n",
      "../dataset_releases/data_release_beta4_standard/textbook_images/introduction_to_vertebrates_21338.png\n",
      "../dataset_releases/data_release_beta4_standard/textbook_images/rocks_21073.png\n",
      "../dataset_releases/data_release_beta4_standard/textbook_images/artificial_light_22665.png\n",
      "../dataset_releases/data_release_beta4_standard/textbook_images/elastic_force_22278.png\n",
      "../dataset_releases/data_release_beta4_standard/textbook_images/nature_of_earthquakes_20543.png\n",
      "../dataset_releases/data_release_beta4_standard/textbook_images/chemical_reactions_and_energy_22621.png\n",
      "../dataset_releases/data_release_beta4_standard/textbook_images/properties_of_carbon_22624.png\n",
      "../dataset_releases/data_release_beta4_standard/textbook_images/the_origin_of_earth_20071.png\n",
      "../dataset_releases/data_release_beta4_standard/textbook_images/the_carbon_cycle_22167.png\n",
      "../dataset_releases/data_release_beta4_standard/textbook_images/flow_of_energy_21545.png\n",
      "../dataset_releases/data_release_beta4_standard/textbook_images/solids_liquids_gases_and_plasmas_22539.png\n",
      "../dataset_releases/data_release_beta4_standard/textbook_images/the_nervous_system_21475.png\n",
      "../dataset_releases/data_release_beta4_standard/textbook_images/local_winds_20900.png\n",
      "../dataset_releases/data_release_beta4_standard/textbook_images/electric_charge_22464.png\n",
      "../dataset_releases/data_release_beta4_standard/textbook_images/nature_of_earthquakes_20554.png\n",
      "../dataset_releases/data_release_beta4_standard/textbook_images/inertia_22897.png\n",
      "../dataset_releases/data_release_beta4_standard/textbook_images/radioactive_decay_as_a_measure_of_age_21060.png\n",
      "../dataset_releases/data_release_beta4_standard/textbook_images/the_integumentary_system_21399.png\n",
      "../dataset_releases/data_release_beta4_standard/textbook_images/electron_cloud_atomic_model_22807.png\n",
      "../dataset_releases/data_release_beta4_standard/textbook_images/nuclear_fission_22986.png\n",
      "../dataset_releases/data_release_beta4_standard/textbook_images/early_atmosphere_and_oceans_20700.png\n",
      "../dataset_releases/data_release_beta4_standard/textbook_images/the_ocean_floor_20125.png\n",
      "../dataset_releases/data_release_beta4_standard/textbook_images/structural_evidence_for_evolution_22154.png\n",
      "../dataset_releases/data_release_beta4_standard/textbook_images/asteroids_20619.png\n",
      "../dataset_releases/data_release_beta4_standard/textbook_images/acid_rain_20604.png\n",
      "../dataset_releases/data_release_beta4_standard/textbook_images/earthquakes_at_convergent_plate_boundaries_20711.png\n",
      "../dataset_releases/data_release_beta4_standard/textbook_images/landforms_from_glacial_erosion_and_deposition_20889.png\n",
      "../dataset_releases/data_release_beta4_standard/textbook_images/use_and_conservation_of_energy_20291.png\n",
      "../dataset_releases/data_release_beta4_standard/textbook_images/roundworms_22121.png\n",
      "../dataset_releases/data_release_beta4_standard/textbook_images/mercury_pollution_20935.png\n",
      "../dataset_releases/data_release_beta4_standard/textbook_images/chemical_reactions_and_energy_22623.png\n",
      "../dataset_releases/data_release_beta4_standard/textbook_images/modeling_earths_surface_20256.png\n",
      "../dataset_releases/data_release_beta4_standard/textbook_images/importance_of_the_atmosphere_20859.png\n",
      "../dataset_releases/data_release_beta4_standard/textbook_images/energy_resources_22349.png\n",
      "../dataset_releases/data_release_beta4_standard/textbook_images/streams_and_rivers_21143.png\n",
      "../dataset_releases/data_release_beta4_standard/textbook_images/mid_latitude_cyclones_20943.png\n",
      "../dataset_releases/data_release_beta4_standard/textbook_images/birds_21355.png\n",
      "../dataset_releases/data_release_beta4_standard/textbook_images/cycles_of_matter_20222.png\n",
      "../dataset_releases/data_release_beta4_standard/textbook_images/introduction_to_plants_21264.png\n",
      "../dataset_releases/data_release_beta4_standard/textbook_images/covalent_bonds_22596.png\n",
      "../dataset_releases/data_release_beta4_standard/textbook_images/solids_23083.png\n",
      "../dataset_releases/data_release_beta4_standard/textbook_images/electromagnetic_waves_22422.png\n",
      "../dataset_releases/data_release_beta4_standard/textbook_images/weather_forecasting_20180.png\n",
      "../dataset_releases/data_release_beta4_standard/textbook_images/birds_21360.png\n",
      "../dataset_releases/data_release_beta4_standard/textbook_images/organization_of_the_human_body_22029.png\n",
      "../dataset_releases/data_release_beta4_standard/textbook_images/biochemical_reactions_22648.png\n",
      "../dataset_releases/data_release_beta4_standard/textbook_images/bacteria_21674.png\n",
      "../dataset_releases/data_release_beta4_standard/textbook_images/flatworms_21839.png\n",
      "../dataset_releases/data_release_beta4_standard/textbook_images/introduction_to_solutions_22211.png\n",
      "../dataset_releases/data_release_beta4_standard/textbook_images/behavior_of_gases_22545.png\n",
      "../dataset_releases/data_release_beta4_standard/textbook_images/thermal_conductors_and_insulators_23115.png\n",
      "../dataset_releases/data_release_beta4_standard/textbook_images/cell_structures_21579.png\n",
      "../dataset_releases/data_release_beta4_standard/textbook_images/collecting_weather_data_20673.png\n",
      "../dataset_releases/data_release_beta4_standard/textbook_images/mineral_identification_20962.png\n",
      "../dataset_releases/data_release_beta4_standard/textbook_images/electricity_and_magnetism_22500.png\n",
      "../dataset_releases/data_release_beta4_standard/textbook_images/groundwater_20100.png\n",
      "../dataset_releases/data_release_beta4_standard/textbook_images/types_of_marine_organisms_21186.png\n",
      "../dataset_releases/data_release_beta4_standard/textbook_images/the_ocean_floor_20123.png\n",
      "../dataset_releases/data_release_beta4_standard/textbook_images/nature_of_earthquakes_20553.png\n",
      "../dataset_releases/data_release_beta4_standard/textbook_images/chemistry_of_living_things_21458.png\n",
      "../dataset_releases/data_release_beta4_standard/textbook_images/lifes_building_blocks_21575.png\n"
     ]
    }
   ],
   "source": [
    "missing = []\n",
    "for old_name, new_name in list(record_image_name_changes.items()):\n",
    "    try:\n",
    "        old_path = os.path.join(image_base, old_name)\n",
    "        new_path = os.path.join(image_base, new_name)\n",
    "#         if not os.path.exists(old_path):\n",
    "        print(new_path)\n",
    "#         os.rename(old_path, new_path)\n",
    "    except FileNotFoundError:\n",
    "        missing.append(old_path)"
   ]
  },
  {
   "cell_type": "code",
   "execution_count": 554,
   "metadata": {
    "collapsed": false,
    "hidden": true
   },
   "outputs": [
    {
     "data": {
      "text/plain": [
       "True"
      ]
     },
     "execution_count": 554,
     "metadata": {},
     "output_type": "execute_result"
    }
   ],
   "source": [
    "os.path.exists(image_base + record_image_name_changes.keys())"
   ]
  },
  {
   "cell_type": "code",
   "execution_count": 223,
   "metadata": {
    "collapsed": false,
    "hidden": true
   },
   "outputs": [
    {
     "data": {
      "text/plain": [
       "3176"
      ]
     },
     "execution_count": 223,
     "metadata": {},
     "output_type": "execute_result"
    }
   ],
   "source": [
    "len(record_image_name_changes)"
   ]
  },
  {
   "cell_type": "code",
   "execution_count": 232,
   "metadata": {
    "collapsed": false,
    "hidden": true
   },
   "outputs": [
    {
     "data": {
      "text/plain": [
       "[]"
      ]
     },
     "execution_count": 232,
     "metadata": {},
     "output_type": "execute_result"
    }
   ],
   "source": [
    "missing"
   ]
  },
  {
   "cell_type": "code",
   "execution_count": null,
   "metadata": {
    "collapsed": true,
    "hidden": true
   },
   "outputs": [],
   "source": []
  },
  {
   "cell_type": "code",
   "execution_count": null,
   "metadata": {
    "collapsed": true,
    "hidden": true
   },
   "outputs": [],
   "source": []
  },
  {
   "cell_type": "code",
   "execution_count": null,
   "metadata": {
    "collapsed": true,
    "hidden": true
   },
   "outputs": [],
   "source": []
  },
  {
   "cell_type": "markdown",
   "metadata": {
    "heading_collapsed": true
   },
   "source": [
    "# Splitting experiments"
   ]
  },
  {
   "cell_type": "code",
   "execution_count": null,
   "metadata": {
    "collapsed": true,
    "hidden": true,
    "run_control": {
     "frozen": false,
     "read_only": false
    }
   },
   "outputs": [],
   "source": []
  },
  {
   "cell_type": "markdown",
   "metadata": {
    "collapsed": true,
    "heading_collapsed": true,
    "run_control": {
     "frozen": false,
     "read_only": false
    }
   },
   "source": [
    "# End"
   ]
  },
  {
   "cell_type": "code",
   "execution_count": null,
   "metadata": {
    "collapsed": false,
    "hidden": true,
    "run_control": {
     "frozen": false,
     "read_only": false
    },
    "scrolled": true
   },
   "outputs": [],
   "source": [
    "# flexbook_glossary.keys()"
   ]
  },
  {
   "cell_type": "code",
   "execution_count": null,
   "metadata": {
    "collapsed": false,
    "hidden": true,
    "run_control": {
     "frozen": false,
     "read_only": false
    }
   },
   "outputs": [],
   "source": [
    "# print(list(diagram_lesson_lookup.values()))"
   ]
  },
  {
   "cell_type": "code",
   "execution_count": null,
   "metadata": {
    "collapsed": false,
    "hidden": true,
    "run_control": {
     "frozen": false,
     "read_only": false
    }
   },
   "outputs": [],
   "source": [
    "test_lesson = ck12_combined_dataset['earth-science']['24.1 Planet Earth']"
   ]
  },
  {
   "cell_type": "code",
   "execution_count": null,
   "metadata": {
    "collapsed": false,
    "hidden": true,
    "run_control": {
     "frozen": false,
     "read_only": false
    }
   },
   "outputs": [],
   "source": [
    "# pprint.pprint(test_lesson['instructionalDiagrams'])"
   ]
  },
  {
   "cell_type": "code",
   "execution_count": null,
   "metadata": {
    "collapsed": false,
    "hidden": true,
    "run_control": {
     "frozen": false,
     "read_only": false
    }
   },
   "outputs": [],
   "source": [
    "list(test_lesson['instructionalDiagrams'].values())[0]['processedText']"
   ]
  },
  {
   "cell_type": "code",
   "execution_count": null,
   "metadata": {
    "collapsed": false,
    "hidden": true,
    "run_control": {
     "frozen": false,
     "read_only": false
    }
   },
   "outputs": [],
   "source": [
    "test_lesson['topics'].keys()"
   ]
  },
  {
   "cell_type": "code",
   "execution_count": null,
   "metadata": {
    "collapsed": false,
    "hidden": true,
    "run_control": {
     "frozen": false,
     "read_only": false
    }
   },
   "outputs": [],
   "source": [
    "test_vocab = test_lesson['topics']['Vocabulary']['content']['text'].split('\\n')"
   ]
  },
  {
   "cell_type": "code",
   "execution_count": null,
   "metadata": {
    "code_folding": [],
    "collapsed": false,
    "hidden": true,
    "run_control": {
     "frozen": false,
     "read_only": false
    }
   },
   "outputs": [],
   "source": [
    "for word in test_vocab:\n",
    "    if word in flexbook_glossary:\n",
    "        print(flexbook_glossary[word])\n",
    "        print()"
   ]
  },
  {
   "cell_type": "code",
   "execution_count": null,
   "metadata": {
    "collapsed": true,
    "hidden": true,
    "run_control": {
     "frozen": false,
     "read_only": false
    }
   },
   "outputs": [],
   "source": [
    "# write_file('ck12_v4_5.json', ck12_combined_dataset, 'experimental_output')"
   ]
  },
  {
   "cell_type": "code",
   "execution_count": null,
   "metadata": {
    "collapsed": true,
    "hidden": true,
    "run_control": {
     "frozen": false,
     "read_only": false
    }
   },
   "outputs": [],
   "source": []
  }
 ],
 "metadata": {
  "kernelspec": {
   "display_name": "Python 3",
   "language": "python",
   "name": "python3"
  },
  "language_info": {
   "codemirror_mode": {
    "name": "ipython",
    "version": 3
   },
   "file_extension": ".py",
   "mimetype": "text/x-python",
   "name": "python",
   "nbconvert_exporter": "python",
   "pygments_lexer": "ipython3",
   "version": "3.5.2"
  }
 },
 "nbformat": 4,
 "nbformat_minor": 1
}
