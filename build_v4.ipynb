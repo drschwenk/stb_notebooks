{
 "cells": [
  {
   "cell_type": "markdown",
   "metadata": {
    "heading_collapsed": true
   },
   "source": [
    "# Table of Contents\n",
    "* &nbsp;\n",
    "\t* [imports](#imports)\n",
    "\t* [simple functions](#simple-functions)\n",
    "* [Load data](#Load-data)\n",
    "\t* [setting paths](#setting-paths)\n",
    "\t* [parsed content and raw questions and descriptions](#parsed-content-and-raw-questions-and-descriptions)\n",
    "\t* [localization and recognition](#localization-and-recognition)\n",
    "\t* [building spellings and grammar](#building-spellings-and-grammar)\n",
    "* [Clean and prepare data](#Clean-and-prepare-data)\n",
    "\t* [extract media links](#extract-media-links)\n",
    "\t* [remove non-conforming content](#remove-non-conforming-content)\n",
    "\t\t* [code](#code)\n",
    "\t\t* [run](#run)\n",
    "\t* [remove recognition and localization errors](#remove-recognition-and-localization-errors)\n",
    "* [Add image annotations](#Add-image-annotations)\n",
    "\t* [localization](#localization)\n",
    "\t* [recognition](#recognition)\n",
    "\t\t* [code](#code)\n",
    "\t\t* [run](#run)\n",
    "\t\t* [hide](#hide)\n",
    "* [Integrate diagram questions and descriptions](#Integrate-diagram-questions-and-descriptions)\n",
    "\t* [match diagram topics to lessons](#match-diagram-topics-to-lessons)\n",
    "\t\t* [code](#code)\n",
    "\t\t* [run](#run)\n",
    "\t\t* [hide](#hide)\n",
    "\t* [merge questions](#merge-questions)\n",
    "\t\t* [code](#code)\n",
    "\t\t* [run](#run)\n",
    "\t\t* [hide](#hide)\n",
    "\t* [merge descriptions](#merge-descriptions)\n",
    "\t\t* [hide](#hide)\n",
    "\t* [Apply spelling and grammar fixes](#Apply-spelling-and-grammar-fixes)\n",
    "\t\t* [code](#code)\n",
    "\t\t* [run](#run)\n",
    "\t\t* [hide](#hide)\n",
    "* [Topic key collisions](#Topic-key-collisions)\n",
    "* [Refinements to make](#Refinements-to-make)\n",
    "* [End](#End)\n"
   ]
  },
  {
   "cell_type": "markdown",
   "metadata": {
    "heading_collapsed": true,
    "hidden": true
   },
   "source": [
    "## imports"
   ]
  },
  {
   "cell_type": "code",
   "execution_count": 172,
   "metadata": {
    "collapsed": false,
    "hidden": true,
    "run_control": {
     "frozen": false,
     "read_only": false
    }
   },
   "outputs": [],
   "source": [
    "%%capture\n",
    "import matplotlib as mpl\n",
    "mpl.use(\"Agg\")\n",
    "import matplotlib.pylab as plt\n",
    "#%matplotlib notebook\n",
    "%matplotlib inline\n",
    "%load_ext base16_mplrc\n",
    "# %base16_mplrc light solarized\n",
    "%base16_mplrc dark solarized\n",
    "plt.rcParams['grid.linewidth'] = 0\n",
    "plt.rcParams['figure.figsize'] = (16.0, 10.0)\n",
    "\n",
    "import numpy as np\n",
    "import pandas as pd\n",
    "import scipy.stats as st\n",
    "from scipy.stats.mstats import mode\n",
    "\n",
    "import itertools\n",
    "import math\n",
    "from collections import Counter, defaultdict, OrderedDict\n",
    "%load_ext autoreload\n",
    "%autoreload 2\n",
    "\n",
    "import cv2\n",
    "import pprint\n",
    "import pickle\n",
    "import json\n",
    "import requests\n",
    "import io\n",
    "import sys\n",
    "import os\n",
    "from binascii import b2a_hex\n",
    "import base64\n",
    "from wand.image import Image as WImage\n",
    "from IPython.display import display\n",
    "from IPython.core.display import HTML\n",
    "import PIL.Image as Image\n",
    "from copy import deepcopy\n",
    "import glob\n",
    "import random\n",
    "\n",
    "import nltk\n",
    "import string\n",
    "from nltk.corpus import stopwords\n",
    "from nltk.tokenize import word_tokenize\n",
    "from nltk.tokenize import wordpunct_tokenize\n",
    "import language_check\n",
    "import enchant\n",
    "import difflib\n",
    "import diff_match_patch\n",
    "import fuzzywuzzy.fuzz as fuzz\n",
    "import re\n",
    "import jsonschema\n",
    "from pdfextraction.ck12_schema import ck12_schema as schema"
   ]
  },
  {
   "cell_type": "markdown",
   "metadata": {
    "heading_collapsed": true,
    "hidden": true
   },
   "source": [
    "## simple functions"
   ]
  },
  {
   "cell_type": "code",
   "execution_count": 173,
   "metadata": {
    "collapsed": false,
    "hidden": true,
    "run_control": {
     "frozen": false,
     "read_only": false
    }
   },
   "outputs": [],
   "source": [
    "def write_file(filename, data_dict, output_dir='output_data_from_nbs'):\n",
    "    with open(os.path.join(output_dir, filename), 'w') as f:\n",
    "        json.dump(data_dict, f, indent=4, sort_keys=True)\n",
    "        \n",
    "def get_img_n(image_name):\n",
    "    return [re.findall(\"[0-9]+\", image_name)][0][0]\n",
    "\n",
    "def clean_list(dir_path):\n",
    "    hidden_removed = filter(lambda f: not f.startswith('.'), os.listdir(dir_path))\n",
    "    return [topic.replace('_diagram', '') for topic in hidden_removed]"
   ]
  },
  {
   "cell_type": "markdown",
   "metadata": {
    "heading_collapsed": true
   },
   "source": [
    "# Load data"
   ]
  },
  {
   "cell_type": "markdown",
   "metadata": {
    "hidden": true
   },
   "source": [
    "load last_checkpoint"
   ]
  },
  {
   "cell_type": "code",
   "execution_count": 174,
   "metadata": {
    "collapsed": false,
    "hidden": true,
    "run_control": {
     "frozen": false,
     "read_only": false
    }
   },
   "outputs": [],
   "source": [
    "# with open('build_v5.pkl', 'r') as f:\n",
    "#     latest_checkpoint = pickle.load(f)"
   ]
  },
  {
   "cell_type": "markdown",
   "metadata": {
    "heading_collapsed": true,
    "hidden": true
   },
   "source": [
    "## setting paths"
   ]
  },
  {
   "cell_type": "code",
   "execution_count": 175,
   "metadata": {
    "collapsed": false,
    "hidden": true,
    "run_control": {
     "frozen": false,
     "read_only": false
    }
   },
   "outputs": [],
   "source": [
    "output_dir = 'output_data_from_nbs/'\n",
    "raw_data_dir = '../spare5_produced_data/data/'\n",
    "raw_dq_file = 'ai2_testquestions_20161005.csv'\n",
    "s5_raw_decriptions = 'ai2_diagramdescriptions_20161018.csv'\n",
    "ai2_raw_decriptions = 'our_description.csv'\n",
    "glossary_path = os.path.join(output_dir, 'flexbook_glossary.pkl')\n",
    "\n",
    "turk_proc_dir = '/Users/schwenk/wrk/stb/diagram_questions/turk_processing/'\n",
    "metadata_dir = turk_proc_dir + 'store_hit_results_metadata/'\n",
    "lc_results_dir = 'loc_group_3'\n",
    "box_loc_joined = 'loc_annotations'\n",
    "recog_results_dir = 'group_latest_combined'\n",
    "\n",
    "box_choices_1_dir = 'final_text_boxes_fixed'\n",
    "box_choices_2_dir = 'final_text_boxes_pass_2'\n",
    "none_agree = 'no_turkers_agree_lookup.pkl'\n",
    "two_agree_lookup = 'two_turkers_agree_lookup.pkl'\n",
    "all_agree_lookup = 'user_diag_loopkup.pkl'\n",
    "\n",
    "recog_performed = '/Users/schwenk/wrk/stb/diagram_questions/turk_processing/final_diagrams/'\n",
    "all_dir = '/Users/schwenk/wrk/stb/ai2-vision-textbook-dataset/diagrams/tqa_diagrams_v0.9/'\n",
    "pruned_dir = '/Users/schwenk/wrk/stb/ai2-vision-textbook-dataset/diagrams/dataset_Sep_27/tqa_diagrams_v0.9_question_images/'\n",
    "description_dir = '/Users/schwenk/wrk/stb/spare5_produced_data/tqa_diagrams_v0.9_inbook/'"
   ]
  },
  {
   "cell_type": "markdown",
   "metadata": {
    "heading_collapsed": true,
    "hidden": true
   },
   "source": [
    "## parsed content and raw questions and descriptions"
   ]
  },
  {
   "cell_type": "code",
   "execution_count": 176,
   "metadata": {
    "collapsed": true,
    "hidden": true,
    "run_control": {
     "frozen": false,
     "read_only": false
    }
   },
   "outputs": [],
   "source": [
    "%%capture\n",
    "# load complete text v 3.5, raw diagram questions and descriptions\n",
    "with open(output_dir + 'ck12_dataset_beta_v3_5.json', 'r') as f:\n",
    "    ck12_combined_dataset_raw = json.load(f)\n",
    "with open(output_dir + 'ck12_flexbook_only_beta_v3.json', 'r') as f:\n",
    "    flexbook_ds = json.load(f)\n",
    "with open(output_dir + 'ck12_lessons_only_beta_v3.json', 'r') as f:\n",
    "    lessons_ds = json.load(f)\n",
    "\n",
    "# loading questions\n",
    "desc_df = pd.read_csv(raw_data_dir + s5_raw_decriptions, encoding='latin-1')\n",
    "desc_df['diagram'] = desc_df['reference_id'].apply(lambda x: x.split('/')[-1])\n",
    "\n",
    "ai2_raw_decriptions_df = pd.read_csv(raw_data_dir + ai2_raw_decriptions, encoding='latin-1')\n",
    "ai2_written_df_completed = ai2_raw_decriptions_df[['Topic', 'Image Path', 'Description']]\n",
    "ai2_written_df_completed['diagram'] = ai2_written_df_completed['Image Path'].apply(lambda x: x.split('/')[-1])\n",
    "ai2_written_df_completed['topic'] = ai2_written_df_completed['Topic']\n",
    "del  ai2_written_df_completed['Topic']\n",
    "\n",
    "#loading questions\n",
    "q_col = '03_write_question'\n",
    "r_ans_col = '04_write_right_answer'\n",
    "w_ans_col = '05_write_wrong_answers'\n",
    "data_cols = [q_col, r_ans_col, w_ans_col]\n",
    "raw_dq_df = pd.read_csv(raw_data_dir + raw_dq_file, encoding='latin-1')\n",
    "dr_proc_df = raw_dq_df.copy()\n",
    "dr_proc_df['wac_list'] = dr_proc_df[w_ans_col].apply(lambda x: json.loads(x))\n",
    "dr_proc_df['diagram'] = dr_proc_df['reference_id'].apply(lambda x: x.split('/')[-1])\n",
    "dr_proc_df['topic'] = dr_proc_df['reference_id'].apply(lambda x: x.split('/')[-1].rsplit('_', maxsplit=1)[0])\n",
    "\n",
    "with open('../diagram_questions/topic_match_terms.json', 'r') as f:\n",
    "    topic_term_match = json.load(f)    \n",
    "\n",
    "with open(glossary_path, 'rb') as f:\n",
    "    flexbook_glossary = pickle.load(f)"
   ]
  },
  {
   "cell_type": "markdown",
   "metadata": {
    "hidden": true
   },
   "source": [
    "### localization and recognition"
   ]
  },
  {
   "cell_type": "code",
   "execution_count": 177,
   "metadata": {
    "collapsed": true,
    "hidden": true,
    "run_control": {
     "frozen": false,
     "read_only": false
    }
   },
   "outputs": [],
   "source": [
    "loc_res_df = pd.read_pickle(os.path.join(metadata_dir, lc_results_dir, 'complete_df.pkl'))\n",
    "recog_res_df = pd.read_pickle(os.path.join(metadata_dir, recog_results_dir, 'recog_df.pkl'))"
   ]
  },
  {
   "cell_type": "markdown",
   "metadata": {
    "heading_collapsed": true,
    "hidden": true
   },
   "source": [
    "## building spellings and grammar"
   ]
  },
  {
   "cell_type": "code",
   "execution_count": 178,
   "metadata": {
    "collapsed": false,
    "hidden": true,
    "run_control": {
     "frozen": false,
     "read_only": false
    }
   },
   "outputs": [],
   "source": [
    "# loading spelling defs\n",
    "with open(output_dir + 'ck_12_vocab_words.pkl', 'rb') as f:\n",
    "    ck_12_vocab = set(pickle.load(f))\n",
    "with open(output_dir + 'ck_12_all_words.pkl', 'rb') as f:\n",
    "    ck_12_corp = set(pickle.load(f))\n",
    "    \n",
    "with open(output_dir + 'spellings_to_rev.txt', 'r') as f:\n",
    "    whitelisted_words = f.read().split('\\n')[:-1]    \n",
    "with open(output_dir + './desc_spellings_to_rev.txt', 'r') as f:\n",
    "    whitelisted_words += f.read().split('\\n')[:-1]\n",
    "with open(output_dir + './ck_12_spelling_rev.txt', 'r') as f:\n",
    "    whitelisted_words += f.read().split('\\n')[:-1]\n",
    "with open('diagram_rec_corp.pkl', 'rb') as f:\n",
    "    diagram_rec_corpus = pickle.load(f)\n",
    "    \n",
    "ck_12_corp.update(ck_12_vocab)\n",
    "ck_12_corp.update(whitelisted_words)\n",
    "ck_12_corp.update(diagram_rec_corpus)\n",
    "\n",
    "# build spelling dict updated with words from science corpus\n",
    "edict = enchant.Dict(\"en_US\")\n",
    "anglo_edict = enchant.Dict(\"en_UK\")\n",
    "cached_sw = stopwords.words(\"english\") + list(string.punctuation)\n",
    "for word in ck_12_corp:\n",
    "    if word.isalpha() and len(word) > 3:\n",
    "        edict.add(word)\n",
    "        \n",
    "# grammaer checker\n",
    "gram_checker = language_check.LanguageTool('en-US')\n",
    "gram_checker.disabled = set(['SENT_START_CONJUNCTIVE_LINKING_ADVERB_COMMA', 'POSSESSIVE_APOSTROPHE', 'A_PLURAL'])\n",
    "gram_checker.disable_spellchecking()"
   ]
  },
  {
   "cell_type": "markdown",
   "metadata": {
    "heading_collapsed": true
   },
   "source": [
    "# Clean and prepare data"
   ]
  },
  {
   "cell_type": "markdown",
   "metadata": {
    "heading_collapsed": true,
    "hidden": true
   },
   "source": [
    "## extract media links"
   ]
  },
  {
   "cell_type": "code",
   "execution_count": 179,
   "metadata": {
    "collapsed": true,
    "hidden": true,
    "run_control": {
     "frozen": false,
     "read_only": false
    }
   },
   "outputs": [],
   "source": [
    "ck12_combined_dataset = deepcopy(ck12_combined_dataset_raw)"
   ]
  },
  {
   "cell_type": "code",
   "execution_count": 180,
   "metadata": {
    "collapsed": false,
    "hidden": true,
    "run_control": {
     "frozen": false,
     "read_only": false
    }
   },
   "outputs": [],
   "source": [
    "pat_str = \"(?:https?:\\/\\/(?:www\\.).*?\\s)\"\n",
    "web_link_patern=re.compile(pat_str)\n",
    "\n",
    "def clean_content_text(content_str, web_link_patern):\n",
    "    removed_links = web_link_patern.findall(content_str)\n",
    "    if not removed_links:\n",
    "        return '', ''\n",
    "    split_txt = web_link_patern.split(content_str)\n",
    "    cleaned_text = ' '.join([txt for txt in split_txt if txt])\n",
    "    return cleaned_text, [link.strip() for link in removed_links]\n",
    "\n",
    "def extract_links(complete_ds):\n",
    "    for subject, lessons in complete_ds.items():\n",
    "        for lesson_title, lesson in lessons.items():\n",
    "            for topic, content in lesson['topics'].items():\n",
    "                content_str = content['content']['text']\n",
    "                new_text, links = clean_content_text(content_str, web_link_patern)\n",
    "                content['content']['mediaLinks'] = []\n",
    "                if links:\n",
    "                    content['content']['text'] = new_text\n",
    "                    content['content']['mediaLinks'].extend(links)"
   ]
  },
  {
   "cell_type": "code",
   "execution_count": 181,
   "metadata": {
    "collapsed": false,
    "hidden": true,
    "run_control": {
     "frozen": false,
     "read_only": false
    }
   },
   "outputs": [],
   "source": [
    "extract_links(ck12_combined_dataset)"
   ]
  },
  {
   "cell_type": "markdown",
   "metadata": {
    "collapsed": true,
    "heading_collapsed": true,
    "hidden": true,
    "run_control": {
     "frozen": false,
     "read_only": false
    }
   },
   "source": [
    "## remove non-conforming content"
   ]
  },
  {
   "cell_type": "markdown",
   "metadata": {
    "heading_collapsed": true,
    "hidden": true
   },
   "source": [
    "### code"
   ]
  },
  {
   "cell_type": "code",
   "execution_count": 182,
   "metadata": {
    "collapsed": false,
    "hidden": true,
    "run_control": {
     "frozen": false,
     "read_only": false
    }
   },
   "outputs": [],
   "source": [
    "def validate_schema(dataset_json):\n",
    "    errors = []\n",
    "    try:\n",
    "        validator = jsonschema.Draft4Validator(schema)\n",
    "        for error in sorted(validator.iter_errors(dataset_json), key=lambda x: x.absolute_path[0]):\n",
    "            errors.append([error.message, list(error.absolute_path)[:4]])\n",
    "    except jsonschema.ValidationError as e:\n",
    "        errors.append(\"Error in schema --%s-\", e.message)\n",
    "    return errors\n",
    "\n",
    "def validate_dataset(dataset_json):\n",
    "    for subject, flexbook in dataset_json.items():\n",
    "        schema_errors = validate_schema(flexbook)\n",
    "        for lesson_name, lesson in flexbook.items():\n",
    "            ac_errors = check_ac_counts(lesson, subject, lesson_name)\n",
    "        all_errors = schema_errors + ac_errors\n",
    "        if not all_errors:\n",
    "            return 'all validation test passed'\n",
    "        else:\n",
    "            return all_errors\n",
    "\n",
    "def check_ac_counts(lesson_content, subject, lesson_name):\n",
    "    errors = []\n",
    "    for qid, question in lesson_content['questions']['nonDiagramQuestions'].items():\n",
    "        if question['type'] == 'Multiple Choice':\n",
    "            if len(question['answerChoices']) != 4:\n",
    "                errors.append([subject, lesson_name, qid + ' mc error'])\n",
    "        if question['type'] == 'True or False':\n",
    "            if len(question['answerChoices']) != 2:\n",
    "                errors.append([subject, lesson_name, qid + ' tf error'])\n",
    "    return errors\n",
    "\n",
    "def record_validation_errors(dataset):\n",
    "    qs_removed = []\n",
    "    for subject, flexbook in dataset.items():\n",
    "        validator = jsonschema.Draft4Validator(schema)\n",
    "        for error in sorted(validator.iter_errors(flexbook), key=lambda x: x.absolute_path[0]):\n",
    "            lesson, quest, question_class, q_number = list(error.absolute_path)[:4]\n",
    "            problem_q_section = dataset[subject][lesson][quest][question_class]\n",
    "            if q_number in problem_q_section.keys():\n",
    "#                 print(dataset[subject][lesson][quest][question_class].pop(q_number))\n",
    "                qs_removed.append(dataset[subject][lesson][quest][question_class].pop(q_number))\n",
    "    return qs_removed"
   ]
  },
  {
   "cell_type": "markdown",
   "metadata": {
    "heading_collapsed": true,
    "hidden": true
   },
   "source": [
    "### run"
   ]
  },
  {
   "cell_type": "code",
   "execution_count": 183,
   "metadata": {
    "collapsed": false,
    "hidden": true,
    "run_control": {
     "frozen": false,
     "read_only": false
    }
   },
   "outputs": [
    {
     "data": {
      "text/plain": [
       "'all validation test passed'"
      ]
     },
     "execution_count": 183,
     "metadata": {},
     "output_type": "execute_result"
    }
   ],
   "source": [
    "validate_dataset(ck12_combined_dataset)"
   ]
  },
  {
   "cell_type": "code",
   "execution_count": 184,
   "metadata": {
    "collapsed": false,
    "hidden": true,
    "run_control": {
     "frozen": false,
     "read_only": false
    }
   },
   "outputs": [
    {
     "data": {
      "text/plain": [
       "0"
      ]
     },
     "execution_count": 184,
     "metadata": {},
     "output_type": "execute_result"
    }
   ],
   "source": [
    "qs_rem = record_validation_errors(ck12_combined_dataset)\n",
    "len(qs_rem)"
   ]
  },
  {
   "cell_type": "markdown",
   "metadata": {
    "heading_collapsed": true,
    "hidden": true
   },
   "source": [
    "## remove recognition and localization errors"
   ]
  },
  {
   "cell_type": "code",
   "execution_count": 185,
   "metadata": {
    "collapsed": true,
    "hidden": true,
    "run_control": {
     "frozen": false,
     "read_only": false
    }
   },
   "outputs": [],
   "source": [
    "diagram_image_names = clean_list(recog_performed)\n",
    "\n",
    "rec_files = glob.glob(all_dir + '*/*')\n",
    "more_paths = glob.glob(all_dir + '*/*')\n",
    "pruned_paths = glob.glob(pruned_dir + '*/*')\n",
    "more_files = [fp.split('/')[-1] for fp in more_paths]\n",
    "pruned_files = [fp.split('/')[-1] for fp in pruned_paths]\n",
    "desc_paths = glob.glob(description_dir + '*/*')\n",
    "desc_files = [fp.split('/')[-1] for fp in desc_paths]\n",
    "\n",
    "\n",
    "pruned_nums = set([get_img_n(name) for name in pruned_files])\n",
    "all_nums = set([get_img_n(name) for name in more_files])\n",
    "rec_nums = set([get_img_n(name) for name in diagram_image_names])\n",
    "desc_nums = set([get_img_n(name) for name in desc_files])\n",
    "\n",
    "removed_images = all_nums.difference(pruned_nums.union(desc_nums))\n",
    "\n",
    "removed_image_names = []\n",
    "for img_n in removed_images:\n",
    "    for image_name in more_files:\n",
    "        if img_n == get_img_n(image_name):\n",
    "            removed_image_names.append(image_name)\n",
    "\n",
    "name_change_lookup = {}\n",
    "for image_name in more_files:\n",
    "    img_n = get_img_n(image_name)\n",
    "    for newer_name in pruned_files:\n",
    "        if img_n == get_img_n(newer_name) and newer_name != image_name:\n",
    "            name_change_lookup[image_name] = newer_name\n",
    "\n",
    "removed_image_names = sorted(removed_image_names)"
   ]
  },
  {
   "cell_type": "code",
   "execution_count": 186,
   "metadata": {
    "collapsed": true,
    "hidden": true,
    "run_control": {
     "frozen": false,
     "read_only": false
    }
   },
   "outputs": [],
   "source": [
    "blacklisted_topics = ['periodic_table', 'em_spectrum', 'hydrocarbons', 'geologic_time'] + ['lewis_dot_idapgrams', 'circuits']  # correct this mispelling in future round"
   ]
  },
  {
   "cell_type": "code",
   "execution_count": 187,
   "metadata": {
    "collapsed": false,
    "hidden": true,
    "run_control": {
     "frozen": false,
     "read_only": false
    }
   },
   "outputs": [
    {
     "data": {
      "text/plain": [
       "9"
      ]
     },
     "execution_count": 187,
     "metadata": {},
     "output_type": "execute_result"
    }
   ],
   "source": [
    "len(removed_image_names)"
   ]
  },
  {
   "cell_type": "markdown",
   "metadata": {
    "heading_collapsed": true
   },
   "source": [
    "# Add image annotations"
   ]
  },
  {
   "cell_type": "markdown",
   "metadata": {
    "heading_collapsed": true,
    "hidden": true
   },
   "source": [
    "## localization"
   ]
  },
  {
   "cell_type": "code",
   "execution_count": 188,
   "metadata": {
    "collapsed": false,
    "hidden": true,
    "run_control": {
     "frozen": false,
     "read_only": false
    }
   },
   "outputs": [
    {
     "data": {
      "text/html": [
       "<div>\n",
       "<table border=\"1\" class=\"dataframe\">\n",
       "  <thead>\n",
       "    <tr style=\"text-align: right;\">\n",
       "      <th></th>\n",
       "      <th>diagram</th>\n",
       "      <th>rectangle</th>\n",
       "      <th>hit_id</th>\n",
       "      <th>assignment_id</th>\n",
       "      <th>worker_id</th>\n",
       "    </tr>\n",
       "  </thead>\n",
       "  <tbody>\n",
       "    <tr>\n",
       "      <th>0</th>\n",
       "      <td>parts_cell_1182.png</td>\n",
       "      <td>[[283, 192], [447, 238]]</td>\n",
       "      <td>3SA4EMRVJV39U1MGLCYP6KPFULH0PX</td>\n",
       "      <td>3BDCF01OGXVJNV1XRULS5F5Z4B6LYG</td>\n",
       "      <td>A1017VP86SLXRB</td>\n",
       "    </tr>\n",
       "  </tbody>\n",
       "</table>\n",
       "</div>"
      ],
      "text/plain": [
       "               diagram                 rectangle  \\\n",
       "0  parts_cell_1182.png  [[283, 192], [447, 238]]   \n",
       "\n",
       "                           hit_id                   assignment_id  \\\n",
       "0  3SA4EMRVJV39U1MGLCYP6KPFULH0PX  3BDCF01OGXVJNV1XRULS5F5Z4B6LYG   \n",
       "\n",
       "        worker_id  \n",
       "0  A1017VP86SLXRB  "
      ]
     },
     "execution_count": 188,
     "metadata": {},
     "output_type": "execute_result"
    }
   ],
   "source": [
    "loc_res_df.head(1)"
   ]
  },
  {
   "cell_type": "code",
   "execution_count": 189,
   "metadata": {
    "collapsed": false,
    "hidden": true,
    "run_control": {
     "frozen": false,
     "read_only": false
    }
   },
   "outputs": [
    {
     "data": {
      "text/plain": [
       "142"
      ]
     },
     "execution_count": 189,
     "metadata": {},
     "output_type": "execute_result"
    }
   ],
   "source": [
    "loc_anno = clean_list(os.path.join(turk_proc_dir, box_loc_joined))\n",
    "loc_anno_images = [fig.split('.json')[0]  for fig in loc_anno]\n",
    "keep_figures = [fig for fig in loc_anno_images if fig not in removed_image_names]\n",
    "\n",
    "loc_box_path = os.path.join(turk_proc_dir, box_loc_joined)\n",
    "\n",
    "diag_loc_annotations = {}\n",
    "for diagram_name in keep_figures:\n",
    "    anno_file_path = os.path.join(loc_box_path, diagram_name + '.json')\n",
    "    if not os.path.exists(anno_file_path):\n",
    "        diagram_name = diagram_name.replace('optics_rays', 'optics_ray_diagrams')\n",
    "        anno_file_path = os.path.join(loc_box_path, diagram_name  + '.json')\n",
    "    with open(anno_file_path, 'r') as f:\n",
    "        diag_loc_annotations[diagram_name] = json.load(f)\n",
    "\n",
    "combined_master_file_list = pruned_files + desc_files\n",
    "combined_master_file_list_whitelisted = [file for file in combined_master_file_list if file in keep_figures]\n",
    "files_still_needing_localisation = sorted(list(set(combined_master_file_list).difference(set(diag_loc_annotations))))\n",
    "len(files_still_needing_localisation)"
   ]
  },
  {
   "cell_type": "markdown",
   "metadata": {
    "heading_collapsed": true,
    "hidden": true
   },
   "source": [
    "## recognition"
   ]
  },
  {
   "cell_type": "markdown",
   "metadata": {
    "heading_collapsed": true,
    "hidden": true
   },
   "source": [
    "### code"
   ]
  },
  {
   "cell_type": "code",
   "execution_count": 190,
   "metadata": {
    "collapsed": true,
    "hidden": true,
    "run_control": {
     "frozen": false,
     "read_only": false
    }
   },
   "outputs": [],
   "source": [
    "def most_common_strict(image_response):\n",
    "    \"\"\"\n",
    "    returns the consensus response of the three raw response strings for a given image\n",
    "    \"\"\"\n",
    "    most_common = image_response[1]['raw_text'].mode()\n",
    "    if most_common.empty:\n",
    "        most_common = 'nonconsensus'\n",
    "        noncon.append(image_response[1]['raw_text'])\n",
    "    else:\n",
    "        most_common = most_common.values[0]\n",
    "    return most_common\n",
    "\n",
    "def most_common_lax(image_response, strings_denoting_missing_image=[]):\n",
    "    \"\"\"\n",
    "    returns the consensus response after stripping white space and converting the reponses to lower case\n",
    "    \"\"\"\n",
    "    simple_sanitizer = lambda x : x.lower().strip().lstrip()\n",
    "    ind_responses = image_response[1]['raw_text'].values\n",
    "    probobly_blanks = [response for response in ind_responses if response in strings_denoting_missing_image]\n",
    "    if probobly_blanks:\n",
    "        return 'skip'\n",
    "    most_common = image_response[1]['raw_text'].apply(simple_sanitizer).mode()\n",
    "    if most_common.empty:\n",
    "        most_common = 'no consensus'\n",
    "        noncon[image_response[0][0]].extend(image_response[1]['raw_text'])\n",
    "    else:\n",
    "        most_common = most_common.values[0]\n",
    "    return most_common\n",
    "\n",
    "def find_transcriptions_matches(batch_results_df, response_matcher):\n",
    "    \"\"\"\n",
    "    returns a pandas series with the consunsus response for each image\n",
    "    \"\"\"\n",
    "    agreed_responses = pd.DataFrame()\n",
    "    for image_response in batch_results_df.groupby(['diagram', 'box_diag_idx']):\n",
    "        diagram_and_idx = image_response[0]\n",
    "        most_common = response_matcher(image_response, strings_denoting_missing_image=[])\n",
    "        if most_common == 'skip':\n",
    "            continue\n",
    "        this_row = pd.DataFrame(list(diagram_and_idx) + [most_common, image_response[1]['rectangle'].iloc[0], image_response[1]['assignment_id'].iloc[0]]).T\n",
    "        agreed_responses = pd.concat([agreed_responses, this_row])\n",
    "        # The reindex below is needed to match the original df index after the groupby operation\n",
    "    agreed_responses.columns = ['diagram', 'box_diag_idx', 'consensus_res', 'rectangle', 'assignment_id']\n",
    "    return agreed_responses"
   ]
  },
  {
   "cell_type": "markdown",
   "metadata": {
    "heading_collapsed": true,
    "hidden": true
   },
   "source": [
    "### run"
   ]
  },
  {
   "cell_type": "code",
   "execution_count": 191,
   "metadata": {
    "collapsed": false,
    "hidden": true,
    "run_control": {
     "frozen": false,
     "read_only": false
    }
   },
   "outputs": [
    {
     "data": {
      "text/plain": [
       "2190"
      ]
     },
     "execution_count": 191,
     "metadata": {},
     "output_type": "execute_result"
    }
   ],
   "source": [
    "recog_performed_on = set(pd.unique(recog_res_df['diagram']).tolist())\n",
    "len(recog_performed_on)"
   ]
  },
  {
   "cell_type": "code",
   "execution_count": 192,
   "metadata": {
    "collapsed": false,
    "hidden": true,
    "run_control": {
     "frozen": false,
     "read_only": false
    }
   },
   "outputs": [
    {
     "name": "stdout",
     "output_type": "stream",
     "text": [
      "131\n",
      "7\n"
     ]
    }
   ],
   "source": [
    "files_still_needing_recognition = sorted(list(set(pruned_files).difference(set(recog_performed_on))))\n",
    "print(len(files_still_needing_recognition))\n",
    "file_with_loc_no_recog = set(files_still_needing_recognition).difference(files_still_needing_localisation)\n",
    "print(len(file_with_loc_no_recog))"
   ]
  },
  {
   "cell_type": "code",
   "execution_count": 193,
   "metadata": {
    "collapsed": true,
    "hidden": true,
    "run_control": {
     "frozen": false,
     "read_only": false
    }
   },
   "outputs": [],
   "source": [
    "noncon = defaultdict(list)\n",
    "transcription_results_lax = find_transcriptions_matches(recog_res_df, most_common_lax)"
   ]
  },
  {
   "cell_type": "code",
   "execution_count": 194,
   "metadata": {
    "collapsed": false,
    "hidden": true,
    "run_control": {
     "frozen": false,
     "read_only": false
    }
   },
   "outputs": [],
   "source": [
    "noncon_entries = [entries for entries in noncon.values()]\n",
    "flattened_noncon = [item for sublist in noncon_entries for item in sublist]"
   ]
  },
  {
   "cell_type": "code",
   "execution_count": 195,
   "metadata": {
    "collapsed": false,
    "hidden": true,
    "run_control": {
     "frozen": false,
     "read_only": false
    }
   },
   "outputs": [],
   "source": [
    "curated_no_image_strings = set(['*no image showing*', '', ' ', 'NA', '?', 'na', '0', 'No image found', 'blank', 'Nothing showing', \"where is the images , i can't see anything\", 'NO IMAGE', ''])"
   ]
  },
  {
   "cell_type": "code",
   "execution_count": 196,
   "metadata": {
    "collapsed": false,
    "hidden": true,
    "run_control": {
     "frozen": false,
     "read_only": false
    }
   },
   "outputs": [
    {
     "name": "stdout",
     "output_type": "stream",
     "text": [
      "408\n",
      "99\n"
     ]
    }
   ],
   "source": [
    "non_blank_no_consensus = {d_name: rec_res for d_name, rec_res in noncon.items() if not curated_no_image_strings.intersection(set(rec_res))}\n",
    "blank_no_consensus = {d_name: rec_res for d_name, rec_res in noncon.items() if curated_no_image_strings.intersection(set(rec_res))}\n",
    "print(len(non_blank_no_consensus))\n",
    "print(len(blank_no_consensus))"
   ]
  },
  {
   "cell_type": "code",
   "execution_count": 197,
   "metadata": {
    "collapsed": false,
    "hidden": true,
    "run_control": {
     "frozen": false,
     "read_only": false
    }
   },
   "outputs": [],
   "source": [
    "flattened_noncon_no_blank = [item for sublist in non_blank_no_consensus.values() for item in sublist]\n",
    "build_diagram_rec_corpus  = [words.split() for words in transcription_results_lax['consensus_res'].values.tolist()]\n",
    "diagram_rec_corpus = set([item.lower().strip() for sublist in build_diagram_rec_corpus for item in sublist if item.isalpha() and len(item) > 3])"
   ]
  },
  {
   "cell_type": "markdown",
   "metadata": {
    "heading_collapsed": true,
    "hidden": true
   },
   "source": [
    "### hide"
   ]
  },
  {
   "cell_type": "code",
   "execution_count": 198,
   "metadata": {
    "collapsed": false,
    "hidden": true,
    "run_control": {
     "frozen": false,
     "read_only": false
    }
   },
   "outputs": [],
   "source": [
    "# with open('diagram_rec_corp.pkl', 'wb') as f:\n",
    "#     pickle.dump(diagram_rec_corpus, f)"
   ]
  },
  {
   "cell_type": "code",
   "execution_count": 199,
   "metadata": {
    "collapsed": false,
    "hidden": true,
    "run_control": {
     "frozen": false,
     "read_only": false
    }
   },
   "outputs": [],
   "source": [
    "# strings_denoting_missing_image = list(pd.Series(flattened_noncon).value_counts()[:20].index)\n",
    "# Image.open('../ai2-vision-textbook-dataset/diagrams/turk_data/optics_ray_diagrams_9170.png')"
   ]
  },
  {
   "cell_type": "code",
   "execution_count": 200,
   "metadata": {
    "collapsed": false,
    "hidden": true,
    "run_control": {
     "frozen": false,
     "read_only": false
    }
   },
   "outputs": [
    {
     "data": {
      "text/plain": [
       "4073"
      ]
     },
     "execution_count": 200,
     "metadata": {},
     "output_type": "execute_result"
    }
   ],
   "source": [
    "len(diagram_rec_corpus)"
   ]
  },
  {
   "cell_type": "markdown",
   "metadata": {},
   "source": [
    "# Integrate diagram questions and descriptions"
   ]
  },
  {
   "cell_type": "markdown",
   "metadata": {
    "heading_collapsed": true
   },
   "source": [
    "## match diagram topics to lessons"
   ]
  },
  {
   "cell_type": "markdown",
   "metadata": {
    "hidden": true
   },
   "source": [
    "first need to match diagram topics to flexbook lessons"
   ]
  },
  {
   "cell_type": "markdown",
   "metadata": {
    "heading_collapsed": true,
    "hidden": true
   },
   "source": [
    "### code"
   ]
  },
  {
   "cell_type": "code",
   "execution_count": 201,
   "metadata": {
    "collapsed": false,
    "hidden": true,
    "run_control": {
     "frozen": false,
     "read_only": false
    }
   },
   "outputs": [],
   "source": [
    "def make_topic_matches(topic_list, combined_topics):\n",
    "    topic_matches = {}\n",
    "    for diagram_topic in topic_list:\n",
    "        topic_matches[diagram_topic] = []\n",
    "        for terms in topic_term_match[diagram_topic]:\n",
    "            lev_dist_threshed = [topic for topic in combined_topics.keys() if fuzz.ratio(topic, terms) > 85]\n",
    "            topic_matches[diagram_topic] += lev_dist_threshed\n",
    "        if not topic_matches[diagram_topic]:\n",
    "                for terms in topic_term_match[diagram_topic]:\n",
    "                    lev_dist_threshed = [topic for topic in combined_topics.keys() if fuzz.token_set_ratio(topic, terms) > 80]\n",
    "                    topic_matches[diagram_topic] += lev_dist_threshed\n",
    "    return topic_matches\n",
    "\n",
    "def make_lesson_matches(ck12_dataset, diagram_topic_name, topic_matches):\n",
    "    lesson_matches = defaultdict(list)\n",
    "    lessons_seen = set()\n",
    "    content_topics =  topic_matches[diagram_topic_name]\n",
    "    for topic in sorted(content_topics):\n",
    "        associated_lesson =combined_topics[topic]['lesson']\n",
    "        if associated_lesson not in lessons_seen:\n",
    "            lessons_seen.add(associated_lesson)\n",
    "            lesson_matches[diagram_topic_name].append(associated_lesson)\n",
    "    return dict(lesson_matches)"
   ]
  },
  {
   "cell_type": "markdown",
   "metadata": {
    "heading_collapsed": true,
    "hidden": true
   },
   "source": [
    "### run"
   ]
  },
  {
   "cell_type": "markdown",
   "metadata": {
    "hidden": true
   },
   "source": [
    "The pruned directory is the tqa 0.91 set assmbled by Ani on Sept 27th. It should be treated as definitive"
   ]
  },
  {
   "cell_type": "code",
   "execution_count": 202,
   "metadata": {
    "collapsed": true,
    "hidden": true,
    "run_control": {
     "frozen": false,
     "read_only": false
    }
   },
   "outputs": [],
   "source": [
    "diagram_topic_list = clean_list(pruned_dir)"
   ]
  },
  {
   "cell_type": "code",
   "execution_count": 203,
   "metadata": {
    "collapsed": true,
    "hidden": true,
    "run_control": {
     "frozen": false,
     "read_only": false
    }
   },
   "outputs": [],
   "source": [
    "es_lesson_names = [item for sublist in [val['topics'].keys() for val in ck12_combined_dataset['earth-science'].values()] for item in sublist]\n",
    "ps_lesson_names = [item for sublist in [val['topics'].keys() for val in ck12_combined_dataset['physical-science'].values()] for item in sublist]\n",
    "ls_lesson_names = [item for sublist in [val['topics'].keys() for val in ck12_combined_dataset['life-science'].values()] for item in sublist]\n",
    "\n",
    "combined_lessons = es_lesson_names + ps_lesson_names + ls_lesson_names\n",
    "topic_series = pd.Series(combined_lessons).value_counts()\n",
    "# the 17 here found by inspection- any \"topic\" appearing many times is something general like review, vocab, etc\n",
    "topics_to_remove = list(topic_series[:17].index)"
   ]
  },
  {
   "cell_type": "code",
   "execution_count": 204,
   "metadata": {
    "collapsed": true,
    "hidden": true,
    "run_control": {
     "frozen": false,
     "read_only": false
    }
   },
   "outputs": [],
   "source": [
    "combined_topics = defaultdict(dict)\n",
    "for subject, book in ck12_combined_dataset.items():\n",
    "    for lesson, material in book.items():\n",
    "        for topic, text in material['topics'].items():\n",
    "            if topic in topics_to_remove:\n",
    "                continue\n",
    "            combined_topics[topic.lower()]['lesson'] = lesson"
   ]
  },
  {
   "cell_type": "code",
   "execution_count": 205,
   "metadata": {
    "collapsed": false,
    "hidden": true,
    "run_control": {
     "frozen": false,
     "read_only": false
    }
   },
   "outputs": [],
   "source": [
    "topic_matches = make_topic_matches(diagram_topic_list, combined_topics)\n",
    "missing= []\n",
    "for k, v in topic_matches.items():\n",
    "    if not v:\n",
    "        missing.append(k)"
   ]
  },
  {
   "cell_type": "code",
   "execution_count": 206,
   "metadata": {
    "collapsed": false,
    "hidden": true,
    "run_control": {
     "frozen": false,
     "read_only": false
    }
   },
   "outputs": [],
   "source": [
    "matching_lessons = {}\n",
    "for topic in diagram_topic_list:\n",
    "    matched_lessons = make_lesson_matches(ck12_combined_dataset, topic, topic_matches)\n",
    "    matching_lessons.update(matched_lessons)"
   ]
  },
  {
   "cell_type": "code",
   "execution_count": 207,
   "metadata": {
    "collapsed": false,
    "hidden": true,
    "run_control": {
     "frozen": false,
     "read_only": false
    },
    "scrolled": true
   },
   "outputs": [],
   "source": [
    "diagram_lesson_lookup = {}\n",
    "for d_topic, lessons in matching_lessons.items():\n",
    "    diagram_lesson_lookup[d_topic] = sorted(lessons)[0]"
   ]
  },
  {
   "cell_type": "code",
   "execution_count": 208,
   "metadata": {
    "code_folding": [],
    "collapsed": true,
    "hidden": true,
    "run_control": {
     "frozen": false,
     "read_only": false
    }
   },
   "outputs": [],
   "source": [
    "#manually correct name changes made since diagrams were assembled\n",
    "diagram_lesson_lookup['lewis_dot_diagrams'] = diagram_lesson_lookup['lewis_dots']\n",
    "diagram_lesson_lookup['optics_ray_diagrams'] = diagram_lesson_lookup['optics_rays']"
   ]
  },
  {
   "cell_type": "markdown",
   "metadata": {
    "collapsed": true,
    "heading_collapsed": true,
    "hidden": true,
    "run_control": {
     "frozen": false,
     "read_only": false
    }
   },
   "source": [
    "### hide"
   ]
  },
  {
   "cell_type": "code",
   "execution_count": 209,
   "metadata": {
    "collapsed": true,
    "hidden": true,
    "run_control": {
     "frozen": false,
     "read_only": false
    }
   },
   "outputs": [],
   "source": [
    "lessons_seen = []\n",
    "dupe_lessons = []\n",
    "for k, v in diagram_lesson_lookup.items():\n",
    "    if v not in lessons_seen:\n",
    "        lessons_seen.append(v)\n",
    "    else:\n",
    "        dupe_lessons.append(v)"
   ]
  },
  {
   "cell_type": "code",
   "execution_count": 210,
   "metadata": {
    "collapsed": false,
    "hidden": true,
    "run_control": {
     "frozen": false,
     "read_only": false
    }
   },
   "outputs": [],
   "source": [
    "dupe_topics = defaultdict(list)\n",
    "for k, v in diagram_lesson_lookup.items():\n",
    "    if v in dupe_lessons:\n",
    "        dupe_topics[v].append(k)\n",
    "# dupe_topics"
   ]
  },
  {
   "cell_type": "code",
   "execution_count": 211,
   "metadata": {
    "collapsed": false,
    "hidden": true,
    "run_control": {
     "frozen": false,
     "read_only": false
    }
   },
   "outputs": [
    {
     "data": {
      "text/plain": [
       "[]"
      ]
     },
     "execution_count": 211,
     "metadata": {},
     "output_type": "execute_result"
    }
   ],
   "source": [
    "missing"
   ]
  },
  {
   "cell_type": "code",
   "execution_count": 212,
   "metadata": {
    "collapsed": false,
    "hidden": true,
    "run_control": {
     "frozen": false,
     "read_only": false
    }
   },
   "outputs": [
    {
     "name": "stdout",
     "output_type": "stream",
     "text": [
      "acid_rain_formation\n",
      "['22.2 Effects of Air Pollution']\n",
      "\n",
      "aquifers\n",
      "['13.3 Groundwater']\n",
      "\n",
      "atomic_mass_number\n",
      "['5.1 Inside the Atom', 'atomic number', 'plasma']\n",
      "\n",
      "atomic_structure\n",
      "['5.1 Inside the Atom']\n",
      "\n",
      "biomes\n",
      "['climate zones and biomes']\n",
      "\n",
      "blastocyst\n",
      "['22.3 Reproduction and Life Stages']\n",
      "\n",
      "cell_division\n",
      "['5.1 Cell Division']\n",
      "\n",
      "cellular_respiration\n",
      "['9.4 Biochemical Reactions']\n",
      "\n",
      "chemical_bonding_covalent\n",
      "['7.3 Covalent Bonds']\n",
      "\n",
      "chemical_bonding_ionic\n",
      "['7.2 Ionic Bonds']\n",
      "\n",
      "circuits\n",
      "['23.3 Electric Circuits']\n",
      "\n",
      "continental_drift\n",
      "['6.2 Continental Drift']\n",
      "\n",
      "convection_of_air\n",
      "['18.2 Transfer of Thermal Energy']\n",
      "\n",
      "cycle_carbon\n",
      "['18.2 Cycles of Matter']\n",
      "\n",
      "cycle_nitrogen\n",
      "['18.2 Cycles of Matter']\n",
      "\n",
      "cycle_rock\n",
      "['4.1 Types of Rocks', 'rocks and processes of the rock cycle']\n",
      "\n",
      "cycle_water\n",
      "['importance of the oceans']\n",
      "\n",
      "dna\n",
      "['nucleic acid classification']\n",
      "\n",
      "earth_day_night\n",
      "['rotation of earth']\n",
      "\n",
      "earth_eclipses\n",
      "['24.4 The Sun and the EarthMoon System']\n",
      "\n",
      "earth_magnetic_field\n",
      "['24.2 Earth as a Magnet']\n",
      "\n",
      "earth_moon_phases\n",
      "['24.4 The Sun and the EarthMoon System']\n",
      "\n",
      "earth_parts\n",
      "['6.1 Inside Earth']\n",
      "\n",
      "earth_poles\n",
      "['24.1 Planet Earth']\n",
      "\n",
      "electromagnetism\n",
      "['25.2 Using Electromagnetism']\n",
      "\n",
      "em_spectrum\n",
      "['21.3 The Electromagnetic Spectrum', '23.1 Telescopes', 'electromagnetic spectrum', 'radio waves']\n",
      "\n",
      "erosion\n",
      "['10.1 Erosion and Deposition by Flowing Water', '10.2 Erosion and Deposition by Waves', '10.3 Erosion and Deposition by Wind', '10.4 Erosion and Deposition by Glaciers', '19.1 Loss of Soil', 'avoiding soil loss', 'landforms from groundwater erosion and deposition', 'rocks and processes of the rock cycle', 'soil erosion']\n",
      "\n",
      "eukaryotic_cell_cycles\n",
      "['5.1 Cell Division']\n",
      "\n",
      "evaporation_and_sublimation\n",
      "['4.3 Changes of State']\n",
      "\n",
      "faults\n",
      "['7.1 Stress in Earths Crust']\n",
      "\n",
      "food_chains_webs\n",
      "['24.1 Flow of Energy']\n",
      "\n",
      "fossils\n",
      "['11.1 Fossils']\n",
      "\n",
      "fungi_reproduction\n",
      "['9.2 Fungi']\n",
      "\n",
      "geologic_time\n",
      "['7.4 History of Life on Earth']\n",
      "\n",
      "glaciers\n",
      "['10.4 Erosion and Deposition by Glaciers', 'glaciers']\n",
      "\n",
      "greenhouse_effect\n",
      "['greenhouse effect']\n",
      "\n",
      "hair_follicles\n",
      "['nails and hair']\n",
      "\n",
      "human_system_circulatory\n",
      "['18.1 Overview of the Cardiovascular System']\n",
      "\n",
      "human_system_digestive\n",
      "['17.3 The Digestive System']\n",
      "\n",
      "human_system_ear\n",
      "['20.2 The Senses']\n",
      "\n",
      "human_system_excretory\n",
      "['excretion']\n",
      "\n",
      "human_system_eye\n",
      "['22.3 Vision']\n",
      "\n",
      "human_system_immune\n",
      "['21.4 Immune System Defenses']\n",
      "\n",
      "human_system_muscular\n",
      "['16.4 The Muscular System']\n",
      "\n",
      "human_system_nervous\n",
      "['20.1 The Nervous System', 'central nervous system', 'diseases of the nervous system', 'injuries of the nervous system', 'keeping the nervous system healthy', 'nervous system', 'peripheral nervous system']\n",
      "\n",
      "human_system_reproductory\n",
      "['22.1 Male Reproductive System', '22.2 Female Reproductive System', '22.4 Reproductive System Health', 'female reproductive system', 'male reproductive system', 'reproductive system health']\n",
      "\n",
      "human_system_respiratory\n",
      "['19.1 The Respiratory System', 'respiratory system organs']\n",
      "\n",
      "hydrocarbons\n",
      "['9.2 Hydrocarbons', 'combustion reactions', 'hydrocarbons', 'saturated hydrocarbons', 'unsaturated hydrocarbons']\n",
      "\n",
      "isotopes\n",
      "['5.1 Inside the Atom']\n",
      "\n",
      "layers_of_atmosphere\n",
      "['15.3 Layers of the Atmosphere']\n",
      "\n",
      "lewis_dots\n",
      "['7.1 Introduction to Chemical Bonds']\n",
      "\n",
      "life_cycles\n",
      "['12.4 Insects and Other Arthropods']\n",
      "\n",
      "muscle_fiber\n",
      "['16.4 The Muscular System', 'muscles and exercise']\n",
      "\n",
      "nuclear_energy\n",
      "['11.3 Nuclear Energy']\n",
      "\n",
      "ocean_currents\n",
      "['surface ocean currents']\n",
      "\n",
      "ocean_waves\n",
      "['14.2 Ocean Movements', '19.1 Characteristics of Waves', 'gamma rays', 'seismic waves']\n",
      "\n",
      "ocean_zones\n",
      "['14.1 Introduction to the Oceans']\n",
      "\n",
      "optics_lense_types\n",
      "['22.2 Optics']\n",
      "\n",
      "optics_rays\n",
      "['22.2 Optics']\n",
      "\n",
      "optics_reflection\n",
      "['22.2 Optics']\n",
      "\n",
      "optics_refraction\n",
      "['22.2 Optics']\n",
      "\n",
      "ozone_formation\n",
      "['22.1 Air Pollution']\n",
      "\n",
      "parts_cell\n",
      "['3.2 Cell Structures', '4.1 Transport', 'cell transport']\n",
      "\n",
      "parts_chordate_body\n",
      "['12.5 Echinoderms and Invertebrate Chordates', 'chordates']\n",
      "\n",
      "parts_fish\n",
      "['13.2 Fish']\n",
      "\n",
      "parts_flower\n",
      "['10.2 Evolution and Classification of Plants']\n",
      "\n",
      "parts_leaf\n",
      "['10.1 Introduction to Plants']\n",
      "\n",
      "parts_microscope\n",
      "['1.4 The Microscope', 'microscopes', 'optical instruments']\n",
      "\n",
      "parts_neuron\n",
      "['20.1 The Nervous System']\n",
      "\n",
      "parts_ocean_floor\n",
      "['14.3 The Ocean Floor']\n",
      "\n",
      "parts_plant\n",
      "['10.1 Introduction to Plants', '10.2 Evolution and Classification of Plants', '10.3 Plant Responses and Special Adaptations', '14.2 Mammals', '5.2 Nonrenewable Energy Resources', '5.3 Renewable Energy Resources', '6.2 Continental Drift', '9.1 Weathering', 'chemical weathering', 'electrical grid', 'fungi classification', 'nonvascular plants', 'reproduction in seedless plants', 'seeds and seed dispersal', 'symbiotic relationships of fungi', 'types of marine organisms', 'vascular seedless plants']\n",
      "\n",
      "parts_seed\n",
      "['10.2 Evolution and Classification of Plants']\n",
      "\n",
      "parts_skeleton\n",
      "['16.3 The Skeletal System']\n",
      "\n",
      "parts_telescope\n",
      "['22.2 Optics', 'optical instruments']\n",
      "\n",
      "parts_worm\n",
      "['12.2 Flatworms and Roundworms', 'flatworms']\n",
      "\n",
      "periodic_table\n",
      "['6.1 How Elements Are Organized']\n",
      "\n",
      "phagocytosis\n",
      "['21.3 First Two Lines of Defense']\n",
      "\n",
      "photosynthesis\n",
      "['4.2 Photosynthesis']\n",
      "\n",
      "protozoa\n",
      "['9.1 Protists']\n",
      "\n",
      "radioactive_decay\n",
      "['11.3 Absolute Ages of Rocks']\n",
      "\n",
      "rain_shadow\n",
      "['17.1 Climate and Its Causes']\n",
      "\n",
      "seafloor_spreading\n",
      "['magnetic evidence for seafloor spreading']\n",
      "\n",
      "seasons\n",
      "['24.1 Planet Earth']\n",
      "\n",
      "seismic_waves\n",
      "['6.1 Inside Earth']\n",
      "\n",
      "simple_machines\n",
      "['16.3 Simple Machines']\n",
      "\n",
      "skin_cross_section\n",
      "['16.2 The Integumentary System']\n",
      "\n",
      "soil_horizons\n",
      "['processes of the water cycle', 'soil horizons and profiles']\n",
      "\n",
      "solar_system\n",
      "['25.1 Introduction to the Solar System']\n",
      "\n",
      "state_change\n",
      "['4.3 Changes of State']\n",
      "\n",
      "states_of_matter\n",
      "['4.1 Solids Liquids Gases and Plasmas', 'kinetic theory of matter', 'solutions', 'states of water']\n",
      "\n",
      "stratigraphy\n",
      "['11.2 Relative Ages of Rocks']\n",
      "\n",
      "sun_layers\n",
      "['24.3 The Sun']\n",
      "\n",
      "tectonic_plates\n",
      "['6.4 Theory of Plate Tectonics']\n",
      "\n",
      "tectonic_plates_motion\n",
      "['6.4 Theory of Plate Tectonics', 'venus']\n",
      "\n",
      "tides\n",
      "['14.2 Ocean Movements']\n",
      "\n",
      "types_cells\n",
      "['3.1 Lifes Building Blocks']\n",
      "\n",
      "types_clouds\n",
      "['clouds']\n",
      "\n",
      "types_leaves\n",
      "['10.1 Introduction to Plants']\n",
      "\n",
      "velocity_time_graphs\n",
      "['12.3 Acceleration']\n",
      "\n",
      "volcanoes\n",
      "['8.3 Types of Volcanoes']\n",
      "\n",
      "waves\n",
      "['19.2 Measuring Waves']\n",
      "\n",
      "waves_interactions_interference\n",
      "['19.3 Wave Interactions and Interference']\n",
      "\n"
     ]
    }
   ],
   "source": [
    "len(diagram_lesson_lookup.keys())\n",
    "\n",
    "len(set(diagram_lesson_lookup.values()))\n",
    "\n",
    "for k, v in sorted(matching_lessons.items()):\n",
    "    print(k)\n",
    "    print(sorted(v))\n",
    "    print()"
   ]
  },
  {
   "cell_type": "code",
   "execution_count": 213,
   "metadata": {
    "collapsed": false,
    "hidden": true,
    "run_control": {
     "frozen": false,
     "read_only": false
    }
   },
   "outputs": [],
   "source": [
    "# pprint.pprint(dict(dupe_topics))"
   ]
  },
  {
   "cell_type": "markdown",
   "metadata": {
    "heading_collapsed": true
   },
   "source": [
    "## merge questions"
   ]
  },
  {
   "cell_type": "markdown",
   "metadata": {
    "heading_collapsed": true,
    "hidden": true
   },
   "source": [
    "### code"
   ]
  },
  {
   "cell_type": "code",
   "execution_count": 214,
   "metadata": {
    "code_folding": [],
    "collapsed": false,
    "hidden": true,
    "run_control": {
     "frozen": false,
     "read_only": false
    }
   },
   "outputs": [],
   "source": [
    "dq_image_folder = 'diagram-question-images/'\n",
    "td_image_folder = 'diagram-teaching-images/'\n",
    "\n",
    "def make_question_entry(qdf_row):\n",
    "    ask = qdf_row[qdf_row.index == '03_write_question'].values[0]\n",
    "    answer = qdf_row[qdf_row.index == '04_write_right_answer'].values[0]\n",
    "    wrong_answers = qdf_row[qdf_row.index == 'wac_list'].values[0]\n",
    "    q_topic = qdf_row[qdf_row.index == 'lesson_assigned_to'].values[0]\n",
    "    image_uri = qdf_row[qdf_row.index == 's3_uri'].values[0]\n",
    "    image_name = qdf_row[qdf_row.index == 'diagram'].values[0]\n",
    "    \n",
    "    def make_answer_choices(answer_choices):\n",
    "        build_answer_choices = {}\n",
    "        letter_options = list('abcd')\n",
    "        random.shuffle(answer_choices)\n",
    "        for idx, answer_choice in enumerate(answer_choices):\n",
    "            answer_choice_dict = {\n",
    "                \"idStructural\": letter_options[idx] + '.',\n",
    "                \"rawText\": answer_choice,\n",
    "                \"processedText\": answer_choice\n",
    "            }\n",
    "            build_answer_choices[letter_options[idx]] = answer_choice_dict\n",
    "        return build_answer_choices\n",
    "    a_choices = make_answer_choices(wrong_answers + [answer])\n",
    "    single_q_dict = {\n",
    "        \"id\": 'q',\n",
    "        \"type\": \n",
    "            \"Diagram Multiple Choice\",\n",
    "        \"beingAsked\": {\n",
    "            \"rawText\": ask,\n",
    "            \"processedText\": ask.encode('ascii', 'ignore').decode('utf-8')\n",
    "        },\n",
    "        \"correctAnswer\": {\n",
    "            \"rawText\": answer,\n",
    "            \"processedText\": answer.encode('ascii', 'ignore').decode('utf-8')\n",
    "        },\n",
    "        \"answerChoices\": a_choices,\n",
    "        \"imageUri\": image_uri,\n",
    "        \"imageName\": image_name\n",
    "    }\n",
    "    build_questions[q_topic].append(single_q_dict)\n",
    "    \n",
    "    \n",
    "def refine_question_formats(raw_questions):\n",
    "    reformatted_dq_ds = {}\n",
    "    for topic, topic_questions in raw_questions.items():\n",
    "        reformatted_topic = {topic: {'questions': {'diagramQuestions': {}}}}\n",
    "        reformatted_questions = {}\n",
    "        for idx, question in enumerate(topic_questions):\n",
    "            question = deepcopy(question)\n",
    "            question['id'] += str(idx + 1).zfill(4)\n",
    "            reformatted_questions[question['id']] = question\n",
    "        reformatted_topic[topic]['questions']['diagramQuestions'] = reformatted_questions\n",
    "        reformatted_dq_ds.update(reformatted_topic)\n",
    "    return reformatted_dq_ds\n",
    "\n",
    "s3_base = 'https://s3.amazonaws.com/ai2-vision-textbook-dataset/diagrams/' + dq_image_folder\n",
    "s3_base_descriptions = 'https://s3.amazonaws.com/ai2-vision-textbook-dataset/diagrams/' + td_image_folder\n",
    "\n",
    "def make_image_link(old_url, s3_base=s3_base):\n",
    "    image_name = old_url.split('/')[-1]\n",
    "    new_url = s3_base + image_name\n",
    "    return new_url"
   ]
  },
  {
   "cell_type": "markdown",
   "metadata": {
    "heading_collapsed": true,
    "hidden": true
   },
   "source": [
    "### run"
   ]
  },
  {
   "cell_type": "code",
   "execution_count": 215,
   "metadata": {
    "collapsed": false,
    "hidden": true,
    "run_control": {
     "frozen": false,
     "read_only": false
    }
   },
   "outputs": [],
   "source": [
    "dr_proc_df['s3_uri'] = dr_proc_df['reference_id'].apply(make_image_link)\n",
    "dr_proc_df['lesson_assigned_to'] = dr_proc_df['topic'].apply(lambda x: diagram_lesson_lookup[x])"
   ]
  },
  {
   "cell_type": "code",
   "execution_count": 216,
   "metadata": {
    "collapsed": false,
    "hidden": true,
    "run_control": {
     "frozen": false,
     "read_only": false
    },
    "scrolled": true
   },
   "outputs": [],
   "source": [
    "build_questions = defaultdict(list)\n",
    "_ = dr_proc_df.apply(make_question_entry, axis=1)"
   ]
  },
  {
   "cell_type": "code",
   "execution_count": 217,
   "metadata": {
    "collapsed": false,
    "hidden": true,
    "run_control": {
     "frozen": false,
     "read_only": false
    }
   },
   "outputs": [],
   "source": [
    "refined_questions = refine_question_formats(build_questions)"
   ]
  },
  {
   "cell_type": "code",
   "execution_count": 218,
   "metadata": {
    "collapsed": false,
    "hidden": true,
    "run_control": {
     "frozen": false,
     "read_only": false
    }
   },
   "outputs": [],
   "source": [
    "for subject, lessons in ck12_combined_dataset.items():\n",
    "    for l_name, lesson in lessons.items():\n",
    "        if l_name in refined_questions.keys():        \n",
    "            lesson['questions']['diagramQuestions'] = refined_questions[l_name]['questions']['diagramQuestions']\n",
    "        else:\n",
    "            lesson['questions']['diagramQuestions']  = {}"
   ]
  },
  {
   "cell_type": "markdown",
   "metadata": {
    "heading_collapsed": true,
    "hidden": true
   },
   "source": [
    "### hide"
   ]
  },
  {
   "cell_type": "code",
   "execution_count": 219,
   "metadata": {
    "collapsed": false,
    "hidden": true,
    "run_control": {
     "frozen": false,
     "read_only": false
    }
   },
   "outputs": [
    {
     "data": {
      "text/plain": [
       "dict_keys(['diagramQuestions'])"
      ]
     },
     "execution_count": 219,
     "metadata": {},
     "output_type": "execute_result"
    }
   ],
   "source": [
    "refined_questions = dict(refine_question_formats(build_questions))\n",
    "\n",
    "refined_questions['10.4 Erosion and Deposition by Glaciers']['questions'].keys()"
   ]
  },
  {
   "cell_type": "code",
   "execution_count": 220,
   "metadata": {
    "collapsed": false,
    "hidden": true,
    "run_control": {
     "frozen": false,
     "read_only": false
    }
   },
   "outputs": [],
   "source": [
    "refined_questions['10.4 Erosion and Deposition by Glaciers']\n",
    "\n",
    "len(ck12_combined_dataset['earth-science']['10.4 Erosion and Deposition by Glaciers']['questions']['diagramQuestions'])\n",
    "\n",
    "len(ck12_combined_dataset['earth-science']['10.4 Erosion and Deposition by Glaciers']['questions']['nonDiagramQuestions'])\n",
    "\n",
    "val_counts=dr_proc_df['lesson_assigned_to'].value_counts()"
   ]
  },
  {
   "cell_type": "code",
   "execution_count": 221,
   "metadata": {
    "collapsed": false,
    "hidden": true,
    "run_control": {
     "frozen": false,
     "read_only": false
    }
   },
   "outputs": [
    {
     "data": {
      "text/plain": [
       "10.1 Introduction to Plants                     1146\n",
       "24.1 Flow of Energy                             1006\n",
       "3.2 Cell Structures                              916\n",
       "12.4 Insects and Other Arthropods                719\n",
       "17.3 The Digestive System                        569\n",
       "6.1 Inside Earth                                 405\n",
       "24.4 The Sun and the EarthMoon System            389\n",
       "24.1 Planet Earth                                361\n",
       "20.1 The Nervous System                          337\n",
       "19.1 The Respiratory System                      291\n",
       "10.2 Evolution and Classification of Plants      281\n",
       "22.3 Vision                                      267\n",
       "8.3 Types of Volcanoes                           213\n",
       "25.1 Introduction to the Solar System            197\n",
       "22.2 Optics                                      195\n",
       "11.3 Nuclear Energy                              192\n",
       "18.1 Overview of the Cardiovascular System       181\n",
       "4.2 Photosynthesis                               177\n",
       "22.1 Male Reproductive System                    165\n",
       "5.1 Inside the Atom                              164\n",
       "23.3 Electric Circuits                           163\n",
       "4.3 Changes of State                             147\n",
       "16.4 The Muscular System                         147\n",
       "9.1 Protists                                     145\n",
       "14.2 Ocean Movements                             142\n",
       "1.4 The Microscope                               136\n",
       "importance of the oceans                         120\n",
       "6.4 Theory of Plate Tectonics                    120\n",
       "5.1 Cell Division                                117\n",
       "excretion                                        111\n",
       "                                                ... \n",
       "17.1 Climate and Its Causes                       59\n",
       "14.1 Introduction to the Oceans                   54\n",
       "22.3 Reproduction and Life Stages                 53\n",
       "15.3 Layers of the Atmosphere                     53\n",
       "21.3 First Two Lines of Defense                   53\n",
       "7.4 History of Life on Earth                      50\n",
       "3.1 Lifes Building Blocks                         49\n",
       "7.3 Covalent Bonds                                45\n",
       "12.3 Acceleration                                 45\n",
       "rotation of earth                                 44\n",
       "9.2 Hydrocarbons                                  44\n",
       "24.2 Earth as a Magnet                            43\n",
       "9.4 Biochemical Reactions                         41\n",
       "7.1 Introduction to Chemical Bonds                39\n",
       "10.1 Erosion and Deposition by Flowing Water      38\n",
       "9.2 Fungi                                         37\n",
       "21.3 The Electromagnetic Spectrum                 35\n",
       "14.3 The Ocean Floor                              35\n",
       "25.2 Using Electromagnetism                       34\n",
       "greenhouse effect                                 34\n",
       "10.4 Erosion and Deposition by Glaciers           33\n",
       "18.2 Transfer of Thermal Energy                   33\n",
       "surface ocean currents                            30\n",
       "11.1 Fossils                                      28\n",
       "19.3 Wave Interactions and Interference           26\n",
       "magnetic evidence for seafloor spreading          25\n",
       "22.2 Effects of Air Pollution                     25\n",
       "11.2 Relative Ages of Rocks                       24\n",
       "7.2 Ionic Bonds                                   21\n",
       "22.1 Air Pollution                                19\n",
       "Name: lesson_assigned_to, dtype: int64"
      ]
     },
     "execution_count": 221,
     "metadata": {},
     "output_type": "execute_result"
    }
   ],
   "source": [
    "val_counts"
   ]
  },
  {
   "cell_type": "markdown",
   "metadata": {
    "heading_collapsed": true
   },
   "source": [
    "## merge descriptions"
   ]
  },
  {
   "cell_type": "code",
   "execution_count": 222,
   "metadata": {
    "collapsed": false,
    "hidden": true,
    "run_control": {
     "frozen": false,
     "read_only": false
    }
   },
   "outputs": [],
   "source": [
    "def make_description_entry(qdf_row):\n",
    "    description = qdf_row[qdf_row.index == 'Description'].values[0]\n",
    "    q_topic = qdf_row[qdf_row.index == 'lesson_assigned_to'].values[0]\n",
    "    image_uri = qdf_row[qdf_row.index == 's3_uri'].values[0]\n",
    "    image_name = qdf_row[qdf_row.index == 'diagram'].values[0]\n",
    "    image_key = image_name.replace('.png', '')\n",
    "    single_desc_dict = {\n",
    "        \"imageUri\": image_uri,\n",
    "        \"imageName\": image_name,\n",
    "        \"rawText\": description,\n",
    "        \"processedText\": description.encode('ascii', 'ignore').decode('utf-8')\n",
    "        }\n",
    "    if image_key not in build_descriptions[q_topic].keys():\n",
    "        build_descriptions[q_topic].update({image_key: single_desc_dict})\n",
    "    # I've found the longest description is usually best\n",
    "    elif len(single_desc_dict['processedText']) > len(build_descriptions[q_topic][image_key]['processedText']):\n",
    "        build_descriptions[q_topic].update({image_key: single_desc_dict})"
   ]
  },
  {
   "cell_type": "code",
   "execution_count": 223,
   "metadata": {
    "collapsed": false,
    "hidden": true,
    "run_control": {
     "frozen": false,
     "read_only": false
    },
    "scrolled": true
   },
   "outputs": [],
   "source": [
    "%%capture\n",
    "ai2_written_df_completed['lesson_assigned_to'] = ai2_written_df_completed['topic'].apply(lambda x: diagram_lesson_lookup[x])\n",
    "ai2_written_df_completed['s3_uri'] = ai2_written_df_completed['Image Path'].apply(make_image_link)\n",
    "ai2_written_df_completed = ai2_written_df_completed.dropna()\n",
    "\n",
    "desc_df['topic'] = desc_df['diagram'].apply(lambda x: x.rsplit('_', maxsplit=1)[0])\n",
    "desc_df['lesson_assigned_to'] = desc_df['topic'].apply(lambda x: diagram_lesson_lookup[x])\n",
    "desc_df['s3_uri'] = desc_df['reference_id'].apply(make_image_link)\n",
    "desc_df['Description'] = desc_df['01_write_description']             "
   ]
  },
  {
   "cell_type": "code",
   "execution_count": 224,
   "metadata": {
    "collapsed": false,
    "hidden": true,
    "run_control": {
     "frozen": false,
     "read_only": false
    }
   },
   "outputs": [],
   "source": [
    "build_descriptions = defaultdict(dict)\n",
    "_ = desc_df.apply(make_description_entry, axis=1)\n",
    "_ = ai2_written_df_completed.apply(make_description_entry, axis=1)"
   ]
  },
  {
   "cell_type": "code",
   "execution_count": 225,
   "metadata": {
    "collapsed": true,
    "hidden": true,
    "run_control": {
     "frozen": false,
     "read_only": false
    }
   },
   "outputs": [],
   "source": [
    "# this adds the descriptions to the combined dataset\n",
    "for subject, lessons in ck12_combined_dataset.items():\n",
    "    for l_name, lesson in lessons.items():\n",
    "        if l_name in build_descriptions.keys():\n",
    "            lesson['instructionalDiagrams'] = build_descriptions[l_name]\n",
    "        else:\n",
    "            lesson['instructionalDiagrams'] = {}"
   ]
  },
  {
   "cell_type": "markdown",
   "metadata": {
    "heading_collapsed": true,
    "hidden": true
   },
   "source": [
    "### hide"
   ]
  },
  {
   "cell_type": "code",
   "execution_count": 226,
   "metadata": {
    "collapsed": false,
    "hidden": true,
    "run_control": {
     "frozen": false,
     "read_only": false
    }
   },
   "outputs": [
    {
     "data": {
      "text/plain": [
       "(82,)"
      ]
     },
     "execution_count": 226,
     "metadata": {},
     "output_type": "execute_result"
    }
   ],
   "source": [
    "pd.unique(desc_df['lesson_assigned_to']).shape"
   ]
  },
  {
   "cell_type": "code",
   "execution_count": 227,
   "metadata": {
    "collapsed": false,
    "hidden": true,
    "run_control": {
     "frozen": false,
     "read_only": false
    }
   },
   "outputs": [
    {
     "data": {
      "text/plain": [
       "dict_keys(['6.2 Continental Drift', '7.1 Stress in Earths Crust', '4.1 Types of Rocks', '21.3 First Two Lines of Defense', '21.3 The Electromagnetic Spectrum', '14.1 Introduction to the Oceans', '20.1 The Nervous System', 'processes of the water cycle', '8.3 Types of Volcanoes', '10.1 Introduction to Plants', '9.2 Fungi', '20.2 The Senses', '6.1 Inside Earth', '22.2 Optics', '9.1 Protists', '6.4 Theory of Plate Tectonics', '7.1 Introduction to Chemical Bonds', '16.2 The Integumentary System', '22.3 Reproduction and Life Stages', 'rotation of earth', '22.1 Male Reproductive System', '23.3 Electric Circuits', 'nails and hair', '7.2 Ionic Bonds', '13.3 Groundwater', '9.4 Biochemical Reactions', '25.2 Using Electromagnetism', '22.2 Effects of Air Pollution', '7.3 Covalent Bonds', '17.3 The Digestive System', '24.1 Planet Earth', '17.1 Climate and Its Causes', '22.1 Air Pollution', 'magnetic evidence for seafloor spreading', 'clouds', '14.2 Ocean Movements', '25.1 Introduction to the Solar System', '4.2 Photosynthesis', '11.1 Fossils', 'importance of the oceans', '19.2 Measuring Waves', '15.3 Layers of the Atmosphere', '9.2 Hydrocarbons', '24.3 The Sun', '16.3 The Skeletal System', '3.1 Lifes Building Blocks', '24.1 Flow of Energy', '10.4 Erosion and Deposition by Glaciers', 'nucleic acid classification', '10.2 Evolution and Classification of Plants', '19.1 The Respiratory System', '6.1 How Elements Are Organized', '12.2 Flatworms and Roundworms', 'greenhouse effect', '24.2 Earth as a Magnet', '22.3 Vision', '4.1 Solids Liquids Gases and Plasmas', 'surface ocean currents', '24.4 The Sun and the EarthMoon System', '7.4 History of Life on Earth', 'climate zones and biomes', '11.3 Nuclear Energy', '4.3 Changes of State', 'excretion', '11.2 Relative Ages of Rocks', '19.3 Wave Interactions and Interference', '3.2 Cell Structures', '16.3 Simple Machines', '12.3 Acceleration', '10.1 Erosion and Deposition by Flowing Water', '18.2 Transfer of Thermal Energy', '1.4 The Microscope', '11.3 Absolute Ages of Rocks', '5.1 Cell Division', '16.4 The Muscular System', '18.1 Overview of the Cardiovascular System', '13.2 Fish', '18.2 Cycles of Matter', '12.5 Echinoderms and Invertebrate Chordates', '5.1 Inside the Atom', '14.3 The Ocean Floor', '12.4 Insects and Other Arthropods', '21.4 Immune System Defenses'])"
      ]
     },
     "execution_count": 227,
     "metadata": {},
     "output_type": "execute_result"
    }
   ],
   "source": [
    "build_descriptions.keys()"
   ]
  },
  {
   "cell_type": "code",
   "execution_count": 228,
   "metadata": {
    "collapsed": false,
    "hidden": true,
    "run_control": {
     "frozen": false,
     "read_only": false
    }
   },
   "outputs": [],
   "source": [
    "# with open(output_dir + 'ck12_dataset_beta_v4.json', 'w') as f:\n",
    "#     json.dump(ck12_combined_dataset, f, indent=4, sort_keys=True)"
   ]
  },
  {
   "cell_type": "code",
   "execution_count": 229,
   "metadata": {
    "collapsed": true,
    "hidden": true,
    "run_control": {
     "frozen": false,
     "read_only": false
    }
   },
   "outputs": [],
   "source": [
    "# with open(output_dir + 'ck12_dataset_beta_v4.json', 'r') as f:\n",
    "#     ck12_combined_dataset = json.load(f)"
   ]
  },
  {
   "cell_type": "markdown",
   "metadata": {
    "collapsed": true,
    "heading_collapsed": true,
    "run_control": {
     "frozen": false,
     "read_only": false
    }
   },
   "source": [
    "## Test spelling and grammar fixes"
   ]
  },
  {
   "cell_type": "markdown",
   "metadata": {
    "hidden": true
   },
   "source": [
    "### code"
   ]
  },
  {
   "cell_type": "code",
   "execution_count": 662,
   "metadata": {
    "collapsed": false,
    "hidden": true,
    "run_control": {
     "frozen": false,
     "read_only": false
    }
   },
   "outputs": [],
   "source": [
    "def check_mispelled(word):\n",
    "    return word and word.isalpha() and not (edict.check(word) or anglo_edict.check(word) or edict.check(word[0].upper() + word[1:]))\n",
    "\n",
    "def correct_spelling_error(misspelled_word, suggested_spellings):\n",
    "    highest_ratio = 0\n",
    "    closest_match = None\n",
    "    for word in suggested_spellings:\n",
    "        match_r = fuzz.ratio(misspelled_word, word)\n",
    "        if match_r >= highest_ratio and (word[0] == misspelled_word[0] or not check_mispelled(word[0] + misspelled_word)) and len(misspelled_word) <= len(word):\n",
    "            highest_ratio = match_r\n",
    "            closest_match = word\n",
    "            break\n",
    "    spell_changes[misspelled_word] = closest_match\n",
    "    return closest_match\n",
    "\n",
    "def apply_spelling_fix(orig_text):\n",
    "    orig_text_tokens = orig_text.split()\n",
    "    processed_tokens = []\n",
    "    for token in orig_text_tokens:\n",
    "        norm_token = token.lower()\n",
    "        if len(norm_token) < 4:\n",
    "            processed_tokens.append(token)\n",
    "            continue\n",
    "        if check_mispelled(norm_token):\n",
    "            suggested_replacements = edict.suggest(token)\n",
    "            replacement_text = correct_spelling_error(norm_token, suggested_replacements)\n",
    "            if replacement_text:\n",
    "                if norm_token[0].isupper():\n",
    "                    replacement_text = upper(replacement_text[0]) + replaced_text[1:]\n",
    "                processed_tokens.append(replacement_text)\n",
    "            else:\n",
    "                processed_tokens.append(token)\n",
    "        else:\n",
    "            processed_tokens.append(token)\n",
    "    return ' '.join(processed_tokens)\n",
    "\n",
    "def diff_corrected_text(orig_text, corrected_text):\n",
    "    diff = dmp.diff_main(orig_text, corrected_text)\n",
    "    return HTML(dmp.diff_prettyHtml(diff))\n",
    "\n",
    "def specify_lesson_q_path(lesson):\n",
    "    pass\n",
    "    \n"
   ]
  },
  {
   "cell_type": "markdown",
   "metadata": {
    "heading_collapsed": true,
    "hidden": true
   },
   "source": [
    "### run"
   ]
  },
  {
   "cell_type": "code",
   "execution_count": 663,
   "metadata": {
    "collapsed": true,
    "hidden": true,
    "run_control": {
     "frozen": false,
     "read_only": false
    }
   },
   "outputs": [],
   "source": [
    "dmp = diff_match_patch.diff_match_patch()"
   ]
  },
  {
   "cell_type": "code",
   "execution_count": 664,
   "metadata": {
    "collapsed": true,
    "hidden": true,
    "run_control": {
     "frozen": false,
     "read_only": false
    }
   },
   "outputs": [],
   "source": [
    "ck12_spell_gramm_fix_test = deepcopy(ck12_combined_dataset)"
   ]
  },
  {
   "cell_type": "code",
   "execution_count": 665,
   "metadata": {
    "collapsed": true,
    "hidden": true,
    "run_control": {
     "frozen": false,
     "read_only": false
    }
   },
   "outputs": [],
   "source": [
    "gram_checker = language_check.LanguageTool('en-US')\n",
    "gram_checker.disabled = set(['SENT_START_CONJUNCTIVE_LINKING_ADVERB_COMMA', 'POSSESSIVE_APOSTROPHE', 'A_PLURAL'])\n",
    "gram_checker.disable_spellchecking()\n",
    "\n",
    "punc_set_space = set([',', ':', ';', '/\"'])\n",
    "punc_set_nospace = set(['-', '\\'', '-', '?', '.', '!'])\n",
    "question_enders = set(['.', '?', ':'])"
   ]
  },
  {
   "cell_type": "code",
   "execution_count": 666,
   "metadata": {
    "code_folding": [],
    "collapsed": false,
    "hidden": true,
    "run_control": {
     "frozen": false,
     "read_only": false
    }
   },
   "outputs": [],
   "source": [
    "#check descriptions\n",
    "spell_changes = {}\n",
    "unaltered_text = []\n",
    "replaced_text = []\n",
    "for lesson in list(ck12_spell_gramm_fix_test['life-science'].values()):\n",
    "    if lesson['instructionalDiagrams']:\n",
    "        for diagram, description in lesson['instructionalDiagrams'].items():\n",
    "            orig_text = description['processedText']\n",
    "            spell_fixed_text = apply_spelling_fix(orig_text)\n",
    "            for punc_char in punc_set_nospace:\n",
    "                spell_fixed_text = spell_fixed_text.replace(' ' + punc_char + ' ' , punc_char)\n",
    "            for punc_char in punc_set_space:\n",
    "                spell_fixed_text = spell_fixed_text.replace(' ' + punc_char + ' ' , punc_char + ' ')\n",
    "            gram_fixed = gram_checker.correct(spell_fixed_text)\n",
    "            if gram_fixed != orig_text:\n",
    "                unaltered_text.append(orig_text)\n",
    "                replaced_text.append(gram_fixed)"
   ]
  },
  {
   "cell_type": "code",
   "execution_count": 688,
   "metadata": {
    "code_folding": [],
    "collapsed": false,
    "hidden": true,
    "run_control": {
     "frozen": false,
     "read_only": false
    },
    "scrolled": true
   },
   "outputs": [],
   "source": [
    "spell_changes = {}\n",
    "unaltered_text = []\n",
    "replaced_text = []\n",
    "for lesson in list(ck12_spell_gramm_fix_test['life-science'].values()):\n",
    "    if lesson['questions']['nonDiagramQuestions']:\n",
    "        for diagram, description in lesson['questions']['diagramQuestions'].items():\n",
    "            orig_text = description['beingAsked']['processedText']\n",
    "            spell_fixed_text = apply_spelling_fix(orig_text)\n",
    "            gram_fixed = gram_checker.correct(spell_fixed_text)\n",
    "            for punc_char in punc_set_nospace:\n",
    "                gram_fixed = gram_fixed.replace(' ' + punc_char + ' ' , punc_char)\n",
    "                gram_fixed = gram_fixed.replace(' ' + punc_char, punc_char)\n",
    "            for punc_char in punc_set_space:\n",
    "                gram_fixed = gram_fixed.replace(' ' + punc_char + ' ' , punc_char + ' ')\n",
    "            if gram_fixed[-1] not in question_enders:\n",
    "                if gram_fixed.split()[0] in ['Identify', 'Name'] or '__' in gram_fixed:\n",
    "                    gram_fixed += '.'\n",
    "                else:\n",
    "                    gram_fixed += '?'\n",
    "            if gram_fixed != orig_text:\n",
    "                unaltered_text.append(orig_text)\n",
    "                replaced_text.append(gram_fixed)"
   ]
  },
  {
   "cell_type": "code",
   "execution_count": 691,
   "metadata": {
    "collapsed": false,
    "hidden": true,
    "run_control": {
     "frozen": false,
     "read_only": false
    }
   },
   "outputs": [
    {
     "name": "stdout",
     "output_type": "stream",
     "text": [
      "21\n",
      "1189\n"
     ]
    }
   ],
   "source": [
    "comp_text = list(zip(unaltered_text, replaced_text))\n",
    "\n",
    "print(len(spell_changes))\n",
    "print(len(comp_text))\n",
    "# spell_changes"
   ]
  },
  {
   "cell_type": "code",
   "execution_count": 711,
   "metadata": {
    "collapsed": false,
    "hidden": true,
    "run_control": {
     "frozen": false,
     "read_only": false
    }
   },
   "outputs": [
    {
     "name": "stdout",
     "output_type": "stream",
     "text": [
      "how many parts of the plant cell are labeled?\n",
      "\n",
      "How many parts of the plant cell are labeled?\n"
     ]
    },
    {
     "data": {
      "text/html": [
       "<del style=\"background:#ffe6e6;\">h</del><ins style=\"background:#e6ffe6;\">H</ins><span>ow many parts of the plant cell are labeled?</span>"
      ],
      "text/plain": [
       "<IPython.core.display.HTML object>"
      ]
     },
     "execution_count": 711,
     "metadata": {},
     "output_type": "execute_result"
    }
   ],
   "source": [
    "rand_idx = np.random.randint(len(comp_text))\n",
    "print(unaltered_text[rand_idx])\n",
    "print()\n",
    "print(replaced_text[rand_idx])\n",
    "diff_corrected_text(*comp_text[rand_idx])"
   ]
  },
  {
   "cell_type": "markdown",
   "metadata": {
    "heading_collapsed": true,
    "hidden": true
   },
   "source": [
    "### hide"
   ]
  },
  {
   "cell_type": "code",
   "execution_count": null,
   "metadata": {
    "collapsed": true,
    "hidden": true,
    "run_control": {
     "frozen": false,
     "read_only": false
    }
   },
   "outputs": [],
   "source": [
    "# with open(output_dir + 'ck12_dataset_beta_v4.json', 'r') as f:\n",
    "#     ck12_combined_dataset = json.load(f)"
   ]
  },
  {
   "cell_type": "markdown",
   "metadata": {},
   "source": [
    "# Topic key collisions"
   ]
  },
  {
   "cell_type": "code",
   "execution_count": 240,
   "metadata": {
    "collapsed": false,
    "run_control": {
     "frozen": false,
     "read_only": false
    }
   },
   "outputs": [
    {
     "data": {
      "text/plain": [
       "dict_keys(['life-science', 'earth-science', 'physical-science'])"
      ]
     },
     "execution_count": 240,
     "metadata": {},
     "output_type": "execute_result"
    }
   ],
   "source": [
    "flexbook_ds.keys()"
   ]
  },
  {
   "cell_type": "code",
   "execution_count": 241,
   "metadata": {
    "collapsed": false,
    "run_control": {
     "frozen": false,
     "read_only": false
    }
   },
   "outputs": [],
   "source": [
    "build_website_lessons = [list(lesson.keys()) for lesson in lessons_ds.values()]\n",
    "website_lessons= sorted([item for sublist in build_website_lessons for item in sublist])\n",
    "\n",
    "build_flexbook_lessons = [list(lesson.keys()) for lesson in flexbook_ds.values()]\n",
    "flexbook_lessons= [item for sublist in build_flexbook_lessons for item in sublist]\n",
    "flexbook_lessons = sorted([lesson.split(maxsplit=1)[1].strip().lower() for lesson in flexbook_lessons])\n",
    "fbls = set(flexbook_lessons)\n",
    "wsls = set(website_lessons)"
   ]
  },
  {
   "cell_type": "code",
   "execution_count": 242,
   "metadata": {
    "collapsed": false,
    "run_control": {
     "frozen": false,
     "read_only": false
    }
   },
   "outputs": [
    {
     "data": {
      "text/plain": [
       "247"
      ]
     },
     "execution_count": 242,
     "metadata": {},
     "output_type": "execute_result"
    }
   ],
   "source": [
    "len(flexbook_lessons)"
   ]
  },
  {
   "cell_type": "code",
   "execution_count": 243,
   "metadata": {
    "collapsed": false,
    "run_control": {
     "frozen": false,
     "read_only": false
    }
   },
   "outputs": [
    {
     "name": "stdout",
     "output_type": "stream",
     "text": [
      "247\n",
      "243\n"
     ]
    }
   ],
   "source": [
    "print(len(flexbook_lessons))\n",
    "print(len(set(flexbook_lessons)))"
   ]
  },
  {
   "cell_type": "code",
   "execution_count": 244,
   "metadata": {
    "collapsed": false,
    "run_control": {
     "frozen": false,
     "read_only": false
    }
   },
   "outputs": [
    {
     "name": "stdout",
     "output_type": "stream",
     "text": [
      "829\n",
      "829\n"
     ]
    }
   ],
   "source": [
    "print(len(website_lessons))\n",
    "print(len(set(website_lessons)))"
   ]
  },
  {
   "cell_type": "code",
   "execution_count": 245,
   "metadata": {
    "collapsed": false,
    "run_control": {
     "frozen": false,
     "read_only": false
    }
   },
   "outputs": [
    {
     "data": {
      "text/plain": [
       "1024"
      ]
     },
     "execution_count": 245,
     "metadata": {},
     "output_type": "execute_result"
    }
   ],
   "source": [
    "len(set(website_lessons).union(set(flexbook_lessons)))"
   ]
  },
  {
   "cell_type": "markdown",
   "metadata": {},
   "source": [
    "# Refinements to make"
   ]
  },
  {
   "cell_type": "markdown",
   "metadata": {},
   "source": [
    "### todo"
   ]
  },
  {
   "cell_type": "markdown",
   "metadata": {},
   "source": [
    "global ids to everything\n",
    "\n",
    "linking lessons\n",
    "\n",
    "remove ck12 lesson numbers from keys and image names"
   ]
  },
  {
   "cell_type": "markdown",
   "metadata": {
    "heading_collapsed": true
   },
   "source": [
    "### file i/o"
   ]
  },
  {
   "cell_type": "code",
   "execution_count": 660,
   "metadata": {
    "collapsed": false,
    "hidden": true,
    "run_control": {
     "frozen": false,
     "read_only": false
    }
   },
   "outputs": [],
   "source": [
    "write_file('build_v5.json', full_test_ds)"
   ]
  },
  {
   "cell_type": "code",
   "execution_count": 657,
   "metadata": {
    "collapsed": false,
    "hidden": true,
    "run_control": {
     "frozen": false,
     "read_only": false
    }
   },
   "outputs": [],
   "source": [
    "# with open('build_v5.pkl', 'wb') as f:\n",
    "#     pickle.dump(ck12_combined_dataset ,f)"
   ]
  },
  {
   "cell_type": "markdown",
   "metadata": {},
   "source": [
    "### code"
   ]
  },
  {
   "cell_type": "code",
   "execution_count": 757,
   "metadata": {
    "collapsed": false,
    "run_control": {
     "frozen": false,
     "read_only": false
    }
   },
   "outputs": [],
   "source": [
    "#print(topics_to_remove) #specicied in match topics section above, explictly set here\n",
    "\n",
    "structural_topics = ['Summary', 'Review', 'References', 'Explore More', 'Lesson Summary', 'Lesson Objectives', 'Points to Consider', 'Introduction',\n",
    "                    'Recall', 'Apply Concepts', 'Think Critically', 'Resources', 'Explore More II', 'Explore More I', 'Explore More III']\n",
    "\n",
    "vocab_topics = ['Lesson Vocabulary', 'Vocabulary']"
   ]
  },
  {
   "cell_type": "code",
   "execution_count": 988,
   "metadata": {
    "code_folding": [
     81
    ],
    "collapsed": false,
    "run_control": {
     "frozen": false,
     "read_only": false
    }
   },
   "outputs": [],
   "source": [
    "def iterate_over_all_material(complete_ds, apply_function):\n",
    "    lesson_returns = []\n",
    "    for subject, lessons in complete_ds.items():\n",
    "        for lesson_name, lesson_content in lessons.items():\n",
    "            response = apply_function(lesson_name, lesson_content)\n",
    "            if response:\n",
    "                lesson_returns.append(response)\n",
    "    return lesson_returns\n",
    "            \n",
    "def apply_fixes(lesson_name, lesson_content):\n",
    "    struct_content, vocab_content = iterate_over_text(lesson_content['topics'])\n",
    "    lesson_content['adjunctTopics'] = struct_content\n",
    "    lesson_content['adjunctTopics']['Vocabulary'] = vocab_content \n",
    "    iterate_over_text_questions(lesson_content['questions']['nonDiagramQuestions'])\n",
    "    if lesson_content['instructionalDiagrams']:\n",
    "        if not lesson_content['questions']['diagramQuestions']:\n",
    "            print(lesson_name + ' missing questions')\n",
    "        iterate_over_diagram_questions(lesson_content['questions']['diagramQuestions'])\n",
    "        iterate_over_diagram_descriptions(lesson_content['instructionalDiagrams'])\n",
    "            \n",
    "def iterate_over_text(topic_sections):\n",
    "    structural_content = {}\n",
    "    vocab_section = {}\n",
    "    topics_to_remove = []\n",
    "    for topic, content in topic_sections.items():\n",
    "        if content['content']['figures']:\n",
    "            iterate_over_textbook_figs(content['content']['figures'])\n",
    "        if topic in vocab_topics:\n",
    "            vocab_section.update(add_defintions_to_vocab(content))\n",
    "            topics_to_remove.append(topic)\n",
    "        elif topic in structural_topics:\n",
    "            structural_content[topic] = content\n",
    "            topics_to_remove.append(topic)\n",
    "    for topic in topics_to_remove:\n",
    "        topic_sections.pop(topic)\n",
    "    return structural_content, vocab_section\n",
    "    \n",
    "\n",
    "def iterate_over_text_questions(text_questions):\n",
    "    for qid, question in text_questions.items():\n",
    "        replace_local_ids_w_global(question, 'text', True)\n",
    "            \n",
    "def iterate_over_diagram_questions(diagram_questions):\n",
    "    for qid, question in diagram_questions.items():\n",
    "        replace_uri_with_path(question, 'question_images')\n",
    "        orig_question= question['beingAsked']['processedText']\n",
    "        fixed_question = apply_spelling_and_grammar_fixes(orig_question)\n",
    "        if fixed_question:\n",
    "            question['beingAsked']['processedText'] = fixed_question\n",
    "        if detect_abc_question(question):\n",
    "            standardize_abc_question(question)\n",
    "    replace_local_ids_w_global(question, 'diagram', True)\n",
    "\n",
    "def iterate_over_diagram_descriptions(diagram_descriptions, description_path_prefix=None):\n",
    "    for diagram_name, diagram_content in diagram_descriptions.items():\n",
    "        replace_uri_with_path(diagram_content, 'teaching_images')\n",
    "        orig_description = diagram_content['processedText']\n",
    "        fixed_description = apply_spelling_and_grammar_fixes(orig_description)\n",
    "        if fixed_description:\n",
    "            diagram_content['processedText'] = fixed_description\n",
    "            \n",
    "def add_defintions_to_vocab(vocab_section): #done\n",
    "    lesson_vocab = {}\n",
    "    for word in vocab_section['content']['text'].split('\\n'):\n",
    "        if word in flexbook_glossary.keys():\n",
    "            lesson_vocab[word] = flexbook_glossary[word]\n",
    "        elif word:\n",
    "            lesson_vocab[word] = ''\n",
    "    return lesson_vocab\n",
    "\n",
    "def add_global_ids(data_object, object_type, zero_padding=6): #done\n",
    "    id_prefix = {'text': 'NDQ_', 'diagram': 'DQ_', 'lesson': 'L_', 'description': 'DD_', 'topics': 'T_'}\n",
    "    global_ids_counters[object_type] += 1\n",
    "    data_object['globalID'] = id_prefix[object_type] + str(global_ids_counters[object_type]).zfill(zero_padding)\n",
    "\n",
    "def detect_abc_question(question):\n",
    "    abc_choices = [ac['processedText'] for ac in question['answerChoices'].values() if ac['processedText'] in list(string.ascii_letters)]\n",
    "    return len(abc_choices) == 4\n",
    "\n",
    "def standardize_abc_question(question): #done\n",
    "    question['correctAnswer']['processedText'] = question['correctAnswer']['processedText'].upper()\n",
    "    for ac in question['answerChoices'].values():\n",
    "        ac['processedText'] = ac['processedText'].upper()\n",
    "    \n",
    "def iterate_over_textbook_figs(figure_content): # done\n",
    "    for figure in figure_content:\n",
    "        replace_uri_with_path(figure, 'textbook_images')\n",
    "        \n",
    "def replace_uri_with_path(image_content, path_prefix): # done\n",
    "    image_key_str = 'imageUri'\n",
    "    if 'image_uri' in image_content.keys():\n",
    "        image_key_str = 'image_uri'\n",
    "    image_name = image_content[image_key_str].split('/')[-1]\n",
    "    image_content.pop(image_key_str)\n",
    "    image_content['imagePath'] = os.path.join(path_prefix, image_name)\n",
    "      \n",
    "def apply_spelling_and_grammar_fixes(orig_text): #done\n",
    "    spell_fixed_text = apply_spelling_fix(orig_text)\n",
    "    for punc_char in punc_set_nospace:\n",
    "        spell_fixed_text = spell_fixed_text.replace(' ' + punc_char + ' ' , punc_char)\n",
    "    for punc_char in punc_set_space:\n",
    "        spell_fixed_text = spell_fixed_text.replace(' ' + punc_char + ' ' , punc_char + ' ')\n",
    "    gram_fixed = gram_checker.correct(spell_fixed_text)\n",
    "    if gram_fixed != orig_text:\n",
    "        return gram_fixed\n",
    "    else:\n",
    "        return None\n",
    "\n",
    "def replace_local_ids_w_global(data_unit, unit_type, keys_too=False, id_key='orderID'):\n",
    "    for k, v in sorted(data_unit.items(), key=lambda x: x[1][id_key]):\n",
    "        add_global_ids(v, unit_type, zero_padding=4)\n",
    "        v.pop(id_key)\n",
    "        if keys_too:\n",
    "            data_unit[v['globalID']] = v\n",
    "            data_unit.pop(k)\n",
    "            if unit_type == 'topics':\n",
    "                name_field = unit_type[:-1] + 'Name'\n",
    "                v[name_field] = k\n",
    "    pass\n",
    "\n",
    "def rename_lesson(lesson_name):\n",
    "    if lesson_name[0].isdigit():\n",
    "        return lesson_name.split(maxsplit=1)[1].strip().lower()\n",
    "    else:\n",
    "        return lesson_name\n",
    "\n",
    "def flatten_complete_ds(lesson_name, lesson_content):\n",
    "    lesson_content['lessonName'] =lesson_name\n",
    "    add_global_ids(lesson_content, 'lesson', 4)\n",
    "    lesson_content['lessonName'] = rename_lesson(lesson_name)\n",
    "    obj_key = 'topics'\n",
    "    replace_local_ids_w_global(lesson_content[obj_key], obj_key, True)\n",
    "    return lesson_content"
   ]
  },
  {
   "cell_type": "markdown",
   "metadata": {},
   "source": [
    "### run"
   ]
  },
  {
   "cell_type": "code",
   "execution_count": 989,
   "metadata": {
    "collapsed": false,
    "run_control": {
     "frozen": false,
     "read_only": false
    }
   },
   "outputs": [],
   "source": [
    "# full_test_ds = deepcopy(ck12_combined_dataset)\n",
    "test_vals= {k: v  for k, v in list(full_test_ds['earth-science'].items())[:20]}\n",
    "buid_test_cds = {}\n",
    "buid_test_cds['earth-science'] = test_vals\n",
    "test_cds = deepcopy(buid_test_cds)"
   ]
  },
  {
   "cell_type": "code",
   "execution_count": 990,
   "metadata": {
    "collapsed": false,
    "run_control": {
     "frozen": false,
     "read_only": false
    },
    "scrolled": true
   },
   "outputs": [
    {
     "ename": "TypeError",
     "evalue": "string indices must be integers",
     "output_type": "error",
     "traceback": [
      "\u001b[0;31m---------------------------------------------------------------------------\u001b[0m",
      "\u001b[0;31mTypeError\u001b[0m                                 Traceback (most recent call last)",
      "\u001b[0;32m<ipython-input-990-49f1285b8ee8>\u001b[0m in \u001b[0;36m<module>\u001b[0;34m()\u001b[0m\n\u001b[1;32m      5\u001b[0m \u001b[0;34m\u001b[0m\u001b[0m\n\u001b[1;32m      6\u001b[0m \u001b[0mglobal_ids_counters\u001b[0m \u001b[0;34m=\u001b[0m \u001b[0;34m{\u001b[0m\u001b[0;34m'text'\u001b[0m\u001b[0;34m:\u001b[0m \u001b[0mndq_gid\u001b[0m\u001b[0;34m,\u001b[0m \u001b[0;34m'diagram'\u001b[0m\u001b[0;34m:\u001b[0m \u001b[0mndq_gid\u001b[0m\u001b[0;34m,\u001b[0m \u001b[0;34m'lesson'\u001b[0m\u001b[0;34m:\u001b[0m \u001b[0ml_id\u001b[0m\u001b[0;34m,\u001b[0m \u001b[0;34m'topics'\u001b[0m\u001b[0;34m:\u001b[0m \u001b[0mt_id\u001b[0m\u001b[0;34m}\u001b[0m\u001b[0;34m\u001b[0m\u001b[0m\n\u001b[0;32m----> 7\u001b[0;31m \u001b[0m_\u001b[0m \u001b[0;34m=\u001b[0m \u001b[0miterate_over_all_material\u001b[0m\u001b[0;34m(\u001b[0m\u001b[0mtest_cds\u001b[0m\u001b[0;34m,\u001b[0m \u001b[0mapply_fixes\u001b[0m\u001b[0;34m)\u001b[0m\u001b[0;34m\u001b[0m\u001b[0m\n\u001b[0m",
      "\u001b[0;32m<ipython-input-988-fdd36f26e5ce>\u001b[0m in \u001b[0;36miterate_over_all_material\u001b[0;34m(complete_ds, apply_function)\u001b[0m\n\u001b[1;32m      3\u001b[0m     \u001b[0;32mfor\u001b[0m \u001b[0msubject\u001b[0m\u001b[0;34m,\u001b[0m \u001b[0mlessons\u001b[0m \u001b[0;32min\u001b[0m \u001b[0mcomplete_ds\u001b[0m\u001b[0;34m.\u001b[0m\u001b[0mitems\u001b[0m\u001b[0;34m(\u001b[0m\u001b[0;34m)\u001b[0m\u001b[0;34m:\u001b[0m\u001b[0;34m\u001b[0m\u001b[0m\n\u001b[1;32m      4\u001b[0m         \u001b[0;32mfor\u001b[0m \u001b[0mlesson_name\u001b[0m\u001b[0;34m,\u001b[0m \u001b[0mlesson_content\u001b[0m \u001b[0;32min\u001b[0m \u001b[0mlessons\u001b[0m\u001b[0;34m.\u001b[0m\u001b[0mitems\u001b[0m\u001b[0;34m(\u001b[0m\u001b[0;34m)\u001b[0m\u001b[0;34m:\u001b[0m\u001b[0;34m\u001b[0m\u001b[0m\n\u001b[0;32m----> 5\u001b[0;31m             \u001b[0mresponse\u001b[0m \u001b[0;34m=\u001b[0m \u001b[0mapply_function\u001b[0m\u001b[0;34m(\u001b[0m\u001b[0mlesson_name\u001b[0m\u001b[0;34m,\u001b[0m \u001b[0mlesson_content\u001b[0m\u001b[0;34m)\u001b[0m\u001b[0;34m\u001b[0m\u001b[0m\n\u001b[0m\u001b[1;32m      6\u001b[0m             \u001b[0;32mif\u001b[0m \u001b[0mresponse\u001b[0m\u001b[0;34m:\u001b[0m\u001b[0;34m\u001b[0m\u001b[0m\n\u001b[1;32m      7\u001b[0m                 \u001b[0mlesson_returns\u001b[0m\u001b[0;34m.\u001b[0m\u001b[0mappend\u001b[0m\u001b[0;34m(\u001b[0m\u001b[0mresponse\u001b[0m\u001b[0;34m)\u001b[0m\u001b[0;34m\u001b[0m\u001b[0m\n",
      "\u001b[0;32m<ipython-input-988-fdd36f26e5ce>\u001b[0m in \u001b[0;36mapply_fixes\u001b[0;34m(lesson_name, lesson_content)\u001b[0m\n\u001b[1;32m     12\u001b[0m     \u001b[0mlesson_content\u001b[0m\u001b[0;34m[\u001b[0m\u001b[0;34m'adjunctTopics'\u001b[0m\u001b[0;34m]\u001b[0m \u001b[0;34m=\u001b[0m \u001b[0mstruct_content\u001b[0m\u001b[0;34m\u001b[0m\u001b[0m\n\u001b[1;32m     13\u001b[0m     \u001b[0mlesson_content\u001b[0m\u001b[0;34m[\u001b[0m\u001b[0;34m'adjunctTopics'\u001b[0m\u001b[0;34m]\u001b[0m\u001b[0;34m[\u001b[0m\u001b[0;34m'Vocabulary'\u001b[0m\u001b[0;34m]\u001b[0m \u001b[0;34m=\u001b[0m \u001b[0mvocab_content\u001b[0m\u001b[0;34m\u001b[0m\u001b[0m\n\u001b[0;32m---> 14\u001b[0;31m     \u001b[0miterate_over_text_questions\u001b[0m\u001b[0;34m(\u001b[0m\u001b[0mlesson_content\u001b[0m\u001b[0;34m[\u001b[0m\u001b[0;34m'questions'\u001b[0m\u001b[0;34m]\u001b[0m\u001b[0;34m[\u001b[0m\u001b[0;34m'nonDiagramQuestions'\u001b[0m\u001b[0;34m]\u001b[0m\u001b[0;34m)\u001b[0m\u001b[0;34m\u001b[0m\u001b[0m\n\u001b[0m\u001b[1;32m     15\u001b[0m     \u001b[0;32mif\u001b[0m \u001b[0mlesson_content\u001b[0m\u001b[0;34m[\u001b[0m\u001b[0;34m'instructionalDiagrams'\u001b[0m\u001b[0;34m]\u001b[0m\u001b[0;34m:\u001b[0m\u001b[0;34m\u001b[0m\u001b[0m\n\u001b[1;32m     16\u001b[0m         \u001b[0;32mif\u001b[0m \u001b[0;32mnot\u001b[0m \u001b[0mlesson_content\u001b[0m\u001b[0;34m[\u001b[0m\u001b[0;34m'questions'\u001b[0m\u001b[0;34m]\u001b[0m\u001b[0;34m[\u001b[0m\u001b[0;34m'diagramQuestions'\u001b[0m\u001b[0;34m]\u001b[0m\u001b[0;34m:\u001b[0m\u001b[0;34m\u001b[0m\u001b[0m\n",
      "\u001b[0;32m<ipython-input-988-fdd36f26e5ce>\u001b[0m in \u001b[0;36miterate_over_text_questions\u001b[0;34m(text_questions)\u001b[0m\n\u001b[1;32m     39\u001b[0m \u001b[0;32mdef\u001b[0m \u001b[0miterate_over_text_questions\u001b[0m\u001b[0;34m(\u001b[0m\u001b[0mtext_questions\u001b[0m\u001b[0;34m)\u001b[0m\u001b[0;34m:\u001b[0m\u001b[0;34m\u001b[0m\u001b[0m\n\u001b[1;32m     40\u001b[0m     \u001b[0;32mfor\u001b[0m \u001b[0mqid\u001b[0m\u001b[0;34m,\u001b[0m \u001b[0mquestion\u001b[0m \u001b[0;32min\u001b[0m \u001b[0mtext_questions\u001b[0m\u001b[0;34m.\u001b[0m\u001b[0mitems\u001b[0m\u001b[0;34m(\u001b[0m\u001b[0;34m)\u001b[0m\u001b[0;34m:\u001b[0m\u001b[0;34m\u001b[0m\u001b[0m\n\u001b[0;32m---> 41\u001b[0;31m         \u001b[0mreplace_local_ids_w_global\u001b[0m\u001b[0;34m(\u001b[0m\u001b[0mquestion\u001b[0m\u001b[0;34m,\u001b[0m \u001b[0;34m'text'\u001b[0m\u001b[0;34m,\u001b[0m \u001b[0;32mTrue\u001b[0m\u001b[0;34m)\u001b[0m\u001b[0;34m\u001b[0m\u001b[0m\n\u001b[0m\u001b[1;32m     42\u001b[0m \u001b[0;34m\u001b[0m\u001b[0m\n\u001b[1;32m     43\u001b[0m \u001b[0;32mdef\u001b[0m \u001b[0miterate_over_diagram_questions\u001b[0m\u001b[0;34m(\u001b[0m\u001b[0mdiagram_questions\u001b[0m\u001b[0;34m)\u001b[0m\u001b[0;34m:\u001b[0m\u001b[0;34m\u001b[0m\u001b[0m\n",
      "\u001b[0;32m<ipython-input-988-fdd36f26e5ce>\u001b[0m in \u001b[0;36mreplace_local_ids_w_global\u001b[0;34m(data_unit, unit_type, keys_too, id_key)\u001b[0m\n\u001b[1;32m    108\u001b[0m \u001b[0;34m\u001b[0m\u001b[0m\n\u001b[1;32m    109\u001b[0m \u001b[0;32mdef\u001b[0m \u001b[0mreplace_local_ids_w_global\u001b[0m\u001b[0;34m(\u001b[0m\u001b[0mdata_unit\u001b[0m\u001b[0;34m,\u001b[0m \u001b[0munit_type\u001b[0m\u001b[0;34m,\u001b[0m \u001b[0mkeys_too\u001b[0m\u001b[0;34m=\u001b[0m\u001b[0;32mFalse\u001b[0m\u001b[0;34m,\u001b[0m \u001b[0mid_key\u001b[0m\u001b[0;34m=\u001b[0m\u001b[0;34m'orderID'\u001b[0m\u001b[0;34m)\u001b[0m\u001b[0;34m:\u001b[0m\u001b[0;34m\u001b[0m\u001b[0m\n\u001b[0;32m--> 110\u001b[0;31m     \u001b[0;32mfor\u001b[0m \u001b[0mk\u001b[0m\u001b[0;34m,\u001b[0m \u001b[0mv\u001b[0m \u001b[0;32min\u001b[0m \u001b[0msorted\u001b[0m\u001b[0;34m(\u001b[0m\u001b[0mdata_unit\u001b[0m\u001b[0;34m.\u001b[0m\u001b[0mitems\u001b[0m\u001b[0;34m(\u001b[0m\u001b[0;34m)\u001b[0m\u001b[0;34m,\u001b[0m \u001b[0mkey\u001b[0m\u001b[0;34m=\u001b[0m\u001b[0;32mlambda\u001b[0m \u001b[0mx\u001b[0m\u001b[0;34m:\u001b[0m \u001b[0mx\u001b[0m\u001b[0;34m[\u001b[0m\u001b[0;36m1\u001b[0m\u001b[0;34m]\u001b[0m\u001b[0;34m[\u001b[0m\u001b[0mid_key\u001b[0m\u001b[0;34m]\u001b[0m\u001b[0;34m)\u001b[0m\u001b[0;34m:\u001b[0m\u001b[0;34m\u001b[0m\u001b[0m\n\u001b[0m\u001b[1;32m    111\u001b[0m         \u001b[0madd_global_ids\u001b[0m\u001b[0;34m(\u001b[0m\u001b[0mv\u001b[0m\u001b[0;34m,\u001b[0m \u001b[0munit_type\u001b[0m\u001b[0;34m,\u001b[0m \u001b[0mzero_padding\u001b[0m\u001b[0;34m=\u001b[0m\u001b[0;36m4\u001b[0m\u001b[0;34m)\u001b[0m\u001b[0;34m\u001b[0m\u001b[0m\n\u001b[1;32m    112\u001b[0m         \u001b[0mv\u001b[0m\u001b[0;34m.\u001b[0m\u001b[0mpop\u001b[0m\u001b[0;34m(\u001b[0m\u001b[0mid_key\u001b[0m\u001b[0;34m)\u001b[0m\u001b[0;34m\u001b[0m\u001b[0m\n",
      "\u001b[0;32m<ipython-input-988-fdd36f26e5ce>\u001b[0m in \u001b[0;36m<lambda>\u001b[0;34m(x)\u001b[0m\n\u001b[1;32m    108\u001b[0m \u001b[0;34m\u001b[0m\u001b[0m\n\u001b[1;32m    109\u001b[0m \u001b[0;32mdef\u001b[0m \u001b[0mreplace_local_ids_w_global\u001b[0m\u001b[0;34m(\u001b[0m\u001b[0mdata_unit\u001b[0m\u001b[0;34m,\u001b[0m \u001b[0munit_type\u001b[0m\u001b[0;34m,\u001b[0m \u001b[0mkeys_too\u001b[0m\u001b[0;34m=\u001b[0m\u001b[0;32mFalse\u001b[0m\u001b[0;34m,\u001b[0m \u001b[0mid_key\u001b[0m\u001b[0;34m=\u001b[0m\u001b[0;34m'orderID'\u001b[0m\u001b[0;34m)\u001b[0m\u001b[0;34m:\u001b[0m\u001b[0;34m\u001b[0m\u001b[0m\n\u001b[0;32m--> 110\u001b[0;31m     \u001b[0;32mfor\u001b[0m \u001b[0mk\u001b[0m\u001b[0;34m,\u001b[0m \u001b[0mv\u001b[0m \u001b[0;32min\u001b[0m \u001b[0msorted\u001b[0m\u001b[0;34m(\u001b[0m\u001b[0mdata_unit\u001b[0m\u001b[0;34m.\u001b[0m\u001b[0mitems\u001b[0m\u001b[0;34m(\u001b[0m\u001b[0;34m)\u001b[0m\u001b[0;34m,\u001b[0m \u001b[0mkey\u001b[0m\u001b[0;34m=\u001b[0m\u001b[0;32mlambda\u001b[0m \u001b[0mx\u001b[0m\u001b[0;34m:\u001b[0m \u001b[0mx\u001b[0m\u001b[0;34m[\u001b[0m\u001b[0;36m1\u001b[0m\u001b[0;34m]\u001b[0m\u001b[0;34m[\u001b[0m\u001b[0mid_key\u001b[0m\u001b[0;34m]\u001b[0m\u001b[0;34m)\u001b[0m\u001b[0;34m:\u001b[0m\u001b[0;34m\u001b[0m\u001b[0m\n\u001b[0m\u001b[1;32m    111\u001b[0m         \u001b[0madd_global_ids\u001b[0m\u001b[0;34m(\u001b[0m\u001b[0mv\u001b[0m\u001b[0;34m,\u001b[0m \u001b[0munit_type\u001b[0m\u001b[0;34m,\u001b[0m \u001b[0mzero_padding\u001b[0m\u001b[0;34m=\u001b[0m\u001b[0;36m4\u001b[0m\u001b[0;34m)\u001b[0m\u001b[0;34m\u001b[0m\u001b[0m\n\u001b[1;32m    112\u001b[0m         \u001b[0mv\u001b[0m\u001b[0;34m.\u001b[0m\u001b[0mpop\u001b[0m\u001b[0;34m(\u001b[0m\u001b[0mid_key\u001b[0m\u001b[0;34m)\u001b[0m\u001b[0;34m\u001b[0m\u001b[0m\n",
      "\u001b[0;31mTypeError\u001b[0m: string indices must be integers"
     ]
    }
   ],
   "source": [
    "dq_gid = 0\n",
    "ndq_gid = 0\n",
    "l_id = 0\n",
    "t_id = 0\n",
    "\n",
    "global_ids_counters = {'text': ndq_gid, 'diagram': ndq_gid, 'lesson': l_id, 'topics': t_id}\n",
    "_ = iterate_over_all_material(test_cds, apply_fixes)"
   ]
  },
  {
   "cell_type": "code",
   "execution_count": 991,
   "metadata": {
    "collapsed": false,
    "run_control": {
     "frozen": false,
     "read_only": false
    },
    "scrolled": true
   },
   "outputs": [],
   "source": [
    "complete_flat_ds = iterate_over_all_material(test_cds, flatten_complete_ds)"
   ]
  },
  {
   "cell_type": "code",
   "execution_count": 982,
   "metadata": {
    "cell_style": "center",
    "collapsed": false,
    "run_control": {
     "frozen": false,
     "read_only": false
    }
   },
   "outputs": [
    {
     "data": {
      "text/plain": [
       "dict_keys(['globalID', 'topics', 'questions', 'lessonName', 'hidden', 'adjunctTopics', 'instructionalDiagrams'])"
      ]
     },
     "execution_count": 982,
     "metadata": {},
     "output_type": "execute_result"
    }
   ],
   "source": [
    "complete_flat_ds[0].keys()"
   ]
  },
  {
   "cell_type": "code",
   "execution_count": 985,
   "metadata": {
    "collapsed": false,
    "scrolled": true
   },
   "outputs": [
    {
     "data": {
      "text/plain": [
       "[('T_0001',\n",
       "  {'content': {'figures': [],\n",
       "    'mediaLinks': [],\n",
       "    'text': 'Earth formed at the same time as the other planets. The history of Earth is part of the history of the Solar System. '},\n",
       "   'globalID': 'T_0001',\n",
       "   'topicName': 'Formation of Earth'}),\n",
       " ('T_0002',\n",
       "  {'content': {'figures': [],\n",
       "    'mediaLinks': [],\n",
       "    'text': 'Earth came together (accreted) from the cloud of dust and gas known as the solar nebula nearly 4.6 billion years ago, the same time the Sun and the rest of the solar system formed. Gravity caused small bodies of rock and metal orbiting the proto-Sun to smash together to create larger bodies. Over time, the planetoids got larger and larger until they became planets. '},\n",
       "   'globalID': 'T_0002',\n",
       "   'topicName': 'Planets Form'}),\n",
       " ('T_0003',\n",
       "  {'content': {'figures': [],\n",
       "    'mediaLinks': [],\n",
       "    'text': 'When Earth first came together it was really hot, hot enough to melt the metal elements that it contained. Earth was so hot for three reasons: Gravitational contraction: As small bodies of rock and metal accreted, the planet grew larger and more massive. Gravity within such an enormous body squeezes the material in its interior so hard that the pressure swells. As Earths internal pressure grew, its temperature also rose. Radioactive decay: Radioactive decay releases heat, and early in the planets history there were many ra- dioactive elements with short half lives. These elements long ago decayed into stable materials, but they were responsible for the release of enormous amounts of heat in the beginning. Bombardment: Ancient impact craters found on the Moon and inner planets indicate that asteroid impacts were common in the early solar system. Earth was struck so much in its first 500 million years that the heat was intense. Very few large objects have struck the planet in the past many hundreds of millions of year. '},\n",
       "   'globalID': 'T_0003',\n",
       "   'topicName': 'Molten Earth'}),\n",
       " ('T_0004',\n",
       "  {'content': {'figures': [{'caption': 'FIGURE 1.1 Earths interior: Inner core, outer core, mantle, and crust.',\n",
       "      'imagePath': 'textbook_images/Formation_of_Earth_Differentiation_0004_fig_1.1.png'}],\n",
       "    'mediaLinks': [],\n",
       "    'text': 'When Earth was entirely molten, gravity drew denser elements to the center and lighter elements rose to the surface. The separation of Earth into layers based on density is known as differentiation. The densest material moved to the center to create the planets dense metallic core. Materials that are intermediate in density became part of the mantle (Figure 1.1). '},\n",
       "   'globalID': 'T_0004',\n",
       "   'topicName': 'Differentiation'}),\n",
       " ('T_0005',\n",
       "  {'content': {'figures': [],\n",
       "    'mediaLinks': [],\n",
       "    'text': 'Lighter materials accumulated at the surface of the mantle to become the earliest crust. The first crust was probably basaltic, like the oceanic crust is today. Intense heat from the early core drove rapid and vigorous mantle convection so that crust quickly recycled into the mantle. The recycling of basaltic crust was so effective that no remnants of it are found today. '},\n",
       "   'globalID': 'T_0005',\n",
       "   'topicName': 'First Crust'}),\n",
       " ('T_0006',\n",
       "  {'content': {'figures': [{'caption': 'FIGURE 1.2 The Allende Meteorite is a carbona- ceous chondrite that struck Earth in 1969. The calcium-aluminum-rich inclusions are fragments of the earliest solar system.',\n",
       "      'imagePath': 'textbook_images/Formation_of_Earth_Early_Solar_System_Materials_0005_fig_1.2.png'}],\n",
       "    'mediaLinks': [],\n",
       "    'text': 'There is not much material to let us know about the earliest days of our planet Earth. What there is comes from three sources: (1) zircon crystals, the oldest materials found on Earth, which show that the age of the earliest crust formed at least 4.4 billion years ago; (2) meteorites that date from the beginning of the solar system, to nearly 4.6 billion years ago (Figure 1.2); and (3) lunar rocks, which represent the early days of the Earth-Moon system as far back as 4.5 billion years ago. '},\n",
       "   'globalID': 'T_0006',\n",
       "   'topicName': 'Early Solar System Materials'})]"
      ]
     },
     "execution_count": 985,
     "metadata": {},
     "output_type": "execute_result"
    }
   ],
   "source": [
    "sorted(complete_flat_ds[0]['topics'].items(), key=lambda x: x[1]['globalID'])"
   ]
  },
  {
   "cell_type": "code",
   "execution_count": 986,
   "metadata": {
    "collapsed": false
   },
   "outputs": [
    {
     "data": {
      "text/plain": [
       "{'diagramQuestions': {},\n",
       " 'nonDiagramQuestions': {'q01': {'answerChoices': {'a': {'idStructural': 'a)',\n",
       "     'processedText': 'at the same time as the other planets.',\n",
       "     'rawText': 'a) At the same time as the other planets.'},\n",
       "    'b': {'idStructural': 'b)',\n",
       "     'processedText': 'about 500 million years later than the sun.',\n",
       "     'rawText': 'b) About 500 million years later than the sun.'},\n",
       "    'c': {'idStructural': 'c)',\n",
       "     'processedText': 'at the same time as the moon.',\n",
       "     'rawText': 'c) At the same time as the moon.'},\n",
       "    'd': {'idStructural': 'd)',\n",
       "     'processedText': 'all of the above',\n",
       "     'rawText': 'd) All of the above'}},\n",
       "   'beingAsked': {'processedText': 'earth formed',\n",
       "    'rawText': '1) Earth formed'},\n",
       "   'correctAnswer': {'processedText': 'at the same time as the other planets.'},\n",
       "   'globalID': 'NDQ_000002',\n",
       "   'id': 'q01',\n",
       "   'idStructural': '1)',\n",
       "   'type': 'Multiple Choice'},\n",
       "  'q02': {'answerChoices': {'a': {'idStructural': 'a)',\n",
       "     'processedText': 'the outer planets have lots of impact craters.',\n",
       "     'rawText': 'a) The outer planets have lots of impact craters.'},\n",
       "    'b': {'idStructural': 'b)',\n",
       "     'processedText': 'earth has lots of ancient impact craters.',\n",
       "     'rawText': 'b) Earth has lots of ancient impact craters.'},\n",
       "    'c': {'idStructural': 'c)',\n",
       "     'processedText': 'the moon has lots of ancient impact craters.',\n",
       "     'rawText': 'c) The Moon has lots of ancient impact craters.'},\n",
       "    'd': {'idStructural': 'd)',\n",
       "     'processedText': 'all of the above.',\n",
       "     'rawText': 'd) All of the above.'}},\n",
       "   'beingAsked': {'processedText': 'scientists think that meteorite bombardment was extremely common on the early earth because',\n",
       "    'rawText': '2) Scientists think that meteorite bombardment was extremely common on the early Earth because'},\n",
       "   'correctAnswer': {'processedText': 'the moon has lots of ancient impact craters.'},\n",
       "   'globalID': 'NDQ_000004',\n",
       "   'id': 'q02',\n",
       "   'idStructural': '2)',\n",
       "   'type': 'Multiple Choice'},\n",
       "  'q03': {'answerChoices': {'a': {'idStructural': 'a)',\n",
       "     'processedText': 'true',\n",
       "     'rawText': 'a) True'},\n",
       "    'b': {'idStructural': 'b)',\n",
       "     'processedText': 'false',\n",
       "     'rawText': 'b) False'}},\n",
       "   'beingAsked': {'processedText': 'due to gravity, planetoids got larger and larger until they became planets.',\n",
       "    'rawText': '3) Due to gravity, planetoids got larger and larger until they became planets.'},\n",
       "   'correctAnswer': {'processedText': 'true'},\n",
       "   'globalID': 'NDQ_000006',\n",
       "   'id': 'q03',\n",
       "   'idStructural': '3)',\n",
       "   'type': 'True or False'},\n",
       "  'q04': {'answerChoices': {'a': {'idStructural': 'a)',\n",
       "     'processedText': 'gravitational contraction',\n",
       "     'rawText': 'a) Gravitational contraction'},\n",
       "    'b': {'idStructural': 'b)',\n",
       "     'processedText': 'radioactive decay',\n",
       "     'rawText': 'b) Radioactive decay'},\n",
       "    'c': {'idStructural': 'c)',\n",
       "     'processedText': 'the sun',\n",
       "     'rawText': 'c) The sun'},\n",
       "    'd': {'idStructural': 'd)',\n",
       "     'processedText': 'bombardment by asteroids',\n",
       "     'rawText': 'd) Bombardment by asteroids'}},\n",
       "   'beingAsked': {'processedText': 'which is not a reason why earth was molten in its early days?',\n",
       "    'rawText': '4) Which is NOT a reason why Earth was molten in its early days?'},\n",
       "   'correctAnswer': {'processedText': 'the sun'},\n",
       "   'globalID': 'NDQ_000003',\n",
       "   'id': 'q04',\n",
       "   'idStructural': '4)',\n",
       "   'type': 'Multiple Choice'},\n",
       "  'q05': {'answerChoices': {'a': {'idStructural': 'a)',\n",
       "     'processedText': 'true',\n",
       "     'rawText': 'a) True'},\n",
       "    'b': {'idStructural': 'b)',\n",
       "     'processedText': 'false',\n",
       "     'rawText': 'b) False'}},\n",
       "   'beingAsked': {'processedText': 'there was more radioactive decay early in earth history than now because many radioactive elements have long half lives.',\n",
       "    'rawText': '5) There was more radioactive decay early in Earth history than now because many radioactive elements have long half lives.'},\n",
       "   'correctAnswer': {'processedText': 'false'},\n",
       "   'globalID': 'NDQ_000008',\n",
       "   'id': 'q05',\n",
       "   'idStructural': '5)',\n",
       "   'type': 'True or False'},\n",
       "  'q06': {'answerChoices': {'a': {'idStructural': 'a)',\n",
       "     'processedText': 'caused earth to have a metal core.',\n",
       "     'rawText': 'a) Caused Earth to have a metal core.'},\n",
       "    'b': {'idStructural': 'b)',\n",
       "     'processedText': 'took place when earth was molten.',\n",
       "     'rawText': 'b) Took place when Earth was molten.'},\n",
       "    'c': {'idStructural': 'c)',\n",
       "     'processedText': 'allowed lighter elements to rise to the surface.',\n",
       "     'rawText': 'c) Allowed lighter elements to rise to the surface.'},\n",
       "    'd': {'idStructural': 'd)',\n",
       "     'processedText': 'all of these.',\n",
       "     'rawText': 'd) All of these.'}},\n",
       "   'beingAsked': {'processedText': 'differentiation',\n",
       "    'rawText': '6) Differentiation'},\n",
       "   'correctAnswer': {'processedText': 'all of these.'},\n",
       "   'globalID': 'NDQ_000010',\n",
       "   'id': 'q06',\n",
       "   'idStructural': '6)',\n",
       "   'type': 'Multiple Choice'},\n",
       "  'q07': {'answerChoices': {'a': {'idStructural': 'a)',\n",
       "     'processedText': 'was made of light minerals, like the moons.',\n",
       "     'rawText': 'a) Was made of light minerals, like the Moon’s.'},\n",
       "    'b': {'idStructural': 'b)',\n",
       "     'processedText': 'recycled into the mantle due to vigorous convection.',\n",
       "     'rawText': 'b) Recycled into the mantle due to vigorous convection.'},\n",
       "    'c': {'idStructural': 'c)',\n",
       "     'processedText': 'resembled modern continental crust.',\n",
       "     'rawText': 'c) Resembled modern continental crust.'},\n",
       "    'd': {'idStructural': 'd)',\n",
       "     'processedText': 'all of these.',\n",
       "     'rawText': 'd) All of these.'}},\n",
       "   'beingAsked': {'processedText': 'earths first crust probably',\n",
       "    'rawText': '7) Earth’s first crust probably'},\n",
       "   'correctAnswer': {'processedText': 'recycled into the mantle due to vigorous convection.'},\n",
       "   'globalID': 'NDQ_000005',\n",
       "   'id': 'q07',\n",
       "   'idStructural': '7)',\n",
       "   'type': 'Multiple Choice'},\n",
       "  'q08': {'answerChoices': {'a': {'idStructural': 'a)',\n",
       "     'processedText': 'zircon crystals',\n",
       "     'rawText': 'a) Zircon crystals'},\n",
       "    'b': {'idStructural': 'b)',\n",
       "     'processedText': 'meteorites',\n",
       "     'rawText': 'b) Meteorites'},\n",
       "    'c': {'idStructural': 'c)',\n",
       "     'processedText': 'lunar rocks',\n",
       "     'rawText': 'c) Lunar rocks'},\n",
       "    'd': {'idStructural': 'd)',\n",
       "     'processedText': 'all of the above',\n",
       "     'rawText': 'd) All of the above'}},\n",
       "   'beingAsked': {'processedText': 'what material helps scientists describe the geologic composition of early earth?',\n",
       "    'rawText': '8) What material helps scientists describe the geologic composition of early Earth?'},\n",
       "   'correctAnswer': {'processedText': 'all of the above'},\n",
       "   'globalID': 'NDQ_000001',\n",
       "   'id': 'q08',\n",
       "   'idStructural': '8)',\n",
       "   'type': 'Multiple Choice'},\n",
       "  'q09': {'answerChoices': {'a': {'idStructural': 'a)',\n",
       "     'processedText': 'zircon crystals in ancient rocks.',\n",
       "     'rawText': 'a) Zircon crystals in ancient rocks.'},\n",
       "    'b': {'idStructural': 'b)',\n",
       "     'processedText': 'diamonds from kimberlite pipes.',\n",
       "     'rawText': 'b) Diamonds from kimberlite pipes.'},\n",
       "    'c': {'idStructural': 'c)',\n",
       "     'processedText': 'exposed gabbro in the oceanic crust.',\n",
       "     'rawText': 'c) Exposed gabbro in the oceanic crust.'},\n",
       "    'd': {'idStructural': 'd)',\n",
       "     'processedText': 'cooled metal fragments from the core.',\n",
       "     'rawText': 'd) Cooled metal fragments from the core.'}},\n",
       "   'beingAsked': {'processedText': 'the oldest materials geologists found on earth thus far are',\n",
       "    'rawText': '9) The oldest materials geologists found on Earth thus far are'},\n",
       "   'correctAnswer': {'processedText': 'zircon crystals in ancient rocks.'},\n",
       "   'globalID': 'NDQ_000007',\n",
       "   'id': 'q09',\n",
       "   'idStructural': '9)',\n",
       "   'type': 'Multiple Choice'},\n",
       "  'q10': {'answerChoices': {'a': {'idStructural': 'a)',\n",
       "     'processedText': 'true',\n",
       "     'rawText': 'a) True'},\n",
       "    'b': {'idStructural': 'b)',\n",
       "     'processedText': 'false',\n",
       "     'rawText': 'b) False'}},\n",
       "   'beingAsked': {'processedText': 'gravity releases energy when material is squeezed so hard that the pressure swells.',\n",
       "    'rawText': '10) Gravity releases energy when material is squeezed so hard that the pressure swells.'},\n",
       "   'correctAnswer': {'processedText': 'true'},\n",
       "   'globalID': 'NDQ_000009',\n",
       "   'id': 'q10',\n",
       "   'idStructural': '10)',\n",
       "   'type': 'True or False'}}}"
      ]
     },
     "execution_count": 986,
     "metadata": {},
     "output_type": "execute_result"
    }
   ],
   "source": [
    "complete_flat_ds[0]['questions']"
   ]
  },
  {
   "cell_type": "code",
   "execution_count": 987,
   "metadata": {
    "collapsed": false,
    "scrolled": false
   },
   "outputs": [
    {
     "data": {
      "text/plain": [
       "[('q08',\n",
       "  {'answerChoices': {'a': {'idStructural': 'a)',\n",
       "     'processedText': 'zircon crystals',\n",
       "     'rawText': 'a) Zircon crystals'},\n",
       "    'b': {'idStructural': 'b)',\n",
       "     'processedText': 'meteorites',\n",
       "     'rawText': 'b) Meteorites'},\n",
       "    'c': {'idStructural': 'c)',\n",
       "     'processedText': 'lunar rocks',\n",
       "     'rawText': 'c) Lunar rocks'},\n",
       "    'd': {'idStructural': 'd)',\n",
       "     'processedText': 'all of the above',\n",
       "     'rawText': 'd) All of the above'}},\n",
       "   'beingAsked': {'processedText': 'what material helps scientists describe the geologic composition of early earth?',\n",
       "    'rawText': '8) What material helps scientists describe the geologic composition of early Earth?'},\n",
       "   'correctAnswer': {'processedText': 'all of the above'},\n",
       "   'globalID': 'NDQ_000001',\n",
       "   'id': 'q08',\n",
       "   'idStructural': '8)',\n",
       "   'type': 'Multiple Choice'}),\n",
       " ('q01',\n",
       "  {'answerChoices': {'a': {'idStructural': 'a)',\n",
       "     'processedText': 'at the same time as the other planets.',\n",
       "     'rawText': 'a) At the same time as the other planets.'},\n",
       "    'b': {'idStructural': 'b)',\n",
       "     'processedText': 'about 500 million years later than the sun.',\n",
       "     'rawText': 'b) About 500 million years later than the sun.'},\n",
       "    'c': {'idStructural': 'c)',\n",
       "     'processedText': 'at the same time as the moon.',\n",
       "     'rawText': 'c) At the same time as the moon.'},\n",
       "    'd': {'idStructural': 'd)',\n",
       "     'processedText': 'all of the above',\n",
       "     'rawText': 'd) All of the above'}},\n",
       "   'beingAsked': {'processedText': 'earth formed',\n",
       "    'rawText': '1) Earth formed'},\n",
       "   'correctAnswer': {'processedText': 'at the same time as the other planets.'},\n",
       "   'globalID': 'NDQ_000002',\n",
       "   'id': 'q01',\n",
       "   'idStructural': '1)',\n",
       "   'type': 'Multiple Choice'}),\n",
       " ('q04',\n",
       "  {'answerChoices': {'a': {'idStructural': 'a)',\n",
       "     'processedText': 'gravitational contraction',\n",
       "     'rawText': 'a) Gravitational contraction'},\n",
       "    'b': {'idStructural': 'b)',\n",
       "     'processedText': 'radioactive decay',\n",
       "     'rawText': 'b) Radioactive decay'},\n",
       "    'c': {'idStructural': 'c)',\n",
       "     'processedText': 'the sun',\n",
       "     'rawText': 'c) The sun'},\n",
       "    'd': {'idStructural': 'd)',\n",
       "     'processedText': 'bombardment by asteroids',\n",
       "     'rawText': 'd) Bombardment by asteroids'}},\n",
       "   'beingAsked': {'processedText': 'which is not a reason why earth was molten in its early days?',\n",
       "    'rawText': '4) Which is NOT a reason why Earth was molten in its early days?'},\n",
       "   'correctAnswer': {'processedText': 'the sun'},\n",
       "   'globalID': 'NDQ_000003',\n",
       "   'id': 'q04',\n",
       "   'idStructural': '4)',\n",
       "   'type': 'Multiple Choice'}),\n",
       " ('q02',\n",
       "  {'answerChoices': {'a': {'idStructural': 'a)',\n",
       "     'processedText': 'the outer planets have lots of impact craters.',\n",
       "     'rawText': 'a) The outer planets have lots of impact craters.'},\n",
       "    'b': {'idStructural': 'b)',\n",
       "     'processedText': 'earth has lots of ancient impact craters.',\n",
       "     'rawText': 'b) Earth has lots of ancient impact craters.'},\n",
       "    'c': {'idStructural': 'c)',\n",
       "     'processedText': 'the moon has lots of ancient impact craters.',\n",
       "     'rawText': 'c) The Moon has lots of ancient impact craters.'},\n",
       "    'd': {'idStructural': 'd)',\n",
       "     'processedText': 'all of the above.',\n",
       "     'rawText': 'd) All of the above.'}},\n",
       "   'beingAsked': {'processedText': 'scientists think that meteorite bombardment was extremely common on the early earth because',\n",
       "    'rawText': '2) Scientists think that meteorite bombardment was extremely common on the early Earth because'},\n",
       "   'correctAnswer': {'processedText': 'the moon has lots of ancient impact craters.'},\n",
       "   'globalID': 'NDQ_000004',\n",
       "   'id': 'q02',\n",
       "   'idStructural': '2)',\n",
       "   'type': 'Multiple Choice'}),\n",
       " ('q07',\n",
       "  {'answerChoices': {'a': {'idStructural': 'a)',\n",
       "     'processedText': 'was made of light minerals, like the moons.',\n",
       "     'rawText': 'a) Was made of light minerals, like the Moon’s.'},\n",
       "    'b': {'idStructural': 'b)',\n",
       "     'processedText': 'recycled into the mantle due to vigorous convection.',\n",
       "     'rawText': 'b) Recycled into the mantle due to vigorous convection.'},\n",
       "    'c': {'idStructural': 'c)',\n",
       "     'processedText': 'resembled modern continental crust.',\n",
       "     'rawText': 'c) Resembled modern continental crust.'},\n",
       "    'd': {'idStructural': 'd)',\n",
       "     'processedText': 'all of these.',\n",
       "     'rawText': 'd) All of these.'}},\n",
       "   'beingAsked': {'processedText': 'earths first crust probably',\n",
       "    'rawText': '7) Earth’s first crust probably'},\n",
       "   'correctAnswer': {'processedText': 'recycled into the mantle due to vigorous convection.'},\n",
       "   'globalID': 'NDQ_000005',\n",
       "   'id': 'q07',\n",
       "   'idStructural': '7)',\n",
       "   'type': 'Multiple Choice'}),\n",
       " ('q03',\n",
       "  {'answerChoices': {'a': {'idStructural': 'a)',\n",
       "     'processedText': 'true',\n",
       "     'rawText': 'a) True'},\n",
       "    'b': {'idStructural': 'b)',\n",
       "     'processedText': 'false',\n",
       "     'rawText': 'b) False'}},\n",
       "   'beingAsked': {'processedText': 'due to gravity, planetoids got larger and larger until they became planets.',\n",
       "    'rawText': '3) Due to gravity, planetoids got larger and larger until they became planets.'},\n",
       "   'correctAnswer': {'processedText': 'true'},\n",
       "   'globalID': 'NDQ_000006',\n",
       "   'id': 'q03',\n",
       "   'idStructural': '3)',\n",
       "   'type': 'True or False'}),\n",
       " ('q09',\n",
       "  {'answerChoices': {'a': {'idStructural': 'a)',\n",
       "     'processedText': 'zircon crystals in ancient rocks.',\n",
       "     'rawText': 'a) Zircon crystals in ancient rocks.'},\n",
       "    'b': {'idStructural': 'b)',\n",
       "     'processedText': 'diamonds from kimberlite pipes.',\n",
       "     'rawText': 'b) Diamonds from kimberlite pipes.'},\n",
       "    'c': {'idStructural': 'c)',\n",
       "     'processedText': 'exposed gabbro in the oceanic crust.',\n",
       "     'rawText': 'c) Exposed gabbro in the oceanic crust.'},\n",
       "    'd': {'idStructural': 'd)',\n",
       "     'processedText': 'cooled metal fragments from the core.',\n",
       "     'rawText': 'd) Cooled metal fragments from the core.'}},\n",
       "   'beingAsked': {'processedText': 'the oldest materials geologists found on earth thus far are',\n",
       "    'rawText': '9) The oldest materials geologists found on Earth thus far are'},\n",
       "   'correctAnswer': {'processedText': 'zircon crystals in ancient rocks.'},\n",
       "   'globalID': 'NDQ_000007',\n",
       "   'id': 'q09',\n",
       "   'idStructural': '9)',\n",
       "   'type': 'Multiple Choice'}),\n",
       " ('q05',\n",
       "  {'answerChoices': {'a': {'idStructural': 'a)',\n",
       "     'processedText': 'true',\n",
       "     'rawText': 'a) True'},\n",
       "    'b': {'idStructural': 'b)',\n",
       "     'processedText': 'false',\n",
       "     'rawText': 'b) False'}},\n",
       "   'beingAsked': {'processedText': 'there was more radioactive decay early in earth history than now because many radioactive elements have long half lives.',\n",
       "    'rawText': '5) There was more radioactive decay early in Earth history than now because many radioactive elements have long half lives.'},\n",
       "   'correctAnswer': {'processedText': 'false'},\n",
       "   'globalID': 'NDQ_000008',\n",
       "   'id': 'q05',\n",
       "   'idStructural': '5)',\n",
       "   'type': 'True or False'}),\n",
       " ('q10',\n",
       "  {'answerChoices': {'a': {'idStructural': 'a)',\n",
       "     'processedText': 'true',\n",
       "     'rawText': 'a) True'},\n",
       "    'b': {'idStructural': 'b)',\n",
       "     'processedText': 'false',\n",
       "     'rawText': 'b) False'}},\n",
       "   'beingAsked': {'processedText': 'gravity releases energy when material is squeezed so hard that the pressure swells.',\n",
       "    'rawText': '10) Gravity releases energy when material is squeezed so hard that the pressure swells.'},\n",
       "   'correctAnswer': {'processedText': 'true'},\n",
       "   'globalID': 'NDQ_000009',\n",
       "   'id': 'q10',\n",
       "   'idStructural': '10)',\n",
       "   'type': 'True or False'}),\n",
       " ('q06',\n",
       "  {'answerChoices': {'a': {'idStructural': 'a)',\n",
       "     'processedText': 'caused earth to have a metal core.',\n",
       "     'rawText': 'a) Caused Earth to have a metal core.'},\n",
       "    'b': {'idStructural': 'b)',\n",
       "     'processedText': 'took place when earth was molten.',\n",
       "     'rawText': 'b) Took place when Earth was molten.'},\n",
       "    'c': {'idStructural': 'c)',\n",
       "     'processedText': 'allowed lighter elements to rise to the surface.',\n",
       "     'rawText': 'c) Allowed lighter elements to rise to the surface.'},\n",
       "    'd': {'idStructural': 'd)',\n",
       "     'processedText': 'all of these.',\n",
       "     'rawText': 'd) All of these.'}},\n",
       "   'beingAsked': {'processedText': 'differentiation',\n",
       "    'rawText': '6) Differentiation'},\n",
       "   'correctAnswer': {'processedText': 'all of these.'},\n",
       "   'globalID': 'NDQ_000010',\n",
       "   'id': 'q06',\n",
       "   'idStructural': '6)',\n",
       "   'type': 'Multiple Choice'})]"
      ]
     },
     "execution_count": 987,
     "metadata": {},
     "output_type": "execute_result"
    }
   ],
   "source": [
    "sorted(complete_flat_ds[0]['questions']['nonDiagramQuestions'].items(), key=lambda x: x[1]['globalID'])"
   ]
  },
  {
   "cell_type": "code",
   "execution_count": null,
   "metadata": {
    "collapsed": true
   },
   "outputs": [],
   "source": []
  },
  {
   "cell_type": "code",
   "execution_count": 820,
   "metadata": {
    "collapsed": false
   },
   "outputs": [],
   "source": [
    "# complete_flat_ds[0]['adjunctTopics']"
   ]
  },
  {
   "cell_type": "code",
   "execution_count": 819,
   "metadata": {
    "collapsed": false
   },
   "outputs": [],
   "source": [
    "# list(complete_flat_ds[0]['topics'].items())[5]"
   ]
  },
  {
   "cell_type": "code",
   "execution_count": 874,
   "metadata": {
    "collapsed": false,
    "scrolled": false
   },
   "outputs": [
    {
     "data": {
      "text/plain": [
       "{'adjunctTopics': {'Apply Concepts': {'content': {'figures': [],\n",
       "    'mediaLinks': [],\n",
       "    'text': '6. An ocean current flows from north to south off the western coast of a continent. The current flows close to land at 50 N latitude. Predict how the current affects the climate of the coast at that latitude. Explain your prediction. '},\n",
       "   'orderID': 't_18'},\n",
       "  'Introduction': {'content': {'figures': [{'caption': 'FIGURE 17.1 Cold and snow are typical for Chicago in the winter.',\n",
       "      'imagePath': 'textbook_images/17.1_Climate_and_Its_Causes_Introduction_0438_fig_17.1.png'}],\n",
       "    'mediaLinks': [],\n",
       "    'text': 'One winter day in Chicago, the temperature hit 20 C (68 F). This would be normal for Miami in the winter, but in Chicago, it felt like a heat wave. The scene in Figure 17.1 is more typical for Chicago in the winter. The heat wave on that winter day is an example of weather. The typical temperature for that day is part of Chicagos climate. '},\n",
       "   'orderID': 't_03'},\n",
       "  'Lesson Objectives': {'content': {'figures': [],\n",
       "    'mediaLinks': [],\n",
       "    'text': 'Define climate.\\nState how climate is related to latitude.\\nExplain how oceans influence climate.\\nDescribe how mountains affect climate.\\n'},\n",
       "   'orderID': 't_01'},\n",
       "  'Lesson Summary': {'content': {'figures': [{'caption': 'FIGURE 17.6 Air temperature drops as you go higher.',\n",
       "      'imagePath': 'textbook_images/17.1_Climate_and_Its_Causes_Lesson_Summary_0443_fig_17.6.png'},\n",
       "     {'caption': 'FIGURE 17.7 Mount Kilimanjaro has very different cli- mates at the top and bottom.',\n",
       "      'imagePath': 'textbook_images/17.1_Climate_and_Its_Causes_Lesson_Summary_0443_fig_17.7.png'},\n",
       "     {'caption': 'FIGURE 17.8 What role do prevailing winds play in a rain shadow?',\n",
       "      'imagePath': 'textbook_images/17.1_Climate_and_Its_Causes_Lesson_Summary_0444_fig_17.8.png'}],\n",
       "    'mediaLinks': [],\n",
       "    'text': 'Climate is the average weather of a place over many years. It varies with latitude. It may also be influenced by nearby oceans or mountains. Temperature falls from the equator to the poles. Global air currents create wet and dry zones at different latitudes. They also create global winds. Oceans influence the climate of coasts. A coastal climate is mild. It may also get plenty of rain. An inland climate has greater temperature extremes. It can also be dry. The air is cooler as you go higher up a mountain. Mountain ranges can also cast rain shadows. '},\n",
       "   'orderID': 't_15'},\n",
       "  'Points to Consider': {'content': {'figures': [],\n",
       "    'mediaLinks': [],\n",
       "    'text': 'In this lesson, you read how latitude, oceans, and mountains affect climate. Do you think you could predict the climate of a place, based on its location? Do you think that similar locations around the globe might have the same climate? '},\n",
       "   'orderID': 't_20'},\n",
       "  'Recall': {'content': {'figures': [],\n",
       "    'mediaLinks': [],\n",
       "    'text': '1. What is climate? 2. Describe how temperature changes with latitude. 3. Why are many deserts found near 30 latitude? 4. How does altitude influence temperature? 5. What is a rain shadow? '},\n",
       "   'orderID': 't_17'},\n",
       "  'Think Critically': {'content': {'figures': [],\n",
       "    'mediaLinks': [],\n",
       "    'text': '7. Explain how prevailing winds influence climate. 8. Compare and contrast coastal and inland climates. '},\n",
       "   'orderID': 't_19'},\n",
       "  'Vocabulary': {'climate': 'average weather in a place over a long period of time ',\n",
       "   'rain shadow': ''}},\n",
       " 'globalID': 'L_0010',\n",
       " 'hidden': {'source': '439_CK-12-Earth-Science-For-Middle-School_b_v39_yq9_s1.pdf'},\n",
       " 'instructionalDiagrams': {'rain_shadow_7524': {'imageName': 'rain_shadow_7524.png',\n",
       "   'imagePath': 'teaching_images/rain_shadow_7524.png',\n",
       "   'processedText': 'This diagram shows the effect of rains on hills. The moist air from the green side of the hills rising up in the air and condenses as water vapor. This is called precipitation. The other side of the hill from the rain shadow region. Rain shadow region is a region having little rainfall because it is sheltered from prevailing rain-bearing winds by a range of hills. The dry air descends from this region.',\n",
       "   'rawText': 'This diagram shows the effect of rains on hills. The moist air from the green side of the hills rising up in the air and condenses as water vapor. This is called precipitation. The other side of the hill form the rain shadow region. Rain shadow region is a region having little rainfall because it is sheltered from prevailing rain-bearing winds by a range of hills. The dry air descends from this region.'},\n",
       "  'rain_shadow_8185': {'imageName': 'rain_shadow_8185.png',\n",
       "   'imagePath': 'teaching_images/rain_shadow_8185.png',\n",
       "   'processedText': 'The diagram is a representation of how a rain shadow is formed. A rain shadow is a dry region of land on the side of a mountain range that is protected from the prevailing winds. Prevailing winds are the winds that occur most of the time in a particular location on the Earth. The protected side of a mountain range is also called the lee side or the down-wind side. Prevailing winds carry air toward the mountain range. As the air rises up over a mountain range, the air cools, water vapor condenses, and clouds form. On this side of the mountains, called the windward side, precipitation falls in the form of rain or snow. The windward side of a mountain range is moist and lush because of this precipitation. Once the air passes over the mountain range, it moves down the other side, warms, and dries out. This dry air produces a rain shadow. Land in a rain shadow is typically very dry and receives much less precipitation and cloud cover than land on the windward side of the mountain range.',\n",
       "   'rawText': 'The diagram is a representation of how a rain shadow is formed. A rain shadow is a dry region of land on the side of a mountain range that is protected from the prevailing winds. Prevailing winds are the winds that occur most of the time in a particular location on the Earth. The protected side of a mountain range is also called the lee side or the down-wind side. Prevailing winds carry air toward the mountain range. As the air rises up over a mountain range, the air cools, water vapor condenses, and clouds form. On this side of the mountains, called the windward side, precipitation falls in the form of rain or snow. The windward side of a mountain range is moist and lush because of this precipitation. Once the air passes over the mountain range, it moves down the other side, warms, and dries out. This dry air produces a rain shadow. Land in a rain shadow is typically very dry and receives much less precipitation and cloud cover than land on the windward side of the mountain range.'}},\n",
       " 'lessonName': 'climate and its causes',\n",
       " 'questions': {'diagramQuestions': {'q0001': {'answerChoices': {'a': {'idStructural': 'a.',\n",
       "      'processedText': 'T',\n",
       "      'rawText': 'T'},\n",
       "     'b': {'idStructural': 'b.', 'processedText': 'E', 'rawText': 'E'},\n",
       "     'c': {'idStructural': 'c.', 'processedText': 'U', 'rawText': 'U'},\n",
       "     'd': {'idStructural': 'd.', 'processedText': 'V', 'rawText': 'V'}},\n",
       "    'beingAsked': {'processedText': 'Which label refers to rains?',\n",
       "     'rawText': 'Which label refers to rains?'},\n",
       "    'correctAnswer': {'processedText': 'E', 'rawText': 'E'},\n",
       "    'globalID': 'DQ_000039',\n",
       "    'id': 'q0001',\n",
       "    'imageName': 'rain_shadow_17524.png',\n",
       "    'imagePath': 'question_images/rain_shadow_17524.png',\n",
       "    'type': 'Diagram Multiple Choice'},\n",
       "   'q0002': {'answerChoices': {'a': {'idStructural': 'a.',\n",
       "      'processedText': 'ice from the mountain peak',\n",
       "      'rawText': 'ice from the mountain peak'},\n",
       "     'b': {'idStructural': 'b.', 'processedText': 'wind', 'rawText': 'wind'},\n",
       "     'c': {'idStructural': 'c.', 'processedText': 'grass', 'rawText': 'grass'},\n",
       "     'd': {'idStructural': 'd.',\n",
       "      'processedText': 'as rain',\n",
       "      'rawText': 'as rain'}},\n",
       "    'beingAsked': {'processedText': 'How does water from the clouds reach the land again?',\n",
       "     'rawText': 'how does water from the clouds reach the land again?'},\n",
       "    'correctAnswer': {'processedText': 'as rain', 'rawText': 'as rain'},\n",
       "    'globalID': 'DQ_000056',\n",
       "    'id': 'q0002',\n",
       "    'imageName': 'rain_shadow_17524.png',\n",
       "    'imagePath': 'question_images/rain_shadow_17524.png',\n",
       "    'type': 'Diagram Multiple Choice'},\n",
       "   'q0003': {'answerChoices': {'a': {'idStructural': 'a.',\n",
       "      'processedText': 'H',\n",
       "      'rawText': 'H'},\n",
       "     'b': {'idStructural': 'b.', 'processedText': 'J', 'rawText': 'J'},\n",
       "     'c': {'idStructural': 'c.', 'processedText': 'T', 'rawText': 'T'},\n",
       "     'd': {'idStructural': 'd.', 'processedText': 'W', 'rawText': 'W'}},\n",
       "    'beingAsked': {'processedText': 'What letter represents the condensation process?',\n",
       "     'rawText': 'What letter represents the condensation process?'},\n",
       "    'correctAnswer': {'processedText': 'T', 'rawText': 'T'},\n",
       "    'globalID': 'DQ_000030',\n",
       "    'id': 'q0003',\n",
       "    'imageName': 'rain_shadow_17525.png',\n",
       "    'imagePath': 'question_images/rain_shadow_17525.png',\n",
       "    'type': 'Diagram Multiple Choice'},\n",
       "   'q0004': {'answerChoices': {'a': {'idStructural': 'a.',\n",
       "      'processedText': 'A',\n",
       "      'rawText': 'A'},\n",
       "     'b': {'idStructural': 'b.', 'processedText': 'J', 'rawText': 'J'},\n",
       "     'c': {'idStructural': 'c.', 'processedText': 'H', 'rawText': 'H'},\n",
       "     'd': {'idStructural': 'd.', 'processedText': 'W', 'rawText': 'W'}},\n",
       "    'beingAsked': {'processedText': 'Where can you find moist air?',\n",
       "     'rawText': 'Where can you find moist air?'},\n",
       "    'correctAnswer': {'processedText': 'J', 'rawText': 'J'},\n",
       "    'globalID': 'DQ_000040',\n",
       "    'id': 'q0004',\n",
       "    'imageName': 'rain_shadow_17525.png',\n",
       "    'imagePath': 'question_images/rain_shadow_17525.png',\n",
       "    'type': 'Diagram Multiple Choice'},\n",
       "   'q0005': {'answerChoices': {'a': {'idStructural': 'a.',\n",
       "      'processedText': 'H',\n",
       "      'rawText': 'H'},\n",
       "     'b': {'idStructural': 'b.', 'processedText': 'A', 'rawText': 'A'},\n",
       "     'c': {'idStructural': 'c.', 'processedText': 'W', 'rawText': 'W'},\n",
       "     'd': {'idStructural': 'd.', 'processedText': 'T', 'rawText': 'T'}},\n",
       "    'beingAsked': {'processedText': 'Where is condensation?',\n",
       "     'rawText': 'where is condensation?'},\n",
       "    'correctAnswer': {'processedText': 'T', 'rawText': 'T'},\n",
       "    'globalID': 'DQ_000024',\n",
       "    'id': 'q0005',\n",
       "    'imageName': 'rain_shadow_17525.png',\n",
       "    'imagePath': 'question_images/rain_shadow_17525.png',\n",
       "    'type': 'Diagram Multiple Choice'},\n",
       "   'q0006': {'answerChoices': {'a': {'idStructural': 'a.',\n",
       "      'processedText': 'J',\n",
       "      'rawText': 'J'},\n",
       "     'b': {'idStructural': 'b.', 'processedText': 'H', 'rawText': 'H'},\n",
       "     'c': {'idStructural': 'c.', 'processedText': 'T', 'rawText': 'T'},\n",
       "     'd': {'idStructural': 'd.', 'processedText': 'W', 'rawText': 'W'}},\n",
       "    'beingAsked': {'processedText': 'Which of the letter in the diagram represents transpiration?',\n",
       "     'rawText': 'Which of the letter in the diagram represents transpiration?'},\n",
       "    'correctAnswer': {'processedText': 'J', 'rawText': 'J'},\n",
       "    'globalID': 'DQ_000023',\n",
       "    'id': 'q0006',\n",
       "    'imageName': 'rain_shadow_17525.png',\n",
       "    'imagePath': 'question_images/rain_shadow_17525.png',\n",
       "    'type': 'Diagram Multiple Choice'},\n",
       "   'q0007': {'answerChoices': {'a': {'idStructural': 'a.',\n",
       "      'processedText': 'Y',\n",
       "      'rawText': 'Y'},\n",
       "     'b': {'idStructural': 'b.', 'processedText': 'L', 'rawText': 'L'},\n",
       "     'c': {'idStructural': 'c.', 'processedText': 'D', 'rawText': 'D'},\n",
       "     'd': {'idStructural': 'd.', 'processedText': 'X', 'rawText': 'X'}},\n",
       "    'beingAsked': {'processedText': 'Identify rain shadow',\n",
       "     'rawText': 'identify rain shadow'},\n",
       "    'correctAnswer': {'processedText': 'Y', 'rawText': 'Y'},\n",
       "    'globalID': 'DQ_000003',\n",
       "    'id': 'q0007',\n",
       "    'imageName': 'rain_shadow_17534.png',\n",
       "    'imagePath': 'question_images/rain_shadow_17534.png',\n",
       "    'type': 'Diagram Multiple Choice'},\n",
       "   'q0008': {'answerChoices': {'a': {'idStructural': 'a.',\n",
       "      'processedText': 'L',\n",
       "      'rawText': 'L'},\n",
       "     'b': {'idStructural': 'b.', 'processedText': 'Y', 'rawText': 'Y'},\n",
       "     'c': {'idStructural': 'c.', 'processedText': 'D', 'rawText': 'D'},\n",
       "     'd': {'idStructural': 'd.', 'processedText': 'X', 'rawText': 'X'}},\n",
       "    'beingAsked': {'processedText': 'What is the step after precipitation?',\n",
       "     'rawText': 'What is the step after precipitation?'},\n",
       "    'correctAnswer': {'processedText': 'Y', 'rawText': 'Y'},\n",
       "    'globalID': 'DQ_000029',\n",
       "    'id': 'q0008',\n",
       "    'imageName': 'rain_shadow_17534.png',\n",
       "    'imagePath': 'question_images/rain_shadow_17534.png',\n",
       "    'type': 'Diagram Multiple Choice'},\n",
       "   'q0009': {'answerChoices': {'a': {'idStructural': 'a.',\n",
       "      'processedText': 'X',\n",
       "      'rawText': 'X'},\n",
       "     'b': {'idStructural': 'b.', 'processedText': 'D', 'rawText': 'D'},\n",
       "     'c': {'idStructural': 'c.', 'processedText': 'V', 'rawText': 'V'},\n",
       "     'd': {'idStructural': 'd.', 'processedText': 'Y', 'rawText': 'Y'}},\n",
       "    'beingAsked': {'processedText': 'The air becomes drier in this step. Which?',\n",
       "     'rawText': 'The air becomes drier in this step. Which?'},\n",
       "    'correctAnswer': {'processedText': 'Y', 'rawText': 'Y'},\n",
       "    'globalID': 'DQ_000036',\n",
       "    'id': 'q0009',\n",
       "    'imageName': 'rain_shadow_17534.png',\n",
       "    'imagePath': 'question_images/rain_shadow_17534.png',\n",
       "    'type': 'Diagram Multiple Choice'},\n",
       "   'q0010': {'answerChoices': {'a': {'idStructural': 'a.',\n",
       "      'processedText': 'M',\n",
       "      'rawText': 'M'},\n",
       "     'b': {'idStructural': 'b.', 'processedText': 'F', 'rawText': 'F'},\n",
       "     'c': {'idStructural': 'c.', 'processedText': 'D', 'rawText': 'D'},\n",
       "     'd': {'idStructural': 'd.', 'processedText': 'J', 'rawText': 'J'}},\n",
       "    'beingAsked': {'processedText': 'Identify the rain shadow.',\n",
       "     'rawText': 'Identify the rain shadow.'},\n",
       "    'correctAnswer': {'processedText': 'D', 'rawText': 'D'},\n",
       "    'globalID': 'DQ_000047',\n",
       "    'id': 'q0010',\n",
       "    'imageName': 'rain_shadow_17535.png',\n",
       "    'imagePath': 'question_images/rain_shadow_17535.png',\n",
       "    'type': 'Diagram Multiple Choice'},\n",
       "   'q0011': {'answerChoices': {'a': {'idStructural': 'a.',\n",
       "      'processedText': 'M',\n",
       "      'rawText': 'M'},\n",
       "     'b': {'idStructural': 'b.', 'processedText': 'J', 'rawText': 'J'},\n",
       "     'c': {'idStructural': 'c.', 'processedText': 'D', 'rawText': 'D'},\n",
       "     'd': {'idStructural': 'd.', 'processedText': 'F', 'rawText': 'F'}},\n",
       "    'beingAsked': {'processedText': 'Which label refers to the rain shadow?',\n",
       "     'rawText': 'Which label refers to the rain shadow?'},\n",
       "    'correctAnswer': {'processedText': 'D', 'rawText': 'D'},\n",
       "    'globalID': 'DQ_000007',\n",
       "    'id': 'q0011',\n",
       "    'imageName': 'rain_shadow_17535.png',\n",
       "    'imagePath': 'question_images/rain_shadow_17535.png',\n",
       "    'type': 'Diagram Multiple Choice'},\n",
       "   'q0012': {'answerChoices': {'a': {'idStructural': 'a.',\n",
       "      'processedText': 'J',\n",
       "      'rawText': 'j'},\n",
       "     'b': {'idStructural': 'b.', 'processedText': 'M', 'rawText': 'm'},\n",
       "     'c': {'idStructural': 'c.', 'processedText': 'F', 'rawText': 'f'},\n",
       "     'd': {'idStructural': 'd.', 'processedText': 'D', 'rawText': 'd'}},\n",
       "    'beingAsked': {'processedText': 'Which letter represents rainfall?',\n",
       "     'rawText': 'Which letter represents rainfall?'},\n",
       "    'correctAnswer': {'processedText': 'F', 'rawText': 'f'},\n",
       "    'globalID': 'DQ_000058',\n",
       "    'id': 'q0012',\n",
       "    'imageName': 'rain_shadow_17535.png',\n",
       "    'imagePath': 'question_images/rain_shadow_17535.png',\n",
       "    'type': 'Diagram Multiple Choice'},\n",
       "   'q0013': {'answerChoices': {'a': {'idStructural': 'a.',\n",
       "      'processedText': 'Soil',\n",
       "      'rawText': 'Soil'},\n",
       "     'b': {'idStructural': 'b.',\n",
       "      'processedText': 'Prevailing wind',\n",
       "      'rawText': 'Prevailing wind'},\n",
       "     'c': {'idStructural': 'c.',\n",
       "      'processedText': 'Rainfall',\n",
       "      'rawText': 'Rainfall'},\n",
       "     'd': {'idStructural': 'd.',\n",
       "      'processedText': 'Rain shadow',\n",
       "      'rawText': 'Rain shadow'}},\n",
       "    'beingAsked': {'processedText': 'What takes the water from the ocean?',\n",
       "     'rawText': 'What takes the water from the ocean?'},\n",
       "    'correctAnswer': {'processedText': 'Prevailing wind',\n",
       "     'rawText': 'Prevailing wind'},\n",
       "    'globalID': 'DQ_000004',\n",
       "    'id': 'q0013',\n",
       "    'imageName': 'rain_shadow_17535.png',\n",
       "    'imagePath': 'question_images/rain_shadow_17535.png',\n",
       "    'type': 'Diagram Multiple Choice'},\n",
       "   'q0014': {'answerChoices': {'a': {'idStructural': 'a.',\n",
       "      'processedText': 'F',\n",
       "      'rawText': 'F'},\n",
       "     'b': {'idStructural': 'b.', 'processedText': 'M', 'rawText': 'M'},\n",
       "     'c': {'idStructural': 'c.', 'processedText': 'D', 'rawText': 'D'},\n",
       "     'd': {'idStructural': 'd.', 'processedText': 'J', 'rawText': 'J'}},\n",
       "    'beingAsked': {'processedText': 'Which represents the rain shadow?',\n",
       "     'rawText': 'Which represents the rain shadow?'},\n",
       "    'correctAnswer': {'processedText': 'D', 'rawText': 'D'},\n",
       "    'globalID': 'DQ_000015',\n",
       "    'id': 'q0014',\n",
       "    'imageName': 'rain_shadow_17535.png',\n",
       "    'imagePath': 'question_images/rain_shadow_17535.png',\n",
       "    'type': 'Diagram Multiple Choice'},\n",
       "   'q0015': {'answerChoices': {'a': {'idStructural': 'a.',\n",
       "      'processedText': 'S',\n",
       "      'rawText': 'S'},\n",
       "     'b': {'idStructural': 'b.', 'processedText': 'E', 'rawText': 'E'},\n",
       "     'c': {'idStructural': 'c.', 'processedText': 'N', 'rawText': 'N'},\n",
       "     'd': {'idStructural': 'd.', 'processedText': 'R', 'rawText': 'R'}},\n",
       "    'beingAsked': {'processedText': 'Which label represents the rain shadow?',\n",
       "     'rawText': 'Which label represents the rain shadow?'},\n",
       "    'correctAnswer': {'processedText': 'E', 'rawText': 'E'},\n",
       "    'globalID': 'DQ_000002',\n",
       "    'id': 'q0015',\n",
       "    'imageName': 'rain_shadow_17536.png',\n",
       "    'imagePath': 'question_images/rain_shadow_17536.png',\n",
       "    'type': 'Diagram Multiple Choice'},\n",
       "   'q0016': {'answerChoices': {'a': {'idStructural': 'a.',\n",
       "      'processedText': 'H',\n",
       "      'rawText': 'H'},\n",
       "     'b': {'idStructural': 'b.', 'processedText': 'E', 'rawText': 'E'},\n",
       "     'c': {'idStructural': 'c.', 'processedText': 'R', 'rawText': 'R'},\n",
       "     'd': {'idStructural': 'd.', 'processedText': 'S', 'rawText': 'S'}},\n",
       "    'beingAsked': {'processedText': 'Which letter represents the Rain Shadow in this diagram?',\n",
       "     'rawText': 'Which letter represents the Rain Shadow in this diagram?'},\n",
       "    'correctAnswer': {'processedText': 'E', 'rawText': 'E'},\n",
       "    'globalID': 'DQ_000053',\n",
       "    'id': 'q0016',\n",
       "    'imageName': 'rain_shadow_17536.png',\n",
       "    'imagePath': 'question_images/rain_shadow_17536.png',\n",
       "    'type': 'Diagram Multiple Choice'},\n",
       "   'q0017': {'answerChoices': {'a': {'idStructural': 'a.',\n",
       "      'processedText': 'S',\n",
       "      'rawText': 'S'},\n",
       "     'b': {'idStructural': 'b.', 'processedText': 'H', 'rawText': 'H'},\n",
       "     'c': {'idStructural': 'c.', 'processedText': 'E', 'rawText': 'E'},\n",
       "     'd': {'idStructural': 'd.', 'processedText': 'R', 'rawText': 'R'}},\n",
       "    'beingAsked': {'processedText': 'Which represents the rising air cooling and condensing?',\n",
       "     'rawText': 'Which represents the rising air cooling and condensing?'},\n",
       "    'correctAnswer': {'processedText': 'R', 'rawText': 'R'},\n",
       "    'globalID': 'DQ_000059',\n",
       "    'id': 'q0017',\n",
       "    'imageName': 'rain_shadow_17536.png',\n",
       "    'imagePath': 'question_images/rain_shadow_17536.png',\n",
       "    'type': 'Diagram Multiple Choice'},\n",
       "   'q0018': {'answerChoices': {'a': {'idStructural': 'a.',\n",
       "      'processedText': 'N',\n",
       "      'rawText': 'N'},\n",
       "     'b': {'idStructural': 'b.', 'processedText': 'S', 'rawText': 'S'},\n",
       "     'c': {'idStructural': 'c.', 'processedText': 'F', 'rawText': 'F'},\n",
       "     'd': {'idStructural': 'd.', 'processedText': 'C', 'rawText': 'C'}},\n",
       "    'beingAsked': {'processedText': 'Which letter indicates the effect of cool air sinking and warming?',\n",
       "     'rawText': 'Which letter indicates the effect of cool air sinking and warming?'},\n",
       "    'correctAnswer': {'processedText': 'S', 'rawText': 'S'},\n",
       "    'globalID': 'DQ_000045',\n",
       "    'id': 'q0018',\n",
       "    'imageName': 'rain_shadow_17537.png',\n",
       "    'imagePath': 'question_images/rain_shadow_17537.png',\n",
       "    'type': 'Diagram Multiple Choice'},\n",
       "   'q0019': {'answerChoices': {'a': {'idStructural': 'a.',\n",
       "      'processedText': 'dry air',\n",
       "      'rawText': 'dry air'},\n",
       "     'b': {'idStructural': 'b.',\n",
       "      'processedText': 'moist air',\n",
       "      'rawText': 'moist air'},\n",
       "     'c': {'idStructural': 'c.', 'processedText': 'rain', 'rawText': 'rain'},\n",
       "     'd': {'idStructural': 'd.',\n",
       "      'processedText': 'condensation',\n",
       "      'rawText': 'condensation'}},\n",
       "    'beingAsked': {'processedText': 'What flows to the Atacama desert over the Andes?',\n",
       "     'rawText': 'What flows to the Atacama desert over the Andes?'},\n",
       "    'correctAnswer': {'processedText': 'dry air', 'rawText': 'dry air'},\n",
       "    'globalID': 'DQ_000038',\n",
       "    'id': 'q0019',\n",
       "    'imageName': 'rain_shadow_7525.png',\n",
       "    'imagePath': 'question_images/rain_shadow_7525.png',\n",
       "    'type': 'Diagram Multiple Choice'},\n",
       "   'q0020': {'answerChoices': {'a': {'idStructural': 'a.',\n",
       "      'processedText': 'Forest',\n",
       "      'rawText': 'Forest'},\n",
       "     'b': {'idStructural': 'b.',\n",
       "      'processedText': 'Clouds',\n",
       "      'rawText': 'Clouds'},\n",
       "     'c': {'idStructural': 'c.',\n",
       "      'processedText': 'Atacama desert',\n",
       "      'rawText': 'Atacama desert'},\n",
       "     'd': {'idStructural': 'd.',\n",
       "      'processedText': 'The Andes slopes',\n",
       "      'rawText': 'The Andes slopes'}},\n",
       "    'beingAsked': {'processedText': 'Moist air comes from what area in the diagram?',\n",
       "     'rawText': 'Moist air comes from what area in the diagram?'},\n",
       "    'correctAnswer': {'processedText': 'Forest', 'rawText': 'Forest'},\n",
       "    'globalID': 'DQ_000011',\n",
       "    'id': 'q0020',\n",
       "    'imageName': 'rain_shadow_7525.png',\n",
       "    'imagePath': 'question_images/rain_shadow_7525.png',\n",
       "    'type': 'Diagram Multiple Choice'},\n",
       "   'q0021': {'answerChoices': {'a': {'idStructural': 'a.',\n",
       "      'processedText': '6',\n",
       "      'rawText': '6'},\n",
       "     'b': {'idStructural': 'b.', 'processedText': '4', 'rawText': '4'},\n",
       "     'c': {'idStructural': 'c.', 'processedText': '3', 'rawText': '3'},\n",
       "     'd': {'idStructural': 'd.', 'processedText': '2', 'rawText': '2'}},\n",
       "    'beingAsked': {'processedText': 'How many arrows are in the diagram?',\n",
       "     'rawText': 'How many arrows are in the diagram?'},\n",
       "    'correctAnswer': {'processedText': '6', 'rawText': '6'},\n",
       "    'globalID': 'DQ_000044',\n",
       "    'id': 'q0021',\n",
       "    'imageName': 'rain_shadow_7525.png',\n",
       "    'imagePath': 'question_images/rain_shadow_7525.png',\n",
       "    'type': 'Diagram Multiple Choice'},\n",
       "   'q0022': {'answerChoices': {'a': {'idStructural': 'a.',\n",
       "      'processedText': 'precipitation',\n",
       "      'rawText': 'precipitation'},\n",
       "     'b': {'idStructural': 'b.',\n",
       "      'processedText': 'collection',\n",
       "      'rawText': 'collection'},\n",
       "     'c': {'idStructural': 'c.',\n",
       "      'processedText': 'evaporation',\n",
       "      'rawText': 'evaporation'},\n",
       "     'd': {'idStructural': 'd.',\n",
       "      'processedText': 'It is the last stage',\n",
       "      'rawText': 'It is the last stage'}},\n",
       "    'beingAsked': {'processedText': 'What happens after condensation?',\n",
       "     'rawText': 'What happens after condensation?'},\n",
       "    'correctAnswer': {'processedText': 'precipitation',\n",
       "     'rawText': 'precipitation'},\n",
       "    'globalID': 'DQ_000001',\n",
       "    'id': 'q0022',\n",
       "    'imageName': 'rain_shadow_7525.png',\n",
       "    'imagePath': 'question_images/rain_shadow_7525.png',\n",
       "    'type': 'Diagram Multiple Choice'},\n",
       "   'q0023': {'answerChoices': {'a': {'idStructural': 'a.',\n",
       "      'processedText': 'Rainfall would stay the same',\n",
       "      'rawText': 'Rainfall would stay the same'},\n",
       "     'b': {'idStructural': 'b.',\n",
       "      'processedText': 'Rainfall would increase',\n",
       "      'rawText': 'Rainfall would increase'},\n",
       "     'c': {'idStructural': 'c.',\n",
       "      'processedText': 'Rainfall would decrease',\n",
       "      'rawText': 'Rainfall would decrease'},\n",
       "     'd': {'idStructural': 'd.',\n",
       "      'processedText': 'It would evaporate in the desert',\n",
       "      'rawText': 'It would evaporate in the desert'}},\n",
       "    'beingAsked': {'processedText': 'What would happen to the moist air if the mountains were not present?',\n",
       "     'rawText': 'What would happen to the moist air if the mountains were not present?'},\n",
       "    'correctAnswer': {'processedText': 'Rainfall would decrease',\n",
       "     'rawText': 'Rainfall would decrease'},\n",
       "    'globalID': 'DQ_000046',\n",
       "    'id': 'q0023',\n",
       "    'imageName': 'rain_shadow_7525.png',\n",
       "    'imagePath': 'question_images/rain_shadow_7525.png',\n",
       "    'type': 'Diagram Multiple Choice'},\n",
       "   'q0024': {'answerChoices': {'a': {'idStructural': 'a.',\n",
       "      'processedText': 'warm ocean',\n",
       "      'rawText': 'warm ocean'},\n",
       "     'b': {'idStructural': 'b.',\n",
       "      'processedText': 'prevailing winds',\n",
       "      'rawText': 'prevailing winds'},\n",
       "     'c': {'idStructural': 'c.',\n",
       "      'processedText': 'evaporation',\n",
       "      'rawText': 'evaporation'},\n",
       "     'd': {'idStructural': 'd.',\n",
       "      'processedText': 'rain shadow',\n",
       "      'rawText': 'rain shadow'}},\n",
       "    'beingAsked': {'processedText': 'What is the last step in the orographic precipitation?',\n",
       "     'rawText': 'What is the last step in the orographic precipitation?'},\n",
       "    'correctAnswer': {'processedText': 'rain shadow',\n",
       "     'rawText': 'rain shadow'},\n",
       "    'globalID': 'DQ_000013',\n",
       "    'id': 'q0024',\n",
       "    'imageName': 'rain_shadow_7529.png',\n",
       "    'imagePath': 'question_images/rain_shadow_7529.png',\n",
       "    'type': 'Diagram Multiple Choice'},\n",
       "   'q0025': {'answerChoices': {'a': {'idStructural': 'a.',\n",
       "      'processedText': 'Prevailing winds',\n",
       "      'rawText': 'Prevailing winds'},\n",
       "     'b': {'idStructural': 'b.',\n",
       "      'processedText': 'Evaporation',\n",
       "      'rawText': 'Evaporation'},\n",
       "     'c': {'idStructural': 'c.',\n",
       "      'processedText': 'Warm ocean',\n",
       "      'rawText': 'Warm ocean'},\n",
       "     'd': {'idStructural': 'd.',\n",
       "      'processedText': 'Rain shadow',\n",
       "      'rawText': 'Rain shadow'}},\n",
       "    'beingAsked': {'processedText': 'Which of the following determines the type of air mass that moves over an area?',\n",
       "     'rawText': 'Which of the following determines the type of air mass that moves over an area?'},\n",
       "    'correctAnswer': {'processedText': 'Prevailing winds',\n",
       "     'rawText': 'Prevailing winds'},\n",
       "    'globalID': 'DQ_000025',\n",
       "    'id': 'q0025',\n",
       "    'imageName': 'rain_shadow_7529.png',\n",
       "    'imagePath': 'question_images/rain_shadow_7529.png',\n",
       "    'type': 'Diagram Multiple Choice'},\n",
       "   'q0026': {'answerChoices': {'a': {'idStructural': 'a.',\n",
       "      'processedText': 'by forming rain shadow',\n",
       "      'rawText': 'by forming rain shadow'},\n",
       "     'b': {'idStructural': 'b.',\n",
       "      'processedText': 'by strengthening prevailing winds',\n",
       "      'rawText': 'by strengthening prevailing winds'},\n",
       "     'c': {'idStructural': 'c.',\n",
       "      'processedText': 'by causing evaporation',\n",
       "      'rawText': 'by causing evaporation'},\n",
       "     'd': {'idStructural': 'd.',\n",
       "      'processedText': 'by creating orographic precipitation',\n",
       "      'rawText': 'by creating orographic precipitation'}},\n",
       "    'beingAsked': {'processedText': 'How can mountains protect certain land areas from rain?',\n",
       "     'rawText': 'How can mountains protect certain land areas from rain?'},\n",
       "    'correctAnswer': {'processedText': 'by forming rain shadow',\n",
       "     'rawText': 'by forming rain shadow'},\n",
       "    'globalID': 'DQ_000009',\n",
       "    'id': 'q0026',\n",
       "    'imageName': 'rain_shadow_7529.png',\n",
       "    'imagePath': 'question_images/rain_shadow_7529.png',\n",
       "    'type': 'Diagram Multiple Choice'},\n",
       "   'q0027': {'answerChoices': {'a': {'idStructural': 'a.',\n",
       "      'processedText': '2',\n",
       "      'rawText': '2'},\n",
       "     'b': {'idStructural': 'b.', 'processedText': '5', 'rawText': '5'},\n",
       "     'c': {'idStructural': 'c.', 'processedText': '4', 'rawText': '4'},\n",
       "     'd': {'idStructural': 'd.', 'processedText': '3', 'rawText': '3'}},\n",
       "    'beingAsked': {'processedText': 'How many elements make up the rain shadow?',\n",
       "     'rawText': 'how many elements make up the rain shadow?'},\n",
       "    'correctAnswer': {'processedText': '5', 'rawText': '5'},\n",
       "    'globalID': 'DQ_000022',\n",
       "    'id': 'q0027',\n",
       "    'imageName': 'rain_shadow_7529.png',\n",
       "    'imagePath': 'question_images/rain_shadow_7529.png',\n",
       "    'type': 'Diagram Multiple Choice'},\n",
       "   'q0028': {'answerChoices': {'a': {'idStructural': 'a.',\n",
       "      'processedText': 'The mountain disperses clouds and dries up the rain.',\n",
       "      'rawText': 'The mountain disperses clouds and dries up the rain.'},\n",
       "     'b': {'idStructural': 'b.',\n",
       "      'processedText': 'The mountain heats the air and dries the rain.',\n",
       "      'rawText': 'The mountain heats the air and dries the rain.'},\n",
       "     'c': {'idStructural': 'c.',\n",
       "      'processedText': 'Prevailing winds rising on one side of a mountain are cooled and precipitation forms. Rain falls on that side, leaving the other side dry.',\n",
       "      'rawText': 'Prevailing winds rising on one side of a mountain are cooled and precipitation forms. Rain falls on that side, leaving the other side dry.'},\n",
       "     'd': {'idStructural': 'd.',\n",
       "      'processedText': 'Snow on top of the mountain freezes rain.',\n",
       "      'rawText': 'Snow on top of the mountain freezes rain.'}},\n",
       "    'beingAsked': {'processedText': 'How do mountains form rain shadows?',\n",
       "     'rawText': 'How do mountains form rain shadows?'},\n",
       "    'correctAnswer': {'processedText': 'Prevailing winds rising on one side of a mountain are cooled and precipitation forms. Rain falls on that side, leaving the other side dry.',\n",
       "     'rawText': 'Prevailing winds rising on one side of a mountain are cooled and precipitation forms. Rain falls on that side, leaving the other side dry.'},\n",
       "    'globalID': 'DQ_000026',\n",
       "    'id': 'q0028',\n",
       "    'imageName': 'rain_shadow_7529.png',\n",
       "    'imagePath': 'question_images/rain_shadow_7529.png',\n",
       "    'type': 'Diagram Multiple Choice'},\n",
       "   'q0029': {'answerChoices': {'a': {'idStructural': 'a.',\n",
       "      'processedText': 'It sucks the air out of the atmosphere.',\n",
       "      'rawText': 'It sucks the air out of the atmosphere.'},\n",
       "     'b': {'idStructural': 'b.',\n",
       "      'processedText': 'It cools the moist rising air and turns it into rain.',\n",
       "      'rawText': 'It cools the moist rising air and turns it into rain.'},\n",
       "     'c': {'idStructural': 'c.',\n",
       "      'processedText': 'It tears apart clouds.',\n",
       "      'rawText': 'It tears apart clouds.'},\n",
       "     'd': {'idStructural': 'd.',\n",
       "      'processedText': 'It warms rising air and produces strong prevailing winds.',\n",
       "      'rawText': 'It warms rising air and produces strong prevailing winds.'}},\n",
       "    'beingAsked': {'processedText': 'What role does the mountain play in creating a rain shadow?',\n",
       "     'rawText': 'What role does the mountain play in creating a rain shadow?'},\n",
       "    'correctAnswer': {'processedText': 'It cools the moist rising air and turns it into rain.',\n",
       "     'rawText': 'It cools the moist rising air and turns it into rain.'},\n",
       "    'globalID': 'DQ_000014',\n",
       "    'id': 'q0029',\n",
       "    'imageName': 'rain_shadow_7530.png',\n",
       "    'imagePath': 'question_images/rain_shadow_7530.png',\n",
       "    'type': 'Diagram Multiple Choice'},\n",
       "   'q0030': {'answerChoices': {'a': {'idStructural': 'a.',\n",
       "      'processedText': 'Downward',\n",
       "      'rawText': 'Downward'},\n",
       "     'b': {'idStructural': 'b.', 'processedText': 'North', 'rawText': 'North'},\n",
       "     'c': {'idStructural': 'c.',\n",
       "      'processedText': 'Towards Tibet/Ladakh',\n",
       "      'rawText': 'Towards Tibet/Ladakh'},\n",
       "     'd': {'idStructural': 'd.',\n",
       "      'processedText': 'Towards Nepal/Bhutan',\n",
       "      'rawText': 'Towards Nepal/Bhutan'}},\n",
       "    'beingAsked': {'processedText': 'To which side of the Himalaya does the warm, moist air travel?',\n",
       "     'rawText': 'To which side of the Himalaya does the warm, moist air travel?'},\n",
       "    'correctAnswer': {'processedText': 'Towards Tibet/Ladakh',\n",
       "     'rawText': 'Towards Tibet/Ladakh'},\n",
       "    'globalID': 'DQ_000019',\n",
       "    'id': 'q0030',\n",
       "    'imageName': 'rain_shadow_7530.png',\n",
       "    'imagePath': 'question_images/rain_shadow_7530.png',\n",
       "    'type': 'Diagram Multiple Choice'},\n",
       "   'q0031': {'answerChoices': {'a': {'idStructural': 'a.',\n",
       "      'processedText': 'Moist Air returns to the sea',\n",
       "      'rawText': 'Moist Air returns to the sea'},\n",
       "     'b': {'idStructural': 'b.',\n",
       "      'processedText': 'Moist air is absorbed by the mountain',\n",
       "      'rawText': 'Moist air is absorbed by the mountain'},\n",
       "     'c': {'idStructural': 'c.',\n",
       "      'processedText': 'Moist Air becomes rain',\n",
       "      'rawText': 'Moist Air becomes rain'},\n",
       "     'd': {'idStructural': 'd.',\n",
       "      'processedText': 'Dry air comes downwart on the opposite side of the mountain',\n",
       "      'rawText': 'Dry air comes downwart on the opposite side of the mountain'}},\n",
       "    'beingAsked': {'processedText': 'What happens to moist air after it is blown upwards a mountain?',\n",
       "     'rawText': 'What happens to moist air after it is blown upwards a mountain?'},\n",
       "    'correctAnswer': {'processedText': 'Dry air comes downwart on the opposite side of the mountain',\n",
       "     'rawText': 'Dry air comes downwart on the opposite side of the mountain'},\n",
       "    'globalID': 'DQ_000035',\n",
       "    'id': 'q0031',\n",
       "    'imageName': 'rain_shadow_7532.png',\n",
       "    'imagePath': 'question_images/rain_shadow_7532.png',\n",
       "    'type': 'Diagram Multiple Choice'},\n",
       "   'q0032': {'answerChoices': {'a': {'idStructural': 'a.',\n",
       "      'processedText': '2',\n",
       "      'rawText': '2'},\n",
       "     'b': {'idStructural': 'b.', 'processedText': '4', 'rawText': '4'},\n",
       "     'c': {'idStructural': 'c.', 'processedText': '3', 'rawText': '3'},\n",
       "     'd': {'idStructural': 'd.', 'processedText': '1', 'rawText': '1'}},\n",
       "    'beingAsked': {'processedText': 'How many stages are there in the process?',\n",
       "     'rawText': 'How many stages are there in the process?'},\n",
       "    'correctAnswer': {'processedText': '3', 'rawText': '3'},\n",
       "    'globalID': 'DQ_000057',\n",
       "    'id': 'q0032',\n",
       "    'imageName': 'rain_shadow_7532.png',\n",
       "    'imagePath': 'question_images/rain_shadow_7532.png',\n",
       "    'type': 'Diagram Multiple Choice'},\n",
       "   'q0033': {'answerChoices': {'a': {'idStructural': 'a.',\n",
       "      'processedText': '3',\n",
       "      'rawText': '3'},\n",
       "     'b': {'idStructural': 'b.', 'processedText': '4', 'rawText': '4'},\n",
       "     'c': {'idStructural': 'c.', 'processedText': '1', 'rawText': '1'},\n",
       "     'd': {'idStructural': 'd.', 'processedText': '2', 'rawText': '2'}},\n",
       "    'beingAsked': {'processedText': 'In the diagram, how many slopes does the mountain have?',\n",
       "     'rawText': 'In the diagram, how many slopes does the mountain have?'},\n",
       "    'correctAnswer': {'processedText': '2', 'rawText': '2'},\n",
       "    'globalID': 'DQ_000031',\n",
       "    'id': 'q0033',\n",
       "    'imageName': 'rain_shadow_7532.png',\n",
       "    'imagePath': 'question_images/rain_shadow_7532.png',\n",
       "    'type': 'Diagram Multiple Choice'},\n",
       "   'q0034': {'answerChoices': {'a': {'idStructural': 'a.',\n",
       "      'processedText': 'windward slope',\n",
       "      'rawText': 'windward slope'},\n",
       "     'b': {'idStructural': 'b.',\n",
       "      'processedText': 'central air rising',\n",
       "      'rawText': 'central air rising'},\n",
       "     'c': {'idStructural': 'c.',\n",
       "      'processedText': 'rain shadow',\n",
       "      'rawText': 'rain shadow'},\n",
       "     'd': {'idStructural': 'd.',\n",
       "      'processedText': 'eye of the storm',\n",
       "      'rawText': 'eye of the storm'}},\n",
       "    'beingAsked': {'processedText': 'The dry leeward slope sits in what area in the diagram?',\n",
       "     'rawText': 'The dry leeward slope sits in what area in the diagram?'},\n",
       "    'correctAnswer': {'processedText': 'rain shadow',\n",
       "     'rawText': 'rain shadow'},\n",
       "    'globalID': 'DQ_000049',\n",
       "    'id': 'q0034',\n",
       "    'imageName': 'rain_shadow_7532.png',\n",
       "    'imagePath': 'question_images/rain_shadow_7532.png',\n",
       "    'type': 'Diagram Multiple Choice'},\n",
       "   'q0035': {'answerChoices': {'a': {'idStructural': 'a.',\n",
       "      'processedText': 'It results to vaporization.',\n",
       "      'rawText': 'It results to vaporization.'},\n",
       "     'b': {'idStructural': 'b.',\n",
       "      'processedText': 'It results to humidity.',\n",
       "      'rawText': 'It results to humidity.'},\n",
       "     'c': {'idStructural': 'c.',\n",
       "      'processedText': 'It results to precipitation.',\n",
       "      'rawText': 'It results to precipitation.'},\n",
       "     'd': {'idStructural': 'd.',\n",
       "      'processedText': 'It results to evaporation.',\n",
       "      'rawText': 'It results to evaporation.'}},\n",
       "    'beingAsked': {'processedText': 'What happens when air rises over mountains and cools?',\n",
       "     'rawText': 'What happens when air rises over mountains and cools?'},\n",
       "    'correctAnswer': {'processedText': 'It results to precipitation.',\n",
       "     'rawText': 'It results to precipitation.'},\n",
       "    'globalID': 'DQ_000012',\n",
       "    'id': 'q0035',\n",
       "    'imageName': 'rain_shadow_7532.png',\n",
       "    'imagePath': 'question_images/rain_shadow_7532.png',\n",
       "    'type': 'Diagram Multiple Choice'},\n",
       "   'q0036': {'answerChoices': {'a': {'idStructural': 'a.',\n",
       "      'processedText': 'it rains',\n",
       "      'rawText': 'it rains'},\n",
       "     'b': {'idStructural': 'b.',\n",
       "      'processedText': 'rain shadow is formed',\n",
       "      'rawText': 'rain shadow is formed'},\n",
       "     'c': {'idStructural': 'c.',\n",
       "      'processedText': 'air descends and becomes warmer',\n",
       "      'rawText': 'air descends and becomes warmer'},\n",
       "     'd': {'idStructural': 'd.',\n",
       "      'processedText': 'warm air rises over high areas',\n",
       "      'rawText': 'warm air rises over high areas'}},\n",
       "    'beingAsked': {'processedText': 'From the diagram, what happens when air cools and condenses, forming clouds?',\n",
       "     'rawText': 'From the diagram, what happens when air cools and condenses, forming clouds?'},\n",
       "    'correctAnswer': {'processedText': 'it rains', 'rawText': 'it rains'},\n",
       "    'globalID': 'DQ_000018',\n",
       "    'id': 'q0036',\n",
       "    'imageName': 'rain_shadow_7534.png',\n",
       "    'imagePath': 'question_images/rain_shadow_7534.png',\n",
       "    'type': 'Diagram Multiple Choice'},\n",
       "   'q0037': {'answerChoices': {'a': {'idStructural': 'a.',\n",
       "      'processedText': 'It forms clouds',\n",
       "      'rawText': 'It forms clouds'},\n",
       "     'b': {'idStructural': 'b.',\n",
       "      'processedText': 'It descends and becomes moist',\n",
       "      'rawText': 'It descends and becomes moist'},\n",
       "     'c': {'idStructural': 'c.',\n",
       "      'processedText': 'It rises and become moist',\n",
       "      'rawText': 'It rises and become moist'},\n",
       "     'd': {'idStructural': 'd.',\n",
       "      'processedText': 'It descends, warms, and becomes drier',\n",
       "      'rawText': 'It descends, warms, and becomes drier'}},\n",
       "    'beingAsked': {'processedText': 'What happens to air after precipitation?',\n",
       "     'rawText': 'What happens to air after precipitation?'},\n",
       "    'correctAnswer': {'processedText': 'It descends, warms, and becomes drier',\n",
       "     'rawText': 'It descends, warms, and becomes drier'},\n",
       "    'globalID': 'DQ_000021',\n",
       "    'id': 'q0037',\n",
       "    'imageName': 'rain_shadow_7534.png',\n",
       "    'imagePath': 'question_images/rain_shadow_7534.png',\n",
       "    'type': 'Diagram Multiple Choice'},\n",
       "   'q0038': {'answerChoices': {'a': {'idStructural': 'a.',\n",
       "      'processedText': 'It forms clouds',\n",
       "      'rawText': 'It forms clouds'},\n",
       "     'b': {'idStructural': 'b.',\n",
       "      'processedText': 'It forms part of the sea',\n",
       "      'rawText': 'It forms part of the sea'},\n",
       "     'c': {'idStructural': 'c.',\n",
       "      'processedText': 'It rains',\n",
       "      'rawText': 'It rains'},\n",
       "     'd': {'idStructural': 'd.',\n",
       "      'processedText': 'It rises',\n",
       "      'rawText': 'It rises'}},\n",
       "    'beingAsked': {'processedText': 'What happens when air cools?',\n",
       "     'rawText': 'What happens when air cools?'},\n",
       "    'correctAnswer': {'processedText': 'It forms clouds',\n",
       "     'rawText': 'It forms clouds'},\n",
       "    'globalID': 'DQ_000008',\n",
       "    'id': 'q0038',\n",
       "    'imageName': 'rain_shadow_7534.png',\n",
       "    'imagePath': 'question_images/rain_shadow_7534.png',\n",
       "    'type': 'Diagram Multiple Choice'},\n",
       "   'q0039': {'answerChoices': {'a': {'idStructural': 'a.',\n",
       "      'processedText': 'easterly slope',\n",
       "      'rawText': 'easterly slope'},\n",
       "     'b': {'idStructural': 'b.',\n",
       "      'processedText': 'ocean slope',\n",
       "      'rawText': 'ocean slope'},\n",
       "     'c': {'idStructural': 'c.',\n",
       "      'processedText': 'prevailing wind',\n",
       "      'rawText': 'prevailing wind'},\n",
       "     'd': {'idStructural': 'd.',\n",
       "      'processedText': 'rain shadow',\n",
       "      'rawText': 'rain shadow'}},\n",
       "    'beingAsked': {'processedText': 'Which side of the mountain does not receive rain?',\n",
       "     'rawText': 'Which side of the mountain does not receive rain?'},\n",
       "    'correctAnswer': {'processedText': 'rain shadow',\n",
       "     'rawText': 'rain shadow'},\n",
       "    'globalID': 'DQ_000016',\n",
       "    'id': 'q0039',\n",
       "    'imageName': 'rain_shadow_7535.png',\n",
       "    'imagePath': 'question_images/rain_shadow_7535.png',\n",
       "    'type': 'Diagram Multiple Choice'},\n",
       "   'q0040': {'answerChoices': {'a': {'idStructural': 'a.',\n",
       "      'processedText': 'Ocean',\n",
       "      'rawText': 'Ocean'},\n",
       "     'b': {'idStructural': 'b.', 'processedText': 'Trees', 'rawText': 'Trees'},\n",
       "     'c': {'idStructural': 'c.',\n",
       "      'processedText': 'Mountain',\n",
       "      'rawText': 'Mountain'},\n",
       "     'd': {'idStructural': 'd.', 'processedText': 'Soil', 'rawText': 'Soil'}},\n",
       "    'beingAsked': {'processedText': 'This influences the occurrence of rainfall.',\n",
       "     'rawText': 'This influences the occurrence of rainfall.'},\n",
       "    'correctAnswer': {'processedText': 'Ocean', 'rawText': 'Ocean'},\n",
       "    'globalID': 'DQ_000033',\n",
       "    'id': 'q0040',\n",
       "    'imageName': 'rain_shadow_7535.png',\n",
       "    'imagePath': 'question_images/rain_shadow_7535.png',\n",
       "    'type': 'Diagram Multiple Choice'},\n",
       "   'q0041': {'answerChoices': {'a': {'idStructural': 'a.',\n",
       "      'processedText': 'ocean level drops',\n",
       "      'rawText': 'ocean level drops'},\n",
       "     'b': {'idStructural': 'b.',\n",
       "      'processedText': 'rain shadow is formed',\n",
       "      'rawText': 'rain shadow is formed'},\n",
       "     'c': {'idStructural': 'c.',\n",
       "      'processedText': 'prevailing wind blows',\n",
       "      'rawText': 'prevailing wind blows'},\n",
       "     'd': {'idStructural': 'd.',\n",
       "      'processedText': 'ocean level rises',\n",
       "      'rawText': 'ocean level rises'}},\n",
       "    'beingAsked': {'processedText': 'From the diagram, what happens after a rainfall?',\n",
       "     'rawText': 'From the diagram, what happens after a rainfall?'},\n",
       "    'correctAnswer': {'processedText': 'rain shadow is formed',\n",
       "     'rawText': 'rain shadow is formed'},\n",
       "    'globalID': 'DQ_000017',\n",
       "    'id': 'q0041',\n",
       "    'imageName': 'rain_shadow_7535.png',\n",
       "    'imagePath': 'question_images/rain_shadow_7535.png',\n",
       "    'type': 'Diagram Multiple Choice'},\n",
       "   'q0042': {'answerChoices': {'a': {'idStructural': 'a.',\n",
       "      'processedText': 'ocean',\n",
       "      'rawText': 'ocean'},\n",
       "     'b': {'idStructural': 'b.',\n",
       "      'processedText': 'rain shadow',\n",
       "      'rawText': 'rain shadow'},\n",
       "     'c': {'idStructural': 'c.',\n",
       "      'processedText': 'mountain',\n",
       "      'rawText': 'mountain'},\n",
       "     'd': {'idStructural': 'd.',\n",
       "      'processedText': 'winds',\n",
       "      'rawText': 'winds'}},\n",
       "    'beingAsked': {'processedText': 'Rain comes from what source in this diagram?',\n",
       "     'rawText': 'Rain comes from what source in this diagram?'},\n",
       "    'correctAnswer': {'processedText': 'ocean', 'rawText': 'ocean'},\n",
       "    'globalID': 'DQ_000020',\n",
       "    'id': 'q0042',\n",
       "    'imageName': 'rain_shadow_7535.png',\n",
       "    'imagePath': 'question_images/rain_shadow_7535.png',\n",
       "    'type': 'Diagram Multiple Choice'},\n",
       "   'q0043': {'answerChoices': {'a': {'idStructural': 'a.',\n",
       "      'processedText': 'Ocean',\n",
       "      'rawText': 'Ocean'},\n",
       "     'b': {'idStructural': 'b.',\n",
       "      'processedText': 'Rain Shadow',\n",
       "      'rawText': 'Rain Shadow'},\n",
       "     'c': {'idStructural': 'c.',\n",
       "      'processedText': 'Rainfall',\n",
       "      'rawText': 'Rainfall'},\n",
       "     'd': {'idStructural': 'd.', 'processedText': 'Wind', 'rawText': 'Wind'}},\n",
       "    'beingAsked': {'processedText': 'In the diagram, what brings water to the soil?',\n",
       "     'rawText': 'In the diagram, what brings water to the soil?'},\n",
       "    'correctAnswer': {'processedText': 'Rainfall', 'rawText': 'Rainfall'},\n",
       "    'globalID': 'DQ_000006',\n",
       "    'id': 'q0043',\n",
       "    'imageName': 'rain_shadow_7535.png',\n",
       "    'imagePath': 'question_images/rain_shadow_7535.png',\n",
       "    'type': 'Diagram Multiple Choice'},\n",
       "   'q0044': {'answerChoices': {'a': {'idStructural': 'a.',\n",
       "      'processedText': 'rainfall',\n",
       "      'rawText': 'rainfall'},\n",
       "     'b': {'idStructural': 'b.',\n",
       "      'processedText': 'prevailing wind',\n",
       "      'rawText': 'prevailing wind'},\n",
       "     'c': {'idStructural': 'c.',\n",
       "      'processedText': 'rain shadow',\n",
       "      'rawText': 'rain shadow'},\n",
       "     'd': {'idStructural': 'd.',\n",
       "      'processedText': 'Ocean',\n",
       "      'rawText': 'Ocean'}},\n",
       "    'beingAsked': {'processedText': 'What is the side facing away from the rain called?',\n",
       "     'rawText': 'What is the side facing away from the rain called?'},\n",
       "    'correctAnswer': {'processedText': 'rain shadow',\n",
       "     'rawText': 'rain shadow'},\n",
       "    'globalID': 'DQ_000005',\n",
       "    'id': 'q0044',\n",
       "    'imageName': 'rain_shadow_7535.png',\n",
       "    'imagePath': 'question_images/rain_shadow_7535.png',\n",
       "    'type': 'Diagram Multiple Choice'},\n",
       "   'q0045': {'answerChoices': {'a': {'idStructural': 'a.',\n",
       "      'processedText': 'warm moist air',\n",
       "      'rawText': 'warm moist air'},\n",
       "     'b': {'idStructural': 'b.',\n",
       "      'processedText': 'prevailing winds',\n",
       "      'rawText': 'prevailing winds'},\n",
       "     'c': {'idStructural': 'c.',\n",
       "      'processedText': 'dry air advances',\n",
       "      'rawText': 'dry air advances'},\n",
       "     'd': {'idStructural': 'd.',\n",
       "      'processedText': 'nothing happens',\n",
       "      'rawText': 'nothing happens'}},\n",
       "    'beingAsked': {'processedText': 'What happens after rising air cools and condenses?',\n",
       "     'rawText': 'what happens after rising air cools and condenses?'},\n",
       "    'correctAnswer': {'processedText': 'dry air advances',\n",
       "     'rawText': 'dry air advances'},\n",
       "    'globalID': 'DQ_000042',\n",
       "    'id': 'q0045',\n",
       "    'imageName': 'rain_shadow_7536.png',\n",
       "    'imagePath': 'question_images/rain_shadow_7536.png',\n",
       "    'type': 'Diagram Multiple Choice'},\n",
       "   'q0046': {'answerChoices': {'a': {'idStructural': 'a.',\n",
       "      'processedText': 'dry air advances',\n",
       "      'rawText': 'dry air advances'},\n",
       "     'b': {'idStructural': 'b.',\n",
       "      'processedText': 'prevailing winds blow',\n",
       "      'rawText': 'prevailing winds blow'},\n",
       "     'c': {'idStructural': 'c.',\n",
       "      'processedText': 'rain shadow is formed',\n",
       "      'rawText': 'rain shadow is formed'},\n",
       "     'd': {'idStructural': 'd.',\n",
       "      'processedText': 'warm moist air forms',\n",
       "      'rawText': 'warm moist air forms'}},\n",
       "    'beingAsked': {'processedText': 'From the diagram, what happens after rising air cools and condenses?',\n",
       "     'rawText': 'From the diagram, what happens after rising air cools and condenses?'},\n",
       "    'correctAnswer': {'processedText': 'dry air advances',\n",
       "     'rawText': 'dry air advances'},\n",
       "    'globalID': 'DQ_000043',\n",
       "    'id': 'q0046',\n",
       "    'imageName': 'rain_shadow_7536.png',\n",
       "    'imagePath': 'question_images/rain_shadow_7536.png',\n",
       "    'type': 'Diagram Multiple Choice'},\n",
       "   'q0047': {'answerChoices': {'a': {'idStructural': 'a.',\n",
       "      'processedText': 'Yes',\n",
       "      'rawText': 'Yes'},\n",
       "     'b': {'idStructural': 'b.', 'processedText': 'No', 'rawText': 'No'},\n",
       "     'c': {'idStructural': 'c.',\n",
       "      'processedText': 'Data Insufficient',\n",
       "      'rawText': 'Data Insufficient'},\n",
       "     'd': {'idStructural': 'd.',\n",
       "      'processedText': 'Not sure',\n",
       "      'rawText': 'Not sure'}},\n",
       "    'beingAsked': {'processedText': 'Would the rain shadow area have any vegetation?',\n",
       "     'rawText': 'Would the rain shadow area have any vegetation?'},\n",
       "    'correctAnswer': {'processedText': 'No', 'rawText': 'No'},\n",
       "    'globalID': 'DQ_000010',\n",
       "    'id': 'q0047',\n",
       "    'imageName': 'rain_shadow_7536.png',\n",
       "    'imagePath': 'question_images/rain_shadow_7536.png',\n",
       "    'type': 'Diagram Multiple Choice'},\n",
       "   'q0048': {'answerChoices': {'a': {'idStructural': 'a.',\n",
       "      'processedText': 'Rainy Windward SLope',\n",
       "      'rawText': 'Rainy Windward SLope'},\n",
       "     'b': {'idStructural': 'b.',\n",
       "      'processedText': 'Wet Leeward Side',\n",
       "      'rawText': 'Wet Leeward Side'},\n",
       "     'c': {'idStructural': 'c.',\n",
       "      'processedText': 'Dry Leeward Side',\n",
       "      'rawText': 'Dry Leeward Side'},\n",
       "     'd': {'idStructural': 'd.',\n",
       "      'processedText': 'Dry Windward Slope',\n",
       "      'rawText': 'Dry Windward Slope'}},\n",
       "    'beingAsked': {'processedText': 'Where does the rain shadow occur?',\n",
       "     'rawText': 'Where does the rain shadow occur?'},\n",
       "    'correctAnswer': {'processedText': 'Dry Leeward Side',\n",
       "     'rawText': 'Dry Leeward Side'},\n",
       "    'globalID': 'DQ_000054',\n",
       "    'id': 'q0048',\n",
       "    'imageName': 'rain_shadow_7537.png',\n",
       "    'imagePath': 'question_images/rain_shadow_7537.png',\n",
       "    'type': 'Diagram Multiple Choice'},\n",
       "   'q0049': {'answerChoices': {'a': {'idStructural': 'a.',\n",
       "      'processedText': '~10 degree Celsius',\n",
       "      'rawText': '~10 degree Celsius'},\n",
       "     'b': {'idStructural': 'b.',\n",
       "      'processedText': '~7 degree Celsius',\n",
       "      'rawText': '~7 degree Celsius'},\n",
       "     'c': {'idStructural': 'c.',\n",
       "      'processedText': '~20 degree Celsius',\n",
       "      'rawText': '~20 degree Celsius'},\n",
       "     'd': {'idStructural': 'd.',\n",
       "      'processedText': '~9 degree Celsius',\n",
       "      'rawText': '~9 degree Celsius'}},\n",
       "    'beingAsked': {'processedText': 'What is temperature like 2000 m above sea level?',\n",
       "     'rawText': 'What is temperature like 2000 m above sea level?'},\n",
       "    'correctAnswer': {'processedText': '~7 degree Celsius',\n",
       "     'rawText': '~7 degree Celsius'},\n",
       "    'globalID': 'DQ_000037',\n",
       "    'id': 'q0049',\n",
       "    'imageName': 'rain_shadow_7537.png',\n",
       "    'imagePath': 'question_images/rain_shadow_7537.png',\n",
       "    'type': 'Diagram Multiple Choice'},\n",
       "   'q0050': {'answerChoices': {'a': {'idStructural': 'a.',\n",
       "      'processedText': 'Rainy windward slope',\n",
       "      'rawText': 'Rainy windward slope'},\n",
       "     'b': {'idStructural': 'b.',\n",
       "      'processedText': 'Rain shadow',\n",
       "      'rawText': 'Rain shadow'},\n",
       "     'c': {'idStructural': 'c.',\n",
       "      'processedText': 'Dry leeward slope',\n",
       "      'rawText': 'Dry leeward slope'},\n",
       "     'd': {'idStructural': 'd.',\n",
       "      'processedText': 'Ocean',\n",
       "      'rawText': 'Ocean'}},\n",
       "    'beingAsked': {'processedText': 'Where does precipitation occur in the diagram?',\n",
       "     'rawText': 'Where does precipitation occur in the diagram?'},\n",
       "    'correctAnswer': {'processedText': 'Rainy windward slope',\n",
       "     'rawText': 'Rainy windward slope'},\n",
       "    'globalID': 'DQ_000041',\n",
       "    'id': 'q0050',\n",
       "    'imageName': 'rain_shadow_7537.png',\n",
       "    'imagePath': 'question_images/rain_shadow_7537.png',\n",
       "    'type': 'Diagram Multiple Choice'},\n",
       "   'q0051': {'answerChoices': {'a': {'idStructural': 'a.',\n",
       "      'processedText': 'Sublimation',\n",
       "      'rawText': 'Sublimation'},\n",
       "     'b': {'idStructural': 'b.',\n",
       "      'processedText': 'Condensation',\n",
       "      'rawText': 'Condensation'},\n",
       "     'c': {'idStructural': 'c.',\n",
       "      'processedText': 'Evaporation',\n",
       "      'rawText': 'Evaporation'},\n",
       "     'd': {'idStructural': 'd.',\n",
       "      'processedText': 'Melting',\n",
       "      'rawText': 'Melting'}},\n",
       "    'beingAsked': {'processedText': 'A cloud is formed through what process?',\n",
       "     'rawText': 'A cloud is formed through what process?'},\n",
       "    'correctAnswer': {'processedText': 'Condensation',\n",
       "     'rawText': 'Condensation'},\n",
       "    'globalID': 'DQ_000055',\n",
       "    'id': 'q0051',\n",
       "    'imageName': 'rain_shadow_7537.png',\n",
       "    'imagePath': 'question_images/rain_shadow_7537.png',\n",
       "    'type': 'Diagram Multiple Choice'},\n",
       "   'q0052': {'answerChoices': {'a': {'idStructural': 'a.',\n",
       "      'processedText': 'cool air has more moisture',\n",
       "      'rawText': 'cool air has more moisture'},\n",
       "     'b': {'idStructural': 'b.',\n",
       "      'processedText': 'elevation causes air to be drier and less oxegenated',\n",
       "      'rawText': 'elevation causes air to be drier and less oxegenated'},\n",
       "     'c': {'idStructural': 'c.',\n",
       "      'processedText': 'Warm air rises and condenses, causing rain',\n",
       "      'rawText': 'Warm air rises and condenses, causing rain'},\n",
       "     'd': {'idStructural': 'd.',\n",
       "      'processedText': 'wind removes moisture from air',\n",
       "      'rawText': 'wind removes moisture from air'}},\n",
       "    'beingAsked': {'processedText': 'Why does it rain on the windward side of an elevated range?',\n",
       "     'rawText': 'Why does it rain on the windward side of an elevated range?'},\n",
       "    'correctAnswer': {'processedText': 'Warm air rises and condenses, causing rain',\n",
       "     'rawText': 'Warm air rises and condenses, causing rain'},\n",
       "    'globalID': 'DQ_000052',\n",
       "    'id': 'q0052',\n",
       "    'imageName': 'rain_shadow_7537.png',\n",
       "    'imagePath': 'question_images/rain_shadow_7537.png',\n",
       "    'type': 'Diagram Multiple Choice'},\n",
       "   'q0053': {'answerChoices': {'a': {'idStructural': 'a.',\n",
       "      'processedText': 'zone of precipitation',\n",
       "      'rawText': 'zone of precipitation'},\n",
       "     'b': {'idStructural': 'b.',\n",
       "      'processedText': 'windward slide',\n",
       "      'rawText': 'windward slide'},\n",
       "     'c': {'idStructural': 'c.',\n",
       "      'processedText': 'rain shadow desert',\n",
       "      'rawText': 'rain shadow desert'},\n",
       "     'd': {'idStructural': 'd.',\n",
       "      'processedText': 'leeward slide',\n",
       "      'rawText': 'leeward slide'}},\n",
       "    'beingAsked': {'processedText': 'What happens after dry air is warmed?',\n",
       "     'rawText': 'what happens after dry air is warmed?'},\n",
       "    'correctAnswer': {'processedText': 'rain shadow desert',\n",
       "     'rawText': 'rain shadow desert'},\n",
       "    'globalID': 'DQ_000027',\n",
       "    'id': 'q0053',\n",
       "    'imageName': 'rain_shadow_8183.png',\n",
       "    'imagePath': 'question_images/rain_shadow_8183.png',\n",
       "    'type': 'Diagram Multiple Choice'},\n",
       "   'q0054': {'answerChoices': {'a': {'idStructural': 'a.',\n",
       "      'processedText': 'air cools and condenses',\n",
       "      'rawText': 'air cools and condenses'},\n",
       "     'b': {'idStructural': 'b.',\n",
       "      'processedText': 'zone of precipitation',\n",
       "      'rawText': 'zone of precipitation'},\n",
       "     'c': {'idStructural': 'c.',\n",
       "      'processedText': 'dry air is warmed',\n",
       "      'rawText': 'dry air is warmed'},\n",
       "     'd': {'idStructural': 'd.',\n",
       "      'processedText': 'rain shadow desert',\n",
       "      'rawText': 'rain shadow desert'}},\n",
       "    'beingAsked': {'processedText': 'From the diagram, what happens after the presence of moist prevailing winds?',\n",
       "     'rawText': 'From the diagram, what happens after the presence of moist prevailing winds?'},\n",
       "    'correctAnswer': {'processedText': 'air cools and condenses',\n",
       "     'rawText': 'air cools and condenses'},\n",
       "    'globalID': 'DQ_000050',\n",
       "    'id': 'q0054',\n",
       "    'imageName': 'rain_shadow_8183.png',\n",
       "    'imagePath': 'question_images/rain_shadow_8183.png',\n",
       "    'type': 'Diagram Multiple Choice'},\n",
       "   'q0055': {'answerChoices': {'a': {'idStructural': 'a.',\n",
       "      'processedText': 'air cools',\n",
       "      'rawText': 'air cools'},\n",
       "     'b': {'idStructural': 'b.',\n",
       "      'processedText': 'dry air is warmed',\n",
       "      'rawText': 'dry air is warmed'},\n",
       "     'c': {'idStructural': 'c.',\n",
       "      'processedText': 'air condenses',\n",
       "      'rawText': 'air condenses'},\n",
       "     'd': {'idStructural': 'd.',\n",
       "      'processedText': 'it rains',\n",
       "      'rawText': 'it rains'}},\n",
       "    'beingAsked': {'processedText': 'What occurs on the leeward side of a mountain range or island?',\n",
       "     'rawText': 'What occurs on the leeward side of a mountain range or island?'},\n",
       "    'correctAnswer': {'processedText': 'dry air is warmed',\n",
       "     'rawText': 'dry air is warmed'},\n",
       "    'globalID': 'DQ_000051',\n",
       "    'id': 'q0055',\n",
       "    'imageName': 'rain_shadow_8183.png',\n",
       "    'imagePath': 'question_images/rain_shadow_8183.png',\n",
       "    'type': 'Diagram Multiple Choice'},\n",
       "   'q0056': {'answerChoices': {'a': {'idStructural': 'a.',\n",
       "      'processedText': '2',\n",
       "      'rawText': '2'},\n",
       "     'b': {'idStructural': 'b.', 'processedText': '4', 'rawText': '4'},\n",
       "     'c': {'idStructural': 'c.', 'processedText': '5', 'rawText': '5'},\n",
       "     'd': {'idStructural': 'd.', 'processedText': '3', 'rawText': '3'}},\n",
       "    'beingAsked': {'processedText': 'How many stages are under Windward Side?',\n",
       "     'rawText': 'How many stages are under Windward Side?'},\n",
       "    'correctAnswer': {'processedText': '3', 'rawText': '3'},\n",
       "    'globalID': 'DQ_000034',\n",
       "    'id': 'q0056',\n",
       "    'imageName': 'rain_shadow_8183.png',\n",
       "    'imagePath': 'question_images/rain_shadow_8183.png',\n",
       "    'type': 'Diagram Multiple Choice'},\n",
       "   'q0057': {'answerChoices': {'a': {'idStructural': 'a.',\n",
       "      'processedText': 'rain shadow desert',\n",
       "      'rawText': 'rain shadow desert'},\n",
       "     'b': {'idStructural': 'b.',\n",
       "      'processedText': 'the moon',\n",
       "      'rawText': 'the moon'},\n",
       "     'c': {'idStructural': 'c.',\n",
       "      'processedText': 'windward side',\n",
       "      'rawText': 'windward side'},\n",
       "     'd': {'idStructural': 'd.',\n",
       "      'processedText': 'leeward side',\n",
       "      'rawText': 'leeward side'}},\n",
       "    'beingAsked': {'processedText': 'Which side receives rain?',\n",
       "     'rawText': 'Which side receives rain?'},\n",
       "    'correctAnswer': {'processedText': 'windward side',\n",
       "     'rawText': 'windward side'},\n",
       "    'globalID': 'DQ_000028',\n",
       "    'id': 'q0057',\n",
       "    'imageName': 'rain_shadow_8183.png',\n",
       "    'imagePath': 'question_images/rain_shadow_8183.png',\n",
       "    'type': 'Diagram Multiple Choice'},\n",
       "   'q0058': {'answerChoices': {'a': {'idStructural': 'a.',\n",
       "      'processedText': 'Left',\n",
       "      'rawText': 'Left'},\n",
       "     'b': {'idStructural': 'b.', 'processedText': 'Right', 'rawText': 'Right'},\n",
       "     'c': {'idStructural': 'c.',\n",
       "      'processedText': 'Downwards',\n",
       "      'rawText': 'Downwards'},\n",
       "     'd': {'idStructural': 'd.',\n",
       "      'processedText': 'Upwards',\n",
       "      'rawText': 'Upwards'}},\n",
       "    'beingAsked': {'processedText': 'What is the direction of moist air?',\n",
       "     'rawText': 'What is the direction of moist air?'},\n",
       "    'correctAnswer': {'processedText': 'Upwards', 'rawText': 'Upwards'},\n",
       "    'globalID': 'DQ_000032',\n",
       "    'id': 'q0058',\n",
       "    'imageName': 'rain_shadow_8184.png',\n",
       "    'imagePath': 'question_images/rain_shadow_8184.png',\n",
       "    'type': 'Diagram Multiple Choice'},\n",
       "   'q0059': {'answerChoices': {'a': {'idStructural': 'a.',\n",
       "      'processedText': 'mountain',\n",
       "      'rawText': 'mountain'},\n",
       "     'b': {'idStructural': 'b.',\n",
       "      'processedText': 'the region of rain shadow',\n",
       "      'rawText': 'the region of rain shadow'},\n",
       "     'c': {'idStructural': 'c.', 'processedText': 'sea', 'rawText': 'sea'},\n",
       "     'd': {'idStructural': 'd.', 'processedText': 'rain', 'rawText': 'rain'}},\n",
       "    'beingAsked': {'processedText': 'What separates moist air from dry air?',\n",
       "     'rawText': 'what separates moist air from dry air?'},\n",
       "    'correctAnswer': {'processedText': 'the region of rain shadow',\n",
       "     'rawText': 'the region of rain shadow'},\n",
       "    'globalID': 'DQ_000048',\n",
       "    'id': 'q0059',\n",
       "    'imageName': 'rain_shadow_8184.png',\n",
       "    'imagePath': 'question_images/rain_shadow_8184.png',\n",
       "    'type': 'Diagram Multiple Choice'}},\n",
       "  'nonDiagramQuestions': {'q01': {'answerChoices': {'a': {'idStructural': 'a.',\n",
       "      'processedText': 'climate',\n",
       "      'rawText': 'a. climate'},\n",
       "     'b': {'idStructural': 'b.',\n",
       "      'processedText': 'rain shadow',\n",
       "      'rawText': 'b. rain shadow'},\n",
       "     'c': {'idStructural': 'c.',\n",
       "      'processedText': 'latitude',\n",
       "      'rawText': 'c. latitude'},\n",
       "     'd': {'idStructural': 'd.',\n",
       "      'processedText': 'coastal climate',\n",
       "      'rawText': 'd. coastal climate'},\n",
       "     'e': {'idStructural': 'e.',\n",
       "      'processedText': 'inland climate',\n",
       "      'rawText': 'e. inland climate'},\n",
       "     'f': {'idStructural': 'f.',\n",
       "      'processedText': 'prevailing winds',\n",
       "      'rawText': 'f. prevailing winds'},\n",
       "     'g': {'idStructural': 'g.',\n",
       "      'processedText': 'current',\n",
       "      'rawText': 'g. current'}},\n",
       "    'beingAsked': {'processedText': 'climate that is relatively mild year round',\n",
       "     'rawText': '1. climate that is relatively mild year round'},\n",
       "    'correctAnswer': {'processedText': 'd', 'rawText': '1.d'},\n",
       "    'globalID': 'NDQ_000118',\n",
       "    'id': 'q01',\n",
       "    'idStructural': '1.',\n",
       "    'type': 'Matching'},\n",
       "   'q02': {'answerChoices': {'a': {'idStructural': 'a.',\n",
       "      'processedText': 'climate',\n",
       "      'rawText': 'a. climate'},\n",
       "     'b': {'idStructural': 'b.',\n",
       "      'processedText': 'rain shadow',\n",
       "      'rawText': 'b. rain shadow'},\n",
       "     'c': {'idStructural': 'c.',\n",
       "      'processedText': 'latitude',\n",
       "      'rawText': 'c. latitude'},\n",
       "     'd': {'idStructural': 'd.',\n",
       "      'processedText': 'coastal climate',\n",
       "      'rawText': 'd. coastal climate'},\n",
       "     'e': {'idStructural': 'e.',\n",
       "      'processedText': 'inland climate',\n",
       "      'rawText': 'e. inland climate'},\n",
       "     'f': {'idStructural': 'f.',\n",
       "      'processedText': 'prevailing winds',\n",
       "      'rawText': 'f. prevailing winds'},\n",
       "     'g': {'idStructural': 'g.',\n",
       "      'processedText': 'current',\n",
       "      'rawText': 'g. current'}},\n",
       "    'beingAsked': {'processedText': 'flowing water that carries warm or cold water through the oceans',\n",
       "     'rawText': '2. flowing water that carries warm or cold water through the oceans'},\n",
       "    'correctAnswer': {'processedText': 'g', 'rawText': '2.g'},\n",
       "    'globalID': 'NDQ_000139',\n",
       "    'id': 'q02',\n",
       "    'idStructural': '2.',\n",
       "    'type': 'Matching'},\n",
       "   'q03': {'answerChoices': {'a': {'idStructural': 'a.',\n",
       "      'processedText': 'climate',\n",
       "      'rawText': 'a. climate'},\n",
       "     'b': {'idStructural': 'b.',\n",
       "      'processedText': 'rain shadow',\n",
       "      'rawText': 'b. rain shadow'},\n",
       "     'c': {'idStructural': 'c.',\n",
       "      'processedText': 'latitude',\n",
       "      'rawText': 'c. latitude'},\n",
       "     'd': {'idStructural': 'd.',\n",
       "      'processedText': 'coastal climate',\n",
       "      'rawText': 'd. coastal climate'},\n",
       "     'e': {'idStructural': 'e.',\n",
       "      'processedText': 'inland climate',\n",
       "      'rawText': 'e. inland climate'},\n",
       "     'f': {'idStructural': 'f.',\n",
       "      'processedText': 'prevailing winds',\n",
       "      'rawText': 'f. prevailing winds'},\n",
       "     'g': {'idStructural': 'g.',\n",
       "      'processedText': 'current',\n",
       "      'rawText': 'g. current'}},\n",
       "    'beingAsked': {'processedText': 'global winds at a given latitude',\n",
       "     'rawText': '3. global winds at a given latitude'},\n",
       "    'correctAnswer': {'processedText': 'f', 'rawText': '3.f'},\n",
       "    'globalID': 'NDQ_000133',\n",
       "    'id': 'q03',\n",
       "    'idStructural': '3.',\n",
       "    'type': 'Matching'},\n",
       "   'q04': {'answerChoices': {'a': {'idStructural': 'a.',\n",
       "      'processedText': 'climate',\n",
       "      'rawText': 'a. climate'},\n",
       "     'b': {'idStructural': 'b.',\n",
       "      'processedText': 'rain shadow',\n",
       "      'rawText': 'b. rain shadow'},\n",
       "     'c': {'idStructural': 'c.',\n",
       "      'processedText': 'latitude',\n",
       "      'rawText': 'c. latitude'},\n",
       "     'd': {'idStructural': 'd.',\n",
       "      'processedText': 'coastal climate',\n",
       "      'rawText': 'd. coastal climate'},\n",
       "     'e': {'idStructural': 'e.',\n",
       "      'processedText': 'inland climate',\n",
       "      'rawText': 'e. inland climate'},\n",
       "     'f': {'idStructural': 'f.',\n",
       "      'processedText': 'prevailing winds',\n",
       "      'rawText': 'f. prevailing winds'},\n",
       "     'g': {'idStructural': 'g.',\n",
       "      'processedText': 'current',\n",
       "      'rawText': 'g. current'}},\n",
       "    'beingAsked': {'processedText': 'average weather of a place over many years',\n",
       "     'rawText': '4. average weather of a place over many years'},\n",
       "    'correctAnswer': {'processedText': 'a', 'rawText': '4.a'},\n",
       "    'globalID': 'NDQ_000145',\n",
       "    'id': 'q04',\n",
       "    'idStructural': '4.',\n",
       "    'type': 'Matching'},\n",
       "   'q05': {'answerChoices': {'a': {'idStructural': 'a.',\n",
       "      'processedText': 'climate',\n",
       "      'rawText': 'a. climate'},\n",
       "     'b': {'idStructural': 'b.',\n",
       "      'processedText': 'rain shadow',\n",
       "      'rawText': 'b. rain shadow'},\n",
       "     'c': {'idStructural': 'c.',\n",
       "      'processedText': 'latitude',\n",
       "      'rawText': 'c. latitude'},\n",
       "     'd': {'idStructural': 'd.',\n",
       "      'processedText': 'coastal climate',\n",
       "      'rawText': 'd. coastal climate'},\n",
       "     'e': {'idStructural': 'e.',\n",
       "      'processedText': 'inland climate',\n",
       "      'rawText': 'e. inland climate'},\n",
       "     'f': {'idStructural': 'f.',\n",
       "      'processedText': 'prevailing winds',\n",
       "      'rawText': 'f. prevailing winds'},\n",
       "     'g': {'idStructural': 'g.',\n",
       "      'processedText': 'current',\n",
       "      'rawText': 'g. current'}},\n",
       "    'beingAsked': {'processedText': 'climate that has extreme temperatures',\n",
       "     'rawText': '5. climate that has extreme temperatures'},\n",
       "    'correctAnswer': {'processedText': 'e', 'rawText': '5.e'},\n",
       "    'globalID': 'NDQ_000113',\n",
       "    'id': 'q05',\n",
       "    'idStructural': '5.',\n",
       "    'type': 'Matching'},\n",
       "   'q06': {'answerChoices': {'a': {'idStructural': 'a.',\n",
       "      'processedText': 'climate',\n",
       "      'rawText': 'a. climate'},\n",
       "     'b': {'idStructural': 'b.',\n",
       "      'processedText': 'rain shadow',\n",
       "      'rawText': 'b. rain shadow'},\n",
       "     'c': {'idStructural': 'c.',\n",
       "      'processedText': 'latitude',\n",
       "      'rawText': 'c. latitude'},\n",
       "     'd': {'idStructural': 'd.',\n",
       "      'processedText': 'coastal climate',\n",
       "      'rawText': 'd. coastal climate'},\n",
       "     'e': {'idStructural': 'e.',\n",
       "      'processedText': 'inland climate',\n",
       "      'rawText': 'e. inland climate'},\n",
       "     'f': {'idStructural': 'f.',\n",
       "      'processedText': 'prevailing winds',\n",
       "      'rawText': 'f. prevailing winds'},\n",
       "     'g': {'idStructural': 'g.',\n",
       "      'processedText': 'current',\n",
       "      'rawText': 'g. current'}},\n",
       "    'beingAsked': {'processedText': 'distance north or south of the equator',\n",
       "     'rawText': '6. distance north or south of the equator'},\n",
       "    'correctAnswer': {'processedText': 'c', 'rawText': '6.c'},\n",
       "    'globalID': 'NDQ_000116',\n",
       "    'id': 'q06',\n",
       "    'idStructural': '6.',\n",
       "    'type': 'Matching'},\n",
       "   'q07': {'answerChoices': {'a': {'idStructural': 'a.',\n",
       "      'processedText': 'climate',\n",
       "      'rawText': 'a. climate'},\n",
       "     'b': {'idStructural': 'b.',\n",
       "      'processedText': 'rain shadow',\n",
       "      'rawText': 'b. rain shadow'},\n",
       "     'c': {'idStructural': 'c.',\n",
       "      'processedText': 'latitude',\n",
       "      'rawText': 'c. latitude'},\n",
       "     'd': {'idStructural': 'd.',\n",
       "      'processedText': 'coastal climate',\n",
       "      'rawText': 'd. coastal climate'},\n",
       "     'e': {'idStructural': 'e.',\n",
       "      'processedText': 'inland climate',\n",
       "      'rawText': 'e. inland climate'},\n",
       "     'f': {'idStructural': 'f.',\n",
       "      'processedText': 'prevailing winds',\n",
       "      'rawText': 'f. prevailing winds'},\n",
       "     'g': {'idStructural': 'g.',\n",
       "      'processedText': 'current',\n",
       "      'rawText': 'g. current'}},\n",
       "    'beingAsked': {'processedText': 'low precipitation area on the leeward side of a mountain range',\n",
       "     'rawText': '7. low precipitation area on the leeward side of a mountain range'},\n",
       "    'correctAnswer': {'processedText': 'b', 'rawText': '7.b'},\n",
       "    'globalID': 'NDQ_000119',\n",
       "    'id': 'q07',\n",
       "    'idStructural': '7.',\n",
       "    'type': 'Matching'},\n",
       "   'q08': {'answerChoices': {},\n",
       "    'beingAsked': {'processedText': 'At higher latitudes, the suns rays are __________ direct.',\n",
       "     'rawText': '1. At higher latitudes, the suns rays are __________ direct.'},\n",
       "    'correctAnswer': {'processedText': 'less', 'rawText': '1. less'},\n",
       "    'globalID': 'NDQ_000130',\n",
       "    'id': 'q08',\n",
       "    'idStructural': '1.',\n",
       "    'type': 'Fill in the Blank'},\n",
       "   'q09': {'answerChoices': {},\n",
       "    'beingAsked': {'processedText': 'Many of the worlds deserts occur at about __________ degrees latitude.',\n",
       "     'rawText': '2. Many of the worlds deserts occur at about __________ degrees latitude.'},\n",
       "    'correctAnswer': {'processedText': '30', 'rawText': '2. 30'},\n",
       "    'globalID': 'NDQ_000147',\n",
       "    'id': 'q09',\n",
       "    'idStructural': '2.',\n",
       "    'type': 'Fill in the Blank'},\n",
       "   'q10': {'answerChoices': {},\n",
       "    'beingAsked': {'processedText': 'At the equator, the level of precipitation is generally __________.',\n",
       "     'rawText': '3. At the equator, the level of precipitation is generally __________.'},\n",
       "    'correctAnswer': {'processedText': 'high', 'rawText': '3. high'},\n",
       "    'globalID': 'NDQ_000125',\n",
       "    'id': 'q10',\n",
       "    'idStructural': '3.',\n",
       "    'type': 'Fill in the Blank'},\n",
       "   'q11': {'answerChoices': {},\n",
       "    'beingAsked': {'processedText': 'Air masses move because of __________ winds.',\n",
       "     'rawText': '4. Air masses move because of __________ winds.'},\n",
       "    'correctAnswer': {'processedText': 'global', 'rawText': '4. global'},\n",
       "    'globalID': 'NDQ_000143',\n",
       "    'id': 'q11',\n",
       "    'idStructural': '4.',\n",
       "    'type': 'Fill in the Blank'},\n",
       "   'q12': {'answerChoices': {},\n",
       "    'beingAsked': {'processedText': 'There is usually __________ precipitation inland than on the coast.',\n",
       "     'rawText': '5. There is usually __________ precipitation inland than on the coast.'},\n",
       "    'correctAnswer': {'processedText': 'less', 'rawText': '5. less'},\n",
       "    'globalID': 'NDQ_000152',\n",
       "    'id': 'q12',\n",
       "    'idStructural': '5.',\n",
       "    'type': 'Fill in the Blank'},\n",
       "   'q13': {'answerChoices': {},\n",
       "    'beingAsked': {'processedText': 'The current named the __________ moves warm water from the southwestern Atlantic Ocean to the coast of Great Britain.',\n",
       "     'rawText': '6. The current named the __________ moves warm water from the southwestern Atlantic Ocean to the coast of Great Britain.'},\n",
       "    'correctAnswer': {'processedText': 'Gulf Stream',\n",
       "     'rawText': '6. Gulf Stream'},\n",
       "    'globalID': 'NDQ_000123',\n",
       "    'id': 'q13',\n",
       "    'idStructural': '6.',\n",
       "    'type': 'Fill in the Blank'},\n",
       "   'q14': {'answerChoices': {},\n",
       "    'beingAsked': {'processedText': 'As you go higher up a mountain, the temperature of the air __________.',\n",
       "     'rawText': '7. As you go higher up a mountain, the temperature of the air __________. '},\n",
       "    'correctAnswer': {'processedText': 'decreases',\n",
       "     'rawText': '7. decreases '},\n",
       "    'globalID': 'NDQ_000136',\n",
       "    'id': 'q14',\n",
       "    'idStructural': '7.',\n",
       "    'type': 'Fill in the Blank'},\n",
       "   'q15': {'answerChoices': {'a': {'idStructural': 'a.',\n",
       "      'processedText': 'temperature.',\n",
       "      'rawText': 'a. temperature.'},\n",
       "     'b': {'idStructural': 'b.',\n",
       "      'processedText': 'precipitation.',\n",
       "      'rawText': 'b. precipitation.'},\n",
       "     'c': {'idStructural': 'c.',\n",
       "      'processedText': 'timing of precipitation.',\n",
       "      'rawText': 'c. timing of precipitation.'},\n",
       "     'd': {'idStructural': 'd.',\n",
       "      'processedText': 'all of the above',\n",
       "      'rawText': 'd. all of the above'}},\n",
       "    'beingAsked': {'processedText': 'Climate includes',\n",
       "     'rawText': '1. Climate includes'},\n",
       "    'correctAnswer': {'processedText': 'd', 'rawText': '1. d'},\n",
       "    'globalID': 'NDQ_000115',\n",
       "    'id': 'q15',\n",
       "    'idStructural': '1. ',\n",
       "    'type': 'Multiple Choice'},\n",
       "   'q16': {'answerChoices': {'a': {'idStructural': 'a.',\n",
       "      'processedText': 'vegetation.',\n",
       "      'rawText': 'a. vegetation.'},\n",
       "     'b': {'idStructural': 'b.',\n",
       "      'processedText': 'longitude.',\n",
       "      'rawText': 'b. longitude.'},\n",
       "     'c': {'idStructural': 'c.',\n",
       "      'processedText': 'latitude.',\n",
       "      'rawText': 'c. latitude.'},\n",
       "     'd': {'idStructural': 'd.',\n",
       "      'processedText': 'two of the above',\n",
       "      'rawText': 'd. two of the above'}},\n",
       "    'beingAsked': {'processedText': 'The main factor that determines the climate of a place is',\n",
       "     'rawText': '2. The main factor that determines the climate of a place is'},\n",
       "    'correctAnswer': {'processedText': 'c', 'rawText': '2. c'},\n",
       "    'globalID': 'NDQ_000140',\n",
       "    'id': 'q16',\n",
       "    'idStructural': '2. ',\n",
       "    'type': 'Multiple Choice'},\n",
       "   'q17': {'answerChoices': {'a': {'idStructural': 'a.',\n",
       "      'processedText': 'dry winters and wet summers.',\n",
       "      'rawText': 'a. dry winters and wet summers.'},\n",
       "     'b': {'idStructural': 'b.',\n",
       "      'processedText': 'dry summers and wet winters.',\n",
       "      'rawText': 'b. dry summers and wet winters.'},\n",
       "     'c': {'idStructural': 'c.',\n",
       "      'processedText': 'low precipitation in all seasons.',\n",
       "      'rawText': 'c. low precipitation in all seasons.'},\n",
       "     'd': {'idStructural': 'd.',\n",
       "      'processedText': 'high precipitation in all seasons.',\n",
       "      'rawText': 'd. high precipitation in all seasons.'}},\n",
       "    'beingAsked': {'processedText': 'Places between 45 and 60 degrees latitude have',\n",
       "     'rawText': '3. Places between 45 and 60 degrees latitude have'},\n",
       "    'correctAnswer': {'processedText': 'a', 'rawText': '3. a'},\n",
       "    'globalID': 'NDQ_000153',\n",
       "    'id': 'q17',\n",
       "    'idStructural': '3. ',\n",
       "    'type': 'Multiple Choice'},\n",
       "   'q18': {'answerChoices': {'a': {'idStructural': 'a.',\n",
       "      'processedText': 'low all year.',\n",
       "      'rawText': 'a. low all year.'},\n",
       "     'b': {'idStructural': 'b.',\n",
       "      'processedText': 'high all year.',\n",
       "      'rawText': 'b. high all year.'},\n",
       "     'c': {'idStructural': 'c.',\n",
       "      'processedText': 'moderate all year.',\n",
       "      'rawText': 'c. moderate all year.'},\n",
       "     'd': {'idStructural': 'd.',\n",
       "      'processedText': 'high in winter and low in summer.',\n",
       "      'rawText': 'd. high in winter and low in summer.'}},\n",
       "    'beingAsked': {'processedText': 'In polar climates, precipitation is',\n",
       "     'rawText': '4. In polar climates, precipitation is'},\n",
       "    'correctAnswer': {'processedText': 'd', 'rawText': '4. d'},\n",
       "    'globalID': 'NDQ_000134',\n",
       "    'id': 'q18',\n",
       "    'idStructural': '4. ',\n",
       "    'type': 'Multiple Choice'},\n",
       "   'q19': {'answerChoices': {'a': {'idStructural': 'a.',\n",
       "      'processedText': 'northeast to southwest.',\n",
       "      'rawText': 'a. northeast to southwest.'},\n",
       "     'b': {'idStructural': 'b.',\n",
       "      'processedText': 'southwest to northeast.',\n",
       "      'rawText': 'b. southwest to northeast.'},\n",
       "     'c': {'idStructural': 'c.',\n",
       "      'processedText': 'north to south.',\n",
       "      'rawText': 'c. north to south.'},\n",
       "     'd': {'idStructural': 'd.',\n",
       "      'processedText': 'south to north.',\n",
       "      'rawText': 'd. south to north.'}},\n",
       "    'beingAsked': {'processedText': 'In most of the U.S., air masses usually move from',\n",
       "     'rawText': '5. In most of the U.S., air masses usually move from'},\n",
       "    'correctAnswer': {'processedText': 'b', 'rawText': '5. b'},\n",
       "    'globalID': 'NDQ_000154',\n",
       "    'id': 'q19',\n",
       "    'idStructural': '5. ',\n",
       "    'type': 'Multiple Choice'},\n",
       "   'q20': {'answerChoices': {'a': {'idStructural': 'a.',\n",
       "      'processedText': 'trade winds.',\n",
       "      'rawText': 'a. trade winds.'},\n",
       "     'b': {'idStructural': 'b.',\n",
       "      'processedText': 'Gulf Stream.',\n",
       "      'rawText': 'b. Gulf Stream.'},\n",
       "     'c': {'idStructural': 'c.',\n",
       "      'processedText': 'prevailing easterlies.',\n",
       "      'rawText': 'c. prevailing easterlies.'},\n",
       "     'd': {'idStructural': 'd.',\n",
       "      'processedText': 'intertropical convergence zone.',\n",
       "      'rawText': 'd. intertropical convergence zone.'}},\n",
       "    'beingAsked': {'processedText': 'The British Isles have relatively high average temperatures for their latitude because of the',\n",
       "     'rawText': '6. The British Isles have relatively high average temperatures for their latitude because of the'},\n",
       "    'correctAnswer': {'processedText': 'b', 'rawText': '6. b'},\n",
       "    'globalID': 'NDQ_000148',\n",
       "    'id': 'q20',\n",
       "    'idStructural': '6. ',\n",
       "    'type': 'Multiple Choice'},\n",
       "   'q21': {'answerChoices': {'a': {'idStructural': 'a.',\n",
       "      'processedText': 'at the tops of mountains',\n",
       "      'rawText': 'a. at the tops of mountains'},\n",
       "     'b': {'idStructural': 'b.',\n",
       "      'processedText': 'on the east side of mountain ranges',\n",
       "      'rawText': 'b. on the east side of mountain ranges'},\n",
       "     'c': {'idStructural': 'c.',\n",
       "      'processedText': 'between mountain ranges and the coast',\n",
       "      'rawText': 'c. between mountain ranges and the coast'},\n",
       "     'd': {'idStructural': 'd.',\n",
       "      'processedText': 'on the side of mountain ranges opposite the sun',\n",
       "      'rawText': 'd. on the side of mountain ranges opposite the sun'}},\n",
       "    'beingAsked': {'processedText': 'On the west coast of North America, where do rain shadows occur?',\n",
       "     'rawText': '7. On the west coast of North America, where do rain shadows occur?'},\n",
       "    'correctAnswer': {'processedText': 'b', 'rawText': '7. b'},\n",
       "    'globalID': 'NDQ_000124',\n",
       "    'id': 'q21',\n",
       "    'idStructural': '7. ',\n",
       "    'type': 'Multiple Choice'},\n",
       "   'q22': {'answerChoices': {'a': {'idStructural': 'a.',\n",
       "      'processedText': 'true',\n",
       "      'rawText': 'a. true'},\n",
       "     'b': {'idStructural': 'b.',\n",
       "      'processedText': 'false',\n",
       "      'rawText': 'b. false'}},\n",
       "    'beingAsked': {'processedText': 'Climate depends only on distance north or south of the equator.',\n",
       "     'rawText': '1. Climate depends only on distance north or south of the equator.'},\n",
       "    'correctAnswer': {'processedText': 'false', 'rawText': '1.false'},\n",
       "    'globalID': 'NDQ_000120',\n",
       "    'id': 'q22',\n",
       "    'idStructural': '1.',\n",
       "    'type': 'True or False'},\n",
       "   'q23': {'answerChoices': {'a': {'idStructural': 'a.',\n",
       "      'processedText': 'true',\n",
       "      'rawText': 'a. true'},\n",
       "     'b': {'idStructural': 'b.',\n",
       "      'processedText': 'false',\n",
       "      'rawText': 'b. false'}},\n",
       "    'beingAsked': {'processedText': 'Ice and snow absorb a lot of sunlight.',\n",
       "     'rawText': '2. Ice and snow absorb a lot of sunlight.'},\n",
       "    'correctAnswer': {'processedText': 'false', 'rawText': '2.false'},\n",
       "    'globalID': 'NDQ_000121',\n",
       "    'id': 'q23',\n",
       "    'idStructural': '2.',\n",
       "    'type': 'True or False'},\n",
       "   'q24': {'answerChoices': {'a': {'idStructural': 'a.',\n",
       "      'processedText': 'true',\n",
       "      'rawText': 'a. true'},\n",
       "     'b': {'idStructural': 'b.',\n",
       "      'processedText': 'false',\n",
       "      'rawText': 'b. false'}},\n",
       "    'beingAsked': {'processedText': 'Precipitation is high where warm air from lower latitudes meets frigid air from the poles.',\n",
       "     'rawText': '3. Precipitation is high where warm air from lower latitudes meets frigid air from the poles.'},\n",
       "    'correctAnswer': {'processedText': 'true', 'rawText': '3.true'},\n",
       "    'globalID': 'NDQ_000128',\n",
       "    'id': 'q24',\n",
       "    'idStructural': '3.',\n",
       "    'type': 'True or False'},\n",
       "   'q25': {'answerChoices': {'a': {'idStructural': 'a.',\n",
       "      'processedText': 'true',\n",
       "      'rawText': 'a. true'},\n",
       "     'b': {'idStructural': 'b.',\n",
       "      'processedText': 'false',\n",
       "      'rawText': 'b. false'}},\n",
       "    'beingAsked': {'processedText': 'Dry air sinks to the surface at about 60 degrees north and south latitude.',\n",
       "     'rawText': '4. Dry air sinks to the surface at about 60 degrees north and south latitude.'},\n",
       "    'correctAnswer': {'processedText': 'false', 'rawText': '4.false'},\n",
       "    'globalID': 'NDQ_000126',\n",
       "    'id': 'q25',\n",
       "    'idStructural': '4.',\n",
       "    'type': 'True or False'},\n",
       "   'q26': {'answerChoices': {'a': {'idStructural': 'a.',\n",
       "      'processedText': 'true',\n",
       "      'rawText': 'a. true'},\n",
       "     'b': {'idStructural': 'b.',\n",
       "      'processedText': 'false',\n",
       "      'rawText': 'b. false'}},\n",
       "    'beingAsked': {'processedText': 'Subtropical climates are dry for at least some of the year.',\n",
       "     'rawText': '5. Subtropical climates are dry for at least some of the year.'},\n",
       "    'correctAnswer': {'processedText': 'true', 'rawText': '5.true'},\n",
       "    'globalID': 'NDQ_000112',\n",
       "    'id': 'q26',\n",
       "    'idStructural': '5.',\n",
       "    'type': 'True or False'},\n",
       "   'q27': {'answerChoices': {'a': {'idStructural': 'a.',\n",
       "      'processedText': 'true',\n",
       "      'rawText': 'a. true'},\n",
       "     'b': {'idStructural': 'b.',\n",
       "      'processedText': 'false',\n",
       "      'rawText': 'b. false'}},\n",
       "    'beingAsked': {'processedText': 'The movement of air masses causes weather.',\n",
       "     'rawText': '6. The movement of air masses causes weather.'},\n",
       "    'correctAnswer': {'processedText': 'true', 'rawText': '6.true'},\n",
       "    'globalID': 'NDQ_000142',\n",
       "    'id': 'q27',\n",
       "    'idStructural': '6.',\n",
       "    'type': 'True or False'},\n",
       "   'q28': {'answerChoices': {'a': {'idStructural': 'a.',\n",
       "      'processedText': 'true',\n",
       "      'rawText': 'a. true'},\n",
       "     'b': {'idStructural': 'b.',\n",
       "      'processedText': 'false',\n",
       "      'rawText': 'b. false'}},\n",
       "    'beingAsked': {'processedText': 'A place far from the ocean typically has less variation in temperature than a place close to the ocean.',\n",
       "     'rawText': '7. A place far from the ocean typically has less variation in temperature than a place close to the ocean.'},\n",
       "    'correctAnswer': {'processedText': 'false', 'rawText': '7.false'},\n",
       "    'globalID': 'NDQ_000138',\n",
       "    'id': 'q28',\n",
       "    'idStructural': '7.',\n",
       "    'type': 'True or False'},\n",
       "   'q29': {'answerChoices': {'a': {'idStructural': 'a.',\n",
       "      'processedText': 'true',\n",
       "      'rawText': 'a. true'},\n",
       "     'b': {'idStructural': 'b.',\n",
       "      'processedText': 'false',\n",
       "      'rawText': 'b. false'}},\n",
       "    'beingAsked': {'processedText': 'Ocean currents always bring warm water to cold regions.',\n",
       "     'rawText': '8. Ocean currents always bring warm water to cold regions.'},\n",
       "    'correctAnswer': {'processedText': 'false', 'rawText': '8.false'},\n",
       "    'globalID': 'NDQ_000155',\n",
       "    'id': 'q29',\n",
       "    'idStructural': '8.',\n",
       "    'type': 'True or False'},\n",
       "   'q30': {'answerChoices': {'a': {'idStructural': 'a.',\n",
       "      'processedText': 'true',\n",
       "      'rawText': 'a. true'},\n",
       "     'b': {'idStructural': 'b.',\n",
       "      'processedText': 'false',\n",
       "      'rawText': 'b. false'}},\n",
       "    'beingAsked': {'processedText': 'Air is colder at high altitudes because it is less dense.',\n",
       "     'rawText': '9. Air is colder at high altitudes because it is less dense.'},\n",
       "    'correctAnswer': {'processedText': 'true', 'rawText': '9.true'},\n",
       "    'globalID': 'NDQ_000122',\n",
       "    'id': 'q30',\n",
       "    'idStructural': '9.',\n",
       "    'type': 'True or False'},\n",
       "   'q31': {'answerChoices': {'a': {'idStructural': 'a.',\n",
       "      'processedText': 'true',\n",
       "      'rawText': 'a. true'},\n",
       "     'b': {'idStructural': 'b.',\n",
       "      'processedText': 'false',\n",
       "      'rawText': 'b. false'}},\n",
       "    'beingAsked': {'processedText': 'A rain shadow is an area that receives a lot of rain because of a nearby mountain.',\n",
       "     'rawText': '10. A rain shadow is an area that receives a lot of rain because of a nearby mountain.'},\n",
       "    'correctAnswer': {'processedText': 'false', 'rawText': '10.false'},\n",
       "    'globalID': 'NDQ_000114',\n",
       "    'id': 'q31',\n",
       "    'idStructural': '10.',\n",
       "    'type': 'True or False'},\n",
       "   'q32': {'answerChoices': {'a': {'idStructural': 'a.',\n",
       "      'processedText': 'the north and south pole',\n",
       "      'rawText': 'a. the north and south pole'},\n",
       "     'b': {'idStructural': 'b.',\n",
       "      'processedText': 'the tropic of cancer and tropic of capricorn',\n",
       "      'rawText': 'b. the tropic of cancer and tropic of capricorn'},\n",
       "     'c': {'idStructural': 'c.',\n",
       "      'processedText': 'the equator',\n",
       "      'rawText': 'c. the equator'},\n",
       "     'd': {'idStructural': 'd.',\n",
       "      'processedText': 'the north pole',\n",
       "      'rawText': 'd. the north pole'}},\n",
       "    'beingAsked': {'processedText': 'The most solar radiation over a year strikes',\n",
       "     'rawText': '1. The most solar radiation over a year strikes'},\n",
       "    'correctAnswer': {'processedText': 'c', 'rawText': 'c'},\n",
       "    'globalID': 'NDQ_000144',\n",
       "    'id': 'q01',\n",
       "    'idStructural': '1. ',\n",
       "    'type': 'Multiple Choice'},\n",
       "   'q33': {'answerChoices': {'a': {'idStructural': 'a.',\n",
       "      'processedText': 'it is a zone of evaporation.',\n",
       "      'rawText': 'a. it is a zone of evaporation.'},\n",
       "     'b': {'idStructural': 'b.',\n",
       "      'processedText': 'it originated at the equator.',\n",
       "      'rawText': 'b. it originated at the equator.'},\n",
       "     'c': {'idStructural': 'c.',\n",
       "      'processedText': 'it is a low pressure zone.',\n",
       "      'rawText': 'c. it is a low pressure zone.'},\n",
       "     'd': {'idStructural': 'd.',\n",
       "      'processedText': 'all of these.',\n",
       "      'rawText': 'd. all of these.'}},\n",
       "    'beingAsked': {'processedText': 'At about 30 N and 30 S,the air is warm and dry because',\n",
       "     'rawText': '2. At about 30 N and 30 S,the air is warm and dry because'},\n",
       "    'correctAnswer': {'processedText': 'b', 'rawText': 'b'},\n",
       "    'globalID': 'NDQ_000137',\n",
       "    'id': 'q02',\n",
       "    'idStructural': '2. ',\n",
       "    'type': 'Multiple Choice'},\n",
       "   'q34': {'answerChoices': {'a': {'idStructural': 'a.',\n",
       "      'processedText': 'where air in the circulation cells ascends or descends.',\n",
       "      'rawText': 'a. where air in the circulation cells ascends or descends.'},\n",
       "     'b': {'idStructural': 'b.',\n",
       "      'processedText': 'affected by local climate.',\n",
       "      'rawText': 'b. affected by local climate.'},\n",
       "     'c': {'idStructural': 'c.',\n",
       "      'processedText': 'the ground level portion of one of the circulation cells.',\n",
       "      'rawText': 'c. the ground level portion of one of the circulation cells.'},\n",
       "     'd': {'idStructural': 'd.',\n",
       "      'processedText': 'all of these.',\n",
       "      'rawText': 'd. all of these.'}},\n",
       "    'beingAsked': {'processedText': 'The prevailing winds are',\n",
       "     'rawText': '3. The prevailing winds are'},\n",
       "    'correctAnswer': {'processedText': 'c', 'rawText': 'c'},\n",
       "    'globalID': 'NDQ_000157',\n",
       "    'id': 'q03',\n",
       "    'idStructural': '3. ',\n",
       "    'type': 'Multiple Choice'},\n",
       "   'q35': {'answerChoices': {'a': {'idStructural': 'a.',\n",
       "      'processedText': 'less densely packed.',\n",
       "      'rawText': 'a. less densely packed.'},\n",
       "     'b': {'idStructural': 'b.',\n",
       "      'processedText': 'more densely packed.',\n",
       "      'rawText': 'b. more densely packed.'},\n",
       "     'c': {'idStructural': 'c.',\n",
       "      'processedText': 'the same density of packing.',\n",
       "      'rawText': 'c. the same density of packing.'},\n",
       "     'd': {'idStructural': 'd.',\n",
       "      'processedText': 'packed with variable density.',\n",
       "      'rawText': 'd. packed with variable density.'}},\n",
       "    'beingAsked': {'processedText': 'Compared with lower altitudes, at higher altitudes the air molecules are',\n",
       "     'rawText': '4. Compared with lower altitudes, at higher altitudes the air molecules are'},\n",
       "    'correctAnswer': {'processedText': 'a', 'rawText': 'a'},\n",
       "    'globalID': 'NDQ_000131',\n",
       "    'id': 'q04',\n",
       "    'idStructural': '4. ',\n",
       "    'type': 'Multiple Choice'},\n",
       "   'q36': {'answerChoices': {'a': {'idStructural': 'a.',\n",
       "      'processedText': 'at the equatorial low',\n",
       "      'rawText': 'a. at the equatorial low'},\n",
       "     'b': {'idStructural': 'b.',\n",
       "      'processedText': 'at 30-degrees north and south',\n",
       "      'rawText': 'b. at 30-degrees north and south'},\n",
       "     'c': {'idStructural': 'c.',\n",
       "      'processedText': 'at the polar front',\n",
       "      'rawText': 'c. at the polar front'},\n",
       "     'd': {'idStructural': 'd.', 'processedText': 'a c', 'rawText': 'd. a c'}},\n",
       "    'beingAsked': {'processedText': 'Rain falls', 'rawText': '5. Rain falls'},\n",
       "    'correctAnswer': {'processedText': 'd', 'rawText': 'd'},\n",
       "    'globalID': 'NDQ_000150',\n",
       "    'id': 'q05',\n",
       "    'idStructural': '5. ',\n",
       "    'type': 'Multiple Choice'},\n",
       "   'q37': {'answerChoices': {},\n",
       "    'beingAsked': {'processedText': 'The horizontal movement of air is called ____________.',\n",
       "     'rawText': '11. The horizontal movement of air is called ____________.'},\n",
       "    'correctAnswer': {'processedText': 'wind', 'rawText': 'wind'},\n",
       "    'globalID': 'NDQ_000149',\n",
       "    'id': 'q06',\n",
       "    'idStructural': '11.',\n",
       "    'type': 'Fill in the Blank'},\n",
       "   'q38': {'answerChoices': {},\n",
       "    'beingAsked': {'processedText': 'Weather averaged over the long term is called ____________.',\n",
       "     'rawText': '12. Weather averaged over the long term is called ____________.'},\n",
       "    'correctAnswer': {'processedText': 'climate', 'rawText': 'climate'},\n",
       "    'globalID': 'NDQ_000151',\n",
       "    'id': 'q07',\n",
       "    'idStructural': '12.',\n",
       "    'type': 'Fill in the Blank'},\n",
       "   'q39': {'answerChoices': {},\n",
       "    'beingAsked': {'processedText': 'Coastal areas have a ____________ climate.',\n",
       "     'rawText': '13. Coastal areas have a ____________ climate.'},\n",
       "    'correctAnswer': {'processedText': 'mild', 'rawText': 'mild'},\n",
       "    'globalID': 'NDQ_000132',\n",
       "    'id': 'q08',\n",
       "    'idStructural': '13.',\n",
       "    'type': 'Fill in the Blank'},\n",
       "   'q40': {'answerChoices': {},\n",
       "    'beingAsked': {'processedText': 'Collisions between molecules give off ____________, which warms the air.',\n",
       "     'rawText': '14. Collisions between molecules give off ____________, which warms the air.'},\n",
       "    'correctAnswer': {'processedText': 'heat', 'rawText': 'heat'},\n",
       "    'globalID': 'NDQ_000117',\n",
       "    'id': 'q09',\n",
       "    'idStructural': '14.',\n",
       "    'type': 'Fill in the Blank'},\n",
       "   'q41': {'answerChoices': {},\n",
       "    'beingAsked': {'processedText': 'The amount of solar radiation a spot receives depends on its ____________.',\n",
       "     'rawText': '15. The amount of solar radiation a spot receives depends on its ____________.'},\n",
       "    'correctAnswer': {'processedText': 'latitude', 'rawText': 'latitude'},\n",
       "    'globalID': 'NDQ_000141',\n",
       "    'id': 'q10',\n",
       "    'idStructural': '15.',\n",
       "    'type': 'Fill in the Blank'},\n",
       "   'q42': {'answerChoices': {'a': {'idStructural': 'a.',\n",
       "      'processedText': 'true',\n",
       "      'rawText': 'a. true'},\n",
       "     'b': {'idStructural': 'b.',\n",
       "      'processedText': 'false',\n",
       "      'rawText': 'b. false'}},\n",
       "    'beingAsked': {'processedText': 'Air temperature is lower at lower altitude.',\n",
       "     'rawText': '6. Air temperature is lower at lower altitude.'},\n",
       "    'correctAnswer': {'processedText': 'false', 'rawText': 'false'},\n",
       "    'globalID': 'NDQ_000146',\n",
       "    'id': 'q11',\n",
       "    'idStructural': '6.',\n",
       "    'type': 'True or False'},\n",
       "   'q43': {'answerChoices': {'a': {'idStructural': 'a.',\n",
       "      'processedText': 'true',\n",
       "      'rawText': 'a. true'},\n",
       "     'b': {'idStructural': 'b.',\n",
       "      'processedText': 'false',\n",
       "      'rawText': 'b. false'}},\n",
       "    'beingAsked': {'processedText': 'In the polar regions, a lot of sunlight reflects back into space.',\n",
       "     'rawText': '7. In the polar regions, a lot of sunlight reflects back into space.'},\n",
       "    'correctAnswer': {'processedText': 'true', 'rawText': 'true'},\n",
       "    'globalID': 'NDQ_000156',\n",
       "    'id': 'q12',\n",
       "    'idStructural': '7.',\n",
       "    'type': 'True or False'},\n",
       "   'q44': {'answerChoices': {'a': {'idStructural': 'a.',\n",
       "      'processedText': 'true',\n",
       "      'rawText': 'a. true'},\n",
       "     'b': {'idStructural': 'b.',\n",
       "      'processedText': 'false',\n",
       "      'rawText': 'b. false'}},\n",
       "    'beingAsked': {'processedText': 'The most snowfall is at the poles.',\n",
       "     'rawText': '8. The most snowfall is at the poles.'},\n",
       "    'correctAnswer': {'processedText': 'false', 'rawText': 'false'},\n",
       "    'globalID': 'NDQ_000135',\n",
       "    'id': 'q13',\n",
       "    'idStructural': '8.',\n",
       "    'type': 'True or False'},\n",
       "   'q45': {'answerChoices': {'a': {'idStructural': 'a.',\n",
       "      'processedText': 'true',\n",
       "      'rawText': 'a. true'},\n",
       "     'b': {'idStructural': 'b.',\n",
       "      'processedText': 'false',\n",
       "      'rawText': 'b. false'}},\n",
       "    'beingAsked': {'processedText': 'Precipitation falls on mountains because air cools and can hold less moisture at higher elevations.',\n",
       "     'rawText': '9. Precipitation falls on mountains because air cools and can hold less moisture at higher elevations.'},\n",
       "    'correctAnswer': {'processedText': 'true', 'rawText': 'true'},\n",
       "    'globalID': 'NDQ_000127',\n",
       "    'id': 'q14',\n",
       "    'idStructural': '9.',\n",
       "    'type': 'True or False'},\n",
       "   'q46': {'answerChoices': {'a': {'idStructural': 'a.',\n",
       "      'processedText': 'true',\n",
       "      'rawText': 'a. true'},\n",
       "     'b': {'idStructural': 'b.',\n",
       "      'processedText': 'false',\n",
       "      'rawText': 'b. false'}},\n",
       "    'beingAsked': {'processedText': 'The latitude of a region affects how much solar radiation it receives.',\n",
       "     'rawText': '10. The latitude of a region affects how much solar radiation it receives.'},\n",
       "    'correctAnswer': {'processedText': 'true', 'rawText': 'true'},\n",
       "    'globalID': 'NDQ_000129',\n",
       "    'id': 'q15',\n",
       "    'idStructural': '10.',\n",
       "    'type': 'True or False'}}},\n",
       " 'topics': {'Altitude and Temperature': {'content': {'figures': [],\n",
       "    'mediaLinks': [],\n",
       "    'text': 'Air temperature falls at higher altitudes. You can see this in Figure 17.6. Why does this happen? Since air is less dense at higher altitudes, its molecules are spread farther apart than they are at sea level. These molecules have fewer collisions, so they produce less heat. Look at the mountain in Figure 17.7. The peak of Mount Kilimanjaro, Tanzania (Africa, 3 south latitude) is 6 kilometers (4 miles) above sea level. At 3 S its very close to the equator. At the bottom of the mountain, the temperature is high year round. How can you tell that its much cooler at the top? '},\n",
       "   'globalID': 'T_0051'},\n",
       "  'Coastal and Inland Climates': {'content': {'figures': [],\n",
       "    'mediaLinks': [],\n",
       "    'text': 'Even places at the same latitude may have different climates if one is on a coast and one is inland. On the coast, the climate is influenced by warm moist air from the ocean. A coastal climate is usually mild. Summers arent too hot, and winters arent too cold. Precipitation can be high due to the moisture in the air. Farther inland, the climate is influenced by cold or hot air from the land. This air may be dry because it comes from over land. An inland climate is usually more extreme. Winters may be very cold, and summers may be very hot. Precipitation can be low. '},\n",
       "   'globalID': 'T_0048'},\n",
       "  'Latitude and Climate': {'content': {'figures': [],\n",
       "    'mediaLinks': [],\n",
       "    'text': 'Latitude is the distance north or south of the equator. Its measured in degrees, from 0 to 90 . Several climate factors vary with latitude. '},\n",
       "   'globalID': 'T_0043'},\n",
       "  'Latitude and Precipitation': {'content': {'figures': [],\n",
       "    'mediaLinks': [],\n",
       "    'text': 'Global air currents affect precipitation. How they affect it varies with latitude. You can see why in Figure 17.3. '},\n",
       "   'globalID': 'T_0045'},\n",
       "  'Latitude and Prevailing Winds': {'content': {'figures': [{'caption': 'FIGURE 17.3 Global air currents are shown on the left. You can see how they affect climate on the right.',\n",
       "      'imagePath': 'textbook_images/17.1_Climate_and_Its_Causes_Latitude_and_Prevailing_Winds_0440_fig_17.3.png'}],\n",
       "    'mediaLinks': [],\n",
       "    'text': 'Global air currents cause global winds. Figure 17.4 shows the direction that these winds blow. Global winds are the prevailing, or usual, winds at a given latitude. The winds move air masses, which causes weather. The direction of prevailing winds determines which type of air mass usually moves over an area. For example, a west wind might bring warm moist air from over an ocean. An east wind might bring cold dry air from over a mountain range. Which wind prevails has a big effect on the climate. What if the prevailing winds are westerlies? What would the climate be like? '},\n",
       "   'globalID': 'T_0046'},\n",
       "  'Latitude and Temperature': {'content': {'figures': [{'caption': 'FIGURE 17.2 Find the cool spot in Asia at 30 north lat- itude. Why is it cool for its latitude? (Hint: What else might influence temperature?)',\n",
       "      'imagePath': 'textbook_images/17.1_Climate_and_Its_Causes_Latitude_and_Temperature_0439_fig_17.2.png'}],\n",
       "    'mediaLinks': [],\n",
       "    'text': 'Temperature changes with latitude. You can see how in Figure 17.2 At the equator, the Suns rays are most direct. Temperatures are highest. At higher latitudes, the Suns rays are less direct. The farther an area is from the equator, the lower is its temperature. At the poles, the Suns rays are least direct. Much of the area is covered with ice and snow, which reflect a lot of sunlight. Temperatures are lowest here. '},\n",
       "   'globalID': 'T_0044'},\n",
       "  'Mountains and Climate': {'content': {'figures': [{'caption': 'FIGURE 17.5 The Gulf Stream moves warm equatorial water up the western Pacific and into northern Europe, where it raises temper- atures in the British Isles.',\n",
       "      'imagePath': 'textbook_images/17.1_Climate_and_Its_Causes_Mountains_and_Climate_0442_fig_17.5.png'}],\n",
       "    'mediaLinks': [],\n",
       "    'text': 'Did you ever hike or drive up a mountain? Did you notice that it was cooler near the top? Climate is not just different on a mountain. Just having a mountain range nearby can affect the climate. '},\n",
       "   'globalID': 'T_0050'},\n",
       "  'Mountains and Precipitation': {'content': {'figures': [],\n",
       "    'mediaLinks': [],\n",
       "    'text': 'Mountains can also affect precipitation. Mountains and mountain ranges can cast a rain shadow. As winds rise up a mountain range the air cools and precipitation falls. On the other side of the range the air is dry and it sinks. So there is very little precipitation on the far (leeward) side of a mountain range. Figure 17.8 shows how this happens. '},\n",
       "   'globalID': 'T_0052'},\n",
       "  'Ocean Currents and Climate': {'content': {'figures': [],\n",
       "    'mediaLinks': [],\n",
       "    'text': 'Ocean currents carry warm or cold water throughout the worlds oceans. They help to even out the temperatures in the oceans. This also affects the temperature of the atmosphere and the climate around the world. Currents that are near shore have a direct impact on climate. They may make the climate much colder or warmer. You can see examples of this in Figure 17.5. '},\n",
       "   'globalID': 'T_0049'},\n",
       "  'Oceans and Climate': {'content': {'figures': [{'caption': 'FIGURE 17.4 The usual direction of the wind where you live depends on your latitude. This determines where you are in the global wind belts.',\n",
       "      'imagePath': 'textbook_images/17.1_Climate_and_Its_Causes_Oceans_and_Climate_0441_fig_17.4.png'}],\n",
       "    'mediaLinks': [],\n",
       "    'text': 'When a place is near an ocean, the water can have a big effect on the climate. '},\n",
       "   'globalID': 'T_0047'},\n",
       "  'What Is Climate': {'content': {'figures': [],\n",
       "    'mediaLinks': [],\n",
       "    'text': 'Climate is the average weather of a place over many years. It includes average temperatures. It also includes average precipitation. The timing of precipitation is part of climate as well. What determines the climate of a place? Latitude is the main factor. A nearby ocean or mountain range can also play a role. '},\n",
       "   'globalID': 'T_0042'}}}"
      ]
     },
     "execution_count": 874,
     "metadata": {},
     "output_type": "execute_result"
    }
   ],
   "source": [
    "complete_flat_ds[9]"
   ]
  },
  {
   "cell_type": "code",
   "execution_count": null,
   "metadata": {
    "collapsed": true
   },
   "outputs": [],
   "source": []
  },
  {
   "cell_type": "code",
   "execution_count": null,
   "metadata": {
    "collapsed": true
   },
   "outputs": [],
   "source": []
  },
  {
   "cell_type": "code",
   "execution_count": null,
   "metadata": {
    "collapsed": true
   },
   "outputs": [],
   "source": []
  },
  {
   "cell_type": "code",
   "execution_count": null,
   "metadata": {
    "collapsed": true
   },
   "outputs": [],
   "source": []
  },
  {
   "cell_type": "markdown",
   "metadata": {
    "heading_collapsed": true
   },
   "source": [
    "### hide"
   ]
  },
  {
   "cell_type": "code",
   "execution_count": 397,
   "metadata": {
    "collapsed": false,
    "hidden": true,
    "run_control": {
     "frozen": false,
     "read_only": false
    },
    "scrolled": true
   },
   "outputs": [],
   "source": [
    "t_ids_seen = []\n",
    "q_ids_seen = []\n",
    "for lesson in list(list(test_cds.values())[0].values()):\n",
    "    for que in lesson['questions']['nonDiagramQuestions'].values():\n",
    "        t_ids_seen.append(que['globalID'])  \n",
    "for lesson in list(list(test_cds.values())[0].values()):\n",
    "    for que in lesson['questions']['diagramQuestions'].values():\n",
    "        q_ids_seen.append(que['globalID'])  "
   ]
  },
  {
   "cell_type": "code",
   "execution_count": null,
   "metadata": {
    "collapsed": false,
    "hidden": true,
    "run_control": {
     "frozen": false,
     "read_only": false
    }
   },
   "outputs": [],
   "source": [
    "list(test_cds['earth-science'].values())[0].keys()"
   ]
  },
  {
   "cell_type": "code",
   "execution_count": null,
   "metadata": {
    "collapsed": false,
    "hidden": true,
    "run_control": {
     "frozen": false,
     "read_only": false
    },
    "scrolled": true
   },
   "outputs": [],
   "source": [
    "# list(test_cds['earth-science'].values())[0]['adjunctTopics']"
   ]
  },
  {
   "cell_type": "code",
   "execution_count": null,
   "metadata": {
    "collapsed": true,
    "hidden": true,
    "run_control": {
     "frozen": false,
     "read_only": false
    }
   },
   "outputs": [],
   "source": [
    "#             print(lesson_content['topics'].keys())"
   ]
  },
  {
   "cell_type": "markdown",
   "metadata": {
    "heading_collapsed": true
   },
   "source": [
    "# Splitting experiments"
   ]
  },
  {
   "cell_type": "code",
   "execution_count": null,
   "metadata": {
    "collapsed": true,
    "hidden": true,
    "run_control": {
     "frozen": false,
     "read_only": false
    }
   },
   "outputs": [],
   "source": []
  },
  {
   "cell_type": "markdown",
   "metadata": {
    "collapsed": true,
    "heading_collapsed": true,
    "run_control": {
     "frozen": false,
     "read_only": false
    }
   },
   "source": [
    "# End"
   ]
  },
  {
   "cell_type": "code",
   "execution_count": null,
   "metadata": {
    "collapsed": false,
    "hidden": true,
    "run_control": {
     "frozen": false,
     "read_only": false
    },
    "scrolled": true
   },
   "outputs": [],
   "source": [
    "# flexbook_glossary.keys()"
   ]
  },
  {
   "cell_type": "code",
   "execution_count": null,
   "metadata": {
    "collapsed": false,
    "hidden": true,
    "run_control": {
     "frozen": false,
     "read_only": false
    }
   },
   "outputs": [],
   "source": [
    "# print(list(diagram_lesson_lookup.values()))"
   ]
  },
  {
   "cell_type": "code",
   "execution_count": null,
   "metadata": {
    "collapsed": false,
    "hidden": true,
    "run_control": {
     "frozen": false,
     "read_only": false
    }
   },
   "outputs": [],
   "source": [
    "test_lesson = ck12_combined_dataset['earth-science']['24.1 Planet Earth']"
   ]
  },
  {
   "cell_type": "code",
   "execution_count": null,
   "metadata": {
    "collapsed": false,
    "hidden": true,
    "run_control": {
     "frozen": false,
     "read_only": false
    }
   },
   "outputs": [],
   "source": [
    "# pprint.pprint(test_lesson['instructionalDiagrams'])"
   ]
  },
  {
   "cell_type": "code",
   "execution_count": null,
   "metadata": {
    "collapsed": false,
    "hidden": true,
    "run_control": {
     "frozen": false,
     "read_only": false
    }
   },
   "outputs": [],
   "source": [
    "list(test_lesson['instructionalDiagrams'].values())[0]['processedText']"
   ]
  },
  {
   "cell_type": "code",
   "execution_count": null,
   "metadata": {
    "collapsed": false,
    "hidden": true,
    "run_control": {
     "frozen": false,
     "read_only": false
    }
   },
   "outputs": [],
   "source": [
    "test_lesson['topics'].keys()"
   ]
  },
  {
   "cell_type": "code",
   "execution_count": null,
   "metadata": {
    "collapsed": false,
    "hidden": true,
    "run_control": {
     "frozen": false,
     "read_only": false
    }
   },
   "outputs": [],
   "source": [
    "test_vocab = test_lesson['topics']['Vocabulary']['content']['text'].split('\\n')"
   ]
  },
  {
   "cell_type": "code",
   "execution_count": null,
   "metadata": {
    "code_folding": [],
    "collapsed": false,
    "hidden": true,
    "run_control": {
     "frozen": false,
     "read_only": false
    }
   },
   "outputs": [],
   "source": [
    "for word in test_vocab:\n",
    "    if word in flexbook_glossary:\n",
    "        print(flexbook_glossary[word])\n",
    "        print()"
   ]
  },
  {
   "cell_type": "code",
   "execution_count": null,
   "metadata": {
    "collapsed": true,
    "hidden": true,
    "run_control": {
     "frozen": false,
     "read_only": false
    }
   },
   "outputs": [],
   "source": [
    "# write_file('ck12_v4_5.json', ck12_combined_dataset, 'experimental_output')"
   ]
  },
  {
   "cell_type": "code",
   "execution_count": null,
   "metadata": {
    "collapsed": true,
    "hidden": true,
    "run_control": {
     "frozen": false,
     "read_only": false
    }
   },
   "outputs": [],
   "source": []
  }
 ],
 "metadata": {
  "kernelspec": {
   "display_name": "Python 3",
   "language": "python",
   "name": "python3"
  },
  "language_info": {
   "codemirror_mode": {
    "name": "ipython",
    "version": 3
   },
   "file_extension": ".py",
   "mimetype": "text/x-python",
   "name": "python",
   "nbconvert_exporter": "python",
   "pygments_lexer": "ipython3",
   "version": "3.5.2"
  }
 },
 "nbformat": 4,
 "nbformat_minor": 1
}
