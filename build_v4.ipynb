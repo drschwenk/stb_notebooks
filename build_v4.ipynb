{
 "cells": [
  {
   "cell_type": "markdown",
   "metadata": {},
   "source": [
    "# Table of Contents\n",
    "* [load text](#load-text)\n",
    "* [move diagrams to 0.91](#move-diagrams-to-0.91)\n",
    "* [load all localization](#load-all-localization)\n",
    "* [load all recognition](#load-all-recognition)\n",
    "* [load diagram questions and descriptions](#load-diagram-questions-and-descriptions)\n",
    "* [integrate diagrams and text](#integrate-diagrams-and-text)\n",
    "\t* [match diagram topics to lessons](#match-diagram-topics-to-lessons)\n",
    "\t* [merge questions](#merge-questions)\n",
    "\t* [merge descriptions](#merge-descriptions)\n",
    "* [Apply spelling and grammar fixes](#Apply-spelling-and-grammar-fixes)\n",
    "\t* [spelling](#spelling)\n",
    "\t* [gammar](#gammar)\n",
    "* [End](#End)\n"
   ]
  },
  {
   "cell_type": "markdown",
   "metadata": {
    "heading_collapsed": true
   },
   "source": [
    "## imports"
   ]
  },
  {
   "cell_type": "code",
   "execution_count": 77,
   "metadata": {
    "collapsed": true,
    "hidden": true,
    "run_control": {
     "frozen": false,
     "read_only": false
    }
   },
   "outputs": [],
   "source": [
    "%%capture\n",
    "import matplotlib as mpl\n",
    "mpl.use(\"Agg\")\n",
    "import matplotlib.pylab as plt\n",
    "#%matplotlib notebook\n",
    "%matplotlib inline\n",
    "%load_ext base16_mplrc\n",
    "# %base16_mplrc light solarized\n",
    "%base16_mplrc dark solarized\n",
    "plt.rcParams['grid.linewidth'] = 0\n",
    "plt.rcParams['figure.figsize'] = (16.0, 10.0)\n",
    "\n",
    "import numpy as np\n",
    "import pandas as pd\n",
    "import scipy.stats as st\n",
    "import itertools\n",
    "import math\n",
    "from collections import Counter, defaultdict, OrderedDict\n",
    "%load_ext autoreload\n",
    "%autoreload 2\n",
    "\n",
    "import cv2\n",
    "import pprint\n",
    "import pickle\n",
    "import json\n",
    "import requests\n",
    "import io\n",
    "import sys\n",
    "import os\n",
    "from binascii import b2a_hex\n",
    "import base64\n",
    "from wand.image import Image as WImage\n",
    "from IPython.display import display\n",
    "from IPython.core.display import HTML\n",
    "import PIL.Image as Image\n",
    "from copy import deepcopy\n",
    "import glob\n",
    "\n",
    "import nltk\n",
    "import string\n",
    "from nltk.corpus import stopwords\n",
    "from nltk.tokenize import word_tokenize\n",
    "from nltk.tokenize import wordpunct_tokenize\n",
    "import language_check\n",
    "import enchant\n",
    "import difflib\n",
    "import diff_match_patch\n",
    "import fuzzywuzzy.fuzz as fuzz\n",
    "import re\n",
    "import jsonschema\n",
    "from pdfextraction.ck12_schema import ck12_schema as schema"
   ]
  },
  {
   "cell_type": "markdown",
   "metadata": {
    "heading_collapsed": true
   },
   "source": [
    "## simple functions"
   ]
  },
  {
   "cell_type": "code",
   "execution_count": 15,
   "metadata": {
    "collapsed": false,
    "hidden": true,
    "run_control": {
     "frozen": false,
     "read_only": false
    }
   },
   "outputs": [],
   "source": [
    "def write_file(filename, date, output_dir='output_data_from_nbs'):\n",
    "    with open(os.path.join(output_dir, filename), 'w') as f:\n",
    "        json.dump(date, f, indent=4, sort_keys=True)"
   ]
  },
  {
   "cell_type": "markdown",
   "metadata": {},
   "source": [
    "# Load data"
   ]
  },
  {
   "cell_type": "markdown",
   "metadata": {
    "heading_collapsed": true
   },
   "source": [
    "## setting paths"
   ]
  },
  {
   "cell_type": "code",
   "execution_count": 68,
   "metadata": {
    "collapsed": false,
    "hidden": true,
    "run_control": {
     "frozen": false,
     "read_only": false
    }
   },
   "outputs": [],
   "source": [
    "output_dir = 'output_data_from_nbs/'\n",
    "raw_data_dir = '../spare5_produced_data/data/'\n",
    "raw_dq_file = 'ai2_testquestions_20161005.csv'\n",
    "s5_raw_decriptions = 'ai2_diagramdescriptions_20161018.csv'\n",
    "ai2_raw_decriptions = 'our_description.csv'\n",
    "glossary_path = os.path.join(output_dir, 'flexbook_glossary.pkl')\n",
    "\n",
    "turk_proc_dir = '/Users/schwenk/wrk/stb/diagram_questions/turk_processing/'\n",
    "metadata_dir = turk_proc_dir + 'store_hit_results_metadata/'\n",
    "lc_results_dir = 'loc_group_3'\n",
    "box_loc_joined = 'loc_annotations'\n",
    "recog_results_dir = 'group_latest_combined'\n",
    "\n",
    "box_choices_1_dir = 'final_text_boxes_fixed'\n",
    "box_choices_2_dir = 'final_text_boxes_pass_2'\n",
    "none_agree = 'no_turkers_agree_lookup.pkl'\n",
    "two_agree_lookup = 'two_turkers_agree_lookup.pkl'\n",
    "all_agree_lookup = 'user_diag_loopkup.pkl'"
   ]
  },
  {
   "cell_type": "markdown",
   "metadata": {
    "heading_collapsed": true
   },
   "source": [
    "## parsed content and raw questions and descriptions"
   ]
  },
  {
   "cell_type": "code",
   "execution_count": 81,
   "metadata": {
    "collapsed": true,
    "hidden": true
   },
   "outputs": [],
   "source": [
    "%%capture\n",
    "# load complete text v 3.5, raw diagram questions and descriptions\n",
    "with open(output_dir + 'ck12_dataset_beta_v3_5.json', 'r') as f:\n",
    "    ck12_combined_dataset = json.load(f)\n",
    "\n",
    "# loading questions\n",
    "desc_df = pd.read_csv(raw_data_dir + decription_rel, encoding='latin-1')\n",
    "desc_df['diagram'] = desc_df['reference_id'].apply(lambda x: x.split('/')[-1])\n",
    "\n",
    "ai2_raw_decriptions_df = pd.read_csv(raw_data_dir + ai2_raw_decriptions, encoding='latin-1')\n",
    "ai2_written_df_completed = ai2_raw_decriptions_df[['Topic', 'Image Path', 'Description']]\n",
    "ai2_written_df_completed['diagram'] = ai2_written_df_completed['Image Path'].apply(lambda x: x.split('/')[-1])\n",
    "ai2_written_df_completed['topic'] = ai2_written_df_completed['Topic']\n",
    "del  ai2_written_df_completed['Topic']\n",
    "\n",
    "#loading questions\n",
    "raw_dq_df = pd.read_csv(raw_data_dir + raw_dq_file, encoding='latin-1')\n",
    "dr_proc_df = raw_dq_df.copy()\n",
    "dr_proc_df['wac_list'] = dr_proc_df[w_ans_col].apply(lambda x: json.loads(x))\n",
    "dr_proc_df['diagram'] = dr_proc_df['reference_id'].apply(lambda x: x.split('/')[-1])\n",
    "dr_proc_df['topic'] = dr_proc_df['reference_id'].apply(lambda x: x.split('/')[-1].rsplit('_', maxsplit=1)[0])\n",
    "\n",
    "with open('../diagram_questions/topic_match_terms.json', 'r') as f:\n",
    "    topic_term_match = json.load(f)    \n",
    "\n",
    "q_col = '03_write_question'\n",
    "r_ans_col = '04_write_right_answer'\n",
    "w_ans_col = '05_write_wrong_answers'\n",
    "data_cols = [q_col, r_ans_col, w_ans_col]"
   ]
  },
  {
   "cell_type": "markdown",
   "metadata": {
    "heading_collapsed": true
   },
   "source": [
    "## localization and recognition"
   ]
  },
  {
   "cell_type": "code",
   "execution_count": 72,
   "metadata": {
    "collapsed": true,
    "hidden": true
   },
   "outputs": [],
   "source": [
    "loc_res_df = pd.read_pickle(os.path.join(metadata_dir, lc_results_dir, 'complete_df.pkl'))\n",
    "recog_res_df = pd.read_pickle(os.path.join(metadata_dir, recog_results_dir, 'recog_df.pkl'))"
   ]
  },
  {
   "cell_type": "markdown",
   "metadata": {
    "heading_collapsed": true
   },
   "source": [
    "## building spellings and grammar"
   ]
  },
  {
   "cell_type": "code",
   "execution_count": 80,
   "metadata": {
    "collapsed": false,
    "hidden": true
   },
   "outputs": [],
   "source": [
    "# loading spelling defs\n",
    "with open(output_dir + 'ck_12_vocab_words.pkl', 'rb') as f:\n",
    "    ck_12_vocab = set(pickle.load(f))\n",
    "with open(output_dir + 'ck_12_all_words.pkl', 'rb') as f:\n",
    "    ck_12_corp = set(pickle.load(f))\n",
    "    \n",
    "with open(output_dir + 'spellings_to_rev.txt', 'r') as f:\n",
    "    whitelisted_words = f.read().split('\\n')[:-1]    \n",
    "with open(output_dir + './desc_spellings_to_rev.txt', 'r') as f:\n",
    "    whitelisted_words += f.read().split('\\n')[:-1]\n",
    "with open(output_dir + './ck_12_spelling_rev.txt', 'r') as f:\n",
    "    whitelisted_words += f.read().split('\\n')[:-1]\n",
    "    \n",
    "ck_12_corp.update(ck_12_vocab)\n",
    "ck_12_corp.update(whitelisted_words)\n",
    "# ck_12_corp.update(diagram_rec_corpus)\n",
    "\n",
    "# build spelling dict updated with words from science corpus\n",
    "edict = enchant.Dict(\"en_US\")\n",
    "anglo_edict = enchant.Dict(\"en_UK\")\n",
    "cached_sw = stopwords.words(\"english\") + list(string.punctuation)\n",
    "for word in ck_12_corp:\n",
    "    if word.isalpha() and len(word) > 3:\n",
    "        edict.add(word)\n",
    "        \n",
    "# grammaer checker\n",
    "gram_checker = language_check.LanguageTool('en-US')\n",
    "gram_checker.disabled = set(['SENT_START_CONJUNCTIVE_LINKING_ADVERB_COMMA', 'POSSESSIVE_APOSTROPHE', 'A_PLURAL'])\n",
    "gram_checker.disable_spellchecking()"
   ]
  },
  {
   "cell_type": "markdown",
   "metadata": {},
   "source": [
    "# Clean and prepare data"
   ]
  },
  {
   "cell_type": "markdown",
   "metadata": {
    "heading_collapsed": true
   },
   "source": [
    "## extract links"
   ]
  },
  {
   "cell_type": "code",
   "execution_count": 6,
   "metadata": {
    "collapsed": false,
    "hidden": true,
    "run_control": {
     "frozen": false,
     "read_only": false
    }
   },
   "outputs": [],
   "source": [
    "def extract_links(complete_ds):\n",
    "    for subject, lessons in complete_ds.items():\n",
    "        for lesson_title, lesson in lessons.items():\n",
    "            for topic, content in lesson['topics'].items():\n",
    "                content_str = content['content']['text']\n",
    "                new_text, links = clean_content_text(content_str, web_link_patern)\n",
    "                content['content']['mediaLinks'] = []\n",
    "                if links:\n",
    "                    content['content']['text'] = new_text\n",
    "                    content['content']['mediaLinks'].extend(links)\n",
    "    return"
   ]
  },
  {
   "cell_type": "code",
   "execution_count": 9,
   "metadata": {
    "collapsed": true,
    "hidden": true,
    "run_control": {
     "frozen": false,
     "read_only": false
    }
   },
   "outputs": [],
   "source": [
    "# ck12_combined_dataset_cleaned = deepcopy(ck12_combined_dataset)"
   ]
  },
  {
   "cell_type": "code",
   "execution_count": 10,
   "metadata": {
    "collapsed": false,
    "hidden": true,
    "run_control": {
     "frozen": false,
     "read_only": false
    }
   },
   "outputs": [],
   "source": [
    "# extract_links(ck12_combined_dataset_cleaned)"
   ]
  },
  {
   "cell_type": "code",
   "execution_count": 248,
   "metadata": {
    "collapsed": false,
    "hidden": true,
    "run_control": {
     "frozen": false,
     "read_only": false
    }
   },
   "outputs": [],
   "source": [
    "# write_file('ck12_dataset_v3_5.json', ck12_combined_dataset_cleaned)"
   ]
  },
  {
   "cell_type": "code",
   "execution_count": 7,
   "metadata": {
    "collapsed": false,
    "hidden": true,
    "run_control": {
     "frozen": false,
     "read_only": false
    }
   },
   "outputs": [],
   "source": [
    "def record_validation_errors(dataset):\n",
    "    qs_removed = []\n",
    "    for subject, flexbook in dataset.items():\n",
    "        validator = jsonschema.Draft4Validator(schema)\n",
    "        for error in sorted(validator.iter_errors(flexbook), key=lambda x: x.absolute_path[0]):\n",
    "            lesson, quest, question_class, q_number = list(error.absolute_path)[:4]\n",
    "            problem_q_section = dataset[subject][lesson][quest][question_class]\n",
    "            if q_number in problem_q_section.keys():\n",
    "#                 print(dataset[subject][lesson][quest][question_class].pop(q_number))\n",
    "                qs_removed.append(dataset[subject][lesson][quest][question_class].pop(q_number))\n",
    "    return qs_removed"
   ]
  },
  {
   "cell_type": "code",
   "execution_count": 249,
   "metadata": {
    "collapsed": false,
    "hidden": true,
    "run_control": {
     "frozen": false,
     "read_only": false
    }
   },
   "outputs": [
    {
     "data": {
      "text/plain": [
       "0"
      ]
     },
     "execution_count": 249,
     "metadata": {},
     "output_type": "execute_result"
    }
   ],
   "source": [
    "qs_rem = record_validation_errors(ck12_combined_dataset_cleaned)\n",
    "len(qs_rem)"
   ]
  },
  {
   "cell_type": "code",
   "execution_count": 250,
   "metadata": {
    "collapsed": false,
    "hidden": true,
    "run_control": {
     "frozen": false,
     "read_only": false
    }
   },
   "outputs": [
    {
     "data": {
      "text/plain": [
       "'all validation test passed'"
      ]
     },
     "execution_count": 250,
     "metadata": {},
     "output_type": "execute_result"
    }
   ],
   "source": [
    "validate_dataset(ck12_combined_dataset_cleaned)"
   ]
  },
  {
   "cell_type": "markdown",
   "metadata": {
    "collapsed": true,
    "run_control": {
     "frozen": false,
     "read_only": false
    }
   },
   "source": [
    "## remove non-conforming content"
   ]
  },
  {
   "cell_type": "code",
   "execution_count": 128,
   "metadata": {
    "collapsed": true,
    "run_control": {
     "frozen": false,
     "read_only": false
    }
   },
   "outputs": [],
   "source": [
    "def get_img_n(image_name):\n",
    "    return [re.findall(\"[0-9]+\", image_name)][0][0]\n",
    "\n",
    "def clean_list(dir_path):\n",
    "    hidden_removed = filter(lambda f: not f.startswith('.'), os.listdir(dir_path))\n",
    "    return [topic.replace('_diagram', '') for topic in hidden_removed]\n",
    "\n",
    "recog_performed = '/Users/schwenk/wrk/stb/diagram_questions/turk_processing/final_diagrams/'\n",
    "all_dir = '/Users/schwenk/wrk/stb/ai2-vision-textbook-dataset/diagrams/tqa_diagrams_v0.9/'\n",
    "pruned_dir = '/Users/schwenk/wrk/stb/ai2-vision-textbook-dataset/diagrams/dataset_Sep_27/tqa_diagrams_v0.9_question_images/'\n",
    "description_dir = '/Users/schwenk/wrk/stb/spare5_produced_data/tqa_diagrams_v0.9_inbook/'\n",
    "diagram_image_names = clean_list(recog_performed)\n",
    "\n",
    "rec_files = glob.glob(all_dir + '*/*')\n",
    "more_paths = glob.glob(all_dir + '*/*')\n",
    "pruned_paths = glob.glob(pruned_dir + '*/*')\n",
    "more_files = [fp.split('/')[-1] for fp in more_paths]\n",
    "pruned_files = [fp.split('/')[-1] for fp in pruned_paths]\n",
    "desc_paths = glob.glob(description_dir + '*/*')\n",
    "desc_files = [fp.split('/')[-1] for fp in desc_paths]\n",
    "\n",
    "\n",
    "pruned_nums = set([get_img_n(name) for name in pruned_files])\n",
    "all_nums = set([get_img_n(name) for name in more_files])\n",
    "rec_nums = set([get_img_n(name) for name in diagram_image_names])\n",
    "desc_nums = set([get_img_n(name) for name in desc_files])\n",
    "\n",
    "removed_images = all_nums.difference(pruned_nums.union(desc_nums))\n",
    "\n",
    "removed_image_names = []\n",
    "for img_n in removed_images:\n",
    "    for image_name in more_files:\n",
    "        if img_n == get_img_n(image_name):\n",
    "            removed_image_names.append(image_name)\n",
    "\n",
    "name_change_lookup = {}\n",
    "for image_name in more_files:\n",
    "    img_n = get_img_n(image_name)\n",
    "    for newer_name in pruned_files:\n",
    "        if img_n == get_img_n(newer_name) and newer_name != image_name:\n",
    "            name_change_lookup[image_name] = newer_name\n",
    "\n",
    "removed_image_names = sorted(removed_image_names)"
   ]
  },
  {
   "cell_type": "code",
   "execution_count": 129,
   "metadata": {
    "collapsed": true,
    "run_control": {
     "frozen": false,
     "read_only": false
    }
   },
   "outputs": [],
   "source": [
    "blacklisted_topics = ['periodic_table', 'em_spectrum', 'hydrocarbons', 'geologic_time'] + ['lewis_dot_idapgrams', 'circuits']  # correct this mispelling in future round"
   ]
  },
  {
   "cell_type": "code",
   "execution_count": 130,
   "metadata": {
    "collapsed": false,
    "run_control": {
     "frozen": false,
     "read_only": false
    }
   },
   "outputs": [
    {
     "data": {
      "text/plain": [
       "9"
      ]
     },
     "execution_count": 130,
     "metadata": {},
     "output_type": "execute_result"
    }
   ],
   "source": [
    "len(removed_image_names)"
   ]
  },
  {
   "cell_type": "code",
   "execution_count": 205,
   "metadata": {
    "collapsed": true,
    "run_control": {
     "frozen": false,
     "read_only": false
    }
   },
   "outputs": [
    {
     "data": {
      "text/plain": [
       "['acid_rain_formation_6507.png',\n",
       " 'acid_rain_formation_8000.png',\n",
       " 'aquifers_6510.png',\n",
       " 'aquifers_6524.png',\n",
       " 'aquifers_6953.png',\n",
       " 'atomic_mass_number_9001.png',\n",
       " 'atomic_mass_number_9006.png',\n",
       " 'atomic_mass_number_9009.png',\n",
       " 'atomic_structure_6540.png',\n",
       " 'atomic_structure_9018.png',\n",
       " 'atomic_structure_9020.png',\n",
       " 'biomes_6557.png',\n",
       " 'biomes_6562.png',\n",
       " 'biomes_8018.png',\n",
       " 'blastocyst_9024.png',\n",
       " 'blastocyst_9028.png',\n",
       " 'blastocyst_9033.png',\n",
       " 'cell_division_6617.png',\n",
       " 'cell_division_8022.png',\n",
       " 'cell_division_9038.png',\n",
       " 'cellular_respiration_8026.png',\n",
       " 'cellular_respiration_9045.png',\n",
       " 'cellular_respiration_9048.png',\n",
       " 'chemical_bonding_covalent_9051.png',\n",
       " 'chemical_bonding_covalent_9053.png',\n",
       " 'chemical_bonding_covalent_9063.png',\n",
       " 'chemical_bonding_ionic_9066.png',\n",
       " 'chemical_bonding_ionic_9071.png',\n",
       " 'circuits_1056.png',\n",
       " 'circuits_1547.png',\n",
       " 'circuits_1578.png',\n",
       " 'circuits_224.png',\n",
       " 'circuits_228.png',\n",
       " 'continental_drift_8043.png',\n",
       " 'continental_drift_8044.png',\n",
       " 'continental_drift_9081.png',\n",
       " 'convection_of_air_6657.png',\n",
       " 'convection_of_air_8050.png',\n",
       " 'cycle_carbon_5008.png',\n",
       " 'cycle_carbon_63.png',\n",
       " 'cycle_carbon_70.png',\n",
       " 'cycle_nitrogen_6718.png',\n",
       " 'cycle_nitrogen_6719.png',\n",
       " 'cycle_rock_6723.png',\n",
       " 'cycle_rock_6744.png',\n",
       " 'cycle_rock_6748.png',\n",
       " 'cycle_water_1490.png',\n",
       " 'cycle_water_1503.png',\n",
       " 'cycle_water_4953.png',\n",
       " 'dna_6763.png',\n",
       " 'dna_8052.png',\n",
       " 'earth_day_night_2744.png',\n",
       " 'earth_day_night_86.png',\n",
       " 'earth_eclipses_1631.png',\n",
       " 'earth_eclipses_1654.png',\n",
       " 'earth_eclipses_1671.png',\n",
       " 'earth_eclipses_4570.png',\n",
       " 'earth_magnetic_field_6775.png',\n",
       " 'earth_magnetic_field_6788.png',\n",
       " 'earth_moon_phases_139.png',\n",
       " 'earth_moon_phases_2534.png',\n",
       " 'earth_moon_phases_2549.png',\n",
       " 'earth_moon_phases_2736.png',\n",
       " 'earth_moon_phases_6008.png',\n",
       " 'earth_parts_4015.png',\n",
       " 'earth_parts_4016.png',\n",
       " 'earth_parts_4020.png',\n",
       " 'earth_parts_539.png',\n",
       " 'earth_poles_163.png',\n",
       " 'earth_poles_8061.png',\n",
       " 'electromagnetism_6802.png',\n",
       " 'electromagnetism_9090.png',\n",
       " 'em_spectrum_6818.png',\n",
       " 'em_spectrum_9095.png',\n",
       " 'erosion_6859.png',\n",
       " 'erosion_8064.png',\n",
       " 'eukaryotic_cell_cycles_6873.png',\n",
       " 'eukaryotic_cell_cycles_9100.png',\n",
       " 'eukaryotic_cell_cycles_9101.png',\n",
       " 'evaporation_and_sublimation_6875.png',\n",
       " 'evaporation_and_sublimation_8074.png',\n",
       " 'evaporation_and_sublimation_8079.png',\n",
       " 'faults_1737.png',\n",
       " 'faults_1747.png',\n",
       " 'faults_186.png',\n",
       " 'food_chains_webs_1779.png',\n",
       " 'food_chains_webs_263.png',\n",
       " 'food_chains_webs_498.png',\n",
       " 'food_chains_webs_6060.png',\n",
       " 'food_chains_webs_863.png',\n",
       " 'fossils_6897.png',\n",
       " 'fossils_9105.png',\n",
       " 'fungi_reproduction_6900.png',\n",
       " 'fungi_reproduction_6910.png',\n",
       " 'geologic_time_6918.png',\n",
       " 'geologic_time_6924.png',\n",
       " 'glaciers_6926.png',\n",
       " 'glaciers_6936.png',\n",
       " 'greenhouse_effect_6940.png',\n",
       " 'greenhouse_effect_6945.png',\n",
       " 'hair_follicles_6985.png',\n",
       " 'hair_follicles_6986.png',\n",
       " 'human_system_circulatory_1379.png',\n",
       " 'human_system_circulatory_3648.png',\n",
       " 'human_system_circulatory_6068.png',\n",
       " 'human_system_digestive_3675.png',\n",
       " 'human_system_digestive_3678.png',\n",
       " 'human_system_digestive_3679.png',\n",
       " 'human_system_digestive_6091.png',\n",
       " 'human_system_ear_2866.png',\n",
       " 'human_system_ear_6103.png',\n",
       " 'human_system_excretory_6107.png',\n",
       " 'human_system_excretory_6115.png',\n",
       " 'human_system_excretory_6117.png',\n",
       " 'human_system_eye_2857.png',\n",
       " 'human_system_eye_2876.png',\n",
       " 'human_system_eye_6138.png',\n",
       " 'human_system_immune_9110.png',\n",
       " 'human_system_immune_9117.png',\n",
       " 'human_system_muscular_6159.png',\n",
       " 'human_system_muscular_6165.png',\n",
       " 'human_system_muscular_6166.png',\n",
       " 'human_system_nervous_2864.png',\n",
       " 'human_system_nervous_6178.png',\n",
       " 'human_system_nervous_6184.png',\n",
       " 'human_system_reproductory_7014.png',\n",
       " 'human_system_reproductory_7036.png',\n",
       " 'human_system_reproductory_7039.png',\n",
       " 'human_system_respiratory_1327.png',\n",
       " 'human_system_respiratory_3601.png',\n",
       " 'human_system_respiratory_3749.png',\n",
       " 'human_system_respiratory_6195.png',\n",
       " 'hydrocarbons_7051.png',\n",
       " 'hydrocarbons_9118.png',\n",
       " 'hydrocarbons_9121.png',\n",
       " 'isotopes_7057.png',\n",
       " 'isotopes_9127.png',\n",
       " 'layers_of_atmosphere_7066.png',\n",
       " 'layers_of_atmosphere_8102.png',\n",
       " 'lewis_dot_diagrams_9130.png',\n",
       " 'lewis_dot_diagrams_9140.png',\n",
       " 'lewis_dot_diagrams_9146.png',\n",
       " 'life_cycles_2331.png',\n",
       " 'life_cycles_357.png',\n",
       " 'life_cycles_39.png',\n",
       " 'life_cycles_6221.png',\n",
       " 'life_cycles_883.png',\n",
       " 'muscle_fiber_7082.png',\n",
       " 'muscle_fiber_7083.png',\n",
       " 'nuclear_energy_7093.png',\n",
       " 'nuclear_energy_7101.png',\n",
       " 'nuclear_energy_8115.png',\n",
       " 'nuclear_energy_8118.png',\n",
       " 'ocean_currents_7107.png',\n",
       " 'ocean_currents_7109.png',\n",
       " 'ocean_waves_7117.png',\n",
       " 'ocean_waves_9152.png',\n",
       " 'ocean_zones_7130.png',\n",
       " 'ocean_zones_8125.png',\n",
       " 'optics_lense_types_9159.png',\n",
       " 'optics_lense_types_9163.png',\n",
       " 'optics_ray_diagrams_9167.png',\n",
       " 'optics_ray_diagrams_9168.png',\n",
       " 'optics_reflection_9179.png',\n",
       " 'optics_reflection_9183.png',\n",
       " 'optics_refraction_9190.png',\n",
       " 'optics_refraction_9200.png',\n",
       " 'ozone_formation_7149.png',\n",
       " 'parts_cell_1166.png',\n",
       " 'parts_cell_1177.png',\n",
       " 'parts_cell_1182.png',\n",
       " 'parts_cell_3181.png',\n",
       " 'parts_cell_6232.png',\n",
       " 'parts_chordate_body_7161.png',\n",
       " 'parts_chordate_body_8146.png',\n",
       " 'parts_fish_2842.png',\n",
       " 'parts_fish_2913.png',\n",
       " 'parts_flower_1130.png',\n",
       " 'parts_flower_3369.png',\n",
       " 'parts_flower_3422.png',\n",
       " 'parts_leaf_1118.png',\n",
       " 'parts_leaf_3135.png',\n",
       " 'parts_leaf_3854.png',\n",
       " 'parts_leaf_557.png',\n",
       " 'parts_microscope_7174.png',\n",
       " 'parts_microscope_7187.png',\n",
       " 'parts_microscope_7193.png',\n",
       " 'parts_neuron_7206.png',\n",
       " 'parts_neuron_7230.png',\n",
       " 'parts_neuron_7232.png',\n",
       " 'parts_ocean_floor_7237.png',\n",
       " 'parts_ocean_floor_9206.png',\n",
       " 'parts_plant_1131.png',\n",
       " 'parts_plant_1145.png',\n",
       " 'parts_plant_6274.png',\n",
       " 'parts_seed_3.png',\n",
       " 'parts_seed_7242.png',\n",
       " 'parts_skeleton_7256.png',\n",
       " 'parts_skeleton_7266.png',\n",
       " 'parts_skeleton_7270.png',\n",
       " 'parts_telescope_8149.png',\n",
       " 'parts_telescope_8153.png',\n",
       " 'parts_telescope_8156.png',\n",
       " 'parts_worm_7295.png',\n",
       " 'parts_worm_7310.png',\n",
       " 'parts_worm_7321.png',\n",
       " 'periodic_table_7388.png',\n",
       " 'periodic_table_8157.png',\n",
       " 'periodic_table_8162.png',\n",
       " 'phagocytosis_9210.png',\n",
       " 'phagocytosis_9211.png',\n",
       " 'photosynthesis_1262.png',\n",
       " 'photosynthesis_4103.png',\n",
       " 'photosynthesis_4126.png',\n",
       " 'protozoa_9222.png',\n",
       " 'protozoa_9226.png',\n",
       " 'protozoa_9238.png',\n",
       " 'radioactive_decay_7517.png',\n",
       " 'radioactive_decay_8168.png',\n",
       " 'radioactive_decay_8173.png',\n",
       " 'rain_shadow_7524.png',\n",
       " 'rain_shadow_8185.png',\n",
       " 'seafloor_spreading_7543.png',\n",
       " 'seafloor_spreading_8189.png',\n",
       " 'seasons_6279.png',\n",
       " 'seasons_6281.png',\n",
       " 'seasons_647.png',\n",
       " 'seasons_672.png',\n",
       " 'seismic_waves_7551.png',\n",
       " 'seismic_waves_8192.png',\n",
       " 'seismic_waves_8194.png',\n",
       " 'simple_machines_9246.png',\n",
       " 'skin_cross_section_7574.png',\n",
       " 'skin_cross_section_7589.png',\n",
       " 'soil_horizons_1413.png',\n",
       " 'soil_horizons_4258.png',\n",
       " 'soil_horizons_7595.png',\n",
       " 'solar_system_1428.png',\n",
       " 'solar_system_1435.png',\n",
       " 'solar_system_6293.png',\n",
       " 'solar_system_6303.png',\n",
       " 'state_change_7605.png',\n",
       " 'state_change_7606.png',\n",
       " 'states_of_matter_9253.png',\n",
       " 'states_of_matter_9256.png',\n",
       " 'stratigraphy_9259.png',\n",
       " 'stratigraphy_9262.png',\n",
       " 'sun_layers_6304.png',\n",
       " 'sun_layers_6305.png',\n",
       " 'tectonic_plates_9266.png',\n",
       " 'tectonic_plates_9275.png',\n",
       " 'tectonic_plates_motion_9278.png',\n",
       " 'tectonic_plates_motion_9281.png',\n",
       " 'tides_133.png',\n",
       " 'tides_151.png',\n",
       " 'tides_2614.png',\n",
       " 'types_cells_7639.png',\n",
       " 'types_cells_7640.png',\n",
       " 'types_clouds_7645.png',\n",
       " 'types_clouds_7649.png',\n",
       " 'types_leaves_4403.png',\n",
       " 'types_leaves_4528.png',\n",
       " 'types_leaves_4757.png',\n",
       " 'types_leaves_6317.png',\n",
       " 'types_leaves_966.png',\n",
       " 'velocity_time_graphs_8213.png',\n",
       " 'velocity_time_graphs_8216.png',\n",
       " 'velocity_time_graphs_8220.png',\n",
       " 'volcanoes_1467.png',\n",
       " 'volcanoes_4896.png',\n",
       " 'volcanoes_4902.png',\n",
       " 'volcanoes_632.png',\n",
       " 'waves_7678.png',\n",
       " 'waves_9296.png',\n",
       " 'waves_interactions_interference_7681.png',\n",
       " 'waves_interactions_interference_9298.png']"
      ]
     },
     "execution_count": 205,
     "metadata": {},
     "output_type": "execute_result"
    }
   ],
   "source": [
    "desc_files"
   ]
  },
  {
   "cell_type": "markdown",
   "metadata": {},
   "source": [
    "# Add image annotations"
   ]
  },
  {
   "cell_type": "markdown",
   "metadata": {
    "heading_collapsed": true
   },
   "source": [
    "## localization"
   ]
  },
  {
   "cell_type": "code",
   "execution_count": 71,
   "metadata": {
    "collapsed": false,
    "hidden": true,
    "run_control": {
     "frozen": false,
     "read_only": false
    }
   },
   "outputs": [
    {
     "data": {
      "text/plain": [
       "(70709, 5)"
      ]
     },
     "execution_count": 71,
     "metadata": {},
     "output_type": "execute_result"
    }
   ],
   "source": [
    "loc_res_df.shape"
   ]
  },
  {
   "cell_type": "code",
   "execution_count": 64,
   "metadata": {
    "collapsed": false,
    "hidden": true,
    "run_control": {
     "frozen": false,
     "read_only": false
    }
   },
   "outputs": [
    {
     "data": {
      "text/html": [
       "<div>\n",
       "<table border=\"1\" class=\"dataframe\">\n",
       "  <thead>\n",
       "    <tr style=\"text-align: right;\">\n",
       "      <th></th>\n",
       "      <th>diagram</th>\n",
       "      <th>rectangle</th>\n",
       "      <th>hit_id</th>\n",
       "      <th>assignment_id</th>\n",
       "      <th>worker_id</th>\n",
       "    </tr>\n",
       "  </thead>\n",
       "  <tbody>\n",
       "    <tr>\n",
       "      <th>0</th>\n",
       "      <td>parts_cell_1182.png</td>\n",
       "      <td>[[283, 192], [447, 238]]</td>\n",
       "      <td>3SA4EMRVJV39U1MGLCYP6KPFULH0PX</td>\n",
       "      <td>3BDCF01OGXVJNV1XRULS5F5Z4B6LYG</td>\n",
       "      <td>A1017VP86SLXRB</td>\n",
       "    </tr>\n",
       "  </tbody>\n",
       "</table>\n",
       "</div>"
      ],
      "text/plain": [
       "               diagram                 rectangle  \\\n",
       "0  parts_cell_1182.png  [[283, 192], [447, 238]]   \n",
       "\n",
       "                           hit_id                   assignment_id  \\\n",
       "0  3SA4EMRVJV39U1MGLCYP6KPFULH0PX  3BDCF01OGXVJNV1XRULS5F5Z4B6LYG   \n",
       "\n",
       "        worker_id  \n",
       "0  A1017VP86SLXRB  "
      ]
     },
     "execution_count": 64,
     "metadata": {},
     "output_type": "execute_result"
    }
   ],
   "source": [
    "loc_res_df.head(1)"
   ]
  },
  {
   "cell_type": "code",
   "execution_count": 65,
   "metadata": {
    "collapsed": false,
    "hidden": true,
    "run_control": {
     "frozen": false,
     "read_only": false
    }
   },
   "outputs": [
    {
     "data": {
      "text/plain": [
       "(2307,)"
      ]
     },
     "execution_count": 65,
     "metadata": {},
     "output_type": "execute_result"
    }
   ],
   "source": [
    "pd.unique(loc_res_df['diagram']).shape"
   ]
  },
  {
   "cell_type": "code",
   "execution_count": 66,
   "metadata": {
    "collapsed": false,
    "hidden": true,
    "run_control": {
     "frozen": false,
     "read_only": false
    }
   },
   "outputs": [],
   "source": [
    "with open(os.path.join(turk_proc_dir, all_agree_lookup), 'rb') as f:\n",
    "    box_ns = pickle.load(f)"
   ]
  },
  {
   "cell_type": "code",
   "execution_count": 67,
   "metadata": {
    "collapsed": false,
    "hidden": true,
    "run_control": {
     "frozen": false,
     "read_only": false
    }
   },
   "outputs": [],
   "source": [
    "loc_anno = clean_list(os.path.join(turk_proc_dir, box_loc_joined))\n",
    "loc_anno_images = [fig.split('.json')[0]  for fig in loc_anno]"
   ]
  },
  {
   "cell_type": "code",
   "execution_count": 68,
   "metadata": {
    "collapsed": false,
    "hidden": true,
    "run_control": {
     "frozen": false,
     "read_only": false
    }
   },
   "outputs": [],
   "source": [
    "keep_figures = [fig for fig in loc_anno_images if fig not in removed_image_names]"
   ]
  },
  {
   "cell_type": "code",
   "execution_count": 69,
   "metadata": {
    "collapsed": false,
    "hidden": true,
    "run_control": {
     "frozen": false,
     "read_only": false
    }
   },
   "outputs": [],
   "source": [
    "loc_box_path = os.path.join(turk_proc_dir, box_loc_joined)\n",
    "diag_loc_annotations = {}\n",
    "\n",
    "for diagram_name in keep_figures:\n",
    "    anno_file_path = os.path.join(loc_box_path, diagram_name + '.json')\n",
    "    if not os.path.exists(anno_file_path):\n",
    "#         print(diagram_name)\n",
    "        diagram_name = diagram_name.replace('optics_rays', 'optics_ray_diagrams')\n",
    "        anno_file_path = os.path.join(loc_box_path, diagram_name  + '.json')\n",
    "#         continue\n",
    "    with open(anno_file_path, 'r') as f:\n",
    "        diag_loc_annotations[diagram_name] = json.load(f)"
   ]
  },
  {
   "cell_type": "code",
   "execution_count": 70,
   "metadata": {
    "collapsed": false,
    "hidden": true,
    "run_control": {
     "frozen": false,
     "read_only": false
    },
    "scrolled": false
   },
   "outputs": [],
   "source": [
    "# sorted(diag_loc_annotations)[1000:]"
   ]
  },
  {
   "cell_type": "markdown",
   "metadata": {
    "hidden": true
   },
   "source": []
  },
  {
   "cell_type": "code",
   "execution_count": 71,
   "metadata": {
    "collapsed": true,
    "hidden": true,
    "run_control": {
     "frozen": false,
     "read_only": false
    }
   },
   "outputs": [],
   "source": [
    "combined_master_file_list = pruned_files + desc_files"
   ]
  },
  {
   "cell_type": "code",
   "execution_count": 135,
   "metadata": {
    "collapsed": false,
    "hidden": true,
    "run_control": {
     "frozen": false,
     "read_only": false
    }
   },
   "outputs": [],
   "source": [
    "# combined_master_file_list_whitelisted = [file for file in combined_master_file_list if file in keep_figures]"
   ]
  },
  {
   "cell_type": "code",
   "execution_count": 138,
   "metadata": {
    "collapsed": false,
    "hidden": true,
    "run_control": {
     "frozen": false,
     "read_only": false
    },
    "scrolled": true
   },
   "outputs": [
    {
     "data": {
      "text/plain": [
       "142"
      ]
     },
     "execution_count": 138,
     "metadata": {},
     "output_type": "execute_result"
    }
   ],
   "source": [
    "files_still_needing_localisation = sorted(list(set(combined_master_file_list).difference(set(diag_loc_annotations))))\n",
    "len(files_still_needing_localisation)"
   ]
  },
  {
   "cell_type": "code",
   "execution_count": 137,
   "metadata": {
    "collapsed": false,
    "hidden": true,
    "run_control": {
     "frozen": false,
     "read_only": false
    }
   },
   "outputs": [
    {
     "data": {
      "text/plain": [
       "[]"
      ]
     },
     "execution_count": 137,
     "metadata": {},
     "output_type": "execute_result"
    }
   ],
   "source": [
    "files_still_needing_localisation"
   ]
  },
  {
   "cell_type": "code",
   "execution_count": 78,
   "metadata": {
    "collapsed": false,
    "hidden": true,
    "run_control": {
     "frozen": false,
     "read_only": false
    }
   },
   "outputs": [],
   "source": [
    "# Image.open('../ai2-vision-textbook-dataset/diagrams/turk_data/food_chains_webs_260.png')"
   ]
  },
  {
   "cell_type": "markdown",
   "metadata": {
    "heading_collapsed": true
   },
   "source": [
    "## recognition"
   ]
  },
  {
   "cell_type": "code",
   "execution_count": 62,
   "metadata": {
    "collapsed": true,
    "hidden": true,
    "run_control": {
     "frozen": false,
     "read_only": false
    }
   },
   "outputs": [],
   "source": [
    "from scipy.stats.mstats import mode\n",
    "noncon = defaultdict(list)\n",
    "def most_common_strict(image_response):\n",
    "    \"\"\"\n",
    "    returns the consensus response of the three raw response strings for a given image\n",
    "    \"\"\"\n",
    "    most_common = image_response[1]['raw_text'].mode()\n",
    "    if most_common.empty:\n",
    "        most_common = 'nonconsensus'\n",
    "        noncon.append(image_response[1]['raw_text'])\n",
    "    else:\n",
    "        most_common = most_common.values[0]\n",
    "    return most_common\n",
    "\n",
    "def most_common_lax(image_response, strings_denoting_missing_image=[]):\n",
    "    \"\"\"\n",
    "    returns the consensus response after stripping white space and converting the reponses to lower case\n",
    "    \"\"\"\n",
    "    simple_sanitizer = lambda x : x.lower().strip().lstrip()\n",
    "    ind_responses = image_response[1]['raw_text'].values\n",
    "    probobly_blanks = [response for response in ind_responses if response in strings_denoting_missing_image]\n",
    "    if probobly_blanks:\n",
    "        return 'skip'\n",
    "    most_common = image_response[1]['raw_text'].apply(simple_sanitizer).mode()\n",
    "    if most_common.empty:\n",
    "        most_common = 'no consensus'\n",
    "        noncon[image_response[0][0]].extend(image_response[1]['raw_text'])\n",
    "    else:\n",
    "        most_common = most_common.values[0]\n",
    "    return most_common\n",
    "\n",
    "def find_transcriptions_matches(batch_results_df, response_matcher):\n",
    "    \"\"\"\n",
    "    returns a pandas series with the consunsus response for each image\n",
    "    \"\"\"\n",
    "    agreed_responses = pd.DataFrame()\n",
    "    for image_response in batch_results_df.groupby(['diagram', 'box_diag_idx']):\n",
    "        diagram_and_idx = image_response[0]\n",
    "        most_common = response_matcher(image_response, strings_denoting_missing_image=[])\n",
    "        if most_common == 'skip':\n",
    "            continue\n",
    "        this_row = pd.DataFrame(list(diagram_and_idx) + [most_common, image_response[1]['rectangle'].iloc[0], image_response[1]['assignment_id'].iloc[0]]).T\n",
    "        agreed_responses = pd.concat([agreed_responses, this_row])\n",
    "        # The reindex below is needed to match the original df index after the groupby operation\n",
    "    agreed_responses.columns = ['diagram', 'box_diag_idx', 'consensus_res', 'rectangle', 'assignment_id']\n",
    "    return agreed_responses"
   ]
  },
  {
   "cell_type": "code",
   "execution_count": 73,
   "metadata": {
    "collapsed": false,
    "hidden": true,
    "run_control": {
     "frozen": false,
     "read_only": false
    }
   },
   "outputs": [],
   "source": [
    "recog_performed_on = set(pd.unique(recog_res_df['diagram']).tolist())"
   ]
  },
  {
   "cell_type": "code",
   "execution_count": 74,
   "metadata": {
    "collapsed": false,
    "hidden": true,
    "run_control": {
     "frozen": false,
     "read_only": false
    }
   },
   "outputs": [
    {
     "ename": "NameError",
     "evalue": "name 'keep_figures' is not defined",
     "output_type": "error",
     "traceback": [
      "\u001b[0;31m---------------------------------------------------------------------------\u001b[0m",
      "\u001b[0;31mNameError\u001b[0m                                 Traceback (most recent call last)",
      "\u001b[0;32m<ipython-input-74-602c7275da59>\u001b[0m in \u001b[0;36m<module>\u001b[0;34m()\u001b[0m\n\u001b[0;32m----> 1\u001b[0;31m \u001b[0mrecog_performed_on_keep\u001b[0m \u001b[0;34m=\u001b[0m \u001b[0;34m[\u001b[0m\u001b[0mimage\u001b[0m \u001b[0;32mfor\u001b[0m \u001b[0mimage\u001b[0m \u001b[0;32min\u001b[0m \u001b[0mrecog_performed_on\u001b[0m \u001b[0;32mif\u001b[0m \u001b[0mimage\u001b[0m \u001b[0;32min\u001b[0m \u001b[0mkeep_figures\u001b[0m\u001b[0;34m]\u001b[0m\u001b[0;34m\u001b[0m\u001b[0m\n\u001b[0m",
      "\u001b[0;32m<ipython-input-74-602c7275da59>\u001b[0m in \u001b[0;36m<listcomp>\u001b[0;34m(.0)\u001b[0m\n\u001b[0;32m----> 1\u001b[0;31m \u001b[0mrecog_performed_on_keep\u001b[0m \u001b[0;34m=\u001b[0m \u001b[0;34m[\u001b[0m\u001b[0mimage\u001b[0m \u001b[0;32mfor\u001b[0m \u001b[0mimage\u001b[0m \u001b[0;32min\u001b[0m \u001b[0mrecog_performed_on\u001b[0m \u001b[0;32mif\u001b[0m \u001b[0mimage\u001b[0m \u001b[0;32min\u001b[0m \u001b[0mkeep_figures\u001b[0m\u001b[0;34m]\u001b[0m\u001b[0;34m\u001b[0m\u001b[0m\n\u001b[0m",
      "\u001b[0;31mNameError\u001b[0m: name 'keep_figures' is not defined"
     ]
    }
   ],
   "source": [
    "recog_performed_on_keep = [image for image in recog_performed_on if image in keep_figures]"
   ]
  },
  {
   "cell_type": "code",
   "execution_count": 75,
   "metadata": {
    "collapsed": false,
    "hidden": true,
    "run_control": {
     "frozen": false,
     "read_only": false
    }
   },
   "outputs": [
    {
     "ename": "NameError",
     "evalue": "name 'recog_performed_on_keep' is not defined",
     "output_type": "error",
     "traceback": [
      "\u001b[0;31m---------------------------------------------------------------------------\u001b[0m",
      "\u001b[0;31mNameError\u001b[0m                                 Traceback (most recent call last)",
      "\u001b[0;32m<ipython-input-75-bdc601f082e9>\u001b[0m in \u001b[0;36m<module>\u001b[0;34m()\u001b[0m\n\u001b[0;32m----> 1\u001b[0;31m \u001b[0mlen\u001b[0m\u001b[0;34m(\u001b[0m\u001b[0mrecog_performed_on_keep\u001b[0m\u001b[0;34m)\u001b[0m\u001b[0;34m\u001b[0m\u001b[0m\n\u001b[0m",
      "\u001b[0;31mNameError\u001b[0m: name 'recog_performed_on_keep' is not defined"
     ]
    }
   ],
   "source": [
    "len(recog_performed_on_keep)"
   ]
  },
  {
   "cell_type": "code",
   "execution_count": 139,
   "metadata": {
    "collapsed": true,
    "hidden": true,
    "run_control": {
     "frozen": false,
     "read_only": false
    }
   },
   "outputs": [],
   "source": [
    "files_still_needing_recognition = sorted(list(set(pruned_files).difference(set(recog_performed_on_keep))))"
   ]
  },
  {
   "cell_type": "code",
   "execution_count": 140,
   "metadata": {
    "collapsed": false,
    "hidden": true,
    "run_control": {
     "frozen": false,
     "read_only": false
    }
   },
   "outputs": [
    {
     "data": {
      "text/plain": [
       "142"
      ]
     },
     "execution_count": 140,
     "metadata": {},
     "output_type": "execute_result"
    }
   ],
   "source": [
    "len(files_still_needing_recognition)"
   ]
  },
  {
   "cell_type": "code",
   "execution_count": 141,
   "metadata": {
    "collapsed": false,
    "hidden": true,
    "run_control": {
     "frozen": false,
     "read_only": false
    }
   },
   "outputs": [],
   "source": [
    "file_with_loc_no_recog = set(files_still_needing_recognition).difference(files_still_needing_localisation)"
   ]
  },
  {
   "cell_type": "code",
   "execution_count": 142,
   "metadata": {
    "collapsed": false,
    "hidden": true,
    "run_control": {
     "frozen": false,
     "read_only": false
    }
   },
   "outputs": [
    {
     "data": {
      "text/plain": [
       "18"
      ]
     },
     "execution_count": 142,
     "metadata": {},
     "output_type": "execute_result"
    }
   ],
   "source": [
    "len(file_with_loc_no_recog)"
   ]
  },
  {
   "cell_type": "code",
   "execution_count": 143,
   "metadata": {
    "collapsed": false,
    "hidden": true,
    "run_control": {
     "frozen": false,
     "read_only": false
    }
   },
   "outputs": [
    {
     "data": {
      "text/plain": [
       "{'em_spectrum_6815.png',\n",
       " 'em_spectrum_8063.png',\n",
       " 'em_spectrum_9096.png',\n",
       " 'geologic_time_6916.png',\n",
       " 'geologic_time_6920.png',\n",
       " 'hydrocarbons_8093.png',\n",
       " 'hydrocarbons_9120.png',\n",
       " 'optics_ray_diagrams_9165.png',\n",
       " 'optics_ray_diagrams_9166.png',\n",
       " 'optics_ray_diagrams_9169.png',\n",
       " 'optics_ray_diagrams_9170.png',\n",
       " 'optics_ray_diagrams_9171.png',\n",
       " 'optics_ray_diagrams_9172.png',\n",
       " 'optics_ray_diagrams_9173.png',\n",
       " 'optics_ray_diagrams_9174.png',\n",
       " 'optics_ray_diagrams_9175.png',\n",
       " 'optics_ray_diagrams_9176.png',\n",
       " 'optics_ray_diagrams_9177.png'}"
      ]
     },
     "execution_count": 143,
     "metadata": {},
     "output_type": "execute_result"
    }
   ],
   "source": [
    "file_with_loc_no_recog"
   ]
  },
  {
   "cell_type": "code",
   "execution_count": 167,
   "metadata": {
    "collapsed": false,
    "hidden": true,
    "run_control": {
     "frozen": false,
     "read_only": false
    }
   },
   "outputs": [
    {
     "data": {
      "image/png": "[encoded data removed]",
      "text/plain": [
       "<PIL.PngImagePlugin.PngImageFile image mode=RGB size=600x285 at 0x11BCEDE80>"
      ]
     },
     "execution_count": 167,
     "metadata": {},
     "output_type": "execute_result"
    }
   ],
   "source": [
    "Image.open('../ai2-vision-textbook-dataset/diagrams/turk_data/optics_ray_diagrams_9170.png')"
   ]
  },
  {
   "cell_type": "code",
   "execution_count": 76,
   "metadata": {
    "collapsed": false,
    "hidden": true,
    "run_control": {
     "frozen": false,
     "read_only": false
    }
   },
   "outputs": [],
   "source": [
    "transcription_results_lax = find_transcriptions_matches(recog_res_df, most_common_lax)"
   ]
  },
  {
   "cell_type": "code",
   "execution_count": 97,
   "metadata": {
    "collapsed": true,
    "hidden": true,
    "run_control": {
     "frozen": false,
     "read_only": false
    }
   },
   "outputs": [],
   "source": [
    "# noncon_entries = [entries.values.tolist() for entries in noncon]\n",
    "# flattened_noncon = [item for sublist in noncon_entries for item in sublist]"
   ]
  },
  {
   "cell_type": "code",
   "execution_count": 145,
   "metadata": {
    "collapsed": false,
    "hidden": true,
    "run_control": {
     "frozen": false,
     "read_only": false
    }
   },
   "outputs": [],
   "source": [
    "# strings_denoting_missing_image = list(pd.Series(flattened_noncon).value_counts()[:20].index)\n",
    "curated_no_image_strings = set(['*no image showing*', '', ' ', 'NA', '?', 'na', '0', 'No image found', 'blank', 'Nothing showing', \"where is the images , i can't see anything\", 'NO IMAGE', ''])"
   ]
  },
  {
   "cell_type": "code",
   "execution_count": 146,
   "metadata": {
    "collapsed": false,
    "hidden": true,
    "run_control": {
     "frozen": false,
     "read_only": false
    }
   },
   "outputs": [],
   "source": [
    "non_blank_no_consensus = {d_name: rec_res for d_name, rec_res in noncon.items() if not curated_no_image_strings.intersection(set(rec_res))}\n",
    "blank_no_consensus = {d_name: rec_res for d_name, rec_res in noncon.items() if curated_no_image_strings.intersection(set(rec_res))}"
   ]
  },
  {
   "cell_type": "code",
   "execution_count": 147,
   "metadata": {
    "collapsed": false,
    "hidden": true,
    "run_control": {
     "frozen": false,
     "read_only": false
    }
   },
   "outputs": [
    {
     "data": {
      "text/plain": [
       "408"
      ]
     },
     "execution_count": 147,
     "metadata": {},
     "output_type": "execute_result"
    }
   ],
   "source": [
    "len(non_blank_no_consensus)"
   ]
  },
  {
   "cell_type": "code",
   "execution_count": 131,
   "metadata": {
    "collapsed": false,
    "hidden": true,
    "run_control": {
     "frozen": false,
     "read_only": false
    }
   },
   "outputs": [
    {
     "data": {
      "text/plain": [
       "99"
      ]
     },
     "execution_count": 131,
     "metadata": {},
     "output_type": "execute_result"
    }
   ],
   "source": [
    "len(blank_no_consensus)"
   ]
  },
  {
   "cell_type": "code",
   "execution_count": 148,
   "metadata": {
    "collapsed": false,
    "hidden": true,
    "run_control": {
     "frozen": false,
     "read_only": false
    }
   },
   "outputs": [],
   "source": [
    "flattened_noncon_no_blank = [item for sublist in non_blank_no_consensus.values() for item in sublist]\n",
    "# pd.Series(flattened_noncon_no_blank).value_counts()"
   ]
  },
  {
   "cell_type": "code",
   "execution_count": 135,
   "metadata": {
    "collapsed": true,
    "hidden": true,
    "run_control": {
     "frozen": false,
     "read_only": false
    }
   },
   "outputs": [
    {
     "data": {
      "text/plain": [
       "*no image showing*                                       456\n",
       "                                                         365\n",
       "                                                         196\n",
       "NA                                                        73\n",
       "?                                                         62\n",
       "na                                                        37\n",
       "0                                                         21\n",
       "c                                                         20\n",
       "blank                                                     19\n",
       "No image found                                            19\n",
       "Nothing showing                                           13\n",
       "where is the images , i can't see anything                11\n",
       "NO IMAGE                                                   8\n",
       "Nucleolus                                                  5\n",
       "Nucleus                                                    5\n",
       "Nothing                                                    5\n",
       "Ribosomes                                                  5\n",
       "30                                                         4\n",
       "valve                                                      4\n",
       "Cytoplasm                                                  3\n",
       "Golgi apparatus                                            3\n",
       "O                                                          3\n",
       "A                                                          3\n",
       "B                                                          3\n",
       "Mitochondria                                               3\n",
       "C                                                          3\n",
       "MAGNETIC MERIDIAN                                          2\n",
       "100°C                                                      2\n",
       "Lysosome                                                   2\n",
       "GEOGRAPHICAL MERIDIAN                                      2\n",
       "                                                        ... \n",
       "DNA                                                        1\n",
       "Peripheral Nervous System                                  1\n",
       "18 ulna                                                    1\n",
       "fauit                                                      1\n",
       "1. A fish dies and sinks to the bottom of a lake.          1\n",
       "volcanic arc                                               1\n",
       "image                                                      1\n",
       "WOMAN                                                      1\n",
       "SEDIMENTS                                                  1\n",
       "September Equinox Sept 22/23                               1\n",
       "Complete Metamorphosis: Life Cyrcle of the Lady Beede      1\n",
       "hanging                                                    1\n",
       "The Parts of the Flower                                    1\n",
       "Patella                                                    1\n",
       "grasshopper                                                1\n",
       "Perimetrium                                                1\n",
       "Tarsals                                                    1\n",
       "turret                                                     1\n",
       "stigma                                                     1\n",
       "Endoplasmic Reticulum                                      1\n",
       "North Pole                                                 1\n",
       "Earth + Revolution = Seasons                               1\n",
       "Electron y photon                                          1\n",
       "i                                                          1\n",
       "Stage 4                                                    1\n",
       "- Peroxisome                                               1\n",
       "obovate                                                    1\n",
       "PERIMETRIUM                                                1\n",
       "TROPIC OF CANCER                                           1\n",
       "100 c                                                      1\n",
       "dtype: int64"
      ]
     },
     "execution_count": 135,
     "metadata": {},
     "output_type": "execute_result"
    }
   ],
   "source": [
    "flattened_noncon_no_blank = [item for sublist in blank_no_consensus.values() for item in sublist]\n",
    "pd.Series(flattened_noncon_no_blank).value_counts()"
   ]
  },
  {
   "cell_type": "code",
   "execution_count": 149,
   "metadata": {
    "collapsed": false,
    "hidden": true,
    "run_control": {
     "frozen": false,
     "read_only": false
    }
   },
   "outputs": [
    {
     "data": {
      "text/html": [
       "<div>\n",
       "<table border=\"1\" class=\"dataframe\">\n",
       "  <thead>\n",
       "    <tr style=\"text-align: right;\">\n",
       "      <th></th>\n",
       "      <th>diagram</th>\n",
       "      <th>box_diag_idx</th>\n",
       "      <th>consensus_res</th>\n",
       "      <th>rectangle</th>\n",
       "      <th>assignment_id</th>\n",
       "    </tr>\n",
       "  </thead>\n",
       "  <tbody>\n",
       "    <tr>\n",
       "      <th>0</th>\n",
       "      <td>acid_rain_formation_6500.png</td>\n",
       "      <td>0</td>\n",
       "      <td>hno3</td>\n",
       "      <td>[[688, 33], [733, 54]]</td>\n",
       "      <td>3OE22WJIGJO58MJBIMX82UWEGD9QUE</td>\n",
       "    </tr>\n",
       "  </tbody>\n",
       "</table>\n",
       "</div>"
      ],
      "text/plain": [
       "                        diagram box_diag_idx consensus_res  \\\n",
       "0  acid_rain_formation_6500.png            0          hno3   \n",
       "\n",
       "                rectangle                   assignment_id  \n",
       "0  [[688, 33], [733, 54]]  3OE22WJIGJO58MJBIMX82UWEGD9QUE  "
      ]
     },
     "execution_count": 149,
     "metadata": {},
     "output_type": "execute_result"
    }
   ],
   "source": [
    "transcription_results_lax.head(1)"
   ]
  },
  {
   "cell_type": "code",
   "execution_count": 150,
   "metadata": {
    "collapsed": false,
    "hidden": true,
    "run_control": {
     "frozen": false,
     "read_only": false
    }
   },
   "outputs": [],
   "source": [
    "build_diagram_rec_corpus  = [words.split() for words in transcription_results_lax['consensus_res'].values.tolist()]\n",
    "diagram_rec_corpus = set([item.lower().strip() for sublist in build_diagram_rec_corpus for item in sublist if item.isalpha() and len(item) > 3])"
   ]
  },
  {
   "cell_type": "code",
   "execution_count": 152,
   "metadata": {
    "collapsed": false,
    "hidden": true,
    "run_control": {
     "frozen": false,
     "read_only": false
    }
   },
   "outputs": [
    {
     "data": {
      "text/plain": [
       "4073"
      ]
     },
     "execution_count": 152,
     "metadata": {},
     "output_type": "execute_result"
    }
   ],
   "source": [
    "len(diagram_rec_corpus)"
   ]
  },
  {
   "cell_type": "markdown",
   "metadata": {},
   "source": [
    "# Integrate diagrams and text"
   ]
  },
  {
   "cell_type": "markdown",
   "metadata": {},
   "source": [
    "## match diagram topics to lessons"
   ]
  },
  {
   "cell_type": "markdown",
   "metadata": {},
   "source": [
    "first need to match diagram topic to flexbook lesson-"
   ]
  },
  {
   "cell_type": "code",
   "execution_count": 110,
   "metadata": {
    "collapsed": false,
    "run_control": {
     "frozen": false,
     "read_only": false
    }
   },
   "outputs": [],
   "source": []
  },
  {
   "cell_type": "code",
   "execution_count": 111,
   "metadata": {
    "collapsed": true,
    "run_control": {
     "frozen": false,
     "read_only": false
    }
   },
   "outputs": [],
   "source": [
    "working_topic_list = clean_list(pruned_dir)"
   ]
  },
  {
   "cell_type": "code",
   "execution_count": 112,
   "metadata": {
    "collapsed": true,
    "run_control": {
     "frozen": false,
     "read_only": false
    }
   },
   "outputs": [],
   "source": [
    "es_lesson_names = [item for sublist in [val['topics'].keys() for val in ck12_combined_dataset['earth-science'].values()] for item in sublist]\n",
    "ps_lesson_names = [item for sublist in [val['topics'].keys() for val in ck12_combined_dataset['physical-science'].values()] for item in sublist]\n",
    "ls_lesson_names = [item for sublist in [val['topics'].keys() for val in ck12_combined_dataset['life-science'].values()] for item in sublist]\n",
    "\n",
    "combined_lessons = es_lesson_names + ps_lesson_names + ls_lesson_names\n",
    "topic_series = pd.Series(combined_lessons).value_counts()\n",
    "topics_to_remove = list(topic_series[:17].index)"
   ]
  },
  {
   "cell_type": "code",
   "execution_count": 113,
   "metadata": {
    "collapsed": true,
    "run_control": {
     "frozen": false,
     "read_only": false
    }
   },
   "outputs": [],
   "source": [
    "combined_topics = defaultdict(dict)\n",
    "for subject, book in ck12_combined_dataset.items():\n",
    "    for lesson, material in book.items():\n",
    "        for topic, text in material['topics'].items():\n",
    "            if topic in topics_to_remove:\n",
    "                continue\n",
    "#             combined_topics[topic.lower()]['text'] = text['content']['text']\n",
    "            combined_topics[topic.lower()]['lesson'] = lesson"
   ]
  },
  {
   "cell_type": "code",
   "execution_count": 114,
   "metadata": {
    "collapsed": false,
    "run_control": {
     "frozen": false,
     "read_only": false
    }
   },
   "outputs": [],
   "source": [
    "import fuzzywuzzy.fuzz as fuzz\n",
    "def make_topic_matches(topic_list, combined_topics):\n",
    "    topic_matches = {}\n",
    "    for diagram_topic in topic_list:\n",
    "        topic_matches[diagram_topic] = []\n",
    "        for terms in topic_term_match[diagram_topic]:\n",
    "            lev_dist_threshed = [topic for topic in combined_topics.keys() if fuzz.ratio(topic, terms) > 85]\n",
    "            topic_matches[diagram_topic] += lev_dist_threshed\n",
    "        if not topic_matches[diagram_topic]:\n",
    "                for terms in topic_term_match[diagram_topic]:\n",
    "                    lev_dist_threshed = [topic for topic in combined_topics.keys() if fuzz.token_set_ratio(topic, terms) > 80]\n",
    "                    topic_matches[diagram_topic] += lev_dist_threshed\n",
    "    return topic_matches"
   ]
  },
  {
   "cell_type": "code",
   "execution_count": 115,
   "metadata": {
    "collapsed": false,
    "run_control": {
     "frozen": false,
     "read_only": false
    }
   },
   "outputs": [],
   "source": [
    "def make_lesson_matches(ck12_dataset, diagram_topic_name, topic_matches):\n",
    "    lesson_matches = defaultdict(list)\n",
    "    lessons_seen = set()\n",
    "    content_topics =  topic_matches[diagram_topic_name]\n",
    "    for topic in sorted(content_topics):\n",
    "        associated_lesson =combined_topics[topic]['lesson']\n",
    "        if associated_lesson not in lessons_seen:\n",
    "            lessons_seen.add(associated_lesson)\n",
    "            lesson_matches[diagram_topic_name].append(associated_lesson)\n",
    "    return dict(lesson_matches)"
   ]
  },
  {
   "cell_type": "code",
   "execution_count": 116,
   "metadata": {
    "collapsed": false,
    "run_control": {
     "frozen": false,
     "read_only": false
    }
   },
   "outputs": [],
   "source": [
    "topic_matches = make_topic_matches(working_topic_list, combined_topics)\n",
    "missing= []\n",
    "for k, v in topic_matches.items():\n",
    "    if not v:\n",
    "        missing.append(k)"
   ]
  },
  {
   "cell_type": "code",
   "execution_count": 117,
   "metadata": {
    "collapsed": false,
    "run_control": {
     "frozen": false,
     "read_only": false
    }
   },
   "outputs": [],
   "source": [
    "matching_lessons = {}\n",
    "for topic in working_topic_list:\n",
    "    matched_lessons = make_lesson_matches(ck12_combined_dataset, topic, topic_matches)\n",
    "    matching_lessons.update(matched_lessons)"
   ]
  },
  {
   "cell_type": "code",
   "execution_count": 118,
   "metadata": {
    "collapsed": false,
    "run_control": {
     "frozen": false,
     "read_only": false
    },
    "scrolled": true
   },
   "outputs": [],
   "source": [
    "diagram_lesson_lookup = {}\n",
    "for d_topic, lessons in matching_lessons.items():\n",
    "#     try:\n",
    "#         diagram_lesson_lookup[d_topic] = sorted(lessons, key= lambda x: int(x.split('.')[0]))[0]\n",
    "#     except ValueError:\n",
    "    diagram_lesson_lookup[d_topic] = sorted(lessons)[0]"
   ]
  },
  {
   "cell_type": "code",
   "execution_count": 119,
   "metadata": {
    "collapsed": false,
    "run_control": {
     "frozen": false,
     "read_only": false
    },
    "scrolled": false
   },
   "outputs": [
    {
     "data": {
      "text/plain": [
       "102"
      ]
     },
     "execution_count": 119,
     "metadata": {},
     "output_type": "execute_result"
    }
   ],
   "source": [
    "len(diagram_lesson_lookup.keys())"
   ]
  },
  {
   "cell_type": "code",
   "execution_count": 120,
   "metadata": {
    "collapsed": false,
    "run_control": {
     "frozen": false,
     "read_only": false
    }
   },
   "outputs": [
    {
     "data": {
      "text/plain": [
       "84"
      ]
     },
     "execution_count": 120,
     "metadata": {},
     "output_type": "execute_result"
    }
   ],
   "source": [
    "len(set(diagram_lesson_lookup.values()))"
   ]
  },
  {
   "cell_type": "code",
   "execution_count": 126,
   "metadata": {
    "collapsed": true,
    "run_control": {
     "frozen": false,
     "read_only": false
    }
   },
   "outputs": [
    {
     "name": "stdout",
     "output_type": "stream",
     "text": [
      "acid_rain_formation\n",
      "['22.2 Effects of Air Pollution']\n",
      "\n",
      "aquifers\n",
      "['13.3 Groundwater']\n",
      "\n",
      "atomic_mass_number\n",
      "['3.1 Properties of Matter', '5.1 Inside the Atom', 'atomic number']\n",
      "\n",
      "atomic_structure\n",
      "['5.1 Inside the Atom']\n",
      "\n",
      "biomes\n",
      "['climate zones and biomes']\n",
      "\n",
      "blastocyst\n",
      "['22.3 Reproduction and Life Stages']\n",
      "\n",
      "cell_division\n",
      "['5.1 Cell Division']\n",
      "\n",
      "cellular_respiration\n",
      "['9.4 Biochemical Reactions']\n",
      "\n",
      "chemical_bonding_covalent\n",
      "['7.3 Covalent Bonds']\n",
      "\n",
      "chemical_bonding_ionic\n",
      "['7.2 Ionic Bonds']\n",
      "\n",
      "circuits\n",
      "['23.3 Electric Circuits']\n",
      "\n",
      "continental_drift\n",
      "['6.2 Continental Drift']\n",
      "\n",
      "convection_of_air\n",
      "['18.2 Transfer of Thermal Energy']\n",
      "\n",
      "cycle_carbon\n",
      "['18.2 Cycles of Matter']\n",
      "\n",
      "cycle_nitrogen\n",
      "['18.2 Cycles of Matter']\n",
      "\n",
      "cycle_rock\n",
      "['4.1 Types of Rocks', 'rocks and processes of the rock cycle']\n",
      "\n",
      "cycle_water\n",
      "['24.2 Cycles of Matter']\n",
      "\n",
      "dna\n",
      "['nucleic acid classification']\n",
      "\n",
      "earth_day_night\n",
      "['rotation of earth']\n",
      "\n",
      "earth_eclipses\n",
      "['eclipses']\n",
      "\n",
      "earth_magnetic_field\n",
      "['24.2 Earth as a Magnet']\n",
      "\n",
      "earth_moon_phases\n",
      "['24.4 The Sun and the EarthMoon System']\n",
      "\n",
      "earth_parts\n",
      "['6.1 Inside Earth']\n",
      "\n",
      "earth_poles\n",
      "['revolutions of earth']\n",
      "\n",
      "electromagnetism\n",
      "['25.2 Using Electromagnetism']\n",
      "\n",
      "em_spectrum\n",
      "['21.3 The Electromagnetic Spectrum', '23.1 Telescopes', 'electromagnetic spectrum', 'radio waves']\n",
      "\n",
      "erosion\n",
      "['10.1 Erosion and Deposition by Flowing Water', '10.2 Erosion and Deposition by Waves', '10.3 Erosion and Deposition by Wind', '10.4 Erosion and Deposition by Glaciers', '19.1 Loss of Soil', 'avoiding soil loss', 'landforms from groundwater erosion and deposition', 'rocks and processes of the rock cycle', 'soil erosion']\n",
      "\n",
      "eukaryotic_cell_cycles\n",
      "['5.1 Cell Division']\n",
      "\n",
      "evaporation_and_sublimation\n",
      "['4.3 Changes of State']\n",
      "\n",
      "faults\n",
      "['7.1 Stress in Earths Crust']\n",
      "\n",
      "food_chains_webs\n",
      "['24.1 Flow of Energy']\n",
      "\n",
      "fossils\n",
      "['11.1 Fossils']\n",
      "\n",
      "fungi_reproduction\n",
      "['9.2 Fungi']\n",
      "\n",
      "geologic_time\n",
      "['7.4 History of Life on Earth']\n",
      "\n",
      "glaciers\n",
      "['10.4 Erosion and Deposition by Glaciers', 'glaciers']\n",
      "\n",
      "greenhouse_effect\n",
      "['greenhouse effect']\n",
      "\n",
      "hair_follicles\n",
      "['16.2 The Integumentary System']\n",
      "\n",
      "human_system_circulatory\n",
      "['18.1 Overview of the Cardiovascular System']\n",
      "\n",
      "human_system_digestive\n",
      "['17.3 The Digestive System']\n",
      "\n",
      "human_system_ear\n",
      "['20.2 The Senses']\n",
      "\n",
      "human_system_excretory\n",
      "['19.2 The Excretory System']\n",
      "\n",
      "human_system_eye\n",
      "['22.3 Vision']\n",
      "\n",
      "human_system_immune\n",
      "['21.4 Immune System Defenses']\n",
      "\n",
      "human_system_muscular\n",
      "['16.4 The Muscular System']\n",
      "\n",
      "human_system_nervous\n",
      "['20.1 The Nervous System', 'central nervous system', 'diseases of the nervous system', 'injuries of the nervous system', 'keeping the nervous system healthy', 'nervous system', 'peripheral nervous system']\n",
      "\n",
      "human_system_reproductory\n",
      "['22.1 Male Reproductive System', '22.2 Female Reproductive System', '22.4 Reproductive System Health', 'female reproductive system', 'male reproductive system', 'reproductive system health']\n",
      "\n",
      "human_system_respiratory\n",
      "['19.1 The Respiratory System', 'respiratory system diseases', 'respiratory system health', 'respiratory system organs']\n",
      "\n",
      "hydrocarbons\n",
      "['9.2 Hydrocarbons', 'combustion reactions', 'hydrocarbons', 'saturated hydrocarbons', 'unsaturated hydrocarbons']\n",
      "\n",
      "isotopes\n",
      "['5.1 Inside the Atom']\n",
      "\n",
      "layers_of_atmosphere\n",
      "['15.3 Layers of the Atmosphere']\n",
      "\n",
      "lewis_dots\n",
      "['7.1 Introduction to Chemical Bonds']\n",
      "\n",
      "life_cycles\n",
      "['12.4 Insects and Other Arthropods']\n",
      "\n",
      "muscle_fiber\n",
      "['16.4 The Muscular System', 'muscles and exercise']\n",
      "\n",
      "nuclear_energy\n",
      "['11.3 Nuclear Energy']\n",
      "\n",
      "ocean_currents\n",
      "['surface ocean currents']\n",
      "\n",
      "ocean_waves\n",
      "['14.2 Ocean Movements', 'gamma rays', 'longitudinal wave', 'seismic waves', 'transverse wave']\n",
      "\n",
      "ocean_zones\n",
      "['14.1 Introduction to the Oceans']\n",
      "\n",
      "optics_lense_types\n",
      "['22.2 Optics']\n",
      "\n",
      "optics_rays\n",
      "['law of reflection']\n",
      "\n",
      "optics_reflection\n",
      "['law of reflection']\n",
      "\n",
      "optics_refraction\n",
      "['22.2 Optics']\n",
      "\n",
      "ozone_formation\n",
      "['22.1 Air Pollution']\n",
      "\n",
      "parts_cell\n",
      "['3.2 Cell Structures', '4.1 Transport', 'cell transport']\n",
      "\n",
      "parts_chordate_body\n",
      "['12.5 Echinoderms and Invertebrate Chordates', 'chordates']\n",
      "\n",
      "parts_fish\n",
      "['13.2 Fish']\n",
      "\n",
      "parts_flower\n",
      "['10.2 Evolution and Classification of Plants']\n",
      "\n",
      "parts_leaf\n",
      "['10.1 Introduction to Plants']\n",
      "\n",
      "parts_microscope\n",
      "['1.4 The Microscope', 'microscopes', 'optical instruments']\n",
      "\n",
      "parts_neuron\n",
      "['20.1 The Nervous System']\n",
      "\n",
      "parts_ocean_floor\n",
      "['14.3 The Ocean Floor']\n",
      "\n",
      "parts_plant\n",
      "['10.1 Introduction to Plants', '10.2 Evolution and Classification of Plants', '10.3 Plant Responses and Special Adaptations', '14.2 Mammals', '5.2 Nonrenewable Energy Resources', '5.3 Renewable Energy Resources', '6.2 Continental Drift', '9.1 Weathering', 'chemical weathering', 'electrical grid', 'fungi classification', 'nonvascular plants', 'reproduction in seedless plants', 'seeds and seed dispersal', 'symbiotic relationships of fungi', 'types of marine organisms', 'vascular seedless plants']\n",
      "\n",
      "parts_seed\n",
      "['10.2 Evolution and Classification of Plants']\n",
      "\n",
      "parts_skeleton\n",
      "['16.3 The Skeletal System']\n",
      "\n",
      "parts_telescope\n",
      "['22.2 Optics', 'optical instruments']\n",
      "\n",
      "parts_worm\n",
      "['12.2 Flatworms and Roundworms', 'roundworms']\n",
      "\n",
      "periodic_table\n",
      "['6.1 How Elements Are Organized']\n",
      "\n",
      "phagocytosis\n",
      "['21.3 First Two Lines of Defense']\n",
      "\n",
      "photosynthesis\n",
      "['4.2 Photosynthesis']\n",
      "\n",
      "protozoa\n",
      "['9.1 Protists']\n",
      "\n",
      "radioactive_decay\n",
      "['11.3 Absolute Ages of Rocks']\n",
      "\n",
      "rain_shadow\n",
      "['17.1 Climate and Its Causes']\n",
      "\n",
      "seafloor_spreading\n",
      "['6.3 Seafloor Spreading']\n",
      "\n",
      "seasons\n",
      "['24.1 Planet Earth']\n",
      "\n",
      "seismic_waves\n",
      "['7.2 Nature of Earthquakes']\n",
      "\n",
      "simple_machines\n",
      "['16.3 Simple Machines']\n",
      "\n",
      "skin_cross_section\n",
      "['16.2 The Integumentary System']\n",
      "\n",
      "soil_horizons\n",
      "['9.2 Soils', 'processes of the water cycle']\n",
      "\n",
      "solar_system\n",
      "['25.1 Introduction to the Solar System']\n",
      "\n",
      "state_change\n",
      "['4.3 Changes of State']\n",
      "\n",
      "states_of_matter\n",
      "['4.1 Solids Liquids Gases and Plasmas', 'kinetic theory of matter', 'solutions', 'states of water']\n",
      "\n",
      "stratigraphy\n",
      "['11.2 Relative Ages of Rocks']\n",
      "\n",
      "sun_layers\n",
      "['24.3 The Sun']\n",
      "\n",
      "tectonic_plates\n",
      "['6.4 Theory of Plate Tectonics']\n",
      "\n",
      "tectonic_plates_motion\n",
      "['6.4 Theory of Plate Tectonics', 'venus']\n",
      "\n",
      "tides\n",
      "['14.2 Ocean Movements']\n",
      "\n",
      "types_cells\n",
      "['cell biology']\n",
      "\n",
      "types_clouds\n",
      "['clouds']\n",
      "\n",
      "types_leaves\n",
      "['10.1 Introduction to Plants']\n",
      "\n",
      "velocity_time_graphs\n",
      "['12.3 Acceleration']\n",
      "\n",
      "volcanoes\n",
      "['8.3 Types of Volcanoes']\n",
      "\n",
      "waves\n",
      "['19.2 Measuring Waves']\n",
      "\n",
      "waves_interactions_interference\n",
      "['19.3 Wave Interactions and Interference']\n",
      "\n"
     ]
    }
   ],
   "source": [
    "for k, v in sorted(matching_lessons.items()):\n",
    "    print(k)\n",
    "    print(sorted(v))\n",
    "    print()"
   ]
  },
  {
   "cell_type": "code",
   "execution_count": 127,
   "metadata": {
    "collapsed": true,
    "run_control": {
     "frozen": false,
     "read_only": false
    }
   },
   "outputs": [],
   "source": [
    "lessons_seen = []\n",
    "dupe_lessons = []\n",
    "for k, v in diagram_lesson_lookup.items():\n",
    "    if v not in lessons_seen:\n",
    "        lessons_seen.append(v)\n",
    "    else:\n",
    "        dupe_lessons.append(v)"
   ]
  },
  {
   "cell_type": "code",
   "execution_count": 128,
   "metadata": {
    "collapsed": false,
    "run_control": {
     "frozen": false,
     "read_only": false
    }
   },
   "outputs": [],
   "source": [
    "dupe_topics = defaultdict(list)\n",
    "for k, v in diagram_lesson_lookup.items():\n",
    "    if v in dupe_lessons:\n",
    "        dupe_topics[v].append(k)"
   ]
  },
  {
   "cell_type": "code",
   "execution_count": 129,
   "metadata": {
    "collapsed": false,
    "run_control": {
     "frozen": false,
     "read_only": false
    }
   },
   "outputs": [
    {
     "name": "stdout",
     "output_type": "stream",
     "text": [
      "{'10.1 Introduction to Plants': ['parts_plant', 'types_leaves', 'parts_leaf'],\n",
      " '10.2 Evolution and Classification of Plants': ['parts_flower', 'parts_seed'],\n",
      " '14.2 Ocean Movements': ['tides', 'ocean_waves'],\n",
      " '16.2 The Integumentary System': ['hair_follicles', 'skin_cross_section'],\n",
      " '16.4 The Muscular System': ['human_system_muscular', 'muscle_fiber'],\n",
      " '18.2 Cycles of Matter': ['cycle_carbon', 'cycle_nitrogen'],\n",
      " '20.1 The Nervous System': ['human_system_nervous', 'parts_neuron'],\n",
      " '22.2 Optics': ['optics_refraction', 'parts_telescope', 'optics_lense_types'],\n",
      " '4.3 Changes of State': ['evaporation_and_sublimation', 'state_change'],\n",
      " '5.1 Cell Division': ['cell_division', 'eukaryotic_cell_cycles'],\n",
      " '5.1 Inside the Atom': ['atomic_structure', 'isotopes'],\n",
      " '6.4 Theory of Plate Tectonics': ['tectonic_plates_motion', 'tectonic_plates'],\n",
      " 'law of reflection': ['optics_reflection', 'optics_rays']}\n"
     ]
    }
   ],
   "source": [
    "pprint.pprint(dict(dupe_topics))"
   ]
  },
  {
   "cell_type": "code",
   "execution_count": 161,
   "metadata": {
    "collapsed": false,
    "run_control": {
     "frozen": false,
     "read_only": false
    },
    "scrolled": true
   },
   "outputs": [],
   "source": [
    "diagram_lesson_lookup['lewis_dot_diagrams'] = diagram_lesson_lookup['lewis_dots']\n",
    "diagram_lesson_lookup['optics_ray_diagrams'] = diagram_lesson_lookup['optics_rays']"
   ]
  },
  {
   "cell_type": "code",
   "execution_count": null,
   "metadata": {
    "collapsed": true,
    "run_control": {
     "frozen": false,
     "read_only": false
    }
   },
   "outputs": [],
   "source": []
  },
  {
   "cell_type": "code",
   "execution_count": null,
   "metadata": {
    "collapsed": true,
    "run_control": {
     "frozen": false,
     "read_only": false
    }
   },
   "outputs": [],
   "source": []
  },
  {
   "cell_type": "code",
   "execution_count": null,
   "metadata": {
    "collapsed": true,
    "run_control": {
     "frozen": false,
     "read_only": false
    }
   },
   "outputs": [],
   "source": []
  },
  {
   "cell_type": "code",
   "execution_count": null,
   "metadata": {
    "collapsed": true,
    "run_control": {
     "frozen": false,
     "read_only": false
    }
   },
   "outputs": [],
   "source": []
  },
  {
   "cell_type": "code",
   "execution_count": null,
   "metadata": {
    "collapsed": true,
    "run_control": {
     "frozen": false,
     "read_only": false
    }
   },
   "outputs": [],
   "source": []
  },
  {
   "cell_type": "code",
   "execution_count": null,
   "metadata": {
    "collapsed": true,
    "run_control": {
     "frozen": false,
     "read_only": false
    }
   },
   "outputs": [],
   "source": []
  },
  {
   "cell_type": "code",
   "execution_count": null,
   "metadata": {
    "collapsed": true,
    "run_control": {
     "frozen": false,
     "read_only": false
    }
   },
   "outputs": [],
   "source": []
  },
  {
   "cell_type": "code",
   "execution_count": 74,
   "metadata": {
    "collapsed": false,
    "run_control": {
     "frozen": false,
     "read_only": false
    }
   },
   "outputs": [],
   "source": [
    "# list(ck12_combined_dataset['earth-science'].values())[0]['questions']"
   ]
  },
  {
   "cell_type": "markdown",
   "metadata": {
    "heading_collapsed": true
   },
   "source": [
    "## merge questions"
   ]
  },
  {
   "cell_type": "code",
   "execution_count": 153,
   "metadata": {
    "collapsed": false,
    "hidden": true,
    "run_control": {
     "frozen": false,
     "read_only": false
    }
   },
   "outputs": [
    {
     "data": {
      "text/plain": [
       "(1146, 13)"
      ]
     },
     "execution_count": 153,
     "metadata": {},
     "output_type": "execute_result"
    }
   ],
   "source": [
    "dr_proc_df[dr_proc_df['topic'].isin(['parts_plant', 'types_leaves', 'parts_leaf'])].shape"
   ]
  },
  {
   "cell_type": "code",
   "execution_count": 154,
   "metadata": {
    "collapsed": false,
    "hidden": true,
    "run_control": {
     "frozen": false,
     "read_only": false
    }
   },
   "outputs": [],
   "source": [
    "dq_image_folder = 'diagram-question-images/'\n",
    "td_image_folder = 'diagram-teaching-images/'"
   ]
  },
  {
   "cell_type": "code",
   "execution_count": 155,
   "metadata": {
    "collapsed": false,
    "hidden": true,
    "run_control": {
     "frozen": false,
     "read_only": false
    }
   },
   "outputs": [
    {
     "data": {
      "text/plain": [
       "'https://images.spare5.com/ai2-2/aquifers/images/aquifers_16517.png'"
      ]
     },
     "execution_count": 155,
     "metadata": {},
     "output_type": "execute_result"
    }
   ],
   "source": [
    "dr_proc_df['reference_id'][0]"
   ]
  },
  {
   "cell_type": "code",
   "execution_count": 156,
   "metadata": {
    "collapsed": true,
    "hidden": true,
    "run_control": {
     "frozen": false,
     "read_only": false
    }
   },
   "outputs": [],
   "source": [
    "s3_base = 'https://s3.amazonaws.com/ai2-vision-textbook-dataset/diagrams/' + dq_image_folder\n",
    "s3_base_descriptions = 'https://s3.amazonaws.com/ai2-vision-textbook-dataset/diagrams/' + td_image_folder\n",
    "\n",
    "def make_image_link(old_url, s3_base=s3_base):\n",
    "    image_name = old_url.split('/')[-1]\n",
    "    new_url = s3_base + image_name\n",
    "    return new_url"
   ]
  },
  {
   "cell_type": "code",
   "execution_count": 162,
   "metadata": {
    "collapsed": false,
    "hidden": true,
    "run_control": {
     "frozen": false,
     "read_only": false
    }
   },
   "outputs": [],
   "source": [
    "dr_proc_df['diagram'] = dr_proc_df['reference_id'].apply(lambda x: x.split('/')[-1])\n",
    "dr_proc_df['s3_uri'] = dr_proc_df['reference_id'].apply(make_image_link)\n",
    "dr_proc_df['lesson_assigned_to'] = dr_proc_df['topic'].apply(lambda x: diagram_lesson_lookup[x])"
   ]
  },
  {
   "cell_type": "code",
   "execution_count": 107,
   "metadata": {
    "code_folding": [],
    "collapsed": false,
    "hidden": true,
    "run_control": {
     "frozen": false,
     "read_only": false
    }
   },
   "outputs": [],
   "source": [
    "import random\n",
    "def make_question_entry(qdf_row):\n",
    "    ask = qdf_row[qdf_row.index == '03_write_question'].values[0]\n",
    "    answer = qdf_row[qdf_row.index == '04_write_right_answer'].values[0]\n",
    "    wrong_answers = qdf_row[qdf_row.index == 'wac_list'].values[0]\n",
    "    q_topic = qdf_row[qdf_row.index == 'lesson_assigned_to'].values[0]\n",
    "    image_uri = qdf_row[qdf_row.index == 's3_uri'].values[0]\n",
    "    image_name = qdf_row[qdf_row.index == 'diagram'].values[0]\n",
    "    \n",
    "    def make_answer_choices(answer_choices):\n",
    "        build_answer_choices = {}\n",
    "        letter_options = list('abcd')\n",
    "        random.shuffle(answer_choices)\n",
    "        for idx, answer_choice in enumerate(answer_choices):\n",
    "            answer_choice_dict = {\n",
    "                \"idStructural\": letter_options[idx] + '.',\n",
    "                \"rawText\": answer_choice,\n",
    "                \"processedText\": answer_choice\n",
    "            }\n",
    "            build_answer_choices[letter_options[idx]] = answer_choice_dict\n",
    "        return build_answer_choices\n",
    "    a_choices = make_answer_choices(wrong_answers + [answer])\n",
    "    single_q_dict = {\n",
    "        \"id\": 'q',\n",
    "        \"type\": \n",
    "            \"Diagram Multiple Choice\",\n",
    "        \"beingAsked\": {\n",
    "            \"rawText\": ask,\n",
    "            \"processedText\": ask.encode('ascii', 'ignore').decode('utf-8')\n",
    "        },\n",
    "        \"correctAnswer\": {\n",
    "            \"rawText\": answer,\n",
    "            \"processedText\": answer.encode('ascii', 'ignore').decode('utf-8')\n",
    "        },\n",
    "        \"answerChoices\": a_choices,\n",
    "        \"imageUri\": image_uri,\n",
    "        \"imageName\": image_name\n",
    "    }\n",
    "    build_questions[q_topic].append(single_q_dict)\n",
    "    \n",
    "    \n",
    "def refine_question_formats(raw_questions):\n",
    "    reformatted_dq_ds = {}\n",
    "    for topic, topic_questions in raw_questions.items():\n",
    "        reformatted_topic = {topic: {'questions': {'diagramQuestions': {}}}}\n",
    "        reformatted_questions = {}\n",
    "        for idx, question in enumerate(topic_questions):\n",
    "            question = deepcopy(question)\n",
    "            question['id'] += str(idx + 1).zfill(4)\n",
    "            reformatted_questions[question['id']] = question\n",
    "        reformatted_topic[topic]['questions']['diagramQuestions'] = reformatted_questions\n",
    "        reformatted_dq_ds.update(reformatted_topic)\n",
    "    return reformatted_dq_ds"
   ]
  },
  {
   "cell_type": "code",
   "execution_count": 163,
   "metadata": {
    "collapsed": true,
    "hidden": true,
    "run_control": {
     "frozen": false,
     "read_only": false
    }
   },
   "outputs": [],
   "source": [
    "build_questions = defaultdict(list)"
   ]
  },
  {
   "cell_type": "code",
   "execution_count": 164,
   "metadata": {
    "collapsed": false,
    "hidden": true,
    "run_control": {
     "frozen": false,
     "read_only": false
    }
   },
   "outputs": [],
   "source": [
    "_ = dr_proc_df.apply(make_question_entry, axis=1)"
   ]
  },
  {
   "cell_type": "code",
   "execution_count": 165,
   "metadata": {
    "collapsed": false,
    "hidden": true,
    "run_control": {
     "frozen": false,
     "read_only": false
    }
   },
   "outputs": [],
   "source": [
    "refined_questions = dict(refine_question_formats(build_questions))"
   ]
  },
  {
   "cell_type": "code",
   "execution_count": 167,
   "metadata": {
    "collapsed": false,
    "hidden": true,
    "run_control": {
     "frozen": false,
     "read_only": false
    }
   },
   "outputs": [
    {
     "data": {
      "text/plain": [
       "dict_keys(['diagramQuestions'])"
      ]
     },
     "execution_count": 167,
     "metadata": {},
     "output_type": "execute_result"
    }
   ],
   "source": [
    "refined_questions['10.4 Erosion and Deposition by Glaciers']['questions'].keys()"
   ]
  },
  {
   "cell_type": "code",
   "execution_count": 169,
   "metadata": {
    "collapsed": false,
    "hidden": true,
    "run_control": {
     "frozen": false,
     "read_only": false
    }
   },
   "outputs": [],
   "source": [
    "# with open(output_dir + 'ck12_dataset_beta_v3_5.json', 'r') as f:\n",
    "#     ck12_combined_dataset = json.load(f)"
   ]
  },
  {
   "cell_type": "code",
   "execution_count": 170,
   "metadata": {
    "collapsed": false,
    "hidden": true,
    "run_control": {
     "frozen": false,
     "read_only": false
    }
   },
   "outputs": [],
   "source": [
    "for subject, lessons in ck12_combined_dataset.items():\n",
    "    for l_name, lesson in lessons.items():\n",
    "        if l_name in refined_questions.keys():        \n",
    "            lesson['questions']['diagramQuestions'] = refined_questions[l_name]['questions']['diagramQuestions']"
   ]
  },
  {
   "cell_type": "code",
   "execution_count": 171,
   "metadata": {
    "collapsed": true,
    "hidden": true,
    "run_control": {
     "frozen": false,
     "read_only": false
    }
   },
   "outputs": [
    {
     "data": {
      "text/plain": [
       "{'questions': {'diagramQuestions': {'q0001': {'answerChoices': {'a': {'idStructural': 'a.',\n",
       "      'processedText': 'Snout',\n",
       "      'rawText': 'Snout'},\n",
       "     'b': {'idStructural': 'b.',\n",
       "      'processedText': 'Zone of ablation',\n",
       "      'rawText': 'Zone of ablation'},\n",
       "     'c': {'idStructural': 'c.',\n",
       "      'processedText': 'Moraine',\n",
       "      'rawText': 'Moraine'},\n",
       "     'd': {'idStructural': 'd.',\n",
       "      'processedText': 'Zone of accumulation',\n",
       "      'rawText': 'Zone of accumulation'}},\n",
       "    'beingAsked': {'processedText': 'Which structure marks the greatest distance the glacier advanced?',\n",
       "     'rawText': 'Which structure marks the greatest distance the glacier advanced?'},\n",
       "    'correctAnswer': {'processedText': 'Moraine', 'rawText': 'Moraine'},\n",
       "    'id': 'q0001',\n",
       "    'imageName': 'glaciers_6927.png',\n",
       "    'imageUri': 'https://s3.amazonaws.com/ai2-vision-textbook-dataset/diagrams/diagram-question-images/glaciers_6927.png',\n",
       "    'type': 'Diagram Multiple Choice'},\n",
       "   'q0002': {'answerChoices': {'a': {'idStructural': 'a.',\n",
       "      'processedText': 'Snout',\n",
       "      'rawText': 'Snout'},\n",
       "     'b': {'idStructural': 'b.',\n",
       "      'processedText': 'Zone of Accumulation',\n",
       "      'rawText': 'Zone of Accumulation'},\n",
       "     'c': {'idStructural': 'c.',\n",
       "      'processedText': 'glacial till',\n",
       "      'rawText': 'glacial till'},\n",
       "     'd': {'idStructural': 'd.',\n",
       "      'processedText': 'continental glacier ',\n",
       "      'rawText': 'continental glacier '}},\n",
       "    'beingAsked': {'processedText': 'What is between the Zone of ablation and Moraine?',\n",
       "     'rawText': 'What is between the Zone of ablation and Moraine?'},\n",
       "    'correctAnswer': {'processedText': 'Snout', 'rawText': 'Snout'},\n",
       "    'id': 'q0002',\n",
       "    'imageName': 'glaciers_6927.png',\n",
       "    'imageUri': 'https://s3.amazonaws.com/ai2-vision-textbook-dataset/diagrams/diagram-question-images/glaciers_6927.png',\n",
       "    'type': 'Diagram Multiple Choice'},\n",
       "   'q0003': {'answerChoices': {'a': {'idStructural': 'a.',\n",
       "      'processedText': '1',\n",
       "      'rawText': '1'},\n",
       "     'b': {'idStructural': 'b.', 'processedText': '3', 'rawText': '3'},\n",
       "     'c': {'idStructural': 'c.', 'processedText': '2', 'rawText': '2'},\n",
       "     'd': {'idStructural': 'd.', 'processedText': '4', 'rawText': '4'}},\n",
       "    'beingAsked': {'processedText': 'How many zones are depicted in the diagram?',\n",
       "     'rawText': 'How many zones are depicted in the diagram?'},\n",
       "    'correctAnswer': {'processedText': '2', 'rawText': '2'},\n",
       "    'id': 'q0003',\n",
       "    'imageName': 'glaciers_6927.png',\n",
       "    'imageUri': 'https://s3.amazonaws.com/ai2-vision-textbook-dataset/diagrams/diagram-question-images/glaciers_6927.png',\n",
       "    'type': 'Diagram Multiple Choice'},\n",
       "   'q0004': {'answerChoices': {'a': {'idStructural': 'a.',\n",
       "      'processedText': 'moraine',\n",
       "      'rawText': 'moraine'},\n",
       "     'b': {'idStructural': 'b.', 'processedText': 'snout', 'rawText': 'snout'},\n",
       "     'c': {'idStructural': 'c.',\n",
       "      'processedText': 'zone of accumulation',\n",
       "      'rawText': 'zone of accumulation'},\n",
       "     'd': {'idStructural': 'd.',\n",
       "      'processedText': 'zone of ablation',\n",
       "      'rawText': 'zone of ablation'}},\n",
       "    'beingAsked': {'processedText': 'the shape of which area could be caused by melting or an avalanche?',\n",
       "     'rawText': 'the shape of which area could be caused by melting or an avalanche?'},\n",
       "    'correctAnswer': {'processedText': 'zone of ablation',\n",
       "     'rawText': 'zone of ablation'},\n",
       "    'id': 'q0004',\n",
       "    'imageName': 'glaciers_6927.png',\n",
       "    'imageUri': 'https://s3.amazonaws.com/ai2-vision-textbook-dataset/diagrams/diagram-question-images/glaciers_6927.png',\n",
       "    'type': 'Diagram Multiple Choice'},\n",
       "   'q0005': {'answerChoices': {'a': {'idStructural': 'a.',\n",
       "      'processedText': 'B',\n",
       "      'rawText': 'B'},\n",
       "     'b': {'idStructural': 'b.', 'processedText': 'E', 'rawText': 'E'},\n",
       "     'c': {'idStructural': 'c.', 'processedText': 'A', 'rawText': 'A'},\n",
       "     'd': {'idStructural': 'd.', 'processedText': 'C', 'rawText': 'C'}},\n",
       "    'beingAsked': {'processedText': 'Which part of the diagram is most likely to deposit sediment?',\n",
       "     'rawText': 'Which part of the diagram is most likely to deposit sediment?'},\n",
       "    'correctAnswer': {'processedText': 'B', 'rawText': 'B'},\n",
       "    'id': 'q0005',\n",
       "    'imageName': 'glaciers_6928.png',\n",
       "    'imageUri': 'https://s3.amazonaws.com/ai2-vision-textbook-dataset/diagrams/diagram-question-images/glaciers_6928.png',\n",
       "    'type': 'Diagram Multiple Choice'},\n",
       "   'q0006': {'answerChoices': {'a': {'idStructural': 'a.',\n",
       "      'processedText': 'the Accumulation Zone.',\n",
       "      'rawText': 'the Accumulation Zone.'},\n",
       "     'b': {'idStructural': 'b.',\n",
       "      'processedText': 'the Extending Flow.',\n",
       "      'rawText': 'the Extending Flow.'},\n",
       "     'c': {'idStructural': 'c.',\n",
       "      'processedText': 'The Crevasses.',\n",
       "      'rawText': 'The Crevasses.'},\n",
       "     'd': {'idStructural': 'd.',\n",
       "      'processedText': 'The Bergschrund.',\n",
       "      'rawText': 'The Bergschrund.'}},\n",
       "    'beingAsked': {'processedText': 'The Compressing Flow is above:',\n",
       "     'rawText': 'The Compressing Flow is above:'},\n",
       "    'correctAnswer': {'processedText': 'the Extending Flow.',\n",
       "     'rawText': 'the Extending Flow.'},\n",
       "    'id': 'q0006',\n",
       "    'imageName': 'glaciers_6929.png',\n",
       "    'imageUri': 'https://s3.amazonaws.com/ai2-vision-textbook-dataset/diagrams/diagram-question-images/glaciers_6929.png',\n",
       "    'type': 'Diagram Multiple Choice'},\n",
       "   'q0007': {'answerChoices': {'a': {'idStructural': 'a.',\n",
       "      'processedText': '2',\n",
       "      'rawText': '2'},\n",
       "     'b': {'idStructural': 'b.', 'processedText': '1', 'rawText': '1'},\n",
       "     'c': {'idStructural': 'c.', 'processedText': '5', 'rawText': '5'},\n",
       "     'd': {'idStructural': 'd.', 'processedText': '9', 'rawText': '9'}},\n",
       "    'beingAsked': {'processedText': 'How many zones can you see?',\n",
       "     'rawText': 'How many zones can you see?'},\n",
       "    'correctAnswer': {'processedText': '2', 'rawText': '2'},\n",
       "    'id': 'q0007',\n",
       "    'imageName': 'glaciers_6929.png',\n",
       "    'imageUri': 'https://s3.amazonaws.com/ai2-vision-textbook-dataset/diagrams/diagram-question-images/glaciers_6929.png',\n",
       "    'type': 'Diagram Multiple Choice'},\n",
       "   'q0008': {'answerChoices': {'a': {'idStructural': 'a.',\n",
       "      'processedText': 'Receding Glacier',\n",
       "      'rawText': 'Receding Glacier'},\n",
       "     'b': {'idStructural': 'b.',\n",
       "      'processedText': 'drumlin',\n",
       "      'rawText': 'drumlin'},\n",
       "     'c': {'idStructural': 'c.',\n",
       "      'processedText': 'Floodplai',\n",
       "      'rawText': 'Floodplai'},\n",
       "     'd': {'idStructural': 'd.',\n",
       "      'processedText': 'esker',\n",
       "      'rawText': 'esker'}},\n",
       "    'beingAsked': {'processedText': 'Identify the highest layer.',\n",
       "     'rawText': 'Identify the highest layer.'},\n",
       "    'correctAnswer': {'processedText': 'Receding Glacier',\n",
       "     'rawText': 'Receding Glacier'},\n",
       "    'id': 'q0008',\n",
       "    'imageName': 'glaciers_6930.png',\n",
       "    'imageUri': 'https://s3.amazonaws.com/ai2-vision-textbook-dataset/diagrams/diagram-question-images/glaciers_6930.png',\n",
       "    'type': 'Diagram Multiple Choice'},\n",
       "   'q0009': {'answerChoices': {'a': {'idStructural': 'a.',\n",
       "      'processedText': 'terminal moraine',\n",
       "      'rawText': 'terminal moraine'},\n",
       "     'b': {'idStructural': 'b.',\n",
       "      'processedText': 'receding glacier',\n",
       "      'rawText': 'receding glacier'},\n",
       "     'c': {'idStructural': 'c.',\n",
       "      'processedText': 'drumlin',\n",
       "      'rawText': 'drumlin'},\n",
       "     'd': {'idStructural': 'd.',\n",
       "      'processedText': 'esker',\n",
       "      'rawText': 'esker'}},\n",
       "    'beingAsked': {'processedText': 'What is between the kame and the floodplain?',\n",
       "     'rawText': 'What is between the kame and the floodplain?'},\n",
       "    'correctAnswer': {'processedText': 'terminal moraine',\n",
       "     'rawText': 'terminal moraine'},\n",
       "    'id': 'q0009',\n",
       "    'imageName': 'glaciers_6930.png',\n",
       "    'imageUri': 'https://s3.amazonaws.com/ai2-vision-textbook-dataset/diagrams/diagram-question-images/glaciers_6930.png',\n",
       "    'type': 'Diagram Multiple Choice'},\n",
       "   'q0010': {'answerChoices': {'a': {'idStructural': 'a.',\n",
       "      'processedText': 'Drumlin, kettles, and esker',\n",
       "      'rawText': 'Drumlin, kettles, and esker'},\n",
       "     'b': {'idStructural': 'b.',\n",
       "      'processedText': 'ground moraine',\n",
       "      'rawText': 'ground moraine'},\n",
       "     'c': {'idStructural': 'c.',\n",
       "      'processedText': 'receding glacier',\n",
       "      'rawText': 'receding glacier'},\n",
       "     'd': {'idStructural': 'd.',\n",
       "      'processedText': 'rock bed',\n",
       "      'rawText': 'rock bed'}},\n",
       "    'beingAsked': {'processedText': 'Where do glaciers deposit their sediment?',\n",
       "     'rawText': 'Where do glaciers deposit their sediment?'},\n",
       "    'correctAnswer': {'processedText': 'Drumlin, kettles, and esker',\n",
       "     'rawText': 'Drumlin, kettles, and esker'},\n",
       "    'id': 'q0010',\n",
       "    'imageName': 'glaciers_6930.png',\n",
       "    'imageUri': 'https://s3.amazonaws.com/ai2-vision-textbook-dataset/diagrams/diagram-question-images/glaciers_6930.png',\n",
       "    'type': 'Diagram Multiple Choice'},\n",
       "   'q0011': {'answerChoices': {'a': {'idStructural': 'a.',\n",
       "      'processedText': '2',\n",
       "      'rawText': '2'},\n",
       "     'b': {'idStructural': 'b.', 'processedText': '9', 'rawText': '9'},\n",
       "     'c': {'idStructural': 'c.', 'processedText': '3', 'rawText': '3'},\n",
       "     'd': {'idStructural': 'd.', 'processedText': '5', 'rawText': '5'}},\n",
       "    'beingAsked': {'processedText': 'how many parts are shown in the diagram below?',\n",
       "     'rawText': 'how many parts are shown in the diagram below?'},\n",
       "    'correctAnswer': {'processedText': '9', 'rawText': '9'},\n",
       "    'id': 'q0011',\n",
       "    'imageName': 'glaciers_6930.png',\n",
       "    'imageUri': 'https://s3.amazonaws.com/ai2-vision-textbook-dataset/diagrams/diagram-question-images/glaciers_6930.png',\n",
       "    'type': 'Diagram Multiple Choice'},\n",
       "   'q0012': {'answerChoices': {'a': {'idStructural': 'a.',\n",
       "      'processedText': 'Kettles.',\n",
       "      'rawText': 'Kettles.'},\n",
       "     'b': {'idStructural': 'b.',\n",
       "      'processedText': 'Esker.',\n",
       "      'rawText': 'Esker.'},\n",
       "     'c': {'idStructural': 'c.',\n",
       "      'processedText': 'Ground moraine.',\n",
       "      'rawText': 'Ground moraine.'},\n",
       "     'd': {'idStructural': 'd.',\n",
       "      'processedText': 'Drumlin.',\n",
       "      'rawText': 'Drumlin.'}},\n",
       "    'beingAsked': {'processedText': 'A thick layer of sediments is left behind by a retreating glacier. What is it known as?',\n",
       "     'rawText': 'A thick layer of sediments is left behind by a retreating glacier. What is it known as?'},\n",
       "    'correctAnswer': {'processedText': 'Ground moraine.',\n",
       "     'rawText': 'Ground moraine.'},\n",
       "    'id': 'q0012',\n",
       "    'imageName': 'glaciers_6930.png',\n",
       "    'imageUri': 'https://s3.amazonaws.com/ai2-vision-textbook-dataset/diagrams/diagram-question-images/glaciers_6930.png',\n",
       "    'type': 'Diagram Multiple Choice'},\n",
       "   'q0013': {'answerChoices': {'a': {'idStructural': 'a.',\n",
       "      'processedText': 'Landforms deposited by glaciers include drumlins, kettle lakes, and eskers.',\n",
       "      'rawText': 'Landforms deposited by glaciers include drumlins, kettle lakes, and eskers.'},\n",
       "     'b': {'idStructural': 'b.',\n",
       "      'processedText': 'rock bed does not support the glacier',\n",
       "      'rawText': 'rock bed does not support the glacier'},\n",
       "     'c': {'idStructural': 'c.',\n",
       "      'processedText': 'kettles are not part of glacier erosion',\n",
       "      'rawText': 'kettles are not part of glacier erosion'},\n",
       "     'd': {'idStructural': 'd.',\n",
       "      'processedText': 'rock bed is found on top of the glacier',\n",
       "      'rawText': 'rock bed is found on top of the glacier'}},\n",
       "    'beingAsked': {'processedText': 'what are the features of the glacier erosion?',\n",
       "     'rawText': 'what are the features of the glacier erosion?'},\n",
       "    'correctAnswer': {'processedText': 'Landforms deposited by glaciers include drumlins, kettle lakes, and eskers.',\n",
       "     'rawText': 'Landforms deposited by glaciers include drumlins, kettle lakes, and eskers.'},\n",
       "    'id': 'q0013',\n",
       "    'imageName': 'glaciers_6930.png',\n",
       "    'imageUri': 'https://s3.amazonaws.com/ai2-vision-textbook-dataset/diagrams/diagram-question-images/glaciers_6930.png',\n",
       "    'type': 'Diagram Multiple Choice'},\n",
       "   'q0014': {'answerChoices': {'a': {'idStructural': 'a.',\n",
       "      'processedText': 'Sea Ice',\n",
       "      'rawText': 'Sea Ice'},\n",
       "     'b': {'idStructural': 'b.',\n",
       "      'processedText': 'Ice Shelf',\n",
       "      'rawText': 'Ice Shelf'},\n",
       "     'c': {'idStructural': 'c.',\n",
       "      'processedText': 'Antarctic Ice Sheet',\n",
       "      'rawText': 'Antarctic Ice Sheet'},\n",
       "     'd': {'idStructural': 'd.',\n",
       "      'processedText': 'Glacier Flow',\n",
       "      'rawText': 'Glacier Flow'}},\n",
       "    'beingAsked': {'processedText': 'Where does the snow accumulation happen?',\n",
       "     'rawText': 'Where does the snow accumulation happen?'},\n",
       "    'correctAnswer': {'processedText': 'Antarctic Ice Sheet',\n",
       "     'rawText': 'Antarctic Ice Sheet'},\n",
       "    'id': 'q0014',\n",
       "    'imageName': 'glaciers_6931.png',\n",
       "    'imageUri': 'https://s3.amazonaws.com/ai2-vision-textbook-dataset/diagrams/diagram-question-images/glaciers_6931.png',\n",
       "    'type': 'Diagram Multiple Choice'},\n",
       "   'q0015': {'answerChoices': {'a': {'idStructural': 'a.',\n",
       "      'processedText': 'Continental shelf',\n",
       "      'rawText': 'Continental shelf'},\n",
       "     'b': {'idStructural': 'b.',\n",
       "      'processedText': 'Glacier flow',\n",
       "      'rawText': 'Glacier flow'},\n",
       "     'c': {'idStructural': 'c.',\n",
       "      'processedText': 'Grounding line',\n",
       "      'rawText': 'Grounding line'},\n",
       "     'd': {'idStructural': 'd.',\n",
       "      'processedText': 'Icebergs',\n",
       "      'rawText': 'Icebergs'}},\n",
       "    'beingAsked': {'processedText': 'Where does Ice shelf forms?',\n",
       "     'rawText': 'Where does Ice shelf forms?'},\n",
       "    'correctAnswer': {'processedText': 'Glacier flow',\n",
       "     'rawText': 'Glacier flow'},\n",
       "    'id': 'q0015',\n",
       "    'imageName': 'glaciers_6931.png',\n",
       "    'imageUri': 'https://s3.amazonaws.com/ai2-vision-textbook-dataset/diagrams/diagram-question-images/glaciers_6931.png',\n",
       "    'type': 'Diagram Multiple Choice'},\n",
       "   'q0016': {'answerChoices': {'a': {'idStructural': 'a.',\n",
       "      'processedText': 'Icebergs',\n",
       "      'rawText': 'Icebergs'},\n",
       "     'b': {'idStructural': 'b.',\n",
       "      'processedText': 'Glacier Flow',\n",
       "      'rawText': 'Glacier Flow'},\n",
       "     'c': {'idStructural': 'c.',\n",
       "      'processedText': 'Ice Shelf',\n",
       "      'rawText': 'Ice Shelf'},\n",
       "     'd': {'idStructural': 'd.',\n",
       "      'processedText': 'Antarctic Ice Sheet',\n",
       "      'rawText': 'Antarctic Ice Sheet'}},\n",
       "    'beingAsked': {'processedText': \"Where in the diagram there's snow accumulation?\",\n",
       "     'rawText': \"Where in the diagram there's snow accumulation?\"},\n",
       "    'correctAnswer': {'processedText': 'Antarctic Ice Sheet',\n",
       "     'rawText': 'Antarctic Ice Sheet'},\n",
       "    'id': 'q0016',\n",
       "    'imageName': 'glaciers_6931.png',\n",
       "    'imageUri': 'https://s3.amazonaws.com/ai2-vision-textbook-dataset/diagrams/diagram-question-images/glaciers_6931.png',\n",
       "    'type': 'Diagram Multiple Choice'},\n",
       "   'q0017': {'answerChoices': {'a': {'idStructural': 'a.',\n",
       "      'processedText': 'Icebergs',\n",
       "      'rawText': 'Icebergs'},\n",
       "     'b': {'idStructural': 'b.',\n",
       "      'processedText': 'ESA satellite',\n",
       "      'rawText': 'ESA satellite'},\n",
       "     'c': {'idStructural': 'c.',\n",
       "      'processedText': 'Buoyant melt plume',\n",
       "      'rawText': 'Buoyant melt plume'},\n",
       "     'd': {'idStructural': 'd.',\n",
       "      'processedText': 'Surface crevasses',\n",
       "      'rawText': 'Surface crevasses'}},\n",
       "    'beingAsked': {'processedText': 'Which is located beneath the ice shelf?',\n",
       "     'rawText': 'Which is located beneath the ice shelf?'},\n",
       "    'correctAnswer': {'processedText': 'Buoyant melt plume',\n",
       "     'rawText': 'Buoyant melt plume'},\n",
       "    'id': 'q0017',\n",
       "    'imageName': 'glaciers_6931.png',\n",
       "    'imageUri': 'https://s3.amazonaws.com/ai2-vision-textbook-dataset/diagrams/diagram-question-images/glaciers_6931.png',\n",
       "    'type': 'Diagram Multiple Choice'},\n",
       "   'q0018': {'answerChoices': {'a': {'idStructural': 'a.',\n",
       "      'processedText': '4',\n",
       "      'rawText': '4'},\n",
       "     'b': {'idStructural': 'b.', 'processedText': '1', 'rawText': '1'},\n",
       "     'c': {'idStructural': 'c.', 'processedText': '6', 'rawText': '6'},\n",
       "     'd': {'idStructural': 'd.', 'processedText': '2', 'rawText': '2'}},\n",
       "    'beingAsked': {'processedText': 'How many satellites are in the diagram?',\n",
       "     'rawText': 'How many satellites are in the diagram?'},\n",
       "    'correctAnswer': {'processedText': '1', 'rawText': '1'},\n",
       "    'id': 'q0018',\n",
       "    'imageName': 'glaciers_6931.png',\n",
       "    'imageUri': 'https://s3.amazonaws.com/ai2-vision-textbook-dataset/diagrams/diagram-question-images/glaciers_6931.png',\n",
       "    'type': 'Diagram Multiple Choice'},\n",
       "   'q0019': {'answerChoices': {'a': {'idStructural': 'a.',\n",
       "      'processedText': '2',\n",
       "      'rawText': '2'},\n",
       "     'b': {'idStructural': 'b.', 'processedText': '1', 'rawText': '1'},\n",
       "     'c': {'idStructural': 'c.', 'processedText': '5', 'rawText': '5'},\n",
       "     'd': {'idStructural': 'd.', 'processedText': '3', 'rawText': '3'}},\n",
       "    'beingAsked': {'processedText': \"How many of these aren't on the mountainous part?\",\n",
       "     'rawText': \"How many of these aren't on the mountainous part?\"},\n",
       "    'correctAnswer': {'processedText': '2', 'rawText': '2'},\n",
       "    'id': 'q0019',\n",
       "    'imageName': 'glaciers_6932.png',\n",
       "    'imageUri': 'https://s3.amazonaws.com/ai2-vision-textbook-dataset/diagrams/diagram-question-images/glaciers_6932.png',\n",
       "    'type': 'Diagram Multiple Choice'},\n",
       "   'q0020': {'answerChoices': {'a': {'idStructural': 'a.',\n",
       "      'processedText': '2',\n",
       "      'rawText': '2'},\n",
       "     'b': {'idStructural': 'b.', 'processedText': '3', 'rawText': '3'},\n",
       "     'c': {'idStructural': 'c.', 'processedText': '1', 'rawText': '1'},\n",
       "     'd': {'idStructural': 'd.', 'processedText': '6', 'rawText': '6'}},\n",
       "    'beingAsked': {'processedText': 'Steps of glacier formation.',\n",
       "     'rawText': 'Steps of glacier formation.'},\n",
       "    'correctAnswer': {'processedText': '6', 'rawText': '6'},\n",
       "    'id': 'q0020',\n",
       "    'imageName': 'glaciers_6932.png',\n",
       "    'imageUri': 'https://s3.amazonaws.com/ai2-vision-textbook-dataset/diagrams/diagram-question-images/glaciers_6932.png',\n",
       "    'type': 'Diagram Multiple Choice'},\n",
       "   'q0021': {'answerChoices': {'a': {'idStructural': 'a.',\n",
       "      'processedText': 'snow - lateral moraine - snout',\n",
       "      'rawText': 'snow - lateral moraine - snout'},\n",
       "     'b': {'idStructural': 'b.',\n",
       "      'processedText': 'snowfall - equilibrium line- medial moraine - snout - melting evaporation',\n",
       "      'rawText': 'snowfall - equilibrium line- medial moraine - snout - melting evaporation'},\n",
       "     'c': {'idStructural': 'c.',\n",
       "      'processedText': 'snow - medial moraine - melting',\n",
       "      'rawText': 'snow - medial moraine - melting'},\n",
       "     'd': {'idStructural': 'd.',\n",
       "      'processedText': 'snow - snout',\n",
       "      'rawText': 'snow - snout'}},\n",
       "    'beingAsked': {'processedText': 'how do glaciers reach the melting evaporation stage?',\n",
       "     'rawText': 'how do glaciers reach the melting evaporation stage?'},\n",
       "    'correctAnswer': {'processedText': 'snowfall - equilibrium line- medial moraine - snout - melting evaporation',\n",
       "     'rawText': 'snowfall - equilibrium line- medial moraine - snout - melting evaporation'},\n",
       "    'id': 'q0021',\n",
       "    'imageName': 'glaciers_6933.png',\n",
       "    'imageUri': 'https://s3.amazonaws.com/ai2-vision-textbook-dataset/diagrams/diagram-question-images/glaciers_6933.png',\n",
       "    'type': 'Diagram Multiple Choice'},\n",
       "   'q0022': {'answerChoices': {'a': {'idStructural': 'a.',\n",
       "      'processedText': '10',\n",
       "      'rawText': '10'},\n",
       "     'b': {'idStructural': 'b.', 'processedText': '9', 'rawText': '9'},\n",
       "     'c': {'idStructural': 'c.', 'processedText': '7', 'rawText': '7'},\n",
       "     'd': {'idStructural': 'd.', 'processedText': '8', 'rawText': '8'}},\n",
       "    'beingAsked': {'processedText': 'how many parts are there in this picture?',\n",
       "     'rawText': 'how many parts are there in this picture?'},\n",
       "    'correctAnswer': {'processedText': '9', 'rawText': '9'},\n",
       "    'id': 'q0022',\n",
       "    'imageName': 'glaciers_6934.png',\n",
       "    'imageUri': 'https://s3.amazonaws.com/ai2-vision-textbook-dataset/diagrams/diagram-question-images/glaciers_6934.png',\n",
       "    'type': 'Diagram Multiple Choice'},\n",
       "   'q0023': {'answerChoices': {'a': {'idStructural': 'a.',\n",
       "      'processedText': '3',\n",
       "      'rawText': '3'},\n",
       "     'b': {'idStructural': 'b.', 'processedText': '4', 'rawText': '4'},\n",
       "     'c': {'idStructural': 'c.', 'processedText': '2', 'rawText': '2'},\n",
       "     'd': {'idStructural': 'd.', 'processedText': '1', 'rawText': '1'}},\n",
       "    'beingAsked': {'processedText': 'How many rock beds are there in the diagram?',\n",
       "     'rawText': 'How many rock beds are there in the diagram?'},\n",
       "    'correctAnswer': {'processedText': '1', 'rawText': '1'},\n",
       "    'id': 'q0023',\n",
       "    'imageName': 'glaciers_6934.png',\n",
       "    'imageUri': 'https://s3.amazonaws.com/ai2-vision-textbook-dataset/diagrams/diagram-question-images/glaciers_6934.png',\n",
       "    'type': 'Diagram Multiple Choice'},\n",
       "   'q0024': {'answerChoices': {'a': {'idStructural': 'a.',\n",
       "      'processedText': 'Accumulation zone',\n",
       "      'rawText': 'Accumulation zone'},\n",
       "     'b': {'idStructural': 'b.',\n",
       "      'processedText': 'Ablation zone',\n",
       "      'rawText': 'Ablation zone'},\n",
       "     'c': {'idStructural': 'c.',\n",
       "      'processedText': 'Ice front',\n",
       "      'rawText': 'Ice front'},\n",
       "     'd': {'idStructural': 'd.',\n",
       "      'processedText': 'Margin of glacier',\n",
       "      'rawText': 'Margin of glacier'}},\n",
       "    'beingAsked': {'processedText': 'What is the zone above the equilibrium line where snow and neve are compresses and turn into glacier ice?',\n",
       "     'rawText': 'What is the zone above the equilibrium line where snow and neve are compresses and turn into glacier ice?'},\n",
       "    'correctAnswer': {'processedText': 'Accumulation zone',\n",
       "     'rawText': 'Accumulation zone'},\n",
       "    'id': 'q0024',\n",
       "    'imageName': 'glaciers_6935.png',\n",
       "    'imageUri': 'https://s3.amazonaws.com/ai2-vision-textbook-dataset/diagrams/diagram-question-images/glaciers_6935.png',\n",
       "    'type': 'Diagram Multiple Choice'},\n",
       "   'q0025': {'answerChoices': {'a': {'idStructural': 'a.',\n",
       "      'processedText': 'Accumulation zone',\n",
       "      'rawText': 'Accumulation zone'},\n",
       "     'b': {'idStructural': 'b.',\n",
       "      'processedText': 'Sediments',\n",
       "      'rawText': 'Sediments'},\n",
       "     'c': {'idStructural': 'c.',\n",
       "      'processedText': 'Equilibrium line',\n",
       "      'rawText': 'Equilibrium line'},\n",
       "     'd': {'idStructural': 'd.',\n",
       "      'processedText': 'Ablation zone',\n",
       "      'rawText': 'Ablation zone'}},\n",
       "    'beingAsked': {'processedText': 'Identify the area of a glacier where the removal of snow and ice is greater than the amount replaced.',\n",
       "     'rawText': 'Identify the area of a glacier where the removal of snow and ice is greater than the amount replaced.'},\n",
       "    'correctAnswer': {'processedText': 'Ablation zone',\n",
       "     'rawText': 'Ablation zone'},\n",
       "    'id': 'q0025',\n",
       "    'imageName': 'glaciers_6935.png',\n",
       "    'imageUri': 'https://s3.amazonaws.com/ai2-vision-textbook-dataset/diagrams/diagram-question-images/glaciers_6935.png',\n",
       "    'type': 'Diagram Multiple Choice'},\n",
       "   'q0026': {'answerChoices': {'a': {'idStructural': 'a.',\n",
       "      'processedText': '6',\n",
       "      'rawText': '6'},\n",
       "     'b': {'idStructural': 'b.', 'processedText': '8', 'rawText': '8'},\n",
       "     'c': {'idStructural': 'c.', 'processedText': '7', 'rawText': '7'},\n",
       "     'd': {'idStructural': 'd.', 'processedText': '5', 'rawText': '5'}},\n",
       "    'beingAsked': {'processedText': 'how many parts are shown in the diagram below?',\n",
       "     'rawText': 'how many parts are shown in the diagram below?'},\n",
       "    'correctAnswer': {'processedText': '8', 'rawText': '8'},\n",
       "    'id': 'q0026',\n",
       "    'imageName': 'glaciers_6935.png',\n",
       "    'imageUri': 'https://s3.amazonaws.com/ai2-vision-textbook-dataset/diagrams/diagram-question-images/glaciers_6935.png',\n",
       "    'type': 'Diagram Multiple Choice'},\n",
       "   'q0027': {'answerChoices': {'a': {'idStructural': 'a.',\n",
       "      'processedText': 'sedimentary zone',\n",
       "      'rawText': 'sedimentary zone'},\n",
       "     'b': {'idStructural': 'b.',\n",
       "      'processedText': 'accumulation zone',\n",
       "      'rawText': 'accumulation zone'},\n",
       "     'c': {'idStructural': 'c.',\n",
       "      'processedText': 'ablation zone',\n",
       "      'rawText': 'ablation zone'},\n",
       "     'd': {'idStructural': 'd.',\n",
       "      'processedText': 'ice front',\n",
       "      'rawText': 'ice front'}},\n",
       "    'beingAsked': {'processedText': 'What are all the parts of the glacier above the equilibrium line called?',\n",
       "     'rawText': 'What are all the parts of the glacier above the equilibrium line called?'},\n",
       "    'correctAnswer': {'processedText': 'accumulation zone',\n",
       "     'rawText': 'accumulation zone'},\n",
       "    'id': 'q0027',\n",
       "    'imageName': 'glaciers_6935.png',\n",
       "    'imageUri': 'https://s3.amazonaws.com/ai2-vision-textbook-dataset/diagrams/diagram-question-images/glaciers_6935.png',\n",
       "    'type': 'Diagram Multiple Choice'},\n",
       "   'q0028': {'answerChoices': {'a': {'idStructural': 'a.',\n",
       "      'processedText': 'Tarn (lake)',\n",
       "      'rawText': 'Tarn (lake)'},\n",
       "     'b': {'idStructural': 'b.',\n",
       "      'processedText': 'Zone of Plucking',\n",
       "      'rawText': 'Zone of Plucking'},\n",
       "     'c': {'idStructural': 'c.',\n",
       "      'processedText': 'Zone of Abrasion',\n",
       "      'rawText': 'Zone of Abrasion'},\n",
       "     'd': {'idStructural': 'd.',\n",
       "      'processedText': 'Headwall',\n",
       "      'rawText': 'Headwall'}},\n",
       "    'beingAsked': {'processedText': 'What will form when the glacier melts?',\n",
       "     'rawText': 'What will form when the glacier melts?'},\n",
       "    'correctAnswer': {'processedText': 'Tarn (lake)',\n",
       "     'rawText': 'Tarn (lake)'},\n",
       "    'id': 'q0028',\n",
       "    'imageName': 'glaciers_6937.png',\n",
       "    'imageUri': 'https://s3.amazonaws.com/ai2-vision-textbook-dataset/diagrams/diagram-question-images/glaciers_6937.png',\n",
       "    'type': 'Diagram Multiple Choice'},\n",
       "   'q0029': {'answerChoices': {'a': {'idStructural': 'a.',\n",
       "      'processedText': 'zone of abrasion',\n",
       "      'rawText': 'zone of abrasion'},\n",
       "     'b': {'idStructural': 'b.',\n",
       "      'processedText': 'terminal moraine',\n",
       "      'rawText': 'terminal moraine'},\n",
       "     'c': {'idStructural': 'c.', 'processedText': 'tarn', 'rawText': 'tarn'},\n",
       "     'd': {'idStructural': 'd.',\n",
       "      'processedText': 'zone of plucking',\n",
       "      'rawText': 'zone of plucking'}},\n",
       "    'beingAsked': {'processedText': 'What stops the glacial ice from flowing through?',\n",
       "     'rawText': 'What stops the glacial ice from flowing through?'},\n",
       "    'correctAnswer': {'processedText': 'terminal moraine',\n",
       "     'rawText': 'terminal moraine'},\n",
       "    'id': 'q0029',\n",
       "    'imageName': 'glaciers_6937.png',\n",
       "    'imageUri': 'https://s3.amazonaws.com/ai2-vision-textbook-dataset/diagrams/diagram-question-images/glaciers_6937.png',\n",
       "    'type': 'Diagram Multiple Choice'},\n",
       "   'q0030': {'answerChoices': {'a': {'idStructural': 'a.',\n",
       "      'processedText': 'Zone of Abrasion',\n",
       "      'rawText': 'Zone of Abrasion'},\n",
       "     'b': {'idStructural': 'b.',\n",
       "      'processedText': 'Terminal Moraine',\n",
       "      'rawText': 'Terminal Moraine'},\n",
       "     'c': {'idStructural': 'c.',\n",
       "      'processedText': 'Zone of Plucking',\n",
       "      'rawText': 'Zone of Plucking'},\n",
       "     'd': {'idStructural': 'd.',\n",
       "      'processedText': 'Glacial Ice',\n",
       "      'rawText': 'Glacial Ice'}},\n",
       "    'beingAsked': {'processedText': 'What is located below the Headwall?',\n",
       "     'rawText': 'What is located below the Headwall?'},\n",
       "    'correctAnswer': {'processedText': 'Zone of Plucking',\n",
       "     'rawText': 'Zone of Plucking'},\n",
       "    'id': 'q0030',\n",
       "    'imageName': 'glaciers_6937.png',\n",
       "    'imageUri': 'https://s3.amazonaws.com/ai2-vision-textbook-dataset/diagrams/diagram-question-images/glaciers_6937.png',\n",
       "    'type': 'Diagram Multiple Choice'},\n",
       "   'q0031': {'answerChoices': {'a': {'idStructural': 'a.',\n",
       "      'processedText': 'cirque',\n",
       "      'rawText': 'cirque'},\n",
       "     'b': {'idStructural': 'b.', 'processedText': 'horn', 'rawText': 'horn'},\n",
       "     'c': {'idStructural': 'c.', 'processedText': 'arete', 'rawText': 'arete'},\n",
       "     'd': {'idStructural': 'd.',\n",
       "      'processedText': 'truncated spur',\n",
       "      'rawText': 'truncated spur'}},\n",
       "    'beingAsked': {'processedText': 'From the diagram, identify the part which refers to a rounded hollow carved in the side of a mountain by a glacier.',\n",
       "     'rawText': 'From the diagram, identify the part which refers to a rounded hollow carved in the side of a mountain by a glacier.'},\n",
       "    'correctAnswer': {'processedText': 'cirque', 'rawText': 'cirque'},\n",
       "    'id': 'q0031',\n",
       "    'imageName': 'glaciers_6938.png',\n",
       "    'imageUri': 'https://s3.amazonaws.com/ai2-vision-textbook-dataset/diagrams/diagram-question-images/glaciers_6938.png',\n",
       "    'type': 'Diagram Multiple Choice'},\n",
       "   'q0032': {'answerChoices': {'a': {'idStructural': 'a.',\n",
       "      'processedText': 'Cirques',\n",
       "      'rawText': 'Cirques'},\n",
       "     'b': {'idStructural': 'b.',\n",
       "      'processedText': 'Medial moraine',\n",
       "      'rawText': 'Medial moraine'},\n",
       "     'c': {'idStructural': 'c.',\n",
       "      'processedText': 'Truncated spur',\n",
       "      'rawText': 'Truncated spur'},\n",
       "     'd': {'idStructural': 'd.', 'processedText': 'Horn', 'rawText': 'Horn'}},\n",
       "    'beingAsked': {'processedText': 'The diagram shows valleys that are caused by glacier erosion. What are these valleys called?',\n",
       "     'rawText': 'The diagram shows valleys that are caused by glacier erosion. What are these valleys called?'},\n",
       "    'correctAnswer': {'processedText': 'Cirques', 'rawText': 'Cirques'},\n",
       "    'id': 'q0032',\n",
       "    'imageName': 'glaciers_6938.png',\n",
       "    'imageUri': 'https://s3.amazonaws.com/ai2-vision-textbook-dataset/diagrams/diagram-question-images/glaciers_6938.png',\n",
       "    'type': 'Diagram Multiple Choice'},\n",
       "   'q0033': {'answerChoices': {'a': {'idStructural': 'a.',\n",
       "      'processedText': 'Air',\n",
       "      'rawText': 'Air'},\n",
       "     'b': {'idStructural': 'b.', 'processedText': 'Rock', 'rawText': 'Rock'},\n",
       "     'c': {'idStructural': 'c.', 'processedText': 'Soil', 'rawText': 'Soil'},\n",
       "     'd': {'idStructural': 'd.', 'processedText': 'Ice', 'rawText': 'Ice'}},\n",
       "    'beingAsked': {'processedText': 'What does a glacier insist of?',\n",
       "     'rawText': 'What does a glacier insist of?'},\n",
       "    'correctAnswer': {'processedText': 'Ice', 'rawText': 'Ice'},\n",
       "    'id': 'q0033',\n",
       "    'imageName': 'glaciers_6938.png',\n",
       "    'imageUri': 'https://s3.amazonaws.com/ai2-vision-textbook-dataset/diagrams/diagram-question-images/glaciers_6938.png',\n",
       "    'type': 'Diagram Multiple Choice'}}}}"
      ]
     },
     "execution_count": 171,
     "metadata": {},
     "output_type": "execute_result"
    }
   ],
   "source": [
    "refined_questions['10.4 Erosion and Deposition by Glaciers']"
   ]
  },
  {
   "cell_type": "code",
   "execution_count": 172,
   "metadata": {
    "collapsed": false,
    "hidden": true,
    "run_control": {
     "frozen": false,
     "read_only": false
    }
   },
   "outputs": [
    {
     "data": {
      "text/plain": [
       "33"
      ]
     },
     "execution_count": 172,
     "metadata": {},
     "output_type": "execute_result"
    }
   ],
   "source": [
    "len(ck12_combined_dataset['earth-science']['10.4 Erosion and Deposition by Glaciers']['questions']['diagramQuestions'])"
   ]
  },
  {
   "cell_type": "code",
   "execution_count": 173,
   "metadata": {
    "collapsed": false,
    "hidden": true,
    "run_control": {
     "frozen": false,
     "read_only": false
    }
   },
   "outputs": [
    {
     "data": {
      "text/plain": [
       "31"
      ]
     },
     "execution_count": 173,
     "metadata": {},
     "output_type": "execute_result"
    }
   ],
   "source": [
    "len(ck12_combined_dataset['earth-science']['10.4 Erosion and Deposition by Glaciers']['questions']['nonDiagramQuestions'])"
   ]
  },
  {
   "cell_type": "code",
   "execution_count": 174,
   "metadata": {
    "collapsed": false,
    "hidden": true,
    "run_control": {
     "frozen": false,
     "read_only": false
    }
   },
   "outputs": [],
   "source": [
    "val_counts=dr_proc_df['lesson_assigned_to'].value_counts()"
   ]
  },
  {
   "cell_type": "code",
   "execution_count": null,
   "metadata": {
    "collapsed": true,
    "hidden": true,
    "run_control": {
     "frozen": false,
     "read_only": false
    }
   },
   "outputs": [],
   "source": []
  },
  {
   "cell_type": "code",
   "execution_count": null,
   "metadata": {
    "collapsed": true,
    "hidden": true,
    "run_control": {
     "frozen": false,
     "read_only": false
    }
   },
   "outputs": [],
   "source": []
  },
  {
   "cell_type": "code",
   "execution_count": null,
   "metadata": {
    "collapsed": true,
    "hidden": true,
    "run_control": {
     "frozen": false,
     "read_only": false
    }
   },
   "outputs": [],
   "source": []
  },
  {
   "cell_type": "code",
   "execution_count": null,
   "metadata": {
    "collapsed": true,
    "hidden": true,
    "run_control": {
     "frozen": false,
     "read_only": false
    }
   },
   "outputs": [],
   "source": []
  },
  {
   "cell_type": "markdown",
   "metadata": {
    "heading_collapsed": true
   },
   "source": [
    "## merge descriptions"
   ]
  },
  {
   "cell_type": "code",
   "execution_count": 177,
   "metadata": {
    "collapsed": false,
    "hidden": true,
    "run_control": {
     "frozen": false,
     "read_only": false
    }
   },
   "outputs": [],
   "source": [
    "def make_description_entry(qdf_row):\n",
    "    description = qdf_row[qdf_row.index == 'Description'].values[0]\n",
    "    q_topic = qdf_row[qdf_row.index == 'lesson_assigned_to'].values[0]\n",
    "    image_uri = qdf_row[qdf_row.index == 's3_uri'].values[0]\n",
    "    image_name = qdf_row[qdf_row.index == 'diagram'].values[0]\n",
    "\n",
    "    single_desc_dict = {\n",
    "        \n",
    "        \"imageUri\": image_uri,\n",
    "        \"imageName\": image_name,\n",
    "        \"rawText\": description,\n",
    "        \"processedText\": description.encode('ascii', 'ignore').decode('utf-8')\n",
    "    }\n",
    "    build_descriptions[q_topic].update({image_name.replace('.png', ''): single_desc_dict})"
   ]
  },
  {
   "cell_type": "code",
   "execution_count": 178,
   "metadata": {
    "collapsed": false,
    "hidden": true,
    "run_control": {
     "frozen": false,
     "read_only": false
    },
    "scrolled": true
   },
   "outputs": [],
   "source": [
    "%%capture\n",
    "ai2_written_df_completed['topic'] = ai2_written_df_completed['diagram'].apply(lambda x: x.rsplit('_', maxsplit=1)[0])\n",
    "ai2_written_df_completed['lesson_assigned_to'] = ai2_written_df_completed['topic'].apply(lambda x: diagram_lesson_lookup[x])\n",
    "ai2_written_df_completed['s3_uri'] = ai2_written_df_completed['Image Path'].apply(make_image_link)\n",
    "ai2_written_df_completed = ai2_written_df_completed.dropna()"
   ]
  },
  {
   "cell_type": "code",
   "execution_count": 179,
   "metadata": {
    "collapsed": false,
    "hidden": true,
    "run_control": {
     "frozen": false,
     "read_only": false
    }
   },
   "outputs": [
    {
     "data": {
      "text/plain": [
       "(83, 7)"
      ]
     },
     "execution_count": 179,
     "metadata": {},
     "output_type": "execute_result"
    }
   ],
   "source": [
    "ai2_written_df_completed.shape"
   ]
  },
  {
   "cell_type": "code",
   "execution_count": 180,
   "metadata": {
    "collapsed": false,
    "hidden": true,
    "run_control": {
     "frozen": false,
     "read_only": false
    }
   },
   "outputs": [],
   "source": [
    "%%capture\n",
    "desc_df['topic'] = desc_df['diagram'].apply(lambda x: x.rsplit('_', maxsplit=1)[0])\n",
    "desc_df['lesson_assigned_to'] = desc_df['topic'].apply(lambda x: diagram_lesson_lookup[x])\n",
    "desc_df['s3_uri'] = desc_df['reference_id'].apply(make_image_link)\n",
    "desc_df['Description'] = desc_df['01_write_description']             "
   ]
  },
  {
   "cell_type": "code",
   "execution_count": 181,
   "metadata": {
    "collapsed": true,
    "hidden": true,
    "run_control": {
     "frozen": false,
     "read_only": false
    }
   },
   "outputs": [],
   "source": [
    "build_descriptions = defaultdict(dict)"
   ]
  },
  {
   "cell_type": "code",
   "execution_count": 182,
   "metadata": {
    "collapsed": false,
    "hidden": true,
    "run_control": {
     "frozen": false,
     "read_only": false
    }
   },
   "outputs": [],
   "source": [
    "_ = desc_df.apply(make_description_entry, axis=1)\n",
    "_ = ai2_written_df_completed.apply(make_description_entry, axis=1)"
   ]
  },
  {
   "cell_type": "code",
   "execution_count": 183,
   "metadata": {
    "collapsed": false,
    "hidden": true,
    "run_control": {
     "frozen": false,
     "read_only": false
    }
   },
   "outputs": [
    {
     "data": {
      "text/plain": [
       "dict_keys(['5.1 Cell Division', '14.1 Introduction to the Oceans', '18.2 Cycles of Matter', '20.1 The Nervous System', 'nucleic acid classification', '9.2 Soils', '17.1 Climate and Its Causes', '12.5 Echinoderms and Invertebrate Chordates', '24.2 Cycles of Matter', 'radioactive decay as a measure of age', '8.3 Types of Volcanoes', '19.2 The Excretory System', '1.4 The Microscope', '16.3 The Skeletal System', '9.1 Protists', '14.3 The Ocean Floor', '4.1 Solids Liquids Gases and Plasmas', '6.1 Inside Earth', '10.1 Erosion and Deposition by Flowing Water', 'earth as a magnet', '16.3 Simple Machines', '10.2 Evolution and Classification of Plants', '9.2 Fungi', 'flatworms', '5.1 Inside the Atom', 'rotation of earth', '21.3 First Two Lines of Defense', 'nails and hair', '9.4 Biochemical Reactions', 'clouds', '10.4 Erosion and Deposition by Glaciers', '25.1 Introduction to the Solar System', 'blood vessels', '25.2 Using Electromagnetism', '19.1 The Respiratory System', 'faults', '13.2 Fish', '22.1 Male Reproductive System', '12.4 Insects and Other Arthropods', 'revolutions of earth', '24.1 Flow of Energy', '22.2 Optics', '21.4 Immune System Defenses', '7.4 History of Life on Earth', '22.3 Vision', '7.2 Nature of Earthquakes', '7.1 Introduction to Chemical Bonds', '24.3 The Sun', '6.4 Theory of Plate Tectonics', '6.2 Continental Drift', '6.1 How Elements Are Organized', '4.2 Photosynthesis', '3.1 Lifes Building Blocks', '19.2 Measuring Waves', '3.1 Properties of Matter', '24.4 The Sun and the EarthMoon System', '11.3 Nuclear Energy', '11.1 Fossils', '20.2 The Senses', '16.2 The Integumentary System', '15.2 Energy in the Atmosphere', '22.3 Reproduction and Life Stages', 'magnetic evidence for seafloor spreading', '17.3 The Digestive System', '4.1 Types of Rocks', '14.2 Ocean Movements', '10.1 Introduction to Plants', '11.2 Relative Ages of Rocks', '22.1 Air Pollution', '9.2 Hydrocarbons', 'climate zones and biomes', '23.3 Electric Circuits', '7.3 Covalent Bonds', '13.3 Groundwater', 'greenhouse effect', '15.3 Layers of the Atmosphere', '19.3 Wave Interactions and Interference', '22.2 Effects of Air Pollution', '7.2 Ionic Bonds', 'seasons', '4.3 Changes of State', '12.3 Acceleration', '3.2 Cell Structures', '16.4 The Muscular System'])"
      ]
     },
     "execution_count": 183,
     "metadata": {},
     "output_type": "execute_result"
    }
   ],
   "source": [
    "build_descriptions.keys()"
   ]
  },
  {
   "cell_type": "code",
   "execution_count": 184,
   "metadata": {
    "collapsed": false,
    "hidden": true,
    "run_control": {
     "frozen": false,
     "read_only": false
    }
   },
   "outputs": [
    {
     "data": {
      "text/plain": [
       "(83,)"
      ]
     },
     "execution_count": 184,
     "metadata": {},
     "output_type": "execute_result"
    }
   ],
   "source": [
    "pd.unique(desc_df['lesson_assigned_to']).shape"
   ]
  },
  {
   "cell_type": "code",
   "execution_count": 451,
   "metadata": {
    "collapsed": false,
    "hidden": true,
    "run_control": {
     "frozen": false,
     "read_only": false
    }
   },
   "outputs": [],
   "source": [
    "for subject, lessons in ck12_combined_dataset.items():\n",
    "    for l_name, lesson in lessons.items():\n",
    "        if l_name in refined_descriptions.keys():\n",
    "            lesson['instructionalDiagrams'] = build_descriptions[l_name]\n",
    "        else:\n",
    "            lesson['instructionalDiagrams'] = {}"
   ]
  },
  {
   "cell_type": "code",
   "execution_count": 185,
   "metadata": {
    "collapsed": false,
    "hidden": true,
    "run_control": {
     "frozen": false,
     "read_only": false
    }
   },
   "outputs": [],
   "source": [
    "# with open(output_dir + 'ck12_dataset_beta_v4.json', 'w') as f:\n",
    "#     json.dump(ck12_combined_dataset, f, indent=4, sort_keys=True)"
   ]
  },
  {
   "cell_type": "code",
   "execution_count": 186,
   "metadata": {
    "collapsed": true,
    "hidden": true,
    "run_control": {
     "frozen": false,
     "read_only": false
    }
   },
   "outputs": [],
   "source": [
    "# with open(output_dir + 'ck12_dataset_beta_v4.json', 'r') as f:\n",
    "#     ck12_combined_dataset = json.load(f)"
   ]
  },
  {
   "cell_type": "markdown",
   "metadata": {
    "collapsed": true,
    "heading_collapsed": true,
    "run_control": {
     "frozen": false,
     "read_only": false
    }
   },
   "source": [
    "# Apply spelling and grammar fixes"
   ]
  },
  {
   "cell_type": "markdown",
   "metadata": {
    "hidden": true
   },
   "source": [
    "## spelling experiments"
   ]
  },
  {
   "cell_type": "code",
   "execution_count": 189,
   "metadata": {
    "collapsed": false,
    "hidden": true,
    "run_control": {
     "frozen": false,
     "read_only": false
    }
   },
   "outputs": [],
   "source": [
    "\n",
    "\n"
   ]
  },
  {
   "cell_type": "code",
   "execution_count": 190,
   "metadata": {
    "collapsed": false,
    "hidden": true,
    "run_control": {
     "frozen": false,
     "read_only": false
    }
   },
   "outputs": [],
   "source": [
    "combined_desc_df = desc_df.append(ai2_written_df_completed.dropna())\n",
    "combined_desc_df['desc_len'] = combined_desc_df['Description'].apply(len)\n",
    "more_than_1_desc = combined_desc_df['diagram'].value_counts()[(combined_desc_df['diagram'].value_counts() > 1)].index.values.tolist()\n",
    "multiple_desc_by_diagram = combined_desc_df[combined_desc_df['diagram'].isin(more_than_1_desc)].groupby('diagram')\n",
    "max_len_lookup = list(combined_desc_df.groupby('diagram').agg({'desc_len': max}).to_dict().values())[0]\n",
    "longer_descs = combined_desc_df[combined_desc_df[['diagram', 'desc_len']].apply(lambda x: x[1] == max_len_lookup[x[0]], axis =1)].drop_duplicates('diagram')"
   ]
  },
  {
   "cell_type": "code",
   "execution_count": 192,
   "metadata": {
    "collapsed": false,
    "hidden": true,
    "run_control": {
     "frozen": false,
     "read_only": false
    }
   },
   "outputs": [
    {
     "ename": "KeyError",
     "evalue": "'instructionalDiagrams'",
     "output_type": "error",
     "traceback": [
      "\u001b[0;31m---------------------------------------------------------------------------\u001b[0m",
      "\u001b[0;31mKeyError\u001b[0m                                  Traceback (most recent call last)",
      "\u001b[0;32m<ipython-input-192-75ab19d04a3f>\u001b[0m in \u001b[0;36m<module>\u001b[0;34m()\u001b[0m\n\u001b[1;32m      1\u001b[0m \u001b[0mflattened_questions\u001b[0m \u001b[0;34m=\u001b[0m \u001b[0mflattened_dict\u001b[0m \u001b[0;34m=\u001b[0m \u001b[0;34m{\u001b[0m\u001b[0mk\u001b[0m\u001b[0;34m:\u001b[0m \u001b[0mv\u001b[0m\u001b[0;34m[\u001b[0m\u001b[0;34m'questions'\u001b[0m\u001b[0;34m]\u001b[0m\u001b[0;34m[\u001b[0m\u001b[0;34m'diagramQuestions'\u001b[0m\u001b[0;34m]\u001b[0m \u001b[0;32mfor\u001b[0m \u001b[0md\u001b[0m \u001b[0;32min\u001b[0m \u001b[0mck12_combined_dataset\u001b[0m\u001b[0;34m.\u001b[0m\u001b[0mvalues\u001b[0m\u001b[0;34m(\u001b[0m\u001b[0;34m)\u001b[0m \u001b[0;32mfor\u001b[0m \u001b[0mk\u001b[0m\u001b[0;34m,\u001b[0m \u001b[0mv\u001b[0m \u001b[0;32min\u001b[0m \u001b[0md\u001b[0m\u001b[0;34m.\u001b[0m\u001b[0mitems\u001b[0m\u001b[0;34m(\u001b[0m\u001b[0;34m)\u001b[0m \u001b[0;32mif\u001b[0m \u001b[0mv\u001b[0m\u001b[0;34m[\u001b[0m\u001b[0;34m'questions'\u001b[0m\u001b[0;34m]\u001b[0m\u001b[0;34m[\u001b[0m\u001b[0;34m'diagramQuestions'\u001b[0m\u001b[0;34m]\u001b[0m\u001b[0;34m}\u001b[0m\u001b[0;34m\u001b[0m\u001b[0m\n\u001b[0;32m----> 2\u001b[0;31m \u001b[0mflattened_descriptions\u001b[0m \u001b[0;34m=\u001b[0m \u001b[0mflattened_dict\u001b[0m \u001b[0;34m=\u001b[0m \u001b[0;34m{\u001b[0m\u001b[0mk\u001b[0m\u001b[0;34m:\u001b[0m \u001b[0mv\u001b[0m\u001b[0;34m[\u001b[0m\u001b[0;34m'instructionalDiagrams'\u001b[0m\u001b[0;34m]\u001b[0m \u001b[0;32mfor\u001b[0m \u001b[0md\u001b[0m \u001b[0;32min\u001b[0m \u001b[0mck12_combined_dataset\u001b[0m\u001b[0;34m.\u001b[0m\u001b[0mvalues\u001b[0m\u001b[0;34m(\u001b[0m\u001b[0;34m)\u001b[0m \u001b[0;32mfor\u001b[0m \u001b[0mk\u001b[0m\u001b[0;34m,\u001b[0m \u001b[0mv\u001b[0m \u001b[0;32min\u001b[0m \u001b[0md\u001b[0m\u001b[0;34m.\u001b[0m\u001b[0mitems\u001b[0m\u001b[0;34m(\u001b[0m\u001b[0;34m)\u001b[0m \u001b[0;32mif\u001b[0m \u001b[0mv\u001b[0m\u001b[0;34m[\u001b[0m\u001b[0;34m'instructionalDiagrams'\u001b[0m\u001b[0;34m]\u001b[0m\u001b[0;34m}\u001b[0m\u001b[0;34m\u001b[0m\u001b[0m\n\u001b[0m",
      "\u001b[0;32m<ipython-input-192-75ab19d04a3f>\u001b[0m in \u001b[0;36m<dictcomp>\u001b[0;34m(.0)\u001b[0m\n\u001b[1;32m      1\u001b[0m \u001b[0mflattened_questions\u001b[0m \u001b[0;34m=\u001b[0m \u001b[0mflattened_dict\u001b[0m \u001b[0;34m=\u001b[0m \u001b[0;34m{\u001b[0m\u001b[0mk\u001b[0m\u001b[0;34m:\u001b[0m \u001b[0mv\u001b[0m\u001b[0;34m[\u001b[0m\u001b[0;34m'questions'\u001b[0m\u001b[0;34m]\u001b[0m\u001b[0;34m[\u001b[0m\u001b[0;34m'diagramQuestions'\u001b[0m\u001b[0;34m]\u001b[0m \u001b[0;32mfor\u001b[0m \u001b[0md\u001b[0m \u001b[0;32min\u001b[0m \u001b[0mck12_combined_dataset\u001b[0m\u001b[0;34m.\u001b[0m\u001b[0mvalues\u001b[0m\u001b[0;34m(\u001b[0m\u001b[0;34m)\u001b[0m \u001b[0;32mfor\u001b[0m \u001b[0mk\u001b[0m\u001b[0;34m,\u001b[0m \u001b[0mv\u001b[0m \u001b[0;32min\u001b[0m \u001b[0md\u001b[0m\u001b[0;34m.\u001b[0m\u001b[0mitems\u001b[0m\u001b[0;34m(\u001b[0m\u001b[0;34m)\u001b[0m \u001b[0;32mif\u001b[0m \u001b[0mv\u001b[0m\u001b[0;34m[\u001b[0m\u001b[0;34m'questions'\u001b[0m\u001b[0;34m]\u001b[0m\u001b[0;34m[\u001b[0m\u001b[0;34m'diagramQuestions'\u001b[0m\u001b[0;34m]\u001b[0m\u001b[0;34m}\u001b[0m\u001b[0;34m\u001b[0m\u001b[0m\n\u001b[0;32m----> 2\u001b[0;31m \u001b[0mflattened_descriptions\u001b[0m \u001b[0;34m=\u001b[0m \u001b[0mflattened_dict\u001b[0m \u001b[0;34m=\u001b[0m \u001b[0;34m{\u001b[0m\u001b[0mk\u001b[0m\u001b[0;34m:\u001b[0m \u001b[0mv\u001b[0m\u001b[0;34m[\u001b[0m\u001b[0;34m'instructionalDiagrams'\u001b[0m\u001b[0;34m]\u001b[0m \u001b[0;32mfor\u001b[0m \u001b[0md\u001b[0m \u001b[0;32min\u001b[0m \u001b[0mck12_combined_dataset\u001b[0m\u001b[0;34m.\u001b[0m\u001b[0mvalues\u001b[0m\u001b[0;34m(\u001b[0m\u001b[0;34m)\u001b[0m \u001b[0;32mfor\u001b[0m \u001b[0mk\u001b[0m\u001b[0;34m,\u001b[0m \u001b[0mv\u001b[0m \u001b[0;32min\u001b[0m \u001b[0md\u001b[0m\u001b[0;34m.\u001b[0m\u001b[0mitems\u001b[0m\u001b[0;34m(\u001b[0m\u001b[0;34m)\u001b[0m \u001b[0;32mif\u001b[0m \u001b[0mv\u001b[0m\u001b[0;34m[\u001b[0m\u001b[0;34m'instructionalDiagrams'\u001b[0m\u001b[0;34m]\u001b[0m\u001b[0;34m}\u001b[0m\u001b[0;34m\u001b[0m\u001b[0m\n\u001b[0m",
      "\u001b[0;31mKeyError\u001b[0m: 'instructionalDiagrams'"
     ]
    }
   ],
   "source": [
    "flattened_questions = flattened_dict = {k: v['questions']['diagramQuestions'] for d in ck12_combined_dataset.values() for k, v in d.items() if v['questions']['diagramQuestions']}\n",
    "flattened_descriptions = flattened_dict = {k: v['instructionalDiagrams'] for d in ck12_combined_dataset.values() for k, v in d.items() if v['instructionalDiagrams']}"
   ]
  },
  {
   "cell_type": "markdown",
   "metadata": {
    "hidden": true
   },
   "source": [
    "## grammar experiments"
   ]
  },
  {
   "cell_type": "code",
   "execution_count": 199,
   "metadata": {
    "collapsed": true,
    "hidden": true,
    "run_control": {
     "frozen": false,
     "read_only": false
    }
   },
   "outputs": [],
   "source": [
    "dmp = diff_match_patch.diff_match_patch()"
   ]
  },
  {
   "cell_type": "code",
   "execution_count": 202,
   "metadata": {
    "collapsed": false,
    "hidden": true,
    "run_control": {
     "frozen": false,
     "read_only": false
    }
   },
   "outputs": [],
   "source": [
    "sp5_wr = desc_df['Description'].values.tolist()\n",
    "ai2_wr = ai2_written_df_completed['Description'].values.tolist()\n",
    "all_desc_wr = longer_descs['Description'].values.tolist()\n",
    "\n",
    "ts1 = longer_descs['Description']\n",
    "ts1.index = longer_descs['diagram']\n",
    "diagram_desc_dict = ts1.to_dict()"
   ]
  },
  {
   "cell_type": "code",
   "execution_count": 205,
   "metadata": {
    "collapsed": true,
    "hidden": true,
    "run_control": {
     "frozen": false,
     "read_only": false
    }
   },
   "outputs": [],
   "source": [
    "desc_with_errors = {}\n",
    "corrected_desc = {}\n",
    "for diag, desc_text in diagram_desc_dict.items():\n",
    "    errors = gram_checker.check(desc_text)\n",
    "    if errors:\n",
    "        desc_with_errors[diag] = errors\n",
    "        corrected_desc[diag] = gram_checker.correct(desc_text)"
   ]
  },
  {
   "cell_type": "code",
   "execution_count": 208,
   "metadata": {
    "collapsed": true,
    "hidden": true,
    "run_control": {
     "frozen": false,
     "read_only": false
    }
   },
   "outputs": [],
   "source": [
    "# num_errors = [len([match for match in matches if match.locqualityissuetype != 'grammar']) for matches in grammar_errors_in_dec]\n",
    "# num_errors =  [len(matches) for matches in desc_with_errors]\n",
    "# pd.Series(num_errors).value_counts()"
   ]
  },
  {
   "cell_type": "code",
   "execution_count": 1874,
   "metadata": {
    "collapsed": true,
    "hidden": true,
    "run_control": {
     "frozen": false,
     "read_only": false
    }
   },
   "outputs": [
    {
     "name": "stdout",
     "output_type": "stream",
     "text": [
      "ALL_OF_THE\n",
      "SOME_OF_THE\n",
      "SOME_OF_THE\n",
      "OF_ANY_OF\n",
      "SOME_OF_THE\n",
      "SOME_OF_THE\n",
      "NUMEROUS_DIFFERENT\n",
      "SOME_OF_THE\n",
      "NUMEROUS_DIFFERENT\n",
      "SO_AS_TO\n",
      "ALL_OF_THE\n",
      "ALL_OF_THE\n",
      "SOME_OF_THE\n",
      "ALL_OF_THE\n",
      "SOME_OF_THE\n",
      "LARGE_NUMBER_OF\n",
      "NUMEROUS_DIFFERENT\n",
      "ADJECTIVE_IN_ATTRIBUTE\n",
      "NUMEROUS_DIFFERENT\n",
      "NUMEROUS_DIFFERENT\n",
      "NUMEROUS_DIFFERENT\n",
      "ALL_OF_THE\n",
      "NUMEROUS_DIFFERENT\n",
      "ALL_OF_THE\n",
      "ALL_OF_THE\n",
      "NUMEROUS_DIFFERENT\n",
      "SOME_OF_THE\n",
      "SOME_OF_THE\n",
      "ADJECTIVE_IN_ATTRIBUTE\n",
      "SOME_OF_THE\n"
     ]
    }
   ],
   "source": [
    "etyps = []\n",
    "for match in grammar_errors_in_dec:\n",
    "    if match:\n",
    "        for mat in match:\n",
    "            etyps.append(mat.ruleId)\n",
    "#             etyps.append(match)\n",
    "            if mat.locqualityissuetype == 'style':\n",
    "                print(mat.ruleId)\n",
    "                etyps.append(mat.ruleId)\n",
    "\n",
    "# pd.Series(etyps).value_counts()"
   ]
  },
  {
   "cell_type": "code",
   "execution_count": 209,
   "metadata": {
    "collapsed": false,
    "hidden": true,
    "run_control": {
     "frozen": false,
     "read_only": false
    }
   },
   "outputs": [
    {
     "data": {
      "text/plain": [
       "153"
      ]
     },
     "execution_count": 209,
     "metadata": {},
     "output_type": "execute_result"
    }
   ],
   "source": [
    "len(corrected_desc)"
   ]
  },
  {
   "cell_type": "code",
   "execution_count": 212,
   "metadata": {
    "collapsed": false,
    "hidden": true,
    "run_control": {
     "frozen": false,
     "read_only": false
    }
   },
   "outputs": [
    {
     "data": {
      "text/html": [
       "<span>The diagram shows the structure of deoxyribonucleic acid (DNA) which carries the genetic information of organisms. DNA is made up of a double helix of two complementary strands. The strands of the double helix are anti-parallel with one being 5' to 3', and the opposite strand 3' to 5'. Each single strand of DNA is a chain of four types of nucleotides. The four types of nucleotide correspond to the four nucleobases adenine, cytosine, guanine, and thymine, commonly abbreviated as A,</span><ins style=\"background:#e6ffe6;\"> </ins><span>C, G and T. Adenine pairs with thymine (two hydrogen bonds), and guanine pairs with cytosine (three hydrogen bonds). During DNA replication, the parent DNA unwinds and each parental strand serves as a template for replication of new strands.  Nucleobases are matched to synthesize the new daughter strands.</span>"
      ],
      "text/plain": [
       "<IPython.core.display.HTML object>"
      ]
     },
     "execution_count": 212,
     "metadata": {},
     "output_type": "execute_result"
    }
   ],
   "source": [
    "diag_to_ex = random.choice(list(corrected_desc.keys()))\n",
    "orig_text = diagram_desc_dict[diag_to_ex]\n",
    "corrected_text = corrected_desc[diag_to_ex]\n",
    "diff = dmp.diff_main(orig_text, corrected_text)\n",
    "HTML(dmp.diff_prettyHtml(diff))"
   ]
  },
  {
   "cell_type": "code",
   "execution_count": 213,
   "metadata": {
    "collapsed": false,
    "hidden": true,
    "run_control": {
     "frozen": false,
     "read_only": false
    }
   },
   "outputs": [],
   "source": [
    "questions_asked = dr_proc_df['03_write_question'].values.tolist()"
   ]
  },
  {
   "cell_type": "code",
   "execution_count": 214,
   "metadata": {
    "collapsed": true,
    "hidden": true,
    "run_control": {
     "frozen": false,
     "read_only": false
    }
   },
   "outputs": [
    {
     "ename": "KeyboardInterrupt",
     "evalue": "",
     "output_type": "error",
     "traceback": [
      "\u001b[0;31m---------------------------------------------------------------------------\u001b[0m",
      "\u001b[0;31mKeyboardInterrupt\u001b[0m                         Traceback (most recent call last)",
      "\u001b[0;32m<ipython-input-214-390aa110e160>\u001b[0m in \u001b[0;36m<module>\u001b[0;34m()\u001b[0m\n\u001b[1;32m      6\u001b[0m             \u001b[0;32mfor\u001b[0m \u001b[0mqid\u001b[0m\u001b[0;34m,\u001b[0m \u001b[0mquestion\u001b[0m \u001b[0;32min\u001b[0m \u001b[0mlesson\u001b[0m\u001b[0;34m[\u001b[0m\u001b[0;34m'questions'\u001b[0m\u001b[0;34m]\u001b[0m\u001b[0;34m[\u001b[0m\u001b[0;34m'diagramQuestions'\u001b[0m\u001b[0;34m]\u001b[0m\u001b[0;34m.\u001b[0m\u001b[0mitems\u001b[0m\u001b[0;34m(\u001b[0m\u001b[0;34m)\u001b[0m\u001b[0;34m:\u001b[0m\u001b[0;34m\u001b[0m\u001b[0m\n\u001b[1;32m      7\u001b[0m                 \u001b[0mot\u001b[0m \u001b[0;34m=\u001b[0m \u001b[0mquestion\u001b[0m\u001b[0;34m[\u001b[0m\u001b[0;34m'beingAsked'\u001b[0m\u001b[0;34m]\u001b[0m\u001b[0;34m[\u001b[0m\u001b[0;34m'rawText'\u001b[0m\u001b[0;34m]\u001b[0m\u001b[0;34m\u001b[0m\u001b[0m\n\u001b[0;32m----> 8\u001b[0;31m                 \u001b[0merrors\u001b[0m \u001b[0;34m=\u001b[0m \u001b[0mgram_checker\u001b[0m\u001b[0;34m.\u001b[0m\u001b[0mcheck\u001b[0m\u001b[0;34m(\u001b[0m\u001b[0mot\u001b[0m\u001b[0;34m)\u001b[0m\u001b[0;34m\u001b[0m\u001b[0m\n\u001b[0m\u001b[1;32m      9\u001b[0m                 \u001b[0;32mif\u001b[0m \u001b[0merrors\u001b[0m\u001b[0;34m:\u001b[0m\u001b[0;34m\u001b[0m\u001b[0m\n\u001b[1;32m     10\u001b[0m                     \u001b[0morig_text\u001b[0m\u001b[0;34m.\u001b[0m\u001b[0mappend\u001b[0m\u001b[0;34m(\u001b[0m\u001b[0mot\u001b[0m\u001b[0;34m)\u001b[0m\u001b[0;34m\u001b[0m\u001b[0m\n",
      "\u001b[0;32m/usr/local/lib/python3.5/site-packages/language_check/__init__.py\u001b[0m in \u001b[0;36mcheck\u001b[0;34m(self, text, srctext)\u001b[0m\n\u001b[1;32m    241\u001b[0m     \u001b[0;32mdef\u001b[0m \u001b[0mcheck\u001b[0m\u001b[0;34m(\u001b[0m\u001b[0mself\u001b[0m\u001b[0;34m,\u001b[0m \u001b[0mtext\u001b[0m\u001b[0;34m:\u001b[0m \u001b[0mstr\u001b[0m\u001b[0;34m,\u001b[0m \u001b[0msrctext\u001b[0m\u001b[0;34m=\u001b[0m\u001b[0;32mNone\u001b[0m\u001b[0;34m)\u001b[0m \u001b[0;34m->\u001b[0m \u001b[0;34m[\u001b[0m\u001b[0mMatch\u001b[0m\u001b[0;34m]\u001b[0m\u001b[0;34m:\u001b[0m\u001b[0;34m\u001b[0m\u001b[0m\n\u001b[1;32m    242\u001b[0m         \u001b[0;34m\"\"\"Match text against enabled rules.\"\"\"\u001b[0m\u001b[0;34m\u001b[0m\u001b[0m\n\u001b[0;32m--> 243\u001b[0;31m         \u001b[0mroot\u001b[0m \u001b[0;34m=\u001b[0m \u001b[0mself\u001b[0m\u001b[0;34m.\u001b[0m\u001b[0m_get_root\u001b[0m\u001b[0;34m(\u001b[0m\u001b[0mself\u001b[0m\u001b[0;34m.\u001b[0m\u001b[0m_url\u001b[0m\u001b[0;34m,\u001b[0m \u001b[0mself\u001b[0m\u001b[0;34m.\u001b[0m\u001b[0m_encode\u001b[0m\u001b[0;34m(\u001b[0m\u001b[0mtext\u001b[0m\u001b[0;34m,\u001b[0m \u001b[0msrctext\u001b[0m\u001b[0;34m)\u001b[0m\u001b[0;34m)\u001b[0m\u001b[0;34m\u001b[0m\u001b[0m\n\u001b[0m\u001b[1;32m    244\u001b[0m         \u001b[0;32mreturn\u001b[0m \u001b[0;34m[\u001b[0m\u001b[0mMatch\u001b[0m\u001b[0;34m(\u001b[0m\u001b[0me\u001b[0m\u001b[0;34m.\u001b[0m\u001b[0mattrib\u001b[0m\u001b[0;34m)\u001b[0m \u001b[0;32mfor\u001b[0m \u001b[0me\u001b[0m \u001b[0;32min\u001b[0m \u001b[0mroot\u001b[0m \u001b[0;32mif\u001b[0m \u001b[0me\u001b[0m\u001b[0;34m.\u001b[0m\u001b[0mtag\u001b[0m \u001b[0;34m==\u001b[0m \u001b[0;34m'error'\u001b[0m\u001b[0;34m]\u001b[0m\u001b[0;34m\u001b[0m\u001b[0m\n\u001b[1;32m    245\u001b[0m \u001b[0;34m\u001b[0m\u001b[0m\n",
      "\u001b[0;32m/usr/local/lib/python3.5/site-packages/language_check/__init__.py\u001b[0m in \u001b[0;36m_get_root\u001b[0;34m(cls, url, data, num_tries)\u001b[0m\n\u001b[1;32m    303\u001b[0m             \u001b[0;32mtry\u001b[0m\u001b[0;34m:\u001b[0m\u001b[0;34m\u001b[0m\u001b[0m\n\u001b[1;32m    304\u001b[0m                 \u001b[0;32mwith\u001b[0m \u001b[0murlopen\u001b[0m\u001b[0;34m(\u001b[0m\u001b[0murl\u001b[0m\u001b[0;34m,\u001b[0m \u001b[0mdata\u001b[0m\u001b[0;34m,\u001b[0m \u001b[0mcls\u001b[0m\u001b[0;34m.\u001b[0m\u001b[0m_TIMEOUT\u001b[0m\u001b[0;34m)\u001b[0m \u001b[0;32mas\u001b[0m \u001b[0mf\u001b[0m\u001b[0;34m:\u001b[0m\u001b[0;34m\u001b[0m\u001b[0m\n\u001b[0;32m--> 305\u001b[0;31m                     \u001b[0;32mreturn\u001b[0m \u001b[0mElementTree\u001b[0m\u001b[0;34m.\u001b[0m\u001b[0mparse\u001b[0m\u001b[0;34m(\u001b[0m\u001b[0mf\u001b[0m\u001b[0;34m)\u001b[0m\u001b[0;34m.\u001b[0m\u001b[0mgetroot\u001b[0m\u001b[0;34m(\u001b[0m\u001b[0;34m)\u001b[0m\u001b[0;34m\u001b[0m\u001b[0m\n\u001b[0m\u001b[1;32m    306\u001b[0m             \u001b[0;32mexcept\u001b[0m \u001b[0;34m(\u001b[0m\u001b[0mIOError\u001b[0m\u001b[0;34m,\u001b[0m \u001b[0mhttp\u001b[0m\u001b[0;34m.\u001b[0m\u001b[0mclient\u001b[0m\u001b[0;34m.\u001b[0m\u001b[0mHTTPException\u001b[0m\u001b[0;34m)\u001b[0m \u001b[0;32mas\u001b[0m \u001b[0me\u001b[0m\u001b[0;34m:\u001b[0m\u001b[0;34m\u001b[0m\u001b[0m\n\u001b[1;32m    307\u001b[0m                 \u001b[0mcls\u001b[0m\u001b[0;34m.\u001b[0m\u001b[0m_terminate_server\u001b[0m\u001b[0;34m(\u001b[0m\u001b[0;34m)\u001b[0m\u001b[0;34m\u001b[0m\u001b[0m\n",
      "\u001b[0;32m/usr/local/Cellar/python3/3.5.2_3/Frameworks/Python.framework/Versions/3.5/lib/python3.5/xml/etree/ElementTree.py\u001b[0m in \u001b[0;36mparse\u001b[0;34m(source, parser)\u001b[0m\n\u001b[1;32m   1182\u001b[0m     \"\"\"\n\u001b[1;32m   1183\u001b[0m     \u001b[0mtree\u001b[0m \u001b[0;34m=\u001b[0m \u001b[0mElementTree\u001b[0m\u001b[0;34m(\u001b[0m\u001b[0;34m)\u001b[0m\u001b[0;34m\u001b[0m\u001b[0m\n\u001b[0;32m-> 1184\u001b[0;31m     \u001b[0mtree\u001b[0m\u001b[0;34m.\u001b[0m\u001b[0mparse\u001b[0m\u001b[0;34m(\u001b[0m\u001b[0msource\u001b[0m\u001b[0;34m,\u001b[0m \u001b[0mparser\u001b[0m\u001b[0;34m)\u001b[0m\u001b[0;34m\u001b[0m\u001b[0m\n\u001b[0m\u001b[1;32m   1185\u001b[0m     \u001b[0;32mreturn\u001b[0m \u001b[0mtree\u001b[0m\u001b[0;34m\u001b[0m\u001b[0m\n\u001b[1;32m   1186\u001b[0m \u001b[0;34m\u001b[0m\u001b[0m\n",
      "\u001b[0;32m/usr/local/Cellar/python3/3.5.2_3/Frameworks/Python.framework/Versions/3.5/lib/python3.5/xml/etree/ElementTree.py\u001b[0m in \u001b[0;36mparse\u001b[0;34m(self, source, parser)\u001b[0m\n\u001b[1;32m    594\u001b[0m                     \u001b[0;31m# It can be used to parse the whole source without feeding\u001b[0m\u001b[0;34m\u001b[0m\u001b[0;34m\u001b[0m\u001b[0m\n\u001b[1;32m    595\u001b[0m                     \u001b[0;31m# it with chunks.\u001b[0m\u001b[0;34m\u001b[0m\u001b[0;34m\u001b[0m\u001b[0m\n\u001b[0;32m--> 596\u001b[0;31m                     \u001b[0mself\u001b[0m\u001b[0;34m.\u001b[0m\u001b[0m_root\u001b[0m \u001b[0;34m=\u001b[0m \u001b[0mparser\u001b[0m\u001b[0;34m.\u001b[0m\u001b[0m_parse_whole\u001b[0m\u001b[0;34m(\u001b[0m\u001b[0msource\u001b[0m\u001b[0;34m)\u001b[0m\u001b[0;34m\u001b[0m\u001b[0m\n\u001b[0m\u001b[1;32m    597\u001b[0m                     \u001b[0;32mreturn\u001b[0m \u001b[0mself\u001b[0m\u001b[0;34m.\u001b[0m\u001b[0m_root\u001b[0m\u001b[0;34m\u001b[0m\u001b[0m\n\u001b[1;32m    598\u001b[0m             \u001b[0;32mwhile\u001b[0m \u001b[0;32mTrue\u001b[0m\u001b[0;34m:\u001b[0m\u001b[0;34m\u001b[0m\u001b[0m\n",
      "\u001b[0;32m/usr/local/Cellar/python3/3.5.2_3/Frameworks/Python.framework/Versions/3.5/lib/python3.5/http/client.py\u001b[0m in \u001b[0;36mread\u001b[0;34m(self, amt)\u001b[0m\n\u001b[1;32m    446\u001b[0m             \u001b[0;31m# Amount is given, implement using readinto\u001b[0m\u001b[0;34m\u001b[0m\u001b[0;34m\u001b[0m\u001b[0m\n\u001b[1;32m    447\u001b[0m             \u001b[0mb\u001b[0m \u001b[0;34m=\u001b[0m \u001b[0mbytearray\u001b[0m\u001b[0;34m(\u001b[0m\u001b[0mamt\u001b[0m\u001b[0;34m)\u001b[0m\u001b[0;34m\u001b[0m\u001b[0m\n\u001b[0;32m--> 448\u001b[0;31m             \u001b[0mn\u001b[0m \u001b[0;34m=\u001b[0m \u001b[0mself\u001b[0m\u001b[0;34m.\u001b[0m\u001b[0mreadinto\u001b[0m\u001b[0;34m(\u001b[0m\u001b[0mb\u001b[0m\u001b[0;34m)\u001b[0m\u001b[0;34m\u001b[0m\u001b[0m\n\u001b[0m\u001b[1;32m    449\u001b[0m             \u001b[0;32mreturn\u001b[0m \u001b[0mmemoryview\u001b[0m\u001b[0;34m(\u001b[0m\u001b[0mb\u001b[0m\u001b[0;34m)\u001b[0m\u001b[0;34m[\u001b[0m\u001b[0;34m:\u001b[0m\u001b[0mn\u001b[0m\u001b[0;34m]\u001b[0m\u001b[0;34m.\u001b[0m\u001b[0mtobytes\u001b[0m\u001b[0;34m(\u001b[0m\u001b[0;34m)\u001b[0m\u001b[0;34m\u001b[0m\u001b[0m\n\u001b[1;32m    450\u001b[0m         \u001b[0;32melse\u001b[0m\u001b[0;34m:\u001b[0m\u001b[0;34m\u001b[0m\u001b[0m\n",
      "\u001b[0;32m/usr/local/Cellar/python3/3.5.2_3/Frameworks/Python.framework/Versions/3.5/lib/python3.5/http/client.py\u001b[0m in \u001b[0;36mreadinto\u001b[0;34m(self, b)\u001b[0m\n\u001b[1;32m    494\u001b[0m             \u001b[0mself\u001b[0m\u001b[0;34m.\u001b[0m\u001b[0mlength\u001b[0m \u001b[0;34m-=\u001b[0m \u001b[0mn\u001b[0m\u001b[0;34m\u001b[0m\u001b[0m\n\u001b[1;32m    495\u001b[0m             \u001b[0;32mif\u001b[0m \u001b[0;32mnot\u001b[0m \u001b[0mself\u001b[0m\u001b[0;34m.\u001b[0m\u001b[0mlength\u001b[0m\u001b[0;34m:\u001b[0m\u001b[0;34m\u001b[0m\u001b[0m\n\u001b[0;32m--> 496\u001b[0;31m                 \u001b[0mself\u001b[0m\u001b[0;34m.\u001b[0m\u001b[0m_close_conn\u001b[0m\u001b[0;34m(\u001b[0m\u001b[0;34m)\u001b[0m\u001b[0;34m\u001b[0m\u001b[0m\n\u001b[0m\u001b[1;32m    497\u001b[0m         \u001b[0;32mreturn\u001b[0m \u001b[0mn\u001b[0m\u001b[0;34m\u001b[0m\u001b[0m\n\u001b[1;32m    498\u001b[0m \u001b[0;34m\u001b[0m\u001b[0m\n",
      "\u001b[0;32m/usr/local/Cellar/python3/3.5.2_3/Frameworks/Python.framework/Versions/3.5/lib/python3.5/http/client.py\u001b[0m in \u001b[0;36m_close_conn\u001b[0;34m(self)\u001b[0m\n\u001b[1;32m    401\u001b[0m         \u001b[0mfp\u001b[0m \u001b[0;34m=\u001b[0m \u001b[0mself\u001b[0m\u001b[0;34m.\u001b[0m\u001b[0mfp\u001b[0m\u001b[0;34m\u001b[0m\u001b[0m\n\u001b[1;32m    402\u001b[0m         \u001b[0mself\u001b[0m\u001b[0;34m.\u001b[0m\u001b[0mfp\u001b[0m \u001b[0;34m=\u001b[0m \u001b[0;32mNone\u001b[0m\u001b[0;34m\u001b[0m\u001b[0m\n\u001b[0;32m--> 403\u001b[0;31m         \u001b[0mfp\u001b[0m\u001b[0;34m.\u001b[0m\u001b[0mclose\u001b[0m\u001b[0;34m(\u001b[0m\u001b[0;34m)\u001b[0m\u001b[0;34m\u001b[0m\u001b[0m\n\u001b[0m\u001b[1;32m    404\u001b[0m \u001b[0;34m\u001b[0m\u001b[0m\n\u001b[1;32m    405\u001b[0m     \u001b[0;32mdef\u001b[0m \u001b[0mclose\u001b[0m\u001b[0;34m(\u001b[0m\u001b[0mself\u001b[0m\u001b[0;34m)\u001b[0m\u001b[0;34m:\u001b[0m\u001b[0;34m\u001b[0m\u001b[0m\n",
      "\u001b[0;32m/usr/local/Cellar/python3/3.5.2_3/Frameworks/Python.framework/Versions/3.5/lib/python3.5/socket.py\u001b[0m in \u001b[0;36mclose\u001b[0;34m(self)\u001b[0m\n\u001b[1;32m    643\u001b[0m             \u001b[0;32mreturn\u001b[0m\u001b[0;34m\u001b[0m\u001b[0m\n\u001b[1;32m    644\u001b[0m         \u001b[0mio\u001b[0m\u001b[0;34m.\u001b[0m\u001b[0mRawIOBase\u001b[0m\u001b[0;34m.\u001b[0m\u001b[0mclose\u001b[0m\u001b[0;34m(\u001b[0m\u001b[0mself\u001b[0m\u001b[0;34m)\u001b[0m\u001b[0;34m\u001b[0m\u001b[0m\n\u001b[0;32m--> 645\u001b[0;31m         \u001b[0mself\u001b[0m\u001b[0;34m.\u001b[0m\u001b[0m_sock\u001b[0m\u001b[0;34m.\u001b[0m\u001b[0m_decref_socketios\u001b[0m\u001b[0;34m(\u001b[0m\u001b[0;34m)\u001b[0m\u001b[0;34m\u001b[0m\u001b[0m\n\u001b[0m\u001b[1;32m    646\u001b[0m         \u001b[0mself\u001b[0m\u001b[0;34m.\u001b[0m\u001b[0m_sock\u001b[0m \u001b[0;34m=\u001b[0m \u001b[0;32mNone\u001b[0m\u001b[0;34m\u001b[0m\u001b[0m\n\u001b[1;32m    647\u001b[0m \u001b[0;34m\u001b[0m\u001b[0m\n",
      "\u001b[0;32m/usr/local/Cellar/python3/3.5.2_3/Frameworks/Python.framework/Versions/3.5/lib/python3.5/socket.py\u001b[0m in \u001b[0;36m_decref_socketios\u001b[0;34m(self)\u001b[0m\n\u001b[1;32m    395\u001b[0m             \u001b[0mself\u001b[0m\u001b[0;34m.\u001b[0m\u001b[0m_io_refs\u001b[0m \u001b[0;34m-=\u001b[0m \u001b[0;36m1\u001b[0m\u001b[0;34m\u001b[0m\u001b[0m\n\u001b[1;32m    396\u001b[0m         \u001b[0;32mif\u001b[0m \u001b[0mself\u001b[0m\u001b[0;34m.\u001b[0m\u001b[0m_closed\u001b[0m\u001b[0;34m:\u001b[0m\u001b[0;34m\u001b[0m\u001b[0m\n\u001b[0;32m--> 397\u001b[0;31m             \u001b[0mself\u001b[0m\u001b[0;34m.\u001b[0m\u001b[0mclose\u001b[0m\u001b[0;34m(\u001b[0m\u001b[0;34m)\u001b[0m\u001b[0;34m\u001b[0m\u001b[0m\n\u001b[0m\u001b[1;32m    398\u001b[0m \u001b[0;34m\u001b[0m\u001b[0m\n\u001b[1;32m    399\u001b[0m     \u001b[0;32mdef\u001b[0m \u001b[0m_real_close\u001b[0m\u001b[0;34m(\u001b[0m\u001b[0mself\u001b[0m\u001b[0;34m,\u001b[0m \u001b[0m_ss\u001b[0m\u001b[0;34m=\u001b[0m\u001b[0m_socket\u001b[0m\u001b[0;34m.\u001b[0m\u001b[0msocket\u001b[0m\u001b[0;34m)\u001b[0m\u001b[0;34m:\u001b[0m\u001b[0;34m\u001b[0m\u001b[0m\n",
      "\u001b[0;32m/usr/local/Cellar/python3/3.5.2_3/Frameworks/Python.framework/Versions/3.5/lib/python3.5/socket.py\u001b[0m in \u001b[0;36mclose\u001b[0;34m(self)\u001b[0m\n\u001b[1;32m    405\u001b[0m         \u001b[0mself\u001b[0m\u001b[0;34m.\u001b[0m\u001b[0m_closed\u001b[0m \u001b[0;34m=\u001b[0m \u001b[0;32mTrue\u001b[0m\u001b[0;34m\u001b[0m\u001b[0m\n\u001b[1;32m    406\u001b[0m         \u001b[0;32mif\u001b[0m \u001b[0mself\u001b[0m\u001b[0;34m.\u001b[0m\u001b[0m_io_refs\u001b[0m \u001b[0;34m<=\u001b[0m \u001b[0;36m0\u001b[0m\u001b[0;34m:\u001b[0m\u001b[0;34m\u001b[0m\u001b[0m\n\u001b[0;32m--> 407\u001b[0;31m             \u001b[0mself\u001b[0m\u001b[0;34m.\u001b[0m\u001b[0m_real_close\u001b[0m\u001b[0;34m(\u001b[0m\u001b[0;34m)\u001b[0m\u001b[0;34m\u001b[0m\u001b[0m\n\u001b[0m\u001b[1;32m    408\u001b[0m \u001b[0;34m\u001b[0m\u001b[0m\n\u001b[1;32m    409\u001b[0m     \u001b[0;32mdef\u001b[0m \u001b[0mdetach\u001b[0m\u001b[0;34m(\u001b[0m\u001b[0mself\u001b[0m\u001b[0;34m)\u001b[0m\u001b[0;34m:\u001b[0m\u001b[0;34m\u001b[0m\u001b[0m\n",
      "\u001b[0;32m/usr/local/Cellar/python3/3.5.2_3/Frameworks/Python.framework/Versions/3.5/lib/python3.5/socket.py\u001b[0m in \u001b[0;36m_real_close\u001b[0;34m(self, _ss)\u001b[0m\n\u001b[1;32m    399\u001b[0m     \u001b[0;32mdef\u001b[0m \u001b[0m_real_close\u001b[0m\u001b[0;34m(\u001b[0m\u001b[0mself\u001b[0m\u001b[0;34m,\u001b[0m \u001b[0m_ss\u001b[0m\u001b[0;34m=\u001b[0m\u001b[0m_socket\u001b[0m\u001b[0;34m.\u001b[0m\u001b[0msocket\u001b[0m\u001b[0;34m)\u001b[0m\u001b[0;34m:\u001b[0m\u001b[0;34m\u001b[0m\u001b[0m\n\u001b[1;32m    400\u001b[0m         \u001b[0;31m# This function should not reference any globals. See issue #808164.\u001b[0m\u001b[0;34m\u001b[0m\u001b[0;34m\u001b[0m\u001b[0m\n\u001b[0;32m--> 401\u001b[0;31m         \u001b[0m_ss\u001b[0m\u001b[0;34m.\u001b[0m\u001b[0mclose\u001b[0m\u001b[0;34m(\u001b[0m\u001b[0mself\u001b[0m\u001b[0;34m)\u001b[0m\u001b[0;34m\u001b[0m\u001b[0m\n\u001b[0m\u001b[1;32m    402\u001b[0m \u001b[0;34m\u001b[0m\u001b[0m\n\u001b[1;32m    403\u001b[0m     \u001b[0;32mdef\u001b[0m \u001b[0mclose\u001b[0m\u001b[0;34m(\u001b[0m\u001b[0mself\u001b[0m\u001b[0;34m)\u001b[0m\u001b[0;34m:\u001b[0m\u001b[0;34m\u001b[0m\u001b[0m\n",
      "\u001b[0;31mKeyboardInterrupt\u001b[0m: "
     ]
    }
   ],
   "source": [
    "orig_text = []\n",
    "replaced_text = []\n",
    "for subject, flexbook in ck12_combined_dataset.items():\n",
    "    for lesson_name, lesson in flexbook.items():\n",
    "        if lesson['questions']['diagramQuestions']:\n",
    "            for qid, question in lesson['questions']['diagramQuestions'].items():\n",
    "                ot = question['beingAsked']['rawText']\n",
    "                errors = gram_checker.check(ot)\n",
    "                if errors:\n",
    "                    orig_text.append(ot)\n",
    "                    replaced_text.append(gram_checker.correct(desc_text))\n",
    "                    "
   ]
  },
  {
   "cell_type": "markdown",
   "metadata": {
    "hidden": true
   },
   "source": [
    "## Apply to dataset"
   ]
  },
  {
   "cell_type": "code",
   "execution_count": 219,
   "metadata": {
    "collapsed": false,
    "hidden": true,
    "run_control": {
     "frozen": false,
     "read_only": false
    }
   },
   "outputs": [],
   "source": [
    "def check_mispelled(word):\n",
    "    return word and word.isalpha() and not (edict.check(word) or anglo_edict.check(word) or edict.check(word[0].upper() + word[1:]))\n",
    "\n",
    "def correct_spelling_error(misspelled_word, suggested_spellings):\n",
    "    highest_ratio = 0\n",
    "    closest_match = None\n",
    "    for word in suggested_spellings:\n",
    "        match_r = fuzz.ratio(misspelled_word, word)\n",
    "        if match_r >= highest_ratio and (word[0] == misspelled_word[0] or not check_mispelled(word[0] + misspelled_word)) and len(misspelled_word) <= len(word):\n",
    "            highest_ratio = match_r\n",
    "            closest_match = word\n",
    "            break\n",
    "    spell_changes[misspelled_word] = closest_match\n",
    "    return closest_match\n",
    "\n",
    "def apply_spelling_fix(orig_text):\n",
    "    orig_text_tokens = wordpunct_tokenize(orig_text)\n",
    "    processed_tokens = []\n",
    "    for token in orig_text_tokens:\n",
    "        norm_token = token.lower()\n",
    "        if len(norm_token) < 4:\n",
    "            processed_tokens.append(token)\n",
    "            continue\n",
    "        if check_mispelled(norm_token):\n",
    "            suggested_replacements = edict.suggest(token)\n",
    "            replacement_text = correct_spelling_error(norm_token, suggested_replacements)\n",
    "            if replacement_text:\n",
    "                if norm_token[0].isupper():\n",
    "                    replacement_text = upper(replacement_text[0]) + replaced_text[1:]\n",
    "                processed_tokens.append(replacement_text)\n",
    "            else:\n",
    "                processed_tokens.append(token)\n",
    "        else:\n",
    "            processed_tokens.append(token)\n",
    "    return ' '.join(processed_tokens)\n",
    "\n",
    "def diff_corrected_text(orig_text, corrected_text):\n",
    "    diff = dmp.diff_main(orig_text, corrected_text)\n",
    "    return HTML(dmp.diff_prettyHtml(diff))\n",
    "\n",
    "def specify_lesson_q_path(lesson):\n",
    "    pass\n",
    "    \n",
    "\n",
    "def apply_spelling_and_grammar_to_ds(ck12_ds):\n",
    "    return"
   ]
  },
  {
   "cell_type": "code",
   "execution_count": 224,
   "metadata": {
    "collapsed": true,
    "hidden": true,
    "run_control": {
     "frozen": false,
     "read_only": false
    }
   },
   "outputs": [],
   "source": [
    "with open(output_dir + 'ck12_dataset_beta_v4.json', 'r') as f:\n",
    "    ck12_combined_dataset = json.load(f)"
   ]
  },
  {
   "cell_type": "code",
   "execution_count": 225,
   "metadata": {
    "collapsed": true,
    "hidden": true,
    "run_control": {
     "frozen": false,
     "read_only": false
    }
   },
   "outputs": [],
   "source": [
    "ck12_spell_gramm_fix_test = deepcopy(ck12_combined_dataset)"
   ]
  },
  {
   "cell_type": "code",
   "execution_count": 226,
   "metadata": {
    "collapsed": true,
    "hidden": true,
    "run_control": {
     "frozen": false,
     "read_only": false
    }
   },
   "outputs": [],
   "source": [
    "gram_checker = language_check.LanguageTool('en-US')\n",
    "gram_checker.disabled = set(['SENT_START_CONJUNCTIVE_LINKING_ADVERB_COMMA', 'POSSESSIVE_APOSTROPHE', 'A_PLURAL'])\n",
    "gram_checker.disable_spellchecking()\n",
    "\n",
    "punc_set_space = set([',', ':', ';', '/\"'])\n",
    "punc_set_nospace = set(['-', '\\'', '-', '?', '.', '!'])\n",
    "question_enders = set(['.', '?', ':'])"
   ]
  },
  {
   "cell_type": "code",
   "execution_count": 227,
   "metadata": {
    "collapsed": false,
    "hidden": true,
    "run_control": {
     "frozen": false,
     "read_only": false
    }
   },
   "outputs": [],
   "source": [
    "spell_changes = {}\n",
    "unaltered_text = []\n",
    "replaced_text = []\n",
    "for lesson in list(ck12_spell_gramm_fix_test['life-science'].values()):\n",
    "    if lesson['instructionalDiagrams']:\n",
    "        for diagram, description in lesson['instructionalDiagrams'].items():\n",
    "            orig_text = description['processedText']\n",
    "            spell_fixed_text = apply_spelling_fix(orig_text)\n",
    "            for punc_char in punc_set_nospace:\n",
    "                spell_fixed_text = spell_fixed_text.replace(' ' + punc_char + ' ' , punc_char)\n",
    "            for punc_char in punc_set_space:\n",
    "                spell_fixed_text = spell_fixed_text.replace(' ' + punc_char + ' ' , punc_char + ' ')\n",
    "            gram_fixed = gram_checker.correct(spell_fixed_text)\n",
    "            if gram_fixed != orig_text:\n",
    "                unaltered_text.append(orig_text)\n",
    "                replaced_text.append(gram_fixed)"
   ]
  },
  {
   "cell_type": "code",
   "execution_count": 2603,
   "metadata": {
    "collapsed": false,
    "hidden": true,
    "run_control": {
     "frozen": false,
     "read_only": false
    },
    "scrolled": true
   },
   "outputs": [],
   "source": [
    "spell_changes = {}\n",
    "unaltered_text = []\n",
    "replaced_text = []\n",
    "for lesson in list(ck12_spell_gramm_fix_test['life-science'].values()):\n",
    "    if lesson['questions']['nonDiagramQuestions']:\n",
    "        for diagram, description in lesson['questions']['nonDiagramQuestions'].items():\n",
    "            orig_text = description['beingAsked']['processedText']\n",
    "            spell_fixed_text = apply_spelling_fix(orig_text)\n",
    "            gram_fixed = gram_checker.correct(spell_fixed_text)\n",
    "            for punc_char in punc_set_nospace:\n",
    "                gram_fixed = gram_fixed.replace(' ' + punc_char + ' ' , punc_char)\n",
    "                gram_fixed = gram_fixed.replace(' ' + punc_char, punc_char)\n",
    "            for punc_char in punc_set_space:\n",
    "                gram_fixed = gram_fixed.replace(' ' + punc_char + ' ' , punc_char + ' ')\n",
    "            if gram_fixed[-1] not in question_enders:\n",
    "                if gram_fixed.split()[0] in ['Identify', 'Name'] or '__' in gram_fixed:\n",
    "                    gram_fixed += '.'\n",
    "                else:\n",
    "                    gram_fixed += '?'\n",
    "            if gram_fixed != orig_text:\n",
    "                unaltered_text.append(orig_text)\n",
    "                replaced_text.append(gram_fixed)"
   ]
  },
  {
   "cell_type": "code",
   "execution_count": 228,
   "metadata": {
    "collapsed": false,
    "hidden": true,
    "run_control": {
     "frozen": false,
     "read_only": false
    }
   },
   "outputs": [],
   "source": [
    "comp_text = list(zip(unaltered_text, replaced_text))"
   ]
  },
  {
   "cell_type": "code",
   "execution_count": 229,
   "metadata": {
    "collapsed": false,
    "hidden": true,
    "run_control": {
     "frozen": false,
     "read_only": false
    }
   },
   "outputs": [
    {
     "data": {
      "text/plain": [
       "62"
      ]
     },
     "execution_count": 229,
     "metadata": {},
     "output_type": "execute_result"
    }
   ],
   "source": [
    "len(comp_text)"
   ]
  },
  {
   "cell_type": "code",
   "execution_count": 230,
   "metadata": {
    "collapsed": false,
    "hidden": true,
    "run_control": {
     "frozen": false,
     "read_only": false
    },
    "scrolled": true
   },
   "outputs": [
    {
     "name": "stdout",
     "output_type": "stream",
     "text": [
      "18\n"
     ]
    },
    {
     "data": {
      "text/plain": [
       "{'assemly': 'assembly',\n",
       " 'asteroidea': None,\n",
       " 'begind': 'behind',\n",
       " 'cacncal': 'canonical',\n",
       " 'carbondioxide': 'carbon dioxide',\n",
       " 'cererbum': None,\n",
       " 'contols': 'controls',\n",
       " 'everythign': 'everything',\n",
       " 'followd': 'followed',\n",
       " 'gell': 'gall',\n",
       " 'majorly': 'majority',\n",
       " 'microcompartments': 'micro compartments',\n",
       " 'ontrols': 'controls',\n",
       " 'protezoic': None,\n",
       " 'resipration': 'respiration',\n",
       " 'stemlike': 'stem like',\n",
       " 'subdivded': 'subdivided',\n",
       " 'timeframes': 'time frames'}"
      ]
     },
     "execution_count": 230,
     "metadata": {},
     "output_type": "execute_result"
    }
   ],
   "source": [
    "print(len(spell_changes))\n",
    "spell_changes"
   ]
  },
  {
   "cell_type": "code",
   "execution_count": 244,
   "metadata": {
    "collapsed": false,
    "hidden": true,
    "run_control": {
     "frozen": false,
     "read_only": false
    }
   },
   "outputs": [
    {
     "name": "stdout",
     "output_type": "stream",
     "text": [
      "54\n"
     ]
    },
    {
     "data": {
      "text/html": [
       "<span>This diagram depicts the human skeleton. The axial skeleton includes the skull, vertebral column, and thoracic cage. The skull consists of 28 bones: 8 cranial vault bones, 14 facial bones, and 6 auditory ossicles. From a lateral view, the parietal, temporal, and sphenoid bones can be seen. From a frontal view, the orbits and nasal cavity can be seen, as well as associated bones and structures, such as the frontal bone, zygomatic bone, maxilla, and mandible. The interior of the cranial vault contains three fossae with several foramina. Seen from below, the base of the skull reveals numerous foramina and other structures, such as processes for muscle attachment. The vertebral column contains 7 cervical, 12 thoracic, and 5 lumbar vertebrae, plus 1 sacral and 1 coccygeal bone. Each vertebra consists of a body, an arch, and processes. Regional differences in vertebrae are as follows: cervical vertebrae have transverse foramina; thoracic vertebrae have long spinous processes and attachment sites for the ribs; lumbar vertebrae have rectangular transverse and spinous processes, and the position of their facets limit rotation; the sacrum is a single, fused bone; the coccyx is four or fewer fused vertebrae. The thoracic cage consists of thoracic vertebrae, ribs, and sternum. There are 12 pairs of ribs: 7 true and 5 false (two of the false ribs are also called floating ribs).</span><ins style=\"background:#e6ffe6;\"> </ins><span>The sternum consists of the manubrium, body, and xiphoid process. The appendicular skeleton consists of the bones of the upper and lower limbs and their girdles. The pectoral girdle includes the scapula and clavicle. The upper limb consists of the arm (humerus), forearm (ulna and radius), wrist (eight carpal bones), and hand (five metacarpals, three phalanges in each finger, and two phalanges in the thumb).</span><ins style=\"background:#e6ffe6;\"> </ins><span>The pelvic girdle is made up of the sacrum and two coxae. Each coxa consists of an ilium, ischium, and pubis. The lower limb includes the thigh (femur), leg (tibia and fibula), ankle (seven tarsals), and foot (metatarsals and phalanges, similar to the bones in the hand).</span>"
      ],
      "text/plain": [
       "<IPython.core.display.HTML object>"
      ]
     },
     "execution_count": 244,
     "metadata": {},
     "output_type": "execute_result"
    }
   ],
   "source": [
    "rand_idx = np.random.randint(len(comp_text))\n",
    "print(rand_idx)\n",
    "diff_corrected_text(*comp_text[rand_idx])"
   ]
  },
  {
   "cell_type": "code",
   "execution_count": 245,
   "metadata": {
    "collapsed": false,
    "hidden": true,
    "run_control": {
     "frozen": false,
     "read_only": false
    }
   },
   "outputs": [
    {
     "name": "stdout",
     "output_type": "stream",
     "text": [
      "This diagram depicts the human skeleton. The axial skeleton includes the skull, vertebral column, and thoracic cage. The skull consists of 28 bones: 8 cranial vault bones, 14 facial bones, and 6 auditory ossicles. From a lateral view, the parietal, temporal, and sphenoid bones can be seen. From a frontal view, the orbits and nasal cavity can be seen, as well as associated bones and structures, such as the frontal bone, zygomatic bone, maxilla, and mandible. The interior of the cranial vault contains three fossae with several foramina. Seen from below, the base of the skull reveals numerous foramina and other structures, such as processes for muscle attachment. The vertebral column contains 7 cervical, 12 thoracic, and 5 lumbar vertebrae, plus 1 sacral and 1 coccygeal bone. Each vertebra consists of a body, an arch, and processes. Regional differences in vertebrae are as follows: cervical vertebrae have transverse foramina; thoracic vertebrae have long spinous processes and attachment sites for the ribs; lumbar vertebrae have rectangular transverse and spinous processes, and the position of their facets limit rotation; the sacrum is a single, fused bone; the coccyx is four or fewer fused vertebrae. The thoracic cage consists of thoracic vertebrae, ribs, and sternum. There are 12 pairs of ribs: 7 true and 5 false (two of the false ribs are also called floating ribs).The sternum consists of the manubrium, body, and xiphoid process. The appendicular skeleton consists of the bones of the upper and lower limbs and their girdles. The pectoral girdle includes the scapula and clavicle. The upper limb consists of the arm (humerus), forearm (ulna and radius), wrist (eight carpal bones), and hand (five metacarpals, three phalanges in each finger, and two phalanges in the thumb).The pelvic girdle is made up of the sacrum and two coxae. Each coxa consists of an ilium, ischium, and pubis. The lower limb includes the thigh (femur), leg (tibia and fibula), ankle (seven tarsals), and foot (metatarsals and phalanges, similar to the bones in the hand).\n",
      "\n",
      "This diagram depicts the human skeleton. The axial skeleton includes the skull, vertebral column, and thoracic cage. The skull consists of 28 bones: 8 cranial vault bones, 14 facial bones, and 6 auditory ossicles. From a lateral view, the parietal, temporal, and sphenoid bones can be seen. From a frontal view, the orbits and nasal cavity can be seen, as well as associated bones and structures, such as the frontal bone, zygomatic bone, maxilla, and mandible. The interior of the cranial vault contains three fossae with several foramina. Seen from below, the base of the skull reveals numerous foramina and other structures, such as processes for muscle attachment. The vertebral column contains 7 cervical, 12 thoracic, and 5 lumbar vertebrae, plus 1 sacral and 1 coccygeal bone. Each vertebra consists of a body, an arch, and processes. Regional differences in vertebrae are as follows: cervical vertebrae have transverse foramina; thoracic vertebrae have long spinous processes and attachment sites for the ribs; lumbar vertebrae have rectangular transverse and spinous processes, and the position of their facets limit rotation; the sacrum is a single, fused bone; the coccyx is four or fewer fused vertebrae. The thoracic cage consists of thoracic vertebrae, ribs, and sternum. There are 12 pairs of ribs: 7 true and 5 false (two of the false ribs are also called floating ribs). The sternum consists of the manubrium, body, and xiphoid process. The appendicular skeleton consists of the bones of the upper and lower limbs and their girdles. The pectoral girdle includes the scapula and clavicle. The upper limb consists of the arm (humerus), forearm (ulna and radius), wrist (eight carpal bones), and hand (five metacarpals, three phalanges in each finger, and two phalanges in the thumb). The pelvic girdle is made up of the sacrum and two coxae. Each coxa consists of an ilium, ischium, and pubis. The lower limb includes the thigh (femur), leg (tibia and fibula), ankle (seven tarsals), and foot (metatarsals and phalanges, similar to the bones in the hand).\n"
     ]
    }
   ],
   "source": [
    "print(unaltered_text[rand_idx])\n",
    "print()\n",
    "print(replaced_text[rand_idx])"
   ]
  },
  {
   "cell_type": "code",
   "execution_count": null,
   "metadata": {
    "collapsed": true,
    "hidden": true,
    "run_control": {
     "frozen": false,
     "read_only": false
    }
   },
   "outputs": [],
   "source": []
  },
  {
   "cell_type": "code",
   "execution_count": null,
   "metadata": {
    "collapsed": true,
    "hidden": true,
    "run_control": {
     "frozen": false,
     "read_only": false
    }
   },
   "outputs": [],
   "source": []
  },
  {
   "cell_type": "code",
   "execution_count": null,
   "metadata": {
    "collapsed": true,
    "hidden": true,
    "run_control": {
     "frozen": false,
     "read_only": false
    }
   },
   "outputs": [],
   "source": []
  },
  {
   "cell_type": "code",
   "execution_count": null,
   "metadata": {
    "collapsed": true,
    "hidden": true,
    "run_control": {
     "frozen": false,
     "read_only": false
    }
   },
   "outputs": [],
   "source": []
  },
  {
   "cell_type": "code",
   "execution_count": null,
   "metadata": {
    "collapsed": true,
    "hidden": true,
    "run_control": {
     "frozen": false,
     "read_only": false
    }
   },
   "outputs": [],
   "source": []
  },
  {
   "cell_type": "markdown",
   "metadata": {
    "heading_collapsed": true
   },
   "source": [
    "# Refinements"
   ]
  },
  {
   "cell_type": "markdown",
   "metadata": {
    "hidden": true
   },
   "source": [
    " ## Todo\n",
    "global ids\n",
    "\n",
    "make all abc questions upper/lower case\n",
    "\n",
    "add vocab defs\n",
    "\n",
    "punctuation/ text normalization\n",
    "\n",
    "maybe spell and grammar on entire set\n",
    "\n",
    "linking lessons"
   ]
  },
  {
   "cell_type": "code",
   "execution_count": 251,
   "metadata": {
    "collapsed": false,
    "hidden": true,
    "run_control": {
     "frozen": false,
     "read_only": false
    }
   },
   "outputs": [],
   "source": [
    "from pdfextraction.assemble_dataset import load_ds"
   ]
  },
  {
   "cell_type": "code",
   "execution_count": 254,
   "metadata": {
    "collapsed": false,
    "hidden": true,
    "run_control": {
     "frozen": false,
     "read_only": false
    }
   },
   "outputs": [],
   "source": [
    "ck_12_c = load_ds()"
   ]
  },
  {
   "cell_type": "code",
   "execution_count": null,
   "metadata": {
    "collapsed": true,
    "hidden": true,
    "run_control": {
     "frozen": false,
     "read_only": false
    }
   },
   "outputs": [],
   "source": []
  },
  {
   "cell_type": "code",
   "execution_count": null,
   "metadata": {
    "collapsed": true,
    "hidden": true,
    "run_control": {
     "frozen": false,
     "read_only": false
    }
   },
   "outputs": [],
   "source": []
  },
  {
   "cell_type": "code",
   "execution_count": null,
   "metadata": {
    "collapsed": true,
    "hidden": true,
    "run_control": {
     "frozen": false,
     "read_only": false
    }
   },
   "outputs": [],
   "source": []
  },
  {
   "cell_type": "code",
   "execution_count": null,
   "metadata": {
    "collapsed": true,
    "hidden": true,
    "run_control": {
     "frozen": false,
     "read_only": false
    }
   },
   "outputs": [],
   "source": []
  },
  {
   "cell_type": "code",
   "execution_count": null,
   "metadata": {
    "collapsed": true,
    "hidden": true,
    "run_control": {
     "frozen": false,
     "read_only": false
    }
   },
   "outputs": [],
   "source": []
  },
  {
   "cell_type": "markdown",
   "metadata": {
    "collapsed": true,
    "run_control": {
     "frozen": false,
     "read_only": false
    }
   },
   "source": [
    "# experiments"
   ]
  },
  {
   "cell_type": "markdown",
   "metadata": {
    "collapsed": true,
    "heading_collapsed": true,
    "run_control": {
     "frozen": false,
     "read_only": false
    }
   },
   "source": [
    "## image number counts"
   ]
  },
  {
   "cell_type": "code",
   "execution_count": 239,
   "metadata": {
    "collapsed": false,
    "hidden": true,
    "run_control": {
     "frozen": false,
     "read_only": false
    }
   },
   "outputs": [
    {
     "name": "stdout",
     "output_type": "stream",
     "text": [
      "3301\n",
      "3044\n"
     ]
    },
    {
     "data": {
      "text/plain": [
       "6345"
      ]
     },
     "execution_count": 239,
     "metadata": {},
     "output_type": "execute_result"
    }
   ],
   "source": [
    "nfbtb = 1490\n",
    "nwsl = 1811\n",
    "print(nfbtb + nwsl)\n",
    "\n",
    "ndq = 2049\n",
    "ndqabc = 719\n",
    "ndd = 276\n",
    "print(ndqabc + ndq + ndd)\n",
    "\n",
    "nfbtb + nwsl + ndqabc + ndq + ndd"
   ]
  },
  {
   "cell_type": "markdown",
   "metadata": {
    "heading_collapsed": true
   },
   "source": [
    "## topic collisions"
   ]
  },
  {
   "cell_type": "code",
   "execution_count": 42,
   "metadata": {
    "collapsed": false,
    "hidden": true,
    "run_control": {
     "frozen": false,
     "read_only": false
    }
   },
   "outputs": [
    {
     "data": {
      "text/plain": [
       "dict_keys(['physical-science', 'earth-science', 'life-science'])"
      ]
     },
     "execution_count": 42,
     "metadata": {},
     "output_type": "execute_result"
    }
   ],
   "source": [
    "flexbook_ds.keys()"
   ]
  },
  {
   "cell_type": "code",
   "execution_count": 44,
   "metadata": {
    "collapsed": false,
    "hidden": true,
    "run_control": {
     "frozen": false,
     "read_only": false
    }
   },
   "outputs": [],
   "source": [
    "build_website_lessons = [list(lesson.keys()) for lesson in lessons_ds.values()]\n",
    "website_lessons= sorted([item for sublist in build_website_lessons for item in sublist])\n",
    "\n",
    "build_flexbook_lessons = [list(lesson.keys()) for lesson in flexbook_ds.values()]\n",
    "flexbook_lessons= [item for sublist in build_flexbook_lessons for item in sublist]\n",
    "flexbook_lessons = sorted([lesson.split(maxsplit=1)[1].strip().lower() for lesson in flexbook_lessons])\n",
    "fbls = set(flexbook_lessons)\n",
    "wsls = set(website_lessons)"
   ]
  },
  {
   "cell_type": "code",
   "execution_count": 45,
   "metadata": {
    "collapsed": false,
    "hidden": true,
    "run_control": {
     "frozen": false,
     "read_only": false
    }
   },
   "outputs": [
    {
     "data": {
      "text/plain": [
       "247"
      ]
     },
     "execution_count": 45,
     "metadata": {},
     "output_type": "execute_result"
    }
   ],
   "source": [
    "len(flexbook_lessons)"
   ]
  },
  {
   "cell_type": "code",
   "execution_count": 46,
   "metadata": {
    "collapsed": false,
    "hidden": true,
    "run_control": {
     "frozen": false,
     "read_only": false
    }
   },
   "outputs": [
    {
     "name": "stdout",
     "output_type": "stream",
     "text": [
      "247\n",
      "243\n"
     ]
    }
   ],
   "source": [
    "print(len(flexbook_lessons))\n",
    "print(len(set(flexbook_lessons)))"
   ]
  },
  {
   "cell_type": "code",
   "execution_count": 47,
   "metadata": {
    "collapsed": false,
    "hidden": true,
    "run_control": {
     "frozen": false,
     "read_only": false
    }
   },
   "outputs": [
    {
     "name": "stdout",
     "output_type": "stream",
     "text": [
      "829\n",
      "829\n"
     ]
    }
   ],
   "source": [
    "print(len(website_lessons))\n",
    "print(len(set(website_lessons)))"
   ]
  },
  {
   "cell_type": "code",
   "execution_count": 48,
   "metadata": {
    "collapsed": false,
    "hidden": true,
    "run_control": {
     "frozen": false,
     "read_only": false
    }
   },
   "outputs": [
    {
     "data": {
      "text/plain": [
       "1024"
      ]
     },
     "execution_count": 48,
     "metadata": {},
     "output_type": "execute_result"
    }
   ],
   "source": [
    "len(set(website_lessons).union(set(flexbook_lessons)))"
   ]
  },
  {
   "cell_type": "code",
   "execution_count": null,
   "metadata": {
    "collapsed": true,
    "hidden": true,
    "run_control": {
     "frozen": false,
     "read_only": false
    }
   },
   "outputs": [],
   "source": []
  },
  {
   "cell_type": "code",
   "execution_count": null,
   "metadata": {
    "collapsed": true,
    "hidden": true,
    "run_control": {
     "frozen": false,
     "read_only": false
    }
   },
   "outputs": [],
   "source": []
  },
  {
   "cell_type": "code",
   "execution_count": null,
   "metadata": {
    "collapsed": true,
    "hidden": true,
    "run_control": {
     "frozen": false,
     "read_only": false
    }
   },
   "outputs": [],
   "source": []
  },
  {
   "cell_type": "code",
   "execution_count": null,
   "metadata": {
    "collapsed": true,
    "hidden": true,
    "run_control": {
     "frozen": false,
     "read_only": false
    }
   },
   "outputs": [],
   "source": []
  },
  {
   "cell_type": "code",
   "execution_count": null,
   "metadata": {
    "collapsed": true,
    "hidden": true,
    "run_control": {
     "frozen": false,
     "read_only": false
    }
   },
   "outputs": [],
   "source": []
  },
  {
   "cell_type": "markdown",
   "metadata": {
    "heading_collapsed": true
   },
   "source": [
    "# End"
   ]
  },
  {
   "cell_type": "code",
   "execution_count": 1081,
   "metadata": {
    "collapsed": true,
    "hidden": true,
    "run_control": {
     "frozen": false,
     "read_only": false
    }
   },
   "outputs": [],
   "source": [
    "line_split = re.compile(r'[?.]')\n",
    "\n",
    "from pygments import highlight\n",
    "from pygments.lexers import diff as difflex\n",
    "from pygments.formatters import HtmlFormatter\n",
    "\n",
    "from IPython.core.display import HTML\n",
    "\n",
    "display(HTML(\"\"\"\n",
    "<style>\n",
    "{pygments_css}\n",
    "</style>\n",
    "\"\"\".format(pygments_css=HtmlFormatter().get_style_defs('.highlight'))))\n",
    "display(HTML(data=highlight(, difflex(), HtmlFormatter())))\n",
    "\n",
    "diff = difflib.context_diff(line_split.split(orig_text), line_split.split(corrected_text))\n",
    "diff\n",
    "\n",
    "import pygments\n",
    "\n",
    "pygments.\n",
    "\n",
    "pygments.pygmentize -f html -O full,style=trac -l diff -o last.diff.html last.diff\n",
    "\n",
    "diff.make_file(fromline\n",
    "\n",
    "d = difflib.Differ()\n",
    "diff = d.compare(line_split.split(orig_text), line_split.split(corrected_text))\n",
    "print('\\n'.join(diff))"
   ]
  },
  {
   "cell_type": "code",
   "execution_count": 1827,
   "metadata": {
    "collapsed": false,
    "hidden": true,
    "run_control": {
     "frozen": false,
     "read_only": false
    }
   },
   "outputs": [
    {
     "data": {
      "text/plain": [
       "'cancel'"
      ]
     },
     "execution_count": 1827,
     "metadata": {},
     "output_type": "execute_result"
    }
   ],
   "source": [
    "tt = 'cacncal'\n",
    "suggested_replacements = edict.suggest(tt)\n",
    "correct_spelling_error(tt, suggested_replacements)\n",
    "\n",
    "orig_text = []\n",
    "replaced_text = []\n",
    "for subject, flexbook in ck12_combined_dataset.items():\n",
    "    for lesson_name, lesson in flexbook.items():\n",
    "        if lesson['questions']['diagramQuestions']:\n",
    "            for qid, question in lesson['questions']['diagramQuestions'].items():\n",
    "                ot = question['beingAsked']['rawText']\n",
    "                errors = gram_checker.check(ot)\n",
    "                if errors:\n",
    "                    orig_text.append(ot)\n",
    "                    replaced_text.append(gram_checker.correct(desc_text))"
   ]
  },
  {
   "cell_type": "code",
   "execution_count": null,
   "metadata": {
    "collapsed": true,
    "hidden": true,
    "run_control": {
     "frozen": false,
     "read_only": false
    }
   },
   "outputs": [],
   "source": [
    "for subject, flexbook in ck12_combined_dataset_cleaned.items():\n",
    "    validator = jsonschema.Draft4Validator(schema)\n",
    "    for error in sorted(validator.iter_errors(flexbook), key=lambda x: x.absolute_path[0]):\n",
    "        print(error.message)\n",
    "        print(list(error.absolute_path)[:4])\n",
    "        print('\\n' * 2)"
   ]
  },
  {
   "cell_type": "code",
   "execution_count": 723,
   "metadata": {
    "collapsed": false,
    "hidden": true,
    "run_control": {
     "frozen": false,
     "read_only": false
    }
   },
   "outputs": [],
   "source": [
    "build_spelling_lookup = defaultdict(list)\n",
    "for word in ck_12_corp:\n",
    "    start_letter = word[0]\n",
    "    if start_letter in string.ascii_letters:\n",
    "        build_spelling_lookup[start_letter].append(word)"
   ]
  },
  {
   "cell_type": "code",
   "execution_count": 724,
   "metadata": {
    "collapsed": true,
    "hidden": true,
    "run_control": {
     "frozen": false,
     "read_only": false
    }
   },
   "outputs": [],
   "source": [
    "spelling_lookup = {starting_letter: sorted(words) for starting_letter, words in build_spelling_lookup.items()}"
   ]
  },
  {
   "cell_type": "code",
   "execution_count": 925,
   "metadata": {
    "collapsed": false,
    "hidden": true,
    "run_control": {
     "frozen": false,
     "read_only": false
    },
    "scrolled": true
   },
   "outputs": [],
   "source": [
    "def try_splitting(tw):\n",
    "    for idx in range(len(tw)):\n",
    "        sp1, sp2 = tw[:idx], tw[idx:]\n",
    "        if not (check_mispelled(sp1) or check_mispelled(sp2)) and len(sp1) > 3 and len(sp2) > 3:\n",
    "            return sp1, sp2\n",
    "    return None"
   ]
  }
 ],
 "metadata": {
  "kernelspec": {
   "display_name": "Python 3",
   "language": "python",
   "name": "python3"
  },
  "language_info": {
   "codemirror_mode": {
    "name": "ipython",
    "version": 3
   },
   "file_extension": ".py",
   "mimetype": "text/x-python",
   "name": "python",
   "nbconvert_exporter": "python",
   "pygments_lexer": "ipython3",
   "version": "3.5.2"
  }
 },
 "nbformat": 4,
 "nbformat_minor": 1
}
