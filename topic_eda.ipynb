{
 "cells": [
  {
   "cell_type": "markdown",
   "metadata": {},
   "source": [
    "# Exploring textbooks questions"
   ]
  },
  {
   "cell_type": "markdown",
   "metadata": {},
   "source": [
    "## imports"
   ]
  },
  {
   "cell_type": "code",
   "execution_count": 1,
   "metadata": {
    "collapsed": true,
    "run_control": {
     "frozen": false,
     "read_only": false
    }
   },
   "outputs": [],
   "source": [
    "%%capture\n",
    "from __future__ import division\n",
    "import numpy as np\n",
    "import pandas as pd\n",
    "import scipy.stats as st\n",
    "import itertools\n",
    "import math\n",
    "from collections import Counter, defaultdict\n",
    "%load_ext autoreload\n",
    "%autoreload 2"
   ]
  },
  {
   "cell_type": "code",
   "execution_count": 2,
   "metadata": {
    "collapsed": false,
    "run_control": {
     "frozen": false,
     "read_only": false
    }
   },
   "outputs": [],
   "source": [
    "%%capture\n",
    "import matplotlib as mpl\n",
    "mpl.use(\"Agg\")\n",
    "import matplotlib.pylab as plt\n",
    "#%matplotlib notebook\n",
    "%matplotlib inline\n",
    "%load_ext base16_mplrc\n",
    "%base16_mplrc light default\n",
    "plt.rcParams['figure.figsize'] = (16.0, 10.0)"
   ]
  },
  {
   "cell_type": "code",
   "execution_count": 5,
   "metadata": {
    "collapsed": false,
    "run_control": {
     "frozen": false,
     "read_only": false
    }
   },
   "outputs": [],
   "source": [
    "import pdfextraction.amt_boto_modules as amt"
   ]
  },
  {
   "cell_type": "markdown",
   "metadata": {},
   "source": [
    "## Setting up paths and loading data"
   ]
  },
  {
   "cell_type": "code",
   "execution_count": 7,
   "metadata": {
    "collapsed": true,
    "run_control": {
     "frozen": false,
     "read_only": false
    }
   },
   "outputs": [],
   "source": [
    "# data_pickled_dir = './store_hit_results_metadata/question_anno/group_latest_combined/' \n",
    "data_pickled_dir = './store_hit_results_metadata/group_latest_combined/' "
   ]
  },
  {
   "cell_type": "code",
   "execution_count": 33,
   "metadata": {
    "collapsed": true,
    "run_control": {
     "frozen": false,
     "read_only": false
    }
   },
   "outputs": [],
   "source": [
    "base_path = 'ai2-vision-turk-data/textbook-annotation-test/labeled-questions/'\n",
    "test_path = 'ai2-vision-turk-data/textbook-annotation-test/hierarchy-ext-test/'"
   ]
  },
  {
   "cell_type": "code",
   "execution_count": 34,
   "metadata": {
    "collapsed": false,
    "run_control": {
     "frozen": false,
     "read_only": false
    }
   },
   "outputs": [],
   "source": [
    "combined_results_df = pd.read_pickle(data_pickled_dir + 'complete_df.pkl')\n",
    "combined_consensus_df = pd.read_pickle(data_pickled_dir + 'consensus_df.pkl')\n",
    "# combined_consensus_with_workerid_df = pd.read_pickle(data_pickled_dir + 'consensus_df_w_workers.pkl') "
   ]
  },
  {
   "cell_type": "markdown",
   "metadata": {
    "collapsed": true,
    "run_control": {
     "frozen": false,
     "read_only": false
    }
   },
   "source": [
    "1) question type hist\n",
    "\n",
    "2) what cats turkers do well on \n",
    "\n",
    "3) total questions "
   ]
  },
  {
   "cell_type": "code",
   "execution_count": 11,
   "metadata": {
    "collapsed": false,
    "run_control": {
     "frozen": false,
     "read_only": false
    }
   },
   "outputs": [],
   "source": [
    "# book_breakdowns, page_ranges = amt.load_book_info()"
   ]
  },
  {
   "cell_type": "code",
   "execution_count": 27,
   "metadata": {
    "collapsed": true
   },
   "outputs": [
    {
     "data": {
      "text/plain": [
       "0         unlabeled\n",
       "1      Figure Label\n",
       "2         unlabeled\n",
       "3      Figure Label\n",
       "4      Figure Label\n",
       "5          Question\n",
       "6          Question\n",
       "7          Question\n",
       "8          Question\n",
       "9          Question\n",
       "10         Question\n",
       "11        unlabeled\n",
       "12        unlabeled\n",
       "13        unlabeled\n",
       "14        unlabeled\n",
       "15     Header/Topic\n",
       "16        unlabeled\n",
       "17       Discussion\n",
       "18        unlabeled\n",
       "19        unlabeled\n",
       "20        unlabeled\n",
       "21        unlabeled\n",
       "22        unlabeled\n",
       "23         Question\n",
       "24         Question\n",
       "25        unlabeled\n",
       "26        unlabeled\n",
       "27        unlabeled\n",
       "28        unlabeled\n",
       "29        unlabeled\n",
       "           ...     \n",
       "411       unlabeled\n",
       "412       unlabeled\n",
       "413      Discussion\n",
       "414       unlabeled\n",
       "415      Definition\n",
       "416       unlabeled\n",
       "417        Question\n",
       "418        Question\n",
       "419        Question\n",
       "420        Question\n",
       "421        Question\n",
       "422        Question\n",
       "423        Question\n",
       "424        Question\n",
       "425        Question\n",
       "426        Question\n",
       "427       unlabeled\n",
       "428        Question\n",
       "429        Question\n",
       "430       unlabeled\n",
       "431       unlabeled\n",
       "432       unlabeled\n",
       "433       unlabeled\n",
       "434       unlabeled\n",
       "435    Header/Topic\n",
       "436       unlabeled\n",
       "437       unlabeled\n",
       "438      Discussion\n",
       "439       unlabeled\n",
       "440        Question\n",
       "Name: category, dtype: object"
      ]
     },
     "execution_count": 27,
     "metadata": {},
     "output_type": "execute_result"
    }
   ],
   "source": [
    "combined_consensus_df['category']"
   ]
  },
  {
   "cell_type": "code",
   "execution_count": 31,
   "metadata": {
    "collapsed": false
   },
   "outputs": [],
   "source": [
    "topic_df = combined_consensus_df [combined_consensus_df['category'] == 'Header/Topic']"
   ]
  },
  {
   "cell_type": "code",
   "execution_count": 32,
   "metadata": {
    "collapsed": true
   },
   "outputs": [
    {
     "data": {
      "text/html": [
       "<div>\n",
       "<table border=\"1\" class=\"dataframe\">\n",
       "  <thead>\n",
       "    <tr style=\"text-align: right;\">\n",
       "      <th></th>\n",
       "      <th>page</th>\n",
       "      <th>box_id</th>\n",
       "      <th>category</th>\n",
       "      <th>hit_id</th>\n",
       "    </tr>\n",
       "  </thead>\n",
       "  <tbody>\n",
       "    <tr>\n",
       "      <th>15</th>\n",
       "      <td>Daily_Science_Grade_3_(Daily_Practice_Books)_E...</td>\n",
       "      <td>T4</td>\n",
       "      <td>Header/Topic</td>\n",
       "      <td>3ZRKL6Z1E843IXDTRVRMMHH6KTQSGV</td>\n",
       "    </tr>\n",
       "    <tr>\n",
       "      <th>30</th>\n",
       "      <td>Daily_Science_Grade_3_(Daily_Practice_Books)_E...</td>\n",
       "      <td>T4</td>\n",
       "      <td>Header/Topic</td>\n",
       "      <td>3RKHNXPHGWXOZW1G6R71ZARNC7TKU7</td>\n",
       "    </tr>\n",
       "    <tr>\n",
       "      <th>45</th>\n",
       "      <td>Daily_Science_Grade_3_(Daily_Practice_Books)_E...</td>\n",
       "      <td>T4</td>\n",
       "      <td>Header/Topic</td>\n",
       "      <td>3JVP4ZJHDPTHDFZC8H85XNO34E0I0R</td>\n",
       "    </tr>\n",
       "    <tr>\n",
       "      <th>68</th>\n",
       "      <td>Daily_Science_Grade_3_(Daily_Practice_Books)_E...</td>\n",
       "      <td>T4</td>\n",
       "      <td>Header/Topic</td>\n",
       "      <td>324N5FAHSXCOCBQGBHH6VWT6QE2KVW</td>\n",
       "    </tr>\n",
       "    <tr>\n",
       "      <th>85</th>\n",
       "      <td>Daily_Science_Grade_3_(Daily_Practice_Books)_E...</td>\n",
       "      <td>T2</td>\n",
       "      <td>Header/Topic</td>\n",
       "      <td>3GITHABACYMGNQDHKKPBLJDZNBE2NB</td>\n",
       "    </tr>\n",
       "    <tr>\n",
       "      <th>90</th>\n",
       "      <td>Daily_Science_Grade_3_(Daily_Practice_Books)_E...</td>\n",
       "      <td>T4</td>\n",
       "      <td>Header/Topic</td>\n",
       "      <td>3GITHABACYMGNQDHKKPBLJDZNBE2NB</td>\n",
       "    </tr>\n",
       "    <tr>\n",
       "      <th>118</th>\n",
       "      <td>Daily_Science_Grade_3_(Daily_Practice_Books)_E...</td>\n",
       "      <td>T6</td>\n",
       "      <td>Header/Topic</td>\n",
       "      <td>3O2Y2UIUCQVZGE4QB2C2DAQK2KEFK3</td>\n",
       "    </tr>\n",
       "    <tr>\n",
       "      <th>139</th>\n",
       "      <td>Daily_Science_Grade_3_(Daily_Practice_Books)_E...</td>\n",
       "      <td>T4</td>\n",
       "      <td>Header/Topic</td>\n",
       "      <td>3TL87MO8CMQA0KM8W2O3SA3ZRKJFL6</td>\n",
       "    </tr>\n",
       "    <tr>\n",
       "      <th>176</th>\n",
       "      <td>Daily_Science_Grade_3_(Daily_Practice_Books)_E...</td>\n",
       "      <td>T6</td>\n",
       "      <td>Header/Topic</td>\n",
       "      <td>3GVPRXWRPHVVVQZWTGTEC2YQCS67IG</td>\n",
       "    </tr>\n",
       "    <tr>\n",
       "      <th>198</th>\n",
       "      <td>Daily_Science_Grade_3_(Daily_Practice_Books)_E...</td>\n",
       "      <td>T6</td>\n",
       "      <td>Header/Topic</td>\n",
       "      <td>3G9UA71JVVVRQ1J2BYEEO3DQP7V7JS</td>\n",
       "    </tr>\n",
       "    <tr>\n",
       "      <th>235</th>\n",
       "      <td>Daily_Science_Grade_3_(Daily_Practice_Books)_E...</td>\n",
       "      <td>T7</td>\n",
       "      <td>Header/Topic</td>\n",
       "      <td>3YD0MU1NC22GP8GYHS11V4A7ZK1A7F</td>\n",
       "    </tr>\n",
       "    <tr>\n",
       "      <th>246</th>\n",
       "      <td>Daily_Science_Grade_3_(Daily_Practice_Books)_E...</td>\n",
       "      <td>T4</td>\n",
       "      <td>Header/Topic</td>\n",
       "      <td>3PR3LXCWSF0WZ4CK7ZRZT8CBVVXX9H</td>\n",
       "    </tr>\n",
       "    <tr>\n",
       "      <th>262</th>\n",
       "      <td>Daily_Science_Grade_3_(Daily_Practice_Books)_E...</td>\n",
       "      <td>T19</td>\n",
       "      <td>Header/Topic</td>\n",
       "      <td>34O39PNDK69VQ155WKZ3VWLDIEFBR9</td>\n",
       "    </tr>\n",
       "    <tr>\n",
       "      <th>271</th>\n",
       "      <td>Daily_Science_Grade_3_(Daily_Practice_Books)_E...</td>\n",
       "      <td>T4</td>\n",
       "      <td>Header/Topic</td>\n",
       "      <td>34O39PNDK69VQ155WKZ3VWLDIEFBR9</td>\n",
       "    </tr>\n",
       "    <tr>\n",
       "      <th>302</th>\n",
       "      <td>Daily_Science_Grade_3_(Daily_Practice_Books)_E...</td>\n",
       "      <td>T13</td>\n",
       "      <td>Header/Topic</td>\n",
       "      <td>3B0MCRZMBRVCIIQ02XDFLLQNY06PPG</td>\n",
       "    </tr>\n",
       "    <tr>\n",
       "      <th>306</th>\n",
       "      <td>Daily_Science_Grade_3_(Daily_Practice_Books)_E...</td>\n",
       "      <td>T17</td>\n",
       "      <td>Header/Topic</td>\n",
       "      <td>3B0MCRZMBRVCIIQ02XDFLLQNY06PPG</td>\n",
       "    </tr>\n",
       "    <tr>\n",
       "      <th>309</th>\n",
       "      <td>Daily_Science_Grade_3_(Daily_Practice_Books)_E...</td>\n",
       "      <td>T2</td>\n",
       "      <td>Header/Topic</td>\n",
       "      <td>3B0MCRZMBRVCIIQ02XDFLLQNY06PPG</td>\n",
       "    </tr>\n",
       "    <tr>\n",
       "      <th>312</th>\n",
       "      <td>Daily_Science_Grade_3_(Daily_Practice_Books)_E...</td>\n",
       "      <td>T22</td>\n",
       "      <td>Header/Topic</td>\n",
       "      <td>3B0MCRZMBRVCIIQ02XDFLLQNY06PPG</td>\n",
       "    </tr>\n",
       "    <tr>\n",
       "      <th>314</th>\n",
       "      <td>Daily_Science_Grade_3_(Daily_Practice_Books)_E...</td>\n",
       "      <td>T24</td>\n",
       "      <td>Header/Topic</td>\n",
       "      <td>3B0MCRZMBRVCIIQ02XDFLLQNY06PPG</td>\n",
       "    </tr>\n",
       "    <tr>\n",
       "      <th>326</th>\n",
       "      <td>Daily_Science_Grade_3_(Daily_Practice_Books)_E...</td>\n",
       "      <td>T8</td>\n",
       "      <td>Header/Topic</td>\n",
       "      <td>3B0MCRZMBRVCIIQ02XDFLLQNY06PPG</td>\n",
       "    </tr>\n",
       "    <tr>\n",
       "      <th>339</th>\n",
       "      <td>Daily_Science_Grade_3_(Daily_Practice_Books)_E...</td>\n",
       "      <td>T2</td>\n",
       "      <td>Header/Topic</td>\n",
       "      <td>3CVDZS288H1U624TWEPISNIORP9FM8</td>\n",
       "    </tr>\n",
       "    <tr>\n",
       "      <th>368</th>\n",
       "      <td>Daily_Science_Grade_3_(Daily_Practice_Books)_E...</td>\n",
       "      <td>T4</td>\n",
       "      <td>Header/Topic</td>\n",
       "      <td>38G0E1M85M62F7VS5VL81J24S5ZUV2</td>\n",
       "    </tr>\n",
       "    <tr>\n",
       "      <th>406</th>\n",
       "      <td>Daily_Science_Grade_3_(Daily_Practice_Books)_E...</td>\n",
       "      <td>T4</td>\n",
       "      <td>Header/Topic</td>\n",
       "      <td>3IH9TRB0FB0HK4KU40C5BS7D966I1U</td>\n",
       "    </tr>\n",
       "    <tr>\n",
       "      <th>433</th>\n",
       "      <td>Daily_Science_Grade_3_(Daily_Practice_Books)_E...</td>\n",
       "      <td>T4</td>\n",
       "      <td>Header/Topic</td>\n",
       "      <td>3TX9T2ZCB92WGVP71SPC4D0X1WGZW6</td>\n",
       "    </tr>\n",
       "    <tr>\n",
       "      <th>452</th>\n",
       "      <td>Daily_Science_Grade_3_(Daily_Practice_Books)_E...</td>\n",
       "      <td>T4</td>\n",
       "      <td>Header/Topic</td>\n",
       "      <td>3LAZVA75NISY5BDTLZPO08D4DLJ2OQ</td>\n",
       "    </tr>\n",
       "    <tr>\n",
       "      <th>476</th>\n",
       "      <td>Daily_Science_Grade_3_(Daily_Practice_Books)_E...</td>\n",
       "      <td>T4</td>\n",
       "      <td>Header/Topic</td>\n",
       "      <td>3PCPFX4U40RLRH2LO7WZ9W2T1Q6QF6</td>\n",
       "    </tr>\n",
       "    <tr>\n",
       "      <th>505</th>\n",
       "      <td>Daily_Science_Grade_3_(Daily_Practice_Books)_E...</td>\n",
       "      <td>T4</td>\n",
       "      <td>Header/Topic</td>\n",
       "      <td>3M0556243SL0OKPT8F4I527OWFJFN8</td>\n",
       "    </tr>\n",
       "    <tr>\n",
       "      <th>531</th>\n",
       "      <td>Daily_Science_Grade_3_(Daily_Practice_Books)_E...</td>\n",
       "      <td>T4</td>\n",
       "      <td>Header/Topic</td>\n",
       "      <td>3UEDKCTP9VRM1LPKTJEQPID34WV7KR</td>\n",
       "    </tr>\n",
       "    <tr>\n",
       "      <th>550</th>\n",
       "      <td>Daily_Science_Grade_3_(Daily_Practice_Books)_E...</td>\n",
       "      <td>T4</td>\n",
       "      <td>Header/Topic</td>\n",
       "      <td>3RIHDBQ1NEZEKYVZR4DIV8U174LHM7</td>\n",
       "    </tr>\n",
       "    <tr>\n",
       "      <th>568</th>\n",
       "      <td>Daily_Science_Grade_3_(Daily_Practice_Books)_E...</td>\n",
       "      <td>T4</td>\n",
       "      <td>Header/Topic</td>\n",
       "      <td>3ZXNP4Z39RMXLR72EJQR4IQITW07LU</td>\n",
       "    </tr>\n",
       "    <tr>\n",
       "      <th>...</th>\n",
       "      <td>...</td>\n",
       "      <td>...</td>\n",
       "      <td>...</td>\n",
       "      <td>...</td>\n",
       "    </tr>\n",
       "    <tr>\n",
       "      <th>34258</th>\n",
       "      <td>Spectrum_Science_Grade_8_89.jpeg</td>\n",
       "      <td>T2</td>\n",
       "      <td>Header/Topic</td>\n",
       "      <td>32TMVRKDGNZ5NX50IWJGW1K2IVY84E</td>\n",
       "    </tr>\n",
       "    <tr>\n",
       "      <th>34266</th>\n",
       "      <td>Spectrum_Science_Grade_8_9.jpeg</td>\n",
       "      <td>T1</td>\n",
       "      <td>Header/Topic</td>\n",
       "      <td>3PCPFX4U40RLRH2LO7WZ9W2T1RTQFV</td>\n",
       "    </tr>\n",
       "    <tr>\n",
       "      <th>34301</th>\n",
       "      <td>Spectrum_Science_Grade_8_91.jpeg</td>\n",
       "      <td>T2</td>\n",
       "      <td>Header/Topic</td>\n",
       "      <td>36JW4WBR06L8EO3I5H950IASA4XFHO</td>\n",
       "    </tr>\n",
       "    <tr>\n",
       "      <th>34335</th>\n",
       "      <td>Spectrum_Science_Grade_8_93.jpeg</td>\n",
       "      <td>T1</td>\n",
       "      <td>Header/Topic</td>\n",
       "      <td>371Q3BEXDHA39E8YHNFB7OXCVK8SZA</td>\n",
       "    </tr>\n",
       "    <tr>\n",
       "      <th>34347</th>\n",
       "      <td>Spectrum_Science_Grade_8_93.jpeg</td>\n",
       "      <td>T4</td>\n",
       "      <td>Header/Topic</td>\n",
       "      <td>371Q3BEXDHA39E8YHNFB7OXCVK8SZA</td>\n",
       "    </tr>\n",
       "    <tr>\n",
       "      <th>34371</th>\n",
       "      <td>Spectrum_Science_Grade_8_95.jpeg</td>\n",
       "      <td>T1</td>\n",
       "      <td>Header/Topic</td>\n",
       "      <td>34F34TZU7W0K40MW5MXJSCWIESW2JW</td>\n",
       "    </tr>\n",
       "    <tr>\n",
       "      <th>34421</th>\n",
       "      <td>Spectrum_Science_Grade_8_97.jpeg</td>\n",
       "      <td>T1</td>\n",
       "      <td>Header/Topic</td>\n",
       "      <td>38F60IALAGI7MTFN2T79BUQCFW3T08</td>\n",
       "    </tr>\n",
       "    <tr>\n",
       "      <th>34481</th>\n",
       "      <td>Spectrum_Science_Grade_8_99.jpeg</td>\n",
       "      <td>T2</td>\n",
       "      <td>Header/Topic</td>\n",
       "      <td>3IKMEYR0LWWFFKSEN7XVTRWVTHW2KV</td>\n",
       "    </tr>\n",
       "    <tr>\n",
       "      <th>28</th>\n",
       "      <td>Daily_Science_Grade_1_Evan_Moor_104.jpeg</td>\n",
       "      <td>T4</td>\n",
       "      <td>Header/Topic</td>\n",
       "      <td>31HLTCK4BLWJAPUXLQWRX41DJX6VGP</td>\n",
       "    </tr>\n",
       "    <tr>\n",
       "      <th>30</th>\n",
       "      <td>Daily_Science_Grade_1_Evan_Moor_104.jpeg</td>\n",
       "      <td>T6</td>\n",
       "      <td>Header/Topic</td>\n",
       "      <td>31HLTCK4BLWJAPUXLQWRX41DJX6VGP</td>\n",
       "    </tr>\n",
       "    <tr>\n",
       "      <th>55</th>\n",
       "      <td>Daily_Science_Grade_1_Evan_Moor_20.jpeg</td>\n",
       "      <td>T4</td>\n",
       "      <td>Header/Topic</td>\n",
       "      <td>363A7XIFV4NI0YHUZQ4H1IQAL2TVAD</td>\n",
       "    </tr>\n",
       "    <tr>\n",
       "      <th>78</th>\n",
       "      <td>Daily_Science_Grade_1_Evan_Moor_61.jpeg</td>\n",
       "      <td>T4</td>\n",
       "      <td>Header/Topic</td>\n",
       "      <td>33QQ60S6ASJMM6UC2YXJGQCEY990U3</td>\n",
       "    </tr>\n",
       "    <tr>\n",
       "      <th>95</th>\n",
       "      <td>Daily_Science_Grade_1_Evan_Moor_9.jpeg</td>\n",
       "      <td>T2</td>\n",
       "      <td>Header/Topic</td>\n",
       "      <td>3FCO4VKOZ4EJFLXAXX3NRN0YKZK7ES</td>\n",
       "    </tr>\n",
       "    <tr>\n",
       "      <th>117</th>\n",
       "      <td>Daily_Science_Grade_3_(Daily_Practice_Books)_E...</td>\n",
       "      <td>T4</td>\n",
       "      <td>Header/Topic</td>\n",
       "      <td>3MA5N0ATTCC1R0QL1RM2HYCKXN4KW6</td>\n",
       "    </tr>\n",
       "    <tr>\n",
       "      <th>119</th>\n",
       "      <td>Daily_Science_Grade_3_(Daily_Practice_Books)_E...</td>\n",
       "      <td>T6</td>\n",
       "      <td>Header/Topic</td>\n",
       "      <td>3MA5N0ATTCC1R0QL1RM2HYCKXN4KW6</td>\n",
       "    </tr>\n",
       "    <tr>\n",
       "      <th>143</th>\n",
       "      <td>Daily_Science_Grade_4_Evan_Moor_130.jpeg</td>\n",
       "      <td>T7</td>\n",
       "      <td>Header/Topic</td>\n",
       "      <td>3HEADTGN2PTAZF3B11Q3W8FKL6WVR0</td>\n",
       "    </tr>\n",
       "    <tr>\n",
       "      <th>166</th>\n",
       "      <td>Daily_Science_Grade_4_Evan_Moor_171.jpeg</td>\n",
       "      <td>T4</td>\n",
       "      <td>Header/Topic</td>\n",
       "      <td>389A2A304OJQ0CDCG7CJMKQ8R9G0C7</td>\n",
       "    </tr>\n",
       "    <tr>\n",
       "      <th>197</th>\n",
       "      <td>Daily_Science_Grade_4_Evan_Moor_93.jpeg</td>\n",
       "      <td>T4</td>\n",
       "      <td>Header/Topic</td>\n",
       "      <td>3IHWR4LC7DEZV44F3LLKQ2ULNCCI8E</td>\n",
       "    </tr>\n",
       "    <tr>\n",
       "      <th>231</th>\n",
       "      <td>Daily_Science_Grade_5_Evan_Moor_124.jpeg</td>\n",
       "      <td>T4</td>\n",
       "      <td>Header/Topic</td>\n",
       "      <td>35A1YQPVFEHG8MLD5NEHEIKULMB5IZ</td>\n",
       "    </tr>\n",
       "    <tr>\n",
       "      <th>253</th>\n",
       "      <td>Daily_Science_Grade_5_Evan_Moor_178.jpeg</td>\n",
       "      <td>T4</td>\n",
       "      <td>Header/Topic</td>\n",
       "      <td>3VDVA3ILIDG3ODEZECC2QGUXUTEG10</td>\n",
       "    </tr>\n",
       "    <tr>\n",
       "      <th>275</th>\n",
       "      <td>Daily_Science_Grade_5_Evan_Moor_23.jpeg</td>\n",
       "      <td>T4</td>\n",
       "      <td>Header/Topic</td>\n",
       "      <td>3Z3R5YC0P3OYJXUD5BQUE1DGLX5FT9</td>\n",
       "    </tr>\n",
       "    <tr>\n",
       "      <th>286</th>\n",
       "      <td>Daily_Science_Grade_5_Evan_Moor_38.jpeg</td>\n",
       "      <td>T14</td>\n",
       "      <td>Header/Topic</td>\n",
       "      <td>304QEQWKZPLR91AF6CLAHKKPGNZO0S</td>\n",
       "    </tr>\n",
       "    <tr>\n",
       "      <th>292</th>\n",
       "      <td>Daily_Science_Grade_5_Evan_Moor_38.jpeg</td>\n",
       "      <td>T2</td>\n",
       "      <td>Header/Topic</td>\n",
       "      <td>304QEQWKZPLR91AF6CLAHKKPGNZO0S</td>\n",
       "    </tr>\n",
       "    <tr>\n",
       "      <th>294</th>\n",
       "      <td>Daily_Science_Grade_5_Evan_Moor_38.jpeg</td>\n",
       "      <td>T3</td>\n",
       "      <td>Header/Topic</td>\n",
       "      <td>304QEQWKZPLR91AF6CLAHKKPGNZO0S</td>\n",
       "    </tr>\n",
       "    <tr>\n",
       "      <th>299</th>\n",
       "      <td>Daily_Science_Grade_5_Evan_Moor_38.jpeg</td>\n",
       "      <td>T8</td>\n",
       "      <td>Header/Topic</td>\n",
       "      <td>304QEQWKZPLR91AF6CLAHKKPGNZO0S</td>\n",
       "    </tr>\n",
       "    <tr>\n",
       "      <th>328</th>\n",
       "      <td>Daily_Science_Grade_5_Evan_Moor_40.jpeg</td>\n",
       "      <td>T4</td>\n",
       "      <td>Header/Topic</td>\n",
       "      <td>31ODACBENUGUVM77URWYGVL8QG0QSP</td>\n",
       "    </tr>\n",
       "    <tr>\n",
       "      <th>361</th>\n",
       "      <td>Daily_Science_Grade_5_Evan_Moor_63.jpeg</td>\n",
       "      <td>T4</td>\n",
       "      <td>Header/Topic</td>\n",
       "      <td>30P8I9JKOIMLUS5D4UD0T7AOTO6V5L</td>\n",
       "    </tr>\n",
       "    <tr>\n",
       "      <th>388</th>\n",
       "      <td>Daily_Science_Grade_5_Evan_Moor_89.jpeg</td>\n",
       "      <td>T7</td>\n",
       "      <td>Header/Topic</td>\n",
       "      <td>386T3MLZLNWOO9NZZVWEKYUP1IV809</td>\n",
       "    </tr>\n",
       "    <tr>\n",
       "      <th>410</th>\n",
       "      <td>Daily_Science_Grade_6_(Daily_Practice_Books)_E...</td>\n",
       "      <td>T4</td>\n",
       "      <td>Header/Topic</td>\n",
       "      <td>3EQVJH0T40MIXTLJ01EUHMPT1CITHL</td>\n",
       "    </tr>\n",
       "    <tr>\n",
       "      <th>435</th>\n",
       "      <td>Daily_Science_Grade_6_(Daily_Practice_Books)_E...</td>\n",
       "      <td>T4</td>\n",
       "      <td>Header/Topic</td>\n",
       "      <td>3MYASTQBG7COTXOPX119LWZ8PDQDQI</td>\n",
       "    </tr>\n",
       "  </tbody>\n",
       "</table>\n",
       "<p>1675 rows × 4 columns</p>\n",
       "</div>"
      ],
      "text/plain": [
       "                                                    page box_id      category  \\\n",
       "15     Daily_Science_Grade_3_(Daily_Practice_Books)_E...     T4  Header/Topic   \n",
       "30     Daily_Science_Grade_3_(Daily_Practice_Books)_E...     T4  Header/Topic   \n",
       "45     Daily_Science_Grade_3_(Daily_Practice_Books)_E...     T4  Header/Topic   \n",
       "68     Daily_Science_Grade_3_(Daily_Practice_Books)_E...     T4  Header/Topic   \n",
       "85     Daily_Science_Grade_3_(Daily_Practice_Books)_E...     T2  Header/Topic   \n",
       "90     Daily_Science_Grade_3_(Daily_Practice_Books)_E...     T4  Header/Topic   \n",
       "118    Daily_Science_Grade_3_(Daily_Practice_Books)_E...     T6  Header/Topic   \n",
       "139    Daily_Science_Grade_3_(Daily_Practice_Books)_E...     T4  Header/Topic   \n",
       "176    Daily_Science_Grade_3_(Daily_Practice_Books)_E...     T6  Header/Topic   \n",
       "198    Daily_Science_Grade_3_(Daily_Practice_Books)_E...     T6  Header/Topic   \n",
       "235    Daily_Science_Grade_3_(Daily_Practice_Books)_E...     T7  Header/Topic   \n",
       "246    Daily_Science_Grade_3_(Daily_Practice_Books)_E...     T4  Header/Topic   \n",
       "262    Daily_Science_Grade_3_(Daily_Practice_Books)_E...    T19  Header/Topic   \n",
       "271    Daily_Science_Grade_3_(Daily_Practice_Books)_E...     T4  Header/Topic   \n",
       "302    Daily_Science_Grade_3_(Daily_Practice_Books)_E...    T13  Header/Topic   \n",
       "306    Daily_Science_Grade_3_(Daily_Practice_Books)_E...    T17  Header/Topic   \n",
       "309    Daily_Science_Grade_3_(Daily_Practice_Books)_E...     T2  Header/Topic   \n",
       "312    Daily_Science_Grade_3_(Daily_Practice_Books)_E...    T22  Header/Topic   \n",
       "314    Daily_Science_Grade_3_(Daily_Practice_Books)_E...    T24  Header/Topic   \n",
       "326    Daily_Science_Grade_3_(Daily_Practice_Books)_E...     T8  Header/Topic   \n",
       "339    Daily_Science_Grade_3_(Daily_Practice_Books)_E...     T2  Header/Topic   \n",
       "368    Daily_Science_Grade_3_(Daily_Practice_Books)_E...     T4  Header/Topic   \n",
       "406    Daily_Science_Grade_3_(Daily_Practice_Books)_E...     T4  Header/Topic   \n",
       "433    Daily_Science_Grade_3_(Daily_Practice_Books)_E...     T4  Header/Topic   \n",
       "452    Daily_Science_Grade_3_(Daily_Practice_Books)_E...     T4  Header/Topic   \n",
       "476    Daily_Science_Grade_3_(Daily_Practice_Books)_E...     T4  Header/Topic   \n",
       "505    Daily_Science_Grade_3_(Daily_Practice_Books)_E...     T4  Header/Topic   \n",
       "531    Daily_Science_Grade_3_(Daily_Practice_Books)_E...     T4  Header/Topic   \n",
       "550    Daily_Science_Grade_3_(Daily_Practice_Books)_E...     T4  Header/Topic   \n",
       "568    Daily_Science_Grade_3_(Daily_Practice_Books)_E...     T4  Header/Topic   \n",
       "...                                                  ...    ...           ...   \n",
       "34258                   Spectrum_Science_Grade_8_89.jpeg     T2  Header/Topic   \n",
       "34266                    Spectrum_Science_Grade_8_9.jpeg     T1  Header/Topic   \n",
       "34301                   Spectrum_Science_Grade_8_91.jpeg     T2  Header/Topic   \n",
       "34335                   Spectrum_Science_Grade_8_93.jpeg     T1  Header/Topic   \n",
       "34347                   Spectrum_Science_Grade_8_93.jpeg     T4  Header/Topic   \n",
       "34371                   Spectrum_Science_Grade_8_95.jpeg     T1  Header/Topic   \n",
       "34421                   Spectrum_Science_Grade_8_97.jpeg     T1  Header/Topic   \n",
       "34481                   Spectrum_Science_Grade_8_99.jpeg     T2  Header/Topic   \n",
       "28              Daily_Science_Grade_1_Evan_Moor_104.jpeg     T4  Header/Topic   \n",
       "30              Daily_Science_Grade_1_Evan_Moor_104.jpeg     T6  Header/Topic   \n",
       "55               Daily_Science_Grade_1_Evan_Moor_20.jpeg     T4  Header/Topic   \n",
       "78               Daily_Science_Grade_1_Evan_Moor_61.jpeg     T4  Header/Topic   \n",
       "95                Daily_Science_Grade_1_Evan_Moor_9.jpeg     T2  Header/Topic   \n",
       "117    Daily_Science_Grade_3_(Daily_Practice_Books)_E...     T4  Header/Topic   \n",
       "119    Daily_Science_Grade_3_(Daily_Practice_Books)_E...     T6  Header/Topic   \n",
       "143             Daily_Science_Grade_4_Evan_Moor_130.jpeg     T7  Header/Topic   \n",
       "166             Daily_Science_Grade_4_Evan_Moor_171.jpeg     T4  Header/Topic   \n",
       "197              Daily_Science_Grade_4_Evan_Moor_93.jpeg     T4  Header/Topic   \n",
       "231             Daily_Science_Grade_5_Evan_Moor_124.jpeg     T4  Header/Topic   \n",
       "253             Daily_Science_Grade_5_Evan_Moor_178.jpeg     T4  Header/Topic   \n",
       "275              Daily_Science_Grade_5_Evan_Moor_23.jpeg     T4  Header/Topic   \n",
       "286              Daily_Science_Grade_5_Evan_Moor_38.jpeg    T14  Header/Topic   \n",
       "292              Daily_Science_Grade_5_Evan_Moor_38.jpeg     T2  Header/Topic   \n",
       "294              Daily_Science_Grade_5_Evan_Moor_38.jpeg     T3  Header/Topic   \n",
       "299              Daily_Science_Grade_5_Evan_Moor_38.jpeg     T8  Header/Topic   \n",
       "328              Daily_Science_Grade_5_Evan_Moor_40.jpeg     T4  Header/Topic   \n",
       "361              Daily_Science_Grade_5_Evan_Moor_63.jpeg     T4  Header/Topic   \n",
       "388              Daily_Science_Grade_5_Evan_Moor_89.jpeg     T7  Header/Topic   \n",
       "410    Daily_Science_Grade_6_(Daily_Practice_Books)_E...     T4  Header/Topic   \n",
       "435    Daily_Science_Grade_6_(Daily_Practice_Books)_E...     T4  Header/Topic   \n",
       "\n",
       "                               hit_id  \n",
       "15     3ZRKL6Z1E843IXDTRVRMMHH6KTQSGV  \n",
       "30     3RKHNXPHGWXOZW1G6R71ZARNC7TKU7  \n",
       "45     3JVP4ZJHDPTHDFZC8H85XNO34E0I0R  \n",
       "68     324N5FAHSXCOCBQGBHH6VWT6QE2KVW  \n",
       "85     3GITHABACYMGNQDHKKPBLJDZNBE2NB  \n",
       "90     3GITHABACYMGNQDHKKPBLJDZNBE2NB  \n",
       "118    3O2Y2UIUCQVZGE4QB2C2DAQK2KEFK3  \n",
       "139    3TL87MO8CMQA0KM8W2O3SA3ZRKJFL6  \n",
       "176    3GVPRXWRPHVVVQZWTGTEC2YQCS67IG  \n",
       "198    3G9UA71JVVVRQ1J2BYEEO3DQP7V7JS  \n",
       "235    3YD0MU1NC22GP8GYHS11V4A7ZK1A7F  \n",
       "246    3PR3LXCWSF0WZ4CK7ZRZT8CBVVXX9H  \n",
       "262    34O39PNDK69VQ155WKZ3VWLDIEFBR9  \n",
       "271    34O39PNDK69VQ155WKZ3VWLDIEFBR9  \n",
       "302    3B0MCRZMBRVCIIQ02XDFLLQNY06PPG  \n",
       "306    3B0MCRZMBRVCIIQ02XDFLLQNY06PPG  \n",
       "309    3B0MCRZMBRVCIIQ02XDFLLQNY06PPG  \n",
       "312    3B0MCRZMBRVCIIQ02XDFLLQNY06PPG  \n",
       "314    3B0MCRZMBRVCIIQ02XDFLLQNY06PPG  \n",
       "326    3B0MCRZMBRVCIIQ02XDFLLQNY06PPG  \n",
       "339    3CVDZS288H1U624TWEPISNIORP9FM8  \n",
       "368    38G0E1M85M62F7VS5VL81J24S5ZUV2  \n",
       "406    3IH9TRB0FB0HK4KU40C5BS7D966I1U  \n",
       "433    3TX9T2ZCB92WGVP71SPC4D0X1WGZW6  \n",
       "452    3LAZVA75NISY5BDTLZPO08D4DLJ2OQ  \n",
       "476    3PCPFX4U40RLRH2LO7WZ9W2T1Q6QF6  \n",
       "505    3M0556243SL0OKPT8F4I527OWFJFN8  \n",
       "531    3UEDKCTP9VRM1LPKTJEQPID34WV7KR  \n",
       "550    3RIHDBQ1NEZEKYVZR4DIV8U174LHM7  \n",
       "568    3ZXNP4Z39RMXLR72EJQR4IQITW07LU  \n",
       "...                               ...  \n",
       "34258  32TMVRKDGNZ5NX50IWJGW1K2IVY84E  \n",
       "34266  3PCPFX4U40RLRH2LO7WZ9W2T1RTQFV  \n",
       "34301  36JW4WBR06L8EO3I5H950IASA4XFHO  \n",
       "34335  371Q3BEXDHA39E8YHNFB7OXCVK8SZA  \n",
       "34347  371Q3BEXDHA39E8YHNFB7OXCVK8SZA  \n",
       "34371  34F34TZU7W0K40MW5MXJSCWIESW2JW  \n",
       "34421  38F60IALAGI7MTFN2T79BUQCFW3T08  \n",
       "34481  3IKMEYR0LWWFFKSEN7XVTRWVTHW2KV  \n",
       "28     31HLTCK4BLWJAPUXLQWRX41DJX6VGP  \n",
       "30     31HLTCK4BLWJAPUXLQWRX41DJX6VGP  \n",
       "55     363A7XIFV4NI0YHUZQ4H1IQAL2TVAD  \n",
       "78     33QQ60S6ASJMM6UC2YXJGQCEY990U3  \n",
       "95     3FCO4VKOZ4EJFLXAXX3NRN0YKZK7ES  \n",
       "117    3MA5N0ATTCC1R0QL1RM2HYCKXN4KW6  \n",
       "119    3MA5N0ATTCC1R0QL1RM2HYCKXN4KW6  \n",
       "143    3HEADTGN2PTAZF3B11Q3W8FKL6WVR0  \n",
       "166    389A2A304OJQ0CDCG7CJMKQ8R9G0C7  \n",
       "197    3IHWR4LC7DEZV44F3LLKQ2ULNCCI8E  \n",
       "231    35A1YQPVFEHG8MLD5NEHEIKULMB5IZ  \n",
       "253    3VDVA3ILIDG3ODEZECC2QGUXUTEG10  \n",
       "275    3Z3R5YC0P3OYJXUD5BQUE1DGLX5FT9  \n",
       "286    304QEQWKZPLR91AF6CLAHKKPGNZO0S  \n",
       "292    304QEQWKZPLR91AF6CLAHKKPGNZO0S  \n",
       "294    304QEQWKZPLR91AF6CLAHKKPGNZO0S  \n",
       "299    304QEQWKZPLR91AF6CLAHKKPGNZO0S  \n",
       "328    31ODACBENUGUVM77URWYGVL8QG0QSP  \n",
       "361    30P8I9JKOIMLUS5D4UD0T7AOTO6V5L  \n",
       "388    386T3MLZLNWOO9NZZVWEKYUP1IV809  \n",
       "410    3EQVJH0T40MIXTLJ01EUHMPT1CITHL  \n",
       "435    3MYASTQBG7COTXOPX119LWZ8PDQDQI  \n",
       "\n",
       "[1675 rows x 4 columns]"
      ]
     },
     "execution_count": 32,
     "metadata": {},
     "output_type": "execute_result"
    }
   ],
   "source": [
    "def write_results_df(aggregate_results_df, anno_dir, local_result_dir='newly-labeled-annotations/'):\n",
    "    local_result_path = base_path + local_result_dir\n",
    "    for page, boxes in aggregate_results_df.groupby('page'):\n",
    "        write_consensus_results(page, boxes, local_result_path, anno_dir"
   ]
  },
  {
   "cell_type": "code",
   "execution_count": null,
   "metadata": {
    "collapsed": true
   },
   "outputs": [],
   "source": []
  },
  {
   "cell_type": "code",
   "execution_count": null,
   "metadata": {
    "collapsed": true
   },
   "outputs": [],
   "source": []
  },
  {
   "cell_type": "code",
   "execution_count": null,
   "metadata": {
    "collapsed": true
   },
   "outputs": [],
   "source": []
  },
  {
   "cell_type": "code",
   "execution_count": null,
   "metadata": {
    "collapsed": true
   },
   "outputs": [],
   "source": []
  },
  {
   "cell_type": "code",
   "execution_count": null,
   "metadata": {
    "collapsed": true
   },
   "outputs": [],
   "source": []
  },
  {
   "cell_type": "code",
   "execution_count": null,
   "metadata": {
    "collapsed": true
   },
   "outputs": [],
   "source": []
  },
  {
   "cell_type": "markdown",
   "metadata": {},
   "source": [
    "## category breakdown"
   ]
  },
  {
   "cell_type": "code",
   "execution_count": 15,
   "metadata": {
    "collapsed": false,
    "run_control": {
     "frozen": false,
     "read_only": false
    }
   },
   "outputs": [
    {
     "data": {
      "text/plain": [
       "Question        16986\n",
       "unlabeled       16771\n",
       "Discussion       5193\n",
       "Answer           4867\n",
       "Definition       3073\n",
       "Header/Topic     1675\n",
       "No Consensus     1490\n",
       "Figure Label     1006\n",
       "Name: category, dtype: int64"
      ]
     },
     "execution_count": 15,
     "metadata": {},
     "output_type": "execute_result"
    }
   ],
   "source": [
    "combined_consensus_df['category'].value_counts()"
   ]
  },
  {
   "cell_type": "code",
   "execution_count": 19,
   "metadata": {
    "collapsed": true,
    "run_control": {
     "frozen": false,
     "read_only": false
    }
   },
   "outputs": [
    {
     "data": {
      "image/png": "[encoded data removed]",
      "text/plain": [
       "<matplotlib.figure.Figure at 0x1135b64a8>"
      ]
     },
     "metadata": {},
     "output_type": "display_data"
    }
   ],
   "source": [
    "_ = combined_consensus_df['category'].value_counts().plot.bar()"
   ]
  },
  {
   "cell_type": "markdown",
   "metadata": {},
   "source": [
    "### looking at raw box counts per page"
   ]
  },
  {
   "cell_type": "code",
   "execution_count": 22,
   "metadata": {
    "collapsed": false,
    "run_control": {
     "frozen": false,
     "read_only": false
    },
    "scrolled": true
   },
   "outputs": [],
   "source": [
    "only_cat_group = combined_consensus_df.groupby('category')['page'].apply(pd.value_counts)"
   ]
  },
  {
   "cell_type": "code",
   "execution_count": 23,
   "metadata": {
    "collapsed": false,
    "run_control": {
     "frozen": false,
     "read_only": false
    }
   },
   "outputs": [
    {
     "data": {
      "text/plain": [
       "category\n",
       "Answer          22.428571\n",
       "Definition       3.924649\n",
       "Discussion       4.484456\n",
       "Figure Label     3.712177\n",
       "Header/Topic     1.160776\n",
       "No Consensus     3.679012\n",
       "Question        12.704562\n",
       "unlabeled        8.302475\n",
       "Name: page, dtype: float64"
      ]
     },
     "execution_count": 23,
     "metadata": {},
     "output_type": "execute_result"
    }
   ],
   "source": [
    "only_cat_group.groupby(level=0).mean()"
   ]
  },
  {
   "cell_type": "code",
   "execution_count": 24,
   "metadata": {
    "collapsed": false,
    "run_control": {
     "frozen": false,
     "read_only": false
    }
   },
   "outputs": [
    {
     "data": {
      "image/png": "[encoded data removed]",
      "text/plain": [
       "<matplotlib.figure.Figure at 0x113e2e4e0>"
      ]
     },
     "metadata": {},
     "output_type": "display_data"
    }
   ],
   "source": [
    "fig, ax = plt.subplots()\n",
    "for g, counts in only_cat_group.groupby(level=0):\n",
    "    _ = counts.hist(label=g, alpha=.75, ax=ax, bins = 15)\n",
    "_ = ax.legend()"
   ]
  },
  {
   "cell_type": "markdown",
   "metadata": {
    "collapsed": true
   },
   "source": [
    "### looking at boxes per group by question type"
   ]
  },
  {
   "cell_type": "code",
   "execution_count": null,
   "metadata": {
    "collapsed": true,
    "run_control": {
     "frozen": false,
     "read_only": false
    }
   },
   "outputs": [],
   "source": []
  },
  {
   "cell_type": "code",
   "execution_count": null,
   "metadata": {
    "collapsed": true,
    "run_control": {
     "frozen": false,
     "read_only": false
    }
   },
   "outputs": [],
   "source": []
  },
  {
   "cell_type": "code",
   "execution_count": null,
   "metadata": {
    "collapsed": true,
    "run_control": {
     "frozen": false,
     "read_only": false
    }
   },
   "outputs": [],
   "source": []
  },
  {
   "cell_type": "code",
   "execution_count": null,
   "metadata": {
    "collapsed": true,
    "run_control": {
     "frozen": false,
     "read_only": false
    }
   },
   "outputs": [],
   "source": []
  },
  {
   "cell_type": "code",
   "execution_count": 46,
   "metadata": {
    "collapsed": false,
    "run_control": {
     "frozen": false,
     "read_only": false
    }
   },
   "outputs": [],
   "source": [
    "diag_q = combined_consensus_df [combined_consensus_df['category'] == 'Figure Label']\n",
    "has_fig_label_df = combined_consensus_df[combined_consensus_df['page'].isin(pd.unique(diag_q['page']))]"
   ]
  },
  {
   "cell_type": "code",
   "execution_count": 49,
   "metadata": {
    "collapsed": true,
    "run_control": {
     "frozen": false,
     "read_only": false
    }
   },
   "outputs": [],
   "source": [
    "q_and_fig = has_fig_label_df [has_fig_label_df['category'] == 'Question']"
   ]
  },
  {
   "cell_type": "code",
   "execution_count": 51,
   "metadata": {
    "collapsed": false,
    "run_control": {
     "frozen": false,
     "read_only": false
    }
   },
   "outputs": [
    {
     "data": {
      "text/plain": [
       "(237,)"
      ]
     },
     "execution_count": 51,
     "metadata": {},
     "output_type": "execute_result"
    }
   ],
   "source": [
    "pd.unique(q_and_fig['page']).shape"
   ]
  },
  {
   "cell_type": "code",
   "execution_count": 52,
   "metadata": {
    "collapsed": true,
    "run_control": {
     "frozen": false,
     "read_only": false
    }
   },
   "outputs": [
    {
     "data": {
      "text/plain": [
       "array(['Daily_Science_Grade_3_(Daily_Practice_Books)_Evan_Moore_143.jpeg',\n",
       "       'Daily_Science_Grade_3_(Daily_Practice_Books)_Evan_Moore_161.jpeg',\n",
       "       'Daily_Science_Grade_3_(Daily_Practice_Books)_Evan_Moore_166.jpeg',\n",
       "       'Daily_Science_Grade_3_(Daily_Practice_Books)_Evan_Moore_168.jpeg',\n",
       "       'Daily_Science_Grade_3_(Daily_Practice_Books)_Evan_Moore_169.jpeg',\n",
       "       'Daily_Science_Grade_3_(Daily_Practice_Books)_Evan_Moore_175.jpeg',\n",
       "       'Daily_Science_Grade_3_(Daily_Practice_Books)_Evan_Moore_179.jpeg',\n",
       "       'Daily_Science_Grade_3_(Daily_Practice_Books)_Evan_Moore_181.jpeg',\n",
       "       'Daily_Science_Grade_4_Evan_Moor_100.jpeg',\n",
       "       'Daily_Science_Grade_4_Evan_Moor_102.jpeg',\n",
       "       'Daily_Science_Grade_4_Evan_Moor_106.jpeg',\n",
       "       'Daily_Science_Grade_4_Evan_Moor_108.jpeg',\n",
       "       'Daily_Science_Grade_4_Evan_Moor_119.jpeg',\n",
       "       'Daily_Science_Grade_4_Evan_Moor_120.jpeg',\n",
       "       'Daily_Science_Grade_4_Evan_Moor_137.jpeg',\n",
       "       'Daily_Science_Grade_4_Evan_Moor_138.jpeg',\n",
       "       'Daily_Science_Grade_4_Evan_Moor_139.jpeg',\n",
       "       'Daily_Science_Grade_4_Evan_Moor_143.jpeg',\n",
       "       'Daily_Science_Grade_4_Evan_Moor_148.jpeg',\n",
       "       'Daily_Science_Grade_4_Evan_Moor_155.jpeg',\n",
       "       'Daily_Science_Grade_4_Evan_Moor_16.jpeg',\n",
       "       'Daily_Science_Grade_4_Evan_Moor_167.jpeg',\n",
       "       'Daily_Science_Grade_4_Evan_Moor_174.jpeg',\n",
       "       'Daily_Science_Grade_4_Evan_Moor_178.jpeg',\n",
       "       'Daily_Science_Grade_4_Evan_Moor_185.jpeg',\n",
       "       'Daily_Science_Grade_4_Evan_Moor_22.jpeg',\n",
       "       'Daily_Science_Grade_4_Evan_Moor_23.jpeg',\n",
       "       'Daily_Science_Grade_4_Evan_Moor_24.jpeg',\n",
       "       'Daily_Science_Grade_4_Evan_Moor_35.jpeg',\n",
       "       'Daily_Science_Grade_4_Evan_Moor_41.jpeg',\n",
       "       'Daily_Science_Grade_4_Evan_Moor_42.jpeg',\n",
       "       'Daily_Science_Grade_4_Evan_Moor_52.jpeg',\n",
       "       'Daily_Science_Grade_4_Evan_Moor_58.jpeg',\n",
       "       'Daily_Science_Grade_4_Evan_Moor_59.jpeg',\n",
       "       'Daily_Science_Grade_4_Evan_Moor_60.jpeg',\n",
       "       'Daily_Science_Grade_4_Evan_Moor_61.jpeg',\n",
       "       'Daily_Science_Grade_4_Evan_Moor_65.jpeg',\n",
       "       'Daily_Science_Grade_4_Evan_Moor_71.jpeg',\n",
       "       'Daily_Science_Grade_4_Evan_Moor_73.jpeg',\n",
       "       'Daily_Science_Grade_4_Evan_Moor_76.jpeg',\n",
       "       'Daily_Science_Grade_4_Evan_Moor_79.jpeg',\n",
       "       'Daily_Science_Grade_4_Evan_Moor_84.jpeg',\n",
       "       'Daily_Science_Grade_4_Evan_Moor_85.jpeg',\n",
       "       'Daily_Science_Grade_4_Evan_Moor_89.jpeg',\n",
       "       'Daily_Science_Grade_4_Evan_Moor_95.jpeg',\n",
       "       'Daily_Science_Grade_5_Evan_Moor_106.jpeg',\n",
       "       'Daily_Science_Grade_5_Evan_Moor_107.jpeg',\n",
       "       'Daily_Science_Grade_5_Evan_Moor_108.jpeg',\n",
       "       'Daily_Science_Grade_5_Evan_Moor_109.jpeg',\n",
       "       'Daily_Science_Grade_5_Evan_Moor_11.jpeg',\n",
       "       'Daily_Science_Grade_5_Evan_Moor_112.jpeg',\n",
       "       'Daily_Science_Grade_5_Evan_Moor_113.jpeg',\n",
       "       'Daily_Science_Grade_5_Evan_Moor_114.jpeg',\n",
       "       'Daily_Science_Grade_5_Evan_Moor_115.jpeg',\n",
       "       'Daily_Science_Grade_5_Evan_Moor_119.jpeg',\n",
       "       'Daily_Science_Grade_5_Evan_Moor_12.jpeg',\n",
       "       'Daily_Science_Grade_5_Evan_Moor_13.jpeg',\n",
       "       'Daily_Science_Grade_5_Evan_Moor_130.jpeg',\n",
       "       'Daily_Science_Grade_5_Evan_Moor_131.jpeg',\n",
       "       'Daily_Science_Grade_5_Evan_Moor_132.jpeg',\n",
       "       'Daily_Science_Grade_5_Evan_Moor_133.jpeg',\n",
       "       'Daily_Science_Grade_5_Evan_Moor_136.jpeg',\n",
       "       'Daily_Science_Grade_5_Evan_Moor_142.jpeg',\n",
       "       'Daily_Science_Grade_5_Evan_Moor_143.jpeg',\n",
       "       'Daily_Science_Grade_5_Evan_Moor_144.jpeg',\n",
       "       'Daily_Science_Grade_5_Evan_Moor_145.jpeg',\n",
       "       'Daily_Science_Grade_5_Evan_Moor_148.jpeg',\n",
       "       'Daily_Science_Grade_5_Evan_Moor_149.jpeg',\n",
       "       'Daily_Science_Grade_5_Evan_Moor_150.jpeg',\n",
       "       'Daily_Science_Grade_5_Evan_Moor_151.jpeg',\n",
       "       'Daily_Science_Grade_5_Evan_Moor_16.jpeg',\n",
       "       'Daily_Science_Grade_5_Evan_Moor_174.jpeg',\n",
       "       'Daily_Science_Grade_5_Evan_Moor_179.jpeg',\n",
       "       'Daily_Science_Grade_5_Evan_Moor_18.jpeg',\n",
       "       'Daily_Science_Grade_5_Evan_Moor_180.jpeg',\n",
       "       'Daily_Science_Grade_5_Evan_Moor_181.jpeg',\n",
       "       'Daily_Science_Grade_5_Evan_Moor_22.jpeg',\n",
       "       'Daily_Science_Grade_5_Evan_Moor_24.jpeg',\n",
       "       'Daily_Science_Grade_5_Evan_Moor_25.jpeg',\n",
       "       'Daily_Science_Grade_5_Evan_Moor_29.jpeg',\n",
       "       'Daily_Science_Grade_5_Evan_Moor_35.jpeg',\n",
       "       'Daily_Science_Grade_5_Evan_Moor_46.jpeg',\n",
       "       'Daily_Science_Grade_5_Evan_Moor_54.jpeg',\n",
       "       'Daily_Science_Grade_5_Evan_Moor_55.jpeg',\n",
       "       'Daily_Science_Grade_5_Evan_Moor_58.jpeg',\n",
       "       'Daily_Science_Grade_5_Evan_Moor_60.jpeg',\n",
       "       'Daily_Science_Grade_5_Evan_Moor_61.jpeg',\n",
       "       'Daily_Science_Grade_5_Evan_Moor_62.jpeg',\n",
       "       'Daily_Science_Grade_5_Evan_Moor_70.jpeg',\n",
       "       'Daily_Science_Grade_5_Evan_Moor_72.jpeg',\n",
       "       'Daily_Science_Grade_5_Evan_Moor_78.jpeg',\n",
       "       'Daily_Science_Grade_5_Evan_Moor_79.jpeg',\n",
       "       'Daily_Science_Grade_5_Evan_Moor_82.jpeg',\n",
       "       'Daily_Science_Grade_5_Evan_Moor_84.jpeg',\n",
       "       'Daily_Science_Grade_5_Evan_Moor_88.jpeg',\n",
       "       'Daily_Science_Grade_5_Evan_Moor_91.jpeg',\n",
       "       'Daily_Science_Grade_6_(Daily_Practice_Books)_Evan_Moor_10.jpeg',\n",
       "       'Daily_Science_Grade_6_(Daily_Practice_Books)_Evan_Moor_100.jpeg',\n",
       "       'Daily_Science_Grade_6_(Daily_Practice_Books)_Evan_Moor_101.jpeg',\n",
       "       'Daily_Science_Grade_6_(Daily_Practice_Books)_Evan_Moor_102.jpeg',\n",
       "       'Daily_Science_Grade_6_(Daily_Practice_Books)_Evan_Moor_103.jpeg',\n",
       "       'Daily_Science_Grade_6_(Daily_Practice_Books)_Evan_Moor_106.jpeg',\n",
       "       'Daily_Science_Grade_6_(Daily_Practice_Books)_Evan_Moor_107.jpeg',\n",
       "       'Daily_Science_Grade_6_(Daily_Practice_Books)_Evan_Moor_109.jpeg',\n",
       "       'Daily_Science_Grade_6_(Daily_Practice_Books)_Evan_Moor_114.jpeg',\n",
       "       'Daily_Science_Grade_6_(Daily_Practice_Books)_Evan_Moor_115.jpeg',\n",
       "       'Daily_Science_Grade_6_(Daily_Practice_Books)_Evan_Moor_120.jpeg',\n",
       "       'Daily_Science_Grade_6_(Daily_Practice_Books)_Evan_Moor_121.jpeg',\n",
       "       'Daily_Science_Grade_6_(Daily_Practice_Books)_Evan_Moor_132.jpeg',\n",
       "       'Daily_Science_Grade_6_(Daily_Practice_Books)_Evan_Moor_133.jpeg',\n",
       "       'Daily_Science_Grade_6_(Daily_Practice_Books)_Evan_Moor_136.jpeg',\n",
       "       'Daily_Science_Grade_6_(Daily_Practice_Books)_Evan_Moor_138.jpeg',\n",
       "       'Daily_Science_Grade_6_(Daily_Practice_Books)_Evan_Moor_14.jpeg',\n",
       "       'Daily_Science_Grade_6_(Daily_Practice_Books)_Evan_Moor_143.jpeg',\n",
       "       'Daily_Science_Grade_6_(Daily_Practice_Books)_Evan_Moor_144.jpeg',\n",
       "       'Daily_Science_Grade_6_(Daily_Practice_Books)_Evan_Moor_145.jpeg',\n",
       "       'Daily_Science_Grade_6_(Daily_Practice_Books)_Evan_Moor_149.jpeg',\n",
       "       'Daily_Science_Grade_6_(Daily_Practice_Books)_Evan_Moor_160.jpeg',\n",
       "       'Daily_Science_Grade_6_(Daily_Practice_Books)_Evan_Moor_161.jpeg',\n",
       "       'Daily_Science_Grade_6_(Daily_Practice_Books)_Evan_Moor_167.jpeg',\n",
       "       'Daily_Science_Grade_6_(Daily_Practice_Books)_Evan_Moor_173.jpeg',\n",
       "       'Daily_Science_Grade_6_(Daily_Practice_Books)_Evan_Moor_175.jpeg',\n",
       "       'Daily_Science_Grade_6_(Daily_Practice_Books)_Evan_Moor_178.jpeg',\n",
       "       'Daily_Science_Grade_6_(Daily_Practice_Books)_Evan_Moor_179.jpeg',\n",
       "       'Daily_Science_Grade_6_(Daily_Practice_Books)_Evan_Moor_180.jpeg',\n",
       "       'Daily_Science_Grade_6_(Daily_Practice_Books)_Evan_Moor_185.jpeg',\n",
       "       'Daily_Science_Grade_6_(Daily_Practice_Books)_Evan_Moor_20.jpeg',\n",
       "       'Daily_Science_Grade_6_(Daily_Practice_Books)_Evan_Moor_23.jpeg',\n",
       "       'Daily_Science_Grade_6_(Daily_Practice_Books)_Evan_Moor_26.jpeg',\n",
       "       'Daily_Science_Grade_6_(Daily_Practice_Books)_Evan_Moor_28.jpeg',\n",
       "       'Daily_Science_Grade_6_(Daily_Practice_Books)_Evan_Moor_30.jpeg',\n",
       "       'Daily_Science_Grade_6_(Daily_Practice_Books)_Evan_Moor_40.jpeg',\n",
       "       'Daily_Science_Grade_6_(Daily_Practice_Books)_Evan_Moor_43.jpeg',\n",
       "       'Daily_Science_Grade_6_(Daily_Practice_Books)_Evan_Moor_44.jpeg',\n",
       "       'Daily_Science_Grade_6_(Daily_Practice_Books)_Evan_Moor_47.jpeg',\n",
       "       'Daily_Science_Grade_6_(Daily_Practice_Books)_Evan_Moor_54.jpeg',\n",
       "       'Daily_Science_Grade_6_(Daily_Practice_Books)_Evan_Moor_58.jpeg',\n",
       "       'Daily_Science_Grade_6_(Daily_Practice_Books)_Evan_Moor_59.jpeg',\n",
       "       'Daily_Science_Grade_6_(Daily_Practice_Books)_Evan_Moor_60.jpeg',\n",
       "       'Daily_Science_Grade_6_(Daily_Practice_Books)_Evan_Moor_61.jpeg',\n",
       "       'Daily_Science_Grade_6_(Daily_Practice_Books)_Evan_Moor_71.jpeg',\n",
       "       'Daily_Science_Grade_6_(Daily_Practice_Books)_Evan_Moor_72.jpeg',\n",
       "       'Daily_Science_Grade_6_(Daily_Practice_Books)_Evan_Moor_77.jpeg',\n",
       "       'Daily_Science_Grade_6_(Daily_Practice_Books)_Evan_Moor_79.jpeg',\n",
       "       'Daily_Science_Grade_6_(Daily_Practice_Books)_Evan_Moor_82.jpeg',\n",
       "       'Daily_Science_Grade_6_(Daily_Practice_Books)_Evan_Moor_88.jpeg',\n",
       "       'Daily_Science_Grade_6_(Daily_Practice_Books)_Evan_Moor_89.jpeg',\n",
       "       'Daily_Science_Grade_6_(Daily_Practice_Books)_Evan_Moor_90.jpeg',\n",
       "       'Daily_Science_Grade_6_(Daily_Practice_Books)_Evan_Moor_91.jpeg',\n",
       "       'Daily_Science_Grade_6_(Daily_Practice_Books)_Evan_Moor_95.jpeg',\n",
       "       'Daily_Science_Grade_4_Evan_Moor_118.jpeg',\n",
       "       'Daily_Science_Grade_4_Evan_Moor_142.jpeg',\n",
       "       'Daily_Science_Grade_4_Evan_Moor_19.jpeg',\n",
       "       'Daily_Science_Grade_4_Evan_Moor_25.jpeg',\n",
       "       'Daily_Science_Grade_5_Evan_Moor_172.jpeg',\n",
       "       'Daily_Science_Grade_5_Evan_Moor_30.jpeg',\n",
       "       'Daily_Science_Grade_5_Evan_Moor_41.jpeg',\n",
       "       'Daily_Science_Grade_5_Evan_Moor_53.jpeg',\n",
       "       'Daily_Science_Grade_6_(Daily_Practice_Books)_Evan_Moor_112.jpeg',\n",
       "       'Daily_Science_Grade_6_(Daily_Practice_Books)_Evan_Moor_148.jpeg',\n",
       "       'Daily_Science_Grade_1_Evan_Moor_102.jpeg',\n",
       "       'Daily_Science_Grade_1_Evan_Moor_108.jpeg',\n",
       "       'Daily_Science_Grade_1_Evan_Moor_115.jpeg',\n",
       "       'Daily_Science_Grade_1_Evan_Moor_119.jpeg',\n",
       "       'Daily_Science_Grade_1_Evan_Moor_143.jpeg',\n",
       "       'Daily_Science_Grade_1_Evan_Moor_144.jpeg',\n",
       "       'Daily_Science_Grade_1_Evan_Moor_166.jpeg',\n",
       "       'Daily_Science_Grade_1_Evan_Moor_168.jpeg',\n",
       "       'Daily_Science_Grade_1_Evan_Moor_172.jpeg',\n",
       "       'Daily_Science_Grade_1_Evan_Moor_24.jpeg',\n",
       "       'Daily_Science_Grade_1_Evan_Moor_49.jpeg',\n",
       "       'Daily_Science_Grade_1_Evan_Moor_52.jpeg',\n",
       "       'Daily_Science_Grade_1_Evan_Moor_58.jpeg',\n",
       "       'Daily_Science_Grade_1_Evan_Moor_59.jpeg',\n",
       "       'Daily_Science_Grade_1_Evan_Moor_71.jpeg',\n",
       "       'Daily_Science_Grade_1_Evan_Moor_78.jpeg',\n",
       "       'Daily_Science_Grade_1_Evan_Moor_90.jpeg',\n",
       "       'Daily_Science_Grade_2_Evan_Moor_10.jpeg',\n",
       "       'Daily_Science_Grade_2_Evan_Moor_100.jpeg',\n",
       "       'Daily_Science_Grade_2_Evan_Moor_101.jpeg',\n",
       "       'Daily_Science_Grade_2_Evan_Moor_108.jpeg',\n",
       "       'Daily_Science_Grade_2_Evan_Moor_12.jpeg',\n",
       "       'Daily_Science_Grade_2_Evan_Moor_120.jpeg',\n",
       "       'Daily_Science_Grade_2_Evan_Moor_14.jpeg',\n",
       "       'Daily_Science_Grade_2_Evan_Moor_148.jpeg',\n",
       "       'Daily_Science_Grade_2_Evan_Moor_149.jpeg',\n",
       "       'Daily_Science_Grade_2_Evan_Moor_151.jpeg',\n",
       "       'Daily_Science_Grade_2_Evan_Moor_16.jpeg',\n",
       "       'Daily_Science_Grade_2_Evan_Moor_175.jpeg',\n",
       "       'Daily_Science_Grade_2_Evan_Moor_179.jpeg',\n",
       "       'Daily_Science_Grade_2_Evan_Moor_18.jpeg',\n",
       "       'Daily_Science_Grade_2_Evan_Moor_185.jpeg',\n",
       "       'Daily_Science_Grade_2_Evan_Moor_19.jpeg',\n",
       "       'Daily_Science_Grade_2_Evan_Moor_24.jpeg',\n",
       "       'Daily_Science_Grade_2_Evan_Moor_40.jpeg',\n",
       "       'Daily_Science_Grade_2_Evan_Moor_55.jpeg',\n",
       "       'Daily_Science_Grade_2_Evan_Moor_72.jpeg',\n",
       "       'Daily_Science_Grade_2_Evan_Moor_73.jpeg',\n",
       "       'Daily_Science_Grade_3_(Daily_Practice_Books)_Evan_Moore_10.jpeg',\n",
       "       'Daily_Science_Grade_3_(Daily_Practice_Books)_Evan_Moore_108.jpeg',\n",
       "       'Daily_Science_Grade_3_(Daily_Practice_Books)_Evan_Moore_112.jpeg',\n",
       "       'Daily_Science_Grade_3_(Daily_Practice_Books)_Evan_Moore_113.jpeg',\n",
       "       'Daily_Science_Grade_3_(Daily_Practice_Books)_Evan_Moore_114.jpeg',\n",
       "       'Daily_Science_Grade_3_(Daily_Practice_Books)_Evan_Moore_115.jpeg',\n",
       "       'Daily_Science_Grade_3_(Daily_Practice_Books)_Evan_Moore_119.jpeg',\n",
       "       'Daily_Science_Grade_3_(Daily_Practice_Books)_Evan_Moore_121.jpeg',\n",
       "       'Daily_Science_Grade_3_(Daily_Practice_Books)_Evan_Moore_125.jpeg',\n",
       "       'Daily_Science_Grade_3_(Daily_Practice_Books)_Evan_Moore_13.jpeg',\n",
       "       'Daily_Science_Grade_3_(Daily_Practice_Books)_Evan_Moore_139.jpeg',\n",
       "       'Daily_Science_Grade_3_(Daily_Practice_Books)_Evan_Moore_17.jpeg',\n",
       "       'Daily_Science_Grade_3_(Daily_Practice_Books)_Evan_Moore_24.jpeg',\n",
       "       'Daily_Science_Grade_3_(Daily_Practice_Books)_Evan_Moore_35.jpeg',\n",
       "       'Daily_Science_Grade_3_(Daily_Practice_Books)_Evan_Moore_40.jpeg',\n",
       "       'Daily_Science_Grade_3_(Daily_Practice_Books)_Evan_Moore_43.jpeg',\n",
       "       'Daily_Science_Grade_3_(Daily_Practice_Books)_Evan_Moore_44.jpeg',\n",
       "       'Daily_Science_Grade_3_(Daily_Practice_Books)_Evan_Moore_46.jpeg',\n",
       "       'Daily_Science_Grade_3_(Daily_Practice_Books)_Evan_Moore_47.jpeg',\n",
       "       'Daily_Science_Grade_3_(Daily_Practice_Books)_Evan_Moore_49.jpeg',\n",
       "       'Daily_Science_Grade_3_(Daily_Practice_Books)_Evan_Moore_53.jpeg',\n",
       "       'Daily_Science_Grade_3_(Daily_Practice_Books)_Evan_Moore_54.jpeg',\n",
       "       'Daily_Science_Grade_3_(Daily_Practice_Books)_Evan_Moore_59.jpeg',\n",
       "       'Daily_Science_Grade_3_(Daily_Practice_Books)_Evan_Moore_71.jpeg',\n",
       "       'Daily_Science_Grade_3_(Daily_Practice_Books)_Evan_Moore_83.jpeg',\n",
       "       'Daily_Science_Grade_3_(Daily_Practice_Books)_Evan_Moore_84.jpeg',\n",
       "       'Daily_Science_Grade_3_(Daily_Practice_Books)_Evan_Moore_85.jpeg',\n",
       "       'Daily_Science_Grade_3_(Daily_Practice_Books)_Evan_Moore_89.jpeg',\n",
       "       'Daily_Science_Grade_3_(Daily_Practice_Books)_Evan_Moore_91.jpeg',\n",
       "       'Spectrum_Science_Grade_3_16.jpeg',\n",
       "       'Spectrum_Science_Grade_4_13.jpeg',\n",
       "       'Spectrum_Science_Grade_6_47.jpeg',\n",
       "       'Spectrum_Science_Grade_7_13.jpeg',\n",
       "       'Spectrum_Science_Grade_8_20.jpeg',\n",
       "       'Spectrum_Science_Grade_8_47.jpeg',\n",
       "       'Daily_Science_Grade_4_Evan_Moor_130.jpeg',\n",
       "       'Daily_Science_Grade_5_Evan_Moor_178.jpeg',\n",
       "       'Daily_Science_Grade_5_Evan_Moor_23.jpeg',\n",
       "       'Daily_Science_Grade_6_(Daily_Practice_Books)_Evan_Moor_108.jpeg'], dtype=object)"
      ]
     },
     "execution_count": 52,
     "metadata": {},
     "output_type": "execute_result"
    }
   ],
   "source": [
    "pd.unique(q_and_fig['page'])"
   ]
  },
  {
   "cell_type": "code",
   "execution_count": null,
   "metadata": {
    "collapsed": true,
    "run_control": {
     "frozen": false,
     "read_only": false
    }
   },
   "outputs": [],
   "source": []
  },
  {
   "cell_type": "code",
   "execution_count": null,
   "metadata": {
    "collapsed": true,
    "run_control": {
     "frozen": false,
     "read_only": false
    }
   },
   "outputs": [],
   "source": []
  },
  {
   "cell_type": "code",
   "execution_count": null,
   "metadata": {
    "collapsed": true,
    "run_control": {
     "frozen": false,
     "read_only": false
    }
   },
   "outputs": [],
   "source": []
  },
  {
   "cell_type": "code",
   "execution_count": null,
   "metadata": {
    "collapsed": true,
    "run_control": {
     "frozen": false,
     "read_only": false
    }
   },
   "outputs": [],
   "source": []
  },
  {
   "cell_type": "code",
   "execution_count": null,
   "metadata": {
    "collapsed": true,
    "run_control": {
     "frozen": false,
     "read_only": false
    }
   },
   "outputs": [],
   "source": []
  },
  {
   "cell_type": "markdown",
   "metadata": {
    "collapsed": true,
    "heading_collapsed": true,
    "run_control": {
     "frozen": false,
     "read_only": false
    }
   },
   "source": [
    "# End"
   ]
  }
 ],
 "metadata": {
  "kernelspec": {
   "display_name": "Python 3",
   "language": "python",
   "name": "python3"
  },
  "language_info": {
   "codemirror_mode": {
    "name": "ipython",
    "version": 3
   },
   "file_extension": ".py",
   "mimetype": "text/x-python",
   "name": "python",
   "nbconvert_exporter": "python",
   "pygments_lexer": "ipython3",
   "version": "3.5.0"
  }
 },
 "nbformat": 4,
 "nbformat_minor": 0
}
