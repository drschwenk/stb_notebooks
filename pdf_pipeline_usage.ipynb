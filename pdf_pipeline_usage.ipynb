{
 "cells": [
  {
   "cell_type": "code",
   "execution_count": 4,
   "metadata": {
    "collapsed": true,
    "run_control": {
     "frozen": false,
     "read_only": false
    }
   },
   "outputs": [],
   "source": [
    "%%capture\n",
    "import numpy as np\n",
    "import pandas as pd\n",
    "import scipy.stats as st\n",
    "import itertools\n",
    "import math\n",
    "from collections import Counter, defaultdict, OrderedDict\n",
    "%load_ext autoreload\n",
    "%autoreload 2\n",
    "\n",
    "import cv2\n",
    "import pprint\n",
    "import pickle\n",
    "import json\n",
    "import requests\n",
    "import io\n",
    "\n",
    "import pdfextraction.ocr_pipeline"
   ]
  },
  {
   "cell_type": "code",
   "execution_count": 16,
   "metadata": {
    "collapsed": true,
    "run_control": {
     "frozen": false,
     "read_only": false
    }
   },
   "outputs": [],
   "source": [
    "import json\n",
    "import pprint"
   ]
  },
  {
   "cell_type": "code",
   "execution_count": 4,
   "metadata": {
    "collapsed": false,
    "run_control": {
     "frozen": false,
     "read_only": false
    }
   },
   "outputs": [],
   "source": [
    "test_book = book_list[8]\n",
    "# pdfextraction.ocr_pipeline.process_book(test_book, 0, word_margin=0.1, line_overlap=0.5, char_margin=2.0,\n",
    "#                         line_margin=0.5, boxes_flow=0.5)"
   ]
  },
  {
   "cell_type": "code",
   "execution_count": 89,
   "metadata": {
    "collapsed": false,
    "run_control": {
     "frozen": false,
     "read_only": false
    }
   },
   "outputs": [
    {
     "name": "stdout",
     "output_type": "stream",
     "text": [
      "('Spectrum_Science,: ', 6, ' total')\n",
      "('Daily_Science: ', 6, ' total')\n",
      "('Read_and_Understand Science: ', 4, ' total')\n",
      "('workbooks: ', 5, ' total')\n"
     ]
    }
   ],
   "source": [
    "bb = make_page_breakdowns()"
   ]
  },
  {
   "cell_type": "code",
   "execution_count": 6,
   "metadata": {
    "collapsed": false,
    "run_control": {
     "frozen": false,
     "read_only": false
    }
   },
   "outputs": [
    {
     "data": {
      "text/plain": [
       "['Spectrum_Science_Grade_3.pdf',\n",
       " 'Spectrum_Science_Grade_4.pdf',\n",
       " 'Spectrum_Science_Grade_5.pdf',\n",
       " 'Spectrum_Science_Grade_6.pdf',\n",
       " 'Spectrum_Science_Grade_7.pdf',\n",
       " 'Spectrum_Science_Grade_8.pdf']"
      ]
     },
     "execution_count": 6,
     "metadata": {},
     "output_type": "execute_result"
    }
   ],
   "source": [
    "book_breakdowns['spectrum_sci']"
   ]
  },
  {
   "cell_type": "code",
   "execution_count": 76,
   "metadata": {
    "collapsed": true,
    "run_control": {
     "frozen": false,
     "read_only": false
    }
   },
   "outputs": [],
   "source": [
    "pdfextraction.ocr_pipeline.process_book(book_breakdowns['daily_sci'][5], [120,120], word_margin=0.1, line_overlap=0.5, char_margin=2.0,\n",
    "                    line_margin=0.5, boxes_flow=0.5)"
   ]
  },
  {
   "cell_type": "code",
   "execution_count": 35,
   "metadata": {
    "collapsed": false,
    "run_control": {
     "frozen": false,
     "read_only": false
    }
   },
   "outputs": [
    {
     "name": "stdout",
     "output_type": "stream",
     "text": [
      "Daily_Science_Grade_1_Evan_Moor.pdf\n",
      "Daily_Science_Grade_2_Evan_Moor.pdf\n",
      "Daily_Science_Grade_3_(Daily_Practice_Books)_Evan_Moore.pdf\n",
      "Daily_Science_Grade_4_Evan_Moor.pdf\n",
      "Daily_Science_Grade_5_Evan_Moor.pdf\n",
      "Daily_Science_Grade_6_(Daily_Practice_Books)_Evan_Moor.pdf\n"
     ]
    }
   ],
   "source": [
    "for book in book_breakdowns['daily_sci']:\n",
    "    print(book)\n",
    "    pdfextraction.ocr_pipeline.process_book(book, 0, word_margin=0.1, line_overlap=0.5, char_margin=2.0,\n",
    "                        line_margin=0.5, boxes_flow=0.5)"
   ]
  },
  {
   "cell_type": "code",
   "execution_count": 95,
   "metadata": {
    "collapsed": true,
    "run_control": {
     "frozen": false,
     "read_only": false
    }
   },
   "outputs": [],
   "source": [
    "import pickle"
   ]
  },
  {
   "cell_type": "code",
   "execution_count": 97,
   "metadata": {
    "collapsed": false,
    "run_control": {
     "frozen": false,
     "read_only": false
    }
   },
   "outputs": [],
   "source": [
    "with open('breakdowns.pkl', 'w') as f:\n",
    "        pickle.dump(book_breakdowns, f)"
   ]
  },
  {
   "cell_type": "code",
   "execution_count": 6,
   "metadata": {
    "collapsed": false,
    "run_control": {
     "frozen": false,
     "read_only": false
    }
   },
   "outputs": [],
   "source": [
    "with open('breakdowns.pkl', 'r') as f:\n",
    "    book_breakdowns = pickle.load(f)"
   ]
  },
  {
   "cell_type": "code",
   "execution_count": 7,
   "metadata": {
    "collapsed": false,
    "run_control": {
     "frozen": false,
     "read_only": false
    }
   },
   "outputs": [
    {
     "data": {
      "text/plain": [
       "'Daily_Science_Grade_6_(Daily_Practice_Books)_Evan_Moor.pdf'"
      ]
     },
     "execution_count": 7,
     "metadata": {},
     "output_type": "execute_result"
    }
   ],
   "source": [
    "tbt = book_breakdowns['daily_sci'][5]\n",
    "tbt"
   ]
  },
  {
   "cell_type": "code",
   "execution_count": 101,
   "metadata": {
    "collapsed": false,
    "run_control": {
     "frozen": false,
     "read_only": false
    }
   },
   "outputs": [
    {
     "data": {
      "text/plain": [
       "defaultdict(list,\n",
       "            {'daily_sci': ['Daily_Science_Grade_1_Evan_Moor.pdf',\n",
       "              'Daily_Science_Grade_2_Evan_Moor.pdf',\n",
       "              'Daily_Science_Grade_3_(Daily_Practice_Books)_Evan_Moore.pdf',\n",
       "              'Daily_Science_Grade_4_Evan_Moor.pdf',\n",
       "              'Daily_Science_Grade_5_Evan_Moor.pdf',\n",
       "              'Daily_Science_Grade_6_(Daily_Practice_Books)_Evan_Moor.pdf'],\n",
       "             'misc': ['Barron\\xe2\\x80\\x99s_New_York_State_Grade_4_Elementary-Level_Science_Test.pdf',\n",
       "              'Confusing_Science_Terms_Grades_5_-_8_Schyrlet_Cameron.pdf',\n",
       "              'General_Science_Grades_5_-_8_(Daily_Skill_Builders).pdf',\n",
       "              'STAAR_Success_Strategies_Grade_5_Science_Study_Guide.pdf',\n",
       "              'Science_Essentials_Grades_3-4_School_Specialty_Publishing.pdf',\n",
       "              'Steck-Vaughn_GED_Test_Preparation_Student_Edition_Science_2014.pdf',\n",
       "              'The_New_Children\\xe2\\x80\\x99s_Encyclopedia_DK_Publishing.pdf'],\n",
       "             'read_und_sci': ['Read_and_Understand_Science_Grades_1-2.pdf',\n",
       "              'Read_and_Understand_Science_Grades_2-3.pdf',\n",
       "              'Read_and_Understand_Science_Grades_3-4.pdf',\n",
       "              'Read_and_Understand_Science_Grades_4-6+_Evan_Moor.pdf'],\n",
       "             'spectrum_sci': ['Spectrum_Science_Grade_3.pdf',\n",
       "              'Spectrum_Science_Grade_4.pdf',\n",
       "              'Spectrum_Science_Grade_5.pdf',\n",
       "              'Spectrum_Science_Grade_6.pdf',\n",
       "              'Spectrum_Science_Grade_7.pdf',\n",
       "              'Spectrum_Science_Grade_8.pdf'],\n",
       "             'workbooks': ['DK_Workbooks_Science_Second_Grade_DK_Publishing.pdf',\n",
       "              'DK_Workbooks_Science_Third_Grade_DK_Publishing.pdf',\n",
       "              'GED_Science_Exam_Secrets_Workbook_GED_Test_Practice_Questions.pdf',\n",
       "              'Steck-Vaughn_Core_Skills_Science_Workbook_Grade_2_STECK-VAUGHN.pdf',\n",
       "              'Steck-Vaughn_Core_Skills_Science_Workbook_Grade_5_STECK-VAUGHN.pdf']})"
      ]
     },
     "execution_count": 101,
     "metadata": {},
     "output_type": "execute_result"
    }
   ],
   "source": [
    "book_breakdowns"
   ]
  },
  {
   "cell_type": "code",
   "execution_count": 86,
   "metadata": {
    "collapsed": false,
    "run_control": {
     "frozen": false,
     "read_only": false
    }
   },
   "outputs": [
    {
     "name": "stdout",
     "output_type": "stream",
     "text": [
      "('Daily_Science_Grade_1_Evan_Moor', 40)\n",
      "('Daily_Science_Grade_1_Evan_Moor', 41)\n"
     ]
    }
   ],
   "source": [
    "pdfextraction.ocr_pipeline.perform_ocr(tbt, 'annotations', [40, 41])"
   ]
  },
  {
   "cell_type": "code",
   "execution_count": 51,
   "metadata": {
    "collapsed": false,
    "run_control": {
     "frozen": false,
     "read_only": false
    }
   },
   "outputs": [
    {
     "data": {
      "text/html": [
       "<div>\n",
       "<table border=\"1\" class=\"dataframe\">\n",
       "  <thead>\n",
       "    <tr style=\"text-align: right;\">\n",
       "      <th></th>\n",
       "      <th>book_name</th>\n",
       "      <th>start_page</th>\n",
       "      <th>end_page</th>\n",
       "    </tr>\n",
       "  </thead>\n",
       "  <tbody>\n",
       "    <tr>\n",
       "      <th>0</th>\n",
       "      <td>Barron’s_New_York_State_Grade_4_Elementary-Lev...</td>\n",
       "      <td>11</td>\n",
       "      <td>281</td>\n",
       "    </tr>\n",
       "  </tbody>\n",
       "</table>\n",
       "</div>"
      ],
      "text/plain": [
       "                                           book_name  start_page  end_page\n",
       "0  Barron’s_New_York_State_Grade_4_Elementary-Lev...          11       281"
      ]
     },
     "execution_count": 51,
     "metadata": {},
     "output_type": "execute_result"
    }
   ],
   "source": [
    "page_ranges = pd.read_csv('./pdfs/page_ranges.csv', delimiter=' ')\n",
    "page_ranges.head(1)"
   ]
  },
  {
   "cell_type": "code",
   "execution_count": 2,
   "metadata": {
    "collapsed": false,
    "run_control": {
     "frozen": false,
     "read_only": false
    }
   },
   "outputs": [],
   "source": [
    "with open('pdfs/page_ranges.csv') as f:\n",
    "    ranges = f.readlines()\n",
    "range_lookup = {line.split(' ')[0]:[int(num) for num in line.strip().split(' ')[1:]] for line in ranges}"
   ]
  },
  {
   "cell_type": "code",
   "execution_count": 85,
   "metadata": {
    "collapsed": false,
    "run_control": {
     "frozen": false,
     "read_only": false
    }
   },
   "outputs": [
    {
     "data": {
      "text/plain": [
       "[8, 187]"
      ]
     },
     "execution_count": 85,
     "metadata": {},
     "output_type": "execute_result"
    }
   ],
   "source": [
    "range_lookup[tbt]"
   ]
  },
  {
   "cell_type": "code",
   "execution_count": 106,
   "metadata": {
    "collapsed": true,
    "run_control": {
     "frozen": false,
     "read_only": false
    }
   },
   "outputs": [],
   "source": [
    "with open('pdfs/page_ranges.csv') as f:\n",
    "    ranges = f.readlines()\n",
    "range_lookup = {line.split(' ')[0]:[int(num) for num in line.strip().split(' ')[1:]] for line in ranges}"
   ]
  },
  {
   "cell_type": "code",
   "execution_count": 8,
   "metadata": {
    "collapsed": false,
    "run_control": {
     "frozen": false,
     "read_only": false
    }
   },
   "outputs": [
    {
     "data": {
      "text/plain": [
       "[85, 194]"
      ]
     },
     "execution_count": 8,
     "metadata": {},
     "output_type": "execute_result"
    }
   ],
   "source": [
    "range_lookup['Daily_Science_Grade_3_(Daily_Practice_Books)_Evan_Moore.pdf']"
   ]
  },
  {
   "cell_type": "code",
   "execution_count": 108,
   "metadata": {
    "collapsed": false,
    "run_control": {
     "frozen": false,
     "read_only": false
    }
   },
   "outputs": [
    {
     "data": {
      "text/plain": [
       "{'Barron\\xe2\\x80\\x99s_New_York_State_Grade_4_Elementary-Level_Science_Test.pdf': [11,\n",
       "  281],\n",
       " 'Confusing_Science_Terms_Grades_5_-_8_Schyrlet_Cameron.pdf': [9, 76],\n",
       " 'DK_Workbooks_Science_Second_Grade_DK_Publishing.pdf': [9, 64],\n",
       " 'DK_Workbooks_Science_Third_Grade_DK_Publishing.pdf': [8, 64],\n",
       " 'Daily_Science_Grade_1_Evan_Moor.pdf': [8, 187],\n",
       " 'Daily_Science_Grade_2_Evan_Moor.pdf': [8, 192],\n",
       " 'Daily_Science_Grade_3_(Daily_Practice_Books)_Evan_Moore.pd': [8, 194],\n",
       " 'Daily_Science_Grade_4_Evan_Moor.pdf': [8, 194],\n",
       " 'Daily_Science_Grade_5_Evan_Moor.pdf': [8, 195],\n",
       " 'Daily_Science_Grade_6_(Daily_Practice_Books)_Evan_Moor.pdf': [8, 195],\n",
       " 'GED_Science_Exam_Secrets_Workbook_GED_Test_Practice_Questions.pdf': [6, 113],\n",
       " 'General_Science_Grades_5_-_8_(Daily_Skill_Builders).pdf': [8, 98],\n",
       " 'Read_and_Understand_Science_Grades_1-2.pdf': [6, 139],\n",
       " 'Read_and_Understand_Science_Grades_2-3.pdf': [4, 146],\n",
       " 'Read_and_Understand_Science_Grades_3-4.pdf': [5, 146],\n",
       " 'Read_and_Understand_Science_Grades_4-6+_Evan_Moor.pdf': [5, 147],\n",
       " 'STAAR_Success_Strategies_Grade_5_Science_Study_Guide.pdf': [10, 63],\n",
       " 'Science_Essentials_Grades_3-4_School_Specialty_Publishing.pdf': [4, 356],\n",
       " 'Spectrum_Science_Grade_3.pdf': [8, 146],\n",
       " 'Spectrum_Science_Grade_4.pdf': [8, 144],\n",
       " 'Spectrum_Science_Grade_5.pdf': [8, 146],\n",
       " 'Spectrum_Science_Grade_6.pdf': [8, 178],\n",
       " 'Spectrum_Science_Grade_7.pdf': [8, 178],\n",
       " 'Spectrum_Science_Grade_8.pdf': [8, 178],\n",
       " 'Steck-Vaughn_Core_Skills_Science_Workbook_Grade_2_STECK-VAUGHN.pdf': [6,\n",
       "  138],\n",
       " 'Steck-Vaughn_Core_Skills_Science_Workbook_Grade_5_STECK-VAUGHN.pdf': [7,\n",
       "  138],\n",
       " 'Steck-Vaughn_GED_Test_Preparation_Student_Edition_Science_2014.pdf': [18,\n",
       "  128],\n",
       " 'The_New_Children\\xe2\\x80\\x99s_Encyclopedia_DK_Publishing.pdf': [8, 297]}"
      ]
     },
     "execution_count": 108,
     "metadata": {},
     "output_type": "execute_result"
    }
   ],
   "source": [
    "range_lookup"
   ]
  },
  {
   "cell_type": "code",
   "execution_count": 11,
   "metadata": {
    "collapsed": true,
    "run_control": {
     "frozen": false,
     "read_only": false
    }
   },
   "outputs": [],
   "source": [
    "def query_vision_ocr(image_url, merge_boxes=True, include_merged_components=True, as_json=True):\n",
    "    api_entry_point = 'http://vision-ocr.dev.allenai.org/v1/ocr'\n",
    "    header = {'Content-Type': 'application/json'}\n",
    "    request_data = {\n",
    "        'url': image_url,\n",
    "        # 'maximumSizePixels': max_pix_size,\n",
    "        'mergeBoxes': merge_boxes,\n",
    "        'includeMergedComponents': include_merged_components\n",
    "    }\n",
    "\n",
    "    json_data = json.dumps(request_data)\n",
    "    response = requests.post(api_entry_point, data=json_data, headers=header)\n",
    "    print(response.reason)\n",
    "    json_response = json.loads(response.content.decode())\n",
    "    if as_json:\n",
    "        response = json_response\n",
    "    return response\n",
    "\n",
    "def form_image_url(book_name, page_n, ):\n",
    "    book_name_no_ext = book_name.replace('.pdf', '_')\n",
    "    image_base = 'https://s3-us-west-2.amazonaws.com/ai2-vision-turk-data/textbook-annotation-test/page-images/'\n",
    "    return image_base + book_name_no_ext + str(page_n) + '.jpeg'"
   ]
  },
  {
   "cell_type": "code",
   "execution_count": 14,
   "metadata": {
    "collapsed": false,
    "run_control": {
     "frozen": false,
     "read_only": false
    }
   },
   "outputs": [
    {
     "data": {
      "text/plain": [
       "'https://s3-us-west-2.amazonaws.com/ai2-vision-turk-data/textbook-annotation-test/page-images/Daily_Science_Grade_4_Evan_Moor_55.jpeg'"
      ]
     },
     "execution_count": 14,
     "metadata": {},
     "output_type": "execute_result"
    }
   ],
   "source": [
    "test_page = form_image_url(book_breakdowns['daily_sci'][3], 55)\n",
    "test_page"
   ]
  },
  {
   "cell_type": "code",
   "execution_count": 15,
   "metadata": {
    "collapsed": false,
    "run_control": {
     "frozen": false,
     "read_only": false
    }
   },
   "outputs": [
    {
     "name": "stdout",
     "output_type": "stream",
     "text": [
      "OK\n"
     ]
    }
   ],
   "source": [
    "anno_respone = query_vision_ocr(test_page)"
   ]
  },
  {
   "cell_type": "code",
   "execution_count": 18,
   "metadata": {
    "collapsed": false,
    "run_control": {
     "frozen": false,
     "read_only": false
    },
    "scrolled": false
   },
   "outputs": [
    {
     "name": "stdout",
     "output_type": "stream",
     "text": [
      "{u'detections': [{u'rectangle': [{u'x': 1973, u'y': 138},\n",
      "                                 {u'x': 2251, u'y': 464}],\n",
      "                  u'score': 0.75,\n",
      "                  u'value': u'scieoe Big Idea 2'},\n",
      "                 {u'rectangle': [{u'x': 2097, u'y': 138},\n",
      "                                 {u'x': 2251, u'y': 212}],\n",
      "                  u'score': 0.5,\n",
      "                  u'value': u'scieoe'},\n",
      "                 {u'rectangle': [{u'x': 1973, u'y': 268},\n",
      "                                 {u'x': 2224, u'y': 409}],\n",
      "                  u'score': 0.5,\n",
      "                  u'value': u'Big'},\n",
      "                 {u'rectangle': [{u'x': 1983, u'y': 410},\n",
      "                                 {u'x': 2213, u'y': 464}],\n",
      "                  u'score': 0.5,\n",
      "                  u'value': u'Idea 2'},\n",
      "                 {u'rectangle': [{u'x': 140, u'y': 215},\n",
      "                                 {u'x': 252, u'y': 260}],\n",
      "                  u'score': 1.0,\n",
      "                  u'value': u'Name'},\n",
      "                 {u'rectangle': [{u'x': 194, u'y': 368},\n",
      "                                 {u'x': 348, u'y': 522}],\n",
      "                  u'score': 0.75,\n",
      "                  u'value': u'Day 4'},\n",
      "                 {u'rectangle': [{u'x': 194, u'y': 368},\n",
      "                                 {u'x': 348, u'y': 450}],\n",
      "                  u'score': 0.5,\n",
      "                  u'value': u'Day'},\n",
      "                 {u'rectangle': [{u'x': 241, u'y': 444},\n",
      "                                 {u'x': 289, u'y': 522}],\n",
      "                  u'score': 0.5,\n",
      "                  u'value': u'4'},\n",
      "                 {u'rectangle': [{u'x': 139, u'y': 350},\n",
      "                                 {u'x': 1794, u'y': 1617}],\n",
      "                  u'score': 0.75,\n",
      "                  u'value': u\"Weekly Question re all germs bad? Scientists are finding many uses for bacteria. Since bacteria are such good decomposers, they can be used to clean up waste. One type of bacteria digests oil. People use it to repair damage from oil spills, both in the ocean and on roads. Other bacteria are good at breaking down toxic substances in sewage, so these bacteria are used in water treatment plants Scientists are also exploring ways to get bacteria to produce energy. Scientists have created simple fuel cells, which are like batteries, that use bacteria to convert garbage into electricity. These fuel cells may someday recycle waste into electricity during space flights. So are all germs bad? Not at all. In fact, tiny bacteria may soon provide the solutions to some of Earth's biggest problems.\"},\n",
      "                 {u'rectangle': [{u'x': 441, u'y': 350},\n",
      "                                 {u'x': 895, u'y': 408}],\n",
      "                  u'score': 0.5,\n",
      "                  u'value': u'Weekly Question'},\n",
      "                 {u'rectangle': [{u'x': 507, u'y': 409},\n",
      "                                 {u'x': 1312, u'y': 561}],\n",
      "                  u'score': 0.5,\n",
      "                  u'value': u're all germs bad?'},\n",
      "                 {u'rectangle': [{u'x': 241, u'y': 645},\n",
      "                                 {u'x': 1759, u'y': 703}],\n",
      "                  u'score': 0.5,\n",
      "                  u'value': u'Scientists are finding many uses for bacteria. Since bacteria'},\n",
      "                 {u'rectangle': [{u'x': 143, u'y': 722},\n",
      "                                 {u'x': 1650, u'y': 789}],\n",
      "                  u'score': 0.5,\n",
      "                  u'value': u'are such good decomposers, they can be used to clean up'},\n",
      "                 {u'rectangle': [{u'x': 139, u'y': 796},\n",
      "                                 {u'x': 1731, u'y': 862}],\n",
      "                  u'score': 0.5,\n",
      "                  u'value': u'waste. One type of bacteria digests oil. People use it to repair'},\n",
      "                 {u'rectangle': [{u'x': 143, u'y': 870},\n",
      "                                 {u'x': 1729, u'y': 943}],\n",
      "                  u'score': 0.5,\n",
      "                  u'value': u'damage from oil spills, both in the ocean and on roads. Other'},\n",
      "                 {u'rectangle': [{u'x': 143, u'y': 950},\n",
      "                                 {u'x': 1790, u'y': 1018}],\n",
      "                  u'score': 0.5,\n",
      "                  u'value': u'bacteria are good at breaking down toxic substances in sewage,'},\n",
      "                 {u'rectangle': [{u'x': 139, u'y': 1026},\n",
      "                                 {u'x': 1476, u'y': 1092}],\n",
      "                  u'score': 0.5,\n",
      "                  u'value': u'so these bacteria are used in water treatment plants'},\n",
      "                 {u'rectangle': [{u'x': 241, u'y': 1098},\n",
      "                                 {u'x': 1794, u'y': 1169}],\n",
      "                  u'score': 0.5,\n",
      "                  u'value': u'Scientists are also exploring ways to get bacteria to produce'},\n",
      "                 {u'rectangle': [{u'x': 143, u'y': 1171},\n",
      "                                 {u'x': 1732, u'y': 1249}],\n",
      "                  u'score': 0.5,\n",
      "                  u'value': u'energy. Scientists have created simple fuel cells, which are like'},\n",
      "                 {u'rectangle': [{u'x': 143, u'y': 1251},\n",
      "                                 {u'x': 1728, u'y': 1323}],\n",
      "                  u'score': 0.5,\n",
      "                  u'value': u'batteries, that use bacteria to convert garbage into electricity.'},\n",
      "                 {u'rectangle': [{u'x': 139, u'y': 1328},\n",
      "                                 {u'x': 1645, u'y': 1393}],\n",
      "                  u'score': 0.5,\n",
      "                  u'value': u'These fuel cells may someday recycle waste into electricity'},\n",
      "                 {u'rectangle': [{u'x': 144, u'y': 1404},\n",
      "                                 {u'x': 659, u'y': 1469}],\n",
      "                  u'score': 0.5,\n",
      "                  u'value': u'during space flights.'},\n",
      "                 {u'rectangle': [{u'x': 241, u'y': 1472},\n",
      "                                 {u'x': 1705, u'y': 1539}],\n",
      "                  u'score': 0.5,\n",
      "                  u'value': u'So are all germs bad? Not at all. In fact, tiny bacteria may'},\n",
      "                 {u'rectangle': [{u'x': 143, u'y': 1549},\n",
      "                                 {u'x': 1792, u'y': 1617}],\n",
      "                  u'score': 0.5,\n",
      "                  u'value': u\"soon provide the solutions to some of Earth's biggest problems.\"},\n",
      "                 {u'rectangle': [{u'x': 1992, u'y': 734},\n",
      "                                 {u'x': 2232, u'y': 780}],\n",
      "                  u'score': 1.0,\n",
      "                  u'value': u'WEEK 3'},\n",
      "                 {u'rectangle': [{u'x': 212, u'y': 1704},\n",
      "                                 {u'x': 1737, u'y': 1887}],\n",
      "                  u'score': 0.75,\n",
      "                  u'value': u'A. Use information from the passage to answer each question 1. How do bacteria clean up pollution?'},\n",
      "                 {u'rectangle': [{u'x': 212, u'y': 1704},\n",
      "                                 {u'x': 1737, u'y': 1769}],\n",
      "                  u'score': 0.5,\n",
      "                  u'value': u'A. Use information from the passage to answer each question'},\n",
      "                 {u'rectangle': [{u'x': 292, u'y': 1833},\n",
      "                                 {u'x': 1304, u'y': 1887}],\n",
      "                  u'score': 0.5,\n",
      "                  u'value': u'1. How do bacteria clean up pollution?'},\n",
      "                 {u'rectangle': [{u'x': 292, u'y': 2100},\n",
      "                                 {u'x': 1773, u'y': 2168}],\n",
      "                  u'score': 1.0,\n",
      "                  u'value': u'2. How might bacteria help provide energy in the future?'},\n",
      "                 {u'rectangle': [{u'x': 224, u'y': 2381},\n",
      "                                 {u'x': 2023, u'y': 2660}],\n",
      "                  u'score': 0.75,\n",
      "                  u'value': u'B. Suppose a scientist was studying bacteria in her lab to find out what the bacteria could help clean up. What do you think the scientist could do to learn what the bacteria were good for? How might the scientist set up her experiment?'},\n",
      "                 {u'rectangle': [{u'x': 224, u'y': 2381},\n",
      "                                 {u'x': 1970, u'y': 2450}],\n",
      "                  u'score': 0.5,\n",
      "                  u'value': u'B. Suppose a scientist was studying bacteria in her lab to find out what'},\n",
      "                 {u'rectangle': [{u'x': 291, u'y': 2457},\n",
      "                                 {u'x': 2023, u'y': 2525}],\n",
      "                  u'score': 0.5,\n",
      "                  u'value': u'the bacteria could help clean up. What do you think the scientist could'},\n",
      "                 {u'rectangle': [{u'x': 296, u'y': 2534},\n",
      "                                 {u'x': 1997, u'y': 2596}],\n",
      "                  u'score': 0.5,\n",
      "                  u'value': u'do to learn what the bacteria were good for? How might the scientist'},\n",
      "                 {u'rectangle': [{u'x': 292, u'y': 2613},\n",
      "                                 {u'x': 862, u'y': 2660}],\n",
      "                  u'score': 0.5,\n",
      "                  u'value': u'set up her experiment?'},\n",
      "                 {u'rectangle': [{u'x': 143, u'y': 3136},\n",
      "                                 {u'x': 198, u'y': 3172}],\n",
      "                  u'score': 1.0,\n",
      "                  u'value': u'54'},\n",
      "                 {u'rectangle': [{u'x': 275, u'y': 3138},\n",
      "                                 {u'x': 456, u'y': 3184}],\n",
      "                  u'score': 1.0,\n",
      "                  u'value': u'Big Idea 2'},\n",
      "                 {u'rectangle': [{u'x': 513, u'y': 3136},\n",
      "                                 {u'x': 634, u'y': 3186}],\n",
      "                  u'score': 1.0,\n",
      "                  u'value': u'Week 3'},\n",
      "                 {u'rectangle': [{u'x': 1490, u'y': 3136},\n",
      "                                 {u'x': 1916, u'y': 3180}],\n",
      "                  u'score': 1.0,\n",
      "                  u'value': u'Daily Science EMC 5014'},\n",
      "                 {u'rectangle': [{u'x': 2001, u'y': 3136},\n",
      "                                 {u'x': 2289, u'y': 3180}],\n",
      "                  u'score': 1.0,\n",
      "                  u'value': u'Evan-Moor Corp.'}]}\n"
     ]
    }
   ],
   "source": [
    "pprint.pprint(anno_respone)"
   ]
  },
  {
   "cell_type": "code",
   "execution_count": null,
   "metadata": {
    "collapsed": true,
    "run_control": {
     "frozen": false,
     "read_only": false
    }
   },
   "outputs": [],
   "source": []
  }
 ],
 "metadata": {
  "kernelspec": {
   "display_name": "Python 2",
   "language": "python",
   "name": "python2"
  },
  "language_info": {
   "codemirror_mode": {
    "name": "ipython",
    "version": 2
   },
   "file_extension": ".py",
   "mimetype": "text/x-python",
   "name": "python",
   "nbconvert_exporter": "python",
   "pygments_lexer": "ipython2",
   "version": "2.7.10"
  }
 },
 "nbformat": 4,
 "nbformat_minor": 0
}
