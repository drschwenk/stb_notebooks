{
 "cells": [
  {
   "cell_type": "markdown",
   "metadata": {
    "heading_collapsed": true
   },
   "source": [
    "## Table of Contents\n",
    "* [Investigating programatically recovering hierarchy](#Investigating-programatically-recovering-hierarchy)\n",
    "\t* [Dataframe stuff](#Dataframe-stuff)\n",
    "* [End](#End)\n"
   ]
  },
  {
   "cell_type": "code",
   "execution_count": 1,
   "metadata": {
    "collapsed": true,
    "hidden": true,
    "run_control": {
     "frozen": false,
     "read_only": false
    }
   },
   "outputs": [],
   "source": [
    "%%capture\n",
    "from __future__ import division\n",
    "import numpy as np\n",
    "import pandas as pd\n",
    "import scipy.stats as st\n",
    "import itertools\n",
    "import math\n",
    "from collections import Counter, defaultdict, OrderedDict\n",
    "%load_ext autoreload\n",
    "%autoreload 2"
   ]
  },
  {
   "cell_type": "code",
   "execution_count": 13,
   "metadata": {
    "collapsed": false,
    "hidden": true,
    "run_control": {
     "frozen": false,
     "read_only": false
    }
   },
   "outputs": [],
   "source": [
    "import pickle\n",
    "import json\n",
    "import glob\n",
    "import pprint\n",
    "from copy import deepcopy"
   ]
  },
  {
   "cell_type": "code",
   "execution_count": 3,
   "metadata": {
    "collapsed": false,
    "hidden": true,
    "run_control": {
     "frozen": false,
     "read_only": false
    }
   },
   "outputs": [],
   "source": [
    "# import pdfextraction.merge as me\n",
    "# import pdfextraction.unmerge as um\n",
    "import pdfextraction.amt_boto_modules as amt\n",
    "# import pdfextraction.hierarchy_exctraction_spectrum_sci as hext\n",
    "import pdfextraction.hierarchy_extractor as hexter"
   ]
  },
  {
   "cell_type": "markdown",
   "metadata": {},
   "source": [
    "# Investigating programatically recovering hierarchy"
   ]
  },
  {
   "cell_type": "markdown",
   "metadata": {},
   "source": [
    "## Setting up paths and other basics"
   ]
  },
  {
   "cell_type": "code",
   "execution_count": 4,
   "metadata": {
    "collapsed": true,
    "run_control": {
     "frozen": false,
     "read_only": false
    }
   },
   "outputs": [],
   "source": [
    "base_path = 'ai2-vision-turk-data/textbook-annotation-test/labeled-questions/'\n",
    "test_path = 'ai2-vision-turk-data/textbook-annotation-test/hierarchy-ext-test/'"
   ]
  },
  {
   "cell_type": "code",
   "execution_count": 5,
   "metadata": {
    "collapsed": true,
    "run_control": {
     "frozen": false,
     "read_only": false
    }
   },
   "outputs": [
    {
     "ename": "UnicodeDecodeError",
     "evalue": "'ascii' codec can't decode byte 0xe2 in position 6: ordinal not in range(128)",
     "output_type": "error",
     "traceback": [
      "\u001b[0;31m---------------------------------------------------------------------------\u001b[0m",
      "\u001b[0;31mUnicodeDecodeError\u001b[0m                        Traceback (most recent call last)",
      "\u001b[0;32m<ipython-input-5-4fb5b7f6979a>\u001b[0m in \u001b[0;36m<module>\u001b[0;34m()\u001b[0m\n\u001b[1;32m      3\u001b[0m \u001b[0mto_review\u001b[0m \u001b[0;34m=\u001b[0m \u001b[0mpd\u001b[0m\u001b[0;34m.\u001b[0m\u001b[0mread_pickle\u001b[0m\u001b[0;34m(\u001b[0m\u001b[0;34m'rev_seq.pkl'\u001b[0m\u001b[0;34m)\u001b[0m\u001b[0;34m.\u001b[0m\u001b[0mtolist\u001b[0m\u001b[0;34m(\u001b[0m\u001b[0;34m)\u001b[0m\u001b[0;34m\u001b[0m\u001b[0m\n\u001b[1;32m      4\u001b[0m \u001b[0;34m\u001b[0m\u001b[0m\n\u001b[0;32m----> 5\u001b[0;31m \u001b[0mbook_breakdowns\u001b[0m\u001b[0;34m,\u001b[0m \u001b[0mpage_ranges\u001b[0m \u001b[0;34m=\u001b[0m \u001b[0mamt\u001b[0m\u001b[0;34m.\u001b[0m\u001b[0mload_book_info\u001b[0m\u001b[0;34m(\u001b[0m\u001b[0;34m)\u001b[0m\u001b[0;34m\u001b[0m\u001b[0m\n\u001b[0m\u001b[1;32m      6\u001b[0m \u001b[0;34m\u001b[0m\u001b[0m\n\u001b[1;32m      7\u001b[0m \u001b[0mverified_pages\u001b[0m \u001b[0;34m=\u001b[0m \u001b[0mto_review\u001b[0m\u001b[0;34m\u001b[0m\u001b[0m\n",
      "\u001b[0;32m/Users/schwenk/wrk/notebooks/stb/pdfextraction/amt_boto_modules.py\u001b[0m in \u001b[0;36mload_book_info\u001b[0;34m()\u001b[0m\n\u001b[1;32m     17\u001b[0m \u001b[0;32mdef\u001b[0m \u001b[0mload_book_info\u001b[0m\u001b[0;34m(\u001b[0m\u001b[0;34m)\u001b[0m\u001b[0;34m:\u001b[0m\u001b[0;34m\u001b[0m\u001b[0m\n\u001b[1;32m     18\u001b[0m     \u001b[0;32mwith\u001b[0m \u001b[0mopen\u001b[0m\u001b[0;34m(\u001b[0m\u001b[0;34m'breakdowns.pkl'\u001b[0m\u001b[0;34m,\u001b[0m \u001b[0;34m'rb'\u001b[0m\u001b[0;34m)\u001b[0m \u001b[0;32mas\u001b[0m \u001b[0mf\u001b[0m\u001b[0;34m:\u001b[0m\u001b[0;34m\u001b[0m\u001b[0m\n\u001b[0;32m---> 19\u001b[0;31m         \u001b[0mbook_breakdowns\u001b[0m \u001b[0;34m=\u001b[0m \u001b[0mpickle\u001b[0m\u001b[0;34m.\u001b[0m\u001b[0mload\u001b[0m\u001b[0;34m(\u001b[0m\u001b[0mf\u001b[0m\u001b[0;34m)\u001b[0m\u001b[0;34m\u001b[0m\u001b[0m\n\u001b[0m\u001b[1;32m     20\u001b[0m \u001b[0;34m\u001b[0m\u001b[0m\n\u001b[1;32m     21\u001b[0m     \u001b[0;32mwith\u001b[0m \u001b[0mopen\u001b[0m\u001b[0;34m(\u001b[0m\u001b[0;34m'pdfs/page_ranges.csv'\u001b[0m\u001b[0;34m)\u001b[0m \u001b[0;32mas\u001b[0m \u001b[0mf\u001b[0m\u001b[0;34m:\u001b[0m\u001b[0;34m\u001b[0m\u001b[0m\n",
      "\u001b[0;31mUnicodeDecodeError\u001b[0m: 'ascii' codec can't decode byte 0xe2 in position 6: ordinal not in range(128)"
     ]
    }
   ],
   "source": [
    "question_pages_df = pd.read_pickle('pages_w_questions.pkl')\n",
    "question_pages = question_pages_df['page'].tolist()\n",
    "to_review = pd.read_pickle('rev_seq.pkl').tolist()\n",
    "\n",
    "book_breakdowns, page_ranges = amt.load_book_info()\n",
    "\n",
    "verified_pages = to_review\n",
    "verified_pages_minus_bad = [page for page in verified_pages if page not in bad_pages.tolist()]\n",
    "print(len(verified_pages))\n",
    "print(len(verified_pages_minus_bad))"
   ]
  },
  {
   "cell_type": "markdown",
   "metadata": {
    "heading_collapsed": true
   },
   "source": [
    "## Basic structure"
   ]
  },
  {
   "cell_type": "code",
   "execution_count": null,
   "metadata": {
    "collapsed": true,
    "hidden": true,
    "run_control": {
     "frozen": false,
     "read_only": false
    }
   },
   "outputs": [],
   "source": [
    "# accuracy_total, errors_total, box_totals, ind_page_results = predict_and_verify_groups(single_page)\n",
    "accuracy_total, errors_total, box_totals, ind_page_results = hext.predict_and_verify_groups(verified_pages_minus_bad, base_path)\n",
    "\n",
    "print errors_total\n",
    "print box_totals\n",
    "print accuracy_total"
   ]
  },
  {
   "cell_type": "markdown",
   "metadata": {
    "collapsed": false,
    "hidden": true,
    "run_control": {
     "frozen": false,
     "read_only": false
    }
   },
   "source": [
    "for page_res in ind_page_results:\n",
    "    hext.write_predicted_groups(page_res, base_path, test_path)"
   ]
  },
  {
   "cell_type": "code",
   "execution_count": null,
   "metadata": {
    "collapsed": true,
    "hidden": true,
    "run_control": {
     "frozen": false,
     "read_only": false
    }
   },
   "outputs": [],
   "source": [
    "problem_pages = [page[0] for page in ind_page_results if page[2] < 1.0]\n",
    "problem_pagess = pd.Series(problem_pages)\n",
    "# problem_pagess.to_pickle('problem_pages.pkl')"
   ]
  },
  {
   "cell_type": "code",
   "execution_count": 19,
   "metadata": {
    "collapsed": true,
    "hidden": true,
    "run_control": {
     "frozen": false,
     "read_only": false
    }
   },
   "outputs": [],
   "source": [
    "page_n = 0"
   ]
  },
  {
   "cell_type": "code",
   "execution_count": 281,
   "metadata": {
    "collapsed": true,
    "hidden": true,
    "run_control": {
     "frozen": false,
     "read_only": false
    }
   },
   "outputs": [
    {
     "name": "stdout",
     "output_type": "stream",
     "text": [
      "\n",
      "actual 1\n",
      "predicted 1\n",
      "A. Write true or false.\n",
      "\n",
      "\n",
      "actual 1\n",
      "predicted 1\n",
      "1. A conductor allows electric current to\n",
      "\n",
      "\n",
      "actual 1\n",
      "predicted 1\n",
      "flow through it easily\n",
      "\n",
      "\n",
      "actual 1\n",
      "predicted 1\n",
      "2. Electrical energy can make heat energy.\n",
      "\n",
      "\n",
      "actual 1\n",
      "predicted 1\n",
      "3. Resistors convert less energy into heat\n",
      "\n",
      "\n",
      "actual 1\n",
      "predicted 1\n",
      "than conductors do\n",
      "\n",
      "\n",
      "actual 1\n",
      "predicted 1\n",
      "4. All metals conduct electricity\n",
      "\n",
      "\n",
      "actual 1\n",
      "predicted 1\n",
      "equally we\n",
      "\n",
      "\n",
      "actual 2\n",
      "predicted 2\n",
      "B. What is the main difference between a conductor and a resistor?\n",
      "\n",
      "\n",
      "actual 2\n",
      "predicted 3\n",
      "C. How did resistors help the people who invented toasters?\n",
      "\n",
      "\n",
      "actual 2\n",
      "predicted 3\n",
      "Explain your answer\n",
      "\n",
      "\n",
      "[u'Daily_Science_Grade_4_Evan_Moor_131.jpeg']\n",
      "page 9\n",
      "number wrong= 2\n",
      "out of 22\n",
      "accuracy 0.909090909091\n"
     ]
    }
   ],
   "source": [
    "cur_page = problem_pages[page_n:page_n + 1]\n",
    "accuracy_total, errors_total, box_totals, ind_page_results = predict_and_verify_groups(cur_page)\n",
    "page_n += 1\n",
    "print ''\n",
    "print cur_page\n",
    "print '{} {}'.format('page', page_n)\n",
    "print '{} {}'.format('number wrong=', errors_total)\n",
    "print '{} {}'.format('out of', box_totals)\n",
    "print '{} {}'.format('accuracy', accuracy_total)"
   ]
  },
  {
   "cell_type": "markdown",
   "metadata": {
    "heading_collapsed": true
   },
   "source": [
    "## Question-type specific structure"
   ]
  },
  {
   "cell_type": "code",
   "execution_count": 18,
   "metadata": {
    "collapsed": true,
    "hidden": true,
    "run_control": {
     "frozen": false,
     "read_only": false
    }
   },
   "outputs": [],
   "source": [
    "# single_page = ['Daily_Science_Grade_2_Evan_Moor_33.jpeg']\n",
    "single_page = ['Daily_Science_Grade_1_Evan_Moor_123.jpeg']\n",
    "single_page = ['Daily_Science_Grade_1_Evan_Moor_93.jpeg']\n",
    "# single_page = ['Daily_Science_Grade_1_Evan_Moor_44.jpeg'] # this is an example of the ocr serivce merging failing\n",
    "# single_page = ['Daily_Science_Grade_2_Evan_Moor_107.jpeg'] # this is an example of unlabeled answer choices\n",
    "# single_page = ['Daily_Science_Grade_2_Evan_Moor_12.jpeg']\n",
    "# single_page = ['Daily_Science_Grade_2_Evan_Moor_123.jpeg'] \n",
    "# single_page = ['Daily_Science_Grade_2_Evan_Moor_144.jpeg'] #short answer and mc\n",
    "# single_page = ['Daily_Science_Grade_2_Evan_Moor_146.jpeg'] # fib and mc\n",
    "# single_page = ['Daily_Science_Grade_2_Evan_Moor_149.jpeg'] # another case where ocr service put on the same line "
   ]
  },
  {
   "cell_type": "markdown",
   "metadata": {
    "hidden": true
   },
   "source": [
    "1) question type hist\n",
    "2) what cats turkers do well on \n",
    "3) total questions "
   ]
  },
  {
   "cell_type": "code",
   "execution_count": null,
   "metadata": {
    "collapsed": true,
    "hidden": true,
    "run_control": {
     "frozen": false,
     "read_only": false
    }
   },
   "outputs": [],
   "source": [
    "ex_anno['parsed_questions'] = dict(complete_questions)\n",
    "ex_anno['instructions'] = dict(instructions)"
   ]
  },
  {
   "cell_type": "code",
   "execution_count": 72,
   "metadata": {
    "collapsed": true,
    "hidden": true,
    "run_control": {
     "frozen": false,
     "read_only": false
    }
   },
   "outputs": [],
   "source": [
    "page_n = 32 "
   ]
  },
  {
   "cell_type": "code",
   "execution_count": 371,
   "metadata": {
    "collapsed": false,
    "hidden": true,
    "run_control": {
     "frozen": false,
     "read_only": false
    }
   },
   "outputs": [],
   "source": [
    "from copy import deepcopy"
   ]
  },
  {
   "cell_type": "code",
   "execution_count": 232,
   "metadata": {
    "collapsed": false,
    "hidden": true,
    "run_control": {
     "frozen": false,
     "read_only": false
    },
    "scrolled": false
   },
   "outputs": [
    {
     "ename": "NameError",
     "evalue": "name 'hext' is not defined",
     "output_type": "error",
     "traceback": [
      "\u001b[0;31m---------------------------------------------------------------------------\u001b[0m",
      "\u001b[0;31mNameError\u001b[0m                                 Traceback (most recent call last)",
      "\u001b[0;32m<ipython-input-232-64331195b7ba>\u001b[0m in \u001b[0;36m<module>\u001b[0;34m()\u001b[0m\n\u001b[0;32m----> 1\u001b[0;31m \u001b[0mextracted_hier\u001b[0m \u001b[0;34m=\u001b[0m \u001b[0mhext\u001b[0m\u001b[0;34m.\u001b[0m\u001b[0mparse_book\u001b[0m\u001b[0;34m(\u001b[0m\u001b[0;34m[\u001b[0m\u001b[0mtest_page\u001b[0m\u001b[0;34m]\u001b[0m\u001b[0;34m,\u001b[0m \u001b[0mtest_path\u001b[0m\u001b[0;34m)\u001b[0m\u001b[0;34m\u001b[0m\u001b[0m\n\u001b[0m",
      "\u001b[0;31mNameError\u001b[0m: name 'hext' is not defined"
     ]
    }
   ],
   "source": [
    "extracted_hier = hext.parse_book([test_page], test_path)"
   ]
  },
  {
   "cell_type": "code",
   "execution_count": 340,
   "metadata": {
    "collapsed": true,
    "hidden": true,
    "run_control": {
     "frozen": false,
     "read_only": false
    }
   },
   "outputs": [
    {
     "data": {
      "text/plain": [
       "{'G2': {u'full_Q_1.': {'answer_choices': {u'answer_choice_a.': {'possible_answer': {u'box_id': u'Q3',\n",
       "      u'contents': u'a. the conditions in space are similar to conditions on Earth.',\n",
       "      'end_x': 973,\n",
       "      'end_y': 341,\n",
       "      u'group_n': 2,\n",
       "      'start_x': 169,\n",
       "      'start_y': 297,\n",
       "      'vert_order': 2},\n",
       "     'structural_label': u'a.'},\n",
       "    u'answer_choice_b.': {'possible_answer': {u'box_id': u'Q4',\n",
       "      u'contents': u'b. it is very expensive.',\n",
       "      'end_x': 468,\n",
       "      'end_y': 399,\n",
       "      u'group_n': 2,\n",
       "      'start_x': 167,\n",
       "      'start_y': 361,\n",
       "      'vert_order': 3},\n",
       "     'structural_label': u'b.'},\n",
       "    u'answer_choice_c.': {'possible_answer': {u'box_id': u'Q5',\n",
       "      u'contents': u\"c. they can't survive without a lot of equipment.\",\n",
       "      'end_x': 810,\n",
       "      'end_y': 451,\n",
       "      u'group_n': 2,\n",
       "      'start_x': 167,\n",
       "      'start_y': 418,\n",
       "      'vert_order': 4},\n",
       "     'structural_label': u'c.'},\n",
       "    u'answer_choice_d.': {'possible_answer': {u'box_id': u'Q6',\n",
       "      u'contents': u\"d. technology hasn't advanced very much in recent years\",\n",
       "      'end_x': 922,\n",
       "      'end_y': 512,\n",
       "      u'group_n': 2,\n",
       "      'start_x': 167,\n",
       "      'start_y': 470,\n",
       "      'vert_order': 5},\n",
       "     'structural_label': u'd.'}},\n",
       "   'asks': {'Qc1': {u'box_id': u'Q2',\n",
       "     u'contents': u'1. Space travel is dangerous for human beings because 1.',\n",
       "     'end_x': 860,\n",
       "     'end_y': 276,\n",
       "     u'group_n': 2,\n",
       "     'start_x': 123,\n",
       "     'start_y': 238,\n",
       "     'vert_order': 1}},\n",
       "   'category': u'Multiple Choice',\n",
       "   'question_id': u'full_Q_1.',\n",
       "   'structural_id': u'1.'}},\n",
       " 'G3': {u'full_Q_2.': {'answer_choices': {},\n",
       "   'asks': {'Qc1': {u'box_id': u'Q9',\n",
       "     u'contents': u'2.',\n",
       "     'end_x': 146,\n",
       "     'end_y': 644,\n",
       "     u'group_n': 3,\n",
       "     'start_x': 122,\n",
       "     'start_y': 621,\n",
       "     'vert_order': 8},\n",
       "    'Qc2': {u'box_id': u'Q10',\n",
       "     u'contents': u'NASA has been operating a base on the moon for more than 20 years.',\n",
       "     'end_x': 1411,\n",
       "     'end_y': 728,\n",
       "     u'group_n': 3,\n",
       "     'start_x': 474,\n",
       "     'start_y': 687,\n",
       "     'vert_order': 9}},\n",
       "   'category': u'True/False',\n",
       "   'question_id': u'full_Q_2.',\n",
       "   'structural_id': u'2.'},\n",
       "  u'full_Q_3.': {'answer_choices': {},\n",
       "   'asks': {'Qc3': {u'box_id': u'Q11',\n",
       "     u'contents': u'3.',\n",
       "     'end_x': 145,\n",
       "     'end_y': 714,\n",
       "     u'group_n': 3,\n",
       "     'start_x': 120,\n",
       "     'start_y': 690,\n",
       "     'vert_order': 10},\n",
       "    'Qc4': {u'box_id': u'Q12',\n",
       "     u'contents': u'Scientists hope to find resources in space that could be useful to human beings.',\n",
       "     'end_x': 1498,\n",
       "     'end_y': 808,\n",
       "     u'group_n': 3,\n",
       "     'start_x': 474,\n",
       "     'start_y': 762,\n",
       "     'vert_order': 11}},\n",
       "   'category': u'True/False',\n",
       "   'question_id': u'full_Q_3.',\n",
       "   'structural_id': u'3.'},\n",
       "  u'full_Q_4.': {'answer_choices': {},\n",
       "   'asks': {'Qc5': {u'box_id': u'Q13',\n",
       "     u'contents': u'4.',\n",
       "     'end_x': 145,\n",
       "     'end_y': 790,\n",
       "     u'group_n': 3,\n",
       "     'start_x': 121,\n",
       "     'start_y': 765,\n",
       "     'vert_order': 12},\n",
       "    'Qc6': {u'box_id': u'Q14',\n",
       "     u'contents': u'Not everyone agrees about the value and importance of space exploration.',\n",
       "     'end_x': 1459,\n",
       "     'end_y': 885,\n",
       "     u'group_n': 3,\n",
       "     'start_x': 472,\n",
       "     'start_y': 835,\n",
       "     'vert_order': 13}},\n",
       "   'category': u'True/False',\n",
       "   'question_id': u'full_Q_4.',\n",
       "   'structural_id': u'4.'},\n",
       "  u'full_Q_5.': {'answer_choices': {},\n",
       "   'asks': {'Qc7': {u'box_id': u'Q15',\n",
       "     u'contents': u'5.',\n",
       "     'end_x': 144,\n",
       "     'end_y': 865,\n",
       "     u'group_n': 3,\n",
       "     'start_x': 121,\n",
       "     'start_y': 841,\n",
       "     'vert_order': 14},\n",
       "    'Qc8': {u'box_id': u'Q16',\n",
       "     u'contents': u'Technology developed for the space program has no use on Earth.',\n",
       "     'end_x': 1350,\n",
       "     'end_y': 948,\n",
       "     u'group_n': 3,\n",
       "     'start_x': 470,\n",
       "     'start_y': 912,\n",
       "     'vert_order': 15}},\n",
       "   'category': u'True/False',\n",
       "   'question_id': u'full_Q_5.',\n",
       "   'structural_id': u'5.'},\n",
       "  u'full_Q_6.': {'answer_choices': {},\n",
       "   'asks': {'Qc9': {u'box_id': u'Q17',\n",
       "     u'contents': u'6.',\n",
       "     'end_x': 144,\n",
       "     'end_y': 938,\n",
       "     u'group_n': 3,\n",
       "     'start_x': 121,\n",
       "     'start_y': 914,\n",
       "     'vert_order': 16}},\n",
       "   'category': u'True/False',\n",
       "   'question_id': u'full_Q_6.',\n",
       "   'structural_id': u'6.'}},\n",
       " 'G4': {u'full_Q_Wr': {'answer_choices': {},\n",
       "   'asks': {'Qc1': {u'box_id': u'Q18',\n",
       "     u'contents': u'Write your answers on the lines below.',\n",
       "     'end_x': 610,\n",
       "     'end_y': 1021,\n",
       "     u'group_n': 4,\n",
       "     'start_x': 101,\n",
       "     'start_y': 983,\n",
       "     'vert_order': 17}},\n",
       "   'category': u'Short Answer',\n",
       "   'question_id': u'full_Q_Wr',\n",
       "   'structural_id': u'Wr'}},\n",
       " 'G5': {u'full_Q_7.': {'answer_choices': {},\n",
       "   'asks': {'Qc2': {u'box_id': u'Q19',\n",
       "     u'contents': u\"7. How did the two space shuttle disasters affect the public's view of space travel? 7.\",\n",
       "     'end_x': 1215,\n",
       "     'end_y': 1091,\n",
       "     u'group_n': 5,\n",
       "     'start_x': 115,\n",
       "     'start_y': 1050,\n",
       "     'vert_order': 18}},\n",
       "   'category': u'Short Answer',\n",
       "   'question_id': u'full_Q_7.',\n",
       "   'structural_id': u'7.'}},\n",
       " 'G6': {u'full_Q_8.': {'answer_choices': {},\n",
       "   'asks': {'Qc4': {u'box_id': u'Q21',\n",
       "     u'contents': u'8. What is one benefit and one drawback of using robots instead of human beings for 8. space exploration?',\n",
       "     'end_x': 1269,\n",
       "     'end_y': 1350,\n",
       "     u'group_n': 6,\n",
       "     'start_x': 117,\n",
       "     'start_y': 1265,\n",
       "     'vert_order': 20}},\n",
       "   'category': u'Short Answer',\n",
       "   'question_id': u'full_Q_8.',\n",
       "   'structural_id': u'8.'}},\n",
       " 'G7': {u'full_Q_9.': {'answer_choices': {},\n",
       "   'asks': {'Qc5': {u'box_id': u'Q22',\n",
       "     u'contents': u'9. Why do some people think that the use of money for space exploration is a bad decision? 9.',\n",
       "     'end_x': 1346,\n",
       "     'end_y': 1575,\n",
       "     u'group_n': 7,\n",
       "     'start_x': 115,\n",
       "     'start_y': 1529,\n",
       "     'vert_order': 21}},\n",
       "   'category': u'Short Answer',\n",
       "   'question_id': u'full_Q_9.',\n",
       "   'structural_id': u'9.'}},\n",
       " 'G8': {u'full_Q_10': {'answer_choices': {},\n",
       "   'asks': {'Qc6': {u'box_id': u'Q23',\n",
       "     u'contents': u'10. What do you think about space exploration? Are the risks worth the benefits? Explain. 10.',\n",
       "     'end_x': 1308,\n",
       "     'end_y': 1799,\n",
       "     u'group_n': 8,\n",
       "     'start_x': 102,\n",
       "     'start_y': 1751,\n",
       "     'vert_order': 22}},\n",
       "   'category': u'Short Answer',\n",
       "   'question_id': u'full_Q_10',\n",
       "   'structural_id': u'10'}}}"
      ]
     },
     "execution_count": 340,
     "metadata": {},
     "output_type": "execute_result"
    }
   ],
   "source": [
    "extracted_hier"
   ]
  },
  {
   "cell_type": "code",
   "execution_count": 97,
   "metadata": {
    "collapsed": false,
    "hidden": true,
    "run_control": {
     "frozen": false,
     "read_only": false
    }
   },
   "outputs": [],
   "source": [
    "# page_n += 1\n",
    "# print page_n\n",
    "# single_page = ['Daily_Science_Grade_2_Evan_Moor_' + str(page_n) +'.jpeg']\n",
    "\n",
    "# ctq = hext.parse_book(single_page, test_path)\n",
    "\n",
    "# for gn, group in ctq.items():\n",
    "#     print 'group ' + gn\n",
    "#     print\n",
    "#     for full_q, parts in group.items():\n",
    "#         if full_q == 'misfits':\n",
    "#             print 'misfits'\n",
    "#             for misfit, val in parts.items():\n",
    "#                 for box, tv in val['asks'].items():\n",
    "#                     print '    ' + tv['contents']\n",
    "#         else:\n",
    "#             print 'question   ' + parts['category']  \n",
    "#             for ids, question_parts in parts['asks'].items():\n",
    "#                 print question_parts['contents']\n",
    "#             for ids, ac in parts['answer_choices'].items():\n",
    "#                 print '    '  + ac['possible_answer']['contents']\n",
    "#         print"
   ]
  },
  {
   "cell_type": "code",
   "execution_count": 246,
   "metadata": {
    "collapsed": true,
    "hidden": true,
    "run_control": {
     "frozen": false,
     "read_only": false
    }
   },
   "outputs": [
    {
     "ename": "AttributeError",
     "evalue": "module 'pdfextraction.hierarchy_extractor' has no attribute 'QuestionGroupsByPage'",
     "output_type": "error",
     "traceback": [
      "\u001b[0;31m---------------------------------------------------------------------------\u001b[0m",
      "\u001b[0;31mAttributeError\u001b[0m                            Traceback (most recent call last)",
      "\u001b[0;32m<ipython-input-246-d493b0c2486b>\u001b[0m in \u001b[0;36m<module>\u001b[0;34m()\u001b[0m\n\u001b[1;32m      2\u001b[0m     \u001b[0mtest_annotations\u001b[0m \u001b[0;34m=\u001b[0m \u001b[0mjson\u001b[0m\u001b[0;34m.\u001b[0m\u001b[0mload\u001b[0m\u001b[0;34m(\u001b[0m\u001b[0mf\u001b[0m\u001b[0;34m)\u001b[0m\u001b[0;34m\u001b[0m\u001b[0m\n\u001b[1;32m      3\u001b[0m \u001b[0;34m\u001b[0m\u001b[0m\n\u001b[0;32m----> 4\u001b[0;31m \u001b[0mboxes_w_assigned_groups\u001b[0m \u001b[0;34m=\u001b[0m \u001b[0mhexter\u001b[0m\u001b[0;34m.\u001b[0m\u001b[0mQuestionGroupsByPage\u001b[0m\u001b[0;34m.\u001b[0m\u001b[0mgroup_questions_by_type\u001b[0m\u001b[0;34m(\u001b[0m\u001b[0mtest_annotations\u001b[0m\u001b[0;34m)\u001b[0m\u001b[0;34m\u001b[0m\u001b[0m\n\u001b[0m\u001b[1;32m      5\u001b[0m \u001b[0;34m\u001b[0m\u001b[0m\n\u001b[1;32m      6\u001b[0m \u001b[0mtest_page_parser\u001b[0m \u001b[0;34m=\u001b[0m \u001b[0mhexter\u001b[0m\u001b[0;34m.\u001b[0m\u001b[0mQuestionTypeParser\u001b[0m\u001b[0;34m(\u001b[0m\u001b[0;34m)\u001b[0m\u001b[0;34m\u001b[0m\u001b[0m\n",
      "\u001b[0;31mAttributeError\u001b[0m: module 'pdfextraction.hierarchy_extractor' has no attribute 'QuestionGroupsByPage'"
     ]
    }
   ],
   "source": [
    "with open(test_path + test_page.replace('jpeg', 'json')) as f:\n",
    "    test_annotations = json.load(f)\n",
    "\n",
    "boxes_w_assigned_groups = hexter.QuestionGroupsByPage.group_questions_by_type(test_annotations)\n",
    "\n",
    "test_page_parser = hexter.QuestionTypeParser()\n",
    "\n",
    "# mc_parser = test_page_parser.get_type_specific_parser('Multiple Choice')\n",
    "# mc_test_questions = boxes_w_assigned_groups['Multiple Choice']\n",
    "\n",
    "mc_parser = test_page_parser.get_type_specific_parser('Short Answer')\n",
    "mc_test_questions = boxes_w_assigned_groups['Short Answer']\n",
    "\n",
    "mc_parser.scan_boxes(mc_test_questions)\n",
    "\n",
    "parsed_qs = mc_parser.parsed_questions"
   ]
  },
  {
   "cell_type": "markdown",
   "metadata": {},
   "source": [
    "# Working"
   ]
  },
  {
   "cell_type": "code",
   "execution_count": 6,
   "metadata": {
    "collapsed": true,
    "run_control": {
     "frozen": false,
     "read_only": false
    }
   },
   "outputs": [],
   "source": [
    "transferred_q_labels_dir = 'transferred-question-labels/'"
   ]
  },
  {
   "cell_type": "code",
   "execution_count": 7,
   "metadata": {
    "collapsed": true,
    "run_control": {
     "frozen": false,
     "read_only": false
    }
   },
   "outputs": [],
   "source": [
    "green_pages = {}\n",
    "red_pages = {}"
   ]
  },
  {
   "cell_type": "code",
   "execution_count": 14,
   "metadata": {
    "collapsed": false,
    "run_control": {
     "frozen": false,
     "read_only": false
    }
   },
   "outputs": [
    {
     "name": "stdout",
     "output_type": "stream",
     "text": [
      "green  dict_keys(['Spectrum_Science_Grade_3_122.jpeg'])\n",
      "red  dict_keys([])\n"
     ]
    }
   ],
   "source": [
    "green_pages.update({test_page: deepcopy(parsed_w_test)})\n",
    "print('green ', green_pages.keys())\n",
    "print('red ', red_pages.keys())"
   ]
  },
  {
   "cell_type": "code",
   "execution_count": 399,
   "metadata": {
    "collapsed": false,
    "run_control": {
     "frozen": false,
     "read_only": false
    }
   },
   "outputs": [
    {
     "name": "stdout",
     "output_type": "stream",
     "text": [
      "green  dict_keys([])\n",
      "red  dict_keys(['Spectrum_Science_Grade_7_52.jpeg'])\n"
     ]
    }
   ],
   "source": [
    "red_pages.update({test_page: deepcopy(parsed_w_test)})\n",
    "print('green ', green_pages.keys())\n",
    "print('red ', red_pages.keys())"
   ]
  },
  {
   "cell_type": "code",
   "execution_count": 9,
   "metadata": {
    "collapsed": false,
    "run_control": {
     "frozen": false,
     "read_only": false
    }
   },
   "outputs": [],
   "source": [
    "turk_data_base_path = './ai2-vision-turk-data/textbook-annotation-test/'\n",
    "test_path = turk_data_base_path + transferred_q_labels_dir\n",
    "# test_page = 'Spectrum_Science_Grade_3_52.jpeg'\n",
    "# test_page = 'Spectrum_Science_Grade_5_68.jpeg'\n",
    "# test_page = 'Spectrum_Science_Grade_5_102.jpeg'\n",
    "# test_page = 'Spectrum_Science_Grade_7_52.jpeg'\n",
    "\n",
    "test_page = 'Spectrum_Science_Grade_3_122.jpeg'\n",
    "\n",
    "\n",
    "with open(test_path + test_page.replace('jpeg', 'json')) as f:\n",
    "    test_annotations = json.load(f)"
   ]
  },
  {
   "cell_type": "code",
   "execution_count": 17,
   "metadata": {
    "collapsed": false,
    "run_control": {
     "frozen": false,
     "read_only": false
    },
    "scrolled": false
   },
   "outputs": [
    {
     "data": {
      "text/plain": [
       "OrderedDict([('Multiple Choice', OrderedDict()),\n",
       "             ('Fill-in-the-Blank',\n",
       "              OrderedDict([('instructions',\n",
       "                            {'inst_line_0': ({'box_id': 'Q28',\n",
       "                               'contents': 'are needed for a rainbow to form.',\n",
       "                               'rectangle': [[828, 1293], [1272, 1330]]},),\n",
       "                             'inst_line_1': ({'box_id': 'Q30',\n",
       "                               'contents': 'and',\n",
       "                               'rectangle': [[431, 1295], [479, 1322]]},)}),\n",
       "                           ('Q_1',\n",
       "                            OrderedDict([('question_id', 'Q_1'),\n",
       "                                         ('category', 'Fill-in-the-Blank'),\n",
       "                                         ('structural_id', '18.'),\n",
       "                                         ('asks',\n",
       "                                          OrderedDict([('question_line_0',\n",
       "                                                        {'box_id': 'Q29',\n",
       "                                                         'contents': '18. 18',\n",
       "                                                         'rectangle': [[29,\n",
       "                                                           1293],\n",
       "                                                          [72, 1330]]})]))])),\n",
       "                           ('Q_2',\n",
       "                            OrderedDict([('question_id', 'Q_2'),\n",
       "                                         ('category', 'Fill-in-the-Blank'),\n",
       "                                         ('structural_id', '19.'),\n",
       "                                         ('asks',\n",
       "                                          OrderedDict([('question_line_0',\n",
       "                                                        {'box_id': 'Q31',\n",
       "                                                         'contents': '19. Everything in the universe is made of 19.',\n",
       "                                                         'rectangle': [[29,\n",
       "                                                           1366],\n",
       "                                                          [592,\n",
       "                                                           1406]]})]))]))])),\n",
       "             ('Short Answer',\n",
       "              OrderedDict([('Q_1',\n",
       "                            OrderedDict([('question_id', 'Q_1'),\n",
       "                                         ('category', 'Short Answer'),\n",
       "                                         ('structural_id', '20.'),\n",
       "                                         ('asks',\n",
       "                                          OrderedDict([('question_line_0',\n",
       "                                                        {'box_id': 'Q32',\n",
       "                                                         'contents': '20. Why does a good scientist need to be curious? 20.',\n",
       "                                                         'rectangle': [[26,\n",
       "                                                           1437],\n",
       "                                                          [709, 1477]]})]))])),\n",
       "                           ('Q_2',\n",
       "                            OrderedDict([('question_id', 'Q_2'),\n",
       "                                         ('category', 'Short Answer'),\n",
       "                                         ('structural_id', '22.'),\n",
       "                                         ('asks',\n",
       "                                          OrderedDict([('question_line_0',\n",
       "                                                        {'box_id': 'Q35',\n",
       "                                                         'contents': '22. What are one similarity and one difference between a microscope and a telescope? 22.',\n",
       "                                                         'rectangle': [[21,\n",
       "                                                           1757],\n",
       "                                                          [1186,\n",
       "                                                           1811]]})]))]))])),\n",
       "             ('True/False',\n",
       "              OrderedDict([('instructions',\n",
       "                            {'inst_line_0': ({'box_id': 'Q1',\n",
       "                               'contents': 'Write true or false next to each statement below.',\n",
       "                               'rectangle': [[36, 197], [680, 230]]},)}),\n",
       "                           ('Q_1',\n",
       "                            OrderedDict([('question_id', 'Q_1'),\n",
       "                                         ('category', 'True/False'),\n",
       "                                         ('structural_id', '6.'),\n",
       "                                         ('asks',\n",
       "                                          OrderedDict([('question_line_0',\n",
       "                                                        {'box_id': 'Q3+Q2',\n",
       "                                                         'category': 'True/False',\n",
       "                                                         'contents': '6. __BLANK__ The south end of a magnet will attract the south end of another magnet.',\n",
       "                                                         'rectangle': [[51,\n",
       "                                                           264],\n",
       "                                                          [1380, 306]]})]))])),\n",
       "                           ('Q_2',\n",
       "                            OrderedDict([('question_id', 'Q_2'),\n",
       "                                         ('category', 'True/False'),\n",
       "                                         ('structural_id', '7.'),\n",
       "                                         ('asks',\n",
       "                                          OrderedDict([('question_line_0',\n",
       "                                                        {'box_id': 'Q5+Q4',\n",
       "                                                         'category': 'True/False',\n",
       "                                                         'contents': '7. __BLANK__ A battery will work no matter which way it is put into a device.',\n",
       "                                                         'rectangle': [[51,\n",
       "                                                           329],\n",
       "                                                          [1272, 387]]})]))])),\n",
       "                           ('Q_3',\n",
       "                            OrderedDict([('question_id', 'Q_3'),\n",
       "                                         ('category', 'True/False'),\n",
       "                                         ('structural_id', '8.'),\n",
       "                                         ('asks',\n",
       "                                          OrderedDict([('question_line_0',\n",
       "                                                        {'box_id': 'Q7',\n",
       "                                                         'contents': '8.',\n",
       "                                                         'rectangle': [[49,\n",
       "                                                           414],\n",
       "                                                          [95, 452]]})]))])),\n",
       "                           ('Q_4',\n",
       "                            OrderedDict([('question_id', 'Q_4'),\n",
       "                                         ('category', 'True/False'),\n",
       "                                         ('structural_id', '9.'),\n",
       "                                         ('asks',\n",
       "                                          OrderedDict([('question_line_0',\n",
       "                                                        {'box_id': 'Q9+Q8',\n",
       "                                                         'category': 'True/False',\n",
       "                                                         'contents': '9. __BLANK__ The water molecules in a block of ice are not moving.',\n",
       "                                                         'rectangle': [[49,\n",
       "                                                           479],\n",
       "                                                          [1153, 527]]})]))])),\n",
       "                           ('Q_5',\n",
       "                            OrderedDict([('question_id', 'Q_5'),\n",
       "                                         ('category', 'True/False'),\n",
       "                                         ('structural_id', '10.'),\n",
       "                                         ('asks',\n",
       "                                          OrderedDict([('question_line_0',\n",
       "                                                        {'box_id': 'Q10',\n",
       "                                                         'contents': '10.',\n",
       "                                                         'rectangle': [[34,\n",
       "                                                           559],\n",
       "                                                          [74, 588]]})]))])),\n",
       "                           ('Q_6',\n",
       "                            OrderedDict([('question_id', 'Q_6'),\n",
       "                                         ('category', 'True/False'),\n",
       "                                         ('structural_id', '14.'),\n",
       "                                         ('asks',\n",
       "                                          OrderedDict([('question_line_0',\n",
       "                                                        {'box_id': 'Q19+Q18',\n",
       "                                                         'category': 'True/False',\n",
       "                                                         'contents': '14. __BLANK__ The sun is the biggest star in the universe.',\n",
       "                                                         'rectangle': [[30,\n",
       "                                                           841],\n",
       "                                                          [992, 900]]})]))])),\n",
       "                           ('Q_7',\n",
       "                            OrderedDict([('question_id', 'Q_7'),\n",
       "                                         ('category', 'True/False'),\n",
       "                                         ('structural_id', '17.'),\n",
       "                                         ('asks',\n",
       "                                          OrderedDict([('question_line_0',\n",
       "                                                        {'box_id': 'Q26',\n",
       "                                                         'contents': '17.',\n",
       "                                                         'rectangle': [[30,\n",
       "                                                           1150],\n",
       "                                                          [90,\n",
       "                                                           1192]]})]))]))]))])"
      ]
     },
     "execution_count": 17,
     "metadata": {},
     "output_type": "execute_result"
    }
   ],
   "source": [
    "parsed_w_test = hexter.PageQuestionParser.parse_page_questions(test_annotations, 0.2, 10, 15)\n",
    "parsed_w_test"
   ]
  },
  {
   "cell_type": "code",
   "execution_count": null,
   "metadata": {
    "collapsed": true,
    "run_control": {
     "frozen": false,
     "read_only": false
    }
   },
   "outputs": [],
   "source": []
  },
  {
   "cell_type": "code",
   "execution_count": null,
   "metadata": {
    "collapsed": true,
    "run_control": {
     "frozen": false,
     "read_only": false
    }
   },
   "outputs": [],
   "source": []
  },
  {
   "cell_type": "code",
   "execution_count": null,
   "metadata": {
    "collapsed": true,
    "run_control": {
     "frozen": false,
     "read_only": false
    }
   },
   "outputs": [],
   "source": []
  },
  {
   "cell_type": "code",
   "execution_count": null,
   "metadata": {
    "collapsed": true,
    "run_control": {
     "frozen": false,
     "read_only": false
    }
   },
   "outputs": [],
   "source": []
  },
  {
   "cell_type": "code",
   "execution_count": null,
   "metadata": {
    "collapsed": true,
    "run_control": {
     "frozen": false,
     "read_only": false
    }
   },
   "outputs": [],
   "source": []
  },
  {
   "cell_type": "markdown",
   "metadata": {
    "heading_collapsed": true
   },
   "source": [
    "# Dataframe stuff"
   ]
  },
  {
   "cell_type": "code",
   "execution_count": 118,
   "metadata": {
    "collapsed": false,
    "hidden": true,
    "run_control": {
     "frozen": false,
     "read_only": false
    }
   },
   "outputs": [],
   "source": [
    "# single_page_df = pd.DataFrame(vertically_ordered_question)"
   ]
  },
  {
   "cell_type": "code",
   "execution_count": 119,
   "metadata": {
    "collapsed": false,
    "hidden": true,
    "run_control": {
     "frozen": false,
     "read_only": false
    }
   },
   "outputs": [],
   "source": [
    "# single_page_df['rectangle'].iloc[0]"
   ]
  },
  {
   "cell_type": "code",
   "execution_count": 10,
   "metadata": {
    "collapsed": false,
    "hidden": true,
    "run_control": {
     "frozen": false,
     "read_only": false
    }
   },
   "outputs": [],
   "source": [
    "qa_df = pd.read_pickle('store_hit_results_metadata/question_anno/group_latest_combined/consensus_df.pkl')"
   ]
  },
  {
   "cell_type": "code",
   "execution_count": 11,
   "metadata": {
    "collapsed": false,
    "hidden": true,
    "run_control": {
     "frozen": false,
     "read_only": false
    }
   },
   "outputs": [],
   "source": [
    "bad_pages = pd.unique(qa_df.query('category == \"No Consensus\" or group_n == \"No Consensus\"')['page'])"
   ]
  },
  {
   "cell_type": "code",
   "execution_count": 12,
   "metadata": {
    "collapsed": false,
    "hidden": true,
    "run_control": {
     "frozen": false,
     "read_only": false
    }
   },
   "outputs": [],
   "source": [
    "consensus_only_df = qa_df[~qa_df['page'].isin(bad_pages)]"
   ]
  },
  {
   "cell_type": "code",
   "execution_count": 13,
   "metadata": {
    "collapsed": false,
    "hidden": true,
    "run_control": {
     "frozen": false,
     "read_only": false
    }
   },
   "outputs": [
    {
     "data": {
      "text/plain": [
       "(468,)"
      ]
     },
     "execution_count": 13,
     "metadata": {},
     "output_type": "execute_result"
    }
   ],
   "source": [
    "pd.unique(consensus_only_df['page']).shape"
   ]
  },
  {
   "cell_type": "code",
   "execution_count": null,
   "metadata": {
    "collapsed": true,
    "hidden": true,
    "run_control": {
     "frozen": false,
     "read_only": false
    }
   },
   "outputs": [],
   "source": [
    "consensus_only_df.head(4)"
   ]
  },
  {
   "cell_type": "code",
   "execution_count": 179,
   "metadata": {
    "collapsed": false,
    "hidden": true,
    "run_control": {
     "frozen": false,
     "read_only": false
    }
   },
   "outputs": [
    {
     "data": {
      "text/plain": [
       "array([u'Daily_Science_Grade_1_Evan_Moor_10.jpeg',\n",
       "       u'Daily_Science_Grade_1_Evan_Moor_104.jpeg',\n",
       "       u'Daily_Science_Grade_1_Evan_Moor_106.jpeg',\n",
       "       u'Daily_Science_Grade_1_Evan_Moor_107.jpeg',\n",
       "       u'Daily_Science_Grade_1_Evan_Moor_108.jpeg',\n",
       "       u'Daily_Science_Grade_1_Evan_Moor_113.jpeg',\n",
       "       u'Daily_Science_Grade_1_Evan_Moor_115.jpeg',\n",
       "       u'Daily_Science_Grade_1_Evan_Moor_116.jpeg',\n",
       "       u'Daily_Science_Grade_1_Evan_Moor_124.jpeg',\n",
       "       u'Daily_Science_Grade_1_Evan_Moor_125.jpeg',\n",
       "       u'Daily_Science_Grade_1_Evan_Moor_13.jpeg',\n",
       "       u'Daily_Science_Grade_1_Evan_Moor_133.jpeg',\n",
       "       u'Daily_Science_Grade_1_Evan_Moor_134.jpeg',\n",
       "       u'Daily_Science_Grade_1_Evan_Moor_136.jpeg',\n",
       "       u'Daily_Science_Grade_1_Evan_Moor_14.jpeg',\n",
       "       u'Daily_Science_Grade_1_Evan_Moor_140.jpeg',\n",
       "       u'Daily_Science_Grade_1_Evan_Moor_142.jpeg',\n",
       "       u'Daily_Science_Grade_1_Evan_Moor_143.jpeg',\n",
       "       u'Daily_Science_Grade_1_Evan_Moor_144.jpeg',\n",
       "       u'Daily_Science_Grade_1_Evan_Moor_145.jpeg',\n",
       "       u'Daily_Science_Grade_1_Evan_Moor_148.jpeg',\n",
       "       u'Daily_Science_Grade_1_Evan_Moor_151.jpeg',\n",
       "       u'Daily_Science_Grade_1_Evan_Moor_152.jpeg',\n",
       "       u'Daily_Science_Grade_1_Evan_Moor_155.jpeg',\n",
       "       u'Daily_Science_Grade_1_Evan_Moor_16.jpeg',\n",
       "       u'Daily_Science_Grade_1_Evan_Moor_160.jpeg',\n",
       "       u'Daily_Science_Grade_1_Evan_Moor_161.jpeg',\n",
       "       u'Daily_Science_Grade_1_Evan_Moor_163.jpeg',\n",
       "       u'Daily_Science_Grade_1_Evan_Moor_167.jpeg',\n",
       "       u'Daily_Science_Grade_1_Evan_Moor_168.jpeg',\n",
       "       u'Daily_Science_Grade_1_Evan_Moor_169.jpeg',\n",
       "       u'Daily_Science_Grade_1_Evan_Moor_17.jpeg',\n",
       "       u'Daily_Science_Grade_1_Evan_Moor_170.jpeg',\n",
       "       u'Daily_Science_Grade_1_Evan_Moor_172.jpeg',\n",
       "       u'Daily_Science_Grade_1_Evan_Moor_173.jpeg',\n",
       "       u'Daily_Science_Grade_1_Evan_Moor_174.jpeg',\n",
       "       u'Daily_Science_Grade_1_Evan_Moor_175.jpeg',\n",
       "       u'Daily_Science_Grade_1_Evan_Moor_179.jpeg',\n",
       "       u'Daily_Science_Grade_1_Evan_Moor_18.jpeg',\n",
       "       u'Daily_Science_Grade_1_Evan_Moor_181.jpeg',\n",
       "       u'Daily_Science_Grade_1_Evan_Moor_185.jpeg',\n",
       "       u'Daily_Science_Grade_1_Evan_Moor_186.jpeg',\n",
       "       u'Daily_Science_Grade_1_Evan_Moor_19.jpeg',\n",
       "       u'Daily_Science_Grade_1_Evan_Moor_20.jpeg',\n",
       "       u'Daily_Science_Grade_1_Evan_Moor_22.jpeg',\n",
       "       u'Daily_Science_Grade_1_Evan_Moor_24.jpeg',\n",
       "       u'Daily_Science_Grade_1_Evan_Moor_25.jpeg',\n",
       "       u'Daily_Science_Grade_1_Evan_Moor_26.jpeg',\n",
       "       u'Daily_Science_Grade_1_Evan_Moor_29.jpeg',\n",
       "       u'Daily_Science_Grade_1_Evan_Moor_33.jpeg',\n",
       "       u'Daily_Science_Grade_1_Evan_Moor_34.jpeg',\n",
       "       u'Daily_Science_Grade_1_Evan_Moor_36.jpeg',\n",
       "       u'Daily_Science_Grade_1_Evan_Moor_43.jpeg',\n",
       "       u'Daily_Science_Grade_1_Evan_Moor_46.jpeg',\n",
       "       u'Daily_Science_Grade_1_Evan_Moor_47.jpeg',\n",
       "       u'Daily_Science_Grade_1_Evan_Moor_48.jpeg',\n",
       "       u'Daily_Science_Grade_1_Evan_Moor_53.jpeg',\n",
       "       u'Daily_Science_Grade_1_Evan_Moor_58.jpeg',\n",
       "       u'Daily_Science_Grade_1_Evan_Moor_61.jpeg',\n",
       "       u'Daily_Science_Grade_1_Evan_Moor_63.jpeg',\n",
       "       u'Daily_Science_Grade_1_Evan_Moor_65.jpeg',\n",
       "       u'Daily_Science_Grade_1_Evan_Moor_72.jpeg',\n",
       "       u'Daily_Science_Grade_1_Evan_Moor_74.jpeg',\n",
       "       u'Daily_Science_Grade_1_Evan_Moor_76.jpeg',\n",
       "       u'Daily_Science_Grade_1_Evan_Moor_77.jpeg',\n",
       "       u'Daily_Science_Grade_1_Evan_Moor_78.jpeg',\n",
       "       u'Daily_Science_Grade_1_Evan_Moor_79.jpeg',\n",
       "       u'Daily_Science_Grade_1_Evan_Moor_80.jpeg',\n",
       "       u'Daily_Science_Grade_1_Evan_Moor_86.jpeg',\n",
       "       u'Daily_Science_Grade_1_Evan_Moor_90.jpeg',\n",
       "       u'Daily_Science_Grade_1_Evan_Moor_92.jpeg',\n",
       "       u'Daily_Science_Grade_1_Evan_Moor_94.jpeg',\n",
       "       u'Daily_Science_Grade_1_Evan_Moor_96.jpeg',\n",
       "       u'Daily_Science_Grade_2_Evan_Moor_100.jpeg',\n",
       "       u'Daily_Science_Grade_2_Evan_Moor_102.jpeg',\n",
       "       u'Daily_Science_Grade_2_Evan_Moor_103.jpeg',\n",
       "       u'Daily_Science_Grade_2_Evan_Moor_106.jpeg',\n",
       "       u'Daily_Science_Grade_2_Evan_Moor_109.jpeg',\n",
       "       u'Daily_Science_Grade_2_Evan_Moor_11.jpeg',\n",
       "       u'Daily_Science_Grade_2_Evan_Moor_110.jpeg',\n",
       "       u'Daily_Science_Grade_2_Evan_Moor_112.jpeg',\n",
       "       u'Daily_Science_Grade_2_Evan_Moor_113.jpeg',\n",
       "       u'Daily_Science_Grade_2_Evan_Moor_115.jpeg',\n",
       "       u'Daily_Science_Grade_2_Evan_Moor_120.jpeg',\n",
       "       u'Daily_Science_Grade_2_Evan_Moor_121.jpeg',\n",
       "       u'Daily_Science_Grade_2_Evan_Moor_124.jpeg',\n",
       "       u'Daily_Science_Grade_2_Evan_Moor_126.jpeg',\n",
       "       u'Daily_Science_Grade_2_Evan_Moor_13.jpeg',\n",
       "       u'Daily_Science_Grade_2_Evan_Moor_130.jpeg',\n",
       "       u'Daily_Science_Grade_2_Evan_Moor_133.jpeg',\n",
       "       u'Daily_Science_Grade_2_Evan_Moor_137.jpeg',\n",
       "       u'Daily_Science_Grade_2_Evan_Moor_139.jpeg',\n",
       "       u'Daily_Science_Grade_2_Evan_Moor_140.jpeg',\n",
       "       u'Daily_Science_Grade_2_Evan_Moor_143.jpeg',\n",
       "       u'Daily_Science_Grade_2_Evan_Moor_145.jpeg',\n",
       "       u'Daily_Science_Grade_2_Evan_Moor_154.jpeg',\n",
       "       u'Daily_Science_Grade_2_Evan_Moor_155.jpeg',\n",
       "       u'Daily_Science_Grade_2_Evan_Moor_164.jpeg',\n",
       "       u'Daily_Science_Grade_2_Evan_Moor_166.jpeg',\n",
       "       u'Daily_Science_Grade_2_Evan_Moor_167.jpeg',\n",
       "       u'Daily_Science_Grade_2_Evan_Moor_168.jpeg',\n",
       "       u'Daily_Science_Grade_2_Evan_Moor_174.jpeg',\n",
       "       u'Daily_Science_Grade_2_Evan_Moor_175.jpeg',\n",
       "       u'Daily_Science_Grade_2_Evan_Moor_178.jpeg',\n",
       "       u'Daily_Science_Grade_2_Evan_Moor_185.jpeg',\n",
       "       u'Daily_Science_Grade_2_Evan_Moor_186.jpeg',\n",
       "       u'Daily_Science_Grade_2_Evan_Moor_25.jpeg',\n",
       "       u'Daily_Science_Grade_2_Evan_Moor_28.jpeg',\n",
       "       u'Daily_Science_Grade_2_Evan_Moor_30.jpeg',\n",
       "       u'Daily_Science_Grade_2_Evan_Moor_36.jpeg',\n",
       "       u'Daily_Science_Grade_2_Evan_Moor_41.jpeg',\n",
       "       u'Daily_Science_Grade_2_Evan_Moor_42.jpeg',\n",
       "       u'Daily_Science_Grade_2_Evan_Moor_47.jpeg',\n",
       "       u'Daily_Science_Grade_2_Evan_Moor_49.jpeg',\n",
       "       u'Daily_Science_Grade_2_Evan_Moor_50.jpeg',\n",
       "       u'Daily_Science_Grade_2_Evan_Moor_52.jpeg',\n",
       "       u'Daily_Science_Grade_2_Evan_Moor_58.jpeg',\n",
       "       u'Daily_Science_Grade_2_Evan_Moor_59.jpeg',\n",
       "       u'Daily_Science_Grade_2_Evan_Moor_60.jpeg',\n",
       "       u'Daily_Science_Grade_2_Evan_Moor_63.jpeg',\n",
       "       u'Daily_Science_Grade_2_Evan_Moor_65.jpeg',\n",
       "       u'Daily_Science_Grade_2_Evan_Moor_66.jpeg',\n",
       "       u'Daily_Science_Grade_2_Evan_Moor_71.jpeg',\n",
       "       u'Daily_Science_Grade_2_Evan_Moor_72.jpeg',\n",
       "       u'Daily_Science_Grade_2_Evan_Moor_76.jpeg',\n",
       "       u'Daily_Science_Grade_2_Evan_Moor_79.jpeg',\n",
       "       u'Daily_Science_Grade_2_Evan_Moor_85.jpeg',\n",
       "       u'Daily_Science_Grade_2_Evan_Moor_86.jpeg',\n",
       "       u'Daily_Science_Grade_2_Evan_Moor_89.jpeg',\n",
       "       u'Daily_Science_Grade_2_Evan_Moor_90.jpeg',\n",
       "       u'Daily_Science_Grade_2_Evan_Moor_91.jpeg',\n",
       "       u'Daily_Science_Grade_2_Evan_Moor_96.jpeg',\n",
       "       u'Daily_Science_Grade_3_(Daily_Practice_Books)_Evan_Moore_10.jpeg',\n",
       "       u'Daily_Science_Grade_3_(Daily_Practice_Books)_Evan_Moore_102.jpeg',\n",
       "       u'Daily_Science_Grade_3_(Daily_Practice_Books)_Evan_Moore_103.jpeg',\n",
       "       u'Daily_Science_Grade_3_(Daily_Practice_Books)_Evan_Moore_107.jpeg',\n",
       "       u'Daily_Science_Grade_3_(Daily_Practice_Books)_Evan_Moore_108.jpeg',\n",
       "       u'Daily_Science_Grade_3_(Daily_Practice_Books)_Evan_Moore_109.jpeg',\n",
       "       u'Daily_Science_Grade_3_(Daily_Practice_Books)_Evan_Moore_112.jpeg',\n",
       "       u'Daily_Science_Grade_3_(Daily_Practice_Books)_Evan_Moore_114.jpeg',\n",
       "       u'Daily_Science_Grade_3_(Daily_Practice_Books)_Evan_Moore_116.jpeg',\n",
       "       u'Daily_Science_Grade_3_(Daily_Practice_Books)_Evan_Moore_118.jpeg',\n",
       "       u'Daily_Science_Grade_3_(Daily_Practice_Books)_Evan_Moore_119.jpeg',\n",
       "       u'Daily_Science_Grade_3_(Daily_Practice_Books)_Evan_Moore_12.jpeg',\n",
       "       u'Daily_Science_Grade_3_(Daily_Practice_Books)_Evan_Moore_122.jpeg',\n",
       "       u'Daily_Science_Grade_3_(Daily_Practice_Books)_Evan_Moore_125.jpeg',\n",
       "       u'Daily_Science_Grade_3_(Daily_Practice_Books)_Evan_Moore_128.jpeg',\n",
       "       u'Daily_Science_Grade_3_(Daily_Practice_Books)_Evan_Moore_130.jpeg',\n",
       "       u'Daily_Science_Grade_3_(Daily_Practice_Books)_Evan_Moore_131.jpeg',\n",
       "       u'Daily_Science_Grade_3_(Daily_Practice_Books)_Evan_Moore_132.jpeg',\n",
       "       u'Daily_Science_Grade_3_(Daily_Practice_Books)_Evan_Moore_133.jpeg',\n",
       "       u'Daily_Science_Grade_3_(Daily_Practice_Books)_Evan_Moore_134.jpeg',\n",
       "       u'Daily_Science_Grade_3_(Daily_Practice_Books)_Evan_Moore_136.jpeg',\n",
       "       u'Daily_Science_Grade_3_(Daily_Practice_Books)_Evan_Moore_139.jpeg',\n",
       "       u'Daily_Science_Grade_3_(Daily_Practice_Books)_Evan_Moore_14.jpeg',\n",
       "       u'Daily_Science_Grade_3_(Daily_Practice_Books)_Evan_Moore_142.jpeg',\n",
       "       u'Daily_Science_Grade_3_(Daily_Practice_Books)_Evan_Moore_143.jpeg',\n",
       "       u'Daily_Science_Grade_3_(Daily_Practice_Books)_Evan_Moore_144.jpeg',\n",
       "       u'Daily_Science_Grade_3_(Daily_Practice_Books)_Evan_Moore_145.jpeg',\n",
       "       u'Daily_Science_Grade_3_(Daily_Practice_Books)_Evan_Moore_146.jpeg',\n",
       "       u'Daily_Science_Grade_3_(Daily_Practice_Books)_Evan_Moore_149.jpeg',\n",
       "       u'Daily_Science_Grade_3_(Daily_Practice_Books)_Evan_Moore_150.jpeg',\n",
       "       u'Daily_Science_Grade_3_(Daily_Practice_Books)_Evan_Moore_151.jpeg',\n",
       "       u'Daily_Science_Grade_3_(Daily_Practice_Books)_Evan_Moore_152.jpeg',\n",
       "       u'Daily_Science_Grade_3_(Daily_Practice_Books)_Evan_Moore_154.jpeg',\n",
       "       u'Daily_Science_Grade_3_(Daily_Practice_Books)_Evan_Moore_155.jpeg',\n",
       "       u'Daily_Science_Grade_3_(Daily_Practice_Books)_Evan_Moore_16.jpeg',\n",
       "       u'Daily_Science_Grade_3_(Daily_Practice_Books)_Evan_Moore_160.jpeg',\n",
       "       u'Daily_Science_Grade_3_(Daily_Practice_Books)_Evan_Moore_161.jpeg',\n",
       "       u'Daily_Science_Grade_3_(Daily_Practice_Books)_Evan_Moore_162.jpeg',\n",
       "       u'Daily_Science_Grade_3_(Daily_Practice_Books)_Evan_Moore_163.jpeg',\n",
       "       u'Daily_Science_Grade_3_(Daily_Practice_Books)_Evan_Moore_164.jpeg',\n",
       "       u'Daily_Science_Grade_3_(Daily_Practice_Books)_Evan_Moore_166.jpeg',\n",
       "       u'Daily_Science_Grade_3_(Daily_Practice_Books)_Evan_Moore_168.jpeg',\n",
       "       u'Daily_Science_Grade_3_(Daily_Practice_Books)_Evan_Moore_17.jpeg',\n",
       "       u'Daily_Science_Grade_3_(Daily_Practice_Books)_Evan_Moore_174.jpeg',\n",
       "       u'Daily_Science_Grade_3_(Daily_Practice_Books)_Evan_Moore_180.jpeg',\n",
       "       u'Daily_Science_Grade_3_(Daily_Practice_Books)_Evan_Moore_182.jpeg',\n",
       "       u'Daily_Science_Grade_3_(Daily_Practice_Books)_Evan_Moore_185.jpeg',\n",
       "       u'Daily_Science_Grade_3_(Daily_Practice_Books)_Evan_Moore_186.jpeg',\n",
       "       u'Daily_Science_Grade_3_(Daily_Practice_Books)_Evan_Moore_20.jpeg',\n",
       "       u'Daily_Science_Grade_3_(Daily_Practice_Books)_Evan_Moore_23.jpeg',\n",
       "       u'Daily_Science_Grade_3_(Daily_Practice_Books)_Evan_Moore_25.jpeg',\n",
       "       u'Daily_Science_Grade_3_(Daily_Practice_Books)_Evan_Moore_28.jpeg',\n",
       "       u'Daily_Science_Grade_3_(Daily_Practice_Books)_Evan_Moore_29.jpeg',\n",
       "       u'Daily_Science_Grade_3_(Daily_Practice_Books)_Evan_Moore_30.jpeg',\n",
       "       u'Daily_Science_Grade_3_(Daily_Practice_Books)_Evan_Moore_31.jpeg',\n",
       "       u'Daily_Science_Grade_3_(Daily_Practice_Books)_Evan_Moore_44.jpeg',\n",
       "       u'Daily_Science_Grade_3_(Daily_Practice_Books)_Evan_Moore_50.jpeg',\n",
       "       u'Daily_Science_Grade_3_(Daily_Practice_Books)_Evan_Moore_52.jpeg',\n",
       "       u'Daily_Science_Grade_3_(Daily_Practice_Books)_Evan_Moore_53.jpeg',\n",
       "       u'Daily_Science_Grade_3_(Daily_Practice_Books)_Evan_Moore_56.jpeg',\n",
       "       u'Daily_Science_Grade_3_(Daily_Practice_Books)_Evan_Moore_58.jpeg',\n",
       "       u'Daily_Science_Grade_3_(Daily_Practice_Books)_Evan_Moore_60.jpeg',\n",
       "       u'Daily_Science_Grade_3_(Daily_Practice_Books)_Evan_Moore_63.jpeg',\n",
       "       u'Daily_Science_Grade_3_(Daily_Practice_Books)_Evan_Moore_65.jpeg',\n",
       "       u'Daily_Science_Grade_3_(Daily_Practice_Books)_Evan_Moore_71.jpeg',\n",
       "       u'Daily_Science_Grade_3_(Daily_Practice_Books)_Evan_Moore_72.jpeg',\n",
       "       u'Daily_Science_Grade_3_(Daily_Practice_Books)_Evan_Moore_79.jpeg',\n",
       "       u'Daily_Science_Grade_3_(Daily_Practice_Books)_Evan_Moore_80.jpeg',\n",
       "       u'Daily_Science_Grade_3_(Daily_Practice_Books)_Evan_Moore_82.jpeg',\n",
       "       u'Daily_Science_Grade_3_(Daily_Practice_Books)_Evan_Moore_83.jpeg',\n",
       "       u'Daily_Science_Grade_3_(Daily_Practice_Books)_Evan_Moore_84.jpeg',\n",
       "       u'Daily_Science_Grade_3_(Daily_Practice_Books)_Evan_Moore_85.jpeg',\n",
       "       u'Daily_Science_Grade_3_(Daily_Practice_Books)_Evan_Moore_88.jpeg',\n",
       "       u'Daily_Science_Grade_3_(Daily_Practice_Books)_Evan_Moore_89.jpeg',\n",
       "       u'Daily_Science_Grade_3_(Daily_Practice_Books)_Evan_Moore_90.jpeg',\n",
       "       u'Daily_Science_Grade_3_(Daily_Practice_Books)_Evan_Moore_94.jpeg',\n",
       "       u'Daily_Science_Grade_3_(Daily_Practice_Books)_Evan_Moore_95.jpeg',\n",
       "       u'Daily_Science_Grade_4_Evan_Moor_100.jpeg',\n",
       "       u'Daily_Science_Grade_4_Evan_Moor_102.jpeg',\n",
       "       u'Daily_Science_Grade_4_Evan_Moor_103.jpeg',\n",
       "       u'Daily_Science_Grade_4_Evan_Moor_104.jpeg',\n",
       "       u'Daily_Science_Grade_4_Evan_Moor_107.jpeg',\n",
       "       u'Daily_Science_Grade_4_Evan_Moor_112.jpeg',\n",
       "       u'Daily_Science_Grade_4_Evan_Moor_113.jpeg',\n",
       "       u'Daily_Science_Grade_4_Evan_Moor_114.jpeg',\n",
       "       u'Daily_Science_Grade_4_Evan_Moor_116.jpeg',\n",
       "       u'Daily_Science_Grade_4_Evan_Moor_120.jpeg',\n",
       "       u'Daily_Science_Grade_4_Evan_Moor_122.jpeg',\n",
       "       u'Daily_Science_Grade_4_Evan_Moor_123.jpeg',\n",
       "       u'Daily_Science_Grade_4_Evan_Moor_124.jpeg',\n",
       "       u'Daily_Science_Grade_4_Evan_Moor_125.jpeg',\n",
       "       u'Daily_Science_Grade_4_Evan_Moor_126.jpeg',\n",
       "       u'Daily_Science_Grade_4_Evan_Moor_138.jpeg',\n",
       "       u'Daily_Science_Grade_4_Evan_Moor_139.jpeg',\n",
       "       u'Daily_Science_Grade_4_Evan_Moor_14.jpeg',\n",
       "       u'Daily_Science_Grade_4_Evan_Moor_140.jpeg',\n",
       "       u'Daily_Science_Grade_4_Evan_Moor_144.jpeg',\n",
       "       u'Daily_Science_Grade_4_Evan_Moor_146.jpeg',\n",
       "       u'Daily_Science_Grade_4_Evan_Moor_148.jpeg',\n",
       "       u'Daily_Science_Grade_4_Evan_Moor_152.jpeg',\n",
       "       u'Daily_Science_Grade_4_Evan_Moor_153.jpeg',\n",
       "       u'Daily_Science_Grade_4_Evan_Moor_154.jpeg',\n",
       "       u'Daily_Science_Grade_4_Evan_Moor_16.jpeg',\n",
       "       u'Daily_Science_Grade_4_Evan_Moor_160.jpeg',\n",
       "       u'Daily_Science_Grade_4_Evan_Moor_163.jpeg',\n",
       "       u'Daily_Science_Grade_4_Evan_Moor_167.jpeg',\n",
       "       u'Daily_Science_Grade_4_Evan_Moor_168.jpeg',\n",
       "       u'Daily_Science_Grade_4_Evan_Moor_170.jpeg',\n",
       "       u'Daily_Science_Grade_4_Evan_Moor_172.jpeg',\n",
       "       u'Daily_Science_Grade_4_Evan_Moor_174.jpeg',\n",
       "       u'Daily_Science_Grade_4_Evan_Moor_175.jpeg',\n",
       "       u'Daily_Science_Grade_4_Evan_Moor_180.jpeg',\n",
       "       u'Daily_Science_Grade_4_Evan_Moor_181.jpeg',\n",
       "       u'Daily_Science_Grade_4_Evan_Moor_184.jpeg',\n",
       "       u'Daily_Science_Grade_4_Evan_Moor_20.jpeg',\n",
       "       u'Daily_Science_Grade_4_Evan_Moor_24.jpeg',\n",
       "       u'Daily_Science_Grade_4_Evan_Moor_25.jpeg',\n",
       "       u'Daily_Science_Grade_4_Evan_Moor_26.jpeg',\n",
       "       u'Daily_Science_Grade_4_Evan_Moor_28.jpeg',\n",
       "       u'Daily_Science_Grade_4_Evan_Moor_29.jpeg',\n",
       "       u'Daily_Science_Grade_4_Evan_Moor_30.jpeg',\n",
       "       u'Daily_Science_Grade_4_Evan_Moor_31.jpeg',\n",
       "       u'Daily_Science_Grade_4_Evan_Moor_33.jpeg',\n",
       "       u'Daily_Science_Grade_4_Evan_Moor_34.jpeg',\n",
       "       u'Daily_Science_Grade_4_Evan_Moor_36.jpeg',\n",
       "       u'Daily_Science_Grade_4_Evan_Moor_44.jpeg',\n",
       "       u'Daily_Science_Grade_4_Evan_Moor_47.jpeg',\n",
       "       u'Daily_Science_Grade_4_Evan_Moor_48.jpeg',\n",
       "       u'Daily_Science_Grade_4_Evan_Moor_49.jpeg',\n",
       "       u'Daily_Science_Grade_4_Evan_Moor_50.jpeg',\n",
       "       u'Daily_Science_Grade_4_Evan_Moor_52.jpeg',\n",
       "       u'Daily_Science_Grade_4_Evan_Moor_53.jpeg',\n",
       "       u'Daily_Science_Grade_4_Evan_Moor_54.jpeg',\n",
       "       u'Daily_Science_Grade_4_Evan_Moor_56.jpeg',\n",
       "       u'Daily_Science_Grade_4_Evan_Moor_59.jpeg',\n",
       "       u'Daily_Science_Grade_4_Evan_Moor_65.jpeg',\n",
       "       u'Daily_Science_Grade_4_Evan_Moor_71.jpeg',\n",
       "       u'Daily_Science_Grade_4_Evan_Moor_74.jpeg',\n",
       "       u'Daily_Science_Grade_4_Evan_Moor_79.jpeg',\n",
       "       u'Daily_Science_Grade_4_Evan_Moor_8.jpeg',\n",
       "       u'Daily_Science_Grade_4_Evan_Moor_82.jpeg',\n",
       "       u'Daily_Science_Grade_4_Evan_Moor_91.jpeg',\n",
       "       u'Daily_Science_Grade_4_Evan_Moor_92.jpeg',\n",
       "       u'Daily_Science_Grade_4_Evan_Moor_93.jpeg',\n",
       "       u'Daily_Science_Grade_4_Evan_Moor_94.jpeg',\n",
       "       u'Daily_Science_Grade_4_Evan_Moor_95.jpeg',\n",
       "       u'Daily_Science_Grade_4_Evan_Moor_98.jpeg',\n",
       "       u'Daily_Science_Grade_5_Evan_Moor_10.jpeg',\n",
       "       u'Daily_Science_Grade_5_Evan_Moor_101.jpeg',\n",
       "       u'Daily_Science_Grade_5_Evan_Moor_102.jpeg',\n",
       "       u'Daily_Science_Grade_5_Evan_Moor_103.jpeg',\n",
       "       u'Daily_Science_Grade_5_Evan_Moor_106.jpeg',\n",
       "       u'Daily_Science_Grade_5_Evan_Moor_113.jpeg',\n",
       "       u'Daily_Science_Grade_5_Evan_Moor_116.jpeg',\n",
       "       u'Daily_Science_Grade_5_Evan_Moor_12.jpeg',\n",
       "       u'Daily_Science_Grade_5_Evan_Moor_123.jpeg',\n",
       "       u'Daily_Science_Grade_5_Evan_Moor_124.jpeg',\n",
       "       u'Daily_Science_Grade_5_Evan_Moor_132.jpeg',\n",
       "       u'Daily_Science_Grade_5_Evan_Moor_139.jpeg',\n",
       "       u'Daily_Science_Grade_5_Evan_Moor_14.jpeg',\n",
       "       u'Daily_Science_Grade_5_Evan_Moor_144.jpeg',\n",
       "       u'Daily_Science_Grade_5_Evan_Moor_148.jpeg',\n",
       "       u'Daily_Science_Grade_5_Evan_Moor_151.jpeg',\n",
       "       u'Daily_Science_Grade_5_Evan_Moor_153.jpeg',\n",
       "       u'Daily_Science_Grade_5_Evan_Moor_16.jpeg',\n",
       "       u'Daily_Science_Grade_5_Evan_Moor_162.jpeg',\n",
       "       u'Daily_Science_Grade_5_Evan_Moor_163.jpeg',\n",
       "       u'Daily_Science_Grade_5_Evan_Moor_164.jpeg',\n",
       "       u'Daily_Science_Grade_5_Evan_Moor_169.jpeg',\n",
       "       u'Daily_Science_Grade_5_Evan_Moor_178.jpeg',\n",
       "       u'Daily_Science_Grade_5_Evan_Moor_179.jpeg',\n",
       "       u'Daily_Science_Grade_5_Evan_Moor_184.jpeg',\n",
       "       u'Daily_Science_Grade_5_Evan_Moor_26.jpeg',\n",
       "       u'Daily_Science_Grade_5_Evan_Moor_31.jpeg',\n",
       "       u'Daily_Science_Grade_5_Evan_Moor_33.jpeg',\n",
       "       u'Daily_Science_Grade_5_Evan_Moor_35.jpeg',\n",
       "       u'Daily_Science_Grade_5_Evan_Moor_40.jpeg',\n",
       "       u'Daily_Science_Grade_5_Evan_Moor_44.jpeg',\n",
       "       u'Daily_Science_Grade_5_Evan_Moor_50.jpeg',\n",
       "       u'Daily_Science_Grade_5_Evan_Moor_55.jpeg',\n",
       "       u'Daily_Science_Grade_5_Evan_Moor_58.jpeg',\n",
       "       u'Daily_Science_Grade_5_Evan_Moor_59.jpeg',\n",
       "       u'Daily_Science_Grade_5_Evan_Moor_61.jpeg',\n",
       "       u'Daily_Science_Grade_5_Evan_Moor_63.jpeg',\n",
       "       u'Daily_Science_Grade_5_Evan_Moor_68.jpeg',\n",
       "       u'Daily_Science_Grade_5_Evan_Moor_70.jpeg',\n",
       "       u'Daily_Science_Grade_5_Evan_Moor_78.jpeg',\n",
       "       u'Daily_Science_Grade_5_Evan_Moor_80.jpeg',\n",
       "       u'Daily_Science_Grade_5_Evan_Moor_82.jpeg',\n",
       "       u'Daily_Science_Grade_5_Evan_Moor_86.jpeg',\n",
       "       u'Daily_Science_Grade_5_Evan_Moor_89.jpeg',\n",
       "       u'Daily_Science_Grade_5_Evan_Moor_90.jpeg',\n",
       "       u'Daily_Science_Grade_5_Evan_Moor_93.jpeg',\n",
       "       u'Daily_Science_Grade_5_Evan_Moor_94.jpeg',\n",
       "       u'Daily_Science_Grade_5_Evan_Moor_95.jpeg',\n",
       "       u'Daily_Science_Grade_6_(Daily_Practice_Books)_Evan_Moor_10.jpeg',\n",
       "       u'Daily_Science_Grade_6_(Daily_Practice_Books)_Evan_Moor_101.jpeg',\n",
       "       u'Daily_Science_Grade_6_(Daily_Practice_Books)_Evan_Moor_104.jpeg',\n",
       "       u'Daily_Science_Grade_6_(Daily_Practice_Books)_Evan_Moor_106.jpeg',\n",
       "       u'Daily_Science_Grade_6_(Daily_Practice_Books)_Evan_Moor_107.jpeg',\n",
       "       u'Daily_Science_Grade_6_(Daily_Practice_Books)_Evan_Moor_109.jpeg',\n",
       "       u'Daily_Science_Grade_6_(Daily_Practice_Books)_Evan_Moor_110.jpeg',\n",
       "       u'Daily_Science_Grade_6_(Daily_Practice_Books)_Evan_Moor_112.jpeg',\n",
       "       u'Daily_Science_Grade_6_(Daily_Practice_Books)_Evan_Moor_113.jpeg',\n",
       "       u'Daily_Science_Grade_6_(Daily_Practice_Books)_Evan_Moor_114.jpeg',\n",
       "       u'Daily_Science_Grade_6_(Daily_Practice_Books)_Evan_Moor_116.jpeg',\n",
       "       u'Daily_Science_Grade_6_(Daily_Practice_Books)_Evan_Moor_118.jpeg',\n",
       "       u'Daily_Science_Grade_6_(Daily_Practice_Books)_Evan_Moor_12.jpeg',\n",
       "       u'Daily_Science_Grade_6_(Daily_Practice_Books)_Evan_Moor_126.jpeg',\n",
       "       u'Daily_Science_Grade_6_(Daily_Practice_Books)_Evan_Moor_134.jpeg',\n",
       "       u'Daily_Science_Grade_6_(Daily_Practice_Books)_Evan_Moor_138.jpeg',\n",
       "       u'Daily_Science_Grade_6_(Daily_Practice_Books)_Evan_Moor_14.jpeg',\n",
       "       u'Daily_Science_Grade_6_(Daily_Practice_Books)_Evan_Moor_140.jpeg',\n",
       "       u'Daily_Science_Grade_6_(Daily_Practice_Books)_Evan_Moor_142.jpeg',\n",
       "       u'Daily_Science_Grade_6_(Daily_Practice_Books)_Evan_Moor_150.jpeg',\n",
       "       u'Daily_Science_Grade_6_(Daily_Practice_Books)_Evan_Moor_152.jpeg',\n",
       "       u'Daily_Science_Grade_6_(Daily_Practice_Books)_Evan_Moor_154.jpeg',\n",
       "       u'Daily_Science_Grade_6_(Daily_Practice_Books)_Evan_Moor_16.jpeg',\n",
       "       u'Daily_Science_Grade_6_(Daily_Practice_Books)_Evan_Moor_160.jpeg',\n",
       "       u'Daily_Science_Grade_6_(Daily_Practice_Books)_Evan_Moor_162.jpeg',\n",
       "       u'Daily_Science_Grade_6_(Daily_Practice_Books)_Evan_Moor_164.jpeg',\n",
       "       u'Daily_Science_Grade_6_(Daily_Practice_Books)_Evan_Moor_167.jpeg',\n",
       "       u'Daily_Science_Grade_6_(Daily_Practice_Books)_Evan_Moor_168.jpeg',\n",
       "       u'Daily_Science_Grade_6_(Daily_Practice_Books)_Evan_Moor_173.jpeg',\n",
       "       u'Daily_Science_Grade_6_(Daily_Practice_Books)_Evan_Moor_174.jpeg',\n",
       "       u'Daily_Science_Grade_6_(Daily_Practice_Books)_Evan_Moor_175.jpeg',\n",
       "       u'Daily_Science_Grade_6_(Daily_Practice_Books)_Evan_Moor_176.jpeg',\n",
       "       u'Daily_Science_Grade_6_(Daily_Practice_Books)_Evan_Moor_18.jpeg',\n",
       "       u'Daily_Science_Grade_6_(Daily_Practice_Books)_Evan_Moor_185.jpeg',\n",
       "       u'Daily_Science_Grade_6_(Daily_Practice_Books)_Evan_Moor_24.jpeg',\n",
       "       u'Daily_Science_Grade_6_(Daily_Practice_Books)_Evan_Moor_25.jpeg',\n",
       "       u'Daily_Science_Grade_6_(Daily_Practice_Books)_Evan_Moor_26.jpeg',\n",
       "       u'Daily_Science_Grade_6_(Daily_Practice_Books)_Evan_Moor_32.jpeg',\n",
       "       u'Daily_Science_Grade_6_(Daily_Practice_Books)_Evan_Moor_34.jpeg',\n",
       "       u'Daily_Science_Grade_6_(Daily_Practice_Books)_Evan_Moor_35.jpeg',\n",
       "       u'Daily_Science_Grade_6_(Daily_Practice_Books)_Evan_Moor_40.jpeg',\n",
       "       u'Daily_Science_Grade_6_(Daily_Practice_Books)_Evan_Moor_41.jpeg',\n",
       "       u'Daily_Science_Grade_6_(Daily_Practice_Books)_Evan_Moor_49.jpeg',\n",
       "       u'Daily_Science_Grade_6_(Daily_Practice_Books)_Evan_Moor_52.jpeg',\n",
       "       u'Daily_Science_Grade_6_(Daily_Practice_Books)_Evan_Moor_56.jpeg',\n",
       "       u'Daily_Science_Grade_6_(Daily_Practice_Books)_Evan_Moor_59.jpeg',\n",
       "       u'Daily_Science_Grade_6_(Daily_Practice_Books)_Evan_Moor_60.jpeg',\n",
       "       u'Daily_Science_Grade_6_(Daily_Practice_Books)_Evan_Moor_62.jpeg',\n",
       "       u'Daily_Science_Grade_6_(Daily_Practice_Books)_Evan_Moor_63.jpeg',\n",
       "       u'Daily_Science_Grade_6_(Daily_Practice_Books)_Evan_Moor_70.jpeg',\n",
       "       u'Daily_Science_Grade_6_(Daily_Practice_Books)_Evan_Moor_73.jpeg',\n",
       "       u'Daily_Science_Grade_6_(Daily_Practice_Books)_Evan_Moor_74.jpeg',\n",
       "       u'Daily_Science_Grade_6_(Daily_Practice_Books)_Evan_Moor_76.jpeg',\n",
       "       u'Daily_Science_Grade_6_(Daily_Practice_Books)_Evan_Moor_78.jpeg',\n",
       "       u'Daily_Science_Grade_6_(Daily_Practice_Books)_Evan_Moor_79.jpeg',\n",
       "       u'Daily_Science_Grade_6_(Daily_Practice_Books)_Evan_Moor_8.jpeg',\n",
       "       u'Daily_Science_Grade_6_(Daily_Practice_Books)_Evan_Moor_85.jpeg',\n",
       "       u'Daily_Science_Grade_6_(Daily_Practice_Books)_Evan_Moor_86.jpeg',\n",
       "       u'Daily_Science_Grade_6_(Daily_Practice_Books)_Evan_Moor_91.jpeg',\n",
       "       u'Daily_Science_Grade_6_(Daily_Practice_Books)_Evan_Moor_93.jpeg',\n",
       "       u'Daily_Science_Grade_6_(Daily_Practice_Books)_Evan_Moor_96.jpeg'], dtype=object)"
      ]
     },
     "execution_count": 179,
     "metadata": {},
     "output_type": "execute_result"
    }
   ],
   "source": [
    "bad_pages"
   ]
  },
  {
   "cell_type": "markdown",
   "metadata": {
    "heading_collapsed": true
   },
   "source": [
    "# End"
   ]
  },
  {
   "cell_type": "code",
   "execution_count": 363,
   "metadata": {
    "collapsed": false,
    "hidden": true,
    "run_control": {
     "frozen": false,
     "read_only": false
    }
   },
   "outputs": [],
   "source": [
    "# vertically_ordered_question = sorted(q_series.values(), key=lambda x: x['rectangle'][0][1])\n",
    "\n",
    "# vertically_ordered_question_feat = [make_box_row(box, idx) for idx, box in enumerate(vertically_ordered_question)]\n",
    "\n",
    "# boxes_w_predicts = assign_group_numbers(vertically_ordered_question_feat) "
   ]
  },
  {
   "cell_type": "code",
   "execution_count": 310,
   "metadata": {
    "collapsed": false,
    "hidden": true,
    "run_control": {
     "frozen": false,
     "read_only": false
    }
   },
   "outputs": [],
   "source": [
    "t0 = 'Read each question. Fill in the bubble next to the correct answer.'\n",
    "t1 = 'A distance'\n",
    "t2 = 'OB balls'\n",
    "t3 = 'Do push'\n",
    "t4 = 'OD on a mountain'\n",
    "t5 = 'CO Flowers might die out.'\n",
    "re_pattern = re.compile('([A-Z])(?:[a-z]?){1}\\s')\n",
    "\n",
    "print re.findall(re_pattern, t0)\n",
    "print re.findall(re_pattern, t1)\n",
    "print re.findall(re_pattern, t2)\n",
    "print re.findall(re_pattern, t3)\n",
    "print re.findall(re_pattern, t4)\n",
    "print re.findall(re_pattern, t5)"
   ]
  },
  {
   "cell_type": "code",
   "execution_count": 224,
   "metadata": {
    "collapsed": true,
    "hidden": true,
    "run_control": {
     "frozen": false,
     "read_only": false
    }
   },
   "outputs": [],
   "source": [
    "#print vertically_ordered_question\n",
    "# qdf = pd.DataFrame(vertically_ordered_question)"
   ]
  },
  {
   "cell_type": "code",
   "execution_count": 44,
   "metadata": {
    "collapsed": false,
    "hidden": true,
    "run_control": {
     "frozen": false,
     "read_only": false
    }
   },
   "outputs": [
    {
     "name": "stdout",
     "output_type": "stream",
     "text": [
      "group G0\n",
      "\n",
      "question   Multiple Choice\n",
      "b. because there are more plants on Earth today than there have ever been before\n",
      "a. because the temperature on Earth has slowly been increasing\n",
      "1. Why are there more greenhouse gases in the atmosphere today?\n",
      "d. Both b and c\n",
      "c. because human beings burn a lot of fossil fuels\n",
      "\n"
     ]
    }
   ],
   "source": [
    "for gn, group in extracted_hier.items():\n",
    "    print 'group ' + gn\n",
    "    print\n",
    "    for full_q, parts in group.items():\n",
    "        if full_q == 'misfits':\n",
    "            print 'misfits'\n",
    "            for misfit, val in parts.items():\n",
    "                for box, tv in val['asks'].items():\n",
    "                    print '    ' + tv['contents']\n",
    "        else:\n",
    "            print 'question   ' + parts['category']  \n",
    "            for ids, question_parts in parts['asks'].items():\n",
    "                print question_parts['contents']\n",
    "            for ids, ac in parts['answer_choices'].items():\n",
    "                print '    '  + ac['possible_answer']['contents']\n",
    "        print"
   ]
  },
  {
   "cell_type": "code",
   "execution_count": null,
   "metadata": {
    "collapsed": true,
    "hidden": true
   },
   "outputs": [],
   "source": []
  }
 ],
 "metadata": {
  "kernelspec": {
   "display_name": "Python 3",
   "language": "python",
   "name": "python3"
  },
  "language_info": {
   "codemirror_mode": {
    "name": "ipython",
    "version": 3
   },
   "file_extension": ".py",
   "mimetype": "text/x-python",
   "name": "python",
   "nbconvert_exporter": "python",
   "pygments_lexer": "ipython3",
   "version": "3.5.0"
  }
 },
 "nbformat": 4,
 "nbformat_minor": 0
}
