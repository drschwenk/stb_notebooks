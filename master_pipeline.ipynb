{
 "cells": [
  {
   "cell_type": "markdown",
   "metadata": {},
   "source": [
    "# Table of Contents\n",
    "* [Setting paths](#Setting-paths)\n",
    "* [**Pipeline for textbook dataset creation**](#**Pipeline-for-textbook-dataset-creation**)\n",
    "\t* [**Extracting page images**](#**Extracting-page-images**)\n",
    "\t\t* [pdfminer](#pdfminer)\n",
    "\t* [**OCR**  (set schema here)](#**OCR**--%28set-schema-here%29)\n",
    "\t\t* [First pass, Eric's service- MS Oxford and Google cloud vision](#First-pass,-Eric's-service--MS-Oxford-and-Google-cloud-vision)\n",
    "\t\t* [Add vertical dim to annotations](#Add-vertical-dim-to-annotations)\n",
    "\t\t* [possible second pass to resolve OCR issues](#possible-second-pass-to-resolve-OCR-issues)\n",
    "\t* [**First box merging and annotation template (set schema here)**](#**First-box-merging-and-annotation-template-%28set-schema-here%29**)\n",
    "\t\t* [Overmerge to make labeling easier/ more reliable](#Overmerge-to-make-labeling-easier/-more-reliable)\n",
    "\t* [**First round of MTurk annotion**](#**First-round-of-MTurk-annotion**)\n",
    "\t\t* [Sanity checks, first round cleaning](#Sanity-checks,-first-round-cleaning)\n",
    "\t* [**Generate question annotations**](#**Generate-question-annotations**)\n",
    "\t\t* [**Unmerge boxes** to seperate question components](#**Unmerge-boxes**-to-seperate-question-components)\n",
    "\t\t* [weakly remerge question boxes](#weakly-remerge-question-boxes)\n",
    "\t\t* [Make **question-specific annotations** based on first round labels](#Make-**question-specific-annotations**-based-on-first-round-labels)\n",
    "\t* [Incorporate **new OCR** results](#Incorporate-**new-OCR**-results)\n",
    "\t\t* [First the broad category labels](#First-the-broad-category-labels)\n",
    "\t\t* [Then again for the question specific labels](#Then-again-for-the-question-specific-labels)\n",
    "\t* [**Second round of MTurk annotation**](#**Second-round-of-MTurk-annotation**)\n",
    "\t* [**Hierarchy extraction**](#**Hierarchy-extraction**)\n",
    "\t\t* [Testing](#Testing)\n",
    "* [Send to viz tool](#Send-to-viz-tool)\n",
    "* [End](#End)\n"
   ]
  },
  {
   "cell_type": "code",
   "execution_count": 1,
   "metadata": {
    "collapsed": false,
    "run_control": {
     "frozen": false,
     "read_only": false
    }
   },
   "outputs": [],
   "source": [
    "%%capture\n",
    "from __future__ import division\n",
    "import numpy as np\n",
    "import pandas as pd\n",
    "import scipy.stats as st\n",
    "import itertools\n",
    "import math\n",
    "%load_ext autoreload\n",
    "%autoreload 2\n",
    "\n",
    "import pickle"
   ]
  },
  {
   "cell_type": "code",
   "execution_count": 2,
   "metadata": {
    "collapsed": true,
    "run_control": {
     "frozen": false,
     "read_only": false
    }
   },
   "outputs": [],
   "source": [
    "import pdfextraction.amt_boto_modules as amt_util"
   ]
  },
  {
   "cell_type": "code",
   "execution_count": 3,
   "metadata": {
    "collapsed": false,
    "run_control": {
     "frozen": false,
     "read_only": false
    }
   },
   "outputs": [],
   "source": [
    "with open('breakdowns.pkl', 'r') as f:\n",
    "    book_breakdowns = pickle.load(f)\n",
    "\n",
    "with open('pdfs/page_ranges.csv') as f:\n",
    "    ranges = f.readlines()"
   ]
  },
  {
   "cell_type": "code",
   "execution_count": 4,
   "metadata": {
    "collapsed": false,
    "run_control": {
     "frozen": false,
     "read_only": false
    }
   },
   "outputs": [],
   "source": [
    "book_breakdowns, page_ranges = amt_util.load_book_info()"
   ]
  },
  {
   "cell_type": "markdown",
   "metadata": {},
   "source": [
    "# Setting paths"
   ]
  },
  {
   "cell_type": "code",
   "execution_count": 75,
   "metadata": {
    "collapsed": true,
    "run_control": {
     "frozen": false,
     "read_only": false
    }
   },
   "outputs": [],
   "source": [
    "turk_data_base_path = './ai2-vision-turk-data/textbook-annotation-test/'\n",
    "full_scale_img_dir  = 'page-images/'\n",
    "scaled_down_img_dir = 'smaller-page-images/'\n",
    "\n",
    "raw_ocr_res =  'raw-ocr-results/'\n",
    "raw_annotations_w_vert_scale = 'raw-ocr-ws/'\n",
    "\n",
    "merged_anno_dest_dir = 'first-merge/'\n",
    "\n",
    "# overmerged_dir = 'corrected_raw_hit_results/'\n",
    "overmerged_dir = merged_anno_dest_dir\n",
    "unmerged_dir = 'raw-ocr-results/'\n",
    "lessmerged_dir = 'raw-unmerged/'\n",
    "remerged_dir = 'remerged-first-round/'\n",
    "# first_round_annotation_results_dir = 'labeled-annotations/'\n",
    "first_round_annotation_results_dir = 'corrected_raw_hit_results/'\n",
    "first_round_question_annotation_results_dir = 'labeled-questions/'\n",
    "\n",
    "\n",
    "# question_annotation_dir = 'annotations-w-questions/'\n",
    "question_annotation_dir = 'question-specific-annotations/'\n",
    "\n",
    "rectified_ocr_dir = 'apply-new-ocr'\n",
    "\n",
    "new_ocr_trans_dir = 'transferred-labels-first-round/'\n",
    "unmerged_ocr_trans_dir = 'transferred-labels-first-round-unmerged/'\n",
    "\n",
    "new_q_ocr_dir ='new-question-only-temp/'\n",
    "transferred_q_labels_dir = 'transferred-question-labels/'"
   ]
  },
  {
   "cell_type": "markdown",
   "metadata": {
    "run_control": {
     "frozen": false,
     "read_only": false
    }
   },
   "source": [
    "# **Pipeline for textbook dataset creation**"
   ]
  },
  {
   "cell_type": "markdown",
   "metadata": {},
   "source": [
    "## **Extracting page images**"
   ]
  },
  {
   "cell_type": "markdown",
   "metadata": {
    "heading_collapsed": true
   },
   "source": [
    "### pdfminer"
   ]
  },
  {
   "cell_type": "code",
   "execution_count": 5,
   "metadata": {
    "collapsed": true,
    "hidden": true,
    "run_control": {
     "frozen": false,
     "read_only": false
    }
   },
   "outputs": [],
   "source": [
    "import pdfextraction.ocr_pipeline as ocrp"
   ]
  },
  {
   "cell_type": "code",
   "execution_count": 6,
   "metadata": {
    "collapsed": false,
    "hidden": true,
    "run_control": {
     "frozen": false,
     "read_only": false
    }
   },
   "outputs": [],
   "source": [
    "range_lookup = {line.split(' ')[0]:[int(num) for num in line.strip().split(' ')[1:]] for line in ranges}"
   ]
  },
  {
   "cell_type": "markdown",
   "metadata": {
    "hidden": true
   },
   "source": [
    "This extracts and writes images for a group of textbooks"
   ]
  },
  {
   "cell_type": "code",
   "execution_count": null,
   "metadata": {
    "collapsed": true,
    "hidden": true,
    "run_control": {
     "frozen": false,
     "read_only": false
    }
   },
   "outputs": [],
   "source": [
    "for book in book_breakdowns['daily_sci']:\n",
    "    ocrp.process_book(book, range_lookup[book], line_overlap=0.5,\n",
    "                                            word_margin=0.1, char_margin=2.0, line_margin=0.5, boxes_flow=0.5)"
   ]
  },
  {
   "cell_type": "markdown",
   "metadata": {},
   "source": [
    "## **OCR**  (set schema here)"
   ]
  },
  {
   "cell_type": "code",
   "execution_count": 26,
   "metadata": {
    "collapsed": true,
    "run_control": {
     "frozen": false,
     "read_only": false
    }
   },
   "outputs": [],
   "source": [
    "book_breakdowns, page_ranges = amt_util.load_book_info()"
   ]
  },
  {
   "cell_type": "code",
   "execution_count": 7,
   "metadata": {
    "collapsed": false,
    "run_control": {
     "frozen": false,
     "read_only": false
    }
   },
   "outputs": [],
   "source": [
    "import pdfextraction.ocr_pipeline as ocrp"
   ]
  },
  {
   "cell_type": "markdown",
   "metadata": {
    "heading_collapsed": true
   },
   "source": [
    "### First pass, Eric's service- MS Oxford and Google cloud vision"
   ]
  },
  {
   "cell_type": "code",
   "execution_count": 8,
   "metadata": {
    "collapsed": true,
    "hidden": true,
    "run_control": {
     "frozen": false,
     "read_only": false
    }
   },
   "outputs": [],
   "source": [
    "# for book in book_breakdowns['spectrum_sci']:\n",
    "#     ocrp.perform_ocr(book, 'annotations', range_lookup[book])\n",
    "\n",
    "# for book in book_breakdowns['daily_sci']:\n",
    "#     ocrp.perform_ocr(book, 'annotations', range_lookup[book])\n",
    "\n",
    "# for book in book_breakdowns['read_und_sci']:\n",
    "#     ocrp.perform_ocr(book, 'annotations', range_lookup[book])"
   ]
  },
  {
   "cell_type": "markdown",
   "metadata": {
    "heading_collapsed": true
   },
   "source": [
    "### Add vertical dim to annotations"
   ]
  },
  {
   "cell_type": "code",
   "execution_count": 86,
   "metadata": {
    "collapsed": false,
    "hidden": true,
    "run_control": {
     "frozen": false,
     "read_only": false
    }
   },
   "outputs": [],
   "source": [
    "ocrp.add_anno_img_dim(turk_data_base_path + scaled_down_img_dir, raw_ocr_res, turk_data_base_path + raw_annotations_w_vert_scale)"
   ]
  },
  {
   "cell_type": "markdown",
   "metadata": {
    "heading_collapsed": true
   },
   "source": [
    "### possible second pass to resolve OCR issues"
   ]
  },
  {
   "cell_type": "markdown",
   "metadata": {},
   "source": [
    "## **First box merging and annotation template (set schema here)**"
   ]
  },
  {
   "cell_type": "code",
   "execution_count": 71,
   "metadata": {
    "collapsed": false,
    "run_control": {
     "frozen": false,
     "read_only": false
    }
   },
   "outputs": [],
   "source": [
    "import pdfextraction.merge as merge_tool\n",
    "import pdfextraction.amt_boto_modules as amt_util "
   ]
  },
  {
   "cell_type": "markdown",
   "metadata": {
    "heading_collapsed": true
   },
   "source": [
    "### Overmerge to make labeling easier/ more reliable"
   ]
  },
  {
   "cell_type": "code",
   "execution_count": 125,
   "metadata": {
    "collapsed": true,
    "hidden": true,
    "run_control": {
     "frozen": false,
     "read_only": false
    }
   },
   "outputs": [],
   "source": [
    "merge_params = {\n",
    "    'near_x': 3.0,\n",
    "    'near_y': 1.0,\n",
    "    'overlap_x': 0.30,\n",
    "    'overlap_y': 0.6,\n",
    "    'start_x': 1.0,\n",
    "    'short_length': 4.0,\n",
    "    'char_size_ratio': 1.0,\n",
    "    'starting_near_near_y': 1.5,\n",
    "    'near_overlap_x': 0.35,\n",
    "    'overlap_fract': 0.1\n",
    "}\n",
    "\n",
    "# books_to_merge = book_breakdowns['daily_sci'] # + book_breakdowns['spectrum_sci'] + book_breakdowns['read_und_sci'] + book_breakdowns['workbooks']\n",
    "books_to_merge = book_breakdowns['spectrum_sci']"
   ]
  },
  {
   "cell_type": "code",
   "execution_count": 138,
   "metadata": {
    "collapsed": false,
    "hidden": true,
    "run_control": {
     "frozen": false,
     "read_only": false
    }
   },
   "outputs": [],
   "source": [
    "for textbook in books_to_merge:\n",
    "    merge_tool.merge_single_book(textbook, page_ranges[textbook], turk_data_base_path + merged_anno_dest_dir, turk_data_base_path + new_ocr_trans_dir, merge_params)"
   ]
  },
  {
   "cell_type": "code",
   "execution_count": 139,
   "metadata": {
    "collapsed": true,
    "hidden": true,
    "run_control": {
     "frozen": false,
     "read_only": false
    }
   },
   "outputs": [],
   "source": [
    "pages_to_review = ['Daily_Science_Grade_2_Evan_Moor_61.jpeg']"
   ]
  },
  {
   "cell_type": "code",
   "execution_count": 96,
   "metadata": {
    "collapsed": false,
    "hidden": true,
    "run_control": {
     "frozen": false,
     "read_only": false
    }
   },
   "outputs": [
    {
     "data": {
      "text/plain": [
       "'Daily_Science_Grade_2_Evan_Moor.pdf'"
      ]
     },
     "execution_count": 96,
     "metadata": {},
     "output_type": "execute_result"
    }
   ],
   "source": [
    "test_book = book_breakdowns['daily_sci'][1]\n",
    "test_book"
   ]
  },
  {
   "cell_type": "code",
   "execution_count": 115,
   "metadata": {
    "collapsed": false,
    "hidden": true,
    "run_control": {
     "frozen": false,
     "read_only": false
    },
    "scrolled": false
   },
   "outputs": [],
   "source": [
    "merge_tool.merge_single_book(test_book, [61, 62], turk_data_base_path + merged_anno_dest_dir, turk_data_base_path + new_ocr_trans_dir, merge_params)"
   ]
  },
  {
   "cell_type": "markdown",
   "metadata": {
    "heading_collapsed": true
   },
   "source": [
    "## **First round of MTurk annotion**"
   ]
  },
  {
   "cell_type": "markdown",
   "metadata": {
    "hidden": true
   },
   "source": [
    "**This round is for highest-level annotation**\n",
    "\n",
    "high-level labels include **discussion, definition, question, figure label, header/topic, and answer key**\n",
    "\n",
    "The actual work of submitting and processing results can be found in **mturk_textbook_annotation_task.ipynb**"
   ]
  },
  {
   "cell_type": "markdown",
   "metadata": {
    "collapsed": true,
    "hidden": true,
    "run_control": {
     "frozen": false,
     "read_only": false
    }
   },
   "source": [
    "### Sanity checks, first round cleaning"
   ]
  },
  {
   "cell_type": "markdown",
   "metadata": {
    "heading_collapsed": true
   },
   "source": [
    "## **Generate question annotations**"
   ]
  },
  {
   "cell_type": "code",
   "execution_count": 141,
   "metadata": {
    "collapsed": true,
    "hidden": true,
    "run_control": {
     "frozen": false,
     "read_only": false
    }
   },
   "outputs": [],
   "source": [
    "import pdfextraction.unmerge as unmerge_tool\n",
    "import pdfextraction.question_annotation as question_anno_util"
   ]
  },
  {
   "cell_type": "markdown",
   "metadata": {
    "heading_collapsed": true,
    "hidden": true
   },
   "source": [
    "### **Unmerge boxes** to seperate question components"
   ]
  },
  {
   "cell_type": "code",
   "execution_count": 142,
   "metadata": {
    "collapsed": false,
    "hidden": true,
    "run_control": {
     "frozen": false,
     "read_only": false
    }
   },
   "outputs": [],
   "source": [
    "# books_to_unmerge = textbook in book_breakdowns['daily_sci'] + book_breakdowns['spectrum_sci'] + book_breakdowns['read_und_sci'] + book_breakdowns['workbooks']\n",
    "books_to_unmerge = book_breakdowns['spectrum_sci']\n",
    "# books_to_unmerge = book_breakdowns['daily_sci']\n",
    "\n",
    "for textbook in books_to_unmerge:\n",
    "#     unmerge_tool.unmerge_single_textbook(textbook, page_ranges[textbook], turk_data_base_path, overmerged_dir, unmerged_dir, lessmerged_dir)\n",
    "    unmerge_tool.unmerge_single_textbook(textbook, page_ranges[textbook], turk_data_base_path, merged_anno_dest_dir , raw_annotations_w_vert_scale, unmerged_ocr_trans_dir)"
   ]
  },
  {
   "cell_type": "markdown",
   "metadata": {
    "hidden": true
   },
   "source": [
    "### weakly remerge question boxes"
   ]
  },
  {
   "cell_type": "markdown",
   "metadata": {
    "hidden": true
   },
   "source": [
    "This should be performed with only the horizontal and overlap merge passes by setting **merge_pass = 2**"
   ]
  },
  {
   "cell_type": "code",
   "execution_count": 147,
   "metadata": {
    "collapsed": true,
    "hidden": true,
    "run_control": {
     "frozen": false,
     "read_only": false
    }
   },
   "outputs": [],
   "source": [
    "merge_pass = 2\n",
    "remerge_params = {\n",
    "    'near_x': 2.0,\n",
    "    'near_y': 1.0,\n",
    "    'overlap_x': 0.30,\n",
    "    'overlap_y': 0.6,\n",
    "    'start_x': 1.0,\n",
    "    'short_length': 4.0,\n",
    "    'char_size_ratio': 1.0,\n",
    "    'starting_near_near_y': 1.5,\n",
    "    'near_overlap_x': 0.35,\n",
    "    'overlap_fract': 0.00001\n",
    "}\n",
    "\n",
    "# books_to_merge = book_breakdowns['daily_sci'] #+ book_breakdowns['spectrum_sci'] + book_breakdowns['read_und_sci'] + book_breakdowns['workbooks']\n",
    "books_to_merge = book_breakdowns['spectrum_sci']"
   ]
  },
  {
   "cell_type": "code",
   "execution_count": 149,
   "metadata": {
    "collapsed": false,
    "hidden": true,
    "run_control": {
     "frozen": false,
     "read_only": false
    }
   },
   "outputs": [],
   "source": [
    "for textbook in books_to_merge:\n",
    "    merge_tool.merge_single_book(textbook, page_ranges[textbook], turk_data_base_path + remerged_dir, turk_data_base_path + unmerged_ocr_trans_dir, remerge_params, merge_pass)"
   ]
  },
  {
   "cell_type": "markdown",
   "metadata": {
    "hidden": true
   },
   "source": [
    "### Make **question-specific annotations** based on first round labels"
   ]
  },
  {
   "cell_type": "code",
   "execution_count": 153,
   "metadata": {
    "collapsed": false,
    "hidden": true,
    "run_control": {
     "frozen": false,
     "read_only": false
    }
   },
   "outputs": [
    {
     "name": "stdout",
     "output_type": "stream",
     "text": [
      "'v_dim'\n",
      "'v_dim'\n",
      "'v_dim'\n"
     ]
    }
   ],
   "source": [
    "# books_to_amend = textbook in book_breakdowns['daily_sci'] + book_breakdowns['spectrum_sci'] + book_breakdowns['read_und_sci'] + book_breakdowns['workbooks']\n",
    "books_to_amend = book_breakdowns['spectrum_sci']\n",
    "for textbook in books_to_amend:\n",
    "#     question_anno_util.amend_single_book(textbook, page_ranges[textbook], turk_data_base_path + new_q_ocr_dir, turk_data_base_path + new_ocr_trans_dir)\n",
    "#     question_anno_util.amend_single_book(textbook, page_ranges[textbook], turk_data_base_path + new_q_ocr_dir, turk_data_base_path + remerged_dir)\n",
    "    question_anno_util.amend_single_book(textbook, page_ranges[textbook], turk_data_base_path + new_q_ocr_dir, turk_data_base_path + remerged_dir)"
   ]
  },
  {
   "cell_type": "markdown",
   "metadata": {
    "heading_collapsed": true
   },
   "source": [
    "## Incorporate **new OCR** results"
   ]
  },
  {
   "cell_type": "markdown",
   "metadata": {
    "hidden": true
   },
   "source": [
    "This step is needed only because of issues uncovered with the first OCR round. The OCR was improved, and the labels generated for the previous results are transferred to the new OCR detections. This won't be needed when starting ab initio."
   ]
  },
  {
   "cell_type": "code",
   "execution_count": 133,
   "metadata": {
    "collapsed": true,
    "hidden": true,
    "run_control": {
     "frozen": false,
     "read_only": false
    }
   },
   "outputs": [],
   "source": [
    "import pdfextraction.transmit_anno as ocr_trans"
   ]
  },
  {
   "cell_type": "markdown",
   "metadata": {
    "heading_collapsed": true,
    "hidden": true
   },
   "source": [
    "### First the broad category labels"
   ]
  },
  {
   "cell_type": "code",
   "execution_count": 131,
   "metadata": {
    "collapsed": false,
    "hidden": true,
    "run_control": {
     "frozen": false,
     "read_only": false
    }
   },
   "outputs": [
    {
     "data": {
      "text/plain": [
       "'transferred-labels-first-round/'"
      ]
     },
     "execution_count": 131,
     "metadata": {},
     "output_type": "execute_result"
    }
   ],
   "source": [
    "new_ocr_trans_dir"
   ]
  },
  {
   "cell_type": "code",
   "execution_count": 135,
   "metadata": {
    "collapsed": false,
    "hidden": true,
    "run_control": {
     "frozen": false,
     "read_only": false
    }
   },
   "outputs": [
    {
     "name": "stdout",
     "output_type": "stream",
     "text": [
      "[Errno 2] No such file or directory: './ai2-vision-turk-data/textbook-annotation-test/corrected_raw_hit_results/Spectrum_Science_Grade_3_132.json'\n"
     ]
    }
   ],
   "source": [
    "# books_to_transfer_anno = book_breakdowns['daily_sci']\n",
    "books_to_transfer_anno = book_breakdowns['spectrum_sci']\n",
    "for textbook in books_to_transfer_anno:\n",
    "    ocr_trans.transmit_anno_single_textbook(textbook, page_ranges[textbook], 0.5, turk_data_base_path, \n",
    "                                            first_round_annotation_results_dir, raw_annotations_w_vert_scale, new_ocr_trans_dir )"
   ]
  },
  {
   "cell_type": "markdown",
   "metadata": {
    "hidden": true
   },
   "source": [
    "### Then again for the question specific labels"
   ]
  },
  {
   "cell_type": "code",
   "execution_count": 151,
   "metadata": {
    "collapsed": false,
    "hidden": true,
    "run_control": {
     "frozen": false,
     "read_only": false
    }
   },
   "outputs": [
    {
     "data": {
      "text/plain": [
       "'transferred-question-labels/'"
      ]
     },
     "execution_count": 151,
     "metadata": {},
     "output_type": "execute_result"
    }
   ],
   "source": [
    "transferred_q_labels_dir"
   ]
  },
  {
   "cell_type": "code",
   "execution_count": 154,
   "metadata": {
    "collapsed": true,
    "hidden": true,
    "run_control": {
     "frozen": false,
     "read_only": false
    }
   },
   "outputs": [
    {
     "name": "stdout",
     "output_type": "stream",
     "text": [
      "[Errno 2] No such file or directory: './ai2-vision-turk-data/textbook-annotation-test/simpler-test-questions/Spectrum_Science_Grade_3_9.json'\n",
      "[Errno 2] No such file or directory: './ai2-vision-turk-data/textbook-annotation-test/simpler-test-questions/Spectrum_Science_Grade_3_11.json'\n",
      "[Errno 2] No such file or directory: './ai2-vision-turk-data/textbook-annotation-test/simpler-test-questions/Spectrum_Science_Grade_3_13.json'\n",
      "[Errno 2] No such file or directory: './ai2-vision-turk-data/textbook-annotation-test/simpler-test-questions/Spectrum_Science_Grade_3_15.json'\n",
      "[Errno 2] No such file or directory: './ai2-vision-turk-data/textbook-annotation-test/simpler-test-questions/Spectrum_Science_Grade_3_17.json'\n",
      "[Errno 2] No such file or directory: './ai2-vision-turk-data/textbook-annotation-test/simpler-test-questions/Spectrum_Science_Grade_3_19.json'\n",
      "[Errno 2] No such file or directory: './ai2-vision-turk-data/textbook-annotation-test/simpler-test-questions/Spectrum_Science_Grade_3_23.json'\n",
      "[Errno 2] No such file or directory: './ai2-vision-turk-data/textbook-annotation-test/simpler-test-questions/Spectrum_Science_Grade_3_25.json'\n",
      "[Errno 2] No such file or directory: './ai2-vision-turk-data/textbook-annotation-test/simpler-test-questions/Spectrum_Science_Grade_3_27.json'\n",
      "[Errno 2] No such file or directory: './ai2-vision-turk-data/textbook-annotation-test/simpler-test-questions/Spectrum_Science_Grade_3_29.json'\n",
      "[Errno 2] No such file or directory: './ai2-vision-turk-data/textbook-annotation-test/simpler-test-questions/Spectrum_Science_Grade_3_31.json'\n",
      "[Errno 2] No such file or directory: './ai2-vision-turk-data/textbook-annotation-test/simpler-test-questions/Spectrum_Science_Grade_3_33.json'\n",
      "[Errno 2] No such file or directory: './ai2-vision-turk-data/textbook-annotation-test/simpler-test-questions/Spectrum_Science_Grade_3_39.json'\n",
      "[Errno 2] No such file or directory: './ai2-vision-turk-data/textbook-annotation-test/simpler-test-questions/Spectrum_Science_Grade_3_41.json'\n",
      "[Errno 2] No such file or directory: './ai2-vision-turk-data/textbook-annotation-test/simpler-test-questions/Spectrum_Science_Grade_3_43.json'\n",
      "[Errno 2] No such file or directory: './ai2-vision-turk-data/textbook-annotation-test/simpler-test-questions/Spectrum_Science_Grade_3_45.json'\n",
      "[Errno 2] No such file or directory: './ai2-vision-turk-data/textbook-annotation-test/simpler-test-questions/Spectrum_Science_Grade_3_47.json'\n",
      "[Errno 2] No such file or directory: './ai2-vision-turk-data/textbook-annotation-test/simpler-test-questions/Spectrum_Science_Grade_3_51.json'\n",
      "[Errno 2] No such file or directory: './ai2-vision-turk-data/textbook-annotation-test/simpler-test-questions/Spectrum_Science_Grade_3_56.json'\n",
      "[Errno 2] No such file or directory: './ai2-vision-turk-data/textbook-annotation-test/simpler-test-questions/Spectrum_Science_Grade_3_57.json'\n",
      "[Errno 2] No such file or directory: './ai2-vision-turk-data/textbook-annotation-test/simpler-test-questions/Spectrum_Science_Grade_3_59.json'\n",
      "[Errno 2] No such file or directory: './ai2-vision-turk-data/textbook-annotation-test/simpler-test-questions/Spectrum_Science_Grade_3_63.json'\n",
      "[Errno 2] No such file or directory: './ai2-vision-turk-data/textbook-annotation-test/simpler-test-questions/Spectrum_Science_Grade_3_65.json'\n",
      "[Errno 2] No such file or directory: './ai2-vision-turk-data/textbook-annotation-test/simpler-test-questions/Spectrum_Science_Grade_3_67.json'\n",
      "[Errno 2] No such file or directory: './ai2-vision-turk-data/textbook-annotation-test/simpler-test-questions/Spectrum_Science_Grade_3_69.json'\n",
      "[Errno 2] No such file or directory: './ai2-vision-turk-data/textbook-annotation-test/simpler-test-questions/Spectrum_Science_Grade_3_73.json'\n",
      "[Errno 2] No such file or directory: './ai2-vision-turk-data/textbook-annotation-test/simpler-test-questions/Spectrum_Science_Grade_3_75.json'\n",
      "[Errno 2] No such file or directory: './ai2-vision-turk-data/textbook-annotation-test/simpler-test-questions/Spectrum_Science_Grade_3_77.json'\n",
      "[Errno 2] No such file or directory: './ai2-vision-turk-data/textbook-annotation-test/simpler-test-questions/Spectrum_Science_Grade_3_79.json'\n",
      "[Errno 2] No such file or directory: './ai2-vision-turk-data/textbook-annotation-test/simpler-test-questions/Spectrum_Science_Grade_3_81.json'\n",
      "[Errno 2] No such file or directory: './ai2-vision-turk-data/textbook-annotation-test/simpler-test-questions/Spectrum_Science_Grade_3_83.json'\n",
      "[Errno 2] No such file or directory: './ai2-vision-turk-data/textbook-annotation-test/simpler-test-questions/Spectrum_Science_Grade_3_85.json'\n",
      "[Errno 2] No such file or directory: './ai2-vision-turk-data/textbook-annotation-test/simpler-test-questions/Spectrum_Science_Grade_3_89.json'\n",
      "[Errno 2] No such file or directory: './ai2-vision-turk-data/textbook-annotation-test/simpler-test-questions/Spectrum_Science_Grade_3_91.json'\n",
      "[Errno 2] No such file or directory: './ai2-vision-turk-data/textbook-annotation-test/simpler-test-questions/Spectrum_Science_Grade_3_92.json'\n",
      "[Errno 2] No such file or directory: './ai2-vision-turk-data/textbook-annotation-test/simpler-test-questions/Spectrum_Science_Grade_3_93.json'\n",
      "[Errno 2] No such file or directory: './ai2-vision-turk-data/textbook-annotation-test/simpler-test-questions/Spectrum_Science_Grade_3_95.json'\n",
      "[Errno 2] No such file or directory: './ai2-vision-turk-data/textbook-annotation-test/simpler-test-questions/Spectrum_Science_Grade_3_97.json'\n",
      "[Errno 2] No such file or directory: './ai2-vision-turk-data/textbook-annotation-test/simpler-test-questions/Spectrum_Science_Grade_3_99.json'\n",
      "[Errno 2] No such file or directory: './ai2-vision-turk-data/textbook-annotation-test/simpler-test-questions/Spectrum_Science_Grade_3_101.json'\n",
      "[Errno 2] No such file or directory: './ai2-vision-turk-data/textbook-annotation-test/simpler-test-questions/Spectrum_Science_Grade_3_105.json'\n",
      "[Errno 2] No such file or directory: './ai2-vision-turk-data/textbook-annotation-test/simpler-test-questions/Spectrum_Science_Grade_3_107.json'\n",
      "[Errno 2] No such file or directory: './ai2-vision-turk-data/textbook-annotation-test/simpler-test-questions/Spectrum_Science_Grade_3_109.json'\n",
      "[Errno 2] No such file or directory: './ai2-vision-turk-data/textbook-annotation-test/simpler-test-questions/Spectrum_Science_Grade_3_111.json'\n",
      "[Errno 2] No such file or directory: './ai2-vision-turk-data/textbook-annotation-test/simpler-test-questions/Spectrum_Science_Grade_3_113.json'\n",
      "[Errno 2] No such file or directory: './ai2-vision-turk-data/textbook-annotation-test/simpler-test-questions/Spectrum_Science_Grade_3_115.json'\n",
      "[Errno 2] No such file or directory: './ai2-vision-turk-data/textbook-annotation-test/simpler-test-questions/Spectrum_Science_Grade_3_117.json'\n",
      "[Errno 2] No such file or directory: './ai2-vision-turk-data/textbook-annotation-test/simpler-test-questions/Spectrum_Science_Grade_3_125.json'\n",
      "[Errno 2] No such file or directory: './ai2-vision-turk-data/textbook-annotation-test/simpler-test-questions/Spectrum_Science_Grade_3_126.json'\n",
      "[Errno 2] No such file or directory: './ai2-vision-turk-data/textbook-annotation-test/simpler-test-questions/Spectrum_Science_Grade_3_127.json'\n",
      "[Errno 2] No such file or directory: './ai2-vision-turk-data/textbook-annotation-test/simpler-test-questions/Spectrum_Science_Grade_3_128.json'\n",
      "[Errno 2] No such file or directory: './ai2-vision-turk-data/textbook-annotation-test/simpler-test-questions/Spectrum_Science_Grade_3_129.json'\n",
      "[Errno 2] No such file or directory: './ai2-vision-turk-data/textbook-annotation-test/simpler-test-questions/Spectrum_Science_Grade_3_130.json'\n",
      "[Errno 2] No such file or directory: './ai2-vision-turk-data/textbook-annotation-test/simpler-test-questions/Spectrum_Science_Grade_3_131.json'\n",
      "[Errno 2] No such file or directory: './ai2-vision-turk-data/textbook-annotation-test/simpler-test-questions/Spectrum_Science_Grade_3_132.json'\n",
      "[Errno 2] No such file or directory: './ai2-vision-turk-data/textbook-annotation-test/simpler-test-questions/Spectrum_Science_Grade_3_133.json'\n",
      "[Errno 2] No such file or directory: './ai2-vision-turk-data/textbook-annotation-test/simpler-test-questions/Spectrum_Science_Grade_3_134.json'\n",
      "[Errno 2] No such file or directory: './ai2-vision-turk-data/textbook-annotation-test/simpler-test-questions/Spectrum_Science_Grade_3_135.json'\n",
      "[Errno 2] No such file or directory: './ai2-vision-turk-data/textbook-annotation-test/simpler-test-questions/Spectrum_Science_Grade_3_136.json'\n",
      "[Errno 2] No such file or directory: './ai2-vision-turk-data/textbook-annotation-test/simpler-test-questions/Spectrum_Science_Grade_3_137.json'\n",
      "[Errno 2] No such file or directory: './ai2-vision-turk-data/textbook-annotation-test/simpler-test-questions/Spectrum_Science_Grade_3_138.json'\n",
      "[Errno 2] No such file or directory: './ai2-vision-turk-data/textbook-annotation-test/simpler-test-questions/Spectrum_Science_Grade_3_139.json'\n",
      "[Errno 2] No such file or directory: './ai2-vision-turk-data/textbook-annotation-test/simpler-test-questions/Spectrum_Science_Grade_3_140.json'\n",
      "[Errno 2] No such file or directory: './ai2-vision-turk-data/textbook-annotation-test/simpler-test-questions/Spectrum_Science_Grade_3_141.json'\n",
      "[Errno 2] No such file or directory: './ai2-vision-turk-data/textbook-annotation-test/simpler-test-questions/Spectrum_Science_Grade_3_142.json'\n",
      "[Errno 2] No such file or directory: './ai2-vision-turk-data/textbook-annotation-test/simpler-test-questions/Spectrum_Science_Grade_3_143.json'\n",
      "[Errno 2] No such file or directory: './ai2-vision-turk-data/textbook-annotation-test/simpler-test-questions/Spectrum_Science_Grade_3_144.json'\n",
      "[Errno 2] No such file or directory: './ai2-vision-turk-data/textbook-annotation-test/simpler-test-questions/Spectrum_Science_Grade_3_145.json'\n",
      "[Errno 2] No such file or directory: './ai2-vision-turk-data/textbook-annotation-test/simpler-test-questions/Spectrum_Science_Grade_4_9.json'\n",
      "[Errno 2] No such file or directory: './ai2-vision-turk-data/textbook-annotation-test/simpler-test-questions/Spectrum_Science_Grade_4_11.json'\n",
      "[Errno 2] No such file or directory: './ai2-vision-turk-data/textbook-annotation-test/simpler-test-questions/Spectrum_Science_Grade_4_15.json'\n",
      "[Errno 2] No such file or directory: './ai2-vision-turk-data/textbook-annotation-test/simpler-test-questions/Spectrum_Science_Grade_4_17.json'\n",
      "[Errno 2] No such file or directory: './ai2-vision-turk-data/textbook-annotation-test/simpler-test-questions/Spectrum_Science_Grade_4_19.json'\n",
      "[Errno 2] No such file or directory: './ai2-vision-turk-data/textbook-annotation-test/simpler-test-questions/Spectrum_Science_Grade_4_23.json'\n",
      "[Errno 2] No such file or directory: './ai2-vision-turk-data/textbook-annotation-test/simpler-test-questions/Spectrum_Science_Grade_4_27.json'\n",
      "[Errno 2] No such file or directory: './ai2-vision-turk-data/textbook-annotation-test/simpler-test-questions/Spectrum_Science_Grade_4_29.json'\n",
      "[Errno 2] No such file or directory: './ai2-vision-turk-data/textbook-annotation-test/simpler-test-questions/Spectrum_Science_Grade_4_31.json'\n",
      "[Errno 2] No such file or directory: './ai2-vision-turk-data/textbook-annotation-test/simpler-test-questions/Spectrum_Science_Grade_4_33.json'\n",
      "[Errno 2] No such file or directory: './ai2-vision-turk-data/textbook-annotation-test/simpler-test-questions/Spectrum_Science_Grade_4_35.json'\n",
      "[Errno 2] No such file or directory: './ai2-vision-turk-data/textbook-annotation-test/simpler-test-questions/Spectrum_Science_Grade_4_39.json'\n",
      "[Errno 2] No such file or directory: './ai2-vision-turk-data/textbook-annotation-test/simpler-test-questions/Spectrum_Science_Grade_4_41.json'\n",
      "[Errno 2] No such file or directory: './ai2-vision-turk-data/textbook-annotation-test/simpler-test-questions/Spectrum_Science_Grade_4_43.json'\n",
      "[Errno 2] No such file or directory: './ai2-vision-turk-data/textbook-annotation-test/simpler-test-questions/Spectrum_Science_Grade_4_45.json'\n",
      "[Errno 2] No such file or directory: './ai2-vision-turk-data/textbook-annotation-test/simpler-test-questions/Spectrum_Science_Grade_4_47.json'\n",
      "[Errno 2] No such file or directory: './ai2-vision-turk-data/textbook-annotation-test/simpler-test-questions/Spectrum_Science_Grade_4_51.json'\n",
      "[Errno 2] No such file or directory: './ai2-vision-turk-data/textbook-annotation-test/simpler-test-questions/Spectrum_Science_Grade_4_57.json'\n",
      "[Errno 2] No such file or directory: './ai2-vision-turk-data/textbook-annotation-test/simpler-test-questions/Spectrum_Science_Grade_4_59.json'\n",
      "[Errno 2] No such file or directory: './ai2-vision-turk-data/textbook-annotation-test/simpler-test-questions/Spectrum_Science_Grade_4_61.json'\n",
      "[Errno 2] No such file or directory: './ai2-vision-turk-data/textbook-annotation-test/simpler-test-questions/Spectrum_Science_Grade_4_63.json'\n",
      "[Errno 2] No such file or directory: './ai2-vision-turk-data/textbook-annotation-test/simpler-test-questions/Spectrum_Science_Grade_4_65.json'\n",
      "[Errno 2] No such file or directory: './ai2-vision-turk-data/textbook-annotation-test/simpler-test-questions/Spectrum_Science_Grade_4_67.json'\n",
      "[Errno 2] No such file or directory: './ai2-vision-turk-data/textbook-annotation-test/simpler-test-questions/Spectrum_Science_Grade_4_69.json'\n",
      "[Errno 2] No such file or directory: './ai2-vision-turk-data/textbook-annotation-test/simpler-test-questions/Spectrum_Science_Grade_4_73.json'\n",
      "[Errno 2] No such file or directory: './ai2-vision-turk-data/textbook-annotation-test/simpler-test-questions/Spectrum_Science_Grade_4_75.json'\n",
      "[Errno 2] No such file or directory: './ai2-vision-turk-data/textbook-annotation-test/simpler-test-questions/Spectrum_Science_Grade_4_77.json'\n",
      "[Errno 2] No such file or directory: './ai2-vision-turk-data/textbook-annotation-test/simpler-test-questions/Spectrum_Science_Grade_4_79.json'\n",
      "[Errno 2] No such file or directory: './ai2-vision-turk-data/textbook-annotation-test/simpler-test-questions/Spectrum_Science_Grade_4_81.json'\n",
      "[Errno 2] No such file or directory: './ai2-vision-turk-data/textbook-annotation-test/simpler-test-questions/Spectrum_Science_Grade_4_83.json'\n",
      "[Errno 2] No such file or directory: './ai2-vision-turk-data/textbook-annotation-test/simpler-test-questions/Spectrum_Science_Grade_4_85.json'\n",
      "[Errno 2] No such file or directory: './ai2-vision-turk-data/textbook-annotation-test/simpler-test-questions/Spectrum_Science_Grade_4_91.json'\n",
      "[Errno 2] No such file or directory: './ai2-vision-turk-data/textbook-annotation-test/simpler-test-questions/Spectrum_Science_Grade_4_93.json'\n",
      "[Errno 2] No such file or directory: './ai2-vision-turk-data/textbook-annotation-test/simpler-test-questions/Spectrum_Science_Grade_4_95.json'\n",
      "[Errno 2] No such file or directory: './ai2-vision-turk-data/textbook-annotation-test/simpler-test-questions/Spectrum_Science_Grade_4_97.json'\n",
      "[Errno 2] No such file or directory: './ai2-vision-turk-data/textbook-annotation-test/simpler-test-questions/Spectrum_Science_Grade_4_99.json'\n",
      "[Errno 2] No such file or directory: './ai2-vision-turk-data/textbook-annotation-test/simpler-test-questions/Spectrum_Science_Grade_4_101.json'\n",
      "[Errno 2] No such file or directory: './ai2-vision-turk-data/textbook-annotation-test/simpler-test-questions/Spectrum_Science_Grade_4_105.json'\n",
      "[Errno 2] No such file or directory: './ai2-vision-turk-data/textbook-annotation-test/simpler-test-questions/Spectrum_Science_Grade_4_107.json'\n",
      "[Errno 2] No such file or directory: './ai2-vision-turk-data/textbook-annotation-test/simpler-test-questions/Spectrum_Science_Grade_4_109.json'\n",
      "[Errno 2] No such file or directory: './ai2-vision-turk-data/textbook-annotation-test/simpler-test-questions/Spectrum_Science_Grade_4_111.json'\n",
      "[Errno 2] No such file or directory: './ai2-vision-turk-data/textbook-annotation-test/simpler-test-questions/Spectrum_Science_Grade_4_113.json'\n",
      "[Errno 2] No such file or directory: './ai2-vision-turk-data/textbook-annotation-test/simpler-test-questions/Spectrum_Science_Grade_4_115.json'\n",
      "[Errno 2] No such file or directory: './ai2-vision-turk-data/textbook-annotation-test/simpler-test-questions/Spectrum_Science_Grade_4_117.json'\n",
      "[Errno 2] No such file or directory: './ai2-vision-turk-data/textbook-annotation-test/simpler-test-questions/Spectrum_Science_Grade_4_125.json'\n",
      "[Errno 2] No such file or directory: './ai2-vision-turk-data/textbook-annotation-test/simpler-test-questions/Spectrum_Science_Grade_4_126.json'\n",
      "[Errno 2] No such file or directory: './ai2-vision-turk-data/textbook-annotation-test/simpler-test-questions/Spectrum_Science_Grade_4_127.json'\n",
      "[Errno 2] No such file or directory: './ai2-vision-turk-data/textbook-annotation-test/simpler-test-questions/Spectrum_Science_Grade_4_129.json'\n",
      "[Errno 2] No such file or directory: './ai2-vision-turk-data/textbook-annotation-test/simpler-test-questions/Spectrum_Science_Grade_4_130.json'\n",
      "[Errno 2] No such file or directory: './ai2-vision-turk-data/textbook-annotation-test/simpler-test-questions/Spectrum_Science_Grade_4_131.json'\n",
      "[Errno 2] No such file or directory: './ai2-vision-turk-data/textbook-annotation-test/simpler-test-questions/Spectrum_Science_Grade_4_132.json'\n",
      "[Errno 2] No such file or directory: './ai2-vision-turk-data/textbook-annotation-test/simpler-test-questions/Spectrum_Science_Grade_4_133.json'\n",
      "[Errno 2] No such file or directory: './ai2-vision-turk-data/textbook-annotation-test/simpler-test-questions/Spectrum_Science_Grade_4_134.json'\n",
      "[Errno 2] No such file or directory: './ai2-vision-turk-data/textbook-annotation-test/simpler-test-questions/Spectrum_Science_Grade_4_135.json'\n",
      "[Errno 2] No such file or directory: './ai2-vision-turk-data/textbook-annotation-test/simpler-test-questions/Spectrum_Science_Grade_4_136.json'\n",
      "[Errno 2] No such file or directory: './ai2-vision-turk-data/textbook-annotation-test/simpler-test-questions/Spectrum_Science_Grade_4_137.json'\n",
      "[Errno 2] No such file or directory: './ai2-vision-turk-data/textbook-annotation-test/simpler-test-questions/Spectrum_Science_Grade_4_138.json'\n",
      "[Errno 2] No such file or directory: './ai2-vision-turk-data/textbook-annotation-test/simpler-test-questions/Spectrum_Science_Grade_4_139.json'\n",
      "[Errno 2] No such file or directory: './ai2-vision-turk-data/textbook-annotation-test/simpler-test-questions/Spectrum_Science_Grade_4_140.json'\n",
      "[Errno 2] No such file or directory: './ai2-vision-turk-data/textbook-annotation-test/simpler-test-questions/Spectrum_Science_Grade_4_141.json'\n",
      "[Errno 2] No such file or directory: './ai2-vision-turk-data/textbook-annotation-test/simpler-test-questions/Spectrum_Science_Grade_4_142.json'\n",
      "[Errno 2] No such file or directory: './ai2-vision-turk-data/textbook-annotation-test/simpler-test-questions/Spectrum_Science_Grade_4_143.json'\n",
      "[Errno 2] No such file or directory: './ai2-vision-turk-data/textbook-annotation-test/simpler-test-questions/Spectrum_Science_Grade_5_9.json'\n",
      "[Errno 2] No such file or directory: './ai2-vision-turk-data/textbook-annotation-test/simpler-test-questions/Spectrum_Science_Grade_5_11.json'\n",
      "[Errno 2] No such file or directory: './ai2-vision-turk-data/textbook-annotation-test/simpler-test-questions/Spectrum_Science_Grade_5_13.json'\n",
      "[Errno 2] No such file or directory: './ai2-vision-turk-data/textbook-annotation-test/simpler-test-questions/Spectrum_Science_Grade_5_15.json'\n",
      "[Errno 2] No such file or directory: './ai2-vision-turk-data/textbook-annotation-test/simpler-test-questions/Spectrum_Science_Grade_5_17.json'\n",
      "[Errno 2] No such file or directory: './ai2-vision-turk-data/textbook-annotation-test/simpler-test-questions/Spectrum_Science_Grade_5_19.json'\n",
      "[Errno 2] No such file or directory: './ai2-vision-turk-data/textbook-annotation-test/simpler-test-questions/Spectrum_Science_Grade_5_23.json'\n",
      "[Errno 2] No such file or directory: './ai2-vision-turk-data/textbook-annotation-test/simpler-test-questions/Spectrum_Science_Grade_5_25.json'\n",
      "[Errno 2] No such file or directory: './ai2-vision-turk-data/textbook-annotation-test/simpler-test-questions/Spectrum_Science_Grade_5_29.json'\n",
      "[Errno 2] No such file or directory: './ai2-vision-turk-data/textbook-annotation-test/simpler-test-questions/Spectrum_Science_Grade_5_31.json'\n",
      "[Errno 2] No such file or directory: './ai2-vision-turk-data/textbook-annotation-test/simpler-test-questions/Spectrum_Science_Grade_5_33.json'\n",
      "[Errno 2] No such file or directory: './ai2-vision-turk-data/textbook-annotation-test/simpler-test-questions/Spectrum_Science_Grade_5_35.json'\n",
      "[Errno 2] No such file or directory: './ai2-vision-turk-data/textbook-annotation-test/simpler-test-questions/Spectrum_Science_Grade_5_39.json'\n",
      "[Errno 2] No such file or directory: './ai2-vision-turk-data/textbook-annotation-test/simpler-test-questions/Spectrum_Science_Grade_5_41.json'\n",
      "[Errno 2] No such file or directory: './ai2-vision-turk-data/textbook-annotation-test/simpler-test-questions/Spectrum_Science_Grade_5_43.json'\n",
      "[Errno 2] No such file or directory: './ai2-vision-turk-data/textbook-annotation-test/simpler-test-questions/Spectrum_Science_Grade_5_47.json'\n",
      "[Errno 2] No such file or directory: './ai2-vision-turk-data/textbook-annotation-test/simpler-test-questions/Spectrum_Science_Grade_5_49.json'\n",
      "[Errno 2] No such file or directory: './ai2-vision-turk-data/textbook-annotation-test/simpler-test-questions/Spectrum_Science_Grade_5_51.json'\n",
      "[Errno 2] No such file or directory: './ai2-vision-turk-data/textbook-annotation-test/simpler-test-questions/Spectrum_Science_Grade_5_57.json'\n",
      "[Errno 2] No such file or directory: './ai2-vision-turk-data/textbook-annotation-test/simpler-test-questions/Spectrum_Science_Grade_5_59.json'\n",
      "[Errno 2] No such file or directory: './ai2-vision-turk-data/textbook-annotation-test/simpler-test-questions/Spectrum_Science_Grade_5_61.json'\n",
      "[Errno 2] No such file or directory: './ai2-vision-turk-data/textbook-annotation-test/simpler-test-questions/Spectrum_Science_Grade_5_63.json'\n",
      "[Errno 2] No such file or directory: './ai2-vision-turk-data/textbook-annotation-test/simpler-test-questions/Spectrum_Science_Grade_5_65.json'\n",
      "[Errno 2] No such file or directory: './ai2-vision-turk-data/textbook-annotation-test/simpler-test-questions/Spectrum_Science_Grade_5_67.json'\n",
      "[Errno 2] No such file or directory: './ai2-vision-turk-data/textbook-annotation-test/simpler-test-questions/Spectrum_Science_Grade_5_69.json'\n",
      "[Errno 2] No such file or directory: './ai2-vision-turk-data/textbook-annotation-test/simpler-test-questions/Spectrum_Science_Grade_5_73.json'\n",
      "[Errno 2] No such file or directory: './ai2-vision-turk-data/textbook-annotation-test/simpler-test-questions/Spectrum_Science_Grade_5_77.json'\n",
      "[Errno 2] No such file or directory: './ai2-vision-turk-data/textbook-annotation-test/simpler-test-questions/Spectrum_Science_Grade_5_79.json'\n",
      "[Errno 2] No such file or directory: './ai2-vision-turk-data/textbook-annotation-test/simpler-test-questions/Spectrum_Science_Grade_5_81.json'\n",
      "[Errno 2] No such file or directory: './ai2-vision-turk-data/textbook-annotation-test/simpler-test-questions/Spectrum_Science_Grade_5_83.json'\n",
      "[Errno 2] No such file or directory: './ai2-vision-turk-data/textbook-annotation-test/simpler-test-questions/Spectrum_Science_Grade_5_85.json'\n",
      "[Errno 2] No such file or directory: './ai2-vision-turk-data/textbook-annotation-test/simpler-test-questions/Spectrum_Science_Grade_5_89.json'\n",
      "[Errno 2] No such file or directory: './ai2-vision-turk-data/textbook-annotation-test/simpler-test-questions/Spectrum_Science_Grade_5_91.json'\n",
      "[Errno 2] No such file or directory: './ai2-vision-turk-data/textbook-annotation-test/simpler-test-questions/Spectrum_Science_Grade_5_93.json'\n",
      "[Errno 2] No such file or directory: './ai2-vision-turk-data/textbook-annotation-test/simpler-test-questions/Spectrum_Science_Grade_5_95.json'\n",
      "[Errno 2] No such file or directory: './ai2-vision-turk-data/textbook-annotation-test/simpler-test-questions/Spectrum_Science_Grade_5_97.json'\n",
      "[Errno 2] No such file or directory: './ai2-vision-turk-data/textbook-annotation-test/simpler-test-questions/Spectrum_Science_Grade_5_99.json'\n",
      "[Errno 2] No such file or directory: './ai2-vision-turk-data/textbook-annotation-test/simpler-test-questions/Spectrum_Science_Grade_5_101.json'\n",
      "[Errno 2] No such file or directory: './ai2-vision-turk-data/textbook-annotation-test/simpler-test-questions/Spectrum_Science_Grade_5_105.json'\n",
      "[Errno 2] No such file or directory: './ai2-vision-turk-data/textbook-annotation-test/simpler-test-questions/Spectrum_Science_Grade_5_109.json'\n",
      "[Errno 2] No such file or directory: './ai2-vision-turk-data/textbook-annotation-test/simpler-test-questions/Spectrum_Science_Grade_5_111.json'\n",
      "[Errno 2] No such file or directory: './ai2-vision-turk-data/textbook-annotation-test/simpler-test-questions/Spectrum_Science_Grade_5_113.json'\n",
      "[Errno 2] No such file or directory: './ai2-vision-turk-data/textbook-annotation-test/simpler-test-questions/Spectrum_Science_Grade_5_115.json'\n",
      "[Errno 2] No such file or directory: './ai2-vision-turk-data/textbook-annotation-test/simpler-test-questions/Spectrum_Science_Grade_5_117.json'\n",
      "[Errno 2] No such file or directory: './ai2-vision-turk-data/textbook-annotation-test/simpler-test-questions/Spectrum_Science_Grade_5_125.json'\n",
      "[Errno 2] No such file or directory: './ai2-vision-turk-data/textbook-annotation-test/simpler-test-questions/Spectrum_Science_Grade_5_126.json'\n",
      "[Errno 2] No such file or directory: './ai2-vision-turk-data/textbook-annotation-test/simpler-test-questions/Spectrum_Science_Grade_5_127.json'\n",
      "[Errno 2] No such file or directory: './ai2-vision-turk-data/textbook-annotation-test/simpler-test-questions/Spectrum_Science_Grade_5_128.json'\n",
      "[Errno 2] No such file or directory: './ai2-vision-turk-data/textbook-annotation-test/simpler-test-questions/Spectrum_Science_Grade_5_129.json'\n",
      "[Errno 2] No such file or directory: './ai2-vision-turk-data/textbook-annotation-test/simpler-test-questions/Spectrum_Science_Grade_5_130.json'\n",
      "[Errno 2] No such file or directory: './ai2-vision-turk-data/textbook-annotation-test/simpler-test-questions/Spectrum_Science_Grade_5_131.json'\n",
      "[Errno 2] No such file or directory: './ai2-vision-turk-data/textbook-annotation-test/simpler-test-questions/Spectrum_Science_Grade_5_132.json'\n",
      "[Errno 2] No such file or directory: './ai2-vision-turk-data/textbook-annotation-test/simpler-test-questions/Spectrum_Science_Grade_5_133.json'\n",
      "[Errno 2] No such file or directory: './ai2-vision-turk-data/textbook-annotation-test/simpler-test-questions/Spectrum_Science_Grade_5_134.json'\n",
      "[Errno 2] No such file or directory: './ai2-vision-turk-data/textbook-annotation-test/simpler-test-questions/Spectrum_Science_Grade_5_135.json'\n",
      "[Errno 2] No such file or directory: './ai2-vision-turk-data/textbook-annotation-test/simpler-test-questions/Spectrum_Science_Grade_5_136.json'\n",
      "[Errno 2] No such file or directory: './ai2-vision-turk-data/textbook-annotation-test/simpler-test-questions/Spectrum_Science_Grade_5_137.json'\n",
      "[Errno 2] No such file or directory: './ai2-vision-turk-data/textbook-annotation-test/simpler-test-questions/Spectrum_Science_Grade_5_138.json'\n",
      "[Errno 2] No such file or directory: './ai2-vision-turk-data/textbook-annotation-test/simpler-test-questions/Spectrum_Science_Grade_5_139.json'\n",
      "[Errno 2] No such file or directory: './ai2-vision-turk-data/textbook-annotation-test/simpler-test-questions/Spectrum_Science_Grade_5_140.json'\n",
      "[Errno 2] No such file or directory: './ai2-vision-turk-data/textbook-annotation-test/simpler-test-questions/Spectrum_Science_Grade_5_141.json'\n",
      "[Errno 2] No such file or directory: './ai2-vision-turk-data/textbook-annotation-test/simpler-test-questions/Spectrum_Science_Grade_5_142.json'\n",
      "[Errno 2] No such file or directory: './ai2-vision-turk-data/textbook-annotation-test/simpler-test-questions/Spectrum_Science_Grade_5_143.json'\n",
      "[Errno 2] No such file or directory: './ai2-vision-turk-data/textbook-annotation-test/simpler-test-questions/Spectrum_Science_Grade_5_144.json'\n",
      "[Errno 2] No such file or directory: './ai2-vision-turk-data/textbook-annotation-test/simpler-test-questions/Spectrum_Science_Grade_5_145.json'\n",
      "[Errno 2] No such file or directory: './ai2-vision-turk-data/textbook-annotation-test/simpler-test-questions/Spectrum_Science_Grade_6_9.json'\n",
      "[Errno 2] No such file or directory: './ai2-vision-turk-data/textbook-annotation-test/simpler-test-questions/Spectrum_Science_Grade_6_13.json'\n",
      "[Errno 2] No such file or directory: './ai2-vision-turk-data/textbook-annotation-test/simpler-test-questions/Spectrum_Science_Grade_6_15.json'\n",
      "[Errno 2] No such file or directory: './ai2-vision-turk-data/textbook-annotation-test/simpler-test-questions/Spectrum_Science_Grade_6_17.json'\n",
      "[Errno 2] No such file or directory: './ai2-vision-turk-data/textbook-annotation-test/simpler-test-questions/Spectrum_Science_Grade_6_19.json'\n",
      "[Errno 2] No such file or directory: './ai2-vision-turk-data/textbook-annotation-test/simpler-test-questions/Spectrum_Science_Grade_6_21.json'\n",
      "[Errno 2] No such file or directory: './ai2-vision-turk-data/textbook-annotation-test/simpler-test-questions/Spectrum_Science_Grade_6_23.json'\n",
      "[Errno 2] No such file or directory: './ai2-vision-turk-data/textbook-annotation-test/simpler-test-questions/Spectrum_Science_Grade_6_27.json'\n",
      "[Errno 2] No such file or directory: './ai2-vision-turk-data/textbook-annotation-test/simpler-test-questions/Spectrum_Science_Grade_6_29.json'\n",
      "[Errno 2] No such file or directory: './ai2-vision-turk-data/textbook-annotation-test/simpler-test-questions/Spectrum_Science_Grade_6_31.json'\n",
      "[Errno 2] No such file or directory: './ai2-vision-turk-data/textbook-annotation-test/simpler-test-questions/Spectrum_Science_Grade_6_33.json'\n",
      "[Errno 2] No such file or directory: './ai2-vision-turk-data/textbook-annotation-test/simpler-test-questions/Spectrum_Science_Grade_6_35.json'\n",
      "[Errno 2] No such file or directory: './ai2-vision-turk-data/textbook-annotation-test/simpler-test-questions/Spectrum_Science_Grade_6_37.json'\n",
      "[Errno 2] No such file or directory: './ai2-vision-turk-data/textbook-annotation-test/simpler-test-questions/Spectrum_Science_Grade_6_39.json'\n",
      "[Errno 2] No such file or directory: './ai2-vision-turk-data/textbook-annotation-test/simpler-test-questions/Spectrum_Science_Grade_6_41.json'\n",
      "[Errno 2] No such file or directory: './ai2-vision-turk-data/textbook-annotation-test/simpler-test-questions/Spectrum_Science_Grade_6_43.json'\n",
      "[Errno 2] No such file or directory: './ai2-vision-turk-data/textbook-annotation-test/simpler-test-questions/Spectrum_Science_Grade_6_51.json'\n",
      "[Errno 2] No such file or directory: './ai2-vision-turk-data/textbook-annotation-test/simpler-test-questions/Spectrum_Science_Grade_6_53.json'\n",
      "[Errno 2] No such file or directory: './ai2-vision-turk-data/textbook-annotation-test/simpler-test-questions/Spectrum_Science_Grade_6_55.json'\n",
      "[Errno 2] No such file or directory: './ai2-vision-turk-data/textbook-annotation-test/simpler-test-questions/Spectrum_Science_Grade_6_57.json'\n",
      "[Errno 2] No such file or directory: './ai2-vision-turk-data/textbook-annotation-test/simpler-test-questions/Spectrum_Science_Grade_6_61.json'\n",
      "[Errno 2] No such file or directory: './ai2-vision-turk-data/textbook-annotation-test/simpler-test-questions/Spectrum_Science_Grade_6_63.json'\n",
      "[Errno 2] No such file or directory: './ai2-vision-turk-data/textbook-annotation-test/simpler-test-questions/Spectrum_Science_Grade_6_69.json'\n",
      "[Errno 2] No such file or directory: './ai2-vision-turk-data/textbook-annotation-test/simpler-test-questions/Spectrum_Science_Grade_6_71.json'\n",
      "[Errno 2] No such file or directory: './ai2-vision-turk-data/textbook-annotation-test/simpler-test-questions/Spectrum_Science_Grade_6_73.json'\n",
      "[Errno 2] No such file or directory: './ai2-vision-turk-data/textbook-annotation-test/simpler-test-questions/Spectrum_Science_Grade_6_75.json'\n",
      "[Errno 2] No such file or directory: './ai2-vision-turk-data/textbook-annotation-test/simpler-test-questions/Spectrum_Science_Grade_6_77.json'\n",
      "[Errno 2] No such file or directory: './ai2-vision-turk-data/textbook-annotation-test/simpler-test-questions/Spectrum_Science_Grade_6_79.json'\n",
      "[Errno 2] No such file or directory: './ai2-vision-turk-data/textbook-annotation-test/simpler-test-questions/Spectrum_Science_Grade_6_81.json'\n",
      "[Errno 2] No such file or directory: './ai2-vision-turk-data/textbook-annotation-test/simpler-test-questions/Spectrum_Science_Grade_6_83.json'\n",
      "[Errno 2] No such file or directory: './ai2-vision-turk-data/textbook-annotation-test/simpler-test-questions/Spectrum_Science_Grade_6_85.json'\n",
      "[Errno 2] No such file or directory: './ai2-vision-turk-data/textbook-annotation-test/simpler-test-questions/Spectrum_Science_Grade_6_89.json'\n",
      "[Errno 2] No such file or directory: './ai2-vision-turk-data/textbook-annotation-test/simpler-test-questions/Spectrum_Science_Grade_6_91.json'\n",
      "[Errno 2] No such file or directory: './ai2-vision-turk-data/textbook-annotation-test/simpler-test-questions/Spectrum_Science_Grade_6_93.json'\n",
      "[Errno 2] No such file or directory: './ai2-vision-turk-data/textbook-annotation-test/simpler-test-questions/Spectrum_Science_Grade_6_95.json'\n",
      "[Errno 2] No such file or directory: './ai2-vision-turk-data/textbook-annotation-test/simpler-test-questions/Spectrum_Science_Grade_6_97.json'\n",
      "[Errno 2] No such file or directory: './ai2-vision-turk-data/textbook-annotation-test/simpler-test-questions/Spectrum_Science_Grade_6_99.json'\n",
      "[Errno 2] No such file or directory: './ai2-vision-turk-data/textbook-annotation-test/simpler-test-questions/Spectrum_Science_Grade_6_101.json'\n",
      "[Errno 2] No such file or directory: './ai2-vision-turk-data/textbook-annotation-test/simpler-test-questions/Spectrum_Science_Grade_6_103.json'\n",
      "[Errno 2] No such file or directory: './ai2-vision-turk-data/textbook-annotation-test/simpler-test-questions/Spectrum_Science_Grade_6_105.json'\n",
      "[Errno 2] No such file or directory: './ai2-vision-turk-data/textbook-annotation-test/simpler-test-questions/Spectrum_Science_Grade_6_109.json'\n",
      "[Errno 2] No such file or directory: './ai2-vision-turk-data/textbook-annotation-test/simpler-test-questions/Spectrum_Science_Grade_6_111.json'\n",
      "[Errno 2] No such file or directory: './ai2-vision-turk-data/textbook-annotation-test/simpler-test-questions/Spectrum_Science_Grade_6_113.json'\n",
      "[Errno 2] No such file or directory: './ai2-vision-turk-data/textbook-annotation-test/simpler-test-questions/Spectrum_Science_Grade_6_115.json'\n",
      "[Errno 2] No such file or directory: './ai2-vision-turk-data/textbook-annotation-test/simpler-test-questions/Spectrum_Science_Grade_6_117.json'\n",
      "[Errno 2] No such file or directory: './ai2-vision-turk-data/textbook-annotation-test/simpler-test-questions/Spectrum_Science_Grade_6_119.json'\n",
      "[Errno 2] No such file or directory: './ai2-vision-turk-data/textbook-annotation-test/simpler-test-questions/Spectrum_Science_Grade_6_121.json'\n",
      "[Errno 2] No such file or directory: './ai2-vision-turk-data/textbook-annotation-test/simpler-test-questions/Spectrum_Science_Grade_6_123.json'\n",
      "[Errno 2] No such file or directory: './ai2-vision-turk-data/textbook-annotation-test/simpler-test-questions/Spectrum_Science_Grade_6_125.json'\n",
      "[Errno 2] No such file or directory: './ai2-vision-turk-data/textbook-annotation-test/simpler-test-questions/Spectrum_Science_Grade_6_129.json'\n",
      "[Errno 2] No such file or directory: './ai2-vision-turk-data/textbook-annotation-test/simpler-test-questions/Spectrum_Science_Grade_6_131.json'\n",
      "[Errno 2] No such file or directory: './ai2-vision-turk-data/textbook-annotation-test/simpler-test-questions/Spectrum_Science_Grade_6_133.json'\n",
      "[Errno 2] No such file or directory: './ai2-vision-turk-data/textbook-annotation-test/simpler-test-questions/Spectrum_Science_Grade_6_135.json'\n",
      "[Errno 2] No such file or directory: './ai2-vision-turk-data/textbook-annotation-test/simpler-test-questions/Spectrum_Science_Grade_6_137.json'\n",
      "[Errno 2] No such file or directory: './ai2-vision-turk-data/textbook-annotation-test/simpler-test-questions/Spectrum_Science_Grade_6_139.json'\n",
      "[Errno 2] No such file or directory: './ai2-vision-turk-data/textbook-annotation-test/simpler-test-questions/Spectrum_Science_Grade_6_141.json'\n",
      "[Errno 2] No such file or directory: './ai2-vision-turk-data/textbook-annotation-test/simpler-test-questions/Spectrum_Science_Grade_6_143.json'\n",
      "[Errno 2] No such file or directory: './ai2-vision-turk-data/textbook-annotation-test/simpler-test-questions/Spectrum_Science_Grade_6_145.json'\n",
      "[Errno 2] No such file or directory: './ai2-vision-turk-data/textbook-annotation-test/simpler-test-questions/Spectrum_Science_Grade_6_153.json'\n",
      "[Errno 2] No such file or directory: './ai2-vision-turk-data/textbook-annotation-test/simpler-test-questions/Spectrum_Science_Grade_6_154.json'\n",
      "[Errno 2] No such file or directory: './ai2-vision-turk-data/textbook-annotation-test/simpler-test-questions/Spectrum_Science_Grade_6_155.json'\n",
      "[Errno 2] No such file or directory: './ai2-vision-turk-data/textbook-annotation-test/simpler-test-questions/Spectrum_Science_Grade_6_156.json'\n",
      "[Errno 2] No such file or directory: './ai2-vision-turk-data/textbook-annotation-test/simpler-test-questions/Spectrum_Science_Grade_6_157.json'\n",
      "[Errno 2] No such file or directory: './ai2-vision-turk-data/textbook-annotation-test/simpler-test-questions/Spectrum_Science_Grade_6_158.json'\n",
      "[Errno 2] No such file or directory: './ai2-vision-turk-data/textbook-annotation-test/simpler-test-questions/Spectrum_Science_Grade_6_159.json'\n",
      "[Errno 2] No such file or directory: './ai2-vision-turk-data/textbook-annotation-test/simpler-test-questions/Spectrum_Science_Grade_6_160.json'\n",
      "[Errno 2] No such file or directory: './ai2-vision-turk-data/textbook-annotation-test/simpler-test-questions/Spectrum_Science_Grade_6_161.json'\n",
      "[Errno 2] No such file or directory: './ai2-vision-turk-data/textbook-annotation-test/simpler-test-questions/Spectrum_Science_Grade_6_162.json'\n",
      "[Errno 2] No such file or directory: './ai2-vision-turk-data/textbook-annotation-test/simpler-test-questions/Spectrum_Science_Grade_6_163.json'\n",
      "[Errno 2] No such file or directory: './ai2-vision-turk-data/textbook-annotation-test/simpler-test-questions/Spectrum_Science_Grade_6_164.json'\n",
      "[Errno 2] No such file or directory: './ai2-vision-turk-data/textbook-annotation-test/simpler-test-questions/Spectrum_Science_Grade_6_165.json'\n",
      "[Errno 2] No such file or directory: './ai2-vision-turk-data/textbook-annotation-test/simpler-test-questions/Spectrum_Science_Grade_6_166.json'\n",
      "[Errno 2] No such file or directory: './ai2-vision-turk-data/textbook-annotation-test/simpler-test-questions/Spectrum_Science_Grade_6_167.json'\n",
      "[Errno 2] No such file or directory: './ai2-vision-turk-data/textbook-annotation-test/simpler-test-questions/Spectrum_Science_Grade_6_168.json'\n",
      "[Errno 2] No such file or directory: './ai2-vision-turk-data/textbook-annotation-test/simpler-test-questions/Spectrum_Science_Grade_6_169.json'\n",
      "[Errno 2] No such file or directory: './ai2-vision-turk-data/textbook-annotation-test/simpler-test-questions/Spectrum_Science_Grade_6_170.json'\n",
      "[Errno 2] No such file or directory: './ai2-vision-turk-data/textbook-annotation-test/simpler-test-questions/Spectrum_Science_Grade_6_171.json'\n",
      "[Errno 2] No such file or directory: './ai2-vision-turk-data/textbook-annotation-test/simpler-test-questions/Spectrum_Science_Grade_6_172.json'\n",
      "[Errno 2] No such file or directory: './ai2-vision-turk-data/textbook-annotation-test/simpler-test-questions/Spectrum_Science_Grade_6_173.json'\n",
      "[Errno 2] No such file or directory: './ai2-vision-turk-data/textbook-annotation-test/simpler-test-questions/Spectrum_Science_Grade_6_174.json'\n",
      "[Errno 2] No such file or directory: './ai2-vision-turk-data/textbook-annotation-test/simpler-test-questions/Spectrum_Science_Grade_6_175.json'\n",
      "[Errno 2] No such file or directory: './ai2-vision-turk-data/textbook-annotation-test/simpler-test-questions/Spectrum_Science_Grade_6_176.json'\n",
      "[Errno 2] No such file or directory: './ai2-vision-turk-data/textbook-annotation-test/simpler-test-questions/Spectrum_Science_Grade_6_177.json'\n",
      "[Errno 2] No such file or directory: './ai2-vision-turk-data/textbook-annotation-test/simpler-test-questions/Spectrum_Science_Grade_7_9.json'\n",
      "[Errno 2] No such file or directory: './ai2-vision-turk-data/textbook-annotation-test/simpler-test-questions/Spectrum_Science_Grade_7_15.json'\n",
      "[Errno 2] No such file or directory: './ai2-vision-turk-data/textbook-annotation-test/simpler-test-questions/Spectrum_Science_Grade_7_17.json'\n",
      "[Errno 2] No such file or directory: './ai2-vision-turk-data/textbook-annotation-test/simpler-test-questions/Spectrum_Science_Grade_7_19.json'\n",
      "[Errno 2] No such file or directory: './ai2-vision-turk-data/textbook-annotation-test/simpler-test-questions/Spectrum_Science_Grade_7_21.json'\n",
      "[Errno 2] No such file or directory: './ai2-vision-turk-data/textbook-annotation-test/simpler-test-questions/Spectrum_Science_Grade_7_23.json'\n",
      "[Errno 2] No such file or directory: './ai2-vision-turk-data/textbook-annotation-test/simpler-test-questions/Spectrum_Science_Grade_7_27.json'\n",
      "[Errno 2] No such file or directory: './ai2-vision-turk-data/textbook-annotation-test/simpler-test-questions/Spectrum_Science_Grade_7_29.json'\n",
      "[Errno 2] No such file or directory: './ai2-vision-turk-data/textbook-annotation-test/simpler-test-questions/Spectrum_Science_Grade_7_31.json'\n",
      "[Errno 2] No such file or directory: './ai2-vision-turk-data/textbook-annotation-test/simpler-test-questions/Spectrum_Science_Grade_7_33.json'\n",
      "[Errno 2] No such file or directory: './ai2-vision-turk-data/textbook-annotation-test/simpler-test-questions/Spectrum_Science_Grade_7_35.json'\n",
      "[Errno 2] No such file or directory: './ai2-vision-turk-data/textbook-annotation-test/simpler-test-questions/Spectrum_Science_Grade_7_37.json'\n",
      "[Errno 2] No such file or directory: './ai2-vision-turk-data/textbook-annotation-test/simpler-test-questions/Spectrum_Science_Grade_7_39.json'\n",
      "[Errno 2] No such file or directory: './ai2-vision-turk-data/textbook-annotation-test/simpler-test-questions/Spectrum_Science_Grade_7_41.json'\n",
      "[Errno 2] No such file or directory: './ai2-vision-turk-data/textbook-annotation-test/simpler-test-questions/Spectrum_Science_Grade_7_43.json'\n",
      "[Errno 2] No such file or directory: './ai2-vision-turk-data/textbook-annotation-test/simpler-test-questions/Spectrum_Science_Grade_7_47.json'\n",
      "[Errno 2] No such file or directory: './ai2-vision-turk-data/textbook-annotation-test/simpler-test-questions/Spectrum_Science_Grade_7_49.json'\n",
      "[Errno 2] No such file or directory: './ai2-vision-turk-data/textbook-annotation-test/simpler-test-questions/Spectrum_Science_Grade_7_51.json'\n",
      "[Errno 2] No such file or directory: './ai2-vision-turk-data/textbook-annotation-test/simpler-test-questions/Spectrum_Science_Grade_7_53.json'\n",
      "[Errno 2] No such file or directory: './ai2-vision-turk-data/textbook-annotation-test/simpler-test-questions/Spectrum_Science_Grade_7_55.json'\n",
      "[Errno 2] No such file or directory: './ai2-vision-turk-data/textbook-annotation-test/simpler-test-questions/Spectrum_Science_Grade_7_57.json'\n",
      "[Errno 2] No such file or directory: './ai2-vision-turk-data/textbook-annotation-test/simpler-test-questions/Spectrum_Science_Grade_7_59.json'\n",
      "[Errno 2] No such file or directory: './ai2-vision-turk-data/textbook-annotation-test/simpler-test-questions/Spectrum_Science_Grade_7_61.json'\n",
      "[Errno 2] No such file or directory: './ai2-vision-turk-data/textbook-annotation-test/simpler-test-questions/Spectrum_Science_Grade_7_63.json'\n",
      "[Errno 2] No such file or directory: './ai2-vision-turk-data/textbook-annotation-test/simpler-test-questions/Spectrum_Science_Grade_7_69.json'\n",
      "[Errno 2] No such file or directory: './ai2-vision-turk-data/textbook-annotation-test/simpler-test-questions/Spectrum_Science_Grade_7_71.json'\n",
      "[Errno 2] No such file or directory: './ai2-vision-turk-data/textbook-annotation-test/simpler-test-questions/Spectrum_Science_Grade_7_73.json'\n",
      "[Errno 2] No such file or directory: './ai2-vision-turk-data/textbook-annotation-test/simpler-test-questions/Spectrum_Science_Grade_7_79.json'\n",
      "[Errno 2] No such file or directory: './ai2-vision-turk-data/textbook-annotation-test/simpler-test-questions/Spectrum_Science_Grade_7_81.json'\n",
      "[Errno 2] No such file or directory: './ai2-vision-turk-data/textbook-annotation-test/simpler-test-questions/Spectrum_Science_Grade_7_83.json'\n",
      "[Errno 2] No such file or directory: './ai2-vision-turk-data/textbook-annotation-test/simpler-test-questions/Spectrum_Science_Grade_7_85.json'\n",
      "[Errno 2] No such file or directory: './ai2-vision-turk-data/textbook-annotation-test/simpler-test-questions/Spectrum_Science_Grade_7_89.json'\n",
      "[Errno 2] No such file or directory: './ai2-vision-turk-data/textbook-annotation-test/simpler-test-questions/Spectrum_Science_Grade_7_91.json'\n",
      "[Errno 2] No such file or directory: './ai2-vision-turk-data/textbook-annotation-test/simpler-test-questions/Spectrum_Science_Grade_7_93.json'\n",
      "[Errno 2] No such file or directory: './ai2-vision-turk-data/textbook-annotation-test/simpler-test-questions/Spectrum_Science_Grade_7_95.json'\n",
      "[Errno 2] No such file or directory: './ai2-vision-turk-data/textbook-annotation-test/simpler-test-questions/Spectrum_Science_Grade_7_97.json'\n",
      "[Errno 2] No such file or directory: './ai2-vision-turk-data/textbook-annotation-test/simpler-test-questions/Spectrum_Science_Grade_7_99.json'\n",
      "[Errno 2] No such file or directory: './ai2-vision-turk-data/textbook-annotation-test/simpler-test-questions/Spectrum_Science_Grade_7_101.json'\n",
      "[Errno 2] No such file or directory: './ai2-vision-turk-data/textbook-annotation-test/simpler-test-questions/Spectrum_Science_Grade_7_103.json'\n",
      "[Errno 2] No such file or directory: './ai2-vision-turk-data/textbook-annotation-test/simpler-test-questions/Spectrum_Science_Grade_7_105.json'\n",
      "[Errno 2] No such file or directory: './ai2-vision-turk-data/textbook-annotation-test/simpler-test-questions/Spectrum_Science_Grade_7_109.json'\n",
      "[Errno 2] No such file or directory: './ai2-vision-turk-data/textbook-annotation-test/simpler-test-questions/Spectrum_Science_Grade_7_111.json'\n",
      "[Errno 2] No such file or directory: './ai2-vision-turk-data/textbook-annotation-test/simpler-test-questions/Spectrum_Science_Grade_7_113.json'\n",
      "[Errno 2] No such file or directory: './ai2-vision-turk-data/textbook-annotation-test/simpler-test-questions/Spectrum_Science_Grade_7_115.json'\n",
      "[Errno 2] No such file or directory: './ai2-vision-turk-data/textbook-annotation-test/simpler-test-questions/Spectrum_Science_Grade_7_117.json'\n",
      "[Errno 2] No such file or directory: './ai2-vision-turk-data/textbook-annotation-test/simpler-test-questions/Spectrum_Science_Grade_7_118.json'\n",
      "[Errno 2] No such file or directory: './ai2-vision-turk-data/textbook-annotation-test/simpler-test-questions/Spectrum_Science_Grade_7_119.json'\n",
      "[Errno 2] No such file or directory: './ai2-vision-turk-data/textbook-annotation-test/simpler-test-questions/Spectrum_Science_Grade_7_121.json'\n",
      "[Errno 2] No such file or directory: './ai2-vision-turk-data/textbook-annotation-test/simpler-test-questions/Spectrum_Science_Grade_7_123.json'\n",
      "[Errno 2] No such file or directory: './ai2-vision-turk-data/textbook-annotation-test/simpler-test-questions/Spectrum_Science_Grade_7_125.json'\n",
      "[Errno 2] No such file or directory: './ai2-vision-turk-data/textbook-annotation-test/simpler-test-questions/Spectrum_Science_Grade_7_129.json'\n",
      "[Errno 2] No such file or directory: './ai2-vision-turk-data/textbook-annotation-test/simpler-test-questions/Spectrum_Science_Grade_7_131.json'\n",
      "[Errno 2] No such file or directory: './ai2-vision-turk-data/textbook-annotation-test/simpler-test-questions/Spectrum_Science_Grade_7_133.json'\n",
      "[Errno 2] No such file or directory: './ai2-vision-turk-data/textbook-annotation-test/simpler-test-questions/Spectrum_Science_Grade_7_135.json'\n",
      "[Errno 2] No such file or directory: './ai2-vision-turk-data/textbook-annotation-test/simpler-test-questions/Spectrum_Science_Grade_7_137.json'\n",
      "[Errno 2] No such file or directory: './ai2-vision-turk-data/textbook-annotation-test/simpler-test-questions/Spectrum_Science_Grade_7_139.json'\n",
      "[Errno 2] No such file or directory: './ai2-vision-turk-data/textbook-annotation-test/simpler-test-questions/Spectrum_Science_Grade_7_141.json'\n",
      "[Errno 2] No such file or directory: './ai2-vision-turk-data/textbook-annotation-test/simpler-test-questions/Spectrum_Science_Grade_7_143.json'\n",
      "[Errno 2] No such file or directory: './ai2-vision-turk-data/textbook-annotation-test/simpler-test-questions/Spectrum_Science_Grade_7_145.json'\n",
      "[Errno 2] No such file or directory: './ai2-vision-turk-data/textbook-annotation-test/simpler-test-questions/Spectrum_Science_Grade_7_153.json'\n",
      "[Errno 2] No such file or directory: './ai2-vision-turk-data/textbook-annotation-test/simpler-test-questions/Spectrum_Science_Grade_7_154.json'\n",
      "[Errno 2] No such file or directory: './ai2-vision-turk-data/textbook-annotation-test/simpler-test-questions/Spectrum_Science_Grade_7_155.json'\n",
      "[Errno 2] No such file or directory: './ai2-vision-turk-data/textbook-annotation-test/simpler-test-questions/Spectrum_Science_Grade_7_156.json'\n",
      "[Errno 2] No such file or directory: './ai2-vision-turk-data/textbook-annotation-test/simpler-test-questions/Spectrum_Science_Grade_7_157.json'\n",
      "[Errno 2] No such file or directory: './ai2-vision-turk-data/textbook-annotation-test/simpler-test-questions/Spectrum_Science_Grade_7_158.json'\n",
      "[Errno 2] No such file or directory: './ai2-vision-turk-data/textbook-annotation-test/simpler-test-questions/Spectrum_Science_Grade_7_159.json'\n",
      "[Errno 2] No such file or directory: './ai2-vision-turk-data/textbook-annotation-test/simpler-test-questions/Spectrum_Science_Grade_7_160.json'\n",
      "[Errno 2] No such file or directory: './ai2-vision-turk-data/textbook-annotation-test/simpler-test-questions/Spectrum_Science_Grade_7_161.json'\n",
      "[Errno 2] No such file or directory: './ai2-vision-turk-data/textbook-annotation-test/simpler-test-questions/Spectrum_Science_Grade_7_162.json'\n",
      "[Errno 2] No such file or directory: './ai2-vision-turk-data/textbook-annotation-test/simpler-test-questions/Spectrum_Science_Grade_7_163.json'\n",
      "[Errno 2] No such file or directory: './ai2-vision-turk-data/textbook-annotation-test/simpler-test-questions/Spectrum_Science_Grade_7_164.json'\n",
      "[Errno 2] No such file or directory: './ai2-vision-turk-data/textbook-annotation-test/simpler-test-questions/Spectrum_Science_Grade_7_165.json'\n",
      "[Errno 2] No such file or directory: './ai2-vision-turk-data/textbook-annotation-test/simpler-test-questions/Spectrum_Science_Grade_7_166.json'\n",
      "[Errno 2] No such file or directory: './ai2-vision-turk-data/textbook-annotation-test/simpler-test-questions/Spectrum_Science_Grade_7_167.json'\n",
      "[Errno 2] No such file or directory: './ai2-vision-turk-data/textbook-annotation-test/simpler-test-questions/Spectrum_Science_Grade_7_168.json'\n",
      "[Errno 2] No such file or directory: './ai2-vision-turk-data/textbook-annotation-test/simpler-test-questions/Spectrum_Science_Grade_7_169.json'\n",
      "[Errno 2] No such file or directory: './ai2-vision-turk-data/textbook-annotation-test/simpler-test-questions/Spectrum_Science_Grade_7_170.json'\n",
      "[Errno 2] No such file or directory: './ai2-vision-turk-data/textbook-annotation-test/simpler-test-questions/Spectrum_Science_Grade_7_171.json'\n",
      "[Errno 2] No such file or directory: './ai2-vision-turk-data/textbook-annotation-test/simpler-test-questions/Spectrum_Science_Grade_7_172.json'\n",
      "[Errno 2] No such file or directory: './ai2-vision-turk-data/textbook-annotation-test/simpler-test-questions/Spectrum_Science_Grade_7_173.json'\n",
      "[Errno 2] No such file or directory: './ai2-vision-turk-data/textbook-annotation-test/simpler-test-questions/Spectrum_Science_Grade_7_174.json'\n",
      "[Errno 2] No such file or directory: './ai2-vision-turk-data/textbook-annotation-test/simpler-test-questions/Spectrum_Science_Grade_7_175.json'\n",
      "[Errno 2] No such file or directory: './ai2-vision-turk-data/textbook-annotation-test/simpler-test-questions/Spectrum_Science_Grade_7_176.json'\n",
      "[Errno 2] No such file or directory: './ai2-vision-turk-data/textbook-annotation-test/simpler-test-questions/Spectrum_Science_Grade_7_177.json'\n",
      "[Errno 2] No such file or directory: './ai2-vision-turk-data/textbook-annotation-test/simpler-test-questions/Spectrum_Science_Grade_8_9.json'\n",
      "[Errno 2] No such file or directory: './ai2-vision-turk-data/textbook-annotation-test/simpler-test-questions/Spectrum_Science_Grade_8_11.json'\n",
      "[Errno 2] No such file or directory: './ai2-vision-turk-data/textbook-annotation-test/simpler-test-questions/Spectrum_Science_Grade_8_13.json'\n",
      "[Errno 2] No such file or directory: './ai2-vision-turk-data/textbook-annotation-test/simpler-test-questions/Spectrum_Science_Grade_8_15.json'\n",
      "[Errno 2] No such file or directory: './ai2-vision-turk-data/textbook-annotation-test/simpler-test-questions/Spectrum_Science_Grade_8_17.json'\n",
      "[Errno 2] No such file or directory: './ai2-vision-turk-data/textbook-annotation-test/simpler-test-questions/Spectrum_Science_Grade_8_19.json'\n",
      "[Errno 2] No such file or directory: './ai2-vision-turk-data/textbook-annotation-test/simpler-test-questions/Spectrum_Science_Grade_8_21.json'\n",
      "[Errno 2] No such file or directory: './ai2-vision-turk-data/textbook-annotation-test/simpler-test-questions/Spectrum_Science_Grade_8_23.json'\n",
      "[Errno 2] No such file or directory: './ai2-vision-turk-data/textbook-annotation-test/simpler-test-questions/Spectrum_Science_Grade_8_27.json'\n",
      "[Errno 2] No such file or directory: './ai2-vision-turk-data/textbook-annotation-test/simpler-test-questions/Spectrum_Science_Grade_8_29.json'\n",
      "[Errno 2] No such file or directory: './ai2-vision-turk-data/textbook-annotation-test/simpler-test-questions/Spectrum_Science_Grade_8_33.json'\n",
      "[Errno 2] No such file or directory: './ai2-vision-turk-data/textbook-annotation-test/simpler-test-questions/Spectrum_Science_Grade_8_35.json'\n",
      "[Errno 2] No such file or directory: './ai2-vision-turk-data/textbook-annotation-test/simpler-test-questions/Spectrum_Science_Grade_8_37.json'\n",
      "[Errno 2] No such file or directory: './ai2-vision-turk-data/textbook-annotation-test/simpler-test-questions/Spectrum_Science_Grade_8_39.json'\n",
      "[Errno 2] No such file or directory: './ai2-vision-turk-data/textbook-annotation-test/simpler-test-questions/Spectrum_Science_Grade_8_41.json'\n",
      "[Errno 2] No such file or directory: './ai2-vision-turk-data/textbook-annotation-test/simpler-test-questions/Spectrum_Science_Grade_8_43.json'\n",
      "[Errno 2] No such file or directory: './ai2-vision-turk-data/textbook-annotation-test/simpler-test-questions/Spectrum_Science_Grade_8_49.json'\n",
      "[Errno 2] No such file or directory: './ai2-vision-turk-data/textbook-annotation-test/simpler-test-questions/Spectrum_Science_Grade_8_51.json'\n",
      "[Errno 2] No such file or directory: './ai2-vision-turk-data/textbook-annotation-test/simpler-test-questions/Spectrum_Science_Grade_8_53.json'\n",
      "[Errno 2] No such file or directory: './ai2-vision-turk-data/textbook-annotation-test/simpler-test-questions/Spectrum_Science_Grade_8_57.json'\n",
      "[Errno 2] No such file or directory: './ai2-vision-turk-data/textbook-annotation-test/simpler-test-questions/Spectrum_Science_Grade_8_59.json'\n",
      "[Errno 2] No such file or directory: './ai2-vision-turk-data/textbook-annotation-test/simpler-test-questions/Spectrum_Science_Grade_8_61.json'\n",
      "[Errno 2] No such file or directory: './ai2-vision-turk-data/textbook-annotation-test/simpler-test-questions/Spectrum_Science_Grade_8_63.json'\n",
      "[Errno 2] No such file or directory: './ai2-vision-turk-data/textbook-annotation-test/simpler-test-questions/Spectrum_Science_Grade_8_69.json'\n",
      "[Errno 2] No such file or directory: './ai2-vision-turk-data/textbook-annotation-test/simpler-test-questions/Spectrum_Science_Grade_8_71.json'\n",
      "[Errno 2] No such file or directory: './ai2-vision-turk-data/textbook-annotation-test/simpler-test-questions/Spectrum_Science_Grade_8_73.json'\n",
      "[Errno 2] No such file or directory: './ai2-vision-turk-data/textbook-annotation-test/simpler-test-questions/Spectrum_Science_Grade_8_75.json'\n",
      "[Errno 2] No such file or directory: './ai2-vision-turk-data/textbook-annotation-test/simpler-test-questions/Spectrum_Science_Grade_8_77.json'\n",
      "[Errno 2] No such file or directory: './ai2-vision-turk-data/textbook-annotation-test/simpler-test-questions/Spectrum_Science_Grade_8_79.json'\n",
      "[Errno 2] No such file or directory: './ai2-vision-turk-data/textbook-annotation-test/simpler-test-questions/Spectrum_Science_Grade_8_81.json'\n",
      "[Errno 2] No such file or directory: './ai2-vision-turk-data/textbook-annotation-test/simpler-test-questions/Spectrum_Science_Grade_8_83.json'\n",
      "[Errno 2] No such file or directory: './ai2-vision-turk-data/textbook-annotation-test/simpler-test-questions/Spectrum_Science_Grade_8_85.json'\n",
      "[Errno 2] No such file or directory: './ai2-vision-turk-data/textbook-annotation-test/simpler-test-questions/Spectrum_Science_Grade_8_89.json'\n",
      "[Errno 2] No such file or directory: './ai2-vision-turk-data/textbook-annotation-test/simpler-test-questions/Spectrum_Science_Grade_8_91.json'\n",
      "[Errno 2] No such file or directory: './ai2-vision-turk-data/textbook-annotation-test/simpler-test-questions/Spectrum_Science_Grade_8_93.json'\n",
      "[Errno 2] No such file or directory: './ai2-vision-turk-data/textbook-annotation-test/simpler-test-questions/Spectrum_Science_Grade_8_95.json'\n",
      "[Errno 2] No such file or directory: './ai2-vision-turk-data/textbook-annotation-test/simpler-test-questions/Spectrum_Science_Grade_8_99.json'\n",
      "[Errno 2] No such file or directory: './ai2-vision-turk-data/textbook-annotation-test/simpler-test-questions/Spectrum_Science_Grade_8_101.json'\n",
      "[Errno 2] No such file or directory: './ai2-vision-turk-data/textbook-annotation-test/simpler-test-questions/Spectrum_Science_Grade_8_103.json'\n",
      "[Errno 2] No such file or directory: './ai2-vision-turk-data/textbook-annotation-test/simpler-test-questions/Spectrum_Science_Grade_8_105.json'\n",
      "[Errno 2] No such file or directory: './ai2-vision-turk-data/textbook-annotation-test/simpler-test-questions/Spectrum_Science_Grade_8_109.json'\n",
      "[Errno 2] No such file or directory: './ai2-vision-turk-data/textbook-annotation-test/simpler-test-questions/Spectrum_Science_Grade_8_111.json'\n",
      "[Errno 2] No such file or directory: './ai2-vision-turk-data/textbook-annotation-test/simpler-test-questions/Spectrum_Science_Grade_8_113.json'\n",
      "[Errno 2] No such file or directory: './ai2-vision-turk-data/textbook-annotation-test/simpler-test-questions/Spectrum_Science_Grade_8_115.json'\n",
      "[Errno 2] No such file or directory: './ai2-vision-turk-data/textbook-annotation-test/simpler-test-questions/Spectrum_Science_Grade_8_117.json'\n",
      "[Errno 2] No such file or directory: './ai2-vision-turk-data/textbook-annotation-test/simpler-test-questions/Spectrum_Science_Grade_8_119.json'\n",
      "[Errno 2] No such file or directory: './ai2-vision-turk-data/textbook-annotation-test/simpler-test-questions/Spectrum_Science_Grade_8_121.json'\n",
      "[Errno 2] No such file or directory: './ai2-vision-turk-data/textbook-annotation-test/simpler-test-questions/Spectrum_Science_Grade_8_125.json'\n",
      "[Errno 2] No such file or directory: './ai2-vision-turk-data/textbook-annotation-test/simpler-test-questions/Spectrum_Science_Grade_8_129.json'\n",
      "[Errno 2] No such file or directory: './ai2-vision-turk-data/textbook-annotation-test/simpler-test-questions/Spectrum_Science_Grade_8_131.json'\n",
      "[Errno 2] No such file or directory: './ai2-vision-turk-data/textbook-annotation-test/simpler-test-questions/Spectrum_Science_Grade_8_135.json'\n",
      "[Errno 2] No such file or directory: './ai2-vision-turk-data/textbook-annotation-test/simpler-test-questions/Spectrum_Science_Grade_8_137.json'\n",
      "[Errno 2] No such file or directory: './ai2-vision-turk-data/textbook-annotation-test/simpler-test-questions/Spectrum_Science_Grade_8_139.json'\n",
      "[Errno 2] No such file or directory: './ai2-vision-turk-data/textbook-annotation-test/simpler-test-questions/Spectrum_Science_Grade_8_143.json'\n",
      "[Errno 2] No such file or directory: './ai2-vision-turk-data/textbook-annotation-test/simpler-test-questions/Spectrum_Science_Grade_8_145.json'\n",
      "[Errno 2] No such file or directory: './ai2-vision-turk-data/textbook-annotation-test/simpler-test-questions/Spectrum_Science_Grade_8_153.json'\n",
      "[Errno 2] No such file or directory: './ai2-vision-turk-data/textbook-annotation-test/simpler-test-questions/Spectrum_Science_Grade_8_154.json'\n",
      "[Errno 2] No such file or directory: './ai2-vision-turk-data/textbook-annotation-test/simpler-test-questions/Spectrum_Science_Grade_8_155.json'\n",
      "[Errno 2] No such file or directory: './ai2-vision-turk-data/textbook-annotation-test/simpler-test-questions/Spectrum_Science_Grade_8_156.json'\n",
      "[Errno 2] No such file or directory: './ai2-vision-turk-data/textbook-annotation-test/simpler-test-questions/Spectrum_Science_Grade_8_157.json'\n",
      "[Errno 2] No such file or directory: './ai2-vision-turk-data/textbook-annotation-test/simpler-test-questions/Spectrum_Science_Grade_8_158.json'\n",
      "[Errno 2] No such file or directory: './ai2-vision-turk-data/textbook-annotation-test/simpler-test-questions/Spectrum_Science_Grade_8_159.json'\n",
      "[Errno 2] No such file or directory: './ai2-vision-turk-data/textbook-annotation-test/simpler-test-questions/Spectrum_Science_Grade_8_160.json'\n",
      "[Errno 2] No such file or directory: './ai2-vision-turk-data/textbook-annotation-test/simpler-test-questions/Spectrum_Science_Grade_8_161.json'\n",
      "[Errno 2] No such file or directory: './ai2-vision-turk-data/textbook-annotation-test/simpler-test-questions/Spectrum_Science_Grade_8_162.json'\n",
      "[Errno 2] No such file or directory: './ai2-vision-turk-data/textbook-annotation-test/simpler-test-questions/Spectrum_Science_Grade_8_163.json'\n",
      "[Errno 2] No such file or directory: './ai2-vision-turk-data/textbook-annotation-test/simpler-test-questions/Spectrum_Science_Grade_8_164.json'\n",
      "[Errno 2] No such file or directory: './ai2-vision-turk-data/textbook-annotation-test/simpler-test-questions/Spectrum_Science_Grade_8_165.json'\n",
      "[Errno 2] No such file or directory: './ai2-vision-turk-data/textbook-annotation-test/simpler-test-questions/Spectrum_Science_Grade_8_166.json'\n",
      "[Errno 2] No such file or directory: './ai2-vision-turk-data/textbook-annotation-test/simpler-test-questions/Spectrum_Science_Grade_8_167.json'\n",
      "[Errno 2] No such file or directory: './ai2-vision-turk-data/textbook-annotation-test/simpler-test-questions/Spectrum_Science_Grade_8_168.json'\n",
      "[Errno 2] No such file or directory: './ai2-vision-turk-data/textbook-annotation-test/simpler-test-questions/Spectrum_Science_Grade_8_169.json'\n",
      "[Errno 2] No such file or directory: './ai2-vision-turk-data/textbook-annotation-test/simpler-test-questions/Spectrum_Science_Grade_8_170.json'\n",
      "[Errno 2] No such file or directory: './ai2-vision-turk-data/textbook-annotation-test/simpler-test-questions/Spectrum_Science_Grade_8_171.json'\n",
      "[Errno 2] No such file or directory: './ai2-vision-turk-data/textbook-annotation-test/simpler-test-questions/Spectrum_Science_Grade_8_172.json'\n",
      "[Errno 2] No such file or directory: './ai2-vision-turk-data/textbook-annotation-test/simpler-test-questions/Spectrum_Science_Grade_8_173.json'\n",
      "[Errno 2] No such file or directory: './ai2-vision-turk-data/textbook-annotation-test/simpler-test-questions/Spectrum_Science_Grade_8_174.json'\n",
      "[Errno 2] No such file or directory: './ai2-vision-turk-data/textbook-annotation-test/simpler-test-questions/Spectrum_Science_Grade_8_175.json'\n",
      "[Errno 2] No such file or directory: './ai2-vision-turk-data/textbook-annotation-test/simpler-test-questions/Spectrum_Science_Grade_8_176.json'\n",
      "[Errno 2] No such file or directory: './ai2-vision-turk-data/textbook-annotation-test/simpler-test-questions/Spectrum_Science_Grade_8_177.json'\n"
     ]
    }
   ],
   "source": [
    "labeled_spect_qs = 'simpler-test-questions/'\n",
    "# books_to_transfer_anno = book_breakdowns['daily_sci']\n",
    "books_to_transfer_anno = book_breakdowns['spectrum_sci']\n",
    "for textbook in books_to_transfer_anno:\n",
    "    ocr_trans.transmit_anno_single_textbook(textbook, page_ranges[textbook], 0.5, turk_data_base_path, \n",
    "                                            labeled_spect_qs, new_q_ocr_dir, transferred_q_labels_dir, True)"
   ]
  },
  {
   "cell_type": "markdown",
   "metadata": {
    "heading_collapsed": true
   },
   "source": [
    "## **Second round of MTurk annotation**"
   ]
  },
  {
   "cell_type": "markdown",
   "metadata": {
    "hidden": true
   },
   "source": [
    "The purpose of this round is to get finer-grained labels for the questions in the dataset.\n",
    "\n",
    "Questions can be labeled as **Multiple Choice, True/False, Fill-in-the-Blank, or Short Answer**\n",
    "\n",
    "The actual work of submitting and processing results can be found in **question_annotation_turk.ipynb**"
   ]
  },
  {
   "cell_type": "markdown",
   "metadata": {
    "heading_collapsed": true
   },
   "source": [
    "## **Hierarchy extraction**"
   ]
  },
  {
   "cell_type": "markdown",
   "metadata": {
    "hidden": true
   },
   "source": [
    "Programmatically extract the hierarchy and piece labels from questions"
   ]
  },
  {
   "cell_type": "markdown",
   "metadata": {
    "heading_collapsed": true,
    "hidden": true
   },
   "source": [
    "### Testing "
   ]
  },
  {
   "cell_type": "markdown",
   "metadata": {},
   "source": [
    "# Send to viz tool"
   ]
  },
  {
   "cell_type": "code",
   "execution_count": 6,
   "metadata": {
    "collapsed": false,
    "run_control": {
     "frozen": false,
     "read_only": false
    }
   },
   "outputs": [],
   "source": [
    "spect_question_pages = !ls ai2-vision-turk-data/textbook-annotation-test/transferred-question-labels/Spectrum_Science_Grade_*\n",
    "spect_pages_to_review = [page.rsplit('/', 1)[-1].replace('json', 'jpeg') for page in spect_question_pages]\n",
    "daily_sci_question_pages = !ls ai2-vision-turk-data/textbook-annotation-test/transferred-question-labels/Daily*\n",
    "daily_sci_to_review = [page.rsplit('/', 1)[-1].replace('json', 'jpeg') for page in daily_sci_question_pages]"
   ]
  },
  {
   "cell_type": "code",
   "execution_count": 19,
   "metadata": {
    "collapsed": false,
    "run_control": {
     "frozen": false,
     "read_only": false
    }
   },
   "outputs": [],
   "source": [
    "# pages_to_review = ['Daily_Science_Grade_2_Evan_Moor_61.jpeg']\n",
    "pages_to_review = ['Spectrum_Science_Grade_5_102.jpeg']\n",
    "pages_to_review = ['Spectrum_Science_Grade_3_122.jpeg']\n",
    "pages_to_review = ['Daily_Science_Grade_3_(Daily_Practice_Books)_Evan_Moore_47.jpeg']\n",
    "\n",
    "# pages_to_review = spect_pages_to_review"
   ]
  },
  {
   "cell_type": "code",
   "execution_count": 20,
   "metadata": {
    "collapsed": false,
    "run_control": {
     "frozen": false,
     "read_only": false
    }
   },
   "outputs": [
    {
     "name": "stdout",
     "output_type": "stream",
     "text": [
      "sampling 1 pages out of 1\n"
     ]
    }
   ],
   "source": [
    "sampling_rate = 1.0\n",
    "sample_size = int(len(pages_to_review) * sampling_rate)\n",
    "sampled_pages_to_review = list(np.random.choice(pages_to_review, size= sample_size, replace=False))\n",
    "print('sampling ' + str(sample_size) + ' pages out of ' + str(len(pages_to_review)))\n",
    "to_review = ['start_seq'] + sampled_pages_to_review"
   ]
  },
  {
   "cell_type": "code",
   "execution_count": 21,
   "metadata": {
    "collapsed": false,
    "run_control": {
     "frozen": false,
     "read_only": false
    }
   },
   "outputs": [
    {
     "name": "stdout",
     "output_type": "stream",
     "text": [
      "posting to review tool, navigate to http://localhost:8080/ to see the sampled consensus results\n"
     ]
    }
   ],
   "source": [
    "# anno_dir = 'simpler-test-questions/'\n",
    "# anno_dir = 'first-merge/'\n",
    "# ann_dir = 'merged_annotations/'\n",
    "# anno_dir = 'transferred-labels-first-round/'\n",
    "# anno_dir = 'labeled-annotations/'\n",
    "# anno_dir = 'labeled-questions/'\n",
    "# anno_dir = 'raw-ocr-ws/'\n",
    "anno_dir = 'transferred-question-labels/'\n",
    "# anno_dir = 'remerged-first-round/'\n",
    "\n",
    "amt_util.review_results(to_review, anno_dir)\n",
    "print('posting to review tool, navigate to http://localhost:8080/ to see the sampled consensus results')"
   ]
  },
  {
   "cell_type": "markdown",
   "metadata": {
    "heading_collapsed": true
   },
   "source": [
    "# End"
   ]
  },
  {
   "cell_type": "code",
   "execution_count": 211,
   "metadata": {
    "collapsed": true,
    "hidden": true,
    "run_control": {
     "frozen": false,
     "read_only": false
    }
   },
   "outputs": [],
   "source": [
    "# question_anno_util.amend_single_book( book_breakdowns['daily_sci'][0], [36, 37], turk_data_base_path + new_q_ocr_dir, turk_data_base_path + new_ocr_trans_dir)"
   ]
  }
 ],
 "metadata": {
  "kernelspec": {
   "display_name": "Python 2",
   "language": "python",
   "name": "python2"
  },
  "language_info": {
   "codemirror_mode": {
    "name": "ipython",
    "version": 2
   },
   "file_extension": ".py",
   "mimetype": "text/x-python",
   "name": "python",
   "nbconvert_exporter": "python",
   "pygments_lexer": "ipython2",
   "version": "2.7.10"
  }
 },
 "nbformat": 4,
 "nbformat_minor": 0
}
