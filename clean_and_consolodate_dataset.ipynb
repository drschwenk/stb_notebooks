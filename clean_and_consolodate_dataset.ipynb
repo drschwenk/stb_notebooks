{
 "cells": [
  {
   "cell_type": "markdown",
   "metadata": {
    "heading_collapsed": true
   },
   "source": [
    "# Table of Contents\n",
    "* [load text](#load-text)\n",
    "* [move diagrams to 0.91](#move-diagrams-to-0.91)\n",
    "* [load all localization](#load-all-localization)\n",
    "* [load all recognition](#load-all-recognition)\n",
    "* [load diagram questions and descriptions](#load-diagram-questions-and-descriptions)\n",
    "* [integrate diagrams and text](#integrate-diagrams-and-text)\n",
    "\t* [match diagram topics to lessons](#match-diagram-topics-to-lessons)\n",
    "\t* [merge questions](#merge-questions)\n",
    "\t* [merge descriptions](#merge-descriptions)\n",
    "* [Apply spelling and grammar fixes](#Apply-spelling-and-grammar-fixes)\n",
    "\t* [spelling](#spelling)\n",
    "\t* [gammar](#gammar)\n",
    "* [End](#End)\n"
   ]
  },
  {
   "cell_type": "code",
   "execution_count": 1,
   "metadata": {
    "collapsed": true,
    "hidden": true,
    "run_control": {
     "frozen": false,
     "read_only": false
    }
   },
   "outputs": [],
   "source": [
    "%%capture\n",
    "import matplotlib as mpl\n",
    "mpl.use(\"Agg\")\n",
    "import matplotlib.pylab as plt\n",
    "#%matplotlib notebook\n",
    "%matplotlib inline\n",
    "%load_ext base16_mplrc\n",
    "%base16_mplrc light default\n",
    "plt.rcParams['figure.figsize'] = (16.0, 10.0)"
   ]
  },
  {
   "cell_type": "code",
   "execution_count": 54,
   "metadata": {
    "collapsed": false,
    "hidden": true,
    "run_control": {
     "frozen": false,
     "read_only": false
    }
   },
   "outputs": [],
   "source": [
    "%%capture\n",
    "import numpy as np\n",
    "import pandas as pd\n",
    "import scipy.stats as st\n",
    "import itertools\n",
    "import math\n",
    "from collections import Counter, defaultdict, OrderedDict\n",
    "%load_ext autoreload\n",
    "%autoreload 2\n",
    "\n",
    "import cv2\n",
    "import pprint\n",
    "import pickle\n",
    "import json\n",
    "import requests\n",
    "import io\n",
    "import sys\n",
    "import os\n",
    "from binascii import b2a_hex\n",
    "import base64\n",
    "from wand.image import Image as WImage\n",
    "from IPython.display import display\n",
    "import PIL.Image as Image\n",
    "from copy import deepcopy\n",
    "import glob\n",
    "\n",
    "import nltk\n",
    "import string\n",
    "from nltk.corpus import stopwords\n",
    "from nltk.tokenize import word_tokenize\n",
    "import nltk\n",
    "from nltk.tokenize import wordpunct_tokenize\n",
    "import fuzzywuzzy.fuzz as fuzz\n",
    "import re\n",
    "import os\n",
    "import jsonschema\n",
    "from pdfextraction.ck12_schema import ck12_schema as schema\n",
    "from IPython.core.display import HTML"
   ]
  },
  {
   "cell_type": "code",
   "execution_count": 3,
   "metadata": {
    "collapsed": true,
    "hidden": true,
    "run_control": {
     "frozen": false,
     "read_only": false
    }
   },
   "outputs": [],
   "source": [
    "def write_file(filename, date, output_dir='output_data_from_nbs'):\n",
    "    with open(os.path.join(output_dir, filename), 'w') as f:\n",
    "        json.dump(date, f, indent=4, sort_keys=True)"
   ]
  },
  {
   "cell_type": "code",
   "execution_count": 4,
   "metadata": {
    "collapsed": false,
    "hidden": true,
    "run_control": {
     "frozen": false,
     "read_only": false
    }
   },
   "outputs": [],
   "source": [
    "def validate_schema(dataset_json):\n",
    "    errors = []\n",
    "    try:\n",
    "        validator = jsonschema.Draft4Validator(schema)\n",
    "        for error in sorted(validator.iter_errors(dataset_json), key=lambda x: x.absolute_path[0]):\n",
    "            errors.append([error.message, list(error.absolute_path)[:4]])\n",
    "    except jsonschema.ValidationError as e:\n",
    "        errors.append(\"Error in schema --%s-\", e.message)\n",
    "    return errors\n",
    "\n",
    "def validate_dataset(dataset_json):\n",
    "    for subject, flexbook in dataset_json.items():\n",
    "        schema_errors = validate_schema(flexbook)\n",
    "        for lesson_name, lesson in flexbook.items():\n",
    "            ac_errors = check_ac_counts(lesson, subject, lesson_name)\n",
    "        all_errors = schema_errors + ac_errors\n",
    "        if not all_errors:\n",
    "            return 'all validation test passed'\n",
    "        else:\n",
    "            return all_errors\n",
    "\n",
    "def check_ac_counts(lesson_content, subject, lesson_name):\n",
    "    errors = []\n",
    "    for qid, question in lesson_content['questions']['nonDiagramQuestions'].items():\n",
    "        if question['type'] == 'Multiple Choice':\n",
    "            if len(question['answerChoices']) != 4:\n",
    "                errors.append([subject, lesson_name, qid + ' mc error'])\n",
    "        if question['type'] == 'True or False':\n",
    "            if len(question['answerChoices']) != 2:\n",
    "                errors.append([subject, lesson_name, qid + ' tf error'])\n",
    "    return errors"
   ]
  },
  {
   "cell_type": "code",
   "execution_count": null,
   "metadata": {
    "collapsed": true,
    "hidden": true,
    "run_control": {
     "frozen": false,
     "read_only": false
    }
   },
   "outputs": [],
   "source": []
  },
  {
   "cell_type": "code",
   "execution_count": null,
   "metadata": {
    "collapsed": true,
    "hidden": true,
    "run_control": {
     "frozen": false,
     "read_only": false
    }
   },
   "outputs": [],
   "source": []
  },
  {
   "cell_type": "code",
   "execution_count": null,
   "metadata": {
    "collapsed": true,
    "hidden": true,
    "run_control": {
     "frozen": false,
     "read_only": false
    }
   },
   "outputs": [],
   "source": []
  },
  {
   "cell_type": "markdown",
   "metadata": {
    "heading_collapsed": true
   },
   "source": [
    "# load text"
   ]
  },
  {
   "cell_type": "code",
   "execution_count": 5,
   "metadata": {
    "collapsed": false,
    "hidden": true,
    "run_control": {
     "frozen": false,
     "read_only": false
    }
   },
   "outputs": [],
   "source": [
    "output_dir = 'output_data_from_nbs/'\n",
    "with open(output_dir + 'ck12_flexbook_only_beta_v3.json', 'r') as f:\n",
    "    flexbook_ds = json.load(f)\n",
    "with open(output_dir + 'ck12_lessons_only_beta_v3.json', 'r') as f:\n",
    "    lessons_ds = json.load(f)\n",
    "with open(output_dir + 'ck12_dataset_beta_v3_5.json', 'r') as f:\n",
    "    ck12_combined_dataset = json.load(f)"
   ]
  },
  {
   "cell_type": "code",
   "execution_count": 5,
   "metadata": {
    "collapsed": false,
    "hidden": true,
    "run_control": {
     "frozen": false,
     "read_only": false
    }
   },
   "outputs": [],
   "source": [
    "pat_str = \"(?:https?:\\/\\/(?:www\\.).*?\\s)\"\n",
    "web_link_patern=re.compile(pat_str)\n",
    "\n",
    "def clean_content_text(content_str, web_link_patern):\n",
    "    removed_links = web_link_patern.findall(content_str)\n",
    "    if not removed_links:\n",
    "        return '', ''\n",
    "    split_txt = web_link_patern.split(content_str)\n",
    "    cleaned_text = ' '.join([txt for txt in split_txt if txt])\n",
    "    return cleaned_text, [link.strip() for link in removed_links]"
   ]
  },
  {
   "cell_type": "code",
   "execution_count": 6,
   "metadata": {
    "collapsed": false,
    "hidden": true,
    "run_control": {
     "frozen": false,
     "read_only": false
    }
   },
   "outputs": [],
   "source": [
    "def extract_links(complete_ds):\n",
    "    for subject, lessons in complete_ds.items():\n",
    "        for lesson_title, lesson in lessons.items():\n",
    "            for topic, content in lesson['topics'].items():\n",
    "                content_str = content['content']['text']\n",
    "                new_text, links = clean_content_text(content_str, web_link_patern)\n",
    "                content['content']['mediaLinks'] = []\n",
    "                if links:\n",
    "                    content['content']['text'] = new_text\n",
    "                    content['content']['mediaLinks'].extend(links)\n",
    "    return"
   ]
  },
  {
   "cell_type": "code",
   "execution_count": 9,
   "metadata": {
    "collapsed": true,
    "hidden": true,
    "run_control": {
     "frozen": false,
     "read_only": false
    }
   },
   "outputs": [],
   "source": [
    "# ck12_combined_dataset_cleaned = deepcopy(ck12_combined_dataset)"
   ]
  },
  {
   "cell_type": "code",
   "execution_count": 10,
   "metadata": {
    "collapsed": false,
    "hidden": true,
    "run_control": {
     "frozen": false,
     "read_only": false
    }
   },
   "outputs": [],
   "source": [
    "# extract_links(ck12_combined_dataset_cleaned)"
   ]
  },
  {
   "cell_type": "code",
   "execution_count": 248,
   "metadata": {
    "collapsed": false,
    "hidden": true,
    "run_control": {
     "frozen": false,
     "read_only": false
    }
   },
   "outputs": [],
   "source": [
    "# write_file('ck12_dataset_v3_5.json', ck12_combined_dataset_cleaned)"
   ]
  },
  {
   "cell_type": "code",
   "execution_count": 7,
   "metadata": {
    "collapsed": false,
    "hidden": true,
    "run_control": {
     "frozen": false,
     "read_only": false
    }
   },
   "outputs": [],
   "source": [
    "def record_validation_errors(dataset):\n",
    "    qs_removed = []\n",
    "    for subject, flexbook in dataset.items():\n",
    "        validator = jsonschema.Draft4Validator(schema)\n",
    "        for error in sorted(validator.iter_errors(flexbook), key=lambda x: x.absolute_path[0]):\n",
    "            lesson, quest, question_class, q_number = list(error.absolute_path)[:4]\n",
    "            problem_q_section = dataset[subject][lesson][quest][question_class]\n",
    "            if q_number in problem_q_section.keys():\n",
    "#                 print(dataset[subject][lesson][quest][question_class].pop(q_number))\n",
    "                qs_removed.append(dataset[subject][lesson][quest][question_class].pop(q_number))\n",
    "    return qs_removed"
   ]
  },
  {
   "cell_type": "code",
   "execution_count": 249,
   "metadata": {
    "collapsed": false,
    "hidden": true,
    "run_control": {
     "frozen": false,
     "read_only": false
    }
   },
   "outputs": [
    {
     "data": {
      "text/plain": [
       "0"
      ]
     },
     "execution_count": 249,
     "metadata": {},
     "output_type": "execute_result"
    }
   ],
   "source": [
    "qs_rem = record_validation_errors(ck12_combined_dataset_cleaned)\n",
    "len(qs_rem)"
   ]
  },
  {
   "cell_type": "code",
   "execution_count": 250,
   "metadata": {
    "collapsed": false,
    "hidden": true,
    "run_control": {
     "frozen": false,
     "read_only": false
    }
   },
   "outputs": [
    {
     "data": {
      "text/plain": [
       "'all validation test passed'"
      ]
     },
     "execution_count": 250,
     "metadata": {},
     "output_type": "execute_result"
    }
   ],
   "source": [
    "validate_dataset(ck12_combined_dataset_cleaned)"
   ]
  },
  {
   "cell_type": "markdown",
   "metadata": {
    "collapsed": true,
    "heading_collapsed": true,
    "run_control": {
     "frozen": false,
     "read_only": false
    }
   },
   "source": [
    "# move diagrams to 0.91"
   ]
  },
  {
   "cell_type": "code",
   "execution_count": 8,
   "metadata": {
    "collapsed": false,
    "hidden": true,
    "run_control": {
     "frozen": false,
     "read_only": false
    }
   },
   "outputs": [],
   "source": [
    "import glob\n",
    "\n",
    "def get_img_n(image_name):\n",
    "    return [re.findall(\"[0-9]+\", image_name)][0][0]\n",
    "\n",
    "def clean_list(dir_path):\n",
    "    hidden_removed = filter(lambda f: not f.startswith('.'), os.listdir(dir_path))\n",
    "    return [topic.replace('_diagram', '') for topic in hidden_removed]\n",
    "\n",
    "recog_performed = '/Users/schwenk/wrk/stb/diagram_questions/turk_processing/final_diagrams/'\n",
    "all_dir = '/Users/schwenk/wrk/stb/ai2-vision-textbook-dataset/diagrams/tqa_diagrams_v0.9/'\n",
    "pruned_dir = '/Users/schwenk/wrk/stb/ai2-vision-textbook-dataset/diagrams/dataset_Sep_27/tqa_diagrams_v0.9_question_images/'\n",
    "description_dir = '/Users/schwenk/wrk/stb/spare5_produced_data/tqa_diagrams_v0.9_inbook/'\n",
    "diagram_image_names = clean_list(recog_performed)\n",
    "\n",
    "rec_files = glob.glob(all_dir + '*/*')\n",
    "more_paths = glob.glob(all_dir + '*/*')\n",
    "pruned_paths = glob.glob(pruned_dir + '*/*')\n",
    "more_files = [fp.split('/')[-1] for fp in more_paths]\n",
    "pruned_files = [fp.split('/')[-1] for fp in pruned_paths]\n",
    "desc_paths = glob.glob(description_dir + '*/*')\n",
    "desc_files = [fp.split('/')[-1] for fp in desc_paths]\n",
    "\n",
    "\n",
    "pruned_nums = set([get_img_n(name) for name in pruned_files])\n",
    "all_nums = set([get_img_n(name) for name in more_files])\n",
    "rec_nums = set([get_img_n(name) for name in diagram_image_names])\n",
    "desc_nums = set([get_img_n(name) for name in desc_files])\n",
    "\n",
    "removed_images = all_nums.difference(pruned_nums.union(desc_nums))\n",
    "\n",
    "removed_image_names = []\n",
    "for img_n in removed_images:\n",
    "    for image_name in more_files:\n",
    "        if img_n == get_img_n(image_name):\n",
    "            removed_image_names.append(image_name)\n",
    "\n",
    "name_change_lookup = {}\n",
    "for image_name in more_files:\n",
    "    img_n = get_img_n(image_name)\n",
    "    for newer_name in pruned_files:\n",
    "        if img_n == get_img_n(newer_name) and newer_name != image_name:\n",
    "            name_change_lookup[image_name] = newer_name\n",
    "\n",
    "removed_image_names = sorted(removed_image_names)"
   ]
  },
  {
   "cell_type": "code",
   "execution_count": 9,
   "metadata": {
    "collapsed": true,
    "hidden": true,
    "run_control": {
     "frozen": false,
     "read_only": false
    }
   },
   "outputs": [],
   "source": [
    "blacklisted_topics = ['periodic_table', 'em_spectrum', 'hydrocarbons', 'geologic_time'] + ['lewis_dot_idapgrams', 'circuits']  # correct this mispelling in future round"
   ]
  },
  {
   "cell_type": "code",
   "execution_count": 10,
   "metadata": {
    "collapsed": false,
    "hidden": true,
    "run_control": {
     "frozen": false,
     "read_only": false
    }
   },
   "outputs": [
    {
     "data": {
      "text/plain": [
       "9"
      ]
     },
     "execution_count": 10,
     "metadata": {},
     "output_type": "execute_result"
    }
   ],
   "source": [
    "len(removed_image_names)"
   ]
  },
  {
   "cell_type": "code",
   "execution_count": 205,
   "metadata": {
    "collapsed": true,
    "hidden": true,
    "run_control": {
     "frozen": false,
     "read_only": false
    }
   },
   "outputs": [
    {
     "data": {
      "text/plain": [
       "['acid_rain_formation_6507.png',\n",
       " 'acid_rain_formation_8000.png',\n",
       " 'aquifers_6510.png',\n",
       " 'aquifers_6524.png',\n",
       " 'aquifers_6953.png',\n",
       " 'atomic_mass_number_9001.png',\n",
       " 'atomic_mass_number_9006.png',\n",
       " 'atomic_mass_number_9009.png',\n",
       " 'atomic_structure_6540.png',\n",
       " 'atomic_structure_9018.png',\n",
       " 'atomic_structure_9020.png',\n",
       " 'biomes_6557.png',\n",
       " 'biomes_6562.png',\n",
       " 'biomes_8018.png',\n",
       " 'blastocyst_9024.png',\n",
       " 'blastocyst_9028.png',\n",
       " 'blastocyst_9033.png',\n",
       " 'cell_division_6617.png',\n",
       " 'cell_division_8022.png',\n",
       " 'cell_division_9038.png',\n",
       " 'cellular_respiration_8026.png',\n",
       " 'cellular_respiration_9045.png',\n",
       " 'cellular_respiration_9048.png',\n",
       " 'chemical_bonding_covalent_9051.png',\n",
       " 'chemical_bonding_covalent_9053.png',\n",
       " 'chemical_bonding_covalent_9063.png',\n",
       " 'chemical_bonding_ionic_9066.png',\n",
       " 'chemical_bonding_ionic_9071.png',\n",
       " 'circuits_1056.png',\n",
       " 'circuits_1547.png',\n",
       " 'circuits_1578.png',\n",
       " 'circuits_224.png',\n",
       " 'circuits_228.png',\n",
       " 'continental_drift_8043.png',\n",
       " 'continental_drift_8044.png',\n",
       " 'continental_drift_9081.png',\n",
       " 'convection_of_air_6657.png',\n",
       " 'convection_of_air_8050.png',\n",
       " 'cycle_carbon_5008.png',\n",
       " 'cycle_carbon_63.png',\n",
       " 'cycle_carbon_70.png',\n",
       " 'cycle_nitrogen_6718.png',\n",
       " 'cycle_nitrogen_6719.png',\n",
       " 'cycle_rock_6723.png',\n",
       " 'cycle_rock_6744.png',\n",
       " 'cycle_rock_6748.png',\n",
       " 'cycle_water_1490.png',\n",
       " 'cycle_water_1503.png',\n",
       " 'cycle_water_4953.png',\n",
       " 'dna_6763.png',\n",
       " 'dna_8052.png',\n",
       " 'earth_day_night_2744.png',\n",
       " 'earth_day_night_86.png',\n",
       " 'earth_eclipses_1631.png',\n",
       " 'earth_eclipses_1654.png',\n",
       " 'earth_eclipses_1671.png',\n",
       " 'earth_eclipses_4570.png',\n",
       " 'earth_magnetic_field_6775.png',\n",
       " 'earth_magnetic_field_6788.png',\n",
       " 'earth_moon_phases_139.png',\n",
       " 'earth_moon_phases_2534.png',\n",
       " 'earth_moon_phases_2549.png',\n",
       " 'earth_moon_phases_2736.png',\n",
       " 'earth_moon_phases_6008.png',\n",
       " 'earth_parts_4015.png',\n",
       " 'earth_parts_4016.png',\n",
       " 'earth_parts_4020.png',\n",
       " 'earth_parts_539.png',\n",
       " 'earth_poles_163.png',\n",
       " 'earth_poles_8061.png',\n",
       " 'electromagnetism_6802.png',\n",
       " 'electromagnetism_9090.png',\n",
       " 'em_spectrum_6818.png',\n",
       " 'em_spectrum_9095.png',\n",
       " 'erosion_6859.png',\n",
       " 'erosion_8064.png',\n",
       " 'eukaryotic_cell_cycles_6873.png',\n",
       " 'eukaryotic_cell_cycles_9100.png',\n",
       " 'eukaryotic_cell_cycles_9101.png',\n",
       " 'evaporation_and_sublimation_6875.png',\n",
       " 'evaporation_and_sublimation_8074.png',\n",
       " 'evaporation_and_sublimation_8079.png',\n",
       " 'faults_1737.png',\n",
       " 'faults_1747.png',\n",
       " 'faults_186.png',\n",
       " 'food_chains_webs_1779.png',\n",
       " 'food_chains_webs_263.png',\n",
       " 'food_chains_webs_498.png',\n",
       " 'food_chains_webs_6060.png',\n",
       " 'food_chains_webs_863.png',\n",
       " 'fossils_6897.png',\n",
       " 'fossils_9105.png',\n",
       " 'fungi_reproduction_6900.png',\n",
       " 'fungi_reproduction_6910.png',\n",
       " 'geologic_time_6918.png',\n",
       " 'geologic_time_6924.png',\n",
       " 'glaciers_6926.png',\n",
       " 'glaciers_6936.png',\n",
       " 'greenhouse_effect_6940.png',\n",
       " 'greenhouse_effect_6945.png',\n",
       " 'hair_follicles_6985.png',\n",
       " 'hair_follicles_6986.png',\n",
       " 'human_system_circulatory_1379.png',\n",
       " 'human_system_circulatory_3648.png',\n",
       " 'human_system_circulatory_6068.png',\n",
       " 'human_system_digestive_3675.png',\n",
       " 'human_system_digestive_3678.png',\n",
       " 'human_system_digestive_3679.png',\n",
       " 'human_system_digestive_6091.png',\n",
       " 'human_system_ear_2866.png',\n",
       " 'human_system_ear_6103.png',\n",
       " 'human_system_excretory_6107.png',\n",
       " 'human_system_excretory_6115.png',\n",
       " 'human_system_excretory_6117.png',\n",
       " 'human_system_eye_2857.png',\n",
       " 'human_system_eye_2876.png',\n",
       " 'human_system_eye_6138.png',\n",
       " 'human_system_immune_9110.png',\n",
       " 'human_system_immune_9117.png',\n",
       " 'human_system_muscular_6159.png',\n",
       " 'human_system_muscular_6165.png',\n",
       " 'human_system_muscular_6166.png',\n",
       " 'human_system_nervous_2864.png',\n",
       " 'human_system_nervous_6178.png',\n",
       " 'human_system_nervous_6184.png',\n",
       " 'human_system_reproductory_7014.png',\n",
       " 'human_system_reproductory_7036.png',\n",
       " 'human_system_reproductory_7039.png',\n",
       " 'human_system_respiratory_1327.png',\n",
       " 'human_system_respiratory_3601.png',\n",
       " 'human_system_respiratory_3749.png',\n",
       " 'human_system_respiratory_6195.png',\n",
       " 'hydrocarbons_7051.png',\n",
       " 'hydrocarbons_9118.png',\n",
       " 'hydrocarbons_9121.png',\n",
       " 'isotopes_7057.png',\n",
       " 'isotopes_9127.png',\n",
       " 'layers_of_atmosphere_7066.png',\n",
       " 'layers_of_atmosphere_8102.png',\n",
       " 'lewis_dot_diagrams_9130.png',\n",
       " 'lewis_dot_diagrams_9140.png',\n",
       " 'lewis_dot_diagrams_9146.png',\n",
       " 'life_cycles_2331.png',\n",
       " 'life_cycles_357.png',\n",
       " 'life_cycles_39.png',\n",
       " 'life_cycles_6221.png',\n",
       " 'life_cycles_883.png',\n",
       " 'muscle_fiber_7082.png',\n",
       " 'muscle_fiber_7083.png',\n",
       " 'nuclear_energy_7093.png',\n",
       " 'nuclear_energy_7101.png',\n",
       " 'nuclear_energy_8115.png',\n",
       " 'nuclear_energy_8118.png',\n",
       " 'ocean_currents_7107.png',\n",
       " 'ocean_currents_7109.png',\n",
       " 'ocean_waves_7117.png',\n",
       " 'ocean_waves_9152.png',\n",
       " 'ocean_zones_7130.png',\n",
       " 'ocean_zones_8125.png',\n",
       " 'optics_lense_types_9159.png',\n",
       " 'optics_lense_types_9163.png',\n",
       " 'optics_ray_diagrams_9167.png',\n",
       " 'optics_ray_diagrams_9168.png',\n",
       " 'optics_reflection_9179.png',\n",
       " 'optics_reflection_9183.png',\n",
       " 'optics_refraction_9190.png',\n",
       " 'optics_refraction_9200.png',\n",
       " 'ozone_formation_7149.png',\n",
       " 'parts_cell_1166.png',\n",
       " 'parts_cell_1177.png',\n",
       " 'parts_cell_1182.png',\n",
       " 'parts_cell_3181.png',\n",
       " 'parts_cell_6232.png',\n",
       " 'parts_chordate_body_7161.png',\n",
       " 'parts_chordate_body_8146.png',\n",
       " 'parts_fish_2842.png',\n",
       " 'parts_fish_2913.png',\n",
       " 'parts_flower_1130.png',\n",
       " 'parts_flower_3369.png',\n",
       " 'parts_flower_3422.png',\n",
       " 'parts_leaf_1118.png',\n",
       " 'parts_leaf_3135.png',\n",
       " 'parts_leaf_3854.png',\n",
       " 'parts_leaf_557.png',\n",
       " 'parts_microscope_7174.png',\n",
       " 'parts_microscope_7187.png',\n",
       " 'parts_microscope_7193.png',\n",
       " 'parts_neuron_7206.png',\n",
       " 'parts_neuron_7230.png',\n",
       " 'parts_neuron_7232.png',\n",
       " 'parts_ocean_floor_7237.png',\n",
       " 'parts_ocean_floor_9206.png',\n",
       " 'parts_plant_1131.png',\n",
       " 'parts_plant_1145.png',\n",
       " 'parts_plant_6274.png',\n",
       " 'parts_seed_3.png',\n",
       " 'parts_seed_7242.png',\n",
       " 'parts_skeleton_7256.png',\n",
       " 'parts_skeleton_7266.png',\n",
       " 'parts_skeleton_7270.png',\n",
       " 'parts_telescope_8149.png',\n",
       " 'parts_telescope_8153.png',\n",
       " 'parts_telescope_8156.png',\n",
       " 'parts_worm_7295.png',\n",
       " 'parts_worm_7310.png',\n",
       " 'parts_worm_7321.png',\n",
       " 'periodic_table_7388.png',\n",
       " 'periodic_table_8157.png',\n",
       " 'periodic_table_8162.png',\n",
       " 'phagocytosis_9210.png',\n",
       " 'phagocytosis_9211.png',\n",
       " 'photosynthesis_1262.png',\n",
       " 'photosynthesis_4103.png',\n",
       " 'photosynthesis_4126.png',\n",
       " 'protozoa_9222.png',\n",
       " 'protozoa_9226.png',\n",
       " 'protozoa_9238.png',\n",
       " 'radioactive_decay_7517.png',\n",
       " 'radioactive_decay_8168.png',\n",
       " 'radioactive_decay_8173.png',\n",
       " 'rain_shadow_7524.png',\n",
       " 'rain_shadow_8185.png',\n",
       " 'seafloor_spreading_7543.png',\n",
       " 'seafloor_spreading_8189.png',\n",
       " 'seasons_6279.png',\n",
       " 'seasons_6281.png',\n",
       " 'seasons_647.png',\n",
       " 'seasons_672.png',\n",
       " 'seismic_waves_7551.png',\n",
       " 'seismic_waves_8192.png',\n",
       " 'seismic_waves_8194.png',\n",
       " 'simple_machines_9246.png',\n",
       " 'skin_cross_section_7574.png',\n",
       " 'skin_cross_section_7589.png',\n",
       " 'soil_horizons_1413.png',\n",
       " 'soil_horizons_4258.png',\n",
       " 'soil_horizons_7595.png',\n",
       " 'solar_system_1428.png',\n",
       " 'solar_system_1435.png',\n",
       " 'solar_system_6293.png',\n",
       " 'solar_system_6303.png',\n",
       " 'state_change_7605.png',\n",
       " 'state_change_7606.png',\n",
       " 'states_of_matter_9253.png',\n",
       " 'states_of_matter_9256.png',\n",
       " 'stratigraphy_9259.png',\n",
       " 'stratigraphy_9262.png',\n",
       " 'sun_layers_6304.png',\n",
       " 'sun_layers_6305.png',\n",
       " 'tectonic_plates_9266.png',\n",
       " 'tectonic_plates_9275.png',\n",
       " 'tectonic_plates_motion_9278.png',\n",
       " 'tectonic_plates_motion_9281.png',\n",
       " 'tides_133.png',\n",
       " 'tides_151.png',\n",
       " 'tides_2614.png',\n",
       " 'types_cells_7639.png',\n",
       " 'types_cells_7640.png',\n",
       " 'types_clouds_7645.png',\n",
       " 'types_clouds_7649.png',\n",
       " 'types_leaves_4403.png',\n",
       " 'types_leaves_4528.png',\n",
       " 'types_leaves_4757.png',\n",
       " 'types_leaves_6317.png',\n",
       " 'types_leaves_966.png',\n",
       " 'velocity_time_graphs_8213.png',\n",
       " 'velocity_time_graphs_8216.png',\n",
       " 'velocity_time_graphs_8220.png',\n",
       " 'volcanoes_1467.png',\n",
       " 'volcanoes_4896.png',\n",
       " 'volcanoes_4902.png',\n",
       " 'volcanoes_632.png',\n",
       " 'waves_7678.png',\n",
       " 'waves_9296.png',\n",
       " 'waves_interactions_interference_7681.png',\n",
       " 'waves_interactions_interference_9298.png']"
      ]
     },
     "execution_count": 205,
     "metadata": {},
     "output_type": "execute_result"
    }
   ],
   "source": [
    "desc_files"
   ]
  },
  {
   "cell_type": "markdown",
   "metadata": {
    "heading_collapsed": true
   },
   "source": [
    "# load all localization"
   ]
  },
  {
   "cell_type": "code",
   "execution_count": 16,
   "metadata": {
    "collapsed": true,
    "hidden": true,
    "run_control": {
     "frozen": false,
     "read_only": false
    }
   },
   "outputs": [],
   "source": [
    "turk_proc_dir = '/Users/schwenk/wrk/stb/diagram_questions/turk_processing/'\n",
    "metadata_dir = turk_proc_dir + 'store_hit_results_metadata/'\n",
    "lc_results_dir = 'loc_group_3'\n",
    "box_choices_1_dir = 'final_text_boxes_fixed'\n",
    "box_choices_2_dir = 'final_text_boxes_pass_2'\n",
    "box_loc_joined = 'loc_annotations'"
   ]
  },
  {
   "cell_type": "code",
   "execution_count": 17,
   "metadata": {
    "collapsed": true,
    "hidden": true,
    "run_control": {
     "frozen": false,
     "read_only": false
    }
   },
   "outputs": [],
   "source": [
    "none_agree = 'no_turkers_agree_lookup.pkl'\n",
    "two_agree_lookup = 'two_turkers_agree_lookup.pkl'\n",
    "all_agree_lookup = 'user_diag_loopkup.pkl'"
   ]
  },
  {
   "cell_type": "code",
   "execution_count": 13,
   "metadata": {
    "collapsed": false,
    "hidden": true,
    "run_control": {
     "frozen": false,
     "read_only": false
    }
   },
   "outputs": [],
   "source": [
    "loc_res_df = pd.read_pickle(os.path.join(metadata_dir, lc_results_dir, 'complete_df.pkl'))"
   ]
  },
  {
   "cell_type": "code",
   "execution_count": 14,
   "metadata": {
    "collapsed": false,
    "hidden": true,
    "run_control": {
     "frozen": false,
     "read_only": false
    }
   },
   "outputs": [],
   "source": [
    "loc_res_df = pd.read_pickle(os.path.join(metadata_dir, lc_results_dir, 'complete_df.pkl'))"
   ]
  },
  {
   "cell_type": "code",
   "execution_count": 15,
   "metadata": {
    "collapsed": false,
    "hidden": true,
    "run_control": {
     "frozen": false,
     "read_only": false
    }
   },
   "outputs": [
    {
     "data": {
      "text/plain": [
       "(70709, 5)"
      ]
     },
     "execution_count": 15,
     "metadata": {},
     "output_type": "execute_result"
    }
   ],
   "source": [
    "loc_res_df.shape"
   ]
  },
  {
   "cell_type": "code",
   "execution_count": 172,
   "metadata": {
    "collapsed": false,
    "hidden": true,
    "run_control": {
     "frozen": false,
     "read_only": false
    }
   },
   "outputs": [
    {
     "data": {
      "text/html": [
       "<div>\n",
       "<table border=\"1\" class=\"dataframe\">\n",
       "  <thead>\n",
       "    <tr style=\"text-align: right;\">\n",
       "      <th></th>\n",
       "      <th>diagram</th>\n",
       "      <th>rectangle</th>\n",
       "      <th>hit_id</th>\n",
       "      <th>assignment_id</th>\n",
       "      <th>worker_id</th>\n",
       "    </tr>\n",
       "  </thead>\n",
       "  <tbody>\n",
       "    <tr>\n",
       "      <th>0</th>\n",
       "      <td>parts_cell_1182.png</td>\n",
       "      <td>[[283, 192], [447, 238]]</td>\n",
       "      <td>3SA4EMRVJV39U1MGLCYP6KPFULH0PX</td>\n",
       "      <td>3BDCF01OGXVJNV1XRULS5F5Z4B6LYG</td>\n",
       "      <td>A1017VP86SLXRB</td>\n",
       "    </tr>\n",
       "  </tbody>\n",
       "</table>\n",
       "</div>"
      ],
      "text/plain": [
       "               diagram                 rectangle  \\\n",
       "0  parts_cell_1182.png  [[283, 192], [447, 238]]   \n",
       "\n",
       "                           hit_id                   assignment_id  \\\n",
       "0  3SA4EMRVJV39U1MGLCYP6KPFULH0PX  3BDCF01OGXVJNV1XRULS5F5Z4B6LYG   \n",
       "\n",
       "        worker_id  \n",
       "0  A1017VP86SLXRB  "
      ]
     },
     "execution_count": 172,
     "metadata": {},
     "output_type": "execute_result"
    }
   ],
   "source": [
    "loc_res_df.head(1)"
   ]
  },
  {
   "cell_type": "code",
   "execution_count": 173,
   "metadata": {
    "collapsed": false,
    "hidden": true,
    "run_control": {
     "frozen": false,
     "read_only": false
    }
   },
   "outputs": [
    {
     "data": {
      "text/plain": [
       "(2307,)"
      ]
     },
     "execution_count": 173,
     "metadata": {},
     "output_type": "execute_result"
    }
   ],
   "source": [
    "pd.unique(loc_res_df['diagram']).shape"
   ]
  },
  {
   "cell_type": "code",
   "execution_count": 32,
   "metadata": {
    "collapsed": false,
    "hidden": true,
    "run_control": {
     "frozen": false,
     "read_only": false
    }
   },
   "outputs": [],
   "source": [
    "with open(os.path.join(turk_proc_dir, all_agree_lookup), 'rb') as f:\n",
    "    box_ns = pickle.load(f)"
   ]
  },
  {
   "cell_type": "code",
   "execution_count": 21,
   "metadata": {
    "collapsed": false,
    "hidden": true,
    "run_control": {
     "frozen": false,
     "read_only": false
    }
   },
   "outputs": [],
   "source": [
    "loc_anno = clean_list(os.path.join(turk_proc_dir, box_loc_joined))\n",
    "loc_anno_images = [fig.split('.json')[0]  for fig in loc_anno]"
   ]
  },
  {
   "cell_type": "code",
   "execution_count": 22,
   "metadata": {
    "collapsed": false,
    "hidden": true,
    "run_control": {
     "frozen": false,
     "read_only": false
    }
   },
   "outputs": [],
   "source": [
    "keep_figures = [fig for fig in loc_anno_images if fig not in removed_image_names]"
   ]
  },
  {
   "cell_type": "code",
   "execution_count": 178,
   "metadata": {
    "collapsed": false,
    "hidden": true,
    "run_control": {
     "frozen": false,
     "read_only": false
    }
   },
   "outputs": [],
   "source": [
    "loc_box_path = os.path.join(turk_proc_dir, box_loc_joined)\n",
    "diag_loc_annotations = {}\n",
    "\n",
    "for diagram_name in keep_figures:\n",
    "    anno_file_path = os.path.join(loc_box_path, diagram_name + '.json')\n",
    "    if not os.path.exists(anno_file_path):\n",
    "#         print(diagram_name)\n",
    "        diagram_name = diagram_name.replace('optics_rays', 'optics_ray_diagrams')\n",
    "        anno_file_path = os.path.join(loc_box_path, diagram_name  + '.json')\n",
    "#         continue\n",
    "    with open(anno_file_path, 'r') as f:\n",
    "        diag_loc_annotations[diagram_name] = json.load(f)"
   ]
  },
  {
   "cell_type": "code",
   "execution_count": 190,
   "metadata": {
    "collapsed": false,
    "hidden": true,
    "run_control": {
     "frozen": false,
     "read_only": false
    },
    "scrolled": false
   },
   "outputs": [],
   "source": [
    "# sorted(diag_loc_annotations)[1000:]"
   ]
  },
  {
   "cell_type": "markdown",
   "metadata": {
    "hidden": true
   },
   "source": []
  },
  {
   "cell_type": "code",
   "execution_count": 206,
   "metadata": {
    "collapsed": true,
    "hidden": true,
    "run_control": {
     "frozen": false,
     "read_only": false
    }
   },
   "outputs": [],
   "source": [
    "combined_master_file_list = pruned_files + desc_files"
   ]
  },
  {
   "cell_type": "code",
   "execution_count": 221,
   "metadata": {
    "collapsed": false,
    "hidden": true,
    "run_control": {
     "frozen": false,
     "read_only": false
    },
    "scrolled": true
   },
   "outputs": [
    {
     "data": {
      "text/plain": [
       "81"
      ]
     },
     "execution_count": 221,
     "metadata": {},
     "output_type": "execute_result"
    }
   ],
   "source": [
    "files_still_needing_localisation = sorted(list(set(combined_master_file_list_whitelisted).difference(set(diag_loc_annotations))))\n",
    "len(files_still_needing_localisation)"
   ]
  },
  {
   "cell_type": "code",
   "execution_count": 223,
   "metadata": {
    "collapsed": false,
    "hidden": true,
    "run_control": {
     "frozen": false,
     "read_only": false
    },
    "scrolled": true
   },
   "outputs": [
    {
     "data": {
      "text/plain": [
       "['atomic_mass_number_9007.png',\n",
       " 'biomes_6557.png',\n",
       " 'cell_division_8022.png',\n",
       " 'cellular_respiration_9045.png',\n",
       " 'chemical_bonding_covalent_9055.png',\n",
       " 'chemical_bonding_ionic_9069.png',\n",
       " 'continental_drift_9075.png',\n",
       " 'cycle_nitrogen_6721.png',\n",
       " 'cycle_rock_6746.png',\n",
       " 'dna_6760.png',\n",
       " 'dna_6763.png',\n",
       " 'dna_6769.png',\n",
       " 'earth_day_night_2589.png',\n",
       " 'earth_magnetic_field_6778.png',\n",
       " 'earth_moon_phases_1237.png',\n",
       " 'earth_moon_phases_2548.png',\n",
       " 'earth_parts_542.png',\n",
       " 'earth_parts_640.png',\n",
       " 'electromagnetism_9088.png',\n",
       " 'faults_1745.png',\n",
       " 'food_chains_webs_1767.png',\n",
       " 'food_chains_webs_260.png',\n",
       " 'food_chains_webs_261.png',\n",
       " 'food_chains_webs_471.png',\n",
       " 'fossils_9105.png',\n",
       " 'greenhouse_effect_6945.png',\n",
       " 'human_system_digestive_3728.png',\n",
       " 'human_system_nervous_6182.png',\n",
       " 'human_system_reproductory_7017.png',\n",
       " 'human_system_reproductory_7048.png',\n",
       " 'human_system_respiratory_3767.png',\n",
       " 'isotopes_7057.png',\n",
       " 'isotopes_7061.png',\n",
       " 'isotopes_9123.png',\n",
       " 'isotopes_9128.png',\n",
       " 'lewis_dot_diagrams_9130.png',\n",
       " 'lewis_dot_diagrams_9131.png',\n",
       " 'lewis_dot_diagrams_9132.png',\n",
       " 'lewis_dot_diagrams_9133.png',\n",
       " 'lewis_dot_diagrams_9134.png',\n",
       " 'lewis_dot_diagrams_9135.png',\n",
       " 'lewis_dot_diagrams_9136.png',\n",
       " 'lewis_dot_diagrams_9137.png',\n",
       " 'lewis_dot_diagrams_9138.png',\n",
       " 'lewis_dot_diagrams_9139.png',\n",
       " 'lewis_dot_diagrams_9140.png',\n",
       " 'lewis_dot_diagrams_9141.png',\n",
       " 'lewis_dot_diagrams_9142.png',\n",
       " 'lewis_dot_diagrams_9143.png',\n",
       " 'lewis_dot_diagrams_9144.png',\n",
       " 'lewis_dot_diagrams_9145.png',\n",
       " 'lewis_dot_diagrams_9146.png',\n",
       " 'lewis_dot_diagrams_9147.png',\n",
       " 'lewis_dot_diagrams_9148.png',\n",
       " 'lewis_dot_diagrams_9149.png',\n",
       " 'life_cycles_6207.png',\n",
       " 'life_cycles_6212.png',\n",
       " 'life_cycles_6229.png',\n",
       " 'nuclear_energy_8108.png',\n",
       " 'optics_reflection_9187.png',\n",
       " 'optics_refraction_9191.png',\n",
       " 'parts_cell_3518.png',\n",
       " 'parts_cell_6259.png',\n",
       " 'parts_flower_3370.png',\n",
       " 'parts_microscope_7178.png',\n",
       " 'parts_plant_1051.png',\n",
       " 'parts_worm_7327.png',\n",
       " 'protozoa_9237.png',\n",
       " 'protozoa_9238.png',\n",
       " 'seasons_6278.png',\n",
       " 'seasons_6280.png',\n",
       " 'seismic_waves_7554.png',\n",
       " 'simple_machines_9243.png',\n",
       " 'simple_machines_9249.png',\n",
       " 'simple_machines_9250.png',\n",
       " 'sun_layers_6307.png',\n",
       " 'tectonic_plates_7622.png',\n",
       " 'types_leaves_4506.png',\n",
       " 'velocity_time_graphs_8218.png',\n",
       " 'waves_8227.png',\n",
       " 'waves_interactions_interference_7682.png']"
      ]
     },
     "execution_count": 223,
     "metadata": {},
     "output_type": "execute_result"
    }
   ],
   "source": [
    "files_still_needing_localisation"
   ]
  },
  {
   "cell_type": "code",
   "execution_count": 220,
   "metadata": {
    "collapsed": true,
    "hidden": true,
    "run_control": {
     "frozen": false,
     "read_only": false
    }
   },
   "outputs": [
    {
     "data": {
      "image/png": "[encoded data removed]",
      "text/plain": [
       "<PIL.PngImagePlugin.PngImageFile image mode=RGB size=424x104 at 0x11FC52E48>"
      ]
     },
     "execution_count": 220,
     "metadata": {},
     "output_type": "execute_result"
    }
   ],
   "source": [
    "Image.open('../ai2-vision-textbook-dataset/diagrams/turk_data/food_chains_webs_260.png')"
   ]
  },
  {
   "cell_type": "code",
   "execution_count": null,
   "metadata": {
    "collapsed": true,
    "hidden": true,
    "run_control": {
     "frozen": false,
     "read_only": false
    }
   },
   "outputs": [],
   "source": []
  },
  {
   "cell_type": "code",
   "execution_count": null,
   "metadata": {
    "collapsed": true,
    "hidden": true,
    "run_control": {
     "frozen": false,
     "read_only": false
    }
   },
   "outputs": [],
   "source": []
  },
  {
   "cell_type": "code",
   "execution_count": null,
   "metadata": {
    "collapsed": true,
    "hidden": true,
    "run_control": {
     "frozen": false,
     "read_only": false
    }
   },
   "outputs": [],
   "source": []
  },
  {
   "cell_type": "code",
   "execution_count": null,
   "metadata": {
    "collapsed": true,
    "hidden": true,
    "run_control": {
     "frozen": false,
     "read_only": false
    }
   },
   "outputs": [],
   "source": []
  },
  {
   "cell_type": "code",
   "execution_count": null,
   "metadata": {
    "collapsed": true,
    "hidden": true,
    "run_control": {
     "frozen": false,
     "read_only": false
    }
   },
   "outputs": [],
   "source": []
  },
  {
   "cell_type": "code",
   "execution_count": null,
   "metadata": {
    "collapsed": true,
    "hidden": true,
    "run_control": {
     "frozen": false,
     "read_only": false
    }
   },
   "outputs": [],
   "source": []
  },
  {
   "cell_type": "code",
   "execution_count": null,
   "metadata": {
    "collapsed": true,
    "hidden": true,
    "run_control": {
     "frozen": false,
     "read_only": false
    }
   },
   "outputs": [],
   "source": []
  },
  {
   "cell_type": "code",
   "execution_count": null,
   "metadata": {
    "collapsed": true,
    "hidden": true,
    "run_control": {
     "frozen": false,
     "read_only": false
    }
   },
   "outputs": [],
   "source": []
  },
  {
   "cell_type": "code",
   "execution_count": null,
   "metadata": {
    "collapsed": true,
    "hidden": true,
    "run_control": {
     "frozen": false,
     "read_only": false
    }
   },
   "outputs": [],
   "source": []
  },
  {
   "cell_type": "code",
   "execution_count": null,
   "metadata": {
    "collapsed": true,
    "hidden": true,
    "run_control": {
     "frozen": false,
     "read_only": false
    }
   },
   "outputs": [],
   "source": []
  },
  {
   "cell_type": "markdown",
   "metadata": {
    "heading_collapsed": true
   },
   "source": [
    "# load all recognition"
   ]
  },
  {
   "cell_type": "code",
   "execution_count": 18,
   "metadata": {
    "collapsed": false,
    "hidden": true,
    "run_control": {
     "frozen": false,
     "read_only": false
    }
   },
   "outputs": [],
   "source": [
    "recog_output = '/Users/schwenk/wrk/stb/diagram_questions/turk_processing/'\n",
    "recog_results_dir = 'group_latest_combined'"
   ]
  },
  {
   "cell_type": "code",
   "execution_count": 19,
   "metadata": {
    "collapsed": true,
    "hidden": true,
    "run_control": {
     "frozen": false,
     "read_only": false
    }
   },
   "outputs": [],
   "source": [
    "from scipy.stats.mstats import mode\n",
    "noncon = defaultdict(list)\n",
    "def most_common_strict(image_response):\n",
    "    \"\"\"\n",
    "    returns the consensus response of the three raw response strings for a given image\n",
    "    \"\"\"\n",
    "    most_common = image_response[1]['raw_text'].mode()\n",
    "    if most_common.empty:\n",
    "        most_common = 'nonconsensus'\n",
    "        noncon.append(image_response[1]['raw_text'])\n",
    "    else:\n",
    "        most_common = most_common.values[0]\n",
    "    return most_common\n",
    "\n",
    "def most_common_lax(image_response, strings_denoting_missing_image=[]):\n",
    "    \"\"\"\n",
    "    returns the consensus response after stripping white space and converting the reponses to lower case\n",
    "    \"\"\"\n",
    "    simple_sanitizer = lambda x : x.lower().strip().lstrip()\n",
    "    ind_responses = image_response[1]['raw_text'].values\n",
    "    probobly_blanks = [response for response in ind_responses if response in strings_denoting_missing_image]\n",
    "    if probobly_blanks:\n",
    "        return 'skip'\n",
    "    most_common = image_response[1]['raw_text'].apply(simple_sanitizer).mode()\n",
    "    if most_common.empty:\n",
    "        most_common = 'no consensus'\n",
    "        noncon[image_response[0][0]].extend(image_response[1]['raw_text'])\n",
    "    else:\n",
    "        most_common = most_common.values[0]\n",
    "    return most_common\n",
    "\n",
    "def find_transcriptions_matches(batch_results_df, response_matcher):\n",
    "    \"\"\"\n",
    "    returns a pandas series with the consunsus response for each image\n",
    "    \"\"\"\n",
    "    agreed_responses = pd.DataFrame()\n",
    "    for image_response in batch_results_df.groupby(['diagram', 'box_diag_idx']):\n",
    "        diagram_and_idx = image_response[0]\n",
    "        most_common = response_matcher(image_response, strings_denoting_missing_image=[])\n",
    "        if most_common == 'skip':\n",
    "            continue\n",
    "        this_row = pd.DataFrame(list(diagram_and_idx) + [most_common, image_response[1]['rectangle'].iloc[0], image_response[1]['assignment_id'].iloc[0]]).T\n",
    "        agreed_responses = pd.concat([agreed_responses, this_row])\n",
    "        # The reindex below is needed to match the original df index after the groupby operation\n",
    "    agreed_responses.columns = ['diagram', 'box_diag_idx', 'consensus_res', 'rectangle', 'assignment_id']\n",
    "    return agreed_responses"
   ]
  },
  {
   "cell_type": "code",
   "execution_count": 20,
   "metadata": {
    "collapsed": false,
    "hidden": true,
    "run_control": {
     "frozen": false,
     "read_only": false
    },
    "scrolled": true
   },
   "outputs": [],
   "source": [
    "recog_res_df = pd.read_pickle(os.path.join(metadata_dir, recog_results_dir, 'recog_df.pkl'))"
   ]
  },
  {
   "cell_type": "code",
   "execution_count": 21,
   "metadata": {
    "collapsed": false,
    "hidden": true,
    "run_control": {
     "frozen": false,
     "read_only": false
    }
   },
   "outputs": [],
   "source": [
    "recog_performed_on = set(pd.unique(recog_res_df['diagram']).tolist())"
   ]
  },
  {
   "cell_type": "code",
   "execution_count": 22,
   "metadata": {
    "collapsed": false,
    "hidden": true,
    "run_control": {
     "frozen": false,
     "read_only": false
    }
   },
   "outputs": [
    {
     "ename": "NameError",
     "evalue": "name 'keep_figures' is not defined",
     "output_type": "error",
     "traceback": [
      "\u001b[0;31m---------------------------------------------------------------------------\u001b[0m",
      "\u001b[0;31mNameError\u001b[0m                                 Traceback (most recent call last)",
      "\u001b[0;32m<ipython-input-22-602c7275da59>\u001b[0m in \u001b[0;36m<module>\u001b[0;34m()\u001b[0m\n\u001b[0;32m----> 1\u001b[0;31m \u001b[0mrecog_performed_on_keep\u001b[0m \u001b[0;34m=\u001b[0m \u001b[0;34m[\u001b[0m\u001b[0mimage\u001b[0m \u001b[0;32mfor\u001b[0m \u001b[0mimage\u001b[0m \u001b[0;32min\u001b[0m \u001b[0mrecog_performed_on\u001b[0m \u001b[0;32mif\u001b[0m \u001b[0mimage\u001b[0m \u001b[0;32min\u001b[0m \u001b[0mkeep_figures\u001b[0m\u001b[0;34m]\u001b[0m\u001b[0;34m\u001b[0m\u001b[0m\n\u001b[0m",
      "\u001b[0;32m<ipython-input-22-602c7275da59>\u001b[0m in \u001b[0;36m<listcomp>\u001b[0;34m(.0)\u001b[0m\n\u001b[0;32m----> 1\u001b[0;31m \u001b[0mrecog_performed_on_keep\u001b[0m \u001b[0;34m=\u001b[0m \u001b[0;34m[\u001b[0m\u001b[0mimage\u001b[0m \u001b[0;32mfor\u001b[0m \u001b[0mimage\u001b[0m \u001b[0;32min\u001b[0m \u001b[0mrecog_performed_on\u001b[0m \u001b[0;32mif\u001b[0m \u001b[0mimage\u001b[0m \u001b[0;32min\u001b[0m \u001b[0mkeep_figures\u001b[0m\u001b[0;34m]\u001b[0m\u001b[0;34m\u001b[0m\u001b[0m\n\u001b[0m",
      "\u001b[0;31mNameError\u001b[0m: name 'keep_figures' is not defined"
     ]
    }
   ],
   "source": [
    "recog_performed_on_keep = [image for image in recog_performed_on if image in keep_figures]"
   ]
  },
  {
   "cell_type": "code",
   "execution_count": 24,
   "metadata": {
    "collapsed": false,
    "hidden": true,
    "run_control": {
     "frozen": false,
     "read_only": false
    }
   },
   "outputs": [
    {
     "data": {
      "text/plain": [
       "2168"
      ]
     },
     "execution_count": 24,
     "metadata": {},
     "output_type": "execute_result"
    }
   ],
   "source": [
    "len(recog_performed_on_keep)"
   ]
  },
  {
   "cell_type": "code",
   "execution_count": 159,
   "metadata": {
    "collapsed": true,
    "hidden": true,
    "run_control": {
     "frozen": false,
     "read_only": false
    }
   },
   "outputs": [],
   "source": [
    "files_still_needing_recognition = sorted(list(set(pruned_files).difference(set(recog_performed_on_keep))))"
   ]
  },
  {
   "cell_type": "code",
   "execution_count": 160,
   "metadata": {
    "collapsed": false,
    "hidden": true,
    "run_control": {
     "frozen": false,
     "read_only": false
    }
   },
   "outputs": [
    {
     "data": {
      "text/plain": [
       "142"
      ]
     },
     "execution_count": 160,
     "metadata": {},
     "output_type": "execute_result"
    }
   ],
   "source": [
    "len(files_still_needing_recognition)"
   ]
  },
  {
   "cell_type": "code",
   "execution_count": 161,
   "metadata": {
    "collapsed": false,
    "hidden": true,
    "run_control": {
     "frozen": false,
     "read_only": false
    }
   },
   "outputs": [],
   "source": [
    "file_with_loc_no_recog = set(files_still_needing_recognition).difference(files_still_needing_localisation)"
   ]
  },
  {
   "cell_type": "code",
   "execution_count": 162,
   "metadata": {
    "collapsed": false,
    "hidden": true,
    "run_control": {
     "frozen": false,
     "read_only": false
    }
   },
   "outputs": [
    {
     "data": {
      "text/plain": [
       "18"
      ]
     },
     "execution_count": 162,
     "metadata": {},
     "output_type": "execute_result"
    }
   ],
   "source": [
    "len(file_with_loc_no_recog)"
   ]
  },
  {
   "cell_type": "code",
   "execution_count": 164,
   "metadata": {
    "collapsed": false,
    "hidden": true,
    "run_control": {
     "frozen": false,
     "read_only": false
    }
   },
   "outputs": [
    {
     "data": {
      "text/plain": [
       "{'em_spectrum_6815.png',\n",
       " 'em_spectrum_8063.png',\n",
       " 'em_spectrum_9096.png',\n",
       " 'geologic_time_6916.png',\n",
       " 'geologic_time_6920.png',\n",
       " 'hydrocarbons_8093.png',\n",
       " 'hydrocarbons_9120.png',\n",
       " 'optics_ray_diagrams_9165.png',\n",
       " 'optics_ray_diagrams_9166.png',\n",
       " 'optics_ray_diagrams_9169.png',\n",
       " 'optics_ray_diagrams_9170.png',\n",
       " 'optics_ray_diagrams_9171.png',\n",
       " 'optics_ray_diagrams_9172.png',\n",
       " 'optics_ray_diagrams_9173.png',\n",
       " 'optics_ray_diagrams_9174.png',\n",
       " 'optics_ray_diagrams_9175.png',\n",
       " 'optics_ray_diagrams_9176.png',\n",
       " 'optics_ray_diagrams_9177.png'}"
      ]
     },
     "execution_count": 164,
     "metadata": {},
     "output_type": "execute_result"
    }
   ],
   "source": [
    "file_with_loc_no_recog"
   ]
  },
  {
   "cell_type": "code",
   "execution_count": 167,
   "metadata": {
    "collapsed": false,
    "hidden": true,
    "run_control": {
     "frozen": false,
     "read_only": false
    }
   },
   "outputs": [
    {
     "data": {
      "image/png": "[encoded data removed]",
      "text/plain": [
       "<PIL.PngImagePlugin.PngImageFile image mode=RGB size=600x285 at 0x11BCEDE80>"
      ]
     },
     "execution_count": 167,
     "metadata": {},
     "output_type": "execute_result"
    }
   ],
   "source": [
    "Image.open('../ai2-vision-textbook-dataset/diagrams/turk_data/optics_ray_diagrams_9170.png')"
   ]
  },
  {
   "cell_type": "code",
   "execution_count": 23,
   "metadata": {
    "collapsed": false,
    "hidden": true,
    "run_control": {
     "frozen": false,
     "read_only": false
    }
   },
   "outputs": [],
   "source": [
    "transcription_results_lax = find_transcriptions_matches(recog_res_df, most_common_lax)"
   ]
  },
  {
   "cell_type": "code",
   "execution_count": 97,
   "metadata": {
    "collapsed": true,
    "hidden": true,
    "run_control": {
     "frozen": false,
     "read_only": false
    }
   },
   "outputs": [],
   "source": [
    "# noncon_entries = [entries.values.tolist() for entries in noncon]\n",
    "# flattened_noncon = [item for sublist in noncon_entries for item in sublist]"
   ]
  },
  {
   "cell_type": "code",
   "execution_count": 24,
   "metadata": {
    "collapsed": false,
    "hidden": true,
    "run_control": {
     "frozen": false,
     "read_only": false
    }
   },
   "outputs": [],
   "source": [
    "# strings_denoting_missing_image = list(pd.Series(flattened_noncon).value_counts()[:20].index)\n",
    "curated_no_image_strings = set(['*no image showing*', '', ' ', 'NA', '?', 'na', '0', 'No image found', 'blank', 'Nothing showing', \"where is the images , i can't see anything\", 'NO IMAGE', ''])"
   ]
  },
  {
   "cell_type": "code",
   "execution_count": 25,
   "metadata": {
    "collapsed": false,
    "hidden": true,
    "run_control": {
     "frozen": false,
     "read_only": false
    }
   },
   "outputs": [],
   "source": [
    "non_blank_no_consensus = {d_name: rec_res for d_name, rec_res in noncon.items() if not curated_no_image_strings.intersection(set(rec_res))}\n",
    "blank_no_consensus = {d_name: rec_res for d_name, rec_res in noncon.items() if curated_no_image_strings.intersection(set(rec_res))}"
   ]
  },
  {
   "cell_type": "code",
   "execution_count": 130,
   "metadata": {
    "collapsed": false,
    "hidden": true,
    "run_control": {
     "frozen": false,
     "read_only": false
    }
   },
   "outputs": [
    {
     "data": {
      "text/plain": [
       "408"
      ]
     },
     "execution_count": 130,
     "metadata": {},
     "output_type": "execute_result"
    }
   ],
   "source": [
    "len(non_blank_no_consensus)"
   ]
  },
  {
   "cell_type": "code",
   "execution_count": 131,
   "metadata": {
    "collapsed": false,
    "hidden": true,
    "run_control": {
     "frozen": false,
     "read_only": false
    }
   },
   "outputs": [
    {
     "data": {
      "text/plain": [
       "99"
      ]
     },
     "execution_count": 131,
     "metadata": {},
     "output_type": "execute_result"
    }
   ],
   "source": [
    "len(blank_no_consensus)"
   ]
  },
  {
   "cell_type": "code",
   "execution_count": 27,
   "metadata": {
    "collapsed": false,
    "hidden": true,
    "run_control": {
     "frozen": false,
     "read_only": false
    }
   },
   "outputs": [],
   "source": [
    "flattened_noncon_no_blank = [item for sublist in non_blank_no_consensus.values() for item in sublist]\n",
    "# pd.Series(flattened_noncon_no_blank).value_counts()"
   ]
  },
  {
   "cell_type": "code",
   "execution_count": 135,
   "metadata": {
    "collapsed": true,
    "hidden": true,
    "run_control": {
     "frozen": false,
     "read_only": false
    }
   },
   "outputs": [
    {
     "data": {
      "text/plain": [
       "*no image showing*                                       456\n",
       "                                                         365\n",
       "                                                         196\n",
       "NA                                                        73\n",
       "?                                                         62\n",
       "na                                                        37\n",
       "0                                                         21\n",
       "c                                                         20\n",
       "blank                                                     19\n",
       "No image found                                            19\n",
       "Nothing showing                                           13\n",
       "where is the images , i can't see anything                11\n",
       "NO IMAGE                                                   8\n",
       "Nucleolus                                                  5\n",
       "Nucleus                                                    5\n",
       "Nothing                                                    5\n",
       "Ribosomes                                                  5\n",
       "30                                                         4\n",
       "valve                                                      4\n",
       "Cytoplasm                                                  3\n",
       "Golgi apparatus                                            3\n",
       "O                                                          3\n",
       "A                                                          3\n",
       "B                                                          3\n",
       "Mitochondria                                               3\n",
       "C                                                          3\n",
       "MAGNETIC MERIDIAN                                          2\n",
       "100°C                                                      2\n",
       "Lysosome                                                   2\n",
       "GEOGRAPHICAL MERIDIAN                                      2\n",
       "                                                        ... \n",
       "DNA                                                        1\n",
       "Peripheral Nervous System                                  1\n",
       "18 ulna                                                    1\n",
       "fauit                                                      1\n",
       "1. A fish dies and sinks to the bottom of a lake.          1\n",
       "volcanic arc                                               1\n",
       "image                                                      1\n",
       "WOMAN                                                      1\n",
       "SEDIMENTS                                                  1\n",
       "September Equinox Sept 22/23                               1\n",
       "Complete Metamorphosis: Life Cyrcle of the Lady Beede      1\n",
       "hanging                                                    1\n",
       "The Parts of the Flower                                    1\n",
       "Patella                                                    1\n",
       "grasshopper                                                1\n",
       "Perimetrium                                                1\n",
       "Tarsals                                                    1\n",
       "turret                                                     1\n",
       "stigma                                                     1\n",
       "Endoplasmic Reticulum                                      1\n",
       "North Pole                                                 1\n",
       "Earth + Revolution = Seasons                               1\n",
       "Electron y photon                                          1\n",
       "i                                                          1\n",
       "Stage 4                                                    1\n",
       "- Peroxisome                                               1\n",
       "obovate                                                    1\n",
       "PERIMETRIUM                                                1\n",
       "TROPIC OF CANCER                                           1\n",
       "100 c                                                      1\n",
       "dtype: int64"
      ]
     },
     "execution_count": 135,
     "metadata": {},
     "output_type": "execute_result"
    }
   ],
   "source": [
    "flattened_noncon_no_blank = [item for sublist in blank_no_consensus.values() for item in sublist]\n",
    "pd.Series(flattened_noncon_no_blank).value_counts()"
   ]
  },
  {
   "cell_type": "code",
   "execution_count": 1332,
   "metadata": {
    "collapsed": false,
    "hidden": true,
    "run_control": {
     "frozen": false,
     "read_only": false
    }
   },
   "outputs": [
    {
     "data": {
      "text/html": [
       "<div>\n",
       "<table border=\"1\" class=\"dataframe\">\n",
       "  <thead>\n",
       "    <tr style=\"text-align: right;\">\n",
       "      <th></th>\n",
       "      <th>diagram</th>\n",
       "      <th>box_diag_idx</th>\n",
       "      <th>consensus_res</th>\n",
       "      <th>rectangle</th>\n",
       "      <th>assignment_id</th>\n",
       "    </tr>\n",
       "  </thead>\n",
       "  <tbody>\n",
       "    <tr>\n",
       "      <th>0</th>\n",
       "      <td>acid_rain_formation_6500.png</td>\n",
       "      <td>0</td>\n",
       "      <td>hno3</td>\n",
       "      <td>[[688, 33], [733, 54]]</td>\n",
       "      <td>3OE22WJIGJO58MJBIMX82UWEGD9QUE</td>\n",
       "    </tr>\n",
       "  </tbody>\n",
       "</table>\n",
       "</div>"
      ],
      "text/plain": [
       "                        diagram box_diag_idx consensus_res  \\\n",
       "0  acid_rain_formation_6500.png            0          hno3   \n",
       "\n",
       "                rectangle                   assignment_id  \n",
       "0  [[688, 33], [733, 54]]  3OE22WJIGJO58MJBIMX82UWEGD9QUE  "
      ]
     },
     "execution_count": 1332,
     "metadata": {},
     "output_type": "execute_result"
    }
   ],
   "source": [
    "transcription_results_lax.head(1)"
   ]
  },
  {
   "cell_type": "code",
   "execution_count": 28,
   "metadata": {
    "collapsed": false,
    "hidden": true,
    "run_control": {
     "frozen": false,
     "read_only": false
    }
   },
   "outputs": [],
   "source": [
    "build_diagram_rec_corpus  = [words.split() for words in transcription_results_lax['consensus_res'].values.tolist()]\n",
    "diagram_rec_corpus = set([item.lower().strip() for sublist in build_diagram_rec_corpus for item in sublist if item.isalpha() and len(item) > 3])"
   ]
  },
  {
   "cell_type": "code",
   "execution_count": 29,
   "metadata": {
    "collapsed": false,
    "hidden": true,
    "run_control": {
     "frozen": false,
     "read_only": false
    }
   },
   "outputs": [
    {
     "data": {
      "text/plain": [
       "4073"
      ]
     },
     "execution_count": 29,
     "metadata": {},
     "output_type": "execute_result"
    }
   ],
   "source": [
    "len(diagram_rec_corpus)"
   ]
  },
  {
   "cell_type": "code",
   "execution_count": null,
   "metadata": {
    "collapsed": true,
    "hidden": true,
    "run_control": {
     "frozen": false,
     "read_only": false
    }
   },
   "outputs": [],
   "source": []
  },
  {
   "cell_type": "code",
   "execution_count": null,
   "metadata": {
    "collapsed": true,
    "hidden": true,
    "run_control": {
     "frozen": false,
     "read_only": false
    }
   },
   "outputs": [],
   "source": []
  },
  {
   "cell_type": "code",
   "execution_count": null,
   "metadata": {
    "collapsed": true,
    "hidden": true,
    "run_control": {
     "frozen": false,
     "read_only": false
    }
   },
   "outputs": [],
   "source": []
  },
  {
   "cell_type": "markdown",
   "metadata": {
    "heading_collapsed": true
   },
   "source": [
    "# load diagram questions and descriptions"
   ]
  },
  {
   "cell_type": "code",
   "execution_count": 1230,
   "metadata": {
    "collapsed": true,
    "hidden": true,
    "run_control": {
     "frozen": false,
     "read_only": false
    }
   },
   "outputs": [],
   "source": [
    "raw_data_dir = '../spare5_produced_data/data/'\n",
    "rel_file_1 = 'ai2_testquestions_20161004.csv'\n",
    "rel_file_2 = 'ai2_testquestions_20161005.csv'\n",
    "decription_rel = 'ai2_diagramdescriptions_20161018.csv'\n",
    "our_decription_rel = 'our_description.csv'\n",
    "\n",
    "q_col = '03_write_question'\n",
    "r_ans_col = '04_write_right_answer'\n",
    "w_ans_col = '05_write_wrong_answers'\n",
    "data_cols = [q_col, r_ans_col, w_ans_col]"
   ]
  },
  {
   "cell_type": "code",
   "execution_count": 26,
   "metadata": {
    "collapsed": false,
    "hidden": true,
    "run_control": {
     "frozen": false,
     "read_only": false
    }
   },
   "outputs": [],
   "source": [
    "rel1_df = pd.read_csv(raw_data_dir + rel_file_1, encoding='latin-1')\n",
    "rel2_df = pd.read_csv(raw_data_dir + rel_file_2, encoding='latin-1')"
   ]
  },
  {
   "cell_type": "code",
   "execution_count": 27,
   "metadata": {
    "collapsed": false,
    "hidden": true,
    "run_control": {
     "frozen": false,
     "read_only": false
    }
   },
   "outputs": [],
   "source": [
    "desc_df = pd.read_csv(raw_data_dir + decription_rel, encoding='latin-1')\n",
    "desc_df['diagram'] = desc_df['reference_id'].apply(lambda x: x.split('/')[-1])"
   ]
  },
  {
   "cell_type": "code",
   "execution_count": 778,
   "metadata": {
    "collapsed": false,
    "hidden": true,
    "run_control": {
     "frozen": false,
     "read_only": false
    }
   },
   "outputs": [],
   "source": [
    "%%capture\n",
    "our_desc_df = pd.read_csv('../spare5_produced_data/' + our_decription_rel, encoding='latin-1')\n",
    "ai2_written_df_completed = our_desc_df[['Topic', 'Image Path', 'Description']]\n",
    "ai2_written_df_completed['diagram'] = ai2_written_df_completed['Image Path'].apply(lambda x: x.split('/')[-1])\n",
    "ai2_written_df_completed['topic'] = ai2_written_df_completed['Topic']\n",
    "# del  ai2_written_df_completed['Topic']"
   ]
  },
  {
   "cell_type": "code",
   "execution_count": 29,
   "metadata": {
    "collapsed": false,
    "hidden": true,
    "run_control": {
     "frozen": false,
     "read_only": false
    }
   },
   "outputs": [
    {
     "data": {
      "text/plain": [
       "3    12579\n",
       "Name: wac_list, dtype: int64"
      ]
     },
     "execution_count": 29,
     "metadata": {},
     "output_type": "execute_result"
    }
   ],
   "source": [
    "dr_proc_df = rel2_df.copy()\n",
    "# dr_proc_df = rel1_df.append(rel2_df)\n",
    "\n",
    "dr_proc_df.reset_index()\n",
    "# dr_proc_df = dr_proc_df.drop('index')\n",
    "\n",
    "dr_proc_df['wac_list'] = dr_proc_df[w_ans_col].apply(lambda x: json.loads(x))\n",
    "dr_proc_df['topic'] = dr_proc_df['reference_id'].apply(lambda x: x.split('/')[-1].rsplit('_', maxsplit=1)[0])\n",
    "dr_proc_df['wac_list'].apply(lambda x: len(x)).value_counts()"
   ]
  },
  {
   "cell_type": "code",
   "execution_count": 30,
   "metadata": {
    "collapsed": false,
    "hidden": true,
    "run_control": {
     "frozen": false,
     "read_only": false
    },
    "scrolled": true
   },
   "outputs": [],
   "source": [
    "diagrams_spare5_wrote = set(desc_df['diagram'].values.tolist())\n",
    "diagrams_we_wrote = set(ai2_written_df_completed['diagram'].values.tolist())"
   ]
  },
  {
   "cell_type": "code",
   "execution_count": 31,
   "metadata": {
    "collapsed": true,
    "hidden": true,
    "run_control": {
     "frozen": false,
     "read_only": false
    }
   },
   "outputs": [],
   "source": [
    "diagrams_written_for = diagrams_spare5_wrote.union(diagrams_we_wrote)"
   ]
  },
  {
   "cell_type": "code",
   "execution_count": 32,
   "metadata": {
    "collapsed": true,
    "hidden": true,
    "run_control": {
     "frozen": false,
     "read_only": false
    }
   },
   "outputs": [
    {
     "data": {
      "text/plain": [
       "276"
      ]
     },
     "execution_count": 32,
     "metadata": {},
     "output_type": "execute_result"
    }
   ],
   "source": [
    "len(diagrams_written_for)"
   ]
  },
  {
   "cell_type": "code",
   "execution_count": 2642,
   "metadata": {
    "collapsed": true,
    "hidden": true,
    "run_control": {
     "frozen": false,
     "read_only": false
    }
   },
   "outputs": [],
   "source": [
    "# dr_proc_df[dr_proc_df['topic'] == 'parts_microscope']"
   ]
  },
  {
   "cell_type": "code",
   "execution_count": 2643,
   "metadata": {
    "collapsed": true,
    "hidden": true,
    "run_control": {
     "frozen": false,
     "read_only": false
    }
   },
   "outputs": [
    {
     "data": {
      "text/html": [
       "<div>\n",
       "<table border=\"1\" class=\"dataframe\">\n",
       "  <thead>\n",
       "    <tr style=\"text-align: right;\">\n",
       "      <th></th>\n",
       "      <th>reference_id</th>\n",
       "      <th>job_batch_id</th>\n",
       "      <th>job_id</th>\n",
       "      <th>user_id</th>\n",
       "      <th>job_user_created_at</th>\n",
       "      <th>finished_at</th>\n",
       "      <th>03_write_question</th>\n",
       "      <th>04_write_right_answer</th>\n",
       "      <th>05_write_wrong_answers</th>\n",
       "      <th>wac_list</th>\n",
       "      <th>topic</th>\n",
       "      <th>s3_uri</th>\n",
       "      <th>lesson_assigned_to</th>\n",
       "      <th>diagram</th>\n",
       "    </tr>\n",
       "  </thead>\n",
       "  <tbody>\n",
       "    <tr>\n",
       "      <th>0</th>\n",
       "      <td>https://images.spare5.com/ai2-2/aquifers/image...</td>\n",
       "      <td>901</td>\n",
       "      <td>8270800</td>\n",
       "      <td>62690</td>\n",
       "      <td>10/5/16 19:34</td>\n",
       "      <td>10/5/16 19:34</td>\n",
       "      <td>By what letter is the ASR borehole represented...</td>\n",
       "      <td>P</td>\n",
       "      <td>[\"U\",\"T\",\"R\"]</td>\n",
       "      <td>[U, T, R]</td>\n",
       "      <td>aquifers</td>\n",
       "      <td>https://s3.amazonaws.com/ai2-vision-textbook-d...</td>\n",
       "      <td>13.3 Groundwater</td>\n",
       "      <td>aquifers_16517.png</td>\n",
       "    </tr>\n",
       "    <tr>\n",
       "      <th>1</th>\n",
       "      <td>https://images.spare5.com/ai2-2/aquifers/image...</td>\n",
       "      <td>901</td>\n",
       "      <td>8270800</td>\n",
       "      <td>56457</td>\n",
       "      <td>10/5/16 19:17</td>\n",
       "      <td>10/5/16 19:34</td>\n",
       "      <td>Which Letter represents the injection bubble?</td>\n",
       "      <td>W</td>\n",
       "      <td>[\"R\",\"F\",\"A\"]</td>\n",
       "      <td>[R, F, A]</td>\n",
       "      <td>aquifers</td>\n",
       "      <td>https://s3.amazonaws.com/ai2-vision-textbook-d...</td>\n",
       "      <td>13.3 Groundwater</td>\n",
       "      <td>aquifers_16517.png</td>\n",
       "    </tr>\n",
       "    <tr>\n",
       "      <th>2</th>\n",
       "      <td>https://images.spare5.com/ai2-2/aquifers/image...</td>\n",
       "      <td>901</td>\n",
       "      <td>8270801</td>\n",
       "      <td>80045</td>\n",
       "      <td>10/5/16 20:20</td>\n",
       "      <td>10/5/16 20:20</td>\n",
       "      <td>Identify M</td>\n",
       "      <td>Well contaminated with sea water</td>\n",
       "      <td>[\"Major irrigation well\",\"Normal water table\",...</td>\n",
       "      <td>[Major irrigation well, Normal water table, Lo...</td>\n",
       "      <td>aquifers</td>\n",
       "      <td>https://s3.amazonaws.com/ai2-vision-textbook-d...</td>\n",
       "      <td>13.3 Groundwater</td>\n",
       "      <td>aquifers_16522.png</td>\n",
       "    </tr>\n",
       "    <tr>\n",
       "      <th>3</th>\n",
       "      <td>https://images.spare5.com/ai2-2/aquifers/image...</td>\n",
       "      <td>901</td>\n",
       "      <td>8270801</td>\n",
       "      <td>77101</td>\n",
       "      <td>10/5/16 18:16</td>\n",
       "      <td>10/5/16 20:20</td>\n",
       "      <td>Which letter represents the Normal interface?</td>\n",
       "      <td>K</td>\n",
       "      <td>[\"R\",\"Y\",\"F\"]</td>\n",
       "      <td>[R, Y, F]</td>\n",
       "      <td>aquifers</td>\n",
       "      <td>https://s3.amazonaws.com/ai2-vision-textbook-d...</td>\n",
       "      <td>13.3 Groundwater</td>\n",
       "      <td>aquifers_16522.png</td>\n",
       "    </tr>\n",
       "    <tr>\n",
       "      <th>4</th>\n",
       "      <td>https://images.spare5.com/ai2-2/aquifers/image...</td>\n",
       "      <td>906</td>\n",
       "      <td>8271529</td>\n",
       "      <td>40386</td>\n",
       "      <td>10/5/16 22:33</td>\n",
       "      <td>NaN</td>\n",
       "      <td>Which label represents a well contaminated wit...</td>\n",
       "      <td>M</td>\n",
       "      <td>[\"X\",\"H\",\"J\"]</td>\n",
       "      <td>[X, H, J]</td>\n",
       "      <td>aquifers</td>\n",
       "      <td>https://s3.amazonaws.com/ai2-vision-textbook-d...</td>\n",
       "      <td>13.3 Groundwater</td>\n",
       "      <td>aquifers_16522.png</td>\n",
       "    </tr>\n",
       "    <tr>\n",
       "      <th>5</th>\n",
       "      <td>https://images.spare5.com/ai2-2/aquifers/image...</td>\n",
       "      <td>901</td>\n",
       "      <td>8270802</td>\n",
       "      <td>80161</td>\n",
       "      <td>10/5/16 18:55</td>\n",
       "      <td>10/5/16 19:12</td>\n",
       "      <td>What is represented by label N?</td>\n",
       "      <td>Saturation level</td>\n",
       "      <td>[\"Pervious Strata\",\"Impervious Strata\",\"Artesi...</td>\n",
       "      <td>[Pervious Strata, Impervious Strata, Artesian ...</td>\n",
       "      <td>aquifers</td>\n",
       "      <td>https://s3.amazonaws.com/ai2-vision-textbook-d...</td>\n",
       "      <td>13.3 Groundwater</td>\n",
       "      <td>aquifers_16530.png</td>\n",
       "    </tr>\n",
       "    <tr>\n",
       "      <th>6</th>\n",
       "      <td>https://images.spare5.com/ai2-2/aquifers/image...</td>\n",
       "      <td>901</td>\n",
       "      <td>8270802</td>\n",
       "      <td>55568</td>\n",
       "      <td>10/5/16 19:12</td>\n",
       "      <td>10/5/16 19:12</td>\n",
       "      <td>Which label shows the Artesian Well?</td>\n",
       "      <td>D</td>\n",
       "      <td>[\"N\",\"L\",\"K\"]</td>\n",
       "      <td>[N, L, K]</td>\n",
       "      <td>aquifers</td>\n",
       "      <td>https://s3.amazonaws.com/ai2-vision-textbook-d...</td>\n",
       "      <td>13.3 Groundwater</td>\n",
       "      <td>aquifers_16530.png</td>\n",
       "    </tr>\n",
       "    <tr>\n",
       "      <th>7</th>\n",
       "      <td>https://images.spare5.com/ai2-2/aquifers/image...</td>\n",
       "      <td>908</td>\n",
       "      <td>8272260</td>\n",
       "      <td>78711</td>\n",
       "      <td>10/5/16 21:37</td>\n",
       "      <td>10/5/16 21:37</td>\n",
       "      <td>The top of an artesian well is located below w...</td>\n",
       "      <td>N</td>\n",
       "      <td>[\"L\",\"K\",\"D\"]</td>\n",
       "      <td>[L, K, D]</td>\n",
       "      <td>aquifers</td>\n",
       "      <td>https://s3.amazonaws.com/ai2-vision-textbook-d...</td>\n",
       "      <td>13.3 Groundwater</td>\n",
       "      <td>aquifers_16530.png</td>\n",
       "    </tr>\n",
       "    <tr>\n",
       "      <th>8</th>\n",
       "      <td>https://images.spare5.com/ai2-2/aquifers/image...</td>\n",
       "      <td>908</td>\n",
       "      <td>8272260</td>\n",
       "      <td>73555</td>\n",
       "      <td>10/5/16 19:31</td>\n",
       "      <td>10/5/16 21:37</td>\n",
       "      <td>Which label represents water?</td>\n",
       "      <td>L</td>\n",
       "      <td>[\"K\",\"N\",\"D\"]</td>\n",
       "      <td>[K, N, D]</td>\n",
       "      <td>aquifers</td>\n",
       "      <td>https://s3.amazonaws.com/ai2-vision-textbook-d...</td>\n",
       "      <td>13.3 Groundwater</td>\n",
       "      <td>aquifers_16530.png</td>\n",
       "    </tr>\n",
       "    <tr>\n",
       "      <th>9</th>\n",
       "      <td>https://images.spare5.com/ai2-2/aquifers/image...</td>\n",
       "      <td>901</td>\n",
       "      <td>8270803</td>\n",
       "      <td>77101</td>\n",
       "      <td>10/5/16 17:22</td>\n",
       "      <td>10/5/16 18:13</td>\n",
       "      <td>What is the part of the diagram represented wi...</td>\n",
       "      <td>Flowing Artesian Well</td>\n",
       "      <td>[\"Water table well\",\"Confined aquifer \",\"Uncon...</td>\n",
       "      <td>[Water table well, Confined aquifer , Unconfin...</td>\n",
       "      <td>aquifers</td>\n",
       "      <td>https://s3.amazonaws.com/ai2-vision-textbook-d...</td>\n",
       "      <td>13.3 Groundwater</td>\n",
       "      <td>aquifers_16532.png</td>\n",
       "    </tr>\n",
       "    <tr>\n",
       "      <th>10</th>\n",
       "      <td>https://images.spare5.com/ai2-2/aquifers/image...</td>\n",
       "      <td>901</td>\n",
       "      <td>8270803</td>\n",
       "      <td>77786</td>\n",
       "      <td>10/5/16 18:13</td>\n",
       "      <td>10/5/16 18:13</td>\n",
       "      <td>Which label shows the artesian well?</td>\n",
       "      <td>P</td>\n",
       "      <td>[\"F\",\"K\",\"T\"]</td>\n",
       "      <td>[F, K, T]</td>\n",
       "      <td>aquifers</td>\n",
       "      <td>https://s3.amazonaws.com/ai2-vision-textbook-d...</td>\n",
       "      <td>13.3 Groundwater</td>\n",
       "      <td>aquifers_16532.png</td>\n",
       "    </tr>\n",
       "    <tr>\n",
       "      <th>11</th>\n",
       "      <td>https://images.spare5.com/ai2-2/aquifers/image...</td>\n",
       "      <td>901</td>\n",
       "      <td>8270804</td>\n",
       "      <td>73719</td>\n",
       "      <td>10/5/16 18:13</td>\n",
       "      <td>10/5/16 19:00</td>\n",
       "      <td>How is the sun labeled in the diagram?</td>\n",
       "      <td>X</td>\n",
       "      <td>[\"T\",\"C\",\"U\"]</td>\n",
       "      <td>[T, C, U]</td>\n",
       "      <td>aquifers</td>\n",
       "      <td>https://s3.amazonaws.com/ai2-vision-textbook-d...</td>\n",
       "      <td>13.3 Groundwater</td>\n",
       "      <td>aquifers_16962.png</td>\n",
       "    </tr>\n",
       "    <tr>\n",
       "      <th>12</th>\n",
       "      <td>https://images.spare5.com/ai2-2/aquifers/image...</td>\n",
       "      <td>901</td>\n",
       "      <td>8270804</td>\n",
       "      <td>71737</td>\n",
       "      <td>10/5/16 19:00</td>\n",
       "      <td>10/5/16 19:00</td>\n",
       "      <td>Identify the source of energy in this picture.</td>\n",
       "      <td>T</td>\n",
       "      <td>[\"C\",\"E\",\"R\"]</td>\n",
       "      <td>[C, E, R]</td>\n",
       "      <td>aquifers</td>\n",
       "      <td>https://s3.amazonaws.com/ai2-vision-textbook-d...</td>\n",
       "      <td>13.3 Groundwater</td>\n",
       "      <td>aquifers_16962.png</td>\n",
       "    </tr>\n",
       "    <tr>\n",
       "      <th>13</th>\n",
       "      <td>https://images.spare5.com/ai2-2/blastocyst/ima...</td>\n",
       "      <td>901</td>\n",
       "      <td>8270805</td>\n",
       "      <td>80161</td>\n",
       "      <td>10/5/16 19:15</td>\n",
       "      <td>10/5/16 20:14</td>\n",
       "      <td>What stage is considered the blastocyst?</td>\n",
       "      <td>J</td>\n",
       "      <td>[\"Y\",\"E\",\"H\"]</td>\n",
       "      <td>[Y, E, H]</td>\n",
       "      <td>blastocyst</td>\n",
       "      <td>https://s3.amazonaws.com/ai2-vision-textbook-d...</td>\n",
       "      <td>22.3 Reproduction and Life Stages</td>\n",
       "      <td>blastocyst_19024.png</td>\n",
       "    </tr>\n",
       "    <tr>\n",
       "      <th>14</th>\n",
       "      <td>https://images.spare5.com/ai2-2/blastocyst/ima...</td>\n",
       "      <td>901</td>\n",
       "      <td>8270806</td>\n",
       "      <td>77101</td>\n",
       "      <td>10/5/16 21:08</td>\n",
       "      <td>10/5/16 21:08</td>\n",
       "      <td>Which letter represents the 4-cell stage?</td>\n",
       "      <td>V</td>\n",
       "      <td>[\"R\",\"Y\",\"H\"]</td>\n",
       "      <td>[R, Y, H]</td>\n",
       "      <td>blastocyst</td>\n",
       "      <td>https://s3.amazonaws.com/ai2-vision-textbook-d...</td>\n",
       "      <td>22.3 Reproduction and Life Stages</td>\n",
       "      <td>blastocyst_19025.png</td>\n",
       "    </tr>\n",
       "    <tr>\n",
       "      <th>15</th>\n",
       "      <td>https://images.spare5.com/ai2-2/blastocyst/ima...</td>\n",
       "      <td>906</td>\n",
       "      <td>8271534</td>\n",
       "      <td>79561</td>\n",
       "      <td>10/5/16 21:41</td>\n",
       "      <td>NaN</td>\n",
       "      <td>what is the 4-cell stage?</td>\n",
       "      <td>V</td>\n",
       "      <td>[\"X\",\"R\",\"Y\"]</td>\n",
       "      <td>[X, R, Y]</td>\n",
       "      <td>blastocyst</td>\n",
       "      <td>https://s3.amazonaws.com/ai2-vision-textbook-d...</td>\n",
       "      <td>22.3 Reproduction and Life Stages</td>\n",
       "      <td>blastocyst_19025.png</td>\n",
       "    </tr>\n",
       "    <tr>\n",
       "      <th>16</th>\n",
       "      <td>https://images.spare5.com/ai2-2/blastocyst/ima...</td>\n",
       "      <td>908</td>\n",
       "      <td>8272264</td>\n",
       "      <td>8791</td>\n",
       "      <td>10/5/16 18:58</td>\n",
       "      <td>NaN</td>\n",
       "      <td>Where is the two cell stage?</td>\n",
       "      <td>h</td>\n",
       "      <td>[\"x\",\"v\",\"r\"]</td>\n",
       "      <td>[x, v, r]</td>\n",
       "      <td>blastocyst</td>\n",
       "      <td>https://s3.amazonaws.com/ai2-vision-textbook-d...</td>\n",
       "      <td>22.3 Reproduction and Life Stages</td>\n",
       "      <td>blastocyst_19025.png</td>\n",
       "    </tr>\n",
       "    <tr>\n",
       "      <th>17</th>\n",
       "      <td>https://images.spare5.com/ai2-2/blastocyst/ima...</td>\n",
       "      <td>901</td>\n",
       "      <td>8270807</td>\n",
       "      <td>80161</td>\n",
       "      <td>10/5/16 19:24</td>\n",
       "      <td>10/5/16 19:24</td>\n",
       "      <td>What is represented by the label V?</td>\n",
       "      <td>Trophoblast Sphere</td>\n",
       "      <td>[\"Inner Cell Mass\",\"Blastocyst Cavity\",\"Tropho...</td>\n",
       "      <td>[Inner Cell Mass, Blastocyst Cavity, Trophobla...</td>\n",
       "      <td>blastocyst</td>\n",
       "      <td>https://s3.amazonaws.com/ai2-vision-textbook-d...</td>\n",
       "      <td>22.3 Reproduction and Life Stages</td>\n",
       "      <td>blastocyst_19027.png</td>\n",
       "    </tr>\n",
       "    <tr>\n",
       "      <th>18</th>\n",
       "      <td>https://images.spare5.com/ai2-2/blastocyst/ima...</td>\n",
       "      <td>901</td>\n",
       "      <td>8270807</td>\n",
       "      <td>70794</td>\n",
       "      <td>10/5/16 17:36</td>\n",
       "      <td>10/5/16 19:24</td>\n",
       "      <td>What is the part identified by V in the diagram?</td>\n",
       "      <td>Trophoblast sphere</td>\n",
       "      <td>[\"Blasocyst cavity\",\"Inner Cell Mass\",\"Blasoce...</td>\n",
       "      <td>[Blasocyst cavity, Inner Cell Mass, Blasocell]</td>\n",
       "      <td>blastocyst</td>\n",
       "      <td>https://s3.amazonaws.com/ai2-vision-textbook-d...</td>\n",
       "      <td>22.3 Reproduction and Life Stages</td>\n",
       "      <td>blastocyst_19027.png</td>\n",
       "    </tr>\n",
       "    <tr>\n",
       "      <th>19</th>\n",
       "      <td>https://images.spare5.com/ai2-2/blastocyst/ima...</td>\n",
       "      <td>906</td>\n",
       "      <td>8271535</td>\n",
       "      <td>55568</td>\n",
       "      <td>10/5/16 20:59</td>\n",
       "      <td>NaN</td>\n",
       "      <td>Which letter represents the Inner Cell Mass?</td>\n",
       "      <td>R</td>\n",
       "      <td>[\"V\",\"D\",\"None\"]</td>\n",
       "      <td>[V, D, None]</td>\n",
       "      <td>blastocyst</td>\n",
       "      <td>https://s3.amazonaws.com/ai2-vision-textbook-d...</td>\n",
       "      <td>22.3 Reproduction and Life Stages</td>\n",
       "      <td>blastocyst_19027.png</td>\n",
       "    </tr>\n",
       "    <tr>\n",
       "      <th>20</th>\n",
       "      <td>https://images.spare5.com/ai2-2/blastocyst/ima...</td>\n",
       "      <td>908</td>\n",
       "      <td>8272265</td>\n",
       "      <td>75432</td>\n",
       "      <td>10/5/16 22:49</td>\n",
       "      <td>NaN</td>\n",
       "      <td>What is located between inner cell mass and tr...</td>\n",
       "      <td>Blastocyst cavity</td>\n",
       "      <td>[\"Mitosis\",\"Embryoblast\",\"Cavity\"]</td>\n",
       "      <td>[Mitosis, Embryoblast, Cavity]</td>\n",
       "      <td>blastocyst</td>\n",
       "      <td>https://s3.amazonaws.com/ai2-vision-textbook-d...</td>\n",
       "      <td>22.3 Reproduction and Life Stages</td>\n",
       "      <td>blastocyst_19027.png</td>\n",
       "    </tr>\n",
       "    <tr>\n",
       "      <th>21</th>\n",
       "      <td>https://images.spare5.com/ai2-2/blastocyst/ima...</td>\n",
       "      <td>901</td>\n",
       "      <td>8270808</td>\n",
       "      <td>45509</td>\n",
       "      <td>10/5/16 20:11</td>\n",
       "      <td>10/5/16 20:11</td>\n",
       "      <td>Which label indicates the trophoblast of the b...</td>\n",
       "      <td>N</td>\n",
       "      <td>[\"L\",\"T\",\"P\"]</td>\n",
       "      <td>[L, T, P]</td>\n",
       "      <td>blastocyst</td>\n",
       "      <td>https://s3.amazonaws.com/ai2-vision-textbook-d...</td>\n",
       "      <td>22.3 Reproduction and Life Stages</td>\n",
       "      <td>blastocyst_19029.png</td>\n",
       "    </tr>\n",
       "    <tr>\n",
       "      <th>22</th>\n",
       "      <td>https://images.spare5.com/ai2-2/blastocyst/ima...</td>\n",
       "      <td>901</td>\n",
       "      <td>8270808</td>\n",
       "      <td>73232</td>\n",
       "      <td>10/5/16 19:06</td>\n",
       "      <td>10/5/16 20:11</td>\n",
       "      <td>Which label shows the trophoblast?</td>\n",
       "      <td>N</td>\n",
       "      <td>[\"T\",\"L\",\"L&amp;N\"]</td>\n",
       "      <td>[T, L, L&amp;N]</td>\n",
       "      <td>blastocyst</td>\n",
       "      <td>https://s3.amazonaws.com/ai2-vision-textbook-d...</td>\n",
       "      <td>22.3 Reproduction and Life Stages</td>\n",
       "      <td>blastocyst_19029.png</td>\n",
       "    </tr>\n",
       "    <tr>\n",
       "      <th>23</th>\n",
       "      <td>https://images.spare5.com/ai2-2/blastocyst/ima...</td>\n",
       "      <td>901</td>\n",
       "      <td>8270809</td>\n",
       "      <td>45509</td>\n",
       "      <td>10/5/16 20:10</td>\n",
       "      <td>10/5/16 20:10</td>\n",
       "      <td>Which label indicates the 2-cell stage in the ...</td>\n",
       "      <td>J</td>\n",
       "      <td>[\"E\",\"L\",\"W\"]</td>\n",
       "      <td>[E, L, W]</td>\n",
       "      <td>blastocyst</td>\n",
       "      <td>https://s3.amazonaws.com/ai2-vision-textbook-d...</td>\n",
       "      <td>22.3 Reproduction and Life Stages</td>\n",
       "      <td>blastocyst_19030.png</td>\n",
       "    </tr>\n",
       "    <tr>\n",
       "      <th>24</th>\n",
       "      <td>https://images.spare5.com/ai2-2/blastocyst/ima...</td>\n",
       "      <td>901</td>\n",
       "      <td>8270809</td>\n",
       "      <td>34237</td>\n",
       "      <td>10/5/16 17:11</td>\n",
       "      <td>10/5/16 20:10</td>\n",
       "      <td>Will label refers to the Morula?</td>\n",
       "      <td>W</td>\n",
       "      <td>[\"P\",\"E\",\"A\"]</td>\n",
       "      <td>[P, E, A]</td>\n",
       "      <td>blastocyst</td>\n",
       "      <td>https://s3.amazonaws.com/ai2-vision-textbook-d...</td>\n",
       "      <td>22.3 Reproduction and Life Stages</td>\n",
       "      <td>blastocyst_19030.png</td>\n",
       "    </tr>\n",
       "    <tr>\n",
       "      <th>25</th>\n",
       "      <td>https://images.spare5.com/ai2-2/blastocyst/ima...</td>\n",
       "      <td>901</td>\n",
       "      <td>8270810</td>\n",
       "      <td>54944</td>\n",
       "      <td>10/5/16 18:13</td>\n",
       "      <td>10/5/16 18:13</td>\n",
       "      <td>Can you identify the blastocyst cavity?</td>\n",
       "      <td>E</td>\n",
       "      <td>[\"P\",\"M\",\"E\"]</td>\n",
       "      <td>[P, M, E]</td>\n",
       "      <td>blastocyst</td>\n",
       "      <td>https://s3.amazonaws.com/ai2-vision-textbook-d...</td>\n",
       "      <td>22.3 Reproduction and Life Stages</td>\n",
       "      <td>blastocyst_19033.png</td>\n",
       "    </tr>\n",
       "    <tr>\n",
       "      <th>26</th>\n",
       "      <td>https://images.spare5.com/ai2-2/blastocyst/ima...</td>\n",
       "      <td>901</td>\n",
       "      <td>8270810</td>\n",
       "      <td>34237</td>\n",
       "      <td>10/5/16 17:16</td>\n",
       "      <td>10/5/16 18:13</td>\n",
       "      <td>Where is the endometrium?</td>\n",
       "      <td>P</td>\n",
       "      <td>[\"M\",\"U\",\"E\"]</td>\n",
       "      <td>[M, U, E]</td>\n",
       "      <td>blastocyst</td>\n",
       "      <td>https://s3.amazonaws.com/ai2-vision-textbook-d...</td>\n",
       "      <td>22.3 Reproduction and Life Stages</td>\n",
       "      <td>blastocyst_19033.png</td>\n",
       "    </tr>\n",
       "    <tr>\n",
       "      <th>27</th>\n",
       "      <td>https://images.spare5.com/ai2-2/cell_division/...</td>\n",
       "      <td>901</td>\n",
       "      <td>8270811</td>\n",
       "      <td>73810</td>\n",
       "      <td>10/5/16 20:04</td>\n",
       "      <td>10/5/16 20:10</td>\n",
       "      <td>What is the haplotype of the cells in letter R?</td>\n",
       "      <td>4n</td>\n",
       "      <td>[\"2n\",\"n\",\"3n\"]</td>\n",
       "      <td>[2n, n, 3n]</td>\n",
       "      <td>cell_division</td>\n",
       "      <td>https://s3.amazonaws.com/ai2-vision-textbook-d...</td>\n",
       "      <td>5.1 Cell Division</td>\n",
       "      <td>cell_division_16617.png</td>\n",
       "    </tr>\n",
       "    <tr>\n",
       "      <th>28</th>\n",
       "      <td>https://images.spare5.com/ai2-2/cell_division/...</td>\n",
       "      <td>908</td>\n",
       "      <td>8272269</td>\n",
       "      <td>8791</td>\n",
       "      <td>10/5/16 18:52</td>\n",
       "      <td>10/5/16 20:42</td>\n",
       "      <td>Can you see the mother cell?</td>\n",
       "      <td>yes</td>\n",
       "      <td>[\"f\",\"j\",\"t\"]</td>\n",
       "      <td>[f, j, t]</td>\n",
       "      <td>cell_division</td>\n",
       "      <td>https://s3.amazonaws.com/ai2-vision-textbook-d...</td>\n",
       "      <td>5.1 Cell Division</td>\n",
       "      <td>cell_division_16617.png</td>\n",
       "    </tr>\n",
       "    <tr>\n",
       "      <th>29</th>\n",
       "      <td>https://images.spare5.com/ai2-2/cell_division/...</td>\n",
       "      <td>901</td>\n",
       "      <td>8270813</td>\n",
       "      <td>73810</td>\n",
       "      <td>10/5/16 19:52</td>\n",
       "      <td>10/5/16 19:52</td>\n",
       "      <td>Identify Metaphase I.</td>\n",
       "      <td>L</td>\n",
       "      <td>[\"H\",\"M\",\"U\"]</td>\n",
       "      <td>[H, M, U]</td>\n",
       "      <td>cell_division</td>\n",
       "      <td>https://s3.amazonaws.com/ai2-vision-textbook-d...</td>\n",
       "      <td>5.1 Cell Division</td>\n",
       "      <td>cell_division_19037.png</td>\n",
       "    </tr>\n",
       "    <tr>\n",
       "      <th>...</th>\n",
       "      <td>...</td>\n",
       "      <td>...</td>\n",
       "      <td>...</td>\n",
       "      <td>...</td>\n",
       "      <td>...</td>\n",
       "      <td>...</td>\n",
       "      <td>...</td>\n",
       "      <td>...</td>\n",
       "      <td>...</td>\n",
       "      <td>...</td>\n",
       "      <td>...</td>\n",
       "      <td>...</td>\n",
       "      <td>...</td>\n",
       "      <td>...</td>\n",
       "    </tr>\n",
       "    <tr>\n",
       "      <th>12549</th>\n",
       "      <td>https://images.spare5.com/ai2/waves/images/wav...</td>\n",
       "      <td>908</td>\n",
       "      <td>8177765</td>\n",
       "      <td>40386</td>\n",
       "      <td>10/4/16 23:26</td>\n",
       "      <td>10/4/16 23:26</td>\n",
       "      <td>According to the diagram, how is this curve's ...</td>\n",
       "      <td>From one wave crest to the next one</td>\n",
       "      <td>[\"The amplitude\",\"The wave height\",\"From wave ...</td>\n",
       "      <td>[The amplitude, The wave height, From wave tro...</td>\n",
       "      <td>waves</td>\n",
       "      <td>https://s3.amazonaws.com/ai2-vision-textbook-d...</td>\n",
       "      <td>19.2 Measuring Waves</td>\n",
       "      <td>waves_9289.png</td>\n",
       "    </tr>\n",
       "    <tr>\n",
       "      <th>12550</th>\n",
       "      <td>https://images.spare5.com/ai2/waves/images/wav...</td>\n",
       "      <td>908</td>\n",
       "      <td>8177765</td>\n",
       "      <td>76543</td>\n",
       "      <td>10/4/16 12:48</td>\n",
       "      <td>10/4/16 23:26</td>\n",
       "      <td>Where is a wave trough located?</td>\n",
       "      <td>At the bottom of the wave height.</td>\n",
       "      <td>[\"At the top of the wave height.\",\"At the bott...</td>\n",
       "      <td>[At the top of the wave height., At the bottom...</td>\n",
       "      <td>waves</td>\n",
       "      <td>https://s3.amazonaws.com/ai2-vision-textbook-d...</td>\n",
       "      <td>19.2 Measuring Waves</td>\n",
       "      <td>waves_9289.png</td>\n",
       "    </tr>\n",
       "    <tr>\n",
       "      <th>12551</th>\n",
       "      <td>https://images.spare5.com/ai2/waves/images/wav...</td>\n",
       "      <td>910</td>\n",
       "      <td>8179622</td>\n",
       "      <td>74263</td>\n",
       "      <td>10/4/16 12:17</td>\n",
       "      <td>10/5/16 3:14</td>\n",
       "      <td>How many parts of an analog signal is shown in...</td>\n",
       "      <td>5</td>\n",
       "      <td>[\"3\",\"4\",\"6\"]</td>\n",
       "      <td>[3, 4, 6]</td>\n",
       "      <td>waves</td>\n",
       "      <td>https://s3.amazonaws.com/ai2-vision-textbook-d...</td>\n",
       "      <td>19.2 Measuring Waves</td>\n",
       "      <td>waves_9289.png</td>\n",
       "    </tr>\n",
       "    <tr>\n",
       "      <th>12552</th>\n",
       "      <td>https://images.spare5.com/ai2/waves/images/wav...</td>\n",
       "      <td>910</td>\n",
       "      <td>8179622</td>\n",
       "      <td>63830</td>\n",
       "      <td>10/5/16 3:14</td>\n",
       "      <td>10/5/16 3:14</td>\n",
       "      <td>How many wave crests are shown in the diagram?</td>\n",
       "      <td>4</td>\n",
       "      <td>[\"3\",\"2\",\"1\"]</td>\n",
       "      <td>[3, 2, 1]</td>\n",
       "      <td>waves</td>\n",
       "      <td>https://s3.amazonaws.com/ai2-vision-textbook-d...</td>\n",
       "      <td>19.2 Measuring Waves</td>\n",
       "      <td>waves_9289.png</td>\n",
       "    </tr>\n",
       "    <tr>\n",
       "      <th>12553</th>\n",
       "      <td>https://images.spare5.com/ai2/waves/images/wav...</td>\n",
       "      <td>913</td>\n",
       "      <td>8181472</td>\n",
       "      <td>76783</td>\n",
       "      <td>10/5/16 14:35</td>\n",
       "      <td>10/5/16 14:35</td>\n",
       "      <td>What would happen if there is a decrease in wa...</td>\n",
       "      <td>wave frequency increases</td>\n",
       "      <td>[\"wave frequency decreases\",\"wave frequency is...</td>\n",
       "      <td>[wave frequency decreases, wave frequency is h...</td>\n",
       "      <td>waves</td>\n",
       "      <td>https://s3.amazonaws.com/ai2-vision-textbook-d...</td>\n",
       "      <td>19.2 Measuring Waves</td>\n",
       "      <td>waves_9289.png</td>\n",
       "    </tr>\n",
       "    <tr>\n",
       "      <th>12554</th>\n",
       "      <td>https://images.spare5.com/ai2/waves/images/wav...</td>\n",
       "      <td>901</td>\n",
       "      <td>8173886</td>\n",
       "      <td>73988</td>\n",
       "      <td>10/4/16 14:58</td>\n",
       "      <td>10/4/16 14:58</td>\n",
       "      <td>This is the height of the wave.</td>\n",
       "      <td>Amplitude</td>\n",
       "      <td>[\"Phase\",\"Wavelength\",\"Crest\"]</td>\n",
       "      <td>[Phase, Wavelength, Crest]</td>\n",
       "      <td>waves</td>\n",
       "      <td>https://s3.amazonaws.com/ai2-vision-textbook-d...</td>\n",
       "      <td>19.2 Measuring Waves</td>\n",
       "      <td>waves_9290.png</td>\n",
       "    </tr>\n",
       "    <tr>\n",
       "      <th>12555</th>\n",
       "      <td>https://images.spare5.com/ai2/waves/images/wav...</td>\n",
       "      <td>910</td>\n",
       "      <td>8179623</td>\n",
       "      <td>75296</td>\n",
       "      <td>10/4/16 12:16</td>\n",
       "      <td>10/5/16 3:15</td>\n",
       "      <td>How many arrows can you see in the illustration?</td>\n",
       "      <td>5</td>\n",
       "      <td>[\"3\",\"4\",\"6\"]</td>\n",
       "      <td>[3, 4, 6]</td>\n",
       "      <td>waves</td>\n",
       "      <td>https://s3.amazonaws.com/ai2-vision-textbook-d...</td>\n",
       "      <td>19.2 Measuring Waves</td>\n",
       "      <td>waves_9290.png</td>\n",
       "    </tr>\n",
       "    <tr>\n",
       "      <th>12556</th>\n",
       "      <td>https://images.spare5.com/ai2/waves/images/wav...</td>\n",
       "      <td>913</td>\n",
       "      <td>8181473</td>\n",
       "      <td>58812</td>\n",
       "      <td>10/4/16 13:05</td>\n",
       "      <td>10/5/16 1:53</td>\n",
       "      <td>What is the measurement from the wave trough t...</td>\n",
       "      <td>amplitude</td>\n",
       "      <td>[\"wavelength\",\"oscillation\",\"frequency\"]</td>\n",
       "      <td>[wavelength, oscillation, frequency]</td>\n",
       "      <td>waves</td>\n",
       "      <td>https://s3.amazonaws.com/ai2-vision-textbook-d...</td>\n",
       "      <td>19.2 Measuring Waves</td>\n",
       "      <td>waves_9290.png</td>\n",
       "    </tr>\n",
       "    <tr>\n",
       "      <th>12557</th>\n",
       "      <td>https://images.spare5.com/ai2/waves/images/wav...</td>\n",
       "      <td>901</td>\n",
       "      <td>8173887</td>\n",
       "      <td>58812</td>\n",
       "      <td>10/4/16 14:58</td>\n",
       "      <td>10/4/16 14:58</td>\n",
       "      <td>Which number corresponds to amplitude?</td>\n",
       "      <td>1</td>\n",
       "      <td>[\"2\",\"3\",\"4\"]</td>\n",
       "      <td>[2, 3, 4]</td>\n",
       "      <td>waves</td>\n",
       "      <td>https://s3.amazonaws.com/ai2-vision-textbook-d...</td>\n",
       "      <td>19.2 Measuring Waves</td>\n",
       "      <td>waves_9291.png</td>\n",
       "    </tr>\n",
       "    <tr>\n",
       "      <th>12558</th>\n",
       "      <td>https://images.spare5.com/ai2/waves/images/wav...</td>\n",
       "      <td>908</td>\n",
       "      <td>8177767</td>\n",
       "      <td>76543</td>\n",
       "      <td>10/5/16 6:03</td>\n",
       "      <td>10/5/16 6:03</td>\n",
       "      <td>Which arrow shows the wave both at its highest...</td>\n",
       "      <td>2</td>\n",
       "      <td>[\"3\",\"1\",\"4\"]</td>\n",
       "      <td>[3, 1, 4]</td>\n",
       "      <td>waves</td>\n",
       "      <td>https://s3.amazonaws.com/ai2-vision-textbook-d...</td>\n",
       "      <td>19.2 Measuring Waves</td>\n",
       "      <td>waves_9291.png</td>\n",
       "    </tr>\n",
       "    <tr>\n",
       "      <th>12559</th>\n",
       "      <td>https://images.spare5.com/ai2/waves/images/wav...</td>\n",
       "      <td>910</td>\n",
       "      <td>8179624</td>\n",
       "      <td>10125</td>\n",
       "      <td>10/5/16 1:19</td>\n",
       "      <td>10/5/16 1:19</td>\n",
       "      <td>How many wave cycles are shown in this diagram?</td>\n",
       "      <td>1</td>\n",
       "      <td>[\"2\",\"3\",\"4\"]</td>\n",
       "      <td>[2, 3, 4]</td>\n",
       "      <td>waves</td>\n",
       "      <td>https://s3.amazonaws.com/ai2-vision-textbook-d...</td>\n",
       "      <td>19.2 Measuring Waves</td>\n",
       "      <td>waves_9291.png</td>\n",
       "    </tr>\n",
       "    <tr>\n",
       "      <th>12560</th>\n",
       "      <td>https://images.spare5.com/ai2/waves/images/wav...</td>\n",
       "      <td>910</td>\n",
       "      <td>8179624</td>\n",
       "      <td>39888</td>\n",
       "      <td>10/4/16 13:46</td>\n",
       "      <td>10/5/16 1:19</td>\n",
       "      <td>Which number corresponds to the amplitude of t...</td>\n",
       "      <td>1</td>\n",
       "      <td>[\"2\",\"3\",\"4\"]</td>\n",
       "      <td>[2, 3, 4]</td>\n",
       "      <td>waves</td>\n",
       "      <td>https://s3.amazonaws.com/ai2-vision-textbook-d...</td>\n",
       "      <td>19.2 Measuring Waves</td>\n",
       "      <td>waves_9291.png</td>\n",
       "    </tr>\n",
       "    <tr>\n",
       "      <th>12561</th>\n",
       "      <td>https://images.spare5.com/ai2/waves/images/wav...</td>\n",
       "      <td>913</td>\n",
       "      <td>8181474</td>\n",
       "      <td>73988</td>\n",
       "      <td>10/5/16 17:14</td>\n",
       "      <td>10/5/16 17:14</td>\n",
       "      <td>This is called the amplitude of the wave.</td>\n",
       "      <td>1</td>\n",
       "      <td>[\"2\",\"3\",\"4\"]</td>\n",
       "      <td>[2, 3, 4]</td>\n",
       "      <td>waves</td>\n",
       "      <td>https://s3.amazonaws.com/ai2-vision-textbook-d...</td>\n",
       "      <td>19.2 Measuring Waves</td>\n",
       "      <td>waves_9291.png</td>\n",
       "    </tr>\n",
       "    <tr>\n",
       "      <th>12562</th>\n",
       "      <td>https://images.spare5.com/ai2/waves/images/wav...</td>\n",
       "      <td>913</td>\n",
       "      <td>8181474</td>\n",
       "      <td>74676</td>\n",
       "      <td>10/4/16 13:24</td>\n",
       "      <td>10/5/16 17:14</td>\n",
       "      <td>Wavelength is the distance between two corresp...</td>\n",
       "      <td>wavelength</td>\n",
       "      <td>[\"amplitude\",\"crest\",\"trough\"]</td>\n",
       "      <td>[amplitude, crest, trough]</td>\n",
       "      <td>waves</td>\n",
       "      <td>https://s3.amazonaws.com/ai2-vision-textbook-d...</td>\n",
       "      <td>19.2 Measuring Waves</td>\n",
       "      <td>waves_9291.png</td>\n",
       "    </tr>\n",
       "    <tr>\n",
       "      <th>12563</th>\n",
       "      <td>https://images.spare5.com/ai2/waves/images/wav...</td>\n",
       "      <td>908</td>\n",
       "      <td>8177768</td>\n",
       "      <td>61280</td>\n",
       "      <td>10/4/16 12:47</td>\n",
       "      <td>10/5/16 0:23</td>\n",
       "      <td>From the diagram, what point comes after reach...</td>\n",
       "      <td>trough</td>\n",
       "      <td>[\"wavelength\",\"elevation\",\"amplitude\"]</td>\n",
       "      <td>[wavelength, elevation, amplitude]</td>\n",
       "      <td>waves</td>\n",
       "      <td>https://s3.amazonaws.com/ai2-vision-textbook-d...</td>\n",
       "      <td>19.2 Measuring Waves</td>\n",
       "      <td>waves_9292.png</td>\n",
       "    </tr>\n",
       "    <tr>\n",
       "      <th>12564</th>\n",
       "      <td>https://images.spare5.com/ai2/waves/images/wav...</td>\n",
       "      <td>910</td>\n",
       "      <td>8179625</td>\n",
       "      <td>61280</td>\n",
       "      <td>10/4/16 12:20</td>\n",
       "      <td>10/5/16 2:01</td>\n",
       "      <td>From the diagram, how many troughs are there?</td>\n",
       "      <td>3</td>\n",
       "      <td>[\"2\",\"4\",\"1\"]</td>\n",
       "      <td>[2, 4, 1]</td>\n",
       "      <td>waves</td>\n",
       "      <td>https://s3.amazonaws.com/ai2-vision-textbook-d...</td>\n",
       "      <td>19.2 Measuring Waves</td>\n",
       "      <td>waves_9292.png</td>\n",
       "    </tr>\n",
       "    <tr>\n",
       "      <th>12565</th>\n",
       "      <td>https://images.spare5.com/ai2/waves/images/wav...</td>\n",
       "      <td>910</td>\n",
       "      <td>8179625</td>\n",
       "      <td>54012</td>\n",
       "      <td>10/5/16 2:01</td>\n",
       "      <td>10/5/16 2:01</td>\n",
       "      <td>How many trough points are shown in the diagram?</td>\n",
       "      <td>3</td>\n",
       "      <td>[\"4\",\"2\",\"1\"]</td>\n",
       "      <td>[4, 2, 1]</td>\n",
       "      <td>waves</td>\n",
       "      <td>https://s3.amazonaws.com/ai2-vision-textbook-d...</td>\n",
       "      <td>19.2 Measuring Waves</td>\n",
       "      <td>waves_9292.png</td>\n",
       "    </tr>\n",
       "    <tr>\n",
       "      <th>12566</th>\n",
       "      <td>https://images.spare5.com/ai2/waves/images/wav...</td>\n",
       "      <td>913</td>\n",
       "      <td>8181475</td>\n",
       "      <td>55591</td>\n",
       "      <td>10/5/16 6:34</td>\n",
       "      <td>10/5/16 6:34</td>\n",
       "      <td>What is the maximum distance the particles of ...</td>\n",
       "      <td>Amplitude</td>\n",
       "      <td>[\"Crest\",\"Elevation\",\"Trough\"]</td>\n",
       "      <td>[Crest, Elevation, Trough]</td>\n",
       "      <td>waves</td>\n",
       "      <td>https://s3.amazonaws.com/ai2-vision-textbook-d...</td>\n",
       "      <td>19.2 Measuring Waves</td>\n",
       "      <td>waves_9292.png</td>\n",
       "    </tr>\n",
       "    <tr>\n",
       "      <th>12567</th>\n",
       "      <td>https://images.spare5.com/ai2/waves/images/wav...</td>\n",
       "      <td>913</td>\n",
       "      <td>8181475</td>\n",
       "      <td>58812</td>\n",
       "      <td>10/4/16 13:06</td>\n",
       "      <td>10/5/16 6:34</td>\n",
       "      <td>What is the measurement from the resting posit...</td>\n",
       "      <td>amplitude</td>\n",
       "      <td>[\"wavelength\",\"trough\",\"elevation\"]</td>\n",
       "      <td>[wavelength, trough, elevation]</td>\n",
       "      <td>waves</td>\n",
       "      <td>https://s3.amazonaws.com/ai2-vision-textbook-d...</td>\n",
       "      <td>19.2 Measuring Waves</td>\n",
       "      <td>waves_9292.png</td>\n",
       "    </tr>\n",
       "    <tr>\n",
       "      <th>12568</th>\n",
       "      <td>https://images.spare5.com/ai2/waves/images/wav...</td>\n",
       "      <td>901</td>\n",
       "      <td>8173889</td>\n",
       "      <td>6885</td>\n",
       "      <td>10/4/16 16:09</td>\n",
       "      <td>10/4/16 16:09</td>\n",
       "      <td>In the diagram, which color represents the wav...</td>\n",
       "      <td>Green</td>\n",
       "      <td>[\"Blue\",\"Red\",\"All three waves have equal wave...</td>\n",
       "      <td>[Blue, Red, All three waves have equal wavelen...</td>\n",
       "      <td>waves</td>\n",
       "      <td>https://s3.amazonaws.com/ai2-vision-textbook-d...</td>\n",
       "      <td>19.2 Measuring Waves</td>\n",
       "      <td>waves_9293.png</td>\n",
       "    </tr>\n",
       "    <tr>\n",
       "      <th>12569</th>\n",
       "      <td>https://images.spare5.com/ai2/waves/images/wav...</td>\n",
       "      <td>908</td>\n",
       "      <td>8177769</td>\n",
       "      <td>78359</td>\n",
       "      <td>10/5/16 3:44</td>\n",
       "      <td>10/5/16 3:44</td>\n",
       "      <td>What is the Trough?</td>\n",
       "      <td>-2 cm</td>\n",
       "      <td>[\"0 cm\",\"-1 cm\",\"1 cm\"]</td>\n",
       "      <td>[0 cm, -1 cm, 1 cm]</td>\n",
       "      <td>waves</td>\n",
       "      <td>https://s3.amazonaws.com/ai2-vision-textbook-d...</td>\n",
       "      <td>19.2 Measuring Waves</td>\n",
       "      <td>waves_9293.png</td>\n",
       "    </tr>\n",
       "    <tr>\n",
       "      <th>12570</th>\n",
       "      <td>https://images.spare5.com/ai2/waves/images/wav...</td>\n",
       "      <td>908</td>\n",
       "      <td>8177769</td>\n",
       "      <td>41155</td>\n",
       "      <td>10/4/16 12:49</td>\n",
       "      <td>10/5/16 3:44</td>\n",
       "      <td>What is the variance on each side of the graph?</td>\n",
       "      <td>2</td>\n",
       "      <td>[\"1\",\"8\",\"6\"]</td>\n",
       "      <td>[1, 8, 6]</td>\n",
       "      <td>waves</td>\n",
       "      <td>https://s3.amazonaws.com/ai2-vision-textbook-d...</td>\n",
       "      <td>19.2 Measuring Waves</td>\n",
       "      <td>waves_9293.png</td>\n",
       "    </tr>\n",
       "    <tr>\n",
       "      <th>12571</th>\n",
       "      <td>https://images.spare5.com/ai2/waves/images/wav...</td>\n",
       "      <td>910</td>\n",
       "      <td>8179626</td>\n",
       "      <td>68124</td>\n",
       "      <td>10/5/16 2:22</td>\n",
       "      <td>10/5/16 2:22</td>\n",
       "      <td>How many crests are found in the diagram of wa...</td>\n",
       "      <td>4</td>\n",
       "      <td>[\"1\",\"3\",\"2\"]</td>\n",
       "      <td>[1, 3, 2]</td>\n",
       "      <td>waves</td>\n",
       "      <td>https://s3.amazonaws.com/ai2-vision-textbook-d...</td>\n",
       "      <td>19.2 Measuring Waves</td>\n",
       "      <td>waves_9293.png</td>\n",
       "    </tr>\n",
       "    <tr>\n",
       "      <th>12572</th>\n",
       "      <td>https://images.spare5.com/ai2/waves/images/wav...</td>\n",
       "      <td>901</td>\n",
       "      <td>8173890</td>\n",
       "      <td>73719</td>\n",
       "      <td>10/4/16 14:59</td>\n",
       "      <td>10/4/16 14:59</td>\n",
       "      <td>What is the name of the highest part of the wave?</td>\n",
       "      <td>Crest</td>\n",
       "      <td>[\"Amplitude\",\"Trough\",\"Equilibrium\"]</td>\n",
       "      <td>[Amplitude, Trough, Equilibrium]</td>\n",
       "      <td>waves</td>\n",
       "      <td>https://s3.amazonaws.com/ai2-vision-textbook-d...</td>\n",
       "      <td>19.2 Measuring Waves</td>\n",
       "      <td>waves_9294.png</td>\n",
       "    </tr>\n",
       "    <tr>\n",
       "      <th>12573</th>\n",
       "      <td>https://images.spare5.com/ai2/waves/images/wav...</td>\n",
       "      <td>906</td>\n",
       "      <td>8175913</td>\n",
       "      <td>79561</td>\n",
       "      <td>10/4/16 18:17</td>\n",
       "      <td>10/4/16 18:17</td>\n",
       "      <td>what is the lowest part of the transverse wave...</td>\n",
       "      <td>trough</td>\n",
       "      <td>[\"crest\",\"amplitude\",\"equilibrium\"]</td>\n",
       "      <td>[crest, amplitude, equilibrium]</td>\n",
       "      <td>waves</td>\n",
       "      <td>https://s3.amazonaws.com/ai2-vision-textbook-d...</td>\n",
       "      <td>19.2 Measuring Waves</td>\n",
       "      <td>waves_9294.png</td>\n",
       "    </tr>\n",
       "    <tr>\n",
       "      <th>12574</th>\n",
       "      <td>https://images.spare5.com/ai2/waves/images/wav...</td>\n",
       "      <td>908</td>\n",
       "      <td>8177770</td>\n",
       "      <td>61280</td>\n",
       "      <td>10/4/16 12:48</td>\n",
       "      <td>10/5/16 4:12</td>\n",
       "      <td>From the diagram, after reaching the highest p...</td>\n",
       "      <td>trough</td>\n",
       "      <td>[\"amplitude\",\"wavelength\",\"wave\"]</td>\n",
       "      <td>[amplitude, wavelength, wave]</td>\n",
       "      <td>waves</td>\n",
       "      <td>https://s3.amazonaws.com/ai2-vision-textbook-d...</td>\n",
       "      <td>19.2 Measuring Waves</td>\n",
       "      <td>waves_9294.png</td>\n",
       "    </tr>\n",
       "    <tr>\n",
       "      <th>12575</th>\n",
       "      <td>https://images.spare5.com/ai2/waves/images/wav...</td>\n",
       "      <td>910</td>\n",
       "      <td>8179627</td>\n",
       "      <td>54221</td>\n",
       "      <td>10/5/16 2:50</td>\n",
       "      <td>10/5/16 2:50</td>\n",
       "      <td>how many crests are in the diagram below?</td>\n",
       "      <td>3</td>\n",
       "      <td>[\"2\",\"4\",\"6\"]</td>\n",
       "      <td>[2, 4, 6]</td>\n",
       "      <td>waves</td>\n",
       "      <td>https://s3.amazonaws.com/ai2-vision-textbook-d...</td>\n",
       "      <td>19.2 Measuring Waves</td>\n",
       "      <td>waves_9294.png</td>\n",
       "    </tr>\n",
       "    <tr>\n",
       "      <th>12576</th>\n",
       "      <td>https://images.spare5.com/ai2/waves/images/wav...</td>\n",
       "      <td>913</td>\n",
       "      <td>8181477</td>\n",
       "      <td>72623</td>\n",
       "      <td>10/4/16 14:39</td>\n",
       "      <td>10/5/16 1:34</td>\n",
       "      <td>How do you find the amplitude of a wave?</td>\n",
       "      <td>It is the height of the wave.</td>\n",
       "      <td>[\"It is the length of the wave.\",\"It is the wi...</td>\n",
       "      <td>[It is the length of the wave., It is the widt...</td>\n",
       "      <td>waves</td>\n",
       "      <td>https://s3.amazonaws.com/ai2-vision-textbook-d...</td>\n",
       "      <td>19.2 Measuring Waves</td>\n",
       "      <td>waves_9294.png</td>\n",
       "    </tr>\n",
       "    <tr>\n",
       "      <th>12577</th>\n",
       "      <td>https://images.spare5.com/ai2/waves/images/wav...</td>\n",
       "      <td>908</td>\n",
       "      <td>8177771</td>\n",
       "      <td>68124</td>\n",
       "      <td>10/4/16 12:52</td>\n",
       "      <td>10/5/16 6:06</td>\n",
       "      <td>What do you call the time required for two suc...</td>\n",
       "      <td>Wave Period</td>\n",
       "      <td>[\"Wave Amplitude\",\"Wavelength\",\"Wave Frequency\"]</td>\n",
       "      <td>[Wave Amplitude, Wavelength, Wave Frequency]</td>\n",
       "      <td>waves</td>\n",
       "      <td>https://s3.amazonaws.com/ai2-vision-textbook-d...</td>\n",
       "      <td>19.2 Measuring Waves</td>\n",
       "      <td>waves_9295.png</td>\n",
       "    </tr>\n",
       "    <tr>\n",
       "      <th>12578</th>\n",
       "      <td>https://images.spare5.com/ai2/waves/images/wav...</td>\n",
       "      <td>913</td>\n",
       "      <td>8181478</td>\n",
       "      <td>58812</td>\n",
       "      <td>10/4/16 13:08</td>\n",
       "      <td>10/5/16 9:20</td>\n",
       "      <td>What is the measurement between two sequential...</td>\n",
       "      <td>period</td>\n",
       "      <td>[\"amplitude\",\"oscillation\",\"frequency\"]</td>\n",
       "      <td>[amplitude, oscillation, frequency]</td>\n",
       "      <td>waves</td>\n",
       "      <td>https://s3.amazonaws.com/ai2-vision-textbook-d...</td>\n",
       "      <td>19.2 Measuring Waves</td>\n",
       "      <td>waves_9295.png</td>\n",
       "    </tr>\n",
       "  </tbody>\n",
       "</table>\n",
       "<p>12579 rows × 14 columns</p>\n",
       "</div>"
      ],
      "text/plain": [
       "                                            reference_id  job_batch_id  \\\n",
       "0      https://images.spare5.com/ai2-2/aquifers/image...           901   \n",
       "1      https://images.spare5.com/ai2-2/aquifers/image...           901   \n",
       "2      https://images.spare5.com/ai2-2/aquifers/image...           901   \n",
       "3      https://images.spare5.com/ai2-2/aquifers/image...           901   \n",
       "4      https://images.spare5.com/ai2-2/aquifers/image...           906   \n",
       "5      https://images.spare5.com/ai2-2/aquifers/image...           901   \n",
       "6      https://images.spare5.com/ai2-2/aquifers/image...           901   \n",
       "7      https://images.spare5.com/ai2-2/aquifers/image...           908   \n",
       "8      https://images.spare5.com/ai2-2/aquifers/image...           908   \n",
       "9      https://images.spare5.com/ai2-2/aquifers/image...           901   \n",
       "10     https://images.spare5.com/ai2-2/aquifers/image...           901   \n",
       "11     https://images.spare5.com/ai2-2/aquifers/image...           901   \n",
       "12     https://images.spare5.com/ai2-2/aquifers/image...           901   \n",
       "13     https://images.spare5.com/ai2-2/blastocyst/ima...           901   \n",
       "14     https://images.spare5.com/ai2-2/blastocyst/ima...           901   \n",
       "15     https://images.spare5.com/ai2-2/blastocyst/ima...           906   \n",
       "16     https://images.spare5.com/ai2-2/blastocyst/ima...           908   \n",
       "17     https://images.spare5.com/ai2-2/blastocyst/ima...           901   \n",
       "18     https://images.spare5.com/ai2-2/blastocyst/ima...           901   \n",
       "19     https://images.spare5.com/ai2-2/blastocyst/ima...           906   \n",
       "20     https://images.spare5.com/ai2-2/blastocyst/ima...           908   \n",
       "21     https://images.spare5.com/ai2-2/blastocyst/ima...           901   \n",
       "22     https://images.spare5.com/ai2-2/blastocyst/ima...           901   \n",
       "23     https://images.spare5.com/ai2-2/blastocyst/ima...           901   \n",
       "24     https://images.spare5.com/ai2-2/blastocyst/ima...           901   \n",
       "25     https://images.spare5.com/ai2-2/blastocyst/ima...           901   \n",
       "26     https://images.spare5.com/ai2-2/blastocyst/ima...           901   \n",
       "27     https://images.spare5.com/ai2-2/cell_division/...           901   \n",
       "28     https://images.spare5.com/ai2-2/cell_division/...           908   \n",
       "29     https://images.spare5.com/ai2-2/cell_division/...           901   \n",
       "...                                                  ...           ...   \n",
       "12549  https://images.spare5.com/ai2/waves/images/wav...           908   \n",
       "12550  https://images.spare5.com/ai2/waves/images/wav...           908   \n",
       "12551  https://images.spare5.com/ai2/waves/images/wav...           910   \n",
       "12552  https://images.spare5.com/ai2/waves/images/wav...           910   \n",
       "12553  https://images.spare5.com/ai2/waves/images/wav...           913   \n",
       "12554  https://images.spare5.com/ai2/waves/images/wav...           901   \n",
       "12555  https://images.spare5.com/ai2/waves/images/wav...           910   \n",
       "12556  https://images.spare5.com/ai2/waves/images/wav...           913   \n",
       "12557  https://images.spare5.com/ai2/waves/images/wav...           901   \n",
       "12558  https://images.spare5.com/ai2/waves/images/wav...           908   \n",
       "12559  https://images.spare5.com/ai2/waves/images/wav...           910   \n",
       "12560  https://images.spare5.com/ai2/waves/images/wav...           910   \n",
       "12561  https://images.spare5.com/ai2/waves/images/wav...           913   \n",
       "12562  https://images.spare5.com/ai2/waves/images/wav...           913   \n",
       "12563  https://images.spare5.com/ai2/waves/images/wav...           908   \n",
       "12564  https://images.spare5.com/ai2/waves/images/wav...           910   \n",
       "12565  https://images.spare5.com/ai2/waves/images/wav...           910   \n",
       "12566  https://images.spare5.com/ai2/waves/images/wav...           913   \n",
       "12567  https://images.spare5.com/ai2/waves/images/wav...           913   \n",
       "12568  https://images.spare5.com/ai2/waves/images/wav...           901   \n",
       "12569  https://images.spare5.com/ai2/waves/images/wav...           908   \n",
       "12570  https://images.spare5.com/ai2/waves/images/wav...           908   \n",
       "12571  https://images.spare5.com/ai2/waves/images/wav...           910   \n",
       "12572  https://images.spare5.com/ai2/waves/images/wav...           901   \n",
       "12573  https://images.spare5.com/ai2/waves/images/wav...           906   \n",
       "12574  https://images.spare5.com/ai2/waves/images/wav...           908   \n",
       "12575  https://images.spare5.com/ai2/waves/images/wav...           910   \n",
       "12576  https://images.spare5.com/ai2/waves/images/wav...           913   \n",
       "12577  https://images.spare5.com/ai2/waves/images/wav...           908   \n",
       "12578  https://images.spare5.com/ai2/waves/images/wav...           913   \n",
       "\n",
       "        job_id  user_id job_user_created_at    finished_at  \\\n",
       "0      8270800    62690       10/5/16 19:34  10/5/16 19:34   \n",
       "1      8270800    56457       10/5/16 19:17  10/5/16 19:34   \n",
       "2      8270801    80045       10/5/16 20:20  10/5/16 20:20   \n",
       "3      8270801    77101       10/5/16 18:16  10/5/16 20:20   \n",
       "4      8271529    40386       10/5/16 22:33            NaN   \n",
       "5      8270802    80161       10/5/16 18:55  10/5/16 19:12   \n",
       "6      8270802    55568       10/5/16 19:12  10/5/16 19:12   \n",
       "7      8272260    78711       10/5/16 21:37  10/5/16 21:37   \n",
       "8      8272260    73555       10/5/16 19:31  10/5/16 21:37   \n",
       "9      8270803    77101       10/5/16 17:22  10/5/16 18:13   \n",
       "10     8270803    77786       10/5/16 18:13  10/5/16 18:13   \n",
       "11     8270804    73719       10/5/16 18:13  10/5/16 19:00   \n",
       "12     8270804    71737       10/5/16 19:00  10/5/16 19:00   \n",
       "13     8270805    80161       10/5/16 19:15  10/5/16 20:14   \n",
       "14     8270806    77101       10/5/16 21:08  10/5/16 21:08   \n",
       "15     8271534    79561       10/5/16 21:41            NaN   \n",
       "16     8272264     8791       10/5/16 18:58            NaN   \n",
       "17     8270807    80161       10/5/16 19:24  10/5/16 19:24   \n",
       "18     8270807    70794       10/5/16 17:36  10/5/16 19:24   \n",
       "19     8271535    55568       10/5/16 20:59            NaN   \n",
       "20     8272265    75432       10/5/16 22:49            NaN   \n",
       "21     8270808    45509       10/5/16 20:11  10/5/16 20:11   \n",
       "22     8270808    73232       10/5/16 19:06  10/5/16 20:11   \n",
       "23     8270809    45509       10/5/16 20:10  10/5/16 20:10   \n",
       "24     8270809    34237       10/5/16 17:11  10/5/16 20:10   \n",
       "25     8270810    54944       10/5/16 18:13  10/5/16 18:13   \n",
       "26     8270810    34237       10/5/16 17:16  10/5/16 18:13   \n",
       "27     8270811    73810       10/5/16 20:04  10/5/16 20:10   \n",
       "28     8272269     8791       10/5/16 18:52  10/5/16 20:42   \n",
       "29     8270813    73810       10/5/16 19:52  10/5/16 19:52   \n",
       "...        ...      ...                 ...            ...   \n",
       "12549  8177765    40386       10/4/16 23:26  10/4/16 23:26   \n",
       "12550  8177765    76543       10/4/16 12:48  10/4/16 23:26   \n",
       "12551  8179622    74263       10/4/16 12:17   10/5/16 3:14   \n",
       "12552  8179622    63830        10/5/16 3:14   10/5/16 3:14   \n",
       "12553  8181472    76783       10/5/16 14:35  10/5/16 14:35   \n",
       "12554  8173886    73988       10/4/16 14:58  10/4/16 14:58   \n",
       "12555  8179623    75296       10/4/16 12:16   10/5/16 3:15   \n",
       "12556  8181473    58812       10/4/16 13:05   10/5/16 1:53   \n",
       "12557  8173887    58812       10/4/16 14:58  10/4/16 14:58   \n",
       "12558  8177767    76543        10/5/16 6:03   10/5/16 6:03   \n",
       "12559  8179624    10125        10/5/16 1:19   10/5/16 1:19   \n",
       "12560  8179624    39888       10/4/16 13:46   10/5/16 1:19   \n",
       "12561  8181474    73988       10/5/16 17:14  10/5/16 17:14   \n",
       "12562  8181474    74676       10/4/16 13:24  10/5/16 17:14   \n",
       "12563  8177768    61280       10/4/16 12:47   10/5/16 0:23   \n",
       "12564  8179625    61280       10/4/16 12:20   10/5/16 2:01   \n",
       "12565  8179625    54012        10/5/16 2:01   10/5/16 2:01   \n",
       "12566  8181475    55591        10/5/16 6:34   10/5/16 6:34   \n",
       "12567  8181475    58812       10/4/16 13:06   10/5/16 6:34   \n",
       "12568  8173889     6885       10/4/16 16:09  10/4/16 16:09   \n",
       "12569  8177769    78359        10/5/16 3:44   10/5/16 3:44   \n",
       "12570  8177769    41155       10/4/16 12:49   10/5/16 3:44   \n",
       "12571  8179626    68124        10/5/16 2:22   10/5/16 2:22   \n",
       "12572  8173890    73719       10/4/16 14:59  10/4/16 14:59   \n",
       "12573  8175913    79561       10/4/16 18:17  10/4/16 18:17   \n",
       "12574  8177770    61280       10/4/16 12:48   10/5/16 4:12   \n",
       "12575  8179627    54221        10/5/16 2:50   10/5/16 2:50   \n",
       "12576  8181477    72623       10/4/16 14:39   10/5/16 1:34   \n",
       "12577  8177771    68124       10/4/16 12:52   10/5/16 6:06   \n",
       "12578  8181478    58812       10/4/16 13:08   10/5/16 9:20   \n",
       "\n",
       "                                       03_write_question  \\\n",
       "0      By what letter is the ASR borehole represented...   \n",
       "1          Which Letter represents the injection bubble?   \n",
       "2                                             Identify M   \n",
       "3          Which letter represents the Normal interface?   \n",
       "4      Which label represents a well contaminated wit...   \n",
       "5                        What is represented by label N?   \n",
       "6                   Which label shows the Artesian Well?   \n",
       "7      The top of an artesian well is located below w...   \n",
       "8                          Which label represents water?   \n",
       "9      What is the part of the diagram represented wi...   \n",
       "10                  Which label shows the artesian well?   \n",
       "11                How is the sun labeled in the diagram?   \n",
       "12        Identify the source of energy in this picture.   \n",
       "13              What stage is considered the blastocyst?   \n",
       "14             Which letter represents the 4-cell stage?   \n",
       "15                             what is the 4-cell stage?   \n",
       "16                          Where is the two cell stage?   \n",
       "17                   What is represented by the label V?   \n",
       "18      What is the part identified by V in the diagram?   \n",
       "19          Which letter represents the Inner Cell Mass?   \n",
       "20     What is located between inner cell mass and tr...   \n",
       "21     Which label indicates the trophoblast of the b...   \n",
       "22                    Which label shows the trophoblast?   \n",
       "23     Which label indicates the 2-cell stage in the ...   \n",
       "24                      Will label refers to the Morula?   \n",
       "25               Can you identify the blastocyst cavity?   \n",
       "26                             Where is the endometrium?   \n",
       "27       What is the haplotype of the cells in letter R?   \n",
       "28                          Can you see the mother cell?   \n",
       "29                                 Identify Metaphase I.   \n",
       "...                                                  ...   \n",
       "12549  According to the diagram, how is this curve's ...   \n",
       "12550                    Where is a wave trough located?   \n",
       "12551  How many parts of an analog signal is shown in...   \n",
       "12552     How many wave crests are shown in the diagram?   \n",
       "12553  What would happen if there is a decrease in wa...   \n",
       "12554                    This is the height of the wave.   \n",
       "12555   How many arrows can you see in the illustration?   \n",
       "12556  What is the measurement from the wave trough t...   \n",
       "12557             Which number corresponds to amplitude?   \n",
       "12558  Which arrow shows the wave both at its highest...   \n",
       "12559    How many wave cycles are shown in this diagram?   \n",
       "12560  Which number corresponds to the amplitude of t...   \n",
       "12561          This is called the amplitude of the wave.   \n",
       "12562  Wavelength is the distance between two corresp...   \n",
       "12563  From the diagram, what point comes after reach...   \n",
       "12564      From the diagram, how many troughs are there?   \n",
       "12565   How many trough points are shown in the diagram?   \n",
       "12566  What is the maximum distance the particles of ...   \n",
       "12567  What is the measurement from the resting posit...   \n",
       "12568  In the diagram, which color represents the wav...   \n",
       "12569                                What is the Trough?   \n",
       "12570    What is the variance on each side of the graph?   \n",
       "12571  How many crests are found in the diagram of wa...   \n",
       "12572  What is the name of the highest part of the wave?   \n",
       "12573  what is the lowest part of the transverse wave...   \n",
       "12574  From the diagram, after reaching the highest p...   \n",
       "12575          how many crests are in the diagram below?   \n",
       "12576           How do you find the amplitude of a wave?   \n",
       "12577  What do you call the time required for two suc...   \n",
       "12578  What is the measurement between two sequential...   \n",
       "\n",
       "                     04_write_right_answer  \\\n",
       "0                                        P   \n",
       "1                                        W   \n",
       "2         Well contaminated with sea water   \n",
       "3                                        K   \n",
       "4                                        M   \n",
       "5                         Saturation level   \n",
       "6                                        D   \n",
       "7                                        N   \n",
       "8                                        L   \n",
       "9                    Flowing Artesian Well   \n",
       "10                                       P   \n",
       "11                                       X   \n",
       "12                                       T   \n",
       "13                                       J   \n",
       "14                                       V   \n",
       "15                                       V   \n",
       "16                                       h   \n",
       "17                      Trophoblast Sphere   \n",
       "18                      Trophoblast sphere   \n",
       "19                                       R   \n",
       "20                       Blastocyst cavity   \n",
       "21                                       N   \n",
       "22                                       N   \n",
       "23                                       J   \n",
       "24                                       W   \n",
       "25                                       E   \n",
       "26                                       P   \n",
       "27                                      4n   \n",
       "28                                     yes   \n",
       "29                                       L   \n",
       "...                                    ...   \n",
       "12549  From one wave crest to the next one   \n",
       "12550    At the bottom of the wave height.   \n",
       "12551                                    5   \n",
       "12552                                    4   \n",
       "12553             wave frequency increases   \n",
       "12554                            Amplitude   \n",
       "12555                                    5   \n",
       "12556                            amplitude   \n",
       "12557                                    1   \n",
       "12558                                    2   \n",
       "12559                                    1   \n",
       "12560                                    1   \n",
       "12561                                    1   \n",
       "12562                           wavelength   \n",
       "12563                               trough   \n",
       "12564                                    3   \n",
       "12565                                    3   \n",
       "12566                            Amplitude   \n",
       "12567                            amplitude   \n",
       "12568                                Green   \n",
       "12569                                -2 cm   \n",
       "12570                                    2   \n",
       "12571                                    4   \n",
       "12572                                Crest   \n",
       "12573                               trough   \n",
       "12574                               trough   \n",
       "12575                                    3   \n",
       "12576        It is the height of the wave.   \n",
       "12577                          Wave Period   \n",
       "12578                               period   \n",
       "\n",
       "                                  05_write_wrong_answers  \\\n",
       "0                                          [\"U\",\"T\",\"R\"]   \n",
       "1                                          [\"R\",\"F\",\"A\"]   \n",
       "2      [\"Major irrigation well\",\"Normal water table\",...   \n",
       "3                                          [\"R\",\"Y\",\"F\"]   \n",
       "4                                          [\"X\",\"H\",\"J\"]   \n",
       "5      [\"Pervious Strata\",\"Impervious Strata\",\"Artesi...   \n",
       "6                                          [\"N\",\"L\",\"K\"]   \n",
       "7                                          [\"L\",\"K\",\"D\"]   \n",
       "8                                          [\"K\",\"N\",\"D\"]   \n",
       "9      [\"Water table well\",\"Confined aquifer \",\"Uncon...   \n",
       "10                                         [\"F\",\"K\",\"T\"]   \n",
       "11                                         [\"T\",\"C\",\"U\"]   \n",
       "12                                         [\"C\",\"E\",\"R\"]   \n",
       "13                                         [\"Y\",\"E\",\"H\"]   \n",
       "14                                         [\"R\",\"Y\",\"H\"]   \n",
       "15                                         [\"X\",\"R\",\"Y\"]   \n",
       "16                                         [\"x\",\"v\",\"r\"]   \n",
       "17     [\"Inner Cell Mass\",\"Blastocyst Cavity\",\"Tropho...   \n",
       "18     [\"Blasocyst cavity\",\"Inner Cell Mass\",\"Blasoce...   \n",
       "19                                      [\"V\",\"D\",\"None\"]   \n",
       "20                    [\"Mitosis\",\"Embryoblast\",\"Cavity\"]   \n",
       "21                                         [\"L\",\"T\",\"P\"]   \n",
       "22                                       [\"T\",\"L\",\"L&N\"]   \n",
       "23                                         [\"E\",\"L\",\"W\"]   \n",
       "24                                         [\"P\",\"E\",\"A\"]   \n",
       "25                                         [\"P\",\"M\",\"E\"]   \n",
       "26                                         [\"M\",\"U\",\"E\"]   \n",
       "27                                       [\"2n\",\"n\",\"3n\"]   \n",
       "28                                         [\"f\",\"j\",\"t\"]   \n",
       "29                                         [\"H\",\"M\",\"U\"]   \n",
       "...                                                  ...   \n",
       "12549  [\"The amplitude\",\"The wave height\",\"From wave ...   \n",
       "12550  [\"At the top of the wave height.\",\"At the bott...   \n",
       "12551                                      [\"3\",\"4\",\"6\"]   \n",
       "12552                                      [\"3\",\"2\",\"1\"]   \n",
       "12553  [\"wave frequency decreases\",\"wave frequency is...   \n",
       "12554                     [\"Phase\",\"Wavelength\",\"Crest\"]   \n",
       "12555                                      [\"3\",\"4\",\"6\"]   \n",
       "12556           [\"wavelength\",\"oscillation\",\"frequency\"]   \n",
       "12557                                      [\"2\",\"3\",\"4\"]   \n",
       "12558                                      [\"3\",\"1\",\"4\"]   \n",
       "12559                                      [\"2\",\"3\",\"4\"]   \n",
       "12560                                      [\"2\",\"3\",\"4\"]   \n",
       "12561                                      [\"2\",\"3\",\"4\"]   \n",
       "12562                     [\"amplitude\",\"crest\",\"trough\"]   \n",
       "12563             [\"wavelength\",\"elevation\",\"amplitude\"]   \n",
       "12564                                      [\"2\",\"4\",\"1\"]   \n",
       "12565                                      [\"4\",\"2\",\"1\"]   \n",
       "12566                     [\"Crest\",\"Elevation\",\"Trough\"]   \n",
       "12567                [\"wavelength\",\"trough\",\"elevation\"]   \n",
       "12568  [\"Blue\",\"Red\",\"All three waves have equal wave...   \n",
       "12569                            [\"0 cm\",\"-1 cm\",\"1 cm\"]   \n",
       "12570                                      [\"1\",\"8\",\"6\"]   \n",
       "12571                                      [\"1\",\"3\",\"2\"]   \n",
       "12572               [\"Amplitude\",\"Trough\",\"Equilibrium\"]   \n",
       "12573                [\"crest\",\"amplitude\",\"equilibrium\"]   \n",
       "12574                  [\"amplitude\",\"wavelength\",\"wave\"]   \n",
       "12575                                      [\"2\",\"4\",\"6\"]   \n",
       "12576  [\"It is the length of the wave.\",\"It is the wi...   \n",
       "12577   [\"Wave Amplitude\",\"Wavelength\",\"Wave Frequency\"]   \n",
       "12578            [\"amplitude\",\"oscillation\",\"frequency\"]   \n",
       "\n",
       "                                                wac_list          topic  \\\n",
       "0                                              [U, T, R]       aquifers   \n",
       "1                                              [R, F, A]       aquifers   \n",
       "2      [Major irrigation well, Normal water table, Lo...       aquifers   \n",
       "3                                              [R, Y, F]       aquifers   \n",
       "4                                              [X, H, J]       aquifers   \n",
       "5      [Pervious Strata, Impervious Strata, Artesian ...       aquifers   \n",
       "6                                              [N, L, K]       aquifers   \n",
       "7                                              [L, K, D]       aquifers   \n",
       "8                                              [K, N, D]       aquifers   \n",
       "9      [Water table well, Confined aquifer , Unconfin...       aquifers   \n",
       "10                                             [F, K, T]       aquifers   \n",
       "11                                             [T, C, U]       aquifers   \n",
       "12                                             [C, E, R]       aquifers   \n",
       "13                                             [Y, E, H]     blastocyst   \n",
       "14                                             [R, Y, H]     blastocyst   \n",
       "15                                             [X, R, Y]     blastocyst   \n",
       "16                                             [x, v, r]     blastocyst   \n",
       "17     [Inner Cell Mass, Blastocyst Cavity, Trophobla...     blastocyst   \n",
       "18        [Blasocyst cavity, Inner Cell Mass, Blasocell]     blastocyst   \n",
       "19                                          [V, D, None]     blastocyst   \n",
       "20                        [Mitosis, Embryoblast, Cavity]     blastocyst   \n",
       "21                                             [L, T, P]     blastocyst   \n",
       "22                                           [T, L, L&N]     blastocyst   \n",
       "23                                             [E, L, W]     blastocyst   \n",
       "24                                             [P, E, A]     blastocyst   \n",
       "25                                             [P, M, E]     blastocyst   \n",
       "26                                             [M, U, E]     blastocyst   \n",
       "27                                           [2n, n, 3n]  cell_division   \n",
       "28                                             [f, j, t]  cell_division   \n",
       "29                                             [H, M, U]  cell_division   \n",
       "...                                                  ...            ...   \n",
       "12549  [The amplitude, The wave height, From wave tro...          waves   \n",
       "12550  [At the top of the wave height., At the bottom...          waves   \n",
       "12551                                          [3, 4, 6]          waves   \n",
       "12552                                          [3, 2, 1]          waves   \n",
       "12553  [wave frequency decreases, wave frequency is h...          waves   \n",
       "12554                         [Phase, Wavelength, Crest]          waves   \n",
       "12555                                          [3, 4, 6]          waves   \n",
       "12556               [wavelength, oscillation, frequency]          waves   \n",
       "12557                                          [2, 3, 4]          waves   \n",
       "12558                                          [3, 1, 4]          waves   \n",
       "12559                                          [2, 3, 4]          waves   \n",
       "12560                                          [2, 3, 4]          waves   \n",
       "12561                                          [2, 3, 4]          waves   \n",
       "12562                         [amplitude, crest, trough]          waves   \n",
       "12563                 [wavelength, elevation, amplitude]          waves   \n",
       "12564                                          [2, 4, 1]          waves   \n",
       "12565                                          [4, 2, 1]          waves   \n",
       "12566                         [Crest, Elevation, Trough]          waves   \n",
       "12567                    [wavelength, trough, elevation]          waves   \n",
       "12568  [Blue, Red, All three waves have equal wavelen...          waves   \n",
       "12569                                [0 cm, -1 cm, 1 cm]          waves   \n",
       "12570                                          [1, 8, 6]          waves   \n",
       "12571                                          [1, 3, 2]          waves   \n",
       "12572                   [Amplitude, Trough, Equilibrium]          waves   \n",
       "12573                    [crest, amplitude, equilibrium]          waves   \n",
       "12574                      [amplitude, wavelength, wave]          waves   \n",
       "12575                                          [2, 4, 6]          waves   \n",
       "12576  [It is the length of the wave., It is the widt...          waves   \n",
       "12577       [Wave Amplitude, Wavelength, Wave Frequency]          waves   \n",
       "12578                [amplitude, oscillation, frequency]          waves   \n",
       "\n",
       "                                                  s3_uri  \\\n",
       "0      https://s3.amazonaws.com/ai2-vision-textbook-d...   \n",
       "1      https://s3.amazonaws.com/ai2-vision-textbook-d...   \n",
       "2      https://s3.amazonaws.com/ai2-vision-textbook-d...   \n",
       "3      https://s3.amazonaws.com/ai2-vision-textbook-d...   \n",
       "4      https://s3.amazonaws.com/ai2-vision-textbook-d...   \n",
       "5      https://s3.amazonaws.com/ai2-vision-textbook-d...   \n",
       "6      https://s3.amazonaws.com/ai2-vision-textbook-d...   \n",
       "7      https://s3.amazonaws.com/ai2-vision-textbook-d...   \n",
       "8      https://s3.amazonaws.com/ai2-vision-textbook-d...   \n",
       "9      https://s3.amazonaws.com/ai2-vision-textbook-d...   \n",
       "10     https://s3.amazonaws.com/ai2-vision-textbook-d...   \n",
       "11     https://s3.amazonaws.com/ai2-vision-textbook-d...   \n",
       "12     https://s3.amazonaws.com/ai2-vision-textbook-d...   \n",
       "13     https://s3.amazonaws.com/ai2-vision-textbook-d...   \n",
       "14     https://s3.amazonaws.com/ai2-vision-textbook-d...   \n",
       "15     https://s3.amazonaws.com/ai2-vision-textbook-d...   \n",
       "16     https://s3.amazonaws.com/ai2-vision-textbook-d...   \n",
       "17     https://s3.amazonaws.com/ai2-vision-textbook-d...   \n",
       "18     https://s3.amazonaws.com/ai2-vision-textbook-d...   \n",
       "19     https://s3.amazonaws.com/ai2-vision-textbook-d...   \n",
       "20     https://s3.amazonaws.com/ai2-vision-textbook-d...   \n",
       "21     https://s3.amazonaws.com/ai2-vision-textbook-d...   \n",
       "22     https://s3.amazonaws.com/ai2-vision-textbook-d...   \n",
       "23     https://s3.amazonaws.com/ai2-vision-textbook-d...   \n",
       "24     https://s3.amazonaws.com/ai2-vision-textbook-d...   \n",
       "25     https://s3.amazonaws.com/ai2-vision-textbook-d...   \n",
       "26     https://s3.amazonaws.com/ai2-vision-textbook-d...   \n",
       "27     https://s3.amazonaws.com/ai2-vision-textbook-d...   \n",
       "28     https://s3.amazonaws.com/ai2-vision-textbook-d...   \n",
       "29     https://s3.amazonaws.com/ai2-vision-textbook-d...   \n",
       "...                                                  ...   \n",
       "12549  https://s3.amazonaws.com/ai2-vision-textbook-d...   \n",
       "12550  https://s3.amazonaws.com/ai2-vision-textbook-d...   \n",
       "12551  https://s3.amazonaws.com/ai2-vision-textbook-d...   \n",
       "12552  https://s3.amazonaws.com/ai2-vision-textbook-d...   \n",
       "12553  https://s3.amazonaws.com/ai2-vision-textbook-d...   \n",
       "12554  https://s3.amazonaws.com/ai2-vision-textbook-d...   \n",
       "12555  https://s3.amazonaws.com/ai2-vision-textbook-d...   \n",
       "12556  https://s3.amazonaws.com/ai2-vision-textbook-d...   \n",
       "12557  https://s3.amazonaws.com/ai2-vision-textbook-d...   \n",
       "12558  https://s3.amazonaws.com/ai2-vision-textbook-d...   \n",
       "12559  https://s3.amazonaws.com/ai2-vision-textbook-d...   \n",
       "12560  https://s3.amazonaws.com/ai2-vision-textbook-d...   \n",
       "12561  https://s3.amazonaws.com/ai2-vision-textbook-d...   \n",
       "12562  https://s3.amazonaws.com/ai2-vision-textbook-d...   \n",
       "12563  https://s3.amazonaws.com/ai2-vision-textbook-d...   \n",
       "12564  https://s3.amazonaws.com/ai2-vision-textbook-d...   \n",
       "12565  https://s3.amazonaws.com/ai2-vision-textbook-d...   \n",
       "12566  https://s3.amazonaws.com/ai2-vision-textbook-d...   \n",
       "12567  https://s3.amazonaws.com/ai2-vision-textbook-d...   \n",
       "12568  https://s3.amazonaws.com/ai2-vision-textbook-d...   \n",
       "12569  https://s3.amazonaws.com/ai2-vision-textbook-d...   \n",
       "12570  https://s3.amazonaws.com/ai2-vision-textbook-d...   \n",
       "12571  https://s3.amazonaws.com/ai2-vision-textbook-d...   \n",
       "12572  https://s3.amazonaws.com/ai2-vision-textbook-d...   \n",
       "12573  https://s3.amazonaws.com/ai2-vision-textbook-d...   \n",
       "12574  https://s3.amazonaws.com/ai2-vision-textbook-d...   \n",
       "12575  https://s3.amazonaws.com/ai2-vision-textbook-d...   \n",
       "12576  https://s3.amazonaws.com/ai2-vision-textbook-d...   \n",
       "12577  https://s3.amazonaws.com/ai2-vision-textbook-d...   \n",
       "12578  https://s3.amazonaws.com/ai2-vision-textbook-d...   \n",
       "\n",
       "                      lesson_assigned_to                  diagram  \n",
       "0                       13.3 Groundwater       aquifers_16517.png  \n",
       "1                       13.3 Groundwater       aquifers_16517.png  \n",
       "2                       13.3 Groundwater       aquifers_16522.png  \n",
       "3                       13.3 Groundwater       aquifers_16522.png  \n",
       "4                       13.3 Groundwater       aquifers_16522.png  \n",
       "5                       13.3 Groundwater       aquifers_16530.png  \n",
       "6                       13.3 Groundwater       aquifers_16530.png  \n",
       "7                       13.3 Groundwater       aquifers_16530.png  \n",
       "8                       13.3 Groundwater       aquifers_16530.png  \n",
       "9                       13.3 Groundwater       aquifers_16532.png  \n",
       "10                      13.3 Groundwater       aquifers_16532.png  \n",
       "11                      13.3 Groundwater       aquifers_16962.png  \n",
       "12                      13.3 Groundwater       aquifers_16962.png  \n",
       "13     22.3 Reproduction and Life Stages     blastocyst_19024.png  \n",
       "14     22.3 Reproduction and Life Stages     blastocyst_19025.png  \n",
       "15     22.3 Reproduction and Life Stages     blastocyst_19025.png  \n",
       "16     22.3 Reproduction and Life Stages     blastocyst_19025.png  \n",
       "17     22.3 Reproduction and Life Stages     blastocyst_19027.png  \n",
       "18     22.3 Reproduction and Life Stages     blastocyst_19027.png  \n",
       "19     22.3 Reproduction and Life Stages     blastocyst_19027.png  \n",
       "20     22.3 Reproduction and Life Stages     blastocyst_19027.png  \n",
       "21     22.3 Reproduction and Life Stages     blastocyst_19029.png  \n",
       "22     22.3 Reproduction and Life Stages     blastocyst_19029.png  \n",
       "23     22.3 Reproduction and Life Stages     blastocyst_19030.png  \n",
       "24     22.3 Reproduction and Life Stages     blastocyst_19030.png  \n",
       "25     22.3 Reproduction and Life Stages     blastocyst_19033.png  \n",
       "26     22.3 Reproduction and Life Stages     blastocyst_19033.png  \n",
       "27                     5.1 Cell Division  cell_division_16617.png  \n",
       "28                     5.1 Cell Division  cell_division_16617.png  \n",
       "29                     5.1 Cell Division  cell_division_19037.png  \n",
       "...                                  ...                      ...  \n",
       "12549               19.2 Measuring Waves           waves_9289.png  \n",
       "12550               19.2 Measuring Waves           waves_9289.png  \n",
       "12551               19.2 Measuring Waves           waves_9289.png  \n",
       "12552               19.2 Measuring Waves           waves_9289.png  \n",
       "12553               19.2 Measuring Waves           waves_9289.png  \n",
       "12554               19.2 Measuring Waves           waves_9290.png  \n",
       "12555               19.2 Measuring Waves           waves_9290.png  \n",
       "12556               19.2 Measuring Waves           waves_9290.png  \n",
       "12557               19.2 Measuring Waves           waves_9291.png  \n",
       "12558               19.2 Measuring Waves           waves_9291.png  \n",
       "12559               19.2 Measuring Waves           waves_9291.png  \n",
       "12560               19.2 Measuring Waves           waves_9291.png  \n",
       "12561               19.2 Measuring Waves           waves_9291.png  \n",
       "12562               19.2 Measuring Waves           waves_9291.png  \n",
       "12563               19.2 Measuring Waves           waves_9292.png  \n",
       "12564               19.2 Measuring Waves           waves_9292.png  \n",
       "12565               19.2 Measuring Waves           waves_9292.png  \n",
       "12566               19.2 Measuring Waves           waves_9292.png  \n",
       "12567               19.2 Measuring Waves           waves_9292.png  \n",
       "12568               19.2 Measuring Waves           waves_9293.png  \n",
       "12569               19.2 Measuring Waves           waves_9293.png  \n",
       "12570               19.2 Measuring Waves           waves_9293.png  \n",
       "12571               19.2 Measuring Waves           waves_9293.png  \n",
       "12572               19.2 Measuring Waves           waves_9294.png  \n",
       "12573               19.2 Measuring Waves           waves_9294.png  \n",
       "12574               19.2 Measuring Waves           waves_9294.png  \n",
       "12575               19.2 Measuring Waves           waves_9294.png  \n",
       "12576               19.2 Measuring Waves           waves_9294.png  \n",
       "12577               19.2 Measuring Waves           waves_9295.png  \n",
       "12578               19.2 Measuring Waves           waves_9295.png  \n",
       "\n",
       "[12579 rows x 14 columns]"
      ]
     },
     "execution_count": 2643,
     "metadata": {},
     "output_type": "execute_result"
    }
   ],
   "source": [
    "dr_proc_df\n"
   ]
  },
  {
   "cell_type": "code",
   "execution_count": 317,
   "metadata": {
    "collapsed": false,
    "hidden": true,
    "run_control": {
     "frozen": false,
     "read_only": false
    },
    "scrolled": true
   },
   "outputs": [
    {
     "data": {
      "text/plain": [
       "198"
      ]
     },
     "execution_count": 317,
     "metadata": {},
     "output_type": "execute_result"
    }
   ],
   "source": [
    "dr_proc_df[dr_proc_df.apply(lambda x: x[7] in x[9], axis=1)]['topic'].value_counts().sum()"
   ]
  },
  {
   "cell_type": "code",
   "execution_count": 2657,
   "metadata": {
    "collapsed": false,
    "hidden": true,
    "run_control": {
     "frozen": false,
     "read_only": false
    },
    "scrolled": false
   },
   "outputs": [],
   "source": [
    "dr_proc_df[dr_proc_df.apply(lambda x: x[7] in x[9], axis=1)]['job_id'].to_csv('q_job_id_missing_ac.csv', index=False)"
   ]
  },
  {
   "cell_type": "markdown",
   "metadata": {},
   "source": [
    "# integrate diagrams and text"
   ]
  },
  {
   "cell_type": "markdown",
   "metadata": {
    "heading_collapsed": true
   },
   "source": [
    "## match diagram topics to lessons"
   ]
  },
  {
   "cell_type": "markdown",
   "metadata": {
    "hidden": true
   },
   "source": [
    "first need to match diagram topic to flexbook lesson-"
   ]
  },
  {
   "cell_type": "code",
   "execution_count": 120,
   "metadata": {
    "collapsed": false,
    "hidden": true,
    "run_control": {
     "frozen": false,
     "read_only": false
    }
   },
   "outputs": [],
   "source": [
    "with open('../diagram_questions/topic_match_terms.json', 'r') as f:\n",
    "    topic_term_match = json.load(f)    "
   ]
  },
  {
   "cell_type": "code",
   "execution_count": 34,
   "metadata": {
    "collapsed": true,
    "hidden": true,
    "run_control": {
     "frozen": false,
     "read_only": false
    }
   },
   "outputs": [],
   "source": [
    "working_topic_list = clean_list(pruned_dir)"
   ]
  },
  {
   "cell_type": "code",
   "execution_count": 35,
   "metadata": {
    "collapsed": true,
    "hidden": true,
    "run_control": {
     "frozen": false,
     "read_only": false
    }
   },
   "outputs": [],
   "source": [
    "es_lesson_names = [item for sublist in [val['topics'].keys() for val in ck12_combined_dataset['earth-science'].values()] for item in sublist]\n",
    "ps_lesson_names = [item for sublist in [val['topics'].keys() for val in ck12_combined_dataset['physical-science'].values()] for item in sublist]\n",
    "ls_lesson_names = [item for sublist in [val['topics'].keys() for val in ck12_combined_dataset['life-science'].values()] for item in sublist]\n",
    "\n",
    "combined_lessons = es_lesson_names + ps_lesson_names + ls_lesson_names\n",
    "topic_series = pd.Series(combined_lessons).value_counts()\n",
    "topics_to_remove = list(topic_series[:17].index)"
   ]
  },
  {
   "cell_type": "code",
   "execution_count": 36,
   "metadata": {
    "collapsed": true,
    "hidden": true,
    "run_control": {
     "frozen": false,
     "read_only": false
    }
   },
   "outputs": [],
   "source": [
    "combined_topics = defaultdict(dict)\n",
    "for subject, book in ck12_combined_dataset.items():\n",
    "    for lesson, material in book.items():\n",
    "        for topic, text in material['topics'].items():\n",
    "            if topic in topics_to_remove:\n",
    "                continue\n",
    "#             combined_topics[topic.lower()]['text'] = text['content']['text']\n",
    "            combined_topics[topic.lower()]['lesson'] = lesson"
   ]
  },
  {
   "cell_type": "code",
   "execution_count": 37,
   "metadata": {
    "collapsed": false,
    "hidden": true,
    "run_control": {
     "frozen": false,
     "read_only": false
    }
   },
   "outputs": [],
   "source": [
    "import fuzzywuzzy.fuzz as fuzz\n",
    "def make_topic_matches(topic_list, combined_topics):\n",
    "    topic_matches = {}\n",
    "    for diagram_topic in topic_list:\n",
    "        topic_matches[diagram_topic] = []\n",
    "        for terms in topic_term_match[diagram_topic]:\n",
    "            lev_dist_threshed = [topic for topic in combined_topics.keys() if fuzz.ratio(topic, terms) > 85]\n",
    "            topic_matches[diagram_topic] += lev_dist_threshed\n",
    "        if not topic_matches[diagram_topic]:\n",
    "                for terms in topic_term_match[diagram_topic]:\n",
    "                    lev_dist_threshed = [topic for topic in combined_topics.keys() if fuzz.token_set_ratio(topic, terms) > 80]\n",
    "                    topic_matches[diagram_topic] += lev_dist_threshed\n",
    "    return topic_matches"
   ]
  },
  {
   "cell_type": "code",
   "execution_count": 38,
   "metadata": {
    "collapsed": false,
    "hidden": true,
    "run_control": {
     "frozen": false,
     "read_only": false
    }
   },
   "outputs": [],
   "source": [
    "def make_lesson_matches(ck12_dataset, diagram_topic_name, topic_matches):\n",
    "    lesson_matches = defaultdict(list)\n",
    "    lessons_seen = set()\n",
    "    content_topics =  topic_matches[diagram_topic_name]\n",
    "    for topic in sorted(content_topics):\n",
    "        associated_lesson =combined_topics[topic]['lesson']\n",
    "        if associated_lesson not in lessons_seen:\n",
    "            lessons_seen.add(associated_lesson)\n",
    "            lesson_matches[diagram_topic_name].append(associated_lesson)\n",
    "    return dict(lesson_matches)"
   ]
  },
  {
   "cell_type": "code",
   "execution_count": 121,
   "metadata": {
    "collapsed": false,
    "hidden": true,
    "run_control": {
     "frozen": false,
     "read_only": false
    }
   },
   "outputs": [],
   "source": [
    "topic_matches = make_topic_matches(working_topic_list, combined_topics)\n",
    "missing= []\n",
    "for k, v in topic_matches.items():\n",
    "    if not v:\n",
    "        missing.append(k)"
   ]
  },
  {
   "cell_type": "code",
   "execution_count": 122,
   "metadata": {
    "collapsed": false,
    "hidden": true,
    "run_control": {
     "frozen": false,
     "read_only": false
    }
   },
   "outputs": [],
   "source": [
    "matching_lessons = {}\n",
    "for topic in working_topic_list:\n",
    "    matched_lessons = make_lesson_matches(ck12_combined_dataset, topic, topic_matches)\n",
    "    matching_lessons.update(matched_lessons)"
   ]
  },
  {
   "cell_type": "code",
   "execution_count": 123,
   "metadata": {
    "collapsed": false,
    "hidden": true,
    "run_control": {
     "frozen": false,
     "read_only": false
    },
    "scrolled": true
   },
   "outputs": [],
   "source": [
    "diagram_lesson_lookup = {}\n",
    "for d_topic, lessons in matching_lessons.items():\n",
    "#     try:\n",
    "#         diagram_lesson_lookup[d_topic] = sorted(lessons, key= lambda x: int(x.split('.')[0]))[0]\n",
    "#     except ValueError:\n",
    "    diagram_lesson_lookup[d_topic] = sorted(lessons)[0]"
   ]
  },
  {
   "cell_type": "code",
   "execution_count": 124,
   "metadata": {
    "collapsed": false,
    "hidden": true,
    "run_control": {
     "frozen": false,
     "read_only": false
    },
    "scrolled": false
   },
   "outputs": [
    {
     "data": {
      "text/plain": [
       "102"
      ]
     },
     "execution_count": 124,
     "metadata": {},
     "output_type": "execute_result"
    }
   ],
   "source": [
    "len(diagram_lesson_lookup.keys())"
   ]
  },
  {
   "cell_type": "code",
   "execution_count": 125,
   "metadata": {
    "collapsed": false,
    "hidden": true,
    "run_control": {
     "frozen": false,
     "read_only": false
    }
   },
   "outputs": [
    {
     "data": {
      "text/plain": [
       "87"
      ]
     },
     "execution_count": 125,
     "metadata": {},
     "output_type": "execute_result"
    }
   ],
   "source": [
    "len(set(diagram_lesson_lookup.values()))"
   ]
  },
  {
   "cell_type": "code",
   "execution_count": 126,
   "metadata": {
    "collapsed": true,
    "hidden": true,
    "run_control": {
     "frozen": false,
     "read_only": false
    }
   },
   "outputs": [
    {
     "name": "stdout",
     "output_type": "stream",
     "text": [
      "acid_rain_formation\n",
      "['22.2 Effects of Air Pollution']\n",
      "\n",
      "aquifers\n",
      "['13.3 Groundwater']\n",
      "\n",
      "atomic_mass_number\n",
      "['3.1 Properties of Matter', '5.1 Inside the Atom', 'atomic number']\n",
      "\n",
      "atomic_structure\n",
      "['5.1 Inside the Atom']\n",
      "\n",
      "biomes\n",
      "['climate zones and biomes']\n",
      "\n",
      "blastocyst\n",
      "['22.3 Reproduction and Life Stages']\n",
      "\n",
      "cell_division\n",
      "['5.1 Cell Division']\n",
      "\n",
      "cellular_respiration\n",
      "['9.4 Biochemical Reactions']\n",
      "\n",
      "chemical_bonding_covalent\n",
      "['7.3 Covalent Bonds']\n",
      "\n",
      "chemical_bonding_ionic\n",
      "['7.2 Ionic Bonds']\n",
      "\n",
      "circuits\n",
      "['23.3 Electric Circuits']\n",
      "\n",
      "continental_drift\n",
      "['6.2 Continental Drift']\n",
      "\n",
      "convection_of_air\n",
      "['18.2 Transfer of Thermal Energy']\n",
      "\n",
      "cycle_carbon\n",
      "['18.2 Cycles of Matter']\n",
      "\n",
      "cycle_nitrogen\n",
      "['18.2 Cycles of Matter']\n",
      "\n",
      "cycle_rock\n",
      "['4.1 Types of Rocks', 'rocks and processes of the rock cycle']\n",
      "\n",
      "cycle_water\n",
      "['24.2 Cycles of Matter']\n",
      "\n",
      "dna\n",
      "['nucleic acid classification']\n",
      "\n",
      "earth_day_night\n",
      "['rotation of earth']\n",
      "\n",
      "earth_eclipses\n",
      "['eclipses']\n",
      "\n",
      "earth_magnetic_field\n",
      "['24.2 Earth as a Magnet']\n",
      "\n",
      "earth_moon_phases\n",
      "['24.4 The Sun and the EarthMoon System']\n",
      "\n",
      "earth_parts\n",
      "['6.1 Inside Earth']\n",
      "\n",
      "earth_poles\n",
      "['revolutions of earth']\n",
      "\n",
      "electromagnetism\n",
      "['25.2 Using Electromagnetism']\n",
      "\n",
      "em_spectrum\n",
      "['21.3 The Electromagnetic Spectrum', '23.1 Telescopes', 'electromagnetic spectrum', 'radio waves']\n",
      "\n",
      "erosion\n",
      "['10.1 Erosion and Deposition by Flowing Water', '10.2 Erosion and Deposition by Waves', '10.3 Erosion and Deposition by Wind', '10.4 Erosion and Deposition by Glaciers', '19.1 Loss of Soil', 'avoiding soil loss', 'landforms from groundwater erosion and deposition', 'rocks and processes of the rock cycle', 'soil erosion']\n",
      "\n",
      "eukaryotic_cell_cycles\n",
      "['5.1 Cell Division']\n",
      "\n",
      "evaporation_and_sublimation\n",
      "['4.3 Changes of State']\n",
      "\n",
      "faults\n",
      "['7.1 Stress in Earths Crust']\n",
      "\n",
      "food_chains_webs\n",
      "['24.1 Flow of Energy']\n",
      "\n",
      "fossils\n",
      "['11.1 Fossils']\n",
      "\n",
      "fungi_reproduction\n",
      "['9.2 Fungi']\n",
      "\n",
      "geologic_time\n",
      "['7.4 History of Life on Earth']\n",
      "\n",
      "glaciers\n",
      "['10.4 Erosion and Deposition by Glaciers', 'glaciers']\n",
      "\n",
      "greenhouse_effect\n",
      "['greenhouse effect']\n",
      "\n",
      "hair_follicles\n",
      "['16.2 The Integumentary System']\n",
      "\n",
      "human_system_circulatory\n",
      "['18.1 Overview of the Cardiovascular System']\n",
      "\n",
      "human_system_digestive\n",
      "['17.3 The Digestive System']\n",
      "\n",
      "human_system_ear\n",
      "['20.2 The Senses']\n",
      "\n",
      "human_system_excretory\n",
      "['19.2 The Excretory System']\n",
      "\n",
      "human_system_eye\n",
      "['22.3 Vision']\n",
      "\n",
      "human_system_immune\n",
      "['21.4 Immune System Defenses']\n",
      "\n",
      "human_system_muscular\n",
      "['16.4 The Muscular System']\n",
      "\n",
      "human_system_nervous\n",
      "['20.1 The Nervous System', 'central nervous system', 'diseases of the nervous system', 'injuries of the nervous system', 'keeping the nervous system healthy', 'nervous system', 'peripheral nervous system']\n",
      "\n",
      "human_system_reproductory\n",
      "['22.1 Male Reproductive System', '22.2 Female Reproductive System', '22.4 Reproductive System Health', 'female reproductive system', 'male reproductive system', 'reproductive system health']\n",
      "\n",
      "human_system_respiratory\n",
      "['19.1 The Respiratory System', 'respiratory system diseases', 'respiratory system health', 'respiratory system organs']\n",
      "\n",
      "hydrocarbons\n",
      "['9.2 Hydrocarbons', 'combustion reactions', 'hydrocarbons', 'saturated hydrocarbons', 'unsaturated hydrocarbons']\n",
      "\n",
      "isotopes\n",
      "['5.1 Inside the Atom']\n",
      "\n",
      "layers_of_atmosphere\n",
      "['15.3 Layers of the Atmosphere']\n",
      "\n",
      "lewis_dots\n",
      "['7.1 Introduction to Chemical Bonds']\n",
      "\n",
      "life_cycles\n",
      "['12.4 Insects and Other Arthropods']\n",
      "\n",
      "muscle_fiber\n",
      "['16.4 The Muscular System', 'muscles and exercise']\n",
      "\n",
      "nuclear_energy\n",
      "['11.3 Nuclear Energy']\n",
      "\n",
      "ocean_currents\n",
      "['surface ocean currents']\n",
      "\n",
      "ocean_waves\n",
      "['14.2 Ocean Movements', 'gamma rays', 'longitudinal wave', 'seismic waves', 'transverse wave']\n",
      "\n",
      "ocean_zones\n",
      "['14.1 Introduction to the Oceans']\n",
      "\n",
      "optics_lense_types\n",
      "['22.2 Optics']\n",
      "\n",
      "optics_rays\n",
      "['law of reflection']\n",
      "\n",
      "optics_reflection\n",
      "['law of reflection']\n",
      "\n",
      "optics_refraction\n",
      "['22.2 Optics']\n",
      "\n",
      "ozone_formation\n",
      "['22.1 Air Pollution']\n",
      "\n",
      "parts_cell\n",
      "['3.2 Cell Structures', '4.1 Transport', 'cell transport']\n",
      "\n",
      "parts_chordate_body\n",
      "['12.5 Echinoderms and Invertebrate Chordates', 'chordates']\n",
      "\n",
      "parts_fish\n",
      "['13.2 Fish']\n",
      "\n",
      "parts_flower\n",
      "['10.2 Evolution and Classification of Plants']\n",
      "\n",
      "parts_leaf\n",
      "['10.1 Introduction to Plants']\n",
      "\n",
      "parts_microscope\n",
      "['1.4 The Microscope', 'microscopes', 'optical instruments']\n",
      "\n",
      "parts_neuron\n",
      "['20.1 The Nervous System']\n",
      "\n",
      "parts_ocean_floor\n",
      "['14.3 The Ocean Floor']\n",
      "\n",
      "parts_plant\n",
      "['10.1 Introduction to Plants', '10.2 Evolution and Classification of Plants', '10.3 Plant Responses and Special Adaptations', '14.2 Mammals', '5.2 Nonrenewable Energy Resources', '5.3 Renewable Energy Resources', '6.2 Continental Drift', '9.1 Weathering', 'chemical weathering', 'electrical grid', 'fungi classification', 'nonvascular plants', 'reproduction in seedless plants', 'seeds and seed dispersal', 'symbiotic relationships of fungi', 'types of marine organisms', 'vascular seedless plants']\n",
      "\n",
      "parts_seed\n",
      "['10.2 Evolution and Classification of Plants']\n",
      "\n",
      "parts_skeleton\n",
      "['16.3 The Skeletal System']\n",
      "\n",
      "parts_telescope\n",
      "['22.2 Optics', 'optical instruments']\n",
      "\n",
      "parts_worm\n",
      "['12.2 Flatworms and Roundworms', 'roundworms']\n",
      "\n",
      "periodic_table\n",
      "['6.1 How Elements Are Organized']\n",
      "\n",
      "phagocytosis\n",
      "['21.3 First Two Lines of Defense']\n",
      "\n",
      "photosynthesis\n",
      "['4.2 Photosynthesis']\n",
      "\n",
      "protozoa\n",
      "['9.1 Protists']\n",
      "\n",
      "radioactive_decay\n",
      "['11.3 Absolute Ages of Rocks']\n",
      "\n",
      "rain_shadow\n",
      "['17.1 Climate and Its Causes']\n",
      "\n",
      "seafloor_spreading\n",
      "['6.3 Seafloor Spreading']\n",
      "\n",
      "seasons\n",
      "['24.1 Planet Earth']\n",
      "\n",
      "seismic_waves\n",
      "['7.2 Nature of Earthquakes']\n",
      "\n",
      "simple_machines\n",
      "['16.3 Simple Machines']\n",
      "\n",
      "skin_cross_section\n",
      "['16.2 The Integumentary System']\n",
      "\n",
      "soil_horizons\n",
      "['9.2 Soils', 'processes of the water cycle']\n",
      "\n",
      "solar_system\n",
      "['25.1 Introduction to the Solar System']\n",
      "\n",
      "state_change\n",
      "['4.3 Changes of State']\n",
      "\n",
      "states_of_matter\n",
      "['4.1 Solids Liquids Gases and Plasmas', 'kinetic theory of matter', 'solutions', 'states of water']\n",
      "\n",
      "stratigraphy\n",
      "['11.2 Relative Ages of Rocks']\n",
      "\n",
      "sun_layers\n",
      "['24.3 The Sun']\n",
      "\n",
      "tectonic_plates\n",
      "['6.4 Theory of Plate Tectonics']\n",
      "\n",
      "tectonic_plates_motion\n",
      "['6.4 Theory of Plate Tectonics', 'venus']\n",
      "\n",
      "tides\n",
      "['14.2 Ocean Movements']\n",
      "\n",
      "types_cells\n",
      "['cell biology']\n",
      "\n",
      "types_clouds\n",
      "['clouds']\n",
      "\n",
      "types_leaves\n",
      "['10.1 Introduction to Plants']\n",
      "\n",
      "velocity_time_graphs\n",
      "['12.3 Acceleration']\n",
      "\n",
      "volcanoes\n",
      "['8.3 Types of Volcanoes']\n",
      "\n",
      "waves\n",
      "['19.2 Measuring Waves']\n",
      "\n",
      "waves_interactions_interference\n",
      "['19.3 Wave Interactions and Interference']\n",
      "\n"
     ]
    }
   ],
   "source": [
    "for k, v in sorted(matching_lessons.items()):\n",
    "    print(k)\n",
    "    print(sorted(v))\n",
    "    print()"
   ]
  },
  {
   "cell_type": "code",
   "execution_count": 127,
   "metadata": {
    "collapsed": true,
    "hidden": true,
    "run_control": {
     "frozen": false,
     "read_only": false
    }
   },
   "outputs": [],
   "source": [
    "lessons_seen = []\n",
    "dupe_lessons = []\n",
    "for k, v in diagram_lesson_lookup.items():\n",
    "    if v not in lessons_seen:\n",
    "        lessons_seen.append(v)\n",
    "    else:\n",
    "        dupe_lessons.append(v)"
   ]
  },
  {
   "cell_type": "code",
   "execution_count": 128,
   "metadata": {
    "collapsed": false,
    "hidden": true,
    "run_control": {
     "frozen": false,
     "read_only": false
    }
   },
   "outputs": [],
   "source": [
    "dupe_topics = defaultdict(list)\n",
    "for k, v in diagram_lesson_lookup.items():\n",
    "    if v in dupe_lessons:\n",
    "        dupe_topics[v].append(k)"
   ]
  },
  {
   "cell_type": "code",
   "execution_count": 129,
   "metadata": {
    "collapsed": false,
    "hidden": true,
    "run_control": {
     "frozen": false,
     "read_only": false
    }
   },
   "outputs": [
    {
     "name": "stdout",
     "output_type": "stream",
     "text": [
      "{'10.1 Introduction to Plants': ['parts_plant', 'types_leaves', 'parts_leaf'],\n",
      " '10.2 Evolution and Classification of Plants': ['parts_flower', 'parts_seed'],\n",
      " '14.2 Ocean Movements': ['tides', 'ocean_waves'],\n",
      " '16.2 The Integumentary System': ['hair_follicles', 'skin_cross_section'],\n",
      " '16.4 The Muscular System': ['human_system_muscular', 'muscle_fiber'],\n",
      " '18.2 Cycles of Matter': ['cycle_carbon', 'cycle_nitrogen'],\n",
      " '20.1 The Nervous System': ['human_system_nervous', 'parts_neuron'],\n",
      " '22.2 Optics': ['optics_refraction', 'parts_telescope', 'optics_lense_types'],\n",
      " '4.3 Changes of State': ['evaporation_and_sublimation', 'state_change'],\n",
      " '5.1 Cell Division': ['cell_division', 'eukaryotic_cell_cycles'],\n",
      " '5.1 Inside the Atom': ['atomic_structure', 'isotopes'],\n",
      " '6.4 Theory of Plate Tectonics': ['tectonic_plates_motion', 'tectonic_plates'],\n",
      " 'law of reflection': ['optics_reflection', 'optics_rays']}\n"
     ]
    }
   ],
   "source": [
    "pprint.pprint(dict(dupe_topics))"
   ]
  },
  {
   "cell_type": "code",
   "execution_count": 130,
   "metadata": {
    "collapsed": false,
    "hidden": true,
    "run_control": {
     "frozen": false,
     "read_only": false
    },
    "scrolled": true
   },
   "outputs": [],
   "source": [
    "diagram_lesson_lookup['lewis_dot_diagrams'] = diagram_lesson_lookup['lewis_dots']\n",
    "diagram_lesson_lookup['optics_ray_diagrams'] = diagram_lesson_lookup['optics_rays']"
   ]
  },
  {
   "cell_type": "code",
   "execution_count": null,
   "metadata": {
    "collapsed": true,
    "hidden": true,
    "run_control": {
     "frozen": false,
     "read_only": false
    }
   },
   "outputs": [],
   "source": []
  },
  {
   "cell_type": "code",
   "execution_count": null,
   "metadata": {
    "collapsed": true,
    "hidden": true,
    "run_control": {
     "frozen": false,
     "read_only": false
    }
   },
   "outputs": [],
   "source": []
  },
  {
   "cell_type": "code",
   "execution_count": null,
   "metadata": {
    "collapsed": true,
    "hidden": true,
    "run_control": {
     "frozen": false,
     "read_only": false
    }
   },
   "outputs": [],
   "source": []
  },
  {
   "cell_type": "code",
   "execution_count": null,
   "metadata": {
    "collapsed": true,
    "hidden": true,
    "run_control": {
     "frozen": false,
     "read_only": false
    }
   },
   "outputs": [],
   "source": []
  },
  {
   "cell_type": "code",
   "execution_count": null,
   "metadata": {
    "collapsed": true,
    "hidden": true,
    "run_control": {
     "frozen": false,
     "read_only": false
    }
   },
   "outputs": [],
   "source": []
  },
  {
   "cell_type": "code",
   "execution_count": null,
   "metadata": {
    "collapsed": true,
    "hidden": true,
    "run_control": {
     "frozen": false,
     "read_only": false
    }
   },
   "outputs": [],
   "source": []
  },
  {
   "cell_type": "code",
   "execution_count": null,
   "metadata": {
    "collapsed": true,
    "hidden": true,
    "run_control": {
     "frozen": false,
     "read_only": false
    }
   },
   "outputs": [],
   "source": []
  },
  {
   "cell_type": "code",
   "execution_count": 74,
   "metadata": {
    "collapsed": false,
    "hidden": true,
    "run_control": {
     "frozen": false,
     "read_only": false
    }
   },
   "outputs": [],
   "source": [
    "# list(ck12_combined_dataset['earth-science'].values())[0]['questions']"
   ]
  },
  {
   "cell_type": "markdown",
   "metadata": {
    "heading_collapsed": true
   },
   "source": [
    "## merge questions"
   ]
  },
  {
   "cell_type": "code",
   "execution_count": 147,
   "metadata": {
    "collapsed": false,
    "hidden": true,
    "run_control": {
     "frozen": false,
     "read_only": false
    }
   },
   "outputs": [
    {
     "data": {
      "text/plain": [
       "(1146, 14)"
      ]
     },
     "execution_count": 147,
     "metadata": {},
     "output_type": "execute_result"
    }
   ],
   "source": [
    "dr_proc_df[dr_proc_df['topic'].isin(['parts_plant', 'types_leaves', 'parts_leaf'])].shape"
   ]
  },
  {
   "cell_type": "code",
   "execution_count": 131,
   "metadata": {
    "collapsed": false,
    "hidden": true,
    "run_control": {
     "frozen": false,
     "read_only": false
    }
   },
   "outputs": [],
   "source": [
    "dq_image_folder = 'diagram-question-images/'\n",
    "td_image_folder = 'diagram-teaching-images/'"
   ]
  },
  {
   "cell_type": "code",
   "execution_count": 132,
   "metadata": {
    "collapsed": false,
    "hidden": true,
    "run_control": {
     "frozen": false,
     "read_only": false
    }
   },
   "outputs": [
    {
     "data": {
      "text/plain": [
       "'https://images.spare5.com/ai2-2/aquifers/images/aquifers_16517.png'"
      ]
     },
     "execution_count": 132,
     "metadata": {},
     "output_type": "execute_result"
    }
   ],
   "source": [
    "dr_proc_df['reference_id'][0]"
   ]
  },
  {
   "cell_type": "code",
   "execution_count": 353,
   "metadata": {
    "collapsed": true,
    "hidden": true,
    "run_control": {
     "frozen": false,
     "read_only": false
    }
   },
   "outputs": [],
   "source": [
    "s3_base = 'https://s3.amazonaws.com/ai2-vision-textbook-dataset/diagrams/' + dq_image_folder\n",
    "s3_base_descriptions = 'https://s3.amazonaws.com/ai2-vision-textbook-dataset/diagrams/' + td_image_folder\n",
    "\n",
    "def make_image_link(old_url, s3_base=s3_base):\n",
    "    image_name = old_url.split('/')[-1]\n",
    "    new_url = s3_base + image_name\n",
    "    return new_url"
   ]
  },
  {
   "cell_type": "code",
   "execution_count": 354,
   "metadata": {
    "collapsed": true,
    "hidden": true,
    "run_control": {
     "frozen": false,
     "read_only": false
    }
   },
   "outputs": [],
   "source": [
    "dr_proc_df['diagram'] = dr_proc_df['reference_id'].apply(lambda x: x.split('/')[-1])\n",
    "dr_proc_df['s3_uri'] = dr_proc_df['reference_id'].apply(make_image_link)\n",
    "dr_proc_df['lesson_assigned_to'] = dr_proc_df['topic'].apply(lambda x: diagram_lesson_lookup[x])"
   ]
  },
  {
   "cell_type": "code",
   "execution_count": 355,
   "metadata": {
    "code_folding": [],
    "collapsed": false,
    "hidden": true,
    "run_control": {
     "frozen": false,
     "read_only": false
    }
   },
   "outputs": [],
   "source": [
    "import random\n",
    "def make_question_entry(qdf_row):\n",
    "    ask = qdf_row[qdf_row.index == '03_write_question'].values[0]\n",
    "    answer = qdf_row[qdf_row.index == '04_write_right_answer'].values[0]\n",
    "    wrong_answers = qdf_row[qdf_row.index == 'wac_list'].values[0]\n",
    "    q_topic = qdf_row[qdf_row.index == 'lesson_assigned_to'].values[0]\n",
    "    image_uri = qdf_row[qdf_row.index == 's3_uri'].values[0]\n",
    "    image_name = qdf_row[qdf_row.index == 'diagram'].values[0]\n",
    "    \n",
    "    def make_answer_choices(answer_choices):\n",
    "        build_answer_choices = {}\n",
    "        letter_options = list('abcd')\n",
    "        random.shuffle(answer_choices)\n",
    "        for idx, answer_choice in enumerate(answer_choices):\n",
    "            answer_choice_dict = {\n",
    "                \"idStructural\": letter_options[idx] + '.',\n",
    "                \"rawText\": answer_choice,\n",
    "                \"processedText\": answer_choice\n",
    "            }\n",
    "            build_answer_choices[letter_options[idx]] = answer_choice_dict\n",
    "        return build_answer_choices\n",
    "    a_choices = make_answer_choices(wrong_answers + [answer])\n",
    "    single_q_dict = {\n",
    "        \"id\": 'q',\n",
    "        \"type\": \n",
    "            \"Diagram Multiple Choice\",\n",
    "        \"beingAsked\": {\n",
    "            \"rawText\": ask,\n",
    "            \"processedText\": ask.encode('ascii', 'ignore').decode('utf-8')\n",
    "        },\n",
    "        \"correctAnswer\": {\n",
    "            \"rawText\": answer,\n",
    "            \"processedText\": answer.encode('ascii', 'ignore').decode('utf-8')\n",
    "        },\n",
    "        \"answerChoices\": a_choices,\n",
    "        \"imageUri\": image_uri,\n",
    "        \"imageName\": image_name\n",
    "    }\n",
    "    build_questions[q_topic].append(single_q_dict)\n",
    "    \n",
    "    \n",
    "def refine_question_formats(raw_questions):\n",
    "    reformatted_dq_ds = {}\n",
    "    for topic, topic_questions in raw_questions.items():\n",
    "        reformatted_topic = {topic: {'questions': {'diagramQuestions': {}}}}\n",
    "        reformatted_questions = {}\n",
    "        for idx, question in enumerate(topic_questions):\n",
    "            question = deepcopy(question)\n",
    "            question['id'] += str(idx + 1).zfill(4)\n",
    "            reformatted_questions[question['id']] = question\n",
    "        reformatted_topic[topic]['questions']['diagramQuestions'] = reformatted_questions\n",
    "        reformatted_dq_ds.update(reformatted_topic)\n",
    "    return reformatted_dq_ds"
   ]
  },
  {
   "cell_type": "code",
   "execution_count": 356,
   "metadata": {
    "collapsed": true,
    "hidden": true,
    "run_control": {
     "frozen": false,
     "read_only": false
    }
   },
   "outputs": [],
   "source": [
    "build_questions = defaultdict(list)"
   ]
  },
  {
   "cell_type": "code",
   "execution_count": 357,
   "metadata": {
    "collapsed": false,
    "hidden": true,
    "run_control": {
     "frozen": false,
     "read_only": false
    }
   },
   "outputs": [],
   "source": [
    "_ = dr_proc_df.apply(make_question_entry, axis=1)"
   ]
  },
  {
   "cell_type": "code",
   "execution_count": 359,
   "metadata": {
    "collapsed": false,
    "hidden": true,
    "run_control": {
     "frozen": false,
     "read_only": false
    }
   },
   "outputs": [],
   "source": [
    "refined_questions = dict(refine_question_formats(build_questions))"
   ]
  },
  {
   "cell_type": "code",
   "execution_count": 407,
   "metadata": {
    "collapsed": false,
    "hidden": true,
    "run_control": {
     "frozen": false,
     "read_only": false
    }
   },
   "outputs": [
    {
     "data": {
      "text/plain": [
       "dict_keys(['diagramQuestions'])"
      ]
     },
     "execution_count": 407,
     "metadata": {},
     "output_type": "execute_result"
    }
   ],
   "source": [
    "refined_questions['10.4 Erosion and Deposition by Glaciers']['questions'].keys()"
   ]
  },
  {
   "cell_type": "code",
   "execution_count": 433,
   "metadata": {
    "collapsed": true,
    "hidden": true,
    "run_control": {
     "frozen": false,
     "read_only": false
    }
   },
   "outputs": [],
   "source": [
    "with open(output_dir + 'ck12_dataset_beta_v3_5.json', 'r') as f:\n",
    "    ck12_combined_dataset = json.load(f)"
   ]
  },
  {
   "cell_type": "code",
   "execution_count": 434,
   "metadata": {
    "collapsed": false,
    "hidden": true,
    "run_control": {
     "frozen": false,
     "read_only": false
    }
   },
   "outputs": [],
   "source": [
    "for subject, lessons in ck12_combined_dataset.items():\n",
    "    for l_name, lesson in lessons.items():\n",
    "        if l_name in refined_questions.keys():        \n",
    "            lesson['questions']['diagramQuestions'] = refined_questions[l_name]['questions']['diagramQuestions']"
   ]
  },
  {
   "cell_type": "code",
   "execution_count": 432,
   "metadata": {
    "collapsed": false,
    "hidden": true,
    "run_control": {
     "frozen": false,
     "read_only": false
    }
   },
   "outputs": [
    {
     "data": {
      "text/plain": [
       "{'questions': {'diagramQuestions': {'q0001': {'answerChoices': {'a': {'idStructural': 'a.',\n",
       "      'processedText': 'Moraine',\n",
       "      'rawText': 'Moraine'},\n",
       "     'b': {'idStructural': 'b.',\n",
       "      'processedText': 'Zone of ablation',\n",
       "      'rawText': 'Zone of ablation'},\n",
       "     'c': {'idStructural': 'c.', 'processedText': 'Snout', 'rawText': 'Snout'},\n",
       "     'd': {'idStructural': 'd.',\n",
       "      'processedText': 'Zone of accumulation',\n",
       "      'rawText': 'Zone of accumulation'}},\n",
       "    'beingAsked': {'processedText': 'Which structure marks the greatest distance the glacier advanced?',\n",
       "     'rawText': 'Which structure marks the greatest distance the glacier advanced?'},\n",
       "    'correctAnswer': {'processedText': 'Moraine', 'rawText': 'Moraine'},\n",
       "    'id': 'q0001',\n",
       "    'imageName': 'glaciers_6927.png',\n",
       "    'imageUri': 'https://s3.amazonaws.com/ai2-vision-textbook-dataset/diagrams/diagram-question-images/glaciers_6927.png',\n",
       "    'type': 'Diagram Multiple Choice'},\n",
       "   'q0002': {'answerChoices': {'a': {'idStructural': 'a.',\n",
       "      'processedText': 'continental glacier ',\n",
       "      'rawText': 'continental glacier '},\n",
       "     'b': {'idStructural': 'b.',\n",
       "      'processedText': 'Zone of Accumulation',\n",
       "      'rawText': 'Zone of Accumulation'},\n",
       "     'c': {'idStructural': 'c.', 'processedText': 'Snout', 'rawText': 'Snout'},\n",
       "     'd': {'idStructural': 'd.',\n",
       "      'processedText': 'glacial till',\n",
       "      'rawText': 'glacial till'}},\n",
       "    'beingAsked': {'processedText': 'What is between the Zone of ablation and Moraine?',\n",
       "     'rawText': 'What is between the Zone of ablation and Moraine?'},\n",
       "    'correctAnswer': {'processedText': 'Snout', 'rawText': 'Snout'},\n",
       "    'id': 'q0002',\n",
       "    'imageName': 'glaciers_6927.png',\n",
       "    'imageUri': 'https://s3.amazonaws.com/ai2-vision-textbook-dataset/diagrams/diagram-question-images/glaciers_6927.png',\n",
       "    'type': 'Diagram Multiple Choice'},\n",
       "   'q0003': {'answerChoices': {'a': {'idStructural': 'a.',\n",
       "      'processedText': '3',\n",
       "      'rawText': '3'},\n",
       "     'b': {'idStructural': 'b.', 'processedText': '1', 'rawText': '1'},\n",
       "     'c': {'idStructural': 'c.', 'processedText': '2', 'rawText': '2'},\n",
       "     'd': {'idStructural': 'd.', 'processedText': '4', 'rawText': '4'}},\n",
       "    'beingAsked': {'processedText': 'How many zones are depicted in the diagram?',\n",
       "     'rawText': 'How many zones are depicted in the diagram?'},\n",
       "    'correctAnswer': {'processedText': '2', 'rawText': '2'},\n",
       "    'id': 'q0003',\n",
       "    'imageName': 'glaciers_6927.png',\n",
       "    'imageUri': 'https://s3.amazonaws.com/ai2-vision-textbook-dataset/diagrams/diagram-question-images/glaciers_6927.png',\n",
       "    'type': 'Diagram Multiple Choice'},\n",
       "   'q0004': {'answerChoices': {'a': {'idStructural': 'a.',\n",
       "      'processedText': 'zone of accumulation',\n",
       "      'rawText': 'zone of accumulation'},\n",
       "     'b': {'idStructural': 'b.',\n",
       "      'processedText': 'moraine',\n",
       "      'rawText': 'moraine'},\n",
       "     'c': {'idStructural': 'c.', 'processedText': 'snout', 'rawText': 'snout'},\n",
       "     'd': {'idStructural': 'd.',\n",
       "      'processedText': 'zone of ablation',\n",
       "      'rawText': 'zone of ablation'}},\n",
       "    'beingAsked': {'processedText': 'the shape of which area could be caused by melting or an avalanche?',\n",
       "     'rawText': 'the shape of which area could be caused by melting or an avalanche?'},\n",
       "    'correctAnswer': {'processedText': 'zone of ablation',\n",
       "     'rawText': 'zone of ablation'},\n",
       "    'id': 'q0004',\n",
       "    'imageName': 'glaciers_6927.png',\n",
       "    'imageUri': 'https://s3.amazonaws.com/ai2-vision-textbook-dataset/diagrams/diagram-question-images/glaciers_6927.png',\n",
       "    'type': 'Diagram Multiple Choice'},\n",
       "   'q0005': {'answerChoices': {'a': {'idStructural': 'a.',\n",
       "      'processedText': 'B',\n",
       "      'rawText': 'B'},\n",
       "     'b': {'idStructural': 'b.', 'processedText': 'C', 'rawText': 'C'},\n",
       "     'c': {'idStructural': 'c.', 'processedText': 'A', 'rawText': 'A'},\n",
       "     'd': {'idStructural': 'd.', 'processedText': 'E', 'rawText': 'E'}},\n",
       "    'beingAsked': {'processedText': 'Which part of the diagram is most likely to deposit sediment?',\n",
       "     'rawText': 'Which part of the diagram is most likely to deposit sediment?'},\n",
       "    'correctAnswer': {'processedText': 'B', 'rawText': 'B'},\n",
       "    'id': 'q0005',\n",
       "    'imageName': 'glaciers_6928.png',\n",
       "    'imageUri': 'https://s3.amazonaws.com/ai2-vision-textbook-dataset/diagrams/diagram-question-images/glaciers_6928.png',\n",
       "    'type': 'Diagram Multiple Choice'},\n",
       "   'q0006': {'answerChoices': {'a': {'idStructural': 'a.',\n",
       "      'processedText': 'the Accumulation Zone.',\n",
       "      'rawText': 'the Accumulation Zone.'},\n",
       "     'b': {'idStructural': 'b.',\n",
       "      'processedText': 'the Extending Flow.',\n",
       "      'rawText': 'the Extending Flow.'},\n",
       "     'c': {'idStructural': 'c.',\n",
       "      'processedText': 'The Bergschrund.',\n",
       "      'rawText': 'The Bergschrund.'},\n",
       "     'd': {'idStructural': 'd.',\n",
       "      'processedText': 'The Crevasses.',\n",
       "      'rawText': 'The Crevasses.'}},\n",
       "    'beingAsked': {'processedText': 'The Compressing Flow is above:',\n",
       "     'rawText': 'The Compressing Flow is above:'},\n",
       "    'correctAnswer': {'processedText': 'the Extending Flow.',\n",
       "     'rawText': 'the Extending Flow.'},\n",
       "    'id': 'q0006',\n",
       "    'imageName': 'glaciers_6929.png',\n",
       "    'imageUri': 'https://s3.amazonaws.com/ai2-vision-textbook-dataset/diagrams/diagram-question-images/glaciers_6929.png',\n",
       "    'type': 'Diagram Multiple Choice'},\n",
       "   'q0007': {'answerChoices': {'a': {'idStructural': 'a.',\n",
       "      'processedText': '2',\n",
       "      'rawText': '2'},\n",
       "     'b': {'idStructural': 'b.', 'processedText': '1', 'rawText': '1'},\n",
       "     'c': {'idStructural': 'c.', 'processedText': '5', 'rawText': '5'},\n",
       "     'd': {'idStructural': 'd.', 'processedText': '9', 'rawText': '9'}},\n",
       "    'beingAsked': {'processedText': 'How many zones can you see?',\n",
       "     'rawText': 'How many zones can you see?'},\n",
       "    'correctAnswer': {'processedText': '2', 'rawText': '2'},\n",
       "    'id': 'q0007',\n",
       "    'imageName': 'glaciers_6929.png',\n",
       "    'imageUri': 'https://s3.amazonaws.com/ai2-vision-textbook-dataset/diagrams/diagram-question-images/glaciers_6929.png',\n",
       "    'type': 'Diagram Multiple Choice'},\n",
       "   'q0008': {'answerChoices': {'a': {'idStructural': 'a.',\n",
       "      'processedText': 'Receding Glacier',\n",
       "      'rawText': 'Receding Glacier'},\n",
       "     'b': {'idStructural': 'b.',\n",
       "      'processedText': 'Floodplai',\n",
       "      'rawText': 'Floodplai'},\n",
       "     'c': {'idStructural': 'c.',\n",
       "      'processedText': 'drumlin',\n",
       "      'rawText': 'drumlin'},\n",
       "     'd': {'idStructural': 'd.',\n",
       "      'processedText': 'esker',\n",
       "      'rawText': 'esker'}},\n",
       "    'beingAsked': {'processedText': 'Identify the highest layer.',\n",
       "     'rawText': 'Identify the highest layer.'},\n",
       "    'correctAnswer': {'processedText': 'Receding Glacier',\n",
       "     'rawText': 'Receding Glacier'},\n",
       "    'id': 'q0008',\n",
       "    'imageName': 'glaciers_6930.png',\n",
       "    'imageUri': 'https://s3.amazonaws.com/ai2-vision-textbook-dataset/diagrams/diagram-question-images/glaciers_6930.png',\n",
       "    'type': 'Diagram Multiple Choice'},\n",
       "   'q0009': {'answerChoices': {'a': {'idStructural': 'a.',\n",
       "      'processedText': 'terminal moraine',\n",
       "      'rawText': 'terminal moraine'},\n",
       "     'b': {'idStructural': 'b.',\n",
       "      'processedText': 'drumlin',\n",
       "      'rawText': 'drumlin'},\n",
       "     'c': {'idStructural': 'c.',\n",
       "      'processedText': 'receding glacier',\n",
       "      'rawText': 'receding glacier'},\n",
       "     'd': {'idStructural': 'd.',\n",
       "      'processedText': 'esker',\n",
       "      'rawText': 'esker'}},\n",
       "    'beingAsked': {'processedText': 'What is between the kame and the floodplain?',\n",
       "     'rawText': 'What is between the kame and the floodplain?'},\n",
       "    'correctAnswer': {'processedText': 'terminal moraine',\n",
       "     'rawText': 'terminal moraine'},\n",
       "    'id': 'q0009',\n",
       "    'imageName': 'glaciers_6930.png',\n",
       "    'imageUri': 'https://s3.amazonaws.com/ai2-vision-textbook-dataset/diagrams/diagram-question-images/glaciers_6930.png',\n",
       "    'type': 'Diagram Multiple Choice'},\n",
       "   'q0010': {'answerChoices': {'a': {'idStructural': 'a.',\n",
       "      'processedText': 'receding glacier',\n",
       "      'rawText': 'receding glacier'},\n",
       "     'b': {'idStructural': 'b.',\n",
       "      'processedText': 'rock bed',\n",
       "      'rawText': 'rock bed'},\n",
       "     'c': {'idStructural': 'c.',\n",
       "      'processedText': 'ground moraine',\n",
       "      'rawText': 'ground moraine'},\n",
       "     'd': {'idStructural': 'd.',\n",
       "      'processedText': 'Drumlin, kettles, and esker',\n",
       "      'rawText': 'Drumlin, kettles, and esker'}},\n",
       "    'beingAsked': {'processedText': 'Where do glaciers deposit their sediment?',\n",
       "     'rawText': 'Where do glaciers deposit their sediment?'},\n",
       "    'correctAnswer': {'processedText': 'Drumlin, kettles, and esker',\n",
       "     'rawText': 'Drumlin, kettles, and esker'},\n",
       "    'id': 'q0010',\n",
       "    'imageName': 'glaciers_6930.png',\n",
       "    'imageUri': 'https://s3.amazonaws.com/ai2-vision-textbook-dataset/diagrams/diagram-question-images/glaciers_6930.png',\n",
       "    'type': 'Diagram Multiple Choice'},\n",
       "   'q0011': {'answerChoices': {'a': {'idStructural': 'a.',\n",
       "      'processedText': '9',\n",
       "      'rawText': '9'},\n",
       "     'b': {'idStructural': 'b.', 'processedText': '5', 'rawText': '5'},\n",
       "     'c': {'idStructural': 'c.', 'processedText': '2', 'rawText': '2'},\n",
       "     'd': {'idStructural': 'd.', 'processedText': '3', 'rawText': '3'}},\n",
       "    'beingAsked': {'processedText': 'how many parts are shown in the diagram below?',\n",
       "     'rawText': 'how many parts are shown in the diagram below?'},\n",
       "    'correctAnswer': {'processedText': '9', 'rawText': '9'},\n",
       "    'id': 'q0011',\n",
       "    'imageName': 'glaciers_6930.png',\n",
       "    'imageUri': 'https://s3.amazonaws.com/ai2-vision-textbook-dataset/diagrams/diagram-question-images/glaciers_6930.png',\n",
       "    'type': 'Diagram Multiple Choice'},\n",
       "   'q0012': {'answerChoices': {'a': {'idStructural': 'a.',\n",
       "      'processedText': 'Esker.',\n",
       "      'rawText': 'Esker.'},\n",
       "     'b': {'idStructural': 'b.',\n",
       "      'processedText': 'Kettles.',\n",
       "      'rawText': 'Kettles.'},\n",
       "     'c': {'idStructural': 'c.',\n",
       "      'processedText': 'Ground moraine.',\n",
       "      'rawText': 'Ground moraine.'},\n",
       "     'd': {'idStructural': 'd.',\n",
       "      'processedText': 'Drumlin.',\n",
       "      'rawText': 'Drumlin.'}},\n",
       "    'beingAsked': {'processedText': 'A thick layer of sediments is left behind by a retreating glacier. What is it known as?',\n",
       "     'rawText': 'A thick layer of sediments is left behind by a retreating glacier. What is it known as?'},\n",
       "    'correctAnswer': {'processedText': 'Ground moraine.',\n",
       "     'rawText': 'Ground moraine.'},\n",
       "    'id': 'q0012',\n",
       "    'imageName': 'glaciers_6930.png',\n",
       "    'imageUri': 'https://s3.amazonaws.com/ai2-vision-textbook-dataset/diagrams/diagram-question-images/glaciers_6930.png',\n",
       "    'type': 'Diagram Multiple Choice'},\n",
       "   'q0013': {'answerChoices': {'a': {'idStructural': 'a.',\n",
       "      'processedText': 'Landforms deposited by glaciers include drumlins, kettle lakes, and eskers.',\n",
       "      'rawText': 'Landforms deposited by glaciers include drumlins, kettle lakes, and eskers.'},\n",
       "     'b': {'idStructural': 'b.',\n",
       "      'processedText': 'rock bed is found on top of the glacier',\n",
       "      'rawText': 'rock bed is found on top of the glacier'},\n",
       "     'c': {'idStructural': 'c.',\n",
       "      'processedText': 'rock bed does not support the glacier',\n",
       "      'rawText': 'rock bed does not support the glacier'},\n",
       "     'd': {'idStructural': 'd.',\n",
       "      'processedText': 'kettles are not part of glacier erosion',\n",
       "      'rawText': 'kettles are not part of glacier erosion'}},\n",
       "    'beingAsked': {'processedText': 'what are the features of the glacier erosion?',\n",
       "     'rawText': 'what are the features of the glacier erosion?'},\n",
       "    'correctAnswer': {'processedText': 'Landforms deposited by glaciers include drumlins, kettle lakes, and eskers.',\n",
       "     'rawText': 'Landforms deposited by glaciers include drumlins, kettle lakes, and eskers.'},\n",
       "    'id': 'q0013',\n",
       "    'imageName': 'glaciers_6930.png',\n",
       "    'imageUri': 'https://s3.amazonaws.com/ai2-vision-textbook-dataset/diagrams/diagram-question-images/glaciers_6930.png',\n",
       "    'type': 'Diagram Multiple Choice'},\n",
       "   'q0014': {'answerChoices': {'a': {'idStructural': 'a.',\n",
       "      'processedText': 'Sea Ice',\n",
       "      'rawText': 'Sea Ice'},\n",
       "     'b': {'idStructural': 'b.',\n",
       "      'processedText': 'Glacier Flow',\n",
       "      'rawText': 'Glacier Flow'},\n",
       "     'c': {'idStructural': 'c.',\n",
       "      'processedText': 'Antarctic Ice Sheet',\n",
       "      'rawText': 'Antarctic Ice Sheet'},\n",
       "     'd': {'idStructural': 'd.',\n",
       "      'processedText': 'Ice Shelf',\n",
       "      'rawText': 'Ice Shelf'}},\n",
       "    'beingAsked': {'processedText': 'Where does the snow accumulation happen?',\n",
       "     'rawText': 'Where does the snow accumulation happen?'},\n",
       "    'correctAnswer': {'processedText': 'Antarctic Ice Sheet',\n",
       "     'rawText': 'Antarctic Ice Sheet'},\n",
       "    'id': 'q0014',\n",
       "    'imageName': 'glaciers_6931.png',\n",
       "    'imageUri': 'https://s3.amazonaws.com/ai2-vision-textbook-dataset/diagrams/diagram-question-images/glaciers_6931.png',\n",
       "    'type': 'Diagram Multiple Choice'},\n",
       "   'q0015': {'answerChoices': {'a': {'idStructural': 'a.',\n",
       "      'processedText': 'Continental shelf',\n",
       "      'rawText': 'Continental shelf'},\n",
       "     'b': {'idStructural': 'b.',\n",
       "      'processedText': 'Icebergs',\n",
       "      'rawText': 'Icebergs'},\n",
       "     'c': {'idStructural': 'c.',\n",
       "      'processedText': 'Glacier flow',\n",
       "      'rawText': 'Glacier flow'},\n",
       "     'd': {'idStructural': 'd.',\n",
       "      'processedText': 'Grounding line',\n",
       "      'rawText': 'Grounding line'}},\n",
       "    'beingAsked': {'processedText': 'Where does Ice shelf forms?',\n",
       "     'rawText': 'Where does Ice shelf forms?'},\n",
       "    'correctAnswer': {'processedText': 'Glacier flow',\n",
       "     'rawText': 'Glacier flow'},\n",
       "    'id': 'q0015',\n",
       "    'imageName': 'glaciers_6931.png',\n",
       "    'imageUri': 'https://s3.amazonaws.com/ai2-vision-textbook-dataset/diagrams/diagram-question-images/glaciers_6931.png',\n",
       "    'type': 'Diagram Multiple Choice'},\n",
       "   'q0016': {'answerChoices': {'a': {'idStructural': 'a.',\n",
       "      'processedText': 'Ice Shelf',\n",
       "      'rawText': 'Ice Shelf'},\n",
       "     'b': {'idStructural': 'b.',\n",
       "      'processedText': 'Glacier Flow',\n",
       "      'rawText': 'Glacier Flow'},\n",
       "     'c': {'idStructural': 'c.',\n",
       "      'processedText': 'Icebergs',\n",
       "      'rawText': 'Icebergs'},\n",
       "     'd': {'idStructural': 'd.',\n",
       "      'processedText': 'Antarctic Ice Sheet',\n",
       "      'rawText': 'Antarctic Ice Sheet'}},\n",
       "    'beingAsked': {'processedText': \"Where in the diagram there's snow accumulation?\",\n",
       "     'rawText': \"Where in the diagram there's snow accumulation?\"},\n",
       "    'correctAnswer': {'processedText': 'Antarctic Ice Sheet',\n",
       "     'rawText': 'Antarctic Ice Sheet'},\n",
       "    'id': 'q0016',\n",
       "    'imageName': 'glaciers_6931.png',\n",
       "    'imageUri': 'https://s3.amazonaws.com/ai2-vision-textbook-dataset/diagrams/diagram-question-images/glaciers_6931.png',\n",
       "    'type': 'Diagram Multiple Choice'},\n",
       "   'q0017': {'answerChoices': {'a': {'idStructural': 'a.',\n",
       "      'processedText': 'ESA satellite',\n",
       "      'rawText': 'ESA satellite'},\n",
       "     'b': {'idStructural': 'b.',\n",
       "      'processedText': 'Icebergs',\n",
       "      'rawText': 'Icebergs'},\n",
       "     'c': {'idStructural': 'c.',\n",
       "      'processedText': 'Buoyant melt plume',\n",
       "      'rawText': 'Buoyant melt plume'},\n",
       "     'd': {'idStructural': 'd.',\n",
       "      'processedText': 'Surface crevasses',\n",
       "      'rawText': 'Surface crevasses'}},\n",
       "    'beingAsked': {'processedText': 'Which is located beneath the ice shelf?',\n",
       "     'rawText': 'Which is located beneath the ice shelf?'},\n",
       "    'correctAnswer': {'processedText': 'Buoyant melt plume',\n",
       "     'rawText': 'Buoyant melt plume'},\n",
       "    'id': 'q0017',\n",
       "    'imageName': 'glaciers_6931.png',\n",
       "    'imageUri': 'https://s3.amazonaws.com/ai2-vision-textbook-dataset/diagrams/diagram-question-images/glaciers_6931.png',\n",
       "    'type': 'Diagram Multiple Choice'},\n",
       "   'q0018': {'answerChoices': {'a': {'idStructural': 'a.',\n",
       "      'processedText': '1',\n",
       "      'rawText': '1'},\n",
       "     'b': {'idStructural': 'b.', 'processedText': '2', 'rawText': '2'},\n",
       "     'c': {'idStructural': 'c.', 'processedText': '6', 'rawText': '6'},\n",
       "     'd': {'idStructural': 'd.', 'processedText': '4', 'rawText': '4'}},\n",
       "    'beingAsked': {'processedText': 'How many satellites are in the diagram?',\n",
       "     'rawText': 'How many satellites are in the diagram?'},\n",
       "    'correctAnswer': {'processedText': '1', 'rawText': '1'},\n",
       "    'id': 'q0018',\n",
       "    'imageName': 'glaciers_6931.png',\n",
       "    'imageUri': 'https://s3.amazonaws.com/ai2-vision-textbook-dataset/diagrams/diagram-question-images/glaciers_6931.png',\n",
       "    'type': 'Diagram Multiple Choice'},\n",
       "   'q0019': {'answerChoices': {'a': {'idStructural': 'a.',\n",
       "      'processedText': '3',\n",
       "      'rawText': '3'},\n",
       "     'b': {'idStructural': 'b.', 'processedText': '1', 'rawText': '1'},\n",
       "     'c': {'idStructural': 'c.', 'processedText': '5', 'rawText': '5'},\n",
       "     'd': {'idStructural': 'd.', 'processedText': '2', 'rawText': '2'}},\n",
       "    'beingAsked': {'processedText': \"How many of these aren't on the mountainous part?\",\n",
       "     'rawText': \"How many of these aren't on the mountainous part?\"},\n",
       "    'correctAnswer': {'processedText': '2', 'rawText': '2'},\n",
       "    'id': 'q0019',\n",
       "    'imageName': 'glaciers_6932.png',\n",
       "    'imageUri': 'https://s3.amazonaws.com/ai2-vision-textbook-dataset/diagrams/diagram-question-images/glaciers_6932.png',\n",
       "    'type': 'Diagram Multiple Choice'},\n",
       "   'q0020': {'answerChoices': {'a': {'idStructural': 'a.',\n",
       "      'processedText': '3',\n",
       "      'rawText': '3'},\n",
       "     'b': {'idStructural': 'b.', 'processedText': '6', 'rawText': '6'},\n",
       "     'c': {'idStructural': 'c.', 'processedText': '2', 'rawText': '2'},\n",
       "     'd': {'idStructural': 'd.', 'processedText': '1', 'rawText': '1'}},\n",
       "    'beingAsked': {'processedText': 'Steps of glacier formation.',\n",
       "     'rawText': 'Steps of glacier formation.'},\n",
       "    'correctAnswer': {'processedText': '6', 'rawText': '6'},\n",
       "    'id': 'q0020',\n",
       "    'imageName': 'glaciers_6932.png',\n",
       "    'imageUri': 'https://s3.amazonaws.com/ai2-vision-textbook-dataset/diagrams/diagram-question-images/glaciers_6932.png',\n",
       "    'type': 'Diagram Multiple Choice'},\n",
       "   'q0021': {'answerChoices': {'a': {'idStructural': 'a.',\n",
       "      'processedText': 'snowfall - equilibrium line- medial moraine - snout - melting evaporation',\n",
       "      'rawText': 'snowfall - equilibrium line- medial moraine - snout - melting evaporation'},\n",
       "     'b': {'idStructural': 'b.',\n",
       "      'processedText': 'snow - snout',\n",
       "      'rawText': 'snow - snout'},\n",
       "     'c': {'idStructural': 'c.',\n",
       "      'processedText': 'snow - lateral moraine - snout',\n",
       "      'rawText': 'snow - lateral moraine - snout'},\n",
       "     'd': {'idStructural': 'd.',\n",
       "      'processedText': 'snow - medial moraine - melting',\n",
       "      'rawText': 'snow - medial moraine - melting'}},\n",
       "    'beingAsked': {'processedText': 'how do glaciers reach the melting evaporation stage?',\n",
       "     'rawText': 'how do glaciers reach the melting evaporation stage?'},\n",
       "    'correctAnswer': {'processedText': 'snowfall - equilibrium line- medial moraine - snout - melting evaporation',\n",
       "     'rawText': 'snowfall - equilibrium line- medial moraine - snout - melting evaporation'},\n",
       "    'id': 'q0021',\n",
       "    'imageName': 'glaciers_6933.png',\n",
       "    'imageUri': 'https://s3.amazonaws.com/ai2-vision-textbook-dataset/diagrams/diagram-question-images/glaciers_6933.png',\n",
       "    'type': 'Diagram Multiple Choice'},\n",
       "   'q0022': {'answerChoices': {'a': {'idStructural': 'a.',\n",
       "      'processedText': '8',\n",
       "      'rawText': '8'},\n",
       "     'b': {'idStructural': 'b.', 'processedText': '10', 'rawText': '10'},\n",
       "     'c': {'idStructural': 'c.', 'processedText': '7', 'rawText': '7'},\n",
       "     'd': {'idStructural': 'd.', 'processedText': '9', 'rawText': '9'}},\n",
       "    'beingAsked': {'processedText': 'how many parts are there in this picture?',\n",
       "     'rawText': 'how many parts are there in this picture?'},\n",
       "    'correctAnswer': {'processedText': '9', 'rawText': '9'},\n",
       "    'id': 'q0022',\n",
       "    'imageName': 'glaciers_6934.png',\n",
       "    'imageUri': 'https://s3.amazonaws.com/ai2-vision-textbook-dataset/diagrams/diagram-question-images/glaciers_6934.png',\n",
       "    'type': 'Diagram Multiple Choice'},\n",
       "   'q0023': {'answerChoices': {'a': {'idStructural': 'a.',\n",
       "      'processedText': '2',\n",
       "      'rawText': '2'},\n",
       "     'b': {'idStructural': 'b.', 'processedText': '1', 'rawText': '1'},\n",
       "     'c': {'idStructural': 'c.', 'processedText': '3', 'rawText': '3'},\n",
       "     'd': {'idStructural': 'd.', 'processedText': '4', 'rawText': '4'}},\n",
       "    'beingAsked': {'processedText': 'How many rock beds are there in the diagram?',\n",
       "     'rawText': 'How many rock beds are there in the diagram?'},\n",
       "    'correctAnswer': {'processedText': '1', 'rawText': '1'},\n",
       "    'id': 'q0023',\n",
       "    'imageName': 'glaciers_6934.png',\n",
       "    'imageUri': 'https://s3.amazonaws.com/ai2-vision-textbook-dataset/diagrams/diagram-question-images/glaciers_6934.png',\n",
       "    'type': 'Diagram Multiple Choice'},\n",
       "   'q0024': {'answerChoices': {'a': {'idStructural': 'a.',\n",
       "      'processedText': 'Margin of glacier',\n",
       "      'rawText': 'Margin of glacier'},\n",
       "     'b': {'idStructural': 'b.',\n",
       "      'processedText': 'Ablation zone',\n",
       "      'rawText': 'Ablation zone'},\n",
       "     'c': {'idStructural': 'c.',\n",
       "      'processedText': 'Ice front',\n",
       "      'rawText': 'Ice front'},\n",
       "     'd': {'idStructural': 'd.',\n",
       "      'processedText': 'Accumulation zone',\n",
       "      'rawText': 'Accumulation zone'}},\n",
       "    'beingAsked': {'processedText': 'What is the zone above the equilibrium line where snow and neve are compresses and turn into glacier ice?',\n",
       "     'rawText': 'What is the zone above the equilibrium line where snow and neve are compresses and turn into glacier ice?'},\n",
       "    'correctAnswer': {'processedText': 'Accumulation zone',\n",
       "     'rawText': 'Accumulation zone'},\n",
       "    'id': 'q0024',\n",
       "    'imageName': 'glaciers_6935.png',\n",
       "    'imageUri': 'https://s3.amazonaws.com/ai2-vision-textbook-dataset/diagrams/diagram-question-images/glaciers_6935.png',\n",
       "    'type': 'Diagram Multiple Choice'},\n",
       "   'q0025': {'answerChoices': {'a': {'idStructural': 'a.',\n",
       "      'processedText': 'Ablation zone',\n",
       "      'rawText': 'Ablation zone'},\n",
       "     'b': {'idStructural': 'b.',\n",
       "      'processedText': 'Equilibrium line',\n",
       "      'rawText': 'Equilibrium line'},\n",
       "     'c': {'idStructural': 'c.',\n",
       "      'processedText': 'Accumulation zone',\n",
       "      'rawText': 'Accumulation zone'},\n",
       "     'd': {'idStructural': 'd.',\n",
       "      'processedText': 'Sediments',\n",
       "      'rawText': 'Sediments'}},\n",
       "    'beingAsked': {'processedText': 'Identify the area of a glacier where the removal of snow and ice is greater than the amount replaced.',\n",
       "     'rawText': 'Identify the area of a glacier where the removal of snow and ice is greater than the amount replaced.'},\n",
       "    'correctAnswer': {'processedText': 'Ablation zone',\n",
       "     'rawText': 'Ablation zone'},\n",
       "    'id': 'q0025',\n",
       "    'imageName': 'glaciers_6935.png',\n",
       "    'imageUri': 'https://s3.amazonaws.com/ai2-vision-textbook-dataset/diagrams/diagram-question-images/glaciers_6935.png',\n",
       "    'type': 'Diagram Multiple Choice'},\n",
       "   'q0026': {'answerChoices': {'a': {'idStructural': 'a.',\n",
       "      'processedText': '5',\n",
       "      'rawText': '5'},\n",
       "     'b': {'idStructural': 'b.', 'processedText': '8', 'rawText': '8'},\n",
       "     'c': {'idStructural': 'c.', 'processedText': '6', 'rawText': '6'},\n",
       "     'd': {'idStructural': 'd.', 'processedText': '7', 'rawText': '7'}},\n",
       "    'beingAsked': {'processedText': 'how many parts are shown in the diagram below?',\n",
       "     'rawText': 'how many parts are shown in the diagram below?'},\n",
       "    'correctAnswer': {'processedText': '8', 'rawText': '8'},\n",
       "    'id': 'q0026',\n",
       "    'imageName': 'glaciers_6935.png',\n",
       "    'imageUri': 'https://s3.amazonaws.com/ai2-vision-textbook-dataset/diagrams/diagram-question-images/glaciers_6935.png',\n",
       "    'type': 'Diagram Multiple Choice'},\n",
       "   'q0027': {'answerChoices': {'a': {'idStructural': 'a.',\n",
       "      'processedText': 'accumulation zone',\n",
       "      'rawText': 'accumulation zone'},\n",
       "     'b': {'idStructural': 'b.',\n",
       "      'processedText': 'ablation zone',\n",
       "      'rawText': 'ablation zone'},\n",
       "     'c': {'idStructural': 'c.',\n",
       "      'processedText': 'ice front',\n",
       "      'rawText': 'ice front'},\n",
       "     'd': {'idStructural': 'd.',\n",
       "      'processedText': 'sedimentary zone',\n",
       "      'rawText': 'sedimentary zone'}},\n",
       "    'beingAsked': {'processedText': 'What are all the parts of the glacier above the equilibrium line called?',\n",
       "     'rawText': 'What are all the parts of the glacier above the equilibrium line called?'},\n",
       "    'correctAnswer': {'processedText': 'accumulation zone',\n",
       "     'rawText': 'accumulation zone'},\n",
       "    'id': 'q0027',\n",
       "    'imageName': 'glaciers_6935.png',\n",
       "    'imageUri': 'https://s3.amazonaws.com/ai2-vision-textbook-dataset/diagrams/diagram-question-images/glaciers_6935.png',\n",
       "    'type': 'Diagram Multiple Choice'},\n",
       "   'q0028': {'answerChoices': {'a': {'idStructural': 'a.',\n",
       "      'processedText': 'Zone of Abrasion',\n",
       "      'rawText': 'Zone of Abrasion'},\n",
       "     'b': {'idStructural': 'b.',\n",
       "      'processedText': 'Zone of Plucking',\n",
       "      'rawText': 'Zone of Plucking'},\n",
       "     'c': {'idStructural': 'c.',\n",
       "      'processedText': 'Tarn (lake)',\n",
       "      'rawText': 'Tarn (lake)'},\n",
       "     'd': {'idStructural': 'd.',\n",
       "      'processedText': 'Headwall',\n",
       "      'rawText': 'Headwall'}},\n",
       "    'beingAsked': {'processedText': 'What will form when the glacier melts?',\n",
       "     'rawText': 'What will form when the glacier melts?'},\n",
       "    'correctAnswer': {'processedText': 'Tarn (lake)',\n",
       "     'rawText': 'Tarn (lake)'},\n",
       "    'id': 'q0028',\n",
       "    'imageName': 'glaciers_6937.png',\n",
       "    'imageUri': 'https://s3.amazonaws.com/ai2-vision-textbook-dataset/diagrams/diagram-question-images/glaciers_6937.png',\n",
       "    'type': 'Diagram Multiple Choice'},\n",
       "   'q0029': {'answerChoices': {'a': {'idStructural': 'a.',\n",
       "      'processedText': 'terminal moraine',\n",
       "      'rawText': 'terminal moraine'},\n",
       "     'b': {'idStructural': 'b.',\n",
       "      'processedText': 'zone of plucking',\n",
       "      'rawText': 'zone of plucking'},\n",
       "     'c': {'idStructural': 'c.',\n",
       "      'processedText': 'zone of abrasion',\n",
       "      'rawText': 'zone of abrasion'},\n",
       "     'd': {'idStructural': 'd.', 'processedText': 'tarn', 'rawText': 'tarn'}},\n",
       "    'beingAsked': {'processedText': 'What stops the glacial ice from flowing through?',\n",
       "     'rawText': 'What stops the glacial ice from flowing through?'},\n",
       "    'correctAnswer': {'processedText': 'terminal moraine',\n",
       "     'rawText': 'terminal moraine'},\n",
       "    'id': 'q0029',\n",
       "    'imageName': 'glaciers_6937.png',\n",
       "    'imageUri': 'https://s3.amazonaws.com/ai2-vision-textbook-dataset/diagrams/diagram-question-images/glaciers_6937.png',\n",
       "    'type': 'Diagram Multiple Choice'},\n",
       "   'q0030': {'answerChoices': {'a': {'idStructural': 'a.',\n",
       "      'processedText': 'Zone of Abrasion',\n",
       "      'rawText': 'Zone of Abrasion'},\n",
       "     'b': {'idStructural': 'b.',\n",
       "      'processedText': 'Glacial Ice',\n",
       "      'rawText': 'Glacial Ice'},\n",
       "     'c': {'idStructural': 'c.',\n",
       "      'processedText': 'Zone of Plucking',\n",
       "      'rawText': 'Zone of Plucking'},\n",
       "     'd': {'idStructural': 'd.',\n",
       "      'processedText': 'Terminal Moraine',\n",
       "      'rawText': 'Terminal Moraine'}},\n",
       "    'beingAsked': {'processedText': 'What is located below the Headwall?',\n",
       "     'rawText': 'What is located below the Headwall?'},\n",
       "    'correctAnswer': {'processedText': 'Zone of Plucking',\n",
       "     'rawText': 'Zone of Plucking'},\n",
       "    'id': 'q0030',\n",
       "    'imageName': 'glaciers_6937.png',\n",
       "    'imageUri': 'https://s3.amazonaws.com/ai2-vision-textbook-dataset/diagrams/diagram-question-images/glaciers_6937.png',\n",
       "    'type': 'Diagram Multiple Choice'},\n",
       "   'q0031': {'answerChoices': {'a': {'idStructural': 'a.',\n",
       "      'processedText': 'cirque',\n",
       "      'rawText': 'cirque'},\n",
       "     'b': {'idStructural': 'b.', 'processedText': 'arete', 'rawText': 'arete'},\n",
       "     'c': {'idStructural': 'c.',\n",
       "      'processedText': 'truncated spur',\n",
       "      'rawText': 'truncated spur'},\n",
       "     'd': {'idStructural': 'd.', 'processedText': 'horn', 'rawText': 'horn'}},\n",
       "    'beingAsked': {'processedText': 'From the diagram, identify the part which refers to a rounded hollow carved in the side of a mountain by a glacier.',\n",
       "     'rawText': 'From the diagram, identify the part which refers to a rounded hollow carved in the side of a mountain by a glacier.'},\n",
       "    'correctAnswer': {'processedText': 'cirque', 'rawText': 'cirque'},\n",
       "    'id': 'q0031',\n",
       "    'imageName': 'glaciers_6938.png',\n",
       "    'imageUri': 'https://s3.amazonaws.com/ai2-vision-textbook-dataset/diagrams/diagram-question-images/glaciers_6938.png',\n",
       "    'type': 'Diagram Multiple Choice'},\n",
       "   'q0032': {'answerChoices': {'a': {'idStructural': 'a.',\n",
       "      'processedText': 'Horn',\n",
       "      'rawText': 'Horn'},\n",
       "     'b': {'idStructural': 'b.',\n",
       "      'processedText': 'Truncated spur',\n",
       "      'rawText': 'Truncated spur'},\n",
       "     'c': {'idStructural': 'c.',\n",
       "      'processedText': 'Medial moraine',\n",
       "      'rawText': 'Medial moraine'},\n",
       "     'd': {'idStructural': 'd.',\n",
       "      'processedText': 'Cirques',\n",
       "      'rawText': 'Cirques'}},\n",
       "    'beingAsked': {'processedText': 'The diagram shows valleys that are caused by glacier erosion. What are these valleys called?',\n",
       "     'rawText': 'The diagram shows valleys that are caused by glacier erosion. What are these valleys called?'},\n",
       "    'correctAnswer': {'processedText': 'Cirques', 'rawText': 'Cirques'},\n",
       "    'id': 'q0032',\n",
       "    'imageName': 'glaciers_6938.png',\n",
       "    'imageUri': 'https://s3.amazonaws.com/ai2-vision-textbook-dataset/diagrams/diagram-question-images/glaciers_6938.png',\n",
       "    'type': 'Diagram Multiple Choice'},\n",
       "   'q0033': {'answerChoices': {'a': {'idStructural': 'a.',\n",
       "      'processedText': 'Air',\n",
       "      'rawText': 'Air'},\n",
       "     'b': {'idStructural': 'b.', 'processedText': 'Ice', 'rawText': 'Ice'},\n",
       "     'c': {'idStructural': 'c.', 'processedText': 'Soil', 'rawText': 'Soil'},\n",
       "     'd': {'idStructural': 'd.', 'processedText': 'Rock', 'rawText': 'Rock'}},\n",
       "    'beingAsked': {'processedText': 'What does a glacier insist of?',\n",
       "     'rawText': 'What does a glacier insist of?'},\n",
       "    'correctAnswer': {'processedText': 'Ice', 'rawText': 'Ice'},\n",
       "    'id': 'q0033',\n",
       "    'imageName': 'glaciers_6938.png',\n",
       "    'imageUri': 'https://s3.amazonaws.com/ai2-vision-textbook-dataset/diagrams/diagram-question-images/glaciers_6938.png',\n",
       "    'type': 'Diagram Multiple Choice'}}}}"
      ]
     },
     "execution_count": 432,
     "metadata": {},
     "output_type": "execute_result"
    }
   ],
   "source": [
    "refined_questions['10.4 Erosion and Deposition by Glaciers']"
   ]
  },
  {
   "cell_type": "code",
   "execution_count": 435,
   "metadata": {
    "collapsed": false,
    "hidden": true,
    "run_control": {
     "frozen": false,
     "read_only": false
    }
   },
   "outputs": [
    {
     "data": {
      "text/plain": [
       "33"
      ]
     },
     "execution_count": 435,
     "metadata": {},
     "output_type": "execute_result"
    }
   ],
   "source": [
    "len(ck12_combined_dataset['earth-science']['10.4 Erosion and Deposition by Glaciers']['questions']['diagramQuestions'])"
   ]
  },
  {
   "cell_type": "code",
   "execution_count": 436,
   "metadata": {
    "collapsed": false,
    "hidden": true,
    "run_control": {
     "frozen": false,
     "read_only": false
    }
   },
   "outputs": [
    {
     "data": {
      "text/plain": [
       "31"
      ]
     },
     "execution_count": 436,
     "metadata": {},
     "output_type": "execute_result"
    }
   ],
   "source": [
    "len(ck12_combined_dataset['earth-science']['10.4 Erosion and Deposition by Glaciers']['questions']['nonDiagramQuestions'])"
   ]
  },
  {
   "cell_type": "code",
   "execution_count": 337,
   "metadata": {
    "collapsed": false,
    "hidden": true,
    "run_control": {
     "frozen": false,
     "read_only": false
    }
   },
   "outputs": [],
   "source": [
    "val_counts=dr_proc_df['lesson_assigned_to'].value_counts()"
   ]
  },
  {
   "cell_type": "code",
   "execution_count": 347,
   "metadata": {
    "collapsed": true,
    "hidden": true,
    "run_control": {
     "frozen": false,
     "read_only": false
    }
   },
   "outputs": [
    {
     "data": {
      "text/plain": [
       "['1.4 The Microscope',\n",
       " '10.1 Erosion and Deposition by Flowing Water',\n",
       " '10.1 Introduction to Plants',\n",
       " '10.2 Evolution and Classification of Plants',\n",
       " '10.4 Erosion and Deposition by Glaciers',\n",
       " '11.1 Fossils',\n",
       " '11.2 Relative Ages of Rocks',\n",
       " '11.3 Absolute Ages of Rocks',\n",
       " '11.3 Nuclear Energy',\n",
       " '12.2 Flatworms and Roundworms',\n",
       " '12.3 Acceleration',\n",
       " '12.4 Insects and Other Arthropods',\n",
       " '12.5 Echinoderms and Invertebrate Chordates',\n",
       " '13.2 Fish',\n",
       " '13.3 Groundwater',\n",
       " '14.1 Introduction to the Oceans',\n",
       " '14.2 Ocean Movements',\n",
       " '14.3 The Ocean Floor',\n",
       " '15.3 Layers of the Atmosphere',\n",
       " '16.2 The Integumentary System',\n",
       " '16.3 Simple Machines',\n",
       " '16.3 The Skeletal System',\n",
       " '16.4 The Muscular System',\n",
       " '17.1 Climate and Its Causes',\n",
       " '17.3 The Digestive System',\n",
       " '18.1 Overview of the Cardiovascular System',\n",
       " '18.2 Cycles of Matter',\n",
       " '18.2 Transfer of Thermal Energy',\n",
       " '19.1 The Respiratory System',\n",
       " '19.2 Measuring Waves',\n",
       " '19.2 The Excretory System',\n",
       " '19.3 Wave Interactions and Interference',\n",
       " '20.1 The Nervous System',\n",
       " '20.2 The Senses',\n",
       " '21.3 First Two Lines of Defense',\n",
       " '21.3 The Electromagnetic Spectrum',\n",
       " '21.4 Immune System Defenses',\n",
       " '22.1 Air Pollution',\n",
       " '22.1 Male Reproductive System',\n",
       " '22.2 Effects of Air Pollution',\n",
       " '22.2 Optics',\n",
       " '22.3 Reproduction and Life Stages',\n",
       " '22.3 Vision',\n",
       " '23.3 Electric Circuits',\n",
       " '24.1 Flow of Energy',\n",
       " '24.1 Planet Earth',\n",
       " '24.2 Cycles of Matter',\n",
       " '24.2 Earth as a Magnet',\n",
       " '24.3 The Sun',\n",
       " '24.4 The Sun and the EarthMoon System',\n",
       " '25.1 Introduction to the Solar System',\n",
       " '25.2 Using Electromagnetism',\n",
       " '3.1 Properties of Matter',\n",
       " '3.2 Cell Structures',\n",
       " '4.1 Solids Liquids Gases and Plasmas',\n",
       " '4.1 Types of Rocks',\n",
       " '4.2 Photosynthesis',\n",
       " '4.3 Changes of State',\n",
       " '5.1 Cell Division',\n",
       " '5.1 Inside the Atom',\n",
       " '6.1 How Elements Are Organized',\n",
       " '6.1 Inside Earth',\n",
       " '6.2 Continental Drift',\n",
       " '6.3 Seafloor Spreading',\n",
       " '6.4 Theory of Plate Tectonics',\n",
       " '7.1 Introduction to Chemical Bonds',\n",
       " '7.1 Stress in Earths Crust',\n",
       " '7.2 Ionic Bonds',\n",
       " '7.2 Nature of Earthquakes',\n",
       " '7.3 Covalent Bonds',\n",
       " '7.4 History of Life on Earth',\n",
       " '8.3 Types of Volcanoes',\n",
       " '9.1 Protists',\n",
       " '9.2 Fungi',\n",
       " '9.2 Hydrocarbons',\n",
       " '9.2 Soils',\n",
       " '9.4 Biochemical Reactions',\n",
       " 'cell biology',\n",
       " 'climate zones and biomes',\n",
       " 'clouds',\n",
       " 'eclipses',\n",
       " 'greenhouse effect',\n",
       " 'law of reflection',\n",
       " 'nucleic acid classification',\n",
       " 'revolutions of earth',\n",
       " 'rotation of earth',\n",
       " 'surface ocean currents']"
      ]
     },
     "execution_count": 347,
     "metadata": {},
     "output_type": "execute_result"
    }
   ],
   "source": [
    "sorted(list(refined_questions.keys()))"
   ]
  },
  {
   "cell_type": "code",
   "execution_count": 361,
   "metadata": {
    "collapsed": false,
    "hidden": true,
    "run_control": {
     "frozen": false,
     "read_only": false
    }
   },
   "outputs": [
    {
     "data": {
      "text/plain": [
       "{}"
      ]
     },
     "execution_count": 361,
     "metadata": {},
     "output_type": "execute_result"
    }
   ],
   "source": [
    "ck12_combined_dataset['earth-science']['18.1 Ecosystems']['questions']['diagramQuestions']"
   ]
  },
  {
   "cell_type": "code",
   "execution_count": null,
   "metadata": {
    "collapsed": true,
    "hidden": true,
    "run_control": {
     "frozen": false,
     "read_only": false
    }
   },
   "outputs": [],
   "source": []
  },
  {
   "cell_type": "code",
   "execution_count": null,
   "metadata": {
    "collapsed": true,
    "hidden": true,
    "run_control": {
     "frozen": false,
     "read_only": false
    }
   },
   "outputs": [],
   "source": []
  },
  {
   "cell_type": "code",
   "execution_count": null,
   "metadata": {
    "collapsed": true,
    "hidden": true,
    "run_control": {
     "frozen": false,
     "read_only": false
    }
   },
   "outputs": [],
   "source": []
  },
  {
   "cell_type": "code",
   "execution_count": null,
   "metadata": {
    "collapsed": true,
    "hidden": true,
    "run_control": {
     "frozen": false,
     "read_only": false
    }
   },
   "outputs": [],
   "source": []
  },
  {
   "cell_type": "markdown",
   "metadata": {
    "heading_collapsed": true
   },
   "source": [
    "## merge descriptions"
   ]
  },
  {
   "cell_type": "code",
   "execution_count": 437,
   "metadata": {
    "collapsed": false,
    "hidden": true,
    "run_control": {
     "frozen": false,
     "read_only": false
    }
   },
   "outputs": [],
   "source": [
    "def make_description_entry(qdf_row):\n",
    "    description = qdf_row[qdf_row.index == 'Description'].values[0]\n",
    "    q_topic = qdf_row[qdf_row.index == 'lesson_assigned_to'].values[0]\n",
    "    image_uri = qdf_row[qdf_row.index == 's3_uri'].values[0]\n",
    "    image_name = qdf_row[qdf_row.index == 'diagram'].values[0]\n",
    "\n",
    "    single_desc_dict = {\n",
    "        \n",
    "        \"imageUri\": image_uri,\n",
    "        \"imageName\": image_name,\n",
    "        \"rawText\": description,\n",
    "        \"processedText\": description.encode('ascii', 'ignore').decode('utf-8')\n",
    "    }\n",
    "    build_descriptions[q_topic].update({image_name.replace('.png', ''): single_desc_dict})"
   ]
  },
  {
   "cell_type": "code",
   "execution_count": 438,
   "metadata": {
    "collapsed": false,
    "hidden": true,
    "run_control": {
     "frozen": false,
     "read_only": false
    },
    "scrolled": true
   },
   "outputs": [],
   "source": [
    "%%capture\n",
    "ai2_written_df_completed['topic'] = ai2_written_df_completed['diagram'].apply(lambda x: x.rsplit('_', maxsplit=1)[0])\n",
    "ai2_written_df_completed['lesson_assigned_to'] = ai2_written_df_completed['topic'].apply(lambda x: diagram_lesson_lookup[x])\n",
    "ai2_written_df_completed['s3_uri'] = ai2_written_df_completed['Image Path'].apply(make_image_link)\n",
    "ai2_written_df_completed = ai2_written_df_completed.dropna()"
   ]
  },
  {
   "cell_type": "code",
   "execution_count": 439,
   "metadata": {
    "collapsed": false,
    "hidden": true,
    "run_control": {
     "frozen": false,
     "read_only": false
    }
   },
   "outputs": [
    {
     "data": {
      "text/plain": [
       "(83, 7)"
      ]
     },
     "execution_count": 439,
     "metadata": {},
     "output_type": "execute_result"
    }
   ],
   "source": [
    "ai2_written_df_completed.shape"
   ]
  },
  {
   "cell_type": "code",
   "execution_count": 440,
   "metadata": {
    "collapsed": false,
    "hidden": true,
    "run_control": {
     "frozen": false,
     "read_only": false
    }
   },
   "outputs": [],
   "source": [
    "%%capture\n",
    "desc_df['topic'] = desc_df['diagram'].apply(lambda x: x.rsplit('_', maxsplit=1)[0])\n",
    "desc_df['lesson_assigned_to'] = desc_df['topic'].apply(lambda x: diagram_lesson_lookup[x])\n",
    "desc_df['s3_uri'] = desc_df['reference_id'].apply(make_image_link)\n",
    "desc_df['Description'] = desc_df['01_write_description']             "
   ]
  },
  {
   "cell_type": "code",
   "execution_count": 447,
   "metadata": {
    "collapsed": true,
    "hidden": true,
    "run_control": {
     "frozen": false,
     "read_only": false
    }
   },
   "outputs": [],
   "source": [
    "build_descriptions = defaultdict(dict)"
   ]
  },
  {
   "cell_type": "code",
   "execution_count": 448,
   "metadata": {
    "collapsed": false,
    "hidden": true,
    "run_control": {
     "frozen": false,
     "read_only": false
    }
   },
   "outputs": [],
   "source": [
    "_ = desc_df.apply(make_description_entry, axis=1)\n",
    "_ = ai2_written_df_completed.apply(make_description_entry, axis=1)"
   ]
  },
  {
   "cell_type": "code",
   "execution_count": 449,
   "metadata": {
    "collapsed": false,
    "hidden": true,
    "run_control": {
     "frozen": false,
     "read_only": false
    }
   },
   "outputs": [
    {
     "data": {
      "text/plain": [
       "dict_keys(['5.1 Inside the Atom', '3.2 Cell Structures', '10.4 Erosion and Deposition by Glaciers', '22.1 Male Reproductive System', '11.3 Absolute Ages of Rocks', '18.2 Cycles of Matter', '7.3 Covalent Bonds', '9.2 Fungi', '25.1 Introduction to the Solar System', '14.2 Ocean Movements', '12.3 Acceleration', '9.4 Biochemical Reactions', '24.2 Cycles of Matter', '11.2 Relative Ages of Rocks', '20.1 The Nervous System', '4.1 Types of Rocks', '6.3 Seafloor Spreading', '22.2 Optics', 'cell biology', '3.1 Properties of Matter', '22.1 Air Pollution', 'nucleic acid classification', '10.1 Introduction to Plants', '21.4 Immune System Defenses', '17.1 Climate and Its Causes', '13.3 Groundwater', '4.2 Photosynthesis', '7.4 History of Life on Earth', '4.3 Changes of State', '9.2 Soils', '9.1 Protists', '14.1 Introduction to the Oceans', '12.4 Insects and Other Arthropods', '18.1 Overview of the Cardiovascular System', '6.2 Continental Drift', 'greenhouse effect', '25.2 Using Electromagnetism', '23.3 Electric Circuits', '6.1 Inside Earth', 'rotation of earth', '6.1 How Elements Are Organized', '19.2 The Excretory System', '17.3 The Digestive System', '14.3 The Ocean Floor', '16.3 The Skeletal System', 'climate zones and biomes', '18.2 Transfer of Thermal Energy', '15.3 Layers of the Atmosphere', '5.1 Cell Division', 'surface ocean currents', '7.2 Ionic Bonds', '12.5 Echinoderms and Invertebrate Chordates', '16.4 The Muscular System', '16.2 The Integumentary System', '20.2 The Senses', '21.3 The Electromagnetic Spectrum', '7.1 Stress in Earths Crust', '24.3 The Sun', '24.2 Earth as a Magnet', '7.2 Nature of Earthquakes', '10.1 Erosion and Deposition by Flowing Water', '24.1 Flow of Energy', '19.3 Wave Interactions and Interference', '1.4 The Microscope', 'law of reflection', '21.3 First Two Lines of Defense', 'eclipses', '24.4 The Sun and the EarthMoon System', '22.3 Reproduction and Life Stages', '4.1 Solids Liquids Gases and Plasmas', 'clouds', '13.2 Fish', '16.3 Simple Machines', '10.2 Evolution and Classification of Plants', 'revolutions of earth', '8.3 Types of Volcanoes', '24.1 Planet Earth', '7.1 Introduction to Chemical Bonds', '9.2 Hydrocarbons', '11.1 Fossils', '22.3 Vision', '22.2 Effects of Air Pollution', '6.4 Theory of Plate Tectonics', '19.2 Measuring Waves', '19.1 The Respiratory System', '12.2 Flatworms and Roundworms', '11.3 Nuclear Energy'])"
      ]
     },
     "execution_count": 449,
     "metadata": {},
     "output_type": "execute_result"
    }
   ],
   "source": [
    "build_descriptions.keys()"
   ]
  },
  {
   "cell_type": "code",
   "execution_count": 444,
   "metadata": {
    "collapsed": false,
    "hidden": true,
    "run_control": {
     "frozen": false,
     "read_only": false
    }
   },
   "outputs": [
    {
     "data": {
      "text/plain": [
       "(86,)"
      ]
     },
     "execution_count": 444,
     "metadata": {},
     "output_type": "execute_result"
    }
   ],
   "source": [
    "pd.unique(desc_df['lesson_assigned_to']).shape"
   ]
  },
  {
   "cell_type": "code",
   "execution_count": 451,
   "metadata": {
    "collapsed": false,
    "hidden": true,
    "run_control": {
     "frozen": false,
     "read_only": false
    }
   },
   "outputs": [],
   "source": [
    "for subject, lessons in ck12_combined_dataset.items():\n",
    "    for l_name, lesson in lessons.items():\n",
    "        if l_name in refined_descriptions.keys():\n",
    "            lesson['instructionalDiagrams'] = build_descriptions[l_name]\n",
    "        else:\n",
    "            lesson['instructionalDiagrams'] = {}"
   ]
  },
  {
   "cell_type": "code",
   "execution_count": 452,
   "metadata": {
    "collapsed": false,
    "hidden": true,
    "run_control": {
     "frozen": false,
     "read_only": false
    }
   },
   "outputs": [],
   "source": [
    "with open(output_dir + 'ck12_dataset_beta_v4.json', 'w') as f:\n",
    "    json.dump(ck12_combined_dataset, f, indent=4, sort_keys=True)"
   ]
  },
  {
   "cell_type": "code",
   "execution_count": 6,
   "metadata": {
    "collapsed": true,
    "hidden": true
   },
   "outputs": [],
   "source": [
    "with open(output_dir + 'ck12_dataset_beta_v4.json', 'r') as f:\n",
    "    ck12_combined_dataset = json.load(f)"
   ]
  },
  {
   "cell_type": "markdown",
   "metadata": {
    "collapsed": true,
    "run_control": {
     "frozen": false,
     "read_only": false
    }
   },
   "source": [
    "# Apply spelling and grammar fixes"
   ]
  },
  {
   "cell_type": "markdown",
   "metadata": {
    "heading_collapsed": true
   },
   "source": [
    "## spelling experiments"
   ]
  },
  {
   "cell_type": "code",
   "execution_count": 30,
   "metadata": {
    "collapsed": true,
    "hidden": true,
    "run_control": {
     "frozen": false,
     "read_only": false
    }
   },
   "outputs": [],
   "source": [
    "import language_check\n",
    "import enchant"
   ]
  },
  {
   "cell_type": "code",
   "execution_count": 31,
   "metadata": {
    "collapsed": false,
    "hidden": true,
    "run_control": {
     "frozen": false,
     "read_only": false
    }
   },
   "outputs": [],
   "source": [
    "output_dir = 'output_data_from_nbs/'\n",
    "\n",
    "with open(output_dir + 'ck_12_vocab_words.pkl', 'rb') as f:\n",
    "    ck_12_vocab = set(pickle.load(f))\n",
    "    \n",
    "with open(output_dir + 'ck_12_all_words.pkl', 'rb') as f:\n",
    "    ck_12_corp = set(pickle.load(f))\n",
    "    \n",
    "with open(output_dir + 'spellings_to_rev.txt', 'r') as f:\n",
    "    whitelisted_words = f.read().split('\\n')[:-1]\n",
    "    \n",
    "with open(output_dir + './desc_spellings_to_rev.txt', 'r') as f:\n",
    "    whitelisted_words += f.read().split('\\n')[:-1]\n",
    "  \n",
    "with open(output_dir + './ck_12_spelling_rev.txt', 'r') as f:\n",
    "    whitelisted_words += f.read().split('\\n')[:-1]\n"
   ]
  },
  {
   "cell_type": "code",
   "execution_count": 32,
   "metadata": {
    "collapsed": false,
    "hidden": true,
    "run_control": {
     "frozen": false,
     "read_only": false
    }
   },
   "outputs": [],
   "source": [
    "ck_12_corp.update(ck_12_vocab)\n",
    "ck_12_corp.update(whitelisted_words)\n",
    "ck_12_corp.update(diagram_rec_corpus)\n",
    "\n",
    "edict = enchant.Dict(\"en_US\")\n",
    "anglo_edict = enchant.Dict(\"en_UK\")\n",
    "cached_sw = stopwords.words(\"english\") + list(string.punctuation)\n",
    "\n",
    "for word in ck_12_corp:\n",
    "    if word.isalpha() and len(word) > 3:\n",
    "        edict.add(word)"
   ]
  },
  {
   "cell_type": "code",
   "execution_count": 931,
   "metadata": {
    "collapsed": false,
    "hidden": true,
    "run_control": {
     "frozen": false,
     "read_only": false
    }
   },
   "outputs": [],
   "source": [
    "combined_desc_df = desc_df.append(ai2_written_df_completed.dropna())\n",
    "combined_desc_df['desc_len'] = combined_desc_df['Description'].apply(len)\n",
    "more_than_1_desc = combined_desc_df['diagram'].value_counts()[(combined_desc_df['diagram'].value_counts() > 1)].index.values.tolist()\n",
    "multiple_desc_by_diagram = combined_desc_df[combined_desc_df['diagram'].isin(more_than_1_desc)].groupby('diagram')\n",
    "max_len_lookup = list(combined_desc_df.groupby('diagram').agg({'desc_len': max}).to_dict().values())[0]\n",
    "longer_descs = combined_desc_df[combined_desc_df[['diagram', 'desc_len']].apply(lambda x: x[1] == max_len_lookup[x[0]], axis =1)].drop_duplicates('diagram')"
   ]
  },
  {
   "cell_type": "code",
   "execution_count": 480,
   "metadata": {
    "collapsed": false,
    "hidden": true,
    "run_control": {
     "frozen": false,
     "read_only": false
    }
   },
   "outputs": [],
   "source": [
    "flattened_questions = flattened_dict = {k: v['questions']['diagramQuestions'] for d in ck12_combined_dataset.values() for k, v in d.items() if v['questions']['diagramQuestions']}\n",
    "flattened_descriptions = flattened_dict = {k: v['instructionalDiagrams'] for d in ck12_combined_dataset.values() for k, v in d.items() if v['instructionalDiagrams']}"
   ]
  },
  {
   "cell_type": "code",
   "execution_count": 897,
   "metadata": {
    "collapsed": false,
    "hidden": true,
    "run_control": {
     "frozen": false,
     "read_only": false
    }
   },
   "outputs": [],
   "source": [
    "ai2_wr = longer_descs['Description'].values.tolist()"
   ]
  },
  {
   "cell_type": "code",
   "execution_count": 899,
   "metadata": {
    "collapsed": false,
    "hidden": true,
    "run_control": {
     "frozen": false,
     "read_only": false
    }
   },
   "outputs": [],
   "source": [
    "desc_tokens = wordpunct_tokenize(description_corpus)\n",
    "normalized_tokens = [toke.strip().lower().encode('ascii', 'ignore').decode() for toke in desc_tokens if toke.strip().lower().encode('ascii', 'ignore').decode() not in cached_sw]\n",
    "unique_words = set(normalized_tokens)\n",
    "# dw_freq_d = nltk.FreqDist(normalized_tokens)\n",
    "# most_common_dw = dw_freq_d.most_common(10)"
   ]
  },
  {
   "cell_type": "code",
   "execution_count": 1417,
   "metadata": {
    "collapsed": false,
    "hidden": true,
    "run_control": {
     "frozen": false,
     "read_only": false
    }
   },
   "outputs": [],
   "source": [
    "misspelled_words = [word for word in unique_words if check_mispelled(word) and word.isalpha() and len(word) > 3]"
   ]
  },
  {
   "cell_type": "code",
   "execution_count": 1419,
   "metadata": {
    "collapsed": false,
    "hidden": true,
    "run_control": {
     "frozen": false,
     "read_only": false
    }
   },
   "outputs": [],
   "source": [
    "trans_replace = {}\n",
    "for word in misspelled_words:\n",
    "    suggestions = edict.suggest(word)\n",
    "    suggested_replacement = correct_spelling_error(word, suggestions)\n",
    "    trans_replace[word] = suggested_replacement"
   ]
  },
  {
   "cell_type": "markdown",
   "metadata": {
    "heading_collapsed": true
   },
   "source": [
    "## gammar experiments"
   ]
  },
  {
   "cell_type": "code",
   "execution_count": 37,
   "metadata": {
    "collapsed": true,
    "hidden": true,
    "run_control": {
     "frozen": false,
     "read_only": false
    }
   },
   "outputs": [],
   "source": [
    "import difflib\n",
    "import diff_match_patch\n",
    "dmp = diff_match_patch.diff_match_patch()"
   ]
  },
  {
   "cell_type": "code",
   "execution_count": 38,
   "metadata": {
    "collapsed": false,
    "hidden": true,
    "run_control": {
     "frozen": false,
     "read_only": false
    }
   },
   "outputs": [
    {
     "ename": "NameError",
     "evalue": "name 'desc_df' is not defined",
     "output_type": "error",
     "traceback": [
      "\u001b[0;31m---------------------------------------------------------------------------\u001b[0m",
      "\u001b[0;31mNameError\u001b[0m                                 Traceback (most recent call last)",
      "\u001b[0;32m<ipython-input-38-99cdd945e9ec>\u001b[0m in \u001b[0;36m<module>\u001b[0;34m()\u001b[0m\n\u001b[0;32m----> 1\u001b[0;31m \u001b[0msp5_wr\u001b[0m \u001b[0;34m=\u001b[0m \u001b[0mdesc_df\u001b[0m\u001b[0;34m[\u001b[0m\u001b[0;34m'Description'\u001b[0m\u001b[0;34m]\u001b[0m\u001b[0;34m.\u001b[0m\u001b[0mvalues\u001b[0m\u001b[0;34m.\u001b[0m\u001b[0mtolist\u001b[0m\u001b[0;34m(\u001b[0m\u001b[0;34m)\u001b[0m\u001b[0;34m\u001b[0m\u001b[0m\n\u001b[0m\u001b[1;32m      2\u001b[0m \u001b[0mai2_wr\u001b[0m \u001b[0;34m=\u001b[0m \u001b[0mai2_written_df_completed\u001b[0m\u001b[0;34m[\u001b[0m\u001b[0;34m'Description'\u001b[0m\u001b[0;34m]\u001b[0m\u001b[0;34m.\u001b[0m\u001b[0mvalues\u001b[0m\u001b[0;34m.\u001b[0m\u001b[0mtolist\u001b[0m\u001b[0;34m(\u001b[0m\u001b[0;34m)\u001b[0m\u001b[0;34m\u001b[0m\u001b[0m\n\u001b[1;32m      3\u001b[0m \u001b[0mall_desc_wr\u001b[0m \u001b[0;34m=\u001b[0m \u001b[0mlonger_descs\u001b[0m\u001b[0;34m[\u001b[0m\u001b[0;34m'Description'\u001b[0m\u001b[0;34m]\u001b[0m\u001b[0;34m.\u001b[0m\u001b[0mvalues\u001b[0m\u001b[0;34m.\u001b[0m\u001b[0mtolist\u001b[0m\u001b[0;34m(\u001b[0m\u001b[0;34m)\u001b[0m\u001b[0;34m\u001b[0m\u001b[0m\n\u001b[1;32m      4\u001b[0m \u001b[0;34m\u001b[0m\u001b[0m\n\u001b[1;32m      5\u001b[0m \u001b[0mts1\u001b[0m \u001b[0;34m=\u001b[0m \u001b[0mlonger_descs\u001b[0m\u001b[0;34m[\u001b[0m\u001b[0;34m'Description'\u001b[0m\u001b[0;34m]\u001b[0m\u001b[0;34m\u001b[0m\u001b[0m\n",
      "\u001b[0;31mNameError\u001b[0m: name 'desc_df' is not defined"
     ]
    }
   ],
   "source": [
    "sp5_wr = desc_df['Description'].values.tolist()\n",
    "ai2_wr = ai2_written_df_completed['Description'].values.tolist()\n",
    "all_desc_wr = longer_descs['Description'].values.tolist()\n",
    "\n",
    "ts1 = longer_descs['Description']\n",
    "ts1.index = longer_descs['diagram']\n",
    "diagram_desc_dict = ts1.to_dict()"
   ]
  },
  {
   "cell_type": "code",
   "execution_count": 2071,
   "metadata": {
    "collapsed": false,
    "hidden": true,
    "run_control": {
     "frozen": false,
     "read_only": false
    }
   },
   "outputs": [
    {
     "data": {
      "text/plain": [
       "{'HUNSPELL_NO_SUGGEST_RULE',\n",
       " 'HUNSPELL_RULE',\n",
       " 'MORFOLOGIK_RULE_EN_US',\n",
       " 'POSSESSIVE_APOSTROPHE',\n",
       " 'SENT_START_CONJUNCTIVE_LINKING_ADVERB_COMMA'}"
      ]
     },
     "execution_count": 2071,
     "metadata": {},
     "output_type": "execute_result"
    }
   ],
   "source": [
    "gram_checker.disabled"
   ]
  },
  {
   "cell_type": "code",
   "execution_count": 39,
   "metadata": {
    "collapsed": false,
    "hidden": true,
    "run_control": {
     "frozen": false,
     "read_only": false
    }
   },
   "outputs": [],
   "source": [
    "gram_checker = language_check.LanguageTool('en-US')\n",
    "gram_checker.disabled = set(['SENT_START_CONJUNCTIVE_LINKING_ADVERB_COMMA', 'POSSESSIVE_APOSTROPHE', 'A_PLURAL'])\n",
    "gram_checker.disable_spellchecking()"
   ]
  },
  {
   "cell_type": "code",
   "execution_count": 1198,
   "metadata": {
    "collapsed": true,
    "hidden": true,
    "run_control": {
     "frozen": false,
     "read_only": false
    }
   },
   "outputs": [],
   "source": [
    "desc_with_errors = {}\n",
    "corrected_desc = {}\n",
    "for diag, desc_text in diagram_desc_dict.items():\n",
    "    errors = gram_checker.check(desc_text)\n",
    "    if errors:\n",
    "        desc_with_errors[diag] = errors\n",
    "        corrected_desc[diag] = gram_checker.correct(desc_text)"
   ]
  },
  {
   "cell_type": "code",
   "execution_count": 1199,
   "metadata": {
    "collapsed": false,
    "hidden": true,
    "run_control": {
     "frozen": false,
     "read_only": false
    }
   },
   "outputs": [
    {
     "data": {
      "text/plain": [
       "0    160\n",
       "1     61\n",
       "2     37\n",
       "3     10\n",
       "5      5\n",
       "4      2\n",
       "8      1\n",
       "dtype: int64"
      ]
     },
     "execution_count": 1199,
     "metadata": {},
     "output_type": "execute_result"
    }
   ],
   "source": [
    "# num_errors = [len([match for match in matches if match.locqualityissuetype != 'grammar']) for matches in grammar_errors_in_dec]\n",
    "num_errors =  [len(matches) for matches in grammar_errors_in_dec]\n",
    "pd.Series(num_errors).value_counts()"
   ]
  },
  {
   "cell_type": "code",
   "execution_count": 1874,
   "metadata": {
    "collapsed": false,
    "hidden": true,
    "run_control": {
     "frozen": false,
     "read_only": false
    }
   },
   "outputs": [
    {
     "name": "stdout",
     "output_type": "stream",
     "text": [
      "ALL_OF_THE\n",
      "SOME_OF_THE\n",
      "SOME_OF_THE\n",
      "OF_ANY_OF\n",
      "SOME_OF_THE\n",
      "SOME_OF_THE\n",
      "NUMEROUS_DIFFERENT\n",
      "SOME_OF_THE\n",
      "NUMEROUS_DIFFERENT\n",
      "SO_AS_TO\n",
      "ALL_OF_THE\n",
      "ALL_OF_THE\n",
      "SOME_OF_THE\n",
      "ALL_OF_THE\n",
      "SOME_OF_THE\n",
      "LARGE_NUMBER_OF\n",
      "NUMEROUS_DIFFERENT\n",
      "ADJECTIVE_IN_ATTRIBUTE\n",
      "NUMEROUS_DIFFERENT\n",
      "NUMEROUS_DIFFERENT\n",
      "NUMEROUS_DIFFERENT\n",
      "ALL_OF_THE\n",
      "NUMEROUS_DIFFERENT\n",
      "ALL_OF_THE\n",
      "ALL_OF_THE\n",
      "NUMEROUS_DIFFERENT\n",
      "SOME_OF_THE\n",
      "SOME_OF_THE\n",
      "ADJECTIVE_IN_ATTRIBUTE\n",
      "SOME_OF_THE\n"
     ]
    }
   ],
   "source": [
    "etyps = []\n",
    "for match in grammar_errors_in_dec:\n",
    "    if match:\n",
    "        for mat in match:\n",
    "            etyps.append(mat.ruleId)\n",
    "#             etyps.append(match)\n",
    "            if mat.locqualityissuetype == 'style':\n",
    "                print(mat.ruleId)\n",
    "                etyps.append(mat.ruleId)\n",
    "\n",
    "# pd.Series(etyps).value_counts()"
   ]
  },
  {
   "cell_type": "code",
   "execution_count": 1221,
   "metadata": {
    "collapsed": false,
    "hidden": true,
    "run_control": {
     "frozen": false,
     "read_only": false
    }
   },
   "outputs": [
    {
     "data": {
      "text/plain": [
       "161"
      ]
     },
     "execution_count": 1221,
     "metadata": {},
     "output_type": "execute_result"
    }
   ],
   "source": [
    "len(corrected_desc)"
   ]
  },
  {
   "cell_type": "code",
   "execution_count": 1235,
   "metadata": {
    "collapsed": false,
    "hidden": true,
    "run_control": {
     "frozen": false,
     "read_only": false
    }
   },
   "outputs": [
    {
     "data": {
      "text/html": [
       "<span>The diagram shows the changes of state of matter. The state shifts based from the amount of energy added or removed by the matter. If energy is added to the matter, the particles will slowly disperse away from each other until they are separated from each other. Some examples of this change of state is melting (converting solid to liquid) and evaporation (converting liquid to gas). On the other hand, if the energy is removed, the particles will gather themselves together until they are close to each other. Condensation (converting gas to liquid) and freezing (converting liquid to solid) are some </span><del style=\"background:#ffe6e6;\">of the </del><span>process involving this change.</span>"
      ],
      "text/plain": [
       "<IPython.core.display.HTML object>"
      ]
     },
     "execution_count": 1235,
     "metadata": {},
     "output_type": "execute_result"
    }
   ],
   "source": [
    "diag_to_ex = random.choice(list(corrected_desc.keys()))\n",
    "orig_text = diagram_desc_dict[diag_to_ex]\n",
    "corrected_text = corrected_desc[diag_to_ex]\n",
    "diff = dmp.diff_main(orig_text, corrected_text)\n",
    "HTML(dmp.diff_prettyHtml(diff))"
   ]
  },
  {
   "cell_type": "code",
   "execution_count": 1228,
   "metadata": {
    "collapsed": false,
    "hidden": true,
    "run_control": {
     "frozen": false,
     "read_only": false
    }
   },
   "outputs": [],
   "source": [
    "questions_asked = dr_proc_df['03_write_question'].values.tolist()"
   ]
  },
  {
   "cell_type": "code",
   "execution_count": 1240,
   "metadata": {
    "collapsed": false,
    "hidden": true,
    "run_control": {
     "frozen": false,
     "read_only": false
    }
   },
   "outputs": [],
   "source": [
    "orig_text = []\n",
    "replaced_text = []\n",
    "for subject, flexbook in ck12_combined_dataset.items():\n",
    "    for lesson_name, lesson in flexbook.items():\n",
    "        if lesson['questions']['diagramQuestions']:\n",
    "            for qid, question in lesson['questions']['diagramQuestions'].items():\n",
    "                ot = question['beingAsked']['rawText']\n",
    "                errors = gram_checker.check(ot)\n",
    "                if errors:\n",
    "                    orig_text.append(ot)\n",
    "                    replaced_text.append(gram_checker.correct(desc_text))\n",
    "                    "
   ]
  },
  {
   "cell_type": "markdown",
   "metadata": {},
   "source": [
    "## apply to dataset"
   ]
  },
  {
   "cell_type": "code",
   "execution_count": 40,
   "metadata": {
    "collapsed": false,
    "run_control": {
     "frozen": false,
     "read_only": false
    }
   },
   "outputs": [],
   "source": [
    "def check_mispelled(word):\n",
    "    return word and word.isalpha() and not (edict.check(word) or anglo_edict.check(word) or edict.check(word[0].upper() + word[1:]))\n",
    "\n",
    "def correct_spelling_error(misspelled_word, suggested_spellings):\n",
    "    highest_ratio = 0\n",
    "    closest_match = None\n",
    "    for word in suggested_spellings:\n",
    "        match_r = fuzz.ratio(misspelled_word, word)\n",
    "        if match_r >= highest_ratio and (word[0] == misspelled_word[0] or not check_mispelled(word[0] + misspelled_word)) and len(misspelled_word) <= len(word):\n",
    "            highest_ratio = match_r\n",
    "            closest_match = word\n",
    "            break\n",
    "    spell_changes[misspelled_word] = closest_match\n",
    "    return closest_match\n",
    "\n",
    "def apply_spelling_fix(orig_text):\n",
    "    orig_text_tokens = wordpunct_tokenize(orig_text)\n",
    "    processed_tokens = []\n",
    "    for token in orig_text_tokens:\n",
    "        norm_token = token.lower()\n",
    "        if len(norm_token) < 4:\n",
    "            processed_tokens.append(token)\n",
    "            continue\n",
    "        if check_mispelled(norm_token):\n",
    "            suggested_replacements = edict.suggest(token)\n",
    "            replacement_text = correct_spelling_error(norm_token, suggested_replacements)\n",
    "            if replacement_text:\n",
    "                if norm_token[0].isupper():\n",
    "                    replacement_text = upper(replacement_text[0]) + replaced_text[1:]\n",
    "                processed_tokens.append(replacement_text)\n",
    "            else:\n",
    "                processed_tokens.append(token)\n",
    "        else:\n",
    "            processed_tokens.append(token)\n",
    "    return ' '.join(processed_tokens)\n",
    "\n",
    "def diff_corrected_text(orig_text, corrected_text):\n",
    "    diff = dmp.diff_main(orig_text, corrected_text)\n",
    "    return HTML(dmp.diff_prettyHtml(diff))\n",
    "\n",
    "def specify_lesson_q_path(lesson):\n",
    "    pass\n",
    "    \n",
    "\n",
    "def apply_spelling_and_grammar_to_ds(ck12_ds):\n",
    "    \n",
    "    return"
   ]
  },
  {
   "cell_type": "code",
   "execution_count": 35,
   "metadata": {
    "collapsed": true,
    "run_control": {
     "frozen": false,
     "read_only": false
    }
   },
   "outputs": [],
   "source": [
    "ck12_spell_gramm_fix_test = deepcopy(ck12_combined_dataset)"
   ]
  },
  {
   "cell_type": "code",
   "execution_count": 41,
   "metadata": {
    "collapsed": true
   },
   "outputs": [],
   "source": [
    "gram_checker = language_check.LanguageTool('en-US')\n",
    "gram_checker.disabled = set(['SENT_START_CONJUNCTIVE_LINKING_ADVERB_COMMA', 'POSSESSIVE_APOSTROPHE', 'A_PLURAL'])\n",
    "gram_checker.disable_spellchecking()"
   ]
  },
  {
   "cell_type": "code",
   "execution_count": 8,
   "metadata": {
    "collapsed": false,
    "run_control": {
     "frozen": false,
     "read_only": false
    }
   },
   "outputs": [],
   "source": [
    "punc_set_space = set([',', ':', ';', '/\"'])\n",
    "punc_set_nospace = set(['-', '\\'', '-', '?', '.', '!'])\n",
    "question_enders = set(['.', '?', ':'])"
   ]
  },
  {
   "cell_type": "code",
   "execution_count": 47,
   "metadata": {
    "collapsed": false,
    "run_control": {
     "frozen": false,
     "read_only": false
    }
   },
   "outputs": [],
   "source": [
    "spell_changes = {}\n",
    "unaltered_text = []\n",
    "replaced_text = []\n",
    "for lesson in list(ck12_spell_gramm_fix_test['life-science'].values()):\n",
    "    if lesson['instructionalDiagrams']:\n",
    "        for diagram, description in lesson['instructionalDiagrams'].items():\n",
    "            orig_text = description['processedText']\n",
    "            spell_fixed_text = apply_spelling_fix(orig_text)\n",
    "            for punc_char in punc_set_nospace:\n",
    "                spell_fixed_text = spell_fixed_text.replace(' ' + punc_char + ' ' , punc_char)\n",
    "            for punc_char in punc_set_space:\n",
    "                spell_fixed_text = spell_fixed_text.replace(' ' + punc_char + ' ' , punc_char + ' ')\n",
    "            gram_fixed = gram_checker.correct(spell_fixed_text)\n",
    "            if gram_fixed != orig_text:\n",
    "                unaltered_text.append(orig_text)\n",
    "                replaced_text.append(gram_fixed)"
   ]
  },
  {
   "cell_type": "code",
   "execution_count": 2603,
   "metadata": {
    "collapsed": false,
    "run_control": {
     "frozen": false,
     "read_only": false
    },
    "scrolled": true
   },
   "outputs": [],
   "source": [
    "spell_changes = {}\n",
    "unaltered_text = []\n",
    "replaced_text = []\n",
    "for lesson in list(ck12_spell_gramm_fix_test['life-science'].values()):\n",
    "    if lesson['questions']['nonDiagramQuestions']:\n",
    "        for diagram, description in lesson['questions']['nonDiagramQuestions'].items():\n",
    "            orig_text = description['beingAsked']['processedText']\n",
    "            spell_fixed_text = apply_spelling_fix(orig_text)\n",
    "            gram_fixed = gram_checker.correct(spell_fixed_text)\n",
    "            for punc_char in punc_set_nospace:\n",
    "                gram_fixed = gram_fixed.replace(' ' + punc_char + ' ' , punc_char)\n",
    "                gram_fixed = gram_fixed.replace(' ' + punc_char, punc_char)\n",
    "            for punc_char in punc_set_space:\n",
    "                gram_fixed = gram_fixed.replace(' ' + punc_char + ' ' , punc_char + ' ')\n",
    "            if gram_fixed[-1] not in question_enders:\n",
    "                if gram_fixed.split()[0] in ['Identify', 'Name'] or '__' in gram_fixed:\n",
    "                    gram_fixed += '.'\n",
    "                else:\n",
    "                    gram_fixed += '?'\n",
    "            if gram_fixed != orig_text:\n",
    "                unaltered_text.append(orig_text)\n",
    "                replaced_text.append(gram_fixed)"
   ]
  },
  {
   "cell_type": "code",
   "execution_count": 48,
   "metadata": {
    "collapsed": false,
    "run_control": {
     "frozen": false,
     "read_only": false
    }
   },
   "outputs": [],
   "source": [
    "comp_text = list(zip(unaltered_text, replaced_text))"
   ]
  },
  {
   "cell_type": "code",
   "execution_count": 49,
   "metadata": {
    "collapsed": false,
    "run_control": {
     "frozen": false,
     "read_only": false
    }
   },
   "outputs": [
    {
     "data": {
      "text/plain": [
       "62"
      ]
     },
     "execution_count": 49,
     "metadata": {},
     "output_type": "execute_result"
    }
   ],
   "source": [
    "len(comp_text)"
   ]
  },
  {
   "cell_type": "code",
   "execution_count": 50,
   "metadata": {
    "collapsed": false,
    "run_control": {
     "frozen": false,
     "read_only": false
    },
    "scrolled": true
   },
   "outputs": [
    {
     "name": "stdout",
     "output_type": "stream",
     "text": [
      "18\n"
     ]
    },
    {
     "data": {
      "text/plain": [
       "{'assemly': 'assembly',\n",
       " 'asteroidea': None,\n",
       " 'begind': 'behind',\n",
       " 'cacncal': 'canonical',\n",
       " 'carbondioxide': 'carbon dioxide',\n",
       " 'cererbum': None,\n",
       " 'contols': 'controls',\n",
       " 'everythign': 'everything',\n",
       " 'followd': 'followed',\n",
       " 'gell': 'gall',\n",
       " 'majorly': 'majority',\n",
       " 'microcompartments': 'micro compartments',\n",
       " 'ontrols': 'controls',\n",
       " 'protezoic': None,\n",
       " 'resipration': 'respiration',\n",
       " 'stemlike': 'stem like',\n",
       " 'subdivded': 'subdivided',\n",
       " 'timeframes': 'time frames'}"
      ]
     },
     "execution_count": 50,
     "metadata": {},
     "output_type": "execute_result"
    }
   ],
   "source": [
    "print(len(spell_changes))\n",
    "spell_changes"
   ]
  },
  {
   "cell_type": "code",
   "execution_count": 55,
   "metadata": {
    "collapsed": false,
    "run_control": {
     "frozen": false,
     "read_only": false
    }
   },
   "outputs": [
    {
     "name": "stdout",
     "output_type": "stream",
     "text": [
      "60\n"
     ]
    },
    {
     "data": {
      "text/html": [
       "<span>This diagram shows some </span><del style=\"background:#ffe6e6;\">of the </del><span>specialized cells in the human body. The red blood cells carry oxygen to the other cells in the human body. The columnar epithelial cells form the inner lining of the human intestine. The smooth muscle cells are found in the lining of arteries, veins and blood vessels. They help is contraction and relaxation of the body part they are found in. The bone cells are found in the bone tissue and help in building up the human skeleton. The nerve cells are found in the brain, spinal cord and nerves. They process and transmit information through electrical and chemical signals. The ovum and sperm cell help in reproduction. The function of a sperm cell is to swim through fluid to an ovum cell.</span><del style=\"background:#ffe6e6;\">  </del>"
      ],
      "text/plain": [
       "<IPython.core.display.HTML object>"
      ]
     },
     "execution_count": 55,
     "metadata": {},
     "output_type": "execute_result"
    }
   ],
   "source": [
    "rand_idx = np.random.randint(len(comp_text))\n",
    "print(rand_idx)\n",
    "diff_corrected_text(*comp_text[rand_idx])"
   ]
  },
  {
   "cell_type": "code",
   "execution_count": 2640,
   "metadata": {
    "collapsed": false,
    "run_control": {
     "frozen": false,
     "read_only": false
    }
   },
   "outputs": [
    {
     "name": "stdout",
     "output_type": "stream",
     "text": [
      "This diagram shows the anatomy of the human ear. The human ear is divided into the outer ear which contains the auricle and the earlobe. The outer ear is followed by the middle ear that contains eardrum and tympanic cavity and the ossicles. Lastly, the inner ear followd the middle ear and it contains the semicircular canals, vestibule, cochlea portions. The auditory cacncal connects the outer ear to the middle ear. The eardrum and the tympanic cavity are are at the end of the auditory canal.The vestibular nerve, semicircular ducts and cochlea are after the tympanic cavity. Ossicles are tiny bones in the middle ear that transmit sound from the eardrum to the cochlea. Sound waves travel through the outer ear, are modulated by the middle ear, and are transmitted to the inner ear.\n",
      "\n",
      "This diagram shows the anatomy of the human ear. The human ear is divided into the outer ear which contains the auricle and the earlobe. The outer ear is followed by the middle ear that contains eardrum and tympanic cavity and the ossicles. Lastly, the inner ear followed the middle ear and it contains the semicircular canals, vestibule, cochlea portions. The auditory canonical connects the outer ear to the middle ear. The eardrum and the tympanic cavity are at the end of the auditory canal. The vestibular nerve, semicircular ducts and cochlea are after the tympanic cavity. Ossicles are tiny bones in the middle ear that transmit sound from the eardrum to the cochlea. Sound waves travel through the outer ear, are modulated by the middle ear, and are transmitted to the inner ear.\n"
     ]
    }
   ],
   "source": [
    "print(unaltered_text[rand_idx])\n",
    "print()\n",
    "print(replaced_text[rand_idx])"
   ]
  },
  {
   "cell_type": "code",
   "execution_count": null,
   "metadata": {
    "collapsed": true,
    "run_control": {
     "frozen": false,
     "read_only": false
    }
   },
   "outputs": [],
   "source": []
  },
  {
   "cell_type": "code",
   "execution_count": null,
   "metadata": {
    "collapsed": true,
    "run_control": {
     "frozen": false,
     "read_only": false
    }
   },
   "outputs": [],
   "source": []
  },
  {
   "cell_type": "code",
   "execution_count": null,
   "metadata": {
    "collapsed": true,
    "run_control": {
     "frozen": false,
     "read_only": false
    }
   },
   "outputs": [],
   "source": []
  },
  {
   "cell_type": "code",
   "execution_count": null,
   "metadata": {
    "collapsed": true,
    "run_control": {
     "frozen": false,
     "read_only": false
    }
   },
   "outputs": [],
   "source": []
  },
  {
   "cell_type": "code",
   "execution_count": null,
   "metadata": {
    "collapsed": true,
    "run_control": {
     "frozen": false,
     "read_only": false
    }
   },
   "outputs": [],
   "source": []
  },
  {
   "cell_type": "code",
   "execution_count": null,
   "metadata": {
    "collapsed": true,
    "run_control": {
     "frozen": false,
     "read_only": false
    }
   },
   "outputs": [],
   "source": []
  },
  {
   "cell_type": "code",
   "execution_count": null,
   "metadata": {
    "collapsed": true,
    "run_control": {
     "frozen": false,
     "read_only": false
    }
   },
   "outputs": [],
   "source": []
  },
  {
   "cell_type": "code",
   "execution_count": null,
   "metadata": {
    "collapsed": true,
    "run_control": {
     "frozen": false,
     "read_only": false
    }
   },
   "outputs": [],
   "source": []
  },
  {
   "cell_type": "code",
   "execution_count": null,
   "metadata": {
    "collapsed": true,
    "run_control": {
     "frozen": false,
     "read_only": false
    }
   },
   "outputs": [],
   "source": []
  },
  {
   "cell_type": "code",
   "execution_count": null,
   "metadata": {
    "collapsed": true,
    "run_control": {
     "frozen": false,
     "read_only": false
    }
   },
   "outputs": [],
   "source": []
  },
  {
   "cell_type": "code",
   "execution_count": null,
   "metadata": {
    "collapsed": true,
    "run_control": {
     "frozen": false,
     "read_only": false
    }
   },
   "outputs": [],
   "source": []
  },
  {
   "cell_type": "code",
   "execution_count": null,
   "metadata": {
    "collapsed": true,
    "run_control": {
     "frozen": false,
     "read_only": false
    }
   },
   "outputs": [],
   "source": []
  },
  {
   "cell_type": "code",
   "execution_count": null,
   "metadata": {
    "collapsed": true,
    "run_control": {
     "frozen": false,
     "read_only": false
    }
   },
   "outputs": [],
   "source": []
  },
  {
   "cell_type": "markdown",
   "metadata": {
    "heading_collapsed": true
   },
   "source": [
    "# End"
   ]
  },
  {
   "cell_type": "code",
   "execution_count": 1081,
   "metadata": {
    "collapsed": true,
    "hidden": true,
    "run_control": {
     "frozen": false,
     "read_only": false
    }
   },
   "outputs": [],
   "source": [
    "line_split = re.compile(r'[?.]')\n",
    "\n",
    "from pygments import highlight\n",
    "from pygments.lexers import diff as difflex\n",
    "from pygments.formatters import HtmlFormatter\n",
    "\n",
    "from IPython.core.display import HTML\n",
    "\n",
    "display(HTML(\"\"\"\n",
    "<style>\n",
    "{pygments_css}\n",
    "</style>\n",
    "\"\"\".format(pygments_css=HtmlFormatter().get_style_defs('.highlight'))))\n",
    "display(HTML(data=highlight(, difflex(), HtmlFormatter())))\n",
    "\n",
    "diff = difflib.context_diff(line_split.split(orig_text), line_split.split(corrected_text))\n",
    "diff\n",
    "\n",
    "import pygments\n",
    "\n",
    "pygments.\n",
    "\n",
    "pygments.pygmentize -f html -O full,style=trac -l diff -o last.diff.html last.diff\n",
    "\n",
    "diff.make_file(fromline\n",
    "\n",
    "d = difflib.Differ()\n",
    "diff = d.compare(line_split.split(orig_text), line_split.split(corrected_text))\n",
    "print('\\n'.join(diff))"
   ]
  },
  {
   "cell_type": "code",
   "execution_count": 1827,
   "metadata": {
    "collapsed": false,
    "hidden": true,
    "run_control": {
     "frozen": false,
     "read_only": false
    }
   },
   "outputs": [
    {
     "data": {
      "text/plain": [
       "'cancel'"
      ]
     },
     "execution_count": 1827,
     "metadata": {},
     "output_type": "execute_result"
    }
   ],
   "source": [
    "tt = 'cacncal'\n",
    "suggested_replacements = edict.suggest(tt)\n",
    "correct_spelling_error(tt, suggested_replacements)\n",
    "\n",
    "orig_text = []\n",
    "replaced_text = []\n",
    "for subject, flexbook in ck12_combined_dataset.items():\n",
    "    for lesson_name, lesson in flexbook.items():\n",
    "        if lesson['questions']['diagramQuestions']:\n",
    "            for qid, question in lesson['questions']['diagramQuestions'].items():\n",
    "                ot = question['beingAsked']['rawText']\n",
    "                errors = gram_checker.check(ot)\n",
    "                if errors:\n",
    "                    orig_text.append(ot)\n",
    "                    replaced_text.append(gram_checker.correct(desc_text))"
   ]
  },
  {
   "cell_type": "code",
   "execution_count": null,
   "metadata": {
    "collapsed": true,
    "hidden": true,
    "run_control": {
     "frozen": false,
     "read_only": false
    }
   },
   "outputs": [],
   "source": [
    "for subject, flexbook in ck12_combined_dataset_cleaned.items():\n",
    "    validator = jsonschema.Draft4Validator(schema)\n",
    "    for error in sorted(validator.iter_errors(flexbook), key=lambda x: x.absolute_path[0]):\n",
    "        print(error.message)\n",
    "        print(list(error.absolute_path)[:4])\n",
    "        print('\\n' * 2)"
   ]
  },
  {
   "cell_type": "code",
   "execution_count": 723,
   "metadata": {
    "collapsed": false,
    "hidden": true,
    "run_control": {
     "frozen": false,
     "read_only": false
    }
   },
   "outputs": [],
   "source": [
    "build_spelling_lookup = defaultdict(list)\n",
    "for word in ck_12_corp:\n",
    "    start_letter = word[0]\n",
    "    if start_letter in string.ascii_letters:\n",
    "        build_spelling_lookup[start_letter].append(word)"
   ]
  },
  {
   "cell_type": "code",
   "execution_count": 724,
   "metadata": {
    "collapsed": true,
    "hidden": true,
    "run_control": {
     "frozen": false,
     "read_only": false
    }
   },
   "outputs": [],
   "source": [
    "spelling_lookup = {starting_letter: sorted(words) for starting_letter, words in build_spelling_lookup.items()}"
   ]
  },
  {
   "cell_type": "code",
   "execution_count": 925,
   "metadata": {
    "collapsed": false,
    "hidden": true,
    "run_control": {
     "frozen": false,
     "read_only": false
    },
    "scrolled": true
   },
   "outputs": [],
   "source": [
    "def try_splitting(tw):\n",
    "    for idx in range(len(tw)):\n",
    "        sp1, sp2 = tw[:idx], tw[idx:]\n",
    "        if not (check_mispelled(sp1) or check_mispelled(sp2)) and len(sp1) > 3 and len(sp2) > 3:\n",
    "            return sp1, sp2\n",
    "    return None"
   ]
  }
 ],
 "metadata": {
  "kernelspec": {
   "display_name": "Python 3",
   "language": "python",
   "name": "python3"
  },
  "language_info": {
   "codemirror_mode": {
    "name": "ipython",
    "version": 3
   },
   "file_extension": ".py",
   "mimetype": "text/x-python",
   "name": "python",
   "nbconvert_exporter": "python",
   "pygments_lexer": "ipython3",
   "version": "3.5.2"
  }
 },
 "nbformat": 4,
 "nbformat_minor": 1
}
