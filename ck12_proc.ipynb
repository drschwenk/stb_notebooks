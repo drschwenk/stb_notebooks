{
 "cells": [
  {
   "cell_type": "markdown",
   "metadata": {
    "heading_collapsed": true
   },
   "source": [
    "# Table of Contents\n",
    "* [PDF parsing experiments](#PDF-parsing-experiments)\n",
    "\t* [pdfminer](#pdfminer)\n",
    "\t* [pdfminer drawing boxes](#pdfminer-drawing-boxes)\n",
    "\t* [Minecart + poppler direct](#Minecart-+-poppler-direct)\n",
    "\t* [tables of content extraction](#tables-of-content-extraction)\n",
    "* [Image extraction](#Image-extraction)\n",
    "* [CK12 flexbook pdf extraction](#CK12-flexbook-pdf-extraction)\n",
    "\t* [freq distribution](#freq-distribution)\n",
    "\t* [performing extraction](#performing-extraction)\n"
   ]
  },
  {
   "cell_type": "code",
   "execution_count": 1,
   "metadata": {
    "collapsed": false,
    "hidden": true,
    "run_control": {
     "frozen": false,
     "marked": false,
     "read_only": false
    }
   },
   "outputs": [],
   "source": [
    "%%capture\n",
    "import numpy as np\n",
    "import pandas as pd\n",
    "import scipy.stats as st\n",
    "import itertools\n",
    "import math\n",
    "from collections import Counter, defaultdict, OrderedDict\n",
    "%load_ext autoreload\n",
    "%autoreload 2\n",
    "\n",
    "import cv2\n",
    "import pprint\n",
    "import pickle\n",
    "import json\n",
    "import requests\n",
    "import io\n",
    "import sys\n",
    "import os\n",
    "from binascii import b2a_hex\n",
    "import base64\n",
    "from wand.image import Image as WImage\n",
    "from IPython.display import display\n",
    "import PIL.Image as Image\n",
    "from copy import deepcopy\n",
    "\n",
    "from pdfminer.pdfparser import PDFParser\n",
    "from pdfminer.pdfdocument import PDFDocument\n",
    "from pdfminer.pdfpage import PDFPage\n",
    "from pdfminer.layout import LAParams, LTTextBox, LTTextLine, LTFigure, LTImage\n",
    "\n",
    "import nltk\n",
    "import string\n",
    "from nltk.corpus import stopwords\n",
    "from nltk.tokenize import word_tokenize\n",
    "\n",
    "import pdfextraction.ck12_flex_extract as ck_ex"
   ]
  },
  {
   "cell_type": "markdown",
   "metadata": {
    "heading_collapsed": true
   },
   "source": [
    "# PDF parsing experiments"
   ]
  },
  {
   "cell_type": "markdown",
   "metadata": {
    "heading_collapsed": true,
    "hidden": true
   },
   "source": [
    "## pdfminer"
   ]
  },
  {
   "cell_type": "code",
   "execution_count": 440,
   "metadata": {
    "collapsed": false,
    "hidden": true,
    "run_control": {
     "frozen": false,
     "read_only": false
    }
   },
   "outputs": [],
   "source": [
    "page_size = []\n",
    "with open(test_file, 'r') as fp:\n",
    "    parser = PDFParser(fp)\n",
    "    document = PDFDocument(parser)\n",
    "    \n",
    "    for page_n, page in enumerate(PDFPage.create_pages(document)):\n",
    "        page_size = page.mediabox[2:]"
   ]
  },
  {
   "cell_type": "code",
   "execution_count": 5,
   "metadata": {
    "collapsed": true,
    "hidden": true,
    "run_control": {
     "frozen": false,
     "read_only": false
    }
   },
   "outputs": [
    {
     "data": {
      "text/plain": [
       "[<LTTextBoxHorizontal(0) 54.000,761.451,117.927,775.272 u'www.ck12.org\\n'>,\n",
       " <LTTextBoxHorizontal(1) 436.386,761.451,555.273,775.272 u'Chapter 4. Cell Functions\\n'>,\n",
       " <LTTextBoxHorizontal(2) 98.382,694.737,236.200,725.331 u'4.1 Transport\\n'>,\n",
       " <LTTextBoxHorizontal(3) 54.000,610.841,168.099,627.859 u'Lesson Objectives\\n'>,\n",
       " <LTTextBoxHorizontal(4) 72.000,557.794,278.073,598.714 u'\\u2022 Describe the structure of the cell membrane.\\n\\u2022 Identify ways that passive transport occurs.\\n\\u2022 De\\ufb01ne and give examples of active transport.\\n'>,\n",
       " <LTTextBoxHorizontal(5) 54.000,496.318,171.107,513.336 u'Lesson Vocabulary\\n'>,\n",
       " <LTTextBoxHorizontal(6) 72.000,348.427,166.636,484.191 u'\\u2022 active transport\\n\\u2022 concentration\\n\\u2022 diffusion\\n\\u2022 facilitated diffusion\\n\\u2022 osmosis\\n\\u2022 passive transport\\n\\u2022 simple diffusion\\n\\u2022 transport\\n\\u2022 transport protein\\n\\u2022 vesicle transport\\n'>,\n",
       " <LTTextBoxHorizontal(7) 54.000,286.951,129.055,303.969 u'Introduction\\n'>,\n",
       " <LTTextBoxHorizontal(8) 54.000,220.355,558.000,274.823 u'The cell is the site of all of the basic biochemical processes that keep organisms alive. To do its work, the cell needs\\nsubstances such as oxygen, water, and glucose. The cell also must get rid of substances, including wastes such as\\ncarbon dioxide. In addition, harmful substances must be kept out of the cell. Controlling what enters or leaves a cell\\nis an important role of the cell membrane.\\n'>,\n",
       " <LTTextBoxHorizontal(9) 54.000,158.879,172.386,175.897 u'The Cell Membrane\\n'>,\n",
       " <LTTextBoxHorizontal(10) 54.000,46.180,558.004,147.144 u'You\\u2019ve probably blown soap bubbles like the child in Figure 4.1. In some ways, the thin \\ufb01lm of soap molecules\\nthat forms a bubble resembles the cell membrane. Like the soap \\ufb01lm, the cell membrane consists of a thin skin of\\nmolecules.\\nYou can see a model of the cell membrane in Figure below. The molecules that make up the cell membrane\\nare mainly phospholipids. There are two layers of phospholipids. They are arranged so the lipid tails are on the\\ninside of the membrane. They make the interior of the membrane hydrophobic, or \"water fearing\". The lipid heads\\npoint toward the outside of the membrane. The make the outer surfaces of the membrane hydrophilic, or \"water\\n'>,\n",
       " <LTTextBoxHorizontal(11) 547.091,18.820,558.000,32.641 u'73\\n'>,\n",
       " <LTLine 54.000,722.407,558.006,722.407>,\n",
       " <LTRect 54.000,632.738,558.000,634.731>,\n",
       " <LTRect 54.000,518.215,558.000,520.208>,\n",
       " <LTRect 54.000,308.848,558.000,310.841>,\n",
       " <LTRect 54.000,180.775,558.000,182.768>]"
      ]
     },
     "execution_count": 5,
     "metadata": {},
     "output_type": "execute_result"
    }
   ],
   "source": [
    "test_page_layout[0]._objs"
   ]
  },
  {
   "cell_type": "code",
   "execution_count": 13,
   "metadata": {
    "collapsed": false,
    "hidden": true,
    "run_control": {
     "frozen": false,
     "read_only": false
    }
   },
   "outputs": [
    {
     "data": {
      "text/plain": [
       "{'bbox': (54.0, 723.20454, 558.0065, 723.20454),\n",
       " 'height': 0.0,\n",
       " 'linewidth': 1.99255,\n",
       " 'pts': [(54.0, 723.20454), (558.0065, 723.20454)],\n",
       " 'width': 504.00649999999996,\n",
       " 'x0': 54.0,\n",
       " 'x1': 558.0065,\n",
       " 'y0': 723.20454,\n",
       " 'y1': 723.20454}"
      ]
     },
     "execution_count": 13,
     "metadata": {},
     "output_type": "execute_result"
    }
   ],
   "source": [
    "test_page_layout[0]._objs[-4]"
   ]
  },
  {
   "cell_type": "code",
   "execution_count": 7,
   "metadata": {
    "collapsed": false,
    "hidden": true,
    "run_control": {
     "frozen": false,
     "read_only": false
    }
   },
   "outputs": [],
   "source": [
    "test_char_ext = test_page_layout[0]._objs[0]._objs[0]._objs[0]"
   ]
  },
  {
   "cell_type": "code",
   "execution_count": 17,
   "metadata": {
    "collapsed": true,
    "hidden": true,
    "run_control": {
     "frozen": false,
     "read_only": false
    }
   },
   "outputs": [
    {
     "data": {
      "text/plain": [
       "{'ascent': 924,\n",
       " 'basefont': 'XCRUNF+NimbusRomNo9L-Regu',\n",
       " 'bbox': [-199, -312, 1031, 955],\n",
       " 'cid2unicode': {32: u' ',\n",
       "  33: u'!',\n",
       "  34: u'\"',\n",
       "  35: u'#',\n",
       "  36: u'$',\n",
       "  37: u'%',\n",
       "  38: u'&',\n",
       "  39: u\"'\",\n",
       "  40: u'(',\n",
       "  41: u')',\n",
       "  42: u'*',\n",
       "  43: u'+',\n",
       "  44: u',',\n",
       "  45: u'-',\n",
       "  46: u'.',\n",
       "  47: u'/',\n",
       "  48: u'0',\n",
       "  49: u'1',\n",
       "  50: u'2',\n",
       "  51: u'3',\n",
       "  52: u'4',\n",
       "  53: u'5',\n",
       "  54: u'6',\n",
       "  55: u'7',\n",
       "  56: u'8',\n",
       "  57: u'9',\n",
       "  58: u':',\n",
       "  59: u';',\n",
       "  60: u'<',\n",
       "  61: u'=',\n",
       "  62: u'>',\n",
       "  63: u'?',\n",
       "  64: u'@',\n",
       "  65: u'A',\n",
       "  66: u'B',\n",
       "  67: u'C',\n",
       "  68: u'D',\n",
       "  69: u'E',\n",
       "  70: u'F',\n",
       "  71: u'G',\n",
       "  72: u'H',\n",
       "  73: u'I',\n",
       "  74: u'J',\n",
       "  75: u'K',\n",
       "  76: u'L',\n",
       "  77: u'M',\n",
       "  78: u'N',\n",
       "  79: u'O',\n",
       "  80: u'P',\n",
       "  81: u'Q',\n",
       "  82: u'R',\n",
       "  83: u'S',\n",
       "  84: u'T',\n",
       "  85: u'U',\n",
       "  86: u'V',\n",
       "  87: u'W',\n",
       "  88: u'X',\n",
       "  89: u'Y',\n",
       "  90: u'Z',\n",
       "  91: u'[',\n",
       "  92: u'\\\\',\n",
       "  93: u']',\n",
       "  94: u'^',\n",
       "  95: u'_',\n",
       "  96: u'`',\n",
       "  97: u'a',\n",
       "  98: u'b',\n",
       "  99: u'c',\n",
       "  100: u'd',\n",
       "  101: u'e',\n",
       "  102: u'f',\n",
       "  103: u'g',\n",
       "  104: u'h',\n",
       "  105: u'i',\n",
       "  106: u'j',\n",
       "  107: u'k',\n",
       "  108: u'l',\n",
       "  109: u'm',\n",
       "  110: u'n',\n",
       "  111: u'o',\n",
       "  112: u'p',\n",
       "  113: u'q',\n",
       "  114: u'r',\n",
       "  115: u's',\n",
       "  116: u't',\n",
       "  117: u'u',\n",
       "  118: u'v',\n",
       "  119: u'w',\n",
       "  120: u'x',\n",
       "  121: u'y',\n",
       "  122: u'z',\n",
       "  123: u'{',\n",
       "  124: u'|',\n",
       "  125: u'}',\n",
       "  126: u'~',\n",
       "  128: u'\\xc4',\n",
       "  129: u'\\xc5',\n",
       "  130: u'\\xc7',\n",
       "  131: u'\\xc9',\n",
       "  132: u'\\xd1',\n",
       "  133: u'\\xd6',\n",
       "  134: u'\\xdc',\n",
       "  135: u'\\xe1',\n",
       "  136: u'\\xe0',\n",
       "  137: u'\\xe2',\n",
       "  138: u'\\xe4',\n",
       "  139: u'\\xe3',\n",
       "  140: u'\\xe5',\n",
       "  141: u'\\xe7',\n",
       "  142: u'\\xe9',\n",
       "  143: u'\\xe8',\n",
       "  144: u'\\xea',\n",
       "  145: u'\\xeb',\n",
       "  146: u'\\xed',\n",
       "  147: u'\\xec',\n",
       "  148: u'\\xee',\n",
       "  149: u'\\xef',\n",
       "  150: u'\\xf1',\n",
       "  151: u'\\xf3',\n",
       "  152: u'\\xf2',\n",
       "  153: u'\\xf4',\n",
       "  154: u'\\xf6',\n",
       "  155: u'\\xf5',\n",
       "  156: u'\\xfa',\n",
       "  157: u'\\xf9',\n",
       "  158: u'\\xfb',\n",
       "  159: u'\\xfc',\n",
       "  160: u'\\u2020',\n",
       "  161: u'\\xb0',\n",
       "  162: u'\\xa2',\n",
       "  163: u'\\xa3',\n",
       "  164: u'\\xa7',\n",
       "  165: u'\\u2022',\n",
       "  166: u'\\xb6',\n",
       "  167: u'\\xdf',\n",
       "  168: u'\\xae',\n",
       "  169: u'\\xa9',\n",
       "  170: u'\\u2122',\n",
       "  171: u'\\xb4',\n",
       "  172: u'\\xa8',\n",
       "  174: u'\\xc6',\n",
       "  175: u'\\xd8',\n",
       "  177: u'\\xb1',\n",
       "  180: u'\\xa5',\n",
       "  181: u'\\xb5',\n",
       "  187: u'\\xaa',\n",
       "  188: u'\\xba',\n",
       "  190: u'\\xe6',\n",
       "  191: u'\\xf8',\n",
       "  192: u'\\xbf',\n",
       "  193: u'\\xa1',\n",
       "  194: u'\\xac',\n",
       "  196: u'\\u0192',\n",
       "  199: u'\\xab',\n",
       "  200: u'\\xbb',\n",
       "  201: u'\\u2026',\n",
       "  203: u'\\xc0',\n",
       "  204: u'\\xc3',\n",
       "  205: u'\\xd5',\n",
       "  206: u'\\u0152',\n",
       "  207: u'\\u0153',\n",
       "  208: u'\\u2013',\n",
       "  209: u'\\u2014',\n",
       "  210: u'\\u201c',\n",
       "  211: u'\\u201d',\n",
       "  212: u'\\u2018',\n",
       "  213: u'\\u2019',\n",
       "  214: u'\\xf7',\n",
       "  216: u'\\xff',\n",
       "  217: u'\\u0178',\n",
       "  218: u'\\u2044',\n",
       "  219: u'\\xa4',\n",
       "  220: u'\\u2039',\n",
       "  221: u'\\u203a',\n",
       "  222: u'\\ufb01',\n",
       "  223: u'\\ufb02',\n",
       "  224: u'\\u2021',\n",
       "  225: u'\\xb7',\n",
       "  226: u'\\u201a',\n",
       "  227: u'\\u201e',\n",
       "  228: u'\\u2030',\n",
       "  229: u'\\xc2',\n",
       "  230: u'\\xca',\n",
       "  231: u'\\xc1',\n",
       "  232: u'\\xcb',\n",
       "  233: u'\\xc8',\n",
       "  234: u'\\xcd',\n",
       "  235: u'\\xce',\n",
       "  236: u'\\xcf',\n",
       "  237: u'\\xcc',\n",
       "  238: u'\\xd3',\n",
       "  239: u'\\xd4',\n",
       "  241: u'\\xd2',\n",
       "  242: u'\\xda',\n",
       "  243: u'\\xdb',\n",
       "  244: u'\\xd9',\n",
       "  245: u'\\u0131',\n",
       "  246: u'\\u02c6',\n",
       "  247: u'\\u02dc',\n",
       "  248: u'\\xaf',\n",
       "  249: u'\\u02d8',\n",
       "  250: u'\\u02d9',\n",
       "  251: u'\\u02da',\n",
       "  252: u'\\xb8',\n",
       "  253: u'\\u02dd',\n",
       "  254: u'\\u02db',\n",
       "  255: u'\\u02c7'},\n",
       " 'default_width': 0,\n",
       " 'descent': -281,\n",
       " 'descriptor': {'Ascent': 924,\n",
       "  'CapHeight': 677,\n",
       "  'Descent': -281,\n",
       "  'Flags': 32,\n",
       "  'FontBBox': [-199, -312, 1031, 955],\n",
       "  'FontFile': <PDFObjRef:26572>,\n",
       "  'FontName': /XCRUNF+NimbusRomNo9L-Regu,\n",
       "  'ItalicAngle': 0,\n",
       "  'MaxWidth': 1230,\n",
       "  'StemH': 30,\n",
       "  'StemV': 85,\n",
       "  'Type': /FontDescriptor,\n",
       "  'XHeight': 461},\n",
       " 'flags': 32,\n",
       " 'fontname': 'XCRUNF+NimbusRomNo9L-Regu',\n",
       " 'hscale': 0.001,\n",
       " 'italic_angle': 0,\n",
       " 'leading': 0,\n",
       " 'unicode_map': None,\n",
       " 'vscale': 0.001,\n",
       " 'widths': {33: 333,\n",
       "  34: 408,\n",
       "  35: 500,\n",
       "  36: 0,\n",
       "  37: 833,\n",
       "  38: 778,\n",
       "  39: 0,\n",
       "  40: 333,\n",
       "  41: 333,\n",
       "  42: 500,\n",
       "  43: 564,\n",
       "  44: 250,\n",
       "  45: 333,\n",
       "  46: 250,\n",
       "  47: 278,\n",
       "  48: 500,\n",
       "  49: 500,\n",
       "  50: 500,\n",
       "  51: 500,\n",
       "  52: 500,\n",
       "  53: 500,\n",
       "  54: 500,\n",
       "  55: 500,\n",
       "  56: 500,\n",
       "  57: 500,\n",
       "  58: 278,\n",
       "  59: 278,\n",
       "  60: 0,\n",
       "  61: 564,\n",
       "  62: 0,\n",
       "  63: 444,\n",
       "  64: 921,\n",
       "  65: 722,\n",
       "  66: 667,\n",
       "  67: 667,\n",
       "  68: 722,\n",
       "  69: 611,\n",
       "  70: 556,\n",
       "  71: 722,\n",
       "  72: 722,\n",
       "  73: 333,\n",
       "  74: 389,\n",
       "  75: 722,\n",
       "  76: 611,\n",
       "  77: 889,\n",
       "  78: 722,\n",
       "  79: 722,\n",
       "  80: 556,\n",
       "  81: 722,\n",
       "  82: 667,\n",
       "  83: 556,\n",
       "  84: 611,\n",
       "  85: 722,\n",
       "  86: 722,\n",
       "  87: 944,\n",
       "  88: 722,\n",
       "  89: 722,\n",
       "  90: 611,\n",
       "  91: 0,\n",
       "  92: 0,\n",
       "  93: 333,\n",
       "  94: 0,\n",
       "  95: 500,\n",
       "  96: 0,\n",
       "  97: 444,\n",
       "  98: 500,\n",
       "  99: 444,\n",
       "  100: 500,\n",
       "  101: 444,\n",
       "  102: 333,\n",
       "  103: 500,\n",
       "  104: 500,\n",
       "  105: 278,\n",
       "  106: 278,\n",
       "  107: 500,\n",
       "  108: 278,\n",
       "  109: 778,\n",
       "  110: 500,\n",
       "  111: 500,\n",
       "  112: 500,\n",
       "  113: 500,\n",
       "  114: 333,\n",
       "  115: 389,\n",
       "  116: 278,\n",
       "  117: 500,\n",
       "  118: 500,\n",
       "  119: 722,\n",
       "  120: 500,\n",
       "  121: 500,\n",
       "  122: 444,\n",
       "  123: 480,\n",
       "  124: 200,\n",
       "  125: 480,\n",
       "  126: 0,\n",
       "  127: 0,\n",
       "  128: 0,\n",
       "  129: 0,\n",
       "  130: 0,\n",
       "  131: 0,\n",
       "  132: 0,\n",
       "  133: 0,\n",
       "  134: 0,\n",
       "  135: 444,\n",
       "  136: 0,\n",
       "  137: 0,\n",
       "  138: 444,\n",
       "  139: 444,\n",
       "  140: 0,\n",
       "  141: 0,\n",
       "  142: 444,\n",
       "  143: 0,\n",
       "  144: 0,\n",
       "  145: 0,\n",
       "  146: 0,\n",
       "  147: 0,\n",
       "  148: 0,\n",
       "  149: 0,\n",
       "  150: 0,\n",
       "  151: 500,\n",
       "  152: 0,\n",
       "  153: 0,\n",
       "  154: 500,\n",
       "  155: 0,\n",
       "  156: 0,\n",
       "  157: 0,\n",
       "  158: 0,\n",
       "  159: 500,\n",
       "  160: 0,\n",
       "  161: 400,\n",
       "  162: 0,\n",
       "  163: 0,\n",
       "  164: 0,\n",
       "  165: 350,\n",
       "  166: 0,\n",
       "  167: 0,\n",
       "  168: 760,\n",
       "  169: 760,\n",
       "  170: 0,\n",
       "  171: 0,\n",
       "  172: 0,\n",
       "  173: 0,\n",
       "  174: 0,\n",
       "  175: 0,\n",
       "  176: 0,\n",
       "  177: 0,\n",
       "  178: 0,\n",
       "  179: 0,\n",
       "  180: 0,\n",
       "  181: 0,\n",
       "  182: 0,\n",
       "  183: 0,\n",
       "  184: 0,\n",
       "  185: 0,\n",
       "  186: 0,\n",
       "  187: 0,\n",
       "  188: 0,\n",
       "  189: 0,\n",
       "  190: 0,\n",
       "  191: 500,\n",
       "  192: 0,\n",
       "  193: 0,\n",
       "  194: 0,\n",
       "  195: 0,\n",
       "  196: 0,\n",
       "  197: 0,\n",
       "  198: 0,\n",
       "  199: 0,\n",
       "  200: 0,\n",
       "  201: 0,\n",
       "  202: 0,\n",
       "  203: 0,\n",
       "  204: 0,\n",
       "  205: 0,\n",
       "  206: 0,\n",
       "  207: 0,\n",
       "  208: 500,\n",
       "  209: 1000,\n",
       "  210: 444,\n",
       "  211: 444,\n",
       "  212: 0,\n",
       "  213: 333,\n",
       "  214: 0,\n",
       "  215: 0,\n",
       "  216: 0,\n",
       "  217: 0,\n",
       "  218: 0,\n",
       "  219: 0,\n",
       "  220: 0,\n",
       "  221: 0,\n",
       "  222: 556,\n",
       "  223: 556,\n",
       "  224: 0,\n",
       "  225: 0,\n",
       "  226: 0,\n",
       "  227: 0,\n",
       "  228: 0,\n",
       "  229: 0,\n",
       "  230: 0,\n",
       "  231: 0,\n",
       "  232: 0,\n",
       "  233: 0,\n",
       "  234: 0,\n",
       "  235: 0,\n",
       "  236: 0,\n",
       "  237: 0,\n",
       "  238: 0,\n",
       "  239: 0,\n",
       "  240: 0,\n",
       "  241: 0,\n",
       "  242: 0,\n",
       "  243: 0,\n",
       "  244: 0,\n",
       "  245: 0,\n",
       "  246: 0,\n",
       "  247: 0,\n",
       "  248: 0,\n",
       "  249: 0,\n",
       "  250: 0,\n",
       "  251: 0,\n",
       "  252: 0,\n",
       "  253: 0,\n",
       "  254: 0,\n",
       "  255: 333}}"
      ]
     },
     "execution_count": 17,
     "metadata": {},
     "output_type": "execute_result"
    }
   ],
   "source": [
    "test_char_ext.fontsize.__dict__"
   ]
  },
  {
   "cell_type": "code",
   "execution_count": 12,
   "metadata": {
    "collapsed": true,
    "hidden": true,
    "run_control": {
     "frozen": false,
     "read_only": false
    }
   },
   "outputs": [
    {
     "data": {
      "text/plain": [
       "['__class__',\n",
       " '__delattr__',\n",
       " '__dict__',\n",
       " '__doc__',\n",
       " '__format__',\n",
       " '__getattribute__',\n",
       " '__hash__',\n",
       " '__init__',\n",
       " '__module__',\n",
       " '__new__',\n",
       " '__reduce__',\n",
       " '__reduce_ex__',\n",
       " '__repr__',\n",
       " '__setattr__',\n",
       " '__sizeof__',\n",
       " '__str__',\n",
       " '__subclasshook__',\n",
       " '__weakref__',\n",
       " 'ascent',\n",
       " 'basefont',\n",
       " 'bbox',\n",
       " 'char_disp',\n",
       " 'char_width',\n",
       " 'cid2unicode',\n",
       " 'decode',\n",
       " 'default_width',\n",
       " 'descent',\n",
       " 'descriptor',\n",
       " 'flags',\n",
       " 'fontname',\n",
       " 'get_ascent',\n",
       " 'get_descent',\n",
       " 'get_height',\n",
       " 'get_width',\n",
       " 'hscale',\n",
       " 'is_multibyte',\n",
       " 'is_vertical',\n",
       " 'italic_angle',\n",
       " 'leading',\n",
       " 'string_width',\n",
       " 'to_unichr',\n",
       " 'unicode_map',\n",
       " 'vscale',\n",
       " 'widths']"
      ]
     },
     "execution_count": 12,
     "metadata": {},
     "output_type": "execute_result"
    }
   ],
   "source": [
    "dir(test_char_ext.fontsize)"
   ]
  },
  {
   "cell_type": "code",
   "execution_count": 277,
   "metadata": {
    "collapsed": false,
    "hidden": true,
    "run_control": {
     "frozen": false,
     "read_only": false
    }
   },
   "outputs": [],
   "source": [
    "def get_deepest_nested_component(layout_comp):\n",
    "    if hasattr(layout_comp, '_objs'):\n",
    "        return get_first_nested_component(layout_comp._objs[0])\n",
    "    else:\n",
    "        return layout_comp\n",
    "\n",
    "def check_for_topic_header(text_box, header_font):\n",
    "    first_char = get_deepest_nested_component(text_box)\n",
    "    if hasattr(first_char, 'fontname'):\n",
    "        box_font = first_char.fontname.split('_')[-1]\n",
    "        print box_font\n",
    "        return box_font == header_font\n",
    "    else:\n",
    "        return False\n",
    "\n",
    "def process_line(text_box):\n",
    "    return check_for_topic_header(text_box)\n",
    "\n",
    "def process_page(page_layout, header_font = 'Bold'):\n",
    "    for box in page_layout:\n",
    "        print box\n",
    "        header_found = check_for_topic_header(box, header_font)"
   ]
  },
  {
   "cell_type": "code",
   "execution_count": 14,
   "metadata": {
    "collapsed": true,
    "hidden": true,
    "run_control": {
     "frozen": false,
     "read_only": false
    }
   },
   "outputs": [],
   "source": [
    "# test_page_layout[0]._objs\n",
    "\n",
    "\n",
    "'KCJNMV+NimbusRomNo9L-Regu-Slant_167'\n",
    "\n",
    "to1 = test_page_layout[0]._objs[2]._objs[0]._objs[0]"
   ]
  },
  {
   "cell_type": "markdown",
   "metadata": {
    "heading_collapsed": true,
    "hidden": true
   },
   "source": [
    "## pdfminer drawing boxes"
   ]
  },
  {
   "cell_type": "code",
   "execution_count": 4,
   "metadata": {
    "collapsed": false,
    "hidden": true,
    "run_control": {
     "frozen": false,
     "read_only": false
    },
    "scrolled": false
   },
   "outputs": [
    {
     "data": {
      "image/png": "[encoded data removed]",
      "text/plain": [
       "<PIL.Image.Image image mode=RGB size=612x792 at 0x10FD55450>"
      ]
     },
     "metadata": {},
     "output_type": "display_data"
    }
   ],
   "source": [
    "# pdf_processing.draw_pdf_with_boxes(test_file, [50,50])\n",
    "pdf_processing.draw_pdf_with_boxes(test_file, [0,1])"
   ]
  },
  {
   "cell_type": "markdown",
   "metadata": {
    "heading_collapsed": true,
    "hidden": true
   },
   "source": [
    "## Minecart + poppler direct"
   ]
  },
  {
   "cell_type": "code",
   "execution_count": 20,
   "metadata": {
    "collapsed": true,
    "hidden": true,
    "run_control": {
     "frozen": false,
     "read_only": false
    }
   },
   "outputs": [],
   "source": [
    "import minecart"
   ]
  },
  {
   "cell_type": "code",
   "execution_count": 28,
   "metadata": {
    "collapsed": true,
    "hidden": true,
    "run_control": {
     "frozen": false,
     "read_only": false
    }
   },
   "outputs": [],
   "source": [
    "ROW_BORDERS = (\n",
    "    72 * 1,  # Bottom row starts 1 inch from the bottom of the page\n",
    "    72 * 3,  # Second row starts 3 inches from the bottom of the page\n",
    "    72 * 5,  # Third row starts 5 inches from the bottom of the page\n",
    "    72 * 7,  # Third row ends 7 inches from the bottom of the page\n",
    ")\n",
    "COLUMN_BORDERS = (\n",
    "    72 * 8,  # Third col ends 8 inches from the left of the page\n",
    "    72 * 6,  # Third col starts 6 inches from the left of the page\n",
    "    72 * 4,  # Second col starts 4 inches from the left of the page   \n",
    "    72 * 2,  # First col starts 2 inches from the left of the page\n",
    ")  # reversed so that BOXES is ordered properly\n",
    "BOXES = [\n",
    "    (left, bot, right, top)\n",
    "    for top, bot in zip(ROW_BORDERS, ROW_BORDERS[1:])\n",
    "    for left, right in zip(COLUMN_BORDERS, COLUMN_BORDERS[1:])\n",
    "]\n",
    "\n",
    "def extract_output(page):\n",
    "    \"\"\"\n",
    "    Reads the text from page and splits it into the 9 cells.\n",
    "\n",
    "    Returns a list with 9 entries: \n",
    "\n",
    "        [A, B, C, D, E, F, G, H, I]\n",
    "\n",
    "    Each item in the tuple contains a string with all of the\n",
    "    text found in the cell.\n",
    "\n",
    "    \"\"\"\n",
    "    res = []\n",
    "    for box in BOXES:\n",
    "        strings = list(page.letterings.iter_in_bbox(box))\n",
    "        # We sort from top-to-bottom and then from left-to-right, based\n",
    "        # on the strings' top left corner\n",
    "        strings.sort(key=lambda x: (-x.bbox[3], x.bbox[0]))\n",
    "        res.append(\" \".join(strings).replace(u\"\\xa0\", \" \").strip())\n",
    "    return res"
   ]
  },
  {
   "cell_type": "code",
   "execution_count": 24,
   "metadata": {
    "collapsed": false,
    "hidden": true,
    "run_control": {
     "frozen": false,
     "read_only": false
    }
   },
   "outputs": [],
   "source": [
    "content = []\n",
    "doc = minecart.Document(open(test_file, 'rb'))"
   ]
  },
  {
   "cell_type": "code",
   "execution_count": 9,
   "metadata": {
    "collapsed": false,
    "hidden": true,
    "run_control": {
     "frozen": false,
     "read_only": false
    },
    "scrolled": false
   },
   "outputs": [],
   "source": [
    "# for page in doc.iter_pages():\n",
    "#     content.append(extract_output(page))"
   ]
  },
  {
   "cell_type": "code",
   "execution_count": 37,
   "metadata": {
    "collapsed": true,
    "hidden": true,
    "run_control": {
     "frozen": false,
     "read_only": false
    }
   },
   "outputs": [
    {
     "ename": "ImportError",
     "evalue": "No module named poppler",
     "output_type": "error",
     "traceback": [
      "\u001b[0;31m---------------------------------------------------------------------------\u001b[0m",
      "\u001b[0;31mImportError\u001b[0m                               Traceback (most recent call last)",
      "\u001b[0;32m<ipython-input-37-b26fe7045e40>\u001b[0m in \u001b[0;36m<module>\u001b[0;34m()\u001b[0m\n\u001b[0;32m----> 1\u001b[0;31m \u001b[0;32mimport\u001b[0m \u001b[0mpoppler\u001b[0m\u001b[0;34m\u001b[0m\u001b[0m\n\u001b[0m",
      "\u001b[0;31mImportError\u001b[0m: No module named poppler"
     ]
    }
   ],
   "source": [
    "import poppler"
   ]
  },
  {
   "cell_type": "code",
   "execution_count": 33,
   "metadata": {
    "collapsed": false,
    "hidden": true,
    "run_control": {
     "frozen": false,
     "read_only": false
    }
   },
   "outputs": [],
   "source": [
    "import ctypes\n",
    "import sys\n",
    "import os.path\n",
    "import poppler_page\n",
    "lib_poppler = ctypes.cdll.LoadLibrary(\"/usr/local/Cellar/poppler/0.37.0/lib/libpoppler-glib.8.dylib\")\n",
    " \n",
    "ctypes.pythonapi.PyCapsule_GetPointer.restype = ctypes.c_void_p\n",
    "ctypes.pythonapi.PyCapsule_GetPointer.argtypes = [ctypes.py_object, ctypes.c_char_p]\n",
    "PyCapsule_GetPointer = ctypes.pythonapi.PyCapsule_GetPointer\n",
    " \n",
    "class Poppler_Rectangle(ctypes.Structure):\n",
    "    _fields_ = [ (\"x1\", ctypes.c_double), (\"y1\", ctypes.c_double), (\"x2\", ctypes.c_double), (\"y2\", ctypes.c_double) ]\n",
    "LP_Poppler_Rectangle = ctypes.POINTER(Poppler_Rectangle)\n",
    "poppler_page_get_text_layout = ctypes.CFUNCTYPE(ctypes.c_int, \n",
    "                                                ctypes.c_void_p, \n",
    "                                                ctypes.POINTER(LP_Poppler_Rectangle), \n",
    "                                                ctypes.POINTER(ctypes.c_uint)\n",
    "                                                )(lib_poppler.poppler_page_get_text_layout)\n",
    " \n",
    "def get_page_layout(page):\n",
    "    assert isinstance(page, Poppler.Page)\n",
    "    capsule = page.__gpointer__\n",
    "    page_addr = PyCapsule_GetPointer(capsule, None)\n",
    "    rectangles = LP_Poppler_Rectangle()\n",
    "    n_rectangles = ctypes.c_uint(0)\n",
    "    has_text = poppler_page_get_text_layout(page_addr, ctypes.byref(rectangles), ctypes.byref(n_rectangles))\n",
    "    try:\n",
    "        result = []\n",
    "        if has_text:\n",
    "            assert n_rectangles.value > 0, \"n_rectangles.value > 0: {}\".format(n_rectangles.value)\n",
    "            assert rectangles, \"rectangles: {}\".format(rectangles)\n",
    "            for i in range(n_rectangles.value):\n",
    "                r = rectangles[i]\n",
    "                result.append((r.x1, r.y1, r.x2, r.y2))\n",
    "        return result\n",
    "    finally:\n",
    "        if rectangles:\n",
    "            GLib.free(ctypes.addressof(rectangles.contents))\n",
    " \n",
    "def main():\n",
    "    \n",
    "    print 'Version:', Poppler.get_version()\n",
    "    path= test_file\n",
    "    if not os.path.isabs(path):\n",
    "        path=os.path.join(os.getcwd(), path)\n",
    "    d=Poppler.Document.new_from_file('file:'+path)\n",
    "    n=d.get_n_pages()\n",
    "    for pg_no in range(n):\n",
    "        p=d.get_page(pg_no)\n",
    "        print 'Page %d' % (pg_no+1), 'size ', p.get_size()\n",
    "        text=p.get_text().decode('UTF-8')\n",
    "        locs=get_page_layout(p)\n",
    "        fonts=p.get_text_attributes()\n",
    "        offset=0\n",
    "        cfont=0\n",
    "        for line in text.splitlines(True):\n",
    "            print ' ', line.encode('UTF-8'),\n",
    "            n=len(line)\n",
    "            for i in range(n):\n",
    "                if line[i]==u'\\n':\n",
    "                    continue\n",
    "                font=fonts[cfont]\n",
    "                while font.start_index > i+offset or font.end_index < i+offset:\n",
    "                    cfont+=1\n",
    "                    if cfont>= len(fonts):\n",
    "                        font=None\n",
    "                        break\n",
    "                    font=fonts[cfont]\n",
    "                \n",
    "                bb=locs[offset+i]\n",
    "                print line[i].encode('UTF-8'), '(%0.2f, %0.2f, %0.2f, %0.2f)' % bb,\n",
    "                if font:\n",
    "                    print font.font_name, font.font_size, 'r=%d g=%d, b=%d'%(font.color.red, font.color.green, font.color.blue),\n",
    "            offset+=n\n",
    "            print       \n",
    "        print\n",
    "        #p.free_text_attributes(fonts)"
   ]
  },
  {
   "cell_type": "markdown",
   "metadata": {
    "collapsed": true,
    "heading_collapsed": true,
    "hidden": true,
    "run_control": {
     "frozen": false,
     "read_only": false
    }
   },
   "source": [
    "## tables of content extraction"
   ]
  },
  {
   "cell_type": "code",
   "execution_count": 34,
   "metadata": {
    "collapsed": true,
    "hidden": true,
    "run_control": {
     "frozen": false,
     "read_only": false
    }
   },
   "outputs": [],
   "source": [
    "import pdfparser.poppler as pdf\n",
    "import sys\n",
    "import string"
   ]
  },
  {
   "cell_type": "code",
   "execution_count": null,
   "metadata": {
    "collapsed": true,
    "hidden": true,
    "run_control": {
     "frozen": false,
     "read_only": false
    }
   },
   "outputs": [],
   "source": [
    "# test_file = text_path + earth_sci_text\n",
    "# test_file = text_path + life_sci_text\n",
    "# test_file = 'img_test/test_page.pdf'\n",
    "# test_file = './ck12_pdfs/text/test_page_multi.pdf'\n",
    "\n",
    "# toc_dir = 'tables_of_content/'\n",
    "# etoc = 'ls_toc.pdf'\n",
    "# test_file = text_path + toc_dir + etoc"
   ]
  },
  {
   "cell_type": "code",
   "execution_count": 169,
   "metadata": {
    "collapsed": false,
    "hidden": true,
    "run_control": {
     "frozen": false,
     "read_only": false
    },
    "scrolled": false
   },
   "outputs": [
    {
     "name": "stdout",
     "output_type": "stream",
     "text": [
      "No of pages 4\n"
     ]
    }
   ],
   "source": [
    "d=pdf.Document(test_file)\n",
    "etoc_lines =[]\n",
    "print 'No of pages', d.no_of_pages\n",
    "for p in d:\n",
    "#     print 'Page', p.page_no, 'size =', p.size\n",
    "    for f in p:\n",
    "#         print ' '*1,'Flow'\n",
    "        for b in f:\n",
    "#             print ' '*2,'Block', 'bbox=', b.bbox.as_tuple()\n",
    "            for l in b:\n",
    "#                 print ' '*3, l.text.encode('UTF-8'), '(%0.2f, %0.2f, %0.2f, %0.2f)'% l.bbox.as_tuple()\n",
    "                #assert l.char_fonts.comp_ratio < 1.0\n",
    "#                 print list(l.char_fonts)[0]\n",
    "#                 for i in range(len(l.text)):\n",
    "#                     print l.text[i].encode('UTF-8'), '(%0.2f, %0.2f, %0.2f, %0.2f)'% l.char_bboxes[i].as_tuple(),\\\n",
    "#                         print'(%0.2f, %0.2f, %0.2f, %0.2f)'% , \\\n",
    "#                 print l.text\n",
    "#                 print l.char_fonts[0].size, l.char_fonts[0].color\n",
    "                if l.char_fonts[0].color.as_tuple()[2] == 1.0:\n",
    "                    line_text = l.text\n",
    "                    if not line_text[0].isdigit():\n",
    "                        line_text = line_text.replace('.','')\n",
    "\n",
    "                    etoc_lines.append(line_text.strip().encode('ascii', 'ignore'))\n",
    "#                         l.char_fonts[i].name, l.char_fonts[i].size, l.char_fonts[i].color,\n",
    "#                     print '\\n'\n",
    "#                 print"
   ]
  },
  {
   "cell_type": "code",
   "execution_count": 170,
   "metadata": {
    "collapsed": false,
    "hidden": true,
    "run_control": {
     "frozen": false,
     "read_only": false
    }
   },
   "outputs": [],
   "source": [
    "processed_lines = []\n",
    "for idx, t_line in enumerate(etoc_lines):\n",
    "    start_char = t_line[0]\n",
    "    if not start_char.isdigit() and '.' in etoc_lines[idx - 1] and 'References' not in t_line and len(t_line) > 2:\n",
    "        new_line = etoc_lines[idx - 1] + ' ' + t_line\n",
    "        while new_line[-1].isdigit():\n",
    "            new_line = new_line[:-1]\n",
    "        processed_lines.append(new_line[:].strip())"
   ]
  },
  {
   "cell_type": "code",
   "execution_count": 173,
   "metadata": {
    "collapsed": false,
    "hidden": true,
    "run_control": {
     "frozen": false,
     "read_only": false
    },
    "scrolled": false
   },
   "outputs": [],
   "source": [
    "# etoc_lines"
   ]
  },
  {
   "cell_type": "code",
   "execution_count": 72,
   "metadata": {
    "collapsed": false,
    "hidden": true,
    "run_control": {
     "frozen": false,
     "read_only": false
    }
   },
   "outputs": [],
   "source": [
    "pd.Series(processed_lines).to_csv('phys_sci_toc.csv', index=False)"
   ]
  },
  {
   "cell_type": "code",
   "execution_count": 212,
   "metadata": {
    "collapsed": false,
    "hidden": true,
    "run_control": {
     "frozen": false,
     "read_only": false
    }
   },
   "outputs": [],
   "source": [
    "for lesson, topic in parsed_flexbook.items():\n",
    "    if not lesson.encode('ascii', 'ignore') in ls_toc_list:\n",
    "        print lesson"
   ]
  },
  {
   "cell_type": "code",
   "execution_count": 185,
   "metadata": {
    "collapsed": false,
    "hidden": true,
    "run_control": {
     "frozen": false,
     "read_only": false
    }
   },
   "outputs": [],
   "source": [
    "ls_toc = pd.read_csv('./parsed_to`c/life_sci_toc.csv', header=None)\n",
    "ls_toc_list = ls_toc.values.flatten().tolist()"
   ]
  },
  {
   "cell_type": "code",
   "execution_count": null,
   "metadata": {
    "collapsed": true,
    "hidden": true,
    "run_control": {
     "frozen": false,
     "read_only": false
    }
   },
   "outputs": [],
   "source": []
  },
  {
   "cell_type": "markdown",
   "metadata": {
    "heading_collapsed": true
   },
   "source": [
    "# Image extraction"
   ]
  },
  {
   "cell_type": "code",
   "execution_count": 553,
   "metadata": {
    "collapsed": false,
    "hidden": true,
    "run_control": {
     "frozen": false,
     "read_only": false
    }
   },
   "outputs": [],
   "source": [
    "image_bbox = []\n",
    "for ob in fig_page_layout:\n",
    "    if isinstance(ob, LTFigure):\n",
    "        image_bbox.append(ob.bbox)"
   ]
  },
  {
   "cell_type": "code",
   "execution_count": 560,
   "metadata": {
    "collapsed": false,
    "hidden": true,
    "run_control": {
     "frozen": false,
     "read_only": false
    }
   },
   "outputs": [],
   "source": [
    "tl1 = fig_page_layout[18]"
   ]
  },
  {
   "cell_type": "code",
   "execution_count": 555,
   "metadata": {
    "collapsed": false,
    "hidden": true,
    "run_control": {
     "frozen": false,
     "read_only": false
    }
   },
   "outputs": [
    {
     "data": {
      "text/plain": [
       "[<LTTextBoxHorizontal(0) 54.000,761.451,101.935,775.294 u'9.2. Fungi\\n'>,\n",
       " <LTTextBoxHorizontal(1) 491.346,761.451,555.273,775.272 u'www.ck12.org\\n'>,\n",
       " <LTTextBoxHorizontal(2) 392.302,648.366,553.740,676.526 u'FIGURE 9.10\\nSexual and asexual reproduction in fungi\\n'>,\n",
       " <LTTextBoxHorizontal(3) 53.999,476.645,557.999,518.220 u'Yeasts are an exception. They reproduce asexually by budding instead of by producing spores. An offspring cell\\nforms on a parent cell. After it grows and develops, it buds off to form a new cell. The offspring cell is genetically\\nidentical to the parent cell. You can see yeast cells budding in Figure 9.11.\\n'>,\n",
       " <LTTextBoxHorizontal(4) 392.302,374.991,468.614,402.946 u'FIGURE 9.11\\nYeast cells budding\\n'>,\n",
       " <LTTextBoxHorizontal(5) 53.999,218.036,206.075,232.217 u'Sexual Reproduction in Fungi\\n'>,\n",
       " <LTTextBoxHorizontal(6) 53.999,163.810,557.999,204.730 u'Sexual reproduction also occurs in most fungi. It happens when two haploid hyphae mate. During mating, two\\nhaploid parent cells fuse. The single fused cell that results is a diploid spore. It is genetically different from both\\nparents. The spore undergoes meiosis to form haploid daughter cells. These haploid cells develop into new hyphae.\\n'>,\n",
       " <LTTextBoxHorizontal(7) 53.999,99.745,237.678,116.763 u'Roles of Fungi in Ecosystems\\n'>,\n",
       " <LTTextBoxHorizontal(8) 53.999,46.180,557.999,87.100 u'Most fungi grow on moist soil or rotting vegetation such as dead logs. Some fungi live in water. Others live in or\\non other organisms. Fungi get their nutrition by absorbing organic compounds from other organisms. The other\\norganisms may be dead or alive, depending on the fungus.\\n'>,\n",
       " <LTTextBoxHorizontal(9) 53.999,18.820,70.363,32.641 u'214\\n'>,\n",
       " <LTFigure(Im190) 54.000,565.050,342.000,732.090 matrix=[288.00,0.00,0.00,167.04, (54.00,565.05)]>,\n",
       " <LTRect 388.865,661.749,463.707,677.155>,\n",
       " <LTLine 388.466,677.554,561.269,677.554>,\n",
       " <LTLine 464.106,661.350,464.106,677.554>,\n",
       " <LTLine 388.466,645.090,561.269,645.090>,\n",
       " <LTFigure(Im191) 53.999,298.883,342.027,451.302 matrix=[288.03,0.00,0.00,152.42, (54.00,298.88)]>,\n",
       " <LTRect 388.865,388.168,463.707,403.574>,\n",
       " <LTLine 388.466,403.973,561.269,403.973>,\n",
       " <LTLine 464.106,387.769,464.106,403.973>,\n",
       " <LTLine 388.466,371.715,561.269,371.715>,\n",
       " <LTRect 53.999,121.642,557.999,123.635>]"
      ]
     },
     "execution_count": 555,
     "metadata": {},
     "output_type": "execute_result"
    }
   ],
   "source": [
    "fig_page_layout"
   ]
  },
  {
   "cell_type": "code",
   "execution_count": 668,
   "metadata": {
    "collapsed": false,
    "hidden": true,
    "run_control": {
     "frozen": false,
     "read_only": false
    }
   },
   "outputs": [
    {
     "data": {
      "text/plain": [
       "[(54.0, 565.05, 342.0, 732.0899999999999),\n",
       " (53.999, 298.883, 342.02660000000003, 451.30229999999995)]"
      ]
     },
     "execution_count": 668,
     "metadata": {},
     "output_type": "execute_result"
    }
   ],
   "source": [
    "image_bbox"
   ]
  },
  {
   "cell_type": "code",
   "execution_count": 443,
   "metadata": {
    "collapsed": false,
    "hidden": true,
    "run_control": {
     "frozen": false,
     "read_only": false
    }
   },
   "outputs": [
    {
     "data": {
      "text/plain": [
       "1.2941176470588236"
      ]
     },
     "execution_count": 443,
     "metadata": {},
     "output_type": "execute_result"
    }
   ],
   "source": [
    "page_size[1]/float(page_size[0])"
   ]
  },
  {
   "cell_type": "code",
   "execution_count": 445,
   "metadata": {
    "collapsed": false,
    "hidden": true,
    "run_control": {
     "frozen": false,
     "read_only": false
    }
   },
   "outputs": [
    {
     "data": {
      "text/plain": [
       "[612, 792]"
      ]
     },
     "execution_count": 445,
     "metadata": {},
     "output_type": "execute_result"
    }
   ],
   "source": [
    "page_size"
   ]
  },
  {
   "cell_type": "code",
   "execution_count": 456,
   "metadata": {
    "collapsed": false,
    "hidden": true,
    "run_control": {
     "frozen": false,
     "read_only": false
    }
   },
   "outputs": [
    {
     "data": {
      "text/plain": [
       "[(54.0, 565.05, 342.0, 732.0899999999999),\n",
       " (53.999, 298.883, 342.02660000000003, 451.30229999999995)]"
      ]
     },
     "execution_count": 456,
     "metadata": {},
     "output_type": "execute_result"
    }
   ],
   "source": [
    "image_bbox"
   ]
  },
  {
   "cell_type": "code",
   "execution_count": 455,
   "metadata": {
    "collapsed": false,
    "hidden": true,
    "run_control": {
     "frozen": false,
     "read_only": false
    }
   },
   "outputs": [
    {
     "data": {
      "text/plain": [
       "(54.0, 565.05, 342.0, 732.0899999999999)"
      ]
     },
     "execution_count": 455,
     "metadata": {},
     "output_type": "execute_result"
    }
   ],
   "source": [
    "image_bbox[0]"
   ]
  },
  {
   "cell_type": "code",
   "execution_count": 464,
   "metadata": {
    "collapsed": false,
    "hidden": true,
    "run_control": {
     "frozen": false,
     "read_only": false
    }
   },
   "outputs": [],
   "source": [
    "scale_factor = float(ti1.size[0]) / page_size[0]  "
   ]
  },
  {
   "cell_type": "code",
   "execution_count": 465,
   "metadata": {
    "collapsed": false,
    "hidden": true,
    "run_control": {
     "frozen": false,
     "read_only": false
    }
   },
   "outputs": [
    {
     "data": {
      "text/plain": [
       "2.0833333333333335"
      ]
     },
     "execution_count": 465,
     "metadata": {},
     "output_type": "execute_result"
    }
   ],
   "source": [
    "scale_factor"
   ]
  },
  {
   "cell_type": "code",
   "execution_count": 397,
   "metadata": {
    "collapsed": false,
    "hidden": true,
    "run_control": {
     "frozen": false,
     "read_only": false
    }
   },
   "outputs": [],
   "source": [
    "# img_file= '/Users/schwenk/wrk/notebooks/stb/img_test/test_dir/Im190.png'\n",
    "img_file= '/Users/schwenk/wrk/notebooks/stb/img_ext_test.png'"
   ]
  },
  {
   "cell_type": "code",
   "execution_count": 448,
   "metadata": {
    "collapsed": true,
    "hidden": true,
    "run_control": {
     "frozen": false,
     "read_only": false
    }
   },
   "outputs": [],
   "source": [
    "ti1 = Image.open(img_file)"
   ]
  },
  {
   "cell_type": "code",
   "execution_count": 604,
   "metadata": {
    "collapsed": false,
    "hidden": true,
    "run_control": {
     "frozen": false,
     "read_only": false
    }
   },
   "outputs": [
    {
     "data": {
      "text/plain": [
       "(1275, 1650)"
      ]
     },
     "execution_count": 604,
     "metadata": {},
     "output_type": "execute_result"
    }
   ],
   "source": [
    "ti1.size"
   ]
  },
  {
   "cell_type": "code",
   "execution_count": 472,
   "metadata": {
    "collapsed": false,
    "hidden": true,
    "run_control": {
     "frozen": false,
     "read_only": false
    }
   },
   "outputs": [
    {
     "data": {
      "text/plain": [
       "[(54.0, 565.05, 342.0, 732.0899999999999),\n",
       " (53.999, 298.883, 342.02660000000003, 451.30229999999995)]"
      ]
     },
     "execution_count": 472,
     "metadata": {},
     "output_type": "execute_result"
    }
   ],
   "source": [
    "image_bbox"
   ]
  },
  {
   "cell_type": "markdown",
   "metadata": {
    "hidden": true
   },
   "source": [
    "Fortunately, though, each object also provides a bbox (bounding box) attribute, which is a four-part tuple of the object's page position: (x0, y0, x1, y1)."
   ]
  },
  {
   "cell_type": "code",
   "execution_count": 630,
   "metadata": {
    "collapsed": true,
    "hidden": true,
    "run_control": {
     "frozen": false,
     "read_only": false
    }
   },
   "outputs": [
    {
     "name": "stdout",
     "output_type": "stream",
     "text": [
      "[112.50000000000001, 1177.1875, 712.5, 1525.1875]\n",
      "[112.50000000000001, 124.8125, 712.5, 472.8125]\n"
     ]
    }
   ],
   "source": [
    "# box = (x_offset, Y_offset, width, height)\n",
    "box = image_bbox[0]\n",
    "scaled_box = [co * scale_factor for co in box]\n",
    "print scaled_box\n",
    "temp = ti1.size[1] - scaled_box[3]\n",
    "scaled_box[3] = ti1.size[1] - scaled_box[1]\n",
    "scaled_box[1] = temp\n",
    "print scaled_box\n",
    "crop = ti1.crop([112, 124.8125, 712.5, 472.8125])\n",
    "# crop = ti1.crop(scaled_box)\n",
    "# crop.save(image_path, format)"
   ]
  },
  {
   "cell_type": "code",
   "execution_count": 626,
   "metadata": {
    "collapsed": false,
    "hidden": true,
    "run_control": {
     "frozen": false,
     "read_only": false
    }
   },
   "outputs": [
    {
     "data": {
      "image/png": "[encoded data removed]",
      "text/plain": [
       "<PIL.Image._ImageCrop image mode=RGBA size=601x348 at 0x111100F10>"
      ]
     },
     "execution_count": 626,
     "metadata": {},
     "output_type": "execute_result"
    }
   ],
   "source": [
    "crop"
   ]
  },
  {
   "cell_type": "markdown",
   "metadata": {},
   "source": [
    "# CK12 flexbook pdf extraction"
   ]
  },
  {
   "cell_type": "markdown",
   "metadata": {
    "heading_collapsed": true
   },
   "source": [
    "## freq distribution"
   ]
  },
  {
   "cell_type": "markdown",
   "metadata": {
    "hidden": true
   },
   "source": [
    "relies on code below having been run"
   ]
  },
  {
   "cell_type": "code",
   "execution_count": null,
   "metadata": {
    "collapsed": true,
    "hidden": true,
    "run_control": {
     "frozen": false,
     "read_only": false
    }
   },
   "outputs": [],
   "source": [
    "life_sci_corpus = ''\n",
    "for topic, lesson in parsed_flexbook.items():\n",
    "    for lesson_title, content in lesson.items():\n",
    "        life_sci_corpus += content['text'][0]\n",
    "\n",
    "lsc_freq_d = nltk.FreqDist(word_tokenize(life_sci_corpus))\n",
    "# lsc_freq_d.most_common()"
   ]
  },
  {
   "cell_type": "markdown",
   "metadata": {},
   "source": [
    "## performing extraction"
   ]
  },
  {
   "cell_type": "code",
   "execution_count": 1898,
   "metadata": {
    "collapsed": false,
    "run_control": {
     "frozen": false,
     "read_only": false
    }
   },
   "outputs": [],
   "source": [
    "flexbooks = {\n",
    "#     'ls': 'CK-12-Life-Science-For-Middle-School_b_v77_dzc_s1.pdf',\n",
    "    'es': 'CK-12-Earth-Science-For-Middle-School_b_v39_yq9_s1.pdf',\n",
    "#     'ps': 'CK-12-Physical-Science-For-Middle-School_b_v45_cmw_s1.pdf'\n",
    "}\n",
    "\n",
    "textbook_path = '../ck12/flexbooks/raw-pdfs/text/'\n",
    "figure_ext_path = '../flexbook_image_extraction/'\n",
    "rasterized_pages_dir = figure_ext_path +  'pdf_pages/' \n",
    "figure_dest_dir = figure_ext_path + 'figures/'"
   ]
  },
  {
   "cell_type": "code",
   "execution_count": null,
   "metadata": {
    "collapsed": true
   },
   "outputs": [],
   "source": [
    "page_range_df = pd.read_csv(textbook_path + 'supplementary/page_ranges.csv', header=None)\n",
    "range_array = page_range_df.to_dict(orient='split')['data']\n",
    "range_lookup = {k[0]: k[1:]  for k in range_array}"
   ]
  },
  {
   "cell_type": "code",
   "execution_count": 1899,
   "metadata": {
    "collapsed": false,
    "run_control": {
     "frozen": false,
     "read_only": false
    }
   },
   "outputs": [],
   "source": [
    "parsed_flexbooks = {}\n",
    "for subject, flexbook_to_parse in flexbooks.items():\n",
    "    pdf_path = textbook_path + flexbook_to_parse\n",
    "    parser = ck_ex.TextbookParser(os.path.join(rasterized_pages_dir, 'single_page_images', subject, ''), os.path.join(figure_dest_dir, subject, ''))\n",
    "    parsed_flexbooks[subject] = parser.parse_pdf(pdf_path, range_lookup[flexbook_to_parse])\n",
    "#     parsed_flexbooks[subject] = parser.parse_pdf(pdf_path, [5,20])"
   ]
  },
  {
   "cell_type": "markdown",
   "metadata": {
    "collapsed": true,
    "heading_collapsed": true,
    "run_control": {
     "frozen": false,
     "read_only": false
    }
   },
   "source": [
    "# Workbook extraction"
   ]
  },
  {
   "cell_type": "code",
   "execution_count": 1908,
   "metadata": {
    "collapsed": false,
    "hidden": true,
    "run_control": {
     "frozen": false,
     "read_only": false
    }
   },
   "outputs": [],
   "source": [
    "workbooks = {\n",
    "#     'ls': 'CK-12 Life Science For Middle School Workbook (With Answers) 06.01.15.pdf',\n",
    "    'es': 'CK-12-Earth-Science-For-Middle-School-Workbook-with-Answers.pdf',\n",
    "#     'ps': 'CK-12-Physical-Science-For-Middle-School-Workbook-with-Answers.pdf'    \n",
    "}\n",
    "workbook_path = '../ck12/flexbooks/raw-pdfs/questions/'\n",
    "\n",
    "# ends at preview page num -1\n",
    "# begins at preview page num -2\n",
    "\n",
    "workbook_q_ranges = {\n",
    "    'ls': [7, 291],\n",
    "    'ps': [7, 317],\n",
    "    'es': [7, 369]\n",
    "#       'ps': [7, 9],\n",
    "#     'ls': [201, 204]\n",
    "}\n",
    "workbook_ans_ranges = {\n",
    "    'ls': [291, 415],\n",
    "    'ps': [317, 435],\n",
    "    'es': [370, 506]\n",
    "\n",
    "#     'ps': [317, 318],\n",
    "\n",
    "#     'ls': [375, 377]\n",
    "} "
   ]
  },
  {
   "cell_type": "code",
   "execution_count": 1909,
   "metadata": {
    "collapsed": false,
    "hidden": true,
    "run_control": {
     "frozen": false,
     "read_only": false
    },
    "scrolled": false
   },
   "outputs": [
    {
     "name": "stdout",
     "output_type": "stream",
     "text": [
      "CPU times: user 59.4 s, sys: 877 ms, total: 1min\n",
      "Wall time: 1min\n"
     ]
    }
   ],
   "source": [
    "%%time\n",
    "# %%snakeviz\n",
    "parsed_workbooks = {}\n",
    "for subject, workbook_to_parse in workbooks.items():\n",
    "    pdf_path = workbook_path + workbook_to_parse\n",
    "    wb_parser = ck_ex.WorkbookParser()\n",
    "#     parsed_workbooks['questions'], parsed_workbooks['answers'] = wb_parser.parse_worksheet_pdf(pdf_path, workbook_q_ranges[subject], workbook_ans_ranges[subject])\n",
    "    parsed_workbooks[subject] = wb_parser.parse_worksheet_pdf(pdf_path, workbook_q_ranges[subject], workbook_ans_ranges[subject])"
   ]
  },
  {
   "cell_type": "code",
   "execution_count": 1912,
   "metadata": {
    "collapsed": false,
    "hidden": true,
    "scrolled": true
   },
   "outputs": [
    {
     "data": {
      "text/plain": [
       "['1.1 The Nature of Science',\n",
       " '1.2 Earth Science and Its Branches',\n",
       " '10.1 Erosion and Deposition by Flowing Water',\n",
       " '10.2 Erosion and Deposition by Waves',\n",
       " '10.3 Erosion and Deposition by Wind',\n",
       " '10.4 Erosion and Deposition by Glaciers',\n",
       " '10.5 Erosion and Deposition by Gravity',\n",
       " '11.1 Fossils',\n",
       " '11.2 Relative Ages of Rock',\n",
       " '11.3 Absolute Ages of Rocks',\n",
       " '12.1 The Origin of Earth',\n",
       " '12.2 Early Earth',\n",
       " '12.3 History of Earths Life Forms',\n",
       " '13.1 Water on Earth',\n",
       " '13.2 Surface Water',\n",
       " '13.3 Groundwater',\n",
       " '14.1 Introduction to the Oceans',\n",
       " '14.2 Ocean Movements',\n",
       " '14.3 The Ocean Floor',\n",
       " '14.4 Ocean Life',\n",
       " '15.1 The Atmosphere',\n",
       " '15.2 Energy in the Atmosphere',\n",
       " '15.3 Layers of the Atmosphere',\n",
       " '15.4 Air Movement',\n",
       " '16.1 Weather and Water in the Atmosphere',\n",
       " '16.2 Changing Weather',\n",
       " '16.3 Storms',\n",
       " '16.4 Weather Forecasting',\n",
       " '17.1 Climate and Its Causes',\n",
       " '17.2 World Climates',\n",
       " '17.3 Climate Change',\n",
       " '18.1 Ecosystems',\n",
       " '18.2 Cycles of Matter',\n",
       " '18.3 The Human Population',\n",
       " '19.1 Loss of Soil',\n",
       " '19.2 Pollution of the Land',\n",
       " '2.1 Introduction to Earths Surface',\n",
       " '2.2 Modeling Earths Surface',\n",
       " '2.3 Topographic Maps',\n",
       " '2.4 Using Satellites and Computers',\n",
       " '20.1 Use and Conservation of Resources',\n",
       " '20.2 Use and Conservation of Energy',\n",
       " '21.1 Humans and the Water Supply',\n",
       " '21.2 Water Pollution',\n",
       " '21.3 Protecting the Water Supply',\n",
       " '22.1 Air Pollution',\n",
       " '22.2 Effects of Pollution',\n",
       " '22.3 Reducing Air Pollution',\n",
       " '23.1 Telescopes',\n",
       " '23.2 Early Space Exploration',\n",
       " '23.3 Recent Space Exploration',\n",
       " '24.1 Planet Earth',\n",
       " '24.2 Earths Moon',\n",
       " '24.3 The Sun',\n",
       " '24.4 The Sun and the EarthMoon System',\n",
       " '25.1 Introduction to the Solar System',\n",
       " '25.2 Inner Planets',\n",
       " '25.3 Outer Planets',\n",
       " '25.4 Other Objects in the Solar System',\n",
       " '26.1 Stars',\n",
       " '26.2 Galaxies',\n",
       " '26.3 The Universe',\n",
       " '3.1 Minerals',\n",
       " '3.2 Identification of Minerals',\n",
       " '3.3 Formation of Minerals',\n",
       " '3.4 Mining and Using Minerals',\n",
       " '4.1 Types of Rocks',\n",
       " '4.2 Igneous Rocks',\n",
       " '4.3 Sedimentary Rocks',\n",
       " '4.4 Metamorphic Rocks',\n",
       " '5.1 Earths Energy',\n",
       " '5.2 Nonrenewable Energy Resource',\n",
       " '5.3 Lesson 5.3 Renewable Energy Resources',\n",
       " '6.1 Inside Earth',\n",
       " '6.2 Continental Drift',\n",
       " '6.3 Seafloor Spreading',\n",
       " '6.4 Theory of Plate Tectonics',\n",
       " '7.1 Stress in Earths Crust',\n",
       " '7.2 Nature of Earthquakes',\n",
       " '7.3 Measuring and Predicting Earthquakes',\n",
       " '7.4 Staying Safe in Earthquakes',\n",
       " '8.1 Volcanic Activity',\n",
       " '8.2 Volcanic Eruptions',\n",
       " '8.3 Types of Volcanoes',\n",
       " '8.4 Igneous Landforms and Geothermal Activ',\n",
       " '9.1 Weathering',\n",
       " '9.2 Soils']"
      ]
     },
     "execution_count": 1912,
     "metadata": {},
     "output_type": "execute_result"
    }
   ],
   "source": [
    "sorted(parsed_workbooks['es'].keys())"
   ]
  },
  {
   "cell_type": "markdown",
   "metadata": {},
   "source": [
    "# Joining flexbook and workbooks"
   ]
  },
  {
   "cell_type": "code",
   "execution_count": 1778,
   "metadata": {
    "collapsed": true,
    "run_control": {
     "frozen": false,
     "read_only": false
    }
   },
   "outputs": [],
   "source": [
    "# ls_flexbook = deepcopy(parsed_flexbooks['ls'])\n",
    "# ls_workbook = deepcopy(parsed_workbooks['ls'])"
   ]
  },
  {
   "cell_type": "code",
   "execution_count": 1785,
   "metadata": {
    "collapsed": false,
    "scrolled": true
   },
   "outputs": [],
   "source": [
    "pwbk = parsed_workbooks['ps'].keys()"
   ]
  },
  {
   "cell_type": "code",
   "execution_count": 1786,
   "metadata": {
    "collapsed": false,
    "scrolled": true
   },
   "outputs": [],
   "source": [
    "pfbk = parsed_flexbooks['ps'].keys()"
   ]
  },
  {
   "cell_type": "code",
   "execution_count": 1895,
   "metadata": {
    "collapsed": false,
    "scrolled": true
   },
   "outputs": [],
   "source": [
    "# parsed_workbooks['ps']['8.4 Lesson 8.4 Chemical Reactions and En']"
   ]
  },
  {
   "cell_type": "code",
   "execution_count": 1859,
   "metadata": {
    "collapsed": true
   },
   "outputs": [],
   "source": [
    "ps_flexbook = deepcopy(parsed_flexbooks['ps'])\n",
    "ps_workbook = deepcopy(parsed_workbooks['ps'])"
   ]
  },
  {
   "cell_type": "code",
   "execution_count": 1915,
   "metadata": {
    "collapsed": true
   },
   "outputs": [],
   "source": [
    "es_flexbook = deepcopy(parsed_flexbooks['es'])\n",
    "es_workbook = deepcopy(parsed_workbooks['es'])"
   ]
  },
  {
   "cell_type": "code",
   "execution_count": 1916,
   "metadata": {
    "collapsed": false,
    "run_control": {
     "frozen": false,
     "read_only": false
    }
   },
   "outputs": [
    {
     "name": "stdout",
     "output_type": "stream",
     "text": [
      "topic mismatch, attempting to match keys: set(['11.2 Relative Ages of Rocks', '5.2 Nonrenewable Energy Resources', '5.3 Renewable Energy Resources', '22.2 Effects of Air Pollution'])\n",
      "by number\n"
     ]
    }
   ],
   "source": [
    "ds_assembler = ck_ex.CK12DataSetAssembler()\n",
    "# joined_ls_flexbook = ds_assembler.join_content_and_questions(ls_flexbook, ls_workbook)\n",
    "joined_es_flexbook = ds_assembler.join_content_and_questions(es_flexbook, es_workbook)"
   ]
  },
  {
   "cell_type": "code",
   "execution_count": 1401,
   "metadata": {
    "collapsed": true,
    "run_control": {
     "frozen": false,
     "read_only": false
    }
   },
   "outputs": [],
   "source": [
    "with open('life_sciparsed_content.json', 'w') as f:\n",
    "    json.dump(joined_flexbook, f, indent=4, sort_keys=True)"
   ]
  },
  {
   "cell_type": "code",
   "execution_count": 1861,
   "metadata": {
    "collapsed": true
   },
   "outputs": [],
   "source": [
    "with open('phys_sci_parsed_content.json', 'w') as f:\n",
    "    json.dump(joined_ps_flexbook, f, indent=4, sort_keys=True)"
   ]
  },
  {
   "cell_type": "code",
   "execution_count": 1917,
   "metadata": {
    "collapsed": true
   },
   "outputs": [],
   "source": [
    "with open('earth_sci_parsed_content.json', 'w') as f:\n",
    "    json.dump(joined_es_flexbook, f, indent=4, sort_keys=True)"
   ]
  },
  {
   "cell_type": "code",
   "execution_count": 1850,
   "metadata": {
    "collapsed": false,
    "run_control": {
     "frozen": false,
     "read_only": false
    }
   },
   "outputs": [],
   "source": [
    "joined_flexbook = joined_ps_flexbook\n",
    "small_test = {k: v for k,v in joined_flexbook.items()}\n",
    "smt = json.loads(json.dumps(small_test))"
   ]
  },
  {
   "cell_type": "markdown",
   "metadata": {
    "heading_collapsed": true
   },
   "source": [
    "## Dataset verification"
   ]
  },
  {
   "cell_type": "code",
   "execution_count": 1393,
   "metadata": {
    "collapsed": true,
    "hidden": true
   },
   "outputs": [],
   "source": [
    "import jsonschema\n",
    "from pdfextraction import ck12_schema"
   ]
  },
  {
   "cell_type": "code",
   "execution_count": 1891,
   "metadata": {
    "collapsed": false,
    "hidden": true
   },
   "outputs": [
    {
     "name": "stdout",
     "output_type": "stream",
     "text": [
      "'correctAnswer' is a required property\n"
     ]
    }
   ],
   "source": [
    "ds_assembler = ck_ex.CK12DataSetAssembler()\n",
    "ds_assembler.validate_schema(smt)"
   ]
  },
  {
   "cell_type": "markdown",
   "metadata": {
    "hidden": true
   },
   "source": [
    "8th MC question missing an answer"
   ]
  },
  {
   "cell_type": "code",
   "execution_count": 1896,
   "metadata": {
    "collapsed": false,
    "hidden": true,
    "scrolled": true
   },
   "outputs": [
    {
     "data": {
      "text/plain": [
       "{u'answerChoices': {u'a': {u'idStructural': u'a.',\n",
       "   u'processedText': u'208 Po',\n",
       "   u'rawText': u'a. 208 Po'},\n",
       "  u'b': {u'idStructural': u'b.',\n",
       "   u'processedText': u'131 I  130 Xe + 0 e + Energy',\n",
       "   u'rawText': u'b. 131 I  130 Xe + 0 e + Energy'},\n",
       "  u'c': {u'idStructural': u'c.', u'processedText': u'1', u'rawText': u'c. 1'},\n",
       "  u'd': {u'idStructural': u'd.',\n",
       "   u'processedText': u'53',\n",
       "   u'rawText': u'd. 53'}},\n",
       " u'beingAsked': {u'processedText': u'Which of the following nuclear equations is balanced?',\n",
       "  u'rawText': u'8. Which of the following nuclear equations is balanced?'},\n",
       " u'id': u'q15',\n",
       " u'idStructural': u'8. ',\n",
       " u'type': u'Multiple Choice'}"
      ]
     },
     "execution_count": 1896,
     "metadata": {},
     "output_type": "execute_result"
    }
   ],
   "source": [
    "smt['11.2 Radioactive Decay']['questions']['nonDiagramQuestions']['q15']"
   ]
  },
  {
   "cell_type": "code",
   "execution_count": 1897,
   "metadata": {
    "collapsed": false,
    "hidden": true,
    "scrolled": true
   },
   "outputs": [],
   "source": [
    "# validator.validate(smt, ck12_schema.ck12_schema)"
   ]
  },
  {
   "cell_type": "markdown",
   "metadata": {},
   "source": [
    "# modules and quizes"
   ]
  },
  {
   "cell_type": "code",
   "execution_count": 2017,
   "metadata": {
    "collapsed": true
   },
   "outputs": [],
   "source": [
    "with open('../data/parsed_data_json/parsed_quiz_questions_new.json') as f:\n",
    "    parsed_quizes = json.load(f)"
   ]
  },
  {
   "cell_type": "code",
   "execution_count": 2026,
   "metadata": {
    "collapsed": false
   },
   "outputs": [],
   "source": [
    "lessons_path = '/Users/schwenk/wrk/stb/ck12/lessons/'\n",
    "es_dir ='earth-science/'\n",
    "ls_dir ='life-science/'\n",
    "\n",
    "\n",
    "figure_ext_path = '../flexbook_image_extraction/'\n",
    "rasterized_pages_dir = figure_ext_path +  'lesson_pages/' \n",
    "\n",
    "pdf_name = 'Mercury-Pollution-HS-ES.pdf'\n",
    "ck_12_lessons = {\n",
    "    'es': pdf_name\n",
    "}"
   ]
  },
  {
   "cell_type": "code",
   "execution_count": 1982,
   "metadata": {
    "collapsed": true
   },
   "outputs": [],
   "source": [
    "lesson_range = [1, 10]"
   ]
  },
  {
   "cell_type": "code",
   "execution_count": 2028,
   "metadata": {
    "collapsed": true
   },
   "outputs": [],
   "source": [
    "# parsed_lessons = {}\n",
    "# parsed_lessons_es = parsed_lessons\n",
    "parsed_lessons_ls ={}"
   ]
  },
  {
   "cell_type": "code",
   "execution_count": 2030,
   "metadata": {
    "collapsed": false
   },
   "outputs": [
    {
     "name": "stdout",
     "output_type": "stream",
     "text": [
      "Active-Transport-MS-LS\n",
      "Adulthood-and-Aging-MS-LS\n",
      "Alligators-and-Crocodiles-MS-LS\n",
      "Amphibians-MS-LS\n",
      "Angiosperms-MS-LS\n",
      "Animal-Behaviors-MS-LS\n",
      "Animal-Communication-MS-LS\n",
      "Animal-like-Protists-MS-LS\n",
      "Aquatic-Biomes-MS-LS\n",
      "Arachnids-MS-LS\n",
      "Archaea-MS-LS\n",
      "Arthropods-MS-LS\n",
      "Asexual-vs.-Sexual-Reproduction-MS-LS\n",
      "Autoimmune-Diseases-MS-LS\n",
      "B-and-T-Cell-Response-MS-LS\n",
      "Bacteria-Characteristics-MS-LS\n",
      "Bacteria-in-the-Digestive-System-MS-LS\n",
      "Bacteria-Nutrition-MS-LS\n",
      "Bacteria-Reproduction-MS-LS\n",
      "Barriers-to-Pathogens-MS-LS\n",
      "Basic-and-Applied-Science-MS-LS\n",
      "Biotechnology-in-Agriculture-MS-LS\n",
      "Bird-Reproduction-MS-LS\n",
      "Birds-MS-LS\n",
      "Blood-Diseases-MS-LS\n",
      "Blood-Pressure-MS-LS\n",
      "Blood-Types-MS-LS\n",
      "Blood-Vessels-MS-LS\n",
      "Bony-Fish-MS-LS\n",
      "Cancer-MS-LS\n",
      "Carbon-Cycle-Basic\n",
      "Cardiovascular-Diseases-MS-LS\n",
      "Cardiovascular-System-Health-MS-LS\n",
      "Cardiovascular-System-MS-LS\n",
      "Cartilaginous-Fish-MS-LS\n",
      "Cell-Biology-MS-LS\n",
      "Cell-Cycle-MS-LS\n",
      "Cell-Division-MS-LS\n",
      "Cell-Membrane-MS-LS\n",
      "Cell-Nucleus-MS-LS\n",
      "Cell-Transport-MS-LS\n",
      "Cellular-Respiration-MS-LS\n",
      "Centipedes-and-Millipedes-MS-LS\n",
      "Central-Nervous-System-MS-LS\n",
      "Characteristics-of-Life-MS-LS\n",
      "Chemistry-of-Life-MS-LS\n",
      "Choosing-Healthy-Foods-MS-LS\n",
      "Chordates-MS-LS\n",
      "Chromosomal-Disorders-MS-LS\n",
      "Circulation-and-the-Lymphatic-System-MS-LS\n",
      "Cloning-MS-LS\n",
      "Cnidarians-MS-LS\n",
      "Competition-MS-LS\n",
      "Components-of-Blood-MS-LS\n",
      "Connecting-Cellular-Respiration-and-Photosynthesis-MS-LS\n",
      "Consumers-and-Decomposers-MS-LS\n",
      "Control-of-Insects-MS-LS\n",
      "Crustaceans-MS-LS\n",
      "Cyclic-Behavior-of-Animals-MS-LS\n",
      "Diabetes-MS-LS\n",
      "Diffusion-MS-LS\n",
      "Digestive-System-Organs-MS-LS\n",
      "Diseases-of-the-Nervous-System-MS-LS\n",
      "Diversity-of-Birds-MS-LS\n",
      "DNA-Structure-and-Replication-MS-LS\n",
      "DNA-the-Genetic-Material-MS-LS\n",
      "Domains-of-Life-MS-LS\n",
      "Echinoderms-MS-LS\n",
      "Ecosystems-MS-LS\n",
      "Effects-of-Water-Pollution-MS-LS\n",
      "Energy-Pyramids-MS-LS\n",
      "Enzymes-in-the-Digestive-System-MS-LS\n",
      "Evolution-Acts-on-the-Phenotype-MS-LS\n",
      "Excretion-MS-LS\n",
      "Excretory-System-Problems-MS-LS\n",
      "Features-of-Populations-MS-LS\n",
      "Female-Reproductive-Structures-MS-LS\n",
      "Female-Reproductive-System-MS-LS\n",
      "Fermentation-MS-LS\n",
      "Fertilization-MS-LS\n",
      "Fields-in-the-Life-Sciences-MS-LS\n",
      "Fish-MS-LS\n",
      "Flatworms-MS-LS\n",
      "Food-and-Nutrients-MS-LS\n",
      "Food-Chains-and-Food-Webs-Basic\n",
      "Food-Webs-MS-LS\n",
      "Fossils-MS-LS\n",
      "Frogs-and-Toads-MS-LS\n",
      "Fungi-Classification-MS-LS\n",
      "Fungi-MS-LS\n",
      "Fungi-Reproduction-MS-LS\n",
      "Fungi-Structure-MS-LS\n",
      "Fungus-like-Protists-MS-LS\n",
      "Gene-Therapy-MS-LS\n",
      "Genetic-Disorders-MS-LS\n",
      "Gymnosperms-MS-LS\n",
      "Habitat-and-Niche-MS-LS\n",
      "Habitat-Destruction-MS-LS\n",
      "Hardy-Weinberg-Theorem-MS-LS\n",
      "Harmful-Bacteria-MS-LS\n",
      "Health-Hazards-of-Air-Pollution-MS-LS\n",
      "Health-of-the-Digestive-System-MS-LS\n",
      "Hearing-and-Balance-MS-LS\n",
      "Heart-MS-LS\n",
      "Helpful-Bacteria-MS-LS\n",
      "HIV-and-AIDS-MS-LS\n",
      "Homeostasis-MS-LS\n",
      "How-the-Eye-Works-MS-LS\n",
      "Human-Causes-of-Extinction-MS-LS\n",
      "Human-Digestive-System-MS-LS\n",
      "Human-Egg-Cells-MS-LS\n",
      "Human-Genome-Project-MS-LS\n",
      "Human-Population-MS-LS\n",
      "Human-Skeletal-System-MS-LS\n",
      "Human-Sperm-MS-LS\n",
      "Human-Uses-of-Fungi-MS-LS\n",
      "Human-Vision-MS-LS\n",
      "Humans-and-Primates-MS-LS\n",
      "Immunity-MS-LS\n",
      "Importance-of-Arthropods-MS-LS\n",
      "Importance-of-Biodiversity-MS-LS\n",
      "Importance-of-Birds-MS-LS\n",
      "Importance-of-Echinoderms-MS-LS\n",
      "Importance-of-Insects-MS-LS\n",
      "Importance-of-Mammals-MS-LS\n",
      "Importance-of-Mollusks-MS-LS\n",
      "Importance-of-Protists-MS-LS\n",
      "Importance-of-Reptiles-MS-LS\n",
      "Importance-of-Seedless-Plants-MS-LS\n",
      "Indoor-Air-Pollution-MS-LS\n",
      "Infancy-and-Childhood-MS-LS\n",
      "Inflammatory-Response-MS-LS\n",
      "Influences-on-Darwin-MS-LS\n",
      "Injuries-of-the-Nervous-System-MS-LS\n",
      "Innate-Behavior-of-Animals-MS-LS\n",
      "Insect-Food-MS-LS\n",
      "Insect-Reproduction-and-Life-Cycle-MS-LS\n",
      "Insects-MS-LS\n",
      "Introduction-to-Ecology-MS-LS\n",
      "Invertebrates-MS-LS\n",
      "Jawless-Fish-MS-LS\n",
      "Keeping-Bones-and-Joints-Healthy-MS-LS\n",
      "Keeping-Skin-Healthy-MS-LS\n",
      "Keeping-the-Nervous-System-Healthy-MS-LS\n",
      "Kidneys-MS-LS\n",
      "Learned-Behavior-of-Animals-MS-LS\n",
      "Levels-of-Ecological-Organization-MS-LS\n",
      "Light-Reactions-of-Photosynthesis-MS-LS\n",
      "Limiting-Factors-to-Population-Growth-MS-LS\n",
      "Lizards-and-Snakes-MS-LS\n",
      "Lymphatic-System-MS-LS\n",
      "Male-Reproductive-Structures-MS-LS\n",
      "Male-Reproductive-System-MS-LS\n",
      "Mammal-Characteristics-MS-LS\n",
      "Mammal-Classification-MS-LS\n",
      "Mammal-Reproduction-MS-LS\n",
      "Mass-Extinctions-MS-LS\n",
      "Meiosis-MS-LS\n",
      "Mendels-Laws-and-Genetics-MS-LS\n",
      "Mendels-Pea-Plants-MS-LS\n",
      "Menstrual-Cycle-MS-LS\n",
      "Microevolution-and-Macroevolution-MS-LS\n",
      "Microscopes-MS-LS\n",
      "Mitosis-and-Cytokinesis-MS-LS\n",
      "Mitosis-vs.-Meiosis-MS-LS\n",
      "Modern-Genetics-MS-LS\n",
      "Molecular-Evidence-for-Evolution-MS-LS\n",
      "Mollusks-MS-LS\n",
      "Muscles-and-Exercise-MS-LS\n",
      "Muscles-Bones-and-Movement-MS-LS\n",
      "Mutations-MS-LS\n",
      "Nails-and-Hair-MS-LS\n",
      "Natural-Selection-MS-LS\n",
      "Nerve-Cells-and-Nerve-Impulses-MS-LS\n",
      "Nervous-System-MS-LS\n",
      "Non-Infectious-Reproductive-System-Disorders-MS-LS\n",
      "Non-Mendelian-Inheritance-MS-LS\n",
      "Nonrenewable-Resources-MS-LS\n",
      "Nonvascular-Plants-MS-LS\n",
      "Organelles-MS-LS\n",
      "Organic-Compounds-MS-LS\n",
      "Organization-of-Living-Things-MS-LS\n",
      "Organization-of-the-Human-Body-MS-LS\n",
      "Origin-of-Species-MS-LS\n",
      "Origins-of-Life-MS-LS\n",
      "Outdoor-Air-Pollution-MS-LS\n",
      "Passive-Transport-MS-LS\n",
      "Pathogens-MS-LS\n",
      "Pedigree-Analysis-MS-LS\n",
      "Peripheral-Nervous-System-MS-LS\n",
      "Photosynthesis-MS-LS\n",
      "Plant-Cell-Structures-MS-LS\n",
      "Plant-Characteristics-MS-LS\n",
      "Plant-Classification-MS-LS\n",
      "Plant-Hormones-MS-LS\n",
      "Plant-like-Protists-MS-LS\n",
      "Plant-Reproduction-and-Life-Cycle-MS-LS\n",
      "Plants-Adaptations-for-Life-on-Land-MS-LS\n",
      "Polygenic-Traits-MS-LS\n",
      "Population-Growth-Patterns-MS-LS\n",
      "Predation-MS-LS\n",
      "Pregnancy-and-Childbirth-MS-LS\n",
      "Preserving-Water-Sources-MS-LS\n",
      "Preventing-Infectious-Diseases-MS-LS\n",
      "Preventing-Noninfectious-Diseases-MS-LS\n",
      "Primates-MS-LS\n",
      "Process-of-Cellular-Respiration-MS-LS\n",
      "Processes-of-Breathing-MS-LS\n",
      "Producers-MS-LS\n",
      "Prokaryotic-and-Eukaryotic-Cells-MS-LS\n",
      "Protein-Synthesis-and-Gene-Expression-MS-LS\n",
      "Protist-Characteristics-MS-LS\n",
      "Protists-Nutrition-MS-LS\n",
      "Puberty-and-Adolescence-MS-LS\n",
      "Punnett-Squares-MS-LS\n",
      "Recombinant-DNA-MS-LS\n",
      "Reduce-Reuse-and-Recycle-MS-LS\n",
      "Renewable-Resources-and-Alternative-Energy-Sources-MS-LS\n",
      "Reproduction-in-Seedless-Plants-MS-LS\n",
      "Reproductive-Behavior-of-Animals-MS-LS\n",
      "Reproductive-System-Health-MS-LS\n",
      "Reptiles-MS-LS\n",
      "Respiration-MS-LS\n",
      "Respiratory-System-Diseases-MS-LS\n",
      "Respiratory-System-Health-MS-LS\n",
      "Respiratory-System-Organs-MS-LS\n",
      "RNA-MS-LS\n",
      "Role-of-Amphibians-MS-LS\n",
      "Roundworms-MS-LS\n",
      "Safety-in-the-Life-Sciences-MS-LS\n",
      "Salamanders-MS-LS\n",
      "Scientific-Investigation-MS-LS\n",
      "Scientific-Theories-MS-LS\n",
      "Scientific-Ways-of-Thinking-MS-LS\n",
      "Seasonal-Changes-in-Plants-MS-LS\n",
      "Seeds-and-Seed-Dispersal-MS-LS\n",
      "Segmented-Worms-MS-LS\n",
      "Sex-linked-Inheritance-MS-LS\n",
      "Sexually-Transmitted-Infections-MS-LS\n",
      "Skeletal-System-Joints-MS-LS\n",
      "Skin-MS-LS\n",
      "Smooth-Skeletal-and-Cardiac-Muscles-MS-LS\n",
      "Social-Behavior-of-Animals-MS-LS\n",
      "Sources-of-Water-Pollution-MS-LS\n",
      "Sponges-MS-LS\n",
      "Structural-Evidence-for-Evolution-MS-LS\n",
      "Succession-MS-LS\n",
      "Symbiosis-MS-LS\n",
      "Symbiotic-Relationships-of-Fungi-MS-LS\n",
      "Taste-and-Smell-MS-LS\n",
      "Terrestrial-Biomes-MS-LS\n",
      "The-Biosphere-MS-LS\n",
      "The-Carbon-Cycle-MS-LS\n",
      "The-Nitrogen-Cycle-MS-LS\n",
      "The-Water-Cycle-MS-LS\n",
      "Theory-of-Evolution-by-Natural-Selection-MS-LS\n",
      "Timeline-of-Evolution-MS-LS\n",
      "Touch-MS-LS\n",
      "Tracing-Evolution-MS-LS\n",
      "Transcription-of-DNA-to-RNA-MS-LS\n",
      "Translation-of-RNA-to-Protein-MS-LS\n",
      "Tropisms-MS-LS\n",
      "Turtles-MS-LS\n",
      "Types-of-Archaea-MS-LS\n",
      "Types-of-Echinoderms-MS-LS\n",
      "Types-of-Mollusks-MS-LS\n",
      "Types-of-Nutrients-MS-LS\n",
      "Urinary-System-MS-LS\n",
      "Vascular-Seedless-Plants-MS-LS\n",
      "Vertebrate-Characteristics-MS-LS\n",
      "Viruses-MS-LS\n",
      "Vision-Correction-MS-LS\n",
      "Vitamins-and-Minerals-MS-LS\n",
      "What-are-Biomes-MS-LS\n"
     ]
    }
   ],
   "source": [
    "s_dir = ls_dir\n",
    "for pdf_name in os.listdir(lessons_path + s_dir):\n",
    "    lesson_name = pdf_name.replace('.pdf', '')\n",
    "    print lesson_name\n",
    "    pdf_path = lessons_path + s_dir + pdf_name\n",
    "    parser = ck_ex.LessonParser(os.path.join(rasterized_pages_dir, 'single_page_images', subject, ''), os.path.join(figure_dest_dir, subject, ''))\n",
    "    parsed_lessons_ls[lesson_name] = parser.parse_pdf(pdf_path, lesson_range)"
   ]
  },
  {
   "cell_type": "code",
   "execution_count": 2038,
   "metadata": {
    "collapsed": true
   },
   "outputs": [],
   "source": [
    "tl1 = [1,2,3,4]"
   ]
  },
  {
   "cell_type": "code",
   "execution_count": 2050,
   "metadata": {
    "collapsed": true
   },
   "outputs": [],
   "source": [
    "with open('earth_sci_lessons.json', 'w') as f:\n",
    "    json.dump(parsed_lessons, f, indent=4, sort_keys=True)"
   ]
  },
  {
   "cell_type": "code",
   "execution_count": 2052,
   "metadata": {
    "collapsed": false
   },
   "outputs": [],
   "source": [
    "def normalize_keys(parsed_lessons):\n",
    "    normalized_lessons = deepcopy(parsed_lessons)\n",
    "    for k in normalized_lessons.keys():\n",
    "        if k[-1] == 'S':\n",
    "            norm_k = k[:-6]\n",
    "            norm_k = norm_k.replace('-', ' ').lower()\n",
    "            print norm_kdd\n",
    "#         normalized_lessons[k] = normalized_lessons[k].pop()\n",
    "    "
   ]
  },
  {
   "cell_type": "code",
   "execution_count": 2053,
   "metadata": {
    "collapsed": false
   },
   "outputs": [
    {
     "name": "stdout",
     "output_type": "stream",
     "text": [
      "keeping skin healthy\n",
      "fungi classification\n",
      "muscles and exercise\n",
      "helpful bacteria\n",
      "cellular respiration\n",
      "cancer\n",
      "male reproductive structures\n",
      "kidneys\n",
      "evolution acts on the phenotype\n",
      "fermentation\n",
      "mitosis and cytokinesis\n",
      "sex linked inheritance\n",
      "health of the digestive system\n",
      "food and nutrients\n",
      "passive transport\n",
      "fish\n",
      "viruses\n",
      "learned behavior of animals\n",
      "what are biomes\n",
      "nonvascular plants\n",
      "importance of protists\n",
      "nails and hair\n",
      "barriers to pathogens\n",
      "microscopes\n",
      "aquatic biomes\n",
      "gymnosperms\n",
      "blood diseases\n",
      "competition\n",
      "arachnids\n",
      "vascular seedless plants\n",
      "modern genetics\n",
      "diversity of birds\n",
      "frogs and toads\n",
      "fields in the life sciences\n",
      "fungi reproduction\n",
      "centipedes and millipedes\n",
      "outdoor air pollution\n",
      "succession\n",
      "bacteria in the digestive system\n",
      "organic compounds\n",
      "male reproductive system\n",
      "cell biology\n",
      "sources of water pollution\n",
      "fungi structure\n",
      "fungus like protists\n",
      "plant reproduction and life cycle\n",
      "scientific ways of thinking\n",
      "chromosomal disorders\n",
      "safety in the life sciences\n",
      "organization of the human body\n",
      "theory of evolution by natural selection\n",
      "angiosperms\n",
      "punnett squares\n",
      "hearing and balance\n",
      "muscles bones and movement\n",
      "energy pyramids\n",
      "how the eye works\n",
      "bird reproduction\n",
      "choosing healthy foods\n",
      "seeds and seed dispersal\n",
      "human digestive system\n",
      "mammal characteristics\n",
      "respiration\n",
      "scientific theories\n",
      "hiv and aids\n",
      "basic and applied science\n",
      "effects of water pollution\n",
      "natural selection\n",
      "female reproductive system\n",
      "digestive system organs\n",
      "hardy weinberg theorem\n",
      "diseases of the nervous system\n",
      "role of amphibians\n",
      "plant characteristics\n",
      "plant hormones\n",
      "human genome project\n",
      "excretion\n",
      "fungi\n",
      "producers\n",
      "female reproductive structures\n",
      "importance of echinoderms\n",
      "bacteria characteristics\n",
      "cartilaginous fish\n",
      "introduction to ecology\n",
      "autoimmune diseases\n",
      "cardiovascular diseases\n",
      "levels of ecological organization\n",
      "organelles\n",
      "symbiosis\n",
      "blood types\n",
      "innate behavior of animals\n",
      "connecting cellular respiration and photosynthesis\n",
      "characteristics of life\n",
      "scientific investigation\n",
      "central nervous system\n",
      "human vision\n",
      "b and t cell response\n",
      "microevolution and macroevolution\n",
      "human uses of fungi\n",
      "preserving water sources\n",
      "the biosphere\n",
      "puberty and adolescence\n",
      "reproductive behavior of animals\n",
      "importance of arthropods\n",
      "bacteria reproduction\n",
      "vision correction\n",
      "symbiotic relationships of fungi\n",
      "cardiovascular system health\n",
      "mass extinctions\n",
      "keeping the nervous system healthy\n",
      "cardiovascular system\n",
      "origin of species\n",
      "enzymes in the digestive system\n",
      "homeostasis\n",
      "light reactions of photosynthesis\n",
      "importance of birds\n",
      "fertilization\n",
      "influences on darwin\n",
      "dna structure and replication\n",
      "cloning\n",
      "fossils\n",
      "indoor air pollution\n",
      "features of populations\n",
      "processes of breathing\n",
      "mollusks\n",
      "predation\n",
      "touch\n",
      "diabetes\n",
      "pathogens\n",
      "meiosis\n",
      "protists nutrition\n",
      "human causes of extinction\n",
      "adulthood and aging\n",
      "lymphatic system\n",
      "importance of insects\n",
      "respiratory system diseases\n",
      "cnidarians\n",
      "dna the genetic material\n",
      "cell transport\n",
      "archaea\n",
      "domains of life\n",
      "translation of rna to protein\n",
      "habitat destruction\n",
      "types of archaea\n",
      "injuries of the nervous system\n",
      "reduce reuse and recycle\n",
      "plant cell structures\n",
      "keeping bones and joints healthy\n",
      "molecular evidence for evolution\n",
      "food webs\n",
      "reptiles\n",
      "nervous system\n",
      "taste and smell\n",
      "insect reproduction and life cycle\n",
      "insects\n",
      "roundworms\n",
      "mammal classification\n",
      "the carbon cycle\n",
      "mendels pea plants\n",
      "bacteria nutrition\n",
      "limiting factors to population growth\n",
      "human population\n",
      "segmented worms\n",
      "structural evidence for evolution\n",
      "crustaceans\n",
      "population growth patterns\n",
      "menstrual cycle\n",
      "reproduction in seedless plants\n",
      "plant classification\n",
      "tracing evolution\n",
      "heart\n",
      "chemistry of life\n",
      "vitamins and minerals\n",
      "process of cellular respiration\n",
      "mitosis vs. meiosis\n",
      "turtles\n",
      "pedigree analysis\n",
      "inflammatory response\n",
      "cell membrane\n",
      "importance of mammals\n",
      "humans and primates\n",
      "animal behaviors\n",
      "control of insects\n",
      "renewable resources and alternative energy sources\n",
      "mendels laws and genetics\n",
      "genetic disorders\n",
      "diffusion\n",
      "skeletal system joints\n",
      "terrestrial biomes\n",
      "respiratory system organs\n",
      "plant like protists\n",
      "transcription of dna to rna\n",
      "human skeletal system\n",
      "pregnancy and childbirth\n",
      "blood pressure\n",
      "organization of living things\n",
      "alligators and crocodiles\n",
      "social behavior of animals\n",
      "flatworms\n",
      "rna\n",
      "nerve cells and nerve impulses\n",
      "importance of biodiversity\n",
      "insect food\n",
      "cell nucleus\n",
      "health hazards of air pollution\n",
      "jawless fish\n",
      "polygenic traits\n",
      "the water cycle\n",
      "animal communication\n",
      "types of nutrients\n",
      "circulation and the lymphatic system\n",
      "human egg cells\n",
      "skin\n",
      "amphibians\n",
      "harmful bacteria\n",
      "seasonal changes in plants\n",
      "active transport\n",
      "gene therapy\n",
      "importance of mollusks\n",
      "asexual vs. sexual reproduction\n",
      "reproductive system health\n",
      "salamanders\n",
      "tropisms\n",
      "photosynthesis\n",
      "mammal reproduction\n",
      "timeline of evolution\n",
      "animal like protists\n",
      "invertebrates\n",
      "sexually transmitted infections\n",
      "bony fish\n",
      "cell cycle\n",
      "smooth skeletal and cardiac muscles\n",
      "non mendelian inheritance\n",
      "recombinant dna\n",
      "importance of seedless plants\n",
      "echinoderms\n",
      "ecosystems\n",
      "blood vessels\n",
      "vertebrate characteristics\n",
      "mutations\n",
      "respiratory system health\n",
      "biotechnology in agriculture\n",
      "immunity\n",
      "lizards and snakes\n",
      "preventing infectious diseases\n",
      "human sperm\n",
      "cell division\n",
      "importance of reptiles\n",
      "nonrenewable resources\n",
      "types of echinoderms\n",
      "protein synthesis and gene expression\n",
      "origins of life\n",
      "cyclic behavior of animals\n",
      "primates\n",
      "sponges\n",
      "types of mollusks\n",
      "habitat and niche\n",
      "peripheral nervous system\n",
      "protist characteristics\n",
      "components of blood\n",
      "the nitrogen cycle\n",
      "arthropods\n",
      "consumers and decomposers\n",
      "excretory system problems\n",
      "preventing noninfectious diseases\n",
      "non infectious reproductive system disorders\n",
      "birds\n",
      "prokaryotic and eukaryotic cells\n",
      "chordates\n",
      "plants adaptations for life on land\n",
      "infancy and childhood\n",
      "urinary system\n"
     ]
    }
   ],
   "source": [
    "normalize_keys(parsed_lessons_ls)"
   ]
  },
  {
   "cell_type": "code",
   "execution_count": 2047,
   "metadata": {
    "collapsed": false,
    "scrolled": true
   },
   "outputs": [
    {
     "data": {
      "text/plain": [
       "['Active-Transport-MS-LS',\n",
       " 'Adulthood-and-Aging-MS-LS',\n",
       " 'Alligators-and-Crocodiles-MS-LS',\n",
       " 'Amphibians-MS-LS',\n",
       " 'Angiosperms-MS-LS',\n",
       " 'Animal-Behaviors-MS-LS',\n",
       " 'Animal-Communication-MS-LS',\n",
       " 'Animal-like-Protists-MS-LS',\n",
       " 'Aquatic-Biomes-MS-LS',\n",
       " 'Arachnids-MS-LS',\n",
       " 'Archaea-MS-LS',\n",
       " 'Arthropods-MS-LS',\n",
       " 'Asexual-vs.-Sexual-Reproduction-MS-LS',\n",
       " 'Autoimmune-Diseases-MS-LS',\n",
       " 'B-and-T-Cell-Response-MS-LS',\n",
       " 'Bacteria-Characteristics-MS-LS',\n",
       " 'Bacteria-Nutrition-MS-LS',\n",
       " 'Bacteria-Reproduction-MS-LS',\n",
       " 'Bacteria-in-the-Digestive-System-MS-LS',\n",
       " 'Barriers-to-Pathogens-MS-LS',\n",
       " 'Basic-and-Applied-Science-MS-LS',\n",
       " 'Biotechnology-in-Agriculture-MS-LS',\n",
       " 'Bird-Reproduction-MS-LS',\n",
       " 'Birds-MS-LS',\n",
       " 'Blood-Diseases-MS-LS',\n",
       " 'Blood-Pressure-MS-LS',\n",
       " 'Blood-Types-MS-LS',\n",
       " 'Blood-Vessels-MS-LS',\n",
       " 'Bony-Fish-MS-LS',\n",
       " 'Cancer-MS-LS',\n",
       " 'Carbon-Cycle-Basic',\n",
       " 'Cardiovascular-Diseases-MS-LS',\n",
       " 'Cardiovascular-System-Health-MS-LS',\n",
       " 'Cardiovascular-System-MS-LS',\n",
       " 'Cartilaginous-Fish-MS-LS',\n",
       " 'Cell-Biology-MS-LS',\n",
       " 'Cell-Cycle-MS-LS',\n",
       " 'Cell-Division-MS-LS',\n",
       " 'Cell-Membrane-MS-LS',\n",
       " 'Cell-Nucleus-MS-LS',\n",
       " 'Cell-Transport-MS-LS',\n",
       " 'Cellular-Respiration-MS-LS',\n",
       " 'Centipedes-and-Millipedes-MS-LS',\n",
       " 'Central-Nervous-System-MS-LS',\n",
       " 'Characteristics-of-Life-MS-LS',\n",
       " 'Chemistry-of-Life-MS-LS',\n",
       " 'Choosing-Healthy-Foods-MS-LS',\n",
       " 'Chordates-MS-LS',\n",
       " 'Chromosomal-Disorders-MS-LS',\n",
       " 'Circulation-and-the-Lymphatic-System-MS-LS',\n",
       " 'Cloning-MS-LS',\n",
       " 'Cnidarians-MS-LS',\n",
       " 'Competition-MS-LS',\n",
       " 'Components-of-Blood-MS-LS',\n",
       " 'Connecting-Cellular-Respiration-and-Photosynthesis-MS-LS',\n",
       " 'Consumers-and-Decomposers-MS-LS',\n",
       " 'Control-of-Insects-MS-LS',\n",
       " 'Crustaceans-MS-LS',\n",
       " 'Cyclic-Behavior-of-Animals-MS-LS',\n",
       " 'DNA-Structure-and-Replication-MS-LS',\n",
       " 'DNA-the-Genetic-Material-MS-LS',\n",
       " 'Diabetes-MS-LS',\n",
       " 'Diffusion-MS-LS',\n",
       " 'Digestive-System-Organs-MS-LS',\n",
       " 'Diseases-of-the-Nervous-System-MS-LS',\n",
       " 'Diversity-of-Birds-MS-LS',\n",
       " 'Domains-of-Life-MS-LS',\n",
       " 'Echinoderms-MS-LS',\n",
       " 'Ecosystems-MS-LS',\n",
       " 'Effects-of-Water-Pollution-MS-LS',\n",
       " 'Energy-Pyramids-MS-LS',\n",
       " 'Enzymes-in-the-Digestive-System-MS-LS',\n",
       " 'Evolution-Acts-on-the-Phenotype-MS-LS',\n",
       " 'Excretion-MS-LS',\n",
       " 'Excretory-System-Problems-MS-LS',\n",
       " 'Features-of-Populations-MS-LS',\n",
       " 'Female-Reproductive-Structures-MS-LS',\n",
       " 'Female-Reproductive-System-MS-LS',\n",
       " 'Fermentation-MS-LS',\n",
       " 'Fertilization-MS-LS',\n",
       " 'Fields-in-the-Life-Sciences-MS-LS',\n",
       " 'Fish-MS-LS',\n",
       " 'Flatworms-MS-LS',\n",
       " 'Food-Chains-and-Food-Webs-Basic',\n",
       " 'Food-Webs-MS-LS',\n",
       " 'Food-and-Nutrients-MS-LS',\n",
       " 'Fossils-MS-LS',\n",
       " 'Frogs-and-Toads-MS-LS',\n",
       " 'Fungi-Classification-MS-LS',\n",
       " 'Fungi-MS-LS',\n",
       " 'Fungi-Reproduction-MS-LS',\n",
       " 'Fungi-Structure-MS-LS',\n",
       " 'Fungus-like-Protists-MS-LS',\n",
       " 'Gene-Therapy-MS-LS',\n",
       " 'Genetic-Disorders-MS-LS',\n",
       " 'Gymnosperms-MS-LS',\n",
       " 'HIV-and-AIDS-MS-LS',\n",
       " 'Habitat-Destruction-MS-LS',\n",
       " 'Habitat-and-Niche-MS-LS',\n",
       " 'Hardy-Weinberg-Theorem-MS-LS',\n",
       " 'Harmful-Bacteria-MS-LS',\n",
       " 'Health-Hazards-of-Air-Pollution-MS-LS',\n",
       " 'Health-of-the-Digestive-System-MS-LS',\n",
       " 'Hearing-and-Balance-MS-LS',\n",
       " 'Heart-MS-LS',\n",
       " 'Helpful-Bacteria-MS-LS',\n",
       " 'Homeostasis-MS-LS',\n",
       " 'How-the-Eye-Works-MS-LS',\n",
       " 'Human-Causes-of-Extinction-MS-LS',\n",
       " 'Human-Digestive-System-MS-LS',\n",
       " 'Human-Egg-Cells-MS-LS',\n",
       " 'Human-Genome-Project-MS-LS',\n",
       " 'Human-Population-MS-LS',\n",
       " 'Human-Skeletal-System-MS-LS',\n",
       " 'Human-Sperm-MS-LS',\n",
       " 'Human-Uses-of-Fungi-MS-LS',\n",
       " 'Human-Vision-MS-LS',\n",
       " 'Humans-and-Primates-MS-LS',\n",
       " 'Immunity-MS-LS',\n",
       " 'Importance-of-Arthropods-MS-LS',\n",
       " 'Importance-of-Biodiversity-MS-LS',\n",
       " 'Importance-of-Birds-MS-LS',\n",
       " 'Importance-of-Echinoderms-MS-LS',\n",
       " 'Importance-of-Insects-MS-LS',\n",
       " 'Importance-of-Mammals-MS-LS',\n",
       " 'Importance-of-Mollusks-MS-LS',\n",
       " 'Importance-of-Protists-MS-LS',\n",
       " 'Importance-of-Reptiles-MS-LS',\n",
       " 'Importance-of-Seedless-Plants-MS-LS',\n",
       " 'Indoor-Air-Pollution-MS-LS',\n",
       " 'Infancy-and-Childhood-MS-LS',\n",
       " 'Inflammatory-Response-MS-LS',\n",
       " 'Influences-on-Darwin-MS-LS',\n",
       " 'Injuries-of-the-Nervous-System-MS-LS',\n",
       " 'Innate-Behavior-of-Animals-MS-LS',\n",
       " 'Insect-Food-MS-LS',\n",
       " 'Insect-Reproduction-and-Life-Cycle-MS-LS',\n",
       " 'Insects-MS-LS',\n",
       " 'Introduction-to-Ecology-MS-LS',\n",
       " 'Invertebrates-MS-LS',\n",
       " 'Jawless-Fish-MS-LS',\n",
       " 'Keeping-Bones-and-Joints-Healthy-MS-LS',\n",
       " 'Keeping-Skin-Healthy-MS-LS',\n",
       " 'Keeping-the-Nervous-System-Healthy-MS-LS',\n",
       " 'Kidneys-MS-LS',\n",
       " 'Learned-Behavior-of-Animals-MS-LS',\n",
       " 'Levels-of-Ecological-Organization-MS-LS',\n",
       " 'Light-Reactions-of-Photosynthesis-MS-LS',\n",
       " 'Limiting-Factors-to-Population-Growth-MS-LS',\n",
       " 'Lizards-and-Snakes-MS-LS',\n",
       " 'Lymphatic-System-MS-LS',\n",
       " 'Male-Reproductive-Structures-MS-LS',\n",
       " 'Male-Reproductive-System-MS-LS',\n",
       " 'Mammal-Characteristics-MS-LS',\n",
       " 'Mammal-Classification-MS-LS',\n",
       " 'Mammal-Reproduction-MS-LS',\n",
       " 'Mass-Extinctions-MS-LS',\n",
       " 'Meiosis-MS-LS',\n",
       " 'Mendels-Laws-and-Genetics-MS-LS',\n",
       " 'Mendels-Pea-Plants-MS-LS',\n",
       " 'Menstrual-Cycle-MS-LS',\n",
       " 'Microevolution-and-Macroevolution-MS-LS',\n",
       " 'Microscopes-MS-LS',\n",
       " 'Mitosis-and-Cytokinesis-MS-LS',\n",
       " 'Mitosis-vs.-Meiosis-MS-LS',\n",
       " 'Modern-Genetics-MS-LS',\n",
       " 'Molecular-Evidence-for-Evolution-MS-LS',\n",
       " 'Mollusks-MS-LS',\n",
       " 'Muscles-Bones-and-Movement-MS-LS',\n",
       " 'Muscles-and-Exercise-MS-LS',\n",
       " 'Mutations-MS-LS',\n",
       " 'Nails-and-Hair-MS-LS',\n",
       " 'Natural-Selection-MS-LS',\n",
       " 'Nerve-Cells-and-Nerve-Impulses-MS-LS',\n",
       " 'Nervous-System-MS-LS',\n",
       " 'Non-Infectious-Reproductive-System-Disorders-MS-LS',\n",
       " 'Non-Mendelian-Inheritance-MS-LS',\n",
       " 'Nonrenewable-Resources-MS-LS',\n",
       " 'Nonvascular-Plants-MS-LS',\n",
       " 'Organelles-MS-LS',\n",
       " 'Organic-Compounds-MS-LS',\n",
       " 'Organization-of-Living-Things-MS-LS',\n",
       " 'Organization-of-the-Human-Body-MS-LS',\n",
       " 'Origin-of-Species-MS-LS',\n",
       " 'Origins-of-Life-MS-LS',\n",
       " 'Outdoor-Air-Pollution-MS-LS',\n",
       " 'Passive-Transport-MS-LS',\n",
       " 'Pathogens-MS-LS',\n",
       " 'Pedigree-Analysis-MS-LS',\n",
       " 'Peripheral-Nervous-System-MS-LS',\n",
       " 'Photosynthesis-MS-LS',\n",
       " 'Plant-Cell-Structures-MS-LS',\n",
       " 'Plant-Characteristics-MS-LS',\n",
       " 'Plant-Classification-MS-LS',\n",
       " 'Plant-Hormones-MS-LS',\n",
       " 'Plant-Reproduction-and-Life-Cycle-MS-LS',\n",
       " 'Plant-like-Protists-MS-LS',\n",
       " 'Plants-Adaptations-for-Life-on-Land-MS-LS',\n",
       " 'Polygenic-Traits-MS-LS',\n",
       " 'Population-Growth-Patterns-MS-LS',\n",
       " 'Predation-MS-LS',\n",
       " 'Pregnancy-and-Childbirth-MS-LS',\n",
       " 'Preserving-Water-Sources-MS-LS',\n",
       " 'Preventing-Infectious-Diseases-MS-LS',\n",
       " 'Preventing-Noninfectious-Diseases-MS-LS',\n",
       " 'Primates-MS-LS',\n",
       " 'Process-of-Cellular-Respiration-MS-LS',\n",
       " 'Processes-of-Breathing-MS-LS',\n",
       " 'Producers-MS-LS',\n",
       " 'Prokaryotic-and-Eukaryotic-Cells-MS-LS',\n",
       " 'Protein-Synthesis-and-Gene-Expression-MS-LS',\n",
       " 'Protist-Characteristics-MS-LS',\n",
       " 'Protists-Nutrition-MS-LS',\n",
       " 'Puberty-and-Adolescence-MS-LS',\n",
       " 'Punnett-Squares-MS-LS',\n",
       " 'RNA-MS-LS',\n",
       " 'Recombinant-DNA-MS-LS',\n",
       " 'Reduce-Reuse-and-Recycle-MS-LS',\n",
       " 'Renewable-Resources-and-Alternative-Energy-Sources-MS-LS',\n",
       " 'Reproduction-in-Seedless-Plants-MS-LS',\n",
       " 'Reproductive-Behavior-of-Animals-MS-LS',\n",
       " 'Reproductive-System-Health-MS-LS',\n",
       " 'Reptiles-MS-LS',\n",
       " 'Respiration-MS-LS',\n",
       " 'Respiratory-System-Diseases-MS-LS',\n",
       " 'Respiratory-System-Health-MS-LS',\n",
       " 'Respiratory-System-Organs-MS-LS',\n",
       " 'Role-of-Amphibians-MS-LS',\n",
       " 'Roundworms-MS-LS',\n",
       " 'Safety-in-the-Life-Sciences-MS-LS',\n",
       " 'Salamanders-MS-LS',\n",
       " 'Scientific-Investigation-MS-LS',\n",
       " 'Scientific-Theories-MS-LS',\n",
       " 'Scientific-Ways-of-Thinking-MS-LS',\n",
       " 'Seasonal-Changes-in-Plants-MS-LS',\n",
       " 'Seeds-and-Seed-Dispersal-MS-LS',\n",
       " 'Segmented-Worms-MS-LS',\n",
       " 'Sex-linked-Inheritance-MS-LS',\n",
       " 'Sexually-Transmitted-Infections-MS-LS',\n",
       " 'Skeletal-System-Joints-MS-LS',\n",
       " 'Skin-MS-LS',\n",
       " 'Smooth-Skeletal-and-Cardiac-Muscles-MS-LS',\n",
       " 'Social-Behavior-of-Animals-MS-LS',\n",
       " 'Sources-of-Water-Pollution-MS-LS',\n",
       " 'Sponges-MS-LS',\n",
       " 'Structural-Evidence-for-Evolution-MS-LS',\n",
       " 'Succession-MS-LS',\n",
       " 'Symbiosis-MS-LS',\n",
       " 'Symbiotic-Relationships-of-Fungi-MS-LS',\n",
       " 'Taste-and-Smell-MS-LS',\n",
       " 'Terrestrial-Biomes-MS-LS',\n",
       " 'The-Biosphere-MS-LS',\n",
       " 'The-Carbon-Cycle-MS-LS',\n",
       " 'The-Nitrogen-Cycle-MS-LS',\n",
       " 'The-Water-Cycle-MS-LS',\n",
       " 'Theory-of-Evolution-by-Natural-Selection-MS-LS',\n",
       " 'Timeline-of-Evolution-MS-LS',\n",
       " 'Touch-MS-LS',\n",
       " 'Tracing-Evolution-MS-LS',\n",
       " 'Transcription-of-DNA-to-RNA-MS-LS',\n",
       " 'Translation-of-RNA-to-Protein-MS-LS',\n",
       " 'Tropisms-MS-LS',\n",
       " 'Turtles-MS-LS',\n",
       " 'Types-of-Archaea-MS-LS',\n",
       " 'Types-of-Echinoderms-MS-LS',\n",
       " 'Types-of-Mollusks-MS-LS',\n",
       " 'Types-of-Nutrients-MS-LS',\n",
       " 'Urinary-System-MS-LS',\n",
       " 'Vascular-Seedless-Plants-MS-LS',\n",
       " 'Vertebrate-Characteristics-MS-LS',\n",
       " 'Viruses-MS-LS',\n",
       " 'Vision-Correction-MS-LS',\n",
       " 'Vitamins-and-Minerals-MS-LS',\n",
       " 'What-are-Biomes-MS-LS']"
      ]
     },
     "execution_count": 2047,
     "metadata": {},
     "output_type": "execute_result"
    }
   ],
   "source": [
    "sorted(parsed_lessons_ls.keys())"
   ]
  },
  {
   "cell_type": "code",
   "execution_count": 2036,
   "metadata": {
    "collapsed": false
   },
   "outputs": [
    {
     "data": {
      "text/plain": [
       "[u'active transport',\n",
       " u'adulthood and aging',\n",
       " u'alligators and crocodiles',\n",
       " u'amphibians',\n",
       " u'angiosperms',\n",
       " u'animal behaviors',\n",
       " u'animal communication',\n",
       " u'animallike protists',\n",
       " u'aquatic biomes',\n",
       " u'arachnids',\n",
       " u'archaea',\n",
       " u'arthropods',\n",
       " u'asexual vs. sexual reproduction',\n",
       " u'autoimmune diseases',\n",
       " u'b and t cell response',\n",
       " u'bacteria characteristics',\n",
       " u'bacteria in the digestive system',\n",
       " u'bacteria nutrition',\n",
       " u'bacteria reproduction',\n",
       " u'barriers to pathogens',\n",
       " u'basic and applied science',\n",
       " u'biotechnology in agriculture',\n",
       " u'bird reproduction',\n",
       " u'birds',\n",
       " u'blood diseases',\n",
       " u'blood pressure',\n",
       " u'blood types',\n",
       " u'blood vessels',\n",
       " u'bony fish',\n",
       " u'cancer',\n",
       " u'cardiovascular diseases',\n",
       " u'cardiovascular system',\n",
       " u'cardiovascular system health',\n",
       " u'cartilaginous fish',\n",
       " u'cell biology',\n",
       " u'cell cycle',\n",
       " u'cell division',\n",
       " u'cell membrane',\n",
       " u'cell nucleus',\n",
       " u'cell transport',\n",
       " u'cellular respiration',\n",
       " u'centipedes and millipedes',\n",
       " u'central nervous system',\n",
       " u'characteristics of life',\n",
       " u'chemistry of life',\n",
       " u'choosing healthy foods',\n",
       " u'chordates',\n",
       " u'chromosomal disorders',\n",
       " u'circulation and the lymphatic system',\n",
       " u'cloning',\n",
       " u'cnidarians',\n",
       " u'competition',\n",
       " u'components of blood',\n",
       " u'connecting cellular respiration and photosynthesis',\n",
       " u'consumers and decomposers',\n",
       " u'control of insects',\n",
       " u'crustaceans',\n",
       " u'cyclic behavior of animals',\n",
       " u'diabetes',\n",
       " u'diffusion',\n",
       " u'digestive system organs',\n",
       " u'diseases of the nervous system',\n",
       " u'diversity of birds',\n",
       " u'dna structure and replication',\n",
       " u'dna, the genetic material',\n",
       " u'domains of life',\n",
       " u'echinoderms',\n",
       " u'ecosystems',\n",
       " u'effects of water pollution',\n",
       " u'energy pyramids',\n",
       " u'enzymes in the digestive system',\n",
       " u'evolution acts on the phenotype',\n",
       " u'excretion',\n",
       " u'excretory system problems',\n",
       " u'features of populations',\n",
       " u'female reproductive structures',\n",
       " u'female reproductive system',\n",
       " u'fermentation',\n",
       " u'fertilization',\n",
       " u'fields in the life sciences',\n",
       " u'fish',\n",
       " u'flatworms',\n",
       " u'food and nutrients',\n",
       " u'food webs',\n",
       " u'fossils',\n",
       " u'frogs and toads',\n",
       " u'fungi',\n",
       " u'fungi classification',\n",
       " u'fungi reproduction',\n",
       " u'fungi structure',\n",
       " u'funguslike protists',\n",
       " u'gene therapy',\n",
       " u'genetic disorders',\n",
       " u'gymnosperms',\n",
       " u'habitat and niche',\n",
       " u'habitat destruction',\n",
       " u'hardyweinberg theorem',\n",
       " u'harmful bacteria',\n",
       " u'health hazards of air pollution',\n",
       " u'health of the digestive system',\n",
       " u'hearing and balance',\n",
       " u'heart',\n",
       " u'helpful bacteria',\n",
       " u'hiv and aids',\n",
       " u'homeostasis',\n",
       " u'how the eye works',\n",
       " u'human causes of extinction',\n",
       " u'human digestive system',\n",
       " u'human egg cells',\n",
       " u'human genome project',\n",
       " u'human population',\n",
       " u'human skeletal system',\n",
       " u'human sperm',\n",
       " u'human uses of fungi',\n",
       " u'human vision',\n",
       " u'humans and primates',\n",
       " u'immunity',\n",
       " u'importance of arthropods',\n",
       " u'importance of biodiversity',\n",
       " u'importance of birds',\n",
       " u'importance of echinoderms',\n",
       " u'importance of insects',\n",
       " u'importance of mammals',\n",
       " u'importance of mollusks',\n",
       " u'importance of protists',\n",
       " u'importance of reptiles',\n",
       " u'importance of seedless plants',\n",
       " u'indoor air pollution',\n",
       " u'infancy and childhood',\n",
       " u'inflammatory response',\n",
       " u'influences on darwin',\n",
       " u'injuries of the nervous system',\n",
       " u'innate behavior of animals',\n",
       " u'insect food',\n",
       " u'insect reproduction and life cycle',\n",
       " u'insects',\n",
       " u'introduction to ecology',\n",
       " u'invertebrates',\n",
       " u'jawless fish',\n",
       " u'keeping bones and joints healthy',\n",
       " u'keeping skin healthy',\n",
       " u'keeping the nervous system healthy',\n",
       " u'kidneys',\n",
       " u'learned behavior of animals',\n",
       " u'levels of ecological organization',\n",
       " u'light reactions of photosynthesis',\n",
       " u'limiting factors to population growth',\n",
       " u'lizards and snakes',\n",
       " u'lymphatic system',\n",
       " u'male reproductive structures',\n",
       " u'male reproductive system',\n",
       " u'mammal characteristics',\n",
       " u'mammal classification',\n",
       " u'mammal reproduction',\n",
       " u'mass extinctions',\n",
       " u'meiosis',\n",
       " u'mendels laws and genetics',\n",
       " u'mendels pea plants',\n",
       " u'menstrual cycle',\n",
       " u'microevolution and macroevolution',\n",
       " u'microscopes',\n",
       " u'mitosis and cytokinesis',\n",
       " u'mitosis vs. meiosis',\n",
       " u'modern genetics',\n",
       " u'molecular evidence for evolution',\n",
       " u'mollusks',\n",
       " u'muscles and exercise',\n",
       " u'muscles, bones, and movement',\n",
       " u'mutations',\n",
       " u'nails and hair',\n",
       " u'natural selection',\n",
       " u'nerve cells and nerve impulses',\n",
       " u'nervous system',\n",
       " u'noninfectious reproductive system disorders',\n",
       " u'nonmendelian inheritance',\n",
       " u'nonrenewable resources',\n",
       " u'nonvascular plants',\n",
       " u'organelles',\n",
       " u'organic compounds',\n",
       " u'organization of living things',\n",
       " u'organization of the human body',\n",
       " u'origin of species',\n",
       " u'origins of life',\n",
       " u'outdoor air pollution',\n",
       " u'passive transport',\n",
       " u'pathogens',\n",
       " u'pedigree analysis',\n",
       " u'peripheral nervous system',\n",
       " u'photosynthesis',\n",
       " u'plant cell structures',\n",
       " u'plant characteristics',\n",
       " u'plant classification',\n",
       " u'plant hormones',\n",
       " u'plant reproduction and life cycle',\n",
       " u'plantlike protists',\n",
       " u'plants adaptations for life on land',\n",
       " u'polygenic traits',\n",
       " u'population growth patterns',\n",
       " u'predation',\n",
       " u'pregnancy and childbirth',\n",
       " u'preserving water sources',\n",
       " u'preventing infectious diseases',\n",
       " u'preventing noninfectious diseases',\n",
       " u'primates',\n",
       " u'process of cellular respiration',\n",
       " u'processes of breathing',\n",
       " u'producers',\n",
       " u'prokaryotic and eukaryotic cells',\n",
       " u'protein synthesis and gene expression',\n",
       " u'protist characteristics',\n",
       " u'protists nutrition',\n",
       " u'puberty and adolescence',\n",
       " u'punnett squares',\n",
       " u'recombinant dna',\n",
       " u'reduce, reuse, and recycle',\n",
       " u'renewable resources and alternative energysources',\n",
       " u'reproduction in seedless plants',\n",
       " u'reproductive behavior of animals',\n",
       " u'reproductive system health',\n",
       " u'reptiles',\n",
       " u'respiration',\n",
       " u'respiratory system diseases',\n",
       " u'respiratory system health',\n",
       " u'respiratory system organs',\n",
       " u'role of amphibians',\n",
       " u'roundworms',\n",
       " u'safety in the life sciences',\n",
       " u'salamanders',\n",
       " u'scientific investigation',\n",
       " u'scientific theories',\n",
       " u'scientific ways of thinking',\n",
       " u'seasonal changes in plants',\n",
       " u'seeds and seed dispersal',\n",
       " u'segmented worms',\n",
       " u'sexlinked inheritance',\n",
       " u'sexually transmitted infections',\n",
       " u'skeletal system joints',\n",
       " u'skin',\n",
       " u'smooth, skeletal, and cardiac muscles',\n",
       " u'social behavior of animals',\n",
       " u'sources of water pollution',\n",
       " u'sponges',\n",
       " u'structural evidence for evolution',\n",
       " u'succession',\n",
       " u'symbiosis',\n",
       " u'symbiotic relationships of fungi',\n",
       " u'taste and smell',\n",
       " u'terrestrial biomes',\n",
       " u'the biosphere',\n",
       " u'the carbon cycle',\n",
       " u'the nitrogen cycle',\n",
       " u'the water cycle',\n",
       " u'three rnas',\n",
       " u'timeline of evolution',\n",
       " u'touch',\n",
       " u'tracing evolution',\n",
       " u'transcription of dna to rna',\n",
       " u'translation of rna to protein',\n",
       " u'tropisms',\n",
       " u'turtles',\n",
       " u'types of archaea',\n",
       " u'types of echinoderms',\n",
       " u'types of mollusks',\n",
       " u'types of nutrients',\n",
       " u'urinary system',\n",
       " u'vascular seedless plants',\n",
       " u'vertebrate characteristics',\n",
       " u'viruses',\n",
       " u'vision correction',\n",
       " u'vitamins and minerals',\n",
       " u'what are biomes?']"
      ]
     },
     "execution_count": 2036,
     "metadata": {},
     "output_type": "execute_result"
    }
   ],
   "source": [
    "sorted(parsed_quizes.keys())"
   ]
  },
  {
   "cell_type": "code",
   "execution_count": null,
   "metadata": {
    "collapsed": true
   },
   "outputs": [],
   "source": []
  },
  {
   "cell_type": "code",
   "execution_count": null,
   "metadata": {
    "collapsed": true
   },
   "outputs": [],
   "source": []
  },
  {
   "cell_type": "markdown",
   "metadata": {
    "heading_collapsed": true
   },
   "source": [
    "# Lower grade levels"
   ]
  },
  {
   "cell_type": "code",
   "execution_count": 62,
   "metadata": {
    "collapsed": true,
    "hidden": true,
    "run_control": {
     "frozen": false,
     "read_only": false
    }
   },
   "outputs": [],
   "source": [
    "textbook_path = '../data/lower_grade_flexbooks/'\n",
    "rasterized_pages_dir = textbook_path + 'single_page_images/'\n",
    "lower_grade_books = {\n",
    "    '5th': 'CK-12-Fifth-Grade-Science_b_v8_cpx_s1.pdf',\n",
    "#     '1st': 'CK-12-First-Grade-Science_b_v13_khz_s1.pdf',\n",
    "    '4th': 'CK-12-Fourth-Grade-Science_b_v4_jyz_s1.pdf',\n",
    "#     '2nd': 'CK-12-Second-Grade-Science_b_v9_zpx_s1.pdf',\n",
    "    '3rd': 'CK-12-Third-Grade-Science_b_v31_kov_s1.pdf'\n",
    "}"
   ]
  },
  {
   "cell_type": "code",
   "execution_count": 63,
   "metadata": {
    "collapsed": false,
    "hidden": true,
    "run_control": {
     "frozen": false,
     "read_only": false
    },
    "scrolled": true
   },
   "outputs": [],
   "source": [
    "parsed_lower_grades = {}\n",
    "for grade, flexbook_to_parse in lower_grade_books.items():\n",
    "    pdf_path = textbook_path + flexbook_to_parse\n",
    "    gs_parser = ck_ex.GradeSchoolFlexbookParser(os.path.join(rasterized_pages_dir, 'single_page_images', grade, ''), 'extracted_figs/')\n",
    "    parsed_lower_grades[grade] = gs_parser.parse_pdf(pdf_path, [4,200])"
   ]
  },
  {
   "cell_type": "code",
   "execution_count": 1834,
   "metadata": {
    "collapsed": false,
    "hidden": true
   },
   "outputs": [
    {
     "data": {
      "text/plain": [
       "['1.5 Static Electricity',\n",
       " '2.2 World Climates',\n",
       " '3.2 Insect Reproduction and Life Cycles',\n",
       " '1.2 Friction',\n",
       " '2.3 Fossils of Plants and Animals',\n",
       " '3.1 Adaptation and Natural Selection',\n",
       " '1.1 Forces',\n",
       " '1.4 Magnets',\n",
       " '3.4 Plant Reproduction and Life Cycles',\n",
       " '3.3 Plant Adaptations to Environmental',\n",
       " '1.3 Gravity',\n",
       " '3.5 Animal Characteristics and Classification',\n",
       " '2.1 Weather Forecasting']"
      ]
     },
     "execution_count": 1834,
     "metadata": {},
     "output_type": "execute_result"
    }
   ],
   "source": [
    "parsed_lower_grades['3rd'].keys()"
   ]
  },
  {
   "cell_type": "code",
   "execution_count": 1885,
   "metadata": {
    "collapsed": false,
    "hidden": true,
    "run_control": {
     "frozen": false,
     "read_only": false
    }
   },
   "outputs": [],
   "source": [
    "parsed_lower_grades_cleaned = {}\n",
    "for grade, flexbook_to_parse in parsed_lower_grades.items():\n",
    "    single_grade_content = deepcopy(flexbook_to_parse)\n",
    "\n",
    "    local_path = 'extracted_figs/'\n",
    "    s3_uri = 'https://s3.amazonaws.com/ai2-vision-textbook-dataset/ck12/flexbooks/extracted-figures/'\n",
    "    for lesson, subcontent in single_grade_content.items():\n",
    "        for concept, content in subcontent.items():\n",
    "            if content['text']:\n",
    "                content['text'] = content['text'][0]\n",
    "            for fig in content['figures']:\n",
    "                fig['image_uri'] = fig['file_name'].replace(local_path, s3_uri)\n",
    "                del fig['rectangle']\n",
    "                del fig['file_name']\n",
    "    parsed_lower_grades_cleaned[grade] = single_grade_content"
   ]
  },
  {
   "cell_type": "code",
   "execution_count": 1886,
   "metadata": {
    "collapsed": false,
    "hidden": true,
    "run_control": {
     "frozen": false,
     "read_only": false
    }
   },
   "outputs": [
    {
     "data": {
      "text/plain": [
       "['3.5 Animal Characteristics and Classification',\n",
       " '2.2 World Climates',\n",
       " '3.1 Adaptation and Natural Selection',\n",
       " '2.3 Fossils of Plants and Animals',\n",
       " '1.2 Friction',\n",
       " '1.1 Forces',\n",
       " '1.5 Static Electricity',\n",
       " '3.4 Plant Reproduction and Life Cycles',\n",
       " '3.3 Plant Adaptations to Environmental',\n",
       " '2.1 Weather Forecasting',\n",
       " '1.3 Gravity',\n",
       " '3.2 Insect Reproduction and Life Cycles',\n",
       " '1.4 Magnets']"
      ]
     },
     "execution_count": 1886,
     "metadata": {},
     "output_type": "execute_result"
    }
   ],
   "source": [
    "parsed_lower_grades_cleaned['3rd'].keys()"
   ]
  },
  {
   "cell_type": "code",
   "execution_count": 1867,
   "metadata": {
    "collapsed": false,
    "hidden": true,
    "run_control": {
     "frozen": false,
     "read_only": false
    },
    "scrolled": false
   },
   "outputs": [],
   "source": [
    "toc = {}\n",
    "chapter_titles = defaultdict(list)\n",
    "for single_grade, val in parsed_lower_grades.items():\n",
    "    toc[single_grade] = sorted(val.keys())\n",
    "#     print\n",
    "#     for chapter in sorted(val.keys()):\n",
    "#         chapter_titles[single_grade].append(chapter)"
   ]
  },
  {
   "cell_type": "code",
   "execution_count": 1828,
   "metadata": {
    "collapsed": false,
    "hidden": true
   },
   "outputs": [
    {
     "data": {
      "text/plain": [
       "defaultdict(list,\n",
       "            {'3rd': ['1.1 Atoms',\n",
       "              '1.1 Forces',\n",
       "              '1.1 Types of Energy',\n",
       "              '1.10 Electric Current',\n",
       "              '1.10 Magnets and Magnetism',\n",
       "              '1.11 Earth as a Magnet',\n",
       "              '1.11 Electric Circuits',\n",
       "              '1.12 Speed',\n",
       "              '1.2 Characteristics of Sound',\n",
       "              '1.2 Friction',\n",
       "              '1.2 Types of Matter',\n",
       "              '1.3 Forms and Changes of Energy',\n",
       "              '1.3 Gravity',\n",
       "              '1.3 Matter, Mass, and Volume',\n",
       "              '1.4 Magnets',\n",
       "              '1.4 Solid, Liquid and Gases',\n",
       "              '1.4 Transfer of Thermal Energy',\n",
       "              '1.5 Energy Resources',\n",
       "              '1.5 Physical Properties of Matter',\n",
       "              '1.5 Static Electricity',\n",
       "              '1.6 Chemical Properties of Matter',\n",
       "              '1.6 Moving Air and Water as Energy Sources',\n",
       "              '1.7 Physical and Chemical Changes in Matter',\n",
       "              '1.7 Reflection of Light',\n",
       "              '1.8 Rate of Dissolving',\n",
       "              '1.8 Refraction of Light',\n",
       "              '1.9 Separating Mixtures',\n",
       "              '1.9 Static Electric Charge',\n",
       "              '2.1 Introduction to Earths Surface',\n",
       "              '2.1 Water on Earth',\n",
       "              '2.1 Weather Forecasting',\n",
       "              '2.10 Erosion and Deposition by Flowing Water',\n",
       "              '2.10 Gravity',\n",
       "              '2.11 Ocean Movements and Waves',\n",
       "              '2.11 Stars (Gr 4 - 5)',\n",
       "              '2.2 Humans and the Water Supply',\n",
       "              '2.2 Theory of Plate Tectonics',\n",
       "              '2.2 World Climates',\n",
       "              '2.3 Fossils of Plants and Animals',\n",
       "              '2.3 Protecting the Water Supply',\n",
       "              '2.3 Relative Ages of Rocks',\n",
       "              '2.4 Fossils',\n",
       "              '2.4 Use and Conservation of Resources',\n",
       "              '2.5 Weather and Water in the Atmosphere',\n",
       "              '2.5 Weathering',\n",
       "              '2.6 Climate and Its Causes',\n",
       "              '2.6 Erosion and Deposition by Glaciers',\n",
       "              '2.7 Erosion and Deposition by Wind',\n",
       "              '2.7 World Climates',\n",
       "              '2.8 Erosion and Deposition by Gravity',\n",
       "              '2.8 The Sun-Earth-Moon System',\n",
       "              '2.9 Earths Motion in Space',\n",
       "              '2.9 Erosion and Deposition by Waves',\n",
       "              '3.1 Adaptation and Natural Selection',\n",
       "              '3.1 Importance of Plants',\n",
       "              '3.1 Learned Behavior of Animals',\n",
       "              '3.10 Seasonal Changes in Plants',\n",
       "              '3.11 Habitat Destruction',\n",
       "              '3.2 Insect Reproduction and Life Cycles',\n",
       "              '3.2 Nervous System',\n",
       "              '3.2 The Flow of Energy in an Ecosystem',\n",
       "              '3.3 Plant Adaptations to Environmental',\n",
       "              '3.3 The Respiratory System',\n",
       "              '3.4 Plant Reproduction and Life Cycles',\n",
       "              '3.4 The Cardiovascular System',\n",
       "              '3.5 Animal Characteristics and Classification',\n",
       "              '3.5 The Digestive System',\n",
       "              '3.6 The Skin',\n",
       "              '3.7 The Skeletal System',\n",
       "              '3.8 Introduction to Plants',\n",
       "              '3.9 Plant Reproduction'],\n",
       "             '4th': ['1.1 Atoms',\n",
       "              '1.1 Forces',\n",
       "              '1.1 Types of Energy',\n",
       "              '1.10 Electric Current',\n",
       "              '1.10 Magnets and Magnetism',\n",
       "              '1.11 Earth as a Magnet',\n",
       "              '1.11 Electric Circuits',\n",
       "              '1.12 Speed',\n",
       "              '1.2 Characteristics of Sound',\n",
       "              '1.2 Friction',\n",
       "              '1.2 Types of Matter',\n",
       "              '1.3 Forms and Changes of Energy',\n",
       "              '1.3 Gravity',\n",
       "              '1.3 Matter, Mass, and Volume',\n",
       "              '1.4 Magnets',\n",
       "              '1.4 Solid, Liquid and Gases',\n",
       "              '1.4 Transfer of Thermal Energy',\n",
       "              '1.5 Energy Resources',\n",
       "              '1.5 Physical Properties of Matter',\n",
       "              '1.5 Static Electricity',\n",
       "              '1.6 Chemical Properties of Matter',\n",
       "              '1.6 Moving Air and Water as Energy Sources',\n",
       "              '1.7 Physical and Chemical Changes in Matter',\n",
       "              '1.7 Reflection of Light',\n",
       "              '1.8 Rate of Dissolving',\n",
       "              '1.8 Refraction of Light',\n",
       "              '1.9 Separating Mixtures',\n",
       "              '1.9 Static Electric Charge',\n",
       "              '2.1 Introduction to Earths Surface',\n",
       "              '2.1 Water on Earth',\n",
       "              '2.1 Weather Forecasting',\n",
       "              '2.10 Erosion and Deposition by Flowing Water',\n",
       "              '2.10 Gravity',\n",
       "              '2.11 Ocean Movements and Waves',\n",
       "              '2.11 Stars (Gr 4 - 5)',\n",
       "              '2.2 Humans and the Water Supply',\n",
       "              '2.2 Theory of Plate Tectonics',\n",
       "              '2.2 World Climates',\n",
       "              '2.3 Fossils of Plants and Animals',\n",
       "              '2.3 Protecting the Water Supply',\n",
       "              '2.3 Relative Ages of Rocks',\n",
       "              '2.4 Fossils',\n",
       "              '2.4 Use and Conservation of Resources',\n",
       "              '2.5 Weather and Water in the Atmosphere',\n",
       "              '2.5 Weathering',\n",
       "              '2.6 Climate and Its Causes',\n",
       "              '2.6 Erosion and Deposition by Glaciers',\n",
       "              '2.7 Erosion and Deposition by Wind',\n",
       "              '2.7 World Climates',\n",
       "              '2.8 Erosion and Deposition by Gravity',\n",
       "              '2.8 The Sun-Earth-Moon System',\n",
       "              '2.9 Earths Motion in Space',\n",
       "              '2.9 Erosion and Deposition by Waves',\n",
       "              '3.1 Adaptation and Natural Selection',\n",
       "              '3.1 Importance of Plants',\n",
       "              '3.1 Learned Behavior of Animals',\n",
       "              '3.10 Seasonal Changes in Plants',\n",
       "              '3.11 Habitat Destruction',\n",
       "              '3.2 Insect Reproduction and Life Cycles',\n",
       "              '3.2 Nervous System',\n",
       "              '3.2 The Flow of Energy in an Ecosystem',\n",
       "              '3.3 Plant Adaptations to Environmental',\n",
       "              '3.3 The Respiratory System',\n",
       "              '3.4 Plant Reproduction and Life Cycles',\n",
       "              '3.4 The Cardiovascular System',\n",
       "              '3.5 Animal Characteristics and Classification',\n",
       "              '3.5 The Digestive System',\n",
       "              '3.6 The Skin',\n",
       "              '3.7 The Skeletal System',\n",
       "              '3.8 Introduction to Plants',\n",
       "              '3.9 Plant Reproduction'],\n",
       "             '5th': ['1.1 Atoms',\n",
       "              '1.1 Forces',\n",
       "              '1.1 Types of Energy',\n",
       "              '1.10 Electric Current',\n",
       "              '1.10 Magnets and Magnetism',\n",
       "              '1.11 Earth as a Magnet',\n",
       "              '1.11 Electric Circuits',\n",
       "              '1.12 Speed',\n",
       "              '1.2 Characteristics of Sound',\n",
       "              '1.2 Friction',\n",
       "              '1.2 Types of Matter',\n",
       "              '1.3 Forms and Changes of Energy',\n",
       "              '1.3 Gravity',\n",
       "              '1.3 Matter, Mass, and Volume',\n",
       "              '1.4 Magnets',\n",
       "              '1.4 Solid, Liquid and Gases',\n",
       "              '1.4 Transfer of Thermal Energy',\n",
       "              '1.5 Energy Resources',\n",
       "              '1.5 Physical Properties of Matter',\n",
       "              '1.5 Static Electricity',\n",
       "              '1.6 Chemical Properties of Matter',\n",
       "              '1.6 Moving Air and Water as Energy Sources',\n",
       "              '1.7 Physical and Chemical Changes in Matter',\n",
       "              '1.7 Reflection of Light',\n",
       "              '1.8 Rate of Dissolving',\n",
       "              '1.8 Refraction of Light',\n",
       "              '1.9 Separating Mixtures',\n",
       "              '1.9 Static Electric Charge',\n",
       "              '2.1 Introduction to Earths Surface',\n",
       "              '2.1 Water on Earth',\n",
       "              '2.1 Weather Forecasting',\n",
       "              '2.10 Erosion and Deposition by Flowing Water',\n",
       "              '2.10 Gravity',\n",
       "              '2.11 Ocean Movements and Waves',\n",
       "              '2.11 Stars (Gr 4 - 5)',\n",
       "              '2.2 Humans and the Water Supply',\n",
       "              '2.2 Theory of Plate Tectonics',\n",
       "              '2.2 World Climates',\n",
       "              '2.3 Fossils of Plants and Animals',\n",
       "              '2.3 Protecting the Water Supply',\n",
       "              '2.3 Relative Ages of Rocks',\n",
       "              '2.4 Fossils',\n",
       "              '2.4 Use and Conservation of Resources',\n",
       "              '2.5 Weather and Water in the Atmosphere',\n",
       "              '2.5 Weathering',\n",
       "              '2.6 Climate and Its Causes',\n",
       "              '2.6 Erosion and Deposition by Glaciers',\n",
       "              '2.7 Erosion and Deposition by Wind',\n",
       "              '2.7 World Climates',\n",
       "              '2.8 Erosion and Deposition by Gravity',\n",
       "              '2.8 The Sun-Earth-Moon System',\n",
       "              '2.9 Earths Motion in Space',\n",
       "              '2.9 Erosion and Deposition by Waves',\n",
       "              '3.1 Adaptation and Natural Selection',\n",
       "              '3.1 Importance of Plants',\n",
       "              '3.1 Learned Behavior of Animals',\n",
       "              '3.10 Seasonal Changes in Plants',\n",
       "              '3.11 Habitat Destruction',\n",
       "              '3.2 Insect Reproduction and Life Cycles',\n",
       "              '3.2 Nervous System',\n",
       "              '3.2 The Flow of Energy in an Ecosystem',\n",
       "              '3.3 Plant Adaptations to Environmental',\n",
       "              '3.3 The Respiratory System',\n",
       "              '3.4 Plant Reproduction and Life Cycles',\n",
       "              '3.4 The Cardiovascular System',\n",
       "              '3.5 Animal Characteristics and Classification',\n",
       "              '3.5 The Digestive System',\n",
       "              '3.6 The Skin',\n",
       "              '3.7 The Skeletal System',\n",
       "              '3.8 Introduction to Plants',\n",
       "              '3.9 Plant Reproduction']})"
      ]
     },
     "execution_count": 1828,
     "metadata": {},
     "output_type": "execute_result"
    }
   ],
   "source": [
    "chapter_titles"
   ]
  },
  {
   "cell_type": "code",
   "execution_count": 1869,
   "metadata": {
    "collapsed": false,
    "hidden": true,
    "run_control": {
     "frozen": false,
     "read_only": false
    },
    "scrolled": false
   },
   "outputs": [],
   "source": [
    "with open('science_gr_3_to_5_chapters.json', 'w') as f:\n",
    "    json.dump(toc, f, indent=4, sort_keys=True)"
   ]
  },
  {
   "cell_type": "code",
   "execution_count": 435,
   "metadata": {
    "collapsed": true,
    "hidden": true,
    "run_control": {
     "frozen": false,
     "read_only": false
    }
   },
   "outputs": [
    {
     "data": {
      "text/plain": [
       "Lesson Review Questions                               13\n",
       "Lesson Objectives                                     13\n",
       "Lesson Summary                                        12\n",
       "Lesson Vocabulary                                     12\n",
       "Recall                                                 8\n",
       "Apply Concepts                                         8\n",
       "Introduction                                           8\n",
       "External Resources                                     6\n",
       "Think Critically                                       6\n",
       "MEDIA                                                  4\n",
       "Points to Consider                                     3\n",
       "Microclimates                                          1\n",
       "Fossil Clues                                           1\n",
       "Plant Responses                                        1\n",
       "How Fossils Form                                       1\n",
       "How Can Gravity Be Overcome?                           1\n",
       "Insect Reproduction and Life Cycle                     1\n",
       "Vertebrate Animals                                     1\n",
       "Flowers and Pollinators                                1\n",
       "Animal Structure and Function                          1\n",
       "Why Fossilization is Rare                              1\n",
       "Defining Gravity                                       1\n",
       "Combining Forces                                       1\n",
       "Magnetic Poles                                         1\n",
       "Earths Gravity                                         1\n",
       "What Is Friction?                                      1\n",
       "Collecting Data                                        1\n",
       "What is the Difference Between Plants and Animals?     1\n",
       "Xerophytes                                             1\n",
       "Properties of Magnets                                  1\n",
       "                                                      ..\n",
       "What Is Static Electricity?                            1\n",
       "Factors That Affect Friction                           1\n",
       "Aquatic Plants                                         1\n",
       "Defining Force                                         1\n",
       "SI Unit of Force                                       1\n",
       "How Lightning Occurs                                   1\n",
       "What are some other differences animals may have?      1\n",
       "Magnetic Force                                         1\n",
       "Animal Life Cycles                                     1\n",
       "Three Types of Metamorphosis                           1\n",
       "Fossils in Sedimentary Rock                            1\n",
       "Apply                                                  1\n",
       "Why Friction Occurs                                    1\n",
       "Learning from Fossils                                  1\n",
       "Predicting the Weather                                 1\n",
       "Epiphytes                                              1\n",
       "Static Electricity and Static Discharge                1\n",
       "Vertebrate Classification                              1\n",
       "Climate Zones versus Climate Types                     1\n",
       "Tropical Climates Zones                                1\n",
       "Plants with Special Adaptations                        1\n",
       "Other Ways Fossils Form                                1\n",
       "Weather Instruments                                    1\n",
       "Magnetism and Materials                                1\n",
       "Variations                                             1\n",
       "Forces Acting in Opposite Directions                   1\n",
       "Plant Tropisms                                         1\n",
       "Forces Acting in the Same Direction                    1\n",
       "Adaptations                                            1\n",
       "What Are Fossils?                                      1\n",
       "dtype: int64"
      ]
     },
     "execution_count": 435,
     "metadata": {},
     "output_type": "execute_result"
    }
   ],
   "source": [
    "lesson_names = [item for sublist in [val.keys() for val in single_grade_content.values()] for item in sublist]\n",
    "pd.Series(lesson_names).value_counts()"
   ]
  },
  {
   "cell_type": "code",
   "execution_count": 1890,
   "metadata": {
    "collapsed": false,
    "hidden": true,
    "run_control": {
     "frozen": false,
     "read_only": false
    }
   },
   "outputs": [],
   "source": [
    "with open('../data/parsed_data_json/flexbook_g3_science.json', 'w') as f:\n",
    "    json.dump(parsed_lower_grades_cleaned['3rd'], f, indent=4, sort_keys=True)"
   ]
  },
  {
   "cell_type": "markdown",
   "metadata": {
    "collapsed": true,
    "heading_collapsed": true,
    "run_control": {
     "frozen": false,
     "read_only": false
    }
   },
   "source": [
    "# End"
   ]
  },
  {
   "cell_type": "code",
   "execution_count": null,
   "metadata": {
    "collapsed": true,
    "hidden": true
   },
   "outputs": [],
   "source": [
    "# flatq = [len(sect.values()[0]) for sect in parsed_workbooks.values()[0].values()]\n",
    "# sum(flatq)"
   ]
  },
  {
   "cell_type": "code",
   "execution_count": null,
   "metadata": {
    "collapsed": true,
    "hidden": true
   },
   "outputs": [],
   "source": [
    "lesson_names = [item for sublist in [val.keys() for val in combined_flexbook_content.values()] for item in sublist]\n",
    "pd.Series(lesson_names).value_counts()[:11]"
   ]
  },
  {
   "cell_type": "code",
   "execution_count": null,
   "metadata": {
    "collapsed": true,
    "hidden": true
   },
   "outputs": [],
   "source": [
    "qtypes = []\n",
    "\n",
    "for lesson in parsed_questions.values():\n",
    "    qtypes.append(len(lesson['nonDiagramQuestions'].keys()))\n",
    "pd.Series(qtypes).value_counts()"
   ]
  },
  {
   "cell_type": "code",
   "execution_count": null,
   "metadata": {
    "collapsed": true,
    "hidden": true
   },
   "outputs": [],
   "source": [
    "for subject, workbook_to_parse in workbooks.items():\n",
    "    pdf_path = workbook_path + workbook_to_parse\n",
    "    wb_parser = ck_ex.WorkbookParser()\n",
    "    parsed_questions = wb_parser.parse_worksheet_pdf(pdf_path, workbook_q_ranges[subject], workbook_ans_ranges[subject])"
   ]
  }
 ],
 "metadata": {
  "kernelspec": {
   "display_name": "Python 2",
   "language": "python",
   "name": "python2"
  },
  "language_info": {
   "codemirror_mode": {
    "name": "ipython",
    "version": 2
   },
   "file_extension": ".py",
   "mimetype": "text/x-python",
   "name": "python",
   "nbconvert_exporter": "python",
   "pygments_lexer": "ipython2",
   "version": "2.7.10"
  }
 },
 "nbformat": 4,
 "nbformat_minor": 0
}
