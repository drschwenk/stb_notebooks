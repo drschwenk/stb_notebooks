{
 "cells": [
  {
   "cell_type": "markdown",
   "metadata": {
    "heading_collapsed": true
   },
   "source": [
    "# Table of Contents\n",
    "* [Submitting HITs](#Submitting-HITs)\n",
    "\t* [Building URLs for images on s3](#Building-URLs-for-images-on-s3)\n",
    "\t* [submitting HITs in groups](#submitting-HITs-in-groups)\n",
    "\t\t* [creates HITs, careful with this one](#creates-HITs,-careful-with-this-one)\n",
    "* [Reviewing latest HITs](#Reviewing-latest-HITs)\n",
    "* [Merging latest round of HITs into combined dataset](#Merging-latest-round-of-HITs-into-combined-dataset)\n",
    "\t* [Load prior complete dataset if not in memory](#Load-prior-complete-dataset-if-not-in-memory)\n",
    "\t* [Updating full dataset](#Updating-full-dataset)\n",
    "\t* [Working with full dataset](#Working-with-full-dataset)\n",
    "* [Worker Analysis](#Worker-Analysis)\n",
    "\t* [Basic worker stats](#Basic-worker-stats)\n",
    "\t\t* [HIT duration for pricing](#HIT-duration-for-pricing)\n",
    "\t\t* [Identifying high and low consensus workers](#Identifying-high-and-low-consensus-workers)\n",
    "\t* [Messaging workers](#Messaging-workers)\n",
    "* [HIT end-of-life](#HIT-end-of-life)\n",
    "\t* [Pickle latest results](#Pickle-latest-results)\n",
    "\t* [Pickle combined dataset](#Pickle-combined-dataset)\n",
    "\t* [Accepting and deleting HITs... careful with these](#Accepting-and-deleting-HITs...-careful-with-these)\n"
   ]
  },
  {
   "cell_type": "code",
   "execution_count": 252,
   "metadata": {
    "collapsed": false,
    "hidden": true,
    "run_control": {
     "frozen": false,
     "read_only": false
    }
   },
   "outputs": [],
   "source": [
    "%%capture\n",
    "from __future__ import division\n",
    "import numpy as np\n",
    "import pandas as pd\n",
    "import scipy.stats as st\n",
    "import itertools\n",
    "import math\n",
    "from collections import Counter, defaultdict\n",
    "%load_ext autoreload\n",
    "%autoreload 2\n",
    "\n",
    "import matplotlib as mpl\n",
    "mpl.use(\"Agg\")\n",
    "import matplotlib.pylab as plt\n",
    "#%matplotlib notebook\n",
    "%matplotlib inline\n",
    "%load_ext base16_mplrc\n",
    "%base16_mplrc light default\n",
    "plt.rcParams['figure.figsize'] = (16.0, 10.0)\n",
    "\n",
    "import re\n",
    "from datetime import datetime\n",
    "import dateutil.parser as dt_parse\n",
    "import pickle\n",
    "import boto\n",
    "import json\n",
    "import os\n",
    "\n",
    "from copy import deepcopy\n",
    "import boto.mturk.connection as tc\n",
    "import boto.mturk.question as tq\n",
    "from boto.mturk.qualification import PercentAssignmentsApprovedRequirement, Qualifications, Requirement\n",
    "\n",
    "from keysTkingdom import mturk_ai2\n",
    "from keysTkingdom import aws_tokes\n",
    "\n",
    "import pdfextraction.amt_boto_modules as amt_util\n",
    "import pdfextraction.turk_email_utils as turkmail_util"
   ]
  },
  {
   "cell_type": "markdown",
<<<<<<< HEAD
   "metadata": {
    "heading_collapsed": true
   },
=======
   "metadata": {},
>>>>>>> 8ee755d5098460da783aa91d7fc47946de69deea
   "source": [
    "# **Submitting HITs**"
   ]
  },
  {
   "cell_type": "markdown",
<<<<<<< HEAD
   "metadata": {
    "heading_collapsed": true,
    "hidden": true
   },
=======
   "metadata": {},
>>>>>>> 8ee755d5098460da783aa91d7fc47946de69deea
   "source": [
    "## Building URLs for images on s3"
   ]
  },
  {
   "cell_type": "code",
<<<<<<< HEAD
   "execution_count": 435,
   "metadata": {
    "collapsed": false,
    "hidden": true,
=======
   "execution_count": 44,
   "metadata": {
    "collapsed": false,
>>>>>>> 8ee755d5098460da783aa91d7fc47946de69deea
    "run_control": {
     "frozen": false,
     "read_only": false
    }
   },
   "outputs": [],
   "source": [
    "book_groups, ranges = amt_util.load_book_info()\n",
    "\n",
    "daily_sci_urls = amt_util.make_book_group_urls(book_groups, 'daily_sci', ranges)\n",
    "spectrum_sci_urls = amt_util.make_book_group_urls(book_groups, 'spectrum_sci', ranges)\n",
    "read_und_sci_urls  = amt_util.make_book_group_urls(book_groups, 'read_und_sci', ranges)\n",
    "workbook_urls = amt_util.make_book_group_urls(book_groups, 'workbooks', ranges)\n",
    "misc_urls = amt_util.make_book_group_urls(book_groups, 'misc', ranges)"
   ]
  },
  {
   "cell_type": "code",
<<<<<<< HEAD
   "execution_count": 436,
   "metadata": {
    "collapsed": false,
    "hidden": true
   },
   "outputs": [
    {
     "data": {
      "text/plain": [
       "['https://s3-us-west-2.amazonaws.com/ai2-vision-turk-data/textbook-annotation-test/build/index.html?url=Daily_Science_Grade_1_Evan_Moor_8.jpeg&id=8',\n",
       " 'https://s3-us-west-2.amazonaws.com/ai2-vision-turk-data/textbook-annotation-test/build/index.html?url=Daily_Science_Grade_1_Evan_Moor_9.jpeg&id=9',\n",
       " 'https://s3-us-west-2.amazonaws.com/ai2-vision-turk-data/textbook-annotation-test/build/index.html?url=Daily_Science_Grade_1_Evan_Moor_10.jpeg&id=10',\n",
       " 'https://s3-us-west-2.amazonaws.com/ai2-vision-turk-data/textbook-annotation-test/build/index.html?url=Daily_Science_Grade_1_Evan_Moor_11.jpeg&id=11',\n",
       " 'https://s3-us-west-2.amazonaws.com/ai2-vision-turk-data/textbook-annotation-test/build/index.html?url=Daily_Science_Grade_1_Evan_Moor_12.jpeg&id=12']"
      ]
     },
     "execution_count": 436,
     "metadata": {},
     "output_type": "execute_result"
    }
   ],
   "source": [
    "daily_sci_urls[:5]"
   ]
  },
  {
   "cell_type": "code",
   "execution_count": 39,
   "metadata": {
    "collapsed": false,
    "hidden": true,
=======
   "execution_count": 39,
   "metadata": {
    "collapsed": false,
>>>>>>> 8ee755d5098460da783aa91d7fc47946de69deea
    "run_control": {
     "frozen": false,
     "read_only": false
    }
   },
<<<<<<< HEAD
   "outputs": [
    {
     "data": {
      "text/plain": [
       "2031"
      ]
     },
     "execution_count": 39,
     "metadata": {},
     "output_type": "execute_result"
    }
   ],
=======
   "outputs": [],
>>>>>>> 8ee755d5098460da783aa91d7fc47946de69deea
   "source": [
    "len(daily_sci_urls + spectrum_sci_urls)"
   ]
  },
  {
   "cell_type": "code",
   "execution_count": 32,
   "metadata": {
    "collapsed": true,
<<<<<<< HEAD
    "hidden": true,
=======
>>>>>>> 8ee755d5098460da783aa91d7fc47946de69deea
    "run_control": {
     "frozen": false,
     "read_only": false
    }
   },
   "outputs": [],
   "source": [
    "combined_df_question_pages_only = pd.read_pickle('pages_w_questions.pkl')"
   ]
  },
  {
   "cell_type": "code",
   "execution_count": 157,
   "metadata": {
    "collapsed": false,
<<<<<<< HEAD
    "hidden": true,
=======
>>>>>>> 8ee755d5098460da783aa91d7fc47946de69deea
    "run_control": {
     "frozen": false,
     "read_only": false
    }
   },
<<<<<<< HEAD
   "outputs": [
    {
     "data": {
      "text/plain": [
       "1337"
      ]
     },
     "execution_count": 157,
     "metadata": {},
     "output_type": "execute_result"
    }
   ],
=======
   "outputs": [],
>>>>>>> 8ee755d5098460da783aa91d7fc47946de69deea
   "source": [
    "pages_w_questions = pd.unique(combined_df_question_pages_only['page'])\n",
    "len(pages_w_questions)"
   ]
  },
  {
   "cell_type": "code",
   "execution_count": 158,
   "metadata": {
    "collapsed": false,
<<<<<<< HEAD
    "hidden": true,
=======
>>>>>>> 8ee755d5098460da783aa91d7fc47946de69deea
    "run_control": {
     "frozen": false,
     "read_only": false
    }
   },
<<<<<<< HEAD
   "outputs": [
    {
     "data": {
      "text/plain": [
       "481"
      ]
     },
     "execution_count": 158,
     "metadata": {},
     "output_type": "execute_result"
    }
   ],
=======
   "outputs": [],
>>>>>>> 8ee755d5098460da783aa91d7fc47946de69deea
   "source": [
    "question_specific_urls = [url for url in spectrum_sci_urls if url.split('=')[1].split('&')[0] in pages_w_questions]\n",
    "len(question_specific_urls)"
   ]
  },
  {
   "cell_type": "markdown",
<<<<<<< HEAD
   "metadata": {
    "heading_collapsed": true,
    "hidden": true
   },
=======
   "metadata": {},
>>>>>>> 8ee755d5098460da783aa91d7fc47946de69deea
   "source": [
    "## submitting HITs in groups"
   ]
  },
  {
   "cell_type": "markdown",
<<<<<<< HEAD
   "metadata": {
    "hidden": true
   },
=======
   "metadata": {},
>>>>>>> 8ee755d5098460da783aa91d7fc47946de69deea
   "source": [
    "**DON'T FORGET to change submission POST request in the client when changing host**"
   ]
  },
  {
   "cell_type": "code",
<<<<<<< HEAD
   "execution_count": 437,
   "metadata": {
    "collapsed": false,
    "hidden": true,
=======
   "execution_count": 374,
   "metadata": {
    "collapsed": false,
>>>>>>> 8ee755d5098460da783aa91d7fc47946de69deea
    "run_control": {
     "frozen": false,
     "read_only": false
    }
   },
<<<<<<< HEAD
   "outputs": [
    {
     "name": "stdout",
     "output_type": "stream",
     "text": [
      "Working in the SANDBOX with\n",
      "$10,000.00\n"
     ]
    }
   ],
=======
   "outputs": [],
>>>>>>> 8ee755d5098460da783aa91d7fc47946de69deea
   "source": [
    "## Switch between sandbox and the real world here ##\n",
    "## DON'T FORGET to change submission POST request in the client ##\n",
    "\n",
    "sandbox_host = 'mechanicalturk.sandbox.amazonaws.com' \n",
    "real_world_host = 'mechanicalturk.amazonaws.com'\n",
    "mturk = tc.MTurkConnection(\n",
    "    aws_access_key_id = aws_tokes.access_key,\n",
    "    aws_secret_access_key = aws_tokes.access_secret_key,\n",
<<<<<<< HEAD
    "    host = sandbox_host,\n",
=======
    "    host = real_world_host,\n",
>>>>>>> 8ee755d5098460da783aa91d7fc47946de69deea
    "    debug = 1 # debug = 2 prints out all requests.\n",
    ")\n",
    "current_account_balance = mturk.get_account_balance()[0]\n",
    "if current_account_balance.amount == 10000:\n",
    "    print \"Working in the SANDBOX with\"\n",
    "else:\n",
    "    print \"Working in the REAL WORLD with\"\n",
    "print current_account_balance # a reminder of sandbox"
   ]
  },
  {
   "cell_type": "code",
<<<<<<< HEAD
   "execution_count": 438,
   "metadata": {
    "code_folding": [],
    "collapsed": false,
    "hidden": true,
=======
   "execution_count": 370,
   "metadata": {
    "code_folding": [],
    "collapsed": false,
>>>>>>> 8ee755d5098460da783aa91d7fc47946de69deea
    "run_control": {
     "frozen": false,
     "read_only": false
    }
   },
   "outputs": [],
   "source": [
    "static_params = {\n",
    "    'title': \"Annotate Science Questions\",\n",
    "    'description': \"Choose which category questions from a grade-school science book best belong to\",\n",
    "    'keywords': ['image', 'science', 'text', 'labeling' ],\n",
    "    'frame_height': 800,\n",
    "    'amount': 0.06,\n",
    "    'duration': 3600 * 12,\n",
    "    'lifetime': 3600 * 24 * 3,\n",
    "    'max_assignments': 1   # change to 3 when running irl\n",
    "}"
   ]
  },
  {
   "cell_type": "markdown",
<<<<<<< HEAD
   "metadata": {
    "hidden": true
   },
=======
   "metadata": {},
>>>>>>> 8ee755d5098460da783aa91d7fc47946de69deea
   "source": [
    "### creates HITs, careful with this one"
   ]
  },
  {
   "cell_type": "code",
<<<<<<< HEAD
   "execution_count": 439,
   "metadata": {
    "collapsed": false,
    "hidden": true
   },
   "outputs": [
    {
     "data": {
      "text/plain": [
       "['https://s3-us-west-2.amazonaws.com/ai2-vision-turk-data/textbook-annotation-test/build/index.html?url=Spectrum_Science_Grade_3_42.jpeg&id=42',\n",
       " 'https://s3-us-west-2.amazonaws.com/ai2-vision-turk-data/textbook-annotation-test/build/index.html?url=Spectrum_Science_Grade_3_44.jpeg&id=44']"
      ]
     },
     "execution_count": 439,
     "metadata": {},
     "output_type": "execute_result"
    }
   ],
=======
   "execution_count": 372,
   "metadata": {
    "collapsed": false
   },
   "outputs": [],
>>>>>>> 8ee755d5098460da783aa91d7fc47946de69deea
   "source": [
    "pages_to_use"
   ]
  },
  {
   "cell_type": "code",
<<<<<<< HEAD
   "execution_count": 440,
   "metadata": {
    "code_folding": [],
    "collapsed": false,
    "hidden": true,
=======
   "execution_count": 371,
   "metadata": {
    "code_folding": [],
    "collapsed": false,
>>>>>>> 8ee755d5098460da783aa91d7fc47946de69deea
    "run_control": {
     "frozen": false,
     "read_only": false
    }
   },
<<<<<<< HEAD
   "outputs": [
    {
     "name": "stdout",
     "output_type": "stream",
     "text": [
      "expect this batch of HITs to cost: $0.12\n"
     ]
    }
   ],
=======
   "outputs": [],
>>>>>>> 8ee755d5098460da783aa91d7fc47946de69deea
   "source": [
    "pages_to_use = question_specific_urls[20:22]\n",
    "expected_cost = len(pages_to_use) *  static_params['amount'] * static_params['max_assignments']\n",
    "if float(current_account_balance.amount) < expected_cost:\n",
    "    print('WARNING -- account balance is too low -- WARNING')\n",
    "print('expect this batch of HITs to cost: $' + str(expected_cost))"
   ]
  },
  {
   "cell_type": "markdown",
<<<<<<< HEAD
   "metadata": {
    "hidden": true
   },
=======
   "metadata": {},
>>>>>>> 8ee755d5098460da783aa91d7fc47946de69deea
   "source": [
    "**uncomment cell below only when ready to submit**"
   ]
  },
  {
   "cell_type": "code",
<<<<<<< HEAD
   "execution_count": 441,
   "metadata": {
    "code_folding": [],
    "collapsed": false,
    "hidden": true,
=======
   "execution_count": 373,
   "metadata": {
    "code_folding": [],
    "collapsed": false,
>>>>>>> 8ee755d5098460da783aa91d7fc47946de69deea
    "run_control": {
     "frozen": false,
     "read_only": false
    }
   },
   "outputs": [],
   "source": [
<<<<<<< HEAD
    "amt_util.create_hits_from_pages(mturk, pages_to_use, static_params)"
=======
    "# amt_util.create_hits_from_pages(mturk, pages_to_use, static_params)"
>>>>>>> 8ee755d5098460da783aa91d7fc47946de69deea
   ]
  },
  {
   "cell_type": "markdown",
   "metadata": {
<<<<<<< HEAD
    "heading_collapsed": true,
    "hidden": true
=======
    "heading_collapsed": true
>>>>>>> 8ee755d5098460da783aa91d7fc47946de69deea
   },
   "source": [
    "## Qualifications"
   ]
  },
  {
   "cell_type": "code",
   "execution_count": 34,
   "metadata": {
    "collapsed": false,
    "hidden": true,
    "run_control": {
     "frozen": false,
     "read_only": false
    }
   },
   "outputs": [],
   "source": [
    "new_qual_name = 'science textbook annotation'\n",
    "new_qual_description = 'Qualification for workers who have proved to be good at annotating science textbooks'\n",
    "# my_qual_type = mturk.create_qualification_type(new_qual_name, new_qual_description, status='Active')\n",
    "\n",
    "my_qual_type = mturk.search_qualification_types(new_qual_name)[0]"
   ]
  },
  {
   "cell_type": "code",
   "execution_count": 55,
   "metadata": {
    "collapsed": false,
    "hidden": true,
    "run_control": {
     "frozen": false,
     "read_only": false
    }
   },
<<<<<<< HEAD
   "outputs": [
    {
     "name": "stdout",
     "output_type": "stream",
     "text": [
      "3SR1M7GDJUS2QU502S1PPKCWG30A2B\n"
     ]
    }
   ],
=======
   "outputs": [],
>>>>>>> 8ee755d5098460da783aa91d7fc47946de69deea
   "source": [
    "my_qual_id = my_qual_type.QualificationTypeId\n",
    "print my_qual_id"
   ]
  },
  {
   "cell_type": "code",
   "execution_count": null,
   "metadata": {
    "collapsed": true,
    "hidden": true,
    "run_control": {
     "frozen": false,
     "read_only": false
    }
   },
   "outputs": [],
   "source": [
    "mturk.assign_qualification(my_qual_id, worker_id)"
   ]
  },
  {
   "cell_type": "markdown",
   "metadata": {},
   "source": [
    "# **Reviewing HITs**"
   ]
  },
  {
   "cell_type": "markdown",
<<<<<<< HEAD
   "metadata": {
    "heading_collapsed": true
   },
=======
   "metadata": {},
>>>>>>> 8ee755d5098460da783aa91d7fc47946de69deea
   "source": [
    "### Retrieving and processing latest HITs"
   ]
  },
  {
   "cell_type": "code",
   "execution_count": 190,
   "metadata": {
    "collapsed": true,
<<<<<<< HEAD
    "hidden": true,
=======
>>>>>>> 8ee755d5098460da783aa91d7fc47946de69deea
    "run_control": {
     "frozen": false,
     "read_only": false
    }
   },
   "outputs": [],
   "source": [
    "r_hits_current_batch = amt_util.get_completed_hits(mturk)\n",
    "assignment_results_current_batch = amt_util.get_assignments(mturk, r_hits_current_batch, 'Submitted')"
   ]
  },
  {
   "cell_type": "code",
   "execution_count": 191,
   "metadata": {
    "collapsed": true,
<<<<<<< HEAD
    "hidden": true,
=======
>>>>>>> 8ee755d5098460da783aa91d7fc47946de69deea
    "run_control": {
     "frozen": false,
     "read_only": false
    }
   },
   "outputs": [],
   "source": [
    "raw_hit_results_current_batch = amt_util.process_raw_hits(assignment_results_current_batch)"
   ]
  },
  {
   "cell_type": "code",
   "execution_count": 194,
   "metadata": {
    "collapsed": false,
<<<<<<< HEAD
    "hidden": true,
=======
>>>>>>> 8ee755d5098460da783aa91d7fc47946de69deea
    "run_control": {
     "frozen": false,
     "read_only": false
    }
   },
<<<<<<< HEAD
   "outputs": [
    {
     "data": {
      "text/plain": [
       "Submitted    1443\n",
       "dtype: int64"
      ]
     },
     "execution_count": 194,
     "metadata": {},
     "output_type": "execute_result"
    }
   ],
=======
   "outputs": [],
>>>>>>> 8ee755d5098460da783aa91d7fc47946de69deea
   "source": [
    "amt_util.get_assignment_statuses(assignment_results_current_batch )"
   ]
  },
  {
   "cell_type": "markdown",
<<<<<<< HEAD
   "metadata": {
    "hidden": true
   },
=======
   "metadata": {},
>>>>>>> 8ee755d5098460da783aa91d7fc47946de69deea
   "source": [
    "The commands above interact with mechanical turk and can take a while"
   ]
  },
  {
   "cell_type": "code",
   "execution_count": 192,
   "metadata": {
    "collapsed": false,
<<<<<<< HEAD
    "hidden": true,
=======
>>>>>>> 8ee755d5098460da783aa91d7fc47946de69deea
    "run_control": {
     "frozen": false,
     "read_only": false
    }
   },
   "outputs": [],
   "source": [
    "results_df_question_batch = amt_util.make_question_results_df(raw_hit_results_current_batch)"
   ]
  },
  {
   "cell_type": "code",
   "execution_count": 193,
   "metadata": {
    "collapsed": false,
<<<<<<< HEAD
    "hidden": true,
=======
>>>>>>> 8ee755d5098460da783aa91d7fc47946de69deea
    "run_control": {
     "frozen": false,
     "read_only": false
    }
   },
   "outputs": [],
   "source": [
    "consensus_results_df_current_batch = amt_util.make_consensus_df(results_df_question_batch, 'No Consensus')"
   ]
  },
  {
   "cell_type": "code",
   "execution_count": 319,
   "metadata": {
    "collapsed": true,
<<<<<<< HEAD
    "hidden": true,
=======
>>>>>>> 8ee755d5098460da783aa91d7fc47946de69deea
    "run_control": {
     "frozen": false,
     "read_only": false
    }
   },
   "outputs": [],
   "source": [
    "question_cats = ['Multiple Choice',\n",
    "                 'Fill-in-the-Blank',\n",
    "                 'Short Answer',\n",
    "                 'Discussion']"
   ]
  },
  {
   "cell_type": "code",
   "execution_count": 332,
   "metadata": {
    "collapsed": false,
<<<<<<< HEAD
    "hidden": true,
=======
>>>>>>> 8ee755d5098460da783aa91d7fc47946de69deea
    "run_control": {
     "frozen": false,
     "read_only": false
    }
   },
   "outputs": [],
   "source": [
    "question_only_cons_df = consensus_results_df_current_batch[consensus_results_df_current_batch['box_id'].apply(lambda x:x[0] == 'Q' ) | consensus_results_df_current_batch['category'].isin(question_cats)]"
   ]
  },
  {
   "cell_type": "code",
   "execution_count": 312,
   "metadata": {
    "collapsed": false,
<<<<<<< HEAD
    "hidden": true,
=======
>>>>>>> 8ee755d5098460da783aa91d7fc47946de69deea
    "run_control": {
     "frozen": false,
     "read_only": false
    }
   },
<<<<<<< HEAD
   "outputs": [
    {
     "name": "stdout",
     "output_type": "stream",
     "text": [
      "question boxes without category consensus comprise 1.82% of the total\n"
     ]
    }
   ],
=======
   "outputs": [],
>>>>>>> 8ee755d5098460da783aa91d7fc47946de69deea
   "source": [
    "no_consensus_hits_cat = consensus_results_df_current_batch[consensus_results_df_current_batch['category'] == 'No Consensus']\n",
    "\n",
    "flaw_rate = len(no_consensus_hits_cat) / len(consensus_results_df_current_batch)\n",
    "print 'question boxes without category consensus comprise ' + '{0:0.2f}% '.format(flaw_rate * 100) + 'of the total'  "
   ]
  },
  {
   "cell_type": "markdown",
<<<<<<< HEAD
   "metadata": {
    "hidden": true
   },
=======
   "metadata": {},
>>>>>>> 8ee755d5098460da783aa91d7fc47946de69deea
   "source": [
    "These numbers differ because-\n",
    "1. The first counts non-con results from the first round (non-question results)\n",
    "\n",
    "2. The second counts only boxes either previously marked as a question, or selected in ths round"
   ]
  },
  {
   "cell_type": "code",
   "execution_count": 338,
   "metadata": {
    "collapsed": false,
<<<<<<< HEAD
    "hidden": true,
=======
>>>>>>> 8ee755d5098460da783aa91d7fc47946de69deea
    "run_control": {
     "frozen": false,
     "read_only": false
    }
   },
<<<<<<< HEAD
   "outputs": [
    {
     "name": "stdout",
     "output_type": "stream",
     "text": [
      "question boxes without category consensus comprise 1.02% of the total\n"
     ]
    }
   ],
=======
   "outputs": [],
>>>>>>> 8ee755d5098460da783aa91d7fc47946de69deea
   "source": [
    "no_consensus_hits_cat = question_only_cons_df[question_only_cons_df['category'] == 'No Consensus']\n",
    "\n",
    "flaw_rate = len(no_consensus_hits_cat) / len(question_only_cons_df)\n",
    "print 'question boxes without category consensus comprise ' + '{0:0.2f}% '.format(flaw_rate * 100) + 'of the total'  "
   ]
  },
  {
   "cell_type": "code",
   "execution_count": 315,
   "metadata": {
    "collapsed": false,
<<<<<<< HEAD
    "hidden": true,
=======
>>>>>>> 8ee755d5098460da783aa91d7fc47946de69deea
    "run_control": {
     "frozen": false,
     "read_only": false
    },
    "scrolled": true
   },
<<<<<<< HEAD
   "outputs": [
    {
     "name": "stdout",
     "output_type": "stream",
     "text": [
      "[Errno 2] No such file or directory: u'/Users/schwenk/wrk/notebooks/stb/ai2-vision-turk-data/textbook-annotation-test/annotations-w-questions/Spectrum_Science_Grade_3_132.json'\n"
     ]
    }
   ],
=======
   "outputs": [],
>>>>>>> 8ee755d5098460da783aa91d7fc47946de69deea
   "source": [
    "amt_util.write_results_df(consensus_results_df_current_batch, 'annotations-w-questions/', 'simpler-test-questions/')"
   ]
  },
  {
   "cell_type": "code",
   "execution_count": 317,
   "metadata": {
    "collapsed": false,
<<<<<<< HEAD
    "hidden": true,
=======
>>>>>>> 8ee755d5098460da783aa91d7fc47946de69deea
    "run_control": {
     "frozen": false,
     "read_only": false
    }
   },
   "outputs": [],
   "source": [
    "# consensus_results_df_current_batch[consensus_results_df_current_batch['page'] == 'Spectrum_Science_Grade_8_8.jpeg']"
   ]
  },
  {
   "cell_type": "markdown",
   "metadata": {},
   "source": [
    "## **sending to review tool**"
   ]
  },
  {
   "cell_type": "markdown",
<<<<<<< HEAD
   "metadata": {},
=======
   "metadata": {
    "heading_collapsed": true
   },
>>>>>>> 8ee755d5098460da783aa91d7fc47946de69deea
   "source": [
    "### randomly sampling HITs "
   ]
  },
  {
   "cell_type": "code",
<<<<<<< HEAD
   "execution_count": 445,
   "metadata": {
    "collapsed": true,
=======
   "execution_count": 375,
   "metadata": {
    "collapsed": true,
    "hidden": true,
>>>>>>> 8ee755d5098460da783aa91d7fc47946de69deea
    "run_control": {
     "frozen": false,
     "read_only": false
    }
   },
   "outputs": [],
   "source": [
    "pages_to_review = np.unique(consensus_results_df_current_batch['page'])"
   ]
  },
  {
   "cell_type": "code",
<<<<<<< HEAD
   "execution_count": 449,
   "metadata": {
    "collapsed": false,
=======
   "execution_count": 376,
   "metadata": {
    "collapsed": false,
    "hidden": true,
>>>>>>> 8ee755d5098460da783aa91d7fc47946de69deea
    "run_control": {
     "frozen": false,
     "read_only": false
    }
   },
<<<<<<< HEAD
   "outputs": [
    {
     "name": "stdout",
     "output_type": "stream",
     "text": [
      "sampling 48 pages out of 481\n"
     ]
    }
   ],
=======
   "outputs": [],
>>>>>>> 8ee755d5098460da783aa91d7fc47946de69deea
   "source": [
    "sampling_rate = 0.1\n",
    "sample_size = int(len(pages_to_review) * sampling_rate)\n",
    "sampled_pages_to_review = list(np.random.choice(pages_to_review, size= sample_size, replace=False))\n",
    "print 'sampling ' + str(sample_size) + ' pages out of ' + str(len(pages_to_review))\n",
    "to_review = ['start_seq'] + sampled_pages_to_review"
   ]
  },
  {
   "cell_type": "code",
<<<<<<< HEAD
   "execution_count": 450,
   "metadata": {
    "collapsed": false,
=======
   "execution_count": 377,
   "metadata": {
    "collapsed": false,
    "hidden": true,
>>>>>>> 8ee755d5098460da783aa91d7fc47946de69deea
    "run_control": {
     "frozen": false,
     "read_only": false
    }
   },
<<<<<<< HEAD
   "outputs": [
    {
     "name": "stdout",
     "output_type": "stream",
     "text": [
      "posting to review tool, navigate to http://localhost:8080/ to see the sampled consensus results\n"
     ]
    }
   ],
   "source": [
    "# anno_dir = 'simpler-test-questions/'\n",
    "anno_dir ='transferred-question-labels/'\n",
=======
   "outputs": [],
   "source": [
    "anno_dir = 'simpler-test-questions/'\n",
>>>>>>> 8ee755d5098460da783aa91d7fc47946de69deea
    "amt_util.review_results(to_review, anno_dir)\n",
    "print 'posting to review tool, navigate to http://localhost:8080/ to see the sampled consensus results'"
   ]
  },
  {
   "cell_type": "markdown",
   "metadata": {
    "heading_collapsed": true
   },
   "source": [
    "### sampling no consensus"
   ]
  },
  {
   "cell_type": "code",
   "execution_count": 378,
   "metadata": {
    "collapsed": true,
    "hidden": true,
    "run_control": {
     "frozen": false,
     "read_only": false
    }
   },
   "outputs": [],
   "source": [
    "pages_to_review =pd.unique(no_consensus_hits_cat['page'])"
   ]
  },
  {
   "cell_type": "code",
   "execution_count": 379,
   "metadata": {
    "collapsed": false,
    "hidden": true,
    "run_control": {
     "frozen": false,
     "read_only": false
    }
   },
<<<<<<< HEAD
   "outputs": [
    {
     "name": "stdout",
     "output_type": "stream",
     "text": [
      "sampling 23 pages out of 46\n"
     ]
    }
   ],
=======
   "outputs": [],
>>>>>>> 8ee755d5098460da783aa91d7fc47946de69deea
   "source": [
    "sampling_rate = 0.5\n",
    "sample_size = int(len(pages_to_review) * sampling_rate)\n",
    "sampled_pages_to_review = list(np.random.choice(pages_to_review, size= sample_size, replace=False))\n",
    "print 'sampling ' + str(sample_size) + ' pages out of ' + str(len(pages_to_review))\n",
    "to_review = ['start_seq'] + sampled_pages_to_review"
   ]
  },
  {
   "cell_type": "code",
   "execution_count": 380,
   "metadata": {
    "collapsed": false,
    "hidden": true,
    "run_control": {
     "frozen": false,
     "read_only": false
    }
   },
<<<<<<< HEAD
   "outputs": [
    {
     "name": "stdout",
     "output_type": "stream",
     "text": [
      "posting to review tool, navigate to http://localhost:8080/ to see the sampled consensus results\n"
     ]
    }
   ],
=======
   "outputs": [],
>>>>>>> 8ee755d5098460da783aa91d7fc47946de69deea
   "source": [
    "anno_dir = 'simpler-test-questions/'\n",
    "amt_util.review_results(to_review, anno_dir)\n",
    "print 'posting to review tool, navigate to http://localhost:8080/ to see the sampled consensus results'"
   ]
  },
  {
   "cell_type": "markdown",
<<<<<<< HEAD
   "metadata": {
    "heading_collapsed": true
   },
=======
   "metadata": {},
>>>>>>> 8ee755d5098460da783aa91d7fc47946de69deea
   "source": [
    "### looking at individual workers"
   ]
  },
  {
   "cell_type": "code",
   "execution_count": 276,
   "metadata": {
    "collapsed": true,
<<<<<<< HEAD
    "hidden": true,
=======
>>>>>>> 8ee755d5098460da783aa91d7fc47946de69deea
    "run_control": {
     "frozen": false,
     "read_only": false
    }
   },
   "outputs": [],
   "source": [
    "ind_worker_dir = 'individual-worker-results/'"
   ]
  },
  {
   "cell_type": "code",
<<<<<<< HEAD
   "execution_count": 385,
   "metadata": {
    "collapsed": false,
    "hidden": true
   },
   "outputs": [
    {
     "data": {
      "text/plain": [
       "[u'A2L7S6RZOZ6NM9',\n",
       " u'A2DVFA1B7NMN0F',\n",
       " u'AW0E5C6MWDVSU',\n",
       " u'A1OIITZ4Z8WEW',\n",
       " u'A3SS1F4F3JE7CU']"
      ]
     },
     "execution_count": 385,
     "metadata": {},
     "output_type": "execute_result"
    }
   ],
=======
   "execution_count": 342,
   "metadata": {
    "collapsed": false
   },
   "outputs": [],
>>>>>>> 8ee755d5098460da783aa91d7fc47946de69deea
   "source": [
    "bad_and_prolific_to_review"
   ]
  },
  {
   "cell_type": "code",
<<<<<<< HEAD
   "execution_count": 401,
   "metadata": {
    "collapsed": false,
    "hidden": true,
=======
   "execution_count": 384,
   "metadata": {
    "collapsed": false,
>>>>>>> 8ee755d5098460da783aa91d7fc47946de69deea
    "run_control": {
     "frozen": false,
     "read_only": false
    }
   },
<<<<<<< HEAD
   "outputs": [
    {
     "name": "stdout",
     "output_type": "stream",
     "text": [
      "[u'AS8LR974AUO00']\n"
     ]
    }
   ],
   "source": [
    "# workers_to_review = turkers_contacted_me[:1]\n",
    "workers_to_review = bad_and_prolific_to_review[6:7]\n",
    "print workers_to_review\n",
=======
   "outputs": [],
   "source": [
    "# workers_to_review = turkers_contacted_me[:1]\n",
    "workers_to_review = really_bad_workers_to_review\n",
>>>>>>> 8ee755d5098460da783aa91d7fc47946de69deea
    "subset_by_worker = results_df_question_batch[results_df_question_batch['worker_id'].isin(workers_to_review)]\n",
    "\n",
    "amt_util.write_results_df(subset_by_worker, 'annotations-w-questions/', ind_worker_dir)\n",
    "pages_to_review = pd.unique(subset_by_worker['page']).tolist()\n",
    "to_review = ['start_seq'] + pages_to_review "
   ]
  },
  {
   "cell_type": "code",
<<<<<<< HEAD
   "execution_count": 400,
   "metadata": {
    "collapsed": false,
    "hidden": true,
=======
   "execution_count": 383,
   "metadata": {
    "collapsed": false,
>>>>>>> 8ee755d5098460da783aa91d7fc47946de69deea
    "run_control": {
     "frozen": false,
     "read_only": false
    }
   },
<<<<<<< HEAD
   "outputs": [
    {
     "name": "stdout",
     "output_type": "stream",
     "text": [
      "posting to review tool, navigate to http://localhost:8080/ to see the sampled consensus results\n"
     ]
    }
   ],
=======
   "outputs": [],
>>>>>>> 8ee755d5098460da783aa91d7fc47946de69deea
   "source": [
    "anno_dir = ind_worker_dir\n",
    "amt_util.review_results(to_review, anno_dir)\n",
    "print 'posting to review tool, navigate to http://localhost:8080/ to see the sampled consensus results'"
   ]
  },
  {
   "cell_type": "markdown",
   "metadata": {
    "heading_collapsed": true
   },
   "source": [
    "### store cells"
   ]
  },
  {
   "cell_type": "code",
   "execution_count": 207,
   "metadata": {
    "collapsed": true,
    "hidden": true,
    "run_control": {
     "frozen": false,
     "read_only": false
    }
   },
   "outputs": [],
   "source": [
    "multi_choice_pages = consensus_results_df_complete[consensus_results_df_complete['category'] == 'Multiple Choice']\n",
    "pages_to_review =pd.unique(multi_choice_pages['page'])\n",
    "to_review = ['start_seq'] + pages_to_review.tolist()\n",
    "\n",
    "# consensus_results_df_complete = amt_util.make_consensus_df(results_df_question_batch, 'No Consensus')\n",
    "consensus_results_df_complete = combined_consensus_df\n",
    "\n",
    "# amt_util.write_results_df(consensus_results_df_complete, 'annotations-w-questions/' ,'labeled-questions/')\n",
    "\n",
    "spdf = results_df_question_batch[results_df_question_batch['page'] == 'Spectrum_Science_Grade_3_80.jpeg']\n",
    "\n",
    "amt_util.write_results_df(spdf, 'annotations-w-questions/', 'simpler-test-questions/')\n",
    "\n",
    "## all pages from the latest batch\n",
    "pages_to_review =pd.unique(consensus_results_df_complete['page'])\n",
    "to_review = ['start_seq'] + pages_to_review.tolist()\n",
    "\n",
    "# all pages from the latest batch with a no-consensus box\n",
    "# pages_to_review =pd.unique(no_consensus_hits['page'])\n",
    "\n",
    "pd.Series(to_review[1:]).to_pickle('rev_seq.pkl')\n",
    "\n",
    "single_page = ['Daily_Science_Grade_2_Evan_Moor_33.jpeg']\n",
    "\n",
    "problem_pages = pd.read_pickle('problem_pages.pkl').tolist()\n",
    "\n",
    "to_review = ['start_seq'] + problem_pages\n",
    "\n",
    "to_review = ['start_seq'] + single_page\n",
    "\n",
    "suspect_subset = combined_results_df[combined_results_df['worker_id'].isin(bad_and_prolific_to_review)]\n",
    "# suspect_subset = combined_results_df[combined_results_df['worker_id'].isin(['A3VE5OH94HYHET'])]\n",
    "amt_util.write_results_df(suspect_subset, 'annotations-w-questions/' ,'labeled-questions2/')\n",
    "pages_to_review = pd.unique(suspect_subset['page'])"
   ]
  },
  {
   "cell_type": "code",
   "execution_count": 150,
   "metadata": {
    "collapsed": true,
    "hidden": true,
    "run_control": {
     "frozen": false,
     "read_only": false
    }
   },
   "outputs": [],
   "source": [
    "## all pages from the latest batch\n",
    "pages_to_review =pd.unique(results_df_question_batch['page'])\n",
    "to_review = ['start_seq'] + pages_to_review.tolist()"
   ]
  },
  {
   "cell_type": "code",
   "execution_count": null,
   "metadata": {
    "collapsed": true,
    "hidden": true,
    "run_control": {
     "frozen": false,
     "read_only": false
    }
   },
   "outputs": [],
   "source": [
    "%%capture \n",
    "# all pages from the latest batch with a no-consensus box\n",
    "suspect_subset = results_df_current_batch[results_df_current_batch['worker_id'].isin(suspect_workers[:5])]\n",
    "amt_util.write_results_df(suspect_subset)\n",
    "pages_to_review = pd.unique(suspect_subset['page'])"
   ]
  },
  {
   "cell_type": "markdown",
   "metadata": {
    "heading_collapsed": true
   },
   "source": [
    "# Merging latest round of HITs into combined dataset  "
   ]
  },
  {
   "cell_type": "markdown",
   "metadata": {
    "heading_collapsed": true,
    "hidden": true
   },
   "source": [
    "## Load prior complete dataset if not in memory"
   ]
  },
  {
   "cell_type": "code",
   "execution_count": 17,
   "metadata": {
    "collapsed": true,
    "hidden": true,
    "run_control": {
     "frozen": false,
     "read_only": false
    }
   },
   "outputs": [],
   "source": [
    "data_pickled_dir = './store_hit_results_metadata/question_anno/group_latest_combined/' "
   ]
  },
  {
   "cell_type": "code",
   "execution_count": 18,
   "metadata": {
    "collapsed": false,
    "hidden": true,
    "run_control": {
     "frozen": false,
     "read_only": false
    }
   },
   "outputs": [],
   "source": [
    "combined_results_df = pd.read_pickle(data_pickled_dir + 'complete_df.pkl')\n",
    "combined_consensus_df = pd.read_pickle(data_pickled_dir + 'consensus_df.pkl')\n",
    "combined_consensus_with_workerid_df = pd.read_pickle(data_pickled_dir + 'consensus_df_w_workers.pkl') "
   ]
  },
  {
   "cell_type": "code",
   "execution_count": 19,
   "metadata": {
    "collapsed": false,
    "hidden": true,
    "run_control": {
     "frozen": false,
     "read_only": false
    }
   },
<<<<<<< HEAD
   "outputs": [
    {
     "data": {
      "text/plain": [
       "856"
      ]
     },
     "execution_count": 19,
     "metadata": {},
     "output_type": "execute_result"
    }
   ],
=======
   "outputs": [],
>>>>>>> 8ee755d5098460da783aa91d7fc47946de69deea
   "source": [
    "amt_util.count_pages_in_df(combined_consensus_with_workerid_df)"
   ]
  },
  {
   "cell_type": "markdown",
   "metadata": {
    "heading_collapsed": true,
    "hidden": true
   },
   "source": [
    "## Updating full dataset"
   ]
  },
  {
   "cell_type": "code",
   "execution_count": 15,
   "metadata": {
    "collapsed": false,
    "hidden": true,
    "run_control": {
     "frozen": false,
     "read_only": false
    }
   },
<<<<<<< HEAD
   "outputs": [
    {
     "ename": "NameError",
     "evalue": "name 'results_df_question_batch' is not defined",
     "output_type": "error",
     "traceback": [
      "\u001b[0;31m---------------------------------------------------------------------------\u001b[0m",
      "\u001b[0;31mNameError\u001b[0m                                 Traceback (most recent call last)",
      "\u001b[0;32m<ipython-input-15-200b6b31464a>\u001b[0m in \u001b[0;36m<module>\u001b[0;34m()\u001b[0m\n\u001b[0;32m----> 1\u001b[0;31m \u001b[0mcombined_results_df\u001b[0m \u001b[0;34m=\u001b[0m \u001b[0mresults_df_question_batch\u001b[0m\u001b[0;34m\u001b[0m\u001b[0m\n\u001b[0m\u001b[1;32m      2\u001b[0m \u001b[0mcombined_consensus_df\u001b[0m \u001b[0;34m=\u001b[0m \u001b[0mconsensus_results_df_complete\u001b[0m\u001b[0;34m\u001b[0m\u001b[0m\n\u001b[1;32m      3\u001b[0m \u001b[0mcombined_consensus_with_workerid_df\u001b[0m \u001b[0;34m=\u001b[0m \u001b[0mconsensus_with_workerid_df\u001b[0m\u001b[0;34m\u001b[0m\u001b[0m\n",
      "\u001b[0;31mNameError\u001b[0m: name 'results_df_question_batch' is not defined"
     ]
    }
   ],
=======
   "outputs": [],
>>>>>>> 8ee755d5098460da783aa91d7fc47946de69deea
   "source": [
    "combined_results_df = results_df_question_batch\n",
    "combined_consensus_df = consensus_results_df_complete\n",
    "combined_consensus_with_workerid_df = consensus_with_workerid_df"
   ]
  },
  {
   "cell_type": "markdown",
   "metadata": {
    "heading_collapsed": true,
    "hidden": true
   },
   "source": [
    "## Working with full dataset"
   ]
  },
  {
   "cell_type": "code",
   "execution_count": 16,
   "metadata": {
    "collapsed": true,
    "hidden": true,
    "run_control": {
     "frozen": false,
     "read_only": false
    }
   },
   "outputs": [],
   "source": [
    "%%capture\n",
    "no_consensus_hits = combined_consensus_df[combined_consensus_df['category'] == 'No Consensus']"
   ]
  },
  {
   "cell_type": "code",
   "execution_count": 964,
   "metadata": {
    "collapsed": false,
    "hidden": true,
    "run_control": {
     "frozen": false,
     "read_only": false
    }
   },
<<<<<<< HEAD
   "outputs": [
    {
     "name": "stdout",
     "output_type": "stream",
     "text": [
      "text boxes without consensus are 2.94% of the total\n"
     ]
    }
   ],
=======
   "outputs": [],
>>>>>>> 8ee755d5098460da783aa91d7fc47946de69deea
   "source": [
    "flaw_rate = len(no_consensus_hits) / len(combined_consensus_df)\n",
    "print 'text boxes without consensus are ' + '{0:0.2f}% '.format(flaw_rate * 100) + 'of the total'  "
   ]
  },
  {
   "cell_type": "code",
   "execution_count": 227,
   "metadata": {
    "collapsed": false,
    "hidden": true,
    "run_control": {
     "frozen": false,
     "read_only": false
    }
   },
<<<<<<< HEAD
   "outputs": [
    {
     "data": {
      "text/html": [
       "<div>\n",
       "<table border=\"1\" class=\"dataframe\">\n",
       "  <thead>\n",
       "    <tr style=\"text-align: right;\">\n",
       "      <th></th>\n",
       "      <th>submitted</th>\n",
       "      <th>incorrect</th>\n",
       "      <th>flaw_ratio</th>\n",
       "    </tr>\n",
       "  </thead>\n",
       "  <tbody>\n",
       "    <tr>\n",
       "      <th>A2HTN7HCNBQ8V4</th>\n",
       "      <td>130.0</td>\n",
       "      <td>2.0</td>\n",
       "      <td>0.015385</td>\n",
       "    </tr>\n",
       "    <tr>\n",
       "      <th>A3JOFB6Z65I37Q</th>\n",
       "      <td>124.0</td>\n",
       "      <td>2.0</td>\n",
       "      <td>0.016129</td>\n",
       "    </tr>\n",
       "    <tr>\n",
       "      <th>AEWGY34WUIA32</th>\n",
       "      <td>1538.0</td>\n",
       "      <td>40.0</td>\n",
       "      <td>0.026008</td>\n",
       "    </tr>\n",
       "    <tr>\n",
       "      <th>ASB8T0H7L99RF</th>\n",
       "      <td>507.0</td>\n",
       "      <td>14.0</td>\n",
       "      <td>0.027613</td>\n",
       "    </tr>\n",
       "    <tr>\n",
       "      <th>AMA18W8F60Y2J</th>\n",
       "      <td>100.0</td>\n",
       "      <td>3.0</td>\n",
       "      <td>0.030000</td>\n",
       "    </tr>\n",
       "    <tr>\n",
       "      <th>A2YY1ZR7Z4VT4M</th>\n",
       "      <td>1517.0</td>\n",
       "      <td>54.0</td>\n",
       "      <td>0.035597</td>\n",
       "    </tr>\n",
       "    <tr>\n",
       "      <th>AJFVK3O1D7SPE</th>\n",
       "      <td>1114.0</td>\n",
       "      <td>41.0</td>\n",
       "      <td>0.036804</td>\n",
       "    </tr>\n",
       "    <tr>\n",
       "      <th>A1S8DYWNS59XWB</th>\n",
       "      <td>728.0</td>\n",
       "      <td>28.0</td>\n",
       "      <td>0.038462</td>\n",
       "    </tr>\n",
       "    <tr>\n",
       "      <th>AJ7D7M9EHDQCL</th>\n",
       "      <td>489.0</td>\n",
       "      <td>19.0</td>\n",
       "      <td>0.038855</td>\n",
       "    </tr>\n",
       "    <tr>\n",
       "      <th>A2PEIHMPPOB1YJ</th>\n",
       "      <td>641.0</td>\n",
       "      <td>25.0</td>\n",
       "      <td>0.039002</td>\n",
       "    </tr>\n",
       "    <tr>\n",
       "      <th>A31XEDSR8OY87H</th>\n",
       "      <td>2036.0</td>\n",
       "      <td>80.0</td>\n",
       "      <td>0.039293</td>\n",
       "    </tr>\n",
       "    <tr>\n",
       "      <th>A2RSOGTSR83XKO</th>\n",
       "      <td>4812.0</td>\n",
       "      <td>195.0</td>\n",
       "      <td>0.040524</td>\n",
       "    </tr>\n",
       "    <tr>\n",
       "      <th>A1GG77WVYNWZ8R</th>\n",
       "      <td>365.0</td>\n",
       "      <td>15.0</td>\n",
       "      <td>0.041096</td>\n",
       "    </tr>\n",
       "    <tr>\n",
       "      <th>A1ZWX5GOC7VPIL</th>\n",
       "      <td>96.0</td>\n",
       "      <td>4.0</td>\n",
       "      <td>0.041667</td>\n",
       "    </tr>\n",
       "    <tr>\n",
       "      <th>A1KCK9I7GD6KAU</th>\n",
       "      <td>428.0</td>\n",
       "      <td>18.0</td>\n",
       "      <td>0.042056</td>\n",
       "    </tr>\n",
       "    <tr>\n",
       "      <th>A13XHSTP6QMFV7</th>\n",
       "      <td>111.0</td>\n",
       "      <td>5.0</td>\n",
       "      <td>0.045045</td>\n",
       "    </tr>\n",
       "    <tr>\n",
       "      <th>A3FR8XRR269X70</th>\n",
       "      <td>123.0</td>\n",
       "      <td>6.0</td>\n",
       "      <td>0.048780</td>\n",
       "    </tr>\n",
       "    <tr>\n",
       "      <th>A26A4SN8CN0TTW</th>\n",
       "      <td>582.0</td>\n",
       "      <td>29.0</td>\n",
       "      <td>0.049828</td>\n",
       "    </tr>\n",
       "    <tr>\n",
       "      <th>A3M00KCD7YZ177</th>\n",
       "      <td>1928.0</td>\n",
       "      <td>98.0</td>\n",
       "      <td>0.050830</td>\n",
       "    </tr>\n",
       "    <tr>\n",
       "      <th>AB1RF17U3HM3W</th>\n",
       "      <td>2157.0</td>\n",
       "      <td>110.0</td>\n",
       "      <td>0.050997</td>\n",
       "    </tr>\n",
       "    <tr>\n",
       "      <th>A1EQ2HDHF2WWSY</th>\n",
       "      <td>2345.0</td>\n",
       "      <td>122.0</td>\n",
       "      <td>0.052026</td>\n",
       "    </tr>\n",
       "    <tr>\n",
       "      <th>A356GXVAYWN0DV</th>\n",
       "      <td>249.0</td>\n",
       "      <td>13.0</td>\n",
       "      <td>0.052209</td>\n",
       "    </tr>\n",
       "    <tr>\n",
       "      <th>A2HHQJVM3JJQ8F</th>\n",
       "      <td>57.0</td>\n",
       "      <td>3.0</td>\n",
       "      <td>0.052632</td>\n",
       "    </tr>\n",
       "    <tr>\n",
       "      <th>A230N919X9GWNN</th>\n",
       "      <td>4323.0</td>\n",
       "      <td>230.0</td>\n",
       "      <td>0.053204</td>\n",
       "    </tr>\n",
       "    <tr>\n",
       "      <th>A6QMYJ1FWU9QA</th>\n",
       "      <td>168.0</td>\n",
       "      <td>9.0</td>\n",
       "      <td>0.053571</td>\n",
       "    </tr>\n",
       "  </tbody>\n",
       "</table>\n",
       "</div>"
      ],
      "text/plain": [
       "                submitted  incorrect  flaw_ratio\n",
       "A2HTN7HCNBQ8V4      130.0        2.0    0.015385\n",
       "A3JOFB6Z65I37Q      124.0        2.0    0.016129\n",
       "AEWGY34WUIA32      1538.0       40.0    0.026008\n",
       "ASB8T0H7L99RF       507.0       14.0    0.027613\n",
       "AMA18W8F60Y2J       100.0        3.0    0.030000\n",
       "A2YY1ZR7Z4VT4M     1517.0       54.0    0.035597\n",
       "AJFVK3O1D7SPE      1114.0       41.0    0.036804\n",
       "A1S8DYWNS59XWB      728.0       28.0    0.038462\n",
       "AJ7D7M9EHDQCL       489.0       19.0    0.038855\n",
       "A2PEIHMPPOB1YJ      641.0       25.0    0.039002\n",
       "A31XEDSR8OY87H     2036.0       80.0    0.039293\n",
       "A2RSOGTSR83XKO     4812.0      195.0    0.040524\n",
       "A1GG77WVYNWZ8R      365.0       15.0    0.041096\n",
       "A1ZWX5GOC7VPIL       96.0        4.0    0.041667\n",
       "A1KCK9I7GD6KAU      428.0       18.0    0.042056\n",
       "A13XHSTP6QMFV7      111.0        5.0    0.045045\n",
       "A3FR8XRR269X70      123.0        6.0    0.048780\n",
       "A26A4SN8CN0TTW      582.0       29.0    0.049828\n",
       "A3M00KCD7YZ177     1928.0       98.0    0.050830\n",
       "AB1RF17U3HM3W      2157.0      110.0    0.050997\n",
       "A1EQ2HDHF2WWSY     2345.0      122.0    0.052026\n",
       "A356GXVAYWN0DV      249.0       13.0    0.052209\n",
       "A2HHQJVM3JJQ8F       57.0        3.0    0.052632\n",
       "A230N919X9GWNN     4323.0      230.0    0.053204\n",
       "A6QMYJ1FWU9QA       168.0        9.0    0.053571"
      ]
     },
     "execution_count": 227,
     "metadata": {},
     "output_type": "execute_result"
    }
   ],
=======
   "outputs": [],
>>>>>>> 8ee755d5098460da783aa91d7fc47946de69deea
   "source": [
    "worker_quality_df[worker_quality_df['submitted'] > 50].sort_values('flaw_ratio', ascending= True).head(25)"
   ]
  },
  {
   "cell_type": "code",
   "execution_count": 205,
   "metadata": {
    "collapsed": false,
    "hidden": true,
    "run_control": {
     "frozen": false,
     "read_only": false
    }
   },
<<<<<<< HEAD
   "outputs": [
    {
     "data": {
      "text/html": [
       "<div>\n",
       "<table border=\"1\" class=\"dataframe\">\n",
       "  <thead>\n",
       "    <tr style=\"text-align: right;\">\n",
       "      <th></th>\n",
       "      <th>submitted</th>\n",
       "      <th>incorrect</th>\n",
       "      <th>flaw_ratio</th>\n",
       "    </tr>\n",
       "  </thead>\n",
       "  <tbody>\n",
       "    <tr>\n",
       "      <th>A2KM2RWXQV47CV</th>\n",
       "      <td>2900.0</td>\n",
       "      <td>2093.0</td>\n",
       "      <td>0.721724</td>\n",
       "    </tr>\n",
       "    <tr>\n",
       "      <th>A16EEWCUQK9LM2</th>\n",
       "      <td>1069.0</td>\n",
       "      <td>446.0</td>\n",
       "      <td>0.417212</td>\n",
       "    </tr>\n",
       "    <tr>\n",
       "      <th>A1QZHZZMO2TE51</th>\n",
       "      <td>582.0</td>\n",
       "      <td>215.0</td>\n",
       "      <td>0.369416</td>\n",
       "    </tr>\n",
       "    <tr>\n",
       "      <th>A2XJH3WC02RMXQ</th>\n",
       "      <td>134.0</td>\n",
       "      <td>87.0</td>\n",
       "      <td>0.649254</td>\n",
       "    </tr>\n",
       "    <tr>\n",
       "      <th>AQE7EQDM98KB7</th>\n",
       "      <td>154.0</td>\n",
       "      <td>47.0</td>\n",
       "      <td>0.305195</td>\n",
       "    </tr>\n",
       "    <tr>\n",
       "      <th>A18DRAESIN3E94</th>\n",
       "      <td>112.0</td>\n",
       "      <td>43.0</td>\n",
       "      <td>0.383929</td>\n",
       "    </tr>\n",
       "    <tr>\n",
       "      <th>A8TDOYC7FWWKR</th>\n",
       "      <td>67.0</td>\n",
       "      <td>36.0</td>\n",
       "      <td>0.537313</td>\n",
       "    </tr>\n",
       "    <tr>\n",
       "      <th>A9Y1HKUEOOEPM</th>\n",
       "      <td>49.0</td>\n",
       "      <td>35.0</td>\n",
       "      <td>0.714286</td>\n",
       "    </tr>\n",
       "    <tr>\n",
       "      <th>A1EGJ4WHHIU61V</th>\n",
       "      <td>45.0</td>\n",
       "      <td>24.0</td>\n",
       "      <td>0.533333</td>\n",
       "    </tr>\n",
       "    <tr>\n",
       "      <th>A1ESKJFDQUMBL4</th>\n",
       "      <td>68.0</td>\n",
       "      <td>23.0</td>\n",
       "      <td>0.338235</td>\n",
       "    </tr>\n",
       "    <tr>\n",
       "      <th>A24DYXCGZQUZUQ</th>\n",
       "      <td>31.0</td>\n",
       "      <td>23.0</td>\n",
       "      <td>0.741935</td>\n",
       "    </tr>\n",
       "    <tr>\n",
       "      <th>AGKUZPBBPK7X9</th>\n",
       "      <td>51.0</td>\n",
       "      <td>21.0</td>\n",
       "      <td>0.411765</td>\n",
       "    </tr>\n",
       "    <tr>\n",
       "      <th>A2V4PRG5UBNIX0</th>\n",
       "      <td>27.0</td>\n",
       "      <td>20.0</td>\n",
       "      <td>0.740741</td>\n",
       "    </tr>\n",
       "    <tr>\n",
       "      <th>A3VE5OH94HYHET</th>\n",
       "      <td>30.0</td>\n",
       "      <td>16.0</td>\n",
       "      <td>0.533333</td>\n",
       "    </tr>\n",
       "    <tr>\n",
       "      <th>AZE084MMZVEYT</th>\n",
       "      <td>26.0</td>\n",
       "      <td>15.0</td>\n",
       "      <td>0.576923</td>\n",
       "    </tr>\n",
       "  </tbody>\n",
       "</table>\n",
       "</div>"
      ],
      "text/plain": [
       "                submitted  incorrect  flaw_ratio\n",
       "A2KM2RWXQV47CV     2900.0     2093.0    0.721724\n",
       "A16EEWCUQK9LM2     1069.0      446.0    0.417212\n",
       "A1QZHZZMO2TE51      582.0      215.0    0.369416\n",
       "A2XJH3WC02RMXQ      134.0       87.0    0.649254\n",
       "AQE7EQDM98KB7       154.0       47.0    0.305195\n",
       "A18DRAESIN3E94      112.0       43.0    0.383929\n",
       "A8TDOYC7FWWKR        67.0       36.0    0.537313\n",
       "A9Y1HKUEOOEPM        49.0       35.0    0.714286\n",
       "A1EGJ4WHHIU61V       45.0       24.0    0.533333\n",
       "A1ESKJFDQUMBL4       68.0       23.0    0.338235\n",
       "A24DYXCGZQUZUQ       31.0       23.0    0.741935\n",
       "AGKUZPBBPK7X9        51.0       21.0    0.411765\n",
       "A2V4PRG5UBNIX0       27.0       20.0    0.740741\n",
       "A3VE5OH94HYHET       30.0       16.0    0.533333\n",
       "AZE084MMZVEYT        26.0       15.0    0.576923"
      ]
     },
     "execution_count": 205,
     "metadata": {},
     "output_type": "execute_result"
    }
   ],
=======
   "outputs": [],
>>>>>>> 8ee755d5098460da783aa91d7fc47946de69deea
   "source": [
    "bad_and_prolific_workers[:15]"
   ]
  },
  {
   "cell_type": "markdown",
   "metadata": {
    "hidden": true
   },
   "source": [
    "After looking through the top few offenders, it's clear that \n",
    "\n",
    "1. the very worst intentionally submitted many blank pages\n",
    "\n",
    "2. the rest didn't read the directions very closely\n",
    "\n",
    "3. I'm comfortable rejecting the work of those with > 100 submissions\n",
    "\n",
    "4. I'll ban the worst 15 from future HITs\n"
   ]
  },
  {
   "cell_type": "code",
   "execution_count": 49,
   "metadata": {
    "collapsed": true,
    "hidden": true,
    "run_control": {
     "frozen": false,
     "read_only": false
    }
   },
   "outputs": [],
   "source": [
    "amt_util.write_results_df(combined_consensus_df)"
   ]
  },
  {
   "cell_type": "code",
   "execution_count": 45,
   "metadata": {
    "collapsed": true,
    "hidden": true,
    "run_control": {
     "frozen": false,
     "read_only": false
    }
   },
   "outputs": [],
   "source": [
    "# all pages from the complete\n",
    "pages_to_review =pd.unique(combined_consensus_df['page'])"
   ]
  },
  {
   "cell_type": "code",
   "execution_count": 165,
   "metadata": {
    "collapsed": true,
    "hidden": true,
    "run_control": {
     "frozen": false,
     "read_only": false
    }
   },
   "outputs": [],
   "source": [
    "# all pages from the complete dataset with a no-consensus box\n",
    "pages_to_review =pd.unique(no_consensus_hits['page'])"
   ]
  },
  {
   "cell_type": "code",
   "execution_count": 208,
   "metadata": {
    "collapsed": false,
    "hidden": true,
    "run_control": {
     "frozen": false,
     "read_only": false
    }
   },
   "outputs": [],
   "source": [
    "%%capture \n",
    "# all pages from the latest batch with a no-consensus box\n",
    "suspect_subset = combined_results_df[combined_results_df['worker_id'].isin(bad_and_prolific_to_review[10:15])]\n",
    "amt_util.write_results_df(suspect_subset)\n",
    "pages_to_review = pd.unique(suspect_subset['page'])"
   ]
  },
  {
   "cell_type": "code",
   "execution_count": 50,
   "metadata": {
    "collapsed": false,
    "hidden": true,
    "run_control": {
     "frozen": false,
     "read_only": false
    }
   },
<<<<<<< HEAD
   "outputs": [
    {
     "name": "stdout",
     "output_type": "stream",
     "text": [
      "sampling 404 pages out of 2022\n"
     ]
    }
   ],
=======
   "outputs": [],
>>>>>>> 8ee755d5098460da783aa91d7fc47946de69deea
   "source": [
    "sampling_rate = 0.2\n",
    "sample_size = int(len(pages_to_review) * sampling_rate)\n",
    "sampled_pages_to_review = list(np.random.choice(pages_to_review, size= sample_size, replace=False))\n",
    "print 'sampling ' + str(sample_size) + ' pages out of ' + str(len(pages_to_review))\n",
    "to_review = ['start_seq'] + sampled_pages_to_review"
   ]
  },
  {
   "cell_type": "code",
   "execution_count": 51,
   "metadata": {
    "collapsed": false,
    "hidden": true,
    "run_control": {
     "frozen": false,
     "read_only": false
    }
   },
<<<<<<< HEAD
   "outputs": [
    {
     "name": "stdout",
     "output_type": "stream",
     "text": [
      "posting to review tool, navigate to http://localhost:8080/ to see the sampled consensus results\n"
     ]
    }
   ],
=======
   "outputs": [],
>>>>>>> 8ee755d5098460da783aa91d7fc47946de69deea
   "source": [
    "amt_util.review_results(to_review)\n",
    "print 'posting to review tool, navigate to http://localhost:8080/ to see the sampled consensus results'"
   ]
  },
  {
   "cell_type": "markdown",
<<<<<<< HEAD
   "metadata": {
    "heading_collapsed": true
   },
=======
   "metadata": {},
>>>>>>> 8ee755d5098460da783aa91d7fc47946de69deea
   "source": [
    "# Worker Analysis"
   ]
  },
  {
   "cell_type": "markdown",
   "metadata": {
<<<<<<< HEAD
    "heading_collapsed": true,
    "hidden": true
=======
    "heading_collapsed": true
>>>>>>> 8ee755d5098460da783aa91d7fc47946de69deea
   },
   "source": [
    "## Basic worker stats"
   ]
  },
  {
   "cell_type": "code",
   "execution_count": 209,
   "metadata": {
    "collapsed": false,
    "hidden": true,
    "run_control": {
     "frozen": false,
     "read_only": false
    }
   },
   "outputs": [],
   "source": [
    "consensus_with_workerid_df = amt_util.make_consensus_df_w_worker_id(results_df_question_batch, consensus_results_df_current_batch)"
   ]
  },
  {
   "cell_type": "code",
   "execution_count": 250,
   "metadata": {
    "collapsed": false,
    "hidden": true,
    "run_control": {
     "frozen": false,
     "read_only": false
    },
    "scrolled": true
   },
<<<<<<< HEAD
   "outputs": [
    {
     "name": "stdout",
     "output_type": "stream",
     "text": [
      "number of unique workers: 59\n"
     ]
    }
   ],
=======
   "outputs": [],
>>>>>>> 8ee755d5098460da783aa91d7fc47946de69deea
   "source": [
    "print 'number of unique workers:', pd.unique(results_df_question_batch['worker_id']).shape[0]"
   ]
  },
  {
   "cell_type": "code",
   "execution_count": 212,
   "metadata": {
    "collapsed": true,
    "hidden": true,
    "run_control": {
     "frozen": false,
     "read_only": false
    }
   },
<<<<<<< HEAD
   "outputs": [
    {
     "data": {
      "image/png": "iVBORw0KGgoAAAANSUhEUgAAA6gAAAJPCAYAAABxd/mmAAAABHNCSVQICAgIfAhkiAAAAAlwSFlz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\njgAAAABJRU5ErkJggg==\n",
      "text/plain": [
       "<matplotlib.figure.Figure at 0x108319350>"
      ]
     },
     "metadata": {},
     "output_type": "display_data"
    }
   ],
=======
   "outputs": [],
>>>>>>> 8ee755d5098460da783aa91d7fc47946de69deea
   "source": [
    "_ = results_df_question_batch['worker_id'].value_counts().hist(bins= 30)"
   ]
  },
  {
   "cell_type": "markdown",
   "metadata": {
    "heading_collapsed": true,
    "hidden": true
   },
   "source": [
    "### HIT duration for pricing"
   ]
  },
  {
   "cell_type": "code",
   "execution_count": 213,
   "metadata": {
    "collapsed": false,
    "hidden": true,
    "run_control": {
     "frozen": false,
     "read_only": false
    }
   },
   "outputs": [],
   "source": [
    "task_duration_seconds = []\n",
    "for hit_id, assignments in assignment_results_current_batch.items():\n",
    "    for assignment in assignments:\n",
    "        hit_duration = dt_parse.parse(assignment.SubmitTime) - dt_parse.parse(assignment.AcceptTime)\n",
    "        task_duration_seconds.append(hit_duration.seconds)"
   ]
  },
  {
   "cell_type": "code",
   "execution_count": 214,
   "metadata": {
    "collapsed": false,
    "hidden": true,
    "run_control": {
     "frozen": false,
     "read_only": false
    }
   },
   "outputs": [],
   "source": [
    "task_duration_series = pd.Series(task_duration_seconds)"
   ]
  },
  {
   "cell_type": "code",
   "execution_count": 94,
   "metadata": {
    "collapsed": true,
    "hidden": true,
    "run_control": {
     "frozen": false,
     "read_only": false
    }
   },
<<<<<<< HEAD
   "outputs": [
    {
     "data": {
      "image/png": "iVBORw0KGgoAAAANSUhEUgAAA7IAAAJRCAYAAAB4J4tsAAAABHNCSVQICAgIfAhkiAAAAAlwSFlz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\npQAAAABJRU5ErkJggg==\n",
      "text/plain": [
       "<matplotlib.figure.Figure at 0x113e1c3d0>"
      ]
     },
     "metadata": {},
     "output_type": "display_data"
    }
   ],
=======
   "outputs": [],
>>>>>>> 8ee755d5098460da783aa91d7fc47946de69deea
   "source": [
    "_ = task_duration_series.hist(bins=30, log=True)"
   ]
  },
  {
   "cell_type": "code",
   "execution_count": 220,
   "metadata": {
    "collapsed": false,
    "hidden": true,
    "run_control": {
     "frozen": false,
     "read_only": false
    }
   },
   "outputs": [],
   "source": [
    "winsorized_durations = [t for t in task_duration_seconds if t < 150]\n",
    "w_duration_series = pd.Series(winsorized_durations)"
   ]
  },
  {
   "cell_type": "code",
   "execution_count": 221,
   "metadata": {
    "collapsed": false,
    "hidden": true,
    "run_control": {
     "frozen": false,
     "read_only": false
    }
   },
<<<<<<< HEAD
   "outputs": [
    {
     "data": {
      "image/png": "iVBORw0KGgoAAAANSUhEUgAAA+8AAAKvCAYAAAAbVf79AAAABHNCSVQICAgIfAhkiAAAAAlwSFlz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\n7v8D2WZiDgnGkMsAAAAASUVORK5CYII=\n",
      "text/plain": [
       "<matplotlib.figure.Figure at 0x1065b9ad0>"
      ]
     },
     "metadata": {},
     "output_type": "display_data"
    }
   ],
=======
   "outputs": [],
>>>>>>> 8ee755d5098460da783aa91d7fc47946de69deea
   "source": [
    "_ = pd.Series(w_duration_series).hist(bins=60)\n",
    "plt.title('Worker task duration', fontsize=50, verticalalignment='bottom', color = b16_colors.b)\n",
    "plt.ylabel(\"Number of Workers\", fontsize=30, labelpad=10, color = b16_colors.b)\n",
    "plt.xlabel(\"Seconds Spent on HIT\", fontsize=30, labelpad=10, color = b16_colors.b)\n",
    "plt.tick_params(axis='x', which='major', labelsize=20)\n",
    "plt.tick_params(axis='y', which='major', labelsize=20)"
   ]
  },
  {
   "cell_type": "code",
   "execution_count": 224,
   "metadata": {
    "collapsed": false,
    "hidden": true,
    "run_control": {
     "frozen": false,
     "read_only": false
    }
   },
<<<<<<< HEAD
   "outputs": [
    {
     "name": "stdout",
     "output_type": "stream",
     "text": [
      "duration mode= 18\n",
      "duration median= 27.0\n"
     ]
    }
   ],
=======
   "outputs": [],
>>>>>>> 8ee755d5098460da783aa91d7fc47946de69deea
   "source": [
    "dur_mode = w_duration_series.mode().values[0]\n",
    "dur_median = w_duration_series.median()\n",
    "print 'duration mode= ' + str(dur_mode)\n",
    "print 'duration median= ' + str(dur_median)"
   ]
  },
  {
   "cell_type": "markdown",
   "metadata": {
    "heading_collapsed": true,
    "hidden": true
   },
   "source": [
    "### HIT pricing check"
   ]
  },
  {
   "cell_type": "markdown",
   "metadata": {
    "hidden": true
   },
   "source": [
    "We'd like the effective hourly rate to be between 10-12 dollars. This is considered equitable in the world of mechanical turk."
   ]
  },
  {
   "cell_type": "code",
   "execution_count": 241,
   "metadata": {
    "collapsed": false,
    "hidden": true,
    "run_control": {
     "frozen": false,
     "read_only": false
    }
   },
<<<<<<< HEAD
   "outputs": [
    {
     "name": "stdout",
     "output_type": "stream",
     "text": [
      "effective hourly rate = $ 8.0 to 12.0\n"
     ]
    }
   ],
=======
   "outputs": [],
>>>>>>> 8ee755d5098460da783aa91d7fc47946de69deea
   "source": [
    "hits_per_hour_high = 3600 / dur_mode\n",
    "hits_per_hour_low = 3600 / dur_median\n",
    "print 'effective hourly rate = $', hits_per_hour_low * static_params['amount'], 'to' , hits_per_hour_high * static_params['amount']"
   ]
  },
  {
   "cell_type": "markdown",
<<<<<<< HEAD
   "metadata": {
    "hidden": true
   },
=======
   "metadata": {},
>>>>>>> 8ee755d5098460da783aa91d7fc47946de69deea
   "source": [
    "## Identifying high and low consensus workers"
   ]
  },
  {
   "cell_type": "markdown",
   "metadata": {
<<<<<<< HEAD
    "heading_collapsed": true,
    "hidden": true
=======
    "heading_collapsed": true
>>>>>>> 8ee755d5098460da783aa91d7fc47946de69deea
   },
   "source": [
    "### high"
   ]
  },
  {
   "cell_type": "code",
   "execution_count": 244,
   "metadata": {
    "collapsed": false,
    "hidden": true,
    "run_control": {
     "frozen": false,
     "read_only": false
    }
   },
<<<<<<< HEAD
   "outputs": [
    {
     "data": {
      "text/html": [
       "<div>\n",
       "<table border=\"1\" class=\"dataframe\">\n",
       "  <thead>\n",
       "    <tr style=\"text-align: right;\">\n",
       "      <th></th>\n",
       "      <th>submitted</th>\n",
       "      <th>incorrect</th>\n",
       "      <th>flaw_ratio</th>\n",
       "    </tr>\n",
       "  </thead>\n",
       "  <tbody>\n",
       "    <tr>\n",
       "      <th>A333STM8M95GJX</th>\n",
       "      <td>95.0</td>\n",
       "      <td>1.0</td>\n",
       "      <td>0.010526</td>\n",
       "    </tr>\n",
       "    <tr>\n",
       "      <th>ARX0S1CIDJLOX</th>\n",
       "      <td>57.0</td>\n",
       "      <td>1.0</td>\n",
       "      <td>0.017544</td>\n",
       "    </tr>\n",
       "    <tr>\n",
       "      <th>ANXJRYZDKHNDV</th>\n",
       "      <td>208.0</td>\n",
       "      <td>4.0</td>\n",
       "      <td>0.019231</td>\n",
       "    </tr>\n",
       "    <tr>\n",
       "      <th>A3LWZN4N916T8L</th>\n",
       "      <td>202.0</td>\n",
       "      <td>4.0</td>\n",
       "      <td>0.019802</td>\n",
       "    </tr>\n",
       "    <tr>\n",
       "      <th>A3UUH3632AI3ZX</th>\n",
       "      <td>4113.0</td>\n",
       "      <td>107.0</td>\n",
       "      <td>0.026015</td>\n",
       "    </tr>\n",
       "    <tr>\n",
       "      <th>A1U0GNE5ELW5V7</th>\n",
       "      <td>1739.0</td>\n",
       "      <td>48.0</td>\n",
       "      <td>0.027602</td>\n",
       "    </tr>\n",
       "    <tr>\n",
       "      <th>A2QYTNTTER3YDI</th>\n",
       "      <td>100.0</td>\n",
       "      <td>3.0</td>\n",
       "      <td>0.030000</td>\n",
       "    </tr>\n",
       "    <tr>\n",
       "      <th>A3PKASGUIIYNXU</th>\n",
       "      <td>483.0</td>\n",
       "      <td>16.0</td>\n",
       "      <td>0.033126</td>\n",
       "    </tr>\n",
       "    <tr>\n",
       "      <th>A1IWW7TKKQYOL3</th>\n",
       "      <td>700.0</td>\n",
       "      <td>25.0</td>\n",
       "      <td>0.035714</td>\n",
       "    </tr>\n",
       "    <tr>\n",
       "      <th>A1MJECBV45AP5O</th>\n",
       "      <td>1253.0</td>\n",
       "      <td>46.0</td>\n",
       "      <td>0.036712</td>\n",
       "    </tr>\n",
       "  </tbody>\n",
       "</table>\n",
       "</div>"
      ],
      "text/plain": [
       "                submitted  incorrect  flaw_ratio\n",
       "A333STM8M95GJX       95.0        1.0    0.010526\n",
       "ARX0S1CIDJLOX        57.0        1.0    0.017544\n",
       "ANXJRYZDKHNDV       208.0        4.0    0.019231\n",
       "A3LWZN4N916T8L      202.0        4.0    0.019802\n",
       "A3UUH3632AI3ZX     4113.0      107.0    0.026015\n",
       "A1U0GNE5ELW5V7     1739.0       48.0    0.027602\n",
       "A2QYTNTTER3YDI      100.0        3.0    0.030000\n",
       "A3PKASGUIIYNXU      483.0       16.0    0.033126\n",
       "A1IWW7TKKQYOL3      700.0       25.0    0.035714\n",
       "A1MJECBV45AP5O     1253.0       46.0    0.036712"
      ]
     },
     "execution_count": 244,
     "metadata": {},
     "output_type": "execute_result"
    }
   ],
=======
   "outputs": [],
>>>>>>> 8ee755d5098460da783aa91d7fc47946de69deea
   "source": [
    "worker_conflicts = consensus_with_workerid_df[consensus_with_workerid_df['category'] != consensus_with_workerid_df['consensus_category']]\n",
    "all_worker_counts = results_df_question_batch['worker_id'].value_counts()\n",
    "bad_worker_counts = worker_conflicts['worker_id'].value_counts()\n",
    "worker_quality_df = pd.DataFrame([all_worker_counts, bad_worker_counts]).T\n",
    "worker_quality_df.columns=['submitted', 'incorrect']\n",
    "worker_quality_df['flaw_ratio'] = worker_quality_df['incorrect']/worker_quality_df['submitted']\n",
    "good_workers = worker_quality_df.sort_values('flaw_ratio', ascending= True).index.tolist()\n",
    "\n",
    "worker_quality_df.sort_values('flaw_ratio', ascending= True).head(10)"
   ]
  },
  {
   "cell_type": "code",
   "execution_count": 263,
   "metadata": {
    "collapsed": false,
    "hidden": true,
    "run_control": {
     "frozen": false,
     "read_only": false
    }
   },
   "outputs": [],
   "source": [
    "good_and_prolific_workers = worker_quality_df.sort_values('flaw_ratio', ascending= True).head(10).index.tolist()"
   ]
  },
  {
   "cell_type": "markdown",
   "metadata": {
    "hidden": true
   },
   "source": [
    "I became concerned that I missed the perfect performers, but as I suspected perfect workers only did 1-2 HITs at most"
   ]
  },
  {
   "cell_type": "code",
   "execution_count": 66,
   "metadata": {
    "collapsed": false,
    "hidden": true,
    "run_control": {
     "frozen": false,
     "read_only": false
    }
   },
   "outputs": [],
   "source": [
    "# aw_set = set(all_worker_counts.index)\n",
    "# bw_set = set(bad_worker_counts.index)\n",
    "# flawless_workers = list(aw_set.difference(bw_set))\n",
    "# all_worker_counts[all_worker_counts.index.isin(best_workers)]"
   ]
  },
  {
   "cell_type": "markdown",
   "metadata": {
<<<<<<< HEAD
    "heading_collapsed": true,
    "hidden": true
=======
    "heading_collapsed": true
>>>>>>> 8ee755d5098460da783aa91d7fc47946de69deea
   },
   "source": [
    "### low"
   ]
  },
  {
   "cell_type": "code",
   "execution_count": 292,
   "metadata": {
    "collapsed": false,
    "hidden": true,
    "run_control": {
     "frozen": false,
     "read_only": false
    }
   },
   "outputs": [],
   "source": [
    "bad_and_prolific_workers = worker_quality_df.sort_values('flaw_ratio', ascending= False).head(25).sort_values('incorrect', ascending= False)"
   ]
  },
  {
   "cell_type": "code",
<<<<<<< HEAD
   "execution_count": 396,
=======
   "execution_count": 362,
>>>>>>> 8ee755d5098460da783aa91d7fc47946de69deea
   "metadata": {
    "collapsed": false,
    "hidden": true,
    "run_control": {
     "frozen": false,
     "read_only": false
    }
   },
   "outputs": [],
   "source": [
<<<<<<< HEAD
    "bad_and_prolific_to_review = list(bad_and_prolific_workers[:10].index)\n",
=======
    "bad_and_prolific_to_review = list(bad_and_prolific_workers[:5].index)\n",
>>>>>>> 8ee755d5098460da783aa91d7fc47946de69deea
    "really_bad_workers_to_review = list(really_bad_workers[:5].index)"
   ]
  },
  {
   "cell_type": "code",
   "execution_count": 294,
   "metadata": {
    "collapsed": false,
    "hidden": true,
    "run_control": {
     "frozen": false,
     "read_only": false
    }
   },
<<<<<<< HEAD
   "outputs": [
    {
     "data": {
      "text/html": [
       "<div>\n",
       "<table border=\"1\" class=\"dataframe\">\n",
       "  <thead>\n",
       "    <tr style=\"text-align: right;\">\n",
       "      <th></th>\n",
       "      <th>submitted</th>\n",
       "      <th>incorrect</th>\n",
       "      <th>flaw_ratio</th>\n",
       "    </tr>\n",
       "  </thead>\n",
       "  <tbody>\n",
       "    <tr>\n",
       "      <th>A2L7S6RZOZ6NM9</th>\n",
       "      <td>708.0</td>\n",
       "      <td>256.0</td>\n",
       "      <td>0.361582</td>\n",
       "    </tr>\n",
       "    <tr>\n",
       "      <th>A2DVFA1B7NMN0F</th>\n",
       "      <td>1339.0</td>\n",
       "      <td>255.0</td>\n",
       "      <td>0.190441</td>\n",
       "    </tr>\n",
       "    <tr>\n",
       "      <th>AW0E5C6MWDVSU</th>\n",
       "      <td>916.0</td>\n",
       "      <td>237.0</td>\n",
       "      <td>0.258734</td>\n",
       "    </tr>\n",
       "    <tr>\n",
       "      <th>A1OIITZ4Z8WEW</th>\n",
       "      <td>342.0</td>\n",
       "      <td>74.0</td>\n",
       "      <td>0.216374</td>\n",
       "    </tr>\n",
       "    <tr>\n",
       "      <th>A3SS1F4F3JE7CU</th>\n",
       "      <td>303.0</td>\n",
       "      <td>66.0</td>\n",
       "      <td>0.217822</td>\n",
       "    </tr>\n",
       "    <tr>\n",
       "      <th>A1YNSX11UM84SZ</th>\n",
       "      <td>192.0</td>\n",
       "      <td>61.0</td>\n",
       "      <td>0.317708</td>\n",
       "    </tr>\n",
       "    <tr>\n",
       "      <th>AS8LR974AUO00</th>\n",
       "      <td>192.0</td>\n",
       "      <td>52.0</td>\n",
       "      <td>0.270833</td>\n",
       "    </tr>\n",
       "    <tr>\n",
       "      <th>A2VN5QUXOTVV81</th>\n",
       "      <td>365.0</td>\n",
       "      <td>50.0</td>\n",
       "      <td>0.136986</td>\n",
       "    </tr>\n",
       "    <tr>\n",
       "      <th>A2SVNXNMD7E7EH</th>\n",
       "      <td>312.0</td>\n",
       "      <td>40.0</td>\n",
       "      <td>0.128205</td>\n",
       "    </tr>\n",
       "    <tr>\n",
       "      <th>A1Y9VA9FKJLS5K</th>\n",
       "      <td>69.0</td>\n",
       "      <td>25.0</td>\n",
       "      <td>0.362319</td>\n",
       "    </tr>\n",
       "    <tr>\n",
       "      <th>A31PGUL7BLBY6I</th>\n",
       "      <td>147.0</td>\n",
       "      <td>20.0</td>\n",
       "      <td>0.136054</td>\n",
       "    </tr>\n",
       "    <tr>\n",
       "      <th>A39J5RLVDTM6SM</th>\n",
       "      <td>101.0</td>\n",
       "      <td>18.0</td>\n",
       "      <td>0.178218</td>\n",
       "    </tr>\n",
       "    <tr>\n",
       "      <th>A3I1AAGZSOFESV</th>\n",
       "      <td>19.0</td>\n",
       "      <td>16.0</td>\n",
       "      <td>0.842105</td>\n",
       "    </tr>\n",
       "    <tr>\n",
       "      <th>A2WAQ89S9G6FXQ</th>\n",
       "      <td>21.0</td>\n",
       "      <td>16.0</td>\n",
       "      <td>0.761905</td>\n",
       "    </tr>\n",
       "    <tr>\n",
       "      <th>AKHO08K69B4Y4</th>\n",
       "      <td>61.0</td>\n",
       "      <td>13.0</td>\n",
       "      <td>0.213115</td>\n",
       "    </tr>\n",
       "  </tbody>\n",
       "</table>\n",
       "</div>"
      ],
      "text/plain": [
       "                submitted  incorrect  flaw_ratio\n",
       "A2L7S6RZOZ6NM9      708.0      256.0    0.361582\n",
       "A2DVFA1B7NMN0F     1339.0      255.0    0.190441\n",
       "AW0E5C6MWDVSU       916.0      237.0    0.258734\n",
       "A1OIITZ4Z8WEW       342.0       74.0    0.216374\n",
       "A3SS1F4F3JE7CU      303.0       66.0    0.217822\n",
       "A1YNSX11UM84SZ      192.0       61.0    0.317708\n",
       "AS8LR974AUO00       192.0       52.0    0.270833\n",
       "A2VN5QUXOTVV81      365.0       50.0    0.136986\n",
       "A2SVNXNMD7E7EH      312.0       40.0    0.128205\n",
       "A1Y9VA9FKJLS5K       69.0       25.0    0.362319\n",
       "A31PGUL7BLBY6I      147.0       20.0    0.136054\n",
       "A39J5RLVDTM6SM      101.0       18.0    0.178218\n",
       "A3I1AAGZSOFESV       19.0       16.0    0.842105\n",
       "A2WAQ89S9G6FXQ       21.0       16.0    0.761905\n",
       "AKHO08K69B4Y4        61.0       13.0    0.213115"
      ]
     },
     "execution_count": 294,
     "metadata": {},
     "output_type": "execute_result"
    }
   ],
=======
   "outputs": [],
>>>>>>> 8ee755d5098460da783aa91d7fc47946de69deea
   "source": [
    "bad_and_prolific_workers.head(15)"
   ]
  },
  {
   "cell_type": "code",
<<<<<<< HEAD
   "execution_count": 408,
=======
   "execution_count": 381,
>>>>>>> 8ee755d5098460da783aa91d7fc47946de69deea
   "metadata": {
    "collapsed": false,
    "hidden": true
   },
<<<<<<< HEAD
   "outputs": [
    {
     "data": {
      "text/plain": [
       "u'A2DVFA1B7NMN0F'"
      ]
     },
     "execution_count": 408,
     "metadata": {},
     "output_type": "execute_result"
    }
   ],
   "source": [
    "really_bad_workers = bad_and_prolific_workers[bad_and_prolific_workers['flaw_ratio'] > 0.5]\n",
    "workers_to_reject = bad_and_prolific_to_review[:7] + really_bad_workers_to_review\n",
    "workers_to_reject.pop(1)"
   ]
  },
  {
   "cell_type": "code",
   "execution_count": 409,
   "metadata": {
    "collapsed": false,
    "hidden": true
   },
   "outputs": [
    {
     "data": {
      "text/plain": [
       "[u'A2L7S6RZOZ6NM9',\n",
       " u'AW0E5C6MWDVSU',\n",
       " u'A1OIITZ4Z8WEW',\n",
       " u'A3SS1F4F3JE7CU',\n",
       " u'A1YNSX11UM84SZ',\n",
       " u'AS8LR974AUO00',\n",
       " u'A3I1AAGZSOFESV',\n",
       " u'A2WAQ89S9G6FXQ']"
      ]
     },
     "execution_count": 409,
     "metadata": {},
     "output_type": "execute_result"
    }
   ],
   "source": [
    "workers_to_reject"
=======
   "outputs": [],
   "source": [
    "really_bad_workers = bad_and_prolific_workers[bad_and_prolific_workers['flaw_ratio'] > 0.5]\n",
    "really_bad_workers"
>>>>>>> 8ee755d5098460da783aa91d7fc47946de69deea
   ]
  },
  {
   "cell_type": "markdown",
   "metadata": {
    "collapsed": true,
    "hidden": true,
    "run_control": {
     "frozen": false,
     "read_only": false
    }
   },
   "source": [
    "bad worker decisions-\n",
    "\n",
<<<<<<< HEAD
    "1- blank pages, didn't read directions\n",
    "\n",
    "    2- many blank pages, but probably ok \n",
    "\n",
    "3- many blank pages \n",
    "\n",
    "4- incomplete\n",
    "\n",
    "5-7 incomplete\n",
    "\n",
=======
    "1- didn't read directions\n",
    "\n",
    "2- many blank pages\n",
    "\n",
    "3- many blank pages\n",
    "\n",
    "4- incomplete\n",
    "\n",
>>>>>>> 8ee755d5098460da783aa91d7fc47946de69deea
    "the really bad workers are largely incomplete"
   ]
  },
  {
   "cell_type": "markdown",
   "metadata": {
<<<<<<< HEAD
    "heading_collapsed": true,
    "hidden": true
=======
    "heading_collapsed": true
>>>>>>> 8ee755d5098460da783aa91d7fc47946de69deea
   },
   "source": [
    "## Email contact with workers"
   ]
  },
  {
   "cell_type": "code",
   "execution_count": 253,
   "metadata": {
    "collapsed": false,
    "hidden": true,
    "run_control": {
     "frozen": false,
     "read_only": false
    }
   },
<<<<<<< HEAD
   "outputs": [
    {
     "name": "stdout",
     "output_type": "stream",
     "text": [
      "('Processing mailbox: ', '\"2 lower priority/turk\"')\n",
      "Message 1: Regarding Amazon Mechanical Turk HIT 3RZS0FBRWKBTOTHWXSR91LRG0A0PCY\n",
      "('Raw Date:', 'Wed, 6 Jul 2016 22:19:29 +0000')\n",
      "('Local Date:', 'Wed, 06 Jul 2016 15:19:29')\n",
      "Message 2: Regarding Amazon Mechanical Turk HIT Type\n",
      " 3BJ81NIZAFG42L9RSEJ8TNYPFG8K6U\n",
      "('Raw Date:', 'Wed, 6 Jul 2016 23:01:37 +0000')\n",
      "('Local Date:', 'Wed, 06 Jul 2016 16:01:37')\n",
      "Message 3: Regarding Amazon Mechanical Turk HIT 3OND0WXMHWGG8A3MA6PZI0PSZV3HEE\n",
      "('Raw Date:', 'Wed, 6 Jul 2016 22:30:13 +0000')\n",
      "('Local Date:', 'Wed, 06 Jul 2016 15:30:13')\n"
     ]
    }
   ],
=======
   "outputs": [],
>>>>>>> 8ee755d5098460da783aa91d7fc47946de69deea
   "source": [
    "turkers_contacted_me = turkmail_util.get_latest_worker_communication()"
   ]
  },
  {
   "cell_type": "code",
   "execution_count": 257,
   "metadata": {
    "collapsed": false,
    "hidden": true,
    "run_control": {
     "frozen": false,
     "read_only": false
    }
   },
   "outputs": [],
   "source": [
    "turkers_contacted_me = [w_id[0] for w_id in turkers_contacted_me.values()]"
   ]
  },
  {
   "cell_type": "code",
   "execution_count": 258,
   "metadata": {
    "collapsed": false,
    "hidden": true,
    "run_control": {
     "frozen": false,
     "read_only": false
    }
   },
<<<<<<< HEAD
   "outputs": [
    {
     "data": {
      "text/plain": [
       "['A3UUH3632AI3ZX', 'AR9ZC60MDS2Q', 'A6U5ZHN5Y953Q']"
      ]
     },
     "execution_count": 258,
     "metadata": {},
     "output_type": "execute_result"
    }
   ],
=======
   "outputs": [],
>>>>>>> 8ee755d5098460da783aa91d7fc47946de69deea
   "source": [
    "turkers_contacted_me"
   ]
  },
  {
   "cell_type": "code",
   "execution_count": 269,
   "metadata": {
    "collapsed": false,
    "hidden": true,
    "run_control": {
     "frozen": false,
     "read_only": false
    }
   },
   "outputs": [],
   "source": [
    "good_set = set(good_and_prolific_workers)\n",
    "bad_set = set(bad_and_prolific_to_review)\n",
    "contact_set = set(turkers_contacted_me)"
   ]
  },
  {
   "cell_type": "code",
   "execution_count": 271,
   "metadata": {
    "collapsed": false,
    "hidden": true,
    "run_control": {
     "frozen": false,
     "read_only": false
    }
   },
<<<<<<< HEAD
   "outputs": [
    {
     "name": "stdout",
     "output_type": "stream",
     "text": [
      "set(['A3UUH3632AI3ZX'])\n",
      "set([])\n"
     ]
    }
   ],
=======
   "outputs": [],
>>>>>>> 8ee755d5098460da783aa91d7fc47946de69deea
   "source": [
    "print good_set.intersection(contact_set)\n",
    "print bad_set.intersection(contact_set)"
   ]
  },
  {
   "cell_type": "markdown",
   "metadata": {
    "hidden": true
   },
   "source": []
  },
  {
   "cell_type": "markdown",
   "metadata": {
<<<<<<< HEAD
    "heading_collapsed": true,
    "hidden": true
=======
    "heading_collapsed": true
>>>>>>> 8ee755d5098460da783aa91d7fc47946de69deea
   },
   "source": [
    "## Messaging workers"
   ]
  },
  {
   "cell_type": "code",
   "execution_count": 889,
   "metadata": {
    "collapsed": true,
    "hidden": true,
    "run_control": {
     "frozen": false,
     "read_only": false
    }
   },
   "outputs": [],
   "source": [
    "subject = \"More science book annotation HITs are available\"\n",
    "message = \"\"\"\n",
    "Hello, \n",
    "\n",
    "If you're receiving this message you were among the top performers on the first group HITs I submitted.\n",
    "I've submitted another group of HITs, with more to follow in the next few days. \n",
    "I've added some additional instructions, and have removed the default instruction page (they can still be accessed by Read\n",
    "Instruction Button).\n",
    "\n",
    "Happy to get any feedback you might have for the new HITs.\n",
    "\"\"\""
   ]
  },
  {
   "cell_type": "code",
   "execution_count": 693,
   "metadata": {
    "collapsed": false,
    "hidden": true,
    "run_control": {
     "frozen": false,
     "read_only": false
    }
   },
   "outputs": [],
   "source": [
    "# _ = mturk.notify_workers(good_workers[:20], subject, message)"
   ]
  },
  {
   "cell_type": "markdown",
   "metadata": {},
   "source": [
    "# **HIT end-of-life**"
   ]
  },
  {
   "cell_type": "markdown",
   "metadata": {
    "heading_collapsed": true
   },
   "source": [
    "## Pickle latest results"
   ]
  },
  {
   "cell_type": "code",
<<<<<<< HEAD
   "execution_count": 429,
=======
   "execution_count": 208,
>>>>>>> 8ee755d5098460da783aa91d7fc47946de69deea
   "metadata": {
    "collapsed": true,
    "hidden": true,
    "run_control": {
     "frozen": false,
     "read_only": false
    }
   },
   "outputs": [],
   "source": [
    "#reset as needed\n",
<<<<<<< HEAD
    "gn = 2"
=======
    "# gn = 2"
>>>>>>> 8ee755d5098460da783aa91d7fc47946de69deea
   ]
  },
  {
   "cell_type": "code",
<<<<<<< HEAD
   "execution_count": 431,
=======
   "execution_count": 207,
>>>>>>> 8ee755d5098460da783aa91d7fc47946de69deea
   "metadata": {
    "collapsed": false,
    "hidden": true,
    "run_control": {
     "frozen": false,
     "read_only": false
    }
   },
<<<<<<< HEAD
   "outputs": [
    {
     "name": "stdout",
     "output_type": "stream",
     "text": [
      "saved HIT batch number 2\n",
      "now onto batch 3\n"
     ]
    }
   ],
=======
   "outputs": [],
>>>>>>> 8ee755d5098460da783aa91d7fc47946de69deea
   "source": [
    "next_group = gn + 1\n",
    "group_n = '_' + str(gn) + '/'\n",
    "\n",
    "temp_store_dir = './store_hit_results_metadata/question_anno/group'\n",
    "try:\n",
    "    os.mkdir(temp_store_dir + group_n)\n",
    "except:\n",
    "    OSError\n",
    "    \n",
    "result_file_name = 'hit_info.pkl'\n",
    "assignment_file_name = 'assignment_info.pkl'\n",
    "raw_results_file_name = 'raw_res.pkl'\n",
    "complete_results_file = 'complete_df.pkl'\n",
    "consensus_results_file = 'consensus_df.pkl'\n",
    "\n",
    "amt_util.pickle_this(r_hits_current_batch, temp_store_dir + group_n + result_file_name)\n",
    "amt_util.pickle_this(assignment_results_current_batch, temp_store_dir + group_n + assignment_file_name)\n",
    "amt_util.pickle_this(results_df_question_batch, temp_store_dir + group_n + raw_results_file_name)\n",
    "# results_df_current_batch.to_pickle(temp_store_dir + group_n + complete_results_file)\n",
<<<<<<< HEAD
    "results_df_question_batch.to_pickle(temp_store_dir + group_n + complete_results_file)\n",
=======
>>>>>>> 8ee755d5098460da783aa91d7fc47946de69deea
    "consensus_results_df_current_batch.to_pickle(temp_store_dir + group_n + consensus_results_file)\n",
    "print 'saved HIT batch number ' + str(gn)\n",
    "print 'now onto batch ' +str(next_group) \n",
    "gn = next_group"
   ]
  },
  {
   "cell_type": "markdown",
   "metadata": {
    "heading_collapsed": true
   },
   "source": [
    "## Pickle combined dataset"
   ]
  },
  {
   "cell_type": "code",
   "execution_count": 110,
   "metadata": {
    "collapsed": false,
    "hidden": true,
    "run_control": {
     "frozen": false,
     "read_only": false
    }
   },
   "outputs": [],
   "source": [
    "temp_store_dir = './store_hit_results_metadata/question_anno/group'\n",
    "group_n = '_latest_combined/'\n",
    "try:\n",
    "    os.mkdir(temp_store_dir + group_n)\n",
    "except:\n",
    "    OSError\n",
    "    \n",
    "complete_results_file = 'complete_df.pkl'\n",
    "consensus_results_file = 'consensus_df.pkl'\n",
    "consensus_results_file_w_workers = 'consensus_df_w_workers.pkl'\n",
    "\n",
    "combined_results_df.to_pickle(temp_store_dir + group_n + complete_results_file)\n",
    "combined_consensus_df.to_pickle(temp_store_dir + group_n + consensus_results_file)\n",
    "combined_consensus_with_workerid_df.to_pickle(temp_store_dir + group_n + consensus_results_file_w_workers)"
   ]
  },
  {
   "cell_type": "markdown",
<<<<<<< HEAD
   "metadata": {},
=======
   "metadata": {
    "heading_collapsed": true
   },
>>>>>>> 8ee755d5098460da783aa91d7fc47946de69deea
   "source": [
    "## Accepting and deleting HITs... careful with these"
   ]
  },
  {
   "cell_type": "markdown",
   "metadata": {
<<<<<<< HEAD
    "heading_collapsed": true
=======
    "heading_collapsed": true,
    "hidden": true
>>>>>>> 8ee755d5098460da783aa91d7fc47946de69deea
   },
   "source": [
    "### rejecting HITS, banning bad workers"
   ]
  },
  {
   "cell_type": "markdown",
   "metadata": {
    "hidden": true
   },
   "source": [
    "Uncomment only when ready to accept or delete hits"
   ]
  },
  {
   "cell_type": "code",
<<<<<<< HEAD
   "execution_count": 410,
=======
   "execution_count": 122,
>>>>>>> 8ee755d5098460da783aa91d7fc47946de69deea
   "metadata": {
    "collapsed": false,
    "hidden": true,
    "run_control": {
     "frozen": false,
     "read_only": false
    }
   },
   "outputs": [],
   "source": [
    "def reject_bad_assignments(rejected_assignment_ids, rejected_worker_ids):\n",
    "    for assignment in rejected_assignment_ids:\n",
    "        mturk.reject_assignment(assignment)\n",
    "        \n",
    "        rejection_message_subject = \"One of your HITs was rejected\"\n",
    "        \n",
    "        rejection_message = \"\"\"\n",
    "        Your HIT was rejected because it was either incomplete or largely incorrect.\n",
    "        \"\"\"\n",
    "        \n",
    "        mturk.notify_workers(rejected_worker_ids, rejection_message_subject, rejection_message)"
   ]
  },
  {
   "cell_type": "code",
<<<<<<< HEAD
   "execution_count": 414,
   "metadata": {
    "collapsed": false,
=======
   "execution_count": 155,
   "metadata": {
    "collapsed": true,
>>>>>>> 8ee755d5098460da783aa91d7fc47946de69deea
    "hidden": true,
    "run_control": {
     "frozen": false,
     "read_only": false
    }
   },
<<<<<<< HEAD
   "outputs": [
    {
     "name": "stdout",
     "output_type": "stream",
     "text": [
      "rejecting 105 assignments from 8 workers\n"
     ]
    }
   ],
   "source": [
    "number_rejected_assignments, number_rejected_workers = amt_util.reject_assignments(mturk, workers_to_reject, consensus_with_workerid_df)\n",
    "print 'rejecting ' + str(number_rejected_assignments) + ' assignments' + ' from ' + str(number_rejected_workers) + ' workers'"
=======
   "outputs": [],
   "source": [
    "workers_to_ban = bad_and_prolific_workers[:2].index.tolist()"
   ]
  },
  {
   "cell_type": "code",
   "execution_count": 156,
   "metadata": {
    "collapsed": false,
    "hidden": true,
    "run_control": {
     "frozen": false,
     "read_only": false
    }
   },
   "outputs": [],
   "source": [
    "workers_to_ban"
>>>>>>> 8ee755d5098460da783aa91d7fc47946de69deea
   ]
  },
  {
   "cell_type": "code",
<<<<<<< HEAD
   "execution_count": 424,
   "metadata": {
    "collapsed": true,
=======
   "execution_count": 157,
   "metadata": {
    "collapsed": false,
>>>>>>> 8ee755d5098460da783aa91d7fc47946de69deea
    "hidden": true,
    "run_control": {
     "frozen": false,
     "read_only": false
    }
   },
   "outputs": [],
   "source": [
<<<<<<< HEAD
    "r_hits_after_rejects = amt_util.get_completed_hits(mturk)"
=======
    "number_rejected_assignments, number_rejected_workers = amt_util.reject_assignments(mturk, workers_to_ban, combined_consensus_with_workerid_df)\n",
    "print 'rejecting ' + str(number_rejected_assignments) + ' assignments' + ' from ' + str(number_rejected_workers) + ' workers'"
>>>>>>> 8ee755d5098460da783aa91d7fc47946de69deea
   ]
  },
  {
   "cell_type": "code",
<<<<<<< HEAD
   "execution_count": 425,
=======
   "execution_count": 174,
>>>>>>> 8ee755d5098460da783aa91d7fc47946de69deea
   "metadata": {
    "collapsed": true,
    "hidden": true,
    "run_control": {
     "frozen": false,
     "read_only": false
    }
   },
   "outputs": [],
   "source": [
<<<<<<< HEAD
    "assignment_results_after_rejects = amt_util.get_assignments(mturk, r_hits_after_rejects)"
=======
    "# assignments_to_accept = []\n",
    "assignment_status = []\n",
    "for hit_id, assignments in assignment_results_after_rejects.items():\n",
    "    for assignment in assignments:\n",
    "        assignment_status.append(assignment.AssignmentStatus)\n",
    "        if assignment.AssignmentStatus == 'Submitted':\n",
    "            assignments_to_accept.append(assignment)\n",
    "status_series = pd.Series(assignment_status)"
>>>>>>> 8ee755d5098460da783aa91d7fc47946de69deea
   ]
  },
  {
   "cell_type": "code",
<<<<<<< HEAD
   "execution_count": 427,
   "metadata": {
    "collapsed": false,
=======
   "execution_count": 182,
   "metadata": {
    "collapsed": true,
>>>>>>> 8ee755d5098460da783aa91d7fc47946de69deea
    "hidden": true,
    "run_control": {
     "frozen": false,
     "read_only": false
    }
   },
   "outputs": [],
   "source": [
<<<<<<< HEAD
    "def build_accept_list(after_rejects):\n",
    "    assignments_to_accept = []\n",
    "    assignment_status = []\n",
    "    for hit_id, assignments in after_rejects.items():\n",
    "        for assignment in assignments:\n",
    "            assignment_status.append(assignment.AssignmentStatus)\n",
    "            if assignment.AssignmentStatus == 'Submitted':\n",
    "                assignments_to_accept.append(assignment)\n",
    "    status_series = pd.Series(assignment_status)\n",
    "    return assignments_to_accept, status_series"
=======
    "r_hits_after_rejects = amt_util.get_completed_hits(mturk)"
>>>>>>> 8ee755d5098460da783aa91d7fc47946de69deea
   ]
  },
  {
   "cell_type": "code",
<<<<<<< HEAD
   "execution_count": 428,
   "metadata": {
    "collapsed": false,
    "hidden": true
   },
   "outputs": [
    {
     "data": {
      "text/plain": [
       "Approved    3774\n",
       "Rejected     237\n",
       "dtype: int64"
      ]
     },
     "execution_count": 428,
     "metadata": {},
     "output_type": "execute_result"
    }
   ],
   "source": [
    "assignments_to_accept, status_series = build_accept_list(assignment_results_after_rejects)\n",
    "status_series.value_counts()"
=======
   "execution_count": 183,
   "metadata": {
    "collapsed": true,
    "hidden": true,
    "run_control": {
     "frozen": false,
     "read_only": false
    }
   },
   "outputs": [],
   "source": [
    "assignment_results_after_rejects = amt_util.get_assignments(mturk, r_hits_after_rejects)"
>>>>>>> 8ee755d5098460da783aa91d7fc47946de69deea
   ]
  },
  {
   "cell_type": "markdown",
   "metadata": {
<<<<<<< HEAD
    "heading_collapsed": true
=======
    "heading_collapsed": true,
    "hidden": true
>>>>>>> 8ee755d5098460da783aa91d7fc47946de69deea
   },
   "source": [
    "### accepting HITS"
   ]
  },
  {
   "cell_type": "code",
<<<<<<< HEAD
   "execution_count": 423,
   "metadata": {
    "collapsed": false,
=======
   "execution_count": 184,
   "metadata": {
    "collapsed": true,
>>>>>>> 8ee755d5098460da783aa91d7fc47946de69deea
    "hidden": true,
    "run_control": {
     "frozen": false,
     "read_only": false
    }
   },
   "outputs": [],
   "source": [
<<<<<<< HEAD
    "# amt_util.accept_hits(mturk, assignments_to_accept)"
=======
    "# amt_util.accept_hits(mturk, assignment_results_after_rejects)"
>>>>>>> 8ee755d5098460da783aa91d7fc47946de69deea
   ]
  },
  {
   "cell_type": "markdown",
   "metadata": {
<<<<<<< HEAD
    "heading_collapsed": true
=======
    "heading_collapsed": true,
    "hidden": true
>>>>>>> 8ee755d5098460da783aa91d7fc47946de69deea
   },
   "source": [
    "### deleting all HITS"
   ]
  },
  {
   "cell_type": "code",
   "execution_count": 138,
   "metadata": {
    "collapsed": false,
    "hidden": true,
    "run_control": {
     "frozen": false,
     "read_only": false
    }
   },
   "outputs": [],
   "source": [
    "# amt_util.delete_all_hits(mturk)"
   ]
  },
  {
   "cell_type": "markdown",
<<<<<<< HEAD
   "metadata": {
    "heading_collapsed": true
   },
=======
   "metadata": {},
>>>>>>> 8ee755d5098460da783aa91d7fc47946de69deea
   "source": [
    "# End"
   ]
  },
  {
   "cell_type": "code",
   "execution_count": null,
   "metadata": {
    "collapsed": true,
<<<<<<< HEAD
    "hidden": true,
=======
>>>>>>> 8ee755d5098460da783aa91d7fc47946de69deea
    "run_control": {
     "frozen": false,
     "read_only": false
    }
   },
   "outputs": [],
   "source": []
  },
  {
   "cell_type": "code",
   "execution_count": null,
   "metadata": {
    "collapsed": true,
<<<<<<< HEAD
    "hidden": true,
=======
>>>>>>> 8ee755d5098460da783aa91d7fc47946de69deea
    "run_control": {
     "frozen": false,
     "read_only": false
    }
   },
   "outputs": [],
   "source": []
  },
  {
   "cell_type": "code",
   "execution_count": null,
   "metadata": {
    "collapsed": true,
<<<<<<< HEAD
    "hidden": true,
=======
>>>>>>> 8ee755d5098460da783aa91d7fc47946de69deea
    "run_control": {
     "frozen": false,
     "read_only": false
    }
   },
   "outputs": [],
   "source": []
  },
  {
   "cell_type": "code",
   "execution_count": null,
   "metadata": {
    "collapsed": true,
<<<<<<< HEAD
    "hidden": true,
=======
>>>>>>> 8ee755d5098460da783aa91d7fc47946de69deea
    "run_control": {
     "frozen": false,
     "read_only": false
    }
   },
   "outputs": [],
   "source": []
  },
  {
   "cell_type": "code",
   "execution_count": null,
   "metadata": {
    "collapsed": true,
<<<<<<< HEAD
    "hidden": true,
=======
>>>>>>> 8ee755d5098460da783aa91d7fc47946de69deea
    "run_control": {
     "frozen": false,
     "read_only": false
    }
   },
   "outputs": [],
   "source": []
  },
  {
   "cell_type": "code",
   "execution_count": null,
   "metadata": {
    "collapsed": true,
<<<<<<< HEAD
    "hidden": true,
=======
>>>>>>> 8ee755d5098460da783aa91d7fc47946de69deea
    "run_control": {
     "frozen": false,
     "read_only": false
    }
   },
   "outputs": [],
   "source": []
  },
  {
   "cell_type": "code",
   "execution_count": null,
   "metadata": {
    "collapsed": true,
<<<<<<< HEAD
    "hidden": true,
=======
>>>>>>> 8ee755d5098460da783aa91d7fc47946de69deea
    "run_control": {
     "frozen": false,
     "read_only": false
    }
   },
   "outputs": [],
   "source": []
  },
  {
   "cell_type": "code",
   "execution_count": null,
   "metadata": {
    "collapsed": true,
<<<<<<< HEAD
    "hidden": true,
=======
>>>>>>> 8ee755d5098460da783aa91d7fc47946de69deea
    "run_control": {
     "frozen": false,
     "read_only": false
    }
   },
   "outputs": [],
   "source": []
  },
  {
   "cell_type": "code",
   "execution_count": null,
   "metadata": {
    "collapsed": true,
<<<<<<< HEAD
    "hidden": true,
=======
>>>>>>> 8ee755d5098460da783aa91d7fc47946de69deea
    "run_control": {
     "frozen": false,
     "read_only": false
    }
   },
   "outputs": [],
   "source": []
  }
 ],
 "metadata": {
  "kernelspec": {
   "display_name": "Python 2",
   "language": "python",
   "name": "python2"
  },
  "language_info": {
   "codemirror_mode": {
    "name": "ipython",
    "version": 2
   },
   "file_extension": ".py",
   "mimetype": "text/x-python",
   "name": "python",
   "nbconvert_exporter": "python",
   "pygments_lexer": "ipython2",
   "version": "2.7.10"
  }
 },
 "nbformat": 4,
 "nbformat_minor": 0
}
