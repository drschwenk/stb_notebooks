{
 "cells": [
  {
   "cell_type": "markdown",
   "metadata": {
    "heading_collapsed": true
   },
   "source": [
    "# Table of Contents\n",
    "* [Load data](#Load-data)\n",
    "* [dataset validation](#dataset-validation)\n",
    "* [dataset stats](#dataset-stats)\n",
    "\t* [topic names](#topic-names)\n",
    "\t* [question type dist](#question-type-dist)\n",
    "\t* [looking for missing values](#looking-for-missing-values)\n",
    "* [html rendering](#html-rendering)\n",
    "* [building word corpus](#building-word-corpus)\n",
    "* [End](#End)\n"
   ]
  },
  {
   "cell_type": "code",
   "execution_count": 1,
   "metadata": {
    "collapsed": false,
    "hidden": true,
    "run_control": {
     "frozen": false,
     "read_only": false
    }
   },
   "outputs": [],
   "source": [
    "%%capture\n",
    "%load_ext autoreload\n",
    "%autoreload 2\n",
    "import numpy as np\n",
    "import pandas as pd\n",
    "import scipy.stats as st\n",
    "import itertools\n",
    "import math\n",
    "from collections import Counter, defaultdict, OrderedDict\n",
    "\n",
    "import cv2\n",
    "import pprint\n",
    "import pickle\n",
    "import json\n",
    "import requests\n",
    "import io\n",
    "import sys\n",
    "import os\n",
    "from binascii import b2a_hex\n",
    "import base64\n",
    "from wand.image import Image as WImage\n",
    "from IPython.display import display\n",
    "import PIL.Image as Image\n",
    "from copy import deepcopy\n",
    "import glob\n",
    "\n",
    "import nltk\n",
    "import string\n",
    "from nltk.corpus import stopwords\n",
    "from nltk.tokenize import word_tokenize\n",
    "\n",
    "import jsonschema\n",
    "# from pdfextraction.ck12_new_schema import ck12_schema\n"
   ]
  },
  {
   "cell_type": "code",
   "execution_count": 2,
   "metadata": {
    "collapsed": true,
    "hidden": true,
    "run_control": {
     "frozen": false,
     "read_only": false
    }
   },
   "outputs": [],
   "source": [
    "%%capture\n",
    "import matplotlib as mpl\n",
    "mpl.use(\"Agg\")\n",
    "import matplotlib.pylab as plt\n",
    "#%matplotlib notebook\n",
    "%matplotlib inline\n",
    "%load_ext base16_mplrc\n",
    "%base16_mplrc light solarized\n",
    "plt.rcParams['grid.linewidth'] = 0\n",
    "plt.rcParams['figure.figsize'] = (16.0, 10.0)"
   ]
  },
  {
   "cell_type": "markdown",
   "metadata": {
    "heading_collapsed": true
   },
   "source": [
    "# Load data"
   ]
  },
  {
   "cell_type": "code",
   "execution_count": 174,
   "metadata": {
    "collapsed": false,
    "hidden": true,
    "run_control": {
     "frozen": false,
     "read_only": false
    }
   },
   "outputs": [],
   "source": [
    "dataset_root_dir = '/Users/schwenk/wrk/stb/dataset_releases/data_release_beta6/'\n",
    "data_file = 'tqa_dataset_beta6.json'\n",
    "# data_file = 'beta6_final.json'\n",
    "\n",
    "\n",
    "with open(os.path.join(dataset_root_dir, data_file), 'r') as f:\n",
    "    ck12_combined_dataset_raw = json.load(f)"
   ]
  },
  {
   "cell_type": "code",
   "execution_count": 107,
   "metadata": {
    "code_folding": [],
    "collapsed": false,
    "hidden": true,
    "run_control": {
     "frozen": false,
     "read_only": false
    }
   },
   "outputs": [],
   "source": [
    "ck12_combined_dataset = deepcopy(ck12_combined_dataset_raw)"
   ]
  },
  {
   "cell_type": "markdown",
   "metadata": {
    "heading_collapsed": true
   },
   "source": [
    "# dataset validation"
   ]
  },
  {
   "cell_type": "code",
   "execution_count": 111,
   "metadata": {
    "collapsed": true,
    "hidden": true,
    "run_control": {
     "frozen": false,
     "read_only": false
    }
   },
   "outputs": [],
   "source": [
    "from pdfextraction.validate_and_split import DataSetIntegrityChecker"
   ]
  },
  {
   "cell_type": "code",
   "execution_count": 112,
   "metadata": {
    "collapsed": false,
    "hidden": true,
    "run_control": {
     "frozen": false,
     "read_only": false
    }
   },
   "outputs": [
    {
     "name": "stderr",
     "output_type": "stream",
     "text": [
      "/Users/schwenk/wrk/stb/stb_notebooks/pdfextraction/validate_and_split.py:75: UserWarning: global id mismatch for NDQ\n",
      "  warnings.warn('global id mismatch for {}'.format(id_type))\n",
      "/Users/schwenk/wrk/stb/stb_notebooks/pdfextraction/validate_and_split.py:75: UserWarning: global id mismatch for DQ\n",
      "  warnings.warn('global id mismatch for {}'.format(id_type))\n"
     ]
    }
   ],
   "source": [
    "dataset_validator = DataSetIntegrityChecker(dataset_root_dir, data_file)\n",
    "terr = dataset_validator.validate_dataset() \n",
    "if terr == 'all validation test passed':\n",
    "    print(terr)"
   ]
  },
  {
   "cell_type": "code",
   "execution_count": 113,
   "metadata": {
    "collapsed": false,
    "hidden": true
   },
   "outputs": [
    {
     "name": "stderr",
     "output_type": "stream",
     "text": [
      "/Users/schwenk/wrk/stb/stb_notebooks/pdfextraction/validate_and_split.py:75: UserWarning: global id mismatch for NDQ\n",
      "  warnings.warn('global id mismatch for {}'.format(id_type))\n",
      "/Users/schwenk/wrk/stb/stb_notebooks/pdfextraction/validate_and_split.py:75: UserWarning: global id mismatch for DQ\n",
      "  warnings.warn('global id mismatch for {}'.format(id_type))\n"
     ]
    }
   ],
   "source": [
    "gids_seen = dataset_validator.check_global_counts()"
   ]
  },
  {
   "cell_type": "code",
   "execution_count": null,
   "metadata": {
    "collapsed": true,
    "hidden": true
   },
   "outputs": [],
   "source": []
  },
  {
   "cell_type": "code",
   "execution_count": 114,
   "metadata": {
    "collapsed": false,
    "hidden": true,
    "run_control": {
     "frozen": false,
     "read_only": false
    }
   },
   "outputs": [
    {
     "data": {
      "text/plain": [
       "['/Users/schwenk/wrk/stb/dataset_releases/data_release_beta6/textbook_images/biotechnology_in_agriculture_21732.png',\n",
       " '/Users/schwenk/wrk/stb/dataset_releases/data_release_beta6/textbook_images/chemical_properties_of_matter_22718.png']"
      ]
     },
     "execution_count": 114,
     "metadata": {},
     "output_type": "execute_result"
    }
   ],
   "source": [
    "terr['image_paths']"
   ]
  },
  {
   "cell_type": "code",
   "execution_count": 115,
   "metadata": {
    "collapsed": false,
    "hidden": true,
    "run_control": {
     "frozen": false,
     "read_only": false
    },
    "scrolled": true
   },
   "outputs": [
    {
     "data": {
      "text/plain": [
       "0"
      ]
     },
     "execution_count": 115,
     "metadata": {},
     "output_type": "execute_result"
    }
   ],
   "source": [
    "len(terr['schema'])"
   ]
  },
  {
   "cell_type": "code",
   "execution_count": 185,
   "metadata": {
    "collapsed": false,
    "hidden": true,
    "run_control": {
     "frozen": false,
     "read_only": false
    }
   },
   "outputs": [],
   "source": [
    "img_path_errors = [err for err in terr['image_paths'] if 'textbook' not in err]"
   ]
  },
  {
   "cell_type": "code",
   "execution_count": 186,
   "metadata": {
    "collapsed": false,
    "hidden": true,
    "run_control": {
     "frozen": false,
     "read_only": false
    }
   },
   "outputs": [
    {
     "data": {
      "text/plain": [
       "504"
      ]
     },
     "execution_count": 186,
     "metadata": {},
     "output_type": "execute_result"
    }
   ],
   "source": [
    "len(img_path_errors)"
   ]
  },
  {
   "cell_type": "markdown",
   "metadata": {},
   "source": [
    "# test train splits"
   ]
  },
  {
   "cell_type": "code",
   "execution_count": 269,
   "metadata": {
    "collapsed": false,
    "run_control": {
     "frozen": false,
     "read_only": false
    }
   },
   "outputs": [],
   "source": [
    "from pdfextraction.validate_and_split import TestTrainSplitter\n",
    "test_train_splitter = TestTrainSplitter(dataset_root_dir, data_file)"
   ]
  },
  {
   "cell_type": "markdown",
   "metadata": {},
   "source": [
    "*insects and other arthropods to train*"
   ]
  },
  {
   "cell_type": "code",
   "execution_count": 251,
   "metadata": {
    "collapsed": true
   },
   "outputs": [],
   "source": [
    "tt_split = test_train_splitter.perform_split(manual_assignments=manual_assignments)"
   ]
  },
  {
   "cell_type": "code",
   "execution_count": 312,
   "metadata": {
    "collapsed": true
   },
   "outputs": [],
   "source": [
    "trial_counter = 1"
   ]
  },
  {
   "cell_type": "code",
   "execution_count": 313,
   "metadata": {
    "collapsed": true,
    "run_control": {
     "frozen": false,
     "read_only": false
    }
   },
   "outputs": [],
   "source": [
    "exp_dir = 'test_train_split_trials/'"
   ]
  },
  {
   "cell_type": "code",
   "execution_count": 321,
   "metadata": {
    "code_folding": [],
    "collapsed": true
   },
   "outputs": [],
   "source": [
    "manual_assignments = {\n",
    "                      \"ML_0260\": {\"lesson_name\": \"insects and other arthropods\", \"split\": \"train\"},\n",
    "                      \"ML_0310\": {\"lesson_name\": \"covalent bonds\", \"split\": \"train\"},\n",
    "                      \"ML_0243\": {\"lesson_name\": \"sun earth moon system\", \"split\": \"train\"},\n",
    "                      \"ML_0288\": {\"lesson_name\": \"the senses\", \"split\": \"train\"},\n",
    "                      \"ML_0006\": {\"lesson_name\": \"respiratory system\", \"split\": \"train\"},\n",
    "                      \"ML_0344\": {\"lesson_name\": \"evolution and classifiaction plants\", \"split\": \"train\"},\n",
    "                      \"ML_0023\": {\"lesson_name\": \"the nervous system\", \"split\": \"train\"},\n",
    "                      \"ML_0243\": {\"lesson_name\": \"the sun\", \"split\": \"train\"},\n",
    "                      \"ML_0368\": {\"lesson_name\": \"seasons\", \"split\": \"test\"},\n",
    "                      \"ML_0164\": {\"lesson_name\": \"introduction to plants\", \"split\": \"test\"},\n",
    "                      \"ML_0440\": {\"lesson_name\": \"cell structures\", \"split\": \"test\"},\n",
    "                      \"ML_0423\": {\"lesson_name\": \"inside the atom\", \"split\": \"test\"},\n",
    "                      \"ML_0490\": {\"lesson_name\": \"vision and the eye\", \"split\": \"test\"},\n",
    "                      \"ML_0403\": {\"lesson_name\": \"the digestive system\", \"split\": \"test\"},\n",
    "                      \"ML_0403\": {\"lesson_name\": \"\", \"split\": \"test\"},\n",
    "                      \"ML_0434\": {\"lesson_name\": \"flow of energy\", \"split\": \"test\"}, \n",
    "                     }"
   ]
  },
  {
   "cell_type": "code",
   "execution_count": 319,
   "metadata": {
    "collapsed": false,
    "run_control": {
     "frozen": false,
     "read_only": false
    }
   },
   "outputs": [],
   "source": [
    "from pdfextraction.validate_and_split import TestTrainSplitter\n",
    "\n",
    "def write_trial_split(tt_split, exp_dir, multirun_idx=0):\n",
    "    global trial_counter\n",
    "    if not multirun_idx:\n",
    "        record_filename = os.path.join(exp_dir,'record_splits_' + str(trial_counter) + '_.json')\n",
    "    else:\n",
    "        record_filename = os.path.join(exp_dir,'record_splits_' + str(trial_counter) + '_' +str(multirun_idx) +  '.json')     \n",
    "    with open(record_filename, 'w') as f:\n",
    "        json.dump(tt_split, f)\n",
    "    print('saving trial ' + str(trial_counter) + '_' + str(multirun_idx))\n",
    "    trial_counter += 1\n",
    "\n",
    "def split_and_save(manual_assignments, multirun_idx=0):\n",
    "    global trial_counter\n",
    "    test_train_splitter = TestTrainSplitter(dataset_root_dir, data_file)\n",
    "    tt_split, debug = test_train_splitter.perform_split(manual_assignments=manual_assignments)\n",
    "    write_trial_split(tt_split, exp_dir, multirun_idx)\n",
    "    return  tt_split"
   ]
  },
  {
   "cell_type": "code",
   "execution_count": 320,
   "metadata": {
    "collapsed": false,
    "run_control": {
     "frozen": false,
     "read_only": false
    }
   },
   "outputs": [
    {
     "name": "stdout",
     "output_type": "stream",
     "text": [
      "saving trial 11_0\n",
      "saving trial 12_1\n",
      "saving trial 13_2\n",
      "saving trial 14_3\n",
      "saving trial 15_4\n"
     ]
    }
   ],
   "source": [
    "n_trials = 5\n",
    "split_trials = [split_and_save(manual_assignments, i) for i in range(n_trials)]  "
   ]
  },
  {
   "cell_type": "code",
   "execution_count": 297,
   "metadata": {
    "collapsed": false
   },
   "outputs": [],
   "source": [
    "computed_stats_non_diagram = [test_train_splitter.compute_split_stats(this_split) for this_split in split_trials]\n",
    "computed_stats_diagram = [test_train_splitter.compute_split_stats(this_split, True) for this_split in split_trials]"
   ]
  },
  {
   "cell_type": "code",
   "execution_count": 296,
   "metadata": {
    "collapsed": true
   },
   "outputs": [
    {
     "data": {
      "text/plain": [
       "{'n_diagram_questions': {'id_to_find': 'diagramQuestions',\n",
       "  'test': 2418,\n",
       "  'test_fraction': '0.192',\n",
       "  'train': 10149},\n",
       " 'n_instructional_diagrams': {'id_to_find': 'instructionalDiagrams',\n",
       "  'test': 46,\n",
       "  'test_fraction': '0.167',\n",
       "  'train': 230},\n",
       " 'n_lessons': {'id_to_find': 'n_lessons',\n",
       "  'test': 14,\n",
       "  'test_fraction': '0.165',\n",
       "  'train': 71},\n",
       " 'n_text_questions': {'id_to_find': 'nonDiagramQuestions',\n",
       "  'test': 389,\n",
       "  'test_fraction': '0.174',\n",
       "  'train': 1843},\n",
       " 'n_topics': {'id_to_find': 'topics',\n",
       "  'test': 142,\n",
       "  'test_fraction': '0.181',\n",
       "  'train': 642}}"
      ]
     },
     "execution_count": 296,
     "metadata": {},
     "output_type": "execute_result"
    }
   ],
   "source": [
    "computed_stats[0]"
   ]
  },
  {
   "cell_type": "code",
   "execution_count": 294,
   "metadata": {
    "collapsed": true
   },
   "outputs": [
    {
     "data": {
      "text/plain": [
       "{'n_diagram_questions': {'id_to_find': 'diagramQuestions',\n",
       "  'test': 2418,\n",
       "  'test_fraction': '0.192',\n",
       "  'train': 10149},\n",
       " 'n_instructional_diagrams': {'id_to_find': 'instructionalDiagrams',\n",
       "  'test': 46,\n",
       "  'test_fraction': '0.167',\n",
       "  'train': 230},\n",
       " 'n_lessons': {'id_to_find': 'n_lessons',\n",
       "  'test': 216,\n",
       "  'test_fraction': '0.201',\n",
       "  'train': 860},\n",
       " 'n_text_questions': {'id_to_find': 'nonDiagramQuestions',\n",
       "  'test': 2567,\n",
       "  'test_fraction': '0.190',\n",
       "  'train': 10970},\n",
       " 'n_topics': {'id_to_find': 'topics',\n",
       "  'test': 949,\n",
       "  'test_fraction': '0.189',\n",
       "  'train': 4066}}"
      ]
     },
     "execution_count": 294,
     "metadata": {},
     "output_type": "execute_result"
    }
   ],
   "source": [
    "computed_stats[0]"
   ]
  },
  {
   "cell_type": "code",
   "execution_count": 299,
   "metadata": {
    "collapsed": false,
    "run_control": {
     "frozen": false,
     "read_only": false
    }
   },
   "outputs": [],
   "source": [
    "split_trials_test_fracts = [{k:v['test_fraction'] for k, v in trial.items()} for trial in computed_stats_diagram]\n",
    "split_trials_test_counts = [{k:v['test'] for k, v in trial.items()} for trial in computed_stats_diagram]\n",
    "split_trial_df = pd.DataFrame(split_trials_test_fracts)\n",
    "split_trial_df = split_trial_df.apply(pd.to_numeric)\n",
    "split_stats_df = pd.concat([split_trial_df, pd.DataFrame(split_trials_test_counts)], axis=1)\n",
    "split_stats_df_diagram = split_stats_df.apply(pd.to_numeric)\n",
    "\n",
    "split_trials_test_fracts = [{k:v['test_fraction'] for k, v in trial.items()} for trial in computed_stats_non_diagram]\n",
    "split_trials_test_counts = [{k:v['test'] for k, v in trial.items()} for trial in computed_stats_non_diagram]\n",
    "split_trial_df = pd.DataFrame(split_trials_test_fracts)\n",
    "split_trial_df = split_trial_df.apply(pd.to_numeric)\n",
    "split_stats_df = pd.concat([split_trial_df, pd.DataFrame(split_trials_test_counts)], axis=1)\n",
    "split_stats_df_non_diagram = split_stats_df.apply(pd.to_numeric)"
   ]
  },
  {
   "cell_type": "code",
   "execution_count": 300,
   "metadata": {
    "collapsed": false,
    "run_control": {
     "frozen": false,
     "read_only": false
    }
   },
   "outputs": [
    {
     "data": {
      "text/html": [
       "<div>\n",
       "<table border=\"1\" class=\"dataframe\">\n",
       "  <thead>\n",
       "    <tr style=\"text-align: right;\">\n",
       "      <th></th>\n",
       "      <th>n_diagram_questions</th>\n",
       "      <th>n_instructional_diagrams</th>\n",
       "      <th>n_lessons</th>\n",
       "      <th>n_text_questions</th>\n",
       "      <th>n_topics</th>\n",
       "      <th>n_diagram_questions</th>\n",
       "      <th>n_instructional_diagrams</th>\n",
       "      <th>n_lessons</th>\n",
       "      <th>n_text_questions</th>\n",
       "      <th>n_topics</th>\n",
       "    </tr>\n",
       "  </thead>\n",
       "  <tbody>\n",
       "    <tr>\n",
       "      <th>0</th>\n",
       "      <td>0.192</td>\n",
       "      <td>0.167</td>\n",
       "      <td>0.201</td>\n",
       "      <td>0.19</td>\n",
       "      <td>0.189</td>\n",
       "      <td>2418</td>\n",
       "      <td>46</td>\n",
       "      <td>216</td>\n",
       "      <td>2567</td>\n",
       "      <td>949</td>\n",
       "    </tr>\n",
       "  </tbody>\n",
       "</table>\n",
       "</div>"
      ],
      "text/plain": [
       "   n_diagram_questions  n_instructional_diagrams  n_lessons  n_text_questions  \\\n",
       "0                0.192                     0.167      0.201              0.19   \n",
       "\n",
       "   n_topics  n_diagram_questions  n_instructional_diagrams  n_lessons  \\\n",
       "0     0.189                 2418                        46        216   \n",
       "\n",
       "   n_text_questions  n_topics  \n",
       "0              2567       949  "
      ]
     },
     "execution_count": 300,
     "metadata": {},
     "output_type": "execute_result"
    }
   ],
   "source": [
    "split_stats_df_non_diagram"
   ]
  },
  {
   "cell_type": "code",
   "execution_count": 301,
   "metadata": {
    "collapsed": false
   },
   "outputs": [
    {
     "data": {
      "text/html": [
       "<div>\n",
       "<table border=\"1\" class=\"dataframe\">\n",
       "  <thead>\n",
       "    <tr style=\"text-align: right;\">\n",
       "      <th></th>\n",
       "      <th>n_diagram_questions</th>\n",
       "      <th>n_instructional_diagrams</th>\n",
       "      <th>n_lessons</th>\n",
       "      <th>n_text_questions</th>\n",
       "      <th>n_topics</th>\n",
       "      <th>n_diagram_questions</th>\n",
       "      <th>n_instructional_diagrams</th>\n",
       "      <th>n_lessons</th>\n",
       "      <th>n_text_questions</th>\n",
       "      <th>n_topics</th>\n",
       "    </tr>\n",
       "  </thead>\n",
       "  <tbody>\n",
       "    <tr>\n",
       "      <th>0</th>\n",
       "      <td>0.192</td>\n",
       "      <td>0.167</td>\n",
       "      <td>0.165</td>\n",
       "      <td>0.174</td>\n",
       "      <td>0.181</td>\n",
       "      <td>2418</td>\n",
       "      <td>46</td>\n",
       "      <td>14</td>\n",
       "      <td>389</td>\n",
       "      <td>142</td>\n",
       "    </tr>\n",
       "  </tbody>\n",
       "</table>\n",
       "</div>"
      ],
      "text/plain": [
       "   n_diagram_questions  n_instructional_diagrams  n_lessons  n_text_questions  \\\n",
       "0                0.192                     0.167      0.165             0.174   \n",
       "\n",
       "   n_topics  n_diagram_questions  n_instructional_diagrams  n_lessons  \\\n",
       "0     0.181                 2418                        46         14   \n",
       "\n",
       "   n_text_questions  n_topics  \n",
       "0               389       142  "
      ]
     },
     "execution_count": 301,
     "metadata": {},
     "output_type": "execute_result"
    }
   ],
   "source": [
    "split_stats_df_diagram"
   ]
  },
  {
   "cell_type": "markdown",
   "metadata": {
    "heading_collapsed": true
   },
   "source": [
    "## hide"
   ]
  },
  {
   "cell_type": "code",
   "execution_count": null,
   "metadata": {
    "collapsed": true,
    "hidden": true
   },
   "outputs": [],
   "source": [
    "split_stats_df.columns = ['fract_diagram_questions', 'fract_instructional_diagrams', 'fract_text_questions', 'fract_topics', 'n_diagram_questions', 'n_instructional_diagrams', 'n_text_questions', 'n_topics']"
   ]
  },
  {
   "cell_type": "code",
   "execution_count": 319,
   "metadata": {
    "collapsed": false,
    "hidden": true,
    "run_control": {
     "frozen": false,
     "read_only": false
    }
   },
   "outputs": [
    {
     "data": {
      "text/plain": [
       "1076"
      ]
     },
     "execution_count": 319,
     "metadata": {},
     "output_type": "execute_result"
    }
   ],
   "source": [
    "len(tt_split['test'] + tt_split['train'])"
   ]
  },
  {
   "cell_type": "code",
   "execution_count": 126,
   "metadata": {
    "collapsed": false,
    "hidden": true,
    "run_control": {
     "frozen": false,
     "read_only": false
    },
    "scrolled": true
   },
   "outputs": [],
   "source": [
    "# sorted(debug_tt_splits['train'], key= lambda x: x[1])\n",
    "\n",
    "# sorted(debug_tt_splits['test'], key= lambda x: x[1])"
   ]
  },
  {
   "cell_type": "code",
   "execution_count": 315,
   "metadata": {
    "collapsed": false,
    "hidden": true,
    "run_control": {
     "frozen": false,
     "read_only": false
    }
   },
   "outputs": [
    {
     "name": "stdout",
     "output_type": "stream",
     "text": [
      "False\n",
      "True\n"
     ]
    }
   ],
   "source": [
    "print('L_0575' in tt_split['test'])\n",
    "print('L_0575' in tt_split['train'])\n",
    "\n",
    "test_st = 'te'\n",
    "test_st.format()\n",
    "\n",
    "\n",
    "manual_assignments.keys()\n",
    "\n",
    "test_train_splitter.compute_split_stats(tt_split)"
   ]
  },
  {
   "cell_type": "code",
   "execution_count": 261,
   "metadata": {
    "collapsed": false,
    "hidden": true,
    "run_control": {
     "frozen": false,
     "read_only": false
    }
   },
   "outputs": [
    {
     "data": {
      "text/plain": [
       "'te'"
      ]
     },
     "execution_count": 261,
     "metadata": {},
     "output_type": "execute_result"
    }
   ],
   "source": [
    "test_st = 'te'\n",
    "test_st.format()\n",
    "\n",
    "manual_assignments = {\"ML_0289\": {\"lesson_name\": \"flow of energy\", \"split\": \"test\"}, \"ML_0505\": {\"lesson_name\": \"insect reproduction and life cycle\", \"split\": \"train\"}}\n",
    "\n",
    "manual_assignments.keys()"
   ]
  },
  {
   "cell_type": "code",
   "execution_count": 8,
   "metadata": {
    "collapsed": true,
    "hidden": true,
    "run_control": {
     "frozen": false,
     "read_only": false
    }
   },
   "outputs": [],
   "source": [
    "def record_validation_errors(dataset, schema):\n",
    "    qs_removed = []\n",
    "    validator = jsonschema.Draft4Validator(schema)\n",
    "    for error in sorted(validator.iter_errors(dataset), key=lambda x: x.absolute_path[0]):\n",
    "        print(error)\n",
    "        lesson, quest, question_class, q_number = list(error.absolute_schema_path)[:4]\n",
    "        problem_q_section = dataset[subject][lesson][quest][question_class]\n",
    "        if q_number in problem_q_section.keys():\n",
    "            print(dataset[subject][lesson][quest][question_class].pop(q_number))\n",
    "            qs_removed.append(dataset[subject][lesson][quest][question_class].pop(q_number))\n",
    "    return qs_removed"
   ]
  },
  {
   "cell_type": "code",
   "execution_count": 167,
   "metadata": {
    "collapsed": false,
    "hidden": true,
    "run_control": {
     "frozen": false,
     "read_only": false
    }
   },
   "outputs": [],
   "source": [
    "# ml_ids_train, ml_ids_test, debug_train = test_train_splitter.perform_split()\n",
    "\n",
    "# ml_ids_train, ml_ids_test, debug_train = test_train_splitter.perform_split()"
   ]
  },
  {
   "cell_type": "code",
   "execution_count": 9,
   "metadata": {
    "collapsed": false,
    "hidden": true,
    "run_control": {
     "frozen": false,
     "read_only": false
    },
    "scrolled": true
   },
   "outputs": [
    {
     "ename": "NameError",
     "evalue": "name 'new_schema' is not defined",
     "output_type": "error",
     "traceback": [
      "\u001b[0;31m---------------------------------------------------------------------------\u001b[0m",
      "\u001b[0;31mNameError\u001b[0m                                 Traceback (most recent call last)",
      "\u001b[0;32m<ipython-input-9-d1a9c67dce52>\u001b[0m in \u001b[0;36m<module>\u001b[0;34m()\u001b[0m\n\u001b[0;32m----> 1\u001b[0;31m \u001b[0mvalidator\u001b[0m \u001b[0;34m=\u001b[0m \u001b[0mjsonschema\u001b[0m\u001b[0;34m.\u001b[0m\u001b[0mDraft4Validator\u001b[0m\u001b[0;34m(\u001b[0m\u001b[0mnew_schema\u001b[0m\u001b[0;34m)\u001b[0m\u001b[0;34m\u001b[0m\u001b[0m\n\u001b[0m\u001b[1;32m      2\u001b[0m \u001b[0;32mfor\u001b[0m \u001b[0merror\u001b[0m \u001b[0;32min\u001b[0m \u001b[0msorted\u001b[0m\u001b[0;34m(\u001b[0m\u001b[0mvalidator\u001b[0m\u001b[0;34m.\u001b[0m\u001b[0miter_errors\u001b[0m\u001b[0;34m(\u001b[0m\u001b[0mck12_combined_dataset_raw\u001b[0m\u001b[0;34m)\u001b[0m\u001b[0;34m,\u001b[0m \u001b[0mkey\u001b[0m\u001b[0;34m=\u001b[0m\u001b[0;32mlambda\u001b[0m \u001b[0mx\u001b[0m\u001b[0;34m:\u001b[0m \u001b[0mx\u001b[0m\u001b[0;34m.\u001b[0m\u001b[0mabsolute_path\u001b[0m\u001b[0;34m[\u001b[0m\u001b[0;36m0\u001b[0m\u001b[0;34m]\u001b[0m\u001b[0;34m)\u001b[0m\u001b[0;34m:\u001b[0m\u001b[0;34m\u001b[0m\u001b[0m\n\u001b[1;32m      3\u001b[0m     \u001b[0mprint\u001b[0m\u001b[0;34m(\u001b[0m\u001b[0merror\u001b[0m\u001b[0;34m.\u001b[0m\u001b[0mmessage\u001b[0m\u001b[0;34m)\u001b[0m\u001b[0;34m\u001b[0m\u001b[0m\n\u001b[1;32m      4\u001b[0m     \u001b[0mprint\u001b[0m\u001b[0;34m(\u001b[0m\u001b[0merror\u001b[0m\u001b[0;34m.\u001b[0m\u001b[0mabsolute_path\u001b[0m\u001b[0;34m)\u001b[0m\u001b[0;34m\u001b[0m\u001b[0m\n\u001b[1;32m      5\u001b[0m     \u001b[0mprint\u001b[0m\u001b[0;34m(\u001b[0m\u001b[0;34m)\u001b[0m\u001b[0;34m\u001b[0m\u001b[0m\n",
      "\u001b[0;31mNameError\u001b[0m: name 'new_schema' is not defined"
     ]
    }
   ],
   "source": [
    "validator = jsonschema.Draft4Validator(new_schema)\n",
    "for error in sorted(validator.iter_errors(ck12_combined_dataset_raw), key=lambda x: x.absolute_path[0]):\n",
    "    print(error.message)\n",
    "    print(error.absolute_path)\n",
    "    print()"
   ]
  },
  {
   "cell_type": "markdown",
   "metadata": {},
   "source": [
    "# dataset stats"
   ]
  },
  {
   "cell_type": "markdown",
   "metadata": {
    "heading_collapsed": true
   },
   "source": [
    "## topic names"
   ]
  },
  {
   "cell_type": "code",
   "execution_count": null,
   "metadata": {
    "collapsed": false,
    "hidden": true,
    "run_control": {
     "frozen": false,
     "read_only": false
    }
   },
   "outputs": [],
   "source": [
    "es_lesson_names = [item for sublist in [val['topics'].keys() for val in ck12_combined_dataset['earth-science'].values()] for item in sublist]\n",
    "ps_lesson_names = [item for sublist in [val['topics'].keys() for val in ck12_combined_dataset['physical-science'].values()] for item in sublist]\n",
    "ls_lesson_names = [item for sublist in [val['topics'].keys() for val in ck12_combined_dataset['life-science'].values()] for item in sublist]\n",
    "\n",
    "combined_topics = es_lesson_names + ps_lesson_names + ls_lesson_names\n",
    "topic_series = pd.Series(combined_topics).value_counts()\n",
    "# topic_series[:18]\n",
    "# topic_series[18:40]"
   ]
  },
  {
   "cell_type": "code",
   "execution_count": null,
   "metadata": {
    "collapsed": false,
    "hidden": true,
    "run_control": {
     "frozen": false,
     "read_only": false
    }
   },
   "outputs": [],
   "source": [
    "topic_series[:20]"
   ]
  },
  {
   "cell_type": "code",
   "execution_count": null,
   "metadata": {
    "collapsed": false,
    "hidden": true,
    "run_control": {
     "frozen": false,
     "read_only": false
    }
   },
   "outputs": [],
   "source": [
    "len(combined_topics)"
   ]
  },
  {
   "cell_type": "code",
   "execution_count": null,
   "metadata": {
    "collapsed": false,
    "hidden": true,
    "run_control": {
     "frozen": false,
     "read_only": false
    }
   },
   "outputs": [],
   "source": [
    "len(topic_series)"
   ]
  },
  {
   "cell_type": "markdown",
   "metadata": {
    "hidden": true
   },
   "source": [
    "__earth science topics__"
   ]
  },
  {
   "cell_type": "code",
   "execution_count": null,
   "metadata": {
    "collapsed": true,
    "hidden": true,
    "run_control": {
     "frozen": false,
     "read_only": false
    }
   },
   "outputs": [],
   "source": [
    "sorted(ck12_combined_dataset['earth-science'].keys())"
   ]
  },
  {
   "cell_type": "markdown",
   "metadata": {
    "hidden": true
   },
   "source": [
    "__life science topics__"
   ]
  },
  {
   "cell_type": "code",
   "execution_count": null,
   "metadata": {
    "collapsed": true,
    "hidden": true,
    "run_control": {
     "frozen": false,
     "read_only": false
    }
   },
   "outputs": [],
   "source": [
    "sorted(ck12_combined_dataset['life-science'].keys())"
   ]
  },
  {
   "cell_type": "markdown",
   "metadata": {
    "hidden": true
   },
   "source": [
    "__physical science topics__"
   ]
  },
  {
   "cell_type": "code",
   "execution_count": null,
   "metadata": {
    "collapsed": true,
    "hidden": true,
    "run_control": {
     "frozen": false,
     "read_only": false
    }
   },
   "outputs": [],
   "source": [
    "sorted(ck12_combined_dataset['physical-science'].keys())"
   ]
  },
  {
   "cell_type": "code",
   "execution_count": null,
   "metadata": {
    "collapsed": false,
    "hidden": true,
    "run_control": {
     "frozen": false,
     "read_only": false
    }
   },
   "outputs": [],
   "source": [
    " all_lessons = ck12_combined_dataset['physical-science'].keys() + ck12_combined_dataset['life-science'].keys() + ck12_combined_dataset['physical-science'].keys() +ck12_combined_dataset['earth-science'].keys()\n",
    "print len(all_lessons)"
   ]
  },
  {
   "cell_type": "code",
   "execution_count": null,
   "metadata": {
    "collapsed": true,
    "hidden": true,
    "run_control": {
     "frozen": false,
     "read_only": false
    }
   },
   "outputs": [],
   "source": [
    "ck12_combined_dataset.values()"
   ]
  },
  {
   "cell_type": "code",
   "execution_count": null,
   "metadata": {
    "collapsed": false,
    "hidden": true,
    "run_control": {
     "frozen": false,
     "read_only": false
    }
   },
   "outputs": [],
   "source": [
    "topic_list = [subject[lesson]['topics'].keys() for subject in ck12_combined_dataset.values() for lesson in subject]\n",
    "flattened_topics = [topic for lesson in topic_list for topic in lesson]\n",
    "len(flattened_topics)"
   ]
  },
  {
   "cell_type": "code",
   "execution_count": null,
   "metadata": {
    "collapsed": false,
    "hidden": true,
    "run_control": {
     "frozen": false,
     "read_only": false
    }
   },
   "outputs": [],
   "source": [
    "len(set(flattened_topics))"
   ]
  },
  {
   "cell_type": "markdown",
   "metadata": {
    "heading_collapsed": true
   },
   "source": [
    "## question type dist"
   ]
  },
  {
   "cell_type": "markdown",
   "metadata": {
    "hidden": true
   },
   "source": [
    "prior to quizes"
   ]
  },
  {
   "cell_type": "code",
   "execution_count": null,
   "metadata": {
    "code_folding": [],
    "collapsed": false,
    "hidden": true,
    "run_control": {
     "frozen": false,
     "read_only": false
    }
   },
   "outputs": [],
   "source": [
    "# q_types = []\n",
    "# for subject, flexbook in ck12_combined_dataset.items():\n",
    "#     for lesson in flexbook.values():\n",
    "#         for question in lesson['questions']['nonDiagramQuestions'].values():\n",
    "#             q_types.append(question['type'])\n",
    "# question_counts = pd.Series(q_types).value_counts()\n",
    "# print 'total number of questions = ' + str(question_counts.sum())\n",
    "# question_counts"
   ]
  },
  {
   "cell_type": "markdown",
   "metadata": {
    "hidden": true
   },
   "source": [
    "post quizes"
   ]
  },
  {
   "cell_type": "code",
   "execution_count": 82,
   "metadata": {
    "collapsed": false,
    "hidden": true
   },
   "outputs": [
    {
     "data": {
      "text/plain": [
       "13702"
      ]
     },
     "execution_count": 82,
     "metadata": {},
     "output_type": "execute_result"
    }
   ],
   "source": [
    "6590 + 5401 + 1711"
   ]
  },
  {
   "cell_type": "code",
   "execution_count": 116,
   "metadata": {
    "collapsed": false,
    "hidden": true,
    "run_control": {
     "frozen": false,
     "read_only": false
    }
   },
   "outputs": [
    {
     "name": "stdout",
     "output_type": "stream",
     "text": [
      "total number of questions = 13537\n"
     ]
    },
    {
     "data": {
      "text/plain": [
       "Multiple Choice      6590\n",
       "Fill in the Blank    3643\n",
       "Matching             1711\n",
       "Short Answer         1593\n",
       "dtype: int64"
      ]
     },
     "execution_count": 116,
     "metadata": {},
     "output_type": "execute_result"
    }
   ],
   "source": [
    "q_types = []\n",
    "for lesson in ck12_combined_dataset:\n",
    "    for question in lesson['questions']['nonDiagramQuestions'].values():\n",
    "        q_types.append(question['questionSubType'])\n",
    "question_counts = pd.Series(q_types).value_counts()\n",
    "print('total number of questions = ' + str(question_counts.sum()))\n",
    "question_counts"
   ]
  },
  {
   "cell_type": "code",
   "execution_count": null,
   "metadata": {
    "collapsed": false,
    "hidden": true,
    "run_control": {
     "frozen": false,
     "read_only": false
    },
    "scrolled": false
   },
   "outputs": [],
   "source": [
    "_ = question_counts.plot(kind=\"barh\")\n",
    "plt.title('Question Format Distribution', fontsize=50, verticalalignment='bottom', color = b16_colors.b)\n",
    "plt.ylabel(\"Question type\", fontsize=30, labelpad=10, color = b16_colors.b)\n",
    "plt.xlabel(\"Number of unique questions\", fontsize=30, labelpad=10, color = b16_colors.b)\n",
    "plt.tick_params(axis='x', which='major', labelsize=20)\n",
    "plt.tick_params(axis='y', which='major', labelsize=20)"
   ]
  },
  {
   "cell_type": "code",
   "execution_count": null,
   "metadata": {
    "collapsed": false,
    "hidden": true,
    "run_control": {
     "frozen": false,
     "read_only": false
    }
   },
   "outputs": [],
   "source": [
    "usable_questions = question_counts[:2].append(question_counts[3:4])"
   ]
  },
  {
   "cell_type": "code",
   "execution_count": null,
   "metadata": {
    "collapsed": false,
    "hidden": true,
    "run_control": {
     "frozen": false,
     "read_only": false
    }
   },
   "outputs": [],
   "source": [
    "print 'questions usable immedeatly = ' + str(usable_questions.sum())\n",
    "usable_questions"
   ]
  },
  {
   "cell_type": "code",
   "execution_count": null,
   "metadata": {
    "collapsed": false,
    "hidden": true,
    "run_control": {
     "frozen": false,
     "read_only": false
    }
   },
   "outputs": [],
   "source": [
    "for subject, flexbook in ck12_combined_dataset.items():\n",
    "    q_types = []\n",
    "    for lesson in flexbook.values():\n",
    "        for question in lesson['questions']['nonDiagramQuestions'].values():\n",
    "            q_types.append(question['type'])\n",
    "    question_counts = pd.Series(q_types).value_counts()\n",
    "    print 'total number of ' + subject + ' questions = ' + str(question_counts.sum())\n",
    "    print question_counts\n",
    "    print "
   ]
  },
  {
   "cell_type": "markdown",
   "metadata": {
    "heading_collapsed": true
   },
   "source": [
    "## looking for missing values"
   ]
  },
  {
   "cell_type": "code",
   "execution_count": null,
   "metadata": {
    "collapsed": false,
    "hidden": true,
    "run_control": {
     "frozen": false,
     "read_only": false
    },
    "scrolled": true
   },
   "outputs": [],
   "source": [
    "for subject, flexbook in flexbook_ds.items():\n",
    "    q_len = []\n",
    "    for lesson_name, lesson in flexbook.items():\n",
    "        q_len.append(len(lesson['questions']['nonDiagramQuestions'].values()))\n",
    "        if q_len[-1] == 7:\n",
    "            print  subject, lesson_name\n",
    "#             pprint.pprint(lesson['questions']['nonDiagramQuestions'])\n",
    "    q_lengths = pd.Series(q_len).value_counts()\n",
    "    print 'total number of ' + subject + ' lessons = ' + str(q_lengths.sum())\n",
    "    print q_lengths\n",
    "    print "
   ]
  },
  {
   "cell_type": "markdown",
   "metadata": {
    "hidden": true
   },
   "source": [
    "The lessons with fewer questions seem to be genuine, i.e. those are the number of questions in the workbook"
   ]
  },
  {
   "cell_type": "code",
   "execution_count": null,
   "metadata": {
    "collapsed": true,
    "hidden": true,
    "run_control": {
     "frozen": false,
     "read_only": false
    }
   },
   "outputs": [],
   "source": []
  },
  {
   "cell_type": "markdown",
   "metadata": {
    "heading_collapsed": true
   },
   "source": [
    "# html rendering"
   ]
  },
  {
   "cell_type": "markdown",
   "metadata": {
    "heading_collapsed": true,
    "hidden": true
   },
   "source": [
    "### old nested format"
   ]
  },
  {
   "cell_type": "code",
   "execution_count": null,
   "metadata": {
    "collapsed": false,
    "hidden": true,
    "run_control": {
     "frozen": false,
     "read_only": false
    }
   },
   "outputs": [],
   "source": [
    "from IPython.core.display import HTML"
   ]
  },
  {
   "cell_type": "code",
   "execution_count": null,
   "metadata": {
    "collapsed": false,
    "hidden": true,
    "run_control": {
     "frozen": false,
     "read_only": false
    },
    "scrolled": true
   },
   "outputs": [],
   "source": [
    "for subject, flexbook in ck12_combined_dataset.items():\n",
    "    for lesson_name, lesson in flexbook.items():\n",
    "        if lesson['questions']['diagramQuestions']:\n",
    "            lesson_html = display_lesson_html(ck12_combined_dataset[subject], lesson_name, 'questions')\n",
    "            with open(os.path.join('review_diagram_questions', lesson_name + '.html'), 'w') as f:\n",
    "                f.write(lesson_html.encode('ascii', 'ignore').decode('utf-8'))"
   ]
  },
  {
   "cell_type": "code",
   "execution_count": null,
   "metadata": {
    "collapsed": false,
    "hidden": true,
    "run_control": {
     "frozen": false,
     "read_only": false
    }
   },
   "outputs": [],
   "source": [
    "for subject, flexbook in ck12_combined_dataset.items():\n",
    "    for lesson_name, lesson in flexbook.items():\n",
    "        if 'instructionalDiagrams' in lesson.keys():\n",
    "            lesson_html = display_lesson_html(ck12_combined_dataset[subject], lesson_name, 'descriptions')\n",
    "            with open(os.path.join('review_diagram_descriptions', lesson_name + '.html'), 'w') as f:\n",
    "                f.write(lesson_html.encode('ascii', 'ignore').decode('utf-8'))"
   ]
  },
  {
   "cell_type": "markdown",
   "metadata": {
    "collapsed": true,
    "heading_collapsed": true,
    "hidden": true,
    "run_control": {
     "frozen": false,
     "read_only": false
    }
   },
   "source": [
    "### new flat format"
   ]
  },
  {
   "cell_type": "code",
   "execution_count": null,
   "metadata": {
    "collapsed": false,
    "hidden": true,
    "run_control": {
     "frozen": false,
     "read_only": false
    }
   },
   "outputs": [],
   "source": [
    "# display_lesson_html(ck12_combined_dataset[20], ck12_combined_dataset[20]['lessonName'], 'lessons', out_path)"
   ]
  },
  {
   "cell_type": "code",
   "execution_count": null,
   "metadata": {
    "collapsed": false,
    "hidden": true,
    "run_control": {
     "frozen": false,
     "read_only": false
    }
   },
   "outputs": [],
   "source": [
    "%%writefile render_html.py\n",
    "def render_html_from_dataset(path_to_data_json):\n",
    "    \n",
    "    with open(output_dir + 'build_v5f.json', 'r') as f:\n",
    "        ck12_combined_dataset = json.load(f)\n",
    "    \n",
    "    out_path = '../html_renders' \n",
    "    render_types = ['lessons', 'questions', 'descriptions']\n",
    "    for render in render_types:\n",
    "        for lesson in ck12_combined_dataset:\n",
    "            if render == 'lessons':\n",
    "                lesson_html = display_lesson_html(lesson, lesson['lessonName'], render, out_path)\n",
    "                with open(os.path.join(out_path, render, lesson['lessonName'].replace(' ', '_') + '.html'), 'w') as f:\n",
    "                    f.write(lesson_html.encode('ascii', 'ignore').decode('utf-8'))\n",
    "            elif lesson['questions']['diagramQuestions']:\n",
    "                lesson_html = display_lesson_html(lesson, lesson['lessonName'], render, out_path)\n",
    "                with open(os.path.join(out_path, render, lesson['lessonName'].replace(' ', '_') + '.html'), 'w') as f:\n",
    "                    f.write(lesson_html.encode('ascii', 'ignore').decode('utf-8'))"
   ]
  },
  {
   "cell_type": "code",
   "execution_count": null,
   "metadata": {
    "collapsed": true,
    "hidden": true,
    "run_control": {
     "frozen": false,
     "read_only": false
    }
   },
   "outputs": [],
   "source": [
    "render_html_from_dataset('./output_data_from_nbs/build_v5f.json')"
   ]
  },
  {
   "cell_type": "markdown",
   "metadata": {
    "heading_collapsed": true
   },
   "source": [
    "# building science word corpus"
   ]
  },
  {
   "cell_type": "code",
   "execution_count": null,
   "metadata": {
    "collapsed": false,
    "hidden": true,
    "run_control": {
     "frozen": false,
     "read_only": false
    }
   },
   "outputs": [],
   "source": [
    "flexbook_ds['life-science'].values()[0]['topics'].values()[0]"
   ]
  },
  {
   "cell_type": "code",
   "execution_count": null,
   "metadata": {
    "collapsed": false,
    "hidden": true,
    "run_control": {
     "frozen": false,
     "read_only": false
    }
   },
   "outputs": [],
   "source": [
    "vocab_sections = ['Lesson Vocabulary', 'Vocabulary']\n",
    "flexbook_vocab = set()\n",
    "\n",
    "for subject in flexbook_ds.values():\n",
    "    for lesson in subject.values():\n",
    "        for topic_name, topic in lesson['topics'].items():\n",
    "            if topic_name in vocab_sections:\n",
    "                vocab_section = topic['content']['text']\n",
    "                if '\\n' in vocab_section:\n",
    "                    flexbook_vocab.update(vocab_section.lower().split('\\n'))\n",
    "                elif ' ' in vocab_section:\n",
    "                    flexbook_vocab.update(vocab_section.lower().split())\n",
    "                else:\n",
    "                    print 'no vocab'"
   ]
  },
  {
   "cell_type": "code",
   "execution_count": null,
   "metadata": {
    "collapsed": false,
    "hidden": true,
    "run_control": {
     "frozen": false,
     "read_only": false
    }
   },
   "outputs": [],
   "source": [
    "len(flexbook_vocab)"
   ]
  },
  {
   "cell_type": "code",
   "execution_count": null,
   "metadata": {
    "collapsed": true,
    "hidden": true,
    "run_control": {
     "frozen": false,
     "read_only": false
    }
   },
   "outputs": [],
   "source": [
    "from nltk.tokenize import wordpunct_tokenize\n",
    "cached_sw = stopwords.words(\"english\") + list(string.punctuation)"
   ]
  },
  {
   "cell_type": "code",
   "execution_count": null,
   "metadata": {
    "collapsed": false,
    "hidden": true,
    "run_control": {
     "frozen": false,
     "read_only": false
    },
    "scrolled": true
   },
   "outputs": [],
   "source": [
    "vocab_list = list(flexbook_vocab)"
   ]
  },
  {
   "cell_type": "code",
   "execution_count": null,
   "metadata": {
    "collapsed": false,
    "hidden": true,
    "run_control": {
     "frozen": false,
     "read_only": false
    }
   },
   "outputs": [],
   "source": [
    "seperated_list = [word.replace('(', ' ').replace(')', ' ').split() for word in vocab_list]"
   ]
  },
  {
   "cell_type": "code",
   "execution_count": null,
   "metadata": {
    "collapsed": true,
    "hidden": true,
    "run_control": {
     "frozen": false,
     "read_only": false
    }
   },
   "outputs": [],
   "source": [
    "flattened_list = [item for sublist in seperated_list for item in sublist if len(item) > 3 and item not in cached_sw]"
   ]
  },
  {
   "cell_type": "code",
   "execution_count": null,
   "metadata": {
    "collapsed": false,
    "hidden": true,
    "run_control": {
     "frozen": false,
     "read_only": false
    }
   },
   "outputs": [],
   "source": [
    "len(flattened_list)"
   ]
  },
  {
   "cell_type": "code",
   "execution_count": null,
   "metadata": {
    "collapsed": false,
    "hidden": true,
    "run_control": {
     "frozen": false,
     "read_only": false
    }
   },
   "outputs": [],
   "source": [
    "with open('ck_12_vocab_words.pkl', 'w') as f:\n",
    "    pickle.dump(flattened_list, f)"
   ]
  },
  {
   "cell_type": "markdown",
   "metadata": {
    "hidden": true
   },
   "source": [
    "Use entire corpus"
   ]
  },
  {
   "cell_type": "code",
   "execution_count": null,
   "metadata": {
    "collapsed": true,
    "hidden": true,
    "run_control": {
     "frozen": false,
     "read_only": false
    }
   },
   "outputs": [],
   "source": [
    "flexbook_vocab = ''\n",
    "\n",
    "for subject in flexbook_ds.values():\n",
    "    for lesson in subject.values():\n",
    "        for topic_name, topic in lesson['topics'].items():\n",
    "            vocab_section = topic['content']['text']\n",
    "            flexbook_vocab += ' ' + vocab_section.lower()"
   ]
  },
  {
   "cell_type": "code",
   "execution_count": null,
   "metadata": {
    "collapsed": false,
    "hidden": true,
    "run_control": {
     "frozen": false,
     "read_only": false
    }
   },
   "outputs": [],
   "source": [
    "len(flexbook_vocab)"
   ]
  },
  {
   "cell_type": "code",
   "execution_count": null,
   "metadata": {
    "collapsed": false,
    "hidden": true,
    "run_control": {
     "frozen": false,
     "read_only": false
    }
   },
   "outputs": [],
   "source": [
    "fb_tokens = wordpunct_tokenize(flexbook_vocab)\n",
    "normalized_tokens = [toke.strip().lower().encode('ascii', 'ignore').decode() for toke in fb_tokens if toke not in cached_sw]"
   ]
  },
  {
   "cell_type": "code",
   "execution_count": null,
   "metadata": {
    "collapsed": true,
    "hidden": true,
    "run_control": {
     "frozen": false,
     "read_only": false
    }
   },
   "outputs": [],
   "source": [
    "tb_freq_d = nltk.FreqDist(normalized_tokens)\n",
    "most_common_fb_words = tb_freq_d.most_common()"
   ]
  },
  {
   "cell_type": "code",
   "execution_count": null,
   "metadata": {
    "collapsed": false,
    "hidden": true,
    "run_control": {
     "frozen": false,
     "read_only": false
    }
   },
   "outputs": [],
   "source": [
    "fb_entire_corpus_vb = set(normalized_tokens)"
   ]
  },
  {
   "cell_type": "code",
   "execution_count": null,
   "metadata": {
    "collapsed": true,
    "hidden": true,
    "run_control": {
     "frozen": false,
     "read_only": false
    }
   },
   "outputs": [],
   "source": [
    "with open('ck_12_all_words.pkl', 'w') as f:\n",
    "    pickle.dump(fb_entire_corpus_vb, f)"
   ]
  },
  {
   "cell_type": "code",
   "execution_count": null,
   "metadata": {
    "collapsed": false,
    "hidden": true,
    "run_control": {
     "frozen": false,
     "read_only": false
    }
   },
   "outputs": [],
   "source": [
    "len(fb_entire_corpus_vb)"
   ]
  },
  {
   "cell_type": "markdown",
   "metadata": {
    "heading_collapsed": true
   },
   "source": [
    "# End"
   ]
  },
  {
   "cell_type": "code",
   "execution_count": null,
   "metadata": {
    "collapsed": true,
    "hidden": true,
    "run_control": {
     "frozen": false,
     "read_only": false
    }
   },
   "outputs": [],
   "source": [
    "import jinja2\n",
    "from IPython.core.display import HTML\n",
    "\n",
    "jnjenv = jinja2.Environment()\n",
    "\n",
    "%%writefile lesson_viz.py\n",
    "def make_lesson_data(lesson_json):\n",
    "    nested_text = []    \n",
    "    for topic, content in sorted(lesson_json['topics'].items(), key=lambda (k,v): v['orderID']):\n",
    "        nested_text.append((topic, content['content']['text']))\n",
    "    return nested_text\n",
    "\n",
    "def make_page_html(lesson_data, page_html):\n",
    "    return jnjenv.from_string(page_html).render(lesson=lesson_data[0], topics=lesson_data[1])\n",
    "\n",
    "def display_lesson_html(flexbook, lesson):\n",
    "    lesson_json = flexbook[lesson]\n",
    "    lesson_data = (lesson, make_lesson_data(lesson_json))\n",
    "    lesson_html = make_page_html(lesson_data, page_html)\n",
    "    return HTML(lesson_html)\n",
    "\n",
    "page_html = \"\"\"\n",
    "<!DOCTYPE html>\n",
    "<html>\n",
    "  <head>\n",
    "    <style type=\"text/css\">\n",
    "    </style>\n",
    "  </head>\n",
    "  <body>\n",
    "    <div class=\"container\">\n",
    "      <h1>Lesson: {{lesson}}</h1>\n",
    "      <ul>\n",
    "        {% for topic in topics %}\n",
    "        <p>\n",
    "        </p>\n",
    "        <h3>{{topic.0}}</h3>\n",
    "        <p>{{\n",
    "        topic.1\n",
    "        }}</p>\n",
    "        {% endfor %}\n",
    "      </ul>\n",
    "    </div>\n",
    "    <script src=\"http://code.jquery.com/jquery-1.10.2.min.js\"></script>\n",
    "    <script src=\"http://netdna.bootstrapcdn.com/bootstrap/3.0.0/js/bootstrap.min.js\"></script>\n",
    "  </body>\n",
    "</html>\n",
    "\"\"\""
   ]
  },
  {
   "cell_type": "code",
   "execution_count": null,
   "metadata": {
    "collapsed": true,
    "hidden": true,
    "run_control": {
     "frozen": false,
     "read_only": false
    }
   },
   "outputs": [],
   "source": [
    "\n",
    "stat_data = {'Number of Entities':stats_counter, 'Average Number per image': stats_fract}\n",
    "count = 2\n",
    "html = \"<table>\"\n",
    "# add header row\n",
    "\n",
    "html += \"<tr><th>\"\n",
    "for k in stat_data.keys():\n",
    "    html += \"<th>\"+k\n",
    "\n",
    "html += \"<tr><th>Entity Category\"\n",
    "for j in range(count):\n",
    "    html += \"<th>\"\n",
    "\n",
    "for k, v in stats_counter.items():\n",
    "    html += \"<tr><th>\"+k\n",
    "#     for j in range(count):\n",
    "    html += \"<td>\" + str(v)\n",
    "    html += \"<td>\" + \"%.2f\" % stats_fract[k]\n",
    "html += '<tr>'\n",
    "    \n",
    "# for k, v in stats_fract.items():\n",
    "#     html += \"<tr><th>\"+k\n",
    "#     for j in range(count):\n",
    "#         html += \"<td>\" + str(v)\n",
    "        \n",
    "html += \"</table>\"\n",
    "HTML(html)"
   ]
  },
  {
   "cell_type": "code",
   "execution_count": null,
   "metadata": {
    "collapsed": true,
    "hidden": true,
    "run_control": {
     "frozen": false,
     "read_only": false
    }
   },
   "outputs": [],
   "source": [
    "page_html = \"\"\"\n",
    "<html>\n",
    "<head>\n",
    "<title>{{ title }}</title>\n",
    "</head>\n",
    "<body>\n",
    "Hello.\n",
    "</body>\n",
    "</html>\n",
    "\"\"\""
   ]
  },
  {
   "cell_type": "code",
   "execution_count": null,
   "metadata": {
    "code_folding": [
     1
    ],
    "collapsed": true,
    "hidden": true,
    "run_control": {
     "frozen": false,
     "read_only": false
    }
   },
   "outputs": [],
   "source": [
    "page_template = \"\"\"\n",
    "<html>\n",
    " <head>\n",
    "  <title>KB HIT</title>\n",
    "  <meta content='text/html'/>\n",
    "  <script type='text/javascript' src='https://s3.amazonaws.com/mturk-public/externalHIT_v1.js'></script>\n",
    " </head>\n",
    " <body>\n",
    "    <p>We are constructing a large knowledge base (KB) about elementary science and commonsense knowledge, to help computers answer questions more reliably. We are planning to release the KB as a free, open source resource for the community when it is complete. Your work here will help us assemble this KB and contribute to this effort.</p>\n",
    "\n",
    "    <p>Below, the computer has automatically extracted some candidate facts from text for possible inclusion in the KB. However, some are weird, false, or nonsensical. This task will help us distinguish the good facts, to include in the KB, from the bad.</p>\n",
    "     <form name='mturk_form' method='post' id='mturk_form' action='https://workersandbox.mturk.com/mturk/externalSubmit'>\n",
    "      <input type='hidden' value='' name='assignmentId' id='assignmentId'/>\t\t \n",
    "      <table>\n",
    "        <tr><th></th><th>Commonsense Knowledge</th></tr>\n",
    "        {% for n in input_data %}\n",
    "            <tr><td>{{n.sentence}}</td><td nowrap>\n",
    "            <!--these break-->\n",
    "            <!--<input type=\"hidden\" name=\"{{n.sentence_id}}\" id=\"assignmentId\" value=\"ASSIGNMENT_NOT_AVAILABLE\" />-->\n",
    "            <!--<input type=\"hidden\" name=\"assignmentId\" id=\"assignmentId\" value=\"ASSIGNMENT_NOT_AVAILABLE\" />-->\n",
    "            <!--this is in the official documentation but breaks anyway!-->\n",
    "            <!--<input type='hidden' value='' name='assignmentId' id='assignmentId'/>-->\n",
    "            <!--this works:-->\n",
    "            <input name=\"{{n.sentence_id}}\" type=\"radio\" value=\"true-act\" />EXPECTED ACTION\n",
    "            <input name=\"{{n.sentence_id}}\" type=\"radio\" value=\"false-act\" />RARE/FALSE ACTION\n",
    "            <input name=\"{{n.sentence_id}}\" type=\"radio\" value=\"true-prop\" />TRUE PROPERTY\n",
    "            <input name=\"{{n.sentence_id}}\" type=\"radio\" value=\"false-prop\" />RARE/FALSE PROPERTY\n",
    "            <input name=\"{{n.sentence_id}}\" type=\"radio\" value=\"nonsense\" />NONSENSE\n",
    "            <input name=\"{{n.sentence_id}}\" type=\"radio\" value=\"unknown\" />DON'T KNOW\n",
    "            </td></tr>\n",
    "        {% endfor %}\n",
    "      </table>\n",
    "      <p><input type=\"submit\" id=\"submitButton\" value=\"Submit\" /></p>\n",
    "   </form>\n",
    "  <script language=\"Javascript\">turkSetAssignmentID();</script>\n",
    " </body>\n",
    "</html>\n",
    "\n",
    "\"\"\""
   ]
  },
  {
   "cell_type": "code",
   "execution_count": null,
   "metadata": {
    "collapsed": true,
    "hidden": true,
    "run_control": {
     "frozen": false,
     "read_only": false
    }
   },
   "outputs": [],
   "source": [
    "subject = 'life-science' \n",
    "# lesson = '15.1 Understanding Animal Behavior'\n",
    "random_lesson = np.random.choice(flexbook_ds[subject].keys(), 1)[0]\n",
    "display_lesson_html(flexbook_ds[subject], random_lesson)"
   ]
  }
 ],
 "metadata": {
  "kernelspec": {
   "display_name": "Python 3",
   "language": "python",
   "name": "python3"
  },
  "language_info": {
   "codemirror_mode": {
    "name": "ipython",
    "version": 3
   },
   "file_extension": ".py",
   "mimetype": "text/x-python",
   "name": "python",
   "nbconvert_exporter": "python",
   "pygments_lexer": "ipython3",
   "version": "3.5.2"
  }
 },
 "nbformat": 4,
 "nbformat_minor": 1
}
