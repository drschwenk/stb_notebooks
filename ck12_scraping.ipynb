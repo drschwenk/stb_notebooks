{
 "cells": [
  {
   "cell_type": "markdown",
   "metadata": {},
   "source": [
    "# Eric's approach for quizes"
   ]
  },
  {
   "cell_type": "code",
   "execution_count": 148,
   "metadata": {
    "collapsed": false,
    "run_control": {
     "frozen": false,
     "read_only": false
    }
   },
   "outputs": [],
   "source": [
    "import requests\n",
    "import os.path\n",
    "from lxml import html\n",
    "import time\n",
    "from collections import defaultdict"
   ]
  },
  {
   "cell_type": "code",
   "execution_count": 4,
   "metadata": {
    "collapsed": true,
    "run_control": {
     "frozen": false,
     "read_only": false
    }
   },
   "outputs": [],
   "source": [
    "def download_quizzes(topic, output_dir):\n",
    "    os.makedirs(output_dir, exist_ok=True)\n",
    "    concepts = get_concepts(topic)\n",
    "    for c in concepts:\n",
    "        quizzes = get_quizzes(c)\n",
    "        for q in quizzes:\n",
    "            download_quiz(output_dir, q)\n",
    "\n",
    "\n",
    "def get_concepts(topic):\n",
    "    res = requests.get('http://www.ck12.org/%s/' % topic)\n",
    "    res.raise_for_status()\n",
    "    content = res.content\n",
    "    tree = html.fromstring(content)\n",
    "    concepts = []\n",
    "    for e in tree.xpath('//li[@class=\"concepts\"]/a'):\n",
    "        concepts.append(e.attrib['href'].split('/')[-2])\n",
    "    return concepts\n",
    "\n",
    "\n",
    "def get_quizzes(concept):\n",
    "    quizzes = []\n",
    "    url = 'http://api-prod.ck12.org/flx/get/minimal/modalities/at%20grade/' + concept + '?pageSize=13&pageNum=0&ownedBy=ck12&modalities=concept%2Clessonplan%2Clessonplanans%2Csimulationint%2Clessonplanx%2Crubric%2Cactivityans%2Clesson%2Cpostreadans%2Cprepostread%2Cweb%2Ccthink%2Crwaans%2Csection%2Cplix%2Cwhileread%2Cquiz%2Clessonplanxans%2Cpreread%2Cattachment%2Clecture%2Cpresentation%2Cimage%2Cquizdemo%2Crwa%2Cwhilereadans%2Cprereadans%2Cpostread%2Cexerciseint%2Clab%2Cflashcard%2Cstudyguide%2Cquizans%2Casmtpractice%2Cprepostreadans%2Clabans%2Casmtquiz%2Cworksheet%2Chandout%2Csimulation%2Cexercise%2Cactivity%2Cworksheetans%2Caudio%2Cconceptmap%2Cenrichment%2Cinteractive&level=at%2Bgrade&expirationAge=daily'\n",
    "    res = requests.get(url)\n",
    "    res.raise_for_status()\n",
    "    for m in res.json()['response']['domain']['modalities']:\n",
    "        if m['artifactType'] == 'quiz':\n",
    "            quizzes.append(m['perma'].split('/')[-1])\n",
    "    return quizzes\n",
    "\n",
    "\n",
    "def download_quiz(output_dir, quiz):\n",
    "    filename = output_dir + '/{0}-Answer-Key.docx'.format(quiz)\n",
    "    if os.path.isfile(filename):\n",
    "        return\n",
    "\n",
    "    res = requests.get('http://www.ck12.org/flx/show/answer%20key/' + quiz + '-Answer-Key')\n",
    "    if res.status_code != 200:\n",
    "        return\n",
    "\n",
    "    res.raise_for_status()\n",
    "    assert res.headers['Content-Type'] == 'application/vnd.openxmlformats-officedocument.wordprocessingml.document'\n",
    "    with open(filename, 'wb') as f:\n",
    "        f.write(res.content)"
   ]
  },
  {
   "cell_type": "code",
   "execution_count": 5,
   "metadata": {
    "collapsed": true,
    "run_control": {
     "frozen": false,
     "read_only": false
    }
   },
   "outputs": [],
   "source": [
    "def download_ck12_quizzes(ctx, topic, directory):\n",
    "    \"\"\"Download quizzes from http://www.ck12.org/\"\"\"\n",
    "    download_quizzes(topic, directory)\n",
    "    logger.info('Downloading quizzes completed')"
   ]
  },
  {
   "cell_type": "code",
   "execution_count": 6,
   "metadata": {
    "collapsed": true,
    "run_control": {
     "frozen": false,
     "read_only": false
    }
   },
   "outputs": [],
   "source": [
    "topics = ['earth-science', 'life-science', 'physical-science']"
   ]
  },
  {
   "cell_type": "code",
   "execution_count": 8,
   "metadata": {
    "collapsed": false,
    "run_control": {
     "frozen": false,
     "read_only": false
    }
   },
   "outputs": [],
   "source": [
    "es_topics = get_concepts(topics[0])"
   ]
  },
  {
   "cell_type": "code",
   "execution_count": 9,
   "metadata": {
    "collapsed": false,
    "run_control": {
     "frozen": false,
     "read_only": false
    }
   },
   "outputs": [
    {
     "data": {
      "text/plain": [
       "'Scientific-Explanations-and-Interpretations'"
      ]
     },
     "execution_count": 9,
     "metadata": {},
     "output_type": "execute_result"
    }
   ],
   "source": [
    "es_topics[0]"
   ]
  },
  {
   "cell_type": "code",
   "execution_count": 10,
   "metadata": {
    "collapsed": false,
    "run_control": {
     "frozen": false,
     "read_only": false
    }
   },
   "outputs": [
    {
     "data": {
      "text/plain": [
       "['Scientific-Explanations-and-Interpretations-Quiz']"
      ]
     },
     "execution_count": 10,
     "metadata": {},
     "output_type": "execute_result"
    }
   ],
   "source": [
    "get_quizzes(es_topics[0])"
   ]
  },
  {
   "cell_type": "code",
   "execution_count": 18,
   "metadata": {
    "collapsed": false,
    "run_control": {
     "frozen": false,
     "read_only": false
    }
   },
   "outputs": [],
   "source": [
    "def get_reading(concept):\n",
    "    quizzes = []\n",
    "    url = 'http://api-prod.ck12.org/flx/get/minimal/modalities/at%20grade/' + concept + \\\n",
    "    '?pageSize=13&pageNum=0&ownedBy=ck12&modalities=concept%2Clessonplan%2Clessonplanans%2Csimulationint%2Clessonplanx%2Crubric%2Cactivityans%2Clesson%2Cpostreadans%2Cprepostread%2Cweb%2Ccthink%2Crwaans%2Csection%2Cplix%2Cwhileread%2Cquiz%2Clessonplanxans%2Cpreread%2Cattachment%2Clecture%2Cpresentation%2Cimage%2Cquizdemo%2Crwa%2Cwhilereadans%2Cprereadans%2Cpostread%2Cexerciseint%2Clab%2Cflashcard%2Cstudyguide%2Cquizans%2Casmtpractice%2Cprepostreadans%2Clabans%2Casmtquiz%2Cworksheet%2Chandout%2Csimulation%2Cexercise%2Cactivity%2Cworksheetans%2Caudio%2Cconceptmap%2Cenrichment%2Cinteractive&level=at%2Bgrade&expirationAge=daily'\n",
    "    res = requests.get(url)\n",
    "    res.raise_for_status()\n",
    "    for m in res.json()['response']['domain']['modalities']:\n",
    "        if m['artifactType'] == 'lesson':\n",
    "            quizzes.append(m['perma'].split('/')[-1])\n",
    "    return quizzes"
   ]
  },
  {
   "cell_type": "code",
   "execution_count": 20,
   "metadata": {
    "collapsed": false,
    "run_control": {
     "frozen": false,
     "read_only": false
    }
   },
   "outputs": [],
   "source": [
    "es_readings = get_reading(es_topics[0])"
   ]
  },
  {
   "cell_type": "code",
   "execution_count": 22,
   "metadata": {
    "collapsed": true,
    "run_control": {
     "frozen": false,
     "read_only": false
    }
   },
   "outputs": [],
   "source": [
    "def download_reading(output_dir, quiz):\n",
    "#     filename = output_dir + '/{0}-Answer-Key.docx'.format(quiz)\n",
    "    if os.path.isfile(filename):\n",
    "        return\n",
    "\n",
    "    res = requests.get('http://www.ck12.org/earth-science/Scientific-Explanations-and-Interpretations/lesson/' + quiz)\n",
    "    if res.status_code != 200:\n",
    "        return\n",
    "    return res\n",
    "#     res.raise_for_status()\n",
    "    \n",
    "#     assert res.headers['Content-Type'] == 'application/vnd.openxmlformats-officedocument.wordprocessingml.document'\n",
    "#     with open(filename, 'wb') as f:\n",
    "#         f.write(res.content)"
   ]
  },
  {
   "cell_type": "code",
   "execution_count": 24,
   "metadata": {
    "collapsed": false,
    "run_control": {
     "frozen": false,
     "read_only": false
    }
   },
   "outputs": [],
   "source": [
    "tr1 = download_reading('test_out', es_readings[0])"
   ]
  },
  {
   "cell_type": "code",
   "execution_count": 35,
   "metadata": {
    "collapsed": false,
    "run_control": {
     "frozen": false,
     "read_only": false
    }
   },
   "outputs": [],
   "source": [
    "from IPython.core.display import HTML"
   ]
  },
  {
   "cell_type": "markdown",
   "metadata": {},
   "source": [
    "data-artifactID=\"7845\"\n",
    "\n",
    "data-artifactrevisionid=\"4479090\""
   ]
  },
  {
   "cell_type": "code",
   "execution_count": 71,
   "metadata": {
    "collapsed": false,
    "run_control": {
     "frozen": false,
     "read_only": false
    }
   },
   "outputs": [],
   "source": [
    "# tr1.text"
   ]
  },
  {
   "cell_type": "code",
   "execution_count": 49,
   "metadata": {
    "collapsed": false,
    "run_control": {
     "frozen": false,
     "read_only": false
    }
   },
   "outputs": [],
   "source": [
    "# HTML(tr1.text)"
   ]
  },
  {
   "cell_type": "markdown",
   "metadata": {},
   "source": [
    "http://www.ck12.org/earth-science/Scientific-Explanations-and-Interpretations/lesson/Scientific-Explanations-and-Interpretations-HS-ES/"
   ]
  },
  {
   "cell_type": "markdown",
   "metadata": {},
   "source": [
    "https://dr282zn36sxxg.cloudfront.net/datastreams/f-d%3A6c10752ab34313f4f7108cf6cc8a016dc3e0adb7083d0fec7d74efdd%2BPDF%2BPDF.1"
   ]
  },
  {
   "cell_type": "markdown",
   "metadata": {},
   "source": [
    "Scientific-Explanations-and-Interpretations-HS-ES_l_v50_qri_s1.pdf"
   ]
  },
  {
   "cell_type": "markdown",
   "metadata": {},
   "source": [
    "http://www.ck12.org/flx/show/answer%20key/Scientific-Explanations-and-Interpretations-Quiz-Answer-Key"
   ]
  },
  {
   "cell_type": "markdown",
   "metadata": {},
   "source": [
    "http://www.ck12.org/flx/show/answer%20key/Scientific-Explanations-and-Interpretations-Quiz-MS-ES-Answer-Key"
   ]
  },
  {
   "cell_type": "markdown",
   "metadata": {},
   "source": [
    "http://www.ck12.org/flx/show/pdf/Bathymetric-Evidence-for-Seafloor-Spreading-HS-ES_l_v48_fyo_s1.pdf"
   ]
  },
  {
   "cell_type": "code",
   "execution_count": null,
   "metadata": {
    "collapsed": true,
    "run_control": {
     "frozen": false,
     "read_only": false
    }
   },
   "outputs": [],
   "source": [
    "http://www.ck12.org/flx/show/pdf/Scientific-Explanations-and-Interpretations-HS-ES_l_v50_qri_s1.pdf"
   ]
  },
  {
   "cell_type": "markdown",
   "metadata": {},
   "source": [
    "# Using BS4"
   ]
  },
  {
   "cell_type": "code",
   "execution_count": null,
   "metadata": {
    "collapsed": true
   },
   "outputs": [],
   "source": [
    "import requests\n",
    "from bs4 import BeautifulSoup"
   ]
  },
  {
   "cell_type": "code",
   "execution_count": 77,
   "metadata": {
    "collapsed": true
   },
   "outputs": [],
   "source": [
    "def get_concepts(topic):\n",
    "    res = requests.get('http://www.ck12.org/%s/' % topic)\n",
    "    res.raise_for_status()\n",
    "    content = res.content\n",
    "    tree = html.fromstring(content)\n",
    "    concepts = []\n",
    "    for e in tree.xpath('//li[@class=\"concepts\"]/a'):\n",
    "        concepts.append(e.attrib['href'].split('/')[-2])\n",
    "    return concepts"
   ]
  },
  {
   "cell_type": "code",
   "execution_count": 150,
   "metadata": {
    "collapsed": false
   },
   "outputs": [],
   "source": [
    "def get_readings(concept):\n",
    "    readings = []\n",
    "    url = 'http://api-prod.ck12.org/flx/get/minimal/modalities/at%20grade/' + concept + \\\n",
    "    '?pageSize=13&pageNum=0&ownedBy=ck12&modalities=concept%2Clessonplan%2Clessonplanans%2Csimulationint%2Clessonplanx%2Crubric%2Cactivityans%2Clesson%2Cpostreadans%2Cprepostread%2Cweb%2Ccthink%2Crwaans%2Csection%2Cplix%2Cwhileread%2Cquiz%2Clessonplanxans%2Cpreread%2Cattachment%2Clecture%2Cpresentation%2Cimage%2Cquizdemo%2Crwa%2Cwhilereadans%2Cprereadans%2Cpostread%2Cexerciseint%2Clab%2Cflashcard%2Cstudyguide%2Cquizans%2Casmtpractice%2Cprepostreadans%2Clabans%2Casmtquiz%2Cworksheet%2Chandout%2Csimulation%2Cexercise%2Cactivity%2Cworksheetans%2Caudio%2Cconceptmap%2Cenrichment%2Cinteractive&level=at%2Bgrade&expirationAge=daily'\n",
    "    res = requests.get(url)\n",
    "    res.raise_for_status()\n",
    "    for m in res.json()['response']['domain']['modalities']:\n",
    "        if m['artifactType'] == 'lesson':\n",
    "            readings.append(m['perma'].split('/')[-1])\n",
    "    return readings"
   ]
  },
  {
   "cell_type": "code",
   "execution_count": 79,
   "metadata": {
    "collapsed": true
   },
   "outputs": [],
   "source": [
    "topics = ['earth-science', 'life-science', 'physical-science']"
   ]
  },
  {
   "cell_type": "code",
   "execution_count": 80,
   "metadata": {
    "collapsed": false
   },
   "outputs": [],
   "source": [
    "es_topics = get_concepts(topics[0])"
   ]
  },
  {
   "cell_type": "code",
   "execution_count": 151,
   "metadata": {
    "collapsed": true
   },
   "outputs": [],
   "source": [
    "topic_readings = defaultdict(list)\n",
    "for topic in es_topics[5:10]:\n",
    "    topic_readings[topic].extend(get_readings(topic))"
   ]
  },
  {
   "cell_type": "code",
   "execution_count": 153,
   "metadata": {
    "collapsed": false
   },
   "outputs": [
    {
     "data": {
      "text/plain": [
       "defaultdict(list,\n",
       "            {'Development-of-Theories': ['Development-of-Theories-HS-ES',\n",
       "              'user:chubbard',\n",
       "              'user:amvmzmvyev9mzwf0agvyc0boym9llm9yzw..'],\n",
       "             'Evolution-Plate-Tectonics-and-Climate-Change': ['Evolution-Plate-Tectonics-and-Climate-Change-HS-ES',\n",
       "              'user:chubbard'],\n",
       "             'Observations-and-Experiments': ['Observations-and-Experiments-HS-ES',\n",
       "              'user:chubbard',\n",
       "              'user:amvmzmvyev9mzwf0agvyc0boym9llm9yzw..'],\n",
       "             'Scientific-Community': ['Scientific-Community-HS-ES',\n",
       "              'user:chubbard',\n",
       "              'user:cgftzwxhlnjlbmvllmfzaebnbwfpbc5jb20.'],\n",
       "             'Scientific-Models': ['Scientific-Models-HS-ES',\n",
       "              'user:ekb5ywhvby5jb20.',\n",
       "              'user:tlake25']})"
      ]
     },
     "execution_count": 153,
     "metadata": {},
     "output_type": "execute_result"
    }
   ],
   "source": [
    "topic_readings"
   ]
  },
  {
   "cell_type": "code",
   "execution_count": 147,
   "metadata": {
    "collapsed": false
   },
   "outputs": [],
   "source": [
    "def make_pdf_download_requests(topic_readings):\n",
    "    my_acc_cookie = dict(dxtr='9e95ada69c9997e9ecdddfdcdff1e3eee2f3e9ef',\n",
    "                  auth='2f04b86dd1d095a9fe9ed75bc15fcee7fd857ace00764530d5424291834ed5af925c58a9',\n",
    "                  walkthrough='walkthrough',\n",
    "                  mceVersion='4',\n",
    "                  mceSeenNewEditor='true',\n",
    "                  ck12olympics='visited',\n",
    "                  flxweb='886838535f5f9dd052853d36d7bdfad9eeeb83d0c8e99c1e4f684ec6b95d86869ea18847',\n",
    "                  cdnAPIver='20160809',\n",
    "                  assessment='403a5b7cae2f9cb667fc62cb75dd6c1108d1da60ae2f3ec365e64b04b48f74207b35a016',\n",
    "                  flxDashboardState='selfStudy',\n",
    "                  flxweb_role='teacher',\n",
    "                  browseview='listview', \n",
    "                  dexterjsVisitorID='j5OhVsPELviphLX6FnDk9RInN'\n",
    "                 )\n",
    "\n",
    "    render_responses = {}\n",
    "    lesson_base_url = 'http://www.ck12.org/earth-science/{}/lesson/{}'\n",
    "    render_req_base_url = 'http://www.ck12.org/render/pdf/status/{}/{}'\n",
    "\n",
    "    for topic, lessons in topic_readings.items():\n",
    "        for lesson in lessons:\n",
    "            lesson_url = lesson_base_url.format(topic, lesson)\n",
    "            lesson_r = requests.get(lesson_url)\n",
    "            soup = BeautifulSoup(lesson_r.content, 'html.parser')\n",
    "            pdf_links = soup.find_all(\"a\", {\"class\":\"js_signinrequired pdf\"})\n",
    "            link_attr = pdf_links[0].attrs\n",
    "            da_id = link_attr['data-artifactid']\n",
    "            dar_id = link_attr['data-artifactrevisionid']\n",
    "            render_req_url = render_req_base_url.format(da_id, dar_id)\n",
    "            render_responses[lesson] = requests.get(render_req_url, cookies= my_acc_cookie).json()\n",
    "    return render_responses"
   ]
  },
  {
   "cell_type": "code",
   "execution_count": 145,
   "metadata": {
    "collapsed": false
   },
   "outputs": [
    {
     "data": {
      "text/plain": [
       "{'Development-of-Theories-HS-ES': 'http://www.ck12.org/flx/show/pdf/Development-of-Theories-HS-ES_l_v54_acs_s1.pdf',\n",
       " 'Evolution-Plate-Tectonics-and-Climate-Change-HS-ES': 'http://www.ck12.org/flx/show/pdf/Evolution-Plate-Tectonics-and-Climate-Change-HS-ES_l_v51_pjg_s1.pdf',\n",
       " 'Observations-and-Experiments-HS-ES': 'http://www.ck12.org/flx/show/pdf/Observations-and-Experiments-HS-ES_l_v53_zcs_s1.pdf'}"
      ]
     },
     "execution_count": 145,
     "metadata": {},
     "output_type": "execute_result"
    }
   ],
   "source": [
    "{topic: resp['result'] for topic, resp in render_responses.items()}"
   ]
  },
  {
   "cell_type": "code",
   "execution_count": null,
   "metadata": {
    "collapsed": true
   },
   "outputs": [],
   "source": []
  },
  {
   "cell_type": "code",
   "execution_count": null,
   "metadata": {
    "collapsed": true
   },
   "outputs": [],
   "source": []
  },
  {
   "cell_type": "code",
   "execution_count": null,
   "metadata": {
    "collapsed": true
   },
   "outputs": [],
   "source": [
    "url = 'http://www.ck12.org/earth-science/Scientific-Explanations-and-Interpretations/lesson/' + 'Scientific-Explanations-and-Interpretations-HS-ES'\n",
    "page_doc = requests.get(url)\n",
    "soup = BeautifulSoup(page_doc.content, 'html.parser')_"
   ]
  },
  {
   "cell_type": "code",
   "execution_count": 23,
   "metadata": {
    "collapsed": false
   },
   "outputs": [],
   "source": [
    "results = soup.find_all(\"a\", {\"class\":\"js_signinrequired pdf\"})[0]"
   ]
  },
  {
   "cell_type": "code",
   "execution_count": 28,
   "metadata": {
    "collapsed": false,
    "scrolled": false
   },
   "outputs": [
    {
     "data": {
      "text/plain": [
       "{'class': ['js_signinrequired', 'pdf'],\n",
       " 'data-artifactid': '7845',\n",
       " 'data-artifactrevisionid': '4479090',\n",
       " 'data-rendertemplatetype': 'onecolumn',\n",
       " 'data-rendertype': 'pdf',\n",
       " 'href': '#'}"
      ]
     },
     "execution_count": 28,
     "metadata": {},
     "output_type": "execute_result"
    }
   ],
   "source": [
    "results.attrs"
   ]
  },
  {
   "cell_type": "code",
   "execution_count": 31,
   "metadata": {
    "collapsed": false
   },
   "outputs": [],
   "source": [
    "da_id = results.attrs['data-artifactid']\n",
    "dar_id = results.attrs['data-artifactrevisionid']"
   ]
  },
  {
   "cell_type": "code",
   "execution_count": 33,
   "metadata": {
    "collapsed": false
   },
   "outputs": [
    {
     "data": {
      "text/plain": [
       "'http://www.ck12.org/render/pdf/status/7845/4479090'"
      ]
     },
     "execution_count": 33,
     "metadata": {},
     "output_type": "execute_result"
    }
   ],
   "source": [
    "render_req_url = 'http://www.ck12.org/render/pdf/status/' + da_id + '/'  +dar_id\n",
    "render_req_url"
   ]
  },
  {
   "cell_type": "code",
   "execution_count": 62,
   "metadata": {
    "collapsed": false
   },
   "outputs": [],
   "source": [
    "render_resp = requests.get(render_req_url, cookies= acc_cookie)"
   ]
  },
  {
   "cell_type": "code",
   "execution_count": null,
   "metadata": {
    "collapsed": true
   },
   "outputs": [],
   "source": [
    "def download_lesson_pdf(output_dir, pdf_uri):\n",
    "    filename = 'test_dl' + '/'.format(quiz)\n",
    "    if os.path.isfile(filename):\n",
    "        return\n",
    "\n",
    "    res = requests.get(pdf_uri)\n",
    "    if res.status_code != 200:\n",
    "        return\n",
    "\n",
    "    res.raise_for_status()\n",
    "    assert res.headers['Content-Type'] == 'application/vnd.openxmlformats-officedocument.wordprocessingml.document'\n",
    "    with open(filename, 'wb') as f:\n",
    "        f.write(res.content)"
   ]
  },
  {
   "cell_type": "code",
   "execution_count": 66,
   "metadata": {
    "collapsed": false
   },
   "outputs": [
    {
     "data": {
      "text/plain": [
       "{'hostname': 'cevag2.px12.bet',\n",
       " 'id': 15537603,\n",
       " 'name': 'pdf',\n",
       " 'owner': {'authID': 1442441,\n",
       "  'defaultLogin': 'zhvzdgluc0bhbgxlbmfplm9yzw..',\n",
       "  'email': 'dustins@allenai.org',\n",
       "  'id': 1442441,\n",
       "  'login': 'zhvzdgluc0bhbgxlbmfplm9yzw..',\n",
       "  'name': 'Dustin Schwenk',\n",
       "  'timezone': 'US/Pacific'},\n",
       " 'result': 'http://www.ck12.org/flx/show/pdf/Scientific-Explanations-and-Interpretations-HS-ES_l_v50_qri_s1.pdf',\n",
       " 'started': '2016-08-24 10:36:45',\n",
       " 'status': 'SUCCESS',\n",
       " 'taskID': '4653b34c-b25c-40a1-9b51-dd3254bf37b6',\n",
       " 'updated': '2016-08-24 10:37:27',\n",
       " 'userdata': {'artifactUrl': '',\n",
       "  'downloadUri': 'http://www.ck12.org/flx/show/pdf/Scientific-Explanations-and-Interpretations-HS-ES_l_v50_qri_s1.pdf',\n",
       "  'template': 'onecolumn'}}"
      ]
     },
     "execution_count": 66,
     "metadata": {},
     "output_type": "execute_result"
    }
   ],
   "source": [
    "render_resp.json()"
   ]
  },
  {
   "cell_type": "code",
   "execution_count": 67,
   "metadata": {
    "collapsed": false
   },
   "outputs": [],
   "source": [
    "acc_cookie = dict(dxtr='9e95ada69c9997e9ecdddfdcdff1e3eee2f3e9ef',\n",
    "              auth='2f04b86dd1d095a9fe9ed75bc15fcee7fd857ace00764530d5424291834ed5af925c58a9',\n",
    "              walkthrough='walkthrough',\n",
    "              mceVersion='4',\n",
    "              mceSeenNewEditor='true',\n",
    "              ck12olympics='visited',\n",
    "              flxweb='886838535f5f9dd052853d36d7bdfad9eeeb83d0c8e99c1e4f684ec6b95d86869ea18847',\n",
    "              cdnAPIver='20160809',\n",
    "              assessment='403a5b7cae2f9cb667fc62cb75dd6c1108d1da60ae2f3ec365e64b04b48f74207b35a016',\n",
    "              flxDashboardState='selfStudy',\n",
    "              flxweb_role='teacher',\n",
    "              browseview='listview', \n",
    "              dexterjsVisitorID='j5OhVsPELviphLX6FnDk9RInN'\n",
    "             )"
   ]
  }
 ],
 "metadata": {
  "kernelspec": {
   "display_name": "Python 3",
   "language": "python",
   "name": "python3"
  },
  "language_info": {
   "codemirror_mode": {
    "name": "ipython",
    "version": 3
   },
   "file_extension": ".py",
   "mimetype": "text/x-python",
   "name": "python",
   "nbconvert_exporter": "python",
   "pygments_lexer": "ipython3",
   "version": "3.5.0"
  }
 },
 "nbformat": 4,
 "nbformat_minor": 1
}
