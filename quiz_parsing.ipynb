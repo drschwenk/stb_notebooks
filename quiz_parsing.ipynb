{
 "cells": [
  {
   "cell_type": "markdown",
   "metadata": {
    "heading_collapsed": true
   },
   "source": [
    "# Table of Contents\n",
    "* [CK12 flexbook pdf extraction](#CK12-flexbook-pdf-extraction)\n",
    "\t* [pdfminer drawing boxes](#pdfminer-drawing-boxes)\n",
    "\t* [extracting and refining](#extracting-and-refining)\n",
    "\t* [counting question types](#counting-question-types)\n",
    "\t* [finding stopwords](#finding-stopwords)\n",
    "\t* [font color and size counts](#font-color-and-size-counts)\n",
    "* [End](#End)\n"
   ]
  },
  {
   "cell_type": "code",
   "execution_count": 64,
   "metadata": {
    "collapsed": true,
    "hidden": true,
    "run_control": {
     "frozen": false,
     "marked": false,
     "read_only": false
    }
   },
   "outputs": [],
   "source": [
    "%%capture\n",
    "import numpy as np\n",
    "import pandas as pd\n",
    "import scipy.stats as st\n",
    "import itertools\n",
    "import math\n",
    "from collections import Counter, defaultdict, OrderedDict\n",
    "%load_ext autoreload\n",
    "%autoreload 2\n",
    "\n",
    "import cv2\n",
    "import os\n",
    "import pprint\n",
    "import pickle\n",
    "import json\n",
    "import requests\n",
    "import io\n",
    "import base64\n",
    "from wand.image import Image as WImage\n",
    "from IPython.display import display\n",
    "import PIL.Image as Image\n",
    "\n",
    "from copy import deepcopy\n",
    "import pdfextraction.pdf_processing as pdf_processing"
   ]
  },
  {
   "cell_type": "code",
   "execution_count": 5,
   "metadata": {
    "collapsed": true,
    "hidden": true,
    "run_control": {
     "frozen": false,
     "read_only": false
    }
   },
   "outputs": [],
   "source": [
    "import nltk\n",
    "import string\n",
    "from nltk.corpus import stopwords\n",
    "from sklearn.feature_extraction.text import TfidfVectorizer\n",
    "from nltk.tokenize import word_tokenize\n",
    "from nltk.stem.porter import PorterStemmer\n",
    "from nltk.stem.snowball import SnowballStemmer\n",
    "from nltk.stem.wordnet import WordNetLemmatizer"
   ]
  },
  {
   "cell_type": "code",
   "execution_count": 6,
   "metadata": {
    "collapsed": false,
    "hidden": true,
    "run_control": {
     "frozen": false,
     "read_only": false
    }
   },
   "outputs": [],
   "source": [
    "import pdfextraction.ck12_flex_extract as ck_ex"
   ]
  },
  {
   "cell_type": "markdown",
   "metadata": {},
   "source": [
    "# CK12 quiz extraction"
   ]
  },
  {
   "cell_type": "markdown",
   "metadata": {},
   "source": [
    "This notebook compares the OCR results embedded in the textbook scans to those of eric's api, and MS oxford alone"
   ]
  },
  {
   "cell_type": "code",
   "execution_count": 118,
   "metadata": {
    "collapsed": false,
    "run_control": {
     "frozen": false,
     "read_only": false
    }
   },
   "outputs": [
    {
     "data": {
      "text/plain": [
       "848"
      ]
     },
     "execution_count": 118,
     "metadata": {},
     "output_type": "execute_result"
    }
   ],
   "source": [
    "text_path = './ck12_pdfs/text/'\n",
    "life_sci_text = 'CK-12-Life-Science-For-Middle-School_b_v77_dzc_s1.pdf'\n",
    "earth_sci_text ='CK-12-Earth-Science-For-Middle-School_b_v39_yq9_s1.pdf'\n",
    "phys_sci_text ='CK-12-Physical-Science-For-Middle-School_b_v45_cmw_s1.pdf'\n",
    "\n",
    "#  '/Users/schwenk/wrk/science_tb_anno/ck12/pdf_quizzes/'\n",
    "quiz_path = '/Users/schwenk/wrk/stb/ck12/docx-quizes/converted-to-pdfs/'\n",
    "\n",
    "es_dir ='earth-science'\n",
    "ls_dir ='life-science'\n",
    "ps_dir =  'physical-science'\n",
    "\n",
    "subject_dirs = [es_dir, ls_dir, ps_dir]\n",
    "# subject_dirs = [es_dir]\n",
    "\n",
    "quiz_names = !ls /Users/schwenk/wrk/stb/ck12/docx-quizes/converted-to-pdfs/*science/*\n",
    "len(quiz_names)"
   ]
  },
  {
   "cell_type": "markdown",
   "metadata": {
    "heading_collapsed": true
   },
   "source": [
    "## pdfminer drawing boxes"
   ]
  },
  {
   "cell_type": "code",
   "execution_count": 277,
   "metadata": {
    "collapsed": false,
    "hidden": true,
    "run_control": {
     "frozen": false,
     "read_only": false
    }
   },
   "outputs": [],
   "source": [
    "def get_deepest_nested_component(layout_comp):\n",
    "    if hasattr(layout_comp, '_objs'):\n",
    "        return get_first_nested_component(layout_comp._objs[0])\n",
    "    else:\n",
    "        return layout_comp\n",
    "\n",
    "def check_for_topic_header(text_box, header_font):\n",
    "    first_char = get_deepest_nested_component(text_box)\n",
    "    if hasattr(first_char, 'fontname'):\n",
    "        box_font = first_char.fontname.split('_')[-1]\n",
    "        print box_font\n",
    "        return box_font == header_font\n",
    "    else:\n",
    "        return False\n",
    "\n",
    "def process_line(text_box):\n",
    "    return check_for_topic_header(text_box)\n",
    "\n",
    "def process_page(page_layout, header_font = 'Bold'):\n",
    "    for box in page_layout:\n",
    "        print box\n",
    "        header_found = check_for_topic_header(box, header_font)\n",
    "\n",
    "# test_page_layout[0]._objs\n",
    "\n",
    "\n",
    "'KCJNMV+NimbusRomNo9L-Regu-Slant_167'\n",
    "\n",
    "to1 = test_page_layout[0]._objs[2]._objs[0]._objs[0]"
   ]
  },
  {
   "cell_type": "code",
   "execution_count": 12,
   "metadata": {
    "collapsed": false,
    "hidden": true,
    "run_control": {
     "frozen": false,
     "read_only": false
    },
    "scrolled": false
   },
   "outputs": [
    {
     "data": {
      "image/png": "[encoded data removed]",
      "text/plain": [
       "<PIL.Image.Image image mode=RGB size=612x792 at 0x10AD5C810>"
      ]
     },
     "metadata": {},
     "output_type": "display_data"
    },
    {
     "data": {
      "image/png": "[encoded data removed]",
      "text/plain": [
       "<PIL.Image.Image image mode=RGB size=612x792 at 0x10A4F2AD0>"
      ]
     },
     "metadata": {},
     "output_type": "display_data"
    }
   ],
   "source": [
    "# pdf_processing.draw_pdf_with_boxes(test_file, [50,50])\n",
    "pdf_processing.draw_pdf_with_boxes(test_file, 0)"
   ]
  },
  {
   "cell_type": "code",
   "execution_count": 28,
   "metadata": {
    "collapsed": true,
    "hidden": true,
    "run_control": {
     "frozen": false,
     "read_only": false
    }
   },
   "outputs": [],
   "source": [
    "ROW_BORDERS = (\n",
    "    72 * 1,  # Bottom row starts 1 inch from the bottom of the page\n",
    "    72 * 3,  # Second row starts 3 inches from the bottom of the page\n",
    "    72 * 5,  # Third row starts 5 inches from the bottom of the page\n",
    "    72 * 7,  # Third row ends 7 inches from the bottom of the page\n",
    ")\n",
    "COLUMN_BORDERS = (\n",
    "    72 * 8,  # Third col ends 8 inches from the left of the page\n",
    "    72 * 6,  # Third col starts 6 inches from the left of the page\n",
    "    72 * 4,  # Second col starts 4 inches from the left of the page   \n",
    "    72 * 2,  # First col starts 2 inches from the left of the page\n",
    ")  # reversed so that BOXES is ordered properly\n",
    "BOXES = [\n",
    "    (left, bot, right, top)\n",
    "    for top, bot in zip(ROW_BORDERS, ROW_BORDERS[1:])\n",
    "    for left, right in zip(COLUMN_BORDERS, COLUMN_BORDERS[1:])\n",
    "]\n",
    "\n",
    "def extract_output(page):\n",
    "    \"\"\"\n",
    "    Reads the text from page and splits it into the 9 cells.\n",
    "\n",
    "    Returns a list with 9 entries: \n",
    "\n",
    "        [A, B, C, D, E, F, G, H, I]\n",
    "\n",
    "    Each item in the tuple contains a string with all of the\n",
    "    text found in the cell.\n",
    "\n",
    "    \"\"\"\n",
    "    res = []\n",
    "    for box in BOXES:\n",
    "        strings = list(page.letterings.iter_in_bbox(box))\n",
    "        # We sort from top-to-bottom and then from left-to-right, based\n",
    "        # on the strings' top left corner\n",
    "        strings.sort(key=lambda x: (-x.bbox[3], x.bbox[0]))\n",
    "        res.append(\" \".join(strings).replace(u\"\\xa0\", \" \").strip())\n",
    "    return res"
   ]
  },
  {
   "cell_type": "code",
   "execution_count": 24,
   "metadata": {
    "collapsed": false,
    "hidden": true,
    "run_control": {
     "frozen": false,
     "read_only": false
    }
   },
   "outputs": [],
   "source": [
    "content = []\n",
    "doc = minecart.Document(open(test_file, 'rb'))"
   ]
  },
  {
   "cell_type": "code",
   "execution_count": 9,
   "metadata": {
    "collapsed": false,
    "hidden": true,
    "run_control": {
     "frozen": false,
     "read_only": false
    },
    "scrolled": false
   },
   "outputs": [],
   "source": [
    "# for page in doc.iter_pages():\n",
    "#     content.append(extract_output(page))"
   ]
  },
  {
   "cell_type": "code",
   "execution_count": 37,
   "metadata": {
    "collapsed": true,
    "hidden": true,
    "run_control": {
     "frozen": false,
     "read_only": false
    }
   },
   "outputs": [
    {
     "ename": "ImportError",
     "evalue": "No module named poppler",
     "output_type": "error",
     "traceback": [
      "\u001b[0;31m---------------------------------------------------------------------------\u001b[0m",
      "\u001b[0;31mImportError\u001b[0m                               Traceback (most recent call last)",
      "\u001b[0;32m<ipython-input-37-b26fe7045e40>\u001b[0m in \u001b[0;36m<module>\u001b[0;34m()\u001b[0m\n\u001b[0;32m----> 1\u001b[0;31m \u001b[0;32mimport\u001b[0m \u001b[0mpoppler\u001b[0m\u001b[0;34m\u001b[0m\u001b[0m\n\u001b[0m",
      "\u001b[0;31mImportError\u001b[0m: No module named poppler"
     ]
    }
   ],
   "source": [
    "import poppler"
   ]
  },
  {
   "cell_type": "code",
   "execution_count": 33,
   "metadata": {
    "collapsed": false,
    "hidden": true,
    "run_control": {
     "frozen": false,
     "read_only": false
    }
   },
   "outputs": [],
   "source": [
    "import ctypes\n",
    "import sys\n",
    "import os.path\n",
    "import poppler_page\n",
    "lib_poppler = ctypes.cdll.LoadLibrary(\"/usr/local/Cellar/poppler/0.37.0/lib/libpoppler-glib.8.dylib\")\n",
    " \n",
    "ctypes.pythonapi.PyCapsule_GetPointer.restype = ctypes.c_void_p\n",
    "ctypes.pythonapi.PyCapsule_GetPointer.argtypes = [ctypes.py_object, ctypes.c_char_p]\n",
    "PyCapsule_GetPointer = ctypes.pythonapi.PyCapsule_GetPointer\n",
    " \n",
    "class Poppler_Rectangle(ctypes.Structure):\n",
    "    _fields_ = [ (\"x1\", ctypes.c_double), (\"y1\", ctypes.c_double), (\"x2\", ctypes.c_double), (\"y2\", ctypes.c_double) ]\n",
    "LP_Poppler_Rectangle = ctypes.POINTER(Poppler_Rectangle)\n",
    "poppler_page_get_text_layout = ctypes.CFUNCTYPE(ctypes.c_int, \n",
    "                                                ctypes.c_void_p, \n",
    "                                                ctypes.POINTER(LP_Poppler_Rectangle), \n",
    "                                                ctypes.POINTER(ctypes.c_uint)\n",
    "                                                )(lib_poppler.poppler_page_get_text_layout)\n",
    " \n",
    "def get_page_layout(page):\n",
    "    assert isinstance(page, Poppler.Page)\n",
    "    capsule = page.__gpointer__\n",
    "    page_addr = PyCapsule_GetPointer(capsule, None)\n",
    "    rectangles = LP_Poppler_Rectangle()\n",
    "    n_rectangles = ctypes.c_uint(0)\n",
    "    has_text = poppler_page_get_text_layout(page_addr, ctypes.byref(rectangles), ctypes.byref(n_rectangles))\n",
    "    try:\n",
    "        result = []\n",
    "        if has_text:\n",
    "            assert n_rectangles.value > 0, \"n_rectangles.value > 0: {}\".format(n_rectangles.value)\n",
    "            assert rectangles, \"rectangles: {}\".format(rectangles)\n",
    "            for i in range(n_rectangles.value):\n",
    "                r = rectangles[i]\n",
    "                result.append((r.x1, r.y1, r.x2, r.y2))\n",
    "        return result\n",
    "    finally:\n",
    "        if rectangles:\n",
    "            GLib.free(ctypes.addressof(rectangles.contents))\n",
    " \n",
    "def main():\n",
    "    \n",
    "    print 'Version:', Poppler.get_version()\n",
    "    path= test_file\n",
    "    if not os.path.isabs(path):\n",
    "        path=os.path.join(os.getcwd(), path)\n",
    "    d=Poppler.Document.new_from_file('file:'+path)\n",
    "    n=d.get_n_pages()\n",
    "    for pg_no in range(n):\n",
    "        p=d.get_page(pg_no)\n",
    "        print 'Page %d' % (pg_no+1), 'size ', p.get_size()\n",
    "        text=p.get_text().decode('UTF-8')\n",
    "        locs=get_page_layout(p)\n",
    "        fonts=p.get_text_attributes()\n",
    "        offset=0\n",
    "        cfont=0\n",
    "        for line in text.splitlines(True):\n",
    "            print ' ', line.encode('UTF-8'),\n",
    "            n=len(line)\n",
    "            for i in range(n):\n",
    "                if line[i]==u'\\n':\n",
    "                    continue\n",
    "                font=fonts[cfont]\n",
    "                while font.start_index > i+offset or font.end_index < i+offset:\n",
    "                    cfont+=1\n",
    "                    if cfont>= len(fonts):\n",
    "                        font=None\n",
    "                        break\n",
    "                    font=fonts[cfont]\n",
    "                \n",
    "                bb=locs[offset+i]\n",
    "                print line[i].encode('UTF-8'), '(%0.2f, %0.2f, %0.2f, %0.2f)' % bb,\n",
    "                if font:\n",
    "                    print font.font_name, font.font_size, 'r=%d g=%d, b=%d'%(font.color.red, font.color.green, font.color.blue),\n",
    "            offset+=n\n",
    "            print       \n",
    "        print\n",
    "        #p.free_text_attributes(fonts)"
   ]
  },
  {
   "cell_type": "code",
   "execution_count": 18,
   "metadata": {
    "collapsed": true,
    "hidden": true,
    "run_control": {
     "frozen": false,
     "read_only": false
    }
   },
   "outputs": [],
   "source": [
    "import pdfparser.poppler as pdf\n",
    "import sys"
   ]
  },
  {
   "cell_type": "code",
   "execution_count": 19,
   "metadata": {
    "collapsed": false,
    "hidden": true,
    "run_control": {
     "frozen": false,
     "read_only": false
    },
    "scrolled": true
   },
   "outputs": [
    {
     "name": "stdout",
     "output_type": "stream",
     "text": [
      "Animal Communication Quiz Answers 15.84 r:0.09 g:0.21, b:0.36\n",
      "\n",
      "1. True or False: All animals communicate with sound. 10.8 r:0.00 g:0.00, b:0.00\n",
      "\n",
      "false\t12.0 r:1.00 g:0.00, b:0.00\n",
      "\n",
      "2. True or False: Language is the use of symbols to communicate. 10.8 r:0.00 g:0.00, b:0.00\n",
      "\n",
      "true\t12.0 r:1.00 g:0.00, b:0.00\n",
      "\n",
      "\t12.0 r:0.00 g:0.00, b:0.00\n",
      "\n",
      "3. How do monkey’s communicate? 10.8 r:0.00 g:0.00, b:0.00\n",
      "\n",
      "Monkeys\tmake\tnoises.\tThey\tmake\tfaces.\tThey\teven\tuse\tscents\tto\tpass\talong\ta\t12.0 r:1.00 g:0.00, b:0.00\n",
      "\n",
      "message.\t12.0 r:1.00 g:0.00, b:0.00\n",
      "\n",
      "\t12.0 r:0.00 g:0.00, b:0.00\n",
      "\n",
      "4. Define communication. 10.8 r:0.00 g:0.00, b:0.00\n",
      "\n",
      "Communication\tis\tany\tway\tin\twhich\tanimals\tshare\tinformation\t12.0 r:1.00 g:0.00, b:0.00\n",
      "\n",
      "\t12.0 r:0.00 g:0.00, b:0.00\n",
      "\n",
      "5. How does communication increase fitness? 10.8 r:0.00 g:0.00, b:0.00\n",
      "\n",
      "Communication\tincreases\tfitness\tby\thelping\tanimals\tfind\tfood,\tdefend\tthemselves\t12.0 r:1.00 g:0.00, b:0.00\n",
      "\n",
      "from\tpredators,\tmate,\tand\tcare\tfor\toffspring.\t12.0 r:1.00 g:0.00, b:0.00\n",
      "\n",
      "\t12.0 r:0.00 g:0.00, b:0.00\n",
      "\n",
      "\t12.0 r:0.00 g:0.00, b:0.00\n",
      "\n",
      "6. Which of the following is not an example of communication with sight? 10.8 r:0.00 g:0.00, b:0.00\n",
      "\n",
      "a) A peacock using his tail feathers to communicate. 10.8 r:0.00 g:0.00, b:0.00\n",
      "\n",
      "b) A chimpanzee showing fear by making a face. 10.8 r:0.00 g:0.00, b:0.00\n",
      "\n",
      "c) Male frogs croaking to attract female frogs. 10.8 r:0.00 g:0.00, b:0.00\n",
      "\n",
      "d) Humans shaking their heads. 10.8 r:0.00 g:0.00, b:0.00\n",
      "\n",
      "\t12.0 r:0.00 g:0.00, b:0.00\n",
      "\n",
      "7. Which is the method used by most birds to communicate? 10.8 r:0.00 g:0.00, b:0.00\n",
      "\n",
      "a) communication with sound 10.8 r:0.00 g:0.00, b:0.00\n",
      "\n",
      "b) communication with sight 10.8 r:0.00 g:0.00, b:0.00\n",
      "\n",
      "c) communication with scent 10.8 r:0.00 g:0.00, b:0.00\n",
      "\n",
      "d) Birds use all of the above methods to communicate. 10.8 r:0.00 g:0.00, b:0.00\n",
      "\n",
      "\t12.0 r:0.00 g:0.00, b:0.00\n",
      "\n",
      "\t12.0 r:0.00 g:0.00, b:0.00\n",
      "\n",
      "\t12.0 r:0.00 g:0.00, b:0.00\n",
      "\n",
      "8. What communication method allows ants to work together? 10.8 r:0.00 g:0.00, b:0.00\n",
      "\n",
      "a) communication with sight 10.8 r:0.00 g:0.00, b:0.00\n",
      "\n",
      "b) communication with sound 10.8 r:0.00 g:0.00, b:0.00\n",
      "\n",
      "c) communication with scent 10.8 r:1.00 g:0.00, b:0.00\n",
      "\n",
      "d) another method of communication 10.8 r:0.00 g:0.00, b:0.00\n",
      "\n",
      "\t12.0 r:0.00 g:0.00, b:0.00\n",
      "\n",
      "9. What are examples of ways that dogs communicate? 10.8 r:0.00 g:0.00, b:0.00\n",
      "\n",
      "a) Growling and making facial gestures when they feel threatened. 10.8 r:0.00 g:0.00, b:0.00\n",
      "\n",
      "b) Urinating on a territory, like a fire hydrant. 10.8 r:0.00 g:0.00, b:0.00\n",
      "\n",
      "c) Barking when other dogs are near. 10.8 r:0.00 g:0.00, b:0.00\n",
      "\n",
      "d) Dogs use all of the above methods to communicate. 10.8 r:1.00 g:0.00, b:0.00\n",
      "\n",
      "\t12.0 r:0.00 g:0.00, b:0.00\n",
      "\n",
      "\t12.0 r:0.00 g:0.00, b:0.00\n",
      "\n",
      "10. What is the most important way that humans communicate. 10.8 r:0.00 g:0.00, b:0.00\n",
      "\n",
      "a) the use of language 10.8 r:1.00 g:0.00, b:0.00\n",
      "\n",
      "b) the use of facial expressions 10.8 r:0.00 g:0.00, b:0.00\n",
      "\n",
      "c) the use of body language 10.8 r:0.00 g:0.00, b:0.00\n",
      "\n",
      "d) All of the above methods are equally important. 10.8 r:0.00 g:0.00, b:0.00\n",
      "\n",
      "\t12.0 r:0.00 g:0.00, b:0.00\n",
      "\n",
      "\t12.0 r:0.00 g:0.00, b:0.00\n",
      "\n"
     ]
    }
   ],
   "source": [
    "d=pdf.Document(test_file)\n",
    " \n",
    "# print 'No of pages', d.no_of_pages\n",
    "for p in d:\n",
    "#     print 'Page', p.page_no, 'size =', p.size\n",
    "    for f in p:\n",
    "#         print ' '*1,'Flow'\n",
    "        for b in f:\n",
    "#             print ' '*2,'Block', 'bbox=', b.bbox.as_tuple()\n",
    "            for l in b:\n",
    "#                 print ' '*3, l.text.encode('UTF-8'), '(%0.2f, %0.2f, %0.2f, %0.2f)'% l.bbox.as_tuple()\n",
    "                #assert l.char_fonts.comp_ratio < 1.0\n",
    "#                 print list(l.char_fonts)[0]\n",
    "                for i in range(1):\n",
    "#                     print l.text[i].encode('UTF-8'), '(%0.2f, %0.2f, %0.2f, %0.2f)'% l.char_bboxes[i].as_tuple(),\\\n",
    "#                         print'(%0.2f, %0.2f, %0.2f, %0.2f)'% , \\\n",
    "                    print l.text, l.char_fonts[i].size, l.char_fonts[i].color\n",
    "#                         l.char_fonts[i].name, l.char_fonts[i].size, l.char_fonts[i].color,\n",
    "#                     print '\\n'\n",
    "                print"
   ]
  },
  {
   "cell_type": "code",
   "execution_count": 62,
   "metadata": {
    "collapsed": false,
    "hidden": true,
    "run_control": {
     "frozen": false,
     "read_only": false
    }
   },
   "outputs": [],
   "source": [
    "tbbb = l.char_bboxes[0]"
   ]
  },
  {
   "cell_type": "code",
   "execution_count": 64,
   "metadata": {
    "collapsed": false,
    "hidden": true,
    "run_control": {
     "frozen": false,
     "read_only": false
    }
   },
   "outputs": [
    {
     "data": {
      "text/plain": [
       "(547.091, 760.0349916, 552.54555, 773.1804571)"
      ]
     },
     "execution_count": 64,
     "metadata": {},
     "output_type": "execute_result"
    }
   ],
   "source": [
    "tbbb.as_tuple()"
   ]
  },
  {
   "cell_type": "code",
   "execution_count": 490,
   "metadata": {
    "collapsed": false,
    "hidden": true,
    "run_control": {
     "frozen": false,
     "read_only": false
    }
   },
   "outputs": [
    {
     "data": {
      "text/plain": [
       "848"
      ]
     },
     "execution_count": 490,
     "metadata": {},
     "output_type": "execute_result"
    }
   ],
   "source": []
  },
  {
   "cell_type": "markdown",
   "metadata": {
    "collapsed": true,
    "run_control": {
     "frozen": false,
     "read_only": false
    }
   },
   "source": [
    "## extracting and refining"
   ]
  },
  {
   "cell_type": "code",
   "execution_count": 129,
   "metadata": {
    "collapsed": false,
    "run_control": {
     "frozen": false,
     "read_only": false
    }
   },
   "outputs": [],
   "source": [
    "parsed_quizes = {}\n",
    "for subject in subject_dirs:\n",
    "    parsed_quizes[subject] = {}\n",
    "    subject_path = os.path.join(quiz_path + subject)\n",
    "#     print subject_path\n",
    "    parsed_quizes[subject] = ck_ex.parse_pdf_collection(subject_path)"
   ]
  },
  {
   "cell_type": "code",
   "execution_count": 122,
   "metadata": {
    "collapsed": false,
    "run_control": {
     "frozen": false,
     "read_only": false
    }
   },
   "outputs": [
    {
     "data": {
      "text/plain": [
       "['earth-science', 'life-science', 'physical-science']"
      ]
     },
     "execution_count": 122,
     "metadata": {},
     "output_type": "execute_result"
    }
   ],
   "source": [
    "parsed_quizes.keys()"
   ]
  },
  {
   "cell_type": "code",
   "execution_count": 124,
   "metadata": {
    "collapsed": false,
    "run_control": {
     "frozen": false,
     "read_only": false
    }
   },
   "outputs": [],
   "source": [
    "with open('all_parsed_quiz_questions_v1.json', 'w') as f:\n",
    "    json.dump(parsed_quizes, f, indent=4, sort_keys=True)"
   ]
  },
  {
   "cell_type": "code",
   "execution_count": 101,
   "metadata": {
    "collapsed": false,
    "run_control": {
     "frozen": false,
     "read_only": false
    }
   },
   "outputs": [],
   "source": [
    "for subject, quizes in parsed_quizes.items():\n",
    "    ck_ex.simple_quiz_parser_test(quizes)"
   ]
  },
  {
   "cell_type": "code",
   "execution_count": 123,
   "metadata": {
    "collapsed": false,
    "run_control": {
     "frozen": false,
     "read_only": false
    },
    "scrolled": true
   },
   "outputs": [
    {
     "data": {
      "text/plain": [
       "{'questions': {'diagramQuestions': {},\n",
       "  'nonDiagramQuestions': OrderedDict([('q01',\n",
       "                OrderedDict([('id', 'q01'),\n",
       "                             ('idStructural', '1.'),\n",
       "                             ('beingAsked',\n",
       "                              {'processedText': 'a key feature of all birds is flight.',\n",
       "                               'rawText': u'1. True or False: A key feature of all birds is flight.'}),\n",
       "                             ('correctAnswer', {'processedText': 'false'}),\n",
       "                             ('type', 'True or False'),\n",
       "                             ('answerChoices',\n",
       "                              {'a': {'idStructural': 'a.',\n",
       "                                'processedText': 'true',\n",
       "                                'rawText': 'a. true'},\n",
       "                               'b': {'idStructural': 'b.',\n",
       "                                'processedText': 'false',\n",
       "                                'rawText': 'b. false'}})])),\n",
       "               ('q02',\n",
       "                OrderedDict([('id', 'q02'),\n",
       "                             ('idStructural', '2.'),\n",
       "                             ('beingAsked',\n",
       "                              {'processedText': 'the ostrich is the tallest bird, reaching a height of 12 feet.',\n",
       "                               'rawText': u'2. True or False: The ostrich is the tallest bird, reaching a height of 12 feet.'}),\n",
       "                             ('correctAnswer', {'processedText': 'false'}),\n",
       "                             ('type', 'True or False'),\n",
       "                             ('answerChoices',\n",
       "                              {'a': {'idStructural': 'a.',\n",
       "                                'processedText': 'true',\n",
       "                                'rawText': 'a. true'},\n",
       "                               'b': {'idStructural': 'b.',\n",
       "                                'processedText': 'false',\n",
       "                                'rawText': 'b. false'}})])),\n",
       "               ('q03',\n",
       "                OrderedDict([('id', 'q03'),\n",
       "                             ('idStructural', '3.'),\n",
       "                             ('beingAsked',\n",
       "                              {'processedText': 'what are the three main features of all birds?',\n",
       "                               'rawText': u'3. What are the three main features of all birds?'}),\n",
       "                             ('correctAnswer',\n",
       "                              {'processedText': 'all birds are endothermic, have two legs, and lay eggs.'}),\n",
       "                             ('type', 'Short Answer'),\n",
       "                             ('answerChoices', {})])),\n",
       "               ('q04',\n",
       "                OrderedDict([('id', 'q04'),\n",
       "                             ('idStructural', '4.'),\n",
       "                             ('beingAsked',\n",
       "                              {'processedText': 'what do birds have in common with amphibians, reptiles, mammals, and fish?',\n",
       "                               'rawText': u'4. What do birds have in common with amphibians, reptiles, mammals, and fish?'}),\n",
       "                             ('correctAnswer',\n",
       "                              {'processedText': 'they are all vertebrates.'}),\n",
       "                             ('type', 'Short Answer'),\n",
       "                             ('answerChoices', {})])),\n",
       "               ('q05',\n",
       "                OrderedDict([('id', 'q05'),\n",
       "                             ('idStructural', '5.'),\n",
       "                             ('beingAsked',\n",
       "                              {'processedText': 'describe the forelimbs of birds. what are two different uses of these forelimbs?',\n",
       "                               'rawText': u'5. Describe the forelimbs of birds. What are two different uses of these forelimbs?'}),\n",
       "                             ('correctAnswer',\n",
       "                              {'processedText': 'almost all birds have forelimbs modified as wings. wings are used to fly. some birds use their forelimbs to swim.'}),\n",
       "                             ('type', 'Short Answer'),\n",
       "                             ('answerChoices', {})])),\n",
       "               ('q06',\n",
       "                OrderedDict([('id', 'q06'),\n",
       "                             ('idStructural', '6.'),\n",
       "                             ('beingAsked',\n",
       "                              {'processedText': 'which is a defining characteristic of modern birds?',\n",
       "                               'rawText': u'6. Which is a defining characteristic of modern birds?'}),\n",
       "                             ('answerChoices',\n",
       "                              OrderedDict([('a',\n",
       "                                            {'idStructural': 'a)',\n",
       "                                             'processedText': 'feathers',\n",
       "                                             'rawText': u'a) feathers'}),\n",
       "                                           ('b',\n",
       "                                            {'idStructural': 'b)',\n",
       "                                             'processedText': 'a beak with no teeth',\n",
       "                                             'rawText': u'b) a beak with no teeth'}),\n",
       "                                           ('c',\n",
       "                                            {'idStructural': 'c)',\n",
       "                                             'processedText': 'a four-chambered heart',\n",
       "                                             'rawText': u'c) a four-chambered heart'}),\n",
       "                                           ('d',\n",
       "                                            {'idStructural': 'd)',\n",
       "                                             'processedText': 'all of the above',\n",
       "                                             'rawText': u'd) all of the above'})])),\n",
       "                             ('correctAnswer',\n",
       "                              {'processedText': 'all of the above'}),\n",
       "                             ('type', 'Multiple Choice')])),\n",
       "               ('q07',\n",
       "                OrderedDict([('id', 'q07'),\n",
       "                             ('idStructural', '7.'),\n",
       "                             ('beingAsked',\n",
       "                              {'processedText': 'which is an important bird adaptation for flight?',\n",
       "                               'rawText': u'7. Which is an important bird adaptation for flight?'}),\n",
       "                             ('answerChoices',\n",
       "                              OrderedDict([('a',\n",
       "                                            {'idStructural': 'a)',\n",
       "                                             'processedText': 'a four-chambered heart',\n",
       "                                             'rawText': u'a) a four-chambered heart'}),\n",
       "                                           ('b',\n",
       "                                            {'idStructural': 'b)',\n",
       "                                             'processedText': 'a lightweight but strong skeleton',\n",
       "                                             'rawText': u'b) a lightweight but strong skeleton'}),\n",
       "                                           ('c',\n",
       "                                            {'idStructural': 'c)',\n",
       "                                             'processedText': 'a high metabolism',\n",
       "                                             'rawText': u'c) a high metabolism'}),\n",
       "                                           ('d',\n",
       "                                            {'idStructural': 'd)',\n",
       "                                             'processedText': 'all of the above',\n",
       "                                             'rawText': u'd) all of the above'})])),\n",
       "                             ('type', 'Multiple Choice'),\n",
       "                             ('correctAnswer',\n",
       "                              {'processedText': 'a lightweight but strong skeleton'})])),\n",
       "               ('q08',\n",
       "                OrderedDict([('id', 'q08'),\n",
       "                             ('idStructural', '8.'),\n",
       "                             ('beingAsked',\n",
       "                              {'processedText': 'what statement is associated with the bird digestive system?',\n",
       "                               'rawText': u'8. What statement is associated with the bird digestive system?'}),\n",
       "                             ('answerChoices',\n",
       "                              OrderedDict([('a',\n",
       "                                            {'idStructural': 'a)',\n",
       "                                             'processedText': 'contains a gizzard that allows for high metabolism.',\n",
       "                                             'rawText': u'a) Contains a gizzard that allows for high metabolism.'}),\n",
       "                                           ('b',\n",
       "                                            {'idStructural': 'b)',\n",
       "                                             'processedText': 'contains a four-chambered gizzard with swallowed stones.',\n",
       "                                             'rawText': u'b) Contains a four-chambered gizzard with swallowed stones.'}),\n",
       "                                           ('c',\n",
       "                                            {'idStructural': 'c)',\n",
       "                                             'processedText': 'contains a gizzard that contains swallowed stones for grinding food.',\n",
       "                                             'rawText': u'c) Contains a gizzard that contains swallowed stones for grinding food.'}),\n",
       "                                           ('d',\n",
       "                                            {'idStructural': 'd)',\n",
       "                                             'processedText': 'contains a lightweight but strong gizzard.',\n",
       "                                             'rawText': u'd) Contains a lightweight but strong gizzard.'})])),\n",
       "                             ('type', 'Multiple Choice'),\n",
       "                             ('correctAnswer',\n",
       "                              {'processedText': 'contains a gizzard that contains swallowed stones for grinding food.'})])),\n",
       "               ('q09',\n",
       "                OrderedDict([('id', 'q09'),\n",
       "                             ('idStructural', '9.'),\n",
       "                             ('beingAsked',\n",
       "                              {'processedText': 'how are bird wings similar to an airplane wings?',\n",
       "                               'rawText': u'9. How are bird wings similar to an airplane wings?'}),\n",
       "                             ('answerChoices',\n",
       "                              OrderedDict([('a',\n",
       "                                            {'idStructural': 'a)',\n",
       "                                             'processedText': 'both have areas of their wings that can be individually controlled.',\n",
       "                                             'rawText': u'a) Both have areas of their wings that can be individually controlled.'}),\n",
       "                                           ('b',\n",
       "                                            {'idStructural': 'b)',\n",
       "                                             'processedText': 'both are controlled mechanically.',\n",
       "                                             'rawText': u'b) Both are controlled mechanically.'}),\n",
       "                                           ('c',\n",
       "                                            {'idStructural': 'c)',\n",
       "                                             'processedText': 'both have wings that function as an aerofoil.',\n",
       "                                             'rawText': u'c) Both have wings that function as an aerofoil.'}),\n",
       "                                           ('d',\n",
       "                                            {'idStructural': 'd)',\n",
       "                                             'processedText': 'both have materials that perform as feathers.',\n",
       "                                             'rawText': u'd) Both have materials that perform as feathers.'})])),\n",
       "                             ('type', 'Multiple Choice'),\n",
       "                             ('correctAnswer',\n",
       "                              {'processedText': 'both have wings that function as an aerofoil.'})])),\n",
       "               ('q10',\n",
       "                OrderedDict([('id', 'q10'),\n",
       "                             ('idStructural', '10.'),\n",
       "                             ('beingAsked',\n",
       "                              {'processedText': 'why did flightless birds evolve?',\n",
       "                               'rawText': u'10. Why did flightless birds evolve?'}),\n",
       "                             ('answerChoices',\n",
       "                              OrderedDict([('a',\n",
       "                                            {'idStructural': 'a)',\n",
       "                                             'processedText': 'because some birds lived on isolated islands.',\n",
       "                                             'rawText': u'a) Because some birds lived on isolated islands.'}),\n",
       "                                           ('b',\n",
       "                                            {'idStructural': 'b)',\n",
       "                                             'processedText': 'because some birds did not have predators trying to kill them.',\n",
       "                                             'rawText': u'b) Because some birds did not have predators trying to kill them.'}),\n",
       "                                           ('c',\n",
       "                                            {'idStructural': 'c)',\n",
       "                                             'processedText': 'because of limited resources.',\n",
       "                                             'rawText': u'c) Because of limited resources.'}),\n",
       "                                           ('d',\n",
       "                                            {'idStructural': 'd)',\n",
       "                                             'processedText': 'all of the above',\n",
       "                                             'rawText': u'd) all of the above'})])),\n",
       "                             ('correctAnswer',\n",
       "                              {'processedText': 'all of the above'}),\n",
       "                             ('type', 'Multiple Choice')]))])}}"
      ]
     },
     "execution_count": 123,
     "metadata": {},
     "output_type": "execute_result"
    }
   ],
   "source": [
    "parsed_quizes['life-science']['birds']"
   ]
  },
  {
   "cell_type": "code",
   "execution_count": 128,
   "metadata": {
    "collapsed": false,
    "run_control": {
     "frozen": false,
     "read_only": false
    },
    "scrolled": false
   },
   "outputs": [
    {
     "data": {
      "text/plain": [
       "'oceancontinent convergent plate boundaries'"
      ]
     },
     "execution_count": 128,
     "metadata": {},
     "output_type": "execute_result"
    }
   ],
   "source": [
    "parsed_quizes['earth-science']['oceancontinent convergent plate boundaries']['title']"
   ]
  },
  {
   "cell_type": "markdown",
   "metadata": {
    "heading_collapsed": true
   },
   "source": [
    "## investigating failures"
   ]
  },
  {
   "cell_type": "code",
   "execution_count": 535,
   "metadata": {
    "collapsed": false,
    "hidden": true,
    "run_control": {
     "frozen": false,
     "read_only": false
    },
    "scrolled": false
   },
   "outputs": [],
   "source": [
    "# parsed_content.values()[0]['question_components']['Q_2']\n",
    "\n",
    "ex_q_to_examine = {}\n",
    "for quiz1 in parsed_content.values():\n",
    "    if quiz1['title'] == 'seawater chemistry':\n",
    "        \n",
    "        ex_q_to_examine.update(quiz1['question_components'].items())\n",
    "\n",
    "ex_q_to_examine"
   ]
  },
  {
   "cell_type": "code",
   "execution_count": 466,
   "metadata": {
    "collapsed": false,
    "hidden": true,
    "run_control": {
     "frozen": false,
     "read_only": false
    },
    "scrolled": false
   },
   "outputs": [
    {
     "name": "stdout",
     "output_type": "stream",
     "text": [
      "energy conservation\n",
      "development of theories\n"
     ]
    }
   ],
   "source": [
    "parsed_content, proc_files = ck_ex.parse_pdf_collection(base_dir + all_dir)"
   ]
  },
  {
   "cell_type": "code",
   "execution_count": 465,
   "metadata": {
    "collapsed": false,
    "hidden": true,
    "run_control": {
     "frozen": false,
     "read_only": false
    }
   },
   "outputs": [
    {
     "data": {
      "text/plain": [
       "{'/Users/schwenk/wrk/science_tb_anno/ck12/pdf_quizzes/earth-science/Reducing-Greenhouse-Gas-Pollution-Quiz-Answer-Key.pdf'}"
      ]
     },
     "execution_count": 465,
     "metadata": {},
     "output_type": "execute_result"
    }
   ],
   "source": [
    "set(quiz_names).difference(set(proc_files))"
   ]
  },
  {
   "cell_type": "code",
   "execution_count": 460,
   "metadata": {
    "collapsed": false,
    "hidden": true,
    "run_control": {
     "frozen": false,
     "read_only": false
    }
   },
   "outputs": [
    {
     "name": "stdout",
     "output_type": "stream",
     "text": [
      "846\n"
     ]
    }
   ],
   "source": [
    "print len(parsed_content)"
   ]
  },
  {
   "cell_type": "markdown",
   "metadata": {
    "hidden": true
   },
   "source": [
    "Evolution-Plate-Tectonics-and-Climate-Change-Quiz-Answer-Key\n",
    "\n",
    "Geothermal-Power-Quiz-Answer-Key\n",
    "\n",
    "Location-and-Direction-Quiz-Answer-Key\n",
    "\n",
    "Nitrogen-Cycle-in-Ecosystems-Quiz-Answer-Key\n",
    "\n",
    "Reducing-Greenhouse-Gas-Pollution-Quiz-Answer-Key\n",
    "\n",
    "Surface-Features-of-the-Sun-Quiz-Answer-Key\n",
    "\n",
    "Connecting-Cellular-Respiration-and-Photosynthesis-Quiz-MS-LS-Answer-Key\n",
    "\n",
    "Pedigree-Analysis-Quiz-MS-LS-Answer-Key\n",
    "\n",
    "Preventing-Noninfectious-Diseases-Quiz-MS-LS-Answer-Key\n",
    "\n",
    "Punnett-Squares-Quiz-MS-LS-Answer-Key\n",
    "\n",
    "Velocity-Quiz-MS-PS-Answer-Key"
   ]
  },
  {
   "cell_type": "code",
   "execution_count": 431,
   "metadata": {
    "collapsed": false,
    "hidden": true,
    "run_control": {
     "frozen": false,
     "read_only": false
    }
   },
   "outputs": [],
   "source": [
    "! cp /Users/schwenk/wrk/science_tb_anno/ck12/docx_quizes/earth-science/Nitrogen-Cycle-in-Ecosystems-Quiz-Answer-Key.docx /Users/schwenk/wrk/science_tb_anno/ck12/docx_quizes/test_set/\n",
    "\n",
    "! cp /Users/schwenk/wrk/science_tb_anno/ck12/docx_quizes/earth-science/Evolution-Plate-Tectonics-and-Climate-Change-Quiz-Answer-Key.docx /Users/schwenk/wrk/science_tb_anno/ck12/docx_quizes/test_set/\n",
    "\n",
    "! cp /Users/schwenk/wrk/science_tb_anno/ck12/docx_quizes/earth-science/Geothermal-Power-Quiz-Answer-Key.docx /Users/schwenk/wrk/science_tb_anno/ck12/docx_quizes/test_set/\n",
    "\n",
    "! cp /Users/schwenk/wrk/science_tb_anno/ck12/docx_quizes/earth-science/Location-and-Direction-Quiz-Answer-Key.docx /Users/schwenk/wrk/science_tb_anno/ck12/docx_quizes/test_set/\n",
    "\n",
    "! cp /Users/schwenk/wrk/science_tb_anno/ck12/docx_quizes/earth-science/Reducing-Greenhouse-Gas-Pollution-Quiz-Answer-Key.docx /Users/schwenk/wrk/science_tb_anno/ck12/docx_quizes/test_set/\n",
    "\n",
    "! cp /Users/schwenk/wrk/science_tb_anno/ck12/docx_quizes/earth-science/Surface-Features-of-the-Sun-Quiz-Answer-Key.docx /Users/schwenk/wrk/science_tb_anno/ck12/docx_quizes/test_set/\n",
    "\n",
    "! cp /Users/schwenk/wrk/science_tb_anno/ck12/docx_quizes/life-science/Connecting-Cellular-Respiration-and-Photosynthesis-Quiz-MS-LS-Answer-Key.docx /Users/schwenk/wrk/science_tb_anno/ck12/docx_quizes/test_set/\n",
    "\n",
    "! cp /Users/schwenk/wrk/science_tb_anno/ck12/docx_quizes/life-science/Pedigree-Analysis-Quiz-MS-LS-Answer-Key.docx /Users/schwenk/wrk/science_tb_anno/ck12/docx_quizes/test_set/\n",
    "\n",
    "! cp /Users/schwenk/wrk/science_tb_anno/ck12/docx_quizes/life-science/Preventing-Noninfectious-Diseases-Quiz-MS-LS-Answer-Key.docx /Users/schwenk/wrk/science_tb_anno/ck12/docx_quizes/test_set/\n",
    "\n",
    "! cp /Users/schwenk/wrk/science_tb_anno/ck12/docx_quizes/life-science/Punnett-Squares-Quiz-MS-LS-Answer-Key.docx /Users/schwenk/wrk/science_tb_anno/ck12/docx_quizes/test_set/\n",
    "\n",
    "! cp /Users/schwenk/wrk/science_tb_anno/ck12/docx_quizes/physical-science/Velocity-Quiz-MS-PS-Answer-Key.docx /Users/schwenk/wrk/science_tb_anno/ck12/docx_quizes/test_set/"
   ]
  },
  {
   "cell_type": "code",
   "execution_count": null,
   "metadata": {
    "collapsed": true,
    "hidden": true,
    "run_control": {
     "frozen": false,
     "read_only": false
    }
   },
   "outputs": [],
   "source": []
  },
  {
   "cell_type": "code",
   "execution_count": null,
   "metadata": {
    "collapsed": true,
    "hidden": true,
    "run_control": {
     "frozen": false,
     "read_only": false
    }
   },
   "outputs": [],
   "source": []
  },
  {
   "cell_type": "markdown",
   "metadata": {
    "heading_collapsed": true
   },
   "source": [
    "## refining parsed results"
   ]
  },
  {
   "cell_type": "code",
   "execution_count": 95,
   "metadata": {
    "collapsed": false,
    "hidden": true,
    "run_control": {
     "frozen": false,
     "read_only": false
    }
   },
   "outputs": [],
   "source": [
    "test_parsed_content = deepcopy(parsed_content)\n",
    "ck_ex.refine_parsed_quizzes(test_parsed_content)"
   ]
  },
  {
   "cell_type": "code",
   "execution_count": 96,
   "metadata": {
    "collapsed": false,
    "hidden": true,
    "run_control": {
     "frozen": false,
     "read_only": false
    }
   },
   "outputs": [],
   "source": [
    "ck_ex.simple_quiz_parser_test(test_parsed_content)"
   ]
  },
  {
   "cell_type": "code",
   "execution_count": 15,
   "metadata": {
    "collapsed": false,
    "hidden": true,
    "run_control": {
     "frozen": false,
     "read_only": false
    }
   },
   "outputs": [],
   "source": [
    "def check_missing(parsed_quizzes):\n",
    "    for quiz_n, quiz in parsed_quizzes.items():\n",
    "        for qid, quest in quiz['question_components'].items():\n",
    "            if quest['correct_answer'] == '_MISSING_':\n",
    "                print quiz_n\n",
    "check_missing(test_parsed_content)"
   ]
  },
  {
   "cell_type": "code",
   "execution_count": 97,
   "metadata": {
    "collapsed": true,
    "hidden": true,
    "run_control": {
     "frozen": false,
     "read_only": false
    }
   },
   "outputs": [],
   "source": [
    "with open('parsed_quiz_questions_new.json', 'w') as f:\n",
    "    json.dump(test_parsed_content, f, indent=4, sort_keys=True)"
   ]
  },
  {
   "cell_type": "markdown",
   "metadata": {},
   "source": [
    "## counting question types"
   ]
  },
  {
   "cell_type": "code",
   "execution_count": 644,
   "metadata": {
    "collapsed": false,
    "run_control": {
     "frozen": false,
     "read_only": false
    }
   },
   "outputs": [],
   "source": [
    "type_series = [[question['question_type'] for question in quiz['question_components'].values()] for quiz in test_parsed_content.values()]\n",
    "\n",
    "flattented_type_series = [qt for q in type_series for qt in q]"
   ]
  },
  {
   "cell_type": "code",
   "execution_count": 646,
   "metadata": {
    "collapsed": false,
    "run_control": {
     "frozen": false,
     "read_only": false
    }
   },
   "outputs": [
    {
     "name": "stdout",
     "output_type": "stream",
     "text": [
      "8475\n"
     ]
    },
    {
     "data": {
      "text/plain": [
       "Multiple Choice      3893\n",
       "True/False           2143\n",
       "Short Answer         1613\n",
       "Fill-in-the-Blank     826\n",
       "dtype: int64"
      ]
     },
     "execution_count": 646,
     "metadata": {},
     "output_type": "execute_result"
    }
   ],
   "source": [
    "print sum(pd.Series(flattented_type_series).value_counts())\n",
    "pd.Series(flattented_type_series).value_counts()"
   ]
  },
  {
   "cell_type": "code",
   "execution_count": 647,
   "metadata": {
    "collapsed": false,
    "run_control": {
     "frozen": false,
     "read_only": false
    }
   },
   "outputs": [],
   "source": [
    "q_number_series = [[question['ask']['structural_id'] for question in quiz['question_components'].values()] for quiz in test_parsed_content.values()]"
   ]
  },
  {
   "cell_type": "code",
   "execution_count": 648,
   "metadata": {
    "collapsed": false,
    "run_control": {
     "frozen": false,
     "read_only": false
    }
   },
   "outputs": [
    {
     "data": {
      "text/plain": [
       "5.     565\n",
       "1.     565\n",
       "10.    565\n",
       "3.     565\n",
       "2.     565\n",
       "6.     564\n",
       "4.     564\n",
       "9.     564\n",
       "7.     564\n",
       "8.     563\n",
       "9)     284\n",
       "2)     283\n",
       "8)     283\n",
       "5)     283\n",
       "1)     283\n",
       "4)     283\n",
       "3)     283\n",
       "10)    282\n",
       "7)     282\n",
       "6)     282\n",
       "11.      1\n",
       "11)      1\n",
       "12.      1\n",
       "dtype: int64"
      ]
     },
     "execution_count": 648,
     "metadata": {},
     "output_type": "execute_result"
    }
   ],
   "source": [
    "flattened_q_number_series = [qt for q in q_number_series for qt in q]\n",
    "pd.Series(flattened_q_number_series).value_counts()"
   ]
  },
  {
   "cell_type": "code",
   "execution_count": 611,
   "metadata": {
    "collapsed": false,
    "run_control": {
     "frozen": false,
     "read_only": false
    }
   },
   "outputs": [
    {
     "data": {
      "text/plain": [
       "5     848\n",
       "2     848\n",
       "9     848\n",
       "1     848\n",
       "3     848\n",
       "10    847\n",
       "4     847\n",
       "7     846\n",
       "6     846\n",
       "8     846\n",
       "11      2\n",
       "12      1\n",
       "dtype: int64"
      ]
     },
     "execution_count": 611,
     "metadata": {},
     "output_type": "execute_result"
    }
   ],
   "source": [
    "flattened_q_number_series = [qt.replace('.', '').replace(')', '') for q in q_number_series for qt in q]\n",
    "pd.Series(flattened_q_number_series).value_counts()"
   ]
  },
  {
   "cell_type": "code",
   "execution_count": 649,
   "metadata": {
    "collapsed": false,
    "run_control": {
     "frozen": false,
     "read_only": false
    }
   },
   "outputs": [
    {
     "data": {
      "text/plain": [
       "answer_choice a)    6017\n",
       "answer_choice b)    6015\n",
       "answer_choice d)    3908\n",
       "answer_choice c)    3908\n",
       "answer_choice e)       5\n",
       "answer_choice f)       3\n",
       "answer_choice h)       1\n",
       "answer_choice g)       1\n",
       "dtype: int64"
      ]
     },
     "execution_count": 649,
     "metadata": {},
     "output_type": "execute_result"
    }
   ],
   "source": [
    "letter_answer_series = [[question['answer_choices'].keys() for question in quiz['question_components'].values()] for quiz in test_parsed_content.values()]\n",
    "\n",
    "flattened_letter_answer_series = [qt for q in letter_answer_series for qt in q]\n",
    "flattened_letter_answer_series = [qt for q in flattened_letter_answer_series for qt in q]\n",
    "\n",
    "flattened_letter_answer_series\n",
    "pd.Series(flattened_letter_answer_series).value_counts()"
   ]
  },
  {
   "cell_type": "markdown",
   "metadata": {
    "heading_collapsed": true
   },
   "source": [
    "### old run below"
   ]
  },
  {
   "cell_type": "code",
   "execution_count": 376,
   "metadata": {
    "collapsed": false,
    "hidden": true,
    "run_control": {
     "frozen": false,
     "read_only": false
    }
   },
   "outputs": [
    {
     "name": "stdout",
     "output_type": "stream",
     "text": [
      "8402\n"
     ]
    },
    {
     "data": {
      "text/plain": [
       "Multiple Choice    3839\n",
       "Short Answer       2441\n",
       "True/False         2120\n",
       "None                  2\n",
       "dtype: int64"
      ]
     },
     "execution_count": 376,
     "metadata": {},
     "output_type": "execute_result"
    }
   ],
   "source": [
    "print sum(pd.Series(flattented_type_series).value_counts())\n",
    "pd.Series(flattented_type_series).value_counts()"
   ]
  },
  {
   "cell_type": "markdown",
   "metadata": {
    "hidden": true
   },
   "source": [
    "the two question with None type are MC questions with mistakes in the original docx\n",
    "\n",
    "one has d) as a choice twice\n",
    "\n",
    "the other has a c. instead of c)"
   ]
  },
  {
   "cell_type": "code",
   "execution_count": 82,
   "metadata": {
    "collapsed": false,
    "hidden": true,
    "run_control": {
     "frozen": false,
     "read_only": false
    }
   },
   "outputs": [],
   "source": [
    "ex_q_to_examine = {}\n",
    "for quiz1 in test_parsed_content.values():\n",
    "    ex_q_to_examine.update({quiz1['title']:v for k, v in quiz1['question_components'].items() if isinstance(v, str) or 'question_type' not in v.keys() or v['question_type'] == 'None'})"
   ]
  },
  {
   "cell_type": "code",
   "execution_count": 83,
   "metadata": {
    "collapsed": false,
    "hidden": true,
    "run_control": {
     "frozen": false,
     "read_only": false
    }
   },
   "outputs": [
    {
     "data": {
      "text/plain": [
       "{'chemical properties of matter': OrderedDict([('question_id', 'Q_9'),\n",
       "              ('ask',\n",
       "               {'contents': '9. which of these substances is least flammable?'}),\n",
       "              ('answer_choices',\n",
       "               OrderedDict([('answer_choice a)', {'contents': 'a) cardboard'}),\n",
       "                            ('answer_choice b)',\n",
       "                             {'contents': 'b) paper c. charcoal'}),\n",
       "                            ('answer_choice d)', {'contents': 'd) steel'})])),\n",
       "              ('question_type', 'None'),\n",
       "              ('correct_answer', 'd) steel')]),\n",
       " 'covalent bonding': OrderedDict([('question_id', 'Q_6'),\n",
       "              ('ask',\n",
       "               {'contents': '6. elements that form diatomic molecules include'}),\n",
       "              ('answer_choices',\n",
       "               OrderedDict([('answer_choice a)', {'contents': 'a) oxygen.'}),\n",
       "                            ('answer_choice b)', {'contents': 'b) hydrogen.'}),\n",
       "                            ('answer_choice d)',\n",
       "                             {'contents': 'd) all of the above'})])),\n",
       "              ('question_type', 'None'),\n",
       "              ('correct_answer', 'd) all of the above')])}"
      ]
     },
     "execution_count": 83,
     "metadata": {},
     "output_type": "execute_result"
    }
   ],
   "source": [
    "ex_q_to_examine"
   ]
  },
  {
   "cell_type": "code",
   "execution_count": null,
   "metadata": {
    "collapsed": true,
    "hidden": true,
    "run_control": {
     "frozen": false,
     "read_only": false
    }
   },
   "outputs": [],
   "source": []
  },
  {
   "cell_type": "code",
   "execution_count": null,
   "metadata": {
    "collapsed": true,
    "hidden": true,
    "run_control": {
     "frozen": false,
     "read_only": false
    }
   },
   "outputs": [],
   "source": []
  },
  {
   "cell_type": "code",
   "execution_count": null,
   "metadata": {
    "collapsed": true,
    "hidden": true,
    "run_control": {
     "frozen": false,
     "read_only": false
    }
   },
   "outputs": [],
   "source": []
  },
  {
   "cell_type": "code",
   "execution_count": null,
   "metadata": {
    "collapsed": true,
    "hidden": true,
    "run_control": {
     "frozen": false,
     "read_only": false
    }
   },
   "outputs": [],
   "source": []
  },
  {
   "cell_type": "code",
   "execution_count": null,
   "metadata": {
    "collapsed": true,
    "hidden": true,
    "run_control": {
     "frozen": false,
     "read_only": false
    }
   },
   "outputs": [],
   "source": []
  },
  {
   "cell_type": "markdown",
   "metadata": {
    "heading_collapsed": true
   },
   "source": [
    "## finding stopwords"
   ]
  },
  {
   "cell_type": "code",
   "execution_count": 432,
   "metadata": {
    "collapsed": true,
    "hidden": true,
    "run_control": {
     "frozen": false,
     "read_only": false
    }
   },
   "outputs": [],
   "source": [
    "quiz_titles = parsed_content.keys()"
   ]
  },
  {
   "cell_type": "code",
   "execution_count": 433,
   "metadata": {
    "collapsed": false,
    "hidden": true,
    "run_control": {
     "frozen": false,
     "read_only": false
    }
   },
   "outputs": [
    {
     "data": {
      "text/plain": [
       "839"
      ]
     },
     "execution_count": 433,
     "metadata": {},
     "output_type": "execute_result"
    }
   ],
   "source": [
    "len(quiz_titles)"
   ]
  },
  {
   "cell_type": "code",
   "execution_count": 435,
   "metadata": {
    "collapsed": true,
    "hidden": true,
    "run_control": {
     "frozen": false,
     "read_only": false
    }
   },
   "outputs": [],
   "source": [
    "title_corpus = ' '.join(quiz_titles)"
   ]
  },
  {
   "cell_type": "code",
   "execution_count": 436,
   "metadata": {
    "collapsed": false,
    "hidden": true,
    "run_control": {
     "frozen": false,
     "read_only": false
    }
   },
   "outputs": [
    {
     "data": {
      "text/plain": [
       "['of', 'and', 'the', 'system']"
      ]
     },
     "execution_count": 436,
     "metadata": {},
     "output_type": "execute_result"
    }
   ],
   "source": [
    "title_feq_dist = nltk.FreqDist(title_corpus.split())\n",
    "most_common_words = title_feq_dist.most_common()\n",
    "filter_words = [word[0].lower() for word in most_common_words[:4]]\n",
    "filter_words"
   ]
  },
  {
   "cell_type": "code",
   "execution_count": null,
   "metadata": {
    "collapsed": true,
    "hidden": true,
    "run_control": {
     "frozen": false,
     "read_only": false
    }
   },
   "outputs": [],
   "source": []
  },
  {
   "cell_type": "markdown",
   "metadata": {
    "hidden": true
   },
   "source": [
    "original run (prior to filtering) below"
   ]
  },
  {
   "cell_type": "code",
   "execution_count": 145,
   "metadata": {
    "collapsed": false,
    "hidden": true,
    "run_control": {
     "frozen": false,
     "read_only": false
    }
   },
   "outputs": [
    {
     "data": {
      "text/plain": [
       "[u'quiz', u'answer', u'key', u'answers']"
      ]
     },
     "execution_count": 145,
     "metadata": {},
     "output_type": "execute_result"
    }
   ],
   "source": [
    "title_feq_dist = nltk.FreqDist(title_corpus.split())\n",
    "most_common_words = title_feq_dist.most_common()\n",
    "filter_words = [word[0].lower() for word in most_common_words[:4]]\n",
    "filter_words"
   ]
  },
  {
   "cell_type": "code",
   "execution_count": 437,
   "metadata": {
    "collapsed": false,
    "hidden": true,
    "run_control": {
     "frozen": false,
     "read_only": false
    }
   },
   "outputs": [],
   "source": [
    "# most_common_words = title_feq_dist.most_common()"
   ]
  },
  {
   "cell_type": "code",
   "execution_count": null,
   "metadata": {
    "collapsed": true,
    "hidden": true,
    "run_control": {
     "frozen": false,
     "read_only": false
    }
   },
   "outputs": [],
   "source": []
  },
  {
   "cell_type": "code",
   "execution_count": null,
   "metadata": {
    "collapsed": true,
    "hidden": true,
    "run_control": {
     "frozen": false,
     "read_only": false
    }
   },
   "outputs": [],
   "source": []
  },
  {
   "cell_type": "code",
   "execution_count": null,
   "metadata": {
    "collapsed": true,
    "hidden": true,
    "run_control": {
     "frozen": false,
     "read_only": false
    }
   },
   "outputs": [],
   "source": []
  },
  {
   "cell_type": "code",
   "execution_count": null,
   "metadata": {
    "collapsed": true,
    "hidden": true,
    "run_control": {
     "frozen": false,
     "read_only": false
    }
   },
   "outputs": [],
   "source": []
  },
  {
   "cell_type": "code",
   "execution_count": null,
   "metadata": {
    "collapsed": true,
    "hidden": true,
    "run_control": {
     "frozen": false,
     "read_only": false
    }
   },
   "outputs": [],
   "source": []
  },
  {
   "cell_type": "markdown",
   "metadata": {
    "heading_collapsed": true
   },
   "source": [
    "## font color and size counts"
   ]
  },
  {
   "cell_type": "code",
   "execution_count": 71,
   "metadata": {
    "collapsed": false,
    "hidden": true,
    "run_control": {
     "frozen": false,
     "read_only": false
    }
   },
   "outputs": [],
   "source": [
    "colors_seen, sizes_seen = test_parser.parse_pdf_collection(base_dir + all_dir)"
   ]
  },
  {
   "cell_type": "code",
   "execution_count": 65,
   "metadata": {
    "collapsed": false,
    "hidden": true,
    "run_control": {
     "frozen": false,
     "read_only": false
    }
   },
   "outputs": [
    {
     "data": {
      "text/plain": [
       "{(0.0, 0.0, 0.0),\n",
       " (0.0, 0.0, 1.0),\n",
       " (0.0901947021484375, 0.211761474609375, 0.3647003173828125),\n",
       " (1.0, 0.0, 0.0)}"
      ]
     },
     "execution_count": 65,
     "metadata": {},
     "output_type": "execute_result"
    }
   ],
   "source": [
    "colors_seen"
   ]
  },
  {
   "cell_type": "code",
   "execution_count": 66,
   "metadata": {
    "collapsed": false,
    "hidden": true,
    "run_control": {
     "frozen": false,
     "read_only": false
    }
   },
   "outputs": [
    {
     "data": {
      "text/plain": [
       "{6.996890015500003,\n",
       " 7.141352035799999,\n",
       " 7.2992101224,\n",
       " 10.8,\n",
       " 11.132385189167685,\n",
       " 12.000000000000002,\n",
       " 12.264581926999998,\n",
       " 12.270621905999995,\n",
       " 12.513388832,\n",
       " 14.88,\n",
       " 15.840000000000002}"
      ]
     },
     "execution_count": 66,
     "metadata": {},
     "output_type": "execute_result"
    }
   ],
   "source": [
    "sizes_seen"
   ]
  },
  {
   "cell_type": "code",
   "execution_count": 72,
   "metadata": {
    "collapsed": false,
    "hidden": true,
    "run_control": {
     "frozen": false,
     "read_only": false
    }
   },
   "outputs": [
    {
     "data": {
      "text/plain": [
       "(0.0, 0.0, 0.0)                                      30557\n",
       "(1.0, 0.0, 0.0)                                       9595\n",
       "(0.0901947021484, 0.211761474609, 0.364700317383)      842\n",
       "(0.0, 0.0, 1.0)                                          1\n",
       "dtype: int64"
      ]
     },
     "execution_count": 72,
     "metadata": {},
     "output_type": "execute_result"
    }
   ],
   "source": [
    "pd.value_counts(colors_seen)"
   ]
  },
  {
   "cell_type": "code",
   "execution_count": 73,
   "metadata": {
    "collapsed": false,
    "hidden": true,
    "run_control": {
     "frozen": false,
     "read_only": false
    }
   },
   "outputs": [
    {
     "data": {
      "text/plain": [
       "10.800000    34363\n",
       "12.000000     5721\n",
       "15.840000      855\n",
       "11.132385       20\n",
       "7.141352        16\n",
       "12.270622        8\n",
       "7.299210         4\n",
       "12.513389        2\n",
       "14.880000        2\n",
       "12.264582        2\n",
       "6.996890         2\n",
       "dtype: int64"
      ]
     },
     "execution_count": 73,
     "metadata": {},
     "output_type": "execute_result"
    }
   ],
   "source": [
    "pd.value_counts(sizes_seen)"
   ]
  },
  {
   "cell_type": "code",
   "execution_count": null,
   "metadata": {
    "collapsed": true,
    "hidden": true,
    "run_control": {
     "frozen": false,
     "read_only": false
    }
   },
   "outputs": [],
   "source": []
  },
  {
   "cell_type": "code",
   "execution_count": null,
   "metadata": {
    "collapsed": true,
    "hidden": true,
    "run_control": {
     "frozen": false,
     "read_only": false
    }
   },
   "outputs": [],
   "source": []
  },
  {
   "cell_type": "code",
   "execution_count": null,
   "metadata": {
    "collapsed": true,
    "hidden": true,
    "run_control": {
     "frozen": false,
     "read_only": false
    }
   },
   "outputs": [],
   "source": []
  },
  {
   "cell_type": "code",
   "execution_count": null,
   "metadata": {
    "collapsed": true,
    "hidden": true,
    "run_control": {
     "frozen": false,
     "read_only": false
    }
   },
   "outputs": [],
   "source": []
  },
  {
   "cell_type": "code",
   "execution_count": null,
   "metadata": {
    "collapsed": true,
    "hidden": true,
    "run_control": {
     "frozen": false,
     "read_only": false
    }
   },
   "outputs": [],
   "source": []
  },
  {
   "cell_type": "code",
   "execution_count": null,
   "metadata": {
    "collapsed": true,
    "hidden": true,
    "run_control": {
     "frozen": false,
     "read_only": false
    }
   },
   "outputs": [],
   "source": []
  },
  {
   "cell_type": "markdown",
   "metadata": {
    "heading_collapsed": true
   },
   "source": [
    "# End"
   ]
  },
  {
   "cell_type": "code",
   "execution_count": 23,
   "metadata": {
    "collapsed": false,
    "hidden": true,
    "run_control": {
     "frozen": false,
     "read_only": false
    },
    "scrolled": false
   },
   "outputs": [],
   "source": [
    "for lesson, topic in tpp.items():\n",
    "    print lesson * 6\n",
    "    for topic, text in topic.items():\n",
    "        print topic\n",
    "        print text\n",
    "        print '\\n' * 3"
   ]
  }
 ],
 "metadata": {
  "kernelspec": {
   "display_name": "Python 2",
   "language": "python",
   "name": "python2"
  },
  "language_info": {
   "codemirror_mode": {
    "name": "ipython",
    "version": 2
   },
   "file_extension": ".py",
   "mimetype": "text/x-python",
   "name": "python",
   "nbconvert_exporter": "python",
   "pygments_lexer": "ipython2",
   "version": "2.7.10"
  }
 },
 "nbformat": 4,
 "nbformat_minor": 0
}
