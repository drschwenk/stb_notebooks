{
 "cells": [
  {
   "cell_type": "markdown",
   "metadata": {},
   "source": [
    "# Table of Contents\n",
    "* [Submitting HITs](#Submitting-HITs)\n",
    "\t* [Building URLs for images on s3](#Building-URLs-for-images-on-s3)\n",
    "\t* [submitting HITs in groups](#submitting-HITs-in-groups)\n",
    "\t\t* [creates HITs, careful with this one](#creates-HITs,-careful-with-this-one)\n",
    "* [Reviewing latest HITs](#Reviewing-latest-HITs)\n",
    "* [Merging latest round of HITs into combined dataset](#Merging-latest-round-of-HITs-into-combined-dataset)\n",
    "\t* [Load previously pickled results](#Load-previously-pickled-results)\n",
    "\t* [Load prior complete dataset if not in memory](#Load-prior-complete-dataset-if-not-in-memory)\n",
    "\t* [Updating full dataset](#Updating-full-dataset)\n",
    "\t* [Working with full dataset](#Working-with-full-dataset)\n",
    "* [Worker analysis](#Worker-analysis)\n",
    "\t* [Basic worker stats](#Basic-worker-stats)\n",
    "\t\t* [HIT duration for pricing](#HIT-duration-for-pricing)\n",
    "\t* [Identifying high and low consensus workers](#Identifying-high-and-low-consensus-workers)\n",
    "\t* [Messaging workers](#Messaging-workers)\n",
    "* [HIT end-of-life](#HIT-end-of-life)\n",
    "\t* [Pickle latest results](#Pickle-latest-results)\n",
    "\t* [Pickle combined dataset](#Pickle-combined-dataset)\n",
    "\t* [Accepting and deleting HITs... careful with these](#Accepting-and-deleting-HITs...-careful-with-these)\n"
   ]
  },
  {
   "cell_type": "code",
   "execution_count": 1,
   "metadata": {
    "collapsed": false,
    "run_control": {
     "frozen": false,
     "read_only": false
    }
   },
   "outputs": [],
   "source": [
    "%%capture\n",
    "from __future__ import division\n",
    "import numpy as np\n",
    "import pandas as pd\n",
    "import scipy.stats as st\n",
    "import itertools\n",
    "import math\n",
    "from collections import Counter, defaultdict\n",
    "%load_ext autoreload\n",
    "%autoreload 2\n",
    "\n",
    "import matplotlib as mpl\n",
    "mpl.use(\"Agg\")\n",
    "import matplotlib.pylab as plt\n",
    "#%matplotlib notebook\n",
    "%matplotlib inline\n",
    "%load_ext base16_mplrc\n",
    "%base16_mplrc light default\n",
    "plt.rcParams['figure.figsize'] = (16.0, 10.0)\n",
    "\n",
    "import re\n",
    "from datetime import datetime\n",
    "import dateutil.parser as dt_parse\n",
    "import pickle\n",
    "import boto\n",
    "import json\n",
    "import os\n",
    "\n",
    "from copy import deepcopy\n",
    "import boto.mturk.connection as tc\n",
    "import boto.mturk.question as tq\n",
    "from boto.mturk.qualification import PercentAssignmentsApprovedRequirement, Qualifications, Requirement\n",
    "\n",
    "from keysTkingdom import mturk_ai2\n",
    "from keysTkingdom import aws_tokes\n",
    "\n",
    "import pdfextraction.amt_boto_modules as amt_util"
   ]
  },
  {
   "cell_type": "markdown",
   "metadata": {},
   "source": [
    "# Submitting HITs"
   ]
  },
  {
   "cell_type": "markdown",
   "metadata": {
    "heading_collapsed": true
   },
   "source": [
    "## Building URLs for images on s3"
   ]
  },
  {
   "cell_type": "code",
   "execution_count": 108,
   "metadata": {
    "collapsed": false,
    "hidden": true,
    "run_control": {
     "frozen": false,
     "read_only": false
    }
   },
   "outputs": [],
   "source": [
    "book_groups, ranges = amt_util.load_book_info()\n",
    "\n",
    "daily_sci_urls = amt_util.make_book_group_urls(book_groups, 'daily_sci', ranges)\n",
    "spectrum_sci_urls = amt_util.make_book_group_urls(book_groups, 'spectrum_sci', ranges)\n",
    "read_und_sci_urls  = amt_util.make_book_group_urls(book_groups, 'read_und_sci', ranges)\n",
    "workbook_urls = amt_util.make_book_group_urls(book_groups, 'workbooks', ranges)\n",
    "misc_urls = amt_util.make_book_group_urls(book_groups, 'misc', ranges)"
   ]
  },
  {
   "cell_type": "markdown",
   "metadata": {},
   "source": [
    "## submitting HITs in groups"
   ]
  },
  {
   "cell_type": "code",
   "execution_count": 117,
   "metadata": {
    "collapsed": false,
    "run_control": {
     "frozen": false,
     "read_only": false
    }
   },
   "outputs": [
    {
     "name": "stdout",
     "output_type": "stream",
     "text": [
      "$619.39\n"
     ]
    }
   ],
   "source": [
    "## Switch between sandbox and the real world here ##\n",
    "## DON'T FORGET to change submission POST request in the client ##\n",
    "\n",
    "sandbox_host = 'mechanicalturk.sandbox.amazonaws.com' \n",
    "real_world_host = 'mechanicalturk.amazonaws.com'\n",
    "mturk = tc.MTurkConnection(\n",
    "    aws_access_key_id = aws_tokes.access_key,\n",
    "    aws_secret_access_key = aws_tokes.access_secret_key,\n",
    "    host = real_world_host,\n",
    "    debug = 1 # debug = 2 prints out all requests.\n",
    ")\n",
    "current_account_balance = mturk.get_account_balance()[0]\n",
    "print current_account_balance # a reminder of sandbox"
   ]
  },
  {
   "cell_type": "code",
   "execution_count": 5,
   "metadata": {
    "collapsed": false,
    "run_control": {
     "frozen": false,
     "read_only": false
    }
   },
   "outputs": [],
   "source": [
    "static_params = {\n",
    "    'title': \"Annotate Science Textbook\",\n",
    "    'description': \"Choose which category text from a grade-school science book best belongs to\",\n",
    "    'keywords': ['image', 'science', 'text', 'labeling' ],\n",
    "    'frame_height': 800,\n",
    "    'amount': 0.06,\n",
    "    'duration': 3600 * 12,\n",
    "    'lifetime': 3600 * 24 * 3,\n",
    "    'max_assignments': 3\n",
    "}"
   ]
  },
  {
   "cell_type": "markdown",
   "metadata": {},
   "source": [
    "### creates HITs, careful with this one"
   ]
  },
  {
   "cell_type": "code",
   "execution_count": 106,
   "metadata": {
    "collapsed": false,
    "run_control": {
     "frozen": false,
     "read_only": false
    }
   },
   "outputs": [
    {
     "name": "stdout",
     "output_type": "stream",
     "text": [
      "WARNING -- account balance is too low -- WARNING\n",
      "expect this batch of HITs to cost: $408.6\n"
     ]
    }
   ],
   "source": [
    "pages_to_use = read_und_sci_urls\n",
    "# pages_to_use = workbook_urls + misc_urls + read_und_sci_urls\n",
    "expected_cost = len(pages_to_use) *  static_params['amount'] * static_params['max_assignments']\n",
    "if float(current_account_balance.amount) < expected_cost:\n",
    "    print('WARNING -- account balance is too low -- WARNING')\n",
    "print('expect this batch of HITs to cost: $' + str(expected_cost))"
   ]
  },
  {
   "cell_type": "markdown",
   "metadata": {},
   "source": [
    "uncomment cell below only when ready to submit"
   ]
  },
  {
   "cell_type": "code",
   "execution_count": 820,
   "metadata": {
    "code_folding": [],
    "collapsed": false,
    "run_control": {
     "frozen": false,
     "read_only": false
    }
   },
   "outputs": [],
   "source": [
    "# amt_util.create_hits_from_pages(mturk, pages_to_use, static_params)"
   ]
  },
  {
   "cell_type": "markdown",
   "metadata": {
    "heading_collapsed": true
   },
   "source": [
    "# Reviewing latest HITs"
   ]
  },
  {
   "cell_type": "code",
   "execution_count": 7,
   "metadata": {
    "collapsed": true,
    "hidden": true,
    "run_control": {
     "frozen": false,
     "read_only": false
    }
   },
   "outputs": [],
   "source": [
    "r_hits_current_batch = amt_util.get_completed_hits(mturk)\n",
    "assignment_results_current_batch = amt_util.get_assignments(mturk, r_hits_current_batch)"
   ]
  },
  {
   "cell_type": "code",
   "execution_count": 382,
   "metadata": {
    "collapsed": true,
    "hidden": true,
    "run_control": {
     "frozen": false,
     "read_only": false
    }
   },
   "outputs": [
    {
     "name": "stdout",
     "output_type": "stream",
     "text": [
      "current assignment statuses\n"
     ]
    },
    {
     "data": {
      "text/plain": [
       "Approved    4140\n",
       "Rejected     141\n",
       "dtype: int64"
      ]
     },
     "execution_count": 382,
     "metadata": {},
     "output_type": "execute_result"
    }
   ],
   "source": [
    "print 'current assignment statuses'\n",
    "print amt_util.get_assignment_statuses(assignment_results_current_batch)"
   ]
  },
  {
   "cell_type": "markdown",
   "metadata": {
    "hidden": true
   },
   "source": [
    "The two commands above interact with mechanical turk and can take a while"
   ]
  },
  {
   "cell_type": "code",
   "execution_count": 8,
   "metadata": {
    "collapsed": true,
    "hidden": true,
    "run_control": {
     "frozen": false,
     "read_only": false
    }
   },
   "outputs": [],
   "source": [
    "raw_hit_results_current_batch = amt_util.process_raw_hits(assignment_results_current_batch)"
   ]
  },
  {
   "cell_type": "code",
   "execution_count": 9,
   "metadata": {
    "collapsed": false,
    "hidden": true,
    "run_control": {
     "frozen": false,
     "read_only": false
    }
   },
   "outputs": [],
   "source": [
    "results_df_current_batch = amt_util.make_results_df(raw_hit_results_current_batch)\n",
    "consensus_results_df_current_batch = amt_util.make_consensus_df(results_df_current_batch, 'No Consensus')"
   ]
  },
  {
   "cell_type": "code",
   "execution_count": 10,
   "metadata": {
    "collapsed": false,
    "hidden": true,
    "run_control": {
     "frozen": false,
     "read_only": false
    }
   },
   "outputs": [],
   "source": [
    "%%capture\n",
    "no_consensus_hits = consensus_results_df_current_batch[consensus_results_df_current_batch['category'] == 'No Consensus']"
   ]
  },
  {
   "cell_type": "code",
   "execution_count": 102,
   "metadata": {
    "collapsed": false,
    "hidden": true,
    "run_control": {
     "frozen": false,
     "read_only": false
    }
   },
   "outputs": [
    {
     "name": "stdout",
     "output_type": "stream",
     "text": [
      "text boxes without consensus comprise 2.87% of the total\n"
     ]
    }
   ],
   "source": [
    "flaw_rate = len(no_consensus_hits) / len(consensus_results_df_current_batch)\n",
    "print 'text boxes without consensus comprise ' + '{0:0.2f}% '.format(flaw_rate * 100) + 'of the total'  "
   ]
  },
  {
   "cell_type": "code",
   "execution_count": 423,
   "metadata": {
    "collapsed": true,
    "hidden": true,
    "run_control": {
     "frozen": false,
     "read_only": false
    }
   },
   "outputs": [],
   "source": [
    "amt_util.write_results_df(consensus_results_df_current_batch)"
   ]
  },
  {
   "cell_type": "code",
   "execution_count": 419,
   "metadata": {
    "collapsed": true,
    "hidden": true,
    "run_control": {
     "frozen": false,
     "read_only": false
    }
   },
   "outputs": [],
   "source": [
    "# all pages from the latest batch\n",
    "pages_to_review =pd.unique(consensus_results_df_current_batch['page'])"
   ]
  },
  {
   "cell_type": "code",
   "execution_count": 384,
   "metadata": {
    "collapsed": true,
    "hidden": true,
    "run_control": {
     "frozen": false,
     "read_only": false
    }
   },
   "outputs": [],
   "source": [
    "# all pages from the latest batch with a no-consensus box\n",
    "pages_to_review =pd.unique(no_consensus_hits['page'])"
   ]
  },
  {
   "cell_type": "code",
   "execution_count": 424,
   "metadata": {
    "collapsed": false,
    "hidden": true,
    "run_control": {
     "frozen": false,
     "read_only": false
    }
   },
   "outputs": [
    {
     "name": "stdout",
     "output_type": "stream",
     "text": [
      "sampling 17 pages out of 17\n",
      "posting to review tool, navigate to http://localhost:8080/ to see the sampled consensus results\n"
     ]
    }
   ],
   "source": [
    "sampling_rate = 1\n",
    "sample_size = int(len(pages_to_review) * sampling_rate)\n",
    "sampled_pages_to_review = list(np.random.choice(pages_to_review, size= sample_size, replace=False))\n",
    "print 'sampling ' + str(sample_size) + ' pages out of ' + str(len(pages_to_review))\n",
    "to_review = ['start_seq'] + sampled_pages_to_review\n",
    "\n",
    "amt_util.review_results(to_review)\n",
    "print 'posting to review tool, navigate to http://localhost:8080/ to see the sampled consensus results'"
   ]
  },
  {
   "cell_type": "code",
   "execution_count": 438,
   "metadata": {
    "collapsed": false,
    "hidden": true,
    "run_control": {
     "frozen": false,
     "read_only": false
    }
   },
   "outputs": [
    {
     "data": {
      "text/plain": [
       "1337"
      ]
     },
     "execution_count": 438,
     "metadata": {},
     "output_type": "execute_result"
    }
   ],
   "source": [
    "amt_util.count_pages_with_cat(combined_consensus_df, 'Question')"
   ]
  },
  {
   "cell_type": "code",
   "execution_count": 73,
   "metadata": {
    "collapsed": false,
    "hidden": true,
    "run_control": {
     "frozen": false,
     "read_only": false
    }
   },
   "outputs": [],
   "source": [
    "%%capture \n",
    "# all pages from the latest batch with a no-consensus box\n",
    "suspect_subset = results_df_current_batch[results_df_current_batch['worker_id'].isin(suspect_workers[:5])]\n",
    "amt_util.write_results_df(suspect_subset)\n",
    "pages_to_review = pd.unique(suspect_subset['page'])"
   ]
  },
  {
   "cell_type": "markdown",
   "metadata": {},
   "source": [
    "# Merging latest round of HITs into combined dataset "
   ]
  },
  {
   "cell_type": "markdown",
   "metadata": {
    "heading_collapsed": true
   },
   "source": [
    "## Load previously pickled results"
   ]
  },
  {
   "cell_type": "code",
   "execution_count": 383,
   "metadata": {
    "collapsed": false,
    "hidden": true,
    "run_control": {
     "frozen": false,
     "read_only": false
    }
   },
   "outputs": [],
   "source": [
    "batch_number = 7\n",
    "\n",
    "with open('./store_hit_results_metadata/group_' + str(batch_number) + '/hit_info.pkl') as f:\n",
    "    r_hits_previous_batch = pickle.load(f)\n",
    "    \n",
    "with open('./store_hit_results_metadata/group_' + str(batch_number) + '/assignment_info.pkl') as f:\n",
    "    assignment_results_previous_batch = pickle.load(f)\n",
    "    \n",
    "# with open('./store_hit_results_metadata/group_' + str(batch_number) + '/raw_res.pkl') as f:\n",
    "#     raw_hit_results_previous_batch = pickle.load(f)"
   ]
  },
  {
   "cell_type": "code",
   "execution_count": 397,
   "metadata": {
    "collapsed": true,
    "hidden": true,
    "run_control": {
     "frozen": false,
     "read_only": false
    }
   },
   "outputs": [],
   "source": [
    "# combined_results_batch = pd.read_pickle(data_pickled_dir + 'complete_df.pkl')\n",
    "# combined_consensus_batch = pd.read_pickle(data_pickled_dir + 'consensus_df.pkl')"
   ]
  },
  {
   "cell_type": "code",
   "execution_count": 405,
   "metadata": {
    "collapsed": false,
    "hidden": true,
    "run_control": {
     "frozen": false,
     "read_only": false
    }
   },
   "outputs": [],
   "source": [
    "missing_hits = set(assignment_results_previous_batch.keys()).difference(assignment_results_current_batch.keys())\n",
    "missing_hits_assignments = {k: v for k, v in assignment_results_previous_batch.items() if k in missing_hits}"
   ]
  },
  {
   "cell_type": "markdown",
   "metadata": {
    "heading_collapsed": true
   },
   "source": [
    "## Load prior complete dataset if not in memory"
   ]
  },
  {
   "cell_type": "code",
   "execution_count": 2,
   "metadata": {
    "collapsed": true,
    "hidden": true,
    "run_control": {
     "frozen": false,
     "read_only": false
    }
   },
   "outputs": [],
   "source": [
    "data_pickled_dir = './store_hit_results_metadata/group_latest_combined/' "
   ]
  },
  {
   "cell_type": "code",
   "execution_count": 3,
   "metadata": {
    "collapsed": false,
    "hidden": true,
    "run_control": {
     "frozen": false,
     "read_only": false
    }
   },
   "outputs": [],
   "source": [
    "combined_results_df = pd.read_pickle(data_pickled_dir + 'complete_df.pkl')\n",
    "combined_consensus_df = pd.read_pickle(data_pickled_dir + 'consensus_df.pkl')\n",
    "combined_consensus_with_workerid_df = pd.read_pickle(data_pickled_dir + 'consensus_df_w_workers.pkl') "
   ]
  },
  {
   "cell_type": "markdown",
   "metadata": {
    "heading_collapsed": true
   },
   "source": [
    "## Updating full dataset"
   ]
  },
  {
   "cell_type": "code",
   "execution_count": 426,
   "metadata": {
    "collapsed": false,
    "hidden": true,
    "run_control": {
     "frozen": false,
     "read_only": false
    }
   },
   "outputs": [],
   "source": [
    "combined_results_df = combined_results_df.append(results_df_previous_batch)\n",
    "combined_consensus_df = combined_consensus_df.append(consensus_prev)\n",
    "combined_consensus_with_workerid_df = combined_consensus_with_workerid_df.append(consensus_prevww)"
   ]
  },
  {
   "cell_type": "code",
   "execution_count": 4,
   "metadata": {
    "collapsed": true,
    "hidden": true,
    "run_control": {
     "frozen": false,
     "read_only": false
    }
   },
   "outputs": [],
   "source": [
    "%%capture\n",
    "no_consensus_hits = combined_consensus_df[combined_consensus_df['category'] == 'No Consensus']"
   ]
  },
  {
   "cell_type": "markdown",
   "metadata": {},
   "source": [
    "## Working with full dataset"
   ]
  },
  {
   "cell_type": "markdown",
   "metadata": {
    "heading_collapsed": true
   },
   "source": [
    "### worker specific"
   ]
  },
  {
   "cell_type": "code",
   "execution_count": 961,
   "metadata": {
    "collapsed": true,
    "hidden": true,
    "run_control": {
     "frozen": false,
     "read_only": false
    }
   },
   "outputs": [],
   "source": [
    "flaw_rate = len(no_consensus_hits) / len(combined_consensus_df)\n",
    "print 'text boxes without consensus are ' + '{0:0.2f}% '.format(flaw_rate * 100) + 'of the total'  "
   ]
  },
  {
   "cell_type": "code",
   "execution_count": 255,
   "metadata": {
    "collapsed": false,
    "hidden": true,
    "run_control": {
     "frozen": false,
     "read_only": false
    }
   },
   "outputs": [],
   "source": [
    "workers_to_qualify = worker_quality_df[worker_quality_df['submitted'] > 100].sort_values('flaw_ratio', ascending= True).head(25).index.tolist()"
   ]
  },
  {
   "cell_type": "code",
   "execution_count": null,
   "metadata": {
    "collapsed": true,
    "hidden": true,
    "run_control": {
     "frozen": false,
     "read_only": false
    }
   },
   "outputs": [],
   "source": [
    "workers_to_qualify"
   ]
  },
  {
   "cell_type": "code",
   "execution_count": 242,
   "metadata": {
    "collapsed": false,
    "hidden": true,
    "run_control": {
     "frozen": false,
     "read_only": false
    }
   },
   "outputs": [
    {
     "data": {
      "text/html": [
       "<div>\n",
       "<table border=\"1\" class=\"dataframe\">\n",
       "  <thead>\n",
       "    <tr style=\"text-align: right;\">\n",
       "      <th></th>\n",
       "      <th>submitted</th>\n",
       "      <th>incorrect</th>\n",
       "      <th>flaw_ratio</th>\n",
       "    </tr>\n",
       "  </thead>\n",
       "  <tbody>\n",
       "    <tr>\n",
       "      <th>A2KM2RWXQV47CV</th>\n",
       "      <td>2900.0</td>\n",
       "      <td>2093.0</td>\n",
       "      <td>0.721724</td>\n",
       "    </tr>\n",
       "    <tr>\n",
       "      <th>A16EEWCUQK9LM2</th>\n",
       "      <td>1069.0</td>\n",
       "      <td>446.0</td>\n",
       "      <td>0.417212</td>\n",
       "    </tr>\n",
       "    <tr>\n",
       "      <th>A1QZHZZMO2TE51</th>\n",
       "      <td>582.0</td>\n",
       "      <td>215.0</td>\n",
       "      <td>0.369416</td>\n",
       "    </tr>\n",
       "    <tr>\n",
       "      <th>A2XJH3WC02RMXQ</th>\n",
       "      <td>134.0</td>\n",
       "      <td>87.0</td>\n",
       "      <td>0.649254</td>\n",
       "    </tr>\n",
       "    <tr>\n",
       "      <th>AQE7EQDM98KB7</th>\n",
       "      <td>154.0</td>\n",
       "      <td>47.0</td>\n",
       "      <td>0.305195</td>\n",
       "    </tr>\n",
       "    <tr>\n",
       "      <th>A18DRAESIN3E94</th>\n",
       "      <td>112.0</td>\n",
       "      <td>43.0</td>\n",
       "      <td>0.383929</td>\n",
       "    </tr>\n",
       "    <tr>\n",
       "      <th>A8TDOYC7FWWKR</th>\n",
       "      <td>67.0</td>\n",
       "      <td>36.0</td>\n",
       "      <td>0.537313</td>\n",
       "    </tr>\n",
       "    <tr>\n",
       "      <th>A9Y1HKUEOOEPM</th>\n",
       "      <td>49.0</td>\n",
       "      <td>35.0</td>\n",
       "      <td>0.714286</td>\n",
       "    </tr>\n",
       "    <tr>\n",
       "      <th>A1EGJ4WHHIU61V</th>\n",
       "      <td>45.0</td>\n",
       "      <td>24.0</td>\n",
       "      <td>0.533333</td>\n",
       "    </tr>\n",
       "    <tr>\n",
       "      <th>A1ESKJFDQUMBL4</th>\n",
       "      <td>68.0</td>\n",
       "      <td>23.0</td>\n",
       "      <td>0.338235</td>\n",
       "    </tr>\n",
       "    <tr>\n",
       "      <th>A24DYXCGZQUZUQ</th>\n",
       "      <td>31.0</td>\n",
       "      <td>23.0</td>\n",
       "      <td>0.741935</td>\n",
       "    </tr>\n",
       "    <tr>\n",
       "      <th>AGKUZPBBPK7X9</th>\n",
       "      <td>51.0</td>\n",
       "      <td>21.0</td>\n",
       "      <td>0.411765</td>\n",
       "    </tr>\n",
       "    <tr>\n",
       "      <th>A2V4PRG5UBNIX0</th>\n",
       "      <td>27.0</td>\n",
       "      <td>20.0</td>\n",
       "      <td>0.740741</td>\n",
       "    </tr>\n",
       "    <tr>\n",
       "      <th>A3VE5OH94HYHET</th>\n",
       "      <td>30.0</td>\n",
       "      <td>16.0</td>\n",
       "      <td>0.533333</td>\n",
       "    </tr>\n",
       "    <tr>\n",
       "      <th>AZE084MMZVEYT</th>\n",
       "      <td>26.0</td>\n",
       "      <td>15.0</td>\n",
       "      <td>0.576923</td>\n",
       "    </tr>\n",
       "  </tbody>\n",
       "</table>\n",
       "</div>"
      ],
      "text/plain": [
       "                submitted  incorrect  flaw_ratio\n",
       "A2KM2RWXQV47CV     2900.0     2093.0    0.721724\n",
       "A16EEWCUQK9LM2     1069.0      446.0    0.417212\n",
       "A1QZHZZMO2TE51      582.0      215.0    0.369416\n",
       "A2XJH3WC02RMXQ      134.0       87.0    0.649254\n",
       "AQE7EQDM98KB7       154.0       47.0    0.305195\n",
       "A18DRAESIN3E94      112.0       43.0    0.383929\n",
       "A8TDOYC7FWWKR        67.0       36.0    0.537313\n",
       "A9Y1HKUEOOEPM        49.0       35.0    0.714286\n",
       "A1EGJ4WHHIU61V       45.0       24.0    0.533333\n",
       "A1ESKJFDQUMBL4       68.0       23.0    0.338235\n",
       "A24DYXCGZQUZUQ       31.0       23.0    0.741935\n",
       "AGKUZPBBPK7X9        51.0       21.0    0.411765\n",
       "A2V4PRG5UBNIX0       27.0       20.0    0.740741\n",
       "A3VE5OH94HYHET       30.0       16.0    0.533333\n",
       "AZE084MMZVEYT        26.0       15.0    0.576923"
      ]
     },
     "execution_count": 242,
     "metadata": {},
     "output_type": "execute_result"
    }
   ],
   "source": [
    "bad_and_prolific_workers[:15]"
   ]
  },
  {
   "cell_type": "markdown",
   "metadata": {
    "hidden": true
   },
   "source": [
    "workers who contacted me"
   ]
  },
  {
   "cell_type": "code",
   "execution_count": 256,
   "metadata": {
    "collapsed": true,
    "hidden": true,
    "run_control": {
     "frozen": false,
     "read_only": false
    }
   },
   "outputs": [],
   "source": [
    "wrote_me = ['A3T8FDBJQV81FN',\n",
    "'A3UUH3632AI3ZX',\n",
    "'A2QVMCGDLTWV9',\n",
    "'A356GXVAYWN0DV',\n",
    "'A2V4PRG5UBNIX0',\n",
    "'A333VJ2K6O6R79']"
   ]
  },
  {
   "cell_type": "code",
   "execution_count": 258,
   "metadata": {
    "collapsed": false,
    "hidden": true,
    "run_control": {
     "frozen": false,
     "read_only": false
    }
   },
   "outputs": [
    {
     "data": {
      "text/plain": [
       "{'A2V4PRG5UBNIX0'}"
      ]
     },
     "execution_count": 258,
     "metadata": {},
     "output_type": "execute_result"
    }
   ],
   "source": [
    "workers_to_ban = bad_and_prolific_workers[:5].index.tolist()\n",
    "set(bad_and_prolific_workers.index).intersection(set(wrote_me))"
   ]
  },
  {
   "cell_type": "code",
   "execution_count": 275,
   "metadata": {
    "collapsed": false,
    "hidden": true,
    "run_control": {
     "frozen": false,
     "read_only": false
    }
   },
   "outputs": [
    {
     "data": {
      "text/plain": [
       "[u'A2KM2RWXQV47CV',\n",
       " u'A16EEWCUQK9LM2',\n",
       " u'A1QZHZZMO2TE51',\n",
       " u'A2XJH3WC02RMXQ',\n",
       " u'AQE7EQDM98KB7']"
      ]
     },
     "execution_count": 275,
     "metadata": {},
     "output_type": "execute_result"
    }
   ],
   "source": [
    "workers_to_ban"
   ]
  },
  {
   "cell_type": "code",
   "execution_count": 260,
   "metadata": {
    "collapsed": false,
    "hidden": true,
    "run_control": {
     "frozen": false,
     "read_only": false
    }
   },
   "outputs": [
    {
     "data": {
      "text/html": [
       "<div>\n",
       "<table border=\"1\" class=\"dataframe\">\n",
       "  <thead>\n",
       "    <tr style=\"text-align: right;\">\n",
       "      <th></th>\n",
       "      <th>assignment_id</th>\n",
       "      <th>box_id</th>\n",
       "      <th>category</th>\n",
       "      <th>consensus_category</th>\n",
       "      <th>hit_id</th>\n",
       "      <th>page</th>\n",
       "      <th>worker_id</th>\n",
       "    </tr>\n",
       "  </thead>\n",
       "  <tbody>\n",
       "    <tr>\n",
       "      <th>8126</th>\n",
       "      <td>32AT8R96GLAPAZCI12L4EGDHN25US0</td>\n",
       "      <td>T1</td>\n",
       "      <td>unlabeled</td>\n",
       "      <td>unlabeled</td>\n",
       "      <td>302OLP89DZ8M1PBU899CBQ2L0VSAC8</td>\n",
       "      <td>Daily_Science_Grade_4_Evan_Moor_55.jpeg</td>\n",
       "      <td>A333VJ2K6O6R79</td>\n",
       "    </tr>\n",
       "    <tr>\n",
       "      <th>8144</th>\n",
       "      <td>3WJ1OXY92AHNC6JBHZY8XO1M45D8A9</td>\n",
       "      <td>T1</td>\n",
       "      <td>unlabeled</td>\n",
       "      <td>unlabeled</td>\n",
       "      <td>302OLP89DZ8M1PBU899CBQ2L0VSAC8</td>\n",
       "      <td>Daily_Science_Grade_4_Evan_Moor_55.jpeg</td>\n",
       "      <td>A36PFUM96J0ES6</td>\n",
       "    </tr>\n",
       "    <tr>\n",
       "      <th>8162</th>\n",
       "      <td>3N2BF7Y2VQVH7ITTH6IJJSPL15VMHP</td>\n",
       "      <td>T1</td>\n",
       "      <td>unlabeled</td>\n",
       "      <td>unlabeled</td>\n",
       "      <td>302OLP89DZ8M1PBU899CBQ2L0VSAC8</td>\n",
       "      <td>Daily_Science_Grade_4_Evan_Moor_55.jpeg</td>\n",
       "      <td>A2RSOGTSR83XKO</td>\n",
       "    </tr>\n",
       "    <tr>\n",
       "      <th>8131</th>\n",
       "      <td>32AT8R96GLAPAZCI12L4EGDHN25US0</td>\n",
       "      <td>T10</td>\n",
       "      <td>Discussion</td>\n",
       "      <td>Discussion</td>\n",
       "      <td>302OLP89DZ8M1PBU899CBQ2L0VSAC8</td>\n",
       "      <td>Daily_Science_Grade_4_Evan_Moor_55.jpeg</td>\n",
       "      <td>A333VJ2K6O6R79</td>\n",
       "    </tr>\n",
       "    <tr>\n",
       "      <th>8149</th>\n",
       "      <td>3WJ1OXY92AHNC6JBHZY8XO1M45D8A9</td>\n",
       "      <td>T10</td>\n",
       "      <td>Discussion</td>\n",
       "      <td>Discussion</td>\n",
       "      <td>302OLP89DZ8M1PBU899CBQ2L0VSAC8</td>\n",
       "      <td>Daily_Science_Grade_4_Evan_Moor_55.jpeg</td>\n",
       "      <td>A36PFUM96J0ES6</td>\n",
       "    </tr>\n",
       "  </tbody>\n",
       "</table>\n",
       "</div>"
      ],
      "text/plain": [
       "                       assignment_id box_id    category consensus_category  \\\n",
       "8126  32AT8R96GLAPAZCI12L4EGDHN25US0     T1   unlabeled          unlabeled   \n",
       "8144  3WJ1OXY92AHNC6JBHZY8XO1M45D8A9     T1   unlabeled          unlabeled   \n",
       "8162  3N2BF7Y2VQVH7ITTH6IJJSPL15VMHP     T1   unlabeled          unlabeled   \n",
       "8131  32AT8R96GLAPAZCI12L4EGDHN25US0    T10  Discussion         Discussion   \n",
       "8149  3WJ1OXY92AHNC6JBHZY8XO1M45D8A9    T10  Discussion         Discussion   \n",
       "\n",
       "                              hit_id                                     page  \\\n",
       "8126  302OLP89DZ8M1PBU899CBQ2L0VSAC8  Daily_Science_Grade_4_Evan_Moor_55.jpeg   \n",
       "8144  302OLP89DZ8M1PBU899CBQ2L0VSAC8  Daily_Science_Grade_4_Evan_Moor_55.jpeg   \n",
       "8162  302OLP89DZ8M1PBU899CBQ2L0VSAC8  Daily_Science_Grade_4_Evan_Moor_55.jpeg   \n",
       "8131  302OLP89DZ8M1PBU899CBQ2L0VSAC8  Daily_Science_Grade_4_Evan_Moor_55.jpeg   \n",
       "8149  302OLP89DZ8M1PBU899CBQ2L0VSAC8  Daily_Science_Grade_4_Evan_Moor_55.jpeg   \n",
       "\n",
       "           worker_id  \n",
       "8126  A333VJ2K6O6R79  \n",
       "8144  A36PFUM96J0ES6  \n",
       "8162  A2RSOGTSR83XKO  \n",
       "8131  A333VJ2K6O6R79  \n",
       "8149  A36PFUM96J0ES6  "
      ]
     },
     "execution_count": 260,
     "metadata": {},
     "output_type": "execute_result"
    }
   ],
   "source": [
    "combined_consensus_with_workerid_df.head()"
   ]
  },
  {
   "cell_type": "markdown",
   "metadata": {
    "hidden": true
   },
   "source": [
    "After looking through the top few offenders, it's clear that \n",
    "\n",
    "1. the very worst intentionally submitted many blank pages\n",
    "\n",
    "2. the rest didn't read the directions very closely\n",
    "\n",
    "3. I'm comfortable rejecting the work of those with > 100 submissions\n",
    "\n",
    "4. I'll ban the worst 15 from future HITs\n"
   ]
  },
  {
   "cell_type": "markdown",
   "metadata": {},
   "source": [
    "### Reviewing full dataset"
   ]
  },
  {
   "cell_type": "code",
   "execution_count": 94,
   "metadata": {
    "collapsed": true,
    "run_control": {
     "frozen": false,
     "read_only": false
    }
   },
   "outputs": [],
   "source": [
    "amt_util.write_results_df(combined_consensus_df, local_result_path)"
   ]
  },
  {
   "cell_type": "code",
   "execution_count": 4,
   "metadata": {
    "collapsed": true,
    "run_control": {
     "frozen": false,
     "read_only": false
    }
   },
   "outputs": [],
   "source": [
    "# all pages from the complete\n",
    "pages_to_review =pd.unique(combined_consensus_df['page'])"
   ]
  },
  {
   "cell_type": "code",
   "execution_count": 5,
   "metadata": {
    "collapsed": false,
    "run_control": {
     "frozen": false,
     "read_only": false
    }
   },
   "outputs": [
    {
     "data": {
      "text/plain": [
       "(16986, 4)"
      ]
     },
     "execution_count": 5,
     "metadata": {},
     "output_type": "execute_result"
    }
   ],
   "source": [
    "combined_consensus_df[combined_consensus_df['category'] == 'Question'].shape"
   ]
  },
  {
   "cell_type": "code",
   "execution_count": 6,
   "metadata": {
    "collapsed": false,
    "run_control": {
     "frozen": false,
     "read_only": false
    }
   },
   "outputs": [],
   "source": [
    "pages_to_review =pd.unique(combined_consensus_df[combined_consensus_df['category'] == 'Question']['page'])"
   ]
  },
  {
   "cell_type": "code",
   "execution_count": 7,
   "metadata": {
    "collapsed": true,
    "run_control": {
     "frozen": false,
     "read_only": false
    }
   },
   "outputs": [],
   "source": [
    "# all pages from the complete dataset with a no-consensus box\n",
    "# pages_to_review =pd.unique(no_consensus_hits['page'])"
   ]
  },
  {
   "cell_type": "code",
   "execution_count": 8,
   "metadata": {
    "collapsed": false,
    "run_control": {
     "frozen": false,
     "read_only": false
    }
   },
   "outputs": [
    {
     "name": "stdout",
     "output_type": "stream",
     "text": [
      "sampling 401 pages out of 1337\n"
     ]
    }
   ],
   "source": [
    "sampling_rate = 0.30\n",
    "sample_size = int(len(pages_to_review) * sampling_rate)\n",
    "sampled_pages_to_review = list(np.random.choice(pages_to_review, size= sample_size, replace=False))\n",
    "print 'sampling ' + str(sample_size) + ' pages out of ' + str(len(pages_to_review))\n",
    "to_review = ['start_seq'] + sampled_pages_to_review"
   ]
  },
  {
   "cell_type": "code",
   "execution_count": 39,
   "metadata": {
    "collapsed": false,
    "run_control": {
     "frozen": false,
     "read_only": false
    }
   },
   "outputs": [
    {
     "name": "stdout",
     "output_type": "stream",
     "text": [
      "posting to review tool, navigate to http://localhost:8080/ to see the sampled consensus results\n"
     ]
    }
   ],
   "source": [
    "overmerged_dir = 'labeled-annotations/'\n",
    "unmerged_dir = 'annotations_ws/'\n",
    "lessmerged_dir = 'lessmerged-annotations/'\n",
    "remerged_annotations  = 'test-remerged-annotations/'\n",
    "anno_dir = lessmerged_dir\n",
    "amt_util.review_results(to_review, anno_dir)\n",
    "print 'posting to review tool, navigate to http://localhost:8080/ to see the sampled consensus results'"
   ]
  },
  {
   "cell_type": "code",
   "execution_count": null,
   "metadata": {
    "collapsed": true,
    "run_control": {
     "frozen": false,
     "read_only": false
    }
   },
   "outputs": [],
   "source": [
    "# %%capture \n",
    "# # all pages from the latest batch with a no-consensus box\n",
    "\n",
    "# # suspect_subset = combined_results_df[combined_results_df['worker_id'].isin(bad_and_prolific_to_review[10:15])]\n",
    "# suspect_subset = combined_results_df[combined_results_df['worker_id'].isin(['A3VE5OH94HYHET'])]\n",
    "# amt_util.write_results_df(suspect_subset)\n",
    "# pages_to_review = pd.unique(suspect_subset['page'])"
   ]
  },
  {
   "cell_type": "markdown",
   "metadata": {},
   "source": [
    "### Sanitizing results- questions marked as answers"
   ]
  },
  {
   "cell_type": "code",
   "execution_count": 67,
   "metadata": {
    "collapsed": true,
    "run_control": {
     "frozen": false,
     "read_only": false
    }
   },
   "outputs": [],
   "source": [
    "question_only_df = combined_consensus_df[combined_consensus_df['category'] == 'Question']"
   ]
  },
  {
   "cell_type": "code",
   "execution_count": 68,
   "metadata": {
    "collapsed": false,
    "run_control": {
     "frozen": false,
     "read_only": false
    }
   },
   "outputs": [
    {
     "data": {
      "text/plain": [
       "1337"
      ]
     },
     "execution_count": 68,
     "metadata": {},
     "output_type": "execute_result"
    }
   ],
   "source": [
    "pages_w_questions = pd.unique(question_only_df['page'])\n",
    "len(pages_w_questions)"
   ]
  },
  {
   "cell_type": "code",
   "execution_count": 69,
   "metadata": {
    "collapsed": false,
    "run_control": {
     "frozen": false,
     "read_only": false
    }
   },
   "outputs": [],
   "source": [
    "combined_df_question_pages_only = combined_consensus_df[combined_consensus_df['page'].isin(pages_w_questions)]"
   ]
  },
  {
   "cell_type": "code",
   "execution_count": 111,
   "metadata": {
    "collapsed": false,
    "run_control": {
     "frozen": false,
     "read_only": false
    }
   },
   "outputs": [],
   "source": [
    "combined_df_question_pages_only.to_pickle('pages_w_questions.pkl')"
   ]
  },
  {
   "cell_type": "code",
   "execution_count": 70,
   "metadata": {
    "collapsed": false,
    "run_control": {
     "frozen": false,
     "read_only": false
    }
   },
   "outputs": [],
   "source": [
    "question_pages_w_answers = pd.unique(combined_df_question_pages_only[combined_df_question_pages_only['category'] == 'Answer']['page'])"
   ]
  },
  {
   "cell_type": "code",
   "execution_count": 71,
   "metadata": {
    "collapsed": false,
    "run_control": {
     "frozen": false,
     "read_only": false
    }
   },
   "outputs": [
    {
     "data": {
      "text/plain": [
       "(49,)"
      ]
     },
     "execution_count": 71,
     "metadata": {},
     "output_type": "execute_result"
    }
   ],
   "source": [
    "question_pages_w_answers.shape"
   ]
  },
  {
   "cell_type": "code",
   "execution_count": 72,
   "metadata": {
    "collapsed": false,
    "run_control": {
     "frozen": false,
     "read_only": false
    }
   },
   "outputs": [],
   "source": [
    "incorrectly_marked_answers_df = combined_consensus_df[combined_consensus_df['page'].isin(question_pages_w_answers)]"
   ]
  },
  {
   "cell_type": "code",
   "execution_count": 73,
   "metadata": {
    "collapsed": false,
    "run_control": {
     "frozen": false,
     "read_only": false
    }
   },
   "outputs": [
    {
     "data": {
      "text/plain": [
       "(49,)"
      ]
     },
     "execution_count": 73,
     "metadata": {},
     "output_type": "execute_result"
    }
   ],
   "source": [
    "pd.unique(incorrectly_marked_answers_df['page']).shape"
   ]
  },
  {
   "cell_type": "code",
   "execution_count": 83,
   "metadata": {
    "collapsed": true,
    "run_control": {
     "frozen": false,
     "read_only": false
    }
   },
   "outputs": [],
   "source": [
    "to_correct_aq_df = combined_consensus_df[combined_consensus_df['page'].isin(incorrectly_marked_answers_df['page'])]"
   ]
  },
  {
   "cell_type": "code",
   "execution_count": 88,
   "metadata": {
    "collapsed": false,
    "run_control": {
     "frozen": false,
     "read_only": false
    }
   },
   "outputs": [],
   "source": [
    "corrected_aq_df = to_correct_aq_df.replace('Answer', 'Question')"
   ]
  },
  {
   "cell_type": "code",
   "execution_count": 105,
   "metadata": {
    "collapsed": false,
    "run_control": {
     "frozen": false,
     "read_only": false
    }
   },
   "outputs": [],
   "source": [
    "local_result_path='./ai2-vision-turk-data/textbook-annotation-test/corrected_raw_hit_results/'\n",
    "# local_result_path='./ai2-vision-turk-data/textbook-annotation-test/corrected_unmerged/'\n",
    "\n",
    "amt_util.write_results_df(corrected_aq_df, local_result_path)"
   ]
  },
  {
   "cell_type": "code",
   "execution_count": 106,
   "metadata": {
    "collapsed": false,
    "run_control": {
     "frozen": false,
     "read_only": false
    }
   },
   "outputs": [
    {
     "name": "stdout",
     "output_type": "stream",
     "text": [
      "sampling 49 pages out of 49\n"
     ]
    }
   ],
   "source": [
    "pages_to_review = pd.unique(corrected_aq_df['page'])\n",
    "sampling_rate = 1\n",
    "sample_size = int(len(pages_to_review) * sampling_rate)\n",
    "sampled_pages_to_review = list(np.random.choice(pages_to_review, size= sample_size, replace=False))\n",
    "print 'sampling ' + str(sample_size) + ' pages out of ' + str(len(pages_to_review))\n",
    "to_review = ['start_seq'] + sampled_pages_to_review"
   ]
  },
  {
   "cell_type": "code",
   "execution_count": 109,
   "metadata": {
    "collapsed": false,
    "run_control": {
     "frozen": false,
     "read_only": false
    }
   },
   "outputs": [
    {
     "name": "stdout",
     "output_type": "stream",
     "text": [
      "posting to review tool, navigate to http://localhost:8080/ to see the sampled consensus results\n"
     ]
    }
   ],
   "source": [
    "# anno_dir = 'corrected_unmerged/'\n",
    "anno_dir = 'test-remerged-annotations/'\n",
    "\n",
    "amt_util.review_results(to_review, anno_dir)\n",
    "print 'posting to review tool, navigate to http://localhost:8080/ to see the sampled consensus results'"
   ]
  },
  {
   "cell_type": "markdown",
   "metadata": {},
   "source": [
    "# Worker analysis"
   ]
  },
  {
   "cell_type": "markdown",
   "metadata": {},
   "source": [
    "## Basic worker stats"
   ]
  },
  {
   "cell_type": "code",
   "execution_count": 118,
   "metadata": {
    "collapsed": false,
    "run_control": {
     "frozen": false,
     "read_only": false
    },
    "scrolled": true
   },
   "outputs": [
    {
     "name": "stdout",
     "output_type": "stream",
     "text": [
      "number of unique workers:\n"
     ]
    },
    {
     "data": {
      "text/plain": [
       "185"
      ]
     },
     "execution_count": 118,
     "metadata": {},
     "output_type": "execute_result"
    }
   ],
   "source": [
    "print 'number of unique workers:'\n",
    "pd.unique(combined_results_df['worker_id']).shape[0]"
   ]
  },
  {
   "cell_type": "code",
   "execution_count": 565,
   "metadata": {
    "collapsed": true,
    "run_control": {
     "frozen": false,
     "read_only": false
    }
   },
   "outputs": [
    {
     "data": {
      "image/png": "[encoded data removed]",
      "text/plain": [
       "<matplotlib.figure.Figure at 0x11086e8d0>"
      ]
     },
     "metadata": {},
     "output_type": "display_data"
    }
   ],
   "source": [
    "_ = combined_results_df['worker_id'].value_counts().hist(bins= 30)"
   ]
  },
  {
   "cell_type": "markdown",
   "metadata": {},
   "source": [
    "### HIT duration for pricing"
   ]
  },
  {
   "cell_type": "code",
   "execution_count": 27,
   "metadata": {
    "collapsed": false,
    "run_control": {
     "frozen": false,
     "read_only": false
    }
   },
   "outputs": [],
   "source": [
    "task_duration_seconds = []\n",
    "for hit_id, assignments in assignment_results_current_batch.items():\n",
    "    for assignment in assignments:\n",
    "        hit_duration = dt_parse.parse(assignment.SubmitTime) - dt_parse.parse(assignment.AcceptTime)\n",
    "        task_duration_seconds.append(hit_duration.seconds)"
   ]
  },
  {
   "cell_type": "code",
   "execution_count": 28,
   "metadata": {
    "collapsed": false,
    "run_control": {
     "frozen": false,
     "read_only": false
    }
   },
   "outputs": [],
   "source": [
    "task_duration_series = pd.Series(task_duration_seconds)"
   ]
  },
  {
   "cell_type": "code",
   "execution_count": 872,
   "metadata": {
    "collapsed": true,
    "run_control": {
     "frozen": false,
     "read_only": false
    }
   },
   "outputs": [
    {
     "data": {
      "image/png": "[encoded data removed]",
      "text/plain": [
       "<matplotlib.figure.Figure at 0x10f9f41d0>"
      ]
     },
     "metadata": {},
     "output_type": "display_data"
    }
   ],
   "source": [
    "_ = task_duration_series.hist(bins=30, log=True)"
   ]
  },
  {
   "cell_type": "code",
   "execution_count": 29,
   "metadata": {
    "collapsed": false,
    "run_control": {
     "frozen": false,
     "read_only": false
    }
   },
   "outputs": [],
   "source": [
    "winsorized_durations = [t for t in task_duration_seconds if t < 300]\n",
    "w_duration_series = pd.Series(winsorized_durations)"
   ]
  },
  {
   "cell_type": "code",
   "execution_count": 34,
   "metadata": {
    "collapsed": false,
    "run_control": {
     "frozen": false,
     "read_only": false
    }
   },
   "outputs": [
    {
     "data": {
      "image/png": "[encoded data removed]",
      "text/plain": [
       "<matplotlib.figure.Figure at 0x10fa27a50>"
      ]
     },
     "metadata": {},
     "output_type": "display_data"
    }
   ],
   "source": [
    "_ = pd.Series(w_duration_series).hist(bins=60)\n",
    "plt.title('Worker task duration', fontsize=50, verticalalignment='bottom', color = b16_colors.b)\n",
    "plt.ylabel(\"Number of Workers\", fontsize=30, labelpad=10, color = b16_colors.b)\n",
    "plt.xlabel(\"Seconds Spent on HIT\", fontsize=30, labelpad=10, color = b16_colors.b)\n",
    "plt.tick_params(axis='x', which='major', labelsize=20)\n",
    "plt.tick_params(axis='y', which='major', labelsize=20)"
   ]
  },
  {
   "cell_type": "code",
   "execution_count": 30,
   "metadata": {
    "collapsed": false,
    "run_control": {
     "frozen": false,
     "read_only": false
    }
   },
   "outputs": [
    {
     "name": "stdout",
     "output_type": "stream",
     "text": [
      "duration mode= 22\n",
      "duration median= 28.0\n"
     ]
    }
   ],
   "source": [
    "print 'duration mode= ' + str(w_duration_series.mode().values[0])\n",
    "print 'duration median= ' + str(w_duration_series.median())"
   ]
  },
  {
   "cell_type": "markdown",
   "metadata": {},
   "source": [
    "## Identifying high and low consensus workers"
   ]
  },
  {
   "cell_type": "code",
   "execution_count": 113,
   "metadata": {
    "collapsed": false,
    "run_control": {
     "frozen": false,
     "read_only": false
    }
   },
   "outputs": [],
   "source": [
    "consensus_with_workerid_df_this_batch = amt_util.make_consensus_df_w_worker_id(results_df_current_batch, consensus_results_df_current_batch)"
   ]
  },
  {
   "cell_type": "code",
   "execution_count": 138,
   "metadata": {
    "collapsed": false,
    "run_control": {
     "frozen": false,
     "read_only": false
    }
   },
   "outputs": [
    {
     "data": {
      "text/plain": [
       "175"
      ]
     },
     "execution_count": 138,
     "metadata": {},
     "output_type": "execute_result"
    }
   ],
   "source": [
    "len(pd.unique(worker_conflicts['worker_id']))"
   ]
  },
  {
   "cell_type": "code",
   "execution_count": 113,
   "metadata": {
    "collapsed": false,
    "run_control": {
     "frozen": false,
     "read_only": false
    }
   },
   "outputs": [
    {
     "data": {
      "text/html": [
       "<div>\n",
       "<table border=\"1\" class=\"dataframe\">\n",
       "  <thead>\n",
       "    <tr style=\"text-align: right;\">\n",
       "      <th></th>\n",
       "      <th>submitted</th>\n",
       "      <th>incorrect</th>\n",
       "      <th>flaw_ratio</th>\n",
       "    </tr>\n",
       "  </thead>\n",
       "  <tbody>\n",
       "    <tr>\n",
       "      <th>A3JOFB6Z65I37Q</th>\n",
       "      <td>124.0</td>\n",
       "      <td>2.0</td>\n",
       "      <td>0.016129</td>\n",
       "    </tr>\n",
       "    <tr>\n",
       "      <th>A2HTN7HCNBQ8V4</th>\n",
       "      <td>157.0</td>\n",
       "      <td>3.0</td>\n",
       "      <td>0.019108</td>\n",
       "    </tr>\n",
       "    <tr>\n",
       "      <th>A22FK64IWET30E</th>\n",
       "      <td>45.0</td>\n",
       "      <td>1.0</td>\n",
       "      <td>0.022222</td>\n",
       "    </tr>\n",
       "    <tr>\n",
       "      <th>AEWGY34WUIA32</th>\n",
       "      <td>1538.0</td>\n",
       "      <td>40.0</td>\n",
       "      <td>0.026008</td>\n",
       "    </tr>\n",
       "    <tr>\n",
       "      <th>ASB8T0H7L99RF</th>\n",
       "      <td>507.0</td>\n",
       "      <td>14.0</td>\n",
       "      <td>0.027613</td>\n",
       "    </tr>\n",
       "    <tr>\n",
       "      <th>AMA18W8F60Y2J</th>\n",
       "      <td>100.0</td>\n",
       "      <td>3.0</td>\n",
       "      <td>0.030000</td>\n",
       "    </tr>\n",
       "    <tr>\n",
       "      <th>A2YY1ZR7Z4VT4M</th>\n",
       "      <td>1517.0</td>\n",
       "      <td>54.0</td>\n",
       "      <td>0.035597</td>\n",
       "    </tr>\n",
       "    <tr>\n",
       "      <th>AJFVK3O1D7SPE</th>\n",
       "      <td>1141.0</td>\n",
       "      <td>42.0</td>\n",
       "      <td>0.036810</td>\n",
       "    </tr>\n",
       "    <tr>\n",
       "      <th>A10M8ULK8QMRU6</th>\n",
       "      <td>27.0</td>\n",
       "      <td>1.0</td>\n",
       "      <td>0.037037</td>\n",
       "    </tr>\n",
       "    <tr>\n",
       "      <th>A2HM35CWB7IIFM</th>\n",
       "      <td>26.0</td>\n",
       "      <td>1.0</td>\n",
       "      <td>0.038462</td>\n",
       "    </tr>\n",
       "  </tbody>\n",
       "</table>\n",
       "</div>"
      ],
      "text/plain": [
       "                submitted  incorrect  flaw_ratio\n",
       "A3JOFB6Z65I37Q      124.0        2.0    0.016129\n",
       "A2HTN7HCNBQ8V4      157.0        3.0    0.019108\n",
       "A22FK64IWET30E       45.0        1.0    0.022222\n",
       "AEWGY34WUIA32      1538.0       40.0    0.026008\n",
       "ASB8T0H7L99RF       507.0       14.0    0.027613\n",
       "AMA18W8F60Y2J       100.0        3.0    0.030000\n",
       "A2YY1ZR7Z4VT4M     1517.0       54.0    0.035597\n",
       "AJFVK3O1D7SPE      1141.0       42.0    0.036810\n",
       "A10M8ULK8QMRU6       27.0        1.0    0.037037\n",
       "A2HM35CWB7IIFM       26.0        1.0    0.038462"
      ]
     },
     "execution_count": 113,
     "metadata": {},
     "output_type": "execute_result"
    }
   ],
   "source": [
    "worker_conflicts = combined_consensus_with_workerid_df[combined_consensus_with_workerid_df['category'] != combined_consensus_with_workerid_df['consensus_category']]\n",
    "all_worker_counts = combined_results_df['worker_id'].value_counts()\n",
    "bad_worker_counts = worker_conflicts['worker_id'].value_counts()\n",
    "worker_quality_df = pd.DataFrame([all_worker_counts, bad_worker_counts]).T\n",
    "worker_quality_df.columns=['submitted', 'incorrect']\n",
    "worker_quality_df['flaw_ratio'] = worker_quality_df['incorrect']/worker_quality_df['submitted']\n",
    "\n",
    "good_workers = worker_quality_df.sort_values('flaw_ratio', ascending= True).index.tolist()\n",
    "\n",
    "suspect_workers = worker_quality_df.sort_values('flaw_ratio', ascending= False).index.tolist()\n",
    "\n",
    "worker_quality_df.sort_values('flaw_ratio', ascending= True).head(10)"
   ]
  },
  {
   "cell_type": "markdown",
   "metadata": {},
   "source": [
    "I became concerned that I missed the perfect performers, but as I suspected perfect workers only did 1-2 HITs at most"
   ]
  },
  {
   "cell_type": "code",
   "execution_count": 147,
   "metadata": {
    "collapsed": false,
    "run_control": {
     "frozen": false,
     "read_only": false
    }
   },
   "outputs": [
    {
     "data": {
      "text/plain": [
       "A1N8SWL57W43PV    42\n",
       "A161I6SGXNY96M    31\n",
       "A1VL844FUMGC8W    24\n",
       "A18U9WMYFYJPR6    24\n",
       "A2U0QL8K0NTGS5    23\n",
       "A1P47Q6LZPLQ6P    22\n",
       "A2VL602367WQQW    20\n",
       "A4UVNGSXE2ANA     20\n",
       "AFE8IXO7K303F     19\n",
       "A1HRHFU7KTS0KW    16\n",
       "Name: worker_id, dtype: int64"
      ]
     },
     "execution_count": 147,
     "metadata": {},
     "output_type": "execute_result"
    }
   ],
   "source": [
    "aw_set = set(all_worker_counts.index)\n",
    "bw_set = set(bad_worker_counts.index)\n",
    "flawless_workers = list(aw_set.difference(bw_set))\n",
    "all_worker_counts[all_worker_counts.index.isin(best_workers)]"
   ]
  },
  {
   "cell_type": "code",
   "execution_count": 156,
   "metadata": {
    "collapsed": false,
    "run_control": {
     "frozen": false,
     "read_only": false
    }
   },
   "outputs": [],
   "source": [
    "bad_and_prolific_workers = worker_quality_df.sort_values('flaw_ratio', ascending= False).head(25).sort_values('incorrect', ascending= False)"
   ]
  },
  {
   "cell_type": "code",
   "execution_count": 176,
   "metadata": {
    "collapsed": false,
    "run_control": {
     "frozen": false,
     "read_only": false
    }
   },
   "outputs": [],
   "source": [
    "bad_and_prolific_to_review = list(bad_and_prolific_workers[:15].index)"
   ]
  },
  {
   "cell_type": "markdown",
   "metadata": {},
   "source": [
    "## Messaging workers"
   ]
  },
  {
   "cell_type": "code",
   "execution_count": 118,
   "metadata": {
    "collapsed": true,
    "run_control": {
     "frozen": false,
     "read_only": false
    }
   },
   "outputs": [],
   "source": [
    "subject = \"More science book annotation HITs are available\"\n",
    "message = \"\"\"\n",
    "Hello, \n",
    "\n",
    "If you're receiving this message you were among the top performers on the first group HITs I submitted.\n",
    "I've submitted another group of HITs, with more to follow in the next few days. \n",
    "This task is slightly different from the first, so please review the new instructions before jumping in.\n",
    "\n",
    "Happy to get any feedback you might have for the new HITs.\n",
    "\"\"\""
   ]
  },
  {
   "cell_type": "code",
   "execution_count": 119,
   "metadata": {
    "collapsed": false,
    "run_control": {
     "frozen": false,
     "read_only": false
    }
   },
   "outputs": [],
   "source": [
    "_ = mturk.notify_workers(good_workers[:20], subject, message)"
   ]
  },
  {
   "cell_type": "markdown",
   "metadata": {},
   "source": [
    "# HIT end-of-life"
   ]
  },
  {
   "cell_type": "markdown",
   "metadata": {
    "heading_collapsed": true
   },
   "source": [
    "## Pickle latest results"
   ]
  },
  {
   "cell_type": "code",
   "execution_count": 95,
   "metadata": {
    "collapsed": true,
    "hidden": true,
    "run_control": {
     "frozen": false,
     "read_only": false
    }
   },
   "outputs": [],
   "source": [
    "#reset as needed\n",
    "# gn = 6"
   ]
  },
  {
   "cell_type": "code",
   "execution_count": 375,
   "metadata": {
    "collapsed": false,
    "hidden": true,
    "run_control": {
     "frozen": false,
     "read_only": false
    }
   },
   "outputs": [
    {
     "data": {
      "text/plain": [
       "7"
      ]
     },
     "execution_count": 375,
     "metadata": {},
     "output_type": "execute_result"
    }
   ],
   "source": [
    "gn"
   ]
  },
  {
   "cell_type": "code",
   "execution_count": 377,
   "metadata": {
    "collapsed": false,
    "hidden": true,
    "run_control": {
     "frozen": false,
     "read_only": false
    }
   },
   "outputs": [
    {
     "name": "stdout",
     "output_type": "stream",
     "text": [
      "saved HIT batch number 7\n",
      "now onto batch 8\n"
     ]
    }
   ],
   "source": [
    "next_group = gn + 1\n",
    "group_n = '_' + str(gn) + '/'\n",
    "\n",
    "temp_store_dir = './store_hit_results_metadata/group'\n",
    "try:\n",
    "    os.mkdir(temp_store_dir + group_n)\n",
    "except:\n",
    "    OSError\n",
    "    \n",
    "result_file_name = 'hit_info.pkl'\n",
    "assignment_file_name = 'assignment_info.pkl'\n",
    "raw_results_file_name = 'raw_res.pkl'\n",
    "complete_results_file = 'complete_df.pkl'\n",
    "consensus_results_file = 'consensus_df.pkl'\n",
    "\n",
    "amt_util.pickle_this(r_hits_current_batch, temp_store_dir + group_n + result_file_name)\n",
    "amt_util.pickle_this(assignment_results_current_batch, temp_store_dir + group_n + assignment_file_name)\n",
    "amt_util.pickle_this(raw_hit_results_current_batch, temp_store_dir + group_n + raw_results_file_name)\n",
    "results_df_current_batch.to_pickle(temp_store_dir + group_n + complete_results_file)\n",
    "consensus_results_df_current_batch.to_pickle(temp_store_dir + group_n + consensus_results_file)\n",
    "print 'saved HIT batch number ' + str(gn)\n",
    "print 'now onto batch ' +str(next_group) \n",
    "gn = next_group"
   ]
  },
  {
   "cell_type": "markdown",
   "metadata": {
    "heading_collapsed": true
   },
   "source": [
    "## Pickle combined dataset"
   ]
  },
  {
   "cell_type": "code",
   "execution_count": 429,
   "metadata": {
    "collapsed": false,
    "hidden": true,
    "run_control": {
     "frozen": false,
     "read_only": false
    }
   },
   "outputs": [],
   "source": [
    "temp_store_dir = './store_hit_results_metadata/group'\n",
    "group_n = '_latest_combined/'\n",
    "try:\n",
    "    os.mkdir(temp_store_dir + group_n)\n",
    "except:\n",
    "    OSError\n",
    "    \n",
    "complete_results_file = 'complete_df.pkl'\n",
    "consensus_results_file = 'consensus_df.pkl'\n",
    "consensus_results_file_w_workers = 'consensus_df_w_workers.pkl'\n",
    "\n",
    "combined_results_df.to_pickle(temp_store_dir + group_n + complete_results_file)\n",
    "combined_consensus_df.to_pickle(temp_store_dir + group_n + consensus_results_file)\n",
    "combined_consensus_with_workerid_df.to_pickle(temp_store_dir + group_n + consensus_results_file_w_workers)"
   ]
  },
  {
   "cell_type": "markdown",
   "metadata": {},
   "source": [
    "## Accepting and deleting HITs... careful with these"
   ]
  },
  {
   "cell_type": "markdown",
   "metadata": {},
   "source": [
    "Uncomment only when ready to accept or delete hits"
   ]
  },
  {
   "cell_type": "markdown",
   "metadata": {},
   "source": [
    "reject assignments carefully"
   ]
  },
  {
   "cell_type": "code",
   "execution_count": 321,
   "metadata": {
    "collapsed": false,
    "run_control": {
     "frozen": false,
     "read_only": false
    },
    "scrolled": false
   },
   "outputs": [],
   "source": [
    "# number_rejected_assignments, number_rejected_workers = amt_util.reject_assignments(mturk, workers_to_ban, combined_consensus_with_workerid_df)\n",
    "# print 'rejecting ' + str(number_rejected_assignments) + ' assignments' + ' from ' + str(number_rejected_workers) + ' workers'"
   ]
  },
  {
   "cell_type": "code",
   "execution_count": 369,
   "metadata": {
    "collapsed": false,
    "run_control": {
     "frozen": false,
     "read_only": false
    }
   },
   "outputs": [
    {
     "data": {
      "text/plain": [
       "Submitted    4173\n",
       "Rejected      141\n",
       "dtype: int64"
      ]
     },
     "execution_count": 369,
     "metadata": {},
     "output_type": "execute_result"
    }
   ],
   "source": [
    "amt_util.get_assignment_statuses(assignment_results_current_batch_post_reject)"
   ]
  },
  {
   "cell_type": "code",
   "execution_count": 396,
   "metadata": {
    "collapsed": false,
    "run_control": {
     "frozen": false,
     "read_only": false
    },
    "scrolled": true
   },
   "outputs": [],
   "source": [
    "# amt_util.accept_hits(mturk, assignment_results_current_batch_post)"
   ]
  },
  {
   "cell_type": "code",
   "execution_count": 437,
   "metadata": {
    "collapsed": false,
    "run_control": {
     "frozen": false,
     "read_only": false
    }
   },
   "outputs": [],
   "source": [
    "# amt_util.delete_some_hits(mturk, assignment_results_current_batch_post_)"
   ]
  },
  {
   "cell_type": "code",
   "execution_count": 707,
   "metadata": {
    "collapsed": false,
    "run_control": {
     "frozen": false,
     "read_only": false
    }
   },
   "outputs": [],
   "source": [
    "# amt_util.delete_all_hits(assignment_results_current_batch)"
   ]
  }
 ],
 "metadata": {
  "kernelspec": {
   "display_name": "Python 2",
   "language": "python",
   "name": "python2"
  },
  "language_info": {
   "codemirror_mode": {
    "name": "ipython",
    "version": 2
   },
   "file_extension": ".py",
   "mimetype": "text/x-python",
   "name": "python",
   "nbconvert_exporter": "python",
   "pygments_lexer": "ipython2",
   "version": "2.7.12"
  }
 },
 "nbformat": 4,
 "nbformat_minor": 0
}
