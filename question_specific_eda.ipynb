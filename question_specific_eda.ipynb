{
 "cells": [
  {
   "cell_type": "markdown",
   "metadata": {},
   "source": [
    "# Exploring textbooks questions"
   ]
  },
  {
   "cell_type": "markdown",
   "metadata": {
    "heading_collapsed": true
   },
   "source": [
    "## imports"
   ]
  },
  {
   "cell_type": "code",
   "execution_count": 1,
   "metadata": {
    "collapsed": true,
    "hidden": true,
    "run_control": {
     "frozen": false,
     "read_only": false
    }
   },
   "outputs": [],
   "source": [
    "%%capture\n",
    "from __future__ import division\n",
    "import numpy as np\n",
    "import pandas as pd\n",
    "import scipy.stats as st\n",
    "import itertools\n",
    "import math\n",
    "from collections import Counter, defaultdict\n",
    "%load_ext autoreload\n",
    "%autoreload 2"
   ]
  },
  {
   "cell_type": "code",
   "execution_count": 35,
   "metadata": {
    "collapsed": true,
    "hidden": true,
    "run_control": {
     "frozen": false,
     "read_only": false
    }
   },
   "outputs": [],
   "source": [
    "%%capture\n",
    "import matplotlib as mpl\n",
    "mpl.use(\"Agg\")\n",
    "import matplotlib.pylab as plt\n",
    "#%matplotlib notebook\n",
    "%matplotlib inline\n",
    "%load_ext base16_mplrc\n",
    "%base16_mplrc light default\n",
    "plt.rcParams['figure.figsize'] = (16.0, 10.0)"
   ]
  },
  {
   "cell_type": "code",
   "execution_count": 6,
   "metadata": {
    "collapsed": false,
    "hidden": true,
    "run_control": {
     "frozen": false,
     "read_only": false
    }
   },
   "outputs": [],
   "source": [
    "import pdfextraction.hierarchy_exctraction as hext\n",
    "import pdfextraction.amt_boto_modules as amt"
   ]
  },
  {
   "cell_type": "markdown",
   "metadata": {},
   "source": [
    "## Setting up paths and loading data"
   ]
  },
  {
   "cell_type": "code",
   "execution_count": 244,
   "metadata": {
    "collapsed": true,
    "run_control": {
     "frozen": false,
     "read_only": false
    }
   },
   "outputs": [],
   "source": [
    "# data_pickled_dir = './store_hit_results_metadata/question_anno/group_latest_combined/' \n",
    "data_pickled_dir = './store_hit_results_metadata/question_anno/group_2/' "
   ]
  },
  {
   "cell_type": "code",
   "execution_count": 245,
   "metadata": {
    "collapsed": true,
    "run_control": {
     "frozen": false,
     "read_only": false
    }
   },
   "outputs": [],
   "source": [
    "base_path = 'ai2-vision-turk-data/textbook-annotation-test/labeled-questions/'\n",
    "test_path = 'ai2-vision-turk-data/textbook-annotation-test/hierarchy-ext-test/'"
   ]
  },
  {
   "cell_type": "code",
   "execution_count": 248,
   "metadata": {
    "collapsed": false,
    "run_control": {
     "frozen": false,
     "read_only": false
    }
   },
   "outputs": [],
   "source": [
    "combined_results_df = pd.read_pickle(data_pickled_dir + 'complete_df.pkl')\n",
    "combined_consensus_df = pd.read_pickle(data_pickled_dir + 'consensus_df.pkl')\n",
    "# combined_consensus_with_workerid_df = pd.read_pickle(data_pickled_dir + 'consensus_df_w_workers.pkl') "
   ]
  },
  {
   "cell_type": "markdown",
   "metadata": {
    "collapsed": true,
    "run_control": {
     "frozen": false,
     "read_only": false
    }
   },
   "source": [
    "1) question type hist\n",
    "\n",
    "2) what cats turkers do well on \n",
    "\n",
    "3) total questions "
   ]
  },
  {
   "cell_type": "code",
   "execution_count": 13,
   "metadata": {
    "collapsed": false,
    "run_control": {
     "frozen": false,
     "read_only": false
    }
   },
   "outputs": [],
   "source": [
    "book_breakdowns, page_ranges = amt.load_book_info()"
   ]
  },
  {
   "cell_type": "code",
   "execution_count": 223,
   "metadata": {
    "collapsed": false
   },
   "outputs": [],
   "source": [
    "bad_questions_df = combined_consensus_df.query('category == \"No Consensus\" or group_n == \"No Consensus\"')"
   ]
  },
  {
   "cell_type": "code",
   "execution_count": 225,
   "metadata": {
    "collapsed": false,
    "run_control": {
     "frozen": false,
     "read_only": false
    }
   },
   "outputs": [
    {
     "data": {
      "text/plain": [
       "(468,)"
      ]
     },
     "execution_count": 225,
     "metadata": {},
     "output_type": "execute_result"
    }
   ],
   "source": [
    "bad_pages = pd.unique(bad_questions_df['page'])\n",
    "\n",
    "consensus_only_df = combined_consensus_df[~combined_consensus_df['page'].isin(bad_pages)]\n",
    "verified_pages_minus_bad = pd.unique(consensus_only_df['page']).tolist()\n",
    "pd.unique(consensus_only_df['page']).shape"
   ]
  },
  {
   "cell_type": "code",
   "execution_count": 208,
   "metadata": {
    "collapsed": true,
    "run_control": {
     "frozen": false,
     "read_only": false
    }
   },
   "outputs": [],
   "source": [
    "# accuracy_total, errors_total, box_totals, ind_page_results = hext.predict_and_verify_groups(verified_pages_minus_bad, base_path)"
   ]
  },
  {
   "cell_type": "markdown",
   "metadata": {},
   "source": [
    "## Question category breakdown"
   ]
  },
  {
   "cell_type": "code",
   "execution_count": 207,
   "metadata": {
    "collapsed": true,
    "run_control": {
     "frozen": false,
     "read_only": false
    }
   },
   "outputs": [],
   "source": [
    "q_only_df = consensus_only_df[consensus_only_df['group_n'] != '0']"
   ]
  },
  {
   "cell_type": "code",
   "execution_count": 250,
   "metadata": {
    "collapsed": false,
    "run_control": {
     "frozen": false,
     "read_only": false
    }
   },
   "outputs": [
    {
     "data": {
      "text/plain": [
       "Multiple Choice      4012\n",
       "Short Answer         2637\n",
       "unlabeled            2144\n",
       "True/False            982\n",
       "Question              954\n",
       "Fill-in-the-Blank     952\n",
       "No Consensus          227\n",
       "Discussion            177\n",
       "Definition            171\n",
       "Figure Label           68\n",
       "Header/Topic           62\n",
       "Unlabeled              48\n",
       "Answer                 11\n",
       "Name: category, dtype: int64"
      ]
     },
     "execution_count": 250,
     "metadata": {},
     "output_type": "execute_result"
    }
   ],
   "source": [
    "combined_consensus_df['category'].value_counts()"
   ]
  },
  {
   "cell_type": "code",
   "execution_count": 227,
   "metadata": {
    "collapsed": false,
    "run_control": {
     "frozen": false,
     "read_only": false
    },
    "scrolled": true
   },
   "outputs": [
    {
     "data": {
      "text/plain": [
       "No Consensus         1503\n",
       "Fill-in-the-Blank     311\n",
       "Multiple Choice       225\n",
       "Short Answer          177\n",
       "Unlabeled             106\n",
       "True/False             87\n",
       "Name: category, dtype: int64"
      ]
     },
     "execution_count": 227,
     "metadata": {},
     "output_type": "execute_result"
    }
   ],
   "source": [
    "bad_questions_df['category'].value_counts()"
   ]
  },
  {
   "cell_type": "code",
   "execution_count": 44,
   "metadata": {
    "collapsed": false,
    "run_control": {
     "frozen": false,
     "read_only": false
    }
   },
   "outputs": [],
   "source": [
    "q_counts = q_only_df['category'].value_counts()"
   ]
  },
  {
   "cell_type": "code",
   "execution_count": 251,
   "metadata": {
    "collapsed": true
   },
   "outputs": [],
   "source": [
    "cat_counts = combined_consensus_df['category'].value_counts()"
   ]
  },
  {
   "cell_type": "code",
   "execution_count": 267,
   "metadata": {
    "collapsed": false
   },
   "outputs": [
    {
     "data": {
      "text/plain": [
       "Fill-in-the-Blank    2118\n",
       "Multiple Choice      1035\n",
       "Short Answer          898\n",
       "True/False            553\n",
       "Unlabeled             170\n",
       "Name: category, dtype: int64"
      ]
     },
     "execution_count": 267,
     "metadata": {},
     "output_type": "execute_result"
    }
   ],
   "source": [
    "q_counts"
   ]
  },
  {
   "cell_type": "code",
   "execution_count": 270,
   "metadata": {
    "collapsed": false
   },
   "outputs": [
    {
     "name": "stderr",
     "output_type": "stream",
     "text": [
      "/usr/local/lib/python2.7/site-packages/IPython/kernel/__main__.py:1: FutureWarning: using '+' to provide set union with Indexes is deprecated, use '|' or .union()\n",
      "  if __name__ == '__main__':\n"
     ]
    },
    {
     "data": {
      "text/plain": [
       "Fill-in-the-Blank     952\n",
       "Multiple Choice      4012\n",
       "Question              954\n",
       "Short Answer         2637\n",
       "Name: category, dtype: int64"
      ]
     },
     "execution_count": 270,
     "metadata": {},
     "output_type": "execute_result"
    }
   ],
   "source": [
    "q_only_counts = cat_counts[cat_counts.index[0:2] + cat_counts.index[4:6]]\n",
    "q_only_counts"
   ]
  },
  {
   "cell_type": "code",
   "execution_count": 272,
   "metadata": {
    "collapsed": false
   },
   "outputs": [
    {
     "data": {
      "image/png": "[encoded data removed]",
      "text/plain": [
       "<matplotlib.figure.Figure at 0x119565b90>"
      ]
     },
     "metadata": {},
     "output_type": "display_data"
    }
   ],
   "source": [
    "_ = q_only_counts.plot.bar()"
   ]
  },
  {
   "cell_type": "code",
   "execution_count": 271,
   "metadata": {
    "collapsed": false,
    "run_control": {
     "frozen": false,
     "read_only": false
    }
   },
   "outputs": [
    {
     "data": {
      "image/png": "[encoded data removed]",
      "text/plain": [
       "<matplotlib.figure.Figure at 0x1109ec750>"
      ]
     },
     "metadata": {},
     "output_type": "display_data"
    }
   ],
   "source": [
    "_ = q_counts.plot.bar()"
   ]
  },
  {
   "cell_type": "code",
   "execution_count": 67,
   "metadata": {
    "collapsed": false,
    "run_control": {
     "frozen": false,
     "read_only": false
    }
   },
   "outputs": [],
   "source": [
    "gbqg = q_only_df.groupby(['page', 'group_n'])['category']"
   ]
  },
  {
   "cell_type": "code",
   "execution_count": 82,
   "metadata": {
    "collapsed": true
   },
   "outputs": [
    {
     "data": {
      "text/html": [
       "<div>\n",
       "<table border=\"1\" class=\"dataframe\">\n",
       "  <thead>\n",
       "    <tr style=\"text-align: right;\">\n",
       "      <th></th>\n",
       "      <th>page</th>\n",
       "      <th>box_id</th>\n",
       "      <th>category</th>\n",
       "      <th>hit_id</th>\n",
       "      <th>group_n</th>\n",
       "    </tr>\n",
       "  </thead>\n",
       "  <tbody>\n",
       "    <tr>\n",
       "      <th>20</th>\n",
       "      <td>Daily_Science_Grade_1_Evan_Moor_100.jpeg</td>\n",
       "      <td>Q11</td>\n",
       "      <td>Fill-in-the-Blank</td>\n",
       "      <td>3VDVA3ILIDG3ODEZECC2QGUXV88G1P</td>\n",
       "      <td>1</td>\n",
       "    </tr>\n",
       "    <tr>\n",
       "      <th>21</th>\n",
       "      <td>Daily_Science_Grade_1_Evan_Moor_100.jpeg</td>\n",
       "      <td>Q13</td>\n",
       "      <td>Fill-in-the-Blank</td>\n",
       "      <td>3VDVA3ILIDG3ODEZECC2QGUXV88G1P</td>\n",
       "      <td>1</td>\n",
       "    </tr>\n",
       "    <tr>\n",
       "      <th>22</th>\n",
       "      <td>Daily_Science_Grade_1_Evan_Moor_100.jpeg</td>\n",
       "      <td>Q14</td>\n",
       "      <td>Fill-in-the-Blank</td>\n",
       "      <td>3VDVA3ILIDG3ODEZECC2QGUXV88G1P</td>\n",
       "      <td>1</td>\n",
       "    </tr>\n",
       "    <tr>\n",
       "      <th>23</th>\n",
       "      <td>Daily_Science_Grade_1_Evan_Moor_100.jpeg</td>\n",
       "      <td>Q15</td>\n",
       "      <td>Fill-in-the-Blank</td>\n",
       "      <td>3VDVA3ILIDG3ODEZECC2QGUXV88G1P</td>\n",
       "      <td>1</td>\n",
       "    </tr>\n",
       "    <tr>\n",
       "      <th>24</th>\n",
       "      <td>Daily_Science_Grade_1_Evan_Moor_100.jpeg</td>\n",
       "      <td>Q16</td>\n",
       "      <td>Fill-in-the-Blank</td>\n",
       "      <td>3VDVA3ILIDG3ODEZECC2QGUXV88G1P</td>\n",
       "      <td>1</td>\n",
       "    </tr>\n",
       "    <tr>\n",
       "      <th>44</th>\n",
       "      <td>Daily_Science_Grade_1_Evan_Moor_101.jpeg</td>\n",
       "      <td>Q10</td>\n",
       "      <td>Fill-in-the-Blank</td>\n",
       "      <td>34HEO7RUG6VQ7R0DQ6Z70L171BPAR3</td>\n",
       "      <td>1</td>\n",
       "    </tr>\n",
       "    <tr>\n",
       "      <th>46</th>\n",
       "      <td>Daily_Science_Grade_1_Evan_Moor_101.jpeg</td>\n",
       "      <td>Q13</td>\n",
       "      <td>Multiple Choice</td>\n",
       "      <td>34HEO7RUG6VQ7R0DQ6Z70L171BPAR3</td>\n",
       "      <td>2</td>\n",
       "    </tr>\n",
       "    <tr>\n",
       "      <th>47</th>\n",
       "      <td>Daily_Science_Grade_1_Evan_Moor_101.jpeg</td>\n",
       "      <td>Q14</td>\n",
       "      <td>Multiple Choice</td>\n",
       "      <td>34HEO7RUG6VQ7R0DQ6Z70L171BPAR3</td>\n",
       "      <td>2</td>\n",
       "    </tr>\n",
       "    <tr>\n",
       "      <th>48</th>\n",
       "      <td>Daily_Science_Grade_1_Evan_Moor_101.jpeg</td>\n",
       "      <td>Q15</td>\n",
       "      <td>Multiple Choice</td>\n",
       "      <td>34HEO7RUG6VQ7R0DQ6Z70L171BPAR3</td>\n",
       "      <td>2</td>\n",
       "    </tr>\n",
       "    <tr>\n",
       "      <th>49</th>\n",
       "      <td>Daily_Science_Grade_1_Evan_Moor_101.jpeg</td>\n",
       "      <td>Q16</td>\n",
       "      <td>Multiple Choice</td>\n",
       "      <td>34HEO7RUG6VQ7R0DQ6Z70L171BPAR3</td>\n",
       "      <td>2</td>\n",
       "    </tr>\n",
       "    <tr>\n",
       "      <th>50</th>\n",
       "      <td>Daily_Science_Grade_1_Evan_Moor_101.jpeg</td>\n",
       "      <td>Q17</td>\n",
       "      <td>Multiple Choice</td>\n",
       "      <td>34HEO7RUG6VQ7R0DQ6Z70L171BPAR3</td>\n",
       "      <td>2</td>\n",
       "    </tr>\n",
       "    <tr>\n",
       "      <th>51</th>\n",
       "      <td>Daily_Science_Grade_1_Evan_Moor_101.jpeg</td>\n",
       "      <td>Q18</td>\n",
       "      <td>Multiple Choice</td>\n",
       "      <td>34HEO7RUG6VQ7R0DQ6Z70L171BPAR3</td>\n",
       "      <td>2</td>\n",
       "    </tr>\n",
       "    <tr>\n",
       "      <th>52</th>\n",
       "      <td>Daily_Science_Grade_1_Evan_Moor_101.jpeg</td>\n",
       "      <td>Q19</td>\n",
       "      <td>Multiple Choice</td>\n",
       "      <td>34HEO7RUG6VQ7R0DQ6Z70L171BPAR3</td>\n",
       "      <td>2</td>\n",
       "    </tr>\n",
       "    <tr>\n",
       "      <th>53</th>\n",
       "      <td>Daily_Science_Grade_1_Evan_Moor_101.jpeg</td>\n",
       "      <td>Q20</td>\n",
       "      <td>Multiple Choice</td>\n",
       "      <td>34HEO7RUG6VQ7R0DQ6Z70L171BPAR3</td>\n",
       "      <td>2</td>\n",
       "    </tr>\n",
       "    <tr>\n",
       "      <th>54</th>\n",
       "      <td>Daily_Science_Grade_1_Evan_Moor_101.jpeg</td>\n",
       "      <td>Q21</td>\n",
       "      <td>Multiple Choice</td>\n",
       "      <td>34HEO7RUG6VQ7R0DQ6Z70L171BPAR3</td>\n",
       "      <td>2</td>\n",
       "    </tr>\n",
       "    <tr>\n",
       "      <th>55</th>\n",
       "      <td>Daily_Science_Grade_1_Evan_Moor_101.jpeg</td>\n",
       "      <td>Q22</td>\n",
       "      <td>Multiple Choice</td>\n",
       "      <td>34HEO7RUG6VQ7R0DQ6Z70L171BPAR3</td>\n",
       "      <td>2</td>\n",
       "    </tr>\n",
       "    <tr>\n",
       "      <th>71</th>\n",
       "      <td>Daily_Science_Grade_1_Evan_Moor_102.jpeg</td>\n",
       "      <td>Q15</td>\n",
       "      <td>Fill-in-the-Blank</td>\n",
       "      <td>3W1K7D6QSBI4SSRW61TGHZNCSASZBF</td>\n",
       "      <td>1</td>\n",
       "    </tr>\n",
       "    <tr>\n",
       "      <th>72</th>\n",
       "      <td>Daily_Science_Grade_1_Evan_Moor_102.jpeg</td>\n",
       "      <td>Q16</td>\n",
       "      <td>Fill-in-the-Blank</td>\n",
       "      <td>3W1K7D6QSBI4SSRW61TGHZNCSASZBF</td>\n",
       "      <td>1</td>\n",
       "    </tr>\n",
       "    <tr>\n",
       "      <th>73</th>\n",
       "      <td>Daily_Science_Grade_1_Evan_Moor_102.jpeg</td>\n",
       "      <td>Q17</td>\n",
       "      <td>Fill-in-the-Blank</td>\n",
       "      <td>3W1K7D6QSBI4SSRW61TGHZNCSASZBF</td>\n",
       "      <td>1</td>\n",
       "    </tr>\n",
       "    <tr>\n",
       "      <th>74</th>\n",
       "      <td>Daily_Science_Grade_1_Evan_Moor_102.jpeg</td>\n",
       "      <td>Q18</td>\n",
       "      <td>Fill-in-the-Blank</td>\n",
       "      <td>3W1K7D6QSBI4SSRW61TGHZNCSASZBF</td>\n",
       "      <td>1</td>\n",
       "    </tr>\n",
       "    <tr>\n",
       "      <th>75</th>\n",
       "      <td>Daily_Science_Grade_1_Evan_Moor_102.jpeg</td>\n",
       "      <td>Q19</td>\n",
       "      <td>Fill-in-the-Blank</td>\n",
       "      <td>3W1K7D6QSBI4SSRW61TGHZNCSASZBF</td>\n",
       "      <td>1</td>\n",
       "    </tr>\n",
       "    <tr>\n",
       "      <th>76</th>\n",
       "      <td>Daily_Science_Grade_1_Evan_Moor_102.jpeg</td>\n",
       "      <td>Q20</td>\n",
       "      <td>Fill-in-the-Blank</td>\n",
       "      <td>3W1K7D6QSBI4SSRW61TGHZNCSASZBF</td>\n",
       "      <td>1</td>\n",
       "    </tr>\n",
       "    <tr>\n",
       "      <th>110</th>\n",
       "      <td>Daily_Science_Grade_1_Evan_Moor_103.jpeg</td>\n",
       "      <td>Q27</td>\n",
       "      <td>Fill-in-the-Blank</td>\n",
       "      <td>3087LXLJ6MHX3OXM792KUQBBP120F7</td>\n",
       "      <td>1</td>\n",
       "    </tr>\n",
       "    <tr>\n",
       "      <th>111</th>\n",
       "      <td>Daily_Science_Grade_1_Evan_Moor_103.jpeg</td>\n",
       "      <td>Q28</td>\n",
       "      <td>Fill-in-the-Blank</td>\n",
       "      <td>3087LXLJ6MHX3OXM792KUQBBP120F7</td>\n",
       "      <td>1</td>\n",
       "    </tr>\n",
       "    <tr>\n",
       "      <th>112</th>\n",
       "      <td>Daily_Science_Grade_1_Evan_Moor_103.jpeg</td>\n",
       "      <td>Q29</td>\n",
       "      <td>Fill-in-the-Blank</td>\n",
       "      <td>3087LXLJ6MHX3OXM792KUQBBP120F7</td>\n",
       "      <td>1</td>\n",
       "    </tr>\n",
       "    <tr>\n",
       "      <th>113</th>\n",
       "      <td>Daily_Science_Grade_1_Evan_Moor_103.jpeg</td>\n",
       "      <td>Q30</td>\n",
       "      <td>Fill-in-the-Blank</td>\n",
       "      <td>3087LXLJ6MHX3OXM792KUQBBP120F7</td>\n",
       "      <td>1</td>\n",
       "    </tr>\n",
       "    <tr>\n",
       "      <th>260</th>\n",
       "      <td>Daily_Science_Grade_1_Evan_Moor_109.jpeg</td>\n",
       "      <td>Q16</td>\n",
       "      <td>Fill-in-the-Blank</td>\n",
       "      <td>33Q5P9PUSPNN2XJ2K1PBSJTUAVSZCM</td>\n",
       "      <td>1</td>\n",
       "    </tr>\n",
       "    <tr>\n",
       "      <th>261</th>\n",
       "      <td>Daily_Science_Grade_1_Evan_Moor_109.jpeg</td>\n",
       "      <td>Q17</td>\n",
       "      <td>Fill-in-the-Blank</td>\n",
       "      <td>33Q5P9PUSPNN2XJ2K1PBSJTUAVSZCM</td>\n",
       "      <td>1</td>\n",
       "    </tr>\n",
       "    <tr>\n",
       "      <th>262</th>\n",
       "      <td>Daily_Science_Grade_1_Evan_Moor_109.jpeg</td>\n",
       "      <td>Q18</td>\n",
       "      <td>Fill-in-the-Blank</td>\n",
       "      <td>33Q5P9PUSPNN2XJ2K1PBSJTUAVSZCM</td>\n",
       "      <td>1</td>\n",
       "    </tr>\n",
       "    <tr>\n",
       "      <th>289</th>\n",
       "      <td>Daily_Science_Grade_1_Evan_Moor_11.jpeg</td>\n",
       "      <td>Q12</td>\n",
       "      <td>Fill-in-the-Blank</td>\n",
       "      <td>3OQQD2WO8I7DU7Y9R4QOZLMA85E3IW</td>\n",
       "      <td>1</td>\n",
       "    </tr>\n",
       "    <tr>\n",
       "      <th>...</th>\n",
       "      <td>...</td>\n",
       "      <td>...</td>\n",
       "      <td>...</td>\n",
       "      <td>...</td>\n",
       "      <td>...</td>\n",
       "    </tr>\n",
       "    <tr>\n",
       "      <th>23349</th>\n",
       "      <td>Daily_Science_Grade_6_(Daily_Practice_Books)_E...</td>\n",
       "      <td>Q32</td>\n",
       "      <td>Fill-in-the-Blank</td>\n",
       "      <td>3H6W48L9F4Q22RN1EJRADFYJSC4WP8</td>\n",
       "      <td>1</td>\n",
       "    </tr>\n",
       "    <tr>\n",
       "      <th>23350</th>\n",
       "      <td>Daily_Science_Grade_6_(Daily_Practice_Books)_E...</td>\n",
       "      <td>Q33</td>\n",
       "      <td>Fill-in-the-Blank</td>\n",
       "      <td>3H6W48L9F4Q22RN1EJRADFYJSC4WP8</td>\n",
       "      <td>1</td>\n",
       "    </tr>\n",
       "    <tr>\n",
       "      <th>23351</th>\n",
       "      <td>Daily_Science_Grade_6_(Daily_Practice_Books)_E...</td>\n",
       "      <td>Q34</td>\n",
       "      <td>Fill-in-the-Blank</td>\n",
       "      <td>3H6W48L9F4Q22RN1EJRADFYJSC4WP8</td>\n",
       "      <td>1</td>\n",
       "    </tr>\n",
       "    <tr>\n",
       "      <th>23352</th>\n",
       "      <td>Daily_Science_Grade_6_(Daily_Practice_Books)_E...</td>\n",
       "      <td>Q35</td>\n",
       "      <td>Fill-in-the-Blank</td>\n",
       "      <td>3H6W48L9F4Q22RN1EJRADFYJSC4WP8</td>\n",
       "      <td>1</td>\n",
       "    </tr>\n",
       "    <tr>\n",
       "      <th>23353</th>\n",
       "      <td>Daily_Science_Grade_6_(Daily_Practice_Books)_E...</td>\n",
       "      <td>Q36</td>\n",
       "      <td>Fill-in-the-Blank</td>\n",
       "      <td>3H6W48L9F4Q22RN1EJRADFYJSC4WP8</td>\n",
       "      <td>1</td>\n",
       "    </tr>\n",
       "    <tr>\n",
       "      <th>23354</th>\n",
       "      <td>Daily_Science_Grade_6_(Daily_Practice_Books)_E...</td>\n",
       "      <td>Q37</td>\n",
       "      <td>Fill-in-the-Blank</td>\n",
       "      <td>3H6W48L9F4Q22RN1EJRADFYJSC4WP8</td>\n",
       "      <td>1</td>\n",
       "    </tr>\n",
       "    <tr>\n",
       "      <th>23355</th>\n",
       "      <td>Daily_Science_Grade_6_(Daily_Practice_Books)_E...</td>\n",
       "      <td>Q38</td>\n",
       "      <td>Fill-in-the-Blank</td>\n",
       "      <td>3H6W48L9F4Q22RN1EJRADFYJSC4WP8</td>\n",
       "      <td>1</td>\n",
       "    </tr>\n",
       "    <tr>\n",
       "      <th>23356</th>\n",
       "      <td>Daily_Science_Grade_6_(Daily_Practice_Books)_E...</td>\n",
       "      <td>Q39</td>\n",
       "      <td>Fill-in-the-Blank</td>\n",
       "      <td>3H6W48L9F4Q22RN1EJRADFYJSC4WP8</td>\n",
       "      <td>1</td>\n",
       "    </tr>\n",
       "    <tr>\n",
       "      <th>23357</th>\n",
       "      <td>Daily_Science_Grade_6_(Daily_Practice_Books)_E...</td>\n",
       "      <td>Q40</td>\n",
       "      <td>Fill-in-the-Blank</td>\n",
       "      <td>3H6W48L9F4Q22RN1EJRADFYJSC4WP8</td>\n",
       "      <td>1</td>\n",
       "    </tr>\n",
       "    <tr>\n",
       "      <th>23358</th>\n",
       "      <td>Daily_Science_Grade_6_(Daily_Practice_Books)_E...</td>\n",
       "      <td>Q41</td>\n",
       "      <td>Fill-in-the-Blank</td>\n",
       "      <td>3H6W48L9F4Q22RN1EJRADFYJSC4WP8</td>\n",
       "      <td>1</td>\n",
       "    </tr>\n",
       "    <tr>\n",
       "      <th>23359</th>\n",
       "      <td>Daily_Science_Grade_6_(Daily_Practice_Books)_E...</td>\n",
       "      <td>Q42</td>\n",
       "      <td>Fill-in-the-Blank</td>\n",
       "      <td>3H6W48L9F4Q22RN1EJRADFYJSC4WP8</td>\n",
       "      <td>1</td>\n",
       "    </tr>\n",
       "    <tr>\n",
       "      <th>23360</th>\n",
       "      <td>Daily_Science_Grade_6_(Daily_Practice_Books)_E...</td>\n",
       "      <td>Q43</td>\n",
       "      <td>Fill-in-the-Blank</td>\n",
       "      <td>3H6W48L9F4Q22RN1EJRADFYJSC4WP8</td>\n",
       "      <td>1</td>\n",
       "    </tr>\n",
       "    <tr>\n",
       "      <th>23361</th>\n",
       "      <td>Daily_Science_Grade_6_(Daily_Practice_Books)_E...</td>\n",
       "      <td>Q44</td>\n",
       "      <td>Fill-in-the-Blank</td>\n",
       "      <td>3H6W48L9F4Q22RN1EJRADFYJSC4WP8</td>\n",
       "      <td>1</td>\n",
       "    </tr>\n",
       "    <tr>\n",
       "      <th>23362</th>\n",
       "      <td>Daily_Science_Grade_6_(Daily_Practice_Books)_E...</td>\n",
       "      <td>Q45</td>\n",
       "      <td>Fill-in-the-Blank</td>\n",
       "      <td>3H6W48L9F4Q22RN1EJRADFYJSC4WP8</td>\n",
       "      <td>1</td>\n",
       "    </tr>\n",
       "    <tr>\n",
       "      <th>23363</th>\n",
       "      <td>Daily_Science_Grade_6_(Daily_Practice_Books)_E...</td>\n",
       "      <td>Q46</td>\n",
       "      <td>Fill-in-the-Blank</td>\n",
       "      <td>3H6W48L9F4Q22RN1EJRADFYJSC4WP8</td>\n",
       "      <td>1</td>\n",
       "    </tr>\n",
       "    <tr>\n",
       "      <th>23364</th>\n",
       "      <td>Daily_Science_Grade_6_(Daily_Practice_Books)_E...</td>\n",
       "      <td>Q47</td>\n",
       "      <td>Fill-in-the-Blank</td>\n",
       "      <td>3H6W48L9F4Q22RN1EJRADFYJSC4WP8</td>\n",
       "      <td>1</td>\n",
       "    </tr>\n",
       "    <tr>\n",
       "      <th>23365</th>\n",
       "      <td>Daily_Science_Grade_6_(Daily_Practice_Books)_E...</td>\n",
       "      <td>Q48</td>\n",
       "      <td>Fill-in-the-Blank</td>\n",
       "      <td>3H6W48L9F4Q22RN1EJRADFYJSC4WP8</td>\n",
       "      <td>1</td>\n",
       "    </tr>\n",
       "    <tr>\n",
       "      <th>23366</th>\n",
       "      <td>Daily_Science_Grade_6_(Daily_Practice_Books)_E...</td>\n",
       "      <td>Q49</td>\n",
       "      <td>Fill-in-the-Blank</td>\n",
       "      <td>3H6W48L9F4Q22RN1EJRADFYJSC4WP8</td>\n",
       "      <td>1</td>\n",
       "    </tr>\n",
       "    <tr>\n",
       "      <th>23367</th>\n",
       "      <td>Daily_Science_Grade_6_(Daily_Practice_Books)_E...</td>\n",
       "      <td>Q50</td>\n",
       "      <td>Fill-in-the-Blank</td>\n",
       "      <td>3H6W48L9F4Q22RN1EJRADFYJSC4WP8</td>\n",
       "      <td>1</td>\n",
       "    </tr>\n",
       "    <tr>\n",
       "      <th>23368</th>\n",
       "      <td>Daily_Science_Grade_6_(Daily_Practice_Books)_E...</td>\n",
       "      <td>Q51</td>\n",
       "      <td>Fill-in-the-Blank</td>\n",
       "      <td>3H6W48L9F4Q22RN1EJRADFYJSC4WP8</td>\n",
       "      <td>1</td>\n",
       "    </tr>\n",
       "    <tr>\n",
       "      <th>23369</th>\n",
       "      <td>Daily_Science_Grade_6_(Daily_Practice_Books)_E...</td>\n",
       "      <td>Q52</td>\n",
       "      <td>Fill-in-the-Blank</td>\n",
       "      <td>3H6W48L9F4Q22RN1EJRADFYJSC4WP8</td>\n",
       "      <td>1</td>\n",
       "    </tr>\n",
       "    <tr>\n",
       "      <th>23383</th>\n",
       "      <td>Daily_Science_Grade_6_(Daily_Practice_Books)_E...</td>\n",
       "      <td>Q10</td>\n",
       "      <td>Fill-in-the-Blank</td>\n",
       "      <td>338431Z1FLGF9VUE0P4P1GLCQSTROJ</td>\n",
       "      <td>1</td>\n",
       "    </tr>\n",
       "    <tr>\n",
       "      <th>23384</th>\n",
       "      <td>Daily_Science_Grade_6_(Daily_Practice_Books)_E...</td>\n",
       "      <td>Q11</td>\n",
       "      <td>Fill-in-the-Blank</td>\n",
       "      <td>338431Z1FLGF9VUE0P4P1GLCQSTROJ</td>\n",
       "      <td>1</td>\n",
       "    </tr>\n",
       "    <tr>\n",
       "      <th>23385</th>\n",
       "      <td>Daily_Science_Grade_6_(Daily_Practice_Books)_E...</td>\n",
       "      <td>Q12</td>\n",
       "      <td>Fill-in-the-Blank</td>\n",
       "      <td>338431Z1FLGF9VUE0P4P1GLCQSTROJ</td>\n",
       "      <td>1</td>\n",
       "    </tr>\n",
       "    <tr>\n",
       "      <th>23386</th>\n",
       "      <td>Daily_Science_Grade_6_(Daily_Practice_Books)_E...</td>\n",
       "      <td>Q13</td>\n",
       "      <td>Fill-in-the-Blank</td>\n",
       "      <td>338431Z1FLGF9VUE0P4P1GLCQSTROJ</td>\n",
       "      <td>1</td>\n",
       "    </tr>\n",
       "    <tr>\n",
       "      <th>23387</th>\n",
       "      <td>Daily_Science_Grade_6_(Daily_Practice_Books)_E...</td>\n",
       "      <td>Q14</td>\n",
       "      <td>Fill-in-the-Blank</td>\n",
       "      <td>338431Z1FLGF9VUE0P4P1GLCQSTROJ</td>\n",
       "      <td>1</td>\n",
       "    </tr>\n",
       "    <tr>\n",
       "      <th>23388</th>\n",
       "      <td>Daily_Science_Grade_6_(Daily_Practice_Books)_E...</td>\n",
       "      <td>Q15</td>\n",
       "      <td>Fill-in-the-Blank</td>\n",
       "      <td>338431Z1FLGF9VUE0P4P1GLCQSTROJ</td>\n",
       "      <td>1</td>\n",
       "    </tr>\n",
       "    <tr>\n",
       "      <th>23389</th>\n",
       "      <td>Daily_Science_Grade_6_(Daily_Practice_Books)_E...</td>\n",
       "      <td>Q16</td>\n",
       "      <td>Fill-in-the-Blank</td>\n",
       "      <td>338431Z1FLGF9VUE0P4P1GLCQSTROJ</td>\n",
       "      <td>1</td>\n",
       "    </tr>\n",
       "    <tr>\n",
       "      <th>23390</th>\n",
       "      <td>Daily_Science_Grade_6_(Daily_Practice_Books)_E...</td>\n",
       "      <td>Q17</td>\n",
       "      <td>Fill-in-the-Blank</td>\n",
       "      <td>338431Z1FLGF9VUE0P4P1GLCQSTROJ</td>\n",
       "      <td>1</td>\n",
       "    </tr>\n",
       "    <tr>\n",
       "      <th>23391</th>\n",
       "      <td>Daily_Science_Grade_6_(Daily_Practice_Books)_E...</td>\n",
       "      <td>Q18</td>\n",
       "      <td>Fill-in-the-Blank</td>\n",
       "      <td>338431Z1FLGF9VUE0P4P1GLCQSTROJ</td>\n",
       "      <td>1</td>\n",
       "    </tr>\n",
       "  </tbody>\n",
       "</table>\n",
       "<p>4774 rows × 5 columns</p>\n",
       "</div>"
      ],
      "text/plain": [
       "                                                    page box_id  \\\n",
       "20              Daily_Science_Grade_1_Evan_Moor_100.jpeg    Q11   \n",
       "21              Daily_Science_Grade_1_Evan_Moor_100.jpeg    Q13   \n",
       "22              Daily_Science_Grade_1_Evan_Moor_100.jpeg    Q14   \n",
       "23              Daily_Science_Grade_1_Evan_Moor_100.jpeg    Q15   \n",
       "24              Daily_Science_Grade_1_Evan_Moor_100.jpeg    Q16   \n",
       "44              Daily_Science_Grade_1_Evan_Moor_101.jpeg    Q10   \n",
       "46              Daily_Science_Grade_1_Evan_Moor_101.jpeg    Q13   \n",
       "47              Daily_Science_Grade_1_Evan_Moor_101.jpeg    Q14   \n",
       "48              Daily_Science_Grade_1_Evan_Moor_101.jpeg    Q15   \n",
       "49              Daily_Science_Grade_1_Evan_Moor_101.jpeg    Q16   \n",
       "50              Daily_Science_Grade_1_Evan_Moor_101.jpeg    Q17   \n",
       "51              Daily_Science_Grade_1_Evan_Moor_101.jpeg    Q18   \n",
       "52              Daily_Science_Grade_1_Evan_Moor_101.jpeg    Q19   \n",
       "53              Daily_Science_Grade_1_Evan_Moor_101.jpeg    Q20   \n",
       "54              Daily_Science_Grade_1_Evan_Moor_101.jpeg    Q21   \n",
       "55              Daily_Science_Grade_1_Evan_Moor_101.jpeg    Q22   \n",
       "71              Daily_Science_Grade_1_Evan_Moor_102.jpeg    Q15   \n",
       "72              Daily_Science_Grade_1_Evan_Moor_102.jpeg    Q16   \n",
       "73              Daily_Science_Grade_1_Evan_Moor_102.jpeg    Q17   \n",
       "74              Daily_Science_Grade_1_Evan_Moor_102.jpeg    Q18   \n",
       "75              Daily_Science_Grade_1_Evan_Moor_102.jpeg    Q19   \n",
       "76              Daily_Science_Grade_1_Evan_Moor_102.jpeg    Q20   \n",
       "110             Daily_Science_Grade_1_Evan_Moor_103.jpeg    Q27   \n",
       "111             Daily_Science_Grade_1_Evan_Moor_103.jpeg    Q28   \n",
       "112             Daily_Science_Grade_1_Evan_Moor_103.jpeg    Q29   \n",
       "113             Daily_Science_Grade_1_Evan_Moor_103.jpeg    Q30   \n",
       "260             Daily_Science_Grade_1_Evan_Moor_109.jpeg    Q16   \n",
       "261             Daily_Science_Grade_1_Evan_Moor_109.jpeg    Q17   \n",
       "262             Daily_Science_Grade_1_Evan_Moor_109.jpeg    Q18   \n",
       "289              Daily_Science_Grade_1_Evan_Moor_11.jpeg    Q12   \n",
       "...                                                  ...    ...   \n",
       "23349  Daily_Science_Grade_6_(Daily_Practice_Books)_E...    Q32   \n",
       "23350  Daily_Science_Grade_6_(Daily_Practice_Books)_E...    Q33   \n",
       "23351  Daily_Science_Grade_6_(Daily_Practice_Books)_E...    Q34   \n",
       "23352  Daily_Science_Grade_6_(Daily_Practice_Books)_E...    Q35   \n",
       "23353  Daily_Science_Grade_6_(Daily_Practice_Books)_E...    Q36   \n",
       "23354  Daily_Science_Grade_6_(Daily_Practice_Books)_E...    Q37   \n",
       "23355  Daily_Science_Grade_6_(Daily_Practice_Books)_E...    Q38   \n",
       "23356  Daily_Science_Grade_6_(Daily_Practice_Books)_E...    Q39   \n",
       "23357  Daily_Science_Grade_6_(Daily_Practice_Books)_E...    Q40   \n",
       "23358  Daily_Science_Grade_6_(Daily_Practice_Books)_E...    Q41   \n",
       "23359  Daily_Science_Grade_6_(Daily_Practice_Books)_E...    Q42   \n",
       "23360  Daily_Science_Grade_6_(Daily_Practice_Books)_E...    Q43   \n",
       "23361  Daily_Science_Grade_6_(Daily_Practice_Books)_E...    Q44   \n",
       "23362  Daily_Science_Grade_6_(Daily_Practice_Books)_E...    Q45   \n",
       "23363  Daily_Science_Grade_6_(Daily_Practice_Books)_E...    Q46   \n",
       "23364  Daily_Science_Grade_6_(Daily_Practice_Books)_E...    Q47   \n",
       "23365  Daily_Science_Grade_6_(Daily_Practice_Books)_E...    Q48   \n",
       "23366  Daily_Science_Grade_6_(Daily_Practice_Books)_E...    Q49   \n",
       "23367  Daily_Science_Grade_6_(Daily_Practice_Books)_E...    Q50   \n",
       "23368  Daily_Science_Grade_6_(Daily_Practice_Books)_E...    Q51   \n",
       "23369  Daily_Science_Grade_6_(Daily_Practice_Books)_E...    Q52   \n",
       "23383  Daily_Science_Grade_6_(Daily_Practice_Books)_E...    Q10   \n",
       "23384  Daily_Science_Grade_6_(Daily_Practice_Books)_E...    Q11   \n",
       "23385  Daily_Science_Grade_6_(Daily_Practice_Books)_E...    Q12   \n",
       "23386  Daily_Science_Grade_6_(Daily_Practice_Books)_E...    Q13   \n",
       "23387  Daily_Science_Grade_6_(Daily_Practice_Books)_E...    Q14   \n",
       "23388  Daily_Science_Grade_6_(Daily_Practice_Books)_E...    Q15   \n",
       "23389  Daily_Science_Grade_6_(Daily_Practice_Books)_E...    Q16   \n",
       "23390  Daily_Science_Grade_6_(Daily_Practice_Books)_E...    Q17   \n",
       "23391  Daily_Science_Grade_6_(Daily_Practice_Books)_E...    Q18   \n",
       "\n",
       "                category                          hit_id group_n  \n",
       "20     Fill-in-the-Blank  3VDVA3ILIDG3ODEZECC2QGUXV88G1P       1  \n",
       "21     Fill-in-the-Blank  3VDVA3ILIDG3ODEZECC2QGUXV88G1P       1  \n",
       "22     Fill-in-the-Blank  3VDVA3ILIDG3ODEZECC2QGUXV88G1P       1  \n",
       "23     Fill-in-the-Blank  3VDVA3ILIDG3ODEZECC2QGUXV88G1P       1  \n",
       "24     Fill-in-the-Blank  3VDVA3ILIDG3ODEZECC2QGUXV88G1P       1  \n",
       "44     Fill-in-the-Blank  34HEO7RUG6VQ7R0DQ6Z70L171BPAR3       1  \n",
       "46       Multiple Choice  34HEO7RUG6VQ7R0DQ6Z70L171BPAR3       2  \n",
       "47       Multiple Choice  34HEO7RUG6VQ7R0DQ6Z70L171BPAR3       2  \n",
       "48       Multiple Choice  34HEO7RUG6VQ7R0DQ6Z70L171BPAR3       2  \n",
       "49       Multiple Choice  34HEO7RUG6VQ7R0DQ6Z70L171BPAR3       2  \n",
       "50       Multiple Choice  34HEO7RUG6VQ7R0DQ6Z70L171BPAR3       2  \n",
       "51       Multiple Choice  34HEO7RUG6VQ7R0DQ6Z70L171BPAR3       2  \n",
       "52       Multiple Choice  34HEO7RUG6VQ7R0DQ6Z70L171BPAR3       2  \n",
       "53       Multiple Choice  34HEO7RUG6VQ7R0DQ6Z70L171BPAR3       2  \n",
       "54       Multiple Choice  34HEO7RUG6VQ7R0DQ6Z70L171BPAR3       2  \n",
       "55       Multiple Choice  34HEO7RUG6VQ7R0DQ6Z70L171BPAR3       2  \n",
       "71     Fill-in-the-Blank  3W1K7D6QSBI4SSRW61TGHZNCSASZBF       1  \n",
       "72     Fill-in-the-Blank  3W1K7D6QSBI4SSRW61TGHZNCSASZBF       1  \n",
       "73     Fill-in-the-Blank  3W1K7D6QSBI4SSRW61TGHZNCSASZBF       1  \n",
       "74     Fill-in-the-Blank  3W1K7D6QSBI4SSRW61TGHZNCSASZBF       1  \n",
       "75     Fill-in-the-Blank  3W1K7D6QSBI4SSRW61TGHZNCSASZBF       1  \n",
       "76     Fill-in-the-Blank  3W1K7D6QSBI4SSRW61TGHZNCSASZBF       1  \n",
       "110    Fill-in-the-Blank  3087LXLJ6MHX3OXM792KUQBBP120F7       1  \n",
       "111    Fill-in-the-Blank  3087LXLJ6MHX3OXM792KUQBBP120F7       1  \n",
       "112    Fill-in-the-Blank  3087LXLJ6MHX3OXM792KUQBBP120F7       1  \n",
       "113    Fill-in-the-Blank  3087LXLJ6MHX3OXM792KUQBBP120F7       1  \n",
       "260    Fill-in-the-Blank  33Q5P9PUSPNN2XJ2K1PBSJTUAVSZCM       1  \n",
       "261    Fill-in-the-Blank  33Q5P9PUSPNN2XJ2K1PBSJTUAVSZCM       1  \n",
       "262    Fill-in-the-Blank  33Q5P9PUSPNN2XJ2K1PBSJTUAVSZCM       1  \n",
       "289    Fill-in-the-Blank  3OQQD2WO8I7DU7Y9R4QOZLMA85E3IW       1  \n",
       "...                  ...                             ...     ...  \n",
       "23349  Fill-in-the-Blank  3H6W48L9F4Q22RN1EJRADFYJSC4WP8       1  \n",
       "23350  Fill-in-the-Blank  3H6W48L9F4Q22RN1EJRADFYJSC4WP8       1  \n",
       "23351  Fill-in-the-Blank  3H6W48L9F4Q22RN1EJRADFYJSC4WP8       1  \n",
       "23352  Fill-in-the-Blank  3H6W48L9F4Q22RN1EJRADFYJSC4WP8       1  \n",
       "23353  Fill-in-the-Blank  3H6W48L9F4Q22RN1EJRADFYJSC4WP8       1  \n",
       "23354  Fill-in-the-Blank  3H6W48L9F4Q22RN1EJRADFYJSC4WP8       1  \n",
       "23355  Fill-in-the-Blank  3H6W48L9F4Q22RN1EJRADFYJSC4WP8       1  \n",
       "23356  Fill-in-the-Blank  3H6W48L9F4Q22RN1EJRADFYJSC4WP8       1  \n",
       "23357  Fill-in-the-Blank  3H6W48L9F4Q22RN1EJRADFYJSC4WP8       1  \n",
       "23358  Fill-in-the-Blank  3H6W48L9F4Q22RN1EJRADFYJSC4WP8       1  \n",
       "23359  Fill-in-the-Blank  3H6W48L9F4Q22RN1EJRADFYJSC4WP8       1  \n",
       "23360  Fill-in-the-Blank  3H6W48L9F4Q22RN1EJRADFYJSC4WP8       1  \n",
       "23361  Fill-in-the-Blank  3H6W48L9F4Q22RN1EJRADFYJSC4WP8       1  \n",
       "23362  Fill-in-the-Blank  3H6W48L9F4Q22RN1EJRADFYJSC4WP8       1  \n",
       "23363  Fill-in-the-Blank  3H6W48L9F4Q22RN1EJRADFYJSC4WP8       1  \n",
       "23364  Fill-in-the-Blank  3H6W48L9F4Q22RN1EJRADFYJSC4WP8       1  \n",
       "23365  Fill-in-the-Blank  3H6W48L9F4Q22RN1EJRADFYJSC4WP8       1  \n",
       "23366  Fill-in-the-Blank  3H6W48L9F4Q22RN1EJRADFYJSC4WP8       1  \n",
       "23367  Fill-in-the-Blank  3H6W48L9F4Q22RN1EJRADFYJSC4WP8       1  \n",
       "23368  Fill-in-the-Blank  3H6W48L9F4Q22RN1EJRADFYJSC4WP8       1  \n",
       "23369  Fill-in-the-Blank  3H6W48L9F4Q22RN1EJRADFYJSC4WP8       1  \n",
       "23383  Fill-in-the-Blank  338431Z1FLGF9VUE0P4P1GLCQSTROJ       1  \n",
       "23384  Fill-in-the-Blank  338431Z1FLGF9VUE0P4P1GLCQSTROJ       1  \n",
       "23385  Fill-in-the-Blank  338431Z1FLGF9VUE0P4P1GLCQSTROJ       1  \n",
       "23386  Fill-in-the-Blank  338431Z1FLGF9VUE0P4P1GLCQSTROJ       1  \n",
       "23387  Fill-in-the-Blank  338431Z1FLGF9VUE0P4P1GLCQSTROJ       1  \n",
       "23388  Fill-in-the-Blank  338431Z1FLGF9VUE0P4P1GLCQSTROJ       1  \n",
       "23389  Fill-in-the-Blank  338431Z1FLGF9VUE0P4P1GLCQSTROJ       1  \n",
       "23390  Fill-in-the-Blank  338431Z1FLGF9VUE0P4P1GLCQSTROJ       1  \n",
       "23391  Fill-in-the-Blank  338431Z1FLGF9VUE0P4P1GLCQSTROJ       1  \n",
       "\n",
       "[4774 rows x 5 columns]"
      ]
     },
     "execution_count": 82,
     "metadata": {},
     "output_type": "execute_result"
    }
   ],
   "source": [
    "q_only_df"
   ]
  },
  {
   "cell_type": "code",
   "execution_count": 97,
   "metadata": {
    "collapsed": false,
    "run_control": {
     "frozen": false,
     "read_only": false
    }
   },
   "outputs": [],
   "source": [
    "qtypes = gbqg.apply(pd.unique)"
   ]
  },
  {
   "cell_type": "code",
   "execution_count": 110,
   "metadata": {
    "collapsed": false,
    "run_control": {
     "frozen": false,
     "read_only": false
    }
   },
   "outputs": [],
   "source": [
    "question_groups_by_cat = qtypes.value_counts()[:5]"
   ]
  },
  {
   "cell_type": "code",
   "execution_count": 111,
   "metadata": {
    "collapsed": false
   },
   "outputs": [
    {
     "data": {
      "image/png": "[encoded data removed]",
      "text/plain": [
       "<matplotlib.figure.Figure at 0x1126a09d0>"
      ]
     },
     "metadata": {},
     "output_type": "display_data"
    }
   ],
   "source": [
    "_ = question_groups_by_cat.plot.bar()"
   ]
  },
  {
   "cell_type": "markdown",
   "metadata": {
    "heading_collapsed": true
   },
   "source": [
    "### looking at raw box counts per page"
   ]
  },
  {
   "cell_type": "code",
   "execution_count": 232,
   "metadata": {
    "collapsed": false,
    "hidden": true,
    "scrolled": true
   },
   "outputs": [],
   "source": [
    "only_cat_group = q_only_df.groupby('category')['page'].apply(pd.value_counts)"
   ]
  },
  {
   "cell_type": "code",
   "execution_count": 236,
   "metadata": {
    "collapsed": false,
    "hidden": true
   },
   "outputs": [
    {
     "data": {
      "text/plain": [
       "category\n",
       "Fill-in-the-Blank     9.455357\n",
       "Multiple Choice      13.441558\n",
       "Short Answer          3.789030\n",
       "True/False            5.760417\n",
       "Unlabeled             5.000000\n",
       "Name: page, dtype: float64"
      ]
     },
     "execution_count": 236,
     "metadata": {},
     "output_type": "execute_result"
    }
   ],
   "source": [
    "only_cat_group.groupby(level=0).mean()"
   ]
  },
  {
   "cell_type": "code",
   "execution_count": 242,
   "metadata": {
    "collapsed": false,
    "hidden": true
   },
   "outputs": [
    {
     "data": {
      "image/png": "[encoded data removed]",
      "text/plain": [
       "<matplotlib.figure.Figure at 0x118d09710>"
      ]
     },
     "metadata": {},
     "output_type": "display_data"
    }
   ],
   "source": [
    "fig, ax = plt.subplots()\n",
    "for g, counts in only_cat_group.groupby(level=0):\n",
    "    _ = counts.hist(label=g, alpha=.75, ax=ax, bins = 15)\n",
    "_ = ax.legend()"
   ]
  },
  {
   "cell_type": "markdown",
   "metadata": {
    "collapsed": true,
    "heading_collapsed": true
   },
   "source": [
    "### looking at boxes per group by question type"
   ]
  },
  {
   "cell_type": "code",
   "execution_count": 240,
   "metadata": {
    "collapsed": false,
    "hidden": true,
    "scrolled": false
   },
   "outputs": [],
   "source": [
    "gbcp = q_only_df.groupby(['category','group_n'])\n",
    "cat_group_series = gbcp['page'].apply(pd.value_counts)\n",
    "cgs = cat_group_series.groupby(level=0)"
   ]
  },
  {
   "cell_type": "code",
   "execution_count": 241,
   "metadata": {
    "collapsed": false,
    "hidden": true
   },
   "outputs": [
    {
     "data": {
      "image/png": "[encoded data removed]",
      "text/plain": [
       "<matplotlib.figure.Figure at 0x1185692d0>"
      ]
     },
     "metadata": {},
     "output_type": "display_data"
    }
   ],
   "source": [
    "fig, ax = plt.subplots()\n",
    "for g, counts in cgs:\n",
    "    _ = counts.hist(label=g, alpha=.75, ax=ax, bins = 15)\n",
    "_ = ax.legend()"
   ]
  },
  {
   "cell_type": "code",
   "execution_count": null,
   "metadata": {
    "collapsed": true
   },
   "outputs": [],
   "source": []
  },
  {
   "cell_type": "code",
   "execution_count": 187,
   "metadata": {
    "collapsed": false,
    "hidden": true
   },
   "outputs": [
    {
     "data": {
      "text/plain": [
       "category\n",
       "Fill-in-the-Blank    6\n",
       "Multiple Choice      5\n",
       "Short Answer         2\n",
       "True/False           5\n",
       "Unlabeled            2\n",
       "Name: page, dtype: int64"
      ]
     },
     "execution_count": 187,
     "metadata": {},
     "output_type": "execute_result"
    }
   ],
   "source": [
    "cgs.median()"
   ]
  },
  {
   "cell_type": "code",
   "execution_count": null,
   "metadata": {
    "collapsed": true,
    "hidden": true
   },
   "outputs": [],
   "source": []
  },
  {
   "cell_type": "markdown",
   "metadata": {},
   "source": [
    "## Predicting all group numbers"
   ]
  },
  {
   "cell_type": "code",
   "execution_count": 218,
   "metadata": {
    "collapsed": false
   },
   "outputs": [],
   "source": [
    "raw_question_dir = 'ai2-vision-turk-data/textbook-annotation-test/annotations-w-questions/'"
   ]
  },
  {
   "cell_type": "code",
   "execution_count": 214,
   "metadata": {
    "collapsed": true
   },
   "outputs": [],
   "source": [
    "page_n = 40"
   ]
  },
  {
   "cell_type": "code",
   "execution_count": 215,
   "metadata": {
    "collapsed": false
   },
   "outputs": [
    {
     "name": "stdout",
     "output_type": "stream",
     "text": [
      "41\n"
     ]
    }
   ],
   "source": [
    "page_n += 1\n",
    "print page_n\n",
    "single_page = ['Daily_Science_Grade_2_Evan_Moor_' + str(page_n) +'.jpeg']"
   ]
  },
  {
   "cell_type": "code",
   "execution_count": 243,
   "metadata": {
    "collapsed": true
   },
   "outputs": [],
   "source": [
    "# hext.predict_groups(single_page, raw_question_dir)"
   ]
  },
  {
   "cell_type": "code",
   "execution_count": null,
   "metadata": {
    "collapsed": true
   },
   "outputs": [],
   "source": []
  },
  {
   "cell_type": "code",
   "execution_count": null,
   "metadata": {
    "collapsed": true
   },
   "outputs": [],
   "source": []
  },
  {
   "cell_type": "code",
   "execution_count": null,
   "metadata": {
    "collapsed": true
   },
   "outputs": [],
   "source": []
  },
  {
   "cell_type": "code",
   "execution_count": null,
   "metadata": {
    "collapsed": true
   },
   "outputs": [],
   "source": []
  },
  {
   "cell_type": "code",
   "execution_count": null,
   "metadata": {
    "collapsed": true
   },
   "outputs": [],
   "source": []
  },
  {
   "cell_type": "code",
   "execution_count": null,
   "metadata": {
    "collapsed": true
   },
   "outputs": [],
   "source": []
  },
  {
   "cell_type": "code",
   "execution_count": null,
   "metadata": {
    "collapsed": true
   },
   "outputs": [],
   "source": []
  },
  {
   "cell_type": "code",
   "execution_count": null,
   "metadata": {
    "collapsed": true
   },
   "outputs": [],
   "source": []
  },
  {
   "cell_type": "code",
   "execution_count": null,
   "metadata": {
    "collapsed": true
   },
   "outputs": [],
   "source": []
  },
  {
   "cell_type": "code",
   "execution_count": null,
   "metadata": {
    "collapsed": true
   },
   "outputs": [],
   "source": []
  },
  {
   "cell_type": "code",
   "execution_count": null,
   "metadata": {
    "collapsed": true
   },
   "outputs": [],
   "source": []
  },
  {
   "cell_type": "markdown",
   "metadata": {
    "collapsed": true,
    "heading_collapsed": true,
    "run_control": {
     "frozen": false,
     "read_only": false
    }
   },
   "source": [
    "# End"
   ]
  }
 ],
 "metadata": {
  "kernelspec": {
   "display_name": "Python 2",
   "language": "python",
   "name": "python2"
  },
  "language_info": {
   "codemirror_mode": {
    "name": "ipython",
    "version": 2
   },
   "file_extension": ".py",
   "mimetype": "text/x-python",
   "name": "python",
   "nbconvert_exporter": "python",
   "pygments_lexer": "ipython2",
   "version": "2.7.10"
  }
 },
 "nbformat": 4,
 "nbformat_minor": 0
}
